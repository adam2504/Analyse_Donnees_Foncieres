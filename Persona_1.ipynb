{
 "cells": [
  {
   "cell_type": "markdown",
   "id": "25dd84de",
   "metadata": {},
   "source": [
    "## 🎓 Persona : Léa, jeune investisseuse étudiante\n",
    "\n",
    "**Profil :**\n",
    "- 👩 24 ans, diplômée de l’EM Lyon\n",
    "- 💼 Première expérience professionnelle après 2 ans d’alternance\n",
    "- 💰 Aide parentale pour le financement + épargne personnelle (~15 000 €)\n",
    "- 🎯 Objectif : réaliser un **premier investissement locatif** dans une **ville étudiante dynamique**\n",
    "\n",
    "---\n",
    "\n",
    "### 💡 Objectif d’investissement\n",
    "> Trouver le **meilleur investissement locatif étudiant** possible avec un **budget global de 200 000 €**,  \n",
    "> en ciblant un **studio à Lille**, tout en comparant brièvement avec un **T1 à Angers ou Nancy**.\n",
    "\n",
    "---\n",
    "\n",
    "### 💰 Hypothèses financières\n",
    "| Élément | Montant estimé |\n",
    "|----------|----------------|\n",
    "| Prix d’achat visé | 160 000 – 180 000 € |\n",
    "| Apport personnel | 15 000 € |\n",
    "| Prêt immobilier estimé | 180 000 € sur 20 ans |\n",
    "| Budget total (frais inclus) | **≈ 200 000 €** |\n",
    "| Objectif de rentabilité brute | **≥ 5 %** |\n",
    "\n",
    "---\n",
    "\n",
    "### 🏙️ Cibles principales\n",
    "| Ville | Type de bien | Prix moyen au m² | Loyer moyen mensuel | Observations |\n",
    "|-------|---------------|------------------|---------------------|---------------|\n",
    "| **Lille** | Studio (20–25 m²) | ~4 500 €/m² | 550–600 € | Marché étudiant tendu, forte demande locative |\n",
    "| **Angers** | T1 (25–30 m²) | ~3 200 €/m² | 450–500 € | Ville très dynamique, bonne rentabilité brute |\n",
    "| **Nancy** | T1 (25–30 m²) | ~2 800 €/m² | 420–470 € | Marché abordable, bon rapport prix/rentabilité |\n",
    "\n",
    "---\n",
    "\n",
    "### 🔍 Besoins data de Léa\n",
    "- Identifier **les quartiers les plus rentables** à Lille (ou dans des villes comparables)\n",
    "- Analyser l’**évolution du prix au m² et des loyers étudiants** depuis 5 ans\n",
    "- Calculer la **rentabilité locative brute et nette** par quartier\n",
    "- Visualiser les **zones à forte concentration étudiante**\n",
    "- Fournir une **recommandation finale : “où investir avec 200k€ ?”**\n",
    "\n",
    "---\n",
    "\n",
    "### 🧭 Objectif du notebook\n",
    "Créer un outil interactif permettant à Léa de :\n",
    "1. Comparer la rentabilité d’un **studio à Lille** avec celle d’un **T1 à Angers ou Nancy**  \n",
    "2. Explorer visuellement les **zones à potentiel locatif élevé**  \n",
    "3. Obtenir une **recommandation automatique** en fonction de son budget et de ses préférences\n"
   ]
  }
 ],
 "metadata": {
  "language_info": {
   "name": "python"
  }
 },
 "nbformat": 4,
 "nbformat_minor": 5
}
