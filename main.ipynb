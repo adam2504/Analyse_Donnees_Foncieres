{
 "cells": [
  {
   "cell_type": "markdown",
   "id": "25dd84de",
   "metadata": {},
   "source": [
    "## 🎓 Persona : Léa, jeune investisseuse étudiante\n",
    "\n",
    "**Profil :**\n",
    "- 👩 24 ans, diplômée de l'EM Lyon\n",
    "- 💼 Première expérience professionnelle après 2 ans d'alternance\n",
    "- 💰 Aide parentale pour le financement + épargne personnelle (~15 000 €)\n",
    "- 🎯 Objectif : réaliser un **premier investissement locatif** dans une **ville étudiante dynamique**\n",
    "\n",
    "---\n",
    "\n",
    "### 💡 Objectif d'investissement\n",
    "> Trouver le **meilleur investissement locatif étudiant** possible avec un **budget global de 200 000 €**,  \n",
    "> en analysant la rentabilité brute dans les **principales villes étudiantes françaises** (studios et T1 ≤45m²)\n",
    "\n",
    "---\n",
    "\n",
    "### 💰 Hypothèses financières\n",
    "| Élément | Montant estimé |\n",
    "|----------|----------------|\n",
    "| Prix d'achat visé | 160 000 – 180 000 € |\n",
    "| Apport personnel | 15 000 € |\n",
    "| Prêt immobilier estimé | 180 000 € sur 20 ans |\n",
    "| Budget total (frais inclus) | **≈ 200 000 €** |\n",
    "| Objectif de rentabilité brute | **≥ 5 %** |\n",
    "\n",
    "---\n",
    "\n",
    "### 🔍 Besoins data de Léa\n",
    "- Évaluer le **taux de vacance locative** en France pour anticiper les périodes creuses (notamment l'été où les étudiants quittent les logements)\n",
    "- Visualiser les **villes à forte concentration étudiante** en France\n",
    "- Analyser l'**évolution du prix au m² à l'achat et des loyers étudiants** en France\n",
    "- Etudier **la rentabilité moyenne en France** en 2024\n",
    "- Analyser la **dynamique du marché immobilier local : croissance ou baisse des prix et loyers sur les 5 dernières années** (entre Rennes et Bordeaux)\n",
    "- Comparer **les quartiers les plus rentables (rentabilité brute)** à ?\n",
    "- Analyser la **localisation/nombre des transports en commun** pour identifier les zones les plus attractives pour les étudiants à ?\n",
    "- Analyser la **localisation des universités/grandes écoles** à ?\n",
    "- Analyser les **quartiers vivants (nombre de resto, bars, et supermarchés)** à ? \n",
    "- Fournir une **recommandation finale : \"où investir avec 200k€ ?\"**\n",
    "\n",
    "---\n",
    "\n",
    "### 🧭 Objectif du notebook\n",
    "Créer un outil interactif permettant à Léa de :\n",
    "1. Analyser la **rentabilité locative brute** pour appartements étudiants ≤45m² dans **23 grandes villes françaises**\n",
    "2. Explorer visuellement les **villes à forte concentration étudiante** et analyser les **taux de vacance locative**\n",
    "3. Obtenir un **classement des villes** par rentabilité, prix et loyers pour décider où investir avec 200k€"
   ]
  },
  {
   "cell_type": "markdown",
   "id": "8f9733a3",
   "metadata": {},
   "source": [
    "## 📚 Import des bibliothèques ##"
   ]
  },
  {
   "cell_type": "code",
   "execution_count": 1,
   "id": "f672a483",
   "metadata": {},
   "outputs": [],
   "source": [
    "import os\n",
    "import pandas as pd\n",
    "import matplotlib.pyplot as plt\n",
    "import requests, zipfile\n",
    "from geopy.geocoders import Nominatim\n",
    "from geopy.extra.rate_limiter import RateLimiter\n",
    "import plotly.express as px\n",
    "import seaborn as sns\n",
    "from unidecode import unidecode\n",
    "import glob"
   ]
  },
  {
   "cell_type": "code",
   "execution_count": 6,
   "id": "ddf97759",
   "metadata": {},
   "outputs": [
    {
     "name": "stdout",
     "output_type": "stream",
     "text": [
      "Fonctions d'analyse de rentabilité chargées\n"
     ]
    }
   ],
   "source": [
    "# ============================================================================\n",
    "# SECTION : ANALYSE DE RENTABILITÉ LOCATIVE\n",
    "# ============================================================================\n",
    "\n",
    "# Import des fonctions depuis le module\n",
    "from rentabilite_functions import *\n",
    "\n",
    "print(\"Fonctions d'analyse de rentabilité chargées\")\n",
    "\n",
    "# Optionnel : Vous pouvez quand même exécuter l'analyse ici si besoin\n",
    "# resultats = analyse_complete_rentabilite()"
   ]
  },
  {
   "cell_type": "markdown",
   "id": "7da69d10",
   "metadata": {},
   "source": [
    "### Visualiser les zones à forte concentration étudiante en France ###"
   ]
  },
  {
   "cell_type": "code",
   "execution_count": null,
   "id": "5c437137",
   "metadata": {},
   "outputs": [],
   "source": [
    "url_df_pop_communales = \"https://huggingface.co/datasets/analysedonneesfoncieresdata/analyse_fonciere_data/resolve/main/POPULATION_MUNICIPALE_COMMUNES_FRANCE.xlsx\"\n",
    "\n",
    "df_populations_communales = pd.read_excel(url_df_pop_communales)\n",
    "\n",
    "df_populations_communales.head()"
   ]
  },
  {
   "cell_type": "code",
   "execution_count": null,
   "id": "75cebea5",
   "metadata": {},
   "outputs": [],
   "source": [
    "df_populations_communales.drop(['p13_pop', 'p14_pop', 'p15_pop', 'p16_pop', 'p17_pop', 'p18_pop', 'p19_pop', 'p20_pop'], axis=1, inplace=True)\n",
    "\n",
    "# Garde les lignes où la colonne 'dep' contient le mot \"Arrondissement\"\n",
    "df_filtered = df_populations_communales[df_populations_communales['libgeo'].str.contains(\"Arrondissement\")]\n",
    "\n",
    "df_filtered"
   ]
  },
  {
   "cell_type": "code",
   "execution_count": null,
   "id": "fec3e673",
   "metadata": {},
   "outputs": [],
   "source": [
    "df = df_populations_communales.copy()\n",
    "\n",
    "df['libgeo'] = df['libgeo'].replace(\n",
    "    to_replace = [r'Paris.*', r'Lyon.*', r'Marseille.*'], \n",
    "    value = ['Paris', 'Lyon', 'Marseille'], \n",
    "    regex=True\n",
    ")\n",
    "\n",
    "treated_df = df.groupby('libgeo', as_index=False).agg({\n",
    "    'objectid': 'first',   # garde le premier ID (ou autre logique)\n",
    "    'reg': 'first',        # garde la première région\n",
    "    'dep': 'first',        # idem pour département\n",
    "    'cv': 'first', \n",
    "    'codgeo': 'first',\n",
    "    'p21_pop': 'sum'\n",
    "})\n",
    "\n",
    "treated_df"
   ]
  },
  {
   "cell_type": "code",
   "execution_count": null,
   "id": "f8b27372",
   "metadata": {},
   "outputs": [],
   "source": [
    "df_pop_100k = treated_df[treated_df['p21_pop'] > 100000]\n",
    "\n",
    "df_pop_100k.sort_values(by='p21_pop', ascending=False)"
   ]
  },
  {
   "cell_type": "code",
   "execution_count": null,
   "id": "93e666f3",
   "metadata": {},
   "outputs": [],
   "source": [
    "url_df_enseignement_sup = \"https://huggingface.co/datasets/analysedonneesfoncieresdata/analyse_fonciere_data/resolve/main/fr-esr-atlas_regional-effectifs-d-etudiants-inscrits-detail_etablissements.csv\"\n",
    "\n",
    "df_enseignement_sup = pd.read_csv(url_df_enseignement_sup, delimiter=';')\n",
    "\n",
    "df_enseignement_sup.head()"
   ]
  },
  {
   "cell_type": "code",
   "execution_count": null,
   "id": "b6f0ce0e",
   "metadata": {},
   "outputs": [],
   "source": [
    "# 1️⃣ Exclure les lignes avec \"Étranger\"\n",
    "df_enseignement_sup = df_enseignement_sup[~df_enseignement_sup['département'].str.contains(\"Étranger\")]\n",
    "\n",
    "# 2️⃣ Garder uniquement les 2 premiers chiffres\n",
    "df_enseignement_sup['dep'] = df_enseignement_sup['département'].str[:2]\n",
    "\n",
    "# 3️⃣ Optionnel : supprimer les espaces et convertir en int\n",
    "df_enseignement_sup['dep'] = df_enseignement_sup['dep'].str.strip()\n",
    "\n",
    "df_enseignement_sup.head()"
   ]
  },
  {
   "cell_type": "code",
   "execution_count": null,
   "id": "03a9c57a",
   "metadata": {},
   "outputs": [],
   "source": [
    "df_enseignement_sup_treated = df_enseignement_sup.groupby('dep', as_index=False)[[\n",
    "    'nombre total d’étudiants inscrits hors doubles inscriptions université/CPGE',\n",
    "    'dont femmes',\n",
    "    'dont hommes'\n",
    "]].sum()\n",
    "\n",
    "df_enseignement_sup_treated.head()"
   ]
  },
  {
   "cell_type": "code",
   "execution_count": null,
   "id": "d413ed5f",
   "metadata": {},
   "outputs": [],
   "source": [
    "df_joined = pd.merge(df_pop_100k, df_enseignement_sup_treated, on='dep', how='inner')\n",
    "\n",
    "df_joined.head()"
   ]
  },
  {
   "cell_type": "code",
   "execution_count": null,
   "id": "9c52347b",
   "metadata": {},
   "outputs": [],
   "source": [
    "df_joined['Densité étudiante'] = df_joined['nombre total d’étudiants inscrits hors doubles inscriptions université/CPGE'] / df_joined['p21_pop']\n",
    "\n",
    "df_joined.head()"
   ]
  },
  {
   "cell_type": "code",
   "execution_count": null,
   "id": "4401348d",
   "metadata": {},
   "outputs": [],
   "source": [
    "# Initialiser le géocodeur\n",
    "geolocator = Nominatim(user_agent=\"adam_geocoder_ece_paris\")\n",
    "\n",
    "# Limiteur de requêtes pour éviter les erreurs 429\n",
    "geocode = RateLimiter(geolocator.geocode, min_delay_seconds=1)\n",
    "\n",
    "def get_coordinates(ville):\n",
    "    try:\n",
    "        if pd.isna(ville):\n",
    "            return pd.Series([None, None])\n",
    "        location = geocode(f\"{ville}, France\")  # ajoute \"France\" pour plus de précision\n",
    "        if location:\n",
    "            return pd.Series([location.latitude, location.longitude])\n",
    "        else:\n",
    "            return pd.Series([None, None])\n",
    "    except Exception as e:\n",
    "        print(f\"Erreur pour la ville '{ville}': {e}\")\n",
    "        return pd.Series([None, None])\n",
    "\n",
    "# Appliquer à la colonne des villes\n",
    "df_joined[[\"latitude\", \"longitude\"]] = df_joined[\"libgeo\"].apply(get_coordinates)"
   ]
  },
  {
   "cell_type": "code",
   "execution_count": null,
   "id": "e25d040c",
   "metadata": {},
   "outputs": [],
   "source": [
    "df_top_students = df_joined.sort_values(\n",
    "    by='nombre total d’étudiants inscrits hors doubles inscriptions université/CPGE',\n",
    "    ascending=False\n",
    ").head(20)\n",
    "\n",
    "df_top_density = df_joined.sort_values(\n",
    "    by='Densité étudiante',\n",
    "    ascending=False\n",
    ").head(20)"
   ]
  },
  {
   "cell_type": "code",
   "execution_count": null,
   "id": "f42fb647",
   "metadata": {},
   "outputs": [],
   "source": [
    "plt.figure(figsize=(10, 6)) # Taille du graphique \n",
    "plt.bar(df_top_students['libgeo'], df_top_students['nombre total d’étudiants inscrits hors doubles inscriptions université/CPGE']) \n",
    "plt.title('Top 20 villes par nombre d’étudiants (population > 100k)') \n",
    "plt.xlabel('Villes') \n",
    "plt.xticks(rotation=45, ha='right', rotation_mode='anchor') \n",
    "plt.ylabel('Nombre d’étudiants (en million)') \n",
    "plt.grid(False) \n",
    "\n",
    "plt.figure(figsize=(10, 6)) # Taille du graphique \n",
    "plt.bar(df_top_density['libgeo'], df_top_density['Densité étudiante']) \n",
    "plt.title('Histogramme avec courbe de densité pour la colonne X') \n",
    "plt.xlabel('Villes') \n",
    "plt.xticks(rotation=45, ha='right', rotation_mode='anchor') \n",
    "plt.ylabel('Densité Etudiante') \n",
    "plt.grid(False) \n",
    "plt.show()"
   ]
  },
  {
   "cell_type": "code",
   "execution_count": null,
   "id": "55dc732c",
   "metadata": {},
   "outputs": [],
   "source": [
    "# Carte interactive avec Plotly\n",
    "fig = px.scatter_map(\n",
    "    df_joined,\n",
    "    lat=\"latitude\",\n",
    "    lon=\"longitude\",\n",
    "    hover_name=\"libgeo\",\n",
    "    hover_data=[\"nombre total d’étudiants inscrits hors doubles inscriptions université/CPGE\", \"Densité étudiante\"],\n",
    "    size=\"Densité étudiante\",\n",
    "    zoom=5,\n",
    "    height=600\n",
    ")\n",
    "\n",
    "# Style cartographique (nécessite une Mapbox style)\n",
    "fig.update_layout(mapbox_style=\"open-street-map\")\n",
    "fig.update_layout(title=\"Répartition géographique des étudiants en France\")\n",
    "\n",
    "fig.show()"
   ]
  },
  {
   "cell_type": "markdown",
   "id": "9b97c335",
   "metadata": {},
   "source": [
    "### Évaluer le taux de vacance locative en France, et les zones propices à un taux élevé ###"
   ]
  },
  {
   "cell_type": "code",
   "execution_count": null,
   "id": "7727e89b",
   "metadata": {},
   "outputs": [],
   "source": [
    "BDD = \"https://huggingface.co/datasets/analysedonneesfoncieresdata/analyse_fonciere_data/resolve/main\"\n",
    "\n",
    "df_vac = pd.read_excel(f\"{BDD}/insee_rp_hist_1968.xlsx\", header=1)\n",
    "df_pop = pd.read_excel(f\"{BDD}/POPULATION_MUNICIPALE_COMMUNES_FRANCE_lucien.xlsx\")\n",
    "df_communes = pd.read_csv(f\"{BDD}/communes-france-2025.csv\", sep=\",\")  # adapte le chemin si nécessaire"
   ]
  },
  {
   "cell_type": "code",
   "execution_count": null,
   "id": "ecc39351",
   "metadata": {},
   "outputs": [],
   "source": [
    "df_communes_coords = df_communes[[\n",
    "    \"code_insee\",       # code INSEE pour faire le merge\n",
    "    \"code_postal\",      # code postal\n",
    "    \"latitude_centre\",  # latitude du centre de la commune\n",
    "    \"longitude_centre\"  # longitude du centre de la commune\n",
    "]]"
   ]
  },
  {
   "cell_type": "code",
   "execution_count": null,
   "id": "48bb6fc7",
   "metadata": {},
   "outputs": [],
   "source": [
    "df_vac.columns = [\"code_commune\", \"nom_commune\", \"annee\", \"part_log_vacant\", \"col5\", \"col6\", \"col7\", \"col8\"]\n",
    "df_vac = df_vac[[\"code_commune\", \"nom_commune\", \"annee\", \"part_log_vacant\"]]\n",
    "\n",
    "df_pop.columns = [\"objectid\", \"reg\", \"dep\", \"cv\", \"codgeo\",\t\"libgeo\", \"p21_pop\"]\n",
    "\n",
    "df_vac = df_vac.dropna(subset=[\"part_log_vacant\"])\n",
    "df_vac[\"part_log_vacant\"] = pd.to_numeric(df_vac[\"part_log_vacant\"], errors=\"coerce\")\n",
    "df_vac = df_vac.dropna(subset=[\"part_log_vacant\"])\n",
    "\n",
    "df_pop[\"codgeo\"] = df_pop[\"codgeo\"].astype(str)\n",
    "df_vac[\"code_commune\"] = df_vac[\"code_commune\"].astype(str)"
   ]
  },
  {
   "cell_type": "markdown",
   "id": "89a83b2f",
   "metadata": {},
   "source": [
    "Dataframe des villes de plus de 100 000 habitants classées dans l'ordre croissant par rapport au taux de logement vacant."
   ]
  },
  {
   "cell_type": "code",
   "execution_count": null,
   "id": "50fa9a19",
   "metadata": {},
   "outputs": [],
   "source": [
    "df_vac = df_vac.sort_values(by=\"part_log_vacant\", ascending=True)\n",
    "\n",
    "df_pop_100k = df_pop[df_pop[\"p21_pop\"] > 100000]\n",
    "\n",
    "df_vac_100k = df_vac.merge(\n",
    "    df_pop_100k[[\"codgeo\", \"p21_pop\"]],\n",
    "    left_on=\"code_commune\",\n",
    "    right_on=\"codgeo\",\n",
    "    how=\"inner\"\n",
    ")\n",
    "\n",
    "df_communes_coords[\"code_insee\"] = df_communes_coords[\"code_insee\"].astype(str)\n",
    "df_vac_100k[\"code_commune\"] = df_vac_100k[\"code_commune\"].astype(str)\n",
    "\n",
    "df_vac_100k = df_vac_100k[[\"code_commune\", \"nom_commune\", \"annee\", \"part_log_vacant\", \"p21_pop\"]]"
   ]
  },
  {
   "cell_type": "code",
   "execution_count": null,
   "id": "8c9952c2",
   "metadata": {},
   "outputs": [],
   "source": [
    "## AFFICHAGE SUR LA MAP\n",
    "\n",
    "\n",
    "# --- Garder uniquement l'année la plus récente pour chaque commune ---\n",
    "df_vac_100k_recent = df_vac_100k.sort_values(\"annee\", ascending=False) \\\n",
    "                                 .groupby(\"code_commune\", as_index=False) \\\n",
    "                                 .first()  # prend la ligne la plus récente pour chaque commune\n",
    "\n",
    "# --- Merge avec les coordonnées ---\n",
    "df_vac_map = df_vac_100k_recent.merge(\n",
    "    df_communes_coords,\n",
    "    left_on=\"code_commune\",\n",
    "    right_on=\"code_insee\",\n",
    "    how=\"left\"\n",
    ").dropna(subset=[\"latitude_centre\", \"longitude_centre\"])\n",
    "\n",
    "# --- Affichage carte Plotly ---\n",
    "import plotly.express as px\n",
    "\n",
    "fig = px.scatter_mapbox(\n",
    "    df_vac_map,\n",
    "    lat=\"latitude_centre\",\n",
    "    lon=\"longitude_centre\",\n",
    "    size=\"part_log_vacant\",\n",
    "    color=\"part_log_vacant\",\n",
    "    hover_name=\"nom_commune\",\n",
    "    hover_data={\n",
    "        \"p21_pop\": True,\n",
    "        \"part_log_vacant\": True,\n",
    "        \"code_postal\": True,\n",
    "        \"annee\": True\n",
    "    },\n",
    "    zoom=5,\n",
    "    height=500,\n",
    "    color_continuous_scale=\"OrRd\"\n",
    ")\n",
    "# --- Top 10 communes avec le plus petit taux de logements vacants ---\n",
    "top10_low_vac = df_vac_map.sort_values(\"part_log_vacant\", ascending=True).head(20)\n",
    "\n",
    "# --- Histogramme ---\n",
    "fig_hist = px.bar(\n",
    "    top10_low_vac,\n",
    "    x=\"nom_commune\",\n",
    "    y=\"part_log_vacant\",\n",
    "    text=\"part_log_vacant\",\n",
    "    hover_data={\"p21_pop\": True, \"code_postal\": True, \"annee\": True},\n",
    "    labels={\"part_log_vacant\": \"Taux logements vacants\", \"nom_commune\": \"Commune\"},\n",
    "    title=\"Top 10 communes avec le plus petit taux de logements vacants\",\n",
    "    color=\"part_log_vacant\",\n",
    "    color_continuous_scale=\"Blues\",\n",
    "    height=600\n",
    ")\n",
    "\n",
    "fig.update_layout(mapbox_style=\"open-street-map\", margin={\"r\":0,\"t\":0,\"l\":0,\"b\":0})\n",
    "fig.show()\n",
    "\n",
    "fig_hist.update_traces(texttemplate='%{text:.2f}', textposition='outside')\n",
    "fig_hist.show()"
   ]
  },
  {
   "cell_type": "markdown",
   "id": "8784b7fb",
   "metadata": {},
   "source": [
    "PART 2 : LOYER RENNES VS BDX"
   ]
  },
  {
   "cell_type": "markdown",
   "id": "1440514f",
   "metadata": {},
   "source": [
    "PART 3 : LES QUARTIERS"
   ]
  }
 ],
 "metadata": {
  "kernelspec": {
   "display_name": "Python 3",
   "language": "python",
   "name": "python3"
  },
  "language_info": {
   "codemirror_mode": {
    "name": "ipython",
    "version": 3
   },
   "file_extension": ".py",
   "mimetype": "text/x-python",
   "name": "python",
   "nbconvert_exporter": "python",
   "pygments_lexer": "ipython3",
   "version": "3.12.10"
  }
 },
 "nbformat": 4,
 "nbformat_minor": 5
}
