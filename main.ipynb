{
 "cells": [
  {
   "cell_type": "markdown",
   "id": "25dd84de",
   "metadata": {},
   "source": [
    "## 🎓 Persona : Léa, jeune investisseuse étudiante\n",
    "\n",
    "**Profil :**\n",
    "- 👩 24 ans, diplômée de l'EM Lyon\n",
    "- 💼 Première expérience professionnelle après 2 ans d'alternance\n",
    "- 💰 Aide parentale pour le financement + épargne personnelle (~15 000 €)\n",
    "- 🎯 Objectif : réaliser un **premier investissement locatif** dans une **ville étudiante dynamique**\n",
    "\n",
    "---\n",
    "\n",
    "### 💡 Objectif d'investissement\n",
    "> Trouver le **meilleur investissement locatif étudiant** possible avec un **budget global de 200 000 €**,  \n",
    "> en ciblant un **studio à Lille**, tout en comparant brièvement avec un **T1 à Angers ou Nancy**.\n",
    "\n",
    "---\n",
    "\n",
    "### 💰 Hypothèses financières\n",
    "| Élément | Montant estimé |\n",
    "|----------|----------------|\n",
    "| Prix d'achat visé | 160 000 – 180 000 € |\n",
    "| Apport personnel | 15 000 € |\n",
    "| Prêt immobilier estimé | 180 000 € sur 20 ans |\n",
    "| Budget total (frais inclus) | **≈ 200 000 €** |\n",
    "| Objectif de rentabilité brute | **≥ 5 %** |\n",
    "\n",
    "---\n",
    "\n",
    "### 🏙️ Cibles principales\n",
    "| Ville | Type de bien | Prix moyen au m² | Loyer moyen mensuel | Observations |\n",
    "|-------|---------------|------------------|---------------------|---------------|\n",
    "| **Lille** | Studio (20–25 m²) | ~4 500 €/m² | 550–600 € | Marché étudiant tendu, forte demande locative |\n",
    "| **Angers** | T1 (25–30 m²) | ~3 200 €/m² | 450–500 € | Ville très dynamique, bonne rentabilité brute |\n",
    "| **Nancy** | T1 (25–30 m²) | ~2 800 €/m² | 420–470 € | Marché abordable, bon rapport prix/rentabilité |\n",
    "\n",
    "---\n",
    "\n",
    "### 🔍 Besoins data de Léa\n",
    "- Identifier **les quartiers les plus rentables** à Lille (ou dans des villes comparables)\n",
    "- Comparer avec **la rentabilité moyenne en France**\n",
    "- Analyser l'**évolution du prix au m² et des loyers étudiants** depuis 5 ans\n",
    "- Calculer la **rentabilité locative brute et nette** par quartier\n",
    "- Visualiser les **zones à forte concentration étudiante**\n",
    "- Fournir une **recommandation finale : \"où investir avec 200k€ ?\"**\n",
    "- Évaluer le **taux de vacance locative** par quartier pour anticiper les périodes creuses (notamment l'été où les étudiants quittent les logements)\n",
    "- Analyser la **proximité des transports en commun** et des universités/grandes écoles pour identifier les zones les plus attractives pour les étudiants\n",
    "- Estimer les **charges de copropriété moyennes** par type de bien et par quartier pour affiner le calcul de rentabilité nette\n",
    "- Identifier les **opportunités de biens nécessitant des travaux** (décote à l'achat) pour maximiser la plus-value à long terme\n",
    "\n",
    "---\n",
    "\n",
    "### 🧭 Objectif du notebook\n",
    "Créer un outil interactif permettant à Léa de :\n",
    "1. Comparer la rentabilité d'un **studio à Lille** avec celle d'un **T1 à Angers ou Nancy**  \n",
    "2. Explorer visuellement les **zones à potentiel locatif élevé**  \n",
    "3. Obtenir une **recommandation automatique** en fonction de son budget et de ses préférences"
   ]
  },
  {
   "cell_type": "markdown",
   "id": "8f9733a3",
   "metadata": {},
   "source": [
    "## Import des bibliothèques ##"
   ]
  },
  {
   "cell_type": "code",
   "execution_count": null,
   "id": "f672a483",
   "metadata": {},
   "outputs": [],
   "source": [
    "import os\n",
    "import pandas as pd\n",
    "import matplotlib.pyplot as plt\n",
    "import requests, zipfile\n",
    "from io import BytesIO\n",
    "from geopy.geocoders import Nominatim\n",
    "from geopy.extra.rate_limiter import RateLimiter\n",
    "import plotly.express as px"
   ]
  },
  {
   "cell_type": "markdown",
   "id": "6df1be9b",
   "metadata": {},
   "source": [
    "### 1e vision : Analyse générale en France ###"
   ]
  },
  {
   "cell_type": "markdown",
   "id": "a0144df7",
   "metadata": {},
   "source": [
    "Etude de la rentabilité moyenne en France"
   ]
  },
  {
   "cell_type": "code",
   "execution_count": null,
   "id": "4c7db600",
   "metadata": {},
   "outputs": [],
   "source": [
    "print(\"Partie Valentine\")"
   ]
  },
  {
   "cell_type": "markdown",
   "id": "be63e6ce",
   "metadata": {},
   "source": [
    "Evolution du prix au m² et des loyers étudiants depuis 5 ans en France"
   ]
  },
  {
   "cell_type": "code",
   "execution_count": null,
   "id": "30b7b390",
   "metadata": {},
   "outputs": [],
   "source": [
    "# --- Étape 1 : Télécharger et extraire le dossier temporairement ---\n",
    "url_zip = \"https://huggingface.co/datasets/analysedonneesfoncieresdata/analyse_fonciere_data/resolve/main/data_loyer.zip\"\n",
    "folder = \"data_loyer\"\n",
    "\n",
    "response = requests.get(url_zip)\n",
    "if response.status_code == 200:\n",
    "    with zipfile.ZipFile(BytesIO(response.content)) as zip_ref:\n",
    "        zip_ref.extractall(folder)\n",
    "else:\n",
    "    raise Exception(f\"❌ Erreur lors du téléchargement (code {response.status_code})\")\n",
    "\n",
    "# --- Vérification du dossier ---\n",
    "if not os.path.exists(folder):\n",
    "    raise FileNotFoundError(f\"❌ Dossier introuvable : {folder}\")\n",
    "\n",
    "\n",
    "# --- Liste pour stocker les données de chaque ville ---\n",
    "all_data = []\n",
    "\n",
    "# --- Lecture de tous les fichiers CSV ---\n",
    "for file in os.listdir(folder):\n",
    "    if file.endswith(\".csv\"):\n",
    "        city_name = file.split(\"_\")[-1].replace(\".csv\", \"\")  # extrait le nom de la ville\n",
    "        df = pd.read_csv(os.path.join(folder, file), sep=\";\", encoding=\"ISO-8859-1\")\n",
    "\n",
    "        # Calcul du loyer moyen mensuel\n",
    "        if \"moyenne_loyer_mensuel\" in df.columns:\n",
    "            # Remplacement de la virgule par un point pour éviter les erreurs de conversion\n",
    "            df[\"moyenne_loyer_mensuel\"] = df[\"moyenne_loyer_mensuel\"].astype(str).str.replace(\",\", \".\")\n",
    "            df[\"moyenne_loyer_mensuel\"] = pd.to_numeric(df[\"moyenne_loyer_mensuel\"], errors=\"coerce\")\n",
    "            mean_rent = df[\"moyenne_loyer_mensuel\"].dropna().mean()\n",
    "            all_data.append({\"Ville\": city_name, \"Loyer_moyen\": mean_rent})\n",
    "\n",
    "# --- Création du DataFrame final ---\n",
    "df_villes = pd.DataFrame(all_data)\n",
    "\n",
    "# --- Tri par ordre alphabétique des villes ---\n",
    "df_villes = df_villes.sort_values(by=\"Ville\")\n",
    "\n",
    "# --- Visualisation ---\n",
    "plt.figure(figsize=(10,6))\n",
    "plt.bar(df_villes[\"Ville\"], df_villes[\"Loyer_moyen\"], color='cornflowerblue')\n",
    "plt.title(\"Loyer mensuel moyen par ville (2024)\")\n",
    "plt.ylabel(\"Loyer moyen (€ / mois)\")\n",
    "plt.xticks(rotation=45, ha=\"right\")\n",
    "plt.grid(axis='y', linestyle='--', alpha=0.7)\n",
    "plt.tight_layout()\n",
    "plt.show()\n"
   ]
  },
  {
   "cell_type": "markdown",
   "id": "7da69d10",
   "metadata": {},
   "source": [
    "Visualiser les zones à forte concentration étudiante en France"
   ]
  },
  {
   "cell_type": "code",
   "execution_count": null,
   "id": "5c437137",
   "metadata": {},
   "outputs": [],
   "source": [
    "url_df_pop_communales = \"https://huggingface.co/datasets/analysedonneesfoncieresdata/analyse_fonciere_data/resolve/main/POPULATION_MUNICIPALE_COMMUNES_FRANCE.xlsx\"\n",
    "\n",
    "df_populations_communales = pd.read_excel(url_df_pop_communales)\n",
    "\n",
    "df_populations_communales.head()"
   ]
  },
  {
   "cell_type": "code",
   "execution_count": null,
   "id": "75cebea5",
   "metadata": {},
   "outputs": [],
   "source": [
    "df_populations_communales.drop(['p13_pop', 'p14_pop', 'p15_pop', 'p16_pop', 'p17_pop', 'p18_pop', 'p19_pop', 'p20_pop'], axis=1, inplace=True)\n",
    "\n",
    "# Garde les lignes où la colonne 'dep' contient le mot \"Arrondissement\"\n",
    "df_filtered = df_populations_communales[df_populations_communales['libgeo'].str.contains(\"Arrondissement\")]\n",
    "\n",
    "df_filtered"
   ]
  },
  {
   "cell_type": "code",
   "execution_count": null,
   "id": "fec3e673",
   "metadata": {},
   "outputs": [],
   "source": [
    "df = df_populations_communales.copy()\n",
    "\n",
    "df['libgeo'] = df['libgeo'].replace(\n",
    "    to_replace = [r'Paris.*', r'Lyon.*', r'Marseille.*'], \n",
    "    value = ['Paris', 'Lyon', 'Marseille'], \n",
    "    regex=True\n",
    ")\n",
    "\n",
    "treated_df = df.groupby('libgeo', as_index=False).agg({\n",
    "    'objectid': 'first',   # garde le premier ID (ou autre logique)\n",
    "    'reg': 'first',        # garde la première région\n",
    "    'dep': 'first',        # idem pour département\n",
    "    'cv': 'first', \n",
    "    'codgeo': 'first',\n",
    "    'p21_pop': 'sum'\n",
    "})\n",
    "\n",
    "treated_df"
   ]
  },
  {
   "cell_type": "code",
   "execution_count": null,
   "id": "f8b27372",
   "metadata": {},
   "outputs": [],
   "source": [
    "df_pop_100k = treated_df[treated_df['p21_pop'] > 100000]\n",
    "\n",
    "df_pop_100k.sort_values(by='p21_pop', ascending=False)"
   ]
  },
  {
   "cell_type": "code",
   "execution_count": null,
   "id": "93e666f3",
   "metadata": {},
   "outputs": [],
   "source": [
    "url_df_enseignement_sup = \"https://huggingface.co/datasets/analysedonneesfoncieresdata/analyse_fonciere_data/resolve/main/fr-esr-atlas_regional-effectifs-d-etudiants-inscrits-detail_etablissements.csv\"\n",
    "\n",
    "df_enseignement_sup = pd.read_csv(url_df_enseignement_sup, delimiter=';')\n",
    "\n",
    "df_enseignement_sup.head()"
   ]
  },
  {
   "cell_type": "code",
   "execution_count": null,
   "id": "b6f0ce0e",
   "metadata": {},
   "outputs": [],
   "source": [
    "# 1️⃣ Exclure les lignes avec \"Étranger\"\n",
    "df_enseignement_sup = df_enseignement_sup[~df_enseignement_sup['département'].str.contains(\"Étranger\")]\n",
    "\n",
    "# 2️⃣ Garder uniquement les 2 premiers chiffres\n",
    "df_enseignement_sup['dep'] = df_enseignement_sup['département'].str[:2]\n",
    "\n",
    "# 3️⃣ Optionnel : supprimer les espaces et convertir en int\n",
    "df_enseignement_sup['dep'] = df_enseignement_sup['dep'].str.strip()\n",
    "\n",
    "df_enseignement_sup.head()"
   ]
  },
  {
   "cell_type": "code",
   "execution_count": null,
   "id": "03a9c57a",
   "metadata": {},
   "outputs": [],
   "source": [
    "df_enseignement_sup_treated = df_enseignement_sup.groupby('dep', as_index=False)[[\n",
    "    'nombre total d’étudiants inscrits hors doubles inscriptions université/CPGE',\n",
    "    'dont femmes',\n",
    "    'dont hommes'\n",
    "]].sum()\n",
    "\n",
    "df_enseignement_sup_treated.head()"
   ]
  },
  {
   "cell_type": "code",
   "execution_count": null,
   "id": "d413ed5f",
   "metadata": {},
   "outputs": [],
   "source": [
    "df_joined = pd.merge(df_pop_100k, df_enseignement_sup_treated, on='dep', how='inner')\n",
    "\n",
    "df_joined.head()"
   ]
  },
  {
   "cell_type": "code",
   "execution_count": null,
   "id": "9c52347b",
   "metadata": {},
   "outputs": [],
   "source": [
    "df_joined['Densité étudiante'] = df_joined['nombre total d’étudiants inscrits hors doubles inscriptions université/CPGE'] / df_joined['p21_pop']\n",
    "\n",
    "df_joined.head()"
   ]
  },
  {
   "cell_type": "code",
   "execution_count": null,
   "id": "4401348d",
   "metadata": {},
   "outputs": [],
   "source": [
    "# Initialiser le géocodeur\n",
    "geolocator = Nominatim(user_agent=\"adam_geocoder_ece_paris\")\n",
    "\n",
    "# Limiteur de requêtes pour éviter les erreurs 429\n",
    "geocode = RateLimiter(geolocator.geocode, min_delay_seconds=1)\n",
    "\n",
    "def get_coordinates(ville):\n",
    "    try:\n",
    "        if pd.isna(ville):\n",
    "            return pd.Series([None, None])\n",
    "        location = geocode(f\"{ville}, France\")  # ajoute \"France\" pour plus de précision\n",
    "        if location:\n",
    "            return pd.Series([location.latitude, location.longitude])\n",
    "        else:\n",
    "            return pd.Series([None, None])\n",
    "    except Exception as e:\n",
    "        print(f\"Erreur pour la ville '{ville}': {e}\")\n",
    "        return pd.Series([None, None])\n",
    "\n",
    "# Appliquer à la colonne des villes\n",
    "df_joined[[\"latitude\", \"longitude\"]] = df_joined[\"libgeo\"].apply(get_coordinates)"
   ]
  },
  {
   "cell_type": "code",
   "execution_count": null,
   "id": "e25d040c",
   "metadata": {},
   "outputs": [],
   "source": [
    "df_top_students = df_joined.sort_values(\n",
    "    by='nombre total d’étudiants inscrits hors doubles inscriptions université/CPGE',\n",
    "    ascending=False\n",
    ").head(20)\n",
    "\n",
    "df_top_density = df_joined.sort_values(\n",
    "    by='Densité étudiante',\n",
    "    ascending=False\n",
    ").head(20)"
   ]
  },
  {
   "cell_type": "code",
   "execution_count": null,
   "id": "f42fb647",
   "metadata": {},
   "outputs": [],
   "source": [
    "plt.figure(figsize=(10, 6)) # Taille du graphique \n",
    "plt.bar(df_top_students['libgeo'], df_top_students['nombre total d’étudiants inscrits hors doubles inscriptions université/CPGE']) \n",
    "plt.title('Top 20 villes par nombre d’étudiants (population > 100k)') \n",
    "plt.xlabel('Villes') \n",
    "plt.xticks(rotation=45, ha='right', rotation_mode='anchor') \n",
    "plt.ylabel('Nombre d’étudiants (en million)') \n",
    "plt.grid(False) \n",
    "\n",
    "plt.figure(figsize=(10, 6)) # Taille du graphique \n",
    "plt.bar(df_top_density['libgeo'], df_top_density['Densité étudiante']) \n",
    "plt.title('Histogramme avec courbe de densité pour la colonne X') \n",
    "plt.xlabel('Villes') \n",
    "plt.xticks(rotation=45, ha='right', rotation_mode='anchor') \n",
    "plt.ylabel('Densité Etudiante') \n",
    "plt.grid(False) \n",
    "plt.show()"
   ]
  },
  {
   "cell_type": "code",
   "execution_count": null,
   "id": "55dc732c",
   "metadata": {},
   "outputs": [],
   "source": [
    "# Carte interactive avec Plotly\n",
    "fig = px.scatter_map(\n",
    "    df_joined,\n",
    "    lat=\"latitude\",\n",
    "    lon=\"longitude\",\n",
    "    hover_name=\"libgeo\",\n",
    "    hover_data=[\"nombre total d’étudiants inscrits hors doubles inscriptions université/CPGE\", \"Densité étudiante\"],\n",
    "    size=\"Densité étudiante\",\n",
    "    zoom=5,\n",
    "    height=600\n",
    ")\n",
    "\n",
    "# Style cartographique (nécessite une Mapbox style)\n",
    "fig.update_layout(mapbox_style=\"open-street-map\")\n",
    "fig.update_layout(title=\"Répartition géographique des étudiants en France\")\n",
    "\n",
    "fig.show()"
   ]
  },
  {
   "cell_type": "markdown",
   "id": "9b97c335",
   "metadata": {},
   "source": [
    "Évaluer le taux de vacance locative en France, et les zones propices à un taux élevé"
   ]
  },
  {
   "cell_type": "code",
   "execution_count": null,
   "id": "7727e89b",
   "metadata": {},
   "outputs": [],
   "source": [
    "print(\"Partie Lucien\")"
   ]
  }
 ],
 "metadata": {
  "kernelspec": {
   "display_name": ".venv",
   "language": "python",
   "name": "python3"
  },
  "language_info": {
   "codemirror_mode": {
    "name": "ipython",
    "version": 3
   },
   "file_extension": ".py",
   "mimetype": "text/x-python",
   "name": "python",
   "nbconvert_exporter": "python",
   "pygments_lexer": "ipython3",
   "version": "3.13.7"
  }
 },
 "nbformat": 4,
 "nbformat_minor": 5
}
