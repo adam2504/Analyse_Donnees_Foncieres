{
 "cells": [
  {
   "cell_type": "markdown",
   "id": "25dd84de",
   "metadata": {},
   "source": [
    "## 🎓 Persona : Léa, jeune investisseuse étudiante\n",
    "\n",
    "**Profil :**\n",
    "- 👩 24 ans, diplômée de l'EM Lyon\n",
    "- 💼 Première expérience professionnelle après 2 ans d'alternance\n",
    "- 💰 Aide parentale pour le financement + épargne personnelle (~15 000 €)\n",
    "- 🎯 Objectif : réaliser un **premier investissement locatif** dans une **ville étudiante dynamique**\n",
    "\n",
    "---\n",
    "\n",
    "### 💡 Objectif d'investissement\n",
    "> Trouver le **meilleur investissement locatif étudiant** possible avec un **budget global de 200 000 €**,  \n",
    "> en ciblant un **studio à Lille**, tout en comparant brièvement avec un **T1 à Angers ou Nancy**.\n",
    "\n",
    "---\n",
    "\n",
    "### 💰 Hypothèses financières\n",
    "| Élément | Montant estimé |\n",
    "|----------|----------------|\n",
    "| Prix d'achat visé | 160 000 – 180 000 € |\n",
    "| Apport personnel | 15 000 € |\n",
    "| Prêt immobilier estimé | 180 000 € sur 20 ans |\n",
    "| Budget total (frais inclus) | **≈ 200 000 €** |\n",
    "| Objectif de rentabilité brute | **≥ 5 %** |\n",
    "\n",
    "---\n",
    "\n",
    "### 🏙️ Cibles principales\n",
    "| Ville | Type de bien | Prix moyen au m² | Loyer moyen mensuel | Observations |\n",
    "|-------|---------------|------------------|---------------------|---------------|\n",
    "| **Lille** | Studio (20–25 m²) | ~4 500 €/m² | 550–600 € | Marché étudiant tendu, forte demande locative |\n",
    "| **Angers** | T1 (25–30 m²) | ~3 200 €/m² | 450–500 € | Ville très dynamique, bonne rentabilité brute |\n",
    "| **Nancy** | T1 (25–30 m²) | ~2 800 €/m² | 420–470 € | Marché abordable, bon rapport prix/rentabilité |\n",
    "\n",
    "---\n",
    "\n",
    "### 🔍 Besoins data de Léa\n",
    "- Identifier **les quartiers les plus rentables** à Lille (ou dans des villes comparables)\n",
    "- Comparer avec **la rentabilité moyenne en France**\n",
    "- Analyser l'**évolution du prix au m² et des loyers étudiants** depuis 5 ans\n",
    "- Calculer la **rentabilité locative brute et nette** par quartier\n",
    "- Visualiser les **zones à forte concentration étudiante**\n",
    "- Fournir une **recommandation finale : \"où investir avec 200k€ ?\"**\n",
    "- Évaluer le **taux de vacance locative** par quartier pour anticiper les périodes creuses (notamment l'été où les étudiants quittent les logements)\n",
    "- Analyser la **proximité des transports en commun** et des universités/grandes écoles pour identifier les zones les plus attractives pour les étudiants\n",
    "- Estimer les **charges de copropriété moyennes** par type de bien et par quartier pour affiner le calcul de rentabilité nette\n",
    "- Identifier les **opportunités de biens nécessitant des travaux** (décote à l'achat) pour maximiser la plus-value à long terme\n",
    "\n",
    "---\n",
    "\n",
    "### 🧭 Objectif du notebook\n",
    "Créer un outil interactif permettant à Léa de :\n",
    "1. Comparer la rentabilité d'un **studio à Lille** avec celle d'un **T1 à Angers ou Nancy**  \n",
    "2. Explorer visuellement les **zones à potentiel locatif élevé**  \n",
    "3. Obtenir une **recommandation automatique** en fonction de son budget et de ses préférences"
   ]
  },
  {
   "cell_type": "markdown",
   "id": "8f9733a3",
   "metadata": {},
   "source": [
    "## Import des bibliothèques ##"
   ]
  },
  {
   "cell_type": "code",
   "execution_count": 2,
   "id": "f672a483",
   "metadata": {},
   "outputs": [],
   "source": [
    "import os\n",
    "import pandas as pd\n",
    "import matplotlib.pyplot as plt\n",
    "import requests, zipfile\n",
    "from io import BytesIO"
   ]
  },
  {
   "cell_type": "markdown",
   "id": "6df1be9b",
   "metadata": {},
   "source": [
    "### 1e vision : Analyse générale en France ###"
   ]
  },
  {
   "cell_type": "markdown",
   "id": "a0144df7",
   "metadata": {},
   "source": [
    "Etude de la rentabilité moyenne en France"
   ]
  },
  {
   "cell_type": "code",
   "execution_count": null,
   "id": "4c7db600",
   "metadata": {},
   "outputs": [],
   "source": [
    "print(\"Partie Valentine\")"
   ]
  },
  {
   "cell_type": "markdown",
   "id": "be63e6ce",
   "metadata": {},
   "source": [
    "Evolution du prix au m² et des loyers étudiants depuis 5 ans en France"
   ]
  },
  {
   "cell_type": "code",
   "execution_count": 6,
   "id": "30b7b390",
   "metadata": {},
   "outputs": [
    {
     "ename": "KeyError",
     "evalue": "'Ville'",
     "output_type": "error",
     "traceback": [
      "\u001b[31m---------------------------------------------------------------------------\u001b[39m",
      "\u001b[31mKeyError\u001b[39m                                  Traceback (most recent call last)",
      "\u001b[32m/var/folders/v0/_lflz19n6hv63x17d4_zjfjm0000gn/T/ipykernel_70905/2162936252.py\u001b[39m in \u001b[36m?\u001b[39m\u001b[34m()\u001b[39m\n\u001b[32m     34\u001b[39m \u001b[38;5;66;03m# --- Création du DataFrame final ---\u001b[39;00m\n\u001b[32m     35\u001b[39m df_villes = pd.DataFrame(all_data)\n\u001b[32m     36\u001b[39m \n\u001b[32m     37\u001b[39m \u001b[38;5;66;03m# --- Tri par ordre alphabétique des villes ---\u001b[39;00m\n\u001b[32m---> \u001b[39m\u001b[32m38\u001b[39m df_villes = df_villes.sort_values(by=\u001b[33m\"Ville\"\u001b[39m)\n\u001b[32m     39\u001b[39m \n\u001b[32m     40\u001b[39m \u001b[38;5;66;03m# --- Visualisation ---\u001b[39;00m\n\u001b[32m     41\u001b[39m plt.figure(figsize=(\u001b[32m10\u001b[39m,\u001b[32m6\u001b[39m))\n",
      "\u001b[32m~/Desktop/ECE/ING4/S7/Data Science/Analyse_Donnees_Foncieres/.venv/lib/python3.13/site-packages/pandas/core/frame.py\u001b[39m in \u001b[36m?\u001b[39m\u001b[34m(self, by, axis, ascending, inplace, kind, na_position, ignore_index, key)\u001b[39m\n\u001b[32m   7207\u001b[39m             )\n\u001b[32m   7208\u001b[39m         \u001b[38;5;28;01melif\u001b[39;00m len(by):\n\u001b[32m   7209\u001b[39m             \u001b[38;5;66;03m# len(by) == 1\u001b[39;00m\n\u001b[32m   7210\u001b[39m \n\u001b[32m-> \u001b[39m\u001b[32m7211\u001b[39m             k = self._get_label_or_level_values(by[\u001b[32m0\u001b[39m], axis=axis)\n\u001b[32m   7212\u001b[39m \n\u001b[32m   7213\u001b[39m             \u001b[38;5;66;03m# need to rewrap column in Series to apply key function\u001b[39;00m\n\u001b[32m   7214\u001b[39m             \u001b[38;5;28;01mif\u001b[39;00m key \u001b[38;5;28;01mis\u001b[39;00m \u001b[38;5;28;01mnot\u001b[39;00m \u001b[38;5;28;01mNone\u001b[39;00m:\n",
      "\u001b[32m~/Desktop/ECE/ING4/S7/Data Science/Analyse_Donnees_Foncieres/.venv/lib/python3.13/site-packages/pandas/core/generic.py\u001b[39m in \u001b[36m?\u001b[39m\u001b[34m(self, key, axis)\u001b[39m\n\u001b[32m   1910\u001b[39m             values = self.xs(key, axis=other_axes[\u001b[32m0\u001b[39m])._values\n\u001b[32m   1911\u001b[39m         \u001b[38;5;28;01melif\u001b[39;00m self._is_level_reference(key, axis=axis):\n\u001b[32m   1912\u001b[39m             values = self.axes[axis].get_level_values(key)._values\n\u001b[32m   1913\u001b[39m         \u001b[38;5;28;01melse\u001b[39;00m:\n\u001b[32m-> \u001b[39m\u001b[32m1914\u001b[39m             \u001b[38;5;28;01mraise\u001b[39;00m KeyError(key)\n\u001b[32m   1915\u001b[39m \n\u001b[32m   1916\u001b[39m         \u001b[38;5;66;03m# Check for duplicates\u001b[39;00m\n\u001b[32m   1917\u001b[39m         \u001b[38;5;28;01mif\u001b[39;00m values.ndim > \u001b[32m1\u001b[39m:\n",
      "\u001b[31mKeyError\u001b[39m: 'Ville'"
     ]
    }
   ],
   "source": [
    "# --- Étape 1 : Télécharger et extraire le dossier temporairement ---\n",
    "url_zip = \"https://huggingface.co/datasets/analysedonneesfoncieresdata/analyse_fonciere_data/resolve/main/data_loyer.zip\"\n",
    "folder = \"data_loyer\"\n",
    "\n",
    "response = requests.get(url_zip)\n",
    "if response.status_code == 200:\n",
    "    with zipfile.ZipFile(BytesIO(response.content)) as zip_ref:\n",
    "        zip_ref.extractall(folder)\n",
    "else:\n",
    "    raise Exception(f\"❌ Erreur lors du téléchargement (code {response.status_code})\")\n",
    "\n",
    "# --- Vérification du dossier ---\n",
    "if not os.path.exists(folder):\n",
    "    raise FileNotFoundError(f\"❌ Dossier introuvable : {folder}\")\n",
    "\n",
    "\n",
    "# --- Liste pour stocker les données de chaque ville ---\n",
    "all_data = []\n",
    "\n",
    "# --- Lecture de tous les fichiers CSV ---\n",
    "for file in os.listdir(folder):\n",
    "    if file.endswith(\".csv\"):\n",
    "        city_name = file.split(\"_\")[-1].replace(\".csv\", \"\")  # extrait le nom de la ville\n",
    "        df = pd.read_csv(os.path.join(folder, file), sep=\";\", encoding=\"ISO-8859-1\")\n",
    "\n",
    "        # Calcul du loyer moyen mensuel\n",
    "        if \"moyenne_loyer_mensuel\" in df.columns:\n",
    "            # Remplacement de la virgule par un point pour éviter les erreurs de conversion\n",
    "            df[\"moyenne_loyer_mensuel\"] = df[\"moyenne_loyer_mensuel\"].astype(str).str.replace(\",\", \".\")\n",
    "            df[\"moyenne_loyer_mensuel\"] = pd.to_numeric(df[\"moyenne_loyer_mensuel\"], errors=\"coerce\")\n",
    "            mean_rent = df[\"moyenne_loyer_mensuel\"].dropna().mean()\n",
    "            all_data.append({\"Ville\": city_name, \"Loyer_moyen\": mean_rent})\n",
    "\n",
    "# --- Création du DataFrame final ---\n",
    "df_villes = pd.DataFrame(all_data)\n",
    "\n",
    "# --- Tri par ordre alphabétique des villes ---\n",
    "df_villes = df_villes.sort_values(by=\"Ville\")\n",
    "\n",
    "# --- Visualisation ---\n",
    "plt.figure(figsize=(10,6))\n",
    "plt.bar(df_villes[\"Ville\"], df_villes[\"Loyer_moyen\"], color='cornflowerblue')\n",
    "plt.title(\"Loyer mensuel moyen par ville (2024)\")\n",
    "plt.ylabel(\"Loyer moyen (€ / mois)\")\n",
    "plt.xticks(rotation=45, ha=\"right\")\n",
    "plt.grid(axis='y', linestyle='--', alpha=0.7)\n",
    "plt.tight_layout()\n",
    "plt.show()\n"
   ]
  },
  {
   "cell_type": "markdown",
   "id": "7da69d10",
   "metadata": {},
   "source": [
    "Visualiser les zones à forte concentration étudiante en France"
   ]
  },
  {
   "cell_type": "code",
   "execution_count": null,
   "id": "5c437137",
   "metadata": {},
   "outputs": [],
   "source": [
    "print(\"Partie Adam\")"
   ]
  },
  {
   "cell_type": "markdown",
   "id": "9b97c335",
   "metadata": {},
   "source": [
    "Évaluer le taux de vacance locative en France, et les zones propices à un taux élevé"
   ]
  },
  {
   "cell_type": "code",
   "execution_count": null,
   "id": "7727e89b",
   "metadata": {},
   "outputs": [],
   "source": [
    "print(\"Partie Lucien\")"
   ]
  }
 ],
 "metadata": {
  "kernelspec": {
   "display_name": ".venv",
   "language": "python",
   "name": "python3"
  },
  "language_info": {
   "codemirror_mode": {
    "name": "ipython",
    "version": 3
   },
   "file_extension": ".py",
   "mimetype": "text/x-python",
   "name": "python",
   "nbconvert_exporter": "python",
   "pygments_lexer": "ipython3",
   "version": "3.13.7"
  }
 },
 "nbformat": 4,
 "nbformat_minor": 5
}
