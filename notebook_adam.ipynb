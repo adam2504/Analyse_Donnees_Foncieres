{
 "cells": [
  {
   "cell_type": "markdown",
   "id": "25dd84de",
   "metadata": {},
   "source": [
    "## 🎓 Persona : Léa, jeune investisseuse étudiante\n",
    "\n",
    "**Profil :**\n",
    "- 👩 24 ans, diplômée de l'EM Lyon\n",
    "- 💼 Première expérience professionnelle après 2 ans d'alternance\n",
    "- 💰 Aide parentale pour le financement + épargne personnelle (~15 000 €)\n",
    "- 🎯 Objectif : réaliser un **premier investissement locatif** dans une **ville étudiante dynamique**\n",
    "\n",
    "---\n",
    "\n",
    "### 💡 Objectif d'investissement\n",
    "> Trouver le **meilleur investissement locatif étudiant** possible avec un **budget global de 200 000 €**,  \n",
    "> en ciblant un **studio à Lille**, tout en comparant brièvement avec un **T1 à Angers ou Nancy**.\n",
    "\n",
    "---\n",
    "\n",
    "### 💰 Hypothèses financières\n",
    "| Élément | Montant estimé |\n",
    "|----------|----------------|\n",
    "| Prix d'achat visé | 160 000 – 180 000 € |\n",
    "| Apport personnel | 15 000 € |\n",
    "| Prêt immobilier estimé | 180 000 € sur 20 ans |\n",
    "| Budget total (frais inclus) | **≈ 200 000 €** |\n",
    "| Objectif de rentabilité brute | **≥ 5 %** |\n",
    "\n",
    "---\n",
    "\n",
    "### 🏙️ Cibles principales\n",
    "| Ville | Type de bien | Prix moyen au m² | Loyer moyen mensuel | Observations |\n",
    "|-------|---------------|------------------|---------------------|---------------|\n",
    "| **Lille** | Studio (20–25 m²) | ~4 500 €/m² | 550–600 € | Marché étudiant tendu, forte demande locative |\n",
    "| **Angers** | T1 (25–30 m²) | ~3 200 €/m² | 450–500 € | Ville très dynamique, bonne rentabilité brute |\n",
    "| **Nancy** | T1 (25–30 m²) | ~2 800 €/m² | 420–470 € | Marché abordable, bon rapport prix/rentabilité |\n",
    "\n",
    "---\n",
    "\n",
    "### 🔍 Besoins data de Léa\n",
    "- Évaluer le **taux de vacance locative** en France pour anticiper les périodes creuses (notamment l'été où les étudiants quittent les logements)\n",
    "- Visualiser les **villes à forte concentration étudiante** en France\n",
    "- Analyser l'**évolution du prix au m² à l'achat et des loyers étudiants** en France\n",
    "- Etudier **la rentabilité moyenne en France** en 2024\n",
    "- Analyser la **dynamique du marché immobilier local : croissance ou baisse des prix et loyers sur les 5 dernières années** (entre Rennes et Bordeaux)\n",
    "- Comparer **les quartiers les plus rentables (rentabilité brute)** à ?\n",
    "- Analyser la **localisation/nombre des transports en commun** pour identifier les zones les plus attractives pour les étudiants à ?\n",
    "- Analyser la **localisation des universités/grandes écoles** à ?\n",
    "- Analyser les **quartiers vivants (nombre de resto, bars, et supermarchés)** à ? \n",
    "- Fournir une **recommandation finale : \"où investir avec 200k€ ?\"**\n",
    "\n",
    "---\n",
    "\n",
    "### 🧭 Objectif du notebook\n",
    "Créer un outil interactif permettant à Léa de :\n",
    "1. Comparer la rentabilité d'un **studio à Lille** avec celle d'un **T1 à Angers ou Nancy**  \n",
    "2. Explorer visuellement les **zones à potentiel locatif élevé**  \n",
    "3. Obtenir une **recommandation automatique** en fonction de son budget et de ses préférences"
   ]
  },
  {
   "cell_type": "markdown",
   "id": "8f9733a3",
   "metadata": {},
   "source": [
    "## Import des bibliothèques ##"
   ]
  },
  {
   "cell_type": "code",
   "execution_count": null,
   "id": "f672a483",
   "metadata": {},
   "outputs": [],
   "source": []
  },
  {
   "cell_type": "markdown",
   "id": "6df1be9b",
   "metadata": {},
   "source": [
    "### 1e vision : Analyse générale en France ###"
   ]
  },
  {
   "cell_type": "markdown",
   "id": "a0144df7",
   "metadata": {},
   "source": [
    "Etude de la rentabilité moyenne en France"
   ]
  },
  {
   "cell_type": "code",
   "execution_count": 4,
   "id": "4c7db600",
   "metadata": {},
   "outputs": [
    {
     "name": "stdout",
     "output_type": "stream",
     "text": [
      "Partie Valentine\n"
     ]
    }
   ],
   "source": [
    "print(\"Partie Valentine\")"
   ]
  },
  {
   "cell_type": "markdown",
   "id": "be63e6ce",
   "metadata": {},
   "source": [
    "Evolution du prix au m² et des loyers étudiants depuis 5 ans en France"
   ]
  },
  {
   "cell_type": "code",
   "execution_count": 5,
   "id": "30b7b390",
   "metadata": {},
   "outputs": [
    {
     "name": "stdout",
     "output_type": "stream",
     "text": [
      "Partie Axel\n"
     ]
    }
   ],
   "source": [
    "print(\"Partie Axel\")"
   ]
  },
  {
   "cell_type": "markdown",
   "id": "7da69d10",
   "metadata": {},
   "source": [
    "Visualiser les zones à forte concentration étudiante en France"
   ]
  },
  {
   "cell_type": "code",
   "execution_count": 7,
   "id": "878e55f3",
   "metadata": {},
   "outputs": [
    {
     "name": "stdout",
     "output_type": "stream",
     "text": [
      "Partie Adam\n"
     ]
    }
   ],
   "source": [
    "print(\"Partie Adam\")"
   ]
  },
  {
   "cell_type": "markdown",
   "id": "9b97c335",
   "metadata": {},
   "source": [
    "Évaluer le taux de vacance locative en France, et les zones propices à un taux élevé"
   ]
  },
  {
   "cell_type": "code",
   "execution_count": 6,
   "id": "7727e89b",
   "metadata": {},
   "outputs": [
    {
     "name": "stdout",
     "output_type": "stream",
     "text": [
      "Partie Lucien\n"
     ]
    }
   ],
   "source": [
    "print(\"Partie Lucien\")"
   ]
  }
 ],
 "metadata": {
  "kernelspec": {
   "display_name": ".venv",
   "language": "python",
   "name": "python3"
  },
  "language_info": {
   "codemirror_mode": {
    "name": "ipython",
    "version": 3
   },
   "file_extension": ".py",
   "mimetype": "text/x-python",
   "name": "python",
   "nbconvert_exporter": "python",
   "pygments_lexer": "ipython3",
   "version": "3.13.7"
  }
 },
 "nbformat": 4,
 "nbformat_minor": 5
}
