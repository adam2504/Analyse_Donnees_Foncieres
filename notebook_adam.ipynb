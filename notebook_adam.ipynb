{
 "cells": [
  {
   "cell_type": "markdown",
   "id": "25dd84de",
   "metadata": {},
   "source": [
    "## 🎓 Persona : Léa, jeune investisseuse étudiante\n",
    "\n",
    "**Profil :**\n",
    "- 👩 24 ans, diplômée de l'EM Lyon\n",
    "- 💼 Première expérience professionnelle après 2 ans d'alternance\n",
    "- 💰 Aide parentale pour le financement + épargne personnelle (~15 000 €)\n",
    "- 🎯 Objectif : réaliser un **premier investissement locatif** dans une **ville étudiante dynamique**\n",
    "\n",
    "---\n",
    "\n",
    "### 💡 Objectif d'investissement\n",
    "> Trouver le **meilleur investissement locatif étudiant** possible avec un **budget global de 200 000 €**,  \n",
    "> en analysant la rentabilité brute dans les **principales villes étudiantes françaises** (studios et T1 ≤45m²)\n",
    "\n",
    "---\n",
    "\n",
    "### 💰 Hypothèses financières\n",
    "| Élément | Montant estimé |\n",
    "|----------|----------------|\n",
    "| Prix d'achat visé | 160 000 – 180 000 € |\n",
    "| Apport personnel | 15 000 € |\n",
    "| Prêt immobilier estimé | 180 000 € sur 20 ans |\n",
    "| Budget total (frais inclus) | **≈ 200 000 €** |\n",
    "| Objectif de rentabilité brute | **≥ 5 %** |\n",
    "\n",
    "---\n",
    "\n",
    "### 🔍 Besoins data de Léa\n",
    "- Évaluer le **taux de vacance locative** en France pour anticiper les périodes creuses (notamment l'été où les étudiants quittent les logements)\n",
    "- Visualiser les **villes à forte concentration étudiante** en France\n",
    "- Analyser l'**évolution du prix au m² à l'achat et des loyers étudiants** en France\n",
    "- Etudier **la rentabilité moyenne en France** en 2024\n",
    "- Analyser la **dynamique du marché immobilier local : croissance ou baisse des prix et loyers sur les 5 dernières années** (entre Rennes et Bordeaux)\n",
    "- Comparer **les quartiers les plus rentables (rentabilité brute)** à ?\n",
    "- Analyser la **localisation/nombre des transports en commun** pour identifier les zones les plus attractives pour les étudiants à ?\n",
    "- Analyser la **localisation des universités/grandes écoles** à ?\n",
    "- Analyser les **quartiers vivants (nombre de resto, bars, et supermarchés)** à ? \n",
    "- Fournir une **recommandation finale : \"où investir avec 200k€ ?\"**\n",
    "\n",
    "---\n",
    "\n",
    "### 🧭 Objectif du notebook\n",
    "Créer un outil interactif permettant à Léa de :\n",
    "1. Analyser la **rentabilité locative brute** pour appartements étudiants ≤45m² dans **23 grandes villes françaises**\n",
    "2. Explorer visuellement les **villes à forte concentration étudiante** et analyser les **taux de vacance locative**\n",
    "3. Obtenir un **classement des villes** par rentabilité, prix et loyers pour décider où investir avec 200k€"
   ]
  },
  {
   "cell_type": "markdown",
   "id": "8f9733a3",
   "metadata": {},
   "source": [
    "## 📚 Import des bibliothèques ##"
   ]
  },
  {
   "cell_type": "code",
   "execution_count": 26,
   "id": "3eb868ba",
   "metadata": {},
   "outputs": [],
   "source": [
    "import pandas as pd \n",
    "import plotly.express as px\n",
    "import geopandas as gpd\n",
    "import requests\n",
    "import os\n",
    "import osmnx as ox\n",
    "from shapely.geometry import Point"
   ]
  },
  {
   "cell_type": "markdown",
   "id": "f672a483",
   "metadata": {},
   "source": [
    "# 2e vision : Analyse resserrée sur des villes #"
   ]
  },
  {
   "cell_type": "markdown",
   "id": "a0144df7",
   "metadata": {},
   "source": [
    "### Analyser la **dynamique du marché immobilier local : croissance ou baisse des prix et loyers sur les 5 dernières années** (entre Rennes et Bordeaux) ###"
   ]
  },
  {
   "cell_type": "code",
   "execution_count": null,
   "id": "4c7db600",
   "metadata": {},
   "outputs": [],
   "source": [
    "print(\"Partie Axel\")"
   ]
  },
  {
   "cell_type": "markdown",
   "id": "be63e6ce",
   "metadata": {},
   "source": [
    "### Comparer **les quartiers les plus rentables (rentabilité brute)** à ? ###"
   ]
  },
  {
   "cell_type": "code",
   "execution_count": null,
   "id": "30b7b390",
   "metadata": {},
   "outputs": [],
   "source": [
    "print(\"Partie Lucien\")"
   ]
  },
  {
   "cell_type": "markdown",
   "id": "7da69d10",
   "metadata": {},
   "source": [
    "### Analyser la **localisation/nombre des transports en commun** pour identifier les zones les plus attractives pour les étudiants à ?  ###"
   ]
  },
  {
   "cell_type": "code",
   "execution_count": null,
   "id": "878e55f3",
   "metadata": {},
   "outputs": [],
   "source": [
    "print(\"Partie Valentine\")"
   ]
  },
  {
   "cell_type": "markdown",
   "id": "9b97c335",
   "metadata": {},
   "source": [
    "### Analyser la **localisation des universités/grandes écoles** à ? ###"
   ]
  },
  {
   "cell_type": "code",
   "execution_count": 3,
   "id": "7727e89b",
   "metadata": {},
   "outputs": [
    {
     "data": {
      "application/vnd.microsoft.datawrangler.viewer.v0+json": {
       "columns": [
        {
         "name": "index",
         "rawType": "int64",
         "type": "integer"
        },
        {
         "name": "Rentrée universitaire",
         "rawType": "int64",
         "type": "integer"
        },
        {
         "name": "catégorie d'établissement",
         "rawType": "object",
         "type": "string"
        },
        {
         "name": "secteur d'établissement",
         "rawType": "object",
         "type": "string"
        },
        {
         "name": "code UAI de l'établissement",
         "rawType": "object",
         "type": "string"
        },
        {
         "name": "sigle de l'établissement",
         "rawType": "object",
         "type": "string"
        },
        {
         "name": "libellé de l'établissement",
         "rawType": "object",
         "type": "string"
        },
        {
         "name": "libellé complémentaire de l'établissement",
         "rawType": "object",
         "type": "unknown"
        },
        {
         "name": "Code UAI de la composante",
         "rawType": "object",
         "type": "string"
        },
        {
         "name": "sigle de la composante",
         "rawType": "object",
         "type": "string"
        },
        {
         "name": "libellé de la composante",
         "rawType": "object",
         "type": "string"
        },
        {
         "name": "libellé complémentaire de la composante",
         "rawType": "object",
         "type": "string"
        },
        {
         "name": "id région",
         "rawType": "object",
         "type": "string"
        },
        {
         "name": "région",
         "rawType": "object",
         "type": "string"
        },
        {
         "name": "id académie",
         "rawType": "object",
         "type": "string"
        },
        {
         "name": "académie",
         "rawType": "object",
         "type": "string"
        },
        {
         "name": "id département",
         "rawType": "object",
         "type": "string"
        },
        {
         "name": "département",
         "rawType": "object",
         "type": "string"
        },
        {
         "name": "id unité urbaine",
         "rawType": "object",
         "type": "string"
        },
        {
         "name": "unité urbaine",
         "rawType": "object",
         "type": "string"
        },
        {
         "name": "code commune",
         "rawType": "object",
         "type": "string"
        },
        {
         "name": "Commune",
         "rawType": "object",
         "type": "string"
        },
        {
         "name": "gps",
         "rawType": "object",
         "type": "unknown"
        },
        {
         "name": "degetu",
         "rawType": "float64",
         "type": "float"
        },
        {
         "name": "degre_etudes",
         "rawType": "object",
         "type": "string"
        },
        {
         "name": "nombre total d’étudiants inscrits hors doubles inscriptions université/CPGE",
         "rawType": "int64",
         "type": "integer"
        },
        {
         "name": "dont femmes",
         "rawType": "int64",
         "type": "integer"
        },
        {
         "name": "dont hommes",
         "rawType": "int64",
         "type": "integer"
        }
       ],
       "ref": "5a970ef4-efa0-4414-840f-c0ed36e7a47d",
       "rows": [
        [
         "0",
         "2023",
         "Écoles de commerce, gestion et vente",
         "Privé",
         "0562044T",
         "EC TECH SUP PR",
         "GROUPE AFTEC",
         "IPAC BACHELOR FACTORY VANNES",
         "0562044T",
         "EC TECH SUP PR",
         "GROUPE AFTEC",
         "IPAC BACHELOR FACTORY VANNES",
         "R53",
         "Bretagne",
         "A14",
         "Rennes",
         "D056",
         "56 - Morbihan",
         "UU56501",
         "Vannes",
         "56158",
         "Plescop",
         "47.67764394859038, -2.80211043128016",
         "3.0",
         "BAC + 3",
         "112",
         "96",
         "16"
        ],
        [
         "1",
         "2023",
         "Écoles de commerce, gestion et vente",
         "Privé",
         "0590346F",
         "SKEMA LILLE",
         "SKEMA BUSINESS SCHOOL LILLE",
         null,
         "0060656F",
         "E.COM",
         "ECOLE DE COMMERCE",
         "CAMPUS DE SOPHIA ANTIPOLIS",
         "R93",
         "Provence-Alpes-Côte d'Azur",
         "A23",
         "Nice",
         "D006",
         "06 - Alpes-Maritimes",
         "UU06701",
         "Nice",
         "06152",
         "Valbonne",
         "43.61328883276337, 7.056290282560445",
         "6.0",
         "BAC + 6 et plus",
         "19",
         "9",
         "10"
        ],
        [
         "2",
         "2023",
         "Écoles de commerce, gestion et vente",
         "Privé",
         "0590346F",
         "SKEMA LILLE",
         "SKEMA BUSINESS SCHOOL LILLE",
         null,
         "216P0001",
         "SKEMA CHINE",
         "SKEMA BUSINESS SCHOOL",
         "CAMPUS DE SUZHOU (CHINE)",
         "R99",
         "Étranger",
         "A00",
         "Étranger",
         "D999",
         "Étranger",
         "CHI99216",
         "Suzhou",
         "99216",
         "Suzhou",
         null,
         "4.0",
         "BAC + 4",
         "389",
         "67",
         "322"
        ],
        [
         "3",
         "2023",
         "Écoles de commerce, gestion et vente",
         "Privé",
         "0590350K",
         "EDHEC LILLE",
         "EDHEC BUSINESS SCHOOL",
         "MEMBRE FUPL",
         "0755719J",
         "EDHEC",
         "CENTRE DE FORMATION CONTINUE",
         "EDHEC",
         "R11",
         "Île-de-France",
         "A01",
         "Paris",
         "D075",
         "75 - Paris",
         "UU00851",
         "Paris",
         "75102",
         "Paris  2e",
         null,
         "5.0",
         "BAC + 5",
         "387",
         "162",
         "225"
        ],
        [
         "4",
         "2023",
         "Écoles de commerce, gestion et vente",
         "Privé",
         "0593202K",
         "IESEG LILLE",
         "INST ECO SCIENT GESTION LILLE",
         "MEMBRE FUPL",
         "0593202K",
         "IESEG LILLE",
         "INST ECO SCIENT GESTION LILLE",
         "MEMBRE FUPL",
         "R32",
         "Hauts-de-France",
         "A09",
         "Lille",
         "D059",
         "59 - Nord",
         "UU59702",
         "Lille",
         "59350",
         "Lille",
         "50.63553116922688, 3.044909976114497",
         "2.0",
         "BAC + 2",
         "739",
         "285",
         "454"
        ]
       ],
       "shape": {
        "columns": 27,
        "rows": 5
       }
      },
      "text/html": [
       "<div>\n",
       "<style scoped>\n",
       "    .dataframe tbody tr th:only-of-type {\n",
       "        vertical-align: middle;\n",
       "    }\n",
       "\n",
       "    .dataframe tbody tr th {\n",
       "        vertical-align: top;\n",
       "    }\n",
       "\n",
       "    .dataframe thead th {\n",
       "        text-align: right;\n",
       "    }\n",
       "</style>\n",
       "<table border=\"1\" class=\"dataframe\">\n",
       "  <thead>\n",
       "    <tr style=\"text-align: right;\">\n",
       "      <th></th>\n",
       "      <th>Rentrée universitaire</th>\n",
       "      <th>catégorie d'établissement</th>\n",
       "      <th>secteur d'établissement</th>\n",
       "      <th>code UAI de l'établissement</th>\n",
       "      <th>sigle de l'établissement</th>\n",
       "      <th>libellé de l'établissement</th>\n",
       "      <th>libellé complémentaire de l'établissement</th>\n",
       "      <th>Code UAI de la composante</th>\n",
       "      <th>sigle de la composante</th>\n",
       "      <th>libellé de la composante</th>\n",
       "      <th>...</th>\n",
       "      <th>id unité urbaine</th>\n",
       "      <th>unité urbaine</th>\n",
       "      <th>code commune</th>\n",
       "      <th>Commune</th>\n",
       "      <th>gps</th>\n",
       "      <th>degetu</th>\n",
       "      <th>degre_etudes</th>\n",
       "      <th>nombre total d’étudiants inscrits hors doubles inscriptions université/CPGE</th>\n",
       "      <th>dont femmes</th>\n",
       "      <th>dont hommes</th>\n",
       "    </tr>\n",
       "  </thead>\n",
       "  <tbody>\n",
       "    <tr>\n",
       "      <th>0</th>\n",
       "      <td>2023</td>\n",
       "      <td>Écoles de commerce, gestion et vente</td>\n",
       "      <td>Privé</td>\n",
       "      <td>0562044T</td>\n",
       "      <td>EC TECH SUP PR</td>\n",
       "      <td>GROUPE AFTEC</td>\n",
       "      <td>IPAC BACHELOR FACTORY VANNES</td>\n",
       "      <td>0562044T</td>\n",
       "      <td>EC TECH SUP PR</td>\n",
       "      <td>GROUPE AFTEC</td>\n",
       "      <td>...</td>\n",
       "      <td>UU56501</td>\n",
       "      <td>Vannes</td>\n",
       "      <td>56158</td>\n",
       "      <td>Plescop</td>\n",
       "      <td>47.67764394859038, -2.80211043128016</td>\n",
       "      <td>3.0</td>\n",
       "      <td>BAC + 3</td>\n",
       "      <td>112</td>\n",
       "      <td>96</td>\n",
       "      <td>16</td>\n",
       "    </tr>\n",
       "    <tr>\n",
       "      <th>1</th>\n",
       "      <td>2023</td>\n",
       "      <td>Écoles de commerce, gestion et vente</td>\n",
       "      <td>Privé</td>\n",
       "      <td>0590346F</td>\n",
       "      <td>SKEMA LILLE</td>\n",
       "      <td>SKEMA BUSINESS SCHOOL LILLE</td>\n",
       "      <td>NaN</td>\n",
       "      <td>0060656F</td>\n",
       "      <td>E.COM</td>\n",
       "      <td>ECOLE DE COMMERCE</td>\n",
       "      <td>...</td>\n",
       "      <td>UU06701</td>\n",
       "      <td>Nice</td>\n",
       "      <td>06152</td>\n",
       "      <td>Valbonne</td>\n",
       "      <td>43.61328883276337, 7.056290282560445</td>\n",
       "      <td>6.0</td>\n",
       "      <td>BAC + 6 et plus</td>\n",
       "      <td>19</td>\n",
       "      <td>9</td>\n",
       "      <td>10</td>\n",
       "    </tr>\n",
       "    <tr>\n",
       "      <th>2</th>\n",
       "      <td>2023</td>\n",
       "      <td>Écoles de commerce, gestion et vente</td>\n",
       "      <td>Privé</td>\n",
       "      <td>0590346F</td>\n",
       "      <td>SKEMA LILLE</td>\n",
       "      <td>SKEMA BUSINESS SCHOOL LILLE</td>\n",
       "      <td>NaN</td>\n",
       "      <td>216P0001</td>\n",
       "      <td>SKEMA CHINE</td>\n",
       "      <td>SKEMA BUSINESS SCHOOL</td>\n",
       "      <td>...</td>\n",
       "      <td>CHI99216</td>\n",
       "      <td>Suzhou</td>\n",
       "      <td>99216</td>\n",
       "      <td>Suzhou</td>\n",
       "      <td>NaN</td>\n",
       "      <td>4.0</td>\n",
       "      <td>BAC + 4</td>\n",
       "      <td>389</td>\n",
       "      <td>67</td>\n",
       "      <td>322</td>\n",
       "    </tr>\n",
       "    <tr>\n",
       "      <th>3</th>\n",
       "      <td>2023</td>\n",
       "      <td>Écoles de commerce, gestion et vente</td>\n",
       "      <td>Privé</td>\n",
       "      <td>0590350K</td>\n",
       "      <td>EDHEC LILLE</td>\n",
       "      <td>EDHEC BUSINESS SCHOOL</td>\n",
       "      <td>MEMBRE FUPL</td>\n",
       "      <td>0755719J</td>\n",
       "      <td>EDHEC</td>\n",
       "      <td>CENTRE DE FORMATION CONTINUE</td>\n",
       "      <td>...</td>\n",
       "      <td>UU00851</td>\n",
       "      <td>Paris</td>\n",
       "      <td>75102</td>\n",
       "      <td>Paris  2e</td>\n",
       "      <td>NaN</td>\n",
       "      <td>5.0</td>\n",
       "      <td>BAC + 5</td>\n",
       "      <td>387</td>\n",
       "      <td>162</td>\n",
       "      <td>225</td>\n",
       "    </tr>\n",
       "    <tr>\n",
       "      <th>4</th>\n",
       "      <td>2023</td>\n",
       "      <td>Écoles de commerce, gestion et vente</td>\n",
       "      <td>Privé</td>\n",
       "      <td>0593202K</td>\n",
       "      <td>IESEG LILLE</td>\n",
       "      <td>INST ECO SCIENT GESTION LILLE</td>\n",
       "      <td>MEMBRE FUPL</td>\n",
       "      <td>0593202K</td>\n",
       "      <td>IESEG LILLE</td>\n",
       "      <td>INST ECO SCIENT GESTION LILLE</td>\n",
       "      <td>...</td>\n",
       "      <td>UU59702</td>\n",
       "      <td>Lille</td>\n",
       "      <td>59350</td>\n",
       "      <td>Lille</td>\n",
       "      <td>50.63553116922688, 3.044909976114497</td>\n",
       "      <td>2.0</td>\n",
       "      <td>BAC + 2</td>\n",
       "      <td>739</td>\n",
       "      <td>285</td>\n",
       "      <td>454</td>\n",
       "    </tr>\n",
       "  </tbody>\n",
       "</table>\n",
       "<p>5 rows × 27 columns</p>\n",
       "</div>"
      ],
      "text/plain": [
       "   Rentrée universitaire             catégorie d'établissement  \\\n",
       "0                   2023  Écoles de commerce, gestion et vente   \n",
       "1                   2023  Écoles de commerce, gestion et vente   \n",
       "2                   2023  Écoles de commerce, gestion et vente   \n",
       "3                   2023  Écoles de commerce, gestion et vente   \n",
       "4                   2023  Écoles de commerce, gestion et vente   \n",
       "\n",
       "  secteur d'établissement code UAI de l'établissement  \\\n",
       "0                   Privé                    0562044T   \n",
       "1                   Privé                    0590346F   \n",
       "2                   Privé                    0590346F   \n",
       "3                   Privé                    0590350K   \n",
       "4                   Privé                    0593202K   \n",
       "\n",
       "  sigle de l'établissement     libellé de l'établissement  \\\n",
       "0           EC TECH SUP PR                   GROUPE AFTEC   \n",
       "1              SKEMA LILLE    SKEMA BUSINESS SCHOOL LILLE   \n",
       "2              SKEMA LILLE    SKEMA BUSINESS SCHOOL LILLE   \n",
       "3              EDHEC LILLE          EDHEC BUSINESS SCHOOL   \n",
       "4              IESEG LILLE  INST ECO SCIENT GESTION LILLE   \n",
       "\n",
       "  libellé complémentaire de l'établissement Code UAI de la composante  \\\n",
       "0              IPAC BACHELOR FACTORY VANNES                  0562044T   \n",
       "1                                       NaN                  0060656F   \n",
       "2                                       NaN                  216P0001   \n",
       "3                               MEMBRE FUPL                  0755719J   \n",
       "4                               MEMBRE FUPL                  0593202K   \n",
       "\n",
       "  sigle de la composante       libellé de la composante  ... id unité urbaine  \\\n",
       "0         EC TECH SUP PR                   GROUPE AFTEC  ...          UU56501   \n",
       "1                  E.COM              ECOLE DE COMMERCE  ...          UU06701   \n",
       "2            SKEMA CHINE          SKEMA BUSINESS SCHOOL  ...         CHI99216   \n",
       "3                  EDHEC   CENTRE DE FORMATION CONTINUE  ...          UU00851   \n",
       "4            IESEG LILLE  INST ECO SCIENT GESTION LILLE  ...          UU59702   \n",
       "\n",
       "  unité urbaine code commune    Commune                                   gps  \\\n",
       "0        Vannes        56158    Plescop  47.67764394859038, -2.80211043128016   \n",
       "1          Nice        06152   Valbonne  43.61328883276337, 7.056290282560445   \n",
       "2        Suzhou        99216     Suzhou                                   NaN   \n",
       "3         Paris        75102  Paris  2e                                   NaN   \n",
       "4         Lille        59350      Lille  50.63553116922688, 3.044909976114497   \n",
       "\n",
       "  degetu     degre_etudes  \\\n",
       "0    3.0          BAC + 3   \n",
       "1    6.0  BAC + 6 et plus   \n",
       "2    4.0          BAC + 4   \n",
       "3    5.0          BAC + 5   \n",
       "4    2.0          BAC + 2   \n",
       "\n",
       "  nombre total d’étudiants inscrits hors doubles inscriptions université/CPGE  \\\n",
       "0                                                112                            \n",
       "1                                                 19                            \n",
       "2                                                389                            \n",
       "3                                                387                            \n",
       "4                                                739                            \n",
       "\n",
       "  dont femmes dont hommes  \n",
       "0          96          16  \n",
       "1           9          10  \n",
       "2          67         322  \n",
       "3         162         225  \n",
       "4         285         454  \n",
       "\n",
       "[5 rows x 27 columns]"
      ]
     },
     "execution_count": 3,
     "metadata": {},
     "output_type": "execute_result"
    }
   ],
   "source": [
    "url_df_enseignement_sup = \"https://huggingface.co/datasets/analysedonneesfoncieresdata/analyse_fonciere_data/resolve/main/fr-esr-atlas_regional-effectifs-d-etudiants-inscrits-detail_etablissements.csv\"\n",
    "\n",
    "df_enseignement_sup = pd.read_csv(url_df_enseignement_sup, delimiter=';')\n",
    "\n",
    "df_enseignement_sup.head()"
   ]
  },
  {
   "cell_type": "code",
   "execution_count": 12,
   "id": "d387a86d",
   "metadata": {},
   "outputs": [
    {
     "name": "stdout",
     "output_type": "stream",
     "text": [
      "Nombre de lignes à Rennes : 1531\n",
      "Nombres de lignes avec gps à Rennes : 1461\n",
      "Nombres de lignes sans gps à Rennes avant drop: 70\n",
      "Nombres de lignes sans gps à Rennes après drop: 0\n"
     ]
    },
    {
     "data": {
      "application/vnd.microsoft.datawrangler.viewer.v0+json": {
       "columns": [
        {
         "name": "index",
         "rawType": "int64",
         "type": "integer"
        },
        {
         "name": "Rentrée universitaire",
         "rawType": "int64",
         "type": "integer"
        },
        {
         "name": "catégorie d'établissement",
         "rawType": "object",
         "type": "string"
        },
        {
         "name": "secteur d'établissement",
         "rawType": "object",
         "type": "string"
        },
        {
         "name": "code UAI de l'établissement",
         "rawType": "object",
         "type": "string"
        },
        {
         "name": "sigle de l'établissement",
         "rawType": "object",
         "type": "string"
        },
        {
         "name": "libellé de l'établissement",
         "rawType": "object",
         "type": "string"
        },
        {
         "name": "libellé complémentaire de l'établissement",
         "rawType": "object",
         "type": "unknown"
        },
        {
         "name": "Code UAI de la composante",
         "rawType": "object",
         "type": "string"
        },
        {
         "name": "sigle de la composante",
         "rawType": "object",
         "type": "string"
        },
        {
         "name": "libellé de la composante",
         "rawType": "object",
         "type": "string"
        },
        {
         "name": "libellé complémentaire de la composante",
         "rawType": "object",
         "type": "unknown"
        },
        {
         "name": "id région",
         "rawType": "object",
         "type": "string"
        },
        {
         "name": "région",
         "rawType": "object",
         "type": "string"
        },
        {
         "name": "id académie",
         "rawType": "object",
         "type": "string"
        },
        {
         "name": "académie",
         "rawType": "object",
         "type": "string"
        },
        {
         "name": "id département",
         "rawType": "object",
         "type": "string"
        },
        {
         "name": "département",
         "rawType": "object",
         "type": "string"
        },
        {
         "name": "id unité urbaine",
         "rawType": "object",
         "type": "string"
        },
        {
         "name": "unité urbaine",
         "rawType": "object",
         "type": "string"
        },
        {
         "name": "code commune",
         "rawType": "object",
         "type": "string"
        },
        {
         "name": "Commune",
         "rawType": "object",
         "type": "string"
        },
        {
         "name": "gps",
         "rawType": "object",
         "type": "string"
        },
        {
         "name": "degetu",
         "rawType": "float64",
         "type": "float"
        },
        {
         "name": "degre_etudes",
         "rawType": "object",
         "type": "unknown"
        },
        {
         "name": "nombre total d’étudiants inscrits hors doubles inscriptions université/CPGE",
         "rawType": "int64",
         "type": "integer"
        },
        {
         "name": "dont femmes",
         "rawType": "int64",
         "type": "integer"
        },
        {
         "name": "dont hommes",
         "rawType": "int64",
         "type": "integer"
        }
       ],
       "ref": "c4f80b0f-46a6-4e32-9d90-65fab0a5e0d9",
       "rows": [
        [
         "322",
         "2022",
         "Lycées",
         "Privé",
         "0352267Z",
         "ECP PR",
         "ECOLE PRIVEE COIF ESTHETIQUE",
         "L'ACADEMY - SILVYA TERRADE REN",
         "0352267Z",
         "ECP PR",
         "ECOLE PRIVEE COIF ESTHETIQUE",
         "L'ACADEMY - SILVYA TERRADE REN",
         "R53",
         "Bretagne",
         "A14",
         "Rennes",
         "D035",
         "35 - Ille-et-Vilaine",
         "UU35701",
         "Rennes",
         "35238",
         "Rennes",
         "48.10427073898263, -1.6691603554365282",
         "2.0",
         "BAC + 2",
         "9",
         "8",
         "1"
        ],
        [
         "583",
         "2023",
         "Universités",
         "Public",
         "0353074B",
         "UR (EPE)",
         "UNIVERSITE",
         "DE RENNES (EPE)",
         "0352076S",
         "UFR SC VIE ENV",
         "UFR SCIENCES VIE ENVIRONNEMENT",
         "UNIVERSITE DE RENNES",
         "R53",
         "Bretagne",
         "A14",
         "Rennes",
         "D035",
         "35 - Ille-et-Vilaine",
         "UU35701",
         "Rennes",
         "35238",
         "Rennes",
         "48.11412271889446, -1.6376903820335271",
         "6.0",
         "BAC + 6 et plus",
         "61",
         "35",
         "26"
        ],
        [
         "820",
         "2021",
         "Écoles d'ingénieurs",
         "Public",
         "0350097R",
         "INSA RENNES",
         "INST NAT SC APPLIQ RENNES",
         null,
         "0350097R",
         "INSA RENNES",
         "INST NAT SC APPLIQ RENNES",
         null,
         "R53",
         "Bretagne",
         "A14",
         "Rennes",
         "D035",
         "35 - Ille-et-Vilaine",
         "UU35701",
         "Rennes",
         "35238",
         "Rennes",
         "48.1215800418907, -1.6329696980490491",
         "4.0",
         "BAC + 4",
         "411",
         "126",
         "285"
        ],
        [
         "878",
         "2019",
         "Universités",
         "Public",
         "0290346U",
         "U BREST",
         "UNIVERSITE  BREST",
         "BRETAGNE OCCIDENTALE",
         "0352076S",
         "UFR SC VIE ENV",
         "UFR SCIENCES VIE ENVIRONNEMENT",
         "UNIVERSITE RENNES 1",
         "R53",
         "Bretagne",
         "A14",
         "Rennes",
         "D035",
         "35 - Ille-et-Vilaine",
         "UU35701",
         "Rennes",
         "35238",
         "Rennes",
         "48.11412271889446, -1.6376903820335271",
         null,
         null,
         "48",
         "27",
         "21"
        ],
        [
         "1196",
         "2015",
         "Universités",
         "Public",
         "0350936C",
         "U RENNES 1",
         "UNIVERSITE RENNES 1",
         "UNIVERSITE RENNES 1",
         "0350075S",
         "IG RENNES 1",
         "INSTITUT DE GESTION RENNES 1",
         "UNIVERSITE RENNES 1",
         "R53",
         "Bretagne",
         "A14",
         "Rennes",
         "D035",
         "35 - Ille-et-Vilaine",
         "UU35701",
         "Rennes",
         "35238",
         "Rennes",
         "48.11728104154247, -1.6723406266225596",
         null,
         null,
         "1339",
         "753",
         "586"
        ]
       ],
       "shape": {
        "columns": 27,
        "rows": 5
       }
      },
      "text/html": [
       "<div>\n",
       "<style scoped>\n",
       "    .dataframe tbody tr th:only-of-type {\n",
       "        vertical-align: middle;\n",
       "    }\n",
       "\n",
       "    .dataframe tbody tr th {\n",
       "        vertical-align: top;\n",
       "    }\n",
       "\n",
       "    .dataframe thead th {\n",
       "        text-align: right;\n",
       "    }\n",
       "</style>\n",
       "<table border=\"1\" class=\"dataframe\">\n",
       "  <thead>\n",
       "    <tr style=\"text-align: right;\">\n",
       "      <th></th>\n",
       "      <th>Rentrée universitaire</th>\n",
       "      <th>catégorie d'établissement</th>\n",
       "      <th>secteur d'établissement</th>\n",
       "      <th>code UAI de l'établissement</th>\n",
       "      <th>sigle de l'établissement</th>\n",
       "      <th>libellé de l'établissement</th>\n",
       "      <th>libellé complémentaire de l'établissement</th>\n",
       "      <th>Code UAI de la composante</th>\n",
       "      <th>sigle de la composante</th>\n",
       "      <th>libellé de la composante</th>\n",
       "      <th>...</th>\n",
       "      <th>id unité urbaine</th>\n",
       "      <th>unité urbaine</th>\n",
       "      <th>code commune</th>\n",
       "      <th>Commune</th>\n",
       "      <th>gps</th>\n",
       "      <th>degetu</th>\n",
       "      <th>degre_etudes</th>\n",
       "      <th>nombre total d’étudiants inscrits hors doubles inscriptions université/CPGE</th>\n",
       "      <th>dont femmes</th>\n",
       "      <th>dont hommes</th>\n",
       "    </tr>\n",
       "  </thead>\n",
       "  <tbody>\n",
       "    <tr>\n",
       "      <th>322</th>\n",
       "      <td>2022</td>\n",
       "      <td>Lycées</td>\n",
       "      <td>Privé</td>\n",
       "      <td>0352267Z</td>\n",
       "      <td>ECP PR</td>\n",
       "      <td>ECOLE PRIVEE COIF ESTHETIQUE</td>\n",
       "      <td>L'ACADEMY - SILVYA TERRADE REN</td>\n",
       "      <td>0352267Z</td>\n",
       "      <td>ECP PR</td>\n",
       "      <td>ECOLE PRIVEE COIF ESTHETIQUE</td>\n",
       "      <td>...</td>\n",
       "      <td>UU35701</td>\n",
       "      <td>Rennes</td>\n",
       "      <td>35238</td>\n",
       "      <td>Rennes</td>\n",
       "      <td>48.10427073898263, -1.6691603554365282</td>\n",
       "      <td>2.0</td>\n",
       "      <td>BAC + 2</td>\n",
       "      <td>9</td>\n",
       "      <td>8</td>\n",
       "      <td>1</td>\n",
       "    </tr>\n",
       "    <tr>\n",
       "      <th>583</th>\n",
       "      <td>2023</td>\n",
       "      <td>Universités</td>\n",
       "      <td>Public</td>\n",
       "      <td>0353074B</td>\n",
       "      <td>UR (EPE)</td>\n",
       "      <td>UNIVERSITE</td>\n",
       "      <td>DE RENNES (EPE)</td>\n",
       "      <td>0352076S</td>\n",
       "      <td>UFR SC VIE ENV</td>\n",
       "      <td>UFR SCIENCES VIE ENVIRONNEMENT</td>\n",
       "      <td>...</td>\n",
       "      <td>UU35701</td>\n",
       "      <td>Rennes</td>\n",
       "      <td>35238</td>\n",
       "      <td>Rennes</td>\n",
       "      <td>48.11412271889446, -1.6376903820335271</td>\n",
       "      <td>6.0</td>\n",
       "      <td>BAC + 6 et plus</td>\n",
       "      <td>61</td>\n",
       "      <td>35</td>\n",
       "      <td>26</td>\n",
       "    </tr>\n",
       "    <tr>\n",
       "      <th>820</th>\n",
       "      <td>2021</td>\n",
       "      <td>Écoles d'ingénieurs</td>\n",
       "      <td>Public</td>\n",
       "      <td>0350097R</td>\n",
       "      <td>INSA RENNES</td>\n",
       "      <td>INST NAT SC APPLIQ RENNES</td>\n",
       "      <td>NaN</td>\n",
       "      <td>0350097R</td>\n",
       "      <td>INSA RENNES</td>\n",
       "      <td>INST NAT SC APPLIQ RENNES</td>\n",
       "      <td>...</td>\n",
       "      <td>UU35701</td>\n",
       "      <td>Rennes</td>\n",
       "      <td>35238</td>\n",
       "      <td>Rennes</td>\n",
       "      <td>48.1215800418907, -1.6329696980490491</td>\n",
       "      <td>4.0</td>\n",
       "      <td>BAC + 4</td>\n",
       "      <td>411</td>\n",
       "      <td>126</td>\n",
       "      <td>285</td>\n",
       "    </tr>\n",
       "    <tr>\n",
       "      <th>878</th>\n",
       "      <td>2019</td>\n",
       "      <td>Universités</td>\n",
       "      <td>Public</td>\n",
       "      <td>0290346U</td>\n",
       "      <td>U BREST</td>\n",
       "      <td>UNIVERSITE  BREST</td>\n",
       "      <td>BRETAGNE OCCIDENTALE</td>\n",
       "      <td>0352076S</td>\n",
       "      <td>UFR SC VIE ENV</td>\n",
       "      <td>UFR SCIENCES VIE ENVIRONNEMENT</td>\n",
       "      <td>...</td>\n",
       "      <td>UU35701</td>\n",
       "      <td>Rennes</td>\n",
       "      <td>35238</td>\n",
       "      <td>Rennes</td>\n",
       "      <td>48.11412271889446, -1.6376903820335271</td>\n",
       "      <td>NaN</td>\n",
       "      <td>NaN</td>\n",
       "      <td>48</td>\n",
       "      <td>27</td>\n",
       "      <td>21</td>\n",
       "    </tr>\n",
       "    <tr>\n",
       "      <th>1196</th>\n",
       "      <td>2015</td>\n",
       "      <td>Universités</td>\n",
       "      <td>Public</td>\n",
       "      <td>0350936C</td>\n",
       "      <td>U RENNES 1</td>\n",
       "      <td>UNIVERSITE RENNES 1</td>\n",
       "      <td>UNIVERSITE RENNES 1</td>\n",
       "      <td>0350075S</td>\n",
       "      <td>IG RENNES 1</td>\n",
       "      <td>INSTITUT DE GESTION RENNES 1</td>\n",
       "      <td>...</td>\n",
       "      <td>UU35701</td>\n",
       "      <td>Rennes</td>\n",
       "      <td>35238</td>\n",
       "      <td>Rennes</td>\n",
       "      <td>48.11728104154247, -1.6723406266225596</td>\n",
       "      <td>NaN</td>\n",
       "      <td>NaN</td>\n",
       "      <td>1339</td>\n",
       "      <td>753</td>\n",
       "      <td>586</td>\n",
       "    </tr>\n",
       "  </tbody>\n",
       "</table>\n",
       "<p>5 rows × 27 columns</p>\n",
       "</div>"
      ],
      "text/plain": [
       "      Rentrée universitaire catégorie d'établissement secteur d'établissement  \\\n",
       "322                    2022                    Lycées                   Privé   \n",
       "583                    2023               Universités                  Public   \n",
       "820                    2021       Écoles d'ingénieurs                  Public   \n",
       "878                    2019               Universités                  Public   \n",
       "1196                   2015               Universités                  Public   \n",
       "\n",
       "     code UAI de l'établissement sigle de l'établissement  \\\n",
       "322                     0352267Z                   ECP PR   \n",
       "583                     0353074B                 UR (EPE)   \n",
       "820                     0350097R              INSA RENNES   \n",
       "878                     0290346U                  U BREST   \n",
       "1196                    0350936C               U RENNES 1   \n",
       "\n",
       "        libellé de l'établissement libellé complémentaire de l'établissement  \\\n",
       "322   ECOLE PRIVEE COIF ESTHETIQUE            L'ACADEMY - SILVYA TERRADE REN   \n",
       "583                     UNIVERSITE                           DE RENNES (EPE)   \n",
       "820      INST NAT SC APPLIQ RENNES                                       NaN   \n",
       "878              UNIVERSITE  BREST                      BRETAGNE OCCIDENTALE   \n",
       "1196           UNIVERSITE RENNES 1                       UNIVERSITE RENNES 1   \n",
       "\n",
       "     Code UAI de la composante sigle de la composante  \\\n",
       "322                   0352267Z                 ECP PR   \n",
       "583                   0352076S         UFR SC VIE ENV   \n",
       "820                   0350097R            INSA RENNES   \n",
       "878                   0352076S         UFR SC VIE ENV   \n",
       "1196                  0350075S            IG RENNES 1   \n",
       "\n",
       "            libellé de la composante  ... id unité urbaine unité urbaine  \\\n",
       "322     ECOLE PRIVEE COIF ESTHETIQUE  ...          UU35701        Rennes   \n",
       "583   UFR SCIENCES VIE ENVIRONNEMENT  ...          UU35701        Rennes   \n",
       "820        INST NAT SC APPLIQ RENNES  ...          UU35701        Rennes   \n",
       "878   UFR SCIENCES VIE ENVIRONNEMENT  ...          UU35701        Rennes   \n",
       "1196    INSTITUT DE GESTION RENNES 1  ...          UU35701        Rennes   \n",
       "\n",
       "     code commune Commune                                     gps degetu  \\\n",
       "322         35238  Rennes  48.10427073898263, -1.6691603554365282    2.0   \n",
       "583         35238  Rennes  48.11412271889446, -1.6376903820335271    6.0   \n",
       "820         35238  Rennes   48.1215800418907, -1.6329696980490491    4.0   \n",
       "878         35238  Rennes  48.11412271889446, -1.6376903820335271    NaN   \n",
       "1196        35238  Rennes  48.11728104154247, -1.6723406266225596    NaN   \n",
       "\n",
       "         degre_etudes  \\\n",
       "322           BAC + 2   \n",
       "583   BAC + 6 et plus   \n",
       "820           BAC + 4   \n",
       "878               NaN   \n",
       "1196              NaN   \n",
       "\n",
       "     nombre total d’étudiants inscrits hors doubles inscriptions université/CPGE  \\\n",
       "322                                                   9                            \n",
       "583                                                  61                            \n",
       "820                                                 411                            \n",
       "878                                                  48                            \n",
       "1196                                               1339                            \n",
       "\n",
       "     dont femmes dont hommes  \n",
       "322            8           1  \n",
       "583           35          26  \n",
       "820          126         285  \n",
       "878           27          21  \n",
       "1196         753         586  \n",
       "\n",
       "[5 rows x 27 columns]"
      ]
     },
     "execution_count": 12,
     "metadata": {},
     "output_type": "execute_result"
    }
   ],
   "source": [
    "df_rennes = df_enseignement_sup[df_enseignement_sup['Commune'] == 'Rennes']\n",
    "\n",
    "print(f\"Nombre de lignes à Rennes :\", df_rennes.shape[0])\n",
    "print(f\"Nombres de lignes avec gps à Rennes :\", (df_rennes['gps'].isnull() == False).sum())\n",
    "print(f\"Nombres de lignes sans gps à Rennes avant drop:\", df_rennes['gps'].isnull().sum())\n",
    "\n",
    "df_rennes = df_rennes.dropna(subset=['gps'])\n",
    "\n",
    "print(f\"Nombres de lignes sans gps à Rennes après drop:\", df_rennes['gps'].isnull().sum())\n",
    "df_rennes.head()"
   ]
  },
  {
   "cell_type": "code",
   "execution_count": 16,
   "id": "08982662",
   "metadata": {},
   "outputs": [
    {
     "name": "stdout",
     "output_type": "stream",
     "text": [
      "Nombre de lignes à Rennes : 1461\n",
      "Nombres de lignes avec lat et lon à Rennes : 1461\n",
      "Nombres de lignes sans lat et lon à Rennes avant drop: 0\n",
      "Nombres de lignes sans lat et lon à Rennes après drop: 0\n"
     ]
    }
   ],
   "source": [
    "# Nettoyage des coordonnées\n",
    "df_rennes[['lat', 'lon']] = df_rennes['gps'].str.split(',', expand=True)\n",
    "df_rennes['lat'] = df_rennes['lat'].astype(float)\n",
    "df_rennes['lon'] = df_rennes['lon'].astype(float)\n",
    "\n",
    "print(f\"Nombre de lignes à Rennes :\", df_rennes[['lat', 'lon']].shape[0])\n",
    "print(f\"Nombres de lignes avec lat et lon à Rennes :\", ((df_rennes['lat'].isnull() == False) & (df_rennes['lon'].isnull() == False)).sum())\n",
    "print(f\"Nombres de lignes sans lat et lon à Rennes avant drop:\", ((df_rennes['lat'].isnull()) & (df_rennes['lon'].isnull())).sum())\n",
    "\n",
    "# On enlève les lignes sans coordonnées\n",
    "df_rennes = df_rennes.dropna(subset=['lat', 'lon'])\n",
    "\n",
    "print(f\"Nombres de lignes sans lat et lon à Rennes après drop:\", ((df_rennes['lat'].isnull()) & (df_rennes['lon'].isnull())).sum())"
   ]
  },
  {
   "cell_type": "code",
   "execution_count": null,
   "id": "a7355f73",
   "metadata": {},
   "outputs": [],
   "source": [
    "# Transformation en GeoDataFrame \n",
    "df_rennes = gpd.GeoDataFrame(\n",
    "    df_rennes,\n",
    "    geometry=gpd.points_from_xy(df_rennes.lon, df_rennes.lat),\n",
    "    crs=\"EPSG:4326\"  # WGS84\n",
    ")"
   ]
  },
  {
   "cell_type": "code",
   "execution_count": 17,
   "id": "64eb9c61",
   "metadata": {},
   "outputs": [
    {
     "name": "stdout",
     "output_type": "stream",
     "text": [
      "Téléchargement du fichier...\n",
      "Couches disponibles: ['contours_iris_pe']\n"
     ]
    },
    {
     "data": {
      "text/html": [
       "<div>\n",
       "<style scoped>\n",
       "    .dataframe tbody tr th:only-of-type {\n",
       "        vertical-align: middle;\n",
       "    }\n",
       "\n",
       "    .dataframe tbody tr th {\n",
       "        vertical-align: top;\n",
       "    }\n",
       "\n",
       "    .dataframe thead th {\n",
       "        text-align: right;\n",
       "    }\n",
       "</style>\n",
       "<table border=\"1\" class=\"dataframe\">\n",
       "  <thead>\n",
       "    <tr style=\"text-align: right;\">\n",
       "      <th></th>\n",
       "      <th>cleabs</th>\n",
       "      <th>code_insee</th>\n",
       "      <th>nom_commune</th>\n",
       "      <th>iris</th>\n",
       "      <th>code_iris</th>\n",
       "      <th>nom_iris</th>\n",
       "      <th>type_iris</th>\n",
       "      <th>geometry</th>\n",
       "    </tr>\n",
       "  </thead>\n",
       "  <tbody>\n",
       "    <tr>\n",
       "      <th>0</th>\n",
       "      <td>IRIS____0000000670430101</td>\n",
       "      <td>67043</td>\n",
       "      <td>Bischheim</td>\n",
       "      <td>0101</td>\n",
       "      <td>670430101</td>\n",
       "      <td>Bischheim</td>\n",
       "      <td>A</td>\n",
       "      <td>MULTIPOLYGON (((1052052.5 6848302.2, 1052346.7...</td>\n",
       "    </tr>\n",
       "    <tr>\n",
       "      <th>1</th>\n",
       "      <td>IRIS____0000000132020101</td>\n",
       "      <td>13202</td>\n",
       "      <td>Marseille 2e Arrondissement</td>\n",
       "      <td>0101</td>\n",
       "      <td>132020101</td>\n",
       "      <td>Marseille 2e Arrondissement</td>\n",
       "      <td>A</td>\n",
       "      <td>MULTIPOLYGON (((892392.4 6249040.5, 892189 624...</td>\n",
       "    </tr>\n",
       "    <tr>\n",
       "      <th>2</th>\n",
       "      <td>IRIS____0000000561850101</td>\n",
       "      <td>56185</td>\n",
       "      <td>Quéven</td>\n",
       "      <td>0101</td>\n",
       "      <td>561850101</td>\n",
       "      <td>Quéven</td>\n",
       "      <td>A</td>\n",
       "      <td>MULTIPOLYGON (((217035.9 6759952.7, 216941.9 6...</td>\n",
       "    </tr>\n",
       "    <tr>\n",
       "      <th>3</th>\n",
       "      <td>IRIS____0000000930630101</td>\n",
       "      <td>93063</td>\n",
       "      <td>Romainville</td>\n",
       "      <td>0101</td>\n",
       "      <td>930630101</td>\n",
       "      <td>Romainville</td>\n",
       "      <td>A</td>\n",
       "      <td>MULTIPOLYGON (((659020 6865990.2, 658978.6 686...</td>\n",
       "    </tr>\n",
       "    <tr>\n",
       "      <th>4</th>\n",
       "      <td>IRIS____0000000940480101</td>\n",
       "      <td>94048</td>\n",
       "      <td>Marolles-en-Brie</td>\n",
       "      <td>0101</td>\n",
       "      <td>940480101</td>\n",
       "      <td>Marolles-en-Brie</td>\n",
       "      <td>A</td>\n",
       "      <td>MULTIPOLYGON (((667454 6850589.8, 667714.1 685...</td>\n",
       "    </tr>\n",
       "  </tbody>\n",
       "</table>\n",
       "</div>"
      ],
      "text/plain": [
       "                     cleabs code_insee                  nom_commune  iris  \\\n",
       "0  IRIS____0000000670430101      67043                    Bischheim  0101   \n",
       "1  IRIS____0000000132020101      13202  Marseille 2e Arrondissement  0101   \n",
       "2  IRIS____0000000561850101      56185                       Quéven  0101   \n",
       "3  IRIS____0000000930630101      93063                  Romainville  0101   \n",
       "4  IRIS____0000000940480101      94048             Marolles-en-Brie  0101   \n",
       "\n",
       "   code_iris                     nom_iris type_iris  \\\n",
       "0  670430101                    Bischheim         A   \n",
       "1  132020101  Marseille 2e Arrondissement         A   \n",
       "2  561850101                       Quéven         A   \n",
       "3  930630101                  Romainville         A   \n",
       "4  940480101             Marolles-en-Brie         A   \n",
       "\n",
       "                                            geometry  \n",
       "0  MULTIPOLYGON (((1052052.5 6848302.2, 1052346.7...  \n",
       "1  MULTIPOLYGON (((892392.4 6249040.5, 892189 624...  \n",
       "2  MULTIPOLYGON (((217035.9 6759952.7, 216941.9 6...  \n",
       "3  MULTIPOLYGON (((659020 6865990.2, 658978.6 686...  \n",
       "4  MULTIPOLYGON (((667454 6850589.8, 667714.1 685...  "
      ]
     },
     "execution_count": 17,
     "metadata": {},
     "output_type": "execute_result"
    }
   ],
   "source": [
    "url_iris = \"https://huggingface.co/datasets/analysedonneesfoncieresdata/analyse_fonciere_data/resolve/main/contours-iris-pe.gpkg\"\n",
    "local_path = \"contours-iris-pe.gpkg\"\n",
    "\n",
    "# Télécharger une seule fois\n",
    "if not os.path.exists(local_path):\n",
    "    print(\"Téléchargement du fichier...\")\n",
    "    r = requests.get(url_iris)\n",
    "    with open(local_path, \"wb\") as f:\n",
    "        f.write(r.content)\n",
    "\n",
    "# Lister les couches avec fiona\n",
    "from fiona import listlayers\n",
    "layers = listlayers(local_path)\n",
    "print(\"Couches disponibles:\", layers)\n",
    "\n",
    "# Charger la couche principale\n",
    "iris = gpd.read_file(local_path, layer=layers[0])\n",
    "iris.head()\n"
   ]
  },
  {
   "cell_type": "code",
   "execution_count": 18,
   "id": "87e92172",
   "metadata": {},
   "outputs": [
    {
     "data": {
      "application/vnd.microsoft.datawrangler.viewer.v0+json": {
       "columns": [
        {
         "name": "index",
         "rawType": "int64",
         "type": "integer"
        },
        {
         "name": "code_iris",
         "rawType": "object",
         "type": "string"
        },
        {
         "name": "LIB_IRIS",
         "rawType": "object",
         "type": "string"
        },
        {
         "name": "TYP_IRIS",
         "rawType": "object",
         "type": "string"
        },
        {
         "name": "GRD_QUART",
         "rawType": "object",
         "type": "string"
        },
        {
         "name": "DEPCOM",
         "rawType": "object",
         "type": "string"
        },
        {
         "name": "LIBCOM",
         "rawType": "object",
         "type": "string"
        },
        {
         "name": "UU2020",
         "rawType": "object",
         "type": "string"
        },
        {
         "name": "REG",
         "rawType": "float64",
         "type": "float"
        },
        {
         "name": "DEP",
         "rawType": "object",
         "type": "string"
        }
       ],
       "ref": "3775b0ee-e272-44a6-ab54-0146be4f9c31",
       "rows": [
        [
         "0",
         "010010000",
         "L'Abergement-Clémenciat (commune non irisée)",
         "Z",
         "0100100",
         "01001",
         "L'Abergement-Clémenciat",
         "01000",
         "84.0",
         "01"
        ],
        [
         "1",
         "010020000",
         "L'Abergement-de-Varey (commune non irisée)",
         "Z",
         "0100200",
         "01002",
         "L'Abergement-de-Varey",
         "01000",
         "84.0",
         "01"
        ],
        [
         "2",
         "010040101",
         "Les Pérouses-Triangle d'Activités",
         "H",
         "0100401",
         "01004",
         "Ambérieu-en-Bugey",
         "01303",
         "84.0",
         "01"
        ],
        [
         "3",
         "010040102",
         "Longeray-Gare",
         "H",
         "0100401",
         "01004",
         "Ambérieu-en-Bugey",
         "01303",
         "84.0",
         "01"
        ],
        [
         "4",
         "010040201",
         "Centre-Saint-Germain-Vareilles",
         "H",
         "0100402",
         "01004",
         "Ambérieu-en-Bugey",
         "01303",
         "84.0",
         "01"
        ]
       ],
       "shape": {
        "columns": 9,
        "rows": 5
       }
      },
      "text/html": [
       "<div>\n",
       "<style scoped>\n",
       "    .dataframe tbody tr th:only-of-type {\n",
       "        vertical-align: middle;\n",
       "    }\n",
       "\n",
       "    .dataframe tbody tr th {\n",
       "        vertical-align: top;\n",
       "    }\n",
       "\n",
       "    .dataframe thead th {\n",
       "        text-align: right;\n",
       "    }\n",
       "</style>\n",
       "<table border=\"1\" class=\"dataframe\">\n",
       "  <thead>\n",
       "    <tr style=\"text-align: right;\">\n",
       "      <th></th>\n",
       "      <th>code_iris</th>\n",
       "      <th>LIB_IRIS</th>\n",
       "      <th>TYP_IRIS</th>\n",
       "      <th>GRD_QUART</th>\n",
       "      <th>DEPCOM</th>\n",
       "      <th>LIBCOM</th>\n",
       "      <th>UU2020</th>\n",
       "      <th>REG</th>\n",
       "      <th>DEP</th>\n",
       "    </tr>\n",
       "  </thead>\n",
       "  <tbody>\n",
       "    <tr>\n",
       "      <th>0</th>\n",
       "      <td>010010000</td>\n",
       "      <td>L'Abergement-Clémenciat (commune non irisée)</td>\n",
       "      <td>Z</td>\n",
       "      <td>0100100</td>\n",
       "      <td>01001</td>\n",
       "      <td>L'Abergement-Clémenciat</td>\n",
       "      <td>01000</td>\n",
       "      <td>84.0</td>\n",
       "      <td>01</td>\n",
       "    </tr>\n",
       "    <tr>\n",
       "      <th>1</th>\n",
       "      <td>010020000</td>\n",
       "      <td>L'Abergement-de-Varey (commune non irisée)</td>\n",
       "      <td>Z</td>\n",
       "      <td>0100200</td>\n",
       "      <td>01002</td>\n",
       "      <td>L'Abergement-de-Varey</td>\n",
       "      <td>01000</td>\n",
       "      <td>84.0</td>\n",
       "      <td>01</td>\n",
       "    </tr>\n",
       "    <tr>\n",
       "      <th>2</th>\n",
       "      <td>010040101</td>\n",
       "      <td>Les Pérouses-Triangle d'Activités</td>\n",
       "      <td>H</td>\n",
       "      <td>0100401</td>\n",
       "      <td>01004</td>\n",
       "      <td>Ambérieu-en-Bugey</td>\n",
       "      <td>01303</td>\n",
       "      <td>84.0</td>\n",
       "      <td>01</td>\n",
       "    </tr>\n",
       "    <tr>\n",
       "      <th>3</th>\n",
       "      <td>010040102</td>\n",
       "      <td>Longeray-Gare</td>\n",
       "      <td>H</td>\n",
       "      <td>0100401</td>\n",
       "      <td>01004</td>\n",
       "      <td>Ambérieu-en-Bugey</td>\n",
       "      <td>01303</td>\n",
       "      <td>84.0</td>\n",
       "      <td>01</td>\n",
       "    </tr>\n",
       "    <tr>\n",
       "      <th>4</th>\n",
       "      <td>010040201</td>\n",
       "      <td>Centre-Saint-Germain-Vareilles</td>\n",
       "      <td>H</td>\n",
       "      <td>0100402</td>\n",
       "      <td>01004</td>\n",
       "      <td>Ambérieu-en-Bugey</td>\n",
       "      <td>01303</td>\n",
       "      <td>84.0</td>\n",
       "      <td>01</td>\n",
       "    </tr>\n",
       "  </tbody>\n",
       "</table>\n",
       "</div>"
      ],
      "text/plain": [
       "   code_iris                                      LIB_IRIS TYP_IRIS GRD_QUART  \\\n",
       "0  010010000  L'Abergement-Clémenciat (commune non irisée)        Z   0100100   \n",
       "1  010020000    L'Abergement-de-Varey (commune non irisée)        Z   0100200   \n",
       "2  010040101             Les Pérouses-Triangle d'Activités        H   0100401   \n",
       "3  010040102                                 Longeray-Gare        H   0100401   \n",
       "4  010040201                Centre-Saint-Germain-Vareilles        H   0100402   \n",
       "\n",
       "  DEPCOM                   LIBCOM UU2020   REG DEP  \n",
       "0  01001  L'Abergement-Clémenciat  01000  84.0  01  \n",
       "1  01002    L'Abergement-de-Varey  01000  84.0  01  \n",
       "2  01004        Ambérieu-en-Bugey  01303  84.0  01  \n",
       "3  01004        Ambérieu-en-Bugey  01303  84.0  01  \n",
       "4  01004        Ambérieu-en-Bugey  01303  84.0  01  "
      ]
     },
     "execution_count": 18,
     "metadata": {},
     "output_type": "execute_result"
    }
   ],
   "source": [
    "url_ref_iris = \"https://huggingface.co/datasets/analysedonneesfoncieresdata/analyse_fonciere_data/resolve/main/reference_IRIS_geo2025.xlsx\"\n",
    "\n",
    "iris_noms = pd.read_excel(url_ref_iris)\n",
    "\n",
    "iris_noms = iris_noms.rename(columns={'CODE_IRIS': 'code_iris'})\n",
    "\n",
    "# fusion avec ton GeoDataFrame (qui contient les codes IRIS)\n",
    "iris = iris.merge(iris_noms[['code_iris', 'LIB_IRIS', 'LIBCOM']], on='code_iris', how='left')\n",
    "\n",
    "iris_noms.head()\n"
   ]
  },
  {
   "cell_type": "code",
   "execution_count": 33,
   "id": "3ac92044",
   "metadata": {},
   "outputs": [
    {
     "name": "stdout",
     "output_type": "stream",
     "text": [
      "Rennes contient 146 IRIS\n"
     ]
    },
    {
     "data": {
      "text/html": [
       "<div>\n",
       "<style scoped>\n",
       "    .dataframe tbody tr th:only-of-type {\n",
       "        vertical-align: middle;\n",
       "    }\n",
       "\n",
       "    .dataframe tbody tr th {\n",
       "        vertical-align: top;\n",
       "    }\n",
       "\n",
       "    .dataframe thead th {\n",
       "        text-align: right;\n",
       "    }\n",
       "</style>\n",
       "<table border=\"1\" class=\"dataframe\">\n",
       "  <thead>\n",
       "    <tr style=\"text-align: right;\">\n",
       "      <th></th>\n",
       "      <th>cleabs</th>\n",
       "      <th>code_insee</th>\n",
       "      <th>nom_commune</th>\n",
       "      <th>iris</th>\n",
       "      <th>code_iris</th>\n",
       "      <th>nom_iris</th>\n",
       "      <th>type_iris</th>\n",
       "      <th>geometry</th>\n",
       "      <th>LIB_IRIS</th>\n",
       "      <th>LIBCOM</th>\n",
       "    </tr>\n",
       "  </thead>\n",
       "  <tbody>\n",
       "    <tr>\n",
       "      <th>489</th>\n",
       "      <td>IRIS____0000000352380308</td>\n",
       "      <td>35238</td>\n",
       "      <td>Rennes</td>\n",
       "      <td>0308</td>\n",
       "      <td>352380308</td>\n",
       "      <td>Rennes</td>\n",
       "      <td>A</td>\n",
       "      <td>MULTIPOLYGON (((349041.8 6789540.4, 349108.7 6...</td>\n",
       "      <td>Z.A. Ouest</td>\n",
       "      <td>Rennes</td>\n",
       "    </tr>\n",
       "    <tr>\n",
       "      <th>516</th>\n",
       "      <td>IRIS____0000000352380403</td>\n",
       "      <td>35238</td>\n",
       "      <td>Rennes</td>\n",
       "      <td>0403</td>\n",
       "      <td>352380403</td>\n",
       "      <td>Rennes</td>\n",
       "      <td>A</td>\n",
       "      <td>MULTIPOLYGON (((352060.5 6791899.6, 351994.9 6...</td>\n",
       "      <td>Z.A. Nord</td>\n",
       "      <td>Rennes</td>\n",
       "    </tr>\n",
       "    <tr>\n",
       "      <th>575</th>\n",
       "      <td>IRIS____0000000352380607</td>\n",
       "      <td>35238</td>\n",
       "      <td>Rennes</td>\n",
       "      <td>0607</td>\n",
       "      <td>352380607</td>\n",
       "      <td>Rennes</td>\n",
       "      <td>A</td>\n",
       "      <td>MULTIPOLYGON (((355296.3 6788725.3, 354873.5 6...</td>\n",
       "      <td>Plaine de Baud</td>\n",
       "      <td>Rennes</td>\n",
       "    </tr>\n",
       "    <tr>\n",
       "      <th>597</th>\n",
       "      <td>IRIS____0000000352380704</td>\n",
       "      <td>35238</td>\n",
       "      <td>Rennes</td>\n",
       "      <td>0704</td>\n",
       "      <td>352380704</td>\n",
       "      <td>Rennes</td>\n",
       "      <td>A</td>\n",
       "      <td>MULTIPOLYGON (((354457.9 6788601.8, 354873.5 6...</td>\n",
       "      <td>Z.A. Sud Est</td>\n",
       "      <td>Rennes</td>\n",
       "    </tr>\n",
       "    <tr>\n",
       "      <th>1032</th>\n",
       "      <td>IRIS____0000000352380307</td>\n",
       "      <td>35238</td>\n",
       "      <td>Rennes</td>\n",
       "      <td>0307</td>\n",
       "      <td>352380307</td>\n",
       "      <td>Rennes</td>\n",
       "      <td>D</td>\n",
       "      <td>MULTIPOLYGON (((348304.3 6789477.5, 348125.4 6...</td>\n",
       "      <td>Champeaux</td>\n",
       "      <td>Rennes</td>\n",
       "    </tr>\n",
       "  </tbody>\n",
       "</table>\n",
       "</div>"
      ],
      "text/plain": [
       "                        cleabs code_insee nom_commune  iris  code_iris  \\\n",
       "489   IRIS____0000000352380308      35238      Rennes  0308  352380308   \n",
       "516   IRIS____0000000352380403      35238      Rennes  0403  352380403   \n",
       "575   IRIS____0000000352380607      35238      Rennes  0607  352380607   \n",
       "597   IRIS____0000000352380704      35238      Rennes  0704  352380704   \n",
       "1032  IRIS____0000000352380307      35238      Rennes  0307  352380307   \n",
       "\n",
       "     nom_iris type_iris                                           geometry  \\\n",
       "489    Rennes         A  MULTIPOLYGON (((349041.8 6789540.4, 349108.7 6...   \n",
       "516    Rennes         A  MULTIPOLYGON (((352060.5 6791899.6, 351994.9 6...   \n",
       "575    Rennes         A  MULTIPOLYGON (((355296.3 6788725.3, 354873.5 6...   \n",
       "597    Rennes         A  MULTIPOLYGON (((354457.9 6788601.8, 354873.5 6...   \n",
       "1032   Rennes         D  MULTIPOLYGON (((348304.3 6789477.5, 348125.4 6...   \n",
       "\n",
       "            LIB_IRIS  LIBCOM  \n",
       "489       Z.A. Ouest  Rennes  \n",
       "516        Z.A. Nord  Rennes  \n",
       "575   Plaine de Baud  Rennes  \n",
       "597     Z.A. Sud Est  Rennes  \n",
       "1032       Champeaux  Rennes  "
      ]
     },
     "execution_count": 33,
     "metadata": {},
     "output_type": "execute_result"
    }
   ],
   "source": [
    "# Filtrer\n",
    "iris_rennes = iris[iris['nom_commune'].str.contains(\"Rennes\", case=False, na=False)].copy()\n",
    "\n",
    "print(f\"Rennes contient\", len(iris_rennes), \"IRIS\")\n",
    "\n",
    "iris_rennes.head()"
   ]
  },
  {
   "cell_type": "code",
   "execution_count": 35,
   "id": "da57996e",
   "metadata": {},
   "outputs": [],
   "source": [
    "# On met tout dans la même CRS projetée (ex: EPSG:2154 ou utiliser EPSG:4326 par la suite)\n",
    "iris_rennes = iris_rennes.to_crs(epsg=4326)\n",
    "df_rennes = df_rennes.to_crs(epsg=4326)\n"
   ]
  },
  {
   "cell_type": "code",
   "execution_count": 36,
   "id": "5bb4bcec",
   "metadata": {},
   "outputs": [
    {
     "data": {
      "text/html": [
       "<div>\n",
       "<style scoped>\n",
       "    .dataframe tbody tr th:only-of-type {\n",
       "        vertical-align: middle;\n",
       "    }\n",
       "\n",
       "    .dataframe tbody tr th {\n",
       "        vertical-align: top;\n",
       "    }\n",
       "\n",
       "    .dataframe thead th {\n",
       "        text-align: right;\n",
       "    }\n",
       "</style>\n",
       "<table border=\"1\" class=\"dataframe\">\n",
       "  <thead>\n",
       "    <tr style=\"text-align: right;\">\n",
       "      <th></th>\n",
       "      <th>Rentrée universitaire</th>\n",
       "      <th>catégorie d'établissement</th>\n",
       "      <th>secteur d'établissement</th>\n",
       "      <th>code UAI de l'établissement</th>\n",
       "      <th>sigle de l'établissement</th>\n",
       "      <th>libellé de l'établissement</th>\n",
       "      <th>libellé complémentaire de l'établissement</th>\n",
       "      <th>Code UAI de la composante</th>\n",
       "      <th>sigle de la composante</th>\n",
       "      <th>libellé de la composante</th>\n",
       "      <th>...</th>\n",
       "      <th>index_right</th>\n",
       "      <th>cleabs</th>\n",
       "      <th>code_insee</th>\n",
       "      <th>nom_commune</th>\n",
       "      <th>iris</th>\n",
       "      <th>code_iris</th>\n",
       "      <th>nom_iris</th>\n",
       "      <th>type_iris</th>\n",
       "      <th>LIB_IRIS</th>\n",
       "      <th>LIBCOM</th>\n",
       "    </tr>\n",
       "  </thead>\n",
       "  <tbody>\n",
       "    <tr>\n",
       "      <th>322</th>\n",
       "      <td>2022</td>\n",
       "      <td>Lycées</td>\n",
       "      <td>Privé</td>\n",
       "      <td>0352267Z</td>\n",
       "      <td>ECP PR</td>\n",
       "      <td>ECOLE PRIVEE COIF ESTHETIQUE</td>\n",
       "      <td>L'ACADEMY - SILVYA TERRADE REN</td>\n",
       "      <td>0352267Z</td>\n",
       "      <td>ECP PR</td>\n",
       "      <td>ECOLE PRIVEE COIF ESTHETIQUE</td>\n",
       "      <td>...</td>\n",
       "      <td>10225</td>\n",
       "      <td>IRIS____0000000352380207</td>\n",
       "      <td>35238</td>\n",
       "      <td>Rennes</td>\n",
       "      <td>0207</td>\n",
       "      <td>352380207</td>\n",
       "      <td>Rennes</td>\n",
       "      <td>H</td>\n",
       "      <td>Saint-Hélier</td>\n",
       "      <td>Rennes</td>\n",
       "    </tr>\n",
       "    <tr>\n",
       "      <th>583</th>\n",
       "      <td>2023</td>\n",
       "      <td>Universités</td>\n",
       "      <td>Public</td>\n",
       "      <td>0353074B</td>\n",
       "      <td>UR (EPE)</td>\n",
       "      <td>UNIVERSITE</td>\n",
       "      <td>DE RENNES (EPE)</td>\n",
       "      <td>0352076S</td>\n",
       "      <td>UFR SC VIE ENV</td>\n",
       "      <td>UFR SCIENCES VIE ENVIRONNEMENT</td>\n",
       "      <td>...</td>\n",
       "      <td>12606</td>\n",
       "      <td>IRIS____0000000352380605</td>\n",
       "      <td>35238</td>\n",
       "      <td>Rennes</td>\n",
       "      <td>0605</td>\n",
       "      <td>352380605</td>\n",
       "      <td>Rennes</td>\n",
       "      <td>H</td>\n",
       "      <td>Campus de Beaulieu</td>\n",
       "      <td>Rennes</td>\n",
       "    </tr>\n",
       "    <tr>\n",
       "      <th>820</th>\n",
       "      <td>2021</td>\n",
       "      <td>Écoles d'ingénieurs</td>\n",
       "      <td>Public</td>\n",
       "      <td>0350097R</td>\n",
       "      <td>INSA RENNES</td>\n",
       "      <td>INST NAT SC APPLIQ RENNES</td>\n",
       "      <td>NaN</td>\n",
       "      <td>0350097R</td>\n",
       "      <td>INSA RENNES</td>\n",
       "      <td>INST NAT SC APPLIQ RENNES</td>\n",
       "      <td>...</td>\n",
       "      <td>12606</td>\n",
       "      <td>IRIS____0000000352380605</td>\n",
       "      <td>35238</td>\n",
       "      <td>Rennes</td>\n",
       "      <td>0605</td>\n",
       "      <td>352380605</td>\n",
       "      <td>Rennes</td>\n",
       "      <td>H</td>\n",
       "      <td>Campus de Beaulieu</td>\n",
       "      <td>Rennes</td>\n",
       "    </tr>\n",
       "    <tr>\n",
       "      <th>878</th>\n",
       "      <td>2019</td>\n",
       "      <td>Universités</td>\n",
       "      <td>Public</td>\n",
       "      <td>0290346U</td>\n",
       "      <td>U BREST</td>\n",
       "      <td>UNIVERSITE  BREST</td>\n",
       "      <td>BRETAGNE OCCIDENTALE</td>\n",
       "      <td>0352076S</td>\n",
       "      <td>UFR SC VIE ENV</td>\n",
       "      <td>UFR SCIENCES VIE ENVIRONNEMENT</td>\n",
       "      <td>...</td>\n",
       "      <td>12606</td>\n",
       "      <td>IRIS____0000000352380605</td>\n",
       "      <td>35238</td>\n",
       "      <td>Rennes</td>\n",
       "      <td>0605</td>\n",
       "      <td>352380605</td>\n",
       "      <td>Rennes</td>\n",
       "      <td>H</td>\n",
       "      <td>Campus de Beaulieu</td>\n",
       "      <td>Rennes</td>\n",
       "    </tr>\n",
       "    <tr>\n",
       "      <th>1196</th>\n",
       "      <td>2015</td>\n",
       "      <td>Universités</td>\n",
       "      <td>Public</td>\n",
       "      <td>0350936C</td>\n",
       "      <td>U RENNES 1</td>\n",
       "      <td>UNIVERSITE RENNES 1</td>\n",
       "      <td>UNIVERSITE RENNES 1</td>\n",
       "      <td>0350075S</td>\n",
       "      <td>IG RENNES 1</td>\n",
       "      <td>INSTITUT DE GESTION RENNES 1</td>\n",
       "      <td>...</td>\n",
       "      <td>9919</td>\n",
       "      <td>IRIS____0000000352380203</td>\n",
       "      <td>35238</td>\n",
       "      <td>Rennes</td>\n",
       "      <td>0203</td>\n",
       "      <td>352380203</td>\n",
       "      <td>Rennes</td>\n",
       "      <td>H</td>\n",
       "      <td>Jean Macé</td>\n",
       "      <td>Rennes</td>\n",
       "    </tr>\n",
       "  </tbody>\n",
       "</table>\n",
       "<p>5 rows × 40 columns</p>\n",
       "</div>"
      ],
      "text/plain": [
       "      Rentrée universitaire catégorie d'établissement secteur d'établissement  \\\n",
       "322                    2022                    Lycées                   Privé   \n",
       "583                    2023               Universités                  Public   \n",
       "820                    2021       Écoles d'ingénieurs                  Public   \n",
       "878                    2019               Universités                  Public   \n",
       "1196                   2015               Universités                  Public   \n",
       "\n",
       "     code UAI de l'établissement sigle de l'établissement  \\\n",
       "322                     0352267Z                   ECP PR   \n",
       "583                     0353074B                 UR (EPE)   \n",
       "820                     0350097R              INSA RENNES   \n",
       "878                     0290346U                  U BREST   \n",
       "1196                    0350936C               U RENNES 1   \n",
       "\n",
       "        libellé de l'établissement libellé complémentaire de l'établissement  \\\n",
       "322   ECOLE PRIVEE COIF ESTHETIQUE            L'ACADEMY - SILVYA TERRADE REN   \n",
       "583                     UNIVERSITE                           DE RENNES (EPE)   \n",
       "820      INST NAT SC APPLIQ RENNES                                       NaN   \n",
       "878              UNIVERSITE  BREST                      BRETAGNE OCCIDENTALE   \n",
       "1196           UNIVERSITE RENNES 1                       UNIVERSITE RENNES 1   \n",
       "\n",
       "     Code UAI de la composante sigle de la composante  \\\n",
       "322                   0352267Z                 ECP PR   \n",
       "583                   0352076S         UFR SC VIE ENV   \n",
       "820                   0350097R            INSA RENNES   \n",
       "878                   0352076S         UFR SC VIE ENV   \n",
       "1196                  0350075S            IG RENNES 1   \n",
       "\n",
       "            libellé de la composante  ... index_right  \\\n",
       "322     ECOLE PRIVEE COIF ESTHETIQUE  ...       10225   \n",
       "583   UFR SCIENCES VIE ENVIRONNEMENT  ...       12606   \n",
       "820        INST NAT SC APPLIQ RENNES  ...       12606   \n",
       "878   UFR SCIENCES VIE ENVIRONNEMENT  ...       12606   \n",
       "1196    INSTITUT DE GESTION RENNES 1  ...        9919   \n",
       "\n",
       "                        cleabs code_insee nom_commune  iris  code_iris  \\\n",
       "322   IRIS____0000000352380207      35238      Rennes  0207  352380207   \n",
       "583   IRIS____0000000352380605      35238      Rennes  0605  352380605   \n",
       "820   IRIS____0000000352380605      35238      Rennes  0605  352380605   \n",
       "878   IRIS____0000000352380605      35238      Rennes  0605  352380605   \n",
       "1196  IRIS____0000000352380203      35238      Rennes  0203  352380203   \n",
       "\n",
       "     nom_iris type_iris            LIB_IRIS  LIBCOM  \n",
       "322    Rennes         H        Saint-Hélier  Rennes  \n",
       "583    Rennes         H  Campus de Beaulieu  Rennes  \n",
       "820    Rennes         H  Campus de Beaulieu  Rennes  \n",
       "878    Rennes         H  Campus de Beaulieu  Rennes  \n",
       "1196   Rennes         H           Jean Macé  Rennes  \n",
       "\n",
       "[5 rows x 40 columns]"
      ]
     },
     "execution_count": 36,
     "metadata": {},
     "output_type": "execute_result"
    }
   ],
   "source": [
    "# spatial join : chaque établissement rattaché à un IRIS\n",
    "etabs_par_iris_rennes = gpd.sjoin(df_rennes, iris_rennes, how=\"inner\", predicate=\"within\")\n",
    "etabs_par_iris_rennes.head()"
   ]
  },
  {
   "cell_type": "code",
   "execution_count": 37,
   "id": "422e76a1",
   "metadata": {},
   "outputs": [],
   "source": [
    "iris_rennes_stats = iris_rennes.copy()\n",
    "\n",
    "# Nombre d'établissements\n",
    "iris_rennes_stats = iris_rennes_stats.merge(\n",
    "    etabs_par_iris_rennes.groupby('LIB_IRIS').size().reset_index(name='nb_etabs'),\n",
    "    on='LIB_IRIS', how='left'\n",
    ").fillna({'nb_etabs':0})\n",
    "iris_rennes_stats['nb_etabs'] = iris_rennes_stats['nb_etabs'].astype(int)\n",
    "\n",
    "# Nombre total d'étudiants\n",
    "iris_rennes_stats = iris_rennes_stats.merge(\n",
    "    etabs_par_iris_rennes.groupby('LIB_IRIS')['nombre total d’étudiants inscrits hors doubles inscriptions université/CPGE'].sum().reset_index(name='nb_etudiants'),\n",
    "    on='LIB_IRIS', how='left'\n",
    ").fillna({'nb_etudiants':0})\n",
    "iris_rennes_stats['nb_etudiants'] = iris_rennes_stats['nb_etudiants'].astype(int)\n"
   ]
  },
  {
   "cell_type": "code",
   "execution_count": 38,
   "id": "08e37962",
   "metadata": {},
   "outputs": [],
   "source": [
    "iris_rennes_stats = iris_rennes_stats.to_crs(epsg=2154)  # crs projetée pour calculer surface en m²\n",
    "iris_rennes_stats['area_km2'] = iris_rennes_stats.geometry.area / 1e6\n",
    "iris_rennes_stats['etabs_per_km2'] = iris_rennes_stats['nb_etabs'] / iris_rennes_stats['area_km2']\n",
    "iris_rennes_stats['students_per_km2'] = iris_rennes_stats['nb_etudiants'] / iris_rennes_stats['area_km2']\n"
   ]
  },
  {
   "cell_type": "code",
   "execution_count": 43,
   "id": "cea54c43",
   "metadata": {},
   "outputs": [
    {
     "name": "stderr",
     "output_type": "stream",
     "text": [
      "/var/folders/v0/_lflz19n6hv63x17d4_zjfjm0000gn/T/ipykernel_96163/3236287937.py:6: DeprecationWarning:\n",
      "\n",
      "*choropleth_mapbox* is deprecated! Use *choropleth_map* instead. Learn more at: https://plotly.com/python/mapbox-to-maplibre/\n",
      "\n"
     ]
    },
    {
     "data": {
      "application/vnd.plotly.v1+json": {
       "config": {
        "plotlyServerURL": "https://plot.ly"
       },
       "data": [
        {
         "coloraxis": "coloraxis",
         "customdata": {
          "bdata": "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",
          "dtype": "f8",
          "shape": "146, 3"
         },
         "geojson": {
          "bbox": [
           -1.751608538135019,
           42.89683087343789,
           6.079864746284641,
           50.057764332211576
          ],
          "features": [
           {
            "bbox": [
             -1.739537691168159,
             48.09954293137341,
             -1.7171028959510943,
             48.1118318352189
            ],
            "geometry": {
             "coordinates": [
              [
               [
                [
                 -1.718580463797352,
                 48.1118318352189
                ],
                [
                 -1.7171028959510943,
                 48.1053707994741
                ],
                [
                 -1.7228506042066927,
                 48.10193030493167
                ],
                [
                 -1.7309191284760927,
                 48.09954293137341
                ],
                [
                 -1.739537691168159,
                 48.10137427770292
                ],
                [
                 -1.7341163065891785,
                 48.10383343419075
                ],
                [
                 -1.7349194694822223,
                 48.105256113136896
                ],
                [
                 -1.7284217981152423,
                 48.110870096970885
                ],
                [
                 -1.718580463797352,
                 48.1118318352189
                ]
               ]
              ]
             ],
             "type": "MultiPolygon"
            },
            "id": "0",
            "properties": {
             "LIBCOM": "Rennes",
             "LIB_IRIS": "Z.A. Ouest",
             "area_km2": 1.2936428149996235,
             "cleabs": "IRIS____0000000352380308",
             "code_insee": "35238",
             "code_iris": "352380308",
             "etabs_per_km2": 0,
             "iris": "0308",
             "nb_etabs": 0,
             "nb_etudiants": 0,
             "nom_commune": "Rennes",
             "nom_iris": "Rennes",
             "students_per_km2": 0,
             "type_iris": "A"
            },
            "type": "Feature"
           },
           {
            "bbox": [
             -1.691283372616352,
             48.12782628282409,
             -1.6798659569123802,
             48.13508848599139
            ],
            "geometry": {
             "coordinates": [
              [
               [
                [
                 -1.6799675803977145,
                 48.1346388617028
                ],
                [
                 -1.6805984483752034,
                 48.13179056782891
                ],
                [
                 -1.6798659569123802,
                 48.12922358487049
                ],
                [
                 -1.6834071690308479,
                 48.12782628282409
                ],
                [
                 -1.6882135401701543,
                 48.12909451496909
                ],
                [
                 -1.6883084767371372,
                 48.129162850872156
                ],
                [
                 -1.691283372616352,
                 48.1333054593066
                ],
                [
                 -1.683057582522297,
                 48.13508848599139
                ],
                [
                 -1.6799675803977145,
                 48.1346388617028
                ]
               ]
              ]
             ],
             "type": "MultiPolygon"
            },
            "id": "1",
            "properties": {
             "LIBCOM": "Rennes",
             "LIB_IRIS": "Z.A. Nord",
             "area_km2": 0.47067563499950893,
             "cleabs": "IRIS____0000000352380403",
             "code_insee": "35238",
             "code_iris": "352380403",
             "etabs_per_km2": 25.495264907886128,
             "iris": "0403",
             "nb_etabs": 12,
             "nb_etudiants": 1499,
             "nom_commune": "Rennes",
             "nom_iris": "Rennes",
             "students_per_km2": 3184.7835080767754,
             "type_iris": "A"
            },
            "type": "Feature"
           },
           {
            "bbox": [
             -1.6520868348812405,
             48.10600257557848,
             -1.6340419620384834,
             48.11404966114549
            ],
            "geometry": {
             "coordinates": [
              [
               [
                [
                 -1.6340419620384834,
                 48.1078411601206
                ],
                [
                 -1.6396144422643855,
                 48.106497700831106
                ],
                [
                 -1.6451895226148265,
                 48.10628873644695
                ],
                [
                 -1.6507268305937242,
                 48.10600257557848
                ],
                [
                 -1.6520868348812405,
                 48.11035044962429
                ],
                [
                 -1.6461035754264262,
                 48.111723316864186
                ],
                [
                 -1.6414760667125745,
                 48.11273506799522
                ],
                [
                 -1.6408716833999408,
                 48.113929804604346
                ],
                [
                 -1.6361804161821398,
                 48.11404966114549
                ],
                [
                 -1.6348433667791649,
                 48.11188214297869
                ],
                [
                 -1.6340419620384834,
                 48.1078411601206
                ]
               ]
              ]
             ],
             "type": "MultiPolygon"
            },
            "id": "2",
            "properties": {
             "LIBCOM": "Rennes",
             "LIB_IRIS": "Plaine de Baud",
             "area_km2": 0.8337816350008376,
             "cleabs": "IRIS____0000000352380607",
             "code_insee": "35238",
             "code_iris": "352380607",
             "etabs_per_km2": 0,
             "iris": "0607",
             "nb_etabs": 0,
             "nb_etudiants": 0,
             "nom_commune": "Rennes",
             "nom_iris": "Rennes",
             "students_per_km2": 0,
             "type_iris": "A"
            },
            "type": "Feature"
           },
           {
            "bbox": [
             -1.6451895226148265,
             48.092143459854604,
             -1.624534000085209,
             48.1078411601206
            ],
            "geometry": {
             "coordinates": [
              [
               [
                [
                 -1.6451895226148265,
                 48.10628873644695
                ],
                [
                 -1.6396144422643855,
                 48.106497700831106
                ],
                [
                 -1.6340419620384834,
                 48.1078411601206
                ],
                [
                 -1.6343519465851801,
                 48.105468193716796
                ],
                [
                 -1.6332231639621289,
                 48.10381527256384
                ],
                [
                 -1.632803663555821,
                 48.10282220771987
                ],
                [
                 -1.624534000085209,
                 48.099932888158826
                ],
                [
                 -1.6268453241295282,
                 48.092520001209614
                ],
                [
                 -1.628490184900868,
                 48.092143459854604
                ],
                [
                 -1.6375712938163909,
                 48.095167278329015
                ],
                [
                 -1.6361095435783313,
                 48.098290534514824
                ],
                [
                 -1.6338874453743828,
                 48.09925237083636
                ],
                [
                 -1.6348339175233044,
                 48.10094491439595
                ],
                [
                 -1.6363466976498067,
                 48.1030784764761
                ],
                [
                 -1.6450593679282948,
                 48.105757532586665
                ],
                [
                 -1.6451895226148265,
                 48.10628873644695
                ]
               ]
              ]
             ],
             "type": "MultiPolygon"
            },
            "id": "3",
            "properties": {
             "LIBCOM": "Rennes",
             "LIB_IRIS": "Z.A. Sud Est",
             "area_km2": 0.997494774999623,
             "cleabs": "IRIS____0000000352380704",
             "code_insee": "35238",
             "code_iris": "352380704",
             "etabs_per_km2": 22.05525337213753,
             "iris": "0704",
             "nb_etabs": 22,
             "nb_etudiants": 1354,
             "nom_commune": "Rennes",
             "nom_iris": "Rennes",
             "students_per_km2": 1357.4005939033732,
             "type_iris": "A"
            },
            "type": "Feature"
           },
           {
            "bbox": [
             -1.7312040420029553,
             48.11075681985546,
             -1.7023669837932718,
             48.117015672333046
            ],
            "geometry": {
             "coordinates": [
              [
               [
                [
                 -1.7284217981152423,
                 48.110870096970885
                ],
                [
                 -1.7312040420029553,
                 48.115046611796096
                ],
                [
                 -1.7281572109944663,
                 48.11683125640174
                ],
                [
                 -1.7258757099394395,
                 48.117015672333046
                ],
                [
                 -1.7196461130524496,
                 48.116135043310145
                ],
                [
                 -1.7096513235105892,
                 48.11642965797766
                ],
                [
                 -1.7023669837932718,
                 48.11204402692355
                ],
                [
                 -1.70432933241385,
                 48.11075681985546
                ],
                [
                 -1.7099143602117943,
                 48.11242032069111
                ],
                [
                 -1.718580463797352,
                 48.1118318352189
                ],
                [
                 -1.7284217981152423,
                 48.110870096970885
                ]
               ]
              ]
             ],
             "type": "MultiPolygon"
            },
            "id": "4",
            "properties": {
             "LIBCOM": "Rennes",
             "LIB_IRIS": "Champeaux",
             "area_km2": 0.9670790549982806,
             "cleabs": "IRIS____0000000352380307",
             "code_insee": "35238",
             "code_iris": "352380307",
             "etabs_per_km2": 25.851040688751603,
             "iris": "0307",
             "nb_etabs": 25,
             "nb_etudiants": 8621,
             "nom_commune": "Rennes",
             "nom_iris": "Rennes",
             "students_per_km2": 8914.472871109103,
             "type_iris": "D"
            },
            "type": "Feature"
           },
           {
            "bbox": [
             -1.652688499831689,
             48.12773136601121,
             -1.624732404685474,
             48.15498869445393
            ],
            "geometry": {
             "coordinates": [
              [
               [
                [
                 -1.6522003654055155,
                 48.12773136601121
                ],
                [
                 -1.6519785420863984,
                 48.1322588354653
                ],
                [
                 -1.652688499831689,
                 48.138359390660305
                ],
                [
                 -1.6514321199790918,
                 48.14048489838881
                ],
                [
                 -1.642631177448135,
                 48.14504863911642
                ],
                [
                 -1.6405268736753496,
                 48.14731015501871
                ],
                [
                 -1.639619115015647,
                 48.15124886228794
                ],
                [
                 -1.624732404685474,
                 48.15498869445393
                ],
                [
                 -1.6248531454136694,
                 48.14588284712017
                ],
                [
                 -1.6317753083038669,
                 48.14073274939024
                ],
                [
                 -1.6366822998656034,
                 48.135590281196414
                ],
                [
                 -1.6347987147407457,
                 48.13218864834114
                ],
                [
                 -1.6485303068031276,
                 48.128178203439795
                ],
                [
                 -1.6522003654055155,
                 48.12773136601121
                ]
               ]
              ]
             ],
             "type": "MultiPolygon"
            },
            "id": "5",
            "properties": {
             "LIBCOM": "Rennes",
             "LIB_IRIS": "Les Gayeulles",
             "area_km2": 3.255336994999412,
             "cleabs": "IRIS____0000000352380510",
             "code_insee": "35238",
             "code_iris": "352380510",
             "etabs_per_km2": 0,
             "iris": "0510",
             "nb_etabs": 0,
             "nb_etudiants": 0,
             "nom_commune": "Rennes",
             "nom_iris": "Rennes",
             "students_per_km2": 0,
             "type_iris": "D"
            },
            "type": "Feature"
           },
           {
            "bbox": [
             -1.751608538135019,
             48.080737713292706,
             -1.7107415116606923,
             48.1053707994741
            ],
            "geometry": {
             "coordinates": [
              [
               [
                [
                 -1.743263381920001,
                 48.09957995240828
                ],
                [
                 -1.7421149324958154,
                 48.09931971065998
                ],
                [
                 -1.7421320992962728,
                 48.10032056109813
                ],
                [
                 -1.739537691168159,
                 48.10137427770292
                ],
                [
                 -1.7309191284760927,
                 48.09954293137341
                ],
                [
                 -1.7228506042066927,
                 48.10193030493167
                ],
                [
                 -1.7171028959510943,
                 48.1053707994741
                ],
                [
                 -1.7149455728103453,
                 48.09986906408498
                ],
                [
                 -1.7107415116606923,
                 48.094784544331816
                ],
                [
                 -1.7197002577813112,
                 48.09111735372929
                ],
                [
                 -1.7254375313708632,
                 48.08663134037139
                ],
                [
                 -1.7400937358771844,
                 48.080737713292706
                ],
                [
                 -1.751608538135019,
                 48.08178701221805
                ],
                [
                 -1.750746576011974,
                 48.08357250857139
                ],
                [
                 -1.7508243247972388,
                 48.0923390734433
                ],
                [
                 -1.743263381920001,
                 48.09957995240828
                ]
               ]
              ]
             ],
             "type": "MultiPolygon"
            },
            "id": "6",
            "properties": {
             "LIBCOM": "Rennes",
             "LIB_IRIS": "La Prévalaye",
             "area_km2": 4.667744824998911,
             "cleabs": "IRIS____0000000352380905",
             "code_insee": "35238",
             "code_iris": "352380905",
             "etabs_per_km2": 0,
             "iris": "0905",
             "nb_etabs": 0,
             "nb_etudiants": 0,
             "nom_commune": "Rennes",
             "nom_iris": "Rennes",
             "students_per_km2": 0,
             "type_iris": "D"
            },
            "type": "Feature"
           },
           {
            "bbox": [
             -1.7398665480806002,
             48.119563290156485,
             -1.6988220062579975,
             48.144206383430515
            ],
            "geometry": {
             "coordinates": [
              [
               [
                [
                 -1.7398665480806002,
                 48.1313338944494
                ],
                [
                 -1.725103151168454,
                 48.144206383430515
                ],
                [
                 -1.71935070400651,
                 48.142597063500354
                ],
                [
                 -1.7073644337642582,
                 48.144116731595005
                ],
                [
                 -1.7024632258848318,
                 48.14377065440843
                ],
                [
                 -1.6988220062579975,
                 48.13901305697342
                ],
                [
                 -1.704719555022326,
                 48.135749830635675
                ],
                [
                 -1.7163677235532244,
                 48.12488871631062
                ],
                [
                 -1.719424824270178,
                 48.121914096819545
                ],
                [
                 -1.720027894123501,
                 48.119563290156485
                ],
                [
                 -1.7243914348529585,
                 48.12078470240319
                ],
                [
                 -1.7240985803825952,
                 48.12152932904889
                ],
                [
                 -1.7322104111617054,
                 48.12731469086967
                ],
                [
                 -1.7398665480806002,
                 48.1313338944494
                ]
               ]
              ]
             ],
             "type": "MultiPolygon"
            },
            "id": "7",
            "properties": {
             "LIBCOM": "Rennes",
             "LIB_IRIS": "La Lande du Breil",
             "area_km2": 4.389421224998499,
             "cleabs": "IRIS____0000000352381008",
             "code_insee": "35238",
             "code_iris": "352381008",
             "etabs_per_km2": 2.7338456222105005,
             "iris": "1008",
             "nb_etabs": 12,
             "nb_etudiants": 1070,
             "nom_commune": "Rennes",
             "nom_iris": "Rennes",
             "students_per_km2": 243.76790131376964,
             "type_iris": "D"
            },
            "type": "Feature"
           },
           {
            "bbox": [
             3.1065668882311814,
             47.00429331457786,
             3.183043511965679,
             47.07819849617098
            ],
            "geometry": {
             "coordinates": [
              [
               [
                [
                 3.1723157701554854,
                 47.07080159408104
                ],
                [
                 3.165963201281359,
                 47.05591325841832
                ],
                [
                 3.1680042493644405,
                 47.05477589940569
                ],
                [
                 3.1756686651952957,
                 47.05518135087019
                ],
                [
                 3.1825689601140663,
                 47.053983124261386
                ],
                [
                 3.183043511965679,
                 47.04824819429249
                ],
                [
                 3.17541804107304,
                 47.03724990428343
                ],
                [
                 3.17632433984726,
                 47.03450341544514
                ],
                [
                 3.179488504136792,
                 47.03204603774896
                ],
                [
                 3.175397287069002,
                 47.023971833278274
                ],
                [
                 3.1705936202177343,
                 47.024176203187125
                ],
                [
                 3.1495669193602773,
                 47.02547392279311
                ],
                [
                 3.146033334508686,
                 47.027043224376065
                ],
                [
                 3.1449468643311502,
                 47.02598580168087
                ],
                [
                 3.146733652935505,
                 47.02165564059552
                ],
                [
                 3.1458240805844304,
                 47.02171711529535
                ],
                [
                 3.1357680095378386,
                 47.01429620938188
                ],
                [
                 3.127788260921367,
                 47.01044737461446
                ],
                [
                 3.1250004753863716,
                 47.01048824105662
                ],
                [
                 3.124758680442815,
                 47.006102956640284
                ],
                [
                 3.1230448485664777,
                 47.00429331457786
                ],
                [
                 3.1113820572171327,
                 47.00720874914823
                ],
                [
                 3.1100806912756944,
                 47.008029304944564
                ],
                [
                 3.1085232960051563,
                 47.009186812988794
                ],
                [
                 3.1065668882311814,
                 47.018959080972714
                ],
                [
                 3.119043351839263,
                 47.025582350827904
                ],
                [
                 3.121383804413228,
                 47.03002395357974
                ],
                [
                 3.123565404092892,
                 47.04083910320027
                ],
                [
                 3.1085624836525967,
                 47.06142570111909
                ],
                [
                 3.1096851826910368,
                 47.06086103941822
                ],
                [
                 3.1274197746350745,
                 47.06013429058481
                ],
                [
                 3.1316431348245226,
                 47.06100196859882
                ],
                [
                 3.1256278714776498,
                 47.071402865620215
                ],
                [
                 3.131111847585278,
                 47.07442184492184
                ],
                [
                 3.1455563489493135,
                 47.07819849617098
                ],
                [
                 3.1566270699662304,
                 47.07368693594201
                ],
                [
                 3.1723157701554854,
                 47.07080159408104
                ]
               ]
              ]
             ],
             "type": "MultiPolygon"
            },
            "id": "8",
            "properties": {
             "LIBCOM": "Varennes-Vauzelles",
             "LIB_IRIS": "Bourg",
             "area_km2": 26.85284073000091,
             "cleabs": "IRIS____0000000583030101",
             "code_insee": "58303",
             "code_iris": "583030101",
             "etabs_per_km2": 0,
             "iris": "0101",
             "nb_etabs": 0,
             "nb_etudiants": 0,
             "nom_commune": "Varennes-Vauzelles",
             "nom_iris": "Varennes-Vauzelles",
             "students_per_km2": 0,
             "type_iris": "H"
            },
            "type": "Feature"
           },
           {
            "bbox": [
             -1.6871980720421924,
             48.10976453109969,
             -1.6791884000658683,
             48.1149990235126
            ],
            "geometry": {
             "coordinates": [
              [
               [
                [
                 -1.6811532348133271,
                 48.11481097297575
                ],
                [
                 -1.6791884000658683,
                 48.1149990235126
                ],
                [
                 -1.67937137301067,
                 48.113721644449996
                ],
                [
                 -1.6792101912067832,
                 48.10986633180403
                ],
                [
                 -1.684582472061626,
                 48.10976453109969
                ],
                [
                 -1.686234218519589,
                 48.110252295716485
                ],
                [
                 -1.6871980720421924,
                 48.112255684808545
                ],
                [
                 -1.6815504534086316,
                 48.11361251131995
                ],
                [
                 -1.6811532348133271,
                 48.11481097297575
                ]
               ]
              ]
             ],
             "type": "MultiPolygon"
            },
            "id": "9",
            "properties": {
             "LIBCOM": "Rennes",
             "LIB_IRIS": "Cathédrale",
             "area_km2": 0.22447558000022005,
             "cleabs": "IRIS____0000000352380101",
             "code_insee": "35238",
             "code_iris": "352380101",
             "etabs_per_km2": 0,
             "iris": "0101",
             "nb_etabs": 0,
             "nb_etudiants": 0,
             "nom_commune": "Rennes",
             "nom_iris": "Rennes",
             "students_per_km2": 0,
             "type_iris": "H"
            },
            "type": "Feature"
           },
           {
            "bbox": [
             -1.67937137301067,
             48.112408039804656,
             -1.6741478995085335,
             48.117267676841415
            ],
            "geometry": {
             "coordinates": [
              [
               [
                [
                 -1.6791884000658683,
                 48.1149990235126
                ],
                [
                 -1.6777645570867288,
                 48.117267676841415
                ],
                [
                 -1.6741478995085335,
                 48.11648279128494
                ],
                [
                 -1.6744159914348307,
                 48.114857704782224
                ],
                [
                 -1.6752006601596132,
                 48.112408039804656
                ],
                [
                 -1.6773196610299992,
                 48.11242666613385
                ],
                [
                 -1.6773232095051491,
                 48.113637139956786
                ],
                [
                 -1.67937137301067,
                 48.113721644449996
                ],
                [
                 -1.6791884000658683,
                 48.1149990235126
                ]
               ]
              ]
             ],
             "type": "MultiPolygon"
            },
            "id": "10",
            "properties": {
             "LIBCOM": "Rennes",
             "LIB_IRIS": "Hoche",
             "area_km2": 0.14353805500013495,
             "cleabs": "IRIS____0000000352380102",
             "code_insee": "35238",
             "code_iris": "352380102",
             "etabs_per_km2": 313.5057110809931,
             "iris": "0102",
             "nb_etabs": 45,
             "nb_etudiants": 25757,
             "nom_commune": "Rennes",
             "nom_iris": "Rennes",
             "students_per_km2": 179443.70222918087,
             "type_iris": "H"
            },
            "type": "Feature"
           },
           {
            "bbox": [
             3.1449468643311502,
             47.006709070748215,
             3.1705936202177343,
             47.027043224376065
            ],
            "geometry": {
             "coordinates": [
              [
               [
                [
                 3.1566293132056162,
                 47.00683029988487
                ],
                [
                 3.1530370810449773,
                 47.006709070748215
                ],
                [
                 3.149041860087409,
                 47.01603639269573
                ],
                [
                 3.146733652935505,
                 47.02165564059552
                ],
                [
                 3.1449468643311502,
                 47.02598580168087
                ],
                [
                 3.146033334508686,
                 47.027043224376065
                ],
                [
                 3.1495669193602773,
                 47.02547392279311
                ],
                [
                 3.1705936202177343,
                 47.024176203187125
                ],
                [
                 3.1654871118540515,
                 47.01622377034598
                ],
                [
                 3.158779848884658,
                 47.011266030112644
                ],
                [
                 3.1566293132056162,
                 47.00683029988487
                ]
               ]
              ]
             ],
             "type": "MultiPolygon"
            },
            "id": "11",
            "properties": {
             "LIBCOM": "Varennes-Vauzelles",
             "LIB_IRIS": "Veninges",
             "area_km2": 2.303017184999727,
             "cleabs": "IRIS____0000000583030102",
             "code_insee": "58303",
             "code_iris": "583030102",
             "etabs_per_km2": 0,
             "iris": "0102",
             "nb_etabs": 0,
             "nb_etudiants": 0,
             "nom_commune": "Varennes-Vauzelles",
             "nom_iris": "Varennes-Vauzelles",
             "students_per_km2": 0,
             "type_iris": "H"
            },
            "type": "Feature"
           },
           {
            "bbox": [
             3.127788260921367,
             47.01044737461446,
             3.149041860087409,
             47.02171711529535
            ],
            "geometry": {
             "coordinates": [
              [
               [
                [
                 3.146733652935505,
                 47.02165564059552
                ],
                [
                 3.149041860087409,
                 47.01603639269573
                ],
                [
                 3.1447261875633097,
                 47.016356100483264
                ],
                [
                 3.1439939869406004,
                 47.01625527803794
                ],
                [
                 3.144413213275313,
                 47.01549667144712
                ],
                [
                 3.1376688168422135,
                 47.012732774691365
                ],
                [
                 3.127788260921367,
                 47.01044737461446
                ],
                [
                 3.1357680095378386,
                 47.01429620938188
                ],
                [
                 3.1458240805844304,
                 47.02171711529535
                ],
                [
                 3.146733652935505,
                 47.02165564059552
                ]
               ]
              ]
             ],
             "type": "MultiPolygon"
            },
            "id": "12",
            "properties": {
             "LIBCOM": "Varennes-Vauzelles",
             "LIB_IRIS": "Henri Choquet",
             "area_km2": 0.49050271499821874,
             "cleabs": "IRIS____0000000583030103",
             "code_insee": "58303",
             "code_iris": "583030103",
             "etabs_per_km2": 0,
             "iris": "0103",
             "nb_etabs": 0,
             "nb_etudiants": 0,
             "nom_commune": "Varennes-Vauzelles",
             "nom_iris": "Varennes-Vauzelles",
             "students_per_km2": 0,
             "type_iris": "H"
            },
            "type": "Feature"
           },
           {
            "bbox": [
             -1.67937137301067,
             48.10986633180403,
             -1.674097422845544,
             48.113721644449996
            ],
            "geometry": {
             "coordinates": [
              [
               [
                [
                 -1.6792101912067832,
                 48.10986633180403
                ],
                [
                 -1.67937137301067,
                 48.113721644449996
                ],
                [
                 -1.6773232095051491,
                 48.113637139956786
                ],
                [
                 -1.6773196610299992,
                 48.11242666613385
                ],
                [
                 -1.6752006601596132,
                 48.112408039804656
                ],
                [
                 -1.674097422845544,
                 48.10988907903887
                ],
                [
                 -1.6792101912067832,
                 48.10986633180403
                ]
               ]
              ]
             ],
             "type": "MultiPolygon"
            },
            "id": "13",
            "properties": {
             "LIBCOM": "Rennes",
             "LIB_IRIS": "Parlement",
             "area_km2": 0.1180406650001977,
             "cleabs": "IRIS____0000000352380103",
             "code_insee": "35238",
             "code_iris": "352380103",
             "etabs_per_km2": 0,
             "iris": "0103",
             "nb_etabs": 0,
             "nb_etudiants": 0,
             "nom_commune": "Rennes",
             "nom_iris": "Rennes",
             "students_per_km2": 0,
             "type_iris": "H"
            },
            "type": "Feature"
           },
           {
            "bbox": [
             3.1396436072835483,
             47.004805238589185,
             3.1530370810449773,
             47.016356100483264
            ],
            "geometry": {
             "coordinates": [
              [
               [
                [
                 3.144413213275313,
                 47.01549667144712
                ],
                [
                 3.1439939869406004,
                 47.01625527803794
                ],
                [
                 3.1447261875633097,
                 47.016356100483264
                ],
                [
                 3.149041860087409,
                 47.01603639269573
                ],
                [
                 3.1530370810449773,
                 47.006709070748215
                ],
                [
                 3.1488214107081025,
                 47.00626171225166
                ],
                [
                 3.1457836890607074,
                 47.004805238589185
                ],
                [
                 3.1396436072835483,
                 47.00622546190751
                ],
                [
                 3.1441890707239333,
                 47.01191271116793
                ],
                [
                 3.145019879642945,
                 47.0144434178136
                ],
                [
                 3.144413213275313,
                 47.01549667144712
                ]
               ]
              ]
             ],
             "type": "MultiPolygon"
            },
            "id": "14",
            "properties": {
             "LIBCOM": "Varennes-Vauzelles",
             "LIB_IRIS": "Crot Cizeau",
             "area_km2": 0.7231131600001305,
             "cleabs": "IRIS____0000000583030104",
             "code_insee": "58303",
             "code_iris": "583030104",
             "etabs_per_km2": 0,
             "iris": "0104",
             "nb_etabs": 0,
             "nb_etudiants": 0,
             "nom_commune": "Varennes-Vauzelles",
             "nom_iris": "Varennes-Vauzelles",
             "students_per_km2": 0,
             "type_iris": "H"
            },
            "type": "Feature"
           },
           {
            "bbox": [
             -1.684582472061626,
             48.10736437341168,
             -1.6734233307805717,
             48.10988907903887
            ],
            "geometry": {
             "coordinates": [
              [
               [
                [
                 -1.6792101912067832,
                 48.10986633180403
                ],
                [
                 -1.674097422845544,
                 48.10988907903887
                ],
                [
                 -1.6738161007517531,
                 48.10885459050067
                ],
                [
                 -1.6734233307805717,
                 48.10748829186525
                ],
                [
                 -1.6801299114631452,
                 48.10736437341168
                ],
                [
                 -1.6845360914833716,
                 48.10848273550847
                ],
                [
                 -1.684582472061626,
                 48.10976453109969
                ],
                [
                 -1.6792101912067832,
                 48.10986633180403
                ]
               ]
              ]
             ],
             "type": "MultiPolygon"
            },
            "id": "15",
            "properties": {
             "LIBCOM": "Rennes",
             "LIB_IRIS": "Parcheminerie Toussaints",
             "area_km2": 0.19799616999977607,
             "cleabs": "IRIS____0000000352380104",
             "code_insee": "35238",
             "code_iris": "352380104",
             "etabs_per_km2": 121.21446591632123,
             "iris": "0104",
             "nb_etabs": 24,
             "nb_etudiants": 3860,
             "nom_commune": "Rennes",
             "nom_iris": "Rennes",
             "students_per_km2": 19495.326601541663,
             "type_iris": "H"
            },
            "type": "Feature"
           },
           {
            "bbox": [
             3.110367826870645,
             46.99599698195705,
             3.1457836890607074,
             47.01549667144712
            ],
            "geometry": {
             "coordinates": [
              [
               [
                [
                 3.127788260921367,
                 47.01044737461446
                ],
                [
                 3.1376688168422135,
                 47.012732774691365
                ],
                [
                 3.144413213275313,
                 47.01549667144712
                ],
                [
                 3.145019879642945,
                 47.0144434178136
                ],
                [
                 3.1441890707239333,
                 47.01191271116793
                ],
                [
                 3.1396436072835483,
                 47.00622546190751
                ],
                [
                 3.1457836890607074,
                 47.004805238589185
                ],
                [
                 3.1442215460798177,
                 47.00287777321073
                ],
                [
                 3.140574488916385,
                 46.99978330139052
                ],
                [
                 3.130155648409367,
                 46.99599698195705
                ],
                [
                 3.122780468152169,
                 46.99625805970042
                ],
                [
                 3.121681919582967,
                 46.99637176583515
                ],
                [
                 3.111957771759835,
                 46.99794189950064
                ],
                [
                 3.110367826870645,
                 47.00555039995851
                ],
                [
                 3.1113820572171327,
                 47.00720874914823
                ],
                [
                 3.1230448485664777,
                 47.00429331457786
                ],
                [
                 3.124758680442815,
                 47.006102956640284
                ],
                [
                 3.1250004753863716,
                 47.01048824105662
                ],
                [
                 3.127788260921367,
                 47.01044737461446
                ]
               ]
              ]
             ],
             "type": "MultiPolygon"
            },
            "id": "16",
            "properties": {
             "LIBCOM": "Varennes-Vauzelles",
             "LIB_IRIS": "La Cité",
             "area_km2": 3.229961019998903,
             "cleabs": "IRIS____0000000583030105",
             "code_insee": "58303",
             "code_iris": "583030105",
             "etabs_per_km2": 0,
             "iris": "0105",
             "nb_etabs": 0,
             "nb_etudiants": 0,
             "nom_commune": "Varennes-Vauzelles",
             "nom_iris": "Varennes-Vauzelles",
             "students_per_km2": 0,
             "type_iris": "H"
            },
            "type": "Feature"
           },
           {
            "bbox": [
             -1.6845360914833716,
             48.10288467322542,
             -1.672582285046044,
             48.10848273550847
            ],
            "geometry": {
             "coordinates": [
              [
               [
                [
                 -1.676602665813281,
                 48.10288467322542
                ],
                [
                 -1.6773986145368256,
                 48.104456705147115
                ],
                [
                 -1.6799497851028085,
                 48.10612124675892
                ],
                [
                 -1.6830351428993249,
                 48.10573266517498
                ],
                [
                 -1.6843969617394272,
                 48.10547207122139
                ],
                [
                 -1.6845360914833716,
                 48.10848273550847
                ],
                [
                 -1.6801299114631452,
                 48.10736437341168
                ],
                [
                 -1.6734233307805717,
                 48.10748829186525
                ],
                [
                 -1.672582285046044,
                 48.1044622236183
                ],
                [
                 -1.676602665813281,
                 48.10288467322542
                ]
               ]
              ]
             ],
             "type": "MultiPolygon"
            },
            "id": "17",
            "properties": {
             "LIBCOM": "Rennes",
             "LIB_IRIS": "Liberté Champ de Mars",
             "area_km2": 0.2619823699995734,
             "cleabs": "IRIS____0000000352380105",
             "code_insee": "35238",
             "code_iris": "352380105",
             "etabs_per_km2": 76.3410148554369,
             "iris": "0105",
             "nb_etabs": 20,
             "nb_etudiants": 1274,
             "nom_commune": "Rennes",
             "nom_iris": "Rennes",
             "students_per_km2": 4862.92264629133,
             "type_iris": "H"
            },
            "type": "Feature"
           },
           {
            "bbox": [
             -1.6843969617394272,
             48.10168633899426,
             -1.676602665813281,
             48.10573266517498
            ],
            "geometry": {
             "coordinates": [
              [
               [
                [
                 -1.6843667685300405,
                 48.10168633899426
                ],
                [
                 -1.6843969617394272,
                 48.10547207122139
                ],
                [
                 -1.6830351428993249,
                 48.10573266517498
                ],
                [
                 -1.6828459428765923,
                 48.10466117252174
                ],
                [
                 -1.6773986145368256,
                 48.104456705147115
                ],
                [
                 -1.676602665813281,
                 48.10288467322542
                ],
                [
                 -1.6766869895382523,
                 48.10275782809811
                ],
                [
                 -1.6812899902448448,
                 48.10213862703802
                ],
                [
                 -1.6843667685300405,
                 48.10168633899426
                ]
               ]
              ]
             ],
             "type": "MultiPolygon"
            },
            "id": "18",
            "properties": {
             "LIBCOM": "Rennes",
             "LIB_IRIS": "Colombier Sud et Ouest",
             "area_km2": 0.1560805350014621,
             "cleabs": "IRIS____0000000352380106",
             "code_insee": "35238",
             "code_iris": "352380106",
             "etabs_per_km2": 12.813897645733114,
             "iris": "0106",
             "nb_etabs": 2,
             "nb_etudiants": 201,
             "nom_commune": "Rennes",
             "nom_iris": "Rennes",
             "students_per_km2": 1287.796713396178,
             "type_iris": "H"
            },
            "type": "Feature"
           },
           {
            "bbox": [
             -1.6830351428993249,
             48.104456705147115,
             -1.6773986145368256,
             48.10612124675892
            ],
            "geometry": {
             "coordinates": [
              [
               [
                [
                 -1.6773986145368256,
                 48.104456705147115
                ],
                [
                 -1.6828459428765923,
                 48.10466117252174
                ],
                [
                 -1.6830351428993249,
                 48.10573266517498
                ],
                [
                 -1.6799497851028085,
                 48.10612124675892
                ],
                [
                 -1.6773986145368256,
                 48.104456705147115
                ]
               ]
              ]
             ],
             "type": "MultiPolygon"
            },
            "id": "19",
            "properties": {
             "LIBCOM": "Rennes",
             "LIB_IRIS": "Dalle du Colombier",
             "area_km2": 0.049319199999197226,
             "cleabs": "IRIS____0000000352380107",
             "code_insee": "35238",
             "code_iris": "352380107",
             "etabs_per_km2": 0,
             "iris": "0107",
             "nb_etabs": 0,
             "nb_etudiants": 0,
             "nom_commune": "Rennes",
             "nom_iris": "Rennes",
             "students_per_km2": 0,
             "type_iris": "H"
            },
            "type": "Feature"
           },
           {
            "bbox": [
             -1.6879698000291026,
             48.112255684808545,
             -1.6811532348133271,
             48.11548894446418
            ],
            "geometry": {
             "coordinates": [
              [
               [
                [
                 -1.6879698000291026,
                 48.115142004149455
                ],
                [
                 -1.6876102123811572,
                 48.11548894446418
                ],
                [
                 -1.6811532348133271,
                 48.11481097297575
                ],
                [
                 -1.6815504534086316,
                 48.11361251131995
                ],
                [
                 -1.6871980720421924,
                 48.112255684808545
                ],
                [
                 -1.6879698000291026,
                 48.115142004149455
                ]
               ]
              ]
             ],
             "type": "MultiPolygon"
            },
            "id": "20",
            "properties": {
             "LIBCOM": "Rennes",
             "LIB_IRIS": "Saint-Louis",
             "area_km2": 0.11633230999960155,
             "cleabs": "IRIS____0000000352380108",
             "code_insee": "35238",
             "code_iris": "352380108",
             "etabs_per_km2": 94.55670569971211,
             "iris": "0108",
             "nb_etabs": 11,
             "nb_etudiants": 439,
             "nom_commune": "Rennes",
             "nom_iris": "Rennes",
             "students_per_km2": 3773.672163833965,
             "type_iris": "H"
            },
            "type": "Feature"
           },
           {
            "bbox": [
             -1.6876102123811572,
             48.11481097297575,
             -1.6777645570867288,
             48.118008019556534
            ],
            "geometry": {
             "coordinates": [
              [
               [
                [
                 -1.6861483500563177,
                 48.118008019556534
                ],
                [
                 -1.6777645570867288,
                 48.117267676841415
                ],
                [
                 -1.6791884000658683,
                 48.1149990235126
                ],
                [
                 -1.6811532348133271,
                 48.11481097297575
                ],
                [
                 -1.6876102123811572,
                 48.11548894446418
                ],
                [
                 -1.6861483500563177,
                 48.118008019556534
                ]
               ]
              ]
             ],
             "type": "MultiPolygon"
            },
            "id": "21",
            "properties": {
             "LIBCOM": "Rennes",
             "LIB_IRIS": "Vieux Saint-Étienne",
             "area_km2": 0.18422055500055187,
             "cleabs": "IRIS____0000000352380109",
             "code_insee": "35238",
             "code_iris": "352380109",
             "etabs_per_km2": 65.13931086552232,
             "iris": "0109",
             "nb_etabs": 12,
             "nb_etudiants": 702,
             "nom_commune": "Rennes",
             "nom_iris": "Rennes",
             "students_per_km2": 3810.6496856330555,
             "type_iris": "H"
            },
            "type": "Feature"
           },
           {
            "bbox": [
             -1.6861483500563177,
             48.117267676841415,
             -1.6763202672822883,
             48.12101682609627
            ],
            "geometry": {
             "coordinates": [
              [
               [
                [
                 -1.6823441763335325,
                 48.12101682609627
                ],
                [
                 -1.6812063535788844,
                 48.12033099512704
                ],
                [
                 -1.6763202672822883,
                 48.11822735096194
                ],
                [
                 -1.6777645570867288,
                 48.117267676841415
                ],
                [
                 -1.6861483500563177,
                 48.118008019556534
                ],
                [
                 -1.6823441763335325,
                 48.12101682609627
                ]
               ]
              ]
             ],
             "type": "MultiPolygon"
            },
            "id": "22",
            "properties": {
             "LIBCOM": "Rennes",
             "LIB_IRIS": "Hôtel-Dieu",
             "area_km2": 0.15254631999976787,
             "cleabs": "IRIS____0000000352380110",
             "code_insee": "35238",
             "code_iris": "352380110",
             "etabs_per_km2": 157.32926235150427,
             "iris": "0110",
             "nb_etabs": 24,
             "nb_etudiants": 5701,
             "nom_commune": "Rennes",
             "nom_iris": "Rennes",
             "students_per_km2": 37372.25519441358,
             "type_iris": "H"
            },
            "type": "Feature"
           },
           {
            "bbox": [
             -1.6812063535788844,
             48.117923457290914,
             -1.6674544959908195,
             48.122952040322325
            ],
            "geometry": {
             "coordinates": [
              [
               [
                [
                 -1.6674544959908195,
                 48.11926678044734
                ],
                [
                 -1.6733478765133616,
                 48.117923457290914
                ],
                [
                 -1.6763202672822883,
                 48.11822735096194
                ],
                [
                 -1.6812063535788844,
                 48.12033099512704
                ],
                [
                 -1.6791859189108684,
                 48.121261314060376
                ],
                [
                 -1.6720825479158474,
                 48.121576622524806
                ],
                [
                 -1.6701766761126322,
                 48.122952040322325
                ],
                [
                 -1.6692755989069006,
                 48.12259744818995
                ],
                [
                 -1.6674544959908195,
                 48.11926678044734
                ]
               ]
              ]
             ],
             "type": "MultiPolygon"
            },
            "id": "23",
            "properties": {
             "LIBCOM": "Rennes",
             "LIB_IRIS": "Jules Ferry",
             "area_km2": 0.31194691000003605,
             "cleabs": "IRIS____0000000352380201",
             "code_insee": "35238",
             "code_iris": "352380201",
             "etabs_per_km2": 0,
             "iris": "0201",
             "nb_etabs": 0,
             "nb_etudiants": 0,
             "nom_commune": "Rennes",
             "nom_iris": "Rennes",
             "students_per_km2": 0,
             "type_iris": "H"
            },
            "type": "Feature"
           },
           {
            "bbox": [
             -1.6692755989069006,
             48.11506515944823,
             -1.6581126282993546,
             48.1248414231701
            ],
            "geometry": {
             "coordinates": [
              [
               [
                [
                 -1.6674544959908195,
                 48.11926678044734
                ],
                [
                 -1.6692755989069006,
                 48.12259744818995
                ],
                [
                 -1.6670828731345047,
                 48.1248414231701
                ],
                [
                 -1.6627480128578696,
                 48.12179685117806
                ],
                [
                 -1.659936265410267,
                 48.11824929358297
                ],
                [
                 -1.6581126282993546,
                 48.115934491932336
                ],
                [
                 -1.6606243871680213,
                 48.11507884342493
                ],
                [
                 -1.6658649470756053,
                 48.11506515944823
                ],
                [
                 -1.6674544959908195,
                 48.11926678044734
                ]
               ]
              ]
             ],
             "type": "MultiPolygon"
            },
            "id": "24",
            "properties": {
             "LIBCOM": "Rennes",
             "LIB_IRIS": "Les Mottais",
             "area_km2": 0.4732136749997687,
             "cleabs": "IRIS____0000000352380202",
             "code_insee": "35238",
             "code_iris": "352380202",
             "etabs_per_km2": 50.71704658579812,
             "iris": "0202",
             "nb_etabs": 24,
             "nb_etudiants": 11569,
             "nom_commune": "Rennes",
             "nom_iris": "Rennes",
             "students_per_km2": 24447.729664629103,
             "type_iris": "H"
            },
            "type": "Feature"
           },
           {
            "bbox": [
             -1.6777645570867288,
             48.114857704782224,
             -1.6658649470756053,
             48.11926678044734
            ],
            "geometry": {
             "coordinates": [
              [
               [
                [
                 -1.6763202672822883,
                 48.11822735096194
                ],
                [
                 -1.6733478765133616,
                 48.117923457290914
                ],
                [
                 -1.6674544959908195,
                 48.11926678044734
                ],
                [
                 -1.6658649470756053,
                 48.11506515944823
                ],
                [
                 -1.6744159914348307,
                 48.114857704782224
                ],
                [
                 -1.6741478995085335,
                 48.11648279128494
                ],
                [
                 -1.6777645570867288,
                 48.117267676841415
                ],
                [
                 -1.6763202672822883,
                 48.11822735096194
                ]
               ]
              ]
             ],
             "type": "MultiPolygon"
            },
            "id": "25",
            "properties": {
             "LIBCOM": "Rennes",
             "LIB_IRIS": "Jean Macé",
             "area_km2": 0.26022633499992226,
             "cleabs": "IRIS____0000000352380203",
             "code_insee": "35238",
             "code_iris": "352380203",
             "etabs_per_km2": 368.9096263067636,
             "iris": "0203",
             "nb_etabs": 96,
             "nb_etudiants": 58904,
             "nom_commune": "Rennes",
             "nom_iris": "Rennes",
             "students_per_km2": 226356.79820805838,
             "type_iris": "H"
            },
            "type": "Feature"
           },
           {
            "bbox": [
             -1.6752006601596132,
             48.1098783541336,
             -1.6656840453557014,
             48.11506515944823
            ],
            "geometry": {
             "coordinates": [
              [
               [
                [
                 -1.6656840453557014,
                 48.1098783541336
                ],
                [
                 -1.674097422845544,
                 48.10988907903887
                ],
                [
                 -1.6752006601596132,
                 48.112408039804656
                ],
                [
                 -1.6744159914348307,
                 48.114857704782224
                ],
                [
                 -1.6658649470756053,
                 48.11506515944823
                ],
                [
                 -1.6656840453557014,
                 48.1098783541336
                ]
               ]
              ]
             ],
             "type": "MultiPolygon"
            },
            "id": "26",
            "properties": {
             "LIBCOM": "Rennes",
             "LIB_IRIS": "Paris Ouest Martenot",
             "area_km2": 0.37576361000029823,
             "cleabs": "IRIS____0000000352380204",
             "code_insee": "35238",
             "code_iris": "352380204",
             "etabs_per_km2": 18.62873310162856,
             "iris": "0204",
             "nb_etabs": 7,
             "nb_etudiants": 383,
             "nom_commune": "Rennes",
             "nom_iris": "Rennes",
             "students_per_km2": 1019.2578254176769,
             "type_iris": "H"
            },
            "type": "Feature"
           },
           {
            "bbox": [
             -1.6658649470756053,
             48.1098783541336,
             -1.6570509230610684,
             48.115934491932336
            ],
            "geometry": {
             "coordinates": [
              [
               [
                [
                 -1.6623536390210683,
                 48.109888557916456
                ],
                [
                 -1.6656840453557014,
                 48.1098783541336
                ],
                [
                 -1.6658649470756053,
                 48.11506515944823
                ],
                [
                 -1.6606243871680213,
                 48.11507884342493
                ],
                [
                 -1.6581126282993546,
                 48.115934491932336
                ],
                [
                 -1.6570509230610684,
                 48.11459551471859
                ],
                [
                 -1.6621288127223042,
                 48.11312092332877
                ],
                [
                 -1.6623536390210683,
                 48.109888557916456
                ]
               ]
              ]
             ],
             "type": "MultiPolygon"
            },
            "id": "27",
            "properties": {
             "LIBCOM": "Rennes",
             "LIB_IRIS": "Paris Est",
             "area_km2": 0.21513240000034162,
             "cleabs": "IRIS____0000000352380205",
             "code_insee": "35238",
             "code_iris": "352380205",
             "etabs_per_km2": 158.0422102851361,
             "iris": "0205",
             "nb_etabs": 34,
             "nb_etudiants": 5162,
             "nom_commune": "Rennes",
             "nom_iris": "Rennes",
             "students_per_km2": 23994.52616152566,
             "type_iris": "H"
            },
            "type": "Feature"
           },
           {
            "bbox": [
             -1.6623536390210683,
             48.109888557916456,
             -1.6554822428163203,
             48.11459551471859
            ],
            "geometry": {
             "coordinates": [
              [
               [
                [
                 -1.6570509230610684,
                 48.11459551471859
                ],
                [
                 -1.6554822428163203,
                 48.109932331833114
                ],
                [
                 -1.6623536390210683,
                 48.109888557916456
                ],
                [
                 -1.6621288127223042,
                 48.11312092332877
                ],
                [
                 -1.6570509230610684,
                 48.11459551471859
                ]
               ]
              ]
             ],
             "type": "MultiPolygon"
            },
            "id": "28",
            "properties": {
             "LIBCOM": "Rennes",
             "LIB_IRIS": "Oberthur",
             "area_km2": 0.1992928649995214,
             "cleabs": "IRIS____0000000352380206",
             "code_insee": "35238",
             "code_iris": "352380206",
             "etabs_per_km2": 30.106446610692306,
             "iris": "0206",
             "nb_etabs": 6,
             "nb_etudiants": 248,
             "nom_commune": "Rennes",
             "nom_iris": "Rennes",
             "students_per_km2": 1244.3997932419486,
             "type_iris": "H"
            },
            "type": "Feature"
           },
           {
            "bbox": [
             -1.676602665813281,
             48.10288467322542,
             -1.6638884545821273,
             48.10885459050067
            ],
            "geometry": {
             "coordinates": [
              [
               [
                [
                 -1.6645750242856663,
                 48.10474272323302
                ],
                [
                 -1.6638884545821273,
                 48.10431379827995
                ],
                [
                 -1.670692662481678,
                 48.10342663180804
                ],
                [
                 -1.676602665813281,
                 48.10288467322542
                ],
                [
                 -1.672582285046044,
                 48.1044622236183
                ],
                [
                 -1.6734233307805717,
                 48.10748829186525
                ],
                [
                 -1.6738161007517531,
                 48.10885459050067
                ],
                [
                 -1.6672130846819235,
                 48.10614627589992
                ],
                [
                 -1.6662161025472186,
                 48.10477866459729
                ],
                [
                 -1.6645750242856663,
                 48.10474272323302
                ]
               ]
              ]
             ],
             "type": "MultiPolygon"
            },
            "id": "29",
            "properties": {
             "LIBCOM": "Rennes",
             "LIB_IRIS": "Saint-Hélier",
             "area_km2": 0.22699705499905562,
             "cleabs": "IRIS____0000000352380207",
             "code_insee": "35238",
             "code_iris": "352380207",
             "etabs_per_km2": 136.56564839631497,
             "iris": "0207",
             "nb_etabs": 31,
             "nb_etudiants": 1139,
             "nom_commune": "Rennes",
             "nom_iris": "Rennes",
             "students_per_km2": 5017.686242690411,
             "type_iris": "H"
            },
            "type": "Feature"
           },
           {
            "bbox": [
             -1.674097422845544,
             48.10474272323302,
             -1.6624139053779523,
             48.10988907903887
            ],
            "geometry": {
             "coordinates": [
              [
               [
                [
                 -1.6645750242856663,
                 48.10474272323302
                ],
                [
                 -1.6662161025472186,
                 48.10477866459729
                ],
                [
                 -1.6672130846819235,
                 48.10614627589992
                ],
                [
                 -1.6738161007517531,
                 48.10885459050067
                ],
                [
                 -1.674097422845544,
                 48.10988907903887
                ],
                [
                 -1.6656840453557014,
                 48.1098783541336
                ],
                [
                 -1.6657713388253352,
                 48.108824741304
                ],
                [
                 -1.6624139053779523,
                 48.10694213945091
                ],
                [
                 -1.6645750242856663,
                 48.10474272323302
                ]
               ]
              ]
             ],
             "type": "MultiPolygon"
            },
            "id": "30",
            "properties": {
             "LIBCOM": "Rennes",
             "LIB_IRIS": "Laennec-Dupont des Loges",
             "area_km2": 0.25442477499973465,
             "cleabs": "IRIS____0000000352380208",
             "code_insee": "35238",
             "code_iris": "352380208",
             "etabs_per_km2": 11.791304522144625,
             "iris": "0208",
             "nb_etabs": 3,
             "nb_etudiants": 158,
             "nom_commune": "Rennes",
             "nom_iris": "Rennes",
             "students_per_km2": 621.0087048329502,
             "type_iris": "H"
            },
            "type": "Feature"
           },
           {
            "bbox": [
             -1.6657713388253352,
             48.10431379827995,
             -1.6507268305937242,
             48.11035044962429
            ],
            "geometry": {
             "coordinates": [
              [
               [
                [
                 -1.6554822428163203,
                 48.109932331833114
                ],
                [
                 -1.6520868348812405,
                 48.11035044962429
                ],
                [
                 -1.6507268305937242,
                 48.10600257557848
                ],
                [
                 -1.6638884545821273,
                 48.10431379827995
                ],
                [
                 -1.6645750242856663,
                 48.10474272323302
                ],
                [
                 -1.6624139053779523,
                 48.10694213945091
                ],
                [
                 -1.6657713388253352,
                 48.108824741304
                ],
                [
                 -1.6656840453557014,
                 48.1098783541336
                ],
                [
                 -1.6623536390210683,
                 48.109888557916456
                ],
                [
                 -1.6554822428163203,
                 48.109932331833114
                ]
               ]
              ]
             ],
             "type": "MultiPolygon"
            },
            "id": "31",
            "properties": {
             "LIBCOM": "Rennes",
             "LIB_IRIS": "Alphonse Guérin",
             "area_km2": 0.5173028449989684,
             "cleabs": "IRIS____0000000352380209",
             "code_insee": "35238",
             "code_iris": "352380209",
             "etabs_per_km2": 0,
             "iris": "0209",
             "nb_etabs": 0,
             "nb_etudiants": 0,
             "nom_commune": "Rennes",
             "nom_iris": "Rennes",
             "students_per_km2": 0,
             "type_iris": "H"
            },
            "type": "Feature"
           },
           {
            "bbox": [
             -1.7013425280545222,
             48.10728951948942,
             -1.684582472061626,
             48.112255684808545
            ],
            "geometry": {
             "coordinates": [
              [
               [
                [
                 -1.684582472061626,
                 48.10976453109969
                ],
                [
                 -1.68950520790248,
                 48.10813171888739
                ],
                [
                 -1.692340369312412,
                 48.10728951948942
                ],
                [
                 -1.6976737425830142,
                 48.107509574685864
                ],
                [
                 -1.6984953329321462,
                 48.10980071654848
                ],
                [
                 -1.7013425280545222,
                 48.111468340115806
                ],
                [
                 -1.6927094517891532,
                 48.11089859516183
                ],
                [
                 -1.6871980720421924,
                 48.112255684808545
                ],
                [
                 -1.686234218519589,
                 48.110252295716485
                ],
                [
                 -1.684582472061626,
                 48.10976453109969
                ]
               ]
              ]
             ],
             "type": "MultiPolygon"
            },
            "id": "32",
            "properties": {
             "LIBCOM": "Rennes",
             "LIB_IRIS": "Mail",
             "area_km2": 0.37192853999924863,
             "cleabs": "IRIS____0000000352380301",
             "code_insee": "35238",
             "code_iris": "352380301",
             "etabs_per_km2": 0,
             "iris": "0301",
             "nb_etabs": 0,
             "nb_etudiants": 0,
             "nom_commune": "Rennes",
             "nom_iris": "Rennes",
             "students_per_km2": 0,
             "type_iris": "H"
            },
            "type": "Feature"
           },
           {
            "bbox": [
             -1.7015505725660172,
             48.11089859516183,
             -1.6927094517891532,
             48.11481265953048
            ],
            "geometry": {
             "coordinates": [
              [
               [
                [
                 -1.7013425280545222,
                 48.111468340115806
                ],
                [
                 -1.7015505725660172,
                 48.111582631094514
                ],
                [
                 -1.6996374542896227,
                 48.11440748317969
                ],
                [
                 -1.6984842287915187,
                 48.11406407284704
                ],
                [
                 -1.698180635283047,
                 48.11481265953048
                ],
                [
                 -1.6930493603876011,
                 48.11401213446249
                ],
                [
                 -1.6927094517891532,
                 48.11089859516183
                ],
                [
                 -1.7013425280545222,
                 48.111468340115806
                ]
               ]
              ]
             ],
             "type": "MultiPolygon"
            },
            "id": "33",
            "properties": {
             "LIBCOM": "Rennes",
             "LIB_IRIS": "Rue de Brest Ouest",
             "area_km2": 0.2059612949999401,
             "cleabs": "IRIS____0000000352380302",
             "code_insee": "35238",
             "code_iris": "352380302",
             "etabs_per_km2": 0,
             "iris": "0302",
             "nb_etabs": 0,
             "nb_etudiants": 0,
             "nom_commune": "Rennes",
             "nom_iris": "Rennes",
             "students_per_km2": 0,
             "type_iris": "H"
            },
            "type": "Feature"
           },
           {
            "bbox": [
             -1.6930493603876011,
             48.11089859516183,
             -1.6871980720421924,
             48.115142004149455
            ],
            "geometry": {
             "coordinates": [
              [
               [
                [
                 -1.6871980720421924,
                 48.112255684808545
                ],
                [
                 -1.6927094517891532,
                 48.11089859516183
                ],
                [
                 -1.6930493603876011,
                 48.11401213446249
                ],
                [
                 -1.6921471320560422,
                 48.11503875920601
                ],
                [
                 -1.6879698000291026,
                 48.115142004149455
                ],
                [
                 -1.6871980720421924,
                 48.112255684808545
                ]
               ]
              ]
             ],
             "type": "MultiPolygon"
            },
            "id": "34",
            "properties": {
             "LIBCOM": "Rennes",
             "LIB_IRIS": "Rue de Brest Est",
             "area_km2": 0.15444697499988533,
             "cleabs": "IRIS____0000000352380303",
             "code_insee": "35238",
             "code_iris": "352380303",
             "etabs_per_km2": 64.74714056398595,
             "iris": "0303",
             "nb_etabs": 10,
             "nb_etudiants": 830,
             "nom_commune": "Rennes",
             "nom_iris": "Rennes",
             "students_per_km2": 5374.012666810834,
             "type_iris": "H"
            },
            "type": "Feature"
           },
           {
            "bbox": [
             -1.6996374542896227,
             48.11401213446249,
             -1.6861483500563177,
             48.119102350760095
            ],
            "geometry": {
             "coordinates": [
              [
               [
                [
                 -1.6861483500563177,
                 48.118008019556534
                ],
                [
                 -1.6876102123811572,
                 48.11548894446418
                ],
                [
                 -1.6879698000291026,
                 48.115142004149455
                ],
                [
                 -1.6921471320560422,
                 48.11503875920601
                ],
                [
                 -1.6930493603876011,
                 48.11401213446249
                ],
                [
                 -1.698180635283047,
                 48.11481265953048
                ],
                [
                 -1.6984842287915187,
                 48.11406407284704
                ],
                [
                 -1.6996374542896227,
                 48.11440748317969
                ],
                [
                 -1.69072305742316,
                 48.119102350760095
                ],
                [
                 -1.6861483500563177,
                 48.118008019556534
                ]
               ]
              ]
             ],
             "type": "MultiPolygon"
            },
            "id": "35",
            "properties": {
             "LIBCOM": "Rennes",
             "LIB_IRIS": "La Touche",
             "area_km2": 0.27585852000056016,
             "cleabs": "IRIS____0000000352380304",
             "code_insee": "35238",
             "code_iris": "352380304",
             "etabs_per_km2": 0,
             "iris": "0304",
             "nb_etabs": 0,
             "nb_etudiants": 0,
             "nom_commune": "Rennes",
             "nom_iris": "Rennes",
             "students_per_km2": 0,
             "type_iris": "H"
            },
            "type": "Feature"
           },
           {
            "bbox": [
             -1.7101753485717919,
             48.106665420066676,
             -1.6976737425830142,
             48.11204402692355
            ],
            "geometry": {
             "coordinates": [
              [
               [
                [
                 -1.7015505725660172,
                 48.111582631094514
                ],
                [
                 -1.7013425280545222,
                 48.111468340115806
                ],
                [
                 -1.6984953329321462,
                 48.10980071654848
                ],
                [
                 -1.6976737425830142,
                 48.107509574685864
                ],
                [
                 -1.7007304868953192,
                 48.10684492617173
                ],
                [
                 -1.706195183381964,
                 48.106665420066676
                ],
                [
                 -1.7094480399779068,
                 48.1072358025265
                ],
                [
                 -1.7101753485717919,
                 48.10885636908121
                ],
                [
                 -1.70432933241385,
                 48.11075681985546
                ],
                [
                 -1.7023669837932718,
                 48.11204402692355
                ],
                [
                 -1.7015505725660172,
                 48.111582631094514
                ]
               ]
              ]
             ],
             "type": "MultiPolygon"
            },
            "id": "36",
            "properties": {
             "LIBCOM": "Rennes",
             "LIB_IRIS": "Port Cahours",
             "area_km2": 0.34587575499942697,
             "cleabs": "IRIS____0000000352380305",
             "code_insee": "35238",
             "code_iris": "352380305",
             "etabs_per_km2": 0,
             "iris": "0305",
             "nb_etabs": 0,
             "nb_etudiants": 0,
             "nom_commune": "Rennes",
             "nom_iris": "Rennes",
             "students_per_km2": 0,
             "type_iris": "H"
            },
            "type": "Feature"
           },
           {
            "bbox": [
             -1.718580463797352,
             48.1053707994741,
             -1.70432933241385,
             48.11242032069111
            ],
            "geometry": {
             "coordinates": [
              [
               [
                [
                 -1.7094480399779068,
                 48.1072358025265
                ],
                [
                 -1.715230695511666,
                 48.10633551930654
                ],
                [
                 -1.7171028959510943,
                 48.1053707994741
                ],
                [
                 -1.718580463797352,
                 48.1118318352189
                ],
                [
                 -1.7099143602117943,
                 48.11242032069111
                ],
                [
                 -1.70432933241385,
                 48.11075681985546
                ],
                [
                 -1.7101753485717919,
                 48.10885636908121
                ],
                [
                 -1.7094480399779068,
                 48.1072358025265
                ]
               ]
              ]
             ],
             "type": "MultiPolygon"
            },
            "id": "37",
            "properties": {
             "LIBCOM": "Rennes",
             "LIB_IRIS": "Stade Rennais",
             "area_km2": 0.4584094600009674,
             "cleabs": "IRIS____0000000352380306",
             "code_insee": "35238",
             "code_iris": "352380306",
             "etabs_per_km2": 0,
             "iris": "0306",
             "nb_etabs": 0,
             "nb_etudiants": 0,
             "nom_commune": "Rennes",
             "nom_iris": "Rennes",
             "students_per_km2": 0,
             "type_iris": "H"
            },
            "type": "Feature"
           },
           {
            "bbox": [
             -1.69072305742316,
             48.118008019556534,
             -1.6823441763335325,
             48.12281862565057
            ],
            "geometry": {
             "coordinates": [
              [
               [
                [
                 -1.6823441763335325,
                 48.12101682609627
                ],
                [
                 -1.6861483500563177,
                 48.118008019556534
                ],
                [
                 -1.69072305742316,
                 48.119102350760095
                ],
                [
                 -1.6884668534503362,
                 48.12281862565057
                ],
                [
                 -1.683970185065459,
                 48.12231874024907
                ],
                [
                 -1.6823441763335325,
                 48.12101682609627
                ]
               ]
              ]
             ],
             "type": "MultiPolygon"
            },
            "id": "38",
            "properties": {
             "LIBCOM": "Rennes",
             "LIB_IRIS": "Jean Ogée",
             "area_km2": 0.2058528299993365,
             "cleabs": "IRIS____0000000352380401",
             "code_insee": "35238",
             "code_iris": "352380401",
             "etabs_per_km2": 58.29407348948605,
             "iris": "0401",
             "nb_etabs": 12,
             "nb_etudiants": 2345,
             "nom_commune": "Rennes",
             "nom_iris": "Rennes",
             "students_per_km2": 11391.633527737065,
             "type_iris": "H"
            },
            "type": "Feature"
           },
           {
            "bbox": [
             -1.6973345649497336,
             48.12033099512704,
             -1.6701766761126322,
             48.13373194258895
            ],
            "geometry": {
             "coordinates": [
              [
               [
                [
                 -1.6795496697744057,
                 48.12816165837503
                ],
                [
                 -1.6745378726975138,
                 48.12695712318562
                ],
                [
                 -1.6701766761126322,
                 48.122952040322325
                ],
                [
                 -1.6720825479158474,
                 48.121576622524806
                ],
                [
                 -1.6791859189108684,
                 48.121261314060376
                ],
                [
                 -1.6812063535788844,
                 48.12033099512704
                ],
                [
                 -1.6823441763335325,
                 48.12101682609627
                ],
                [
                 -1.683970185065459,
                 48.12231874024907
                ],
                [
                 -1.6884668534503362,
                 48.12281862565057
                ],
                [
                 -1.6882926277828927,
                 48.12678552466272
                ],
                [
                 -1.6882135401701543,
                 48.12909451496909
                ],
                [
                 -1.6834071690308479,
                 48.12782628282409
                ],
                [
                 -1.6798659569123802,
                 48.12922358487049
                ],
                [
                 -1.6795496697744057,
                 48.12816165837503
                ]
               ]
              ],
              [
               [
                [
                 -1.6929112364563543,
                 48.133273082359814
                ],
                [
                 -1.6922064847788243,
                 48.132707112959885
                ],
                [
                 -1.691283372616352,
                 48.1333054593066
                ],
                [
                 -1.6883084767371372,
                 48.129162850872156
                ],
                [
                 -1.6923126765341148,
                 48.12988683247029
                ],
                [
                 -1.6973345649497336,
                 48.13233150123201
                ],
                [
                 -1.6936118678132963,
                 48.13373194258895
                ],
                [
                 -1.6929112364563543,
                 48.133273082359814
                ]
               ]
              ]
             ],
             "type": "MultiPolygon"
            },
            "id": "39",
            "properties": {
             "LIBCOM": "Rennes",
             "LIB_IRIS": "Cimetière du Nord",
             "area_km2": 1.0100288500017582,
             "cleabs": "IRIS____0000000352380402",
             "code_insee": "35238",
             "code_iris": "352380402",
             "etabs_per_km2": 10.890778020826684,
             "iris": "0402",
             "nb_etabs": 11,
             "nb_etudiants": 13094,
             "nom_commune": "Rennes",
             "nom_iris": "Rennes",
             "students_per_km2": 12963.986127700418,
             "type_iris": "H"
            },
            "type": "Feature"
           },
           {
            "bbox": [
             -1.6670828731345047,
             48.12179685117806,
             -1.6600201209610361,
             48.127234639885195
            ],
            "geometry": {
             "coordinates": [
              [
               [
                [
                 -1.6600201209610361,
                 48.123257812242265
                ],
                [
                 -1.6627480128578696,
                 48.12179685117806
                ],
                [
                 -1.6670828731345047,
                 48.1248414231701
                ],
                [
                 -1.66495434380383,
                 48.1272044947987
                ],
                [
                 -1.6627811852312366,
                 48.127234639885195
                ],
                [
                 -1.6624921114164368,
                 48.1255009556568
                ],
                [
                 -1.6612695368341572,
                 48.12502742171833
                ],
                [
                 -1.6617706893986228,
                 48.12443609814386
                ],
                [
                 -1.6600201209610361,
                 48.123257812242265
                ]
               ]
              ]
             ],
             "type": "MultiPolygon"
            },
            "id": "40",
            "properties": {
             "LIBCOM": "Rennes",
             "LIB_IRIS": "Emmanuel Mounier",
             "area_km2": 0.1642688849994491,
             "cleabs": "IRIS____0000000352380501",
             "code_insee": "35238",
             "code_iris": "352380501",
             "etabs_per_km2": 18.262740384522978,
             "iris": "0501",
             "nb_etabs": 3,
             "nb_etudiants": 325,
             "nom_commune": "Rennes",
             "nom_iris": "Rennes",
             "students_per_km2": 1978.463541656656,
             "type_iris": "H"
            },
            "type": "Feature"
           },
           {
            "bbox": [
             -1.66495434380383,
             48.12502742171833,
             -1.6547974520868922,
             48.12841332586015
            ],
            "geometry": {
             "coordinates": [
              [
               [
                [
                 -1.6612695368341572,
                 48.12502742171833
                ],
                [
                 -1.6624921114164368,
                 48.1255009556568
                ],
                [
                 -1.6627811852312366,
                 48.127234639885195
                ],
                [
                 -1.66495434380383,
                 48.1272044947987
                ],
                [
                 -1.6641792149612653,
                 48.12841332586015
                ],
                [
                 -1.6574933632891304,
                 48.12782510292214
                ],
                [
                 -1.6547974520868922,
                 48.12763779494243
                ],
                [
                 -1.6612695368341572,
                 48.12502742171833
                ]
               ]
              ]
             ],
             "type": "MultiPolygon"
            },
            "id": "41",
            "properties": {
             "LIBCOM": "Rennes",
             "LIB_IRIS": "Brno",
             "area_km2": 0.13418482000044407,
             "cleabs": "IRIS____0000000352380502",
             "code_insee": "35238",
             "code_iris": "352380502",
             "etabs_per_km2": 0,
             "iris": "0502",
             "nb_etabs": 0,
             "nb_etudiants": 0,
             "nom_commune": "Rennes",
             "nom_iris": "Rennes",
             "students_per_km2": 0,
             "type_iris": "H"
            },
            "type": "Feature"
           },
           {
            "bbox": [
             -1.6641792149612653,
             48.12782510292214,
             -1.6564852069855625,
             48.13207779656376
            ],
            "geometry": {
             "coordinates": [
              [
               [
                [
                 -1.6618327012055099,
                 48.13204691995683
                ],
                [
                 -1.6566754743361156,
                 48.13207779656376
                ],
                [
                 -1.6564852069855625,
                 48.12950821120195
                ],
                [
                 -1.6574933632891304,
                 48.12782510292214
                ],
                [
                 -1.6641792149612653,
                 48.12841332586015
                ],
                [
                 -1.6618327012055099,
                 48.13204691995683
                ]
               ]
              ]
             ],
             "type": "MultiPolygon"
            },
            "id": "42",
            "properties": {
             "LIBCOM": "Rennes",
             "LIB_IRIS": "Le Gast Ouest",
             "area_km2": 0.2087273899998148,
             "cleabs": "IRIS____0000000352380503",
             "code_insee": "35238",
             "code_iris": "352380503",
             "etabs_per_km2": 0,
             "iris": "0503",
             "nb_etabs": 0,
             "nb_etudiants": 0,
             "nom_commune": "Rennes",
             "nom_iris": "Rennes",
             "students_per_km2": 0,
             "type_iris": "H"
            },
            "type": "Feature"
           },
           {
            "bbox": [
             -1.6617706893986228,
             48.123257812242265,
             -1.6519785420863984,
             48.1322588354653
            ],
            "geometry": {
             "coordinates": [
              [
               [
                [
                 -1.6574933632891304,
                 48.12782510292214
                ],
                [
                 -1.6564852069855625,
                 48.12950821120195
                ],
                [
                 -1.6566754743361156,
                 48.13207779656376
                ],
                [
                 -1.6519785420863984,
                 48.1322588354653
                ],
                [
                 -1.6522003654055155,
                 48.12773136601121
                ],
                [
                 -1.6523655233703316,
                 48.12725251029123
                ],
                [
                 -1.6600201209610361,
                 48.123257812242265
                ],
                [
                 -1.6617706893986228,
                 48.12443609814386
                ],
                [
                 -1.6612695368341572,
                 48.12502742171833
                ],
                [
                 -1.6547974520868922,
                 48.12763779494243
                ],
                [
                 -1.6574933632891304,
                 48.12782510292214
                ]
               ]
              ]
             ],
             "type": "MultiPolygon"
            },
            "id": "43",
            "properties": {
             "LIBCOM": "Rennes",
             "LIB_IRIS": "Le Gast Est",
             "area_km2": 0.29711754499968085,
             "cleabs": "IRIS____0000000352380504",
             "code_insee": "35238",
             "code_iris": "352380504",
             "etabs_per_km2": 0,
             "iris": "0504",
             "nb_etabs": 0,
             "nb_etudiants": 0,
             "nom_commune": "Rennes",
             "nom_iris": "Rennes",
             "students_per_km2": 0,
             "type_iris": "H"
            },
            "type": "Feature"
           },
           {
            "bbox": [
             -1.6798659569123802,
             48.12259744818995,
             -1.6641792149612653,
             48.13137543227927
            ],
            "geometry": {
             "coordinates": [
              [
               [
                [
                 -1.66495434380383,
                 48.1272044947987
                ],
                [
                 -1.6670828731345047,
                 48.1248414231701
                ],
                [
                 -1.6692755989069006,
                 48.12259744818995
                ],
                [
                 -1.6701766761126322,
                 48.122952040322325
                ],
                [
                 -1.6745378726975138,
                 48.12695712318562
                ],
                [
                 -1.6795496697744057,
                 48.12816165837503
                ],
                [
                 -1.6798659569123802,
                 48.12922358487049
                ],
                [
                 -1.6727988268170826,
                 48.13137543227927
                ],
                [
                 -1.6674996239442084,
                 48.12967810586189
                ],
                [
                 -1.6641792149612653,
                 48.12841332586015
                ],
                [
                 -1.66495434380383,
                 48.1272044947987
                ]
               ]
              ]
             ],
             "type": "MultiPolygon"
            },
            "id": "44",
            "properties": {
             "LIBCOM": "Rennes",
             "LIB_IRIS": "La Motte Brûlon",
             "area_km2": 0.5526000249996901,
             "cleabs": "IRIS____0000000352380505",
             "code_insee": "35238",
             "code_iris": "352380505",
             "etabs_per_km2": 27.14440702388389,
             "iris": "0505",
             "nb_etabs": 15,
             "nb_etudiants": 4123,
             "nom_commune": "Rennes",
             "nom_iris": "Rennes",
             "students_per_km2": 7461.092677298218,
             "type_iris": "H"
            },
            "type": "Feature"
           },
           {
            "bbox": [
             -1.6805984483752034,
             48.12922358487049,
             -1.666510890005445,
             48.13685555619752
            ],
            "geometry": {
             "coordinates": [
              [
               [
                [
                 -1.6799675803977145,
                 48.1346388617028
                ],
                [
                 -1.6767315520208368,
                 48.13614290593147
                ],
                [
                 -1.6719008485909599,
                 48.13685555619752
                ],
                [
                 -1.6670568139562136,
                 48.13647422635063
                ],
                [
                 -1.666510890005445,
                 48.1318977781933
                ],
                [
                 -1.6674996239442084,
                 48.12967810586189
                ],
                [
                 -1.6727988268170826,
                 48.13137543227927
                ],
                [
                 -1.6798659569123802,
                 48.12922358487049
                ],
                [
                 -1.6805984483752034,
                 48.13179056782891
                ],
                [
                 -1.6799675803977145,
                 48.1346388617028
                ]
               ]
              ]
             ],
             "type": "MultiPolygon"
            },
            "id": "45",
            "properties": {
             "LIBCOM": "Rennes",
             "LIB_IRIS": "Morbihan Ouest",
             "area_km2": 0.6562618549991404,
             "cleabs": "IRIS____0000000352380506",
             "code_insee": "35238",
             "code_iris": "352380506",
             "etabs_per_km2": 0,
             "iris": "0506",
             "nb_etabs": 0,
             "nb_etudiants": 0,
             "nom_commune": "Rennes",
             "nom_iris": "Rennes",
             "students_per_km2": 0,
             "type_iris": "H"
            },
            "type": "Feature"
           },
           {
            "bbox": [
             -1.6674996239442084,
             48.12841332586015,
             -1.6596119896052195,
             48.13647422635063
            ],
            "geometry": {
             "coordinates": [
              [
               [
                [
                 -1.6596119896052195,
                 48.1350039276296
                ],
                [
                 -1.6618327012055099,
                 48.13204691995683
                ],
                [
                 -1.6641792149612653,
                 48.12841332586015
                ],
                [
                 -1.6674996239442084,
                 48.12967810586189
                ],
                [
                 -1.666510890005445,
                 48.1318977781933
                ],
                [
                 -1.6670568139562136,
                 48.13647422635063
                ],
                [
                 -1.6613506000724412,
                 48.13631700711943
                ],
                [
                 -1.6596119896052195,
                 48.1350039276296
                ]
               ]
              ]
             ],
             "type": "MultiPolygon"
            },
            "id": "46",
            "properties": {
             "LIBCOM": "Rennes",
             "LIB_IRIS": "Morbihan Est",
             "area_km2": 0.3276309449999979,
             "cleabs": "IRIS____0000000352380507",
             "code_insee": "35238",
             "code_iris": "352380507",
             "etabs_per_km2": 0,
             "iris": "0507",
             "nb_etabs": 0,
             "nb_etudiants": 0,
             "nom_commune": "Rennes",
             "nom_iris": "Rennes",
             "students_per_km2": 0,
             "type_iris": "H"
            },
            "type": "Feature"
           },
           {
            "bbox": [
             -1.6719008485909599,
             48.1350039276296,
             -1.6571929765274107,
             48.142837825662916
            ],
            "geometry": {
             "coordinates": [
              [
               [
                [
                 -1.6719008485909599,
                 48.13685555619752
                ],
                [
                 -1.667765125215395,
                 48.13938294397746
                ],
                [
                 -1.6663670002473283,
                 48.141696329845985
                ],
                [
                 -1.6620772688891208,
                 48.142837825662916
                ],
                [
                 -1.6571929765274107,
                 48.1427226760058
                ],
                [
                 -1.6596119896052195,
                 48.1350039276296
                ],
                [
                 -1.6613506000724412,
                 48.13631700711943
                ],
                [
                 -1.6670568139562136,
                 48.13647422635063
                ],
                [
                 -1.6719008485909599,
                 48.13685555619752
                ]
               ]
              ]
             ],
             "type": "MultiPolygon"
            },
            "id": "47",
            "properties": {
             "LIBCOM": "Rennes",
             "LIB_IRIS": "Émile Bernard",
             "area_km2": 0.5232459199995564,
             "cleabs": "IRIS____0000000352380508",
             "code_insee": "35238",
             "code_iris": "352380508",
             "etabs_per_km2": 0,
             "iris": "0508",
             "nb_etabs": 0,
             "nb_etudiants": 0,
             "nom_commune": "Rennes",
             "nom_iris": "Rennes",
             "students_per_km2": 0,
             "type_iris": "H"
            },
            "type": "Feature"
           },
           {
            "bbox": [
             -1.6618327012055099,
             48.13204691995683,
             -1.6513753465082073,
             48.1427226760058
            ],
            "geometry": {
             "coordinates": [
              [
               [
                [
                 -1.6596119896052195,
                 48.1350039276296
                ],
                [
                 -1.6571929765274107,
                 48.1427226760058
                ],
                [
                 -1.6513753465082073,
                 48.141139746753126
                ],
                [
                 -1.6514321199790918,
                 48.14048489838881
                ],
                [
                 -1.652688499831689,
                 48.138359390660305
                ],
                [
                 -1.6519785420863984,
                 48.1322588354653
                ],
                [
                 -1.6566754743361156,
                 48.13207779656376
                ],
                [
                 -1.6618327012055099,
                 48.13204691995683
                ],
                [
                 -1.6596119896052195,
                 48.1350039276296
                ]
               ]
              ]
             ],
             "type": "MultiPolygon"
            },
            "id": "48",
            "properties": {
             "LIBCOM": "Rennes",
             "LIB_IRIS": "Saint-Laurent",
             "area_km2": 0.5718855449998547,
             "cleabs": "IRIS____0000000352380509",
             "code_insee": "35238",
             "code_iris": "352380509",
             "etabs_per_km2": 0,
             "iris": "0509",
             "nb_etabs": 0,
             "nb_etudiants": 0,
             "nom_commune": "Rennes",
             "nom_iris": "Rennes",
             "students_per_km2": 0,
             "type_iris": "H"
            },
            "type": "Feature"
           },
           {
            "bbox": [
             -1.6627480128578696,
             48.11824929358297,
             -1.6499260196843153,
             48.12725251029123
            ],
            "geometry": {
             "coordinates": [
              [
               [
                [
                 -1.6499260196843153,
                 48.11909018585779
                ],
                [
                 -1.659936265410267,
                 48.11824929358297
                ],
                [
                 -1.6627480128578696,
                 48.12179685117806
                ],
                [
                 -1.6600201209610361,
                 48.123257812242265
                ],
                [
                 -1.6523655233703316,
                 48.12725251029123
                ],
                [
                 -1.6510118568101164,
                 48.12221755170688
                ],
                [
                 -1.6499260196843153,
                 48.11909018585779
                ]
               ]
              ]
             ],
             "type": "MultiPolygon"
            },
            "id": "49",
            "properties": {
             "LIBCOM": "Rennes",
             "LIB_IRIS": "Parc de Maurepas",
             "area_km2": 0.5580895700012575,
             "cleabs": "IRIS____0000000352380601",
             "code_insee": "35238",
             "code_iris": "352380601",
             "etabs_per_km2": 48.3793309377546,
             "iris": "0601",
             "nb_etabs": 27,
             "nb_etudiants": 6055,
             "nom_commune": "Rennes",
             "nom_iris": "Rennes",
             "students_per_km2": 10849.512919559413,
             "type_iris": "H"
            },
            "type": "Feature"
           },
           {
            "bbox": [
             -1.659936265410267,
             48.109932331833114,
             -1.6461035754264262,
             48.11909018585779
            ],
            "geometry": {
             "coordinates": [
              [
               [
                [
                 -1.659936265410267,
                 48.11824929358297
                ],
                [
                 -1.6499260196843153,
                 48.11909018585779
                ],
                [
                 -1.6461035754264262,
                 48.111723316864186
                ],
                [
                 -1.6520868348812405,
                 48.11035044962429
                ],
                [
                 -1.6554822428163203,
                 48.109932331833114
                ],
                [
                 -1.6570509230610684,
                 48.11459551471859
                ],
                [
                 -1.6581126282993546,
                 48.115934491932336
                ],
                [
                 -1.659936265410267,
                 48.11824929358297
                ]
               ]
              ]
             ],
             "type": "MultiPolygon"
            },
            "id": "50",
            "properties": {
             "LIBCOM": "Rennes",
             "LIB_IRIS": "Michelet",
             "area_km2": 0.6508251749996224,
             "cleabs": "IRIS____0000000352380602",
             "code_insee": "35238",
             "code_iris": "352380602",
             "etabs_per_km2": 0,
             "iris": "0602",
             "nb_etabs": 0,
             "nb_etudiants": 0,
             "nom_commune": "Rennes",
             "nom_iris": "Rennes",
             "students_per_km2": 0,
             "type_iris": "H"
            },
            "type": "Feature"
           },
           {
            "bbox": [
             -1.6523655233703316,
             48.12221755170688,
             -1.6307201172850092,
             48.132669834327956
            ],
            "geometry": {
             "coordinates": [
              [
               [
                [
                 -1.6347987147407457,
                 48.13218864834114
                ],
                [
                 -1.6347848241086484,
                 48.132168462896246
                ],
                [
                 -1.6330837299687155,
                 48.132669834327956
                ],
                [
                 -1.6307201172850092,
                 48.12971697937139
                ],
                [
                 -1.6357978958818837,
                 48.12837072303535
                ],
                [
                 -1.6395811795245088,
                 48.128184836721516
                ],
                [
                 -1.6416853158312075,
                 48.1259449202049
                ],
                [
                 -1.6471044296468027,
                 48.122976603043696
                ],
                [
                 -1.6510118568101164,
                 48.12221755170688
                ],
                [
                 -1.6523655233703316,
                 48.12725251029123
                ],
                [
                 -1.6522003654055155,
                 48.12773136601121
                ],
                [
                 -1.6485303068031276,
                 48.128178203439795
                ],
                [
                 -1.6347987147407457,
                 48.13218864834114
                ]
               ]
              ]
             ],
             "type": "MultiPolygon"
            },
            "id": "51",
            "properties": {
             "LIBCOM": "Rennes",
             "LIB_IRIS": "Le Gallet-Les Longs Champs Nord",
             "area_km2": 0.704320400000094,
             "cleabs": "IRIS____0000000352380603",
             "code_insee": "35238",
             "code_iris": "352380603",
             "etabs_per_km2": 55.372526480838545,
             "iris": "0603",
             "nb_etabs": 39,
             "nb_etudiants": 17055,
             "nom_commune": "Rennes",
             "nom_iris": "Rennes",
             "students_per_km2": 24214.831772582085,
             "type_iris": "H"
            },
            "type": "Feature"
           },
           {
            "bbox": [
             -1.6416853158312075,
             48.124689981623774,
             -1.6289101793979608,
             48.12971697937139
            ],
            "geometry": {
             "coordinates": [
              [
               [
                [
                 -1.6416853158312075,
                 48.1259449202049
                ],
                [
                 -1.6395811795245088,
                 48.128184836721516
                ],
                [
                 -1.6357978958818837,
                 48.12837072303535
                ],
                [
                 -1.6307201172850092,
                 48.12971697937139
                ],
                [
                 -1.6289101793979608,
                 48.12725611740188
                ],
                [
                 -1.6402488638183301,
                 48.124689981623774
                ],
                [
                 -1.6416853158312075,
                 48.1259449202049
                ]
               ]
              ]
             ],
             "type": "MultiPolygon"
            },
            "id": "52",
            "properties": {
             "LIBCOM": "Rennes",
             "LIB_IRIS": "Les Longs Champs Sud",
             "area_km2": 0.26540740000167967,
             "cleabs": "IRIS____0000000352380604",
             "code_insee": "35238",
             "code_iris": "352380604",
             "etabs_per_km2": 0,
             "iris": "0604",
             "nb_etabs": 0,
             "nb_etudiants": 0,
             "nom_commune": "Rennes",
             "nom_iris": "Rennes",
             "students_per_km2": 0,
             "type_iris": "H"
            },
            "type": "Feature"
           },
           {
            "bbox": [
             -1.6471044296468027,
             48.113929804604346,
             -1.627953231373629,
             48.12725611740188
            ],
            "geometry": {
             "coordinates": [
              [
               [
                [
                 -1.6471044296468027,
                 48.122976603043696
                ],
                [
                 -1.6416853158312075,
                 48.1259449202049
                ],
                [
                 -1.6402488638183301,
                 48.124689981623774
                ],
                [
                 -1.6289101793979608,
                 48.12725611740188
                ],
                [
                 -1.627953231373629,
                 48.125262893847385
                ],
                [
                 -1.6286588699404336,
                 48.12228493301488
                ],
                [
                 -1.6339038614764496,
                 48.11407615384261
                ],
                [
                 -1.6361804161821398,
                 48.11404966114549
                ],
                [
                 -1.6408716833999408,
                 48.113929804604346
                ],
                [
                 -1.6463050808640822,
                 48.11897166482779
                ],
                [
                 -1.6471044296468027,
                 48.122976603043696
                ]
               ]
              ]
             ],
             "type": "MultiPolygon"
            },
            "id": "53",
            "properties": {
             "LIBCOM": "Rennes",
             "LIB_IRIS": "Campus de Beaulieu",
             "area_km2": 1.4274805849983938,
             "cleabs": "IRIS____0000000352380605",
             "code_insee": "35238",
             "code_iris": "352380605",
             "etabs_per_km2": 200.35298763823243,
             "iris": "0605",
             "nb_etabs": 286,
             "nb_etudiants": 102075,
             "nom_commune": "Rennes",
             "nom_iris": "Rennes",
             "students_per_km2": 71507.10214396006,
             "type_iris": "H"
            },
            "type": "Feature"
           },
           {
            "bbox": [
             -1.6510118568101164,
             48.111723316864186,
             -1.6408716833999408,
             48.122976603043696
            ],
            "geometry": {
             "coordinates": [
              [
               [
                [
                 -1.6510118568101164,
                 48.12221755170688
                ],
                [
                 -1.6471044296468027,
                 48.122976603043696
                ],
                [
                 -1.6463050808640822,
                 48.11897166482779
                ],
                [
                 -1.6408716833999408,
                 48.113929804604346
                ],
                [
                 -1.6414760667125745,
                 48.11273506799522
                ],
                [
                 -1.6461035754264262,
                 48.111723316864186
                ],
                [
                 -1.6499260196843153,
                 48.11909018585779
                ],
                [
                 -1.6510118568101164,
                 48.12221755170688
                ]
               ]
              ]
             ],
             "type": "MultiPolygon"
            },
            "id": "54",
            "properties": {
             "LIBCOM": "Rennes",
             "LIB_IRIS": "Le Bois Perrin",
             "area_km2": 0.40090675999992875,
             "cleabs": "IRIS____0000000352380606",
             "code_insee": "35238",
             "code_iris": "352380606",
             "etabs_per_km2": 47.39256579261317,
             "iris": "0606",
             "nb_etabs": 19,
             "nb_etudiants": 4058,
             "nom_commune": "Rennes",
             "nom_iris": "Rennes",
             "students_per_km2": 10122.05431507496,
             "type_iris": "H"
            },
            "type": "Feature"
           },
           {
            "bbox": [
             -1.661939354316605,
             48.0959078777527,
             -1.649911765766439,
             48.10272936829975
            ],
            "geometry": {
             "coordinates": [
              [
               [
                [
                 -1.649911765766439,
                 48.10039732473807
                ],
                [
                 -1.6529081186406973,
                 48.098816859640074
                ],
                [
                 -1.6538791226044107,
                 48.09712978889959
                ],
                [
                 -1.6556739853731077,
                 48.098104477326274
                ],
                [
                 -1.6614792083961716,
                 48.0959078777527
                ],
                [
                 -1.6613561363413911,
                 48.096434675514075
                ],
                [
                 -1.6606457338789715,
                 48.09899850360874
                ],
                [
                 -1.661939354316605,
                 48.1008330682955
                ],
                [
                 -1.661423032619361,
                 48.10272936829975
                ],
                [
                 -1.6596122892553187,
                 48.10176079694709
                ],
                [
                 -1.649911765766439,
                 48.10039732473807
                ]
               ]
              ]
             ],
             "type": "MultiPolygon"
            },
            "id": "55",
            "properties": {
             "LIBCOM": "Rennes",
             "LIB_IRIS": "Croix Saint-Hélier",
             "area_km2": 0.31658841000142374,
             "cleabs": "IRIS____0000000352380701",
             "code_insee": "35238",
             "code_iris": "352380701",
             "etabs_per_km2": 0,
             "iris": "0701",
             "nb_etabs": 0,
             "nb_etudiants": 0,
             "nom_commune": "Rennes",
             "nom_iris": "Rennes",
             "students_per_km2": 0,
             "type_iris": "H"
            },
            "type": "Feature"
           },
           {
            "bbox": [
             -1.6638884545821273,
             48.09890948401573,
             -1.6435552728307807,
             48.10628873644695
            ],
            "geometry": {
             "coordinates": [
              [
               [
                [
                 -1.6507268305937242,
                 48.10600257557848
                ],
                [
                 -1.6451895226148265,
                 48.10628873644695
                ],
                [
                 -1.6450593679282948,
                 48.105757532586665
                ],
                [
                 -1.6435552728307807,
                 48.10106372419045
                ],
                [
                 -1.6451287772040217,
                 48.09890948401573
                ],
                [
                 -1.649911765766439,
                 48.10039732473807
                ],
                [
                 -1.6596122892553187,
                 48.10176079694709
                ],
                [
                 -1.661423032619361,
                 48.10272936829975
                ],
                [
                 -1.6638884545821273,
                 48.10431379827995
                ],
                [
                 -1.6507268305937242,
                 48.10600257557848
                ]
               ]
              ]
             ],
             "type": "MultiPolygon"
            },
            "id": "56",
            "properties": {
             "LIBCOM": "Rennes",
             "LIB_IRIS": "Cimetière de l'Est",
             "area_km2": 0.7138574899996923,
             "cleabs": "IRIS____0000000352380702",
             "code_insee": "35238",
             "code_iris": "352380702",
             "etabs_per_km2": 26.615956638639723,
             "iris": "0702",
             "nb_etabs": 19,
             "nb_etudiants": 1115,
             "nom_commune": "Rennes",
             "nom_iris": "Rennes",
             "students_per_km2": 1561.9364027412257,
             "type_iris": "H"
            },
            "type": "Feature"
           },
           {
            "bbox": [
             -1.6451287772040217,
             48.095167278329015,
             -1.6338874453743828,
             48.105757532586665
            ],
            "geometry": {
             "coordinates": [
              [
               [
                [
                 -1.6450593679282948,
                 48.105757532586665
                ],
                [
                 -1.6363466976498067,
                 48.1030784764761
                ],
                [
                 -1.6348339175233044,
                 48.10094491439595
                ],
                [
                 -1.6338874453743828,
                 48.09925237083636
                ],
                [
                 -1.6361095435783313,
                 48.098290534514824
                ],
                [
                 -1.6375712938163909,
                 48.095167278329015
                ],
                [
                 -1.6451287772040217,
                 48.09890948401573
                ],
                [
                 -1.6435552728307807,
                 48.10106372419045
                ],
                [
                 -1.6450593679282948,
                 48.105757532586665
                ]
               ]
              ]
             ],
             "type": "MultiPolygon"
            },
            "id": "57",
            "properties": {
             "LIBCOM": "Rennes",
             "LIB_IRIS": "Le Landry",
             "area_km2": 0.5490467900000694,
             "cleabs": "IRIS____0000000352380703",
             "code_insee": "35238",
             "code_iris": "352380703",
             "etabs_per_km2": 0,
             "iris": "0703",
             "nb_etabs": 0,
             "nb_etudiants": 0,
             "nom_commune": "Rennes",
             "nom_iris": "Rennes",
             "students_per_km2": 0,
             "type_iris": "H"
            },
            "type": "Feature"
           },
           {
            "bbox": [
             -1.6456305489187484,
             48.082378048347714,
             -1.6268182842862575,
             48.095167278329015
            ],
            "geometry": {
             "coordinates": [
              [
               [
                [
                 -1.6268453241295282,
                 48.092520001209614
                ],
                [
                 -1.6268182842862575,
                 48.09147363209678
                ],
                [
                 -1.6295042471329106,
                 48.08770021314889
                ],
                [
                 -1.6405897324352512,
                 48.082378048347714
                ],
                [
                 -1.643018947558249,
                 48.08375246771847
                ],
                [
                 -1.6445874790970543,
                 48.08750179060938
                ],
                [
                 -1.6456305489187484,
                 48.09130157546088
                ],
                [
                 -1.6375712938163909,
                 48.095167278329015
                ],
                [
                 -1.628490184900868,
                 48.092143459854604
                ],
                [
                 -1.6268453241295282,
                 48.092520001209614
                ]
               ]
              ]
             ],
             "type": "MultiPolygon"
            },
            "id": "58",
            "properties": {
             "LIBCOM": "Rennes",
             "LIB_IRIS": "La Poterie Sud",
             "area_km2": 1.1879986950004116,
             "cleabs": "IRIS____0000000352380705",
             "code_insee": "35238",
             "code_iris": "352380705",
             "etabs_per_km2": 51.34685775052881,
             "iris": "0705",
             "nb_etabs": 61,
             "nb_etudiants": 7457,
             "nom_commune": "Rennes",
             "nom_iris": "Rennes",
             "students_per_km2": 6276.942922060547,
             "type_iris": "H"
            },
            "type": "Feature"
           },
           {
            "bbox": [
             -1.6538791226044107,
             48.09130157546088,
             -1.6375712938163909,
             48.10039732473807
            ],
            "geometry": {
             "coordinates": [
              [
               [
                [
                 -1.6476926394989146,
                 48.093008598474825
                ],
                [
                 -1.6538791226044107,
                 48.09712978889959
                ],
                [
                 -1.6529081186406973,
                 48.098816859640074
                ],
                [
                 -1.649911765766439,
                 48.10039732473807
                ],
                [
                 -1.6451287772040217,
                 48.09890948401573
                ],
                [
                 -1.6375712938163909,
                 48.095167278329015
                ],
                [
                 -1.6456305489187484,
                 48.09130157546088
                ],
                [
                 -1.6476926394989146,
                 48.093008598474825
                ]
               ]
              ]
             ],
             "type": "MultiPolygon"
            },
            "id": "59",
            "properties": {
             "LIBCOM": "Rennes",
             "LIB_IRIS": "La Poterie Nord",
             "area_km2": 0.612370260001838,
             "cleabs": "IRIS____0000000352380706",
             "code_insee": "35238",
             "code_iris": "352380706",
             "etabs_per_km2": 0,
             "iris": "0706",
             "nb_etabs": 0,
             "nb_etudiants": 0,
             "nom_commune": "Rennes",
             "nom_iris": "Rennes",
             "students_per_km2": 0,
             "type_iris": "H"
            },
            "type": "Feature"
           },
           {
            "bbox": [
             -1.6618005019795394,
             48.09130157546088,
             -1.6456305489187484,
             48.093509982757624
            ],
            "geometry": {
             "coordinates": [
              [
               [
                [
                 -1.6456305489187484,
                 48.09130157546088
                ],
                [
                 -1.6550277848076895,
                 48.091427056361816
                ],
                [
                 -1.661690262723216,
                 48.091513178987654
                ],
                [
                 -1.6618005019795394,
                 48.093509982757624
                ],
                [
                 -1.6520580541044099,
                 48.09247921897869
                ],
                [
                 -1.6476926394989146,
                 48.093008598474825
                ],
                [
                 -1.6456305489187484,
                 48.09130157546088
                ]
               ]
              ]
             ],
             "type": "MultiPolygon"
            },
            "id": "60",
            "properties": {
             "LIBCOM": "Rennes",
             "LIB_IRIS": "Fernand Jacq",
             "area_km2": 0.18784784500045457,
             "cleabs": "IRIS____0000000352380707",
             "code_insee": "35238",
             "code_iris": "352380707",
             "etabs_per_km2": 0,
             "iris": "0707",
             "nb_etabs": 0,
             "nb_etudiants": 0,
             "nom_commune": "Rennes",
             "nom_iris": "Rennes",
             "students_per_km2": 0,
             "type_iris": "H"
            },
            "type": "Feature"
           },
           {
            "bbox": [
             -1.6618005019795394,
             48.09247921897869,
             -1.6476926394989146,
             48.098104477326274
            ],
            "geometry": {
             "coordinates": [
              [
               [
                [
                 -1.6614792083961716,
                 48.0959078777527
                ],
                [
                 -1.6556739853731077,
                 48.098104477326274
                ],
                [
                 -1.6538791226044107,
                 48.09712978889959
                ],
                [
                 -1.6476926394989146,
                 48.093008598474825
                ],
                [
                 -1.6520580541044099,
                 48.09247921897869
                ],
                [
                 -1.6618005019795394,
                 48.093509982757624
                ],
                [
                 -1.6614792083961716,
                 48.0959078777527
                ]
               ]
              ]
             ],
             "type": "MultiPolygon"
            },
            "id": "61",
            "properties": {
             "LIBCOM": "Rennes",
             "LIB_IRIS": "Fransisco Ferrer",
             "area_km2": 0.3810972449991827,
             "cleabs": "IRIS____0000000352380708",
             "code_insee": "35238",
             "code_iris": "352380708",
             "etabs_per_km2": 0,
             "iris": "0708",
             "nb_etabs": 0,
             "nb_etudiants": 0,
             "nom_commune": "Rennes",
             "nom_iris": "Rennes",
             "students_per_km2": 0,
             "type_iris": "H"
            },
            "type": "Feature"
           },
           {
            "bbox": [
             -1.670692662481678,
             48.096434675514075,
             -1.6606457338789715,
             48.10431379827995
            ],
            "geometry": {
             "coordinates": [
              [
               [
                [
                 -1.661423032619361,
                 48.10272936829975
                ],
                [
                 -1.661939354316605,
                 48.1008330682955
                ],
                [
                 -1.6606457338789715,
                 48.09899850360874
                ],
                [
                 -1.6613561363413911,
                 48.096434675514075
                ],
                [
                 -1.6631943684207586,
                 48.09782309448863
                ],
                [
                 -1.6668514288858727,
                 48.09806130371548
                ],
                [
                 -1.666666572299219,
                 48.09953344960037
                ],
                [
                 -1.6704069470373821,
                 48.10199117371215
                ],
                [
                 -1.670692662481678,
                 48.10342663180804
                ],
                [
                 -1.6638884545821273,
                 48.10431379827995
                ],
                [
                 -1.661423032619361,
                 48.10272936829975
                ]
               ]
              ]
             ],
             "type": "MultiPolygon"
            },
            "id": "62",
            "properties": {
             "LIBCOM": "Rennes",
             "LIB_IRIS": "Albert de Mun",
             "area_km2": 0.36865172500065235,
             "cleabs": "IRIS____0000000352380801",
             "code_insee": "35238",
             "code_iris": "352380801",
             "etabs_per_km2": 0,
             "iris": "0801",
             "nb_etabs": 0,
             "nb_etudiants": 0,
             "nom_commune": "Rennes",
             "nom_iris": "Rennes",
             "students_per_km2": 0,
             "type_iris": "H"
            },
            "type": "Feature"
           },
           {
            "bbox": [
             -1.6688929878178422,
             48.091478551572855,
             -1.6613561363413911,
             48.09806130371548
            ],
            "geometry": {
             "coordinates": [
              [
               [
                [
                 -1.6614792083961716,
                 48.0959078777527
                ],
                [
                 -1.6618005019795394,
                 48.093509982757624
                ],
                [
                 -1.661690262723216,
                 48.091513178987654
                ],
                [
                 -1.6649211709906397,
                 48.09153213072698
                ],
                [
                 -1.6674783044992063,
                 48.091478551572855
                ],
                [
                 -1.6688929878178422,
                 48.093479523517175
                ],
                [
                 -1.6668514288858727,
                 48.09806130371548
                ],
                [
                 -1.6631943684207586,
                 48.09782309448863
                ],
                [
                 -1.6613561363413911,
                 48.096434675514075
                ],
                [
                 -1.6614792083961716,
                 48.0959078777527
                ]
               ]
              ]
             ],
             "type": "MultiPolygon"
            },
            "id": "63",
            "properties": {
             "LIBCOM": "Rennes",
             "LIB_IRIS": "Coutenceau",
             "area_km2": 0.3281041150000331,
             "cleabs": "IRIS____0000000352380802",
             "code_insee": "35238",
             "code_iris": "352380802",
             "etabs_per_km2": 6.095626078934725,
             "iris": "0802",
             "nb_etabs": 2,
             "nb_etudiants": 128,
             "nom_commune": "Rennes",
             "nom_iris": "Rennes",
             "students_per_km2": 390.1200690518224,
             "type_iris": "H"
            },
            "type": "Feature"
           },
           {
            "bbox": [
             -1.6749501193214646,
             48.088254888506825,
             -1.6642295739236885,
             48.093818780900364
            ],
            "geometry": {
             "coordinates": [
              [
               [
                [
                 -1.6688929878178422,
                 48.093479523517175
                ],
                [
                 -1.6674783044992063,
                 48.091478551572855
                ],
                [
                 -1.6649211709906397,
                 48.09153213072698
                ],
                [
                 -1.6642295739236885,
                 48.088254888506825
                ],
                [
                 -1.669173191249012,
                 48.088336550448815
                ],
                [
                 -1.6749501193214646,
                 48.08895552591077
                ],
                [
                 -1.6748024485545716,
                 48.092107406953495
                ],
                [
                 -1.6744506157541166,
                 48.093818780900364
                ],
                [
                 -1.6688929878178422,
                 48.093479523517175
                ]
               ]
              ]
             ],
             "type": "MultiPolygon"
            },
            "id": "64",
            "properties": {
             "LIBCOM": "Rennes",
             "LIB_IRIS": "Gaëtan Hervé",
             "area_km2": 0.3717504749996179,
             "cleabs": "IRIS____0000000352380803",
             "code_insee": "35238",
             "code_iris": "352380803",
             "etabs_per_km2": 0,
             "iris": "0803",
             "nb_etabs": 0,
             "nb_etudiants": 0,
             "nom_commune": "Rennes",
             "nom_iris": "Rennes",
             "students_per_km2": 0,
             "type_iris": "H"
            },
            "type": "Feature"
           },
           {
            "bbox": [
             -1.6751405125524157,
             48.093479523517175,
             -1.6668514288858727,
             48.09806130371548
            ],
            "geometry": {
             "coordinates": [
              [
               [
                [
                 -1.6668514288858727,
                 48.09806130371548
                ],
                [
                 -1.6688929878178422,
                 48.093479523517175
                ],
                [
                 -1.6744506157541166,
                 48.093818780900364
                ],
                [
                 -1.6751405125524157,
                 48.09738811114686
                ],
                [
                 -1.6668514288858727,
                 48.09806130371548
                ]
               ]
              ]
             ],
             "type": "MultiPolygon"
            },
            "id": "65",
            "properties": {
             "LIBCOM": "Rennes",
             "LIB_IRIS": "Jean-Baptiste Barre",
             "area_km2": 0.23250188999974192,
             "cleabs": "IRIS____0000000352380804",
             "code_insee": "35238",
             "code_iris": "352380804",
             "etabs_per_km2": 0,
             "iris": "0804",
             "nb_etabs": 0,
             "nb_etudiants": 0,
             "nom_commune": "Rennes",
             "nom_iris": "Rennes",
             "students_per_km2": 0,
             "type_iris": "H"
            },
            "type": "Feature"
           },
           {
            "bbox": [
             -1.6766869895382523,
             48.09738811114686,
             -1.666666572299219,
             48.10342663180804
            ],
            "geometry": {
             "coordinates": [
              [
               [
                [
                 -1.676602665813281,
                 48.10288467322542
                ],
                [
                 -1.670692662481678,
                 48.10342663180804
                ],
                [
                 -1.6704069470373821,
                 48.10199117371215
                ],
                [
                 -1.666666572299219,
                 48.09953344960037
                ],
                [
                 -1.6668514288858727,
                 48.09806130371548
                ],
                [
                 -1.6751405125524157,
                 48.09738811114686
                ],
                [
                 -1.6766869895382523,
                 48.10275782809811
                ],
                [
                 -1.676602665813281,
                 48.10288467322542
                ]
               ]
              ]
             ],
             "type": "MultiPolygon"
            },
            "id": "66",
            "properties": {
             "LIBCOM": "Rennes",
             "LIB_IRIS": "Haut Quineleu",
             "area_km2": 0.34315493000110037,
             "cleabs": "IRIS____0000000352380805",
             "code_insee": "35238",
             "code_iris": "352380805",
             "etabs_per_km2": 0,
             "iris": "0805",
             "nb_etabs": 0,
             "nb_etudiants": 0,
             "nom_commune": "Rennes",
             "nom_iris": "Rennes",
             "students_per_km2": 0,
             "type_iris": "H"
            },
            "type": "Feature"
           },
           {
            "bbox": [
             -1.6818086212728816,
             48.093818780900364,
             -1.6744506157541166,
             48.10275782809811
            ],
            "geometry": {
             "coordinates": [
              [
               [
                [
                 -1.6744506157541166,
                 48.093818780900364
                ],
                [
                 -1.6800210076340525,
                 48.094149158649834
                ],
                [
                 -1.6818086212728816,
                 48.09426287934622
                ],
                [
                 -1.6812899902448448,
                 48.10213862703802
                ],
                [
                 -1.6766869895382523,
                 48.10275782809811
                ],
                [
                 -1.6751405125524157,
                 48.09738811114686
                ],
                [
                 -1.6744506157541166,
                 48.093818780900364
                ]
               ]
              ]
             ],
             "type": "MultiPolygon"
            },
            "id": "67",
            "properties": {
             "LIBCOM": "Rennes",
             "LIB_IRIS": "Margueritte",
             "area_km2": 0.4242628649991428,
             "cleabs": "IRIS____0000000352380806",
             "code_insee": "35238",
             "code_iris": "352380806",
             "etabs_per_km2": 0,
             "iris": "0806",
             "nb_etabs": 0,
             "nb_etudiants": 0,
             "nom_commune": "Rennes",
             "nom_iris": "Rennes",
             "students_per_km2": 0,
             "type_iris": "H"
            },
            "type": "Feature"
           },
           {
            "bbox": [
             -1.6855948677730859,
             48.09426287934622,
             -1.6812899902448448,
             48.10213862703802
            ],
            "geometry": {
             "coordinates": [
              [
               [
                [
                 -1.6818086212728816,
                 48.09426287934622
                ],
                [
                 -1.6855948677730859,
                 48.09448725078879
                ],
                [
                 -1.6844590775092763,
                 48.101604241583836
                ],
                [
                 -1.6843667685300405,
                 48.10168633899426
                ],
                [
                 -1.6812899902448448,
                 48.10213862703802
                ],
                [
                 -1.6818086212728816,
                 48.09426287934622
                ]
               ]
              ]
             ],
             "type": "MultiPolygon"
            },
            "id": "68",
            "properties": {
             "LIBCOM": "Rennes",
             "LIB_IRIS": "Villeneuve",
             "area_km2": 0.21547859500001493,
             "cleabs": "IRIS____0000000352380807",
             "code_insee": "35238",
             "code_iris": "352380807",
             "etabs_per_km2": 0,
             "iris": "0807",
             "nb_etabs": 0,
             "nb_etudiants": 0,
             "nom_commune": "Rennes",
             "nom_iris": "Rennes",
             "students_per_km2": 0,
             "type_iris": "H"
            },
            "type": "Feature"
           },
           {
            "bbox": [
             -1.6940657132476296,
             48.09448725078879,
             -1.6844590775092763,
             48.101604241583836
            ],
            "geometry": {
             "coordinates": [
              [
               [
                [
                 -1.6940657132476296,
                 48.09721563591297
                ],
                [
                 -1.6901828499550984,
                 48.10021082410814
                ],
                [
                 -1.6844590775092763,
                 48.101604241583836
                ],
                [
                 -1.6855948677730859,
                 48.09448725078879
                ],
                [
                 -1.6902308307196552,
                 48.094718218712735
                ],
                [
                 -1.6893175954246784,
                 48.09649708864472
                ],
                [
                 -1.6940657132476296,
                 48.09721563591297
                ]
               ]
              ]
             ],
             "type": "MultiPolygon"
            },
            "id": "69",
            "properties": {
             "LIBCOM": "Rennes",
             "LIB_IRIS": "La Madeleine Mauconseil",
             "area_km2": 0.31729267000069145,
             "cleabs": "IRIS____0000000352380808",
             "code_insee": "35238",
             "code_iris": "352380808",
             "etabs_per_km2": 47.274965412744365,
             "iris": "0808",
             "nb_etabs": 15,
             "nb_etudiants": 412,
             "nom_commune": "Rennes",
             "nom_iris": "Rennes",
             "students_per_km2": 1298.4857166700453,
             "type_iris": "H"
            },
            "type": "Feature"
           },
           {
            "bbox": [
             -1.6901411575697136,
             48.10107516469352,
             -1.6843667685300405,
             48.10976453109969
            ],
            "geometry": {
             "coordinates": [
              [
               [
                [
                 -1.6845360914833716,
                 48.10848273550847
                ],
                [
                 -1.6843969617394272,
                 48.10547207122139
                ],
                [
                 -1.6843667685300405,
                 48.10168633899426
                ],
                [
                 -1.6901411575697136,
                 48.10107516469352
                ],
                [
                 -1.68950520790248,
                 48.10813171888739
                ],
                [
                 -1.684582472061626,
                 48.10976453109969
                ],
                [
                 -1.6845360914833716,
                 48.10848273550847
                ]
               ]
              ]
             ],
             "type": "MultiPolygon"
            },
            "id": "70",
            "properties": {
             "LIBCOM": "Rennes",
             "LIB_IRIS": "Arsenal",
             "area_km2": 0.33504749000011774,
             "cleabs": "IRIS____0000000352380901",
             "code_insee": "35238",
             "code_iris": "352380901",
             "etabs_per_km2": 146.24792443597408,
             "iris": "0901",
             "nb_etabs": 49,
             "nb_etudiants": 2967,
             "nom_commune": "Rennes",
             "nom_iris": "Rennes",
             "students_per_km2": 8855.461057174185,
             "type_iris": "H"
            },
            "type": "Feature"
           },
           {
            "bbox": [
             -1.7007304868953192,
             48.10107516469352,
             -1.68950520790248,
             48.10813171888739
            ],
            "geometry": {
             "coordinates": [
              [
               [
                [
                 -1.6976737425830142,
                 48.107509574685864
                ],
                [
                 -1.692340369312412,
                 48.10728951948942
                ],
                [
                 -1.68950520790248,
                 48.10813171888739
                ],
                [
                 -1.6901411575697136,
                 48.10107516469352
                ],
                [
                 -1.696748675016925,
                 48.10263090120491
                ],
                [
                 -1.7007304868953192,
                 48.10684492617173
                ],
                [
                 -1.6976737425830142,
                 48.107509574685864
                ]
               ]
              ]
             ],
             "type": "MultiPolygon"
            },
            "id": "71",
            "properties": {
             "LIBCOM": "Rennes",
             "LIB_IRIS": "La Mabilais",
             "area_km2": 0.4071856600004299,
             "cleabs": "IRIS____0000000352380902",
             "code_insee": "35238",
             "code_iris": "352380902",
             "etabs_per_km2": 0,
             "iris": "0902",
             "nb_etabs": 0,
             "nb_etudiants": 0,
             "nom_commune": "Rennes",
             "nom_iris": "Rennes",
             "students_per_km2": 0,
             "type_iris": "H"
            },
            "type": "Feature"
           },
           {
            "bbox": [
             -1.7171028959510943,
             48.094784544331816,
             -1.7049743146583942,
             48.1072358025265
            ],
            "geometry": {
             "coordinates": [
              [
               [
                [
                 -1.7049743146583942,
                 48.098867077750775
                ],
                [
                 -1.707843776281029,
                 48.095291687547785
                ],
                [
                 -1.7105165876636939,
                 48.09481247461049
                ],
                [
                 -1.7107415116606923,
                 48.094784544331816
                ],
                [
                 -1.7149455728103453,
                 48.09986906408498
                ],
                [
                 -1.7171028959510943,
                 48.1053707994741
                ],
                [
                 -1.715230695511666,
                 48.10633551930654
                ],
                [
                 -1.7094480399779068,
                 48.1072358025265
                ],
                [
                 -1.706195183381964,
                 48.106665420066676
                ],
                [
                 -1.70856432269413,
                 48.10645713096703
                ],
                [
                 -1.7084230262809665,
                 48.104585057478566
                ],
                [
                 -1.7049743146583942,
                 48.098867077750775
                ]
               ]
              ]
             ],
             "type": "MultiPolygon"
            },
            "id": "72",
            "properties": {
             "LIBCOM": "Rennes",
             "LIB_IRIS": "Cleunay Ouest",
             "area_km2": 0.76398491999957,
             "cleabs": "IRIS____0000000352380904",
             "code_insee": "35238",
             "code_iris": "352380904",
             "etabs_per_km2": 0,
             "iris": "0904",
             "nb_etabs": 0,
             "nb_etudiants": 0,
             "nom_commune": "Rennes",
             "nom_iris": "Rennes",
             "students_per_km2": 0,
             "type_iris": "H"
            },
            "type": "Feature"
           },
           {
            "bbox": [
             -1.70856432269413,
             48.098867077750775,
             -1.696748675016925,
             48.10684492617173
            ],
            "geometry": {
             "coordinates": [
              [
               [
                [
                 -1.696748675016925,
                 48.10263090120491
                ],
                [
                 -1.7049743146583942,
                 48.098867077750775
                ],
                [
                 -1.7084230262809665,
                 48.104585057478566
                ],
                [
                 -1.70856432269413,
                 48.10645713096703
                ],
                [
                 -1.706195183381964,
                 48.106665420066676
                ],
                [
                 -1.7007304868953192,
                 48.10684492617173
                ],
                [
                 -1.696748675016925,
                 48.10263090120491
                ]
               ]
              ]
             ],
             "type": "MultiPolygon"
            },
            "id": "73",
            "properties": {
             "LIBCOM": "Rennes",
             "LIB_IRIS": "Cleunay Est",
             "area_km2": 0.48332635000090535,
             "cleabs": "IRIS____0000000352380906",
             "code_insee": "35238",
             "code_iris": "352380906",
             "etabs_per_km2": 0,
             "iris": "0906",
             "nb_etabs": 0,
             "nb_etudiants": 0,
             "nom_commune": "Rennes",
             "nom_iris": "Rennes",
             "students_per_km2": 0,
             "type_iris": "H"
            },
            "type": "Feature"
           },
           {
            "bbox": [
             -1.707843776281029,
             48.095291687547785,
             -1.6843667685300405,
             48.10263090120491
            ],
            "geometry": {
             "coordinates": [
              [
               [
                [
                 -1.6901411575697136,
                 48.10107516469352
                ],
                [
                 -1.6843667685300405,
                 48.10168633899426
                ],
                [
                 -1.6844590775092763,
                 48.101604241583836
                ],
                [
                 -1.6901828499550984,
                 48.10021082410814
                ],
                [
                 -1.6940657132476296,
                 48.09721563591297
                ],
                [
                 -1.707843776281029,
                 48.095291687547785
                ],
                [
                 -1.7049743146583942,
                 48.098867077750775
                ],
                [
                 -1.696748675016925,
                 48.10263090120491
                ],
                [
                 -1.6901411575697136,
                 48.10107516469352
                ]
               ]
              ]
             ],
             "type": "MultiPolygon"
            },
            "id": "74",
            "properties": {
             "LIBCOM": "Rennes",
             "LIB_IRIS": "La Courrouze",
             "area_km2": 0.5729812649990507,
             "cleabs": "IRIS____0000000352380907",
             "code_insee": "35238",
             "code_iris": "352380907",
             "etabs_per_km2": 0,
             "iris": "0907",
             "nb_etabs": 0,
             "nb_etudiants": 0,
             "nom_commune": "Rennes",
             "nom_iris": "Rennes",
             "students_per_km2": 0,
             "type_iris": "H"
            },
            "type": "Feature"
           },
           {
            "bbox": [
             -1.7096513235105892,
             48.111582631094514,
             -1.6882926277828927,
             48.12678552466272
            ],
            "geometry": {
             "coordinates": [
              [
               [
                [
                 -1.7028696187242391,
                 48.124567492820724
                ],
                [
                 -1.6882926277828927,
                 48.12678552466272
                ],
                [
                 -1.6884668534503362,
                 48.12281862565057
                ],
                [
                 -1.69072305742316,
                 48.119102350760095
                ],
                [
                 -1.6996374542896227,
                 48.11440748317969
                ],
                [
                 -1.7015505725660172,
                 48.111582631094514
                ],
                [
                 -1.7023669837932718,
                 48.11204402692355
                ],
                [
                 -1.7096513235105892,
                 48.11642965797766
                ],
                [
                 -1.7047325402708917,
                 48.1158879589008
                ],
                [
                 -1.7044489373280953,
                 48.12134849664618
                ],
                [
                 -1.7028696187242391,
                 48.124567492820724
                ]
               ]
              ]
             ],
             "type": "MultiPolygon"
            },
            "id": "75",
            "properties": {
             "LIBCOM": "Rennes",
             "LIB_IRIS": "Pontchaillou",
             "area_km2": 1.2910261299999655,
             "cleabs": "IRIS____0000000352381001",
             "code_insee": "35238",
             "code_iris": "352381001",
             "etabs_per_km2": 245.54111852097716,
             "iris": "1001",
             "nb_etabs": 317,
             "nb_etudiants": 228966,
             "nom_commune": "Rennes",
             "nom_iris": "Rennes",
             "students_per_km2": 177351.94871695287,
             "type_iris": "H"
            },
            "type": "Feature"
           },
           {
            "bbox": [
             -1.7086203602014163,
             48.1158879589008,
             -1.7044489373280953,
             48.12134849664618
            ],
            "geometry": {
             "coordinates": [
              [
               [
                [
                 -1.7044489373280953,
                 48.12134849664618
                ],
                [
                 -1.7047325402708917,
                 48.1158879589008
                ],
                [
                 -1.707983158101867,
                 48.11710662819091
                ],
                [
                 -1.7084692688721481,
                 48.12050546983751
                ],
                [
                 -1.7086203602014163,
                 48.12132424976127
                ],
                [
                 -1.7044489373280953,
                 48.12134849664618
                ]
               ]
              ]
             ],
             "type": "MultiPolygon"
            },
            "id": "76",
            "properties": {
             "LIBCOM": "Rennes",
             "LIB_IRIS": "Villejean Sud-Est",
             "area_km2": 0.14715146999973083,
             "cleabs": "IRIS____0000000352381002",
             "code_insee": "35238",
             "code_iris": "352381002",
             "etabs_per_km2": 0,
             "iris": "1002",
             "nb_etabs": 0,
             "nb_etudiants": 0,
             "nom_commune": "Rennes",
             "nom_iris": "Rennes",
             "students_per_km2": 0,
             "type_iris": "H"
            },
            "type": "Feature"
           },
           {
            "bbox": [
             -1.7258757099394395,
             48.1158879589008,
             -1.7047325402708917,
             48.121914096819545
            ],
            "geometry": {
             "coordinates": [
              [
               [
                [
                 -1.7258757099394395,
                 48.117015672333046
                ],
                [
                 -1.7243914348529585,
                 48.12078470240319
                ],
                [
                 -1.720027894123501,
                 48.119563290156485
                ],
                [
                 -1.719424824270178,
                 48.121914096819545
                ],
                [
                 -1.71345993204691,
                 48.12137949147563
                ],
                [
                 -1.7134782773223878,
                 48.12055934340576
                ],
                [
                 -1.7084692688721481,
                 48.12050546983751
                ],
                [
                 -1.707983158101867,
                 48.11710662819091
                ],
                [
                 -1.7047325402708917,
                 48.1158879589008
                ],
                [
                 -1.7096513235105892,
                 48.11642965797766
                ],
                [
                 -1.7196461130524496,
                 48.116135043310145
                ],
                [
                 -1.7258757099394395,
                 48.117015672333046
                ]
               ]
              ]
             ],
             "type": "MultiPolygon"
            },
            "id": "77",
            "properties": {
             "LIBCOM": "Rennes",
             "LIB_IRIS": "Villejean Sud-Ouest",
             "area_km2": 0.6405803650001137,
             "cleabs": "IRIS____0000000352381003",
             "code_insee": "35238",
             "code_iris": "352381003",
             "etabs_per_km2": 0,
             "iris": "1003",
             "nb_etabs": 0,
             "nb_etudiants": 0,
             "nom_commune": "Rennes",
             "nom_iris": "Rennes",
             "students_per_km2": 0,
             "type_iris": "H"
            },
            "type": "Feature"
           },
           {
            "bbox": [
             -1.719424824270178,
             48.12137949147563,
             -1.7087616443537414,
             48.12488871631062
            ],
            "geometry": {
             "coordinates": [
              [
               [
                [
                 -1.7163677235532244,
                 48.12488871631062
                ],
                [
                 -1.7129395112146792,
                 48.124252483968505
                ],
                [
                 -1.709276915057772,
                 48.12458015116414
                ],
                [
                 -1.7087616443537414,
                 48.12200279637263
                ],
                [
                 -1.7134502443962,
                 48.122070386033904
                ],
                [
                 -1.71345993204691,
                 48.12137949147563
                ],
                [
                 -1.719424824270178,
                 48.121914096819545
                ],
                [
                 -1.7163677235532244,
                 48.12488871631062
                ]
               ]
              ]
             ],
             "type": "MultiPolygon"
            },
            "id": "78",
            "properties": {
             "LIBCOM": "Rennes",
             "LIB_IRIS": "Villejean Nord-Ouest",
             "area_km2": 0.2030017400004283,
             "cleabs": "IRIS____0000000352381004",
             "code_insee": "35238",
             "code_iris": "352381004",
             "etabs_per_km2": 0,
             "iris": "1004",
             "nb_etabs": 0,
             "nb_etudiants": 0,
             "nom_commune": "Rennes",
             "nom_iris": "Rennes",
             "students_per_km2": 0,
             "type_iris": "H"
            },
            "type": "Feature"
           },
           {
            "bbox": [
             -1.709276915057772,
             48.12132424976127,
             -1.7028696187242391,
             48.12458015116414
            ],
            "geometry": {
             "coordinates": [
              [
               [
                [
                 -1.7044489373280953,
                 48.12134849664618
                ],
                [
                 -1.7086203602014163,
                 48.12132424976127
                ],
                [
                 -1.7087616443537414,
                 48.12200279637263
                ],
                [
                 -1.709276915057772,
                 48.12458015116414
                ],
                [
                 -1.7028696187242391,
                 48.124567492820724
                ],
                [
                 -1.7044489373280953,
                 48.12134849664618
                ]
               ]
              ]
             ],
             "type": "MultiPolygon"
            },
            "id": "79",
            "properties": {
             "LIBCOM": "Rennes",
             "LIB_IRIS": "Villejean Nord-Est",
             "area_km2": 0.14163461000026714,
             "cleabs": "IRIS____0000000352381005",
             "code_insee": "35238",
             "code_iris": "352381005",
             "etabs_per_km2": 0,
             "iris": "1005",
             "nb_etabs": 0,
             "nb_etudiants": 0,
             "nom_commune": "Rennes",
             "nom_iris": "Rennes",
             "students_per_km2": 0,
             "type_iris": "H"
            },
            "type": "Feature"
           },
           {
            "bbox": [
             -1.7134782773223878,
             48.12050546983751,
             -1.7084692688721481,
             48.122070386033904
            ],
            "geometry": {
             "coordinates": [
              [
               [
                [
                 -1.71345993204691,
                 48.12137949147563
                ],
                [
                 -1.7134502443962,
                 48.122070386033904
                ],
                [
                 -1.7087616443537414,
                 48.12200279637263
                ],
                [
                 -1.7086203602014163,
                 48.12132424976127
                ],
                [
                 -1.7084692688721481,
                 48.12050546983751
                ],
                [
                 -1.7134782773223878,
                 48.12055934340576
                ],
                [
                 -1.71345993204691,
                 48.12137949147563
                ]
               ]
              ]
             ],
             "type": "MultiPolygon"
            },
            "id": "80",
            "properties": {
             "LIBCOM": "Rennes",
             "LIB_IRIS": "Dalle Kennedy",
             "area_km2": 0.060279210000402726,
             "cleabs": "IRIS____0000000352381006",
             "code_insee": "35238",
             "code_iris": "352381006",
             "etabs_per_km2": 0,
             "iris": "1006",
             "nb_etabs": 0,
             "nb_etudiants": 0,
             "nom_commune": "Rennes",
             "nom_iris": "Rennes",
             "students_per_km2": 0,
             "type_iris": "H"
            },
            "type": "Feature"
           },
           {
            "bbox": [
             -1.7163677235532244,
             48.124252483968505,
             -1.6882135401701543,
             48.13901305697342
            ],
            "geometry": {
             "coordinates": [
              [
               [
                [
                 -1.709276915057772,
                 48.12458015116414
                ],
                [
                 -1.7129395112146792,
                 48.124252483968505
                ],
                [
                 -1.7163677235532244,
                 48.12488871631062
                ],
                [
                 -1.704719555022326,
                 48.135749830635675
                ],
                [
                 -1.6988220062579975,
                 48.13901305697342
                ],
                [
                 -1.6936118678132963,
                 48.13373194258895
                ],
                [
                 -1.6973345649497336,
                 48.13233150123201
                ],
                [
                 -1.6923126765341148,
                 48.12988683247029
                ],
                [
                 -1.6883084767371372,
                 48.129162850872156
                ],
                [
                 -1.6882135401701543,
                 48.12909451496909
                ],
                [
                 -1.6882926277828927,
                 48.12678552466272
                ],
                [
                 -1.7028696187242391,
                 48.124567492820724
                ],
                [
                 -1.709276915057772,
                 48.12458015116414
                ]
               ]
              ]
             ],
             "type": "MultiPolygon"
            },
            "id": "81",
            "properties": {
             "LIBCOM": "Rennes",
             "LIB_IRIS": "Beauregard",
             "area_km2": 1.734366710001087,
             "cleabs": "IRIS____0000000352381007",
             "code_insee": "35238",
             "code_iris": "352381007",
             "etabs_per_km2": 66.88320257249823,
             "iris": "1007",
             "nb_etabs": 116,
             "nb_etudiants": 65648,
             "nom_commune": "Rennes",
             "nom_iris": "Rennes",
             "students_per_km2": 37851.28002137382,
             "type_iris": "H"
            },
            "type": "Feature"
           },
           {
            "bbox": [
             -1.661690262723216,
             48.08808978256236,
             -1.6547364906801432,
             48.091513178987654
            ],
            "geometry": {
             "coordinates": [
              [
               [
                [
                 -1.661690262723216,
                 48.091513178987654
                ],
                [
                 -1.6550277848076895,
                 48.091427056361816
                ],
                [
                 -1.6547364906801432,
                 48.08808978256236
                ],
                [
                 -1.6608747671341386,
                 48.08814077266284
                ],
                [
                 -1.661690262723216,
                 48.091513178987654
                ]
               ]
              ]
             ],
             "type": "MultiPolygon"
            },
            "id": "82",
            "properties": {
             "LIBCOM": "Rennes",
             "LIB_IRIS": "Le Landrel Ouest",
             "area_km2": 0.17734499499961606,
             "cleabs": "IRIS____0000000352381101",
             "code_insee": "35238",
             "code_iris": "352381101",
             "etabs_per_km2": 0,
             "iris": "1101",
             "nb_etabs": 0,
             "nb_etudiants": 0,
             "nom_commune": "Rennes",
             "nom_iris": "Rennes",
             "students_per_km2": 0,
             "type_iris": "H"
            },
            "type": "Feature"
           },
           {
            "bbox": [
             -1.6550277848076895,
             48.08749008630866,
             -1.6445874790970543,
             48.091427056361816
            ],
            "geometry": {
             "coordinates": [
              [
               [
                [
                 -1.6550277848076895,
                 48.091427056361816
                ],
                [
                 -1.6456305489187484,
                 48.09130157546088
                ],
                [
                 -1.6445874790970543,
                 48.08750179060938
                ],
                [
                 -1.6509797755149105,
                 48.08749008630866
                ],
                [
                 -1.6538538902352848,
                 48.08757030201242
                ],
                [
                 -1.6547364906801432,
                 48.08808978256236
                ],
                [
                 -1.6550277848076895,
                 48.091427056361816
                ]
               ]
              ]
             ],
             "type": "MultiPolygon"
            },
            "id": "83",
            "properties": {
             "LIBCOM": "Rennes",
             "LIB_IRIS": "Le Landrel Est Les Hautes Ourmes",
             "area_km2": 0.3085178599988635,
             "cleabs": "IRIS____0000000352381102",
             "code_insee": "35238",
             "code_iris": "352381102",
             "etabs_per_km2": 0,
             "iris": "1102",
             "nb_etabs": 0,
             "nb_etudiants": 0,
             "nom_commune": "Rennes",
             "nom_iris": "Rennes",
             "students_per_km2": 0,
             "type_iris": "H"
            },
            "type": "Feature"
           },
           {
            "bbox": [
             -1.6611105268859374,
             48.07987946652434,
             -1.6405897324352512,
             48.08750179060938
            ],
            "geometry": {
             "coordinates": [
              [
               [
                [
                 -1.6509797755149105,
                 48.08749008630866
                ],
                [
                 -1.6445874790970543,
                 48.08750179060938
                ],
                [
                 -1.643018947558249,
                 48.08375246771847
                ],
                [
                 -1.6405897324352512,
                 48.082378048347714
                ],
                [
                 -1.6496535765485778,
                 48.07987946652434
                ],
                [
                 -1.661005367448139,
                 48.08249805072945
                ],
                [
                 -1.6611105268859374,
                 48.08491062637829
                ],
                [
                 -1.6576319382903753,
                 48.084717495150315
                ],
                [
                 -1.6511084701535725,
                 48.08453464029333
                ],
                [
                 -1.6509797755149105,
                 48.08749008630866
                ]
               ]
              ]
             ],
             "type": "MultiPolygon"
            },
            "id": "84",
            "properties": {
             "LIBCOM": "Rennes",
             "LIB_IRIS": "Sainte-Élisabeth-Grèce",
             "area_km2": 0.7262832949994837,
             "cleabs": "IRIS____0000000352381103",
             "code_insee": "35238",
             "code_iris": "352381103",
             "etabs_per_km2": 0,
             "iris": "1103",
             "nb_etabs": 0,
             "nb_etudiants": 0,
             "nom_commune": "Rennes",
             "nom_iris": "Rennes",
             "students_per_km2": 0,
             "type_iris": "H"
            },
            "type": "Feature"
           },
           {
            "bbox": [
             -1.66116770610287,
             48.084717495150315,
             -1.6538538902352848,
             48.08814077266284
            ],
            "geometry": {
             "coordinates": [
              [
               [
                [
                 -1.6547364906801432,
                 48.08808978256236
                ],
                [
                 -1.6538538902352848,
                 48.08757030201242
                ],
                [
                 -1.653886904706167,
                 48.08658554170675
                ],
                [
                 -1.6576319382903753,
                 48.084717495150315
                ],
                [
                 -1.6611105268859374,
                 48.08491062637829
                ],
                [
                 -1.6610864365345448,
                 48.08540015611545
                ],
                [
                 -1.66116770610287,
                 48.08645882372341
                ],
                [
                 -1.6608747671341386,
                 48.08814077266284
                ],
                [
                 -1.6547364906801432,
                 48.08808978256236
                ]
               ]
              ]
             ],
             "type": "MultiPolygon"
            },
            "id": "85",
            "properties": {
             "LIBCOM": "Rennes",
             "LIB_IRIS": "Torigné Ouest",
             "area_km2": 0.16846965000124073,
             "cleabs": "IRIS____0000000352381104",
             "code_insee": "35238",
             "code_iris": "352381104",
             "etabs_per_km2": 106.84417044771824,
             "iris": "1104",
             "nb_etabs": 18,
             "nb_etudiants": 832,
             "nom_commune": "Rennes",
             "nom_iris": "Rennes",
             "students_per_km2": 4938.574989583421,
             "type_iris": "H"
            },
            "type": "Feature"
           },
           {
            "bbox": [
             -1.6576319382903753,
             48.08453464029333,
             -1.6509797755149105,
             48.08757030201242
            ],
            "geometry": {
             "coordinates": [
              [
               [
                [
                 -1.6509797755149105,
                 48.08749008630866
                ],
                [
                 -1.6511084701535725,
                 48.08453464029333
                ],
                [
                 -1.6576319382903753,
                 48.084717495150315
                ],
                [
                 -1.653886904706167,
                 48.08658554170675
                ],
                [
                 -1.6538538902352848,
                 48.08757030201242
                ],
                [
                 -1.6509797755149105,
                 48.08749008630866
                ]
               ]
              ]
             ],
             "type": "MultiPolygon"
            },
            "id": "86",
            "properties": {
             "LIBCOM": "Rennes",
             "LIB_IRIS": "Torigné Est",
             "area_km2": 0.10003491000043348,
             "cleabs": "IRIS____0000000352381105",
             "code_insee": "35238",
             "code_iris": "352381105",
             "etabs_per_km2": 0,
             "iris": "1105",
             "nb_etabs": 0,
             "nb_etudiants": 0,
             "nom_commune": "Rennes",
             "nom_iris": "Rennes",
             "students_per_km2": 0,
             "type_iris": "H"
            },
            "type": "Feature"
           },
           {
            "bbox": [
             -1.6692451648150968,
             48.08645882372341,
             -1.6608747671341386,
             48.09153213072698
            ],
            "geometry": {
             "coordinates": [
              [
               [
                [
                 -1.669173191249012,
                 48.088336550448815
                ],
                [
                 -1.6642295739236885,
                 48.088254888506825
                ],
                [
                 -1.6649211709906397,
                 48.09153213072698
                ],
                [
                 -1.661690262723216,
                 48.091513178987654
                ],
                [
                 -1.6608747671341386,
                 48.08814077266284
                ],
                [
                 -1.66116770610287,
                 48.08645882372341
                ],
                [
                 -1.6692451648150968,
                 48.0865930236696
                ],
                [
                 -1.669173191249012,
                 48.088336550448815
                ]
               ]
              ]
             ],
             "type": "MultiPolygon"
            },
            "id": "87",
            "properties": {
             "LIBCOM": "Rennes",
             "LIB_IRIS": "Saint-Benoît",
             "area_km2": 0.2076527049996361,
             "cleabs": "IRIS____0000000352381106",
             "code_insee": "35238",
             "code_iris": "352381106",
             "etabs_per_km2": 0,
             "iris": "1106",
             "nb_etabs": 0,
             "nb_etudiants": 0,
             "nom_commune": "Rennes",
             "nom_iris": "Rennes",
             "students_per_km2": 0,
             "type_iris": "H"
            },
            "type": "Feature"
           },
           {
            "bbox": [
             -1.6692451648150968,
             48.08368391665367,
             -1.6610864365345448,
             48.0865930236696
            ],
            "geometry": {
             "coordinates": [
              [
               [
                [
                 -1.6610864365345448,
                 48.08540015611545
                ],
                [
                 -1.6635090143749656,
                 48.08544122112176
                ],
                [
                 -1.669090379728447,
                 48.08368391665367
                ],
                [
                 -1.6692451648150968,
                 48.0865930236696
                ],
                [
                 -1.66116770610287,
                 48.08645882372341
                ],
                [
                 -1.6610864365345448,
                 48.08540015611545
                ]
               ]
              ]
             ],
             "type": "MultiPolygon"
            },
            "id": "88",
            "properties": {
             "LIBCOM": "Rennes",
             "LIB_IRIS": "Suisse",
             "area_km2": 0.11420641000018399,
             "cleabs": "IRIS____0000000352381107",
             "code_insee": "35238",
             "code_iris": "352381107",
             "etabs_per_km2": 0,
             "iris": "1107",
             "nb_etabs": 0,
             "nb_etudiants": 0,
             "nom_commune": "Rennes",
             "nom_iris": "Rennes",
             "students_per_km2": 0,
             "type_iris": "H"
            },
            "type": "Feature"
           },
           {
            "bbox": [
             -1.6744983938284634,
             48.077106423360746,
             -1.661005367448139,
             48.08544122112176
            ],
            "geometry": {
             "coordinates": [
              [
               [
                [
                 -1.673028830302987,
                 48.07734733637065
                ],
                [
                 -1.6744983938284634,
                 48.08365136391176
                ],
                [
                 -1.669090379728447,
                 48.08368391665367
                ],
                [
                 -1.6635090143749656,
                 48.08544122112176
                ],
                [
                 -1.6610864365345448,
                 48.08540015611545
                ],
                [
                 -1.6611105268859374,
                 48.08491062637829
                ],
                [
                 -1.661005367448139,
                 48.08249805072945
                ],
                [
                 -1.6630603609086865,
                 48.082445503041924
                ],
                [
                 -1.662374963592326,
                 48.08129447956596
                ],
                [
                 -1.661154745120449,
                 48.07810575609996
                ],
                [
                 -1.6666960634833081,
                 48.077106423360746
                ],
                [
                 -1.673028830302987,
                 48.07734733637065
                ]
               ]
              ]
             ],
             "type": "MultiPolygon"
            },
            "id": "89",
            "properties": {
             "LIBCOM": "Rennes",
             "LIB_IRIS": "Portugal",
             "area_km2": 0.7003030849998143,
             "cleabs": "IRIS____0000000352381108",
             "code_insee": "35238",
             "code_iris": "352381108",
             "etabs_per_km2": 0,
             "iris": "1108",
             "nb_etabs": 0,
             "nb_etudiants": 0,
             "nom_commune": "Rennes",
             "nom_iris": "Rennes",
             "students_per_km2": 0,
             "type_iris": "H"
            },
            "type": "Feature"
           },
           {
            "bbox": [
             -1.6750379803566247,
             48.08365136391176,
             -1.669090379728447,
             48.08895552591077
            ],
            "geometry": {
             "coordinates": [
              [
               [
                [
                 -1.6744983938284634,
                 48.08365136391176
                ],
                [
                 -1.6750379803566247,
                 48.08672458036699
                ],
                [
                 -1.6749501193214646,
                 48.08895552591077
                ],
                [
                 -1.669173191249012,
                 48.088336550448815
                ],
                [
                 -1.6692451648150968,
                 48.0865930236696
                ],
                [
                 -1.669090379728447,
                 48.08368391665367
                ],
                [
                 -1.6744983938284634,
                 48.08365136391176
                ]
               ]
              ]
             ],
             "type": "MultiPolygon"
            },
            "id": "90",
            "properties": {
             "LIBCOM": "Rennes",
             "LIB_IRIS": "Henri Fréville Sud-Est",
             "area_km2": 0.23383916000004681,
             "cleabs": "IRIS____0000000352381109",
             "code_insee": "35238",
             "code_iris": "352381109",
             "etabs_per_km2": 0,
             "iris": "1109",
             "nb_etabs": 0,
             "nb_etudiants": 0,
             "nom_commune": "Rennes",
             "nom_iris": "Rennes",
             "students_per_km2": 0,
             "type_iris": "H"
            },
            "type": "Feature"
           },
           {
            "bbox": [
             -1.682705227991818,
             48.08896725589946,
             -1.6744506157541166,
             48.094149158649834
            ],
            "geometry": {
             "coordinates": [
              [
               [
                [
                 -1.682166979404282,
                 48.089393463092605
                ],
                [
                 -1.682705227991818,
                 48.0897281238208
                ],
                [
                 -1.6806234764882824,
                 48.09080340054114
                ],
                [
                 -1.6800210076340525,
                 48.094149158649834
                ],
                [
                 -1.6744506157541166,
                 48.093818780900364
                ],
                [
                 -1.6748024485545716,
                 48.092107406953495
                ],
                [
                 -1.6763384930047263,
                 48.09205541652727
                ],
                [
                 -1.6773326262923465,
                 48.08896725589946
                ],
                [
                 -1.6805028194646083,
                 48.08919822298447
                ],
                [
                 -1.682166979404282,
                 48.089393463092605
                ]
               ]
              ]
             ],
             "type": "MultiPolygon"
            },
            "id": "91",
            "properties": {
             "LIBCOM": "Rennes",
             "LIB_IRIS": "Les Hautes Chalais",
             "area_km2": 0.19695829999946174,
             "cleabs": "IRIS____0000000352381201",
             "code_insee": "35238",
             "code_iris": "352381201",
             "etabs_per_km2": 0,
             "iris": "1201",
             "nb_etabs": 0,
             "nb_etudiants": 0,
             "nom_commune": "Rennes",
             "nom_iris": "Rennes",
             "students_per_km2": 0,
             "type_iris": "H"
            },
            "type": "Feature"
           },
           {
            "bbox": [
             -1.681355463858784,
             48.08672458036699,
             -1.6748024485545716,
             48.092107406953495
            ],
            "geometry": {
             "coordinates": [
              [
               [
                [
                 -1.6750379803566247,
                 48.08672458036699
                ],
                [
                 -1.681355463858784,
                 48.08677909965933
                ],
                [
                 -1.6805028194646083,
                 48.08919822298447
                ],
                [
                 -1.6773326262923465,
                 48.08896725589946
                ],
                [
                 -1.6763384930047263,
                 48.09205541652727
                ],
                [
                 -1.6748024485545716,
                 48.092107406953495
                ],
                [
                 -1.6749501193214646,
                 48.08895552591077
                ],
                [
                 -1.6750379803566247,
                 48.08672458036699
                ]
               ]
              ]
             ],
             "type": "MultiPolygon"
            },
            "id": "92",
            "properties": {
             "LIBCOM": "Rennes",
             "LIB_IRIS": "Henri Fréville Sud-Ouest",
             "area_km2": 0.16311471000104735,
             "cleabs": "IRIS____0000000352381202",
             "code_insee": "35238",
             "code_iris": "352381202",
             "etabs_per_km2": 0,
             "iris": "1202",
             "nb_etabs": 0,
             "nb_etudiants": 0,
             "nom_commune": "Rennes",
             "nom_iris": "Rennes",
             "students_per_km2": 0,
             "type_iris": "H"
            },
            "type": "Feature"
           },
           {
            "bbox": [
             -1.6826257168869865,
             48.07734733637065,
             -1.673028830302987,
             48.089393463092605
            ],
            "geometry": {
             "coordinates": [
              [
               [
                [
                 -1.6805028194646083,
                 48.08919822298447
                ],
                [
                 -1.681355463858784,
                 48.08677909965933
                ],
                [
                 -1.6750379803566247,
                 48.08672458036699
                ],
                [
                 -1.6744983938284634,
                 48.08365136391176
                ],
                [
                 -1.673028830302987,
                 48.07734733637065
                ],
                [
                 -1.6802758652192453,
                 48.08207862670938
                ],
                [
                 -1.6817860687949882,
                 48.081540799086994
                ],
                [
                 -1.6826257168869865,
                 48.082362871715524
                ],
                [
                 -1.682166979404282,
                 48.089393463092605
                ],
                [
                 -1.6805028194646083,
                 48.08919822298447
                ]
               ]
              ]
             ],
             "type": "MultiPolygon"
            },
            "id": "93",
            "properties": {
             "LIBCOM": "Rennes",
             "LIB_IRIS": "Canada",
             "area_km2": 0.4571875149997438,
             "cleabs": "IRIS____0000000352381203",
             "code_insee": "35238",
             "code_iris": "352381203",
             "etabs_per_km2": 0,
             "iris": "1203",
             "nb_etabs": 0,
             "nb_etudiants": 0,
             "nom_commune": "Rennes",
             "nom_iris": "Rennes",
             "students_per_km2": 0,
             "type_iris": "H"
            },
            "type": "Feature"
           },
           {
            "bbox": [
             -1.704048271207311,
             48.08062417124305,
             -1.6828365073526892,
             48.086890836621556
            ],
            "geometry": {
             "coordinates": [
              [
               [
                [
                 -1.6828365073526892,
                 48.08091577432385
                ],
                [
                 -1.6995161813327606,
                 48.08062417124305
                ],
                [
                 -1.704048271207311,
                 48.08178630433832
                ],
                [
                 -1.7024691554306115,
                 48.084601563802096
                ],
                [
                 -1.6996154571240587,
                 48.08582522942748
                ],
                [
                 -1.6967448938201428,
                 48.086890836621556
                ],
                [
                 -1.6950639981278053,
                 48.08643144320381
                ],
                [
                 -1.6953703807031593,
                 48.085897280589144
                ],
                [
                 -1.6828365073526892,
                 48.08091577432385
                ]
               ]
              ]
             ],
             "type": "MultiPolygon"
            },
            "id": "94",
            "properties": {
             "LIBCOM": "Rennes",
             "LIB_IRIS": "Les Cloteaux",
             "area_km2": 0.594727434998188,
             "cleabs": "IRIS____0000000352381204",
             "code_insee": "35238",
             "code_iris": "352381204",
             "etabs_per_km2": 0,
             "iris": "1204",
             "nb_etabs": 0,
             "nb_etudiants": 0,
             "nom_commune": "Rennes",
             "nom_iris": "Rennes",
             "students_per_km2": 0,
             "type_iris": "H"
            },
            "type": "Feature"
           },
           {
            "bbox": [
             -1.6953703807031593,
             48.08091577432385,
             -1.6817860687949882,
             48.09031113059662
            ],
            "geometry": {
             "coordinates": [
              [
               [
                [
                 -1.682705227991818,
                 48.0897281238208
                ],
                [
                 -1.682166979404282,
                 48.089393463092605
                ],
                [
                 -1.6826257168869865,
                 48.082362871715524
                ],
                [
                 -1.6817860687949882,
                 48.081540799086994
                ],
                [
                 -1.6828365073526892,
                 48.08091577432385
                ],
                [
                 -1.6953703807031593,
                 48.085897280589144
                ],
                [
                 -1.6950639981278053,
                 48.08643144320381
                ],
                [
                 -1.6929566814653472,
                 48.08680574400766
                ],
                [
                 -1.6927620972620931,
                 48.09031113059662
                ],
                [
                 -1.6845973192782548,
                 48.08970152274933
                ],
                [
                 -1.682705227991818,
                 48.0897281238208
                ]
               ]
              ]
             ],
             "type": "MultiPolygon"
            },
            "id": "95",
            "properties": {
             "LIBCOM": "Rennes",
             "LIB_IRIS": "Les Olympiades",
             "area_km2": 0.642767415000109,
             "cleabs": "IRIS____0000000352381205",
             "code_insee": "35238",
             "code_iris": "352381205",
             "etabs_per_km2": 23.336590576853457,
             "iris": "1205",
             "nb_etabs": 15,
             "nb_etudiants": 5991,
             "nom_commune": "Rennes",
             "nom_iris": "Rennes",
             "students_per_km2": 9320.63427639527,
             "type_iris": "H"
            },
            "type": "Feature"
           },
           {
            "bbox": [
             -1.6927620972620931,
             48.08970152274933,
             -1.6818086212728816,
             48.094718218712735
            ],
            "geometry": {
             "coordinates": [
              [
               [
                [
                 -1.6902308307196552,
                 48.094718218712735
                ],
                [
                 -1.6855948677730859,
                 48.09448725078879
                ],
                [
                 -1.6818086212728816,
                 48.09426287934622
                ],
                [
                 -1.6849155360930084,
                 48.090680448096
                ],
                [
                 -1.6845973192782548,
                 48.08970152274933
                ],
                [
                 -1.6927620972620931,
                 48.09031113059662
                ],
                [
                 -1.6902308307196552,
                 48.094718218712735
                ]
               ]
              ]
             ],
             "type": "MultiPolygon"
            },
            "id": "96",
            "properties": {
             "LIBCOM": "Rennes",
             "LIB_IRIS": "Saint-Yves",
             "area_km2": 0.3027944550002831,
             "cleabs": "IRIS____0000000352381206",
             "code_insee": "35238",
             "code_iris": "352381206",
             "etabs_per_km2": 46.23598539803812,
             "iris": "1206",
             "nb_etabs": 14,
             "nb_etudiants": 207,
             "nom_commune": "Rennes",
             "nom_iris": "Rennes",
             "students_per_km2": 683.6320698138493,
             "type_iris": "H"
            },
            "type": "Feature"
           },
           {
            "bbox": [
             -1.6849155360930084,
             48.08970152274933,
             -1.6800210076340525,
             48.09426287934622
            ],
            "geometry": {
             "coordinates": [
              [
               [
                [
                 -1.6800210076340525,
                 48.094149158649834
                ],
                [
                 -1.6806234764882824,
                 48.09080340054114
                ],
                [
                 -1.682705227991818,
                 48.0897281238208
                ],
                [
                 -1.6845973192782548,
                 48.08970152274933
                ],
                [
                 -1.6849155360930084,
                 48.090680448096
                ],
                [
                 -1.6818086212728816,
                 48.09426287934622
                ],
                [
                 -1.6800210076340525,
                 48.094149158649834
                ]
               ]
              ]
             ],
             "type": "MultiPolygon"
            },
            "id": "97",
            "properties": {
             "LIBCOM": "Rennes",
             "LIB_IRIS": "Les Champs Manceaux",
             "area_km2": 0.11278350000042216,
             "cleabs": "IRIS____0000000352381207",
             "code_insee": "35238",
             "code_iris": "352381207",
             "etabs_per_km2": 0,
             "iris": "1207",
             "nb_etabs": 0,
             "nb_etudiants": 0,
             "nom_commune": "Rennes",
             "nom_iris": "Rennes",
             "students_per_km2": 0,
             "type_iris": "H"
            },
            "type": "Feature"
           },
           {
            "bbox": [
             5.580939244623559,
             47.844463740263905,
             5.649003776469057,
             47.8785758798004
            ],
            "geometry": {
             "coordinates": [
              [
               [
                [
                 5.58312663259709,
                 47.87793370722315
                ],
                [
                 5.590879692960274,
                 47.8785758798004
                ],
                [
                 5.597898886338113,
                 47.87723656346282
                ],
                [
                 5.602033433647793,
                 47.877837402850325
                ],
                [
                 5.617224593572772,
                 47.86815349179693
                ],
                [
                 5.6214661907496515,
                 47.866458629405436
                ],
                [
                 5.638778948643695,
                 47.86220645657631
                ],
                [
                 5.645357684521459,
                 47.858133021174616
                ],
                [
                 5.649003776469057,
                 47.85442983156055
                ],
                [
                 5.644111536987492,
                 47.85425297627257
                ],
                [
                 5.636780990058892,
                 47.852526086550384
                ],
                [
                 5.627653503328443,
                 47.84859320022478
                ],
                [
                 5.622455794073913,
                 47.844463740263905
                ],
                [
                 5.610749589624593,
                 47.84698879543038
                ],
                [
                 5.590062132645946,
                 47.8480103637868
                ],
                [
                 5.593192891609388,
                 47.852624557813385
                ],
                [
                 5.588305745872088,
                 47.865586754565136
                ],
                [
                 5.5847456375998545,
                 47.869507542259555
                ],
                [
                 5.582811218491998,
                 47.86966000401589
                ],
                [
                 5.580939244623559,
                 47.87082227973592
                ],
                [
                 5.58312663259709,
                 47.87793370722315
                ]
               ]
              ]
             ],
             "type": "MultiPolygon"
            },
            "id": "98",
            "properties": {
             "LIBCOM": "Arbigny-sous-Varennes",
             "LIB_IRIS": "Arbigny-sous-Varennes (commune non irisée)",
             "area_km2": 10.216573494997489,
             "cleabs": "IRIS____0000000520150000",
             "code_insee": "52015",
             "code_iris": "520150000",
             "etabs_per_km2": 0,
             "iris": "0000",
             "nb_etabs": 0,
             "nb_etudiants": 0,
             "nom_commune": "Arbigny-sous-Varennes",
             "nom_iris": "Arbigny-sous-Varennes",
             "students_per_km2": 0,
             "type_iris": "Z"
            },
            "type": "Feature"
           },
           {
            "bbox": [
             5.248945864213719,
             47.77556103741425,
             5.303559072237411,
             47.82020582335177
            ],
            "geometry": {
             "coordinates": [
              [
               [
                [
                 5.298224506096337,
                 47.77651302696894
                ],
                [
                 5.28311248768243,
                 47.78276299715748
                ],
                [
                 5.277313967068136,
                 47.78783709156027
                ],
                [
                 5.270883079672285,
                 47.79029937105515
                ],
                [
                 5.266278862540423,
                 47.79105302761718
                ],
                [
                 5.255792751135257,
                 47.79880068010914
                ],
                [
                 5.248945864213719,
                 47.800359416320354
                ],
                [
                 5.255117096910888,
                 47.80287892719026
                ],
                [
                 5.273883482369199,
                 47.81310569995056
                ],
                [
                 5.283046128238716,
                 47.81483998402925
                ],
                [
                 5.287652295249702,
                 47.819215186566446
                ],
                [
                 5.287641445505384,
                 47.82020582335177
                ],
                [
                 5.295927918561181,
                 47.816842912396936
                ],
                [
                 5.299614332753977,
                 47.808517627570126
                ],
                [
                 5.299414112198175,
                 47.80314528347518
                ],
                [
                 5.303559072237411,
                 47.78236264353566
                ],
                [
                 5.303489371702061,
                 47.77646361279235
                ],
                [
                 5.302042405864024,
                 47.77556103741425
                ],
                [
                 5.299597920729981,
                 47.77719829240322
                ],
                [
                 5.298224506096337,
                 47.77651302696894
                ]
               ]
              ]
             ],
             "type": "MultiPolygon"
            },
            "id": "99",
            "properties": {
             "LIBCOM": "Brennes",
             "LIB_IRIS": "Brennes (commune non irisée)",
             "area_km2": 10.17453756500202,
             "cleabs": "IRIS____0000000520700000",
             "code_insee": "52070",
             "code_iris": "520700000",
             "etabs_per_km2": 0,
             "iris": "0000",
             "nb_etabs": 0,
             "nb_etudiants": 0,
             "nom_commune": "Brennes",
             "nom_iris": "Brennes",
             "students_per_km2": 0,
             "type_iris": "Z"
            },
            "type": "Feature"
           },
           {
            "bbox": [
             5.602033433647793,
             47.85442983156055,
             5.654931481459212,
             47.883786503892786
            ],
            "geometry": {
             "coordinates": [
              [
               [
                [
                 5.629433978029172,
                 47.883786503892786
                ],
                [
                 5.641620296209416,
                 47.87451338911867
                ],
                [
                 5.654931481459212,
                 47.857200796362605
                ],
                [
                 5.649003776469057,
                 47.85442983156055
                ],
                [
                 5.645357684521459,
                 47.858133021174616
                ],
                [
                 5.638778948643695,
                 47.86220645657631
                ],
                [
                 5.6214661907496515,
                 47.866458629405436
                ],
                [
                 5.617224593572772,
                 47.86815349179693
                ],
                [
                 5.602033433647793,
                 47.877837402850325
                ],
                [
                 5.605183455676933,
                 47.87812138662416
                ],
                [
                 5.617265246062152,
                 47.88212253905426
                ],
                [
                 5.629433978029172,
                 47.883786503892786
                ]
               ]
              ]
             ],
             "type": "MultiPolygon"
            },
            "id": "100",
            "properties": {
             "LIBCOM": "Champigny-sous-Varennes",
             "LIB_IRIS": "Champigny-sous-Varennes (commune non irisée)",
             "area_km2": 5.185560185000935,
             "cleabs": "IRIS____0000000521030000",
             "code_insee": "52103",
             "code_iris": "521030000",
             "etabs_per_km2": 0,
             "iris": "0000",
             "nb_etabs": 0,
             "nb_etudiants": 0,
             "nom_commune": "Champigny-sous-Varennes",
             "nom_iris": "Champigny-sous-Varennes",
             "students_per_km2": 0,
             "type_iris": "Z"
            },
            "type": "Feature"
           },
           {
            "bbox": [
             2.9251942309673913,
             45.85780084915326,
             3.0360761564952337,
             45.92224009953789
            ],
            "geometry": {
             "coordinates": [
              [
               [
                [
                 2.960969134352143,
                 45.92009115582389
                ],
                [
                 2.9715960848972207,
                 45.918958801459716
                ],
                [
                 2.9795540186780904,
                 45.919135215097405
                ],
                [
                 2.9904275670658143,
                 45.92117357221231
                ],
                [
                 3.0037160183769163,
                 45.92224009953789
                ],
                [
                 3.017848520318249,
                 45.91831620629266
                ],
                [
                 3.0360761564952337,
                 45.91603721741973
                ],
                [
                 3.032156987491655,
                 45.90323879550207
                ],
                [
                 3.0311429936807155,
                 45.89835390656407
                ],
                [
                 3.032007044138754,
                 45.89379807318624
                ],
                [
                 3.030556022243199,
                 45.89343557606038
                ],
                [
                 3.023551893969297,
                 45.892837523683724
                ],
                [
                 3.007142666110106,
                 45.88969793241839
                ],
                [
                 2.9961304504401527,
                 45.88530909166394
                ],
                [
                 2.9813896631702477,
                 45.87807397102125
                ],
                [
                 2.9789134754423547,
                 45.863373901594535
                ],
                [
                 2.9794156509770855,
                 45.85780084915326
                ],
                [
                 2.96411648838101,
                 45.86784381738542
                ],
                [
                 2.952216786075004,
                 45.87326938200932
                ],
                [
                 2.9420221601676473,
                 45.88319074228791
                ],
                [
                 2.934222546205974,
                 45.8963381706495
                ],
                [
                 2.9287609695603956,
                 45.89916871332753
                ],
                [
                 2.9251942309673913,
                 45.89960675145139
                ],
                [
                 2.9309486428595286,
                 45.90204534412849
                ],
                [
                 2.936669596215548,
                 45.902613301285136
                ],
                [
                 2.9397286031299266,
                 45.905392092830006
                ],
                [
                 2.9435322810780797,
                 45.914409790635744
                ],
                [
                 2.9440101291664167,
                 45.92025692883353
                ],
                [
                 2.946240200378942,
                 45.92102613095188
                ],
                [
                 2.9571570007789805,
                 45.92109742799194
                ],
                [
                 2.960969134352143,
                 45.92009115582389
                ]
               ]
              ]
             ],
             "type": "MultiPolygon"
            },
            "id": "101",
            "properties": {
             "LIBCOM": "Charbonnières-les-Varennes",
             "LIB_IRIS": "Charbonnières-les-Varennes (commune non irisée)",
             "area_km2": 32.29986751500522,
             "cleabs": "IRIS____0000000630920000",
             "code_insee": "63092",
             "code_iris": "630920000",
             "etabs_per_km2": 0,
             "iris": "0000",
             "nb_etabs": 0,
             "nb_etudiants": 0,
             "nom_commune": "Charbonnières-les-Varennes",
             "nom_iris": "Charbonnières-les-Varennes",
             "students_per_km2": 0,
             "type_iris": "Z"
            },
            "type": "Feature"
           },
           {
            "bbox": [
             5.165404019978612,
             46.87071670855397,
             5.231355418382833,
             46.93084429410618
            ],
            "geometry": {
             "coordinates": [
              [
               [
                [
                 5.168358636265421,
                 46.92555346665153
                ],
                [
                 5.181904571258539,
                 46.93084429410618
                ],
                [
                 5.195481950432684,
                 46.9218801813115
                ],
                [
                 5.204390877498207,
                 46.91171126058536
                ],
                [
                 5.209746779299224,
                 46.90954960859759
                ],
                [
                 5.212948433238471,
                 46.91035103448551
                ],
                [
                 5.2225289231677205,
                 46.91758401798122
                ],
                [
                 5.22296827282288,
                 46.9193823835846
                ],
                [
                 5.22675941214375,
                 46.92036932093604
                ],
                [
                 5.231355418382833,
                 46.91715399866972
                ],
                [
                 5.223503493443588,
                 46.90493260223126
                ],
                [
                 5.225643593657294,
                 46.89839614757335
                ],
                [
                 5.230461758993696,
                 46.896055621476826
                ],
                [
                 5.225567078773059,
                 46.89225467630317
                ],
                [
                 5.221611152057156,
                 46.894342382200044
                ],
                [
                 5.221793848333142,
                 46.89552781414192
                ],
                [
                 5.220246545085102,
                 46.89647098944312
                ],
                [
                 5.214391943187728,
                 46.89443278634127
                ],
                [
                 5.209560435745695,
                 46.89172884948697
                ],
                [
                 5.20771388389257,
                 46.88662745023148
                ],
                [
                 5.2094776551477935,
                 46.88130186778612
                ],
                [
                 5.206886435165519,
                 46.87071670855397
                ],
                [
                 5.196550381871736,
                 46.87383274861465
                ],
                [
                 5.190627764088957,
                 46.874768864613735
                ],
                [
                 5.16847601249512,
                 46.876082671806955
                ],
                [
                 5.168247148656131,
                 46.87715702891436
                ],
                [
                 5.171184468384796,
                 46.881846624034736
                ],
                [
                 5.17537339854422,
                 46.885500107590715
                ],
                [
                 5.185831127813412,
                 46.90450616137381
                ],
                [
                 5.1862203149674775,
                 46.91309694993499
                ],
                [
                 5.180583890743525,
                 46.915797810968165
                ],
                [
                 5.172852665624287,
                 46.916694169844604
                ],
                [
                 5.1683971773581145,
                 46.91851376644552
                ],
                [
                 5.165404019978612,
                 46.92163424269855
                ],
                [
                 5.168358636265421,
                 46.92555346665153
                ]
               ]
              ]
             ],
             "type": "MultiPolygon"
            },
            "id": "102",
            "properties": {
             "LIBCOM": "Charette-Varennes",
             "LIB_IRIS": "Charette-Varennes (commune non irisée)",
             "area_km2": 16.021437060002732,
             "cleabs": "IRIS____0000000711010000",
             "code_insee": "71101",
             "code_iris": "711010000",
             "etabs_per_km2": 0,
             "iris": "0000",
             "nb_etabs": 0,
             "nb_etudiants": 0,
             "nom_commune": "Charette-Varennes",
             "nom_iris": "Charette-Varennes",
             "students_per_km2": 0,
             "type_iris": "Z"
            },
            "type": "Feature"
           },
           {
            "bbox": [
             3.5232790481646044,
             49.05719218770992,
             3.559444937791205,
             49.08665870910089
            ],
            "geometry": {
             "coordinates": [
              [
               [
                [
                 3.559444937791205,
                 49.06770479632654
                ],
                [
                 3.5535311187603797,
                 49.06584483116662
                ],
                [
                 3.5370698509623897,
                 49.05719218770992
                ],
                [
                 3.530839322642003,
                 49.06202504648994
                ],
                [
                 3.5232790481646044,
                 49.06958781565963
                ],
                [
                 3.527491664046405,
                 49.07392852745974
                ],
                [
                 3.5289659990845337,
                 49.07798713454925
                ],
                [
                 3.5316736379556644,
                 49.08389071209081
                ],
                [
                 3.537412446601501,
                 49.086309980376626
                ],
                [
                 3.540452418296104,
                 49.08665870910089
                ],
                [
                 3.546600190624332,
                 49.085596892846134
                ],
                [
                 3.550864788131809,
                 49.0838267807028
                ],
                [
                 3.554557240365653,
                 49.079910175281405
                ],
                [
                 3.5590496664278892,
                 49.06975673248202
                ],
                [
                 3.559444937791205,
                 49.06770479632654
                ]
               ]
              ]
             ],
             "type": "MultiPolygon"
            },
            "id": "103",
            "properties": {
             "LIBCOM": "Courtemont-Varennes",
             "LIB_IRIS": "Courtemont-Varennes (commune non irisée)",
             "area_km2": 5.4012317249989055,
             "cleabs": "IRIS____0000000022280000",
             "code_insee": "02228",
             "code_iris": "022280000",
             "etabs_per_km2": 0,
             "iris": "0000",
             "nb_etabs": 0,
             "nb_etudiants": 0,
             "nom_commune": "Courtemont-Varennes",
             "nom_iris": "Courtemont-Varennes",
             "students_per_km2": 0,
             "type_iris": "Z"
            },
            "type": "Feature"
           },
           {
            "bbox": [
             -0.3097727817141569,
             48.36357163176045,
             -0.21270884014343777,
             48.40883774615721
            ],
            "geometry": {
             "coordinates": [
              [
               [
                [
                 -0.2527424610126976,
                 48.374671373999746
                ],
                [
                 -0.2610591482577297,
                 48.37326492099016
                ],
                [
                 -0.27115778870619317,
                 48.36857424146556
                ],
                [
                 -0.283941566763312,
                 48.36460601890682
                ],
                [
                 -0.28980505363500486,
                 48.36357163176045
                ],
                [
                 -0.2977849413306733,
                 48.36446356849827
                ],
                [
                 -0.3097727817141569,
                 48.364275020242864
                ],
                [
                 -0.30710570021982825,
                 48.37517589408588
                ],
                [
                 -0.3066185194856782,
                 48.3804959380296
                ],
                [
                 -0.30786154881010536,
                 48.38132478092225
                ],
                [
                 -0.3049266697465525,
                 48.38381542712361
                ],
                [
                 -0.3024264264486499,
                 48.38475048866679
                ],
                [
                 -0.2986190096426027,
                 48.38355539564264
                ],
                [
                 -0.2842177585928969,
                 48.384780302011706
                ],
                [
                 -0.2649349206222584,
                 48.38814604078579
                ],
                [
                 -0.25771143134347446,
                 48.39049690660193
                ],
                [
                 -0.2421811084428194,
                 48.399343625758384
                ],
                [
                 -0.2251156747171481,
                 48.405759169201595
                ],
                [
                 -0.21971381316411107,
                 48.40883774615721
                ],
                [
                 -0.21980681786263714,
                 48.40527952153871
                ],
                [
                 -0.2161024614815026,
                 48.40198106289348
                ],
                [
                 -0.21650804771913612,
                 48.40025658131571
                ],
                [
                 -0.21399423289271863,
                 48.39921547811616
                ],
                [
                 -0.21270884014343777,
                 48.39533085365093
                ],
                [
                 -0.23239474537089186,
                 48.38836200874094
                ],
                [
                 -0.2422304744000695,
                 48.3837937232519
                ],
                [
                 -0.2527424610126976,
                 48.374671373999746
                ]
               ]
              ]
             ],
             "type": "MultiPolygon"
            },
            "id": "104",
            "properties": {
             "LIBCOM": "Crennes-sur-Fraubée",
             "LIB_IRIS": "Crennes-sur-Fraubée (commune non irisée)",
             "area_km2": 13.211611334997375,
             "cleabs": "IRIS____0000000530850000",
             "code_insee": "53085",
             "code_iris": "530850000",
             "etabs_per_km2": 0,
             "iris": "0000",
             "nb_etabs": 0,
             "nb_etudiants": 0,
             "nom_commune": "Crennes-sur-Fraubée",
             "nom_iris": "Crennes-sur-Fraubée",
             "students_per_km2": 0,
             "type_iris": "Z"
            },
            "type": "Feature"
           },
           {
            "bbox": [
             2.153040690700611,
             48.1146639891222,
             2.2148876635796673,
             48.15753195016608
            ],
            "geometry": {
             "coordinates": [
              [
               [
                [
                 2.1772613265104757,
                 48.119706656227876
                ],
                [
                 2.174860758193277,
                 48.12618167484014
                ],
                [
                 2.1698815944307577,
                 48.133919033966706
                ],
                [
                 2.1605799813217748,
                 48.13816724018948
                ],
                [
                 2.1533485192664963,
                 48.13999901159285
                ],
                [
                 2.153040690700611,
                 48.140918279044186
                ],
                [
                 2.1552897806245,
                 48.14177579146856
                ],
                [
                 2.1600160584382033,
                 48.14776402008761
                ],
                [
                 2.1589711721504274,
                 48.15173941718564
                ],
                [
                 2.160543393603812,
                 48.157229924187135
                ],
                [
                 2.1621430878218204,
                 48.15753195016608
                ],
                [
                 2.173957521388614,
                 48.15602877263089
                ],
                [
                 2.1886105232339172,
                 48.148639027537
                ],
                [
                 2.2128092702412734,
                 48.14170837858235
                ],
                [
                 2.2148876635796673,
                 48.13520714145934
                ],
                [
                 2.204664021376347,
                 48.126623091243545
                ],
                [
                 2.201796382790599,
                 48.12150047556142
                ],
                [
                 2.2007277704893404,
                 48.1146639891222
                ],
                [
                 2.188488605448866,
                 48.11603821357491
                ],
                [
                 2.1772613265104757,
                 48.119706656227876
                ]
               ]
              ]
             ],
             "type": "MultiPolygon"
            },
            "id": "105",
            "properties": {
             "LIBCOM": "Escrennes",
             "LIB_IRIS": "Escrennes (commune non irisée)",
             "area_km2": 11.679700454998507,
             "cleabs": "IRIS____0000000451370000",
             "code_insee": "45137",
             "code_iris": "451370000",
             "etabs_per_km2": 0,
             "iris": "0000",
             "nb_etabs": 0,
             "nb_etudiants": 0,
             "nom_commune": "Escrennes",
             "nom_iris": "Escrennes",
             "students_per_km2": 0,
             "type_iris": "Z"
            },
            "type": "Feature"
           },
           {
            "bbox": [
             6.033308734158615,
             48.24677222460151,
             6.079864746284641,
             48.27415851717202
            ],
            "geometry": {
             "coordinates": [
              [
               [
                [
                 6.057257674778584,
                 48.26930120292228
                ],
                [
                 6.071241036471277,
                 48.27415851717202
                ],
                [
                 6.079054180502649,
                 48.27352308571756
                ],
                [
                 6.079864746284641,
                 48.27271409625565
                ],
                [
                 6.079604376337313,
                 48.27008261616266
                ],
                [
                 6.0706592661603995,
                 48.25901578833382
                ],
                [
                 6.062775069754679,
                 48.25117678299053
                ],
                [
                 6.056257070402303,
                 48.24677222460151
                ],
                [
                 6.037759984254446,
                 48.24921482675142
                ],
                [
                 6.0345076388545005,
                 48.25203928080745
                ],
                [
                 6.033516810584938,
                 48.25286159304899
                ],
                [
                 6.033308734158615,
                 48.25960117728757
                ],
                [
                 6.037433666939776,
                 48.26290062812553
                ],
                [
                 6.040521119744541,
                 48.263379509121485
                ],
                [
                 6.057257674778584,
                 48.26930120292228
                ]
               ]
              ]
             ],
             "type": "MultiPolygon"
            },
            "id": "106",
            "properties": {
             "LIBCOM": "Estrennes",
             "LIB_IRIS": "Estrennes (commune non irisée)",
             "area_km2": 6.0332668749994,
             "cleabs": "IRIS____0000000881640000",
             "code_insee": "88164",
             "code_iris": "881640000",
             "etabs_per_km2": 0,
             "iris": "0000",
             "nb_etabs": 0,
             "nb_etudiants": 0,
             "nom_commune": "Estrennes",
             "nom_iris": "Estrennes",
             "students_per_km2": 0,
             "type_iris": "Z"
            },
            "type": "Feature"
           },
           {
            "bbox": [
             1.4004641741386448,
             48.895830643854715,
             1.461876207802632,
             48.92460648187881
            ],
            "geometry": {
             "coordinates": [
              [
               [
                [
                 1.460490048643886,
                 48.90967121403224
                ],
                [
                 1.4609180123749854,
                 48.90046002762661
                ],
                [
                 1.461876207802632,
                 48.89933632526945
                ],
                [
                 1.4551384515072783,
                 48.89693438643214
                ],
                [
                 1.4488102598032153,
                 48.89646491032159
                ],
                [
                 1.4412270113797934,
                 48.89896048616917
                ],
                [
                 1.43648251138356,
                 48.89867466770294
                ],
                [
                 1.4260528204767111,
                 48.895830643854715
                ],
                [
                 1.4023536567993495,
                 48.90638147014064
                ],
                [
                 1.4015267678617533,
                 48.91317936225018
                ],
                [
                 1.4025401578587842,
                 48.914708468034306
                ],
                [
                 1.4004641741386448,
                 48.91676031002783
                ],
                [
                 1.4080137807316433,
                 48.9193964370021
                ],
                [
                 1.4183702650962506,
                 48.92050771749386
                ],
                [
                 1.4263831325238292,
                 48.91924607468929
                ],
                [
                 1.428961002605365,
                 48.91803327325208
                ],
                [
                 1.4318244217433174,
                 48.919341709707474
                ],
                [
                 1.4310447093926544,
                 48.921527948316054
                ],
                [
                 1.4387905383203443,
                 48.92438412803269
                ],
                [
                 1.4423426653983744,
                 48.92331595412807
                ],
                [
                 1.4478047002898724,
                 48.92460648187881
                ],
                [
                 1.4569462177318342,
                 48.91639484659455
                ],
                [
                 1.460490048643886,
                 48.90967121403224
                ]
               ]
              ]
             ],
             "type": "MultiPolygon"
            },
            "id": "107",
            "properties": {
             "LIBCOM": "Garennes-sur-Eure",
             "LIB_IRIS": "Garennes-sur-Eure (commune non irisée)",
             "area_km2": 10.182882350004736,
             "cleabs": "IRIS____0000000272780000",
             "code_insee": "27278",
             "code_iris": "272780000",
             "etabs_per_km2": 0,
             "iris": "0000",
             "nb_etabs": 0,
             "nb_etudiants": 0,
             "nom_commune": "Garennes-sur-Eure",
             "nom_iris": "Garennes-sur-Eure",
             "students_per_km2": 0,
             "type_iris": "Z"
            },
            "type": "Feature"
           },
           {
            "bbox": [
             2.8286361107131293,
             48.47457399348164,
             2.916020844563952,
             48.5159555841613
            ],
            "geometry": {
             "coordinates": [
              [
               [
                [
                 2.9050040510975537,
                 48.474597343585984
                ],
                [
                 2.8951799212157145,
                 48.47606443876408
                ],
                [
                 2.894399528123159,
                 48.47457399348164
                ],
                [
                 2.8887532014425576,
                 48.47475775657517
                ],
                [
                 2.880927295015364,
                 48.48026296877137
                ],
                [
                 2.8552668042621687,
                 48.482227998394286
                ],
                [
                 2.8436182264471594,
                 48.485127053044934
                ],
                [
                 2.841135973703131,
                 48.493310128997486
                ],
                [
                 2.833670244777935,
                 48.49675256481825
                ],
                [
                 2.8286361107131293,
                 48.50057858348585
                ],
                [
                 2.832917610965927,
                 48.504850545358934
                ],
                [
                 2.838723381012965,
                 48.50720469577222
                ],
                [
                 2.8396123327056904,
                 48.508254818539406
                ],
                [
                 2.840485563502756,
                 48.51181565711305
                ],
                [
                 2.8385190996950165,
                 48.5159555841613
                ],
                [
                 2.845093163101877,
                 48.515883371888144
                ],
                [
                 2.8478073391353256,
                 48.512378503653316
                ],
                [
                 2.8540469641640884,
                 48.510685215124354
                ],
                [
                 2.870538696413902,
                 48.50964011521033
                ],
                [
                 2.876548505480015,
                 48.50792830005837
                ],
                [
                 2.8942435070202017,
                 48.51307299961968
                ],
                [
                 2.9106054946723674,
                 48.51344356755876
                ],
                [
                 2.916020844563952,
                 48.511238140705764
                ],
                [
                 2.912312953694503,
                 48.50609162965861
                ],
                [
                 2.9098768527928986,
                 48.504893354548834
                ],
                [
                 2.9072651135940895,
                 48.505094652050005
                ],
                [
                 2.907716927667557,
                 48.49989986871567
                ],
                [
                 2.9097494272709077,
                 48.493974902040534
                ],
                [
                 2.91277449690212,
                 48.49149067456323
                ],
                [
                 2.914036465014841,
                 48.48699539473071
                ],
                [
                 2.9050040510975537,
                 48.474597343585984
                ]
               ]
              ]
             ],
             "type": "MultiPolygon"
            },
            "id": "108",
            "properties": {
             "LIBCOM": "Les Écrennes",
             "LIB_IRIS": "Les Écrennes (commune non irisée)",
             "area_km2": 19.191029570002932,
             "cleabs": "IRIS____0000000771650000",
             "code_insee": "77165",
             "code_iris": "771650000",
             "etabs_per_km2": 0,
             "iris": "0000",
             "nb_etabs": 0,
             "nb_etudiants": 0,
             "nom_commune": "Les Écrennes",
             "nom_iris": "Les Écrennes",
             "students_per_km2": 0,
             "type_iris": "Z"
            },
            "type": "Feature"
           },
           {
            "bbox": [
             -0.5117618343846391,
             47.35238567531182,
             -0.43724969037033135,
             47.418567428560834
            ],
            "geometry": {
             "coordinates": [
              [
               [
                [
                 -0.44429442856002427,
                 47.41516161703103
                ],
                [
                 -0.4436286874228998,
                 47.40598338329544
                ],
                [
                 -0.44222321687609834,
                 47.40497258070475
                ],
                [
                 -0.43724969037033135,
                 47.39578123208193
                ],
                [
                 -0.4406797688921408,
                 47.38530041887876
                ],
                [
                 -0.45082366323233736,
                 47.38086459093158
                ],
                [
                 -0.45364177198941935,
                 47.370740202388305
                ],
                [
                 -0.45018136725428204,
                 47.362890153977254
                ],
                [
                 -0.45001014963041075,
                 47.35979643861496
                ],
                [
                 -0.453982487863469,
                 47.35883855883733
                ],
                [
                 -0.4541974184924681,
                 47.359622412744685
                ],
                [
                 -0.4673807793297644,
                 47.366027329654145
                ],
                [
                 -0.4715470440259305,
                 47.36437463744847
                ],
                [
                 -0.47440937330676997,
                 47.362107513458135
                ],
                [
                 -0.47450052775404256,
                 47.35983043844655
                ],
                [
                 -0.4727827370010993,
                 47.35851306507409
                ],
                [
                 -0.4648622014853675,
                 47.35691594133027
                ],
                [
                 -0.46826653232348786,
                 47.35259542335345
                ],
                [
                 -0.46934554498008063,
                 47.35238567531182
                ],
                [
                 -0.4810549544644456,
                 47.35405999199709
                ],
                [
                 -0.4859819964853064,
                 47.36101011738385
                ],
                [
                 -0.4799449543402174,
                 47.36286449605522
                ],
                [
                 -0.47638293760008515,
                 47.36720358155966
                ],
                [
                 -0.47695397499697345,
                 47.3695869849553
                ],
                [
                 -0.48003516534654045,
                 47.37259084974029
                ],
                [
                 -0.48556261895082303,
                 47.37457151876893
                ],
                [
                 -0.4931306205752743,
                 47.376611342354195
                ],
                [
                 -0.491707620978745,
                 47.382584195734935
                ],
                [
                 -0.4977750285087572,
                 47.38285403906838
                ],
                [
                 -0.5068076591045613,
                 47.3938283134332
                ],
                [
                 -0.5117618343846391,
                 47.40290679686987
                ],
                [
                 -0.5030481387303264,
                 47.40791306270705
                ],
                [
                 -0.5008972368786008,
                 47.41535772439837
                ],
                [
                 -0.5055048370894831,
                 47.41750402581895
                ],
                [
                 -0.5051682293947755,
                 47.418507166611874
                ],
                [
                 -0.4939459521485886,
                 47.418567428560834
                ],
                [
                 -0.48105683283476003,
                 47.41687979352912
                ],
                [
                 -0.46886607512793116,
                 47.41671704494473
                ],
                [
                 -0.46135143819443103,
                 47.41748525589058
                ],
                [
                 -0.45788458655267206,
                 47.41710545164101
                ],
                [
                 -0.45690396894155233,
                 47.41676247644097
                ],
                [
                 -0.4512980606817295,
                 47.41466467482071
                ],
                [
                 -0.44429442856002427,
                 47.41516161703103
                ]
               ]
              ]
             ],
             "type": "MultiPolygon"
            },
            "id": "109",
            "properties": {
             "LIBCOM": "Les Garennes sur Loire",
             "LIB_IRIS": "Les Garennes sur Loire (commune non irisée)",
             "area_km2": 24.74499030999379,
             "cleabs": "IRIS____0000000491670000",
             "code_insee": "49167",
             "code_iris": "491670000",
             "etabs_per_km2": 0,
             "iris": "0000",
             "nb_etabs": 0,
             "nb_etudiants": 0,
             "nom_commune": "Les Garennes sur Loire",
             "nom_iris": "Les Garennes sur Loire",
             "students_per_km2": 0,
             "type_iris": "Z"
            },
            "type": "Feature"
           },
           {
            "bbox": [
             4.886701573425779,
             45.601508095543196,
             4.9323829411519,
             45.64819087408117
            ],
            "geometry": {
             "coordinates": [
              [
               [
                [
                 4.917077061446536,
                 45.64819087408117
                ],
                [
                 4.91520615852426,
                 45.64199856638367
                ],
                [
                 4.918349581273913,
                 45.63450666760973
                ],
                [
                 4.9255815068080535,
                 45.628616565358925
                ],
                [
                 4.9323829411519,
                 45.61701631679053
                ],
                [
                 4.932026916010687,
                 45.61085590907014
                ],
                [
                 4.928468636398804,
                 45.60648619509063
                ],
                [
                 4.925928051351384,
                 45.60561096489808
                ],
                [
                 4.916609442672575,
                 45.60726267325227
                ],
                [
                 4.901274576102539,
                 45.60631593754653
                ],
                [
                 4.896194269260857,
                 45.60302393227786
                ],
                [
                 4.8908916012836015,
                 45.601508095543196
                ],
                [
                 4.8880495309503145,
                 45.60618382001243
                ],
                [
                 4.886701573425779,
                 45.615742525400556
                ],
                [
                 4.888826760919813,
                 45.63139500262123
                ],
                [
                 4.889381517900136,
                 45.63512465343194
                ],
                [
                 4.891171423002428,
                 45.637382464965135
                ],
                [
                 4.892276286173688,
                 45.64175950143462
                ],
                [
                 4.917077061446536,
                 45.64819087408117
                ]
               ]
              ]
             ],
             "type": "MultiPolygon"
            },
            "id": "110",
            "properties": {
             "LIBCOM": "Marennes",
             "LIB_IRIS": "Marennes (commune non irisée)",
             "area_km2": 12.419282520000126,
             "cleabs": "IRIS____0000000692810000",
             "code_insee": "69281",
             "code_iris": "692810000",
             "etabs_per_km2": 0,
             "iris": "0000",
             "nb_etabs": 0,
             "nb_etudiants": 0,
             "nom_commune": "Marennes",
             "nom_iris": "Marennes",
             "students_per_km2": 0,
             "type_iris": "Z"
            },
            "type": "Feature"
           },
           {
            "bbox": [
             -1.1400389760794583,
             45.78630324533547,
             -1.0005239530183518,
             45.87889428521275
            ],
            "geometry": {
             "coordinates": [
              [
               [
                [
                 -1.1043846829275477,
                 45.86585288383679
                ],
                [
                 -1.0986492972641924,
                 45.87889428521275
                ],
                [
                 -1.0933540313946097,
                 45.87784015341122
                ],
                [
                 -1.0824227532164952,
                 45.87314479353219
                ],
                [
                 -1.0728844122325134,
                 45.87059203176838
                ],
                [
                 -1.0580700655059765,
                 45.86857625656541
                ],
                [
                 -1.0485936941941347,
                 45.86560902438752
                ],
                [
                 -1.042215777424495,
                 45.86255360613434
                ],
                [
                 -1.0398835338111994,
                 45.862322385097926
                ],
                [
                 -1.0359462662776084,
                 45.86239645292848
                ],
                [
                 -1.0302038992960054,
                 45.859598996961424
                ],
                [
                 -1.0244000792104622,
                 45.85542121165904
                ],
                [
                 -1.021533062089566,
                 45.85109079974231
                ],
                [
                 -1.0183737739438783,
                 45.849647929288665
                ],
                [
                 -1.0164783230182763,
                 45.84955849058326
                ],
                [
                 -1.0123734638340651,
                 45.84705088104483
                ],
                [
                 -1.0108755741019049,
                 45.84384102111929
                ],
                [
                 -1.0107504735379178,
                 45.840861891524206
                ],
                [
                 -1.0005239530183518,
                 45.82988566109308
                ],
                [
                 -1.009911964416744,
                 45.8194323266236
                ],
                [
                 -1.0196459915861908,
                 45.811086461943034
                ],
                [
                 -1.0303966406379317,
                 45.806796893766986
                ],
                [
                 -1.0499718634238902,
                 45.820078103266
                ],
                [
                 -1.0530866174040163,
                 45.82125926893808
                ],
                [
                 -1.067636925542131,
                 45.830188066967466
                ],
                [
                 -1.0739188995638704,
                 45.83092717924255
                ],
                [
                 -1.0816386903816813,
                 45.82799815710184
                ],
                [
                 -1.0853161165047902,
                 45.823891306439116
                ],
                [
                 -1.0932729895224549,
                 45.81143898989679
                ],
                [
                 -1.0959014830976064,
                 45.80271158345292
                ],
                [
                 -1.104119120066501,
                 45.79900352415089
                ],
                [
                 -1.1170313089079857,
                 45.79489181012078
                ],
                [
                 -1.1252644965705298,
                 45.78630324533547
                ],
                [
                 -1.1391560308894189,
                 45.79891883808973
                ],
                [
                 -1.1343303443443002,
                 45.80206341205009
                ],
                [
                 -1.136411348613373,
                 45.80968426057553
                ],
                [
                 -1.1375690594341246,
                 45.820427377603124
                ],
                [
                 -1.1400389760794583,
                 45.82252617777756
                ],
                [
                 -1.121646086960093,
                 45.83565768179851
                ],
                [
                 -1.116164742702419,
                 45.843969562353685
                ],
                [
                 -1.1079783858139474,
                 45.85099995907071
                ],
                [
                 -1.096666520881362,
                 45.85661834982669
                ],
                [
                 -1.1008560058682486,
                 45.86486566940234
                ],
                [
                 -1.1043846829275477,
                 45.86585288383679
                ]
               ]
              ]
             ],
             "type": "MultiPolygon"
            },
            "id": "111",
            "properties": {
             "LIBCOM": "Marennes-Hiers-Brouage",
             "LIB_IRIS": "Marennes-Hiers-Brouage (commune non irisée)",
             "area_km2": 52.380517569998766,
             "cleabs": "IRIS____0000000172190000",
             "code_insee": "17219",
             "code_iris": "172190000",
             "etabs_per_km2": 0,
             "iris": "0000",
             "nb_etabs": 0,
             "nb_etudiants": 0,
             "nom_commune": "Marennes-Hiers-Brouage",
             "nom_iris": "Marennes-Hiers-Brouage",
             "students_per_km2": 0,
             "type_iris": "Z"
            },
            "type": "Feature"
           },
           {
            "bbox": [
             -0.22304110991130463,
             48.098554238756094,
             -0.14957303992190246,
             48.1359227248572
            ],
            "geometry": {
             "coordinates": [
              [
               [
                [
                 -0.18275866047025094,
                 48.1359227248572
                ],
                [
                 -0.17274124639413452,
                 48.12779679590612
                ],
                [
                 -0.15542996462449576,
                 48.12202598907273
                ],
                [
                 -0.14957303992190246,
                 48.1159210589527
                ],
                [
                 -0.15127457106853462,
                 48.10219060174828
                ],
                [
                 -0.15933752285398187,
                 48.101064199821295
                ],
                [
                 -0.15759303718998627,
                 48.098554238756094
                ],
                [
                 -0.17192418360511233,
                 48.098950079046496
                ],
                [
                 -0.18700137488492938,
                 48.10272821687309
                ],
                [
                 -0.20475296099386558,
                 48.10930554981471
                ],
                [
                 -0.21152873403249883,
                 48.11308458036197
                ],
                [
                 -0.2159835813248843,
                 48.113141411766144
                ],
                [
                 -0.21966621989995022,
                 48.116195632338666
                ],
                [
                 -0.22304110991130463,
                 48.120856707781094
                ],
                [
                 -0.2229992557061904,
                 48.12299314997765
                ],
                [
                 -0.2191439875674345,
                 48.122967018105804
                ],
                [
                 -0.21278238554859868,
                 48.13282183379808
                ],
                [
                 -0.20072465249036123,
                 48.134050380287185
                ],
                [
                 -0.1854716792851724,
                 48.13419421852315
                ],
                [
                 -0.18275866047025094,
                 48.1359227248572
                ]
               ]
              ]
             ],
             "type": "MultiPolygon"
            },
            "id": "112",
            "properties": {
             "LIBCOM": "Parennes",
             "LIB_IRIS": "Parennes (commune non irisée)",
             "area_km2": 14.60425932499833,
             "cleabs": "IRIS____0000000722290000",
             "code_insee": "72229",
             "code_iris": "722290000",
             "etabs_per_km2": 0,
             "iris": "0000",
             "nb_etabs": 0,
             "nb_etudiants": 0,
             "nom_commune": "Parennes",
             "nom_iris": "Parennes",
             "students_per_km2": 0,
             "type_iris": "Z"
            },
            "type": "Feature"
           },
           {
            "bbox": [
             -0.5349085931238184,
             48.468089315791026,
             -0.4782782429438656,
             48.50887563066016
            ],
            "geometry": {
             "coordinates": [
              [
               [
                [
                 -0.4782782429438656,
                 48.50159327216625
                ],
                [
                 -0.48949680557866254,
                 48.49103473998451
                ],
                [
                 -0.4909312568445155,
                 48.487306906590845
                ],
                [
                 -0.49010815964174353,
                 48.48515644793828
                ],
                [
                 -0.49591536768232625,
                 48.48420394101113
                ],
                [
                 -0.500589087402403,
                 48.48181678034195
                ],
                [
                 -0.5061118234812075,
                 48.47805450075831
                ],
                [
                 -0.5112560269290563,
                 48.468465175826005
                ],
                [
                 -0.5153434011306347,
                 48.468089315791026
                ],
                [
                 -0.5197999401875742,
                 48.47109817788623
                ],
                [
                 -0.5174351157343957,
                 48.48220394109041
                ],
                [
                 -0.5196775043408497,
                 48.48423292707146
                ],
                [
                 -0.5269261098898379,
                 48.48653466752745
                ],
                [
                 -0.5349085931238184,
                 48.491575064788925
                ],
                [
                 -0.5155974415339,
                 48.50383680059856
                ],
                [
                 -0.5125725860084865,
                 48.50714912853808
                ],
                [
                 -0.5094561160310513,
                 48.50887563066016
                ],
                [
                 -0.49290820264914836,
                 48.50175902922214
                ],
                [
                 -0.48947380171336274,
                 48.50135934435333
                ],
                [
                 -0.4878117805367592,
                 48.50434189919774
                ],
                [
                 -0.4782782429438656,
                 48.50159327216625
                ]
               ]
              ]
             ],
             "type": "MultiPolygon"
            },
            "id": "113",
            "properties": {
             "LIBCOM": "Rennes-en-Grenouilles",
             "LIB_IRIS": "Rennes-en-Grenouilles (commune non irisée)",
             "area_km2": 8.434087465000768,
             "cleabs": "IRIS____0000000531890000",
             "code_insee": "53189",
             "code_iris": "531890000",
             "etabs_per_km2": 0,
             "iris": "0000",
             "nb_etabs": 0,
             "nb_etudiants": 0,
             "nom_commune": "Rennes-en-Grenouilles",
             "nom_iris": "Rennes-en-Grenouilles",
             "students_per_km2": 0,
             "type_iris": "Z"
            },
            "type": "Feature"
           },
           {
            "bbox": [
             2.2415628494713595,
             42.89683087343789,
             2.3151198290586077,
             42.9338128639259
            ],
            "geometry": {
             "coordinates": [
              [
               [
                [
                 2.3054905633432208,
                 42.91281762075481
                ],
                [
                 2.3102991949701064,
                 42.91093756699914
                ],
                [
                 2.3151198290586077,
                 42.904281166709595
                ],
                [
                 2.3132585276805195,
                 42.90061361722018
                ],
                [
                 2.2980283084271513,
                 42.898974649312905
                ],
                [
                 2.2817312285254467,
                 42.89683087343789
                ],
                [
                 2.2725510185529436,
                 42.89705955766355
                ],
                [
                 2.265843195237875,
                 42.89851035376302
                ],
                [
                 2.2601688899271877,
                 42.900710686513904
                ],
                [
                 2.25449167750691,
                 42.905865839902354
                ],
                [
                 2.2477053902744637,
                 42.91401128666131
                ],
                [
                 2.2451475667863545,
                 42.914626464531885
                ],
                [
                 2.2415628494713595,
                 42.929026396899786
                ],
                [
                 2.2422916385991325,
                 42.932635164160104
                ],
                [
                 2.2588655429485085,
                 42.9338128639259
                ],
                [
                 2.268673771892925,
                 42.9326803535297
                ],
                [
                 2.2825679196938125,
                 42.926619017673765
                ],
                [
                 2.2961062657011415,
                 42.91363516860837
                ],
                [
                 2.302386979689951,
                 42.911460234735785
                ],
                [
                 2.3054905633432208,
                 42.91281762075481
                ]
               ]
              ]
             ],
             "type": "MultiPolygon"
            },
            "id": "114",
            "properties": {
             "LIBCOM": "Rennes-le-Château",
             "LIB_IRIS": "Rennes-le-Château (commune non irisée)",
             "area_km2": 15.186090895001058,
             "cleabs": "IRIS____0000000113090000",
             "code_insee": "11309",
             "code_iris": "113090000",
             "etabs_per_km2": 0,
             "iris": "0000",
             "nb_etabs": 0,
             "nb_etudiants": 0,
             "nom_commune": "Rennes-le-Château",
             "nom_iris": "Rennes-le-Château",
             "students_per_km2": 0,
             "type_iris": "Z"
            },
            "type": "Feature"
           },
           {
            "bbox": [
             2.2982182216993943,
             42.904281166709595,
             2.3954664955321863,
             42.941141744508826
            ],
            "geometry": {
             "coordinates": [
              [
               [
                [
                 2.29961202017591,
                 42.93925281715492
                ],
                [
                 2.3150114836878375,
                 42.941141744508826
                ],
                [
                 2.324082207648176,
                 42.93817832124107
                ],
                [
                 2.3301888114352236,
                 42.93478921591088
                ],
                [
                 2.333531985839708,
                 42.934100433580994
                ],
                [
                 2.3431098064848257,
                 42.93632318563159
                ],
                [
                 2.345043420399422,
                 42.93829911831743
                ],
                [
                 2.3508811555024076,
                 42.93892179822965
                ],
                [
                 2.357095629296937,
                 42.93770189500444
                ],
                [
                 2.3744985151616844,
                 42.93441324596595
                ],
                [
                 2.3855592672085106,
                 42.933946458284865
                ],
                [
                 2.3912840613030415,
                 42.93261567004502
                ],
                [
                 2.3954664955321863,
                 42.929524943322534
                ],
                [
                 2.395015478541502,
                 42.92371823094226
                ],
                [
                 2.389916478766565,
                 42.92079001956716
                ],
                [
                 2.388593908352977,
                 42.917519808742696
                ],
                [
                 2.3744453494779556,
                 42.918003122521846
                ],
                [
                 2.3638720542647533,
                 42.91958857404512
                ],
                [
                 2.354243202494644,
                 42.91751217584149
                ],
                [
                 2.3499907818431502,
                 42.90990716308747
                ],
                [
                 2.3392678682442933,
                 42.9061114267337
                ],
                [
                 2.316240950858862,
                 42.90485577038802
                ],
                [
                 2.3151198290586077,
                 42.904281166709595
                ],
                [
                 2.3102991949701064,
                 42.91093756699914
                ],
                [
                 2.3054905633432208,
                 42.91281762075481
                ],
                [
                 2.305363628853347,
                 42.92127665639631
                ],
                [
                 2.3025505663413233,
                 42.92492945657748
                ],
                [
                 2.3032815599655323,
                 42.92825809627898
                ],
                [
                 2.3053966427245975,
                 42.93017296221445
                ],
                [
                 2.2982182216993943,
                 42.938815642057016
                ],
                [
                 2.29961202017591,
                 42.93925281715492
                ]
               ]
              ]
             ],
             "type": "MultiPolygon"
            },
            "id": "115",
            "properties": {
             "LIBCOM": "Rennes-les-Bains",
             "LIB_IRIS": "Rennes-les-Bains (commune non irisée)",
             "area_km2": 19.879816130000147,
             "cleabs": "IRIS____0000000113100000",
             "code_insee": "11310",
             "code_iris": "113100000",
             "etabs_per_km2": 0,
             "iris": "0000",
             "nb_etabs": 0,
             "nb_etudiants": 0,
             "nom_commune": "Rennes-les-Bains",
             "nom_iris": "Rennes-les-Bains",
             "students_per_km2": 0,
             "type_iris": "Z"
            },
            "type": "Feature"
           },
           {
            "bbox": [
             5.838707351311778,
             47.00335364393457,
             5.883166419737313,
             47.03032224766357
            ],
            "geometry": {
             "coordinates": [
              [
               [
                [
                 5.882086079608677,
                 47.005008328781315
                ],
                [
                 5.85582661311009,
                 47.0088271326137
                ],
                [
                 5.85041788201596,
                 47.00601935362459
                ],
                [
                 5.849433940339714,
                 47.00339674109303
                ],
                [
                 5.846654194045399,
                 47.00335364393457
                ],
                [
                 5.847776397380336,
                 47.00914951841777
                ],
                [
                 5.8451435100035845,
                 47.010299176421725
                ],
                [
                 5.840853557456047,
                 47.008595825096336
                ],
                [
                 5.838707351311778,
                 47.009109014135575
                ],
                [
                 5.839745329197101,
                 47.011615055655625
                ],
                [
                 5.839574425671632,
                 47.015452666208525
                ],
                [
                 5.842869508191969,
                 47.03032224766357
                ],
                [
                 5.8515594545342315,
                 47.029329516144834
                ],
                [
                 5.854335312639637,
                 47.026059942715456
                ],
                [
                 5.865445375419549,
                 47.019993518497856
                ],
                [
                 5.883166419737313,
                 47.016656574316144
                ],
                [
                 5.881642211797804,
                 47.011843109381836
                ],
                [
                 5.882086079608677,
                 47.005008328781315
                ]
               ]
              ]
             ],
             "type": "MultiPolygon"
            },
            "id": "116",
            "properties": {
             "LIBCOM": "Rennes-sur-Loue",
             "LIB_IRIS": "Rennes-sur-Loue (commune non irisée)",
             "area_km2": 5.640935269998362,
             "cleabs": "IRIS____0000000254880000",
             "code_insee": "25488",
             "code_iris": "254880000",
             "etabs_per_km2": 0,
             "iris": "0000",
             "nb_etabs": 0,
             "nb_etudiants": 0,
             "nom_commune": "Rennes-sur-Loue",
             "nom_iris": "Rennes-sur-Loue",
             "students_per_km2": 0,
             "type_iris": "Z"
            },
            "type": "Feature"
           },
           {
            "bbox": [
             1.3352558344768108,
             46.57048775943877,
             1.4227315976309194,
             46.671938231538164
            ],
            "geometry": {
             "coordinates": [
              [
               [
                [
                 1.412583304779009,
                 46.62877766437705
                ],
                [
                 1.4126269144013295,
                 46.61810062585013
                ],
                [
                 1.4205238579790793,
                 46.61194150463471
                ],
                [
                 1.4227315976309194,
                 46.60841180440838
                ],
                [
                 1.4184028912837718,
                 46.59997822492915
                ],
                [
                 1.4015839840798539,
                 46.59206518333323
                ],
                [
                 1.386076164611135,
                 46.587014949893295
                ],
                [
                 1.3684562745538804,
                 46.57477879779335
                ],
                [
                 1.365787734531261,
                 46.57444172888188
                ],
                [
                 1.3591626175981102,
                 46.57048775943877
                ],
                [
                 1.3573948064678014,
                 46.57315800242818
                ],
                [
                 1.347325010676157,
                 46.57674891411416
                ],
                [
                 1.3352558344768108,
                 46.59899178090999
                ],
                [
                 1.3429352635753018,
                 46.61421031027165
                ],
                [
                 1.3485105369175512,
                 46.6218839950742
                ],
                [
                 1.350793997965073,
                 46.62762324278703
                ],
                [
                 1.3536888658086126,
                 46.63170956579072
                ],
                [
                 1.3680063937638651,
                 46.63213678771
                ],
                [
                 1.3716264347310945,
                 46.633626565670276
                ],
                [
                 1.3823903589776296,
                 46.649545143638676
                ],
                [
                 1.3853926042711364,
                 46.65806131635295
                ],
                [
                 1.3844443726716735,
                 46.66201965230497
                ],
                [
                 1.3888855953737895,
                 46.671502494502086
                ],
                [
                 1.3904139164840184,
                 46.671938231538164
                ],
                [
                 1.3938064770788172,
                 46.66334987301384
                ],
                [
                 1.3993860865351537,
                 46.6577396531422
                ],
                [
                 1.411806194904741,
                 46.65203320118338
                ],
                [
                 1.4124207932225499,
                 46.646258921593535
                ],
                [
                 1.4077822240033038,
                 46.6370615208217
                ],
                [
                 1.4063324638617307,
                 46.63125224996854
                ],
                [
                 1.412583304779009,
                 46.62877766437705
                ]
               ]
              ]
             ],
             "type": "MultiPolygon"
            },
            "id": "117",
            "properties": {
             "LIBCOM": "Rivarennes",
             "LIB_IRIS": "Rivarennes (commune non irisée)",
             "area_km2": 37.740320574998066,
             "cleabs": "IRIS____0000000361720000",
             "code_insee": "36172",
             "code_iris": "361720000",
             "etabs_per_km2": 0,
             "iris": "0000",
             "nb_etabs": 0,
             "nb_etudiants": 0,
             "nom_commune": "Rivarennes",
             "nom_iris": "Rivarennes",
             "students_per_km2": 0,
             "type_iris": "Z"
            },
            "type": "Feature"
           },
           {
            "bbox": [
             0.32734072528111424,
             47.20134743662949,
             0.3969124342273767,
             47.28514764158509
            ],
            "geometry": {
             "coordinates": [
              [
               [
                [
                 0.32734072528111424,
                 47.26333597934552
                ],
                [
                 0.33100432778092237,
                 47.265129122609785
                ],
                [
                 0.3347810801908137,
                 47.27126192379787
                ],
                [
                 0.341727517899733,
                 47.275625206109176
                ],
                [
                 0.35277532096967634,
                 47.28190213896948
                ],
                [
                 0.35676889295270875,
                 47.28356862551455
                ],
                [
                 0.36252960899271036,
                 47.284621217318104
                ],
                [
                 0.3672652663453471,
                 47.28514764158509
                ],
                [
                 0.37623487860843935,
                 47.28270988866982
                ],
                [
                 0.39030328230010713,
                 47.27390186070498
                ],
                [
                 0.37969142057626803,
                 47.26457585072827
                ],
                [
                 0.37266056993553515,
                 47.26050028731189
                ],
                [
                 0.37050242855932086,
                 47.24752371303922
                ],
                [
                 0.37225237297035846,
                 47.2404104687005
                ],
                [
                 0.38135177547569726,
                 47.22198148947662
                ],
                [
                 0.3840532841481768,
                 47.21142971266988
                ],
                [
                 0.38636876371301065,
                 47.20711506611368
                ],
                [
                 0.38835099689564584,
                 47.20500154120965
                ],
                [
                 0.3969124342273767,
                 47.201824511656035
                ],
                [
                 0.3939630923599361,
                 47.20134743662949
                ],
                [
                 0.3648551097450221,
                 47.20368298578815
                ],
                [
                 0.36778836260758274,
                 47.21837102125058
                ],
                [
                 0.35992363946697964,
                 47.22081241306836
                ],
                [
                 0.3686841368120168,
                 47.232380280388625
                ],
                [
                 0.3573267863033509,
                 47.2454865115865
                ],
                [
                 0.3396361648508485,
                 47.24692571265525
                ],
                [
                 0.33427263494967496,
                 47.246408853104704
                ],
                [
                 0.33118839492484176,
                 47.249381595537145
                ],
                [
                 0.32734072528111424,
                 47.26333597934552
                ]
               ]
              ]
             ],
             "type": "MultiPolygon"
            },
            "id": "118",
            "properties": {
             "LIBCOM": "Rivarennes",
             "LIB_IRIS": "Rivarennes (commune non irisée)",
             "area_km2": 19.163215040001887,
             "cleabs": "IRIS____0000000372000000",
             "code_insee": "37200",
             "code_iris": "372000000",
             "etabs_per_km2": 0,
             "iris": "0000",
             "nb_etabs": 0,
             "nb_etudiants": 0,
             "nom_commune": "Rivarennes",
             "nom_iris": "Rivarennes",
             "students_per_km2": 0,
             "type_iris": "Z"
            },
            "type": "Feature"
           },
           {
            "bbox": [
             4.820473741295018,
             46.70571053340496,
             4.885400986814605,
             46.741442693654925
            ],
            "geometry": {
             "coordinates": [
              [
               [
                [
                 4.854865364701058,
                 46.737480110935955
                ],
                [
                 4.858110306832838,
                 46.737098009868426
                ],
                [
                 4.878089125809607,
                 46.741217744847745
                ],
                [
                 4.883326934425337,
                 46.741442693654925
                ],
                [
                 4.881111059504801,
                 46.73572198571635
                ],
                [
                 4.885400986814605,
                 46.73182921196199
                ],
                [
                 4.877092220500316,
                 46.72697748025398
                ],
                [
                 4.859245410220822,
                 46.719753689175214
                ],
                [
                 4.842812200816845,
                 46.71121295975007
                ],
                [
                 4.840473671028235,
                 46.70684807357202
                ],
                [
                 4.833722609719382,
                 46.70571053340496
                ],
                [
                 4.820473741295018,
                 46.7081523755529
                ],
                [
                 4.826197516033938,
                 46.715418870105495
                ],
                [
                 4.826799652344195,
                 46.72128963893982
                ],
                [
                 4.828947186264598,
                 46.720349389657144
                ],
                [
                 4.830252363854671,
                 46.720645617128966
                ],
                [
                 4.8429287297797625,
                 46.72861354309536
                ],
                [
                 4.854865364701058,
                 46.737480110935955
                ]
               ]
              ]
             ],
             "type": "MultiPolygon"
            },
            "id": "119",
            "properties": {
             "LIBCOM": "Saint-Loup-de-Varennes",
             "LIB_IRIS": "Saint-Loup-de-Varennes (commune non irisée)",
             "area_km2": 8.18337072500251,
             "cleabs": "IRIS____0000000714440000",
             "code_insee": "71444",
             "code_iris": "714440000",
             "etabs_per_km2": 0,
             "iris": "0000",
             "nb_etabs": 0,
             "nb_etudiants": 0,
             "nom_commune": "Saint-Loup-de-Varennes",
             "nom_iris": "Saint-Loup-de-Varennes",
             "students_per_km2": 0,
             "type_iris": "Z"
            },
            "type": "Feature"
           },
           {
            "bbox": [
             5.337993479372187,
             45.10999779880467,
             5.4425537362976115,
             45.13734723009217
            ],
            "geometry": {
             "coordinates": [
              [
               [
                [
                 5.4425537362976115,
                 45.11619111825478
                ],
                [
                 5.4419624345103434,
                 45.11471319348059
                ],
                [
                 5.437805950448681,
                 45.111533243977085
                ],
                [
                 5.4348859484782865,
                 45.11330683464145
                ],
                [
                 5.426125567144854,
                 45.11515624869641
                ],
                [
                 5.4074417991371915,
                 45.116735042363075
                ],
                [
                 5.401545591624539,
                 45.11616226986949
                ],
                [
                 5.396589254070535,
                 45.11216660487451
                ],
                [
                 5.390657206181341,
                 45.10999779880467
                ],
                [
                 5.365522641589542,
                 45.11041777821857
                ],
                [
                 5.36438833564111,
                 45.11108952052872
                ],
                [
                 5.351249562328394,
                 45.1212167702531
                ],
                [
                 5.337993479372187,
                 45.126371541527696
                ],
                [
                 5.338195350128849,
                 45.127212258475275
                ],
                [
                 5.342325342773669,
                 45.127351684550554
                ],
                [
                 5.34919329485974,
                 45.13038524470791
                ],
                [
                 5.352664416487458,
                 45.13242986202495
                ],
                [
                 5.356553489517535,
                 45.13734723009217
                ],
                [
                 5.362204525442867,
                 45.13695834333956
                ],
                [
                 5.375964465602778,
                 45.131642220515545
                ],
                [
                 5.385769940414817,
                 45.12645587121929
                ],
                [
                 5.396011319424145,
                 45.12402927683075
                ],
                [
                 5.404831635190775,
                 45.125707699255656
                ],
                [
                 5.40850536583141,
                 45.127716517011294
                ],
                [
                 5.430612550626296,
                 45.124833415269975
                ],
                [
                 5.439038091998307,
                 45.117000462726665
                ],
                [
                 5.4425537362976115,
                 45.11619111825478
                ]
               ]
              ]
             ],
             "type": "MultiPolygon"
            },
            "id": "120",
            "properties": {
             "LIBCOM": "Saint-Pierre-de-Chérennes",
             "LIB_IRIS": "Saint-Pierre-de-Chérennes (commune non irisée)",
             "area_km2": 11.94056722000301,
             "cleabs": "IRIS____0000000384430000",
             "code_insee": "38443",
             "code_iris": "384430000",
             "etabs_per_km2": 0,
             "iris": "0000",
             "nb_etabs": 0,
             "nb_etudiants": 0,
             "nom_commune": "Saint-Pierre-de-Chérennes",
             "nom_iris": "Saint-Pierre-de-Chérennes",
             "students_per_km2": 0,
             "type_iris": "Z"
            },
            "type": "Feature"
           },
           {
            "bbox": [
             4.470434945265353,
             46.813171656355394,
             4.554071350332374,
             46.87002350011092
            ],
            "geometry": {
             "coordinates": [
              [
               [
                [
                 4.545286400312131,
                 46.837860841347535
                ],
                [
                 4.537524719722325,
                 46.83562248674655
                ],
                [
                 4.515931647763599,
                 46.825272631027644
                ],
                [
                 4.512305952658504,
                 46.82003321899317
                ],
                [
                 4.511921746549292,
                 46.81651260739329
                ],
                [
                 4.504429105244914,
                 46.813171656355394
                ],
                [
                 4.491522425101241,
                 46.81453120134616
                ],
                [
                 4.491534866330797,
                 46.81731913836452
                ],
                [
                 4.496131672894442,
                 46.817848391006144
                ],
                [
                 4.502890673087832,
                 46.82074919370777
                ],
                [
                 4.5015020123026765,
                 46.827118000533744
                ],
                [
                 4.497415607169587,
                 46.83246017722515
                ],
                [
                 4.491671571462527,
                 46.83086608949454
                ],
                [
                 4.48336772303439,
                 46.83007832225845
                ],
                [
                 4.473507996779711,
                 46.83845938858675
                ],
                [
                 4.471957476089019,
                 46.844569575006616
                ],
                [
                 4.477963449179433,
                 46.857080298546045
                ],
                [
                 4.477919294680412,
                 46.85950330538421
                ],
                [
                 4.470434945265353,
                 46.86951762240648
                ],
                [
                 4.490619141431143,
                 46.87002350011092
                ],
                [
                 4.4974637105700275,
                 46.86772205449036
                ],
                [
                 4.510442362854396,
                 46.8659981641614
                ],
                [
                 4.520038945078625,
                 46.867113693390884
                ],
                [
                 4.52108335778772,
                 46.86563741679368
                ],
                [
                 4.554071350332374,
                 46.85150029892785
                ],
                [
                 4.545286400312131,
                 46.837860841347535
                ]
               ]
              ]
             ],
             "type": "MultiPolygon"
            },
            "id": "121",
            "properties": {
             "LIBCOM": "Saint-Pierre-de-Varennes",
             "LIB_IRIS": "Saint-Pierre-de-Varennes (commune non irisée)",
             "area_km2": 22.95667092999718,
             "cleabs": "IRIS____0000000714680000",
             "code_insee": "71468",
             "code_iris": "714680000",
             "etabs_per_km2": 0,
             "iris": "0000",
             "nb_etabs": 0,
             "nb_etudiants": 0,
             "nom_commune": "Saint-Pierre-de-Varennes",
             "nom_iris": "Saint-Pierre-de-Varennes",
             "students_per_km2": 0,
             "type_iris": "Z"
            },
            "type": "Feature"
           },
           {
            "bbox": [
             0.6367716787683146,
             44.82487258752293,
             0.6929148149015224,
             44.84180417704992
            ],
            "geometry": {
             "coordinates": [
              [
               [
                [
                 0.6737596518679565,
                 44.838326378617765
                ],
                [
                 0.6929148149015224,
                 44.83400570479973
                ],
                [
                 0.6927899556927319,
                 44.82487258752293
                ],
                [
                 0.6740052048334563,
                 44.828147989669176
                ],
                [
                 0.6367716787683146,
                 44.83653675742583
                ],
                [
                 0.6369524894262011,
                 44.83858797613341
                ],
                [
                 0.6402569514734804,
                 44.83903301286186
                ],
                [
                 0.6429867380820113,
                 44.84047276179476
                ],
                [
                 0.6435866675877773,
                 44.84180417704992
                ],
                [
                 0.6737596518679565,
                 44.838326378617765
                ]
               ]
              ]
             ],
             "type": "MultiPolygon"
            },
            "id": "122",
            "properties": {
             "LIBCOM": "Varennes",
             "LIB_IRIS": "Varennes (commune non irisée)",
             "area_km2": 4.072934664992657,
             "cleabs": "IRIS____0000000245660000",
             "code_insee": "24566",
             "code_iris": "245660000",
             "etabs_per_km2": 0,
             "iris": "0000",
             "nb_etabs": 0,
             "nb_etudiants": 0,
             "nom_commune": "Varennes",
             "nom_iris": "Varennes",
             "students_per_km2": 0,
             "type_iris": "Z"
            },
            "type": "Feature"
           },
           {
            "bbox": [
             1.6783775935275533,
             43.463801167819476,
             1.7132027954871714,
             43.4898699323076
            ],
            "geometry": {
             "coordinates": [
              [
               [
                [
                 1.6803495969177098,
                 43.4898699323076
                ],
                [
                 1.689953081688464,
                 43.489465376316865
                ],
                [
                 1.6958874162730808,
                 43.48812059264342
                ],
                [
                 1.6988026679137622,
                 43.47818929640178
                ],
                [
                 1.7076884210904524,
                 43.475868793193186
                ],
                [
                 1.7079591287732587,
                 43.476468590645446
                ],
                [
                 1.710905350104937,
                 43.475782916707495
                ],
                [
                 1.7104773954364463,
                 43.47205623980151
                ],
                [
                 1.7132027954871714,
                 43.47123381144013
                ],
                [
                 1.7122895833768026,
                 43.46909044020298
                ],
                [
                 1.7097789305709516,
                 43.46750393438248
                ],
                [
                 1.7026210514067817,
                 43.47116888046262
                ],
                [
                 1.6934885752250333,
                 43.46506651746047
                ],
                [
                 1.692764966514652,
                 43.46445492697053
                ],
                [
                 1.685728532680017,
                 43.463801167819476
                ],
                [
                 1.6783775935275533,
                 43.468883868832435
                ],
                [
                 1.6806184944708236,
                 43.47756192695837
                ],
                [
                 1.6803495969177098,
                 43.4898699323076
                ]
               ]
              ]
             ],
             "type": "MultiPolygon"
            },
            "id": "123",
            "properties": {
             "LIBCOM": "Varennes",
             "LIB_IRIS": "Varennes (commune non irisée)",
             "area_km2": 4.726318730000751,
             "cleabs": "IRIS____0000000315680000",
             "code_insee": "31568",
             "code_iris": "315680000",
             "etabs_per_km2": 0,
             "iris": "0000",
             "nb_etabs": 0,
             "nb_etudiants": 0,
             "nom_commune": "Varennes",
             "nom_iris": "Varennes",
             "students_per_km2": 0,
             "type_iris": "Z"
            },
            "type": "Feature"
           },
           {
            "bbox": [
             0.8871907854104127,
             47.047481955167704,
             0.9430121658979408,
             47.100525902808535
            ],
            "geometry": {
             "coordinates": [
              [
               [
                [
                 0.9025452460763556,
                 47.0476597598309
                ],
                [
                 0.8957442489950103,
                 47.052168963928686
                ],
                [
                 0.8932547769321569,
                 47.05521189188509
                ],
                [
                 0.8871907854104127,
                 47.07053905422611
                ],
                [
                 0.9093681231291597,
                 47.08605323928636
                ],
                [
                 0.9203251937784083,
                 47.090028134240164
                ],
                [
                 0.9275848450517373,
                 47.090979889129024
                ],
                [
                 0.9412644368510039,
                 47.100525902808535
                ],
                [
                 0.9430121658979408,
                 47.09951950408174
                ],
                [
                 0.9357282696079245,
                 47.09020967433284
                ],
                [
                 0.9346160237393439,
                 47.08396021043646
                ],
                [
                 0.927929390248942,
                 47.08143135385213
                ],
                [
                 0.9279098876998866,
                 47.067733369880685
                ],
                [
                 0.9223161912583547,
                 47.063854769039025
                ],
                [
                 0.9206487343411204,
                 47.06119131967593
                ],
                [
                 0.9210230439909453,
                 47.05164952881366
                ],
                [
                 0.9194814152543819,
                 47.05051849080525
                ],
                [
                 0.9073404787192106,
                 47.047481955167704
                ],
                [
                 0.9025452460763556,
                 47.0476597598309
                ]
               ]
              ]
             ],
             "type": "MultiPolygon"
            },
            "id": "124",
            "properties": {
             "LIBCOM": "Varennes",
             "LIB_IRIS": "Varennes (commune non irisée)",
             "area_km2": 10.900237929997015,
             "cleabs": "IRIS____0000000372650000",
             "code_insee": "37265",
             "code_iris": "372650000",
             "etabs_per_km2": 0,
             "iris": "0000",
             "nb_etabs": 0,
             "nb_etudiants": 0,
             "nom_commune": "Varennes",
             "nom_iris": "Varennes",
             "students_per_km2": 0,
             "type_iris": "Z"
            },
            "type": "Feature"
           },
           {
            "bbox": [
             2.4844745647179907,
             50.02872913834965,
             2.547352312503122,
             50.057764332211576
            ],
            "geometry": {
             "coordinates": [
              [
               [
                [
                 2.515661278560082,
                 50.02872913834965
                ],
                [
                 2.5059879857068106,
                 50.04262047121581
                ],
                [
                 2.4986749837067315,
                 50.048350773781166
                ],
                [
                 2.493110498690625,
                 50.047559962261204
                ],
                [
                 2.4874807568739357,
                 50.04578781881519
                ],
                [
                 2.4844745647179907,
                 50.049411016699146
                ],
                [
                 2.486347508904575,
                 50.05096552290014
                ],
                [
                 2.5007102830833268,
                 50.05684943117007
                ],
                [
                 2.508830785269223,
                 50.05759086797195
                ],
                [
                 2.511492968394526,
                 50.05552136256248
                ],
                [
                 2.5126311426407923,
                 50.05743088739826
                ],
                [
                 2.5140467545013006,
                 50.057764332211576
                ],
                [
                 2.5167602992206066,
                 50.05614040460067
                ],
                [
                 2.535021422888683,
                 50.054618559968844
                ],
                [
                 2.534579471884036,
                 50.05398008766862
                ],
                [
                 2.545202780701605,
                 50.045348157460865
                ],
                [
                 2.547352312503122,
                 50.041092486123375
                ],
                [
                 2.533304991557945,
                 50.03796535792517
                ],
                [
                 2.524705234015237,
                 50.031952213094684
                ],
                [
                 2.518518856798387,
                 50.028953267674
                ],
                [
                 2.515661278560082,
                 50.02872913834965
                ]
               ]
              ]
             ],
             "type": "MultiPolygon"
            },
            "id": "125",
            "properties": {
             "LIBCOM": "Varennes",
             "LIB_IRIS": "Varennes (commune non irisée)",
             "area_km2": 7.300144355000257,
             "cleabs": "IRIS____0000000807760000",
             "code_insee": "80776",
             "code_iris": "807760000",
             "etabs_per_km2": 0,
             "iris": "0000",
             "nb_etabs": 0,
             "nb_etudiants": 0,
             "nom_commune": "Varennes",
             "nom_iris": "Varennes",
             "students_per_km2": 0,
             "type_iris": "Z"
            },
            "type": "Feature"
           },
           {
            "bbox": [
             1.463091268007694,
             43.89209518166543,
             1.5171851460540535,
             43.94133996576329
            ],
            "geometry": {
             "coordinates": [
              [
               [
                [
                 1.4793839238159128,
                 43.94133996576329
                ],
                [
                 1.4852034730528163,
                 43.93821635361577
                ],
                [
                 1.5035599482025037,
                 43.931980349833616
                ],
                [
                 1.507317660349001,
                 43.928077550869034
                ],
                [
                 1.5088409721741556,
                 43.91706299798957
                ],
                [
                 1.5151707262799432,
                 43.90623007639715
                ],
                [
                 1.5171851460540535,
                 43.90148242376975
                ],
                [
                 1.5167097853428573,
                 43.9009008052413
                ],
                [
                 1.5015152378313121,
                 43.892600559405516
                ],
                [
                 1.494614438682957,
                 43.89209518166543
                ],
                [
                 1.489351567953716,
                 43.89620524971285
                ],
                [
                 1.4902238467218145,
                 43.89753416244586
                ],
                [
                 1.4863553595400387,
                 43.90343928818904
                ],
                [
                 1.4769593314959462,
                 43.908271838439504
                ],
                [
                 1.463091268007694,
                 43.91880782602448
                ],
                [
                 1.4633548416843325,
                 43.92562184540659
                ],
                [
                 1.46513981485007,
                 43.93246267638413
                ],
                [
                 1.4643396934186421,
                 43.933452372552495
                ],
                [
                 1.4754506418594895,
                 43.93748932226355
                ],
                [
                 1.4793839238159128,
                 43.94133996576329
                ]
               ]
              ]
             ],
             "type": "MultiPolygon"
            },
            "id": "126",
            "properties": {
             "LIBCOM": "Varennes",
             "LIB_IRIS": "Varennes (commune non irisée)",
             "area_km2": 14.012160709998595,
             "cleabs": "IRIS____0000000821880000",
             "code_insee": "82188",
             "code_iris": "821880000",
             "etabs_per_km2": 0,
             "iris": "0000",
             "nb_etabs": 0,
             "nb_etudiants": 0,
             "nom_commune": "Varennes",
             "nom_iris": "Varennes",
             "students_per_km2": 0,
             "type_iris": "Z"
            },
            "type": "Feature"
           },
           {
            "bbox": [
             3.764547648478729,
             47.89290783901269,
             3.804600795577246,
             47.93490916912462
            ],
            "geometry": {
             "coordinates": [
              [
               [
                [
                 3.7945353347387623,
                 47.9294498792893
                ],
                [
                 3.7980446541007327,
                 47.925673106349784
                ],
                [
                 3.8019349817910095,
                 47.91878861098621
                ],
                [
                 3.804600795577246,
                 47.90395897100037
                ],
                [
                 3.802230996717647,
                 47.8932848266481
                ],
                [
                 3.798384627007633,
                 47.89290783901269
                ],
                [
                 3.784524865583699,
                 47.89554201037307
                ],
                [
                 3.7745344426866083,
                 47.895896344433375
                ],
                [
                 3.7708587618393823,
                 47.902758805649256
                ],
                [
                 3.769166958115869,
                 47.91329185162359
                ],
                [
                 3.765942850648638,
                 47.91966151814566
                ],
                [
                 3.764547648478729,
                 47.926626674345755
                ],
                [
                 3.7681492361503244,
                 47.93205173657728
                ],
                [
                 3.7694520576741914,
                 47.93249860732569
                ],
                [
                 3.769889280961102,
                 47.93051216141292
                ],
                [
                 3.7815297225028925,
                 47.93490916912462
                ],
                [
                 3.7840378776236756,
                 47.93461706235243
                ],
                [
                 3.7945353347387623,
                 47.9294498792893
                ]
               ]
              ]
             ],
             "type": "MultiPolygon"
            },
            "id": "127",
            "properties": {
             "LIBCOM": "Varennes",
             "LIB_IRIS": "Varennes (commune non irisée)",
             "area_km2": 10.254100859998085,
             "cleabs": "IRIS____0000000894300000",
             "code_insee": "89430",
             "code_iris": "894300000",
             "etabs_per_km2": 0,
             "iris": "0000",
             "nb_etabs": 0,
             "nb_etudiants": 0,
             "nom_commune": "Varennes",
             "nom_iris": "Varennes",
             "students_per_km2": 0,
             "type_iris": "Z"
            },
            "type": "Feature"
           },
           {
            "bbox": [
             2.615108627534134,
             47.83021786274275,
             2.7112700362944246,
             47.899175548025525
            ],
            "geometry": {
             "coordinates": [
              [
               [
                [
                 2.615108627534134,
                 47.868777600850535
                ],
                [
                 2.626466325996269,
                 47.875170040082224
                ],
                [
                 2.6370571840842807,
                 47.87886351997007
                ],
                [
                 2.6410213479870217,
                 47.87902510869723
                ],
                [
                 2.6691658034652455,
                 47.89712631850553
                ],
                [
                 2.670120637641127,
                 47.899175548025525
                ],
                [
                 2.6874308833660545,
                 47.893409063492136
                ],
                [
                 2.690788539056721,
                 47.891078013709674
                ],
                [
                 2.6916922419443976,
                 47.88154509881054
                ],
                [
                 2.6910269874105044,
                 47.8756223516248
                ],
                [
                 2.681740923108573,
                 47.86952801857414
                ],
                [
                 2.675877080662238,
                 47.86491481429385
                ],
                [
                 2.6752325666684618,
                 47.86336054451094
                ],
                [
                 2.6768475147035766,
                 47.86148761626606
                ],
                [
                 2.682829316148096,
                 47.862871028476015
                ],
                [
                 2.692437816218166,
                 47.86114612039284
                ],
                [
                 2.700197245368634,
                 47.8571000283639
                ],
                [
                 2.7112700362944246,
                 47.85113112298435
                ],
                [
                 2.7089413190030345,
                 47.84786287155599
                ],
                [
                 2.6944178115762303,
                 47.8363715901436
                ],
                [
                 2.6906753922083566,
                 47.834229661693406
                ],
                [
                 2.684443435823526,
                 47.83271364414492
                ],
                [
                 2.678459683136676,
                 47.83021786274275
                ],
                [
                 2.6651786796595807,
                 47.832884325442436
                ],
                [
                 2.653265690703443,
                 47.84284339375075
                ],
                [
                 2.6434353936425623,
                 47.84704124356445
                ],
                [
                 2.621416072109796,
                 47.84406342691497
                ],
                [
                 2.623784609812416,
                 47.85017937807206
                ],
                [
                 2.6248432598604454,
                 47.8566654763631
                ],
                [
                 2.615108627534134,
                 47.868777600850535
                ]
               ]
              ]
             ],
             "type": "MultiPolygon"
            },
            "id": "128",
            "properties": {
             "LIBCOM": "Varennes-Changy",
             "LIB_IRIS": "Varennes-Changy (commune non irisée)",
             "area_km2": 29.284715259998325,
             "cleabs": "IRIS____0000000453320000",
             "code_insee": "45332",
             "code_iris": "453320000",
             "etabs_per_km2": 0,
             "iris": "0000",
             "nb_etabs": 0,
             "nb_etudiants": 0,
             "nom_commune": "Varennes-Changy",
             "nom_iris": "Varennes-Changy",
             "students_per_km2": 0,
             "type_iris": "Z"
            },
            "type": "Feature"
           },
           {
            "bbox": [
             4.977584255282244,
             49.20988902631744,
             5.047577266316985,
             49.25130954528947
            ],
            "geometry": {
             "coordinates": [
              [
               [
                [
                 5.041657605458776,
                 49.24740417980676
                ],
                [
                 5.045357836973302,
                 49.2433684284265
                ],
                [
                 5.047577266316985,
                 49.23556177408255
                ],
                [
                 5.047249212590531,
                 49.22897728421471
                ],
                [
                 5.044983043273511,
                 49.22268195305003
                ],
                [
                 5.040077028785918,
                 49.22100335297085
                ],
                [
                 5.029558370044539,
                 49.22025465856956
                ],
                [
                 5.020245796574382,
                 49.214383982439415
                ],
                [
                 5.007937484668902,
                 49.20988902631744
                ],
                [
                 4.991415435238036,
                 49.21100226304946
                ],
                [
                 4.988916368327788,
                 49.213657802572406
                ],
                [
                 4.978032423860775,
                 49.21890806110758
                ],
                [
                 4.977584255282244,
                 49.21975355449568
                ],
                [
                 4.980791223714929,
                 49.223478803927385
                ],
                [
                 4.9820084326191525,
                 49.227080219703204
                ],
                [
                 4.993015953018582,
                 49.232660441789015
                ],
                [
                 5.0047862641762535,
                 49.233978773152195
                ],
                [
                 5.021413706257785,
                 49.233728096622954
                ],
                [
                 5.026258996157123,
                 49.236575742453866
                ],
                [
                 5.028320496512093,
                 49.239413403075524
                ],
                [
                 5.0288566106313315,
                 49.24397454753876
                ],
                [
                 5.024795587865537,
                 49.25033506054039
                ],
                [
                 5.027170504659115,
                 49.25130954528947
                ],
                [
                 5.032894763858935,
                 49.24844251131505
                ],
                [
                 5.038200267188419,
                 49.24695457160608
                ],
                [
                 5.041657605458776,
                 49.24740417980676
                ]
               ]
              ]
             ],
             "type": "MultiPolygon"
            },
            "id": "129",
            "properties": {
             "LIBCOM": "Varennes-en-Argonne",
             "LIB_IRIS": "Varennes-en-Argonne (commune non irisée)",
             "area_km2": 11.735443064999824,
             "cleabs": "IRIS____0000000555270000",
             "code_insee": "55527",
             "code_iris": "555270000",
             "etabs_per_km2": 0,
             "iris": "0000",
             "nb_etabs": 0,
             "nb_etudiants": 0,
             "nom_commune": "Varennes-en-Argonne",
             "nom_iris": "Varennes-en-Argonne",
             "students_per_km2": 0,
             "type_iris": "Z"
            },
            "type": "Feature"
           },
           {
            "bbox": [
             2.5405480270565075,
             48.66720239434089,
             2.585650303601573,
             48.692003654550064
            ],
            "geometry": {
             "coordinates": [
              [
               [
                [
                 2.583901805622901,
                 48.67728725596059
                ],
                [
                 2.5794303055289283,
                 48.67781934743252
                ],
                [
                 2.5745481227113474,
                 48.67673075268524
                ],
                [
                 2.5712754571150924,
                 48.67516203744521
                ],
                [
                 2.570934307894217,
                 48.67088828943395
                ],
                [
                 2.565273293257281,
                 48.66720239434089
                ],
                [
                 2.5630148935042962,
                 48.66818896494672
                ],
                [
                 2.559135870411267,
                 48.67260822377981
                ],
                [
                 2.5498642271407435,
                 48.668957664412765
                ],
                [
                 2.547554108044273,
                 48.67179847694884
                ],
                [
                 2.5406855504328805,
                 48.68115466153586
                ],
                [
                 2.5405480270565075,
                 48.68289281339488
                ],
                [
                 2.543234717646251,
                 48.68664583322628
                ],
                [
                 2.5489525227244667,
                 48.68901071064582
                ],
                [
                 2.5549251292598907,
                 48.68847637924202
                ],
                [
                 2.571759582777487,
                 48.692003654550064
                ],
                [
                 2.575340441622603,
                 48.69189143256604
                ],
                [
                 2.5817010951070123,
                 48.68905001633993
                ],
                [
                 2.5812157611422015,
                 48.687056895333185
                ],
                [
                 2.5799754927631486,
                 48.68637703376391
                ],
                [
                 2.585650303601573,
                 48.67894387848153
                ],
                [
                 2.583901805622901,
                 48.67728725596059
                ]
               ]
              ]
             ],
             "type": "MultiPolygon"
            },
            "id": "130",
            "properties": {
             "LIBCOM": "Varennes-Jarcy",
             "LIB_IRIS": "Varennes-Jarcy (commune non irisée)",
             "area_km2": 5.698954045001106,
             "cleabs": "IRIS____0000000916310000",
             "code_insee": "91631",
             "code_iris": "916310000",
             "etabs_per_km2": 0,
             "iris": "0000",
             "nb_etabs": 0,
             "nb_etudiants": 0,
             "nom_commune": "Varennes-Jarcy",
             "nom_iris": "Varennes-Jarcy",
             "students_per_km2": 0,
             "type_iris": "Z"
            },
            "type": "Feature"
           },
           {
            "bbox": [
             4.815745620052105,
             46.68713895162381,
             4.9261056897688436,
             46.73201852808746
            ],
            "geometry": {
             "coordinates": [
              [
               [
                [
                 4.820473741295018,
                 46.7081523755529
                ],
                [
                 4.833722609719382,
                 46.70571053340496
                ],
                [
                 4.840473671028235,
                 46.70684807357202
                ],
                [
                 4.842812200816845,
                 46.71121295975007
                ],
                [
                 4.859245410220822,
                 46.719753689175214
                ],
                [
                 4.877092220500316,
                 46.72697748025398
                ],
                [
                 4.885400986814605,
                 46.73182921196199
                ],
                [
                 4.889565033482814,
                 46.730847485502196
                ],
                [
                 4.8951283505185845,
                 46.73201852808746
                ],
                [
                 4.899285026588994,
                 46.73161659822946
                ],
                [
                 4.907324319055156,
                 46.7249561729983
                ],
                [
                 4.908826627409508,
                 46.722684928213404
                ],
                [
                 4.9123724000552,
                 46.719165527824536
                ],
                [
                 4.923628462467447,
                 46.71609798808123
                ],
                [
                 4.9261056897688436,
                 46.71409296693334
                ],
                [
                 4.923928483292251,
                 46.70863624189955
                ],
                [
                 4.914746158833513,
                 46.70715507456686
                ],
                [
                 4.911725285990278,
                 46.70577065760661
                ],
                [
                 4.902069260449428,
                 46.697543118468715
                ],
                [
                 4.89997970032115,
                 46.698021769811206
                ],
                [
                 4.889536358514236,
                 46.69333328670043
                ],
                [
                 4.886151692644552,
                 46.6908923133888
                ],
                [
                 4.8747380737328765,
                 46.68713895162381
                ],
                [
                 4.867448490965405,
                 46.69732009657979
                ],
                [
                 4.852523930410625,
                 46.700351368365915
                ],
                [
                 4.84944167853687,
                 46.698988849626836
                ],
                [
                 4.838474190679492,
                 46.69701792140235
                ],
                [
                 4.829525177505991,
                 46.69910367016254
                ],
                [
                 4.815745620052105,
                 46.70090047989388
                ],
                [
                 4.817517739483467,
                 46.705112694593446
                ],
                [
                 4.820473741295018,
                 46.7081523755529
                ]
               ]
              ]
             ],
             "type": "MultiPolygon"
            },
            "id": "131",
            "properties": {
             "LIBCOM": "Varennes-le-Grand",
             "LIB_IRIS": "Varennes-le-Grand (commune non irisée)",
             "area_km2": 19.431216644996066,
             "cleabs": "IRIS____0000000715550000",
             "code_insee": "71555",
             "code_iris": "715550000",
             "etabs_per_km2": 0,
             "iris": "0000",
             "nb_etabs": 0,
             "nb_etudiants": 0,
             "nom_commune": "Varennes-le-Grand",
             "nom_iris": "Varennes-le-Grand",
             "students_per_km2": 0,
             "type_iris": "Z"
            },
            "type": "Feature"
           },
           {
            "bbox": [
             4.787191279599784,
             46.254473192852906,
             4.826487364006567,
             46.279213188490104
            ],
            "geometry": {
             "coordinates": [
              [
               [
                [
                 4.802526863597607,
                 46.279213188490104
                ],
                [
                 4.826487364006567,
                 46.276362484478156
                ],
                [
                 4.82457197361336,
                 46.2726390032991
                ],
                [
                 4.81663795762745,
                 46.26561959743915
                ],
                [
                 4.811556676081163,
                 46.26116277035492
                ],
                [
                 4.811214639068269,
                 46.254473192852906
                ],
                [
                 4.79751532580434,
                 46.25548120815716
                ],
                [
                 4.797143613611912,
                 46.25697415419866
                ],
                [
                 4.798442012931894,
                 46.25859204120795
                ],
                [
                 4.791477981190467,
                 46.27296280643795
                ],
                [
                 4.787191279599784,
                 46.273428291995124
                ],
                [
                 4.788372455948176,
                 46.27726027215282
                ],
                [
                 4.7897263508233765,
                 46.278463061285336
                ],
                [
                 4.7908980691623935,
                 46.27762949620983
                ],
                [
                 4.7988911319387375,
                 46.27716572566327
                ],
                [
                 4.802526863597607,
                 46.279213188490104
                ]
               ]
              ]
             ],
             "type": "MultiPolygon"
            },
            "id": "132",
            "properties": {
             "LIBCOM": "Varennes-lès-Mâcon",
             "LIB_IRIS": "Varennes-lès-Mâcon (commune non irisée)",
             "area_km2": 4.692793555000749,
             "cleabs": "IRIS____0000000715560000",
             "code_insee": "71556",
             "code_iris": "715560000",
             "etabs_per_km2": 0,
             "iris": "0000",
             "nb_etabs": 0,
             "nb_etudiants": 0,
             "nom_commune": "Varennes-lès-Mâcon",
             "nom_iris": "Varennes-lès-Mâcon",
             "students_per_km2": 0,
             "type_iris": "Z"
            },
            "type": "Feature"
           },
           {
            "bbox": [
             3.032270896298381,
             47.190688026210424,
             3.1055456101610024,
             47.24205190286325
            ],
            "geometry": {
             "coordinates": [
              [
               [
                [
                 3.0603818576175414,
                 47.190793592543486
                ],
                [
                 3.0423007532554927,
                 47.19639233310388
                ],
                [
                 3.032270896298381,
                 47.197212112342726
                ],
                [
                 3.0335894085860784,
                 47.20193908645433
                ],
                [
                 3.0358771528245736,
                 47.205660135320265
                ],
                [
                 3.0391806153305065,
                 47.208614662733716
                ],
                [
                 3.0383728590759933,
                 47.209697961022165
                ],
                [
                 3.036854441527431,
                 47.214880416854434
                ],
                [
                 3.0397742534887753,
                 47.218163636758504
                ],
                [
                 3.0410427505620983,
                 47.21988450920415
                ],
                [
                 3.0433085858808773,
                 47.23912235901099
                ],
                [
                 3.0427948988280433,
                 47.241439823382876
                ],
                [
                 3.0454194507480286,
                 47.24205190286325
                ],
                [
                 3.059116724510358,
                 47.237769484021946
                ],
                [
                 3.0689894932305704,
                 47.23153330302404
                ],
                [
                 3.0734516536549927,
                 47.22776384979429
                ],
                [
                 3.0750206528164417,
                 47.22321559524778
                ],
                [
                 3.076932162903577,
                 47.2208934502069
                ],
                [
                 3.084593596550996,
                 47.218243120043596
                ],
                [
                 3.0922430919580486,
                 47.21908803916102
                ],
                [
                 3.101382176045814,
                 47.217895649719836
                ],
                [
                 3.1055456101610024,
                 47.211755683311615
                ],
                [
                 3.103573322412825,
                 47.21120919694286
                ],
                [
                 3.1007222708894098,
                 47.207015536379686
                ],
                [
                 3.0977547178977596,
                 47.197346416800436
                ],
                [
                 3.0945452142321925,
                 47.193678647565555
                ],
                [
                 3.085122148093554,
                 47.190688026210424
                ],
                [
                 3.0732064559588896,
                 47.1922896634634
                ],
                [
                 3.067924800027865,
                 47.195369131341096
                ],
                [
                 3.061445440568512,
                 47.192326208172084
                ],
                [
                 3.0603818576175414,
                 47.190793592543486
                ]
               ]
              ]
             ],
             "type": "MultiPolygon"
            },
            "id": "133",
            "properties": {
             "LIBCOM": "Varennes-lès-Narcy",
             "LIB_IRIS": "Varennes-lès-Narcy (commune non irisée)",
             "area_km2": 18.698874344998114,
             "cleabs": "IRIS____0000000583020000",
             "code_insee": "58302",
             "code_iris": "583020000",
             "etabs_per_km2": 0,
             "iris": "0000",
             "nb_etabs": 0,
             "nb_etudiants": 0,
             "nom_commune": "Varennes-lès-Narcy",
             "nom_iris": "Varennes-lès-Narcy",
             "students_per_km2": 0,
             "type_iris": "Z"
            },
            "type": "Feature"
           },
           {
            "bbox": [
             3.617090256269719,
             45.14983755410224,
             3.6729087060296237,
             45.20365776108958
            ],
            "geometry": {
             "coordinates": [
              [
               [
                [
                 3.661605695045451,
                 45.16012537573864
                ],
                [
                 3.6609241855516705,
                 45.160720104298264
                ],
                [
                 3.6532423157961,
                 45.15128458326702
                ],
                [
                 3.6501625095591743,
                 45.14983755410224
                ],
                [
                 3.6479004954289023,
                 45.14987862451434
                ],
                [
                 3.6481214250496263,
                 45.15246970798618
                ],
                [
                 3.6485358927219464,
                 45.15638331626226
                ],
                [
                 3.632331845588288,
                 45.16901854691614
                ],
                [
                 3.617090256269719,
                 45.192100264861246
                ],
                [
                 3.6214062642093934,
                 45.1925832821719
                ],
                [
                 3.6262475928831903,
                 45.20083765016401
                ],
                [
                 3.635984949438773,
                 45.20365776108958
                ],
                [
                 3.6389074954742817,
                 45.20304588445174
                ],
                [
                 3.6421845819793686,
                 45.198271816861364
                ],
                [
                 3.6422379359862602,
                 45.19438517384199
                ],
                [
                 3.6432713421529512,
                 45.192115499443275
                ],
                [
                 3.6509126666648584,
                 45.189763371222895
                ],
                [
                 3.6607953427080906,
                 45.182644910971426
                ],
                [
                 3.6729087060296237,
                 45.168570606033974
                ],
                [
                 3.6673886955422335,
                 45.166387750857105
                ],
                [
                 3.661605695045451,
                 45.16012537573864
                ]
               ]
              ]
             ],
             "type": "MultiPolygon"
            },
            "id": "134",
            "properties": {
             "LIBCOM": "Varennes-Saint-Honorat",
             "LIB_IRIS": "Varennes-Saint-Honorat (commune non irisée)",
             "area_km2": 11.95388766499695,
             "cleabs": "IRIS____0000000432520000",
             "code_insee": "43252",
             "code_iris": "432520000",
             "etabs_per_km2": 0,
             "iris": "0000",
             "nb_etabs": 0,
             "nb_etudiants": 0,
             "nom_commune": "Varennes-Saint-Honorat",
             "nom_iris": "Varennes-Saint-Honorat",
             "students_per_km2": 0,
             "type_iris": "Z"
            },
            "type": "Feature"
           },
           {
            "bbox": [
             5.199163788896889,
             46.457757679597236,
             5.279203358191346,
             46.54095113480051
            ],
            "geometry": {
             "coordinates": [
              [
               [
                [
                 5.27787965898363,
                 46.526316438397735
                ],
                [
                 5.279203358191346,
                 46.52488838949161
                ],
                [
                 5.27782894372545,
                 46.52176289808382
                ],
                [
                 5.269730432577105,
                 46.51857737404506
                ],
                [
                 5.264537119476501,
                 46.514723041691745
                ],
                [
                 5.259890628958659,
                 46.509878490654565
                ],
                [
                 5.257677400389291,
                 46.503789452280515
                ],
                [
                 5.256383400882707,
                 46.49165936153937
                ],
                [
                 5.257920216831855,
                 46.488739183272955
                ],
                [
                 5.258048091341925,
                 46.48203275183335
                ],
                [
                 5.255487292748548,
                 46.471290588659485
                ],
                [
                 5.248001078200664,
                 46.459148239558836
                ],
                [
                 5.241328328557908,
                 46.460636895682256
                ],
                [
                 5.236144757879586,
                 46.457757679597236
                ],
                [
                 5.235049863394387,
                 46.45788540476269
                ],
                [
                 5.228113151523353,
                 46.46590484716234
                ],
                [
                 5.220662363393152,
                 46.468553270503705
                ],
                [
                 5.21460719932089,
                 46.468664497476375
                ],
                [
                 5.215807396694896,
                 46.470577065383225
                ],
                [
                 5.215918422557512,
                 46.47340615391228
                ],
                [
                 5.213799158336422,
                 46.48335070750997
                ],
                [
                 5.2128266588681065,
                 46.48486938397268
                ],
                [
                 5.206079138432773,
                 46.48647895202694
                ],
                [
                 5.205319253084814,
                 46.495582714657985
                ],
                [
                 5.199163788896889,
                 46.502982465721594
                ],
                [
                 5.203590121810468,
                 46.50482314396221
                ],
                [
                 5.205821702382086,
                 46.50580882393409
                ],
                [
                 5.21493304070549,
                 46.51678820803989
                ],
                [
                 5.229291648772858,
                 46.53069056342204
                ],
                [
                 5.229574882579297,
                 46.53451796297679
                ],
                [
                 5.237759713197155,
                 46.54095113480051
                ],
                [
                 5.24656577878777,
                 46.54024076337947
                ],
                [
                 5.2530005666363255,
                 46.536301087552275
                ],
                [
                 5.261592669634166,
                 46.53388581131307
                ],
                [
                 5.2690939774895975,
                 46.53488219147011
                ],
                [
                 5.270964032636904,
                 46.530204970872546
                ],
                [
                 5.276453764082776,
                 46.52629978751026
                ],
                [
                 5.27787965898363,
                 46.526316438397735
                ]
               ]
              ]
             ],
             "type": "MultiPolygon"
            },
            "id": "135",
            "properties": {
             "LIBCOM": "Varennes-Saint-Sauveur",
             "LIB_IRIS": "Varennes-Saint-Sauveur (commune non irisée)",
             "area_km2": 30.209147340005824,
             "cleabs": "IRIS____0000000715580000",
             "code_insee": "71558",
             "code_iris": "715580000",
             "etabs_per_km2": 0,
             "iris": "0000",
             "nb_etabs": 0,
             "nb_etudiants": 0,
             "nom_commune": "Varennes-Saint-Sauveur",
             "nom_iris": "Varennes-Saint-Sauveur",
             "students_per_km2": 0,
             "type_iris": "Z"
            },
            "type": "Feature"
           },
           {
            "bbox": [
             4.310295902695593,
             46.2509015070153,
             4.366751527311736,
             46.309516012877694
            ],
            "geometry": {
             "coordinates": [
              [
               [
                [
                 4.366751527311736,
                 46.28045189634647
                ],
                [
                 4.357113851611488,
                 46.26909428785684
                ],
                [
                 4.35652655101659,
                 46.265150306856754
                ],
                [
                 4.3548656814164,
                 46.26205307106404
                ],
                [
                 4.350214499311084,
                 46.257680933854154
                ],
                [
                 4.3451358401777975,
                 46.255907422760906
                ],
                [
                 4.344903522002351,
                 46.25495912417194
                ],
                [
                 4.337558345128823,
                 46.251902554199916
                ],
                [
                 4.32795172245177,
                 46.25105860235825
                ],
                [
                 4.3245922079858445,
                 46.25235769910009
                ],
                [
                 4.316901465335366,
                 46.2509015070153
                ],
                [
                 4.316908690559062,
                 46.250932043973656
                ],
                [
                 4.324302127809786,
                 46.26038817289647
                ],
                [
                 4.319758816538698,
                 46.26808886819429
                ],
                [
                 4.310295902695593,
                 46.28024821797732
                ],
                [
                 4.316569689959258,
                 46.285275062852
                ],
                [
                 4.32578935480602,
                 46.29655892887699
                ],
                [
                 4.322717460554654,
                 46.29869394387241
                ],
                [
                 4.338379626257843,
                 46.30363003643713
                ],
                [
                 4.3427500148112275,
                 46.30613092221096
                ],
                [
                 4.342615957351965,
                 46.306916928655234
                ],
                [
                 4.347046406171288,
                 46.309516012877694
                ],
                [
                 4.353459978860977,
                 46.30526119042116
                ],
                [
                 4.355727545917383,
                 46.30200645192913
                ],
                [
                 4.355770742806893,
                 46.300970239138984
                ],
                [
                 4.363631437301778,
                 46.291816281496295
                ],
                [
                 4.366751527311736,
                 46.28045189634647
                ]
               ]
              ]
             ],
             "type": "MultiPolygon"
            },
            "id": "136",
            "properties": {
             "LIBCOM": "Varennes-sous-Dun",
             "LIB_IRIS": "Varennes-sous-Dun (commune non irisée)",
             "area_km2": 17.401534494999535,
             "cleabs": "IRIS____0000000715590000",
             "code_insee": "71559",
             "code_iris": "715590000",
             "etabs_per_km2": 0,
             "iris": "0000",
             "nb_etabs": 0,
             "nb_etudiants": 0,
             "nom_commune": "Varennes-sous-Dun",
             "nom_iris": "Varennes-sous-Dun",
             "students_per_km2": 0,
             "type_iris": "Z"
            },
            "type": "Feature"
           },
           {
            "bbox": [
             3.356517848867332,
             46.285872304208006,
             3.4350140749345934,
             46.34526193606548
            ],
            "geometry": {
             "coordinates": [
              [
               [
                [
                 3.4138919614600685,
                 46.34526193606548
                ],
                [
                 3.417654451734672,
                 46.34178765984289
                ],
                [
                 3.425071835736165,
                 46.33874272554523
                ],
                [
                 3.4262380849518137,
                 46.33374248406866
                ],
                [
                 3.4238779801074974,
                 46.31521479130752
                ],
                [
                 3.4278549715260622,
                 46.31193026123151
                ],
                [
                 3.4341690083133716,
                 46.31043138004101
                ],
                [
                 3.4350140749345934,
                 46.303455678818835
                ],
                [
                 3.4303125992852785,
                 46.298747770746544
                ],
                [
                 3.430108056901361,
                 46.29206241402455
                ],
                [
                 3.4139566525365224,
                 46.28905159044915
                ],
                [
                 3.4065116628040917,
                 46.28860474800351
                ],
                [
                 3.4005139646468607,
                 46.285872304208006
                ],
                [
                 3.3914813427007258,
                 46.28692396152691
                ],
                [
                 3.383309310275299,
                 46.302408600560554
                ],
                [
                 3.381251667974877,
                 46.310111048230986
                ],
                [
                 3.3628110475190476,
                 46.32477888694505
                ],
                [
                 3.3588736101435805,
                 46.33205373476538
                ],
                [
                 3.3566388842954757,
                 46.336227272195664
                ],
                [
                 3.356517848867332,
                 46.33640684637572
                ],
                [
                 3.3790773577454902,
                 46.338385360276995
                ],
                [
                 3.3927766798633257,
                 46.34254693769987
                ],
                [
                 3.4138919614600685,
                 46.34526193606548
                ]
               ]
              ]
             ],
             "type": "MultiPolygon"
            },
            "id": "137",
            "properties": {
             "LIBCOM": "Varennes-sur-Allier",
             "LIB_IRIS": "Varennes-sur-Allier (commune non irisée)",
             "area_km2": 24.351006825000063,
             "cleabs": "IRIS____0000000032980000",
             "code_insee": "03298",
             "code_iris": "032980000",
             "etabs_per_km2": 0,
             "iris": "0000",
             "nb_etabs": 0,
             "nb_etudiants": 0,
             "nom_commune": "Varennes-sur-Allier",
             "nom_iris": "Varennes-sur-Allier",
             "students_per_km2": 0,
             "type_iris": "Z"
            },
            "type": "Feature"
           },
           {
            "bbox": [
             5.579759562812946,
             47.87723656346282,
             5.643526107763957,
             47.91285601078909
            ],
            "geometry": {
             "coordinates": [
              [
               [
                [
                 5.634653049334533,
                 47.90843684983943
                ],
                [
                 5.634226384977836,
                 47.90696426213779
                ],
                [
                 5.640312959502995,
                 47.89438664723528
                ],
                [
                 5.643526107763957,
                 47.89188033729847
                ],
                [
                 5.642132655159399,
                 47.88739402938665
                ],
                [
                 5.639783214969993,
                 47.884110635966024
                ],
                [
                 5.633663594117461,
                 47.884801035825255
                ],
                [
                 5.629433978029172,
                 47.883786503892786
                ],
                [
                 5.617265246062152,
                 47.88212253905426
                ],
                [
                 5.605183455676933,
                 47.87812138662416
                ],
                [
                 5.602033433647793,
                 47.877837402850325
                ],
                [
                 5.597898886338113,
                 47.87723656346282
                ],
                [
                 5.590879692960274,
                 47.8785758798004
                ],
                [
                 5.58312663259709,
                 47.87793370722315
                ],
                [
                 5.586262981065615,
                 47.89055386420353
                ],
                [
                 5.579759562812946,
                 47.900702787911854
                ],
                [
                 5.580008146461887,
                 47.90110612706661
                ],
                [
                 5.584405354329279,
                 47.90156767531188
                ],
                [
                 5.595847922853596,
                 47.90871599013464
                ],
                [
                 5.595998143389262,
                 47.911704854447706
                ],
                [
                 5.594228894156556,
                 47.91285601078909
                ],
                [
                 5.629859618838184,
                 47.90954203528957
                ],
                [
                 5.634653049334533,
                 47.90843684983943
                ]
               ]
              ]
             ],
             "type": "MultiPolygon"
            },
            "id": "138",
            "properties": {
             "LIBCOM": "Varennes-sur-Amance",
             "LIB_IRIS": "Varennes-sur-Amance (commune non irisée)",
             "area_km2": 13.182751050002377,
             "cleabs": "IRIS____0000000525040000",
             "code_insee": "52504",
             "code_iris": "525040000",
             "etabs_per_km2": 0,
             "iris": "0000",
             "nb_etabs": 0,
             "nb_etudiants": 0,
             "nom_commune": "Varennes-sur-Amance",
             "nom_iris": "Varennes-sur-Amance",
             "students_per_km2": 0,
             "type_iris": "Z"
            },
            "type": "Feature"
           },
           {
            "bbox": [
             -0.007377417202552367,
             47.219499861415606,
             0.0807939952701137,
             47.27168276591286
            ],
            "geometry": {
             "coordinates": [
              [
               [
                [
                 -0.007377417202552367,
                 47.2460013728882
                ],
                [
                 -0.003545852137279333,
                 47.24952599167167
                ],
                [
                 0.004994975991801845,
                 47.26082090769581
                ],
                [
                 0.003722090189440546,
                 47.26779432806426
                ],
                [
                 0.015605357100930127,
                 47.26573414286832
                ],
                [
                 0.034094417131578854,
                 47.26556262922341
                ],
                [
                 0.04062610501958924,
                 47.26766913043035
                ],
                [
                 0.047803451104610505,
                 47.26569448115263
                ],
                [
                 0.057418213626508334,
                 47.26593798827905
                ],
                [
                 0.0799010057068064,
                 47.27168276591286
                ],
                [
                 0.0807939952701137,
                 47.26789098071156
                ],
                [
                 0.07328362953786322,
                 47.24791305886609
                ],
                [
                 0.07247295570746158,
                 47.22000035091541
                ],
                [
                 0.06014458441825283,
                 47.219499861415606
                ],
                [
                 0.04379590830931323,
                 47.226780199028845
                ],
                [
                 0.030523802394961067,
                 47.23189486173392
                ],
                [
                 0.022363164765301237,
                 47.23363769951102
                ],
                [
                 0.00916230978456139,
                 47.23794911988597
                ],
                [
                 0.0029324281433485795,
                 47.24249542339687
                ],
                [
                 -0.00037632676104844563,
                 47.24311432271657
                ],
                [
                 -0.007377417202552367,
                 47.2460013728882
                ]
               ]
              ]
             ],
             "type": "MultiPolygon"
            },
            "id": "139",
            "properties": {
             "LIBCOM": "Varennes-sur-Loire",
             "LIB_IRIS": "Varennes-sur-Loire (commune non irisée)",
             "area_km2": 23.674640865001273,
             "cleabs": "IRIS____0000000493610000",
             "code_insee": "49361",
             "code_iris": "493610000",
             "etabs_per_km2": 0,
             "iris": "0000",
             "nb_etabs": 0,
             "nb_etudiants": 0,
             "nom_commune": "Varennes-sur-Loire",
             "nom_iris": "Varennes-sur-Loire",
             "students_per_km2": 0,
             "type_iris": "Z"
            },
            "type": "Feature"
           },
           {
            "bbox": [
             3.1672628078683234,
             45.92569371220659,
             3.2051453819036118,
             45.95631908089972
            ],
            "geometry": {
             "coordinates": [
              [
               [
                [
                 3.1672628078683234,
                 45.93432993561066
                ],
                [
                 3.174523829450204,
                 45.944601722837966
                ],
                [
                 3.1748956501404617,
                 45.9470622016798
                ],
                [
                 3.1788564907242844,
                 45.946804774338425
                ],
                [
                 3.1968925365319634,
                 45.9482786661359
                ],
                [
                 3.199015423995538,
                 45.95631908089972
                ],
                [
                 3.200763483806664,
                 45.95559109550902
                ],
                [
                 3.1992802849523843,
                 45.94994850906819
                ],
                [
                 3.2017245422894605,
                 45.9490310770816
                ],
                [
                 3.2051453819036118,
                 45.943808357071994
                ],
                [
                 3.2040237412331134,
                 45.937551038290415
                ],
                [
                 3.196068654101976,
                 45.93369116787484
                ],
                [
                 3.187145446908823,
                 45.93056264714348
                ],
                [
                 3.1776214762215633,
                 45.92569371220659
                ],
                [
                 3.173752822112676,
                 45.92974474233717
                ],
                [
                 3.1672628078683234,
                 45.93432993561066
                ]
               ]
              ]
             ],
             "type": "MultiPolygon"
            },
            "id": "140",
            "properties": {
             "LIBCOM": "Varennes-sur-Morge",
             "LIB_IRIS": "Varennes-sur-Morge (commune non irisée)",
             "area_km2": 4.805981465001988,
             "cleabs": "IRIS____0000000634430000",
             "code_insee": "63443",
             "code_iris": "634430000",
             "etabs_per_km2": 0,
             "iris": "0000",
             "nb_etabs": 0,
             "nb_etudiants": 0,
             "nom_commune": "Varennes-sur-Morge",
             "nom_iris": "Varennes-sur-Morge",
             "students_per_km2": 0,
             "type_iris": "Z"
            },
            "type": "Feature"
           },
           {
            "bbox": [
             2.9013616463232297,
             48.352135773003916,
             2.9658683254051112,
             48.38877504699957
            ],
            "geometry": {
             "coordinates": [
              [
               [
                [
                 2.964793963925006,
                 48.3703593859253
                ],
                [
                 2.9606120250130274,
                 48.370492122311894
                ],
                [
                 2.9584439504500866,
                 48.3681594062582
                ],
                [
                 2.957202579308267,
                 48.36546531157675
                ],
                [
                 2.956979566282106,
                 48.36080035825911
                ],
                [
                 2.939083590696509,
                 48.357144270088206
                ],
                [
                 2.938412341278051,
                 48.3562685241429
                ],
                [
                 2.932600803072495,
                 48.352135773003916
                ],
                [
                 2.9319363362235222,
                 48.35345434339797
                ],
                [
                 2.9255354503479456,
                 48.35813878444162
                ],
                [
                 2.909084906434166,
                 48.36112416730628
                ],
                [
                 2.9014894024957023,
                 48.36118647222538
                ],
                [
                 2.9013616463232297,
                 48.36596190134664
                ],
                [
                 2.9059354320367268,
                 48.37158863802029
                ],
                [
                 2.917693176133631,
                 48.375576669181356
                ],
                [
                 2.9319021508669403,
                 48.38613346743317
                ],
                [
                 2.9361899597689494,
                 48.38777415246873
                ],
                [
                 2.942361719890753,
                 48.38877504699957
                ],
                [
                 2.9398462379643933,
                 48.383190439917165
                ],
                [
                 2.9419594752317293,
                 48.3799517679705
                ],
                [
                 2.946100293309684,
                 48.37723580259921
                ],
                [
                 2.957844371987703,
                 48.37330986832559
                ],
                [
                 2.957667657858606,
                 48.37476008756549
                ],
                [
                 2.9589823552643835,
                 48.37551987811917
                ],
                [
                 2.9658683254051112,
                 48.3710794450047
                ],
                [
                 2.964793963925006,
                 48.3703593859253
                ]
               ]
              ]
             ],
             "type": "MultiPolygon"
            },
            "id": "141",
            "properties": {
             "LIBCOM": "Varennes-sur-Seine",
             "LIB_IRIS": "Varennes-sur-Seine (commune non irisée)",
             "area_km2": 9.303301585000423,
             "cleabs": "IRIS____0000000774820000",
             "code_insee": "77482",
             "code_iris": "774820000",
             "etabs_per_km2": 0,
             "iris": "0000",
             "nb_etabs": 0,
             "nb_etudiants": 0,
             "nom_commune": "Varennes-sur-Seine",
             "nom_iris": "Varennes-sur-Seine",
             "students_per_km2": 0,
             "type_iris": "Z"
            },
            "type": "Feature"
           },
           {
            "bbox": [
             3.613484827835673,
             46.2868791872421,
             3.6669446612337118,
             46.34605310559037
            ],
            "geometry": {
             "coordinates": [
              [
               [
                [
                 3.6317589056398667,
                 46.34605310559037
                ],
                [
                 3.651945516892864,
                 46.33833743708265
                ],
                [
                 3.6579404500908357,
                 46.34027959876832
                ],
                [
                 3.6612026784948193,
                 46.342541697837326
                ],
                [
                 3.6669446612337118,
                 46.320587288061155
                ],
                [
                 3.6661673262912675,
                 46.313747994312976
                ],
                [
                 3.664534865293807,
                 46.3138376710452
                ],
                [
                 3.6603751768914377,
                 46.312132883300904
                ],
                [
                 3.652608125080134,
                 46.307355428680594
                ],
                [
                 3.653847045068538,
                 46.30468553175345
                ],
                [
                 3.655319732697598,
                 46.3037531519547
                ],
                [
                 3.654856969018953,
                 46.30221594814242
                ],
                [
                 3.6517947510701907,
                 46.29819654190775
                ],
                [
                 3.6395154083699404,
                 46.29246688496494
                ],
                [
                 3.618492058532008,
                 46.2868791872421
                ],
                [
                 3.6181837535151833,
                 46.288448638059926
                ],
                [
                 3.615820645145592,
                 46.28980679131469
                ],
                [
                 3.615741820863834,
                 46.29111384770371
                ],
                [
                 3.615819708442565,
                 46.29676678411169
                ],
                [
                 3.613484827835673,
                 46.30786636183986
                ],
                [
                 3.6157297622179776,
                 46.32018211019069
                ],
                [
                 3.61552496434085,
                 46.327740211568596
                ],
                [
                 3.6215343280685555,
                 46.33849198278039
                ],
                [
                 3.6317589056398667,
                 46.34605310559037
                ]
               ]
              ]
             ],
             "type": "MultiPolygon"
            },
            "id": "142",
            "properties": {
             "LIBCOM": "Varennes-sur-Tèche",
             "LIB_IRIS": "Varennes-sur-Tèche (commune non irisée)",
             "area_km2": 18.854578425002885,
             "cleabs": "IRIS____0000000032990000",
             "code_insee": "03299",
             "code_iris": "032990000",
             "etabs_per_km2": 0,
             "iris": "0000",
             "nb_etabs": 0,
             "nb_etudiants": 0,
             "nom_commune": "Varennes-sur-Tèche",
             "nom_iris": "Varennes-sur-Tèche",
             "students_per_km2": 0,
             "type_iris": "Z"
            },
            "type": "Feature"
           },
           {
            "bbox": [
             3.2974157950131713,
             45.51809844102694,
             3.350046969749767,
             45.54961790475454
            ],
            "geometry": {
             "coordinates": [
              [
               [
                [
                 3.326949040370878,
                 45.51953945155903
                ],
                [
                 3.323926592038214,
                 45.51809844102694
                ],
                [
                 3.3221481844359846,
                 45.52109944179701
                ],
                [
                 3.3178960661886094,
                 45.52301156219928
                ],
                [
                 3.3107981356368827,
                 45.52555816272842
                ],
                [
                 3.3060453693235416,
                 45.52509575990309
                ],
                [
                 3.3042500016275023,
                 45.52545362364719
                ],
                [
                 3.3022454720123786,
                 45.52716363696358
                ],
                [
                 3.3008609545792167,
                 45.53195698989267
                ],
                [
                 3.2974157950131713,
                 45.53483328211563
                ],
                [
                 3.3068206534073354,
                 45.53626316487556
                ],
                [
                 3.3146156182934905,
                 45.54158414730293
                ],
                [
                 3.3232613377838907,
                 45.54529299538975
                ],
                [
                 3.3394465992238915,
                 45.547941309690096
                ],
                [
                 3.345741022852042,
                 45.54946554559465
                ],
                [
                 3.350046969749767,
                 45.54961790475454
                ],
                [
                 3.3497402230454,
                 45.54324615586928
                ],
                [
                 3.3376841687167254,
                 45.537583895523056
                ],
                [
                 3.3290360265166905,
                 45.531266581727785
                ],
                [
                 3.32721617144554,
                 45.52856686063459
                ],
                [
                 3.3280271519148394,
                 45.523800968397445
                ],
                [
                 3.326949040370878,
                 45.51953945155903
                ]
               ]
              ]
             ],
             "type": "MultiPolygon"
            },
            "id": "143",
            "properties": {
             "LIBCOM": "Varennes-sur-Usson",
             "LIB_IRIS": "Varennes-sur-Usson (commune non irisée)",
             "area_km2": 6.063249459999893,
             "cleabs": "IRIS____0000000634440000",
             "code_insee": "63444",
             "code_iris": "634440000",
             "etabs_per_km2": 0,
             "iris": "0000",
             "nb_etabs": 0,
             "nb_etudiants": 0,
             "nom_commune": "Varennes-sur-Usson",
             "nom_iris": "Varennes-sur-Usson",
             "students_per_km2": 0,
             "type_iris": "Z"
            },
            "type": "Feature"
           },
           {
            "bbox": [
             -1.162097001772322,
             46.79865128392633,
             -1.073024383912674,
             46.838974655756786
            ],
            "geometry": {
             "coordinates": [
              [
               [
                [
                 -1.073024383912674,
                 46.83407274557162
                ],
                [
                 -1.0879329634065933,
                 46.819250596457195
                ],
                [
                 -1.0901766603363847,
                 46.814386891807615
                ],
                [
                 -1.0909100200836308,
                 46.807856653270015
                ],
                [
                 -1.0956972502794948,
                 46.803474721962814
                ],
                [
                 -1.1029448300524258,
                 46.79865128392633
                ],
                [
                 -1.1067470215851165,
                 46.80114542457851
                ],
                [
                 -1.1098774861348983,
                 46.801409451209274
                ],
                [
                 -1.1106574245546164,
                 46.800025521485026
                ],
                [
                 -1.1122734408405082,
                 46.79965933492402
                ],
                [
                 -1.1180931058198773,
                 46.80314028625871
                ],
                [
                 -1.1226011518824728,
                 46.811099489559474
                ],
                [
                 -1.121341119577867,
                 46.81383511379771
                ],
                [
                 -1.122092531946427,
                 46.81359628187793
                ],
                [
                 -1.1287969075068718,
                 46.81593963116758
                ],
                [
                 -1.1409907279658547,
                 46.816686512586536
                ],
                [
                 -1.1606082084521239,
                 46.812952020748604
                ],
                [
                 -1.1618977706767855,
                 46.81496737271308
                ],
                [
                 -1.162097001772322,
                 46.81841433950996
                ],
                [
                 -1.154752186413433,
                 46.82966111106494
                ],
                [
                 -1.1523884420398554,
                 46.83724448148456
                ],
                [
                 -1.148508675143884,
                 46.83765774583963
                ],
                [
                 -1.1450819532209187,
                 46.83628375215456
                ],
                [
                 -1.138596255949782,
                 46.83672389426997
                ],
                [
                 -1.1311923006631552,
                 46.838974655756786
                ],
                [
                 -1.1011431152893851,
                 46.8338015222084
                ],
                [
                 -1.083940813082824,
                 46.83796348848396
                ],
                [
                 -1.079477602654225,
                 46.83806695164508
                ],
                [
                 -1.0787893371775366,
                 46.83869723718788
                ],
                [
                 -1.073024383912674,
                 46.83407274557162
                ]
               ]
              ]
             ],
             "type": "MultiPolygon"
            },
            "id": "144",
            "properties": {
             "LIBCOM": "Vendrennes",
             "LIB_IRIS": "Vendrennes (commune non irisée)",
             "area_km2": 17.22374165999364,
             "cleabs": "IRIS____0000000853010000",
             "code_insee": "85301",
             "code_iris": "853010000",
             "etabs_per_km2": 0,
             "iris": "0000",
             "nb_etabs": 0,
             "nb_etudiants": 0,
             "nom_commune": "Vendrennes",
             "nom_iris": "Vendrennes",
             "students_per_km2": 0,
             "type_iris": "Z"
            },
            "type": "Feature"
           },
           {
            "bbox": [
             2.43637204729354,
             49.58685127321758,
             2.5214772459290042,
             49.6395778957003
            ],
            "geometry": {
             "coordinates": [
              [
               [
                [
                 2.5052141422021994,
                 49.6395778957003
                ],
                [
                 2.5052668037955015,
                 49.6368445137887
                ],
                [
                 2.5067550205905493,
                 49.63474689001189
                ],
                [
                 2.5110198140580113,
                 49.632362998783314
                ],
                [
                 2.513993847557555,
                 49.63212690459238
                ],
                [
                 2.5214772459290042,
                 49.62693827086625
                ],
                [
                 2.497662028093224,
                 49.61526235739785
                ],
                [
                 2.4917207690689147,
                 49.61006055726473
                ],
                [
                 2.4929369426903767,
                 49.608041880794566
                ],
                [
                 2.504701356196416,
                 49.6037031891737
                ],
                [
                 2.5032942082247747,
                 49.60050991397722
                ],
                [
                 2.501448141662783,
                 49.59640446618274
                ],
                [
                 2.4982484312788813,
                 49.59362610629337
                ],
                [
                 2.495341598490128,
                 49.58893380668705
                ],
                [
                 2.497216538356792,
                 49.58761514564988
                ],
                [
                 2.495482330653475,
                 49.58685127321758
                ],
                [
                 2.4893375141027687,
                 49.58801543335308
                ],
                [
                 2.4843185021538456,
                 49.588957602407824
                ],
                [
                 2.4787192986010824,
                 49.592700021399224
                ],
                [
                 2.467819762757701,
                 49.59445997618143
                ],
                [
                 2.457000673008836,
                 49.58958983668795
                ],
                [
                 2.4448319163034076,
                 49.59122702490775
                ],
                [
                 2.4537397816883906,
                 49.59516403773589
                ],
                [
                 2.4456278927338917,
                 49.60264640220585
                ],
                [
                 2.4421641668006844,
                 49.59946636222842
                ],
                [
                 2.43637204729354,
                 49.60036974395332
                ],
                [
                 2.4375736228149836,
                 49.602384718855504
                ],
                [
                 2.443520716223349,
                 49.60493284063362
                ],
                [
                 2.4478113393320506,
                 49.6028917942031
                ],
                [
                 2.45702709227545,
                 49.603558795715145
                ],
                [
                 2.459833894647234,
                 49.60462632986465
                ],
                [
                 2.469355376727955,
                 49.61388305046453
                ],
                [
                 2.4719773516169004,
                 49.61834095853123
                ],
                [
                 2.4778270281434924,
                 49.619936156317365
                ],
                [
                 2.4778583747746357,
                 49.62066149231497
                ],
                [
                 2.486887839131317,
                 49.62620318672507
                ],
                [
                 2.4894086633545345,
                 49.63158760223143
                ],
                [
                 2.5052141422021994,
                 49.6395778957003
                ]
               ]
              ]
             ],
             "type": "MultiPolygon"
            },
            "id": "145",
            "properties": {
             "LIBCOM": "Welles-Pérennes",
             "LIB_IRIS": "Welles-Pérennes (commune non irisée)",
             "area_km2": 13.153483749999637,
             "cleabs": "IRIS____0000000607020000",
             "code_insee": "60702",
             "code_iris": "607020000",
             "etabs_per_km2": 0,
             "iris": "0000",
             "nb_etabs": 0,
             "nb_etudiants": 0,
             "nom_commune": "Welles-Pérennes",
             "nom_iris": "Welles-Pérennes",
             "students_per_km2": 0,
             "type_iris": "Z"
            },
            "type": "Feature"
           }
          ],
          "type": "FeatureCollection"
         },
         "hovertemplate": "<b>%{hovertext}</b><br><br>index=%{location}<br>nb_etabs=%{customdata[0]}<br>area_km2=%{customdata[1]}<br>nb_etudiants=%{customdata[2]}<br>students_per_km2=%{z}<extra></extra>",
         "hovertext": [
          "Z.A. Ouest",
          "Z.A. Nord",
          "Plaine de Baud",
          "Z.A. Sud Est",
          "Champeaux",
          "Les Gayeulles",
          "La Prévalaye",
          "La Lande du Breil",
          "Bourg",
          "Cathédrale",
          "Hoche",
          "Veninges",
          "Henri Choquet",
          "Parlement",
          "Crot Cizeau",
          "Parcheminerie Toussaints",
          "La Cité",
          "Liberté Champ de Mars",
          "Colombier Sud et Ouest",
          "Dalle du Colombier",
          "Saint-Louis",
          "Vieux Saint-Étienne",
          "Hôtel-Dieu",
          "Jules Ferry",
          "Les Mottais",
          "Jean Macé",
          "Paris Ouest Martenot",
          "Paris Est",
          "Oberthur",
          "Saint-Hélier",
          "Laennec-Dupont des Loges",
          "Alphonse Guérin",
          "Mail",
          "Rue de Brest Ouest",
          "Rue de Brest Est",
          "La Touche",
          "Port Cahours",
          "Stade Rennais",
          "Jean Ogée",
          "Cimetière du Nord",
          "Emmanuel Mounier",
          "Brno",
          "Le Gast Ouest",
          "Le Gast Est",
          "La Motte Brûlon",
          "Morbihan Ouest",
          "Morbihan Est",
          "Émile Bernard",
          "Saint-Laurent",
          "Parc de Maurepas",
          "Michelet",
          "Le Gallet-Les Longs Champs Nord",
          "Les Longs Champs Sud",
          "Campus de Beaulieu",
          "Le Bois Perrin",
          "Croix Saint-Hélier",
          "Cimetière de l'Est",
          "Le Landry",
          "La Poterie Sud",
          "La Poterie Nord",
          "Fernand Jacq",
          "Fransisco Ferrer",
          "Albert de Mun",
          "Coutenceau",
          "Gaëtan Hervé",
          "Jean-Baptiste Barre",
          "Haut Quineleu",
          "Margueritte",
          "Villeneuve",
          "La Madeleine Mauconseil",
          "Arsenal",
          "La Mabilais",
          "Cleunay Ouest",
          "Cleunay Est",
          "La Courrouze",
          "Pontchaillou",
          "Villejean Sud-Est",
          "Villejean Sud-Ouest",
          "Villejean Nord-Ouest",
          "Villejean Nord-Est",
          "Dalle Kennedy",
          "Beauregard",
          "Le Landrel Ouest",
          "Le Landrel Est Les Hautes Ourmes",
          "Sainte-Élisabeth-Grèce",
          "Torigné Ouest",
          "Torigné Est",
          "Saint-Benoît",
          "Suisse",
          "Portugal",
          "Henri Fréville Sud-Est",
          "Les Hautes Chalais",
          "Henri Fréville Sud-Ouest",
          "Canada",
          "Les Cloteaux",
          "Les Olympiades",
          "Saint-Yves",
          "Les Champs Manceaux",
          "Arbigny-sous-Varennes (commune non irisée)",
          "Brennes (commune non irisée)",
          "Champigny-sous-Varennes (commune non irisée)",
          "Charbonnières-les-Varennes (commune non irisée)",
          "Charette-Varennes (commune non irisée)",
          "Courtemont-Varennes (commune non irisée)",
          "Crennes-sur-Fraubée (commune non irisée)",
          "Escrennes (commune non irisée)",
          "Estrennes (commune non irisée)",
          "Garennes-sur-Eure (commune non irisée)",
          "Les Écrennes (commune non irisée)",
          "Les Garennes sur Loire (commune non irisée)",
          "Marennes (commune non irisée)",
          "Marennes-Hiers-Brouage (commune non irisée)",
          "Parennes (commune non irisée)",
          "Rennes-en-Grenouilles (commune non irisée)",
          "Rennes-le-Château (commune non irisée)",
          "Rennes-les-Bains (commune non irisée)",
          "Rennes-sur-Loue (commune non irisée)",
          "Rivarennes (commune non irisée)",
          "Rivarennes (commune non irisée)",
          "Saint-Loup-de-Varennes (commune non irisée)",
          "Saint-Pierre-de-Chérennes (commune non irisée)",
          "Saint-Pierre-de-Varennes (commune non irisée)",
          "Varennes (commune non irisée)",
          "Varennes (commune non irisée)",
          "Varennes (commune non irisée)",
          "Varennes (commune non irisée)",
          "Varennes (commune non irisée)",
          "Varennes (commune non irisée)",
          "Varennes-Changy (commune non irisée)",
          "Varennes-en-Argonne (commune non irisée)",
          "Varennes-Jarcy (commune non irisée)",
          "Varennes-le-Grand (commune non irisée)",
          "Varennes-lès-Mâcon (commune non irisée)",
          "Varennes-lès-Narcy (commune non irisée)",
          "Varennes-Saint-Honorat (commune non irisée)",
          "Varennes-Saint-Sauveur (commune non irisée)",
          "Varennes-sous-Dun (commune non irisée)",
          "Varennes-sur-Allier (commune non irisée)",
          "Varennes-sur-Amance (commune non irisée)",
          "Varennes-sur-Loire (commune non irisée)",
          "Varennes-sur-Morge (commune non irisée)",
          "Varennes-sur-Seine (commune non irisée)",
          "Varennes-sur-Tèche (commune non irisée)",
          "Varennes-sur-Usson (commune non irisée)",
          "Vendrennes (commune non irisée)",
          "Welles-Pérennes (commune non irisée)"
         ],
         "locations": {
          "bdata": "AAABAAIAAwAEAAUABgAHAAgACQAKAAsADAANAA4ADwAQABEAEgATABQAFQAWABcAGAAZABoAGwAcAB0AHgAfACAAIQAiACMAJAAlACYAJwAoACkAKgArACwALQAuAC8AMAAxADIAMwA0ADUANgA3ADgAOQA6ADsAPAA9AD4APwBAAEEAQgBDAEQARQBGAEcASABJAEoASwBMAE0ATgBPAFAAUQBSAFMAVABVAFYAVwBYAFkAWgBbAFwAXQBeAF8AYABhAGIAYwBkAGUAZgBnAGgAaQBqAGsAbABtAG4AbwBwAHEAcgBzAHQAdQB2AHcAeAB5AHoAewB8AH0AfgB/AIAAgQCCAIMAhACFAIYAhwCIAIkAigCLAIwAjQCOAI8AkACRAA==",
          "dtype": "i2"
         },
         "marker": {
          "opacity": 0.6
         },
         "name": "",
         "subplot": "mapbox",
         "type": "choroplethmapbox",
         "z": {
          "bdata": "AAAAAAAAAADOe/gnkeGoQAAAAAAAAAAA3MdJNZo1lUBpXgqHPGnBQAAAAAAAAAAAAAAAAAAAAABGpsalknhuQAAAAAAAAAAAAAAAAAAAAAAxVSqenecFQQAAAAAAAAAAAAAAAAAAAAAAAAAAAAAAAAAAAAAAAAAAEScK59QJ00AAAAAAAAAAAAofjDLs/rJAevOi1S8flEAAAAAAAAAAAN6o2yVYe61AT2WYo0zFrUCOeY0qiD/iQAAAAAAAAAAAw0XTsu7f10AR6LpipqELQQDIxQYQ2o9ASGShrKFu10BTTWZjmXGTQG/Yma2vmbNAtebW0xFog0AAAAAAAAAAAAAAAAAAAAAAAAAAAAAAAABH0iE+A/60QAAAAAAAAAAAAAAAAAAAAAAAAAAAAAAAAOfXbxfRP8ZAfbduOf5RyUCv/qmq2umeQAAAAAAAAAAAAAAAAAAAAAAAAAAAAAAAAO4Ms7kXJb1AAAAAAAAAAAAAAAAAAAAAAAAAAAAAAAAAAAAAAAAAAACUHlmnwTDFQAAAAAAAAAAAcRHDO7Wl10AAAAAAAAAAAH+0YaIxdfFAUd/L8wbFw0AAAAAAAAAAAMw1XOC+Z5hAAAAAAAAAAAC6FFdj8YS4QAAAAAAAAAAAAAAAAAAAAAAAAAAAAAAAAAAAAAAAAAAAbK2GzetheEAAAAAAAAAAAAAAAAAAAAAAAAAAAAAAAAAAAAAAAAAAAAAAAAAAAAAA3vO1X/FJlEBb5usDu0vBQAAAAAAAAAAAAAAAAAAAAAAAAAAAAAAAAAAAAAAAAAAA7un4lj+mBUEAAAAAAAAAAAAAAAAAAAAAAAAAAAAAAAAAAAAAAAAAAAAAAAAAAAAAWGLv9Wh74kAAAAAAAAAAAAAAAAAAAAAAAAAAAAAAAABVcIQyk0qzQAAAAAAAAAAAAAAAAAAAAAAAAAAAAAAAAAAAAAAAAAAAAAAAAAAAAAAAAAAAAAAAAAAAAAAAAAAAAAAAAAAAAAAAAAAAAAAAACgL+C9RNMJALFqeeg5dhUAAAAAAAAAAAAAAAAAAAAAAAAAAAAAAAAAAAAAAAAAAAAAAAAAAAAAAAAAAAAAAAAAAAAAAAAAAAAAAAAAAAAAAAAAAAAAAAAAAAAAAAAAAAAAAAAAAAAAAAAAAAAAAAAAAAAAAAAAAAAAAAAAAAAAAAAAAAAAAAAAAAAAAAAAAAAAAAAAAAAAAAAAAAAAAAAAAAAAAAAAAAAAAAAAAAAAAAAAAAAAAAAAAAAAAAAAAAAAAAAAAAAAAAAAAAAAAAAAAAAAAAAAAAAAAAAAAAAAAAAAAAAAAAAAAAAAAAAAAAAAAAAAAAAAAAAAAAAAAAAAAAAAAAAAAAAAAAAAAAAAAAAAAAAAAAAAAAAAAAAAAAAAAAAAAAAAAAAAAAAAAAAAAAAAAAAAAAAAAAAAAAAAAAAAAAAAAAAAAAAAAAAAAAAAAAAAAAAAAAAAAAAAAAAAAAAAAAAAAAAAAAAAAAAAAAAAAAAAAAAAAAAAAAAAAAAAAAAAAAAAAAAAAAAAAAAAAAAAAAAAAAA==",
          "dtype": "f8"
         }
        },
        {
         "lat": {
          "bdata": "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",
          "dtype": "f8"
         },
         "lon": {
          "bdata": "8RImfeG0+r+G7HzU+jP6v7Gsh9WkIPq/hux81Poz+r9N27E+6MH6v326FzjEA/u/eUO2V2Xr+r/B9VJ2RVP6v1hwoUqUGfq/pYo6znkZ+r/0eips56L6v4HLqJvirfq/rPQDWSy3+r+ZA+kUjLn6v4lRt8Jo7/q/BD/O9zeA+r9UTzF2BNb6v1RPMXYE1vq/5WpcyNPl+r/iRrFXxhH6v6Ao0CEPNPu/oCjQIQ80+7+gKNAhDzT7v1hwoUqUGfq/iVG3wmjv+r97Nh4Y+7r6v6Ao0CEPNPu/gcuom+Kt+r+s9ANZLLf6v2yerAyQJfu/hux81Poz+r+t9fqAdDX7vyXZmjFG0/q/bJ6sDJAl+7+gKNAhDzT7v8jUc9k7Sfq/hux81Poz+r8pVpNUpff6v9gUorrzYPu/aESHEu+K+r8pVpNUpff6v631+oB0Nfu/mQPpFIy5+r+OdoI1GQT7v4cNcWMyRPu/gywO8t8h+r+5Q/Mxv7L6v5YAFtJEZPq/o4bFj/xL+78pVpNUpff6v+UX38f0Lfu/5Rffx/Qt+79N27E+6MH6v4bsfNT6M/q/VE8xdgTW+r/B9VJ2RVP6v1mTCBpSD/q/GSuZgklZ+r/boE4ERgj7v5oKf/wk3Pq/pYo6znkZ+r+IITNe3Tz7v9ugTgRGCPu/jnaCNRkE+7/lF9/H9C37v6Ao0CEPNPu/JdmaMUbT+r+jhsWP/Ev7vxc9yYboTfu/aESHEu+K+r/YFKK682D7v326FzjEA/u/vqAeOh13+r+By6ib4q36v4bsfNT6M/q/wfVSdkVT+r/B9VJ2RVP6v4bsfNT6M/q/oCjQIQ80+7+gW92ZrAH7v4pE4kUFKfq/oCjQIQ80+79N27E+6MH6v2yerAyQJfu/bJ6sDJAl+7+gKNAhDzT7v4MsDvLfIfq/sayH1aQg+r+HDXFjMkT7v+Qvh8WXbvq/bJ6sDJAl+79YmVvfDP/6v7Gsh9WkIPq/ZihOs8gB+7/kL4fFl276v/LatjG+Xvq/WJlb3wz/+r+gKNAhDzT7v1mL0ceVRPu/BEaoKIkH+7+t9fqAdDX7v9VifSWVH/u/oCjQIQ80+78SzW34tt36vxLNbfi23fq/fboXOMQD+7/B9VJ2RVP6v631+oB0Nfu/0bk3jB6y+r9oRIcS74r6v/ESJn3htPq/8tq2Mb5e+r+KROJFBSn6v4cNcWMyRPu/8BsHE+Ah+78OqRlV5Dj7v4ghM17dPPu/oCjQIQ80+79snqwMkCX7v8H1UnZFU/q/hux81Poz+r99uhc4xAP7v7QRr/Uo+fq/fboXOMQD+7/lF9/H9C37vxuCtdtTRvq/KVaTVKX3+r+G7HzU+jP6v4bsfNT6M/q/TduxPujB+r+KROJFBSn6v2yerAyQJfu/oCjQIQ80+79snqwMkCX7v631+oB0Nfu/iCEzXt08+7+WABbSRGT6vyXZmjFG0/q/1WJ9JZUf+7++oB46HXf6v4bsfNT6M/q/sYD+Faj7+r95Q7ZXZev6v5YAFtJEZPq/ikTiRQUp+r+G7HzU+jP6v2yerAyQJfu/bJ6sDJAl+7+G7HzU+jP6vxkrmYJJWfq/oCjQIQ80+7+HDXFjMkT7v7Gsh9WkIPq/mgp//CTc+r+gKNAhDzT7v9G5N4wesvq/DkXulQ6o+r/boE4ERgj7v5eYWW+gpvq/sayH1aQg+r+HDXFjMkT7v5kD6RSMufq/oCjQIQ80+7+G7HzU+jP6v631+oB0Nfu/WJlb3wz/+r+XmFlvoKb6v9WKXpy+6Pq/WZMIGlIP+r8l2ZoxRtP6v6Ao0CEPNPu/twzddqrx+r/B9VJ2RVP6v4ghM17dPPu/BD/O9zeA+r8WV0VK/Bj7v76gHjodd/q/rfX6gHQ1+79snqwMkCX7v4bsfNT6M/q/hux81Poz+r/B9VJ2RVP6v6Ao0CEPNPu/gcuom+Kt+r/xBUxNwMD6v9G5N4wesvq/oCjQIQ80+78OqRlV5Dj7v2yerAyQJfu/hux81Poz+r9UTzF2BNb6v+JGsVfGEfq/oFvdmawB+7+lijrOeRn6v1hwoUqUGfq/jnaCNRkE+7+0Ea/1KPn6vw5F7pUOqPq/oCjQIQ80+7+G7HzU+jP6vx6aDkET0Pq/gywO8t8h+r8bgrXbU0b6v7lD8zG/svq/BEaoKIkH+78SzW34tt36v7lD8zG/svq/wfVSdkVT+r+gKNAhDzT7vxuCtdtTRvq/gywO8t8h+r+By6ib4q36v4lRt8Jo7/q//sqpIrkU+7+lijrOeRn6v76gHjodd/q/8RImfeG0+r+gKNAhDzT7v03bsT7owfq/TduxPujB+r9snqwMkCX7v4bsfNT6M/q/hux81Poz+r+gKNAhDzT7v9G5N4wesvq/0bk3jB6y+r+KROJFBSn6vxuCtdtTRvq/hux81Poz+r+gKNAhDzT7vxZXRUr8GPu/Fz3JhuhN+7+gKNAhDzT7v2yerAyQJfu/wfVSdkVT+r+G7HzU+jP6v4cNcWMyRPu/gywO8t8h+r/lF9/H9C37v7GA/hWo+/q/BD/O9zeA+r9UTzF2BNb6vzpPBMy0Jvq/iCEzXt08+78l2ZoxRtP6vxkrmYJJWfq/DkXulQ6o+r+s9ANZLLf6v7Gsh9WkIPq/oCjQIQ80+7+gKNAhDzT7v2YoTrPIAfu/Es1t+Lbd+r/+yqkiuRT7v326FzjEA/u/fboXOMQD+7/lalzI0+X6v4bsfNT6M/q/VE8xdgTW+r+DLA7y3yH6v4MsDvLfIfq/sayH1aQg+r+gKNAhDzT7v6Ao0CEPNPu/DkXulQ6o+r/iRrFXxhH6v7QRr/Uo+fq/oCjQIQ80+79N27E+6MH6v/ESJn3htPq/WZMIGlIP+r9snqwMkCX7v6Ao0CEPNPu/oCjQIQ80+7+JUbfCaO/6vw5F7pUOqPq/vqAeOh13+r+HDXFjMkT7v5kD6RSMufq/8tq2Mb5e+r8WV0VK/Bj7vylWk1Sl9/q/uUPzMb+y+r+gKNAhDzT7v9G5N4wesvq/bJ6sDJAl+79snqwMkCX7v4bsfNT6M/q/wfVSdkVT+r/B9VJ2RVP6v7cM3Xaq8fq/rfX6gHQ1+7+t9fqAdDX7v8H1UnZFU/q/BD/O9zeA+r+G7HzU+jP6v7QRr/Uo+fq/4kaxV8YR+r+G7HzU+jP6vzpPBMy0Jvq/ezYeGPu6+r/y2rYxvl76v/AbBxPgIfu/ezYeGPu6+r/YFKK682D7v631+oB0Nfu/wfVSdkVT+r8ORe6VDqj6v7GA/hWo+/q/5Rffx/Qt+79YcKFKlBn6v4bsfNT6M/q/5WpcyNPl+r+G7HzU+jP6v4bsfNT6M/q/oCjQIQ80+7+t9fqAdDX7vzpPBMy0Jvq/l5hZb6Cm+r8l2ZoxRtP6v4bsfNT6M/q/hux81Poz+r+G7HzU+jP6v6Ao0CEPNPu//sqpIrkU+79ZkwgaUg/6v+UX38f0Lfu/0bk3jB6y+r+G7HzU+jP6vwQ/zvc3gPq/VE8xdgTW+r97Nh4Y+7r6v326FzjEA/u/5WpcyNPl+r+XmFlvoKb6v9VifSWVH/u/jnaCNRkE+7+XmFlvoKb6v1hwoUqUGfq/o4bFj/xL+7+HDXFjMkT7v7Gsh9WkIPq/2BSiuvNg+7/lF9/H9C37vw6pGVXkOPu/DqkZVeQ4+7/I1HPZO0n6v6Ao0CEPNPu/oCjQIQ80+79N27E+6MH6v03bsT7owfq/JdmaMUbT+r/B9VJ2RVP6vwRGqCiJB/u/rPQDWSy3+r8l2ZoxRtP6v631+oB0Nfu/oCjQIQ80+7/+yqkiuRT7v6Ao0CEPNPu/0bk3jB6y+r/lalzI0+X6v9ugTgRGCPu/rfX6gHQ1+7+gKNAhDzT7v6z0A1kst/q/rPQDWSy3+r+lijrOeRn6v4MsDvLfIfq/FldFSvwY+79eTYLZFjf6v/ESJn3htPq/Xk2C2RY3+r+DLA7y3yH6v5YAFtJEZPq/lgAW0kRk+r+aCn/8JNz6v2OkghyFpfq/hux81Poz+r/iRrFXxhH6v9ugTgRGCPu/gywO8t8h+r8EP873N4D6v4cNcWMyRPu/hux81Poz+r+t9fqAdDX7v631+oB0Nfu/jnaCNRkE+7+HG3iZaqL6vxLNbfi23fq/uUPzMb+y+r/kL4fFl276v+fMZMMBn/q/5C+HxZdu+r+G7HzU+jP6vxuCtdtTRvq/BD/O9zeA+r+0Ea/1KPn6v5oKf/wk3Pq/twzddqrx+r9YcKFKlBn6v/ESJn3htPq/hux81Poz+r+gKNAhDzT7v1iZW98M//q/Xk2C2RY3+r+gKNAhDzT7v1mTCBpSD/q/bJ6sDJAl+78l2ZoxRtP6v2hEhxLvivq/8BsHE+Ah+79eTYLZFjf6v4bsfNT6M/q/oCjQIQ80+78EP873N4D6v4lRt8Jo7/q/DkXulQ6o+r9UTzF2BNb6v+VqXMjT5fq/wfVSdkVT+r+G7HzU+jP6vyXZmjFG0/q/vqAeOh13+r95Q7ZXZev6vxZXRUr8GPu/8BsHE+Ah+7+t9fqAdDX7v631+oB0Nfu/26BOBEYI+7+ZA+kUjLn6v3lDtldl6/q/eUO2V2Xr+r9oRIcS74r6vylWk1Sl9/q/TduxPujB+r9snqwMkCX7v6z0A1kst/q/rPQDWSy3+r8ORe6VDqj6vzpPBMy0Jvq/26BOBEYI+7/+yqkiuRT7v9G5N4wesvq/oCjQIQ80+78ERqgoiQf7v4syUC8lW/u/hux81Poz+r+G7HzU+jP6v4bsfNT6M/q/WZMIGlIP+r+s9ANZLLf6v4bsfNT6M/q/GSuZgklZ+r/B9VJ2RVP6v631+oB0Nfu/WJlb3wz/+r+gKNAhDzT7v452gjUZBPu/aESHEu+K+r+DLA7y3yH6v4MsDvLfIfq/gywO8t8h+r+xrIfVpCD6v7Gsh9WkIPq/rfX6gHQ1+79snqwMkCX7v9ugTgRGCPu/Xk2C2RY3+r9snqwMkCX7v4lRt8Jo7/q/pYo6znkZ+r9eTYLZFjf6v452gjUZBPu/gywO8t8h+r+XmFlvoKb6v6Ao0CEPNPu/TduxPujB+r+G7HzU+jP6v/EFTE3AwPq/hux81Poz+r9YmVvfDP/6v4lRt8Jo7/q/ikTiRQUp+r8pVpNUpff6v8jUc9k7Sfq/1WJ9JZUf+7+jP7KEQcP6vw6pGVXkOPu/oCjQIQ80+7+t9fqAdDX7v6z0A1kst/q/iCEzXt08+7+G7HzU+jP6v6Ao0CEPNPu/oCjQIQ80+7+xrIfVpCD6v+fMZMMBn/q/KVaTVKX3+r/lF9/H9C37v15NgtkWN/q/4kaxV8YR+r+gW92ZrAH7v2YoTrPIAfu/lgAW0kRk+r/wGwcT4CH7v631+oB0Nfu/JdmaMUbT+r8ZK5mCSVn6v8H1UnZFU/q/oCjQIQ80+7/RuTeMHrL6v+UX38f0Lfu/8BsHE+Ah+7/URWv67ZT6v9gUorrzYPu/4kaxV8YR+r8bgrXbU0b6vzpPBMy0Jvq/8RImfeG0+r+3DN12qvH6v3iTifZ2+Pq/2BSiuvNg+78xfJdPFmr6v2OkghyFpfq/rfX6gHQ1+7+t9fqAdDX7v2yerAyQJfu/wfVSdkVT+r+G7HzU+jP6v4bsfNT6M/q/hux81Poz+r/y2rYxvl76v6Ao0CEPNPu/twzddqrx+r+G7HzU+jP6v5YAFtJEZPq/WHChSpQZ+r+0Ea/1KPn6v3lDtldl6/q/DqkZVeQ4+794k4n2dvj6v4bsfNT6M/q/1WJ9JZUf+7+G7HzU+jP6v9ugTgRGCPu/VE8xdgTW+r+G7HzU+jP6v2yerAyQJfu/hux81Poz+r+G7HzU+jP6v9RFa/rtlPq/MXyXTxZq+r+DLA7y3yH6v4MsDvLfIfq/vqAeOh13+r9KzEKQKwL7v76gHjodd/q/5C+HxZdu+r/+yqkiuRT7v6Ao0CEPNPu/oCjQIQ80+7/RuTeMHrL6v4cbeJlqovq/oCjQIQ80+79UTzF2BNb6v4cNcWMyRPu/FldFSvwY+7/B9VJ2RVP6v3iTifZ2+Pq/hux81Poz+r9snqwMkCX7v4bsfNT6M/q/5WpcyNPl+r+5Q/Mxv7L6v6Ao0CEPNPu/58xkwwGf+r+gKNAhDzT7v6Ao0CEPNPu/twzddqrx+r9snqwMkCX7v15NgtkWN/q/sayH1aQg+r+t9fqAdDX7v6Ao0CEPNPu/uUPzMb+y+r+3DN12qvH6v6Ao0CEPNPu/wfVSdkVT+r+aCn/8JNz6v2yerAyQJfu/rPQDWSy3+r+G7HzU+jP6v6Ao0CEPNPu/5WpcyNPl+r9UTzF2BNb6v1RPMXYE1vq/l5hZb6Cm+r/boE4ERgj7v5oKf/wk3Pq/0bk3jB6y+r9N27E+6MH6v4HLqJvirfq/hux81Poz+r/B9VJ2RVP6v8H1UnZFU/q/iCEzXt08+7/+yqkiuRT7v6Ao0CEPNPu/ytCHyser+r+ZA+kUjLn6v23tRN4F1vq/oCjQIQ80+7+s9ANZLLf6vwQ/zvc3gPq/58xkwwGf+r9snqwMkCX7v6Ao0CEPNPu/hux81Poz+r8SGoLelxf6v+fMZMMBn/q/uUPzMb+y+r++oB46HXf6v4bsfNT6M/q/Es1t+Lbd+r+G7HzU+jP6v6Ao0CEPNPu/0bk3jB6y+r/lF9/H9C37v7cM3Xaq8fq/hux81Poz+r/B9VJ2RVP6v1hwoUqUGfq/WHChSpQZ+r+By6ib4q36v2yerAyQJfu/wfVSdkVT+r/B9VJ2RVP6v+UX38f0Lfu/wfVSdkVT+r+jP7KEQcP6vwRGqCiJB/u/8BsHE+Ah+78pVpNUpff6v7lD8zG/svq/bJ6sDJAl+79YmVvfDP/6v9G5N4wesvq/oCjQIQ80+7+gKNAhDzT7v9G5N4wesvq/hux81Poz+r+G7HzU+jP6v8H1UnZFU/q/GSuZgklZ+r9N27E+6MH6v4HLqJvirfq/rPQDWSy3+r97Nh4Y+7r6vwQ/zvc3gPq/1WJ9JZUf+7+G7HzU+jP6v7cM3Xaq8fq/rPQDWSy3+r+G7HzU+jP6v8H1UnZFU/q/1WJ9JZUf+7+OdoI1GQT7v7Gsh9WkIPq/Xk2C2RY3+r97Nh4Y+7r6v6WKOs55Gfq/hw1xYzJE+78WV0VK/Bj7vzpPBMy0Jvq/WHChSpQZ+r+WABbSRGT6v4lRt8Jo7/q/wfVSdkVT+r/kL4fFl276v6Ao0CEPNPu/uUPzMb+y+r/YFKK682D7v6Ao0CEPNPu/oCjQIQ80+7+By6ib4q36vyXZmjFG0/q/JdmaMUbT+r+G7HzU+jP6v+UX38f0Lfu/gywO8t8h+r+G7HzU+jP6v+Qvh8WXbvq/mgp//CTc+r+gKNAhDzT7v+VqXMjT5fq/26BOBEYI+7+By6ib4q36v4bsfNT6M/q/hux81Poz+r8SzW34tt36vwQ/zvc3gPq/BD/O9zeA+r+5Q/Mxv7L6vxZXRUr8GPu/5WpcyNPl+r/boE4ERgj7v4cNcWMyRPu/pYo6znkZ+r+gKNAhDzT7v6Ao0CEPNPu/hw1xYzJE+799uhc4xAP7v6WKOs55Gfq/bJ6sDJAl+7/lalzI0+X6vxkrmYJJWfq/yNRz2TtJ+r8OqRlV5Dj7v3lDtldl6/q/l5hZb6Cm+r9oRIcS74r6v2hEhxLvivq/KVaTVKX3+r+G7HzU+jP6v2yerAyQJfu/hux81Poz+r+G7HzU+jP6v4lRt8Jo7/q/G4K121NG+r8bgrXbU0b6v6Ao0CEPNPu/hux81Poz+r+JUbfCaO/6v+UX38f0Lfu/ZihOs8gB+7+WABbSRGT6v4bsfNT6M/q/BD/O9zeA+r97Nh4Y+7r6v+JGsVfGEfq/WHChSpQZ+r/wGwcT4CH7v+UX38f0Lfu/mgp//CTc+r+IITNe3Tz7v7Gsh9WkIPq/hw1xYzJE+7/kL4fFl276v2yerAyQJfu/8QVMTcDA+r/B9VJ2RVP6vzF8l08Wavq/1WJ9JZUf+7/nzGTDAZ/6v9gUorrzYPu/MXyXTxZq+r/wGwcT4CH7v4bsfNT6M/q/Ok8EzLQm+r/y2rYxvl76v6Ao0CEPNPu/iVG3wmjv+r+aCn/8JNz6v9ugTgRGCPu/58xkwwGf+r+gKNAhDzT7v2yerAyQJfu/WJlb3wz/+r/iRrFXxhH6v2YoTrPIAfu/fboXOMQD+7+G7HzU+jP6vylWk1Sl9/q/FldFSvwY+79snqwMkCX7vxkrmYJJWfq/5Rffx/Qt+7+By6ib4q36v4bsfNT6M/q/5WpcyNPl+r+aCn/8JNz6v/7KqSK5FPu/aESHEu+K+r9UTzF2BNb6v/AbBxPgIfu/oCjQIQ80+7/iRrFXxhH6v4cNcWMyRPu/oCjQIQ80+79ZkwgaUg/6v4bsfNT6M/q/rfX6gHQ1+7+t9fqAdDX7v9VifSWVH/u/oCjQIQ80+79ZkwgaUg/6v8H1UnZFU/q/gcuom+Kt+r8ZK5mCSVn6v03bsT7owfq/JdmaMUbT+r/y2rYxvl76vxZXRUr8GPu/5C+HxZdu+r/I1HPZO0n6v/7KqSK5FPu/l5hZb6Cm+r8OqRlV5Dj7v+qAPsPgMfu/VE8xdgTW+r+HDXFjMkT7v15NgtkWN/q/SsxCkCsC+7+0Ea/1KPn6v7Gsh9WkIPq/l5hZb6Cm+r9snqwMkCX7vyXZmjFG0/q/rfX6gHQ1+7/nzGTDAZ/6v+VqXMjT5fq/mgp//CTc+r+gKNAhDzT7v6Ao0CEPNPu/bJ6sDJAl+7+gKNAhDzT7v6Ao0CEPNPu/oCjQIQ80+7+XmFlvoKb6v6OGxY/8S/u/8RImfeG0+r9N27E+6MH6v4HLqJvirfq/8QVMTcDA+r+G7HzU+jP6v4ghM17dPPu//sqpIrkU+79YcKFKlBn6v4ghM17dPPu/iCEzXt08+7+gKNAhDzT7v9G5N4wesvq/TduxPujB+r+s9ANZLLf6v4bsfNT6M/q/hux81Poz+r+G7HzU+jP6vxuCtdtTRvq/5WpcyNPl+r/+yqkiuRT7v5eYWW+gpvq/yNRz2TtJ+r9ZkwgaUg/6vwRGqCiJB/u/oCjQIQ80+79snqwMkCX7v4bsfNT6M/q/wfVSdkVT+r/URWv67ZT6v76gHjodd/q/Xk2C2RY3+r+G7HzU+jP6vxkrmYJJWfq/rfX6gHQ1+79YmVvfDP/6v/AbBxPgIfu/oCjQIQ80+7+G7HzU+jP6v5eYWW+gpvq/G4K121NG+r8ORe6VDqj6v7GA/hWo+/q//sqpIrkU+78EP873N4D6v1RPMXYE1vq/ikTiRQUp+r8ZK5mCSVn6v9G5N4wesvq/FldFSvwY+7+G7HzU+jP6v2yerAyQJfu/bJ6sDJAl+79snqwMkCX7v1iZW98M//q/oCjQIQ80+78ORe6VDqj6v7GA/hWo+/q/oz+yhEHD+r+G7HzU+jP6v6Ao0CEPNPu/sYD+Faj7+r9Zi9HHlUT7v7Gsh9WkIPq/hux81Poz+r9YcKFKlBn6v6Ao0CEPNPu/hux81Poz+r/wGwcT4CH7vxkrmYJJWfq/1WJ9JZUf+7/VYn0llR/7v6Ao0CEPNPu/TduxPujB+r8l2ZoxRtP6v2yerAyQJfu/hux81Poz+r9mKE6zyAH7v9ugTgRGCPu/gcuom+Kt+r9snqwMkCX7v6Ao0CEPNPu/oFvdmawB+7+gKNAhDzT7v6Ao0CEPNPu/rfX6gHQ1+79snqwMkCX7v2yerAyQJfu/hux81Poz+r8ZK5mCSVn6vw5F7pUOqPq/1EVr+u2U+r+aCn/8JNz6v76gHjodd/q/0bk3jB6y+r+gKNAhDzT7v6Ao0CEPNPu/yNRz2TtJ+r/boE4ERgj7v1hwoUqUGfq/tBGv9Sj5+r/+yqkiuRT7vzF8l08Wavq/8RImfeG0+r+XmFlvoKb6v5eYWW+gpvq/WHChSpQZ+r95Q7ZXZev6v1hwoUqUGfq/BD/O9zeA+r8XPcmG6E37v6Ao0CEPNPu/oCjQIQ80+78l2ZoxRtP6vxkrmYJJWfq/8RImfeG0+r9mKE6zyAH7v6z0A1kst/q/8tq2Mb5e+r+G7HzU+jP6v8H1UnZFU/q/hw1xYzJE+78emg5BE9D6vxc9yYboTfu/oz+yhEHD+r/iRrFXxhH6vx6aDkET0Pq//sqpIrkU+7+OdoI1GQT7v5kD6RSMufq/oz+yhEHD+r+HDXFjMkT7v76gHjodd/q/oCjQIQ80+7/I1HPZO0n6v8H1UnZFU/q/hux81Poz+r/B9VJ2RVP6v2yerAyQJfu/hux81Poz+r+G7HzU+jP6vxuCtdtTRvq/bJ6sDJAl+7/lalzI0+X6v4HLqJvirfq/bJ6sDJAl+7+G7HzU+jP6v8H1UnZFU/q/iCEzXt08+7/B9VJ2RVP6v4MsDvLfIfq/yNRz2TtJ+r+LMlAvJVv7vxZXRUr8GPu/tBGv9Sj5+r+s9ANZLLf6vyXZmjFG0/q/bJ6sDJAl+7+G7HzU+jP6v4bsfNT6M/q/oCjQIQ80+79YcKFKlBn6v452gjUZBPu/yNRz2TtJ+r+gKNAhDzT7v6Ao0CEPNPu/rPQDWSy3+r8l2ZoxRtP6v7GA/hWo+/q/rfX6gHQ1+7+gKNAhDzT7v4lRt8Jo7/q/bJ6sDJAl+7+G7HzU+jP6v6Ao0CEPNPu/hux81Poz+r+gKNAhDzT7v9ugTgRGCPu/Fz3JhuhN+79YcKFKlBn6v452gjUZBPu/mQPpFIy5+r/YFKK682D7v6Ao0CEPNPu/0bk3jB6y+r9mKE6zyAH7v4lRt8Jo7/q/oz+yhEHD+r9eTYLZFjf6v3s2Hhj7uvq/oCjQIQ80+7+aCn/8JNz6v4ghM17dPPu/oCjQIQ80+797Nh4Y+7r6v4bsfNT6M/q/iCEzXt08+7/B9VJ2RVP6v2hEhxLvivq/BEaoKIkH+7+aCn/8JNz6v2yerAyQJfu/vqAeOh13+r8ERqgoiQf7v/AbBxPgIfu/DkXulQ6o+r/0eips56L6v4bsfNT6M/q/wfVSdkVT+r+gKNAhDzT7v631+oB0Nfu/oCjQIQ80+79ZkwgaUg/6v6z0A1kst/q/hux81Poz+r+G7HzU+jP6v6Ao0CEPNPu/gywO8t8h+r+HDXFjMkT7v4HLqJvirfq/oCjQIQ80+7+JUbfCaO/6vwQ/zvc3gPq/iCEzXt08+7/nzGTDAZ/6v6z0A1kst/q/pYo6znkZ+r+G7HzU+jP6vxuCtdtTRvq/oz+yhEHD+r+ZA+kUjLn6v2YoTrPIAfu/8BsHE+Ah+7+HDXFjMkT7v76gHjodd/q/jnaCNRkE+7+gKNAhDzT7v6Ao0CEPNPu/oCjQIQ80+7/RuTeMHrL6v2yerAyQJfu/rfX6gHQ1+7+gKNAhDzT7v8H1UnZFU/q/hux81Poz+r+G7HzU+jP6vxuCtdtTRvq/VE8xdgTW+r+IITNe3Tz7vzF8l08Wavq/wfVSdkVT+r+G7HzU+jP6v6Ao0CEPNPu/oCjQIQ80+7+gKNAhDzT7v6Ao0CEPNPu/oCjQIQ80+79snqwMkCX7v4bsfNT6M/q/TduxPujB+r/VYn0llR/7v4lRt8Jo7/q/rPQDWSy3+r8l2ZoxRtP6vxkrmYJJWfq/oCjQIQ80+7+t9fqAdDX7v452gjUZBPu/EhqC3pcX+r8SzW34tt36v6Ao0CEPNPu/oz+yhEHD+r9Zi9HHlUT7v4bsfNT6M/q//sqpIrkU+7+gKNAhDzT7v9G5N4wesvq/wfVSdkVT+r/B9VJ2RVP6v4bsfNT6M/q/oCjQIQ80+7+JUbfCaO/6v1RPMXYE1vq/tBGv9Sj5+r/B9VJ2RVP6v326FzjEA/u/EhqC3pcX+r/I1HPZO0n6v6Ao0CEPNPu/hux81Poz+r+gKNAhDzT7v6WKOs55Gfq/5WpcyNPl+r86TwTMtCb6vwRGqCiJB/u/oCjQIQ80+79snqwMkCX7vwQ/zvc3gPq/VE8xdgTW+r/boE4ERgj7v2yerAyQJfu/WHChSpQZ+r+xrIfVpCD6v4cbeJlqovq/Ok8EzLQm+r8OqRlV5Dj7v/R6Kmznovq/1YpenL7o+r/RuTeMHrL6v4HLqJvirfq/bJ6sDJAl+78l2ZoxRtP6v4bsfNT6M/q/hux81Poz+r+G7HzU+jP6v9ugTgRGCPu/mgp//CTc+r+JUbfCaO/6v+Qvh8WXbvq/5WpcyNPl+r+lijrOeRn6vylWk1Sl9/q/2BSiuvNg+7+gKNAhDzT7v1RPMXYE1vq/ezYeGPu6+r8XPcmG6E37v+fMZMMBn/q/vqAeOh13+r/I1HPZO0n6v6WKOs55Gfq/Fz3JhuhN+78ERqgoiQf7v4bsfNT6M/q/hux81Poz+r+ZA+kUjLn6vxuCtdtTRvq/5WpcyNPl+r8OqRlV5Dj7v4cNcWMyRPu/fboXOMQD+79mKE6zyAH7v6Ao0CEPNPu/bJ6sDJAl+7+G7HzU+jP6v4lRt8Jo7/q/5WpcyNPl+r8ZK5mCSVn6v9RFa/rtlPq/ytCHyser+r+t9fqAdDX7v1hwoUqUGfq/WHChSpQZ+r+G7HzU+jP6v6Ao0CEPNPu/ezYeGPu6+r/+yqkiuRT7v1hwoUqUGfq/JdmaMUbT+r+gKNAhDzT7v4ghM17dPPu/4kaxV8YR+r+HDXFjMkT7vzpPBMy0Jvq/hw1xYzJE+78SzW34tt36v6Ao0CEPNPu/TduxPujB+r9snqwMkCX7v8H1UnZFU/q/wfVSdkVT+r8EP873N4D6v7QRr/Uo+fq/lgAW0kRk+r8ORe6VDqj6vw5F7pUOqPq/hux81Poz+r+ZA+kUjLn6vxIagt6XF/q/hux81Poz+r+G7HzU+jP6vxLNbfi23fq//sqpIrkU+7+t9fqAdDX7v4bsfNT6M/q/wfVSdkVT+r/B9VJ2RVP6v7Gsh9WkIPq/rfX6gHQ1+7+gKNAhDzT7v6Ao0CEPNPu/oCjQIQ80+7+G7HzU+jP6v4pE4kUFKfq/oCjQIQ80+7+G7HzU+jP6v2YoTrPIAfu/lgAW0kRk+r/+yqkiuRT7v/LatjG+Xvq/sayH1aQg+r8XPcmG6E37vylWk1Sl9/q/5WpcyNPl+r+aCn/8JNz6v5kD6RSMufq/Fz3JhuhN+7+xgP4VqPv6v+VqXMjT5fq/l5hZb6Cm+r+XmFlvoKb6v4MsDvLfIfq/sayH1aQg+r/y2rYxvl76v2YoTrPIAfu/gywO8t8h+r+G7HzU+jP6v/AbBxPgIfu/rfX6gHQ1+7+gKNAhDzT7vw5F7pUOqPq/Fz3JhuhN+7+t9fqAdDX7v2yerAyQJfu/bJ6sDJAl+79snqwMkCX7v7Gsh9WkIPq/l5hZb6Cm+r9YcKFKlBn6v4MsDvLfIfq/5WpcyNPl+r8OqRlV5Dj7v4bsfNT6M/q/5C+HxZdu+r9mKE6zyAH7v4bsfNT6M/q/rfX6gHQ1+7/VYn0llR/7v6Ao0CEPNPu/oCjQIQ80+7/URWv67ZT6v6WKOs55Gfq/rfX6gHQ1+7+G7HzU+jP6v4bsfNT6M/q/oCjQIQ80+7+HDXFjMkT7v7Gsh9WkIPq/KVaTVKX3+r+xrIfVpCD6vxLNbfi23fq/aESHEu+K+r/y2rYxvl76v+UX38f0Lfu/G4K121NG+r8XPcmG6E37v2OkghyFpfq/oCjQIQ80+78OqRlV5Dj7v4lRt8Jo7/q//sqpIrkU+7+KROJFBSn6v/7KqSK5FPu/iVG3wmjv+r+G7HzU+jP6v6Ao0CEPNPu/twzddqrx+r+gKNAhDzT7vxZXRUr8GPu/WHChSpQZ+r+lijrOeRn6v/EFTE3AwPq/BEaoKIkH+7/YFKK682D7vxIagt6XF/q/TduxPujB+r+G7HzU+jP6v631+oB0Nfu/uUPzMb+y+r/kL4fFl276v2YoTrPIAfu/BEaoKIkH+78OqRlV5Dj7v8H1UnZFU/q/oCjQIQ80+7+gW92ZrAH7v1hwoUqUGfq/bJ6sDJAl+7+OdoI1GQT7v326FzjEA/u/bJ6sDJAl+7/B9VJ2RVP6v6Ao0CEPNPu/uUPzMb+y+r9KzEKQKwL7v/EFTE3AwPq/26BOBEYI+78XPcmG6E37v6Bb3ZmsAfu/iVG3wmjv+r9oRIcS74r6v1iZW98M//q/DqkZVeQ4+79snqwMkCX7v4lRt8Jo7/q/MXyXTxZq+r+XmFlvoKb6v4cNcWMyRPu/bJ6sDJAl+7/y2rYxvl76v6Ao0CEPNPu/DkXulQ6o+r+DLA7y3yH6v+fMZMMBn/q/rfX6gHQ1+7/RuTeMHrL6v6z0A1kst/q//sqpIrkU+7+gKNAhDzT7v6Ao0CEPNPu/WZMIGlIP+r+s9ANZLLf6v6Ao0CEPNPu/tBGv9Sj5+r/xBUxNwMD6v+fMZMMBn/q/Xk2C2RY3+r+gKNAhDzT7v6Ao0CEPNPu/eUO2V2Xr+r+G7HzU+jP6v3iTifZ2+Pq/wfVSdkVT+r+gKNAhDzT7v4bsfNT6M/q/oCjQIQ80+7+gKNAhDzT7v5oKf/wk3Pq/oCjQIQ80+79N27E+6MH6vyXZmjFG0/q/bJ6sDJAl+7/B9VJ2RVP6v8H1UnZFU/q/oCjQIQ80+7+gKNAhDzT7v9G5N4wesvq/iVG3wmjv+r+xgP4VqPv6v+VqXMjT5fq//sqpIrkU+79snqwMkCX7v2yerAyQJfu/oCjQIQ80+7+gKNAhDzT7v2yerAyQJfu/rPQDWSy3+r+s9ANZLLf6v4bsfNT6M/q/wfVSdkVT+r+gKNAhDzT7vylWk1Sl9/q/oCjQIQ80+7+gKNAhDzT7v6z0A1kst/q/bJ6sDJAl+78ZK5mCSVn6vxkrmYJJWfq/DkXulQ6o+r9UTzF2BNb6v7Gsh9WkIPq/hux81Poz+r+gKNAhDzT7v15NgtkWN/q/5WpcyNPl+r+3DN12qvH6v6Ao0CEPNPu/oCjQIQ80+79ZkwgaUg/6v6z0A1kst/q/JdmaMUbT+r8ZK5mCSVn6v6M/soRBw/q/eUO2V2Xr+r8OqRlV5Dj7v9VifSWVH/u/oCjQIQ80+795Q7ZXZev6v9gUorrzYPu/fboXOMQD+7/lF9/H9C37v15NgtkWN/q/twzddqrx+r+t9fqAdDX7v4bsfNT6M/q/wfVSdkVT+r/B9VJ2RVP6v1mTCBpSD/q/iCEzXt08+79KzEKQKwL7v3lDtldl6/q/uUPzMb+y+r+gKNAhDzT7v631+oB0Nfu/Es1t+Lbd+r+5Q/Mxv7L6v326FzjEA/u/WZMIGlIP+r8OqRlV5Dj7v4bsfNT6M/q/iVG3wmjv+r+xgP4VqPv6v1mTCBpSD/q/oCjQIQ80+7+xgP4VqPv6v3s2Hhj7uvq/oCjQIQ80+7+G7HzU+jP6vxIagt6XF/q/gywO8t8h+r+xrIfVpCD6v6Ao0CEPNPu/rPQDWSy3+r+gKNAhDzT7v4MsDvLfIfq/rfX6gHQ1+7+gKNAhDzT7v5YAFtJEZPq/WZMIGlIP+r+By6ib4q36v4bsfNT6M/q/",
          "dtype": "f8"
         },
         "marker": {
          "color": "blue",
          "size": 6
         },
         "mode": "markers",
         "name": "Établissements OSM",
         "text": [
          "ECOLE PRIVEE COIF ESTHETIQUE",
          "UNIVERSITE",
          "INST NAT SC APPLIQ RENNES",
          "UNIVERSITE  BREST",
          "UNIVERSITE RENNES 1",
          "LYCEE GENERAL ET TECHNOLOGIQUE",
          "LPO LYCEE DES METIERS",
          "UNIVERSITE RENNES 1",
          "GROUPE AFTEC",
          "SUP OUEST",
          "ECOLE SUPERIEURE PRIVEE",
          "UNIVERSITE",
          "UNIVERSITE",
          "LYCEE GENERAL ET TECHNOLOGIQUE",
          "ECOLE NAT. SUP. ARCHITECTURE",
          "LE PONT SUPERIEUR",
          "ECOLE SUPERIEURE D'ART",
          "ECOLE SUPERIEURE D'ART",
          "INST SUPERIEUR ARTS APPLIQUES",
          "ECOLE TECHNIQUE PRIVEE",
          "UNIVERSITE  BREST",
          "UNIVERSITE  BREST",
          "UNIVERSITE",
          "GROUPE AFTEC",
          "ECOLE NAT. SUP. ARCHITECTURE",
          "INSTITUT SUPERIEUR D'OPTIQUE",
          "UNIVERSITE",
          "UNIVERSITE",
          "UNIVERSITE",
          "UNIVERSITE",
          "UNIVERSITE",
          "UNIVERSITE  BREST",
          "UNIVERSITE",
          "UNIVERSITE",
          "UNIVERSITE  BREST",
          "LYCEE GENERAL ET TECHNOLOGIQUE",
          "ECOLE NORMALE SUP RENNES",
          "LYCEE GEN.ET TECHNOL.PRIVE",
          "LYCEE AGRICOLE PRIVE",
          "LYCEE GENERAL PRIVE",
          "LYCEE GEN.ET TECHNOL.PRIVE",
          "UNIVERSITE RENNES 2",
          "LYCEE GENERAL ET TECHNOLOGIQUE",
          "EC INFORMATIQUE TECH AVANCEES",
          "INSTITUT AGRO RENNES-ANGERS",
          "ENS CHIMIE RENNES",
          "LYC POLYVAL PRIVE DES METIERS",
          "LYCEE GENERAL",
          "ECOLE SUPERIEURE",
          "LYCEE GEN.ET TECHNOL.PRIVE",
          "INST FORM MASSO-KINESITHERAPIE",
          "INST FORM MASSO-KINESITHERAPIE",
          "UNIVERSITE RENNES 1",
          "COMUE UNIV BRETAGNE LOIRE",
          "ECOLE SUPERIEURE D'ART",
          "UNIVERSITE  BREST",
          "UNIVERSITE RENNES 1",
          "UNIVERSITE RENNES 1",
          "ECOLE POUR L'INFORMATIQUE",
          "ECOLE TECH SUP PRIVEE INFORMAT",
          "SUP OUEST",
          "EC HTES ETUD SANTE PUB RENNES",
          "ECOLE POUR L'INFORMATIQUE",
          "EC INFORMATIQUE TECH AVANCEES",
          "INST FORM MASSO-KINESITHERAPIE",
          "UNIVERSITE  BREST",
          "UNIVERSITE RENNES 1",
          "ECOLE SUPERIEURE",
          "ECOLE TECHNIQUE SUPERIEURE PRI",
          "LYCEE GENERAL PRIVE",
          "LYCEE AGRICOLE PRIVE",
          "LYCEE GENERAL ET TECHNOLOGIQUE",
          "LYC POLYVAL PRIVE DES METIERS",
          "UNIVERSITE RENNES 1",
          "UNIVERSITE RENNES 1",
          "UNIVERSITE RENNES 1",
          "UNIVERSITE RENNES 1",
          "UNIVERSITE RENNES 1",
          "UNIVERSITE",
          "ORGANISME FORMATION-CFA",
          "GROUPE AFTEC",
          "UNIVERSITE  BREST",
          "UNIVERSITE",
          "UNIVERSITE",
          "UNIVERSITE",
          "UNIVERSITE RENNES 2",
          "ENS CHIMIE RENNES",
          "INST NAT SC APPLIQ RENNES",
          "INSTITUT AGRO RENNES-ANGERS",
          "ECOLE TECHNIQUE PRIVEE",
          "UNIVERSITE RENNES 1",
          "UNIVERSITE RENNES 2",
          "INST NAT SC APPLIQ RENNES",
          "LP LYCEE DES METIERS",
          "ECOLE TECHNIQUE PRIVEE",
          "LYCEE GENERAL ET TECHNOLOGIQUE",
          "UNIVERSITE RENNES 2",
          "UNIVERSITE RENNES 2",
          "LYCEE GENERAL ET TECHNOLOGIQUE",
          "UNIVERSITE RENNES 2",
          "UNIVERSITE RENNES 2",
          "UNIVERSITE RENNES 2",
          "LYCEE GEN ET TECHNOL PRIVE",
          "LYCEE GEN ET TECHNOL PRIVE",
          "LYCEE GENERAL ET TECHNOLOGIQUE",
          "COMUE UNIV BRETAGNE LOIRE",
          "UNIVERSITE RENNES 2",
          "UNIVERSITE RENNES 1",
          "LYCEE GENERAL PRIVE",
          "ECOLE PRIVEE COIF ESTHETIQUE",
          "LYCEE GENERAL ET TECHNOLOGIQUE",
          "GROUPE AFTEC",
          "INSTITUT AGRO RENNES-ANGERS",
          "CENTRES FORM METIERS SANTE",
          "ECOLE DES METIERS SANITAIRES E",
          "EC HTES ETUD SANTE PUB RENNES",
          "UNIVERSITE",
          "UNIVERSITE",
          "UNIVERSITE",
          "UNIVERSITE",
          "LYCEE GENERAL ET TECHNOLOGIQUE",
          "INSTITUT NATIONAL",
          "LYCEE GENERAL ET TECHNOLOGIQUE",
          "INST FORM MASSO-KINESITHERAPIE",
          "E S R A  BRETAGNE",
          "LYCEE GEN.ET TECHNOL.PRIVE",
          "UNIVERSITE RENNES 1",
          "UNIVERSITE  BREST",
          "UNIVERSITE",
          "GROUPE AFTEC",
          "UNIVERSITE RENNES 1",
          "UNIVERSITE RENNES 2",
          "UNIVERSITE RENNES 1",
          "UNIVERSITE",
          "EC HTES ETUD SANTE PUB RENNES",
          "LYCEE GENERAL",
          "UNIVERSITE RENNES 1",
          "UNIVERSITE RENNES 2",
          "LYC POLYVAL PRIVE DES METIERS",
          "UNIVERSITE  BREST",
          "ECOLE SUP ARTS TECHNIQUES MODE",
          "LPO LYCEE DES METIERS",
          "LYCEE GENERAL",
          "GROUPE AFTEC",
          "UNIVERSITE  BREST",
          "UNIVERSITE RENNES 1",
          "UNIVERSITE RENNES 1",
          "UNIVERSITE RENNES 1",
          "UNIVERSITE RENNES 1",
          "UNIVERSITE",
          "INSTITUT AGRO RENNES-ANGERS",
          "INST NAT SC APPLIQ RENNES",
          "ECOLE TECH SUP PRIVEE INFORMAT",
          "UNIVERSITE  BREST",
          "INST ETUD POLITIQUES RENNES",
          "ECOLE TECHNIQUE PRIVEE",
          "ECOLE POUR L'INFORMATIQUE",
          "EC SUP GEST COMMERCE FINANCE",
          "INST NAT SC APPLIQ RENNES",
          "INSTITUT AGRO RENNES-ANGERS",
          "LYCEE GENERAL ET TECHNOLOGIQUE",
          "UNIVERSITE RENNES 2",
          "UNIVERSITE RENNES 1",
          "COMUE UNIV BRETAGNE LOIRE",
          "UNIVERSITE RENNES 2",
          "EC SUP GEST COMMERCE FINANCE",
          "ECOLE TECHNIQUE SUPERIEURE PRI",
          "UNIVERSITE",
          "UNIVERSITE",
          "UNIVERSITE  BREST",
          "UNIVERSITE  BREST",
          "UNIVERSITE RENNES 1",
          "EC HTES ETUD SANTE PUB RENNES",
          "LE PONT SUPERIEUR",
          null,
          "LYC POLYVAL PRIVE DES METIERS",
          "UNIVERSITE  BREST",
          "UNIVERSITE RENNES 1",
          "UNIVERSITE RENNES 1",
          "UNIVERSITE RENNES 1",
          "UNIVERSITE RENNES 1",
          "COMUE UNIV BRETAGNE LOIRE",
          "UNIVERSITE RENNES 1",
          "UNIVERSITE RENNES 1",
          "UNIVERSITE RENNES 1",
          "UNIVERSITE RENNES 2",
          "ECOLE DES METIERS SANITAIRES E",
          "UNIVERSITE",
          "UNIVERSITE",
          "ECOLE SUPERIEURE D'ART",
          "ECOLE TECHNIQUE PRIVEE",
          "ORGANISME FORMATION-CFA",
          "SUP OUEST",
          "GROUPE AFTEC",
          "EC INFORMATIQUE TECH AVANCEES",
          "INSTITUT NATIONAL",
          "ECOLE TECHNIQUE PRIVEE",
          "UNIVERSITE",
          "UNIVERSITE",
          "ECOLE SUPERIEURE PRIVEE",
          "ENS CHIMIE RENNES",
          "E S R A  BRETAGNE",
          "LYC POLYVAL PRIVE DES METIERS",
          "LYCEE GENERAL ET TECHNOLOGIQUE",
          "LYCEE GEN ET TECHNOL PRIVE",
          "LYC POLYVAL PRIVE DES METIERS",
          "UNIVERSITE RENNES 1",
          "UNIVERSITE RENNES 2",
          "E S R A  BRETAGNE",
          "ENS CHIMIE RENNES",
          "UNIVERSITE RENNES 1",
          "ECOLE NAT. SUP. ARCHITECTURE",
          "ECOLE SUPERIEURE DE COMMERCE",
          "SUP OUEST",
          "LYC POLYVAL PRIVE DES METIERS",
          "ECOLE PRIVEE COIF ESTHETIQUE",
          "UNIVERSITE  BREST",
          "UNIVERSITE RENNES 1",
          "UNIVERSITE RENNES 1",
          "UNIVERSITE RENNES 1",
          "UNIVERSITE RENNES 1",
          "UNIVERSITE RENNES 1",
          "UNIVERSITE",
          "INST ETUD POLITIQUES RENNES",
          "INST ETUD POLITIQUES RENNES",
          "GROUPE AFTEC",
          "E S R A  BRETAGNE",
          "UNIVERSITE  BREST",
          "UNIVERSITE  BREST",
          "LYCEE PROFESSIONNEL",
          "ETAB SUPERIEUR TECHNIQUE PR",
          "UNIVERSITE",
          "UNIVERSITE",
          "UNIVERSITE",
          "UNIVERSITE",
          "INSTITUT AGRO RENNES-ANGERS",
          "ENS CHIMIE RENNES",
          "INST FORM MASSO-KINESITHERAPIE",
          "ECOLE SUP ARTS TECHNIQUES MODE",
          "LE PONT SUPERIEUR",
          "ECOLE SUPERIEURE D'ART",
          "CENTRE DE FORMATION",
          "EC HTES ETUD SANTE PUB RENNES",
          "UNIVERSITE",
          "UNIVERSITE",
          "ECOLE TECHNIQUE PRIVEE",
          "UNIVERSITE RENNES 1",
          "INST NAT SC APPLIQ RENNES",
          "UNIVERSITE  BREST",
          "UNIVERSITE RENNES 2",
          "LYCEE PROFESSIONNEL",
          "LYCEE GEN ET TECHNOL PRIVE",
          "ECOLE SUPERIEURE DE COMMERCE",
          "LYCEE GENERAL ET TECHNOLOGIQUE",
          "LYCEE GENERAL ET TECHNOLOGIQUE",
          "INST SUPERIEUR ARTS APPLIQUES",
          "UNIVERSITE  BREST",
          "ECOLE SUPERIEURE D'ART",
          "ENS CHIMIE RENNES",
          "ENS CHIMIE RENNES",
          "INST NAT SC APPLIQ RENNES",
          "UNIVERSITE  BREST",
          "UNIVERSITE RENNES 2",
          "ECOLE TECHNIQUE PRIVEE",
          "ECOLE TECHNIQUE PRIVEE",
          "ECOLE TECHNIQUE PRIVEE",
          "UNIVERSITE  BREST",
          "UNIVERSITE RENNES 1",
          "ECOLE PRIVEE COIF ESTHETIQUE",
          "UNIVERSITE RENNES 1",
          "UNIVERSITE RENNES 1",
          "UNIVERSITE",
          "UNIVERSITE RENNES 2",
          "ECOLE NAT. SUP. ARCHITECTURE",
          "ECOLE TECHNIQUE PRIVEE",
          "LYC POLYVAL PRIVE DES METIERS",
          "INSTITUT AGRO RENNES-ANGERS",
          "LYCEE GENERAL ET TECHNOLOGIQUE",
          "LYCEE GENERAL ET TECHNOLOGIQUE",
          "LYCEE PROFESSIONNEL",
          "LYCEE GEN.ET TECHNOL.PRIVE",
          "LYC POLYVAL PRIVE DES METIERS",
          "UNIVERSITE",
          "INST ETUD POLITIQUES RENNES",
          "UNIVERSITE",
          "UNIVERSITE",
          "UNIVERSITE",
          "UNIVERSITE",
          "UNIVERSITE",
          "UNIVERSITE  BREST",
          "UNIVERSITE",
          "UNIVERSITE",
          "UNIVERSITE RENNES 1",
          "LE PONT SUPERIEUR",
          "UNIVERSITE RENNES 1",
          "INSTITUT NATIONAL",
          "ECOLE TECHNIQUE PRIVEE",
          "COMUE UNIV BRETAGNE LOIRE",
          "CENTRE DE FORMATION",
          "INSTITUT SUPERIEUR D'OPTIQUE",
          "LYCEE GENERAL ET TECHNOLOGIQUE",
          "CENTRES FORM METIERS SANTE",
          "INSTITUT SUPERIEUR D'OPTIQUE",
          "LYCEE AGRICOLE PRIVE",
          "UNIVERSITE  BREST",
          "UNIVERSITE RENNES 1",
          "ECOLE TECHNIQUE PRIVEE",
          "ECOLE SUP ARTS TECHNIQUES MODE",
          "INST FORM MASSO-KINESITHERAPIE",
          "GROUPE AFTEC",
          "UNIVERSITE  BREST",
          "INST SUPERIEUR ARTS APPLIQUES",
          "UNIVERSITE  BREST",
          "UNIVERSITE RENNES 1",
          "UNIVERSITE RENNES 2",
          "UNIVERSITE RENNES 2",
          "CENTRE DE FORMATION",
          "EC SUP GEST COMMERCE FINANCE",
          "UNIVERSITE RENNES 1",
          "UNIVERSITE RENNES 1",
          "UNIVERSITE RENNES 1",
          "UNIVERSITE  BREST",
          "UNIVERSITE  BREST",
          "ECOLE SUPERIEURE DE COMMERCE",
          "UNIVERSITE RENNES 1",
          "INST FORM MASSO-KINESITHERAPIE",
          "INST ETUD POLITIQUES RENNES",
          "UNIVERSITE  BREST",
          "LE PONT SUPERIEUR",
          "ECOLE SUPERIEURE D'ART",
          "INSTITUT SUPERIEUR D'OPTIQUE",
          "LYCEE GENERAL ET TECHNOLOGIQUE",
          "INST SUPERIEUR ARTS APPLIQUES",
          "EC SUP GEST COMMERCE FINANCE",
          "COLLEGE COOPERATIF EN BRETAGNE",
          "EC INFORMATIQUE TECH AVANCEES",
          "EC SUP GEST COMMERCE FINANCE",
          "GROUPE AFTEC",
          "ECOLE SUPERIEURE",
          "INSTITUT AGRO RENNES-ANGERS",
          "INSTITUT NATIONAL SCIENCES APP",
          "LYCEE AGRICOLE PRIVE",
          "INST FORM MASSO-KINESITHERAPIE",
          "ECOLE DES METIERS SANITAIRES E",
          "ECOLE DES METIERS SANITAIRES E",
          "LYCEE GENERAL ET TECHNOLOGIQUE",
          "UNIVERSITE",
          "UNIVERSITE",
          "UNIVERSITE",
          "UNIVERSITE",
          "UNIVERSITE",
          "UNIVERSITE",
          "LYCEE GENERAL ET TECHNOLOGIQUE",
          "UNIVERSITE RENNES 1",
          "UNIVERSITE RENNES 1",
          "UNIVERSITE",
          "UNIVERSITE",
          "ECOLE SUPERIEURE DE COMMERCE",
          "UNIVERSITE",
          "INST ETUD POLITIQUES RENNES",
          "INST SUPERIEUR ARTS APPLIQUES",
          "ECOLE POUR L'INFORMATIQUE",
          "UNIVERSITE",
          "UNIVERSITE",
          "UNIVERSITE",
          "UNIVERSITE",
          "SUP OUEST",
          "ENS CHIMIE RENNES",
          "LYCEE PROFESSIONNEL",
          "CENTRES FORM METIERS SANTE",
          "ECOLE PRIVEE COIF ESTHETIQUE",
          "CENTRES FORM METIERS SANTE",
          "ENS CHIMIE RENNES",
          "LYCEE GENERAL",
          "LYCEE GENERAL",
          "ECOLE TECH SUP PRIVEE INFORMAT",
          "FACULTES LIBRES DE L'OUEST",
          "UNIVERSITE  BREST",
          "ECOLE TECHNIQUE PRIVEE",
          "ECOLE POUR L'INFORMATIQUE",
          "ENS CHIMIE RENNES",
          "POLE D'ENSEIGNEMENT SUPERIEUR",
          "IS SC AGRO HORT PAYSAGE RENNES",
          "UNIVERSITE  BREST",
          "UNIVERSITE  BREST",
          "UNIVERSITE RENNES 2",
          "EC INFORMATIQUE TECH AVANCEES",
          "ECOLE SUPERIEURE TECHNIQUE PRI",
          "LYCEE GEN ET TECHNOL PRIVE",
          "LYC POLYVAL PRIVE DES METIERS",
          "ECOLE TECHNIQUE PRIVEE",
          "LYCEE POLYVALENT PRIVE",
          "ECOLE TECHNIQUE PRIVEE",
          "UNIVERSITE  BREST",
          "E S R A  BRETAGNE",
          "LE PONT SUPERIEUR",
          "INSTITUT NATIONAL",
          "ECOLE TECH SUP PRIVEE INFORMAT",
          "UNIVERSITE  BREST",
          "GROUPE AFTEC",
          "ECOLE PRIVEE COIF ESTHETIQUE",
          "UNIVERSITE  BREST",
          "UNIVERSITE  BREST",
          "UNIVERSITE",
          "CENTRES FORM METIERS SANTE",
          "UNIVERSITE",
          "UNIVERSITE",
          "UNIVERSITE",
          "UNIVERSITE",
          "LYCEE GENERAL PRIVE",
          "CENTRES FORM METIERS SANTE",
          "CENTRES FORM METIERS SANTE",
          "UNIVERSITE RENNES 1",
          "UNIVERSITE RENNES 2",
          "LE PONT SUPERIEUR",
          "ECOLE NAT. SUP. ARCHITECTURE",
          "ECOLE TECHNIQUE PRIVEE",
          "ECOLE SUPERIEURE D'ART",
          "INST SUPERIEUR ARTS APPLIQUES",
          "UNIVERSITE",
          "UNIVERSITE",
          "UNIVERSITE RENNES 1",
          "LYC POLYVAL PRIVE DES METIERS",
          "LPO LYCEE DES METIERS",
          "LYCEE PROFESSIONNEL",
          "CENTRES FORM METIERS SANTE",
          "UNIVERSITE RENNES 2",
          "COMUE UNIV BRETAGNE LOIRE",
          "ECOLE POUR L'INFORMATIQUE",
          "LYCEE GENERAL ET TECHNOLOGIQUE",
          "LPO LYCEE DES METIERS",
          "LPO LYCEE DES METIERS",
          "LYCEE GENERAL PRIVE",
          "LYCEE GEN.ET TECHNOL.PRIVE",
          "UNIVERSITE",
          "UNIVERSITE",
          "UNIVERSITE",
          "UNIVERSITE",
          "ECOLE TECHNIQUE PRIVEE",
          "CENTRE DE FORMATION",
          "ECOLE POUR L'INFORMATIQUE",
          "ECOLE SUPERIEURE DE COMMERCE",
          "UNIVERSITE RENNES 1",
          "COMUE UNIV BRETAGNE LOIRE",
          "LYCEE GENERAL ET TECHNOLOGIQUE",
          "CTRE PREPA CARR SOC PARAMEDIC",
          "UNIVERSITE  BREST",
          "UNIVERSITE  BREST",
          "UNIVERSITE  BREST",
          "UNIVERSITE RENNES 1",
          "UNIVERSITE RENNES 1",
          "UNIVERSITE RENNES 1",
          "UNIVERSITE RENNES 1",
          "UNIVERSITE RENNES 1",
          "UNIVERSITE",
          "UNIVERSITE",
          "UNIVERSITE",
          "EC INFORMATIQUE TECH AVANCEES",
          "LYCEE GENERAL PRIVE",
          "ENS CHIMIE RENNES",
          "ENS CHIMIE RENNES",
          "ENS CHIMIE RENNES",
          "INST NAT SC APPLIQ RENNES",
          "INST NAT SC APPLIQ RENNES",
          "UNIVERSITE",
          "UNIVERSITE",
          "ECOLE POUR L'INFORMATIQUE",
          "CENTRES FORM METIERS SANTE",
          "UNIVERSITE RENNES 1",
          "ECOLE NAT. SUP. ARCHITECTURE",
          "SUP OUEST",
          "CENTRES FORM METIERS SANTE",
          "EC INFORMATIQUE TECH AVANCEES",
          "ENS CHIMIE RENNES",
          "EC SUP GEST COMMERCE FINANCE",
          "UNIVERSITE  BREST",
          "UNIVERSITE",
          "UNIVERSITE",
          "UNIVERSITE RENNES 1",
          "UNIVERSITE RENNES 1",
          "UNIVERSITE RENNES 2",
          "ECOLE NAT. SUP. ARCHITECTURE",
          "GROUPE AFTEC",
          "LYCEE GEN.ET TECHNOL.PRIVE",
          "LYCEE GENERAL ET TECHNOLOGIQUE",
          "UNIVERSITE RENNES 2",
          "ECOLE SUP. D'ART DRAMATIQUE",
          "I R T S",
          "UNIVERSITE RENNES 2",
          "UNIVERSITE RENNES 2",
          "ECOLE NORMALE SUP RENNES",
          "EC HTES ETUD SANTE PUB RENNES",
          "UNIVERSITE  BREST",
          "UNIVERSITE  BREST",
          "UNIVERSITE",
          "INSTITUT NATIONAL SCIENCES APP",
          "LYCEE POLYVALENT PRIVE",
          "LYCEE GEN.ET TECHNOL.PRIVE",
          "INST FORM MASSO-KINESITHERAPIE",
          "CENTRES FORM METIERS SANTE",
          "ECOLE TECHNIQUE PRIVEE",
          "ORGANISME FORMATION-CFA",
          "LP LYCEE DES METIERS",
          "LYCEE GENERAL",
          "CENTRES FORM METIERS SANTE",
          "UNIVERSITE  BREST",
          "UNIVERSITE RENNES 1",
          "UNIVERSITE RENNES 1",
          "UNIVERSITE RENNES 1",
          "UNIVERSITE",
          "INST ETUD POLITIQUES RENNES",
          "INST FORM MASSO-KINESITHERAPIE",
          "CENTRES FORM METIERS SANTE",
          "ECOLE",
          "LYCEE AGRICOLE PRIVE",
          "ECOLE TECHNIQUE PRIVEE",
          "E S R A  BRETAGNE",
          "CENTRE DE FORMATION",
          "ECOLE PRIVEE COIF ESTHETIQUE",
          "UNIVERSITE  BREST",
          "C F P N",
          "LYCEE AGRICOLE PRIVE",
          "ISTER",
          "FACULTES LIBRES DE L'OUEST",
          "UNIVERSITE  BREST",
          "UNIVERSITE",
          "UNIVERSITE",
          "UNIVERSITE",
          "UNIVERSITE",
          "UNIVERSITE",
          "UNIVERSITE",
          "LYCEE GENERAL ET TECHNOLOGIQUE",
          "UNIVERSITE  BREST",
          "UNIVERSITE  BREST",
          "UNIVERSITE RENNES 1",
          "LYCEE GENERAL",
          "GROUPE AFTEC",
          "INSTITUT NATIONAL",
          "LPO LYCEE DES METIERS",
          "I R T S",
          "C F P N",
          "UNIVERSITE RENNES 1",
          "UNIVERSITE RENNES 2",
          "ECOLE NORMALE SUP RENNES",
          "ECOLE POUR L'INFORMATIQUE",
          "ECOLE SUPERIEURE D'ART",
          "UNIVERSITE  BREST",
          "UNIVERSITE",
          "UNIVERSITE",
          "UNIVERSITE",
          "ECOLE",
          "ISTER",
          "ENS CHIMIE RENNES",
          "ENS CHIMIE RENNES",
          "LYC POLYVAL PRIVE des METIERS",
          "ECOLE TECHNIQUE PRIVEE",
          "LYC POLYVAL PRIVE DES METIERS",
          "ECOLE TECHNIQUE PRIVEE",
          "ECOLE SUPERIEURE DE COMMERCE",
          "UNIVERSITE  BREST",
          "UNIVERSITE",
          "INST ETUD POLITIQUES RENNES",
          "ECOLE SUPERIEURE TECHNIQUE PRI",
          "UNIVERSITE  BREST",
          "ECOLE SUPERIEURE D'ART",
          "IS SC AGRO HORT PAYSAGE RENNES",
          "LYCEE PROFESSIONNEL",
          "COMUE UNIV BRETAGNE LOIRE",
          "C F P N",
          "COMUE UNIV BRETAGNE LOIRE",
          "UNIVERSITE RENNES 1",
          "UNIVERSITE RENNES 1",
          "INST SUPERIEUR ARTS APPLIQUES",
          "LYC POLYVAL PRIVE des METIERS",
          "UNIVERSITE RENNES 2",
          "LYCEE POLYVALENT PRIVE",
          "UNIVERSITE  BREST",
          "UNIVERSITE  BREST",
          "UNIVERSITE  BREST",
          "UNIVERSITE RENNES 1",
          "CENTRES FORM METIERS SANTE",
          "INST NAT SC APPLIQ RENNES",
          "UNIVERSITE",
          "UNIVERSITE",
          "LYC POLYVAL PRIVE DES METIERS",
          "UNIVERSITE  BREST",
          "UNIVERSITE",
          "UNIVERSITE",
          "ECOLE TECH SUP PRIVEE INFORMAT",
          "UNIVERSITE RENNES 1",
          "UNIVERSITE RENNES 1",
          "UNIVERSITE RENNES 1",
          "UNIVERSITE",
          "INST SUPERIEUR ARTS APPLIQUES",
          "ECOLE SUPERIEURE D'ART",
          "ECOLE SUPERIEURE D'ART",
          "EC SUP GEST COMMERCE FINANCE",
          "ECOLE POUR L'INFORMATIQUE",
          "ECOLE TECH SUP PRIVEE INFORMAT",
          "INST ETUD POLITIQUES RENNES",
          "UNIVERSITE",
          "UNIVERSITE",
          "UNIVERSITE",
          "UNIVERSITE",
          "UNIVERSITE RENNES 1",
          "EC HTES ETUD SANTE PUB RENNES",
          "ECOLE SUPERIEURE DE COMMERCE",
          "UNIVERSITE  BREST",
          "LYC POLYVAL PRIVE des METIERS",
          "LYCEE GENERAL ET TECHNOLOGIQUE",
          "ECOLE REGIONALE DES BEAUX-ARTS",
          "UNIVERSITE RENNES 2",
          "UNIVERSITE RENNES 1",
          "POLE D'ENSEIGNEMENT SUPERIEUR",
          "LYCEE POLYVALENT PRIVE",
          "UNIVERSITE RENNES 1",
          "UNIVERSITE RENNES 2",
          "UNIVERSITE RENNES 1",
          "LP LYCEE DES METIERS",
          "LYCEE POLYVALENT PRIVE",
          "LYC POLYVAL PRIVE DES METIERS",
          "LYC POLYVAL PRIVE DES METIERS",
          "UNIVERSITE",
          "LYCEE GEN ET TECHNOL PRIVE",
          "UNIVERSITE  BREST",
          "UNIVERSITE",
          "INST ETUD POLITIQUES RENNES",
          "INST FORM MASSO-KINESITHERAPIE",
          "UNIVERSITE  BREST",
          "UNIVERSITE RENNES 1",
          "UNIVERSITE RENNES 1",
          "GROUPE AFTEC",
          "GROUPE AFTEC",
          "UNIVERSITE",
          "UNIVERSITE",
          "UNIVERSITE",
          "UNIVERSITE",
          "INST FORM MASSO-KINESITHERAPIE",
          "UNIVERSITE  BREST",
          "ECOLE SUP. D'ART DRAMATIQUE",
          "LYCEE GENERAL ET TECHNOLOGIQUE",
          "CENTRES FORM METIERS SANTE",
          "LYCEE GEN.ET TECHNOL.PRIVE",
          "LYC POLYVAL PRIVE DES METIERS",
          "UNIVERSITE RENNES 1",
          "UNIVERSITE",
          "INST ETUD POLITIQUES RENNES",
          "UNIVERSITE  BREST",
          "UNIVERSITE",
          "INST ETUD POLITIQUES RENNES",
          "UNIVERSITE",
          "UNIVERSITE",
          "UNIVERSITE",
          "UNIVERSITE RENNES 1",
          "UNIVERSITE RENNES 1",
          "UNIVERSITE RENNES 1",
          "UNIVERSITE RENNES 1",
          "INSTITUT SUPERIEUR D'OPTIQUE",
          "LE PONT SUPERIEUR",
          "COLLEGE COOPERATIF EN BRETAGNE",
          "UNIVERSITE  BREST",
          "UNIVERSITE  BREST",
          "UNIVERSITE RENNES 1",
          "UNIVERSITE RENNES 1",
          "UNIVERSITE RENNES 1",
          "UNIVERSITE",
          "EC INFORMATIQUE TECH AVANCEES",
          "INST NAT SC APPLIQ RENNES",
          "CENTRES FORM METIERS SANTE",
          "INSTITUT SUPERIEUR D'OPTIQUE",
          "SUP OUEST",
          "INSTITUT AGRO RENNES-ANGERS",
          "LYCEE PROFESSIONNEL",
          "CENTRE DE FORMATION",
          "GROUPE AFTEC",
          "LYCEE GENERAL",
          "ECOLE NAT. SUP. ARCHITECTURE",
          "UNIVERSITE",
          "ECOLE TECHNIQUE PRIVEE",
          "UNIVERSITE  BREST",
          "LYC POLYVAL PRIVE DES METIERS",
          "LYCEE AGRICOLE PRIVE",
          "UNIVERSITE  BREST",
          "UNIVERSITE",
          "UNIVERSITE",
          "UNIVERSITE",
          "UNIVERSITE",
          "UNIVERSITE",
          "INST FORM MASSO-KINESITHERAPIE",
          "ENS CHIMIE RENNES",
          "UNIVERSITE",
          "ECOLE TECHNIQUE PRIVEE",
          "ECOLE TECH SUP PRIVEE INFORMAT",
          "UNIVERSITE  BREST",
          "INST SUPERIEUR ARTS APPLIQUES",
          "ECOLE POUR L'INFORMATIQUE",
          "UNIVERSITE",
          "UNIVERSITE",
          "UNIVERSITE",
          "LYCEE GEN ET TECHNOL PRIVE",
          "LE PONT SUPERIEUR",
          "LE PONT SUPERIEUR",
          "LYC POLYVAL PRIVE DES METIERS",
          "LYCEE PROFESSIONNEL",
          "ECOLE SUP ET TECHNIQUE PRIVEE",
          "ECOLE POUR L'INFORMATIQUE",
          "IS SC AGRO HORT PAYSAGE RENNES",
          "SUP OUEST",
          "COMUE UNIV BRETAGNE LOIRE",
          "COMUE UNIV BRETAGNE LOIRE",
          "INSTITUT AGRO RENNES-ANGERS",
          "LYCEE GENERAL ET TECHNOLOGIQUE",
          null,
          "UNIVERSITE RENNES 1",
          "INST SUPERIEUR ARTS APPLIQUES",
          "UNIVERSITE RENNES 1",
          "LYCEE GENERAL ET TECHNOLOGIQUE",
          "I R T S",
          "LPO LYCEE DES METIERS",
          "EC SUP GEST COMMERCE FINANCE",
          "LYCEE GENERAL PRIVE",
          "LYCEE GENERAL PRIVE",
          "LYCEE GEN.ET TECHNOL.PRIVE",
          "UNIVERSITE  BREST",
          "UNIVERSITE",
          "UNIVERSITE",
          "UNIVERSITE",
          "ECOLE NAT. SUP. ARCHITECTURE",
          "E S R A  BRETAGNE",
          "E S R A  BRETAGNE",
          "UNIVERSITE",
          "UNIVERSITE",
          "ECOLE NAT. SUP. ARCHITECTURE",
          "INST FORM MASSO-KINESITHERAPIE",
          "LP LYCEE DES METIERS",
          "LYCEE GENERAL",
          "UNIVERSITE  BREST",
          "LE PONT SUPERIEUR",
          "INSTITUT SUPERIEUR D'OPTIQUE",
          "ECOLE TECHNIQUE PRIVEE",
          "GROUPE AFTEC",
          "CENTRES FORM METIERS SANTE",
          "INST FORM MASSO-KINESITHERAPIE",
          "ECOLE TECH SUP PRIVEE INFORMAT",
          "EC HTES ETUD SANTE PUB RENNES",
          "INST NAT SC APPLIQ RENNES",
          "INSTITUT AGRO RENNES-ANGERS",
          "ECOLE TECHNIQUE PRIVEE",
          "UNIVERSITE RENNES 1",
          "UNIVERSITE RENNES 1",
          "UNIVERSITE RENNES 1",
          "ISTER",
          "UNIVERSITE RENNES 2",
          "LYCEE POLYVALENT PRIVE",
          "LYCEE AGRICOLE PRIVE",
          "ISTER",
          "CENTRES FORM METIERS SANTE",
          "UNIVERSITE",
          "CENTRE DE FORMATION",
          "LYCEE GENERAL ET TECHNOLOGIQUE",
          "UNIVERSITE",
          "ECOLE NAT. SUP. ARCHITECTURE",
          "ECOLE TECH SUP PRIVEE INFORMAT",
          "ECOLE POUR L'INFORMATIQUE",
          "LYCEE POLYVALENT PRIVE",
          "UNIVERSITE RENNES 2",
          "UNIVERSITE RENNES 1",
          "UNIVERSITE RENNES 2",
          "ECOLE TECHNIQUE PRIVEE",
          "LP LYCEE DES METIERS",
          "LYCEE GENERAL ET TECHNOLOGIQUE",
          "UNIVERSITE  BREST",
          "LYCEE GEN.ET TECHNOL.PRIVE",
          "LYCEE PROFESSIONNEL",
          "UNIVERSITE RENNES 1",
          "UNIVERSITE RENNES 1",
          "INST FORM MASSO-KINESITHERAPIE",
          "UNIVERSITE RENNES 1",
          "UNIVERSITE RENNES 1",
          "INST SUPERIEUR ARTS APPLIQUES",
          "ECOLE TECH SUP PRIVEE INFORMAT",
          "ECOLE SUPERIEURE DE COMMERCE",
          "LYCEE GENERAL PRIVE",
          "ECOLE SUPERIEURE D'ART",
          "CENTRES FORM METIERS SANTE",
          "UNIVERSITE",
          null,
          "INSTITUT AGRO RENNES-ANGERS",
          "UNIVERSITE  BREST",
          "UNIVERSITE",
          "UNIVERSITE",
          "UNIVERSITE",
          "UNIVERSITE",
          "UNIVERSITE",
          "UNIVERSITE",
          "UNIVERSITE",
          "UNIVERSITE  BREST",
          "UNIVERSITE RENNES 1",
          "UNIVERSITE RENNES 1",
          "UNIVERSITE RENNES 1",
          "UNIVERSITE RENNES 1",
          "LYCEE GENERAL ET TECHNOLOGIQUE",
          "LYCEE PROFESSIONNEL",
          "ECOLE TECHNIQUE PRIVEE",
          "LYCEE GENERAL ET TECHNOLOGIQUE",
          "ECOLE SUPERIEURE DE COMMERCE",
          "EC SUP GEST COMMERCE FINANCE",
          "ECOLE DES METIERS SANITAIRES E",
          "ECOLE ASSISTANT SERVICE SOCIAL",
          "ECOLE SUPERIEURE D'ART",
          "INSTITUT AGRO RENNES-ANGERS",
          "CENTRES FORM METIERS SANTE",
          "ECOLE TECHNIQUE PRIVEE",
          "INSTITUT NATIONAL",
          "INST NAT SC APPLIQ RENNES",
          "EC SUP GEST COMMERCE FINANCE",
          "UNIVERSITE RENNES 1",
          "UNIVERSITE RENNES 1",
          "UNIVERSITE RENNES 2",
          "LYCEE POLYVALENT PRIVE",
          "INST SUPERIEUR ARTS APPLIQUES",
          "ECOLE TECH SUP PRIVEE INFORMAT",
          "UNIVERSITE  BREST",
          "UNIVERSITE",
          "UNIVERSITE",
          "UNIVERSITE",
          "UNIVERSITE",
          "UNIVERSITE",
          "EC SUP GEST COMMERCE FINANCE",
          "INST FORM AFFAIRES ET GESTION",
          "ECOLE PRIVEE COIF ESTHETIQUE",
          "UNIVERSITE RENNES 1",
          "UNIVERSITE RENNES 1",
          "UNIVERSITE RENNES 1",
          "UNIVERSITE RENNES 1",
          "EC HTES ETUD SANTE PUB RENNES",
          "ECOLE SUPERIEURE DE COMMERCE",
          "GROUPE AFTEC",
          "EC HTES ETUD SANTE PUB RENNES",
          "EC HTES ETUD SANTE PUB RENNES",
          "UNIVERSITE",
          "INST ETUD POLITIQUES RENNES",
          "UNIVERSITE",
          "UNIVERSITE",
          "UNIVERSITE",
          "UNIVERSITE",
          "UNIVERSITE",
          "E S R A  BRETAGNE",
          "INST SUPERIEUR ARTS APPLIQUES",
          "ECOLE SUPERIEURE DE COMMERCE",
          "EC SUP GEST COMMERCE FINANCE",
          "LYCEE GENERAL ET TECHNOLOGIQUE",
          "UNIVERSITE RENNES 1",
          "LYCEE GENERAL ET TECHNOLOGIQUE",
          "UNIVERSITE RENNES 2",
          "UNIVERSITE RENNES 1",
          "UNIVERSITE RENNES 1",
          "UNIVERSITE RENNES 1",
          "ECOLE",
          "LYC POLYVAL PRIVE DES METIERS",
          "CENTRES FORM METIERS SANTE",
          "UNIVERSITE RENNES 1",
          "UNIVERSITE RENNES 1",
          "UNIVERSITE",
          "UNIVERSITE",
          "CENTRES FORM METIERS SANTE",
          "UNIVERSITE  BREST",
          "UNIVERSITE",
          "EC SUP GEST COMMERCE FINANCE",
          "E S R A  BRETAGNE",
          "ECOLE TECHNIQUE PRIVEE",
          "ECOLE SUP ARTS TECHNIQUES MODE",
          "ECOLE SUPERIEURE DE COMMERCE",
          "LE PONT SUPERIEUR",
          "ECOLE SUPERIEURE D'ART",
          "GROUPE AFTEC",
          "UNIVERSITE RENNES 1",
          "INST ETUD POLITIQUES RENNES",
          "LYCEE PROFESSIONNEL",
          "UNIVERSITE  BREST",
          "UNIVERSITE RENNES 1",
          "UNIVERSITE RENNES 1",
          "UNIVERSITE RENNES 1",
          "UNIVERSITE",
          "UNIVERSITE RENNES 2",
          "ECOLE TECHNIQUE PRIVEE",
          "ECOLE SUP ARTS TECHNIQUES MODE",
          "ECOLE SUP. D'ART DRAMATIQUE",
          "UNIVERSITE  BREST",
          "UNIVERSITE  BREST",
          "ESMOD INTERNATIONAL",
          "INST NAT SC APPLIQ RENNES",
          "UNIVERSITE  BREST",
          "GROUPE AFTEC",
          "UNIVERSITE",
          "UNIVERSITE",
          "CENTRES FORM METIERS SANTE",
          "UNIVERSITE",
          "UNIVERSITE",
          "UNIVERSITE",
          "UNIVERSITE",
          "UNIVERSITE",
          "UNIVERSITE",
          "UNIVERSITE",
          "UNIVERSITE",
          "LP LYCEE DES METIERS",
          "ECOLE POUR L'INFORMATIQUE",
          "UNIVERSITE RENNES 1",
          "UNIVERSITE RENNES 1",
          "UNIVERSITE",
          "ORGANISME FORMATION-CFA",
          "UNIVERSITE  BREST",
          "UNIVERSITE",
          "UNIVERSITE",
          "UNIVERSITE",
          "UNIVERSITE",
          "UNIVERSITE",
          "UNIVERSITE",
          "ECOLE TECHNIQUE PRIVEE",
          "ECOLE",
          "ECOLE TECH SUP PRIVEE INFORMAT",
          "LYC POLYVAL PRIVE DES METIERS",
          "UNIVERSITE RENNES 1",
          "UNIVERSITE RENNES 2",
          "UNIVERSITE  BREST",
          "LYCEE GENERAL ET TECHNOLOGIQUE",
          "ECOLE POUR L'INFORMATIQUE",
          "GROUPE AFTEC",
          "ECOLE TECHNIQUE PRIVEE",
          "ECOLE SUPERIEURE DE COMMERCE",
          "ISTER",
          "ECOLE PRIVEE COIF ESTHETIQUE",
          "EC SUP GEST COMMERCE FINANCE",
          "EC SUP GEST COMMERCE FINANCE",
          "GROUPE AFTEC",
          "LPO LYCEE DES METIERS",
          "GROUPE AFTEC",
          "LE PONT SUPERIEUR",
          "ETAB SUPERIEUR TECHNIQUE PR",
          "UNIVERSITE",
          "UNIVERSITE",
          "UNIVERSITE",
          "UNIVERSITE",
          "ECOLE PRIVEE COIF ESTHETIQUE",
          "LP LYCEE DES METIERS",
          "UNIVERSITE RENNES 1",
          "LYCEE GENERAL ET TECHNOLOGIQUE",
          "UNIVERSITE RENNES 1",
          "UNIVERSITE RENNES 1",
          "INSTITUT AGRO RENNES-ANGERS",
          "ECOLE SUPERIEURE PRIVEE",
          "ETAB SUPERIEUR TECHNIQUE PR",
          "ECOLE SUP. D'ART DRAMATIQUE",
          "ECOLE TECHNIQUE PRIVEE",
          "ECOLE SUPERIEURE PRIVEE",
          "ECOLE SUPERIEURE DE COMMERCE",
          "EC INFORMATIQUE TECH AVANCEES",
          "LYCEE GENERAL ET TECHNOLOGIQUE",
          "ECOLE SUP. D'ART DRAMATIQUE",
          "IS SC AGRO HORT PAYSAGE RENNES",
          "LYC POLYVAL PRIVE des METIERS",
          "UNIVERSITE RENNES 2",
          "LYCEE GENERAL ET TECHNOLOGIQUE",
          "UNIVERSITE  BREST",
          "UNIVERSITE",
          "UNIVERSITE",
          "UNIVERSITE RENNES 1",
          "UNIVERSITE RENNES 1",
          "COMUE UNIV BRETAGNE LOIRE",
          "E S R A  BRETAGNE",
          "UNIVERSITE RENNES 1",
          "INST SUPERIEUR ARTS APPLIQUES",
          "UNIVERSITE",
          "UNIVERSITE",
          "UNIVERSITE",
          "UNIVERSITE",
          "EC HTES ETUD SANTE PUB RENNES",
          "UNIVERSITE RENNES 1",
          "ENS CHIMIE RENNES",
          "LYCEE GENERAL ET TECHNOLOGIQUE",
          "CTRE PREPA CARR SOC PARAMEDIC",
          "LYCEE PROFESSIONNEL",
          "INSTITUT NATIONAL",
          "UNIVERSITE RENNES 1",
          "UNIVERSITE RENNES 1",
          "UNIVERSITE RENNES 1",
          "UNIVERSITE RENNES 1",
          "UNIVERSITE RENNES 1",
          "UNIVERSITE",
          "GROUPE AFTEC",
          "EC INFORMATIQUE TECH AVANCEES",
          "LYCEE GENERAL ET TECHNOLOGIQUE",
          "UNIVERSITE",
          "UNIVERSITE",
          "UNIVERSITE",
          "UNIVERSITE",
          "ECOLE SUP ARTS TECHNIQUES MODE",
          "UNIVERSITE  BREST",
          "UNIVERSITE RENNES 2",
          "ECOLE NAT. SUP. ARCHITECTURE",
          "UNIVERSITE RENNES 1",
          "UNIVERSITE RENNES 1",
          "UNIVERSITE",
          "COMUE UNIV BRETAGNE LOIRE",
          "UNIVERSITE",
          "ECOLE POUR L'INFORMATIQUE",
          "ETAB SUPERIEUR TECHNIQUE PR",
          "GROUPE AFTEC",
          "EC INFORMATIQUE TECH AVANCEES",
          "LYCEE GENERAL ET TECHNOLOGIQUE",
          "LYCEE AGRICOLE PRIVE",
          "UNIVERSITE",
          "INST ETUD POLITIQUES RENNES",
          "LP LYCEE DES METIERS",
          "ECOLE NAT. SUP. ARCHITECTURE",
          "ECOLE SUP. D'ART DRAMATIQUE",
          "CENTRES FORM METIERS SANTE",
          "INSTITUT SUPERIEUR D'OPTIQUE",
          "UNIVERSITE",
          "ECOLE TECH SUP PRIVEE INFORMAT",
          "EC HTES ETUD SANTE PUB RENNES",
          "UNIVERSITE  BREST",
          "INSTITUT SUPERIEUR D'OPTIQUE",
          "COMUE UNIV BRETAGNE LOIRE",
          "EC HTES ETUD SANTE PUB RENNES",
          "UNIVERSITE RENNES 1",
          "LYCEE GENERAL PRIVE",
          "LYCEE GENERAL ET TECHNOLOGIQUE",
          "ECOLE TECH SUP PRIVEE INFORMAT",
          "UNIVERSITE",
          "LYC POLYVAL PRIVE DES METIERS",
          "LYCEE GENERAL ET TECHNOLOGIQUE",
          "CENTRES FORM METIERS SANTE",
          "ECOLE TECHNIQUE PRIVEE",
          "ECOLE SUPERIEURE PRIVEE",
          "UNIVERSITE  BREST",
          "UNIVERSITE  BREST",
          "UNIVERSITE  BREST",
          "UNIVERSITE",
          "UNIVERSITE",
          "UNIVERSITE",
          "UNIVERSITE",
          "UNIVERSITE",
          "UNIVERSITE RENNES 1",
          "UNIVERSITE RENNES 2",
          "ENS CHIMIE RENNES",
          "INSTITUT AGRO RENNES-ANGERS",
          "UNIVERSITE RENNES 1",
          "UNIVERSITE RENNES 2",
          "ECOLE NAT. SUP. ARCHITECTURE",
          "LE PONT SUPERIEUR",
          "EC HTES ETUD SANTE PUB RENNES",
          "LYCEE POLYVALENT PRIVE",
          "UNIVERSITE RENNES 1",
          "SUP OUEST",
          "UNIVERSITE  BREST",
          "E S R A  BRETAGNE",
          "ECOLE SUP. D'ART DRAMATIQUE",
          "LYCEE GENERAL ET TECHNOLOGIQUE",
          "LP LYCEE DES METIERS",
          "CENTRES FORM METIERS SANTE",
          "INSTITUT AGRO RENNES-ANGERS",
          "LYC POLYVAL PRIVE DES METIERS",
          "EC INFORMATIQUE TECH AVANCEES",
          "UNIVERSITE  BREST",
          "UNIVERSITE",
          "UNIVERSITE",
          "INST ETUD POLITIQUES RENNES",
          "UNIVERSITE",
          "UNIVERSITE  BREST",
          "UNIVERSITE  BREST",
          "UNIVERSITE",
          "UNIVERSITE",
          "UNIVERSITE",
          "E S R A  BRETAGNE",
          "ECOLE SUPERIEURE D'ART",
          "EC HTES ETUD SANTE PUB RENNES",
          "ISTER",
          "UNIVERSITE",
          "UNIVERSITE  BREST",
          "UNIVERSITE  BREST",
          "UNIVERSITE  BREST",
          "UNIVERSITE",
          "UNIVERSITE",
          "UNIVERSITE",
          "UNIVERSITE",
          "UNIVERSITE",
          "UNIVERSITE RENNES 1",
          "UNIVERSITE RENNES 2",
          "ECOLE NAT. SUP. ARCHITECTURE",
          "UNIVERSITE RENNES 1",
          "UNIVERSITE RENNES 1",
          "UNIVERSITE RENNES 1",
          "UNIVERSITE",
          "UNIVERSITE",
          "EC INFORMATIQUE TECH AVANCEES",
          "LP LYCEE DES METIERS",
          "LYCEE GEN ET TECHNOL PRIVE",
          "UNIVERSITE RENNES 2",
          "ECOLE SUP. D'ART DRAMATIQUE",
          "ECOLE NORMALE SUP RENNES",
          "ECOLE SUPERIEURE DE COMMERCE",
          "UNIVERSITE",
          "INST ETUD POLITIQUES RENNES",
          "UNIVERSITE",
          "UNIVERSITE",
          "UNIVERSITE  BREST",
          "UNIVERSITE RENNES 2",
          "ECOLE NAT. SUP. ARCHITECTURE",
          "ECOLE SUPERIEURE D'ART",
          "INSTITUT NATIONAL",
          "UNIVERSITE RENNES 1",
          "LYCEE GENERAL ET TECHNOLOGIQUE",
          "LP LYCEE DES METIERS",
          "LYCEE GENERAL ET TECHNOLOGIQUE",
          "UNIVERSITE  BREST",
          "UNIVERSITE RENNES 1",
          "COMUE UNIV BRETAGNE LOIRE",
          "SUP OUEST",
          "INST SUPERIEUR ARTS APPLIQUES",
          "CENTRE DE FORMATION",
          "LYCEE GENERAL ET TECHNOLOGIQUE",
          "UNIVERSITE  BREST",
          "UNIVERSITE",
          "LE PONT SUPERIEUR",
          "ECOLE SUPERIEURE D'ART",
          "ECOLE POUR L'INFORMATIQUE",
          "UNIVERSITE RENNES 1",
          "GROUPE AFTEC",
          "INSTITUT NATIONAL SCIENCES APP",
          "ECOLE SUPERIEURE TECHNIQUE PRI",
          "CENTRE DE FORMATION",
          "ECOLE DES METIERS SANITAIRES E",
          "ECOLE SUPERIEURE PRIVEE",
          "ECOLE TECHNIQUE SUPERIEURE PRI",
          "INST ETUD POLITIQUES RENNES",
          "UNIVERSITE",
          "UNIVERSITE",
          "UNIVERSITE",
          "UNIVERSITE",
          "UNIVERSITE",
          "UNIVERSITE",
          "ECOLE POUR L'INFORMATIQUE",
          "ECOLE TECH SUP PRIVEE INFORMAT",
          "ECOLE NAT. SUP. ARCHITECTURE",
          "ECOLE TECHNIQUE PRIVEE",
          "ECOLE SUP ET TECHNIQUE PRIVEE",
          "SUP OUEST",
          "LYCEE GEN.ET TECHNOL.PRIVE",
          "LYCEE AGRICOLE PRIVE",
          "UNIVERSITE  BREST",
          "ECOLE SUPERIEURE D'ART",
          "INSTITUT SUPERIEUR D'OPTIQUE",
          "ECOLE TECHNIQUE SUPERIEURE PRI",
          "LYCEE POLYVALENT PRIVE",
          "LYC POLYVAL PRIVE DES METIERS",
          "LYCEE GENERAL ET TECHNOLOGIQUE",
          "SUP OUEST",
          "ETAB SUPERIEUR TECHNIQUE PR",
          "LYCEE GENERAL ET TECHNOLOGIQUE",
          "UNIVERSITE RENNES 1",
          "UNIVERSITE RENNES 1",
          "LYCEE GENERAL ET TECHNOLOGIQUE",
          "E S R A  BRETAGNE",
          "INST SUPERIEUR ARTS APPLIQUES",
          "ECOLE DES METIERS SANITAIRES E",
          "INSTITUT AGRO RENNES-ANGERS",
          "LYCEE GENERAL ET TECHNOLOGIQUE",
          "LP LYCEE DES METIERS",
          "UNIVERSITE",
          "UNIVERSITE",
          "UNIVERSITE",
          "ECOLE NAT. SUP. ARCHITECTURE",
          "INST SUPERIEUR ARTS APPLIQUES",
          "UNIVERSITE",
          "ECOLE",
          "LYC POLYVAL PRIVE des METIERS",
          "UNIVERSITE RENNES 2",
          "GROUPE AFTEC",
          "GROUPE AFTEC",
          "UNIVERSITE  BREST",
          "UNIVERSITE RENNES 2",
          "INSTITUT SUPERIEUR D'OPTIQUE",
          "ECOLE SUPERIEURE DE COMMERCE",
          "GROUPE AFTEC",
          "UNIVERSITE RENNES 1",
          "COMUE UNIV BRETAGNE LOIRE",
          "EC HTES ETUD SANTE PUB RENNES",
          "ECOLE TECHNIQUE PRIVEE",
          "IS SC AGRO HORT PAYSAGE RENNES",
          "CENTRE DE FORMATION",
          "IS SC AGRO HORT PAYSAGE RENNES",
          "LYCEE GEN ET TECHNOL PRIVE",
          "UNIVERSITE",
          "UNIVERSITE",
          "UNIVERSITE",
          "UNIVERSITE",
          "UNIVERSITE",
          "LE PONT SUPERIEUR",
          "INSTITUT NATIONAL",
          "LYCEE GENERAL",
          "ECOLE TECHNIQUE PRIVEE",
          "ECOLE TECHNIQUE PRIVEE",
          "UNIVERSITE RENNES 1",
          "LYCEE GENERAL ET TECHNOLOGIQUE",
          "LP LYCEE DES METIERS",
          "UNIVERSITE RENNES 1",
          "UNIVERSITE RENNES 1",
          "LYCEE GEN ET TECHNOL PRIVE",
          "ECOLE SUPERIEURE DE COMMERCE",
          "UNIVERSITE",
          "UNIVERSITE",
          "UNIVERSITE",
          "UNIVERSITE  BREST",
          "INSTITUT NATIONAL SCIENCES APP",
          "UNIVERSITE  BREST",
          "UNIVERSITE  BREST",
          "UNIVERSITE",
          "UNIVERSITE",
          "UNIVERSITE",
          "GROUPE AFTEC",
          "UNIVERSITE",
          "UNIVERSITE",
          "LP LYCEE DES METIERS",
          "LYCEE GENERAL",
          "ECOLE SUPERIEURE DE COMMERCE",
          "LYCEE GENERAL ET TECHNOLOGIQUE",
          "INST NAT SC APPLIQ RENNES",
          "ETAB SUPERIEUR TECHNIQUE PR",
          "LYCEE GEN.ET TECHNOL.PRIVE",
          "INST SUPERIEUR ARTS APPLIQUES",
          "ECOLE TECH SUP PRIVEE INFORMAT",
          "LYCEE GENERAL ET TECHNOLOGIQUE",
          "ETAB SUPERIEUR TECHNIQUE PR",
          "ECOLE SUP ARTS TECHNIQUES MODE",
          "INST SUPERIEUR ARTS APPLIQUES",
          "EC SUP GEST COMMERCE FINANCE",
          "EC SUP GEST COMMERCE FINANCE",
          "ENS CHIMIE RENNES",
          "INSTITUT NATIONAL SCIENCES APP",
          "LYCEE GENERAL ET TECHNOLOGIQUE",
          "LP LYCEE DES METIERS",
          "ENS CHIMIE RENNES",
          "UNIVERSITE",
          "CENTRES FORM METIERS SANTE",
          "UNIVERSITE",
          "UNIVERSITE",
          "ECOLE TECHNIQUE PRIVEE",
          "ETAB SUPERIEUR TECHNIQUE PR",
          "UNIVERSITE",
          "UNIVERSITE",
          "UNIVERSITE",
          "UNIVERSITE",
          "INST NAT SC APPLIQ RENNES",
          "EC SUP GEST COMMERCE FINANCE",
          "GROUPE AFTEC",
          "ENS CHIMIE RENNES",
          "INST SUPERIEUR ARTS APPLIQUES",
          "ECOLE DES METIERS SANITAIRES E",
          "COMUE UNIV BRETAGNE LOIRE",
          "ECOLE TECHNIQUE PRIVEE",
          "LP LYCEE DES METIERS",
          "UNIVERSITE RENNES 1",
          "UNIVERSITE",
          "UNIVERSITE",
          "UNIVERSITE",
          "UNIVERSITE",
          "ECOLE",
          "SUP OUEST",
          "UNIVERSITE  BREST",
          "UNIVERSITE RENNES 1",
          "UNIVERSITE RENNES 1",
          "UNIVERSITE RENNES 2",
          "INSTITUT AGRO RENNES-ANGERS",
          "INSTITUT NATIONAL SCIENCES APP",
          "LYCEE GEN.ET TECHNOL.PRIVE",
          "INST NAT SC APPLIQ RENNES",
          "LYCEE GEN ET TECHNOL PRIVE",
          "LYCEE GENERAL PRIVE",
          "LYCEE GENERAL ET TECHNOLOGIQUE",
          "INST FORM MASSO-KINESITHERAPIE",
          "E S R A  BRETAGNE",
          "ETAB SUPERIEUR TECHNIQUE PR",
          "FACULTES LIBRES DE L'OUEST",
          "UNIVERSITE  BREST",
          "ECOLE DES METIERS SANITAIRES E",
          "ECOLE NAT. SUP. ARCHITECTURE",
          "ECOLE SUPERIEURE DE COMMERCE",
          "GROUPE AFTEC",
          "ECOLE SUPERIEURE DE COMMERCE",
          "ECOLE NAT. SUP. ARCHITECTURE",
          "UNIVERSITE  BREST",
          "UNIVERSITE  BREST",
          "UNIVERSITE  BREST",
          "UNIVERSITE RENNES 2",
          "LYCEE PROFESSIONNEL",
          "GROUPE AFTEC",
          "SUP OUEST",
          "UNIVERSITE RENNES 1",
          "LYCEE GENERAL ET TECHNOLOGIQUE",
          "LYCEE AGRICOLE PRIVE",
          "LP LYCEE DES METIERS",
          "UNIVERSITE RENNES 1",
          "UNIVERSITE RENNES 1",
          "UNIVERSITE RENNES 2",
          "LYC POLYVAL PRIVE DES METIERS",
          "ECOLE TECHNIQUE PRIVEE",
          "LP LYCEE DES METIERS",
          "LYCEE GENERAL ET TECHNOLOGIQUE",
          "ECOLE DES METIERS SANITAIRES E",
          "UNIVERSITE  BREST",
          "UNIVERSITE",
          "ORGANISME FORMATION-CFA",
          "GROUPE AFTEC",
          "UNIVERSITE RENNES 1",
          "EC INFORMATIQUE TECH AVANCEES",
          "LYCEE GENERAL ET TECHNOLOGIQUE",
          "UNIVERSITE RENNES 1",
          "UNIVERSITE RENNES 1",
          "COMUE UNIV BRETAGNE LOIRE",
          "LYC POLYVAL PRIVE des METIERS",
          "ECOLE TECHNIQUE PRIVEE",
          "UNIVERSITE RENNES 1",
          "ECOLE POUR L'INFORMATIQUE",
          "ETAB SUPERIEUR TECHNIQUE PR",
          "ORGANISME FORMATION-CFA",
          "ECOLE NAT. SUP. ARCHITECTURE",
          "LYCEE GENERAL PRIVE",
          "UNIVERSITE RENNES 2",
          "ECOLE DES METIERS SANITAIRES E",
          "UNIVERSITE RENNES 1",
          "ECOLE NAT. SUP. ARCHITECTURE",
          "ISTER",
          "EC SUP GEST COMMERCE FINANCE",
          "INSTITUT AGRO RENNES-ANGERS",
          "UNIVERSITE RENNES 1",
          "LYCEE GENERAL ET TECHNOLOGIQUE",
          "UNIVERSITE RENNES 2",
          "ECOLE TECHNIQUE PRIVEE",
          "ENS CHIMIE RENNES",
          "LYCEE POLYVALENT PRIVE",
          "UNIVERSITE",
          "INST ETUD POLITIQUES RENNES",
          "UNIVERSITE",
          "ECOLE SUPERIEURE DE COMMERCE",
          "UNIVERSITE",
          "UNIVERSITE",
          "UNIVERSITE",
          "UNIVERSITE",
          "UNIVERSITE RENNES 2",
          "INSTITUT NATIONAL",
          "UNIVERSITE RENNES 1",
          "LYCEE POLYVALENT PRIVE",
          "CENTRES FORM METIERS SANTE",
          "UNIVERSITE RENNES 2",
          "UNIVERSITE RENNES 2",
          "LPO LYCEE DES METIERS",
          "COMUE UNIV BRETAGNE LOIRE",
          "C F P N",
          "UNIVERSITE  BREST",
          "UNIVERSITE  BREST",
          "UNIVERSITE RENNES 1",
          "UNIVERSITE",
          "UNIVERSITE",
          "ECOLE TECH SUP PRIVEE INFORMAT",
          "UNIVERSITE  BREST",
          "UNIVERSITE RENNES 1",
          "UNIVERSITE RENNES 1",
          "UNIVERSITE RENNES 1",
          "UNIVERSITE RENNES 1",
          "UNIVERSITE RENNES 1",
          "UNIVERSITE",
          "UNIVERSITE",
          "INST ETUD POLITIQUES RENNES",
          "ECOLE NAT. SUP. ARCHITECTURE",
          "ECOLE SUP ARTS TECHNIQUES MODE",
          "INST SUPERIEUR ARTS APPLIQUES",
          "ECOLE SUPERIEURE DE COMMERCE",
          "UNIVERSITE",
          "UNIVERSITE",
          "UNIVERSITE  BREST",
          "UNIVERSITE  BREST",
          "UNIVERSITE RENNES 1",
          "UNIVERSITE RENNES 1",
          "UNIVERSITE RENNES 1",
          "UNIVERSITE RENNES 1",
          "UNIVERSITE RENNES 1",
          "UNIVERSITE",
          "LYCEE GEN.ET TECHNOL.PRIVE",
          "UNIVERSITE",
          "UNIVERSITE",
          "UNIVERSITE",
          "UNIVERSITE",
          "UNIVERSITE",
          "UNIVERSITE",
          "ECOLE TECHNIQUE PRIVEE",
          "ECOLE SUPERIEURE D'ART",
          "INST NAT SC APPLIQ RENNES",
          "UNIVERSITE RENNES 1",
          "UNIVERSITE RENNES 2",
          "CENTRES FORM METIERS SANTE",
          "INST SUPERIEUR ARTS APPLIQUES",
          "UNIVERSITE  BREST",
          "UNIVERSITE",
          "UNIVERSITE",
          "UNIVERSITE",
          "UNIVERSITE",
          "UNIVERSITE",
          "UNIVERSITE",
          "ECOLE SUP. D'ART DRAMATIQUE",
          "LPO LYCEE DES METIERS",
          "ECOLE DES METIERS SANITAIRES E",
          "COLLEGE COOPERATIF EN BRETAGNE",
          "UNIVERSITE RENNES 2",
          "LPO LYCEE DES METIERS",
          "LYCEE AGRICOLE PRIVE",
          "LYCEE GENERAL ET TECHNOLOGIQUE",
          "INST FORM MASSO-KINESITHERAPIE",
          "CENTRES FORM METIERS SANTE",
          "UNIVERSITE  BREST",
          "UNIVERSITE",
          "UNIVERSITE",
          "UNIVERSITE",
          "UNIVERSITE",
          "UNIVERSITE RENNES 1",
          "EC HTES ETUD SANTE PUB RENNES",
          "ECOLE TECHNIQUE PRIVEE",
          "LPO LYCEE DES METIERS",
          "LYC POLYVAL PRIVE DES METIERS",
          "UNIVERSITE  BREST",
          "UNIVERSITE RENNES 2",
          "LYCEE GEN ET TECHNOL PRIVE",
          "LYC POLYVAL PRIVE DES METIERS",
          "LYCEE GENERAL ET TECHNOLOGIQUE",
          "UNIVERSITE RENNES 1",
          "ECOLE DES METIERS SANITAIRES E",
          "UNIVERSITE RENNES 1",
          "ECOLE NAT. SUP. ARCHITECTURE",
          "ECOLE SUP ARTS TECHNIQUES MODE",
          "UNIVERSITE RENNES 1",
          "COMUE UNIV BRETAGNE LOIRE",
          "ECOLE SUP ARTS TECHNIQUES MODE",
          "INSTITUT SUPERIEUR D'OPTIQUE",
          "UNIVERSITE",
          "UNIVERSITE",
          "LP LYCEE DES METIERS",
          "ENS CHIMIE RENNES",
          "INST NAT SC APPLIQ RENNES",
          "UNIVERSITE",
          "UNIVERSITE",
          "UNIVERSITE",
          "ENS CHIMIE RENNES",
          "UNIVERSITE RENNES 2",
          "UNIVERSITE RENNES 2",
          "LYCEE GENERAL",
          "UNIVERSITE RENNES 1",
          "UNIVERSITE RENNES 1",
          "UNIVERSITE RENNES 1"
         ],
         "type": "scattermapbox"
        }
       ],
       "layout": {
        "coloraxis": {
         "colorbar": {
          "title": {
           "text": "students_per_km2"
          }
         },
         "colorscale": [
          [
           0,
           "rgb(255,255,204)"
          ],
          [
           0.125,
           "rgb(255,237,160)"
          ],
          [
           0.25,
           "rgb(254,217,118)"
          ],
          [
           0.375,
           "rgb(254,178,76)"
          ],
          [
           0.5,
           "rgb(253,141,60)"
          ],
          [
           0.625,
           "rgb(252,78,42)"
          ],
          [
           0.75,
           "rgb(227,26,28)"
          ],
          [
           0.875,
           "rgb(189,0,38)"
          ],
          [
           1,
           "rgb(128,0,38)"
          ]
         ]
        },
        "legend": {
         "tracegroupgap": 0
        },
        "mapbox": {
         "center": {
          "lat": 48.117,
          "lon": -1.677
         },
         "domain": {
          "x": [
           0,
           1
          ],
          "y": [
           0,
           1
          ]
         },
         "style": "carto-positron",
         "zoom": 12
        },
        "margin": {
         "b": 0,
         "l": 0,
         "r": 0,
         "t": 50
        },
        "template": {
         "data": {
          "bar": [
           {
            "error_x": {
             "color": "#2a3f5f"
            },
            "error_y": {
             "color": "#2a3f5f"
            },
            "marker": {
             "line": {
              "color": "#E5ECF6",
              "width": 0.5
             },
             "pattern": {
              "fillmode": "overlay",
              "size": 10,
              "solidity": 0.2
             }
            },
            "type": "bar"
           }
          ],
          "barpolar": [
           {
            "marker": {
             "line": {
              "color": "#E5ECF6",
              "width": 0.5
             },
             "pattern": {
              "fillmode": "overlay",
              "size": 10,
              "solidity": 0.2
             }
            },
            "type": "barpolar"
           }
          ],
          "carpet": [
           {
            "aaxis": {
             "endlinecolor": "#2a3f5f",
             "gridcolor": "white",
             "linecolor": "white",
             "minorgridcolor": "white",
             "startlinecolor": "#2a3f5f"
            },
            "baxis": {
             "endlinecolor": "#2a3f5f",
             "gridcolor": "white",
             "linecolor": "white",
             "minorgridcolor": "white",
             "startlinecolor": "#2a3f5f"
            },
            "type": "carpet"
           }
          ],
          "choropleth": [
           {
            "colorbar": {
             "outlinewidth": 0,
             "ticks": ""
            },
            "type": "choropleth"
           }
          ],
          "contour": [
           {
            "colorbar": {
             "outlinewidth": 0,
             "ticks": ""
            },
            "colorscale": [
             [
              0,
              "#0d0887"
             ],
             [
              0.1111111111111111,
              "#46039f"
             ],
             [
              0.2222222222222222,
              "#7201a8"
             ],
             [
              0.3333333333333333,
              "#9c179e"
             ],
             [
              0.4444444444444444,
              "#bd3786"
             ],
             [
              0.5555555555555556,
              "#d8576b"
             ],
             [
              0.6666666666666666,
              "#ed7953"
             ],
             [
              0.7777777777777778,
              "#fb9f3a"
             ],
             [
              0.8888888888888888,
              "#fdca26"
             ],
             [
              1,
              "#f0f921"
             ]
            ],
            "type": "contour"
           }
          ],
          "contourcarpet": [
           {
            "colorbar": {
             "outlinewidth": 0,
             "ticks": ""
            },
            "type": "contourcarpet"
           }
          ],
          "heatmap": [
           {
            "colorbar": {
             "outlinewidth": 0,
             "ticks": ""
            },
            "colorscale": [
             [
              0,
              "#0d0887"
             ],
             [
              0.1111111111111111,
              "#46039f"
             ],
             [
              0.2222222222222222,
              "#7201a8"
             ],
             [
              0.3333333333333333,
              "#9c179e"
             ],
             [
              0.4444444444444444,
              "#bd3786"
             ],
             [
              0.5555555555555556,
              "#d8576b"
             ],
             [
              0.6666666666666666,
              "#ed7953"
             ],
             [
              0.7777777777777778,
              "#fb9f3a"
             ],
             [
              0.8888888888888888,
              "#fdca26"
             ],
             [
              1,
              "#f0f921"
             ]
            ],
            "type": "heatmap"
           }
          ],
          "histogram": [
           {
            "marker": {
             "pattern": {
              "fillmode": "overlay",
              "size": 10,
              "solidity": 0.2
             }
            },
            "type": "histogram"
           }
          ],
          "histogram2d": [
           {
            "colorbar": {
             "outlinewidth": 0,
             "ticks": ""
            },
            "colorscale": [
             [
              0,
              "#0d0887"
             ],
             [
              0.1111111111111111,
              "#46039f"
             ],
             [
              0.2222222222222222,
              "#7201a8"
             ],
             [
              0.3333333333333333,
              "#9c179e"
             ],
             [
              0.4444444444444444,
              "#bd3786"
             ],
             [
              0.5555555555555556,
              "#d8576b"
             ],
             [
              0.6666666666666666,
              "#ed7953"
             ],
             [
              0.7777777777777778,
              "#fb9f3a"
             ],
             [
              0.8888888888888888,
              "#fdca26"
             ],
             [
              1,
              "#f0f921"
             ]
            ],
            "type": "histogram2d"
           }
          ],
          "histogram2dcontour": [
           {
            "colorbar": {
             "outlinewidth": 0,
             "ticks": ""
            },
            "colorscale": [
             [
              0,
              "#0d0887"
             ],
             [
              0.1111111111111111,
              "#46039f"
             ],
             [
              0.2222222222222222,
              "#7201a8"
             ],
             [
              0.3333333333333333,
              "#9c179e"
             ],
             [
              0.4444444444444444,
              "#bd3786"
             ],
             [
              0.5555555555555556,
              "#d8576b"
             ],
             [
              0.6666666666666666,
              "#ed7953"
             ],
             [
              0.7777777777777778,
              "#fb9f3a"
             ],
             [
              0.8888888888888888,
              "#fdca26"
             ],
             [
              1,
              "#f0f921"
             ]
            ],
            "type": "histogram2dcontour"
           }
          ],
          "mesh3d": [
           {
            "colorbar": {
             "outlinewidth": 0,
             "ticks": ""
            },
            "type": "mesh3d"
           }
          ],
          "parcoords": [
           {
            "line": {
             "colorbar": {
              "outlinewidth": 0,
              "ticks": ""
             }
            },
            "type": "parcoords"
           }
          ],
          "pie": [
           {
            "automargin": true,
            "type": "pie"
           }
          ],
          "scatter": [
           {
            "fillpattern": {
             "fillmode": "overlay",
             "size": 10,
             "solidity": 0.2
            },
            "type": "scatter"
           }
          ],
          "scatter3d": [
           {
            "line": {
             "colorbar": {
              "outlinewidth": 0,
              "ticks": ""
             }
            },
            "marker": {
             "colorbar": {
              "outlinewidth": 0,
              "ticks": ""
             }
            },
            "type": "scatter3d"
           }
          ],
          "scattercarpet": [
           {
            "marker": {
             "colorbar": {
              "outlinewidth": 0,
              "ticks": ""
             }
            },
            "type": "scattercarpet"
           }
          ],
          "scattergeo": [
           {
            "marker": {
             "colorbar": {
              "outlinewidth": 0,
              "ticks": ""
             }
            },
            "type": "scattergeo"
           }
          ],
          "scattergl": [
           {
            "marker": {
             "colorbar": {
              "outlinewidth": 0,
              "ticks": ""
             }
            },
            "type": "scattergl"
           }
          ],
          "scattermap": [
           {
            "marker": {
             "colorbar": {
              "outlinewidth": 0,
              "ticks": ""
             }
            },
            "type": "scattermap"
           }
          ],
          "scattermapbox": [
           {
            "marker": {
             "colorbar": {
              "outlinewidth": 0,
              "ticks": ""
             }
            },
            "type": "scattermapbox"
           }
          ],
          "scatterpolar": [
           {
            "marker": {
             "colorbar": {
              "outlinewidth": 0,
              "ticks": ""
             }
            },
            "type": "scatterpolar"
           }
          ],
          "scatterpolargl": [
           {
            "marker": {
             "colorbar": {
              "outlinewidth": 0,
              "ticks": ""
             }
            },
            "type": "scatterpolargl"
           }
          ],
          "scatterternary": [
           {
            "marker": {
             "colorbar": {
              "outlinewidth": 0,
              "ticks": ""
             }
            },
            "type": "scatterternary"
           }
          ],
          "surface": [
           {
            "colorbar": {
             "outlinewidth": 0,
             "ticks": ""
            },
            "colorscale": [
             [
              0,
              "#0d0887"
             ],
             [
              0.1111111111111111,
              "#46039f"
             ],
             [
              0.2222222222222222,
              "#7201a8"
             ],
             [
              0.3333333333333333,
              "#9c179e"
             ],
             [
              0.4444444444444444,
              "#bd3786"
             ],
             [
              0.5555555555555556,
              "#d8576b"
             ],
             [
              0.6666666666666666,
              "#ed7953"
             ],
             [
              0.7777777777777778,
              "#fb9f3a"
             ],
             [
              0.8888888888888888,
              "#fdca26"
             ],
             [
              1,
              "#f0f921"
             ]
            ],
            "type": "surface"
           }
          ],
          "table": [
           {
            "cells": {
             "fill": {
              "color": "#EBF0F8"
             },
             "line": {
              "color": "white"
             }
            },
            "header": {
             "fill": {
              "color": "#C8D4E3"
             },
             "line": {
              "color": "white"
             }
            },
            "type": "table"
           }
          ]
         },
         "layout": {
          "annotationdefaults": {
           "arrowcolor": "#2a3f5f",
           "arrowhead": 0,
           "arrowwidth": 1
          },
          "autotypenumbers": "strict",
          "coloraxis": {
           "colorbar": {
            "outlinewidth": 0,
            "ticks": ""
           }
          },
          "colorscale": {
           "diverging": [
            [
             0,
             "#8e0152"
            ],
            [
             0.1,
             "#c51b7d"
            ],
            [
             0.2,
             "#de77ae"
            ],
            [
             0.3,
             "#f1b6da"
            ],
            [
             0.4,
             "#fde0ef"
            ],
            [
             0.5,
             "#f7f7f7"
            ],
            [
             0.6,
             "#e6f5d0"
            ],
            [
             0.7,
             "#b8e186"
            ],
            [
             0.8,
             "#7fbc41"
            ],
            [
             0.9,
             "#4d9221"
            ],
            [
             1,
             "#276419"
            ]
           ],
           "sequential": [
            [
             0,
             "#0d0887"
            ],
            [
             0.1111111111111111,
             "#46039f"
            ],
            [
             0.2222222222222222,
             "#7201a8"
            ],
            [
             0.3333333333333333,
             "#9c179e"
            ],
            [
             0.4444444444444444,
             "#bd3786"
            ],
            [
             0.5555555555555556,
             "#d8576b"
            ],
            [
             0.6666666666666666,
             "#ed7953"
            ],
            [
             0.7777777777777778,
             "#fb9f3a"
            ],
            [
             0.8888888888888888,
             "#fdca26"
            ],
            [
             1,
             "#f0f921"
            ]
           ],
           "sequentialminus": [
            [
             0,
             "#0d0887"
            ],
            [
             0.1111111111111111,
             "#46039f"
            ],
            [
             0.2222222222222222,
             "#7201a8"
            ],
            [
             0.3333333333333333,
             "#9c179e"
            ],
            [
             0.4444444444444444,
             "#bd3786"
            ],
            [
             0.5555555555555556,
             "#d8576b"
            ],
            [
             0.6666666666666666,
             "#ed7953"
            ],
            [
             0.7777777777777778,
             "#fb9f3a"
            ],
            [
             0.8888888888888888,
             "#fdca26"
            ],
            [
             1,
             "#f0f921"
            ]
           ]
          },
          "colorway": [
           "#636efa",
           "#EF553B",
           "#00cc96",
           "#ab63fa",
           "#FFA15A",
           "#19d3f3",
           "#FF6692",
           "#B6E880",
           "#FF97FF",
           "#FECB52"
          ],
          "font": {
           "color": "#2a3f5f"
          },
          "geo": {
           "bgcolor": "white",
           "lakecolor": "white",
           "landcolor": "#E5ECF6",
           "showlakes": true,
           "showland": true,
           "subunitcolor": "white"
          },
          "hoverlabel": {
           "align": "left"
          },
          "hovermode": "closest",
          "mapbox": {
           "style": "light"
          },
          "paper_bgcolor": "white",
          "plot_bgcolor": "#E5ECF6",
          "polar": {
           "angularaxis": {
            "gridcolor": "white",
            "linecolor": "white",
            "ticks": ""
           },
           "bgcolor": "#E5ECF6",
           "radialaxis": {
            "gridcolor": "white",
            "linecolor": "white",
            "ticks": ""
           }
          },
          "scene": {
           "xaxis": {
            "backgroundcolor": "#E5ECF6",
            "gridcolor": "white",
            "gridwidth": 2,
            "linecolor": "white",
            "showbackground": true,
            "ticks": "",
            "zerolinecolor": "white"
           },
           "yaxis": {
            "backgroundcolor": "#E5ECF6",
            "gridcolor": "white",
            "gridwidth": 2,
            "linecolor": "white",
            "showbackground": true,
            "ticks": "",
            "zerolinecolor": "white"
           },
           "zaxis": {
            "backgroundcolor": "#E5ECF6",
            "gridcolor": "white",
            "gridwidth": 2,
            "linecolor": "white",
            "showbackground": true,
            "ticks": "",
            "zerolinecolor": "white"
           }
          },
          "shapedefaults": {
           "line": {
            "color": "#2a3f5f"
           }
          },
          "ternary": {
           "aaxis": {
            "gridcolor": "white",
            "linecolor": "white",
            "ticks": ""
           },
           "baxis": {
            "gridcolor": "white",
            "linecolor": "white",
            "ticks": ""
           },
           "bgcolor": "#E5ECF6",
           "caxis": {
            "gridcolor": "white",
            "linecolor": "white",
            "ticks": ""
           }
          },
          "title": {
           "x": 0.05
          },
          "xaxis": {
           "automargin": true,
           "gridcolor": "white",
           "linecolor": "white",
           "ticks": "",
           "title": {
            "standoff": 15
           },
           "zerolinecolor": "white",
           "zerolinewidth": 2
          },
          "yaxis": {
           "automargin": true,
           "gridcolor": "white",
           "linecolor": "white",
           "ticks": "",
           "title": {
            "standoff": 15
           },
           "zerolinecolor": "white",
           "zerolinewidth": 2
          }
         }
        },
        "title": {
         "text": "Densité étudiants sup. par IRIS - Rennes"
        }
       }
      }
     },
     "metadata": {},
     "output_type": "display_data"
    }
   ],
   "source": [
    "import plotly.express as px\n",
    "\n",
    "# reconvertir en 4326\n",
    "iris_plot = iris_rennes_stats.to_crs(epsg=4326)\n",
    "\n",
    "fig = px.choropleth_mapbox(\n",
    "    iris_plot,\n",
    "    geojson=iris_plot.__geo_interface__,\n",
    "    locations=iris_plot.index,\n",
    "    color='students_per_km2',\n",
    "    hover_name='LIB_IRIS',\n",
    "    hover_data=['nb_etabs','area_km2', 'nb_etudiants'],\n",
    "    mapbox_style=\"carto-positron\",\n",
    "    center={\"lat\":48.117, \"lon\":-1.677},\n",
    "    zoom=12,\n",
    "    opacity=0.6,\n",
    "    color_continuous_scale=\"YlOrRd\"\n",
    ")\n",
    "\n",
    "# ajouter les points OSM (facultatif)\n",
    "fig.add_scattermapbox(\n",
    "    lat=df_rennes['lat'],\n",
    "    lon=df_rennes['lon'],\n",
    "    mode='markers',\n",
    "    marker=dict(size=6, color='blue'),\n",
    "    text=etabs_par_iris_rennes[\"libellé de l'établissement\"],\n",
    "    name='Établissements OSM'\n",
    ")\n",
    "\n",
    "fig.update_layout(margin={\"r\":0,\"t\":50,\"l\":0,\"b\":0}, title=\"Densité étudiants sup. par IRIS - Rennes\")\n",
    "fig.show()\n"
   ]
  },
  {
   "cell_type": "code",
   "execution_count": 45,
   "id": "1b5eadeb",
   "metadata": {},
   "outputs": [
    {
     "data": {
      "application/vnd.plotly.v1+json": {
       "config": {
        "plotlyServerURL": "https://plot.ly"
       },
       "data": [
        {
         "customdata": {
          "bdata": "AAAAAADD7ECffJhbjKfQPwAAAAAAAFhAAAAAAEAn2UDsf/p5dF/CPwAAAAAAgEZAAAAAADDzC0HKGeoDC6j0PwAAAAAA0HNAAAAAALDr+ECI48Ph9db2PwAAAAAA4HFAAAAAAAAH8EDRnKtO97/7PwAAAAAAAF1AAAAAAABFtkB4F8NHo4bDPwAAAAAAADhAAAAAAICYxkD1NokCIknePwAAAAAAADhAAAAAAMCn0EBM/nzvyonmPwAAAAAAgENAAAAAAAAqtEDY3SdfdYnLPwAAAAAAAEFAAAAAAAAorkAH73BB8FfJPwAAAAAAADhA",
          "dtype": "f8",
          "shape": "10, 3"
         },
         "hovertemplate": "LIB_IRIS=%{x}<br>students_per_km2=%{marker.color}<br>nb_etudiants=%{customdata[0]}<br>area_km2=%{customdata[1]}<br>nb_etabs=%{customdata[2]}<extra></extra>",
         "legendgroup": "",
         "marker": {
          "color": {
           "bdata": "Eei6YqahC0ExVSqenecFQe7p+JY/pgVBf7RhojF18UBYYu/1aHviQI55jSqIP+JAw0XTsu7f10BxEcM7taXXQEhkoayhbtdAEScK59QJ00A=",
           "dtype": "f8"
          },
          "coloraxis": "coloraxis",
          "pattern": {
           "shape": ""
          }
         },
         "name": "",
         "orientation": "v",
         "showlegend": false,
         "textposition": "auto",
         "type": "bar",
         "x": [
          "Jean Macé",
          "Hoche",
          "Pontchaillou",
          "Campus de Beaulieu",
          "Beauregard",
          "Hôtel-Dieu",
          "Les Mottais",
          "Le Gallet-Les Longs Champs Nord",
          "Paris Est",
          "Parcheminerie Toussaints"
         ],
         "xaxis": "x",
         "y": {
          "bdata": "Eei6YqahC0ExVSqenecFQe7p+JY/pgVBf7RhojF18UBYYu/1aHviQI55jSqIP+JAw0XTsu7f10BxEcM7taXXQEhkoayhbtdAEScK59QJ00A=",
          "dtype": "f8"
         },
         "yaxis": "y"
        }
       ],
       "layout": {
        "barmode": "relative",
        "coloraxis": {
         "colorbar": {
          "title": {
           "text": "students_per_km2"
          }
         },
         "colorscale": [
          [
           0,
           "rgb(255,255,204)"
          ],
          [
           0.125,
           "rgb(255,237,160)"
          ],
          [
           0.25,
           "rgb(254,217,118)"
          ],
          [
           0.375,
           "rgb(254,178,76)"
          ],
          [
           0.5,
           "rgb(253,141,60)"
          ],
          [
           0.625,
           "rgb(252,78,42)"
          ],
          [
           0.75,
           "rgb(227,26,28)"
          ],
          [
           0.875,
           "rgb(189,0,38)"
          ],
          [
           1,
           "rgb(128,0,38)"
          ]
         ]
        },
        "legend": {
         "tracegroupgap": 0
        },
        "template": {
         "data": {
          "bar": [
           {
            "error_x": {
             "color": "#2a3f5f"
            },
            "error_y": {
             "color": "#2a3f5f"
            },
            "marker": {
             "line": {
              "color": "#E5ECF6",
              "width": 0.5
             },
             "pattern": {
              "fillmode": "overlay",
              "size": 10,
              "solidity": 0.2
             }
            },
            "type": "bar"
           }
          ],
          "barpolar": [
           {
            "marker": {
             "line": {
              "color": "#E5ECF6",
              "width": 0.5
             },
             "pattern": {
              "fillmode": "overlay",
              "size": 10,
              "solidity": 0.2
             }
            },
            "type": "barpolar"
           }
          ],
          "carpet": [
           {
            "aaxis": {
             "endlinecolor": "#2a3f5f",
             "gridcolor": "white",
             "linecolor": "white",
             "minorgridcolor": "white",
             "startlinecolor": "#2a3f5f"
            },
            "baxis": {
             "endlinecolor": "#2a3f5f",
             "gridcolor": "white",
             "linecolor": "white",
             "minorgridcolor": "white",
             "startlinecolor": "#2a3f5f"
            },
            "type": "carpet"
           }
          ],
          "choropleth": [
           {
            "colorbar": {
             "outlinewidth": 0,
             "ticks": ""
            },
            "type": "choropleth"
           }
          ],
          "contour": [
           {
            "colorbar": {
             "outlinewidth": 0,
             "ticks": ""
            },
            "colorscale": [
             [
              0,
              "#0d0887"
             ],
             [
              0.1111111111111111,
              "#46039f"
             ],
             [
              0.2222222222222222,
              "#7201a8"
             ],
             [
              0.3333333333333333,
              "#9c179e"
             ],
             [
              0.4444444444444444,
              "#bd3786"
             ],
             [
              0.5555555555555556,
              "#d8576b"
             ],
             [
              0.6666666666666666,
              "#ed7953"
             ],
             [
              0.7777777777777778,
              "#fb9f3a"
             ],
             [
              0.8888888888888888,
              "#fdca26"
             ],
             [
              1,
              "#f0f921"
             ]
            ],
            "type": "contour"
           }
          ],
          "contourcarpet": [
           {
            "colorbar": {
             "outlinewidth": 0,
             "ticks": ""
            },
            "type": "contourcarpet"
           }
          ],
          "heatmap": [
           {
            "colorbar": {
             "outlinewidth": 0,
             "ticks": ""
            },
            "colorscale": [
             [
              0,
              "#0d0887"
             ],
             [
              0.1111111111111111,
              "#46039f"
             ],
             [
              0.2222222222222222,
              "#7201a8"
             ],
             [
              0.3333333333333333,
              "#9c179e"
             ],
             [
              0.4444444444444444,
              "#bd3786"
             ],
             [
              0.5555555555555556,
              "#d8576b"
             ],
             [
              0.6666666666666666,
              "#ed7953"
             ],
             [
              0.7777777777777778,
              "#fb9f3a"
             ],
             [
              0.8888888888888888,
              "#fdca26"
             ],
             [
              1,
              "#f0f921"
             ]
            ],
            "type": "heatmap"
           }
          ],
          "histogram": [
           {
            "marker": {
             "pattern": {
              "fillmode": "overlay",
              "size": 10,
              "solidity": 0.2
             }
            },
            "type": "histogram"
           }
          ],
          "histogram2d": [
           {
            "colorbar": {
             "outlinewidth": 0,
             "ticks": ""
            },
            "colorscale": [
             [
              0,
              "#0d0887"
             ],
             [
              0.1111111111111111,
              "#46039f"
             ],
             [
              0.2222222222222222,
              "#7201a8"
             ],
             [
              0.3333333333333333,
              "#9c179e"
             ],
             [
              0.4444444444444444,
              "#bd3786"
             ],
             [
              0.5555555555555556,
              "#d8576b"
             ],
             [
              0.6666666666666666,
              "#ed7953"
             ],
             [
              0.7777777777777778,
              "#fb9f3a"
             ],
             [
              0.8888888888888888,
              "#fdca26"
             ],
             [
              1,
              "#f0f921"
             ]
            ],
            "type": "histogram2d"
           }
          ],
          "histogram2dcontour": [
           {
            "colorbar": {
             "outlinewidth": 0,
             "ticks": ""
            },
            "colorscale": [
             [
              0,
              "#0d0887"
             ],
             [
              0.1111111111111111,
              "#46039f"
             ],
             [
              0.2222222222222222,
              "#7201a8"
             ],
             [
              0.3333333333333333,
              "#9c179e"
             ],
             [
              0.4444444444444444,
              "#bd3786"
             ],
             [
              0.5555555555555556,
              "#d8576b"
             ],
             [
              0.6666666666666666,
              "#ed7953"
             ],
             [
              0.7777777777777778,
              "#fb9f3a"
             ],
             [
              0.8888888888888888,
              "#fdca26"
             ],
             [
              1,
              "#f0f921"
             ]
            ],
            "type": "histogram2dcontour"
           }
          ],
          "mesh3d": [
           {
            "colorbar": {
             "outlinewidth": 0,
             "ticks": ""
            },
            "type": "mesh3d"
           }
          ],
          "parcoords": [
           {
            "line": {
             "colorbar": {
              "outlinewidth": 0,
              "ticks": ""
             }
            },
            "type": "parcoords"
           }
          ],
          "pie": [
           {
            "automargin": true,
            "type": "pie"
           }
          ],
          "scatter": [
           {
            "fillpattern": {
             "fillmode": "overlay",
             "size": 10,
             "solidity": 0.2
            },
            "type": "scatter"
           }
          ],
          "scatter3d": [
           {
            "line": {
             "colorbar": {
              "outlinewidth": 0,
              "ticks": ""
             }
            },
            "marker": {
             "colorbar": {
              "outlinewidth": 0,
              "ticks": ""
             }
            },
            "type": "scatter3d"
           }
          ],
          "scattercarpet": [
           {
            "marker": {
             "colorbar": {
              "outlinewidth": 0,
              "ticks": ""
             }
            },
            "type": "scattercarpet"
           }
          ],
          "scattergeo": [
           {
            "marker": {
             "colorbar": {
              "outlinewidth": 0,
              "ticks": ""
             }
            },
            "type": "scattergeo"
           }
          ],
          "scattergl": [
           {
            "marker": {
             "colorbar": {
              "outlinewidth": 0,
              "ticks": ""
             }
            },
            "type": "scattergl"
           }
          ],
          "scattermap": [
           {
            "marker": {
             "colorbar": {
              "outlinewidth": 0,
              "ticks": ""
             }
            },
            "type": "scattermap"
           }
          ],
          "scattermapbox": [
           {
            "marker": {
             "colorbar": {
              "outlinewidth": 0,
              "ticks": ""
             }
            },
            "type": "scattermapbox"
           }
          ],
          "scatterpolar": [
           {
            "marker": {
             "colorbar": {
              "outlinewidth": 0,
              "ticks": ""
             }
            },
            "type": "scatterpolar"
           }
          ],
          "scatterpolargl": [
           {
            "marker": {
             "colorbar": {
              "outlinewidth": 0,
              "ticks": ""
             }
            },
            "type": "scatterpolargl"
           }
          ],
          "scatterternary": [
           {
            "marker": {
             "colorbar": {
              "outlinewidth": 0,
              "ticks": ""
             }
            },
            "type": "scatterternary"
           }
          ],
          "surface": [
           {
            "colorbar": {
             "outlinewidth": 0,
             "ticks": ""
            },
            "colorscale": [
             [
              0,
              "#0d0887"
             ],
             [
              0.1111111111111111,
              "#46039f"
             ],
             [
              0.2222222222222222,
              "#7201a8"
             ],
             [
              0.3333333333333333,
              "#9c179e"
             ],
             [
              0.4444444444444444,
              "#bd3786"
             ],
             [
              0.5555555555555556,
              "#d8576b"
             ],
             [
              0.6666666666666666,
              "#ed7953"
             ],
             [
              0.7777777777777778,
              "#fb9f3a"
             ],
             [
              0.8888888888888888,
              "#fdca26"
             ],
             [
              1,
              "#f0f921"
             ]
            ],
            "type": "surface"
           }
          ],
          "table": [
           {
            "cells": {
             "fill": {
              "color": "#EBF0F8"
             },
             "line": {
              "color": "white"
             }
            },
            "header": {
             "fill": {
              "color": "#C8D4E3"
             },
             "line": {
              "color": "white"
             }
            },
            "type": "table"
           }
          ]
         },
         "layout": {
          "annotationdefaults": {
           "arrowcolor": "#2a3f5f",
           "arrowhead": 0,
           "arrowwidth": 1
          },
          "autotypenumbers": "strict",
          "coloraxis": {
           "colorbar": {
            "outlinewidth": 0,
            "ticks": ""
           }
          },
          "colorscale": {
           "diverging": [
            [
             0,
             "#8e0152"
            ],
            [
             0.1,
             "#c51b7d"
            ],
            [
             0.2,
             "#de77ae"
            ],
            [
             0.3,
             "#f1b6da"
            ],
            [
             0.4,
             "#fde0ef"
            ],
            [
             0.5,
             "#f7f7f7"
            ],
            [
             0.6,
             "#e6f5d0"
            ],
            [
             0.7,
             "#b8e186"
            ],
            [
             0.8,
             "#7fbc41"
            ],
            [
             0.9,
             "#4d9221"
            ],
            [
             1,
             "#276419"
            ]
           ],
           "sequential": [
            [
             0,
             "#0d0887"
            ],
            [
             0.1111111111111111,
             "#46039f"
            ],
            [
             0.2222222222222222,
             "#7201a8"
            ],
            [
             0.3333333333333333,
             "#9c179e"
            ],
            [
             0.4444444444444444,
             "#bd3786"
            ],
            [
             0.5555555555555556,
             "#d8576b"
            ],
            [
             0.6666666666666666,
             "#ed7953"
            ],
            [
             0.7777777777777778,
             "#fb9f3a"
            ],
            [
             0.8888888888888888,
             "#fdca26"
            ],
            [
             1,
             "#f0f921"
            ]
           ],
           "sequentialminus": [
            [
             0,
             "#0d0887"
            ],
            [
             0.1111111111111111,
             "#46039f"
            ],
            [
             0.2222222222222222,
             "#7201a8"
            ],
            [
             0.3333333333333333,
             "#9c179e"
            ],
            [
             0.4444444444444444,
             "#bd3786"
            ],
            [
             0.5555555555555556,
             "#d8576b"
            ],
            [
             0.6666666666666666,
             "#ed7953"
            ],
            [
             0.7777777777777778,
             "#fb9f3a"
            ],
            [
             0.8888888888888888,
             "#fdca26"
            ],
            [
             1,
             "#f0f921"
            ]
           ]
          },
          "colorway": [
           "#636efa",
           "#EF553B",
           "#00cc96",
           "#ab63fa",
           "#FFA15A",
           "#19d3f3",
           "#FF6692",
           "#B6E880",
           "#FF97FF",
           "#FECB52"
          ],
          "font": {
           "color": "#2a3f5f"
          },
          "geo": {
           "bgcolor": "white",
           "lakecolor": "white",
           "landcolor": "#E5ECF6",
           "showlakes": true,
           "showland": true,
           "subunitcolor": "white"
          },
          "hoverlabel": {
           "align": "left"
          },
          "hovermode": "closest",
          "mapbox": {
           "style": "light"
          },
          "paper_bgcolor": "white",
          "plot_bgcolor": "#E5ECF6",
          "polar": {
           "angularaxis": {
            "gridcolor": "white",
            "linecolor": "white",
            "ticks": ""
           },
           "bgcolor": "#E5ECF6",
           "radialaxis": {
            "gridcolor": "white",
            "linecolor": "white",
            "ticks": ""
           }
          },
          "scene": {
           "xaxis": {
            "backgroundcolor": "#E5ECF6",
            "gridcolor": "white",
            "gridwidth": 2,
            "linecolor": "white",
            "showbackground": true,
            "ticks": "",
            "zerolinecolor": "white"
           },
           "yaxis": {
            "backgroundcolor": "#E5ECF6",
            "gridcolor": "white",
            "gridwidth": 2,
            "linecolor": "white",
            "showbackground": true,
            "ticks": "",
            "zerolinecolor": "white"
           },
           "zaxis": {
            "backgroundcolor": "#E5ECF6",
            "gridcolor": "white",
            "gridwidth": 2,
            "linecolor": "white",
            "showbackground": true,
            "ticks": "",
            "zerolinecolor": "white"
           }
          },
          "shapedefaults": {
           "line": {
            "color": "#2a3f5f"
           }
          },
          "ternary": {
           "aaxis": {
            "gridcolor": "white",
            "linecolor": "white",
            "ticks": ""
           },
           "baxis": {
            "gridcolor": "white",
            "linecolor": "white",
            "ticks": ""
           },
           "bgcolor": "#E5ECF6",
           "caxis": {
            "gridcolor": "white",
            "linecolor": "white",
            "ticks": ""
           }
          },
          "title": {
           "x": 0.05
          },
          "xaxis": {
           "automargin": true,
           "gridcolor": "white",
           "linecolor": "white",
           "ticks": "",
           "title": {
            "standoff": 15
           },
           "zerolinecolor": "white",
           "zerolinewidth": 2
          },
          "yaxis": {
           "automargin": true,
           "gridcolor": "white",
           "linecolor": "white",
           "ticks": "",
           "title": {
            "standoff": 15
           },
           "zerolinecolor": "white",
           "zerolinewidth": 2
          }
         }
        },
        "title": {
         "text": "Top 10 IRIS les plus denses en étudiants - Rennes"
        },
        "xaxis": {
         "anchor": "y",
         "domain": [
          0,
          1
         ],
         "title": {
          "text": "Quartier (IRIS)"
         }
        },
        "yaxis": {
         "anchor": "x",
         "domain": [
          0,
          1
         ],
         "title": {
          "text": "Étudiants / km²"
         }
        }
       }
      }
     },
     "metadata": {},
     "output_type": "display_data"
    }
   ],
   "source": [
    "top10_iris = iris_rennes_stats.sort_values(by='students_per_km2', ascending=False).head(10)\n",
    "\n",
    "fig = px.bar(\n",
    "    top10_iris,\n",
    "    x='LIB_IRIS',\n",
    "    y='students_per_km2',\n",
    "    hover_data=['nb_etudiants','area_km2','nb_etabs'],\n",
    "    color='students_per_km2',\n",
    "    color_continuous_scale='YlOrRd',\n",
    "    title=\"Top 10 IRIS les plus denses en étudiants - Rennes\"\n",
    ")\n",
    "\n",
    "fig.update_layout(xaxis_title=\"Quartier (IRIS)\", yaxis_title=\"Étudiants / km²\")\n",
    "fig.show()\n"
   ]
  },
  {
   "cell_type": "markdown",
   "id": "90516127",
   "metadata": {},
   "source": [
    "### Analyser les **quartiers vivants (nombre de resto, bars, et supermarchés)** à ? ###"
   ]
  },
  {
   "cell_type": "code",
   "execution_count": null,
   "id": "26a86433",
   "metadata": {},
   "outputs": [],
   "source": [
    "print(\"Partie Adam et Valentine\")"
   ]
  }
 ],
 "metadata": {
  "kernelspec": {
   "display_name": ".venv",
   "language": "python",
   "name": "python3"
  },
  "language_info": {
   "codemirror_mode": {
    "name": "ipython",
    "version": 3
   },
   "file_extension": ".py",
   "mimetype": "text/x-python",
   "name": "python",
   "nbconvert_exporter": "python",
   "pygments_lexer": "ipython3",
   "version": "3.13.7"
  }
 },
 "nbformat": 4,
 "nbformat_minor": 5
}
