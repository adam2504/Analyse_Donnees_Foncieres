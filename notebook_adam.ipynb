{
 "cells": [
  {
   "cell_type": "markdown",
   "id": "25dd84de",
   "metadata": {},
   "source": [
    "## 🎓 Persona : Léa, jeune investisseuse étudiante\n",
    "\n",
    "**Profil :**\n",
    "- 👩 24 ans, diplômée de l'EM Lyon\n",
    "- 💼 Première expérience professionnelle après 2 ans d'alternance\n",
    "- 💰 Aide parentale pour le financement + épargne personnelle (~15 000 €)\n",
    "- 🎯 Objectif : réaliser un **premier investissement locatif** dans une **ville étudiante dynamique**\n",
    "\n",
    "---\n",
    "\n",
    "### 💡 Objectif d'investissement\n",
    "> Trouver le **meilleur investissement locatif étudiant** possible avec un **budget global de 200 000 €**,  \n",
    "> en ciblant un **studio à Lille**, tout en comparant brièvement avec un **T1 à Angers ou Nancy**.\n",
    "\n",
    "---\n",
    "\n",
    "### 💰 Hypothèses financières\n",
    "| Élément | Montant estimé |\n",
    "|----------|----------------|\n",
    "| Prix d'achat visé | 160 000 – 180 000 € |\n",
    "| Apport personnel | 15 000 € |\n",
    "| Prêt immobilier estimé | 180 000 € sur 20 ans |\n",
    "| Budget total (frais inclus) | **≈ 200 000 €** |\n",
    "| Objectif de rentabilité brute | **≥ 5 %** |\n",
    "\n",
    "---\n",
    "\n",
    "### 🏙️ Cibles principales\n",
    "| Ville | Type de bien | Prix moyen au m² | Loyer moyen mensuel | Observations |\n",
    "|-------|---------------|------------------|---------------------|---------------|\n",
    "| **Lille** | Studio (20–25 m²) | ~4 500 €/m² | 550–600 € | Marché étudiant tendu, forte demande locative |\n",
    "| **Angers** | T1 (25–30 m²) | ~3 200 €/m² | 450–500 € | Ville très dynamique, bonne rentabilité brute |\n",
    "| **Nancy** | T1 (25–30 m²) | ~2 800 €/m² | 420–470 € | Marché abordable, bon rapport prix/rentabilité |\n",
    "\n",
    "---\n",
    "\n",
    "### 🔍 Besoins data de Léa\n",
    "- Identifier **les quartiers les plus rentables** à Lille (ou dans des villes comparables)\n",
    "- Comparer avec **la rentabilité moyenne en France**\n",
    "- Analyser l'**évolution du prix au m² et des loyers étudiants** depuis 5 ans\n",
    "- Calculer la **rentabilité locative brute et nette** par quartier\n",
    "- Visualiser les **zones à forte concentration étudiante**\n",
    "- Fournir une **recommandation finale : \"où investir avec 200k€ ?\"**\n",
    "- Évaluer le **taux de vacance locative** par quartier pour anticiper les périodes creuses (notamment l'été où les étudiants quittent les logements)\n",
    "- Analyser la **proximité des transports en commun** et des universités/grandes écoles pour identifier les zones les plus attractives pour les étudiants\n",
    "- Estimer les **charges de copropriété moyennes** par type de bien et par quartier pour affiner le calcul de rentabilité nette\n",
    "- Identifier les **opportunités de biens nécessitant des travaux** (décote à l'achat) pour maximiser la plus-value à long terme\n",
    "\n",
    "---\n",
    "\n",
    "### 🧭 Objectif du notebook\n",
    "Créer un outil interactif permettant à Léa de :\n",
    "1. Comparer la rentabilité d'un **studio à Lille** avec celle d'un **T1 à Angers ou Nancy**  \n",
    "2. Explorer visuellement les **zones à potentiel locatif élevé**  \n",
    "3. Obtenir une **recommandation automatique** en fonction de son budget et de ses préférences"
   ]
  },
  {
   "cell_type": "markdown",
   "id": "8f9733a3",
   "metadata": {},
   "source": [
    "## Import des bibliothèques ##"
   ]
  },
  {
   "cell_type": "code",
   "execution_count": 23,
   "id": "f672a483",
   "metadata": {},
   "outputs": [],
   "source": [
    "import pandas as pd \n",
    "import openpyxl\n",
    "import matplotlib.pyplot as plt\n",
    "import seaborn as sns\n",
    "import geopy\n",
    "import time\n",
    "from geopy.geocoders import Nominatim\n",
    "from geopy.extra.rate_limiter import RateLimiter\n",
    "import plotly.express as px"
   ]
  },
  {
   "cell_type": "markdown",
   "id": "6df1be9b",
   "metadata": {},
   "source": [
    "### 1e vision : Analyse générale en France ###"
   ]
  },
  {
   "cell_type": "markdown",
   "id": "a0144df7",
   "metadata": {},
   "source": [
    "Etude de la rentabilité moyenne en France"
   ]
  },
  {
   "cell_type": "code",
   "execution_count": 24,
   "id": "4c7db600",
   "metadata": {},
   "outputs": [
    {
     "name": "stdout",
     "output_type": "stream",
     "text": [
      "Partie Valentine\n"
     ]
    }
   ],
   "source": [
    "print(\"Partie Valentine\")"
   ]
  },
  {
   "cell_type": "markdown",
   "id": "be63e6ce",
   "metadata": {},
   "source": [
    "Evolution du prix au m² et des loyers étudiants depuis 5 ans en France"
   ]
  },
  {
   "cell_type": "code",
   "execution_count": 25,
   "id": "30b7b390",
   "metadata": {},
   "outputs": [
    {
     "name": "stdout",
     "output_type": "stream",
     "text": [
      "Partie Axel\n"
     ]
    }
   ],
   "source": [
    "print(\"Partie Axel\")"
   ]
  },
  {
   "cell_type": "markdown",
   "id": "7da69d10",
   "metadata": {},
   "source": [
    "Visualiser les zones à forte concentration étudiante en France"
   ]
  },
  {
   "cell_type": "code",
   "execution_count": 26,
   "id": "d77fa2ff",
   "metadata": {},
   "outputs": [
    {
     "data": {
      "application/vnd.microsoft.datawrangler.viewer.v0+json": {
       "columns": [
        {
         "name": "index",
         "rawType": "int64",
         "type": "integer"
        },
        {
         "name": "objectid",
         "rawType": "int64",
         "type": "integer"
        },
        {
         "name": "reg",
         "rawType": "int64",
         "type": "integer"
        },
        {
         "name": "dep",
         "rawType": "object",
         "type": "string"
        },
        {
         "name": "cv",
         "rawType": "object",
         "type": "string"
        },
        {
         "name": "codgeo",
         "rawType": "object",
         "type": "string"
        },
        {
         "name": "libgeo",
         "rawType": "object",
         "type": "string"
        },
        {
         "name": "p13_pop",
         "rawType": "float64",
         "type": "float"
        },
        {
         "name": "p14_pop",
         "rawType": "float64",
         "type": "float"
        },
        {
         "name": "p15_pop",
         "rawType": "float64",
         "type": "float"
        },
        {
         "name": "p16_pop",
         "rawType": "float64",
         "type": "float"
        },
        {
         "name": "p17_pop",
         "rawType": "int64",
         "type": "integer"
        },
        {
         "name": "p18_pop",
         "rawType": "float64",
         "type": "float"
        },
        {
         "name": "p19_pop",
         "rawType": "float64",
         "type": "float"
        },
        {
         "name": "p20_pop",
         "rawType": "float64",
         "type": "float"
        },
        {
         "name": "p21_pop",
         "rawType": "float64",
         "type": "float"
        }
       ],
       "ref": "b1d39834-f2d8-4b48-88e9-d3de5050cd7f",
       "rows": [
        [
         "0",
         "115658",
         "52",
         "85",
         "8502",
         "85062",
         "Châteauneuf",
         "968.0",
         "993.0",
         "1013.0",
         "1027.0",
         "1056",
         "1085.0",
         "1114.0",
         "1118.0",
         "1134.0"
        ],
        [
         "1",
         "115659",
         "26",
         "58",
         "5808",
         "58300",
         "Urzy",
         "1839.0",
         "1835.0",
         "1828.0",
         "1802.0",
         "1775",
         "1749.0",
         "1746.0",
         "1747.0",
         "1742.0"
        ],
        [
         "2",
         "115660",
         "43",
         "70",
         "7012",
         "70137",
         "Chassey-lès-Montbozon",
         "218.0",
         "217.0",
         "216.0",
         "215.0",
         "217",
         "215.0",
         "215.0",
         "220.0",
         "225.0"
        ],
        [
         "3",
         "115661",
         "21",
         "51",
         "5123",
         "51649",
         "Vitry-le-François",
         "13174.0",
         "13144.0",
         "12805.0",
         "12552.0",
         "12133",
         "11743.0",
         "11376.0",
         "11458.0",
         "11454.0"
        ],
        [
         "4",
         "115662",
         "11",
         "78",
         "7811",
         "78638",
         "Vaux-sur-Seine",
         "4749.0",
         "4715.0",
         "4788.0",
         "4857.0",
         "4927",
         "4929.0",
         "5010.0",
         "5020.0",
         "5083.0"
        ]
       ],
       "shape": {
        "columns": 15,
        "rows": 5
       }
      },
      "text/html": [
       "<div>\n",
       "<style scoped>\n",
       "    .dataframe tbody tr th:only-of-type {\n",
       "        vertical-align: middle;\n",
       "    }\n",
       "\n",
       "    .dataframe tbody tr th {\n",
       "        vertical-align: top;\n",
       "    }\n",
       "\n",
       "    .dataframe thead th {\n",
       "        text-align: right;\n",
       "    }\n",
       "</style>\n",
       "<table border=\"1\" class=\"dataframe\">\n",
       "  <thead>\n",
       "    <tr style=\"text-align: right;\">\n",
       "      <th></th>\n",
       "      <th>objectid</th>\n",
       "      <th>reg</th>\n",
       "      <th>dep</th>\n",
       "      <th>cv</th>\n",
       "      <th>codgeo</th>\n",
       "      <th>libgeo</th>\n",
       "      <th>p13_pop</th>\n",
       "      <th>p14_pop</th>\n",
       "      <th>p15_pop</th>\n",
       "      <th>p16_pop</th>\n",
       "      <th>p17_pop</th>\n",
       "      <th>p18_pop</th>\n",
       "      <th>p19_pop</th>\n",
       "      <th>p20_pop</th>\n",
       "      <th>p21_pop</th>\n",
       "    </tr>\n",
       "  </thead>\n",
       "  <tbody>\n",
       "    <tr>\n",
       "      <th>0</th>\n",
       "      <td>115658</td>\n",
       "      <td>52</td>\n",
       "      <td>85</td>\n",
       "      <td>8502</td>\n",
       "      <td>85062</td>\n",
       "      <td>Châteauneuf</td>\n",
       "      <td>968.0</td>\n",
       "      <td>993.0</td>\n",
       "      <td>1013.0</td>\n",
       "      <td>1027.0</td>\n",
       "      <td>1056</td>\n",
       "      <td>1085.0</td>\n",
       "      <td>1114.0</td>\n",
       "      <td>1118.0</td>\n",
       "      <td>1134.0</td>\n",
       "    </tr>\n",
       "    <tr>\n",
       "      <th>1</th>\n",
       "      <td>115659</td>\n",
       "      <td>26</td>\n",
       "      <td>58</td>\n",
       "      <td>5808</td>\n",
       "      <td>58300</td>\n",
       "      <td>Urzy</td>\n",
       "      <td>1839.0</td>\n",
       "      <td>1835.0</td>\n",
       "      <td>1828.0</td>\n",
       "      <td>1802.0</td>\n",
       "      <td>1775</td>\n",
       "      <td>1749.0</td>\n",
       "      <td>1746.0</td>\n",
       "      <td>1747.0</td>\n",
       "      <td>1742.0</td>\n",
       "    </tr>\n",
       "    <tr>\n",
       "      <th>2</th>\n",
       "      <td>115660</td>\n",
       "      <td>43</td>\n",
       "      <td>70</td>\n",
       "      <td>7012</td>\n",
       "      <td>70137</td>\n",
       "      <td>Chassey-lès-Montbozon</td>\n",
       "      <td>218.0</td>\n",
       "      <td>217.0</td>\n",
       "      <td>216.0</td>\n",
       "      <td>215.0</td>\n",
       "      <td>217</td>\n",
       "      <td>215.0</td>\n",
       "      <td>215.0</td>\n",
       "      <td>220.0</td>\n",
       "      <td>225.0</td>\n",
       "    </tr>\n",
       "    <tr>\n",
       "      <th>3</th>\n",
       "      <td>115661</td>\n",
       "      <td>21</td>\n",
       "      <td>51</td>\n",
       "      <td>5123</td>\n",
       "      <td>51649</td>\n",
       "      <td>Vitry-le-François</td>\n",
       "      <td>13174.0</td>\n",
       "      <td>13144.0</td>\n",
       "      <td>12805.0</td>\n",
       "      <td>12552.0</td>\n",
       "      <td>12133</td>\n",
       "      <td>11743.0</td>\n",
       "      <td>11376.0</td>\n",
       "      <td>11458.0</td>\n",
       "      <td>11454.0</td>\n",
       "    </tr>\n",
       "    <tr>\n",
       "      <th>4</th>\n",
       "      <td>115662</td>\n",
       "      <td>11</td>\n",
       "      <td>78</td>\n",
       "      <td>7811</td>\n",
       "      <td>78638</td>\n",
       "      <td>Vaux-sur-Seine</td>\n",
       "      <td>4749.0</td>\n",
       "      <td>4715.0</td>\n",
       "      <td>4788.0</td>\n",
       "      <td>4857.0</td>\n",
       "      <td>4927</td>\n",
       "      <td>4929.0</td>\n",
       "      <td>5010.0</td>\n",
       "      <td>5020.0</td>\n",
       "      <td>5083.0</td>\n",
       "    </tr>\n",
       "  </tbody>\n",
       "</table>\n",
       "</div>"
      ],
      "text/plain": [
       "   objectid  reg dep    cv codgeo                 libgeo  p13_pop  p14_pop  \\\n",
       "0    115658   52  85  8502  85062            Châteauneuf    968.0    993.0   \n",
       "1    115659   26  58  5808  58300                   Urzy   1839.0   1835.0   \n",
       "2    115660   43  70  7012  70137  Chassey-lès-Montbozon    218.0    217.0   \n",
       "3    115661   21  51  5123  51649      Vitry-le-François  13174.0  13144.0   \n",
       "4    115662   11  78  7811  78638         Vaux-sur-Seine   4749.0   4715.0   \n",
       "\n",
       "   p15_pop  p16_pop  p17_pop  p18_pop  p19_pop  p20_pop  p21_pop  \n",
       "0   1013.0   1027.0     1056   1085.0   1114.0   1118.0   1134.0  \n",
       "1   1828.0   1802.0     1775   1749.0   1746.0   1747.0   1742.0  \n",
       "2    216.0    215.0      217    215.0    215.0    220.0    225.0  \n",
       "3  12805.0  12552.0    12133  11743.0  11376.0  11458.0  11454.0  \n",
       "4   4788.0   4857.0     4927   4929.0   5010.0   5020.0   5083.0  "
      ]
     },
     "execution_count": 26,
     "metadata": {},
     "output_type": "execute_result"
    }
   ],
   "source": [
    "df_populations_communales = pd.read_excel(\"POPULATION_MUNICIPALE_COMMUNES_FRANCE.xlsx\")\n",
    "\n",
    "df_populations_communales.head()"
   ]
  },
  {
   "cell_type": "code",
   "execution_count": 40,
   "id": "a30c50a6",
   "metadata": {},
   "outputs": [
    {
     "ename": "KeyError",
     "evalue": "\"['p13_pop', 'p14_pop', 'p15_pop', 'p16_pop', 'p17_pop', 'p18_pop', 'p19_pop', 'p20_pop'] not found in axis\"",
     "output_type": "error",
     "traceback": [
      "\u001b[31m---------------------------------------------------------------------------\u001b[39m",
      "\u001b[31mKeyError\u001b[39m                                  Traceback (most recent call last)",
      "\u001b[36mCell\u001b[39m\u001b[36m \u001b[39m\u001b[32mIn[40]\u001b[39m\u001b[32m, line 1\u001b[39m\n\u001b[32m----> \u001b[39m\u001b[32m1\u001b[39m \u001b[43mdf_populations_communales\u001b[49m\u001b[43m.\u001b[49m\u001b[43mdrop\u001b[49m\u001b[43m(\u001b[49m\u001b[43m[\u001b[49m\u001b[33;43m'\u001b[39;49m\u001b[33;43mp13_pop\u001b[39;49m\u001b[33;43m'\u001b[39;49m\u001b[43m,\u001b[49m\u001b[43m \u001b[49m\u001b[33;43m'\u001b[39;49m\u001b[33;43mp14_pop\u001b[39;49m\u001b[33;43m'\u001b[39;49m\u001b[43m,\u001b[49m\u001b[43m \u001b[49m\u001b[33;43m'\u001b[39;49m\u001b[33;43mp15_pop\u001b[39;49m\u001b[33;43m'\u001b[39;49m\u001b[43m,\u001b[49m\u001b[43m \u001b[49m\u001b[33;43m'\u001b[39;49m\u001b[33;43mp16_pop\u001b[39;49m\u001b[33;43m'\u001b[39;49m\u001b[43m,\u001b[49m\u001b[43m \u001b[49m\u001b[33;43m'\u001b[39;49m\u001b[33;43mp17_pop\u001b[39;49m\u001b[33;43m'\u001b[39;49m\u001b[43m,\u001b[49m\u001b[43m \u001b[49m\u001b[33;43m'\u001b[39;49m\u001b[33;43mp18_pop\u001b[39;49m\u001b[33;43m'\u001b[39;49m\u001b[43m,\u001b[49m\u001b[43m \u001b[49m\u001b[33;43m'\u001b[39;49m\u001b[33;43mp19_pop\u001b[39;49m\u001b[33;43m'\u001b[39;49m\u001b[43m,\u001b[49m\u001b[43m \u001b[49m\u001b[33;43m'\u001b[39;49m\u001b[33;43mp20_pop\u001b[39;49m\u001b[33;43m'\u001b[39;49m\u001b[43m]\u001b[49m\u001b[43m,\u001b[49m\u001b[43m \u001b[49m\u001b[43maxis\u001b[49m\u001b[43m=\u001b[49m\u001b[32;43m1\u001b[39;49m\u001b[43m,\u001b[49m\u001b[43m \u001b[49m\u001b[43minplace\u001b[49m\u001b[43m=\u001b[49m\u001b[38;5;28;43;01mTrue\u001b[39;49;00m\u001b[43m)\u001b[49m\n\u001b[32m      3\u001b[39m \u001b[38;5;66;03m# Garde les lignes où la colonne 'dep' contient le mot \"Arrondissement\"\u001b[39;00m\n\u001b[32m      4\u001b[39m df_filtered = df_populations_communales[df_populations_communales[\u001b[33m'\u001b[39m\u001b[33mlibgeo\u001b[39m\u001b[33m'\u001b[39m].str.contains(\u001b[33m\"\u001b[39m\u001b[33mArrondissement\u001b[39m\u001b[33m\"\u001b[39m)]\n",
      "\u001b[36mFile \u001b[39m\u001b[32m~/Desktop/ECE/ING4/S7/Data Science/Analyse_Donnees_Foncieres/.venv/lib/python3.13/site-packages/pandas/core/frame.py:5603\u001b[39m, in \u001b[36mDataFrame.drop\u001b[39m\u001b[34m(self, labels, axis, index, columns, level, inplace, errors)\u001b[39m\n\u001b[32m   5455\u001b[39m \u001b[38;5;28;01mdef\u001b[39;00m\u001b[38;5;250m \u001b[39m\u001b[34mdrop\u001b[39m(\n\u001b[32m   5456\u001b[39m     \u001b[38;5;28mself\u001b[39m,\n\u001b[32m   5457\u001b[39m     labels: IndexLabel | \u001b[38;5;28;01mNone\u001b[39;00m = \u001b[38;5;28;01mNone\u001b[39;00m,\n\u001b[32m   (...)\u001b[39m\u001b[32m   5464\u001b[39m     errors: IgnoreRaise = \u001b[33m\"\u001b[39m\u001b[33mraise\u001b[39m\u001b[33m\"\u001b[39m,\n\u001b[32m   5465\u001b[39m ) -> DataFrame | \u001b[38;5;28;01mNone\u001b[39;00m:\n\u001b[32m   5466\u001b[39m \u001b[38;5;250m    \u001b[39m\u001b[33;03m\"\"\"\u001b[39;00m\n\u001b[32m   5467\u001b[39m \u001b[33;03m    Drop specified labels from rows or columns.\u001b[39;00m\n\u001b[32m   5468\u001b[39m \n\u001b[32m   (...)\u001b[39m\u001b[32m   5601\u001b[39m \u001b[33;03m            weight  1.0     0.8\u001b[39;00m\n\u001b[32m   5602\u001b[39m \u001b[33;03m    \"\"\"\u001b[39;00m\n\u001b[32m-> \u001b[39m\u001b[32m5603\u001b[39m     \u001b[38;5;28;01mreturn\u001b[39;00m \u001b[38;5;28;43msuper\u001b[39;49m\u001b[43m(\u001b[49m\u001b[43m)\u001b[49m\u001b[43m.\u001b[49m\u001b[43mdrop\u001b[49m\u001b[43m(\u001b[49m\n\u001b[32m   5604\u001b[39m \u001b[43m        \u001b[49m\u001b[43mlabels\u001b[49m\u001b[43m=\u001b[49m\u001b[43mlabels\u001b[49m\u001b[43m,\u001b[49m\n\u001b[32m   5605\u001b[39m \u001b[43m        \u001b[49m\u001b[43maxis\u001b[49m\u001b[43m=\u001b[49m\u001b[43maxis\u001b[49m\u001b[43m,\u001b[49m\n\u001b[32m   5606\u001b[39m \u001b[43m        \u001b[49m\u001b[43mindex\u001b[49m\u001b[43m=\u001b[49m\u001b[43mindex\u001b[49m\u001b[43m,\u001b[49m\n\u001b[32m   5607\u001b[39m \u001b[43m        \u001b[49m\u001b[43mcolumns\u001b[49m\u001b[43m=\u001b[49m\u001b[43mcolumns\u001b[49m\u001b[43m,\u001b[49m\n\u001b[32m   5608\u001b[39m \u001b[43m        \u001b[49m\u001b[43mlevel\u001b[49m\u001b[43m=\u001b[49m\u001b[43mlevel\u001b[49m\u001b[43m,\u001b[49m\n\u001b[32m   5609\u001b[39m \u001b[43m        \u001b[49m\u001b[43minplace\u001b[49m\u001b[43m=\u001b[49m\u001b[43minplace\u001b[49m\u001b[43m,\u001b[49m\n\u001b[32m   5610\u001b[39m \u001b[43m        \u001b[49m\u001b[43merrors\u001b[49m\u001b[43m=\u001b[49m\u001b[43merrors\u001b[49m\u001b[43m,\u001b[49m\n\u001b[32m   5611\u001b[39m \u001b[43m    \u001b[49m\u001b[43m)\u001b[49m\n",
      "\u001b[36mFile \u001b[39m\u001b[32m~/Desktop/ECE/ING4/S7/Data Science/Analyse_Donnees_Foncieres/.venv/lib/python3.13/site-packages/pandas/core/generic.py:4810\u001b[39m, in \u001b[36mNDFrame.drop\u001b[39m\u001b[34m(self, labels, axis, index, columns, level, inplace, errors)\u001b[39m\n\u001b[32m   4808\u001b[39m \u001b[38;5;28;01mfor\u001b[39;00m axis, labels \u001b[38;5;129;01min\u001b[39;00m axes.items():\n\u001b[32m   4809\u001b[39m     \u001b[38;5;28;01mif\u001b[39;00m labels \u001b[38;5;129;01mis\u001b[39;00m \u001b[38;5;129;01mnot\u001b[39;00m \u001b[38;5;28;01mNone\u001b[39;00m:\n\u001b[32m-> \u001b[39m\u001b[32m4810\u001b[39m         obj = \u001b[43mobj\u001b[49m\u001b[43m.\u001b[49m\u001b[43m_drop_axis\u001b[49m\u001b[43m(\u001b[49m\u001b[43mlabels\u001b[49m\u001b[43m,\u001b[49m\u001b[43m \u001b[49m\u001b[43maxis\u001b[49m\u001b[43m,\u001b[49m\u001b[43m \u001b[49m\u001b[43mlevel\u001b[49m\u001b[43m=\u001b[49m\u001b[43mlevel\u001b[49m\u001b[43m,\u001b[49m\u001b[43m \u001b[49m\u001b[43merrors\u001b[49m\u001b[43m=\u001b[49m\u001b[43merrors\u001b[49m\u001b[43m)\u001b[49m\n\u001b[32m   4812\u001b[39m \u001b[38;5;28;01mif\u001b[39;00m inplace:\n\u001b[32m   4813\u001b[39m     \u001b[38;5;28mself\u001b[39m._update_inplace(obj)\n",
      "\u001b[36mFile \u001b[39m\u001b[32m~/Desktop/ECE/ING4/S7/Data Science/Analyse_Donnees_Foncieres/.venv/lib/python3.13/site-packages/pandas/core/generic.py:4852\u001b[39m, in \u001b[36mNDFrame._drop_axis\u001b[39m\u001b[34m(self, labels, axis, level, errors, only_slice)\u001b[39m\n\u001b[32m   4850\u001b[39m         new_axis = axis.drop(labels, level=level, errors=errors)\n\u001b[32m   4851\u001b[39m     \u001b[38;5;28;01melse\u001b[39;00m:\n\u001b[32m-> \u001b[39m\u001b[32m4852\u001b[39m         new_axis = \u001b[43maxis\u001b[49m\u001b[43m.\u001b[49m\u001b[43mdrop\u001b[49m\u001b[43m(\u001b[49m\u001b[43mlabels\u001b[49m\u001b[43m,\u001b[49m\u001b[43m \u001b[49m\u001b[43merrors\u001b[49m\u001b[43m=\u001b[49m\u001b[43merrors\u001b[49m\u001b[43m)\u001b[49m\n\u001b[32m   4853\u001b[39m     indexer = axis.get_indexer(new_axis)\n\u001b[32m   4855\u001b[39m \u001b[38;5;66;03m# Case for non-unique axis\u001b[39;00m\n\u001b[32m   4856\u001b[39m \u001b[38;5;28;01melse\u001b[39;00m:\n",
      "\u001b[36mFile \u001b[39m\u001b[32m~/Desktop/ECE/ING4/S7/Data Science/Analyse_Donnees_Foncieres/.venv/lib/python3.13/site-packages/pandas/core/indexes/base.py:7136\u001b[39m, in \u001b[36mIndex.drop\u001b[39m\u001b[34m(self, labels, errors)\u001b[39m\n\u001b[32m   7134\u001b[39m \u001b[38;5;28;01mif\u001b[39;00m mask.any():\n\u001b[32m   7135\u001b[39m     \u001b[38;5;28;01mif\u001b[39;00m errors != \u001b[33m\"\u001b[39m\u001b[33mignore\u001b[39m\u001b[33m\"\u001b[39m:\n\u001b[32m-> \u001b[39m\u001b[32m7136\u001b[39m         \u001b[38;5;28;01mraise\u001b[39;00m \u001b[38;5;167;01mKeyError\u001b[39;00m(\u001b[33mf\u001b[39m\u001b[33m\"\u001b[39m\u001b[38;5;132;01m{\u001b[39;00mlabels[mask].tolist()\u001b[38;5;132;01m}\u001b[39;00m\u001b[33m not found in axis\u001b[39m\u001b[33m\"\u001b[39m)\n\u001b[32m   7137\u001b[39m     indexer = indexer[~mask]\n\u001b[32m   7138\u001b[39m \u001b[38;5;28;01mreturn\u001b[39;00m \u001b[38;5;28mself\u001b[39m.delete(indexer)\n",
      "\u001b[31mKeyError\u001b[39m: \"['p13_pop', 'p14_pop', 'p15_pop', 'p16_pop', 'p17_pop', 'p18_pop', 'p19_pop', 'p20_pop'] not found in axis\""
     ]
    }
   ],
   "source": [
    "df_populations_communales.drop(['p13_pop', 'p14_pop', 'p15_pop', 'p16_pop', 'p17_pop', 'p18_pop', 'p19_pop', 'p20_pop'], axis=1, inplace=True)\n",
    "\n",
    "# Garde les lignes où la colonne 'dep' contient le mot \"Arrondissement\"\n",
    "df_filtered = df_populations_communales[df_populations_communales['libgeo'].str.contains(\"Arrondissement\")]\n",
    "\n",
    "df_filtered"
   ]
  },
  {
   "cell_type": "code",
   "execution_count": 28,
   "id": "528d0b81",
   "metadata": {},
   "outputs": [
    {
     "data": {
      "application/vnd.microsoft.datawrangler.viewer.v0+json": {
       "columns": [
        {
         "name": "index",
         "rawType": "int64",
         "type": "integer"
        },
        {
         "name": "libgeo",
         "rawType": "object",
         "type": "string"
        },
        {
         "name": "objectid",
         "rawType": "int64",
         "type": "integer"
        },
        {
         "name": "reg",
         "rawType": "int64",
         "type": "integer"
        },
        {
         "name": "dep",
         "rawType": "object",
         "type": "string"
        },
        {
         "name": "cv",
         "rawType": "object",
         "type": "string"
        },
        {
         "name": "codgeo",
         "rawType": "object",
         "type": "string"
        },
        {
         "name": "p21_pop",
         "rawType": "float64",
         "type": "float"
        }
       ],
       "ref": "fdf84ba6-df44-46a6-ac9d-0d37c9d64ff3",
       "rows": [
        [
         "0",
         "Aast",
         "127813",
         "72",
         "64",
         "6427",
         "64001",
         "189.0"
        ],
        [
         "1",
         "Abainville",
         "131071",
         "41",
         "55",
         "5510",
         "55001",
         "285.0"
        ],
        [
         "2",
         "Abancourt",
         "138836",
         "31",
         "59",
         "5909",
         "59001",
         "1053.0"
        ],
        [
         "3",
         "Abaucourt",
         "114975",
         "41",
         "54",
         "5402",
         "54001",
         "317.0"
        ],
        [
         "4",
         "Abaucourt-Hautecourt",
         "127193",
         "41",
         "55",
         "5504",
         "55002",
         "99.0"
        ],
        [
         "5",
         "Abbans-Dessous",
         "129270",
         "43",
         "25",
         "2517",
         "25001",
         "246.0"
        ],
        [
         "6",
         "Abbans-Dessus",
         "125751",
         "43",
         "25",
         "2517",
         "25002",
         "290.0"
        ],
        [
         "7",
         "Abbaretz",
         "138419",
         "52",
         "44",
         "4408",
         "44001",
         "2043.0"
        ],
        [
         "8",
         "Abbecourt",
         "130426",
         "22",
         "60",
         "6004",
         "60002",
         "846.0"
        ],
        [
         "9",
         "Abbenans",
         "117797",
         "43",
         "25",
         "2502",
         "25003",
         "320.0"
        ],
        [
         "10",
         "Abbeville",
         "138986",
         "22",
         "80",
         "8098",
         "80001",
         "22595.0"
        ],
        [
         "11",
         "Abbeville-Saint-Lucien",
         "124396",
         "22",
         "60",
         "6019",
         "60003",
         "510.0"
        ],
        [
         "12",
         "Abbécourt",
         "114514",
         "22",
         "02",
         "0203",
         "02001",
         "507.0"
        ],
        [
         "13",
         "Abbéville-la-Rivière",
         "137103",
         "11",
         "91",
         "9108",
         "91001",
         "332.0"
        ],
        [
         "14",
         "Abbéville-lès-Conflans",
         "130486",
         "41",
         "54",
         "5417",
         "54002",
         "236.0"
        ],
        [
         "15",
         "Abbévillers",
         "141802",
         "43",
         "25",
         "2512",
         "25004",
         "1090.0"
        ],
        [
         "16",
         "Abeilhan",
         "119176",
         "91",
         "34",
         "3421",
         "34001",
         "1818.0"
        ],
        [
         "17",
         "Abelcourt",
         "133153",
         "43",
         "70",
         "7013",
         "70001",
         "344.0"
        ],
        [
         "18",
         "Abergement-la-Ronce",
         "122636",
         "43",
         "39",
         "3917",
         "39001",
         "841.0"
        ],
        [
         "19",
         "Abergement-le-Grand",
         "131488",
         "43",
         "39",
         "3901",
         "39002",
         "62.0"
        ],
        [
         "20",
         "Abergement-le-Petit",
         "130030",
         "43",
         "39",
         "3903",
         "39003",
         "50.0"
        ],
        [
         "21",
         "Abergement-lès-Thésy",
         "117938",
         "43",
         "39",
         "3901",
         "39004",
         "51.0"
        ],
        [
         "22",
         "Abidos",
         "132162",
         "72",
         "64",
         "6409",
         "64003",
         "209.0"
        ],
        [
         "23",
         "Abilly",
         "126570",
         "24",
         "37",
         "3706",
         "37001",
         "1133.0"
        ],
        [
         "24",
         "Abitain",
         "144629",
         "72",
         "64",
         "6416",
         "64004",
         "109.0"
        ],
        [
         "25",
         "Abjat-sur-Bandiat",
         "111806",
         "72",
         "24",
         "2413",
         "24001",
         "631.0"
        ],
        [
         "26",
         "Ablain-Saint-Nazaire",
         "133187",
         "31",
         "62",
         "6217",
         "62001",
         "1939.0"
        ],
        [
         "27",
         "Ablaincourt-Pressoir",
         "140640",
         "22",
         "80",
         "8018",
         "80002",
         "267.0"
        ],
        [
         "28",
         "Ablainzevelle",
         "116605",
         "31",
         "62",
         "6209",
         "62002",
         "233.0"
        ],
        [
         "29",
         "Ablancourt",
         "125358",
         "21",
         "51",
         "5123",
         "51001",
         "165.0"
        ],
        [
         "30",
         "Ableiges",
         "139072",
         "11",
         "95",
         "9516",
         "95002",
         "1107.0"
        ],
        [
         "31",
         "Ablis",
         "142108",
         "11",
         "78",
         "7814",
         "78003",
         "3715.0"
        ],
        [
         "32",
         "Ablon",
         "119750",
         "25",
         "14",
         "1415",
         "14001",
         "1187.0"
        ],
        [
         "33",
         "Ablon-sur-Seine",
         "142837",
         "11",
         "94",
         "9415",
         "94001",
         "5946.0"
        ],
        [
         "34",
         "Aboncourt",
         "142261",
         "41",
         "57",
         "5714",
         "57001",
         "412.0"
        ],
        [
         "35",
         "Aboncourt-Gesincourt",
         "137521",
         "43",
         "70",
         "7005",
         "70002",
         "214.0"
        ],
        [
         "36",
         "Aboncourt-sur-Seille",
         "126376",
         "41",
         "57",
         "5723",
         "57002",
         "65.0"
        ],
        [
         "37",
         "Abondance",
         "119094",
         "82",
         "74",
         "7407",
         "74001",
         "1488.0"
        ],
        [
         "38",
         "Abondant",
         "117987",
         "24",
         "28",
         "2801",
         "28001",
         "2427.0"
        ],
        [
         "39",
         "Abos",
         "130014",
         "72",
         "64",
         "6409",
         "64005",
         "529.0"
        ],
        [
         "40",
         "Aboën",
         "139269",
         "82",
         "42",
         "4220",
         "42001",
         "473.0"
        ],
        [
         "41",
         "Abreschviller",
         "135684",
         "41",
         "57",
         "5717",
         "57003",
         "1418.0"
        ],
        [
         "42",
         "Abrest",
         "138952",
         "83",
         "03",
         "0318",
         "03001",
         "2919.0"
        ],
        [
         "43",
         "Abriès",
         "132167",
         "93",
         "05",
         "0510",
         "05001",
         "382.0"
        ],
        [
         "44",
         "Abscon",
         "130181",
         "31",
         "59",
         "5914",
         "59002",
         "4203.0"
        ],
        [
         "45",
         "Abzac",
         "143776",
         "72",
         "33",
         "3321",
         "33001",
         "2523.0"
        ],
        [
         "46",
         "Abère",
         "117590",
         "72",
         "64",
         "6423",
         "64002",
         "162.0"
        ],
        [
         "47",
         "Accolans",
         "134699",
         "43",
         "25",
         "2503",
         "25005",
         "88.0"
        ],
        [
         "48",
         "Accons",
         "111251",
         "82",
         "07",
         "0706",
         "07001",
         "369.0"
        ],
        [
         "49",
         "Accous",
         "119677",
         "72",
         "64",
         "6414",
         "64006",
         "457.0"
        ]
       ],
       "shape": {
        "columns": 7,
        "rows": 32616
       }
      },
      "text/html": [
       "<div>\n",
       "<style scoped>\n",
       "    .dataframe tbody tr th:only-of-type {\n",
       "        vertical-align: middle;\n",
       "    }\n",
       "\n",
       "    .dataframe tbody tr th {\n",
       "        vertical-align: top;\n",
       "    }\n",
       "\n",
       "    .dataframe thead th {\n",
       "        text-align: right;\n",
       "    }\n",
       "</style>\n",
       "<table border=\"1\" class=\"dataframe\">\n",
       "  <thead>\n",
       "    <tr style=\"text-align: right;\">\n",
       "      <th></th>\n",
       "      <th>libgeo</th>\n",
       "      <th>objectid</th>\n",
       "      <th>reg</th>\n",
       "      <th>dep</th>\n",
       "      <th>cv</th>\n",
       "      <th>codgeo</th>\n",
       "      <th>p21_pop</th>\n",
       "    </tr>\n",
       "  </thead>\n",
       "  <tbody>\n",
       "    <tr>\n",
       "      <th>0</th>\n",
       "      <td>Aast</td>\n",
       "      <td>127813</td>\n",
       "      <td>72</td>\n",
       "      <td>64</td>\n",
       "      <td>6427</td>\n",
       "      <td>64001</td>\n",
       "      <td>189.0</td>\n",
       "    </tr>\n",
       "    <tr>\n",
       "      <th>1</th>\n",
       "      <td>Abainville</td>\n",
       "      <td>131071</td>\n",
       "      <td>41</td>\n",
       "      <td>55</td>\n",
       "      <td>5510</td>\n",
       "      <td>55001</td>\n",
       "      <td>285.0</td>\n",
       "    </tr>\n",
       "    <tr>\n",
       "      <th>2</th>\n",
       "      <td>Abancourt</td>\n",
       "      <td>138836</td>\n",
       "      <td>31</td>\n",
       "      <td>59</td>\n",
       "      <td>5909</td>\n",
       "      <td>59001</td>\n",
       "      <td>1053.0</td>\n",
       "    </tr>\n",
       "    <tr>\n",
       "      <th>3</th>\n",
       "      <td>Abaucourt</td>\n",
       "      <td>114975</td>\n",
       "      <td>41</td>\n",
       "      <td>54</td>\n",
       "      <td>5402</td>\n",
       "      <td>54001</td>\n",
       "      <td>317.0</td>\n",
       "    </tr>\n",
       "    <tr>\n",
       "      <th>4</th>\n",
       "      <td>Abaucourt-Hautecourt</td>\n",
       "      <td>127193</td>\n",
       "      <td>41</td>\n",
       "      <td>55</td>\n",
       "      <td>5504</td>\n",
       "      <td>55002</td>\n",
       "      <td>99.0</td>\n",
       "    </tr>\n",
       "    <tr>\n",
       "      <th>...</th>\n",
       "      <td>...</td>\n",
       "      <td>...</td>\n",
       "      <td>...</td>\n",
       "      <td>...</td>\n",
       "      <td>...</td>\n",
       "      <td>...</td>\n",
       "      <td>...</td>\n",
       "    </tr>\n",
       "    <tr>\n",
       "      <th>32611</th>\n",
       "      <td>Île-d'Arz</td>\n",
       "      <td>111490</td>\n",
       "      <td>53</td>\n",
       "      <td>56</td>\n",
       "      <td>5620</td>\n",
       "      <td>56088</td>\n",
       "      <td>287.0</td>\n",
       "    </tr>\n",
       "    <tr>\n",
       "      <th>32612</th>\n",
       "      <td>Île-d'Houat</td>\n",
       "      <td>135543</td>\n",
       "      <td>53</td>\n",
       "      <td>56</td>\n",
       "      <td>5617</td>\n",
       "      <td>56086</td>\n",
       "      <td>216.0</td>\n",
       "    </tr>\n",
       "    <tr>\n",
       "      <th>32613</th>\n",
       "      <td>Île-de-Batz</td>\n",
       "      <td>133684</td>\n",
       "      <td>53</td>\n",
       "      <td>29</td>\n",
       "      <td>2926</td>\n",
       "      <td>29082</td>\n",
       "      <td>449.0</td>\n",
       "    </tr>\n",
       "    <tr>\n",
       "      <th>32614</th>\n",
       "      <td>Île-de-Bréhat</td>\n",
       "      <td>130805</td>\n",
       "      <td>53</td>\n",
       "      <td>22</td>\n",
       "      <td>2211</td>\n",
       "      <td>22016</td>\n",
       "      <td>402.0</td>\n",
       "    </tr>\n",
       "    <tr>\n",
       "      <th>32615</th>\n",
       "      <td>Île-de-Sein</td>\n",
       "      <td>138796</td>\n",
       "      <td>53</td>\n",
       "      <td>29</td>\n",
       "      <td>2910</td>\n",
       "      <td>29083</td>\n",
       "      <td>273.0</td>\n",
       "    </tr>\n",
       "  </tbody>\n",
       "</table>\n",
       "<p>32616 rows × 7 columns</p>\n",
       "</div>"
      ],
      "text/plain": [
       "                     libgeo  objectid  reg dep    cv codgeo  p21_pop\n",
       "0                      Aast    127813   72  64  6427  64001    189.0\n",
       "1                Abainville    131071   41  55  5510  55001    285.0\n",
       "2                 Abancourt    138836   31  59  5909  59001   1053.0\n",
       "3                 Abaucourt    114975   41  54  5402  54001    317.0\n",
       "4      Abaucourt-Hautecourt    127193   41  55  5504  55002     99.0\n",
       "...                     ...       ...  ...  ..   ...    ...      ...\n",
       "32611             Île-d'Arz    111490   53  56  5620  56088    287.0\n",
       "32612           Île-d'Houat    135543   53  56  5617  56086    216.0\n",
       "32613           Île-de-Batz    133684   53  29  2926  29082    449.0\n",
       "32614         Île-de-Bréhat    130805   53  22  2211  22016    402.0\n",
       "32615           Île-de-Sein    138796   53  29  2910  29083    273.0\n",
       "\n",
       "[32616 rows x 7 columns]"
      ]
     },
     "execution_count": 28,
     "metadata": {},
     "output_type": "execute_result"
    }
   ],
   "source": [
    "df = df_populations_communales.copy()\n",
    "\n",
    "df['libgeo'] = df['libgeo'].replace(\n",
    "    to_replace = [r'Paris.*', r'Lyon.*', r'Marseille.*'], \n",
    "    value = ['Paris', 'Lyon', 'Marseille'], \n",
    "    regex=True\n",
    ")\n",
    "\n",
    "treated_df = df.groupby('libgeo', as_index=False).agg({\n",
    "    'objectid': 'first',   # garde le premier ID (ou autre logique)\n",
    "    'reg': 'first',        # garde la première région\n",
    "    'dep': 'first',        # idem pour département\n",
    "    'cv': 'first', \n",
    "    'codgeo': 'first',\n",
    "    'p21_pop': 'sum'\n",
    "})\n",
    "\n",
    "treated_df"
   ]
  },
  {
   "cell_type": "code",
   "execution_count": 29,
   "id": "56ba057f",
   "metadata": {},
   "outputs": [
    {
     "data": {
      "application/vnd.microsoft.datawrangler.viewer.v0+json": {
       "columns": [
        {
         "name": "index",
         "rawType": "int64",
         "type": "integer"
        },
        {
         "name": "libgeo",
         "rawType": "object",
         "type": "string"
        },
        {
         "name": "objectid",
         "rawType": "int64",
         "type": "integer"
        },
        {
         "name": "reg",
         "rawType": "int64",
         "type": "integer"
        },
        {
         "name": "dep",
         "rawType": "object",
         "type": "string"
        },
        {
         "name": "cv",
         "rawType": "object",
         "type": "string"
        },
        {
         "name": "codgeo",
         "rawType": "object",
         "type": "string"
        },
        {
         "name": "p21_pop",
         "rawType": "float64",
         "type": "float"
        }
       ],
       "ref": "ee7a91fe-34ff-421c-a022-665b4c52ea38",
       "rows": [
        [
         "21047",
         "Paris",
         "129227",
         "11",
         "75",
         "75",
         "75111",
         "2134947.0"
        ],
        [
         "17471",
         "Marseille",
         "126624",
         "93",
         "13",
         "1398",
         "13206",
         "875868.0"
        ],
        [
         "16724",
         "Lyon",
         "126623",
         "82",
         "69",
         "6900",
         "69384",
         "522954.0"
        ],
        [
         "29477",
         "Toulouse",
         "114579",
         "73",
         "31",
         "3199",
         "31555",
         "504078.0"
        ],
        [
         "20020",
         "Nice",
         "139962",
         "93",
         "06",
         "0699",
         "06088",
         "348085.0"
        ],
        [
         "19752",
         "Nantes",
         "128203",
         "52",
         "44",
         "4496",
         "44109",
         "323204.0"
        ],
        [
         "18970",
         "Montpellier",
         "140072",
         "91",
         "34",
         "3499",
         "34172",
         "302454.0"
        ],
        [
         "28683",
         "Strasbourg",
         "125844",
         "42",
         "67",
         "6799",
         "67482",
         "291313.0"
        ],
        [
         "24535",
         "Saint-Denis",
         "119193",
         "91",
         "30",
         "3018",
         "30247",
         "269498.0"
        ],
        [
         "3460",
         "Bordeaux",
         "127920",
         "72",
         "33",
         "3397",
         "33063",
         "261804.0"
        ],
        [
         "16044",
         "Lille",
         "120640",
         "31",
         "59",
         "5997",
         "59350",
         "236710.0"
        ],
        [
         "22972",
         "Rennes",
         "138083",
         "53",
         "35",
         "3598",
         "35238",
         "225081.0"
        ],
        [
         "29472",
         "Toulon",
         "123209",
         "93",
         "83",
         "8399",
         "83137",
         "180452.0"
        ],
        [
         "22919",
         "Reims",
         "115939",
         "21",
         "51",
         "5199",
         "51454",
         "179380.0"
        ],
        [
         "27046",
         "Saint-Étienne",
         "141791",
         "82",
         "42",
         "4299",
         "42218",
         "172718.0"
        ],
        [
         "14988",
         "Le Havre",
         "138397",
         "23",
         "76",
         "7696",
         "76351",
         "166058.0"
        ],
        [
         "8444",
         "Dijon",
         "111232",
         "26",
         "21",
         "2199",
         "21231",
         "159346.0"
        ],
        [
         "11205",
         "Grenoble",
         "118521",
         "82",
         "38",
         "3898",
         "38185",
         "157477.0"
        ],
        [
         "591",
         "Angers",
         "128018",
         "52",
         "49",
         "4998",
         "49007",
         "157175.0"
        ],
        [
         "31484",
         "Villeurbanne",
         "131904",
         "82",
         "69",
         "6900",
         "69266",
         "156928.0"
        ],
        [
         "20388",
         "Nîmes",
         "113332",
         "91",
         "30",
         "3099",
         "30189",
         "148104.0"
        ],
        [
         "224",
         "Aix-en-Provence",
         "122254",
         "93",
         "13",
         "1397",
         "13001",
         "147478.0"
        ],
        [
         "6813",
         "Clermont-Ferrand",
         "141310",
         "83",
         "63",
         "6399",
         "63113",
         "147327.0"
        ],
        [
         "15038",
         "Le Mans",
         "116317",
         "52",
         "72",
         "7299",
         "72181",
         "145004.0"
        ],
        [
         "4040",
         "Brest",
         "121616",
         "53",
         "29",
         "2998",
         "29019",
         "139619.0"
        ],
        [
         "29532",
         "Tours",
         "133328",
         "24",
         "37",
         "3799",
         "37261",
         "137658.0"
        ],
        [
         "486",
         "Amiens",
         "137067",
         "22",
         "80",
         "8099",
         "80021",
         "133625.0"
        ],
        [
         "655",
         "Annecy",
         "136465",
         "82",
         "74",
         "7499",
         "74010",
         "131715.0"
        ],
        [
         "16065",
         "Limoges",
         "131358",
         "74",
         "87",
         "8799",
         "87085",
         "129760.0"
        ],
        [
         "17990",
         "Metz",
         "128781",
         "41",
         "57",
         "5798",
         "57463",
         "120874.0"
        ],
        [
         "3640",
         "Boulogne-Billancourt",
         "119043",
         "11",
         "92",
         "9296",
         "92012",
         "119808.0"
        ],
        [
         "21214",
         "Perpignan",
         "115904",
         "91",
         "66",
         "6699",
         "66136",
         "119656.0"
        ],
        [
         "2785",
         "Besançon",
         "113023",
         "43",
         "25",
         "2599",
         "25056",
         "119198.0"
        ],
        [
         "20664",
         "Orléans",
         "113767",
         "24",
         "45",
         "4599",
         "45234",
         "116617.0"
        ],
        [
         "18998",
         "Montreuil",
         "140438",
         "31",
         "62",
         "6210",
         "62588",
         "114692.0"
        ],
        [
         "23512",
         "Rouen",
         "129899",
         "23",
         "76",
         "7697",
         "76540",
         "114083.0"
        ],
        [
         "26260",
         "Saint-Paul",
         "142842",
         "25",
         "61",
         "6113",
         "61443",
         "111213.0"
        ],
        [
         "4738",
         "Caen",
         "113530",
         "25",
         "14",
         "1499",
         "14118",
         "108200.0"
        ],
        [
         "900",
         "Argenteuil",
         "135203",
         "11",
         "95",
         "9598",
         "95018",
         "107221.0"
        ],
        [
         "19453",
         "Mulhouse",
         "127858",
         "42",
         "68",
         "6899",
         "68224",
         "106341.0"
        ],
        [
         "19736",
         "Nancy",
         "124595",
         "41",
         "54",
         "5499",
         "54395",
         "104260.0"
        ]
       ],
       "shape": {
        "columns": 7,
        "rows": 41
       }
      },
      "text/html": [
       "<div>\n",
       "<style scoped>\n",
       "    .dataframe tbody tr th:only-of-type {\n",
       "        vertical-align: middle;\n",
       "    }\n",
       "\n",
       "    .dataframe tbody tr th {\n",
       "        vertical-align: top;\n",
       "    }\n",
       "\n",
       "    .dataframe thead th {\n",
       "        text-align: right;\n",
       "    }\n",
       "</style>\n",
       "<table border=\"1\" class=\"dataframe\">\n",
       "  <thead>\n",
       "    <tr style=\"text-align: right;\">\n",
       "      <th></th>\n",
       "      <th>libgeo</th>\n",
       "      <th>objectid</th>\n",
       "      <th>reg</th>\n",
       "      <th>dep</th>\n",
       "      <th>cv</th>\n",
       "      <th>codgeo</th>\n",
       "      <th>p21_pop</th>\n",
       "    </tr>\n",
       "  </thead>\n",
       "  <tbody>\n",
       "    <tr>\n",
       "      <th>21047</th>\n",
       "      <td>Paris</td>\n",
       "      <td>129227</td>\n",
       "      <td>11</td>\n",
       "      <td>75</td>\n",
       "      <td>75</td>\n",
       "      <td>75111</td>\n",
       "      <td>2134947.0</td>\n",
       "    </tr>\n",
       "    <tr>\n",
       "      <th>17471</th>\n",
       "      <td>Marseille</td>\n",
       "      <td>126624</td>\n",
       "      <td>93</td>\n",
       "      <td>13</td>\n",
       "      <td>1398</td>\n",
       "      <td>13206</td>\n",
       "      <td>875868.0</td>\n",
       "    </tr>\n",
       "    <tr>\n",
       "      <th>16724</th>\n",
       "      <td>Lyon</td>\n",
       "      <td>126623</td>\n",
       "      <td>82</td>\n",
       "      <td>69</td>\n",
       "      <td>6900</td>\n",
       "      <td>69384</td>\n",
       "      <td>522954.0</td>\n",
       "    </tr>\n",
       "    <tr>\n",
       "      <th>29477</th>\n",
       "      <td>Toulouse</td>\n",
       "      <td>114579</td>\n",
       "      <td>73</td>\n",
       "      <td>31</td>\n",
       "      <td>3199</td>\n",
       "      <td>31555</td>\n",
       "      <td>504078.0</td>\n",
       "    </tr>\n",
       "    <tr>\n",
       "      <th>20020</th>\n",
       "      <td>Nice</td>\n",
       "      <td>139962</td>\n",
       "      <td>93</td>\n",
       "      <td>06</td>\n",
       "      <td>0699</td>\n",
       "      <td>06088</td>\n",
       "      <td>348085.0</td>\n",
       "    </tr>\n",
       "    <tr>\n",
       "      <th>19752</th>\n",
       "      <td>Nantes</td>\n",
       "      <td>128203</td>\n",
       "      <td>52</td>\n",
       "      <td>44</td>\n",
       "      <td>4496</td>\n",
       "      <td>44109</td>\n",
       "      <td>323204.0</td>\n",
       "    </tr>\n",
       "    <tr>\n",
       "      <th>18970</th>\n",
       "      <td>Montpellier</td>\n",
       "      <td>140072</td>\n",
       "      <td>91</td>\n",
       "      <td>34</td>\n",
       "      <td>3499</td>\n",
       "      <td>34172</td>\n",
       "      <td>302454.0</td>\n",
       "    </tr>\n",
       "    <tr>\n",
       "      <th>28683</th>\n",
       "      <td>Strasbourg</td>\n",
       "      <td>125844</td>\n",
       "      <td>42</td>\n",
       "      <td>67</td>\n",
       "      <td>6799</td>\n",
       "      <td>67482</td>\n",
       "      <td>291313.0</td>\n",
       "    </tr>\n",
       "    <tr>\n",
       "      <th>24535</th>\n",
       "      <td>Saint-Denis</td>\n",
       "      <td>119193</td>\n",
       "      <td>91</td>\n",
       "      <td>30</td>\n",
       "      <td>3018</td>\n",
       "      <td>30247</td>\n",
       "      <td>269498.0</td>\n",
       "    </tr>\n",
       "    <tr>\n",
       "      <th>3460</th>\n",
       "      <td>Bordeaux</td>\n",
       "      <td>127920</td>\n",
       "      <td>72</td>\n",
       "      <td>33</td>\n",
       "      <td>3397</td>\n",
       "      <td>33063</td>\n",
       "      <td>261804.0</td>\n",
       "    </tr>\n",
       "    <tr>\n",
       "      <th>16044</th>\n",
       "      <td>Lille</td>\n",
       "      <td>120640</td>\n",
       "      <td>31</td>\n",
       "      <td>59</td>\n",
       "      <td>5997</td>\n",
       "      <td>59350</td>\n",
       "      <td>236710.0</td>\n",
       "    </tr>\n",
       "    <tr>\n",
       "      <th>22972</th>\n",
       "      <td>Rennes</td>\n",
       "      <td>138083</td>\n",
       "      <td>53</td>\n",
       "      <td>35</td>\n",
       "      <td>3598</td>\n",
       "      <td>35238</td>\n",
       "      <td>225081.0</td>\n",
       "    </tr>\n",
       "    <tr>\n",
       "      <th>29472</th>\n",
       "      <td>Toulon</td>\n",
       "      <td>123209</td>\n",
       "      <td>93</td>\n",
       "      <td>83</td>\n",
       "      <td>8399</td>\n",
       "      <td>83137</td>\n",
       "      <td>180452.0</td>\n",
       "    </tr>\n",
       "    <tr>\n",
       "      <th>22919</th>\n",
       "      <td>Reims</td>\n",
       "      <td>115939</td>\n",
       "      <td>21</td>\n",
       "      <td>51</td>\n",
       "      <td>5199</td>\n",
       "      <td>51454</td>\n",
       "      <td>179380.0</td>\n",
       "    </tr>\n",
       "    <tr>\n",
       "      <th>27046</th>\n",
       "      <td>Saint-Étienne</td>\n",
       "      <td>141791</td>\n",
       "      <td>82</td>\n",
       "      <td>42</td>\n",
       "      <td>4299</td>\n",
       "      <td>42218</td>\n",
       "      <td>172718.0</td>\n",
       "    </tr>\n",
       "    <tr>\n",
       "      <th>14988</th>\n",
       "      <td>Le Havre</td>\n",
       "      <td>138397</td>\n",
       "      <td>23</td>\n",
       "      <td>76</td>\n",
       "      <td>7696</td>\n",
       "      <td>76351</td>\n",
       "      <td>166058.0</td>\n",
       "    </tr>\n",
       "    <tr>\n",
       "      <th>8444</th>\n",
       "      <td>Dijon</td>\n",
       "      <td>111232</td>\n",
       "      <td>26</td>\n",
       "      <td>21</td>\n",
       "      <td>2199</td>\n",
       "      <td>21231</td>\n",
       "      <td>159346.0</td>\n",
       "    </tr>\n",
       "    <tr>\n",
       "      <th>11205</th>\n",
       "      <td>Grenoble</td>\n",
       "      <td>118521</td>\n",
       "      <td>82</td>\n",
       "      <td>38</td>\n",
       "      <td>3898</td>\n",
       "      <td>38185</td>\n",
       "      <td>157477.0</td>\n",
       "    </tr>\n",
       "    <tr>\n",
       "      <th>591</th>\n",
       "      <td>Angers</td>\n",
       "      <td>128018</td>\n",
       "      <td>52</td>\n",
       "      <td>49</td>\n",
       "      <td>4998</td>\n",
       "      <td>49007</td>\n",
       "      <td>157175.0</td>\n",
       "    </tr>\n",
       "    <tr>\n",
       "      <th>31484</th>\n",
       "      <td>Villeurbanne</td>\n",
       "      <td>131904</td>\n",
       "      <td>82</td>\n",
       "      <td>69</td>\n",
       "      <td>6900</td>\n",
       "      <td>69266</td>\n",
       "      <td>156928.0</td>\n",
       "    </tr>\n",
       "    <tr>\n",
       "      <th>20388</th>\n",
       "      <td>Nîmes</td>\n",
       "      <td>113332</td>\n",
       "      <td>91</td>\n",
       "      <td>30</td>\n",
       "      <td>3099</td>\n",
       "      <td>30189</td>\n",
       "      <td>148104.0</td>\n",
       "    </tr>\n",
       "    <tr>\n",
       "      <th>224</th>\n",
       "      <td>Aix-en-Provence</td>\n",
       "      <td>122254</td>\n",
       "      <td>93</td>\n",
       "      <td>13</td>\n",
       "      <td>1397</td>\n",
       "      <td>13001</td>\n",
       "      <td>147478.0</td>\n",
       "    </tr>\n",
       "    <tr>\n",
       "      <th>6813</th>\n",
       "      <td>Clermont-Ferrand</td>\n",
       "      <td>141310</td>\n",
       "      <td>83</td>\n",
       "      <td>63</td>\n",
       "      <td>6399</td>\n",
       "      <td>63113</td>\n",
       "      <td>147327.0</td>\n",
       "    </tr>\n",
       "    <tr>\n",
       "      <th>15038</th>\n",
       "      <td>Le Mans</td>\n",
       "      <td>116317</td>\n",
       "      <td>52</td>\n",
       "      <td>72</td>\n",
       "      <td>7299</td>\n",
       "      <td>72181</td>\n",
       "      <td>145004.0</td>\n",
       "    </tr>\n",
       "    <tr>\n",
       "      <th>4040</th>\n",
       "      <td>Brest</td>\n",
       "      <td>121616</td>\n",
       "      <td>53</td>\n",
       "      <td>29</td>\n",
       "      <td>2998</td>\n",
       "      <td>29019</td>\n",
       "      <td>139619.0</td>\n",
       "    </tr>\n",
       "    <tr>\n",
       "      <th>29532</th>\n",
       "      <td>Tours</td>\n",
       "      <td>133328</td>\n",
       "      <td>24</td>\n",
       "      <td>37</td>\n",
       "      <td>3799</td>\n",
       "      <td>37261</td>\n",
       "      <td>137658.0</td>\n",
       "    </tr>\n",
       "    <tr>\n",
       "      <th>486</th>\n",
       "      <td>Amiens</td>\n",
       "      <td>137067</td>\n",
       "      <td>22</td>\n",
       "      <td>80</td>\n",
       "      <td>8099</td>\n",
       "      <td>80021</td>\n",
       "      <td>133625.0</td>\n",
       "    </tr>\n",
       "    <tr>\n",
       "      <th>655</th>\n",
       "      <td>Annecy</td>\n",
       "      <td>136465</td>\n",
       "      <td>82</td>\n",
       "      <td>74</td>\n",
       "      <td>7499</td>\n",
       "      <td>74010</td>\n",
       "      <td>131715.0</td>\n",
       "    </tr>\n",
       "    <tr>\n",
       "      <th>16065</th>\n",
       "      <td>Limoges</td>\n",
       "      <td>131358</td>\n",
       "      <td>74</td>\n",
       "      <td>87</td>\n",
       "      <td>8799</td>\n",
       "      <td>87085</td>\n",
       "      <td>129760.0</td>\n",
       "    </tr>\n",
       "    <tr>\n",
       "      <th>17990</th>\n",
       "      <td>Metz</td>\n",
       "      <td>128781</td>\n",
       "      <td>41</td>\n",
       "      <td>57</td>\n",
       "      <td>5798</td>\n",
       "      <td>57463</td>\n",
       "      <td>120874.0</td>\n",
       "    </tr>\n",
       "    <tr>\n",
       "      <th>3640</th>\n",
       "      <td>Boulogne-Billancourt</td>\n",
       "      <td>119043</td>\n",
       "      <td>11</td>\n",
       "      <td>92</td>\n",
       "      <td>9296</td>\n",
       "      <td>92012</td>\n",
       "      <td>119808.0</td>\n",
       "    </tr>\n",
       "    <tr>\n",
       "      <th>21214</th>\n",
       "      <td>Perpignan</td>\n",
       "      <td>115904</td>\n",
       "      <td>91</td>\n",
       "      <td>66</td>\n",
       "      <td>6699</td>\n",
       "      <td>66136</td>\n",
       "      <td>119656.0</td>\n",
       "    </tr>\n",
       "    <tr>\n",
       "      <th>2785</th>\n",
       "      <td>Besançon</td>\n",
       "      <td>113023</td>\n",
       "      <td>43</td>\n",
       "      <td>25</td>\n",
       "      <td>2599</td>\n",
       "      <td>25056</td>\n",
       "      <td>119198.0</td>\n",
       "    </tr>\n",
       "    <tr>\n",
       "      <th>20664</th>\n",
       "      <td>Orléans</td>\n",
       "      <td>113767</td>\n",
       "      <td>24</td>\n",
       "      <td>45</td>\n",
       "      <td>4599</td>\n",
       "      <td>45234</td>\n",
       "      <td>116617.0</td>\n",
       "    </tr>\n",
       "    <tr>\n",
       "      <th>18998</th>\n",
       "      <td>Montreuil</td>\n",
       "      <td>140438</td>\n",
       "      <td>31</td>\n",
       "      <td>62</td>\n",
       "      <td>6210</td>\n",
       "      <td>62588</td>\n",
       "      <td>114692.0</td>\n",
       "    </tr>\n",
       "    <tr>\n",
       "      <th>23512</th>\n",
       "      <td>Rouen</td>\n",
       "      <td>129899</td>\n",
       "      <td>23</td>\n",
       "      <td>76</td>\n",
       "      <td>7697</td>\n",
       "      <td>76540</td>\n",
       "      <td>114083.0</td>\n",
       "    </tr>\n",
       "    <tr>\n",
       "      <th>26260</th>\n",
       "      <td>Saint-Paul</td>\n",
       "      <td>142842</td>\n",
       "      <td>25</td>\n",
       "      <td>61</td>\n",
       "      <td>6113</td>\n",
       "      <td>61443</td>\n",
       "      <td>111213.0</td>\n",
       "    </tr>\n",
       "    <tr>\n",
       "      <th>4738</th>\n",
       "      <td>Caen</td>\n",
       "      <td>113530</td>\n",
       "      <td>25</td>\n",
       "      <td>14</td>\n",
       "      <td>1499</td>\n",
       "      <td>14118</td>\n",
       "      <td>108200.0</td>\n",
       "    </tr>\n",
       "    <tr>\n",
       "      <th>900</th>\n",
       "      <td>Argenteuil</td>\n",
       "      <td>135203</td>\n",
       "      <td>11</td>\n",
       "      <td>95</td>\n",
       "      <td>9598</td>\n",
       "      <td>95018</td>\n",
       "      <td>107221.0</td>\n",
       "    </tr>\n",
       "    <tr>\n",
       "      <th>19453</th>\n",
       "      <td>Mulhouse</td>\n",
       "      <td>127858</td>\n",
       "      <td>42</td>\n",
       "      <td>68</td>\n",
       "      <td>6899</td>\n",
       "      <td>68224</td>\n",
       "      <td>106341.0</td>\n",
       "    </tr>\n",
       "    <tr>\n",
       "      <th>19736</th>\n",
       "      <td>Nancy</td>\n",
       "      <td>124595</td>\n",
       "      <td>41</td>\n",
       "      <td>54</td>\n",
       "      <td>5499</td>\n",
       "      <td>54395</td>\n",
       "      <td>104260.0</td>\n",
       "    </tr>\n",
       "  </tbody>\n",
       "</table>\n",
       "</div>"
      ],
      "text/plain": [
       "                     libgeo  objectid  reg dep    cv codgeo    p21_pop\n",
       "21047                 Paris    129227   11  75    75  75111  2134947.0\n",
       "17471             Marseille    126624   93  13  1398  13206   875868.0\n",
       "16724                  Lyon    126623   82  69  6900  69384   522954.0\n",
       "29477              Toulouse    114579   73  31  3199  31555   504078.0\n",
       "20020                  Nice    139962   93  06  0699  06088   348085.0\n",
       "19752                Nantes    128203   52  44  4496  44109   323204.0\n",
       "18970           Montpellier    140072   91  34  3499  34172   302454.0\n",
       "28683            Strasbourg    125844   42  67  6799  67482   291313.0\n",
       "24535           Saint-Denis    119193   91  30  3018  30247   269498.0\n",
       "3460               Bordeaux    127920   72  33  3397  33063   261804.0\n",
       "16044                 Lille    120640   31  59  5997  59350   236710.0\n",
       "22972                Rennes    138083   53  35  3598  35238   225081.0\n",
       "29472                Toulon    123209   93  83  8399  83137   180452.0\n",
       "22919                 Reims    115939   21  51  5199  51454   179380.0\n",
       "27046         Saint-Étienne    141791   82  42  4299  42218   172718.0\n",
       "14988              Le Havre    138397   23  76  7696  76351   166058.0\n",
       "8444                  Dijon    111232   26  21  2199  21231   159346.0\n",
       "11205              Grenoble    118521   82  38  3898  38185   157477.0\n",
       "591                  Angers    128018   52  49  4998  49007   157175.0\n",
       "31484          Villeurbanne    131904   82  69  6900  69266   156928.0\n",
       "20388                 Nîmes    113332   91  30  3099  30189   148104.0\n",
       "224         Aix-en-Provence    122254   93  13  1397  13001   147478.0\n",
       "6813       Clermont-Ferrand    141310   83  63  6399  63113   147327.0\n",
       "15038               Le Mans    116317   52  72  7299  72181   145004.0\n",
       "4040                  Brest    121616   53  29  2998  29019   139619.0\n",
       "29532                 Tours    133328   24  37  3799  37261   137658.0\n",
       "486                  Amiens    137067   22  80  8099  80021   133625.0\n",
       "655                  Annecy    136465   82  74  7499  74010   131715.0\n",
       "16065               Limoges    131358   74  87  8799  87085   129760.0\n",
       "17990                  Metz    128781   41  57  5798  57463   120874.0\n",
       "3640   Boulogne-Billancourt    119043   11  92  9296  92012   119808.0\n",
       "21214             Perpignan    115904   91  66  6699  66136   119656.0\n",
       "2785               Besançon    113023   43  25  2599  25056   119198.0\n",
       "20664               Orléans    113767   24  45  4599  45234   116617.0\n",
       "18998             Montreuil    140438   31  62  6210  62588   114692.0\n",
       "23512                 Rouen    129899   23  76  7697  76540   114083.0\n",
       "26260            Saint-Paul    142842   25  61  6113  61443   111213.0\n",
       "4738                   Caen    113530   25  14  1499  14118   108200.0\n",
       "900              Argenteuil    135203   11  95  9598  95018   107221.0\n",
       "19453              Mulhouse    127858   42  68  6899  68224   106341.0\n",
       "19736                 Nancy    124595   41  54  5499  54395   104260.0"
      ]
     },
     "execution_count": 29,
     "metadata": {},
     "output_type": "execute_result"
    }
   ],
   "source": [
    "df_pop_100k = treated_df[treated_df['p21_pop'] > 100000]\n",
    "\n",
    "df_pop_100k.sort_values(by='p21_pop', ascending=False)"
   ]
  },
  {
   "cell_type": "code",
   "execution_count": 30,
   "id": "4c0e0c17",
   "metadata": {},
   "outputs": [
    {
     "data": {
      "application/vnd.microsoft.datawrangler.viewer.v0+json": {
       "columns": [
        {
         "name": "index",
         "rawType": "int64",
         "type": "integer"
        },
        {
         "name": "Rentrée universitaire",
         "rawType": "int64",
         "type": "integer"
        },
        {
         "name": "catégorie d'établissement",
         "rawType": "object",
         "type": "string"
        },
        {
         "name": "secteur d'établissement",
         "rawType": "object",
         "type": "string"
        },
        {
         "name": "code UAI de l'établissement",
         "rawType": "object",
         "type": "string"
        },
        {
         "name": "sigle de l'établissement",
         "rawType": "object",
         "type": "string"
        },
        {
         "name": "libellé de l'établissement",
         "rawType": "object",
         "type": "string"
        },
        {
         "name": "libellé complémentaire de l'établissement",
         "rawType": "object",
         "type": "unknown"
        },
        {
         "name": "Code UAI de la composante",
         "rawType": "object",
         "type": "string"
        },
        {
         "name": "sigle de la composante",
         "rawType": "object",
         "type": "string"
        },
        {
         "name": "libellé de la composante",
         "rawType": "object",
         "type": "string"
        },
        {
         "name": "libellé complémentaire de la composante",
         "rawType": "object",
         "type": "string"
        },
        {
         "name": "id région",
         "rawType": "object",
         "type": "string"
        },
        {
         "name": "région",
         "rawType": "object",
         "type": "string"
        },
        {
         "name": "id académie",
         "rawType": "object",
         "type": "string"
        },
        {
         "name": "académie",
         "rawType": "object",
         "type": "string"
        },
        {
         "name": "id département",
         "rawType": "object",
         "type": "string"
        },
        {
         "name": "département",
         "rawType": "object",
         "type": "string"
        },
        {
         "name": "id unité urbaine",
         "rawType": "object",
         "type": "string"
        },
        {
         "name": "unité urbaine",
         "rawType": "object",
         "type": "string"
        },
        {
         "name": "code commune",
         "rawType": "object",
         "type": "string"
        },
        {
         "name": "Commune",
         "rawType": "object",
         "type": "string"
        },
        {
         "name": "gps",
         "rawType": "object",
         "type": "unknown"
        },
        {
         "name": "degetu",
         "rawType": "float64",
         "type": "float"
        },
        {
         "name": "degre_etudes",
         "rawType": "object",
         "type": "string"
        },
        {
         "name": "nombre total d’étudiants inscrits hors doubles inscriptions université/CPGE",
         "rawType": "int64",
         "type": "integer"
        },
        {
         "name": "dont femmes",
         "rawType": "int64",
         "type": "integer"
        },
        {
         "name": "dont hommes",
         "rawType": "int64",
         "type": "integer"
        }
       ],
       "ref": "6a0468a8-d060-42ac-9fdd-b3df831095b8",
       "rows": [
        [
         "0",
         "2023",
         "Écoles de commerce, gestion et vente",
         "Privé",
         "0562044T",
         "EC TECH SUP PR",
         "GROUPE AFTEC",
         "IPAC BACHELOR FACTORY VANNES",
         "0562044T",
         "EC TECH SUP PR",
         "GROUPE AFTEC",
         "IPAC BACHELOR FACTORY VANNES",
         "R53",
         "Bretagne",
         "A14",
         "Rennes",
         "D056",
         "56 - Morbihan",
         "UU56501",
         "Vannes",
         "56158",
         "Plescop",
         "47.67764394859038, -2.80211043128016",
         "3.0",
         "BAC + 3",
         "112",
         "96",
         "16"
        ],
        [
         "1",
         "2023",
         "Écoles de commerce, gestion et vente",
         "Privé",
         "0590346F",
         "SKEMA LILLE",
         "SKEMA BUSINESS SCHOOL LILLE",
         null,
         "0060656F",
         "E.COM",
         "ECOLE DE COMMERCE",
         "CAMPUS DE SOPHIA ANTIPOLIS",
         "R93",
         "Provence-Alpes-Côte d'Azur",
         "A23",
         "Nice",
         "D006",
         "06 - Alpes-Maritimes",
         "UU06701",
         "Nice",
         "06152",
         "Valbonne",
         "43.61328883276337, 7.056290282560445",
         "6.0",
         "BAC + 6 et plus",
         "19",
         "9",
         "10"
        ],
        [
         "2",
         "2023",
         "Écoles de commerce, gestion et vente",
         "Privé",
         "0590346F",
         "SKEMA LILLE",
         "SKEMA BUSINESS SCHOOL LILLE",
         null,
         "216P0001",
         "SKEMA CHINE",
         "SKEMA BUSINESS SCHOOL",
         "CAMPUS DE SUZHOU (CHINE)",
         "R99",
         "Étranger",
         "A00",
         "Étranger",
         "D999",
         "Étranger",
         "CHI99216",
         "Suzhou",
         "99216",
         "Suzhou",
         null,
         "4.0",
         "BAC + 4",
         "389",
         "67",
         "322"
        ],
        [
         "3",
         "2023",
         "Écoles de commerce, gestion et vente",
         "Privé",
         "0590350K",
         "EDHEC LILLE",
         "EDHEC BUSINESS SCHOOL",
         "MEMBRE FUPL",
         "0755719J",
         "EDHEC",
         "CENTRE DE FORMATION CONTINUE",
         "EDHEC",
         "R11",
         "Île-de-France",
         "A01",
         "Paris",
         "D075",
         "75 - Paris",
         "UU00851",
         "Paris",
         "75102",
         "Paris  2e",
         null,
         "5.0",
         "BAC + 5",
         "387",
         "162",
         "225"
        ],
        [
         "4",
         "2023",
         "Écoles de commerce, gestion et vente",
         "Privé",
         "0593202K",
         "IESEG LILLE",
         "INST ECO SCIENT GESTION LILLE",
         "MEMBRE FUPL",
         "0593202K",
         "IESEG LILLE",
         "INST ECO SCIENT GESTION LILLE",
         "MEMBRE FUPL",
         "R32",
         "Hauts-de-France",
         "A09",
         "Lille",
         "D059",
         "59 - Nord",
         "UU59702",
         "Lille",
         "59350",
         "Lille",
         "50.63553116922688, 3.044909976114497",
         "2.0",
         "BAC + 2",
         "739",
         "285",
         "454"
        ]
       ],
       "shape": {
        "columns": 27,
        "rows": 5
       }
      },
      "text/html": [
       "<div>\n",
       "<style scoped>\n",
       "    .dataframe tbody tr th:only-of-type {\n",
       "        vertical-align: middle;\n",
       "    }\n",
       "\n",
       "    .dataframe tbody tr th {\n",
       "        vertical-align: top;\n",
       "    }\n",
       "\n",
       "    .dataframe thead th {\n",
       "        text-align: right;\n",
       "    }\n",
       "</style>\n",
       "<table border=\"1\" class=\"dataframe\">\n",
       "  <thead>\n",
       "    <tr style=\"text-align: right;\">\n",
       "      <th></th>\n",
       "      <th>Rentrée universitaire</th>\n",
       "      <th>catégorie d'établissement</th>\n",
       "      <th>secteur d'établissement</th>\n",
       "      <th>code UAI de l'établissement</th>\n",
       "      <th>sigle de l'établissement</th>\n",
       "      <th>libellé de l'établissement</th>\n",
       "      <th>libellé complémentaire de l'établissement</th>\n",
       "      <th>Code UAI de la composante</th>\n",
       "      <th>sigle de la composante</th>\n",
       "      <th>libellé de la composante</th>\n",
       "      <th>...</th>\n",
       "      <th>id unité urbaine</th>\n",
       "      <th>unité urbaine</th>\n",
       "      <th>code commune</th>\n",
       "      <th>Commune</th>\n",
       "      <th>gps</th>\n",
       "      <th>degetu</th>\n",
       "      <th>degre_etudes</th>\n",
       "      <th>nombre total d’étudiants inscrits hors doubles inscriptions université/CPGE</th>\n",
       "      <th>dont femmes</th>\n",
       "      <th>dont hommes</th>\n",
       "    </tr>\n",
       "  </thead>\n",
       "  <tbody>\n",
       "    <tr>\n",
       "      <th>0</th>\n",
       "      <td>2023</td>\n",
       "      <td>Écoles de commerce, gestion et vente</td>\n",
       "      <td>Privé</td>\n",
       "      <td>0562044T</td>\n",
       "      <td>EC TECH SUP PR</td>\n",
       "      <td>GROUPE AFTEC</td>\n",
       "      <td>IPAC BACHELOR FACTORY VANNES</td>\n",
       "      <td>0562044T</td>\n",
       "      <td>EC TECH SUP PR</td>\n",
       "      <td>GROUPE AFTEC</td>\n",
       "      <td>...</td>\n",
       "      <td>UU56501</td>\n",
       "      <td>Vannes</td>\n",
       "      <td>56158</td>\n",
       "      <td>Plescop</td>\n",
       "      <td>47.67764394859038, -2.80211043128016</td>\n",
       "      <td>3.0</td>\n",
       "      <td>BAC + 3</td>\n",
       "      <td>112</td>\n",
       "      <td>96</td>\n",
       "      <td>16</td>\n",
       "    </tr>\n",
       "    <tr>\n",
       "      <th>1</th>\n",
       "      <td>2023</td>\n",
       "      <td>Écoles de commerce, gestion et vente</td>\n",
       "      <td>Privé</td>\n",
       "      <td>0590346F</td>\n",
       "      <td>SKEMA LILLE</td>\n",
       "      <td>SKEMA BUSINESS SCHOOL LILLE</td>\n",
       "      <td>NaN</td>\n",
       "      <td>0060656F</td>\n",
       "      <td>E.COM</td>\n",
       "      <td>ECOLE DE COMMERCE</td>\n",
       "      <td>...</td>\n",
       "      <td>UU06701</td>\n",
       "      <td>Nice</td>\n",
       "      <td>06152</td>\n",
       "      <td>Valbonne</td>\n",
       "      <td>43.61328883276337, 7.056290282560445</td>\n",
       "      <td>6.0</td>\n",
       "      <td>BAC + 6 et plus</td>\n",
       "      <td>19</td>\n",
       "      <td>9</td>\n",
       "      <td>10</td>\n",
       "    </tr>\n",
       "    <tr>\n",
       "      <th>2</th>\n",
       "      <td>2023</td>\n",
       "      <td>Écoles de commerce, gestion et vente</td>\n",
       "      <td>Privé</td>\n",
       "      <td>0590346F</td>\n",
       "      <td>SKEMA LILLE</td>\n",
       "      <td>SKEMA BUSINESS SCHOOL LILLE</td>\n",
       "      <td>NaN</td>\n",
       "      <td>216P0001</td>\n",
       "      <td>SKEMA CHINE</td>\n",
       "      <td>SKEMA BUSINESS SCHOOL</td>\n",
       "      <td>...</td>\n",
       "      <td>CHI99216</td>\n",
       "      <td>Suzhou</td>\n",
       "      <td>99216</td>\n",
       "      <td>Suzhou</td>\n",
       "      <td>NaN</td>\n",
       "      <td>4.0</td>\n",
       "      <td>BAC + 4</td>\n",
       "      <td>389</td>\n",
       "      <td>67</td>\n",
       "      <td>322</td>\n",
       "    </tr>\n",
       "    <tr>\n",
       "      <th>3</th>\n",
       "      <td>2023</td>\n",
       "      <td>Écoles de commerce, gestion et vente</td>\n",
       "      <td>Privé</td>\n",
       "      <td>0590350K</td>\n",
       "      <td>EDHEC LILLE</td>\n",
       "      <td>EDHEC BUSINESS SCHOOL</td>\n",
       "      <td>MEMBRE FUPL</td>\n",
       "      <td>0755719J</td>\n",
       "      <td>EDHEC</td>\n",
       "      <td>CENTRE DE FORMATION CONTINUE</td>\n",
       "      <td>...</td>\n",
       "      <td>UU00851</td>\n",
       "      <td>Paris</td>\n",
       "      <td>75102</td>\n",
       "      <td>Paris  2e</td>\n",
       "      <td>NaN</td>\n",
       "      <td>5.0</td>\n",
       "      <td>BAC + 5</td>\n",
       "      <td>387</td>\n",
       "      <td>162</td>\n",
       "      <td>225</td>\n",
       "    </tr>\n",
       "    <tr>\n",
       "      <th>4</th>\n",
       "      <td>2023</td>\n",
       "      <td>Écoles de commerce, gestion et vente</td>\n",
       "      <td>Privé</td>\n",
       "      <td>0593202K</td>\n",
       "      <td>IESEG LILLE</td>\n",
       "      <td>INST ECO SCIENT GESTION LILLE</td>\n",
       "      <td>MEMBRE FUPL</td>\n",
       "      <td>0593202K</td>\n",
       "      <td>IESEG LILLE</td>\n",
       "      <td>INST ECO SCIENT GESTION LILLE</td>\n",
       "      <td>...</td>\n",
       "      <td>UU59702</td>\n",
       "      <td>Lille</td>\n",
       "      <td>59350</td>\n",
       "      <td>Lille</td>\n",
       "      <td>50.63553116922688, 3.044909976114497</td>\n",
       "      <td>2.0</td>\n",
       "      <td>BAC + 2</td>\n",
       "      <td>739</td>\n",
       "      <td>285</td>\n",
       "      <td>454</td>\n",
       "    </tr>\n",
       "  </tbody>\n",
       "</table>\n",
       "<p>5 rows × 27 columns</p>\n",
       "</div>"
      ],
      "text/plain": [
       "   Rentrée universitaire             catégorie d'établissement  \\\n",
       "0                   2023  Écoles de commerce, gestion et vente   \n",
       "1                   2023  Écoles de commerce, gestion et vente   \n",
       "2                   2023  Écoles de commerce, gestion et vente   \n",
       "3                   2023  Écoles de commerce, gestion et vente   \n",
       "4                   2023  Écoles de commerce, gestion et vente   \n",
       "\n",
       "  secteur d'établissement code UAI de l'établissement  \\\n",
       "0                   Privé                    0562044T   \n",
       "1                   Privé                    0590346F   \n",
       "2                   Privé                    0590346F   \n",
       "3                   Privé                    0590350K   \n",
       "4                   Privé                    0593202K   \n",
       "\n",
       "  sigle de l'établissement     libellé de l'établissement  \\\n",
       "0           EC TECH SUP PR                   GROUPE AFTEC   \n",
       "1              SKEMA LILLE    SKEMA BUSINESS SCHOOL LILLE   \n",
       "2              SKEMA LILLE    SKEMA BUSINESS SCHOOL LILLE   \n",
       "3              EDHEC LILLE          EDHEC BUSINESS SCHOOL   \n",
       "4              IESEG LILLE  INST ECO SCIENT GESTION LILLE   \n",
       "\n",
       "  libellé complémentaire de l'établissement Code UAI de la composante  \\\n",
       "0              IPAC BACHELOR FACTORY VANNES                  0562044T   \n",
       "1                                       NaN                  0060656F   \n",
       "2                                       NaN                  216P0001   \n",
       "3                               MEMBRE FUPL                  0755719J   \n",
       "4                               MEMBRE FUPL                  0593202K   \n",
       "\n",
       "  sigle de la composante       libellé de la composante  ... id unité urbaine  \\\n",
       "0         EC TECH SUP PR                   GROUPE AFTEC  ...          UU56501   \n",
       "1                  E.COM              ECOLE DE COMMERCE  ...          UU06701   \n",
       "2            SKEMA CHINE          SKEMA BUSINESS SCHOOL  ...         CHI99216   \n",
       "3                  EDHEC   CENTRE DE FORMATION CONTINUE  ...          UU00851   \n",
       "4            IESEG LILLE  INST ECO SCIENT GESTION LILLE  ...          UU59702   \n",
       "\n",
       "  unité urbaine code commune    Commune                                   gps  \\\n",
       "0        Vannes        56158    Plescop  47.67764394859038, -2.80211043128016   \n",
       "1          Nice        06152   Valbonne  43.61328883276337, 7.056290282560445   \n",
       "2        Suzhou        99216     Suzhou                                   NaN   \n",
       "3         Paris        75102  Paris  2e                                   NaN   \n",
       "4         Lille        59350      Lille  50.63553116922688, 3.044909976114497   \n",
       "\n",
       "  degetu     degre_etudes  \\\n",
       "0    3.0          BAC + 3   \n",
       "1    6.0  BAC + 6 et plus   \n",
       "2    4.0          BAC + 4   \n",
       "3    5.0          BAC + 5   \n",
       "4    2.0          BAC + 2   \n",
       "\n",
       "  nombre total d’étudiants inscrits hors doubles inscriptions université/CPGE  \\\n",
       "0                                                112                            \n",
       "1                                                 19                            \n",
       "2                                                389                            \n",
       "3                                                387                            \n",
       "4                                                739                            \n",
       "\n",
       "  dont femmes dont hommes  \n",
       "0          96          16  \n",
       "1           9          10  \n",
       "2          67         322  \n",
       "3         162         225  \n",
       "4         285         454  \n",
       "\n",
       "[5 rows x 27 columns]"
      ]
     },
     "execution_count": 30,
     "metadata": {},
     "output_type": "execute_result"
    }
   ],
   "source": [
    "df_enseignement_sup = pd.read_csv(\"fr-esr-atlas_regional-effectifs-d-etudiants-inscrits-detail_etablissements.csv\", delimiter=';')\n",
    "\n",
    "df_enseignement_sup.head()"
   ]
  },
  {
   "cell_type": "code",
   "execution_count": 31,
   "id": "c9395838",
   "metadata": {},
   "outputs": [
    {
     "data": {
      "application/vnd.microsoft.datawrangler.viewer.v0+json": {
       "columns": [
        {
         "name": "index",
         "rawType": "int64",
         "type": "integer"
        },
        {
         "name": "Rentrée universitaire",
         "rawType": "int64",
         "type": "integer"
        },
        {
         "name": "catégorie d'établissement",
         "rawType": "object",
         "type": "string"
        },
        {
         "name": "secteur d'établissement",
         "rawType": "object",
         "type": "string"
        },
        {
         "name": "code UAI de l'établissement",
         "rawType": "object",
         "type": "string"
        },
        {
         "name": "sigle de l'établissement",
         "rawType": "object",
         "type": "string"
        },
        {
         "name": "libellé de l'établissement",
         "rawType": "object",
         "type": "string"
        },
        {
         "name": "libellé complémentaire de l'établissement",
         "rawType": "object",
         "type": "unknown"
        },
        {
         "name": "Code UAI de la composante",
         "rawType": "object",
         "type": "string"
        },
        {
         "name": "sigle de la composante",
         "rawType": "object",
         "type": "string"
        },
        {
         "name": "libellé de la composante",
         "rawType": "object",
         "type": "string"
        },
        {
         "name": "libellé complémentaire de la composante",
         "rawType": "object",
         "type": "unknown"
        },
        {
         "name": "id région",
         "rawType": "object",
         "type": "string"
        },
        {
         "name": "région",
         "rawType": "object",
         "type": "string"
        },
        {
         "name": "id académie",
         "rawType": "object",
         "type": "string"
        },
        {
         "name": "académie",
         "rawType": "object",
         "type": "string"
        },
        {
         "name": "id département",
         "rawType": "object",
         "type": "string"
        },
        {
         "name": "département",
         "rawType": "object",
         "type": "string"
        },
        {
         "name": "id unité urbaine",
         "rawType": "object",
         "type": "string"
        },
        {
         "name": "unité urbaine",
         "rawType": "object",
         "type": "string"
        },
        {
         "name": "code commune",
         "rawType": "object",
         "type": "string"
        },
        {
         "name": "Commune",
         "rawType": "object",
         "type": "string"
        },
        {
         "name": "gps",
         "rawType": "object",
         "type": "unknown"
        },
        {
         "name": "degetu",
         "rawType": "float64",
         "type": "float"
        },
        {
         "name": "degre_etudes",
         "rawType": "object",
         "type": "string"
        },
        {
         "name": "nombre total d’étudiants inscrits hors doubles inscriptions université/CPGE",
         "rawType": "int64",
         "type": "integer"
        },
        {
         "name": "dont femmes",
         "rawType": "int64",
         "type": "integer"
        },
        {
         "name": "dont hommes",
         "rawType": "int64",
         "type": "integer"
        },
        {
         "name": "dep",
         "rawType": "object",
         "type": "string"
        }
       ],
       "ref": "11117fff-ffa4-4f3b-8fc7-da60bab2b994",
       "rows": [
        [
         "0",
         "2023",
         "Écoles de commerce, gestion et vente",
         "Privé",
         "0562044T",
         "EC TECH SUP PR",
         "GROUPE AFTEC",
         "IPAC BACHELOR FACTORY VANNES",
         "0562044T",
         "EC TECH SUP PR",
         "GROUPE AFTEC",
         "IPAC BACHELOR FACTORY VANNES",
         "R53",
         "Bretagne",
         "A14",
         "Rennes",
         "D056",
         "56 - Morbihan",
         "UU56501",
         "Vannes",
         "56158",
         "Plescop",
         "47.67764394859038, -2.80211043128016",
         "3.0",
         "BAC + 3",
         "112",
         "96",
         "16",
         "56"
        ],
        [
         "1",
         "2023",
         "Écoles de commerce, gestion et vente",
         "Privé",
         "0590346F",
         "SKEMA LILLE",
         "SKEMA BUSINESS SCHOOL LILLE",
         null,
         "0060656F",
         "E.COM",
         "ECOLE DE COMMERCE",
         "CAMPUS DE SOPHIA ANTIPOLIS",
         "R93",
         "Provence-Alpes-Côte d'Azur",
         "A23",
         "Nice",
         "D006",
         "06 - Alpes-Maritimes",
         "UU06701",
         "Nice",
         "06152",
         "Valbonne",
         "43.61328883276337, 7.056290282560445",
         "6.0",
         "BAC + 6 et plus",
         "19",
         "9",
         "10",
         "06"
        ],
        [
         "3",
         "2023",
         "Écoles de commerce, gestion et vente",
         "Privé",
         "0590350K",
         "EDHEC LILLE",
         "EDHEC BUSINESS SCHOOL",
         "MEMBRE FUPL",
         "0755719J",
         "EDHEC",
         "CENTRE DE FORMATION CONTINUE",
         "EDHEC",
         "R11",
         "Île-de-France",
         "A01",
         "Paris",
         "D075",
         "75 - Paris",
         "UU00851",
         "Paris",
         "75102",
         "Paris  2e",
         null,
         "5.0",
         "BAC + 5",
         "387",
         "162",
         "225",
         "75"
        ],
        [
         "4",
         "2023",
         "Écoles de commerce, gestion et vente",
         "Privé",
         "0593202K",
         "IESEG LILLE",
         "INST ECO SCIENT GESTION LILLE",
         "MEMBRE FUPL",
         "0593202K",
         "IESEG LILLE",
         "INST ECO SCIENT GESTION LILLE",
         "MEMBRE FUPL",
         "R32",
         "Hauts-de-France",
         "A09",
         "Lille",
         "D059",
         "59 - Nord",
         "UU59702",
         "Lille",
         "59350",
         "Lille",
         "50.63553116922688, 3.044909976114497",
         "2.0",
         "BAC + 2",
         "739",
         "285",
         "454",
         "59"
        ],
        [
         "5",
         "2023",
         "Écoles de commerce, gestion et vente",
         "Privé",
         "0593202K",
         "IESEG LILLE",
         "INST ECO SCIENT GESTION LILLE",
         "MEMBRE FUPL",
         "0922663V",
         "IESEG BOULOGNE",
         "INST ECO SC GEST BOULOGNE-BILL",
         null,
         "R11",
         "Île-de-France",
         "A25",
         "Versailles",
         "D092",
         "92 - Hauts-de-Seine",
         "UU00851",
         "Paris",
         "92050",
         "Nanterre",
         "48.89739112970496, 2.224693366221823",
         "4.0",
         "BAC + 4",
         "1022",
         "535",
         "487",
         "92"
        ]
       ],
       "shape": {
        "columns": 28,
        "rows": 5
       }
      },
      "text/html": [
       "<div>\n",
       "<style scoped>\n",
       "    .dataframe tbody tr th:only-of-type {\n",
       "        vertical-align: middle;\n",
       "    }\n",
       "\n",
       "    .dataframe tbody tr th {\n",
       "        vertical-align: top;\n",
       "    }\n",
       "\n",
       "    .dataframe thead th {\n",
       "        text-align: right;\n",
       "    }\n",
       "</style>\n",
       "<table border=\"1\" class=\"dataframe\">\n",
       "  <thead>\n",
       "    <tr style=\"text-align: right;\">\n",
       "      <th></th>\n",
       "      <th>Rentrée universitaire</th>\n",
       "      <th>catégorie d'établissement</th>\n",
       "      <th>secteur d'établissement</th>\n",
       "      <th>code UAI de l'établissement</th>\n",
       "      <th>sigle de l'établissement</th>\n",
       "      <th>libellé de l'établissement</th>\n",
       "      <th>libellé complémentaire de l'établissement</th>\n",
       "      <th>Code UAI de la composante</th>\n",
       "      <th>sigle de la composante</th>\n",
       "      <th>libellé de la composante</th>\n",
       "      <th>...</th>\n",
       "      <th>unité urbaine</th>\n",
       "      <th>code commune</th>\n",
       "      <th>Commune</th>\n",
       "      <th>gps</th>\n",
       "      <th>degetu</th>\n",
       "      <th>degre_etudes</th>\n",
       "      <th>nombre total d’étudiants inscrits hors doubles inscriptions université/CPGE</th>\n",
       "      <th>dont femmes</th>\n",
       "      <th>dont hommes</th>\n",
       "      <th>dep</th>\n",
       "    </tr>\n",
       "  </thead>\n",
       "  <tbody>\n",
       "    <tr>\n",
       "      <th>0</th>\n",
       "      <td>2023</td>\n",
       "      <td>Écoles de commerce, gestion et vente</td>\n",
       "      <td>Privé</td>\n",
       "      <td>0562044T</td>\n",
       "      <td>EC TECH SUP PR</td>\n",
       "      <td>GROUPE AFTEC</td>\n",
       "      <td>IPAC BACHELOR FACTORY VANNES</td>\n",
       "      <td>0562044T</td>\n",
       "      <td>EC TECH SUP PR</td>\n",
       "      <td>GROUPE AFTEC</td>\n",
       "      <td>...</td>\n",
       "      <td>Vannes</td>\n",
       "      <td>56158</td>\n",
       "      <td>Plescop</td>\n",
       "      <td>47.67764394859038, -2.80211043128016</td>\n",
       "      <td>3.0</td>\n",
       "      <td>BAC + 3</td>\n",
       "      <td>112</td>\n",
       "      <td>96</td>\n",
       "      <td>16</td>\n",
       "      <td>56</td>\n",
       "    </tr>\n",
       "    <tr>\n",
       "      <th>1</th>\n",
       "      <td>2023</td>\n",
       "      <td>Écoles de commerce, gestion et vente</td>\n",
       "      <td>Privé</td>\n",
       "      <td>0590346F</td>\n",
       "      <td>SKEMA LILLE</td>\n",
       "      <td>SKEMA BUSINESS SCHOOL LILLE</td>\n",
       "      <td>NaN</td>\n",
       "      <td>0060656F</td>\n",
       "      <td>E.COM</td>\n",
       "      <td>ECOLE DE COMMERCE</td>\n",
       "      <td>...</td>\n",
       "      <td>Nice</td>\n",
       "      <td>06152</td>\n",
       "      <td>Valbonne</td>\n",
       "      <td>43.61328883276337, 7.056290282560445</td>\n",
       "      <td>6.0</td>\n",
       "      <td>BAC + 6 et plus</td>\n",
       "      <td>19</td>\n",
       "      <td>9</td>\n",
       "      <td>10</td>\n",
       "      <td>06</td>\n",
       "    </tr>\n",
       "    <tr>\n",
       "      <th>3</th>\n",
       "      <td>2023</td>\n",
       "      <td>Écoles de commerce, gestion et vente</td>\n",
       "      <td>Privé</td>\n",
       "      <td>0590350K</td>\n",
       "      <td>EDHEC LILLE</td>\n",
       "      <td>EDHEC BUSINESS SCHOOL</td>\n",
       "      <td>MEMBRE FUPL</td>\n",
       "      <td>0755719J</td>\n",
       "      <td>EDHEC</td>\n",
       "      <td>CENTRE DE FORMATION CONTINUE</td>\n",
       "      <td>...</td>\n",
       "      <td>Paris</td>\n",
       "      <td>75102</td>\n",
       "      <td>Paris  2e</td>\n",
       "      <td>NaN</td>\n",
       "      <td>5.0</td>\n",
       "      <td>BAC + 5</td>\n",
       "      <td>387</td>\n",
       "      <td>162</td>\n",
       "      <td>225</td>\n",
       "      <td>75</td>\n",
       "    </tr>\n",
       "    <tr>\n",
       "      <th>4</th>\n",
       "      <td>2023</td>\n",
       "      <td>Écoles de commerce, gestion et vente</td>\n",
       "      <td>Privé</td>\n",
       "      <td>0593202K</td>\n",
       "      <td>IESEG LILLE</td>\n",
       "      <td>INST ECO SCIENT GESTION LILLE</td>\n",
       "      <td>MEMBRE FUPL</td>\n",
       "      <td>0593202K</td>\n",
       "      <td>IESEG LILLE</td>\n",
       "      <td>INST ECO SCIENT GESTION LILLE</td>\n",
       "      <td>...</td>\n",
       "      <td>Lille</td>\n",
       "      <td>59350</td>\n",
       "      <td>Lille</td>\n",
       "      <td>50.63553116922688, 3.044909976114497</td>\n",
       "      <td>2.0</td>\n",
       "      <td>BAC + 2</td>\n",
       "      <td>739</td>\n",
       "      <td>285</td>\n",
       "      <td>454</td>\n",
       "      <td>59</td>\n",
       "    </tr>\n",
       "    <tr>\n",
       "      <th>5</th>\n",
       "      <td>2023</td>\n",
       "      <td>Écoles de commerce, gestion et vente</td>\n",
       "      <td>Privé</td>\n",
       "      <td>0593202K</td>\n",
       "      <td>IESEG LILLE</td>\n",
       "      <td>INST ECO SCIENT GESTION LILLE</td>\n",
       "      <td>MEMBRE FUPL</td>\n",
       "      <td>0922663V</td>\n",
       "      <td>IESEG BOULOGNE</td>\n",
       "      <td>INST ECO SC GEST BOULOGNE-BILL</td>\n",
       "      <td>...</td>\n",
       "      <td>Paris</td>\n",
       "      <td>92050</td>\n",
       "      <td>Nanterre</td>\n",
       "      <td>48.89739112970496, 2.224693366221823</td>\n",
       "      <td>4.0</td>\n",
       "      <td>BAC + 4</td>\n",
       "      <td>1022</td>\n",
       "      <td>535</td>\n",
       "      <td>487</td>\n",
       "      <td>92</td>\n",
       "    </tr>\n",
       "  </tbody>\n",
       "</table>\n",
       "<p>5 rows × 28 columns</p>\n",
       "</div>"
      ],
      "text/plain": [
       "   Rentrée universitaire             catégorie d'établissement  \\\n",
       "0                   2023  Écoles de commerce, gestion et vente   \n",
       "1                   2023  Écoles de commerce, gestion et vente   \n",
       "3                   2023  Écoles de commerce, gestion et vente   \n",
       "4                   2023  Écoles de commerce, gestion et vente   \n",
       "5                   2023  Écoles de commerce, gestion et vente   \n",
       "\n",
       "  secteur d'établissement code UAI de l'établissement  \\\n",
       "0                   Privé                    0562044T   \n",
       "1                   Privé                    0590346F   \n",
       "3                   Privé                    0590350K   \n",
       "4                   Privé                    0593202K   \n",
       "5                   Privé                    0593202K   \n",
       "\n",
       "  sigle de l'établissement     libellé de l'établissement  \\\n",
       "0           EC TECH SUP PR                   GROUPE AFTEC   \n",
       "1              SKEMA LILLE    SKEMA BUSINESS SCHOOL LILLE   \n",
       "3              EDHEC LILLE          EDHEC BUSINESS SCHOOL   \n",
       "4              IESEG LILLE  INST ECO SCIENT GESTION LILLE   \n",
       "5              IESEG LILLE  INST ECO SCIENT GESTION LILLE   \n",
       "\n",
       "  libellé complémentaire de l'établissement Code UAI de la composante  \\\n",
       "0              IPAC BACHELOR FACTORY VANNES                  0562044T   \n",
       "1                                       NaN                  0060656F   \n",
       "3                               MEMBRE FUPL                  0755719J   \n",
       "4                               MEMBRE FUPL                  0593202K   \n",
       "5                               MEMBRE FUPL                  0922663V   \n",
       "\n",
       "  sigle de la composante        libellé de la composante  ... unité urbaine  \\\n",
       "0         EC TECH SUP PR                    GROUPE AFTEC  ...        Vannes   \n",
       "1                  E.COM               ECOLE DE COMMERCE  ...          Nice   \n",
       "3                  EDHEC    CENTRE DE FORMATION CONTINUE  ...         Paris   \n",
       "4            IESEG LILLE   INST ECO SCIENT GESTION LILLE  ...         Lille   \n",
       "5         IESEG BOULOGNE  INST ECO SC GEST BOULOGNE-BILL  ...         Paris   \n",
       "\n",
       "  code commune    Commune                                   gps degetu  \\\n",
       "0        56158    Plescop  47.67764394859038, -2.80211043128016    3.0   \n",
       "1        06152   Valbonne  43.61328883276337, 7.056290282560445    6.0   \n",
       "3        75102  Paris  2e                                   NaN    5.0   \n",
       "4        59350      Lille  50.63553116922688, 3.044909976114497    2.0   \n",
       "5        92050   Nanterre  48.89739112970496, 2.224693366221823    4.0   \n",
       "\n",
       "      degre_etudes  \\\n",
       "0          BAC + 3   \n",
       "1  BAC + 6 et plus   \n",
       "3          BAC + 5   \n",
       "4          BAC + 2   \n",
       "5          BAC + 4   \n",
       "\n",
       "  nombre total d’étudiants inscrits hors doubles inscriptions université/CPGE  \\\n",
       "0                                                112                            \n",
       "1                                                 19                            \n",
       "3                                                387                            \n",
       "4                                                739                            \n",
       "5                                               1022                            \n",
       "\n",
       "  dont femmes dont hommes dep  \n",
       "0          96          16  56  \n",
       "1           9          10  06  \n",
       "3         162         225  75  \n",
       "4         285         454  59  \n",
       "5         535         487  92  \n",
       "\n",
       "[5 rows x 28 columns]"
      ]
     },
     "execution_count": 31,
     "metadata": {},
     "output_type": "execute_result"
    }
   ],
   "source": [
    "# 1️⃣ Exclure les lignes avec \"Étranger\"\n",
    "df_enseignement_sup = df_enseignement_sup[~df_enseignement_sup['département'].str.contains(\"Étranger\")]\n",
    "\n",
    "# 2️⃣ Garder uniquement les 2 premiers chiffres\n",
    "df_enseignement_sup['dep'] = df_enseignement_sup['département'].str[:2]\n",
    "\n",
    "# 3️⃣ Optionnel : supprimer les espaces et convertir en int\n",
    "df_enseignement_sup['dep'] = df_enseignement_sup['dep'].str.strip()\n",
    "\n",
    "df_enseignement_sup.head()"
   ]
  },
  {
   "cell_type": "code",
   "execution_count": 32,
   "id": "e41576eb",
   "metadata": {},
   "outputs": [
    {
     "data": {
      "application/vnd.microsoft.datawrangler.viewer.v0+json": {
       "columns": [
        {
         "name": "index",
         "rawType": "int64",
         "type": "integer"
        },
        {
         "name": "dep",
         "rawType": "object",
         "type": "string"
        },
        {
         "name": "nombre total d’étudiants inscrits hors doubles inscriptions université/CPGE",
         "rawType": "int64",
         "type": "integer"
        },
        {
         "name": "dont femmes",
         "rawType": "int64",
         "type": "integer"
        },
        {
         "name": "dont hommes",
         "rawType": "int64",
         "type": "integer"
        }
       ],
       "ref": "347f26d9-52f7-47d9-a3e2-bec72290ffe3",
       "rows": [
        [
         "0",
         "01",
         "35518",
         "20339",
         "15179"
        ],
        [
         "1",
         "02",
         "55388",
         "28718",
         "26670"
        ],
        [
         "2",
         "03",
         "40229",
         "21912",
         "18317"
        ],
        [
         "3",
         "04",
         "9813",
         "5500",
         "4313"
        ],
        [
         "4",
         "05",
         "10794",
         "5253",
         "5541"
        ]
       ],
       "shape": {
        "columns": 4,
        "rows": 5
       }
      },
      "text/html": [
       "<div>\n",
       "<style scoped>\n",
       "    .dataframe tbody tr th:only-of-type {\n",
       "        vertical-align: middle;\n",
       "    }\n",
       "\n",
       "    .dataframe tbody tr th {\n",
       "        vertical-align: top;\n",
       "    }\n",
       "\n",
       "    .dataframe thead th {\n",
       "        text-align: right;\n",
       "    }\n",
       "</style>\n",
       "<table border=\"1\" class=\"dataframe\">\n",
       "  <thead>\n",
       "    <tr style=\"text-align: right;\">\n",
       "      <th></th>\n",
       "      <th>dep</th>\n",
       "      <th>nombre total d’étudiants inscrits hors doubles inscriptions université/CPGE</th>\n",
       "      <th>dont femmes</th>\n",
       "      <th>dont hommes</th>\n",
       "    </tr>\n",
       "  </thead>\n",
       "  <tbody>\n",
       "    <tr>\n",
       "      <th>0</th>\n",
       "      <td>01</td>\n",
       "      <td>35518</td>\n",
       "      <td>20339</td>\n",
       "      <td>15179</td>\n",
       "    </tr>\n",
       "    <tr>\n",
       "      <th>1</th>\n",
       "      <td>02</td>\n",
       "      <td>55388</td>\n",
       "      <td>28718</td>\n",
       "      <td>26670</td>\n",
       "    </tr>\n",
       "    <tr>\n",
       "      <th>2</th>\n",
       "      <td>03</td>\n",
       "      <td>40229</td>\n",
       "      <td>21912</td>\n",
       "      <td>18317</td>\n",
       "    </tr>\n",
       "    <tr>\n",
       "      <th>3</th>\n",
       "      <td>04</td>\n",
       "      <td>9813</td>\n",
       "      <td>5500</td>\n",
       "      <td>4313</td>\n",
       "    </tr>\n",
       "    <tr>\n",
       "      <th>4</th>\n",
       "      <td>05</td>\n",
       "      <td>10794</td>\n",
       "      <td>5253</td>\n",
       "      <td>5541</td>\n",
       "    </tr>\n",
       "  </tbody>\n",
       "</table>\n",
       "</div>"
      ],
      "text/plain": [
       "  dep  \\\n",
       "0  01   \n",
       "1  02   \n",
       "2  03   \n",
       "3  04   \n",
       "4  05   \n",
       "\n",
       "   nombre total d’étudiants inscrits hors doubles inscriptions université/CPGE  \\\n",
       "0                                              35518                             \n",
       "1                                              55388                             \n",
       "2                                              40229                             \n",
       "3                                               9813                             \n",
       "4                                              10794                             \n",
       "\n",
       "   dont femmes  dont hommes  \n",
       "0        20339        15179  \n",
       "1        28718        26670  \n",
       "2        21912        18317  \n",
       "3         5500         4313  \n",
       "4         5253         5541  "
      ]
     },
     "execution_count": 32,
     "metadata": {},
     "output_type": "execute_result"
    }
   ],
   "source": [
    "df_enseignement_sup_treated = df_enseignement_sup.groupby('dep', as_index=False)[[\n",
    "    'nombre total d’étudiants inscrits hors doubles inscriptions université/CPGE',\n",
    "    'dont femmes',\n",
    "    'dont hommes'\n",
    "]].sum()\n",
    "\n",
    "df_enseignement_sup_treated.head()"
   ]
  },
  {
   "cell_type": "code",
   "execution_count": 33,
   "id": "52180170",
   "metadata": {},
   "outputs": [
    {
     "data": {
      "application/vnd.microsoft.datawrangler.viewer.v0+json": {
       "columns": [
        {
         "name": "index",
         "rawType": "int64",
         "type": "integer"
        },
        {
         "name": "libgeo",
         "rawType": "object",
         "type": "string"
        },
        {
         "name": "objectid",
         "rawType": "int64",
         "type": "integer"
        },
        {
         "name": "reg",
         "rawType": "int64",
         "type": "integer"
        },
        {
         "name": "dep",
         "rawType": "object",
         "type": "string"
        },
        {
         "name": "cv",
         "rawType": "object",
         "type": "string"
        },
        {
         "name": "codgeo",
         "rawType": "object",
         "type": "string"
        },
        {
         "name": "p21_pop",
         "rawType": "float64",
         "type": "float"
        },
        {
         "name": "nombre total d’étudiants inscrits hors doubles inscriptions université/CPGE",
         "rawType": "int64",
         "type": "integer"
        },
        {
         "name": "dont femmes",
         "rawType": "int64",
         "type": "integer"
        },
        {
         "name": "dont hommes",
         "rawType": "int64",
         "type": "integer"
        }
       ],
       "ref": "4f29e6fe-34a1-4e72-8016-2e2131f380fe",
       "rows": [
        [
         "0",
         "Aix-en-Provence",
         "122254",
         "93",
         "13",
         "1397",
         "13001",
         "147478.0",
         "902707",
         "511838",
         "390869"
        ],
        [
         "1",
         "Amiens",
         "137067",
         "22",
         "80",
         "8099",
         "80021",
         "133625.0",
         "287603",
         "159680",
         "127923"
        ],
        [
         "2",
         "Angers",
         "128018",
         "52",
         "49",
         "4998",
         "49007",
         "157175.0",
         "437425",
         "258107",
         "179318"
        ],
        [
         "3",
         "Annecy",
         "136465",
         "82",
         "74",
         "7499",
         "74010",
         "131715.0",
         "95233",
         "42844",
         "52389"
        ],
        [
         "4",
         "Argenteuil",
         "135203",
         "11",
         "95",
         "9598",
         "95018",
         "107221.0",
         "318794",
         "160140",
         "158654"
        ]
       ],
       "shape": {
        "columns": 10,
        "rows": 5
       }
      },
      "text/html": [
       "<div>\n",
       "<style scoped>\n",
       "    .dataframe tbody tr th:only-of-type {\n",
       "        vertical-align: middle;\n",
       "    }\n",
       "\n",
       "    .dataframe tbody tr th {\n",
       "        vertical-align: top;\n",
       "    }\n",
       "\n",
       "    .dataframe thead th {\n",
       "        text-align: right;\n",
       "    }\n",
       "</style>\n",
       "<table border=\"1\" class=\"dataframe\">\n",
       "  <thead>\n",
       "    <tr style=\"text-align: right;\">\n",
       "      <th></th>\n",
       "      <th>libgeo</th>\n",
       "      <th>objectid</th>\n",
       "      <th>reg</th>\n",
       "      <th>dep</th>\n",
       "      <th>cv</th>\n",
       "      <th>codgeo</th>\n",
       "      <th>p21_pop</th>\n",
       "      <th>nombre total d’étudiants inscrits hors doubles inscriptions université/CPGE</th>\n",
       "      <th>dont femmes</th>\n",
       "      <th>dont hommes</th>\n",
       "    </tr>\n",
       "  </thead>\n",
       "  <tbody>\n",
       "    <tr>\n",
       "      <th>0</th>\n",
       "      <td>Aix-en-Provence</td>\n",
       "      <td>122254</td>\n",
       "      <td>93</td>\n",
       "      <td>13</td>\n",
       "      <td>1397</td>\n",
       "      <td>13001</td>\n",
       "      <td>147478.0</td>\n",
       "      <td>902707</td>\n",
       "      <td>511838</td>\n",
       "      <td>390869</td>\n",
       "    </tr>\n",
       "    <tr>\n",
       "      <th>1</th>\n",
       "      <td>Amiens</td>\n",
       "      <td>137067</td>\n",
       "      <td>22</td>\n",
       "      <td>80</td>\n",
       "      <td>8099</td>\n",
       "      <td>80021</td>\n",
       "      <td>133625.0</td>\n",
       "      <td>287603</td>\n",
       "      <td>159680</td>\n",
       "      <td>127923</td>\n",
       "    </tr>\n",
       "    <tr>\n",
       "      <th>2</th>\n",
       "      <td>Angers</td>\n",
       "      <td>128018</td>\n",
       "      <td>52</td>\n",
       "      <td>49</td>\n",
       "      <td>4998</td>\n",
       "      <td>49007</td>\n",
       "      <td>157175.0</td>\n",
       "      <td>437425</td>\n",
       "      <td>258107</td>\n",
       "      <td>179318</td>\n",
       "    </tr>\n",
       "    <tr>\n",
       "      <th>3</th>\n",
       "      <td>Annecy</td>\n",
       "      <td>136465</td>\n",
       "      <td>82</td>\n",
       "      <td>74</td>\n",
       "      <td>7499</td>\n",
       "      <td>74010</td>\n",
       "      <td>131715.0</td>\n",
       "      <td>95233</td>\n",
       "      <td>42844</td>\n",
       "      <td>52389</td>\n",
       "    </tr>\n",
       "    <tr>\n",
       "      <th>4</th>\n",
       "      <td>Argenteuil</td>\n",
       "      <td>135203</td>\n",
       "      <td>11</td>\n",
       "      <td>95</td>\n",
       "      <td>9598</td>\n",
       "      <td>95018</td>\n",
       "      <td>107221.0</td>\n",
       "      <td>318794</td>\n",
       "      <td>160140</td>\n",
       "      <td>158654</td>\n",
       "    </tr>\n",
       "  </tbody>\n",
       "</table>\n",
       "</div>"
      ],
      "text/plain": [
       "            libgeo  objectid  reg dep    cv codgeo   p21_pop  \\\n",
       "0  Aix-en-Provence    122254   93  13  1397  13001  147478.0   \n",
       "1           Amiens    137067   22  80  8099  80021  133625.0   \n",
       "2           Angers    128018   52  49  4998  49007  157175.0   \n",
       "3           Annecy    136465   82  74  7499  74010  131715.0   \n",
       "4       Argenteuil    135203   11  95  9598  95018  107221.0   \n",
       "\n",
       "   nombre total d’étudiants inscrits hors doubles inscriptions université/CPGE  \\\n",
       "0                                             902707                             \n",
       "1                                             287603                             \n",
       "2                                             437425                             \n",
       "3                                              95233                             \n",
       "4                                             318794                             \n",
       "\n",
       "   dont femmes  dont hommes  \n",
       "0       511838       390869  \n",
       "1       159680       127923  \n",
       "2       258107       179318  \n",
       "3        42844        52389  \n",
       "4       160140       158654  "
      ]
     },
     "execution_count": 33,
     "metadata": {},
     "output_type": "execute_result"
    }
   ],
   "source": [
    "df_joined = pd.merge(df_pop_100k, df_enseignement_sup_treated, on='dep', how='inner')\n",
    "\n",
    "df_joined.head()"
   ]
  },
  {
   "cell_type": "code",
   "execution_count": 34,
   "id": "878e55f3",
   "metadata": {},
   "outputs": [
    {
     "data": {
      "application/vnd.microsoft.datawrangler.viewer.v0+json": {
       "columns": [
        {
         "name": "index",
         "rawType": "int64",
         "type": "integer"
        },
        {
         "name": "libgeo",
         "rawType": "object",
         "type": "string"
        },
        {
         "name": "objectid",
         "rawType": "int64",
         "type": "integer"
        },
        {
         "name": "reg",
         "rawType": "int64",
         "type": "integer"
        },
        {
         "name": "dep",
         "rawType": "object",
         "type": "string"
        },
        {
         "name": "cv",
         "rawType": "object",
         "type": "string"
        },
        {
         "name": "codgeo",
         "rawType": "object",
         "type": "string"
        },
        {
         "name": "p21_pop",
         "rawType": "float64",
         "type": "float"
        },
        {
         "name": "nombre total d’étudiants inscrits hors doubles inscriptions université/CPGE",
         "rawType": "int64",
         "type": "integer"
        },
        {
         "name": "dont femmes",
         "rawType": "int64",
         "type": "integer"
        },
        {
         "name": "dont hommes",
         "rawType": "int64",
         "type": "integer"
        },
        {
         "name": "Densité étudiante",
         "rawType": "float64",
         "type": "float"
        }
       ],
       "ref": "537636ce-d80b-44e8-ad76-02d59f683ad0",
       "rows": [
        [
         "0",
         "Aix-en-Provence",
         "122254",
         "93",
         "13",
         "1397",
         "13001",
         "147478.0",
         "902707",
         "511838",
         "390869",
         "6.120960414434696"
        ],
        [
         "1",
         "Amiens",
         "137067",
         "22",
         "80",
         "8099",
         "80021",
         "133625.0",
         "287603",
         "159680",
         "127923",
         "2.152314312441534"
        ],
        [
         "2",
         "Angers",
         "128018",
         "52",
         "49",
         "4998",
         "49007",
         "157175.0",
         "437425",
         "258107",
         "179318",
         "2.783044377286464"
        ],
        [
         "3",
         "Annecy",
         "136465",
         "82",
         "74",
         "7499",
         "74010",
         "131715.0",
         "95233",
         "42844",
         "52389",
         "0.723023194017386"
        ],
        [
         "4",
         "Argenteuil",
         "135203",
         "11",
         "95",
         "9598",
         "95018",
         "107221.0",
         "318794",
         "160140",
         "158654",
         "2.9732421820352357"
        ]
       ],
       "shape": {
        "columns": 11,
        "rows": 5
       }
      },
      "text/html": [
       "<div>\n",
       "<style scoped>\n",
       "    .dataframe tbody tr th:only-of-type {\n",
       "        vertical-align: middle;\n",
       "    }\n",
       "\n",
       "    .dataframe tbody tr th {\n",
       "        vertical-align: top;\n",
       "    }\n",
       "\n",
       "    .dataframe thead th {\n",
       "        text-align: right;\n",
       "    }\n",
       "</style>\n",
       "<table border=\"1\" class=\"dataframe\">\n",
       "  <thead>\n",
       "    <tr style=\"text-align: right;\">\n",
       "      <th></th>\n",
       "      <th>libgeo</th>\n",
       "      <th>objectid</th>\n",
       "      <th>reg</th>\n",
       "      <th>dep</th>\n",
       "      <th>cv</th>\n",
       "      <th>codgeo</th>\n",
       "      <th>p21_pop</th>\n",
       "      <th>nombre total d’étudiants inscrits hors doubles inscriptions université/CPGE</th>\n",
       "      <th>dont femmes</th>\n",
       "      <th>dont hommes</th>\n",
       "      <th>Densité étudiante</th>\n",
       "    </tr>\n",
       "  </thead>\n",
       "  <tbody>\n",
       "    <tr>\n",
       "      <th>0</th>\n",
       "      <td>Aix-en-Provence</td>\n",
       "      <td>122254</td>\n",
       "      <td>93</td>\n",
       "      <td>13</td>\n",
       "      <td>1397</td>\n",
       "      <td>13001</td>\n",
       "      <td>147478.0</td>\n",
       "      <td>902707</td>\n",
       "      <td>511838</td>\n",
       "      <td>390869</td>\n",
       "      <td>6.120960</td>\n",
       "    </tr>\n",
       "    <tr>\n",
       "      <th>1</th>\n",
       "      <td>Amiens</td>\n",
       "      <td>137067</td>\n",
       "      <td>22</td>\n",
       "      <td>80</td>\n",
       "      <td>8099</td>\n",
       "      <td>80021</td>\n",
       "      <td>133625.0</td>\n",
       "      <td>287603</td>\n",
       "      <td>159680</td>\n",
       "      <td>127923</td>\n",
       "      <td>2.152314</td>\n",
       "    </tr>\n",
       "    <tr>\n",
       "      <th>2</th>\n",
       "      <td>Angers</td>\n",
       "      <td>128018</td>\n",
       "      <td>52</td>\n",
       "      <td>49</td>\n",
       "      <td>4998</td>\n",
       "      <td>49007</td>\n",
       "      <td>157175.0</td>\n",
       "      <td>437425</td>\n",
       "      <td>258107</td>\n",
       "      <td>179318</td>\n",
       "      <td>2.783044</td>\n",
       "    </tr>\n",
       "    <tr>\n",
       "      <th>3</th>\n",
       "      <td>Annecy</td>\n",
       "      <td>136465</td>\n",
       "      <td>82</td>\n",
       "      <td>74</td>\n",
       "      <td>7499</td>\n",
       "      <td>74010</td>\n",
       "      <td>131715.0</td>\n",
       "      <td>95233</td>\n",
       "      <td>42844</td>\n",
       "      <td>52389</td>\n",
       "      <td>0.723023</td>\n",
       "    </tr>\n",
       "    <tr>\n",
       "      <th>4</th>\n",
       "      <td>Argenteuil</td>\n",
       "      <td>135203</td>\n",
       "      <td>11</td>\n",
       "      <td>95</td>\n",
       "      <td>9598</td>\n",
       "      <td>95018</td>\n",
       "      <td>107221.0</td>\n",
       "      <td>318794</td>\n",
       "      <td>160140</td>\n",
       "      <td>158654</td>\n",
       "      <td>2.973242</td>\n",
       "    </tr>\n",
       "  </tbody>\n",
       "</table>\n",
       "</div>"
      ],
      "text/plain": [
       "            libgeo  objectid  reg dep    cv codgeo   p21_pop  \\\n",
       "0  Aix-en-Provence    122254   93  13  1397  13001  147478.0   \n",
       "1           Amiens    137067   22  80  8099  80021  133625.0   \n",
       "2           Angers    128018   52  49  4998  49007  157175.0   \n",
       "3           Annecy    136465   82  74  7499  74010  131715.0   \n",
       "4       Argenteuil    135203   11  95  9598  95018  107221.0   \n",
       "\n",
       "   nombre total d’étudiants inscrits hors doubles inscriptions université/CPGE  \\\n",
       "0                                             902707                             \n",
       "1                                             287603                             \n",
       "2                                             437425                             \n",
       "3                                              95233                             \n",
       "4                                             318794                             \n",
       "\n",
       "   dont femmes  dont hommes  Densité étudiante  \n",
       "0       511838       390869           6.120960  \n",
       "1       159680       127923           2.152314  \n",
       "2       258107       179318           2.783044  \n",
       "3        42844        52389           0.723023  \n",
       "4       160140       158654           2.973242  "
      ]
     },
     "execution_count": 34,
     "metadata": {},
     "output_type": "execute_result"
    }
   ],
   "source": [
    "df_joined['Densité étudiante'] = df_joined['nombre total d’étudiants inscrits hors doubles inscriptions université/CPGE'] / df_joined['p21_pop']\n",
    "\n",
    "df_joined.head()"
   ]
  },
  {
   "cell_type": "code",
   "execution_count": null,
   "id": "5dd39e3d",
   "metadata": {},
   "outputs": [],
   "source": [
    "# Initialiser le géocodeur\n",
    "geolocator = Nominatim(user_agent=\"adam_geocoder_ece_paris\")\n",
    "\n",
    "# Limiteur de requêtes pour éviter les erreurs 429\n",
    "geocode = RateLimiter(geolocator.geocode, min_delay_seconds=1)\n",
    "\n",
    "def get_coordinates(ville):\n",
    "    try:\n",
    "        if pd.isna(ville):\n",
    "            return pd.Series([None, None])\n",
    "        location = geocode(f\"{ville}, France\")  # ajoute \"France\" pour plus de précision\n",
    "        if location:\n",
    "            return pd.Series([location.latitude, location.longitude])\n",
    "        else:\n",
    "            return pd.Series([None, None])\n",
    "    except Exception as e:\n",
    "        print(f\"Erreur pour la ville '{ville}': {e}\")\n",
    "        return pd.Series([None, None])\n",
    "\n",
    "# Appliquer à la colonne des villes\n",
    "df_joined[[\"latitude\", \"longitude\"]] = df_joined[\"libgeo\"].apply(get_coordinates)"
   ]
  },
  {
   "cell_type": "code",
   "execution_count": 42,
   "id": "fc33d4e3",
   "metadata": {},
   "outputs": [],
   "source": [
    "df_top_students = df_joined.sort_values(\n",
    "    by='nombre total d’étudiants inscrits hors doubles inscriptions université/CPGE',\n",
    "    ascending=False\n",
    ").head(20)\n",
    "\n",
    "df_top_density = df_joined.sort_values(\n",
    "    by='Densité étudiante',\n",
    "    ascending=False\n",
    ").head(20)"
   ]
  },
  {
   "cell_type": "code",
   "execution_count": 43,
   "id": "2e61cdcc",
   "metadata": {},
   "outputs": [
    {
     "data": {
      "image/png": "[encoded data removed]",
      "text/plain": [
       "<Figure size 1000x600 with 1 Axes>"
      ]
     },
     "metadata": {},
     "output_type": "display_data"
    },
    {
     "data": {
      "image/png": "[encoded data removed]",
      "text/plain": [
       "<Figure size 1000x600 with 1 Axes>"
      ]
     },
     "metadata": {},
     "output_type": "display_data"
    }
   ],
   "source": [
    "plt.figure(figsize=(10, 6)) # Taille du graphique \n",
    "plt.bar(df_top_students['libgeo'], df_top_students['nombre total d’étudiants inscrits hors doubles inscriptions université/CPGE']) \n",
    "plt.title('Top 20 villes par nombre d’étudiants (population > 100k)') \n",
    "plt.xlabel('Villes') \n",
    "plt.xticks(rotation=45, ha='right', rotation_mode='anchor') \n",
    "plt.ylabel('Nombre d’étudiants (en million)') \n",
    "plt.grid(False) \n",
    "\n",
    "plt.figure(figsize=(10, 6)) # Taille du graphique \n",
    "plt.bar(df_top_density['libgeo'], df_top_density['Densité étudiante']) \n",
    "plt.title('Histogramme avec courbe de densité pour la colonne X') \n",
    "plt.xlabel('Villes') \n",
    "plt.xticks(rotation=45, ha='right', rotation_mode='anchor') \n",
    "plt.ylabel('Densité Etudiante') \n",
    "plt.grid(False) \n",
    "plt.show()"
   ]
  },
  {
   "cell_type": "code",
   "execution_count": 44,
   "id": "0069c3b6",
   "metadata": {},
   "outputs": [
    {
     "data": {
      "application/vnd.plotly.v1+json": {
       "config": {
        "plotlyServerURL": "https://plot.ly"
       },
       "data": [
        {
         "customdata": {
          "bdata": "AAAAAGaMK0E1bgAM3XsYQAAAAADMjRFBYzH1kPA3AUAAAAAAxLIaQa0YPsWsQwZAAAAAABBA90B7u5GJASPnPwAAAAAodRNBoG53MjPJB0AAAAAAqPMNQa9wmuO8dwBAAAAAANxALEG2mnenQEoMQAAAAAC8PSlBdD/3cz+dG0AAAAAASJYSQXYD4Nb+cgFAAAAAAMQMFUGXPAOB4H8JQAAAAACA2BZBrv6I+DdTBEAAAAAAcH8UQWYn6gZY3ABAAAAAAPbmIUHhsg/7Bc0NQAAAAAD2qCBBtMs5q8pMCkAAAAAAWGMAQQ8q9GOCoO0/AAAAABhvNUHVui2uq7wXQAAAAACAugVBmsvxBr7y9T8AAAAAT7o3QRIsvLLNyQdAAAAAAGaMK0FlmUs/g33wPwAAAABIaw5BmDkXgSR+AEAAAAAATGQnQVU+UaUyRgRAAAAAAAhaEUGyDHIabtQDQAAAAACILgBBxadOc+7x8z8AAAAAkKAdQSwpoL2FnxJAAAAAAKyPIkGiFnmV9hv+PwAAAABQPRpB4uqHuNTC8z8AAAAAmL8BQTxZW5Ioau8/AAAAAKiVB0GckmdbCoL6PwAAAAAmKElB/JV8bSO2+D8AAAAA8G/3QCBwbV5frOk/AAAAANSiEUGGUXPT68X5PwAAAAAYmCRBRxzyUzn8B0AAAAAA9qggQQPk8gUXJBNAAAAAAJi/AUGUrnz0m0PhPwAAAABAFd1A8oMTKl0j0T8AAAAANIIQQb6aQbtZDvk/AAAAABbwIkG4PQZipgoBQAAAAADQmAJBislklxEE6z8AAAAABkYwQXvmKUQN7QBAAAAAAFBWEkE9f/a2uHUBQAAAAABPujdBnzRaCHzRI0A=",
          "dtype": "f8",
          "shape": "41, 2"
         },
         "hovertemplate": "<b>%{hovertext}</b><br><br>Densité étudiante=%{customdata[1]}<br>latitude=%{lat}<br>longitude=%{lon}<br>nombre total d’étudiants inscrits hors doubles inscriptions université/CPGE=%{customdata[0]}<extra></extra>",
         "hovertext": [
          "Aix-en-Provence",
          "Amiens",
          "Angers",
          "Annecy",
          "Argenteuil",
          "Besançon",
          "Bordeaux",
          "Boulogne-Billancourt",
          "Brest",
          "Caen",
          "Clermont-Ferrand",
          "Dijon",
          "Grenoble",
          "Le Havre",
          "Le Mans",
          "Lille",
          "Limoges",
          "Lyon",
          "Marseille",
          "Metz",
          "Montpellier",
          "Montreuil",
          "Mulhouse",
          "Nancy",
          "Nantes",
          "Nice",
          "Nîmes",
          "Orléans",
          "Paris",
          "Perpignan",
          "Reims",
          "Rennes",
          "Rouen",
          "Saint-Denis",
          "Saint-Paul",
          "Saint-Étienne",
          "Strasbourg",
          "Toulon",
          "Toulouse",
          "Tours",
          "Villeurbanne"
         ],
         "lat": {
          "bdata": "XwQy4NHDRUDihFMwdPJIQHlX4qarvEdAarY8IBrzRkCNk2cDVXlIQGpc7oJ3nkdA78nDQq1rRkAi9UMR92pIQMxU0tT8MUhAMvmwKDaXSEDgTRKmg+NGQJcDmI0pqUdA/4P++AGYRkDACYUIOL9IQPv9B/3xAEhA8WGb+XpRSUBQZPcu7+pGQPr6EAoA4UZANTUaCumlRUB3uS02Uo9IQLF3NS89zkVA+PB2zmA7SUCiVAyhlN9HQMGAb+TLWEhAnRjtTPybR0A9zKhDuNlFQJQtN70w60VAC4BMxozzR0Ds5dJTP21IQIOhs3FpWUVADCSDN/+gSEC7o7VYQA5IQODcuvZguEhAar3faMd3SECVoYVfRbdIQJ74ILpWuEZAUmStodRKSECJS+n0F5BFQNVO3hFfzUVA5nG9Eu2xR0C6zztf/eJGQA==",
          "dtype": "f8"
         },
         "legendgroup": "",
         "lon": {
          "bdata": "c0RjkjbKFUAZs4BklV0CQKxF+qNepuG/sNHNWfqDGECtP3ijRfwBQNEIkWfyGBhAmKoPf6iP4r9/bJIf8esBQNdFdkqs8RHAymsldJdE17/iKgWT0acIQCIMTSN3KhRAefR1z3DxFkABL9iyIaS7P2Ne7GI/MMk/b/2qEhuCCECNrQxPVDv0P8GY48v6UxNANEsC1NR6FUAM6yF1lrQYQJpoRvWMAw9AaLPqc7U1/D88MxwqIVsdQKITncDPuxhAt3mI673d+L8EI4ok1RIdQMFAa9m1cBFAReD+EqeJ/j+UopV7gckCQGS06WOZKQdAgpGXNbEgEECPHhpxXOH6v2MUX0jigPE/lKx5RDvdAkDqQge4exQAQFg0QuSZjBFAd8R81LoAH0CIxV7e0rgXQE95z9yeG/c/WNBqN7AL5j+iblYzIYwTQA==",
          "dtype": "f8"
         },
         "marker": {
          "color": "#636efa",
          "size": {
           "bdata": "NW4ADN17GEBjMfWQ8DcBQK0YPsWsQwZAe7uRiQEj5z+gbncyM8kHQK9wmuO8dwBAtpp3p0BKDEB0P/dzP50bQHYD4Nb+cgFAlzwDgeB/CUCu/oj4N1MEQGYn6gZY3ABA4bIP+wXNDUC0yzmrykwKQA8q9GOCoO0/1botrqu8F0Cay/EGvvL1PxIsvLLNyQdAZZlLP4N98D+YOReBJH4AQFU+UaUyRgRAsgxyGm7UA0DFp05z7vHzPywpoL2FnxJAohZ5lfYb/j/i6oe41MLzPzxZW5Ioau8/nJJnWwqC+j/8lXxtI7b4PyBwbV5frOk/hlFz0+vF+T9HHPJTOfwHQAPk8gUXJBNAlK589JtD4T/ygxMqXSPRP76aQbtZDvk/uD0GYqYKAUCKyWSXEQTrP3vmKUQN7QBAPX/2trh1AUCfNFoIfNEjQA==",
           "dtype": "f8"
          },
          "sizemode": "area",
          "sizeref": 0.024772873547104404
         },
         "mode": "markers",
         "name": "",
         "showlegend": false,
         "subplot": "map",
         "type": "scattermap"
        }
       ],
       "layout": {
        "height": 600,
        "legend": {
         "itemsizing": "constant",
         "tracegroupgap": 0
        },
        "map": {
         "center": {
          "lat": 47.03630090731707,
          "lon": 2.9893957804878046
         },
         "domain": {
          "x": [
           0,
           1
          ],
          "y": [
           0,
           1
          ]
         },
         "zoom": 5
        },
        "mapbox": {
         "center": {
          "lat": 47.03630090731707,
          "lon": 2.9893957804878046
         },
         "style": "open-street-map",
         "zoom": 5
        },
        "margin": {
         "t": 60
        },
        "template": {
         "data": {
          "bar": [
           {
            "error_x": {
             "color": "#2a3f5f"
            },
            "error_y": {
             "color": "#2a3f5f"
            },
            "marker": {
             "line": {
              "color": "#E5ECF6",
              "width": 0.5
             },
             "pattern": {
              "fillmode": "overlay",
              "size": 10,
              "solidity": 0.2
             }
            },
            "type": "bar"
           }
          ],
          "barpolar": [
           {
            "marker": {
             "line": {
              "color": "#E5ECF6",
              "width": 0.5
             },
             "pattern": {
              "fillmode": "overlay",
              "size": 10,
              "solidity": 0.2
             }
            },
            "type": "barpolar"
           }
          ],
          "carpet": [
           {
            "aaxis": {
             "endlinecolor": "#2a3f5f",
             "gridcolor": "white",
             "linecolor": "white",
             "minorgridcolor": "white",
             "startlinecolor": "#2a3f5f"
            },
            "baxis": {
             "endlinecolor": "#2a3f5f",
             "gridcolor": "white",
             "linecolor": "white",
             "minorgridcolor": "white",
             "startlinecolor": "#2a3f5f"
            },
            "type": "carpet"
           }
          ],
          "choropleth": [
           {
            "colorbar": {
             "outlinewidth": 0,
             "ticks": ""
            },
            "type": "choropleth"
           }
          ],
          "contour": [
           {
            "colorbar": {
             "outlinewidth": 0,
             "ticks": ""
            },
            "colorscale": [
             [
              0,
              "#0d0887"
             ],
             [
              0.1111111111111111,
              "#46039f"
             ],
             [
              0.2222222222222222,
              "#7201a8"
             ],
             [
              0.3333333333333333,
              "#9c179e"
             ],
             [
              0.4444444444444444,
              "#bd3786"
             ],
             [
              0.5555555555555556,
              "#d8576b"
             ],
             [
              0.6666666666666666,
              "#ed7953"
             ],
             [
              0.7777777777777778,
              "#fb9f3a"
             ],
             [
              0.8888888888888888,
              "#fdca26"
             ],
             [
              1,
              "#f0f921"
             ]
            ],
            "type": "contour"
           }
          ],
          "contourcarpet": [
           {
            "colorbar": {
             "outlinewidth": 0,
             "ticks": ""
            },
            "type": "contourcarpet"
           }
          ],
          "heatmap": [
           {
            "colorbar": {
             "outlinewidth": 0,
             "ticks": ""
            },
            "colorscale": [
             [
              0,
              "#0d0887"
             ],
             [
              0.1111111111111111,
              "#46039f"
             ],
             [
              0.2222222222222222,
              "#7201a8"
             ],
             [
              0.3333333333333333,
              "#9c179e"
             ],
             [
              0.4444444444444444,
              "#bd3786"
             ],
             [
              0.5555555555555556,
              "#d8576b"
             ],
             [
              0.6666666666666666,
              "#ed7953"
             ],
             [
              0.7777777777777778,
              "#fb9f3a"
             ],
             [
              0.8888888888888888,
              "#fdca26"
             ],
             [
              1,
              "#f0f921"
             ]
            ],
            "type": "heatmap"
           }
          ],
          "histogram": [
           {
            "marker": {
             "pattern": {
              "fillmode": "overlay",
              "size": 10,
              "solidity": 0.2
             }
            },
            "type": "histogram"
           }
          ],
          "histogram2d": [
           {
            "colorbar": {
             "outlinewidth": 0,
             "ticks": ""
            },
            "colorscale": [
             [
              0,
              "#0d0887"
             ],
             [
              0.1111111111111111,
              "#46039f"
             ],
             [
              0.2222222222222222,
              "#7201a8"
             ],
             [
              0.3333333333333333,
              "#9c179e"
             ],
             [
              0.4444444444444444,
              "#bd3786"
             ],
             [
              0.5555555555555556,
              "#d8576b"
             ],
             [
              0.6666666666666666,
              "#ed7953"
             ],
             [
              0.7777777777777778,
              "#fb9f3a"
             ],
             [
              0.8888888888888888,
              "#fdca26"
             ],
             [
              1,
              "#f0f921"
             ]
            ],
            "type": "histogram2d"
           }
          ],
          "histogram2dcontour": [
           {
            "colorbar": {
             "outlinewidth": 0,
             "ticks": ""
            },
            "colorscale": [
             [
              0,
              "#0d0887"
             ],
             [
              0.1111111111111111,
              "#46039f"
             ],
             [
              0.2222222222222222,
              "#7201a8"
             ],
             [
              0.3333333333333333,
              "#9c179e"
             ],
             [
              0.4444444444444444,
              "#bd3786"
             ],
             [
              0.5555555555555556,
              "#d8576b"
             ],
             [
              0.6666666666666666,
              "#ed7953"
             ],
             [
              0.7777777777777778,
              "#fb9f3a"
             ],
             [
              0.8888888888888888,
              "#fdca26"
             ],
             [
              1,
              "#f0f921"
             ]
            ],
            "type": "histogram2dcontour"
           }
          ],
          "mesh3d": [
           {
            "colorbar": {
             "outlinewidth": 0,
             "ticks": ""
            },
            "type": "mesh3d"
           }
          ],
          "parcoords": [
           {
            "line": {
             "colorbar": {
              "outlinewidth": 0,
              "ticks": ""
             }
            },
            "type": "parcoords"
           }
          ],
          "pie": [
           {
            "automargin": true,
            "type": "pie"
           }
          ],
          "scatter": [
           {
            "fillpattern": {
             "fillmode": "overlay",
             "size": 10,
             "solidity": 0.2
            },
            "type": "scatter"
           }
          ],
          "scatter3d": [
           {
            "line": {
             "colorbar": {
              "outlinewidth": 0,
              "ticks": ""
             }
            },
            "marker": {
             "colorbar": {
              "outlinewidth": 0,
              "ticks": ""
             }
            },
            "type": "scatter3d"
           }
          ],
          "scattercarpet": [
           {
            "marker": {
             "colorbar": {
              "outlinewidth": 0,
              "ticks": ""
             }
            },
            "type": "scattercarpet"
           }
          ],
          "scattergeo": [
           {
            "marker": {
             "colorbar": {
              "outlinewidth": 0,
              "ticks": ""
             }
            },
            "type": "scattergeo"
           }
          ],
          "scattergl": [
           {
            "marker": {
             "colorbar": {
              "outlinewidth": 0,
              "ticks": ""
             }
            },
            "type": "scattergl"
           }
          ],
          "scattermap": [
           {
            "marker": {
             "colorbar": {
              "outlinewidth": 0,
              "ticks": ""
             }
            },
            "type": "scattermap"
           }
          ],
          "scattermapbox": [
           {
            "marker": {
             "colorbar": {
              "outlinewidth": 0,
              "ticks": ""
             }
            },
            "type": "scattermapbox"
           }
          ],
          "scatterpolar": [
           {
            "marker": {
             "colorbar": {
              "outlinewidth": 0,
              "ticks": ""
             }
            },
            "type": "scatterpolar"
           }
          ],
          "scatterpolargl": [
           {
            "marker": {
             "colorbar": {
              "outlinewidth": 0,
              "ticks": ""
             }
            },
            "type": "scatterpolargl"
           }
          ],
          "scatterternary": [
           {
            "marker": {
             "colorbar": {
              "outlinewidth": 0,
              "ticks": ""
             }
            },
            "type": "scatterternary"
           }
          ],
          "surface": [
           {
            "colorbar": {
             "outlinewidth": 0,
             "ticks": ""
            },
            "colorscale": [
             [
              0,
              "#0d0887"
             ],
             [
              0.1111111111111111,
              "#46039f"
             ],
             [
              0.2222222222222222,
              "#7201a8"
             ],
             [
              0.3333333333333333,
              "#9c179e"
             ],
             [
              0.4444444444444444,
              "#bd3786"
             ],
             [
              0.5555555555555556,
              "#d8576b"
             ],
             [
              0.6666666666666666,
              "#ed7953"
             ],
             [
              0.7777777777777778,
              "#fb9f3a"
             ],
             [
              0.8888888888888888,
              "#fdca26"
             ],
             [
              1,
              "#f0f921"
             ]
            ],
            "type": "surface"
           }
          ],
          "table": [
           {
            "cells": {
             "fill": {
              "color": "#EBF0F8"
             },
             "line": {
              "color": "white"
             }
            },
            "header": {
             "fill": {
              "color": "#C8D4E3"
             },
             "line": {
              "color": "white"
             }
            },
            "type": "table"
           }
          ]
         },
         "layout": {
          "annotationdefaults": {
           "arrowcolor": "#2a3f5f",
           "arrowhead": 0,
           "arrowwidth": 1
          },
          "autotypenumbers": "strict",
          "coloraxis": {
           "colorbar": {
            "outlinewidth": 0,
            "ticks": ""
           }
          },
          "colorscale": {
           "diverging": [
            [
             0,
             "#8e0152"
            ],
            [
             0.1,
             "#c51b7d"
            ],
            [
             0.2,
             "#de77ae"
            ],
            [
             0.3,
             "#f1b6da"
            ],
            [
             0.4,
             "#fde0ef"
            ],
            [
             0.5,
             "#f7f7f7"
            ],
            [
             0.6,
             "#e6f5d0"
            ],
            [
             0.7,
             "#b8e186"
            ],
            [
             0.8,
             "#7fbc41"
            ],
            [
             0.9,
             "#4d9221"
            ],
            [
             1,
             "#276419"
            ]
           ],
           "sequential": [
            [
             0,
             "#0d0887"
            ],
            [
             0.1111111111111111,
             "#46039f"
            ],
            [
             0.2222222222222222,
             "#7201a8"
            ],
            [
             0.3333333333333333,
             "#9c179e"
            ],
            [
             0.4444444444444444,
             "#bd3786"
            ],
            [
             0.5555555555555556,
             "#d8576b"
            ],
            [
             0.6666666666666666,
             "#ed7953"
            ],
            [
             0.7777777777777778,
             "#fb9f3a"
            ],
            [
             0.8888888888888888,
             "#fdca26"
            ],
            [
             1,
             "#f0f921"
            ]
           ],
           "sequentialminus": [
            [
             0,
             "#0d0887"
            ],
            [
             0.1111111111111111,
             "#46039f"
            ],
            [
             0.2222222222222222,
             "#7201a8"
            ],
            [
             0.3333333333333333,
             "#9c179e"
            ],
            [
             0.4444444444444444,
             "#bd3786"
            ],
            [
             0.5555555555555556,
             "#d8576b"
            ],
            [
             0.6666666666666666,
             "#ed7953"
            ],
            [
             0.7777777777777778,
             "#fb9f3a"
            ],
            [
             0.8888888888888888,
             "#fdca26"
            ],
            [
             1,
             "#f0f921"
            ]
           ]
          },
          "colorway": [
           "#636efa",
           "#EF553B",
           "#00cc96",
           "#ab63fa",
           "#FFA15A",
           "#19d3f3",
           "#FF6692",
           "#B6E880",
           "#FF97FF",
           "#FECB52"
          ],
          "font": {
           "color": "#2a3f5f"
          },
          "geo": {
           "bgcolor": "white",
           "lakecolor": "white",
           "landcolor": "#E5ECF6",
           "showlakes": true,
           "showland": true,
           "subunitcolor": "white"
          },
          "hoverlabel": {
           "align": "left"
          },
          "hovermode": "closest",
          "mapbox": {
           "style": "light"
          },
          "paper_bgcolor": "white",
          "plot_bgcolor": "#E5ECF6",
          "polar": {
           "angularaxis": {
            "gridcolor": "white",
            "linecolor": "white",
            "ticks": ""
           },
           "bgcolor": "#E5ECF6",
           "radialaxis": {
            "gridcolor": "white",
            "linecolor": "white",
            "ticks": ""
           }
          },
          "scene": {
           "xaxis": {
            "backgroundcolor": "#E5ECF6",
            "gridcolor": "white",
            "gridwidth": 2,
            "linecolor": "white",
            "showbackground": true,
            "ticks": "",
            "zerolinecolor": "white"
           },
           "yaxis": {
            "backgroundcolor": "#E5ECF6",
            "gridcolor": "white",
            "gridwidth": 2,
            "linecolor": "white",
            "showbackground": true,
            "ticks": "",
            "zerolinecolor": "white"
           },
           "zaxis": {
            "backgroundcolor": "#E5ECF6",
            "gridcolor": "white",
            "gridwidth": 2,
            "linecolor": "white",
            "showbackground": true,
            "ticks": "",
            "zerolinecolor": "white"
           }
          },
          "shapedefaults": {
           "line": {
            "color": "#2a3f5f"
           }
          },
          "ternary": {
           "aaxis": {
            "gridcolor": "white",
            "linecolor": "white",
            "ticks": ""
           },
           "baxis": {
            "gridcolor": "white",
            "linecolor": "white",
            "ticks": ""
           },
           "bgcolor": "#E5ECF6",
           "caxis": {
            "gridcolor": "white",
            "linecolor": "white",
            "ticks": ""
           }
          },
          "title": {
           "x": 0.05
          },
          "xaxis": {
           "automargin": true,
           "gridcolor": "white",
           "linecolor": "white",
           "ticks": "",
           "title": {
            "standoff": 15
           },
           "zerolinecolor": "white",
           "zerolinewidth": 2
          },
          "yaxis": {
           "automargin": true,
           "gridcolor": "white",
           "linecolor": "white",
           "ticks": "",
           "title": {
            "standoff": 15
           },
           "zerolinecolor": "white",
           "zerolinewidth": 2
          }
         }
        },
        "title": {
         "text": "Répartition géographique des étudiants en France"
        }
       }
      }
     },
     "metadata": {},
     "output_type": "display_data"
    }
   ],
   "source": [
    "# Carte interactive avec Plotly\n",
    "fig = px.scatter_map(\n",
    "    df_joined,\n",
    "    lat=\"latitude\",\n",
    "    lon=\"longitude\",\n",
    "    hover_name=\"libgeo\",\n",
    "    hover_data=[\"nombre total d’étudiants inscrits hors doubles inscriptions université/CPGE\", \"Densité étudiante\"],\n",
    "    size=\"Densité étudiante\",\n",
    "    zoom=5,\n",
    "    height=600\n",
    ")\n",
    "\n",
    "# Style cartographique (nécessite une Mapbox style)\n",
    "fig.update_layout(mapbox_style=\"open-street-map\")\n",
    "fig.update_layout(title=\"Répartition géographique des étudiants en France\")\n",
    "\n",
    "fig.show()"
   ]
  },
  {
   "cell_type": "markdown",
   "id": "9b97c335",
   "metadata": {},
   "source": [
    "Évaluer le taux de vacance locative en France, et les zones propices à un taux élevé"
   ]
  },
  {
   "cell_type": "code",
   "execution_count": 39,
   "id": "7727e89b",
   "metadata": {},
   "outputs": [
    {
     "name": "stdout",
     "output_type": "stream",
     "text": [
      "Partie Lucien\n"
     ]
    }
   ],
   "source": [
    "print(\"Partie Lucien\")"
   ]
  }
 ],
 "metadata": {
  "kernelspec": {
   "display_name": ".venv",
   "language": "python",
   "name": "python3"
  },
  "language_info": {
   "codemirror_mode": {
    "name": "ipython",
    "version": 3
   },
   "file_extension": ".py",
   "mimetype": "text/x-python",
   "name": "python",
   "nbconvert_exporter": "python",
   "pygments_lexer": "ipython3",
   "version": "3.13.7"
  }
 },
 "nbformat": 4,
 "nbformat_minor": 5
}
