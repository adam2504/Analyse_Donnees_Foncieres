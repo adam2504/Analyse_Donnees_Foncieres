{
 "cells": [
  {
   "cell_type": "markdown",
   "id": "25dd84de",
   "metadata": {},
   "source": [
    "## 🎓 Persona : Léa, jeune investisseuse étudiante\n",
    "\n",
    "**Profil :**\n",
    "- 👩 24 ans, diplômée de l'EM Lyon\n",
    "- 💼 Première expérience professionnelle après 2 ans d'alternance\n",
    "- 💰 Aide parentale pour le financement + épargne personnelle (~15 000 €)\n",
    "- 🎯 Objectif : réaliser un **premier investissement locatif** dans une **ville étudiante dynamique**\n",
    "\n",
    "---\n",
    "\n",
    "### 💡 Objectif d'investissement\n",
    "> Trouver le **meilleur investissement locatif étudiant** possible avec un **budget global de 200 000 €**,  \n",
    "> en analysant la rentabilité brute dans les **principales villes étudiantes françaises** (studios et T1 ≤45m²)\n",
    "\n",
    "---\n",
    "\n",
    "### 💰 Hypothèses financières\n",
    "| Élément | Montant estimé |\n",
    "|----------|----------------|\n",
    "| Prix d'achat visé | 160 000 – 180 000 € |\n",
    "| Apport personnel | 15 000 € |\n",
    "| Prêt immobilier estimé | 180 000 € sur 20 ans |\n",
    "| Budget total (frais inclus) | **≈ 200 000 €** |\n",
    "| Objectif de rentabilité brute | **≥ 5 %** |\n",
    "\n",
    "---\n",
    "\n",
    "### 🔍 Besoins data de Léa\n",
    "- Évaluer le **taux de vacance locative** en France pour anticiper les périodes creuses (notamment l'été où les étudiants quittent les logements)\n",
    "- Visualiser les **villes à forte concentration étudiante** en France\n",
    "- Analyser l'**évolution du prix au m² à l'achat et des loyers étudiants** en France\n",
    "- Etudier **la rentabilité moyenne en France** en 2024\n",
    "- Analyser la **dynamique du marché immobilier local : croissance ou baisse des prix et loyers sur les 5 dernières années** (entre Rennes et Bordeaux)\n",
    "- Comparer **les quartiers les plus rentables (rentabilité brute)** à ?\n",
    "- Analyser la **localisation/nombre des transports en commun** pour identifier les zones les plus attractives pour les étudiants à ?\n",
    "- Analyser la **localisation des universités/grandes écoles** à ?\n",
    "- Analyser les **quartiers vivants (nombre de resto, bars, et supermarchés)** à ? \n",
    "- Fournir une **recommandation finale : \"où investir avec 200k€ ?\"**\n",
    "\n",
    "---\n",
    "\n",
    "### 🧭 Objectif du notebook\n",
    "Créer un outil interactif permettant à Léa de :\n",
    "1. Analyser la **rentabilité locative brute** pour appartements étudiants ≤45m² dans **23 grandes villes françaises**\n",
    "2. Explorer visuellement les **villes à forte concentration étudiante** et analyser les **taux de vacance locative**\n",
    "3. Obtenir un **classement des villes** par rentabilité, prix et loyers pour décider où investir avec 200k€"
   ]
  },
  {
   "cell_type": "markdown",
   "id": "8f9733a3",
   "metadata": {},
   "source": [
    "## 📚 Import des bibliothèques ##"
   ]
  },
  {
   "cell_type": "code",
   "execution_count": null,
   "id": "3eb868ba",
   "metadata": {},
   "outputs": [],
   "source": [
    "import pandas as pd \n",
    "import plotly.express as px"
   ]
  },
  {
   "cell_type": "markdown",
   "id": "f672a483",
   "metadata": {},
   "source": [
    "# 2e vision : Analyse resserrée sur des villes #"
   ]
  },
  {
   "cell_type": "markdown",
   "id": "a0144df7",
   "metadata": {},
   "source": [
    "### Analyser la **dynamique du marché immobilier local : croissance ou baisse des prix et loyers sur les 5 dernières années** (entre Rennes et Bordeaux) ###"
   ]
  },
  {
   "cell_type": "code",
   "execution_count": 8,
   "id": "4c7db600",
   "metadata": {},
   "outputs": [
    {
     "name": "stdout",
     "output_type": "stream",
     "text": [
      "Partie Axel\n"
     ]
    }
   ],
   "source": [
    "print(\"Partie Axel\")"
   ]
  },
  {
   "cell_type": "markdown",
   "id": "be63e6ce",
   "metadata": {},
   "source": [
    "### Comparer **les quartiers les plus rentables (rentabilité brute)** à ? ###"
   ]
  },
  {
   "cell_type": "code",
   "execution_count": 9,
   "id": "30b7b390",
   "metadata": {},
   "outputs": [
    {
     "name": "stdout",
     "output_type": "stream",
     "text": [
      "Partie Lucien\n"
     ]
    }
   ],
   "source": [
    "print(\"Partie Lucien\")"
   ]
  },
  {
   "cell_type": "markdown",
   "id": "7da69d10",
   "metadata": {},
   "source": [
    "### Analyser la **localisation/nombre des transports en commun** pour identifier les zones les plus attractives pour les étudiants à ?  ###"
   ]
  },
  {
   "cell_type": "code",
   "execution_count": 12,
   "id": "878e55f3",
   "metadata": {},
   "outputs": [
    {
     "name": "stdout",
     "output_type": "stream",
     "text": [
      "Partie Valentine\n"
     ]
    }
   ],
   "source": [
    "print(\"Partie Valentine\")"
   ]
  },
  {
   "cell_type": "markdown",
   "id": "9b97c335",
   "metadata": {},
   "source": [
    "### Analyser la **localisation des universités/grandes écoles** à ? ###"
   ]
  },
  {
   "cell_type": "code",
   "execution_count": 42,
   "id": "7727e89b",
   "metadata": {},
   "outputs": [
    {
     "data": {
      "application/vnd.microsoft.datawrangler.viewer.v0+json": {
       "columns": [
        {
         "name": "index",
         "rawType": "int64",
         "type": "integer"
        },
        {
         "name": "Rentrée universitaire",
         "rawType": "int64",
         "type": "integer"
        },
        {
         "name": "catégorie d'établissement",
         "rawType": "object",
         "type": "string"
        },
        {
         "name": "secteur d'établissement",
         "rawType": "object",
         "type": "string"
        },
        {
         "name": "code UAI de l'établissement",
         "rawType": "object",
         "type": "string"
        },
        {
         "name": "sigle de l'établissement",
         "rawType": "object",
         "type": "string"
        },
        {
         "name": "libellé de l'établissement",
         "rawType": "object",
         "type": "string"
        },
        {
         "name": "libellé complémentaire de l'établissement",
         "rawType": "object",
         "type": "unknown"
        },
        {
         "name": "Code UAI de la composante",
         "rawType": "object",
         "type": "string"
        },
        {
         "name": "sigle de la composante",
         "rawType": "object",
         "type": "string"
        },
        {
         "name": "libellé de la composante",
         "rawType": "object",
         "type": "string"
        },
        {
         "name": "libellé complémentaire de la composante",
         "rawType": "object",
         "type": "string"
        },
        {
         "name": "id région",
         "rawType": "object",
         "type": "string"
        },
        {
         "name": "région",
         "rawType": "object",
         "type": "string"
        },
        {
         "name": "id académie",
         "rawType": "object",
         "type": "string"
        },
        {
         "name": "académie",
         "rawType": "object",
         "type": "string"
        },
        {
         "name": "id département",
         "rawType": "object",
         "type": "string"
        },
        {
         "name": "département",
         "rawType": "object",
         "type": "string"
        },
        {
         "name": "id unité urbaine",
         "rawType": "object",
         "type": "string"
        },
        {
         "name": "unité urbaine",
         "rawType": "object",
         "type": "string"
        },
        {
         "name": "code commune",
         "rawType": "object",
         "type": "string"
        },
        {
         "name": "Commune",
         "rawType": "object",
         "type": "string"
        },
        {
         "name": "gps",
         "rawType": "object",
         "type": "unknown"
        },
        {
         "name": "degetu",
         "rawType": "float64",
         "type": "float"
        },
        {
         "name": "degre_etudes",
         "rawType": "object",
         "type": "string"
        },
        {
         "name": "nombre total d’étudiants inscrits hors doubles inscriptions université/CPGE",
         "rawType": "int64",
         "type": "integer"
        },
        {
         "name": "dont femmes",
         "rawType": "int64",
         "type": "integer"
        },
        {
         "name": "dont hommes",
         "rawType": "int64",
         "type": "integer"
        }
       ],
       "ref": "e9aca9a7-2bed-4a63-b6b5-49b35810b0b4",
       "rows": [
        [
         "0",
         "2023",
         "Écoles de commerce, gestion et vente",
         "Privé",
         "0562044T",
         "EC TECH SUP PR",
         "GROUPE AFTEC",
         "IPAC BACHELOR FACTORY VANNES",
         "0562044T",
         "EC TECH SUP PR",
         "GROUPE AFTEC",
         "IPAC BACHELOR FACTORY VANNES",
         "R53",
         "Bretagne",
         "A14",
         "Rennes",
         "D056",
         "56 - Morbihan",
         "UU56501",
         "Vannes",
         "56158",
         "Plescop",
         "47.67764394859038, -2.80211043128016",
         "3.0",
         "BAC + 3",
         "112",
         "96",
         "16"
        ],
        [
         "1",
         "2023",
         "Écoles de commerce, gestion et vente",
         "Privé",
         "0590346F",
         "SKEMA LILLE",
         "SKEMA BUSINESS SCHOOL LILLE",
         null,
         "0060656F",
         "E.COM",
         "ECOLE DE COMMERCE",
         "CAMPUS DE SOPHIA ANTIPOLIS",
         "R93",
         "Provence-Alpes-Côte d'Azur",
         "A23",
         "Nice",
         "D006",
         "06 - Alpes-Maritimes",
         "UU06701",
         "Nice",
         "06152",
         "Valbonne",
         "43.61328883276337, 7.056290282560445",
         "6.0",
         "BAC + 6 et plus",
         "19",
         "9",
         "10"
        ],
        [
         "2",
         "2023",
         "Écoles de commerce, gestion et vente",
         "Privé",
         "0590346F",
         "SKEMA LILLE",
         "SKEMA BUSINESS SCHOOL LILLE",
         null,
         "216P0001",
         "SKEMA CHINE",
         "SKEMA BUSINESS SCHOOL",
         "CAMPUS DE SUZHOU (CHINE)",
         "R99",
         "Étranger",
         "A00",
         "Étranger",
         "D999",
         "Étranger",
         "CHI99216",
         "Suzhou",
         "99216",
         "Suzhou",
         null,
         "4.0",
         "BAC + 4",
         "389",
         "67",
         "322"
        ],
        [
         "3",
         "2023",
         "Écoles de commerce, gestion et vente",
         "Privé",
         "0590350K",
         "EDHEC LILLE",
         "EDHEC BUSINESS SCHOOL",
         "MEMBRE FUPL",
         "0755719J",
         "EDHEC",
         "CENTRE DE FORMATION CONTINUE",
         "EDHEC",
         "R11",
         "Île-de-France",
         "A01",
         "Paris",
         "D075",
         "75 - Paris",
         "UU00851",
         "Paris",
         "75102",
         "Paris  2e",
         null,
         "5.0",
         "BAC + 5",
         "387",
         "162",
         "225"
        ],
        [
         "4",
         "2023",
         "Écoles de commerce, gestion et vente",
         "Privé",
         "0593202K",
         "IESEG LILLE",
         "INST ECO SCIENT GESTION LILLE",
         "MEMBRE FUPL",
         "0593202K",
         "IESEG LILLE",
         "INST ECO SCIENT GESTION LILLE",
         "MEMBRE FUPL",
         "R32",
         "Hauts-de-France",
         "A09",
         "Lille",
         "D059",
         "59 - Nord",
         "UU59702",
         "Lille",
         "59350",
         "Lille",
         "50.63553116922688, 3.044909976114497",
         "2.0",
         "BAC + 2",
         "739",
         "285",
         "454"
        ]
       ],
       "shape": {
        "columns": 27,
        "rows": 5
       }
      },
      "text/html": [
       "<div>\n",
       "<style scoped>\n",
       "    .dataframe tbody tr th:only-of-type {\n",
       "        vertical-align: middle;\n",
       "    }\n",
       "\n",
       "    .dataframe tbody tr th {\n",
       "        vertical-align: top;\n",
       "    }\n",
       "\n",
       "    .dataframe thead th {\n",
       "        text-align: right;\n",
       "    }\n",
       "</style>\n",
       "<table border=\"1\" class=\"dataframe\">\n",
       "  <thead>\n",
       "    <tr style=\"text-align: right;\">\n",
       "      <th></th>\n",
       "      <th>Rentrée universitaire</th>\n",
       "      <th>catégorie d'établissement</th>\n",
       "      <th>secteur d'établissement</th>\n",
       "      <th>code UAI de l'établissement</th>\n",
       "      <th>sigle de l'établissement</th>\n",
       "      <th>libellé de l'établissement</th>\n",
       "      <th>libellé complémentaire de l'établissement</th>\n",
       "      <th>Code UAI de la composante</th>\n",
       "      <th>sigle de la composante</th>\n",
       "      <th>libellé de la composante</th>\n",
       "      <th>...</th>\n",
       "      <th>id unité urbaine</th>\n",
       "      <th>unité urbaine</th>\n",
       "      <th>code commune</th>\n",
       "      <th>Commune</th>\n",
       "      <th>gps</th>\n",
       "      <th>degetu</th>\n",
       "      <th>degre_etudes</th>\n",
       "      <th>nombre total d’étudiants inscrits hors doubles inscriptions université/CPGE</th>\n",
       "      <th>dont femmes</th>\n",
       "      <th>dont hommes</th>\n",
       "    </tr>\n",
       "  </thead>\n",
       "  <tbody>\n",
       "    <tr>\n",
       "      <th>0</th>\n",
       "      <td>2023</td>\n",
       "      <td>Écoles de commerce, gestion et vente</td>\n",
       "      <td>Privé</td>\n",
       "      <td>0562044T</td>\n",
       "      <td>EC TECH SUP PR</td>\n",
       "      <td>GROUPE AFTEC</td>\n",
       "      <td>IPAC BACHELOR FACTORY VANNES</td>\n",
       "      <td>0562044T</td>\n",
       "      <td>EC TECH SUP PR</td>\n",
       "      <td>GROUPE AFTEC</td>\n",
       "      <td>...</td>\n",
       "      <td>UU56501</td>\n",
       "      <td>Vannes</td>\n",
       "      <td>56158</td>\n",
       "      <td>Plescop</td>\n",
       "      <td>47.67764394859038, -2.80211043128016</td>\n",
       "      <td>3.0</td>\n",
       "      <td>BAC + 3</td>\n",
       "      <td>112</td>\n",
       "      <td>96</td>\n",
       "      <td>16</td>\n",
       "    </tr>\n",
       "    <tr>\n",
       "      <th>1</th>\n",
       "      <td>2023</td>\n",
       "      <td>Écoles de commerce, gestion et vente</td>\n",
       "      <td>Privé</td>\n",
       "      <td>0590346F</td>\n",
       "      <td>SKEMA LILLE</td>\n",
       "      <td>SKEMA BUSINESS SCHOOL LILLE</td>\n",
       "      <td>NaN</td>\n",
       "      <td>0060656F</td>\n",
       "      <td>E.COM</td>\n",
       "      <td>ECOLE DE COMMERCE</td>\n",
       "      <td>...</td>\n",
       "      <td>UU06701</td>\n",
       "      <td>Nice</td>\n",
       "      <td>06152</td>\n",
       "      <td>Valbonne</td>\n",
       "      <td>43.61328883276337, 7.056290282560445</td>\n",
       "      <td>6.0</td>\n",
       "      <td>BAC + 6 et plus</td>\n",
       "      <td>19</td>\n",
       "      <td>9</td>\n",
       "      <td>10</td>\n",
       "    </tr>\n",
       "    <tr>\n",
       "      <th>2</th>\n",
       "      <td>2023</td>\n",
       "      <td>Écoles de commerce, gestion et vente</td>\n",
       "      <td>Privé</td>\n",
       "      <td>0590346F</td>\n",
       "      <td>SKEMA LILLE</td>\n",
       "      <td>SKEMA BUSINESS SCHOOL LILLE</td>\n",
       "      <td>NaN</td>\n",
       "      <td>216P0001</td>\n",
       "      <td>SKEMA CHINE</td>\n",
       "      <td>SKEMA BUSINESS SCHOOL</td>\n",
       "      <td>...</td>\n",
       "      <td>CHI99216</td>\n",
       "      <td>Suzhou</td>\n",
       "      <td>99216</td>\n",
       "      <td>Suzhou</td>\n",
       "      <td>NaN</td>\n",
       "      <td>4.0</td>\n",
       "      <td>BAC + 4</td>\n",
       "      <td>389</td>\n",
       "      <td>67</td>\n",
       "      <td>322</td>\n",
       "    </tr>\n",
       "    <tr>\n",
       "      <th>3</th>\n",
       "      <td>2023</td>\n",
       "      <td>Écoles de commerce, gestion et vente</td>\n",
       "      <td>Privé</td>\n",
       "      <td>0590350K</td>\n",
       "      <td>EDHEC LILLE</td>\n",
       "      <td>EDHEC BUSINESS SCHOOL</td>\n",
       "      <td>MEMBRE FUPL</td>\n",
       "      <td>0755719J</td>\n",
       "      <td>EDHEC</td>\n",
       "      <td>CENTRE DE FORMATION CONTINUE</td>\n",
       "      <td>...</td>\n",
       "      <td>UU00851</td>\n",
       "      <td>Paris</td>\n",
       "      <td>75102</td>\n",
       "      <td>Paris  2e</td>\n",
       "      <td>NaN</td>\n",
       "      <td>5.0</td>\n",
       "      <td>BAC + 5</td>\n",
       "      <td>387</td>\n",
       "      <td>162</td>\n",
       "      <td>225</td>\n",
       "    </tr>\n",
       "    <tr>\n",
       "      <th>4</th>\n",
       "      <td>2023</td>\n",
       "      <td>Écoles de commerce, gestion et vente</td>\n",
       "      <td>Privé</td>\n",
       "      <td>0593202K</td>\n",
       "      <td>IESEG LILLE</td>\n",
       "      <td>INST ECO SCIENT GESTION LILLE</td>\n",
       "      <td>MEMBRE FUPL</td>\n",
       "      <td>0593202K</td>\n",
       "      <td>IESEG LILLE</td>\n",
       "      <td>INST ECO SCIENT GESTION LILLE</td>\n",
       "      <td>...</td>\n",
       "      <td>UU59702</td>\n",
       "      <td>Lille</td>\n",
       "      <td>59350</td>\n",
       "      <td>Lille</td>\n",
       "      <td>50.63553116922688, 3.044909976114497</td>\n",
       "      <td>2.0</td>\n",
       "      <td>BAC + 2</td>\n",
       "      <td>739</td>\n",
       "      <td>285</td>\n",
       "      <td>454</td>\n",
       "    </tr>\n",
       "  </tbody>\n",
       "</table>\n",
       "<p>5 rows × 27 columns</p>\n",
       "</div>"
      ],
      "text/plain": [
       "   Rentrée universitaire             catégorie d'établissement  \\\n",
       "0                   2023  Écoles de commerce, gestion et vente   \n",
       "1                   2023  Écoles de commerce, gestion et vente   \n",
       "2                   2023  Écoles de commerce, gestion et vente   \n",
       "3                   2023  Écoles de commerce, gestion et vente   \n",
       "4                   2023  Écoles de commerce, gestion et vente   \n",
       "\n",
       "  secteur d'établissement code UAI de l'établissement  \\\n",
       "0                   Privé                    0562044T   \n",
       "1                   Privé                    0590346F   \n",
       "2                   Privé                    0590346F   \n",
       "3                   Privé                    0590350K   \n",
       "4                   Privé                    0593202K   \n",
       "\n",
       "  sigle de l'établissement     libellé de l'établissement  \\\n",
       "0           EC TECH SUP PR                   GROUPE AFTEC   \n",
       "1              SKEMA LILLE    SKEMA BUSINESS SCHOOL LILLE   \n",
       "2              SKEMA LILLE    SKEMA BUSINESS SCHOOL LILLE   \n",
       "3              EDHEC LILLE          EDHEC BUSINESS SCHOOL   \n",
       "4              IESEG LILLE  INST ECO SCIENT GESTION LILLE   \n",
       "\n",
       "  libellé complémentaire de l'établissement Code UAI de la composante  \\\n",
       "0              IPAC BACHELOR FACTORY VANNES                  0562044T   \n",
       "1                                       NaN                  0060656F   \n",
       "2                                       NaN                  216P0001   \n",
       "3                               MEMBRE FUPL                  0755719J   \n",
       "4                               MEMBRE FUPL                  0593202K   \n",
       "\n",
       "  sigle de la composante       libellé de la composante  ... id unité urbaine  \\\n",
       "0         EC TECH SUP PR                   GROUPE AFTEC  ...          UU56501   \n",
       "1                  E.COM              ECOLE DE COMMERCE  ...          UU06701   \n",
       "2            SKEMA CHINE          SKEMA BUSINESS SCHOOL  ...         CHI99216   \n",
       "3                  EDHEC   CENTRE DE FORMATION CONTINUE  ...          UU00851   \n",
       "4            IESEG LILLE  INST ECO SCIENT GESTION LILLE  ...          UU59702   \n",
       "\n",
       "  unité urbaine code commune    Commune                                   gps  \\\n",
       "0        Vannes        56158    Plescop  47.67764394859038, -2.80211043128016   \n",
       "1          Nice        06152   Valbonne  43.61328883276337, 7.056290282560445   \n",
       "2        Suzhou        99216     Suzhou                                   NaN   \n",
       "3         Paris        75102  Paris  2e                                   NaN   \n",
       "4         Lille        59350      Lille  50.63553116922688, 3.044909976114497   \n",
       "\n",
       "  degetu     degre_etudes  \\\n",
       "0    3.0          BAC + 3   \n",
       "1    6.0  BAC + 6 et plus   \n",
       "2    4.0          BAC + 4   \n",
       "3    5.0          BAC + 5   \n",
       "4    2.0          BAC + 2   \n",
       "\n",
       "  nombre total d’étudiants inscrits hors doubles inscriptions université/CPGE  \\\n",
       "0                                                112                            \n",
       "1                                                 19                            \n",
       "2                                                389                            \n",
       "3                                                387                            \n",
       "4                                                739                            \n",
       "\n",
       "  dont femmes dont hommes  \n",
       "0          96          16  \n",
       "1           9          10  \n",
       "2          67         322  \n",
       "3         162         225  \n",
       "4         285         454  \n",
       "\n",
       "[5 rows x 27 columns]"
      ]
     },
     "execution_count": 42,
     "metadata": {},
     "output_type": "execute_result"
    }
   ],
   "source": [
    "url_df_enseignement_sup = \"https://huggingface.co/datasets/analysedonneesfoncieresdata/analyse_fonciere_data/resolve/main/fr-esr-atlas_regional-effectifs-d-etudiants-inscrits-detail_etablissements.csv\"\n",
    "\n",
    "df_enseignement_sup = pd.read_csv(url_df_enseignement_sup, delimiter=';')\n",
    "\n",
    "df_enseignement_sup.head()"
   ]
  },
  {
   "cell_type": "code",
   "execution_count": 46,
   "id": "d387a86d",
   "metadata": {},
   "outputs": [
    {
     "name": "stdout",
     "output_type": "stream",
     "text": [
      "Nombres de lignes sans gps à Rennes et Bordeaux : 0\n"
     ]
    },
    {
     "data": {
      "application/vnd.microsoft.datawrangler.viewer.v0+json": {
       "columns": [
        {
         "name": "index",
         "rawType": "int64",
         "type": "integer"
        },
        {
         "name": "Rentrée universitaire",
         "rawType": "int64",
         "type": "integer"
        },
        {
         "name": "catégorie d'établissement",
         "rawType": "object",
         "type": "string"
        },
        {
         "name": "secteur d'établissement",
         "rawType": "object",
         "type": "string"
        },
        {
         "name": "code UAI de l'établissement",
         "rawType": "object",
         "type": "string"
        },
        {
         "name": "sigle de l'établissement",
         "rawType": "object",
         "type": "string"
        },
        {
         "name": "libellé de l'établissement",
         "rawType": "object",
         "type": "string"
        },
        {
         "name": "libellé complémentaire de l'établissement",
         "rawType": "object",
         "type": "string"
        },
        {
         "name": "Code UAI de la composante",
         "rawType": "object",
         "type": "string"
        },
        {
         "name": "sigle de la composante",
         "rawType": "object",
         "type": "string"
        },
        {
         "name": "libellé de la composante",
         "rawType": "object",
         "type": "string"
        },
        {
         "name": "libellé complémentaire de la composante",
         "rawType": "object",
         "type": "string"
        },
        {
         "name": "id région",
         "rawType": "object",
         "type": "string"
        },
        {
         "name": "région",
         "rawType": "object",
         "type": "string"
        },
        {
         "name": "id académie",
         "rawType": "object",
         "type": "string"
        },
        {
         "name": "académie",
         "rawType": "object",
         "type": "string"
        },
        {
         "name": "id département",
         "rawType": "object",
         "type": "string"
        },
        {
         "name": "département",
         "rawType": "object",
         "type": "string"
        },
        {
         "name": "id unité urbaine",
         "rawType": "object",
         "type": "string"
        },
        {
         "name": "unité urbaine",
         "rawType": "object",
         "type": "string"
        },
        {
         "name": "code commune",
         "rawType": "object",
         "type": "string"
        },
        {
         "name": "Commune",
         "rawType": "object",
         "type": "string"
        },
        {
         "name": "gps",
         "rawType": "object",
         "type": "string"
        },
        {
         "name": "degetu",
         "rawType": "float64",
         "type": "float"
        },
        {
         "name": "degre_etudes",
         "rawType": "object",
         "type": "string"
        },
        {
         "name": "nombre total d’étudiants inscrits hors doubles inscriptions université/CPGE",
         "rawType": "int64",
         "type": "integer"
        },
        {
         "name": "dont femmes",
         "rawType": "int64",
         "type": "integer"
        },
        {
         "name": "dont hommes",
         "rawType": "int64",
         "type": "integer"
        }
       ],
       "ref": "997c9aeb-1692-4cdd-a4c9-f3b064261ae6",
       "rows": [
        [
         "25",
         "2023",
         "Écoles d'ingénieurs",
         "Privé",
         "0922455U",
         "CESI EI NANTER",
         "CESI ECOLE INGENIEURS NANTERRE",
         "CESI PARIS",
         "0332984P",
         "CESI EI BDEAUX",
         "CESI ECOLE INGENIEURS BORDEAUX",
         "CESI PARIS",
         "R75",
         "Nouvelle-Aquitaine",
         "A04",
         "Bordeaux",
         "D033",
         "33 - Gironde",
         "UU33701",
         "Bordeaux",
         "33063",
         "Bordeaux",
         "44.864981775219746, -0.5775733061462319",
         "2.0",
         "BAC + 2",
         "15",
         "5",
         "10"
        ],
        [
         "110",
         "2023",
         "Lycées",
         "Public",
         "0330023W",
         "LGT",
         "LYCEE GENERAL ET TECHNOLOGIQUE",
         "CAMILLE JULLIAN",
         "0330023W",
         "LGT",
         "LYCEE GENERAL ET TECHNOLOGIQUE",
         "CAMILLE JULLIAN",
         "R75",
         "Nouvelle-Aquitaine",
         "A04",
         "Bordeaux",
         "D033",
         "33 - Gironde",
         "UU33701",
         "Bordeaux",
         "33063",
         "Bordeaux",
         "44.844623375958385, -0.5902035283353784",
         "1.0",
         "BAC + 1",
         "204",
         "112",
         "92"
        ],
        [
         "322",
         "2022",
         "Lycées",
         "Privé",
         "0352267Z",
         "ECP PR",
         "ECOLE PRIVEE COIF ESTHETIQUE",
         "L'ACADEMY - SILVYA TERRADE REN",
         "0352267Z",
         "ECP PR",
         "ECOLE PRIVEE COIF ESTHETIQUE",
         "L'ACADEMY - SILVYA TERRADE REN",
         "R53",
         "Bretagne",
         "A14",
         "Rennes",
         "D035",
         "35 - Ille-et-Vilaine",
         "UU35701",
         "Rennes",
         "35238",
         "Rennes",
         "48.10427073898263, -1.6691603554365282",
         "2.0",
         "BAC + 2",
         "9",
         "8",
         "1"
        ],
        [
         "367",
         "2022",
         "Lycées",
         "Public",
         "0332468D",
         "LT LYC METIER",
         "LT LYCEE DES METIERS",
         "BIOLOGIE ET CHIMIE ST LOUIS",
         "0332468D",
         "LT LYC METIER",
         "LT LYCEE DES METIERS",
         "BIOLOGIE ET CHIMIE ST LOUIS",
         "R75",
         "Nouvelle-Aquitaine",
         "A04",
         "Bordeaux",
         "D033",
         "33 - Gironde",
         "UU33701",
         "Bordeaux",
         "33063",
         "Bordeaux",
         "44.866484243847566, -0.5674100961785374",
         "1.0",
         "BAC + 1",
         "137",
         "99",
         "38"
        ],
        [
         "565",
         "2023",
         "Écoles de commerce, gestion et vente",
         "Privé",
         "0332524P",
         "INSEEC BORDX",
         "INST HTES ETUDES ECO COM BORDX",
         "GROUPE OMNES EDUCATION",
         "0332524P",
         "INSEEC BORDX",
         "INST HTES ETUDES ECO COM BORDX",
         "GROUPE OMNES EDUCATION",
         "R75",
         "Nouvelle-Aquitaine",
         "A04",
         "Bordeaux",
         "D033",
         "33 - Gironde",
         "UU33701",
         "Bordeaux",
         "33063",
         "Bordeaux",
         "44.859124286097206, -0.5557964100719849",
         "3.0",
         "BAC + 3",
         "29",
         "14",
         "15"
        ]
       ],
       "shape": {
        "columns": 27,
        "rows": 5
       }
      },
      "text/html": [
       "<div>\n",
       "<style scoped>\n",
       "    .dataframe tbody tr th:only-of-type {\n",
       "        vertical-align: middle;\n",
       "    }\n",
       "\n",
       "    .dataframe tbody tr th {\n",
       "        vertical-align: top;\n",
       "    }\n",
       "\n",
       "    .dataframe thead th {\n",
       "        text-align: right;\n",
       "    }\n",
       "</style>\n",
       "<table border=\"1\" class=\"dataframe\">\n",
       "  <thead>\n",
       "    <tr style=\"text-align: right;\">\n",
       "      <th></th>\n",
       "      <th>Rentrée universitaire</th>\n",
       "      <th>catégorie d'établissement</th>\n",
       "      <th>secteur d'établissement</th>\n",
       "      <th>code UAI de l'établissement</th>\n",
       "      <th>sigle de l'établissement</th>\n",
       "      <th>libellé de l'établissement</th>\n",
       "      <th>libellé complémentaire de l'établissement</th>\n",
       "      <th>Code UAI de la composante</th>\n",
       "      <th>sigle de la composante</th>\n",
       "      <th>libellé de la composante</th>\n",
       "      <th>...</th>\n",
       "      <th>id unité urbaine</th>\n",
       "      <th>unité urbaine</th>\n",
       "      <th>code commune</th>\n",
       "      <th>Commune</th>\n",
       "      <th>gps</th>\n",
       "      <th>degetu</th>\n",
       "      <th>degre_etudes</th>\n",
       "      <th>nombre total d’étudiants inscrits hors doubles inscriptions université/CPGE</th>\n",
       "      <th>dont femmes</th>\n",
       "      <th>dont hommes</th>\n",
       "    </tr>\n",
       "  </thead>\n",
       "  <tbody>\n",
       "    <tr>\n",
       "      <th>25</th>\n",
       "      <td>2023</td>\n",
       "      <td>Écoles d'ingénieurs</td>\n",
       "      <td>Privé</td>\n",
       "      <td>0922455U</td>\n",
       "      <td>CESI EI NANTER</td>\n",
       "      <td>CESI ECOLE INGENIEURS NANTERRE</td>\n",
       "      <td>CESI PARIS</td>\n",
       "      <td>0332984P</td>\n",
       "      <td>CESI EI BDEAUX</td>\n",
       "      <td>CESI ECOLE INGENIEURS BORDEAUX</td>\n",
       "      <td>...</td>\n",
       "      <td>UU33701</td>\n",
       "      <td>Bordeaux</td>\n",
       "      <td>33063</td>\n",
       "      <td>Bordeaux</td>\n",
       "      <td>44.864981775219746, -0.5775733061462319</td>\n",
       "      <td>2.0</td>\n",
       "      <td>BAC + 2</td>\n",
       "      <td>15</td>\n",
       "      <td>5</td>\n",
       "      <td>10</td>\n",
       "    </tr>\n",
       "    <tr>\n",
       "      <th>110</th>\n",
       "      <td>2023</td>\n",
       "      <td>Lycées</td>\n",
       "      <td>Public</td>\n",
       "      <td>0330023W</td>\n",
       "      <td>LGT</td>\n",
       "      <td>LYCEE GENERAL ET TECHNOLOGIQUE</td>\n",
       "      <td>CAMILLE JULLIAN</td>\n",
       "      <td>0330023W</td>\n",
       "      <td>LGT</td>\n",
       "      <td>LYCEE GENERAL ET TECHNOLOGIQUE</td>\n",
       "      <td>...</td>\n",
       "      <td>UU33701</td>\n",
       "      <td>Bordeaux</td>\n",
       "      <td>33063</td>\n",
       "      <td>Bordeaux</td>\n",
       "      <td>44.844623375958385, -0.5902035283353784</td>\n",
       "      <td>1.0</td>\n",
       "      <td>BAC + 1</td>\n",
       "      <td>204</td>\n",
       "      <td>112</td>\n",
       "      <td>92</td>\n",
       "    </tr>\n",
       "    <tr>\n",
       "      <th>322</th>\n",
       "      <td>2022</td>\n",
       "      <td>Lycées</td>\n",
       "      <td>Privé</td>\n",
       "      <td>0352267Z</td>\n",
       "      <td>ECP PR</td>\n",
       "      <td>ECOLE PRIVEE COIF ESTHETIQUE</td>\n",
       "      <td>L'ACADEMY - SILVYA TERRADE REN</td>\n",
       "      <td>0352267Z</td>\n",
       "      <td>ECP PR</td>\n",
       "      <td>ECOLE PRIVEE COIF ESTHETIQUE</td>\n",
       "      <td>...</td>\n",
       "      <td>UU35701</td>\n",
       "      <td>Rennes</td>\n",
       "      <td>35238</td>\n",
       "      <td>Rennes</td>\n",
       "      <td>48.10427073898263, -1.6691603554365282</td>\n",
       "      <td>2.0</td>\n",
       "      <td>BAC + 2</td>\n",
       "      <td>9</td>\n",
       "      <td>8</td>\n",
       "      <td>1</td>\n",
       "    </tr>\n",
       "    <tr>\n",
       "      <th>367</th>\n",
       "      <td>2022</td>\n",
       "      <td>Lycées</td>\n",
       "      <td>Public</td>\n",
       "      <td>0332468D</td>\n",
       "      <td>LT LYC METIER</td>\n",
       "      <td>LT LYCEE DES METIERS</td>\n",
       "      <td>BIOLOGIE ET CHIMIE ST LOUIS</td>\n",
       "      <td>0332468D</td>\n",
       "      <td>LT LYC METIER</td>\n",
       "      <td>LT LYCEE DES METIERS</td>\n",
       "      <td>...</td>\n",
       "      <td>UU33701</td>\n",
       "      <td>Bordeaux</td>\n",
       "      <td>33063</td>\n",
       "      <td>Bordeaux</td>\n",
       "      <td>44.866484243847566, -0.5674100961785374</td>\n",
       "      <td>1.0</td>\n",
       "      <td>BAC + 1</td>\n",
       "      <td>137</td>\n",
       "      <td>99</td>\n",
       "      <td>38</td>\n",
       "    </tr>\n",
       "    <tr>\n",
       "      <th>565</th>\n",
       "      <td>2023</td>\n",
       "      <td>Écoles de commerce, gestion et vente</td>\n",
       "      <td>Privé</td>\n",
       "      <td>0332524P</td>\n",
       "      <td>INSEEC BORDX</td>\n",
       "      <td>INST HTES ETUDES ECO COM BORDX</td>\n",
       "      <td>GROUPE OMNES EDUCATION</td>\n",
       "      <td>0332524P</td>\n",
       "      <td>INSEEC BORDX</td>\n",
       "      <td>INST HTES ETUDES ECO COM BORDX</td>\n",
       "      <td>...</td>\n",
       "      <td>UU33701</td>\n",
       "      <td>Bordeaux</td>\n",
       "      <td>33063</td>\n",
       "      <td>Bordeaux</td>\n",
       "      <td>44.859124286097206, -0.5557964100719849</td>\n",
       "      <td>3.0</td>\n",
       "      <td>BAC + 3</td>\n",
       "      <td>29</td>\n",
       "      <td>14</td>\n",
       "      <td>15</td>\n",
       "    </tr>\n",
       "  </tbody>\n",
       "</table>\n",
       "<p>5 rows × 27 columns</p>\n",
       "</div>"
      ],
      "text/plain": [
       "     Rentrée universitaire             catégorie d'établissement  \\\n",
       "25                    2023                   Écoles d'ingénieurs   \n",
       "110                   2023                                Lycées   \n",
       "322                   2022                                Lycées   \n",
       "367                   2022                                Lycées   \n",
       "565                   2023  Écoles de commerce, gestion et vente   \n",
       "\n",
       "    secteur d'établissement code UAI de l'établissement  \\\n",
       "25                    Privé                    0922455U   \n",
       "110                  Public                    0330023W   \n",
       "322                   Privé                    0352267Z   \n",
       "367                  Public                    0332468D   \n",
       "565                   Privé                    0332524P   \n",
       "\n",
       "    sigle de l'établissement      libellé de l'établissement  \\\n",
       "25            CESI EI NANTER  CESI ECOLE INGENIEURS NANTERRE   \n",
       "110                      LGT  LYCEE GENERAL ET TECHNOLOGIQUE   \n",
       "322                   ECP PR    ECOLE PRIVEE COIF ESTHETIQUE   \n",
       "367            LT LYC METIER            LT LYCEE DES METIERS   \n",
       "565             INSEEC BORDX  INST HTES ETUDES ECO COM BORDX   \n",
       "\n",
       "    libellé complémentaire de l'établissement Code UAI de la composante  \\\n",
       "25                                 CESI PARIS                  0332984P   \n",
       "110                           CAMILLE JULLIAN                  0330023W   \n",
       "322            L'ACADEMY - SILVYA TERRADE REN                  0352267Z   \n",
       "367               BIOLOGIE ET CHIMIE ST LOUIS                  0332468D   \n",
       "565                    GROUPE OMNES EDUCATION                  0332524P   \n",
       "\n",
       "    sigle de la composante        libellé de la composante  ...  \\\n",
       "25          CESI EI BDEAUX  CESI ECOLE INGENIEURS BORDEAUX  ...   \n",
       "110                    LGT  LYCEE GENERAL ET TECHNOLOGIQUE  ...   \n",
       "322                 ECP PR    ECOLE PRIVEE COIF ESTHETIQUE  ...   \n",
       "367          LT LYC METIER            LT LYCEE DES METIERS  ...   \n",
       "565           INSEEC BORDX  INST HTES ETUDES ECO COM BORDX  ...   \n",
       "\n",
       "    id unité urbaine unité urbaine code commune   Commune  \\\n",
       "25           UU33701      Bordeaux        33063  Bordeaux   \n",
       "110          UU33701      Bordeaux        33063  Bordeaux   \n",
       "322          UU35701        Rennes        35238    Rennes   \n",
       "367          UU33701      Bordeaux        33063  Bordeaux   \n",
       "565          UU33701      Bordeaux        33063  Bordeaux   \n",
       "\n",
       "                                         gps degetu degre_etudes  \\\n",
       "25   44.864981775219746, -0.5775733061462319    2.0      BAC + 2   \n",
       "110  44.844623375958385, -0.5902035283353784    1.0      BAC + 1   \n",
       "322   48.10427073898263, -1.6691603554365282    2.0      BAC + 2   \n",
       "367  44.866484243847566, -0.5674100961785374    1.0      BAC + 1   \n",
       "565  44.859124286097206, -0.5557964100719849    3.0      BAC + 3   \n",
       "\n",
       "    nombre total d’étudiants inscrits hors doubles inscriptions université/CPGE  \\\n",
       "25                                                  15                            \n",
       "110                                                204                            \n",
       "322                                                  9                            \n",
       "367                                                137                            \n",
       "565                                                 29                            \n",
       "\n",
       "    dont femmes dont hommes  \n",
       "25            5          10  \n",
       "110         112          92  \n",
       "322           8           1  \n",
       "367          99          38  \n",
       "565          14          15  \n",
       "\n",
       "[5 rows x 27 columns]"
      ]
     },
     "execution_count": 46,
     "metadata": {},
     "output_type": "execute_result"
    }
   ],
   "source": [
    "df_rennes_et_bordeaux = df_enseignement_sup[\n",
    "    df_enseignement_sup['Commune'].isin(['Bordeaux', 'Rennes'])\n",
    "]\n",
    "\n",
    "df_rennes_et_bordeaux = df_rennes_et_bordeaux.dropna(subset=['gps'])\n",
    "\n",
    "print(f\"Nombres de lignes sans gps à Rennes et Bordeaux :\", df_rennes_et_bordeaux['gps'].isnull().sum())\n",
    "df_rennes_et_bordeaux.head()"
   ]
  },
  {
   "cell_type": "code",
   "execution_count": 59,
   "id": "08982662",
   "metadata": {},
   "outputs": [
    {
     "data": {
      "application/vnd.plotly.v1+json": {
       "config": {
        "plotlyServerURL": "https://plot.ly"
       },
       "data": [
        {
         "customdata": [
          [
           "Rennes",
           9,
           "Privé",
           "BAC + 2"
          ],
          [
           "Rennes",
           713,
           "Public",
           null
          ],
          [
           "Rennes",
           127,
           "Public",
           null
          ],
          [
           "Rennes",
           59,
           "Public",
           "BAC + 2"
          ],
          [
           "Rennes",
           134,
           "Public",
           null
          ],
          [
           "Rennes",
           43,
           "Privé",
           null
          ],
          [
           "Rennes",
           94,
           "Privé",
           null
          ],
          [
           "Rennes",
           245,
           "Privé",
           null
          ],
          [
           "Rennes",
           46,
           "Privé",
           null
          ],
          [
           "Rennes",
           125,
           "Public",
           null
          ],
          [
           "Rennes",
           219,
           "Privé",
           "BAC + 1"
          ],
          [
           "Rennes",
           577,
           "Public",
           "BAC + 1"
          ],
          [
           "Rennes",
           16,
           "Privé",
           "BAC + 3"
          ],
          [
           "Rennes",
           80,
           "Privé",
           "BAC + 2"
          ],
          [
           "Rennes",
           88,
           "Privé",
           "BAC + 1"
          ],
          [
           "Rennes",
           255,
           "Public",
           "BAC + 2"
          ],
          [
           "Rennes",
           233,
           "Privé",
           "BAC + 2"
          ],
          [
           "Rennes",
           77,
           "Privé",
           null
          ],
          [
           "Rennes",
           22,
           "Public",
           null
          ],
          [
           "Rennes",
           94,
           "Privé",
           null
          ],
          [
           "Rennes",
           408,
           "Public",
           null
          ],
          [
           "Rennes",
           217,
           "Public",
           null
          ],
          [
           "Rennes",
           98,
           "Privé",
           null
          ],
          [
           "Rennes",
           98,
           "Privé",
           null
          ],
          [
           "Rennes",
           704,
           "Public",
           null
          ],
          [
           "Rennes",
           98,
           "Privé",
           "BAC + 2"
          ],
          [
           "Rennes",
           14,
           "Privé",
           "BAC + 2"
          ],
          [
           "Rennes",
           195,
           "Public",
           "BAC + 1"
          ],
          [
           "Rennes",
           662,
           "Public",
           null
          ],
          [
           "Rennes",
           686,
           "Public",
           null
          ],
          [
           "Rennes",
           41,
           "Privé",
           null
          ],
          [
           "Rennes",
           1115,
           "Public",
           null
          ],
          [
           "Rennes",
           20,
           "Privé",
           "BAC + 3"
          ],
          [
           "Rennes",
           82,
           "Public",
           "BAC + 1"
          ],
          [
           "Rennes",
           557,
           "Public",
           "BAC + 2"
          ],
          [
           "Rennes",
           125,
           "Public",
           null
          ],
          [
           "Rennes",
           1,
           "Public",
           null
          ],
          [
           "Rennes",
           498,
           "Privé",
           null
          ],
          [
           "Rennes",
           484,
           "Privé",
           null
          ],
          [
           "Rennes",
           270,
           "Public",
           null
          ],
          [
           "Rennes",
           71,
           "Privé",
           null
          ],
          [
           "Rennes",
           468,
           "Privé",
           null
          ],
          [
           "Rennes",
           23,
           "Privé",
           "BAC + 3"
          ],
          [
           "Rennes",
           9,
           "Privé",
           "BAC + 1"
          ],
          [
           "Rennes",
           25,
           "Public",
           "BAC + 1"
          ],
          [
           "Rennes",
           12,
           "Public",
           null
          ],
          [
           "Rennes",
           29,
           "Privé",
           "BAC + 1"
          ],
          [
           "Rennes",
           285,
           "Public",
           "BAC + 1"
          ],
          [
           "Rennes",
           41,
           "Public",
           "BAC + 3"
          ],
          [
           "Rennes",
           25,
           "Privé",
           null
          ],
          [
           "Rennes",
           205,
           "Privé",
           "BAC + 2"
          ],
          [
           "Rennes",
           52,
           "Public",
           "BAC + 2"
          ],
          [
           "Rennes",
           195,
           "Public",
           "BAC + 2"
          ],
          [
           "Rennes",
           25,
           "Public",
           "BAC + 1"
          ],
          [
           "Rennes",
           17,
           "Privé",
           "BAC + 1"
          ],
          [
           "Rennes",
           212,
           "Privé",
           "BAC + 1"
          ],
          [
           "Rennes",
           405,
           "Public",
           null
          ],
          [
           "Rennes",
           104,
           "Privé",
           null
          ],
          [
           "Rennes",
           301,
           "Public",
           "BAC + 2"
          ],
          [
           "Rennes",
           63,
           "Privé",
           "BAC + 2"
          ],
          [
           "Rennes",
           97,
           "Public",
           "BAC + 1"
          ],
          [
           "Rennes",
           147,
           "Public",
           "BAC + 2"
          ],
          [
           "Rennes",
           19,
           "Public",
           "BAC + 2"
          ],
          [
           "Rennes",
           35,
           "Privé",
           "BAC + 1"
          ],
          [
           "Rennes",
           1058,
           "Public",
           null
          ],
          [
           "Rennes",
           1163,
           "Public",
           null
          ],
          [
           "Rennes",
           18,
           "Privé",
           "BAC + 2"
          ],
          [
           "Rennes",
           179,
           "Privé",
           "BAC + 2"
          ],
          [
           "Rennes",
           38,
           "Privé",
           "BAC + 1"
          ],
          [
           "Rennes",
           81,
           "Privé",
           "BAC + 2"
          ],
          [
           "Rennes",
           37,
           "Privé",
           "BAC + 2"
          ],
          [
           "Rennes",
           24,
           "Privé",
           "BAC + 2"
          ],
          [
           "Rennes",
           207,
           "Privé",
           null
          ],
          [
           "Rennes",
           248,
           "Privé",
           "BAC + 1"
          ],
          [
           "Rennes",
           134,
           "Public",
           null
          ],
          [
           "Rennes",
           53,
           "Public",
           null
          ],
          [
           "Rennes",
           70,
           "Public",
           "BAC + 1"
          ],
          [
           "Rennes",
           163,
           "Public",
           "BAC + 1"
          ],
          [
           "Rennes",
           32,
           "Public",
           "BAC + 2"
          ],
          [
           "Rennes",
           204,
           "Privé",
           null
          ],
          [
           "Rennes",
           49,
           "Privé",
           null
          ],
          [
           "Rennes",
           242,
           "Public",
           null
          ],
          [
           "Rennes",
           210,
           "Privé",
           null
          ],
          [
           "Rennes",
           38,
           "Privé",
           null
          ],
          [
           "Rennes",
           195,
           "Public",
           null
          ],
          [
           "Rennes",
           84,
           "Privé",
           "BAC + 1"
          ],
          [
           "Rennes",
           14,
           "Privé",
           "BAC + 2"
          ],
          [
           "Rennes",
           11,
           "Public",
           "BAC + 3"
          ],
          [
           "Rennes",
           607,
           "Public",
           "BAC + 2"
          ],
          [
           "Rennes",
           105,
           "Privé",
           null
          ],
          [
           "Rennes",
           5,
           "Privé",
           null
          ],
          [
           "Rennes",
           106,
           "Privé",
           null
          ],
          [
           "Rennes",
           416,
           "Public",
           null
          ],
          [
           "Rennes",
           562,
           "Public",
           "BAC + 1"
          ],
          [
           "Rennes",
           219,
           "Public",
           null
          ],
          [
           "Rennes",
           453,
           "Privé",
           null
          ],
          [
           "Rennes",
           486,
           "Privé",
           null
          ],
          [
           "Rennes",
           96,
           "Privé",
           null
          ],
          [
           "Rennes",
           50,
           "Public",
           null
          ],
          [
           "Rennes",
           468,
           "Privé",
           null
          ],
          [
           "Rennes",
           171,
           "Privé",
           null
          ],
          [
           "Rennes",
           198,
           "Privé",
           "BAC + 2"
          ],
          [
           "Rennes",
           67,
           "Privé",
           null
          ],
          [
           "Rennes",
           127,
           "Public",
           null
          ],
          [
           "Rennes",
           185,
           "Privé",
           null
          ],
          [
           "Rennes",
           26,
           "Public",
           "BAC + 1"
          ],
          [
           "Rennes",
           102,
           "Privé",
           "BAC + 1"
          ],
          [
           "Rennes",
           174,
           "Privé",
           "BAC + 2"
          ],
          [
           "Rennes",
           25,
           "Privé",
           "BAC + 3"
          ],
          [
           "Rennes",
           28,
           "Privé",
           "BAC + 2"
          ],
          [
           "Rennes",
           252,
           "Public",
           null
          ],
          [
           "Rennes",
           18,
           "Privé",
           "BAC + 1"
          ],
          [
           "Rennes",
           31,
           "Privé",
           "BAC + 3"
          ],
          [
           "Rennes",
           16,
           "Public",
           "BAC + 2"
          ],
          [
           "Rennes",
           593,
           "Public",
           "BAC + 1"
          ],
          [
           "Rennes",
           34,
           "Privé",
           "BAC + 2"
          ],
          [
           "Rennes",
           31,
           "Privé",
           "BAC + 3"
          ],
          [
           "Rennes",
           69,
           "Privé",
           "BAC + 2"
          ],
          [
           "Rennes",
           58,
           "Privé",
           "BAC + 1"
          ],
          [
           "Rennes",
           69,
           "Privé",
           null
          ],
          [
           "Rennes",
           460,
           "Privé",
           null
          ],
          [
           "Rennes",
           52,
           "Public",
           null
          ],
          [
           "Rennes",
           255,
           "Public",
           "BAC + 2"
          ],
          [
           "Rennes",
           138,
           "Public",
           null
          ],
          [
           "Rennes",
           138,
           "Public",
           "BAC + 2"
          ],
          [
           "Rennes",
           85,
           "Privé",
           "BAC + 1"
          ],
          [
           "Rennes",
           73,
           "Privé",
           "BAC + 2"
          ],
          [
           "Rennes",
           14,
           "Privé",
           "BAC + 3"
          ],
          [
           "Rennes",
           11,
           "Public",
           "BAC + 2"
          ],
          [
           "Rennes",
           546,
           "Public",
           "BAC + 2"
          ],
          [
           "Rennes",
           122,
           "Privé",
           null
          ],
          [
           "Rennes",
           183,
           "Privé",
           null
          ],
          [
           "Rennes",
           102,
           "Privé",
           null
          ],
          [
           "Rennes",
           219,
           "Public",
           "BAC + 2"
          ],
          [
           "Rennes",
           183,
           "Privé",
           null
          ],
          [
           "Rennes",
           20,
           "Public",
           null
          ],
          [
           "Rennes",
           673,
           "Public",
           null
          ],
          [
           "Rennes",
           50,
           "Privé",
           null
          ],
          [
           "Rennes",
           52,
           "Public",
           null
          ],
          [
           "Rennes",
           236,
           "Privé",
           null
          ],
          [
           "Rennes",
           169,
           "Public",
           "BAC + 1"
          ],
          [
           "Rennes",
           23,
           "Public",
           "BAC + 2"
          ],
          [
           "Rennes",
           38,
           "Privé",
           "BAC + 2"
          ],
          [
           "Rennes",
           84,
           "Public",
           "BAC + 2"
          ],
          [
           "Rennes",
           90,
           "Privé",
           "BAC + 1"
          ],
          [
           "Rennes",
           32,
           "Privé",
           "BAC + 1"
          ],
          [
           "Rennes",
           195,
           "Public",
           null
          ],
          [
           "Rennes",
           213,
           "Public",
           null
          ],
          [
           "Rennes",
           451,
           "Privé",
           null
          ],
          [
           "Rennes",
           21,
           "Public",
           "BAC + 1"
          ],
          [
           "Rennes",
           12,
           "Public",
           "BAC + 1"
          ],
          [
           "Rennes",
           489,
           "Privé",
           null
          ],
          [
           "Rennes",
           87,
           "Public",
           "BAC + 2"
          ],
          [
           "Rennes",
           14,
           "Privé",
           null
          ],
          [
           "Rennes",
           36,
           "Public",
           "BAC + 2"
          ],
          [
           "Rennes",
           18,
           "Privé",
           null
          ],
          [
           "Rennes",
           24,
           "Public",
           null
          ],
          [
           "Rennes",
           408,
           "Public",
           null
          ],
          [
           "Rennes",
           138,
           "Public",
           null
          ],
          [
           "Rennes",
           439,
           "Privé",
           null
          ],
          [
           "Rennes",
           195,
           "Public",
           null
          ],
          [
           "Rennes",
           161,
           "Public",
           null
          ],
          [
           "Rennes",
           56,
           "Public",
           null
          ],
          [
           "Rennes",
           92,
           "Public",
           "BAC + 1"
          ],
          [
           "Rennes",
           47,
           "Public",
           "BAC + 2"
          ],
          [
           "Rennes",
           68,
           "Privé",
           "BAC + 1"
          ],
          [
           "Rennes",
           8,
           "Public",
           "BAC + 2"
          ],
          [
           "Rennes",
           205,
           "Privé",
           null
          ],
          [
           "Rennes",
           140,
           "Public",
           "BAC + 2"
          ],
          [
           "Rennes",
           205,
           "Privé",
           "BAC + 2"
          ],
          [
           "Rennes",
           141,
           "Public",
           "BAC + 1"
          ],
          [
           "Rennes",
           175,
           "Privé",
           null
          ],
          [
           "Rennes",
           69,
           "Public",
           "BAC + 1"
          ],
          [
           "Rennes",
           12,
           "Public",
           "BAC + 2"
          ],
          [
           "Rennes",
           240,
           "Privé",
           "BAC + 1"
          ],
          [
           "Rennes",
           31,
           "Public",
           null
          ],
          [
           "Rennes",
           104,
           "Privé",
           null
          ],
          [
           "Rennes",
           312,
           "Public",
           "BAC + 1"
          ],
          [
           "Rennes",
           15,
           "Public",
           "BAC + 2"
          ],
          [
           "Rennes",
           96,
           "Public",
           "BAC + 1"
          ],
          [
           "Rennes",
           136,
           "Public",
           "BAC + 1"
          ],
          [
           "Rennes",
           123,
           "Privé",
           null
          ],
          [
           "Rennes",
           13,
           "Privé",
           "BAC + 2"
          ],
          [
           "Rennes",
           83,
           "Privé",
           "BAC + 2"
          ],
          [
           "Rennes",
           90,
           "Privé",
           "BAC + 2"
          ],
          [
           "Rennes",
           239,
           "Privé",
           "BAC + 1"
          ],
          [
           "Rennes",
           84,
           "Public",
           "BAC + 2"
          ],
          [
           "Rennes",
           265,
           "Public",
           null
          ],
          [
           "Rennes",
           130,
           "Public",
           null
          ],
          [
           "Rennes",
           53,
           "Public",
           "BAC + 3"
          ],
          [
           "Rennes",
           12,
           "Public",
           "BAC + 1"
          ],
          [
           "Rennes",
           61,
           "Privé",
           null
          ],
          [
           "Rennes",
           101,
           "Privé",
           null
          ],
          [
           "Rennes",
           1108,
           "Public",
           null
          ],
          [
           "Rennes",
           66,
           "Public",
           "BAC + 1"
          ],
          [
           "Rennes",
           20,
           "Public",
           "BAC + 1"
          ],
          [
           "Rennes",
           21,
           "Privé",
           "BAC + 2"
          ],
          [
           "Rennes",
           35,
           "Public",
           null
          ],
          [
           "Rennes",
           1120,
           "Public",
           null
          ],
          [
           "Rennes",
           405,
           "Public",
           null
          ],
          [
           "Rennes",
           17,
           "Privé",
           "BAC + 3"
          ],
          [
           "Rennes",
           130,
           "Public",
           null
          ],
          [
           "Rennes",
           175,
           "Public",
           "BAC + 2"
          ],
          [
           "Rennes",
           10,
           "Public",
           "BAC + 1"
          ],
          [
           "Rennes",
           133,
           "Privé",
           null
          ],
          [
           "Rennes",
           11,
           "Public",
           "BAC + 3"
          ],
          [
           "Rennes",
           20,
           "Privé",
           "BAC + 1"
          ],
          [
           "Rennes",
           31,
           "Privé",
           "BAC + 1"
          ],
          [
           "Rennes",
           82,
           "Privé",
           "BAC + 1"
          ],
          [
           "Rennes",
           183,
           "Public",
           "BAC + 1"
          ],
          [
           "Rennes",
           52,
           "Public",
           null
          ],
          [
           "Rennes",
           137,
           "Public",
           "BAC + 1"
          ],
          [
           "Rennes",
           103,
           "Privé",
           null
          ],
          [
           "Rennes",
           15,
           "Public",
           null
          ],
          [
           "Rennes",
           24,
           "Privé",
           "BAC + 3"
          ],
          [
           "Rennes",
           24,
           "Privé",
           "BAC + 1"
          ],
          [
           "Rennes",
           7,
           "Public",
           "BAC + 3"
          ],
          [
           "Rennes",
           141,
           "Public",
           "BAC + 2"
          ],
          [
           "Rennes",
           676,
           "Public",
           null
          ],
          [
           "Rennes",
           482,
           "Privé",
           null
          ],
          [
           "Rennes",
           119,
           "Privé",
           null
          ],
          [
           "Rennes",
           76,
           "Privé",
           "BAC + 1"
          ],
          [
           "Rennes",
           366,
           "Public",
           null
          ],
          [
           "Rennes",
           84,
           "Privé",
           "BAC + 2"
          ],
          [
           "Rennes",
           177,
           "Privé",
           null
          ],
          [
           "Rennes",
           137,
           "Public",
           null
          ],
          [
           "Rennes",
           16,
           "Privé",
           "BAC + 2"
          ],
          [
           "Rennes",
           124,
           "Public",
           null
          ],
          [
           "Rennes",
           157,
           "Public",
           "BAC + 1"
          ],
          [
           "Rennes",
           85,
           "Privé",
           "BAC + 1"
          ],
          [
           "Rennes",
           324,
           "Public",
           "BAC + 1"
          ],
          [
           "Rennes",
           47,
           "Privé",
           null
          ],
          [
           "Rennes",
           150,
           "Public",
           null
          ],
          [
           "Rennes",
           482,
           "Privé",
           null
          ],
          [
           "Rennes",
           34,
           "Privé",
           "BAC + 1"
          ],
          [
           "Rennes",
           211,
           "Privé",
           "BAC + 1"
          ],
          [
           "Rennes",
           51,
           "Public",
           "BAC + 3"
          ],
          [
           "Rennes",
           33,
           "Public",
           "BAC + 1"
          ],
          [
           "Rennes",
           1120,
           "Public",
           null
          ]
         ],
         "hovertemplate": "<b>%{hovertext}</b><br><br>catégorie d'établissement=Lycées<br>nombre total d’étudiants inscrits hors doubles inscriptions université/CPGE=%{customdata[1]}<br>lat=%{lat}<br>lon=%{lon}<br>Commune=%{customdata[0]}<br>secteur d'établissement=%{customdata[2]}<br>degre_etudes=%{customdata[3]}<extra></extra>",
         "hovertext": [
          "ECOLE PRIVEE COIF ESTHETIQUE",
          "LYCEE GENERAL ET TECHNOLOGIQUE",
          "LPO LYCEE DES METIERS",
          "LYCEE GENERAL ET TECHNOLOGIQUE",
          "LYCEE GENERAL ET TECHNOLOGIQUE",
          "LYCEE GEN.ET TECHNOL.PRIVE",
          "LYCEE AGRICOLE PRIVE",
          "LYCEE GENERAL PRIVE",
          "LYCEE GEN.ET TECHNOL.PRIVE",
          "LYCEE GENERAL ET TECHNOLOGIQUE",
          "LYC POLYVAL PRIVE DES METIERS",
          "LYCEE GENERAL",
          "LYCEE GEN.ET TECHNOL.PRIVE",
          "LYCEE GENERAL PRIVE",
          "LYCEE AGRICOLE PRIVE",
          "LYCEE GENERAL ET TECHNOLOGIQUE",
          "LYC POLYVAL PRIVE DES METIERS",
          "ECOLE TECHNIQUE PRIVEE",
          "LP LYCEE DES METIERS",
          "ECOLE TECHNIQUE PRIVEE",
          "LYCEE GENERAL ET TECHNOLOGIQUE",
          "LYCEE GENERAL ET TECHNOLOGIQUE",
          "LYCEE GEN ET TECHNOL PRIVE",
          "LYCEE GEN ET TECHNOL PRIVE",
          "LYCEE GENERAL ET TECHNOLOGIQUE",
          "LYCEE GENERAL PRIVE",
          "ECOLE PRIVEE COIF ESTHETIQUE",
          "LYCEE GENERAL ET TECHNOLOGIQUE",
          "LYCEE GENERAL ET TECHNOLOGIQUE",
          "LYCEE GENERAL ET TECHNOLOGIQUE",
          "LYCEE GEN.ET TECHNOL.PRIVE",
          "LYCEE GENERAL",
          "LYC POLYVAL PRIVE DES METIERS",
          "LPO LYCEE DES METIERS",
          "LYCEE GENERAL",
          "LYCEE GENERAL ET TECHNOLOGIQUE",
          null,
          "LYC POLYVAL PRIVE DES METIERS",
          "LYC POLYVAL PRIVE DES METIERS",
          "LYCEE GENERAL ET TECHNOLOGIQUE",
          "LYCEE GEN ET TECHNOL PRIVE",
          "LYC POLYVAL PRIVE DES METIERS",
          "LYC POLYVAL PRIVE DES METIERS",
          "ECOLE PRIVEE COIF ESTHETIQUE",
          "LYCEE PROFESSIONNEL",
          "LYCEE PROFESSIONNEL",
          "LYCEE GEN ET TECHNOL PRIVE",
          "LYCEE GENERAL ET TECHNOLOGIQUE",
          "LYCEE GENERAL ET TECHNOLOGIQUE",
          "ECOLE PRIVEE COIF ESTHETIQUE",
          "LYC POLYVAL PRIVE DES METIERS",
          "LYCEE GENERAL ET TECHNOLOGIQUE",
          "LYCEE GENERAL ET TECHNOLOGIQUE",
          "LYCEE PROFESSIONNEL",
          "LYCEE GEN.ET TECHNOL.PRIVE",
          "LYC POLYVAL PRIVE DES METIERS",
          "LYCEE GENERAL ET TECHNOLOGIQUE",
          "LYCEE AGRICOLE PRIVE",
          "LYCEE GENERAL ET TECHNOLOGIQUE",
          "LYCEE AGRICOLE PRIVE",
          "LYCEE GENERAL ET TECHNOLOGIQUE",
          "LYCEE GENERAL ET TECHNOLOGIQUE",
          "LYCEE PROFESSIONNEL",
          "ECOLE PRIVEE COIF ESTHETIQUE",
          "LYCEE GENERAL",
          "LYCEE GENERAL",
          "LYCEE GEN ET TECHNOL PRIVE",
          "LYC POLYVAL PRIVE DES METIERS",
          "ECOLE TECHNIQUE PRIVEE",
          "LYCEE POLYVALENT PRIVE",
          "ECOLE TECHNIQUE PRIVEE",
          "ECOLE PRIVEE COIF ESTHETIQUE",
          "LYCEE GENERAL PRIVE",
          "LYC POLYVAL PRIVE DES METIERS",
          "LPO LYCEE DES METIERS",
          "LYCEE PROFESSIONNEL",
          "LYCEE GENERAL ET TECHNOLOGIQUE",
          "LPO LYCEE DES METIERS",
          "LPO LYCEE DES METIERS",
          "LYCEE GENERAL PRIVE",
          "LYCEE GEN.ET TECHNOL.PRIVE",
          "LYCEE GENERAL ET TECHNOLOGIQUE",
          "LYCEE GENERAL PRIVE",
          "LYCEE GEN.ET TECHNOL.PRIVE",
          "LYCEE GENERAL ET TECHNOLOGIQUE",
          "LYCEE POLYVALENT PRIVE",
          "LYCEE GEN.ET TECHNOL.PRIVE",
          "LP LYCEE DES METIERS",
          "LYCEE GENERAL",
          "LYCEE AGRICOLE PRIVE",
          "ECOLE PRIVEE COIF ESTHETIQUE",
          "LYCEE AGRICOLE PRIVE",
          "LYCEE GENERAL ET TECHNOLOGIQUE",
          "LYCEE GENERAL",
          "LPO LYCEE DES METIERS",
          "LYC POLYVAL PRIVE des METIERS",
          "LYC POLYVAL PRIVE DES METIERS",
          "ECOLE TECHNIQUE PRIVEE",
          "LYCEE PROFESSIONNEL",
          "LYC POLYVAL PRIVE des METIERS",
          "LYCEE POLYVALENT PRIVE",
          "LYC POLYVAL PRIVE DES METIERS",
          "LYC POLYVAL PRIVE des METIERS",
          "LYCEE GENERAL ET TECHNOLOGIQUE",
          "LYCEE POLYVALENT PRIVE",
          "LP LYCEE DES METIERS",
          "LYCEE POLYVALENT PRIVE",
          "LYC POLYVAL PRIVE DES METIERS",
          "LYC POLYVAL PRIVE DES METIERS",
          "LYCEE GEN ET TECHNOL PRIVE",
          "LYCEE GENERAL ET TECHNOLOGIQUE",
          "LYCEE GEN.ET TECHNOL.PRIVE",
          "LYC POLYVAL PRIVE DES METIERS",
          "LYCEE PROFESSIONNEL",
          "LYCEE GENERAL",
          "ECOLE TECHNIQUE PRIVEE",
          "LYC POLYVAL PRIVE DES METIERS",
          "LYCEE AGRICOLE PRIVE",
          "ECOLE TECHNIQUE PRIVEE",
          "LYCEE GEN ET TECHNOL PRIVE",
          "LYC POLYVAL PRIVE DES METIERS",
          "LYCEE PROFESSIONNEL",
          "LYCEE GENERAL ET TECHNOLOGIQUE",
          "LYCEE GENERAL ET TECHNOLOGIQUE",
          "LPO LYCEE DES METIERS",
          "LYCEE GENERAL PRIVE",
          "LYCEE GENERAL PRIVE",
          "LYCEE GEN.ET TECHNOL.PRIVE",
          "LP LYCEE DES METIERS",
          "LYCEE GENERAL",
          "ECOLE TECHNIQUE PRIVEE",
          "LYCEE POLYVALENT PRIVE",
          "LYCEE AGRICOLE PRIVE",
          "LYCEE GENERAL ET TECHNOLOGIQUE",
          "LYCEE POLYVALENT PRIVE",
          "LP LYCEE DES METIERS",
          "LYCEE GENERAL ET TECHNOLOGIQUE",
          "LYCEE GEN.ET TECHNOL.PRIVE",
          "LYCEE PROFESSIONNEL",
          "LYCEE GENERAL PRIVE",
          "LYCEE GENERAL ET TECHNOLOGIQUE",
          "LYCEE PROFESSIONNEL",
          "ECOLE TECHNIQUE PRIVEE",
          "LYCEE GENERAL ET TECHNOLOGIQUE",
          "LYCEE POLYVALENT PRIVE",
          "ECOLE PRIVEE COIF ESTHETIQUE",
          "LYCEE GENERAL ET TECHNOLOGIQUE",
          "LYCEE GENERAL ET TECHNOLOGIQUE",
          "LYC POLYVAL PRIVE DES METIERS",
          "LYCEE PROFESSIONNEL",
          "LP LYCEE DES METIERS",
          "LYC POLYVAL PRIVE DES METIERS",
          "LYCEE GENERAL ET TECHNOLOGIQUE",
          "ECOLE PRIVEE COIF ESTHETIQUE",
          "LPO LYCEE DES METIERS",
          "ECOLE PRIVEE COIF ESTHETIQUE",
          "LP LYCEE DES METIERS",
          "LYCEE GENERAL ET TECHNOLOGIQUE",
          "LYCEE GENERAL ET TECHNOLOGIQUE",
          "LYC POLYVAL PRIVE des METIERS",
          "LYCEE GENERAL ET TECHNOLOGIQUE",
          "LYCEE GENERAL ET TECHNOLOGIQUE",
          "LYCEE PROFESSIONNEL",
          "LYCEE GENERAL ET TECHNOLOGIQUE",
          "LYCEE GENERAL ET TECHNOLOGIQUE",
          "LYCEE AGRICOLE PRIVE",
          "LP LYCEE DES METIERS",
          "LYCEE GENERAL PRIVE",
          "LYCEE GENERAL ET TECHNOLOGIQUE",
          "LYC POLYVAL PRIVE DES METIERS",
          "LYCEE GENERAL ET TECHNOLOGIQUE",
          "LYCEE POLYVALENT PRIVE",
          "LYCEE GENERAL ET TECHNOLOGIQUE",
          "LP LYCEE DES METIERS",
          "LYC POLYVAL PRIVE DES METIERS",
          "LP LYCEE DES METIERS",
          "LYCEE GEN ET TECHNOL PRIVE",
          "LYCEE GENERAL ET TECHNOLOGIQUE",
          "LP LYCEE DES METIERS",
          "LYCEE GENERAL ET TECHNOLOGIQUE",
          "LYCEE GENERAL ET TECHNOLOGIQUE",
          "ECOLE TECHNIQUE PRIVEE",
          "LYCEE GEN.ET TECHNOL.PRIVE",
          "LYCEE AGRICOLE PRIVE",
          "LYCEE POLYVALENT PRIVE",
          "LYC POLYVAL PRIVE DES METIERS",
          "LYCEE GENERAL ET TECHNOLOGIQUE",
          "LYCEE GENERAL ET TECHNOLOGIQUE",
          "LYCEE GENERAL ET TECHNOLOGIQUE",
          "LYCEE GENERAL ET TECHNOLOGIQUE",
          "LP LYCEE DES METIERS",
          "LYC POLYVAL PRIVE des METIERS",
          "LYCEE GEN ET TECHNOL PRIVE",
          "LYCEE GENERAL",
          "LYCEE GENERAL ET TECHNOLOGIQUE",
          "LP LYCEE DES METIERS",
          "LYCEE GEN ET TECHNOL PRIVE",
          "LP LYCEE DES METIERS",
          "LYCEE GENERAL",
          "LYCEE GENERAL ET TECHNOLOGIQUE",
          "LYCEE GEN.ET TECHNOL.PRIVE",
          "LYCEE GENERAL ET TECHNOLOGIQUE",
          "LYCEE GENERAL ET TECHNOLOGIQUE",
          "LP LYCEE DES METIERS",
          "ECOLE TECHNIQUE PRIVEE",
          "LP LYCEE DES METIERS",
          "LYCEE GEN.ET TECHNOL.PRIVE",
          "LYCEE GEN ET TECHNOL PRIVE",
          "LYCEE GENERAL PRIVE",
          "LYCEE GENERAL ET TECHNOLOGIQUE",
          "LYCEE PROFESSIONNEL",
          "LYCEE GENERAL ET TECHNOLOGIQUE",
          "LYCEE AGRICOLE PRIVE",
          "LP LYCEE DES METIERS",
          "LYC POLYVAL PRIVE DES METIERS",
          "ECOLE TECHNIQUE PRIVEE",
          "LP LYCEE DES METIERS",
          "LYCEE GENERAL ET TECHNOLOGIQUE",
          "LYCEE GENERAL ET TECHNOLOGIQUE",
          "LYC POLYVAL PRIVE des METIERS",
          "ECOLE TECHNIQUE PRIVEE",
          "LYCEE GENERAL PRIVE",
          "LYCEE GENERAL ET TECHNOLOGIQUE",
          "LYCEE POLYVALENT PRIVE",
          "LYCEE POLYVALENT PRIVE",
          "LPO LYCEE DES METIERS",
          "LYCEE GEN.ET TECHNOL.PRIVE",
          "LPO LYCEE DES METIERS",
          "LPO LYCEE DES METIERS",
          "LYCEE AGRICOLE PRIVE",
          "LYCEE GENERAL ET TECHNOLOGIQUE",
          "ECOLE TECHNIQUE PRIVEE",
          "LPO LYCEE DES METIERS",
          "LYC POLYVAL PRIVE DES METIERS",
          "LYCEE GEN ET TECHNOL PRIVE",
          "LYC POLYVAL PRIVE DES METIERS",
          "LYCEE GENERAL ET TECHNOLOGIQUE",
          "LP LYCEE DES METIERS",
          "LYCEE GENERAL"
         ],
         "lat": {
          "bdata": "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",
          "dtype": "f8"
         },
         "legendgroup": "Lycées",
         "lon": {
          "bdata": "8RImfeG0+r99uhc4xAP7v3lDtldl6/q/mQPpFIy5+r/I1HPZO0n6vylWk1Sl9/q/2BSiuvNg+79oRIcS74r6vylWk1Sl9/q/mQPpFIy5+r+5Q/Mxv7L6v5YAFtJEZPq/KVaTVKX3+r9oRIcS74r6v9gUorrzYPu/fboXOMQD+7++oB46HXf6v+Qvh8WXbvq/ZihOs8gB+7/kL4fFl276v/LatjG+Xvq/BEaoKIkH+78SzW34tt36vxLNbfi23fq/fboXOMQD+79oRIcS74r6v/ESJn3htPq/8tq2Mb5e+r99uhc4xAP7v326FzjEA/u/KVaTVKX3+r+WABbSRGT6v76gHjodd/q/eUO2V2Xr+r+WABbSRGT6v5kD6RSMufq/FldFSvwY+7++oB46HXf6v7lD8zG/svq/BEaoKIkH+78SzW34tt36v7lD8zG/svq/vqAeOh13+r/xEiZ94bT6vxZXRUr8GPu/ZihOs8gB+78SzW34tt36v326FzjEA/u/fboXOMQD+7/xEiZ94bT6v76gHjodd/q/mQPpFIy5+r/y2rYxvl76vxZXRUr8GPu/KVaTVKX3+r+5Q/Mxv7L6v/LatjG+Xvq/2BSiuvNg+799uhc4xAP7v9gUorrzYPu/yNRz2TtJ+r8ERqgoiQf7vxZXRUr8GPu/8RImfeG0+r+WABbSRGT6v5YAFtJEZPq/Es1t+Lbd+r+5Q/Mxv7L6v+Qvh8WXbvq/58xkwwGf+r/kL4fFl276v/ESJn3htPq/aESHEu+K+r++oB46HXf6v3lDtldl6/q/FldFSvwY+7+ZA+kUjLn6v3lDtldl6/q/eUO2V2Xr+r9oRIcS74r6vylWk1Sl9/q/BEaoKIkH+79oRIcS74r6vylWk1Sl9/q/yNRz2TtJ+r/nzGTDAZ/6vylWk1Sl9/q/ZihOs8gB+7+WABbSRGT6v9gUorrzYPu/8RImfeG0+r/YFKK682D7v/LatjG+Xvq/lgAW0kRk+r95Q7ZXZev6v76gHjodd/q/vqAeOh13+r/kL4fFl276vxZXRUr8GPu/uUPzMb+y+r/nzGTDAZ/6v7lD8zG/svq/ytCHyser+r+ZA+kUjLn6v+fMZMMBn/q/EhqC3pcX+r/nzGTDAZ/6v7lD8zG/svq/vqAeOh13+r8SzW34tt36vwRGqCiJB/u/KVaTVKX3+r+5Q/Mxv7L6vxZXRUr8GPu/lgAW0kRk+r/kL4fFl276v7lD8zG/svq/2BSiuvNg+7/kL4fFl276vxLNbfi23fq/uUPzMb+y+r8WV0VK/Bj7v326FzjEA/u/yNRz2TtJ+r95Q7ZXZev6v2hEhxLvivq/aESHEu+K+r8pVpNUpff6v2YoTrPIAfu/lgAW0kRk+r/kL4fFl276v+fMZMMBn/q/2BSiuvNg+7/y2rYxvl76v+fMZMMBn/q/ZihOs8gB+799uhc4xAP7vylWk1Sl9/q/FldFSvwY+79oRIcS74r6v/LatjG+Xvq/FldFSvwY+7/kL4fFl276v8jUc9k7Sfq/58xkwwGf+r/xEiZ94bT6v8jUc9k7Sfq/BEaoKIkH+7++oB46HXf6vxZXRUr8GPu/ZihOs8gB+7++oB46HXf6v8jUc9k7Sfq/8RImfeG0+r95Q7ZXZev6v/ESJn3htPq/ZihOs8gB+7/y2rYxvl76v5kD6RSMufq/vqAeOh13+r/I1HPZO0n6v8jUc9k7Sfq/FldFSvwY+7/I1HPZO0n6v5kD6RSMufq/2BSiuvNg+79mKE6zyAH7v2hEhxLvivq/BEaoKIkH+7++oB46HXf6vwRGqCiJB/u/58xkwwGf+r+ZA+kUjLn6v2YoTrPIAfu/vqAeOh13+r8SGoLelxf6vxLNbfi23fq/fboXOMQD+78SGoLelxf6v8jUc9k7Sfq/BEaoKIkH+7/kL4fFl276vylWk1Sl9/q/2BSiuvNg+7/nzGTDAZ/6v76gHjodd/q/yNRz2TtJ+r8ERqgoiQf7v5kD6RSMufq/fboXOMQD+79mKE6zyAH7v8rQh8rHq/q/Es1t+Lbd+r+WABbSRGT6v5kD6RSMufq/EhqC3pcX+r8SzW34tt36v2YoTrPIAfu/lgAW0kRk+r/y2rYxvl76vylWk1Sl9/q/mQPpFIy5+r/y2rYxvl76v2YoTrPIAfu/5C+HxZdu+r9mKE6zyAH7vylWk1Sl9/q/Es1t+Lbd+r9oRIcS74r6v/LatjG+Xvq/FldFSvwY+78ERqgoiQf7v9gUorrzYPu/EhqC3pcX+r+5Q/Mxv7L6v+Qvh8WXbvq/ZihOs8gB+78ERqgoiQf7v326FzjEA/u/uUPzMb+y+r9KzEKQKwL7v2hEhxLvivq/8tq2Mb5e+r/nzGTDAZ/6v+fMZMMBn/q/eUO2V2Xr+r8pVpNUpff6v3lDtldl6/q/eUO2V2Xr+r/YFKK682D7v326FzjEA/u/SsxCkCsC+795Q7ZXZev6v7lD8zG/svq/Es1t+Lbd+r+5Q/Mxv7L6v326FzjEA/u/EhqC3pcX+r+WABbSRGT6vw==",
          "dtype": "f8"
         },
         "marker": {
          "color": "#636efa",
          "size": {
           "bdata": "CQDJAn8AOwCGACsAXgD1AC4AfQDbAEECEABQAFgA/wDpAE0AFgBeAJgB2QBiAGIAwAJiAA4AwwCWAq4CKQBbBBQAUgAtAn0AAQDyAeQBDgFHANQBFwAJABkADAAdAB0BKQAZAM0ANADDABkAEQDUAJUBaAAtAT8AYQCTABMAIwAiBIsEEgCzACYAUQAlABgAzwD4AIYANQBGAKMAIADMADEA8gDSACYAwwBUAA4ACwBfAmkABQBqAKABMgLbAMUB5gFgADIA1AGrAMYAQwB/ALkAGgBmAK4AGQAcAPwAEgAfABAAUQIiAB8ARQA6AEUAzAE0AP8AigCKAFUASQAOAAsAIgJ6ALcAZgDbALcAFAChAjIANADsAKkAFwAmAFQAWgAgAMMA1QDDARUADADpAVcADgAkABIAGACYAYoAtwHDAKEAOABcAC8ARAAIAM0AjADNAI0ArwBFAAwA8AAfAGgAOAEPAGAAiAB7AA0AUwBaAO8AVAAJAYIANQAMAD0AZQBUBEIAFAAVACMAYASVAREAggCvAAoAhQALABQAHwBSALcANACJAGcADwAYABgABwCNAKQC4gF3AEwAbgFUALEAiQAQAHwAnQBVAEQBLwCWAOIBIgDTADMAIQBgBA==",
           "dtype": "i2"
          },
          "sizemode": "area",
          "sizeref": 14.9425
         },
         "mode": "markers",
         "name": "Lycées",
         "showlegend": true,
         "subplot": "map",
         "type": "scattermap"
        },
        {
         "customdata": [
          [
           "Rennes",
           61,
           "Public",
           "BAC + 6 et plus"
          ],
          [
           "Rennes",
           48,
           "Public",
           null
          ],
          [
           "Rennes",
           1339,
           "Public",
           null
          ],
          [
           "Rennes",
           242,
           "Public",
           null
          ],
          [
           "Rennes",
           126,
           "Public",
           "BAC + 3"
          ],
          [
           "Rennes",
           124,
           "Public",
           "BAC + 6 et plus"
          ],
          [
           "Rennes",
           67,
           "Public",
           "BAC + 4"
          ],
          [
           "Rennes",
           72,
           "Public",
           "BAC + 5"
          ],
          [
           "Rennes",
           252,
           "Public",
           "BAC + 4"
          ],
          [
           "Rennes",
           1231,
           "Public",
           "BAC + 1"
          ],
          [
           "Rennes",
           44,
           "Public",
           "BAC + 5"
          ],
          [
           "Rennes",
           833,
           "Public",
           "BAC + 2"
          ],
          [
           "Rennes",
           113,
           "Public",
           "BAC + 4"
          ],
          [
           "Rennes",
           115,
           "Public",
           "BAC + 2"
          ],
          [
           "Rennes",
           63,
           "Public",
           "BAC + 4"
          ],
          [
           "Rennes",
           607,
           "Public",
           "BAC + 1"
          ],
          [
           "Rennes",
           2158,
           "Public",
           "BAC + 6 et plus"
          ],
          [
           "Rennes",
           108,
           "Public",
           null
          ],
          [
           "Rennes",
           1920,
           "Public",
           null
          ],
          [
           "Rennes",
           1353,
           "Public",
           null
          ],
          [
           "Rennes",
           71,
           "Public",
           null
          ],
          [
           "Rennes",
           7,
           "Public",
           null
          ],
          [
           "Rennes",
           1879,
           "Public",
           null
          ],
          [
           "Rennes",
           462,
           "Public",
           null
          ],
          [
           "Rennes",
           21,
           "Public",
           null
          ],
          [
           "Rennes",
           2700,
           "Public",
           null
          ],
          [
           "Rennes",
           40,
           "Public",
           "BAC + 3"
          ],
          [
           "Rennes",
           115,
           "Public",
           "BAC + 2"
          ],
          [
           "Rennes",
           57,
           "Public",
           "BAC + 2"
          ],
          [
           "Rennes",
           8,
           "Public",
           "BAC + 6 et plus"
          ],
          [
           "Rennes",
           301,
           "Public",
           "BAC + 5"
          ],
          [
           "Rennes",
           59,
           "Public",
           "BAC + 6 et plus"
          ],
          [
           "Rennes",
           58,
           "Public",
           "BAC + 5"
          ],
          [
           "Rennes",
           28,
           "Public",
           "Inférieur ou égal au baccalauréat"
          ],
          [
           "Rennes",
           67,
           "Public",
           "BAC + 2"
          ],
          [
           "Rennes",
           446,
           "Public",
           "BAC + 5"
          ],
          [
           "Rennes",
           34,
           "Public",
           null
          ],
          [
           "Rennes",
           4741,
           "Public",
           null
          ],
          [
           "Rennes",
           1681,
           "Public",
           null
          ],
          [
           "Rennes",
           1699,
           "Public",
           null
          ],
          [
           "Rennes",
           2896,
           "Public",
           null
          ],
          [
           "Rennes",
           1887,
           "Public",
           null
          ],
          [
           "Rennes",
           153,
           "Public",
           null
          ],
          [
           "Rennes",
           1100,
           "Public",
           null
          ],
          [
           "Rennes",
           16,
           "Public",
           null
          ],
          [
           "Rennes",
           1845,
           "Public",
           null
          ],
          [
           "Rennes",
           1306,
           "Public",
           null
          ],
          [
           "Rennes",
           60,
           "Public",
           "BAC + 6 et plus"
          ],
          [
           "Rennes",
           89,
           "Public",
           "BAC + 2"
          ],
          [
           "Rennes",
           47,
           "Public",
           "BAC + 3"
          ],
          [
           "Rennes",
           255,
           "Public",
           "BAC + 6 et plus"
          ],
          [
           "Rennes",
           1584,
           "Public",
           null
          ],
          [
           "Rennes",
           10,
           "Public",
           "BAC + 4"
          ],
          [
           "Rennes",
           169,
           "Public",
           "BAC + 3"
          ],
          [
           "Rennes",
           809,
           "Public",
           null
          ],
          [
           "Rennes",
           2798,
           "Public",
           null
          ],
          [
           "Rennes",
           569,
           "Public",
           "BAC + 1"
          ],
          [
           "Rennes",
           42,
           "Public",
           "BAC + 6 et plus"
          ],
          [
           "Rennes",
           2517,
           "Public",
           null
          ],
          [
           "Rennes",
           131,
           "Public",
           null
          ],
          [
           "Rennes",
           30,
           "Public",
           null
          ],
          [
           "Rennes",
           6,
           "Public",
           "BAC + 4"
          ],
          [
           "Rennes",
           119,
           "Public",
           "BAC + 2"
          ],
          [
           "Rennes",
           109,
           "Public",
           "BAC + 4"
          ],
          [
           "Rennes",
           50,
           "Public",
           "BAC + 6 et plus"
          ],
          [
           "Rennes",
           131,
           "Public",
           "BAC + 4"
          ],
          [
           "Rennes",
           474,
           "Public",
           "BAC + 4"
          ],
          [
           "Rennes",
           134,
           "Public",
           null
          ],
          [
           "Rennes",
           1220,
           "Public",
           null
          ],
          [
           "Rennes",
           36,
           "Public",
           null
          ],
          [
           "Rennes",
           2206,
           "Public",
           null
          ],
          [
           "Rennes",
           275,
           "Public",
           null
          ],
          [
           "Rennes",
           1577,
           "Public",
           null
          ],
          [
           "Rennes",
           578,
           "Public",
           "BAC + 2"
          ],
          [
           "Rennes",
           660,
           "Public",
           "BAC + 5"
          ],
          [
           "Rennes",
           168,
           "Public",
           null
          ],
          [
           "Rennes",
           311,
           "Public",
           null
          ],
          [
           "Rennes",
           283,
           "Public",
           null
          ],
          [
           "Rennes",
           84,
           "Public",
           "BAC + 4"
          ],
          [
           "Rennes",
           79,
           "Public",
           "BAC + 3"
          ],
          [
           "Rennes",
           123,
           "Public",
           "BAC + 5"
          ],
          [
           "Rennes",
           155,
           "Public",
           "BAC + 5"
          ],
          [
           "Rennes",
           77,
           "Public",
           "BAC + 2"
          ],
          [
           "Rennes",
           196,
           "Public",
           null
          ],
          [
           "Rennes",
           226,
           "Public",
           null
          ],
          [
           "Rennes",
           58,
           "Public",
           null
          ],
          [
           "Rennes",
           1274,
           "Public",
           null
          ],
          [
           "Rennes",
           2988,
           "Public",
           null
          ],
          [
           "Rennes",
           214,
           "Public",
           "BAC + 1"
          ],
          [
           "Rennes",
           182,
           "Public",
           "BAC + 5"
          ],
          [
           "Rennes",
           735,
           "Public",
           "BAC + 2"
          ],
          [
           "Rennes",
           439,
           "Public",
           "BAC + 2"
          ],
          [
           "Rennes",
           481,
           "Public",
           null
          ],
          [
           "Rennes",
           3322,
           "Public",
           null
          ],
          [
           "Rennes",
           221,
           "Public",
           null
          ],
          [
           "Rennes",
           62,
           "Public",
           "BAC + 5"
          ],
          [
           "Rennes",
           180,
           "Public",
           "BAC + 3"
          ],
          [
           "Rennes",
           37,
           "Public",
           "BAC + 6 et plus"
          ],
          [
           "Rennes",
           149,
           "Public",
           "BAC + 3"
          ],
          [
           "Rennes",
           172,
           "Public",
           "BAC + 5"
          ],
          [
           "Rennes",
           89,
           "Public",
           "BAC + 6 et plus"
          ],
          [
           "Rennes",
           19,
           "Public",
           "BAC + 1"
          ],
          [
           "Rennes",
           193,
           "Public",
           "BAC + 1"
          ],
          [
           "Rennes",
           235,
           "Public",
           "BAC + 3"
          ],
          [
           "Rennes",
           15,
           "Public",
           "BAC + 5"
          ],
          [
           "Rennes",
           47,
           "Public",
           "BAC + 5"
          ],
          [
           "Rennes",
           890,
           "Public",
           "BAC + 2"
          ],
          [
           "Rennes",
           68,
           "Public",
           "BAC + 3"
          ],
          [
           "Rennes",
           28,
           "Public",
           "BAC + 4"
          ],
          [
           "Rennes",
           203,
           "Public",
           "BAC + 2"
          ],
          [
           "Rennes",
           389,
           "Public",
           "BAC + 3"
          ],
          [
           "Rennes",
           67,
           "Public",
           "BAC + 1"
          ],
          [
           "Rennes",
           4855,
           "Public",
           null
          ],
          [
           "Rennes",
           154,
           "Public",
           null
          ],
          [
           "Rennes",
           1146,
           "Public",
           null
          ],
          [
           "Rennes",
           4,
           "Public",
           null
          ],
          [
           "Rennes",
           106,
           "Public",
           null
          ],
          [
           "Rennes",
           3298,
           "Public",
           null
          ],
          [
           "Rennes",
           163,
           "Public",
           null
          ],
          [
           "Rennes",
           1391,
           "Public",
           null
          ],
          [
           "Rennes",
           673,
           "Public",
           "BAC + 2"
          ],
          [
           "Rennes",
           383,
           "Public",
           "BAC + 3"
          ],
          [
           "Rennes",
           874,
           "Public",
           "BAC + 3"
          ],
          [
           "Rennes",
           3540,
           "Public",
           null
          ],
          [
           "Rennes",
           75,
           "Public",
           "BAC + 5"
          ],
          [
           "Rennes",
           334,
           "Public",
           "BAC + 2"
          ],
          [
           "Rennes",
           1149,
           "Public",
           "BAC + 1"
          ],
          [
           "Rennes",
           152,
           "Public",
           "BAC + 5"
          ],
          [
           "Rennes",
           168,
           "Public",
           "BAC + 6 et plus"
          ],
          [
           "Rennes",
           106,
           "Public",
           "BAC + 1"
          ],
          [
           "Rennes",
           32,
           "Public",
           "BAC + 2"
          ],
          [
           "Rennes",
           115,
           "Public",
           "BAC + 4"
          ],
          [
           "Rennes",
           582,
           "Public",
           "BAC + 2"
          ],
          [
           "Rennes",
           494,
           "Public",
           "BAC + 3"
          ],
          [
           "Rennes",
           28,
           "Public",
           "BAC + 4"
          ],
          [
           "Rennes",
           1714,
           "Public",
           null
          ],
          [
           "Rennes",
           33,
           "Public",
           null
          ],
          [
           "Rennes",
           270,
           "Public",
           null
          ],
          [
           "Rennes",
           224,
           "Public",
           null
          ],
          [
           "Rennes",
           74,
           "Public",
           null
          ],
          [
           "Rennes",
           39,
           "Public",
           null
          ],
          [
           "Rennes",
           2227,
           "Public",
           null
          ],
          [
           "Rennes",
           5117,
           "Public",
           null
          ],
          [
           "Rennes",
           28,
           "Public",
           null
          ],
          [
           "Rennes",
           2570,
           "Public",
           null
          ],
          [
           "Rennes",
           1182,
           "Public",
           null
          ],
          [
           "Rennes",
           2237,
           "Public",
           null
          ],
          [
           "Rennes",
           43,
           "Public",
           null
          ],
          [
           "Rennes",
           231,
           "Public",
           null
          ],
          [
           "Rennes",
           1880,
           "Public",
           null
          ],
          [
           "Rennes",
           283,
           "Public",
           "BAC + 5"
          ],
          [
           "Rennes",
           46,
           "Public",
           null
          ],
          [
           "Rennes",
           1261,
           "Public",
           "BAC + 3"
          ],
          [
           "Rennes",
           424,
           "Public",
           "BAC + 5"
          ],
          [
           "Rennes",
           571,
           "Public",
           "BAC + 5"
          ],
          [
           "Rennes",
           31,
           "Public",
           "BAC + 6 et plus"
          ],
          [
           "Rennes",
           577,
           "Public",
           "BAC + 1"
          ],
          [
           "Rennes",
           13,
           "Public",
           "BAC + 6 et plus"
          ],
          [
           "Rennes",
           1527,
           "Public",
           "BAC + 1"
          ],
          [
           "Rennes",
           276,
           "Public",
           "BAC + 4"
          ],
          [
           "Rennes",
           594,
           "Public",
           "BAC + 1"
          ],
          [
           "Rennes",
           474,
           "Public",
           "BAC + 4"
          ],
          [
           "Rennes",
           128,
           "Public",
           "BAC + 6 et plus"
          ],
          [
           "Rennes",
           307,
           "Public",
           "BAC + 2"
          ],
          [
           "Rennes",
           575,
           "Public",
           "BAC + 2"
          ],
          [
           "Rennes",
           1168,
           "Public",
           "BAC + 1"
          ],
          [
           "Rennes",
           1271,
           "Public",
           "BAC + 1"
          ],
          [
           "Rennes",
           107,
           "Public",
           "BAC + 6 et plus"
          ],
          [
           "Rennes",
           47,
           "Public",
           "BAC + 4"
          ],
          [
           "Rennes",
           56,
           "Public",
           null
          ],
          [
           "Rennes",
           215,
           "Public",
           null
          ],
          [
           "Rennes",
           19,
           "Public",
           null
          ],
          [
           "Rennes",
           37,
           "Public",
           "BAC + 4"
          ],
          [
           "Rennes",
           102,
           "Public",
           "BAC + 4"
          ],
          [
           "Rennes",
           42,
           "Public",
           "BAC + 4"
          ],
          [
           "Rennes",
           60,
           "Public",
           "BAC + 5"
          ],
          [
           "Rennes",
           11,
           "Public",
           "BAC + 5"
          ],
          [
           "Rennes",
           565,
           "Public",
           "BAC + 3"
          ],
          [
           "Rennes",
           337,
           "Public",
           "BAC + 3"
          ],
          [
           "Rennes",
           78,
           "Public",
           "BAC + 4"
          ],
          [
           "Rennes",
           18,
           "Public",
           "BAC + 6 et plus"
          ],
          [
           "Rennes",
           1359,
           "Public",
           null
          ],
          [
           "Rennes",
           4977,
           "Public",
           null
          ],
          [
           "Rennes",
           64,
           "Public",
           "BAC + 2"
          ],
          [
           "Rennes",
           291,
           "Public",
           "BAC + 4"
          ],
          [
           "Rennes",
           2556,
           "Public",
           null
          ],
          [
           "Rennes",
           42,
           "Public",
           null
          ],
          [
           "Rennes",
           242,
           "Public",
           null
          ],
          [
           "Rennes",
           229,
           "Public",
           "BAC + 3"
          ],
          [
           "Rennes",
           217,
           "Public",
           "BAC + 6 et plus"
          ],
          [
           "Rennes",
           759,
           "Public",
           "BAC + 2"
          ],
          [
           "Rennes",
           721,
           "Public",
           "BAC + 3"
          ],
          [
           "Rennes",
           1301,
           "Public",
           null
          ],
          [
           "Rennes",
           346,
           "Public",
           null
          ],
          [
           "Rennes",
           44,
           "Public",
           "BAC + 5"
          ],
          [
           "Rennes",
           22,
           "Public",
           "BAC + 4"
          ],
          [
           "Rennes",
           35,
           "Public",
           "BAC + 4"
          ],
          [
           "Rennes",
           757,
           "Public",
           "BAC + 1"
          ],
          [
           "Rennes",
           829,
           "Public",
           "BAC + 2"
          ],
          [
           "Rennes",
           106,
           "Public",
           "BAC + 4"
          ],
          [
           "Rennes",
           164,
           "Public",
           "BAC + 3"
          ],
          [
           "Rennes",
           240,
           "Public",
           "BAC + 4"
          ],
          [
           "Rennes",
           624,
           "Public",
           "BAC + 2"
          ],
          [
           "Rennes",
           7,
           "Public",
           "BAC + 4"
          ],
          [
           "Rennes",
           387,
           "Public",
           "BAC + 5"
          ],
          [
           "Rennes",
           183,
           "Public",
           "BAC + 4"
          ],
          [
           "Rennes",
           382,
           "Public",
           "BAC + 5"
          ],
          [
           "Rennes",
           4272,
           "Public",
           null
          ],
          [
           "Rennes",
           7,
           "Public",
           "BAC + 5"
          ],
          [
           "Rennes",
           424,
           "Public",
           "BAC + 4"
          ],
          [
           "Rennes",
           188,
           "Public",
           "BAC + 5"
          ],
          [
           "Rennes",
           34,
           "Public",
           null
          ],
          [
           "Rennes",
           1711,
           "Public",
           null
          ],
          [
           "Rennes",
           2111,
           "Public",
           null
          ],
          [
           "Rennes",
           170,
           "Public",
           null
          ],
          [
           "Rennes",
           5371,
           "Public",
           null
          ],
          [
           "Rennes",
           49,
           "Public",
           null
          ],
          [
           "Rennes",
           28,
           "Public",
           "BAC + 5"
          ],
          [
           "Rennes",
           34,
           "Public",
           "BAC + 5"
          ],
          [
           "Rennes",
           83,
           "Public",
           "BAC + 6 et plus"
          ],
          [
           "Rennes",
           131,
           "Public",
           "BAC + 5"
          ],
          [
           "Rennes",
           851,
           "Public",
           "BAC + 5"
          ],
          [
           "Rennes",
           121,
           "Public",
           "BAC + 5"
          ],
          [
           "Rennes",
           192,
           "Public",
           "BAC + 5"
          ],
          [
           "Rennes",
           166,
           "Public",
           "BAC + 6 et plus"
          ],
          [
           "Rennes",
           12,
           "Public",
           "Inférieur ou égal au baccalauréat"
          ],
          [
           "Rennes",
           396,
           "Public",
           null
          ],
          [
           "Rennes",
           54,
           "Public",
           "BAC + 5"
          ],
          [
           "Rennes",
           614,
           "Public",
           "BAC + 1"
          ],
          [
           "Rennes",
           164,
           "Public",
           "BAC + 5"
          ],
          [
           "Rennes",
           50,
           "Public",
           "BAC + 2"
          ],
          [
           "Rennes",
           762,
           "Public",
           "BAC + 1"
          ],
          [
           "Rennes",
           297,
           "Public",
           "BAC + 5"
          ],
          [
           "Rennes",
           273,
           "Public",
           "BAC + 6 et plus"
          ],
          [
           "Rennes",
           18,
           "Public",
           null
          ],
          [
           "Rennes",
           280,
           "Public",
           null
          ],
          [
           "Rennes",
           674,
           "Public",
           null
          ],
          [
           "Rennes",
           1336,
           "Public",
           null
          ],
          [
           "Rennes",
           158,
           "Public",
           null
          ],
          [
           "Rennes",
           38,
           "Public",
           "BAC + 5"
          ],
          [
           "Rennes",
           65,
           "Public",
           "BAC + 5"
          ],
          [
           "Rennes",
           263,
           "Public",
           "BAC + 1"
          ],
          [
           "Rennes",
           177,
           "Public",
           "BAC + 3"
          ],
          [
           "Rennes",
           37,
           "Public",
           "BAC + 4"
          ],
          [
           "Rennes",
           1335,
           "Public",
           "BAC + 3"
          ],
          [
           "Rennes",
           293,
           "Public",
           "BAC + 5"
          ],
          [
           "Rennes",
           173,
           "Public",
           null
          ],
          [
           "Rennes",
           16,
           "Public",
           null
          ],
          [
           "Rennes",
           26,
           "Public",
           null
          ],
          [
           "Rennes",
           873,
           "Public",
           null
          ],
          [
           "Rennes",
           663,
           "Public",
           null
          ],
          [
           "Rennes",
           1143,
           "Public",
           null
          ],
          [
           "Rennes",
           229,
           "Public",
           null
          ],
          [
           "Rennes",
           101,
           "Public",
           null
          ],
          [
           "Rennes",
           369,
           "Public",
           null
          ],
          [
           "Rennes",
           836,
           "Public",
           null
          ],
          [
           "Rennes",
           644,
           "Public",
           "BAC + 1"
          ],
          [
           "Rennes",
           2008,
           "Public",
           "BAC + 1"
          ],
          [
           "Rennes",
           2,
           "Public",
           "BAC + 3"
          ],
          [
           "Rennes",
           1140,
           "Public",
           "BAC + 2"
          ],
          [
           "Rennes",
           22,
           "Public",
           "BAC + 1"
          ],
          [
           "Rennes",
           216,
           "Public",
           "BAC + 6 et plus"
          ],
          [
           "Rennes",
           583,
           "Public",
           "BAC + 5"
          ],
          [
           "Rennes",
           303,
           "Public",
           "BAC + 1"
          ],
          [
           "Rennes",
           479,
           "Public",
           "BAC + 5"
          ],
          [
           "Rennes",
           213,
           "Public",
           "BAC + 1"
          ],
          [
           "Rennes",
           32,
           "Public",
           "BAC + 6 et plus"
          ],
          [
           "Rennes",
           13,
           "Public",
           "BAC + 1"
          ],
          [
           "Rennes",
           163,
           "Public",
           "BAC + 5"
          ],
          [
           "Rennes",
           70,
           "Public",
           "BAC + 3"
          ],
          [
           "Rennes",
           515,
           "Public",
           null
          ],
          [
           "Rennes",
           182,
           "Public",
           null
          ],
          [
           "Rennes",
           3736,
           "Public",
           null
          ],
          [
           "Rennes",
           4392,
           "Public",
           null
          ],
          [
           "Rennes",
           483,
           "Public",
           null
          ],
          [
           "Rennes",
           3200,
           "Public",
           null
          ],
          [
           "Rennes",
           1158,
           "Public",
           null
          ],
          [
           "Rennes",
           86,
           "Public",
           "BAC + 6 et plus"
          ],
          [
           "Rennes",
           25,
           "Public",
           "BAC + 5"
          ],
          [
           "Rennes",
           78,
           "Public",
           "BAC + 6 et plus"
          ],
          [
           "Rennes",
           255,
           "Public",
           "BAC + 4"
          ],
          [
           "Rennes",
           1,
           "Public",
           "BAC + 3"
          ],
          [
           "Rennes",
           275,
           "Public",
           "BAC + 4"
          ],
          [
           "Rennes",
           77,
           "Public",
           "BAC + 3"
          ],
          [
           "Rennes",
           54,
           "Public",
           "Inférieur ou égal au baccalauréat"
          ],
          [
           "Rennes",
           404,
           "Public",
           "BAC + 3"
          ],
          [
           "Rennes",
           51,
           "Public",
           "BAC + 5"
          ],
          [
           "Rennes",
           215,
           "Public",
           "BAC + 4"
          ],
          [
           "Rennes",
           12,
           "Public",
           null
          ],
          [
           "Rennes",
           394,
           "Public",
           "BAC + 2"
          ],
          [
           "Rennes",
           670,
           "Public",
           "BAC + 1"
          ],
          [
           "Rennes",
           334,
           "Public",
           "BAC + 2"
          ],
          [
           "Rennes",
           63,
           "Public",
           "BAC + 4"
          ],
          [
           "Rennes",
           225,
           "Public",
           "BAC + 5"
          ],
          [
           "Rennes",
           235,
           "Public",
           "BAC + 3"
          ],
          [
           "Rennes",
           46,
           "Public",
           "BAC + 6 et plus"
          ],
          [
           "Rennes",
           133,
           "Public",
           "BAC + 2"
          ],
          [
           "Rennes",
           198,
           "Public",
           "BAC + 4"
          ],
          [
           "Rennes",
           427,
           "Public",
           null
          ],
          [
           "Rennes",
           1216,
           "Public",
           null
          ],
          [
           "Rennes",
           175,
           "Public",
           null
          ],
          [
           "Rennes",
           4512,
           "Public",
           null
          ],
          [
           "Rennes",
           35,
           "Public",
           "BAC + 5"
          ],
          [
           "Rennes",
           197,
           "Public",
           "BAC + 5"
          ],
          [
           "Rennes",
           23,
           "Public",
           "Inférieur ou égal au baccalauréat"
          ],
          [
           "Rennes",
           117,
           "Public",
           "BAC + 4"
          ],
          [
           "Rennes",
           93,
           "Public",
           "BAC + 1"
          ],
          [
           "Rennes",
           18,
           "Public",
           "BAC + 1"
          ],
          [
           "Rennes",
           7,
           "Public",
           "BAC + 6 et plus"
          ],
          [
           "Rennes",
           107,
           "Public",
           null
          ],
          [
           "Rennes",
           9,
           "Public",
           "BAC + 5"
          ],
          [
           "Rennes",
           65,
           "Public",
           "BAC + 5"
          ],
          [
           "Rennes",
           21,
           "Public",
           "BAC + 4"
          ],
          [
           "Rennes",
           443,
           "Public",
           "BAC + 3"
          ],
          [
           "Rennes",
           290,
           "Public",
           "BAC + 4"
          ],
          [
           "Rennes",
           160,
           "Public",
           "BAC + 4"
          ],
          [
           "Rennes",
           313,
           "Public",
           "BAC + 3"
          ],
          [
           "Rennes",
           46,
           "Public",
           "BAC + 4"
          ],
          [
           "Rennes",
           45,
           "Public",
           "BAC + 4"
          ],
          [
           "Rennes",
           258,
           "Public",
           "BAC + 1"
          ],
          [
           "Rennes",
           182,
           "Public",
           "BAC + 6 et plus"
          ],
          [
           "Rennes",
           187,
           "Public",
           null
          ],
          [
           "Rennes",
           309,
           "Public",
           null
          ],
          [
           "Rennes",
           68,
           "Public",
           "BAC + 4"
          ],
          [
           "Rennes",
           426,
           "Public",
           null
          ],
          [
           "Rennes",
           17,
           "Public",
           "BAC + 5"
          ],
          [
           "Rennes",
           130,
           "Public",
           "BAC + 4"
          ],
          [
           "Rennes",
           195,
           "Public",
           "BAC + 3"
          ],
          [
           "Rennes",
           126,
           "Public",
           "BAC + 5"
          ],
          [
           "Rennes",
           475,
           "Public",
           "BAC + 5"
          ],
          [
           "Rennes",
           75,
           "Public",
           "Inférieur ou égal au baccalauréat"
          ],
          [
           "Rennes",
           27,
           "Public",
           "BAC + 4"
          ],
          [
           "Rennes",
           497,
           "Public",
           null
          ],
          [
           "Rennes",
           76,
           "Public",
           null
          ],
          [
           "Rennes",
           432,
           "Public",
           null
          ],
          [
           "Rennes",
           149,
           "Public",
           null
          ],
          [
           "Rennes",
           186,
           "Public",
           "BAC + 1"
          ],
          [
           "Rennes",
           384,
           "Public",
           "BAC + 4"
          ],
          [
           "Rennes",
           5041,
           "Public",
           null
          ],
          [
           "Rennes",
           472,
           "Public",
           null
          ],
          [
           "Rennes",
           2116,
           "Public",
           null
          ],
          [
           "Rennes",
           49,
           "Public",
           null
          ],
          [
           "Rennes",
           624,
           "Public",
           null
          ],
          [
           "Rennes",
           275,
           "Public",
           null
          ],
          [
           "Rennes",
           85,
           "Public",
           "Inférieur ou égal au baccalauréat"
          ],
          [
           "Rennes",
           331,
           "Public",
           "BAC + 1"
          ],
          [
           "Rennes",
           633,
           "Public",
           "BAC + 2"
          ],
          [
           "Rennes",
           52,
           "Public",
           "BAC + 5"
          ],
          [
           "Rennes",
           640,
           "Public",
           "BAC + 2"
          ],
          [
           "Rennes",
           120,
           "Public",
           "BAC + 2"
          ],
          [
           "Rennes",
           147,
           "Public",
           "BAC + 5"
          ],
          [
           "Rennes",
           32,
           "Public",
           "BAC + 6 et plus"
          ],
          [
           "Rennes",
           99,
           "Public",
           "Inférieur ou égal au baccalauréat"
          ],
          [
           "Rennes",
           477,
           "Public",
           "BAC + 4"
          ],
          [
           "Rennes",
           20,
           "Public",
           "BAC + 4"
          ],
          [
           "Rennes",
           18,
           "Public",
           null
          ],
          [
           "Rennes",
           124,
           "Public",
           null
          ],
          [
           "Rennes",
           409,
           "Public",
           null
          ],
          [
           "Rennes",
           313,
           "Public",
           "BAC + 4"
          ],
          [
           "Rennes",
           491,
           "Public",
           "BAC + 3"
          ],
          [
           "Rennes",
           495,
           "Public",
           null
          ],
          [
           "Rennes",
           2483,
           "Public",
           null
          ],
          [
           "Rennes",
           64,
           "Public",
           null
          ],
          [
           "Rennes",
           60,
           "Public",
           "BAC + 5"
          ],
          [
           "Rennes",
           1193,
           "Public",
           "BAC + 1"
          ],
          [
           "Rennes",
           423,
           "Public",
           "BAC + 3"
          ],
          [
           "Rennes",
           2533,
           "Public",
           "BAC + 1"
          ],
          [
           "Rennes",
           944,
           "Public",
           "BAC + 1"
          ],
          [
           "Rennes",
           140,
           "Public",
           "BAC + 6 et plus"
          ],
          [
           "Rennes",
           709,
           "Public",
           "BAC + 5"
          ],
          [
           "Rennes",
           83,
           "Public",
           "BAC + 5"
          ],
          [
           "Rennes",
           34,
           "Public",
           "Inférieur ou égal au baccalauréat"
          ],
          [
           "Rennes",
           172,
           "Public",
           "BAC + 2"
          ],
          [
           "Rennes",
           59,
           "Public",
           "BAC + 6 et plus"
          ],
          [
           "Rennes",
           227,
           "Public",
           "BAC + 3"
          ],
          [
           "Rennes",
           507,
           "Public",
           "BAC + 5"
          ],
          [
           "Rennes",
           589,
           "Public",
           "BAC + 5"
          ],
          [
           "Rennes",
           45,
           "Public",
           "BAC + 6 et plus"
          ],
          [
           "Rennes",
           129,
           "Public",
           "BAC + 2"
          ],
          [
           "Rennes",
           436,
           "Public",
           "BAC + 3"
          ],
          [
           "Rennes",
           1838,
           "Public",
           null
          ],
          [
           "Rennes",
           3351,
           "Public",
           null
          ],
          [
           "Rennes",
           4497,
           "Public",
           null
          ],
          [
           "Rennes",
           1199,
           "Public",
           null
          ],
          [
           "Rennes",
           205,
           "Public",
           null
          ],
          [
           "Rennes",
           191,
           "Public",
           "BAC + 3"
          ],
          [
           "Rennes",
           42,
           "Public",
           "BAC + 2"
          ],
          [
           "Rennes",
           487,
           "Public",
           "BAC + 3"
          ],
          [
           "Rennes",
           685,
           "Public",
           "BAC + 2"
          ],
          [
           "Rennes",
           9,
           "Public",
           "BAC + 4"
          ],
          [
           "Rennes",
           225,
           "Public",
           "BAC + 2"
          ],
          [
           "Rennes",
           388,
           "Public",
           null
          ],
          [
           "Rennes",
           1305,
           "Public",
           null
          ],
          [
           "Rennes",
           11,
           "Public",
           "BAC + 5"
          ],
          [
           "Rennes",
           382,
           "Public",
           "BAC + 4"
          ],
          [
           "Rennes",
           395,
           "Public",
           "BAC + 5"
          ],
          [
           "Rennes",
           2332,
           "Public",
           "BAC + 6 et plus"
          ],
          [
           "Rennes",
           825,
           "Public",
           "BAC + 3"
          ],
          [
           "Rennes",
           3413,
           "Public",
           null
          ],
          [
           "Rennes",
           39,
           "Public",
           null
          ],
          [
           "Rennes",
           173,
           "Public",
           null
          ],
          [
           "Rennes",
           6,
           "Public",
           "BAC + 5"
          ],
          [
           "Rennes",
           856,
           "Public",
           "BAC + 4"
          ],
          [
           "Rennes",
           31,
           "Public",
           "Inférieur ou égal au baccalauréat"
          ],
          [
           "Rennes",
           210,
           "Public",
           "BAC + 1"
          ],
          [
           "Rennes",
           108,
           "Public",
           "Inférieur ou égal au baccalauréat"
          ],
          [
           "Rennes",
           28,
           "Public",
           "BAC + 1"
          ],
          [
           "Rennes",
           1088,
           "Public",
           "BAC + 1"
          ],
          [
           "Rennes",
           25,
           "Public",
           "Inférieur ou égal au baccalauréat"
          ],
          [
           "Rennes",
           623,
           "Public",
           "BAC + 5"
          ],
          [
           "Rennes",
           347,
           "Public",
           "BAC + 2"
          ],
          [
           "Rennes",
           147,
           "Public",
           "BAC + 5"
          ],
          [
           "Rennes",
           12,
           "Public",
           "BAC + 4"
          ],
          [
           "Rennes",
           351,
           "Public",
           "BAC + 6 et plus"
          ],
          [
           "Rennes",
           965,
           "Public",
           "BAC + 1"
          ],
          [
           "Rennes",
           43,
           "Public",
           "BAC + 4"
          ],
          [
           "Rennes",
           213,
           "Public",
           "BAC + 4"
          ],
          [
           "Rennes",
           26,
           "Public",
           "BAC + 3"
          ],
          [
           "Rennes",
           191,
           "Public",
           "BAC + 6 et plus"
          ],
          [
           "Rennes",
           1237,
           "Public",
           "BAC + 1"
          ],
          [
           "Rennes",
           212,
           "Public",
           "BAC + 3"
          ],
          [
           "Rennes",
           115,
           "Public",
           "BAC + 3"
          ],
          [
           "Rennes",
           1229,
           "Public",
           null
          ],
          [
           "Rennes",
           5652,
           "Public",
           null
          ],
          [
           "Rennes",
           169,
           "Public",
           null
          ],
          [
           "Rennes",
           775,
           "Public",
           "BAC + 1"
          ],
          [
           "Rennes",
           482,
           "Public",
           "BAC + 5"
          ],
          [
           "Rennes",
           396,
           "Public",
           "BAC + 2"
          ],
          [
           "Rennes",
           184,
           "Public",
           "BAC + 5"
          ],
          [
           "Rennes",
           4537,
           "Public",
           null
          ],
          [
           "Rennes",
           2135,
           "Public",
           null
          ],
          [
           "Rennes",
           465,
           "Public",
           null
          ],
          [
           "Rennes",
           33,
           "Public",
           null
          ],
          [
           "Rennes",
           11,
           "Public",
           "BAC + 4"
          ],
          [
           "Rennes",
           112,
           "Public",
           "BAC + 4"
          ],
          [
           "Rennes",
           28,
           "Public",
           "BAC + 6 et plus"
          ],
          [
           "Rennes",
           70,
           "Public",
           "BAC + 5"
          ],
          [
           "Rennes",
           531,
           "Public",
           "BAC + 3"
          ],
          [
           "Rennes",
           199,
           "Public",
           null
          ],
          [
           "Rennes",
           4597,
           "Public",
           null
          ],
          [
           "Rennes",
           85,
           "Public",
           "BAC + 5"
          ],
          [
           "Rennes",
           65,
           "Public",
           "BAC + 2"
          ],
          [
           "Rennes",
           469,
           "Public",
           "BAC + 2"
          ],
          [
           "Rennes",
           69,
           "Public",
           "BAC + 2"
          ],
          [
           "Rennes",
           265,
           "Public",
           null
          ],
          [
           "Rennes",
           892,
           "Public",
           "BAC + 3"
          ],
          [
           "Rennes",
           30,
           "Public",
           "BAC + 6 et plus"
          ],
          [
           "Rennes",
           11,
           "Public",
           "BAC + 1"
          ],
          [
           "Rennes",
           571,
           "Public",
           "BAC + 2"
          ],
          [
           "Rennes",
           291,
           "Public",
           "BAC + 3"
          ],
          [
           "Rennes",
           94,
           "Public",
           "BAC + 6 et plus"
          ],
          [
           "Rennes",
           1107,
           "Public",
           "BAC + 1"
          ],
          [
           "Rennes",
           1229,
           "Public",
           "BAC + 3"
          ],
          [
           "Rennes",
           866,
           "Public",
           "BAC + 4"
          ],
          [
           "Rennes",
           441,
           "Public",
           "BAC + 2"
          ],
          [
           "Rennes",
           233,
           "Public",
           null
          ],
          [
           "Rennes",
           38,
           "Public",
           null
          ],
          [
           "Rennes",
           471,
           "Public",
           null
          ],
          [
           "Rennes",
           178,
           "Public",
           "BAC + 2"
          ],
          [
           "Rennes",
           611,
           "Public",
           "BAC + 3"
          ],
          [
           "Rennes",
           140,
           "Public",
           null
          ],
          [
           "Rennes",
           20,
           "Public",
           "BAC + 2"
          ],
          [
           "Rennes",
           887,
           "Public",
           "BAC + 2"
          ],
          [
           "Rennes",
           206,
           "Public",
           "BAC + 1"
          ],
          [
           "Rennes",
           1763,
           "Public",
           "BAC + 2"
          ],
          [
           "Rennes",
           46,
           "Public",
           "BAC + 5"
          ],
          [
           "Rennes",
           69,
           "Public",
           null
          ],
          [
           "Rennes",
           391,
           "Public",
           null
          ],
          [
           "Rennes",
           236,
           "Public",
           "BAC + 1"
          ],
          [
           "Rennes",
           16,
           "Public",
           "BAC + 4"
          ],
          [
           "Rennes",
           6,
           "Public",
           "BAC + 4"
          ],
          [
           "Rennes",
           42,
           "Public",
           "BAC + 5"
          ],
          [
           "Rennes",
           139,
           "Public",
           "BAC + 5"
          ],
          [
           "Rennes",
           807,
           "Public",
           "BAC + 1"
          ],
          [
           "Rennes",
           757,
           "Public",
           "BAC + 1"
          ],
          [
           "Rennes",
           21,
           "Public",
           "Inférieur ou égal au baccalauréat"
          ],
          [
           "Rennes",
           297,
           "Public",
           "BAC + 5"
          ],
          [
           "Rennes",
           2387,
           "Public",
           null
          ],
          [
           "Rennes",
           35,
           "Public",
           null
          ],
          [
           "Rennes",
           166,
           "Public",
           null
          ],
          [
           "Rennes",
           1025,
           "Public",
           null
          ],
          [
           "Rennes",
           4626,
           "Public",
           null
          ],
          [
           "Rennes",
           78,
           "Public",
           null
          ],
          [
           "Rennes",
           60,
           "Public",
           "BAC + 4"
          ],
          [
           "Rennes",
           991,
           "Public",
           "BAC + 3"
          ],
          [
           "Rennes",
           664,
           "Public",
           "BAC + 2"
          ],
          [
           "Rennes",
           275,
           "Public",
           "BAC + 5"
          ],
          [
           "Rennes",
           345,
           "Public",
           "BAC + 6 et plus"
          ],
          [
           "Rennes",
           61,
           "Public",
           "BAC + 5"
          ],
          [
           "Rennes",
           37,
           "Public",
           "BAC + 4"
          ],
          [
           "Rennes",
           78,
           "Public",
           "BAC + 3"
          ],
          [
           "Rennes",
           313,
           "Public",
           "BAC + 1"
          ],
          [
           "Rennes",
           269,
           "Public",
           "BAC + 4"
          ],
          [
           "Rennes",
           197,
           "Public",
           "BAC + 5"
          ],
          [
           "Rennes",
           20,
           "Public",
           "BAC + 5"
          ],
          [
           "Rennes",
           51,
           "Public",
           "BAC + 4"
          ],
          [
           "Rennes",
           5,
           "Public",
           "BAC + 4"
          ],
          [
           "Rennes",
           894,
           "Public",
           "BAC + 3"
          ],
          [
           "Rennes",
           432,
           "Public",
           "BAC + 4"
          ],
          [
           "Rennes",
           437,
           "Public",
           "BAC + 5"
          ],
          [
           "Rennes",
           97,
           "Public",
           "BAC + 3"
          ],
          [
           "Rennes",
           140,
           "Public",
           "BAC + 4"
          ],
          [
           "Rennes",
           1206,
           "Public",
           null
          ],
          [
           "Rennes",
           156,
           "Public",
           null
          ],
          [
           "Rennes",
           4777,
           "Public",
           null
          ],
          [
           "Rennes",
           507,
           "Public",
           "BAC + 2"
          ],
          [
           "Rennes",
           65,
           "Public",
           "BAC + 1"
          ],
          [
           "Rennes",
           711,
           "Public",
           "BAC + 2"
          ],
          [
           "Rennes",
           30,
           "Public",
           "BAC + 3"
          ],
          [
           "Rennes",
           3387,
           "Public",
           null
          ],
          [
           "Rennes",
           1049,
           "Public",
           "BAC + 3"
          ],
          [
           "Rennes",
           249,
           "Public",
           "BAC + 4"
          ],
          [
           "Rennes",
           107,
           "Public",
           "BAC + 1"
          ],
          [
           "Rennes",
           42,
           "Public",
           "BAC + 3"
          ],
          [
           "Rennes",
           37,
           "Public",
           null
          ],
          [
           "Rennes",
           3523,
           "Public",
           null
          ],
          [
           "Rennes",
           515,
           "Public",
           null
          ],
          [
           "Rennes",
           8,
           "Public",
           "BAC + 4"
          ],
          [
           "Rennes",
           179,
           "Public",
           "BAC + 6 et plus"
          ],
          [
           "Rennes",
           195,
           "Public",
           null
          ],
          [
           "Rennes",
           81,
           "Public",
           "BAC + 4"
          ],
          [
           "Rennes",
           76,
           "Public",
           "BAC + 3"
          ],
          [
           "Rennes",
           816,
           "Public",
           null
          ],
          [
           "Rennes",
           19,
           "Public",
           "Inférieur ou égal au baccalauréat"
          ],
          [
           "Rennes",
           23,
           "Public",
           "BAC + 3"
          ],
          [
           "Rennes",
           76,
           "Public",
           "BAC + 4"
          ],
          [
           "Rennes",
           257,
           "Public",
           "BAC + 4"
          ],
          [
           "Rennes",
           144,
           "Public",
           "BAC + 3"
          ],
          [
           "Rennes",
           281,
           "Public",
           "BAC + 4"
          ],
          [
           "Rennes",
           332,
           "Public",
           "BAC + 1"
          ],
          [
           "Rennes",
           71,
           "Public",
           "BAC + 5"
          ],
          [
           "Rennes",
           779,
           "Public",
           null
          ],
          [
           "Rennes",
           1165,
           "Public",
           null
          ],
          [
           "Rennes",
           150,
           "Public",
           "BAC + 6 et plus"
          ],
          [
           "Rennes",
           2286,
           "Public",
           "BAC + 6 et plus"
          ],
          [
           "Rennes",
           531,
           "Public",
           "BAC + 3"
          ],
          [
           "Rennes",
           75,
           "Public",
           "BAC + 2"
          ],
          [
           "Rennes",
           1878,
           "Public",
           null
          ],
          [
           "Rennes",
           83,
           "Public",
           null
          ],
          [
           "Rennes",
           559,
           "Public",
           null
          ],
          [
           "Rennes",
           2720,
           "Public",
           null
          ],
          [
           "Rennes",
           304,
           "Public",
           null
          ],
          [
           "Rennes",
           17,
           "Public",
           "BAC + 1"
          ],
          [
           "Rennes",
           342,
           "Public",
           "BAC + 4"
          ],
          [
           "Rennes",
           410,
           "Public",
           "BAC + 4"
          ],
          [
           "Rennes",
           47,
           "Public",
           "BAC + 5"
          ],
          [
           "Rennes",
           7,
           "Public",
           "BAC + 6 et plus"
          ],
          [
           "Rennes",
           680,
           "Public",
           null
          ],
          [
           "Rennes",
           215,
           "Public",
           "BAC + 3"
          ],
          [
           "Rennes",
           246,
           "Public",
           "BAC + 6 et plus"
          ],
          [
           "Rennes",
           401,
           "Public",
           "BAC + 3"
          ],
          [
           "Rennes",
           131,
           "Public",
           "BAC + 5"
          ],
          [
           "Rennes",
           76,
           "Public",
           "BAC + 1"
          ],
          [
           "Rennes",
           12,
           "Public",
           "BAC + 5"
          ],
          [
           "Rennes",
           68,
           "Public",
           "BAC + 4"
          ],
          [
           "Rennes",
           47,
           "Public",
           "BAC + 5"
          ],
          [
           "Rennes",
           1207,
           "Public",
           "BAC + 2"
          ],
          [
           "Rennes",
           537,
           "Public",
           "BAC + 4"
          ],
          [
           "Rennes",
           277,
           "Public",
           "BAC + 4"
          ],
          [
           "Rennes",
           619,
           "Public",
           "BAC + 2"
          ],
          [
           "Rennes",
           357,
           "Public",
           "BAC + 3"
          ],
          [
           "Rennes",
           757,
           "Public",
           "BAC + 1"
          ],
          [
           "Rennes",
           168,
           "Public",
           "BAC + 4"
          ],
          [
           "Rennes",
           20,
           "Public",
           "BAC + 2"
          ],
          [
           "Rennes",
           149,
           "Public",
           "BAC + 4"
          ],
          [
           "Rennes",
           81,
           "Public",
           "BAC + 5"
          ],
          [
           "Rennes",
           196,
           "Public",
           "BAC + 2"
          ],
          [
           "Rennes",
           348,
           "Public",
           "BAC + 6 et plus"
          ],
          [
           "Rennes",
           34,
           "Public",
           null
          ],
          [
           "Rennes",
           271,
           "Public",
           "BAC + 4"
          ],
          [
           "Rennes",
           146,
           "Public",
           "BAC + 5"
          ],
          [
           "Rennes",
           113,
           "Public",
           "Inférieur ou égal au baccalauréat"
          ],
          [
           "Rennes",
           454,
           "Public",
           "BAC + 4"
          ],
          [
           "Rennes",
           253,
           "Public",
           "BAC + 5"
          ],
          [
           "Rennes",
           240,
           "Public",
           null
          ],
          [
           "Rennes",
           707,
           "Public",
           null
          ],
          [
           "Rennes",
           1150,
           "Public",
           null
          ],
          [
           "Rennes",
           3157,
           "Public",
           null
          ],
          [
           "Rennes",
           15,
           "Public",
           null
          ],
          [
           "Rennes",
           32,
           "Public",
           "BAC + 4"
          ],
          [
           "Rennes",
           75,
           "Public",
           "BAC + 4"
          ],
          [
           "Rennes",
           114,
           "Public",
           "BAC + 4"
          ],
          [
           "Rennes",
           3431,
           "Public",
           null
          ],
          [
           "Rennes",
           85,
           "Public",
           null
          ],
          [
           "Rennes",
           1320,
           "Public",
           null
          ],
          [
           "Rennes",
           2372,
           "Public",
           null
          ],
          [
           "Rennes",
           2030,
           "Public",
           null
          ],
          [
           "Rennes",
           4,
           "Public",
           "BAC + 5"
          ],
          [
           "Rennes",
           704,
           "Public",
           "BAC + 4"
          ],
          [
           "Rennes",
           484,
           "Public",
           null
          ],
          [
           "Rennes",
           4363,
           "Public",
           null
          ],
          [
           "Rennes",
           165,
           "Public",
           null
          ],
          [
           "Rennes",
           323,
           "Public",
           null
          ],
          [
           "Rennes",
           49,
           "Public",
           null
          ],
          [
           "Rennes",
           1712,
           "Public",
           null
          ],
          [
           "Rennes",
           4592,
           "Public",
           null
          ],
          [
           "Rennes",
           856,
           "Public",
           null
          ],
          [
           "Rennes",
           33,
           "Public",
           null
          ],
          [
           "Rennes",
           31,
           "Public",
           "BAC + 3"
          ],
          [
           "Rennes",
           12,
           "Public",
           "Inférieur ou égal au baccalauréat"
          ],
          [
           "Rennes",
           568,
           "Public",
           "BAC + 5"
          ],
          [
           "Rennes",
           1502,
           "Public",
           "BAC + 2"
          ],
          [
           "Rennes",
           230,
           "Public",
           "BAC + 5"
          ],
          [
           "Rennes",
           561,
           "Public",
           "BAC + 3"
          ],
          [
           "Rennes",
           19,
           "Public",
           "Inférieur ou égal au baccalauréat"
          ],
          [
           "Rennes",
           2826,
           "Public",
           null
          ],
          [
           "Rennes",
           47,
           "Public",
           null
          ],
          [
           "Rennes",
           1130,
           "Public",
           null
          ],
          [
           "Rennes",
           3293,
           "Public",
           null
          ],
          [
           "Rennes",
           68,
           "Public",
           null
          ],
          [
           "Rennes",
           6,
           "Public",
           null
          ],
          [
           "Rennes",
           154,
           "Public",
           null
          ],
          [
           "Rennes",
           209,
           "Public",
           "BAC + 1"
          ],
          [
           "Rennes",
           1050,
           "Public",
           "BAC + 1"
          ],
          [
           "Rennes",
           801,
           "Public",
           "BAC + 3"
          ],
          [
           "Rennes",
           7,
           "Public",
           "BAC + 5"
          ],
          [
           "Rennes",
           22,
           "Public",
           "Inférieur ou égal au baccalauréat"
          ],
          [
           "Rennes",
           623,
           "Public",
           "BAC + 1"
          ],
          [
           "Rennes",
           156,
           "Public",
           "BAC + 5"
          ],
          [
           "Rennes",
           49,
           "Public",
           "BAC + 3"
          ],
          [
           "Rennes",
           59,
           "Public",
           "BAC + 5"
          ],
          [
           "Rennes",
           769,
           "Public",
           "BAC + 1"
          ],
          [
           "Rennes",
           563,
           "Public",
           "BAC + 5"
          ],
          [
           "Rennes",
           252,
           "Public",
           "BAC + 4"
          ],
          [
           "Rennes",
           1179,
           "Public",
           "BAC + 2"
          ],
          [
           "Rennes",
           470,
           "Public",
           "BAC + 4"
          ],
          [
           "Rennes",
           86,
           "Public",
           "BAC + 4"
          ],
          [
           "Rennes",
           55,
           "Public",
           "BAC + 4"
          ],
          [
           "Rennes",
           74,
           "Public",
           "BAC + 2"
          ],
          [
           "Rennes",
           898,
           "Public",
           "BAC + 4"
          ],
          [
           "Rennes",
           120,
           "Public",
           "BAC + 6 et plus"
          ],
          [
           "Rennes",
           770,
           "Public",
           "BAC + 1"
          ],
          [
           "Rennes",
           31,
           "Public",
           "BAC + 6 et plus"
          ],
          [
           "Rennes",
           566,
           "Public",
           "BAC + 2"
          ],
          [
           "Rennes",
           139,
           "Public",
           "BAC + 6 et plus"
          ],
          [
           "Rennes",
           247,
           "Public",
           "BAC + 4"
          ],
          [
           "Rennes",
           1272,
           "Public",
           "BAC + 1"
          ],
          [
           "Rennes",
           133,
           "Public",
           "BAC + 3"
          ],
          [
           "Rennes",
           231,
           "Public",
           "BAC + 2"
          ],
          [
           "Rennes",
           126,
           "Public",
           "BAC + 3"
          ],
          [
           "Rennes",
           1196,
           "Public",
           null
          ],
          [
           "Rennes",
           3152,
           "Public",
           null
          ],
          [
           "Rennes",
           232,
           "Public",
           "BAC + 5"
          ],
          [
           "Rennes",
           995,
           "Public",
           "BAC + 1"
          ],
          [
           "Rennes",
           537,
           "Public",
           "BAC + 3"
          ],
          [
           "Rennes",
           689,
           "Public",
           "BAC + 1"
          ],
          [
           "Rennes",
           986,
           "Public",
           "BAC + 4"
          ],
          [
           "Rennes",
           23,
           "Public",
           "BAC + 6 et plus"
          ],
          [
           "Rennes",
           140,
           "Public",
           "BAC + 4"
          ],
          [
           "Rennes",
           3379,
           "Public",
           null
          ],
          [
           "Rennes",
           226,
           "Public",
           "BAC + 5"
          ],
          [
           "Rennes",
           38,
           "Public",
           "BAC + 6 et plus"
          ],
          [
           "Rennes",
           112,
           "Public",
           "BAC + 4"
          ],
          [
           "Rennes",
           30,
           "Public",
           "BAC + 4"
          ],
          [
           "Rennes",
           210,
           "Public",
           "BAC + 5"
          ],
          [
           "Rennes",
           1849,
           "Public",
           null
          ],
          [
           "Rennes",
           190,
           "Public",
           null
          ],
          [
           "Rennes",
           25,
           "Public",
           null
          ],
          [
           "Rennes",
           330,
           "Public",
           "BAC + 3"
          ],
          [
           "Rennes",
           812,
           "Public",
           null
          ],
          [
           "Rennes",
           1827,
           "Public",
           null
          ],
          [
           "Rennes",
           207,
           "Public",
           null
          ],
          [
           "Rennes",
           2153,
           "Public",
           "BAC + 1"
          ],
          [
           "Rennes",
           196,
           "Public",
           "BAC + 1"
          ],
          [
           "Rennes",
           141,
           "Public",
           "BAC + 6 et plus"
          ],
          [
           "Rennes",
           739,
           "Public",
           "BAC + 3"
          ],
          [
           "Rennes",
           1575,
           "Public",
           "BAC + 3"
          ],
          [
           "Rennes",
           2081,
           "Public",
           null
          ],
          [
           "Rennes",
           5977,
           "Public",
           null
          ],
          [
           "Rennes",
           1860,
           "Public",
           null
          ],
          [
           "Rennes",
           227,
           "Public",
           null
          ],
          [
           "Rennes",
           1307,
           "Public",
           null
          ]
         ],
         "hovertemplate": "<b>%{hovertext}</b><br><br>catégorie d'établissement=Universités<br>nombre total d’étudiants inscrits hors doubles inscriptions université/CPGE=%{customdata[1]}<br>lat=%{lat}<br>lon=%{lon}<br>Commune=%{customdata[0]}<br>secteur d'établissement=%{customdata[2]}<br>degre_etudes=%{customdata[3]}<extra></extra>",
         "hovertext": [
          "UNIVERSITE",
          "UNIVERSITE  BREST",
          "UNIVERSITE RENNES 1",
          "UNIVERSITE RENNES 1",
          "UNIVERSITE",
          "UNIVERSITE",
          "UNIVERSITE  BREST",
          "UNIVERSITE  BREST",
          "UNIVERSITE",
          "UNIVERSITE",
          "UNIVERSITE",
          "UNIVERSITE",
          "UNIVERSITE",
          "UNIVERSITE",
          "UNIVERSITE  BREST",
          "UNIVERSITE",
          "UNIVERSITE",
          "UNIVERSITE  BREST",
          "UNIVERSITE RENNES 2",
          "UNIVERSITE RENNES 1",
          "COMUE UNIV BRETAGNE LOIRE",
          "UNIVERSITE  BREST",
          "UNIVERSITE RENNES 1",
          "UNIVERSITE RENNES 1",
          "UNIVERSITE  BREST",
          "UNIVERSITE RENNES 1",
          "UNIVERSITE RENNES 1",
          "UNIVERSITE RENNES 1",
          "UNIVERSITE RENNES 1",
          "UNIVERSITE RENNES 1",
          "UNIVERSITE RENNES 1",
          "UNIVERSITE",
          "UNIVERSITE  BREST",
          "UNIVERSITE",
          "UNIVERSITE",
          "UNIVERSITE",
          "UNIVERSITE RENNES 2",
          "UNIVERSITE RENNES 1",
          "UNIVERSITE RENNES 2",
          "UNIVERSITE RENNES 2",
          "UNIVERSITE RENNES 2",
          "UNIVERSITE RENNES 2",
          "UNIVERSITE RENNES 2",
          "UNIVERSITE RENNES 2",
          "COMUE UNIV BRETAGNE LOIRE",
          "UNIVERSITE RENNES 2",
          "UNIVERSITE RENNES 1",
          "UNIVERSITE",
          "UNIVERSITE",
          "UNIVERSITE",
          "UNIVERSITE",
          "UNIVERSITE RENNES 1",
          "UNIVERSITE  BREST",
          "UNIVERSITE",
          "UNIVERSITE RENNES 1",
          "UNIVERSITE RENNES 2",
          "UNIVERSITE RENNES 1",
          "UNIVERSITE",
          "UNIVERSITE RENNES 1",
          "UNIVERSITE RENNES 2",
          "UNIVERSITE  BREST",
          "UNIVERSITE  BREST",
          "UNIVERSITE RENNES 1",
          "UNIVERSITE RENNES 1",
          "UNIVERSITE RENNES 1",
          "UNIVERSITE RENNES 1",
          "UNIVERSITE",
          "UNIVERSITE  BREST",
          "INST ETUD POLITIQUES RENNES",
          "UNIVERSITE RENNES 2",
          "UNIVERSITE RENNES 1",
          "COMUE UNIV BRETAGNE LOIRE",
          "UNIVERSITE RENNES 2",
          "UNIVERSITE",
          "UNIVERSITE",
          "UNIVERSITE  BREST",
          "UNIVERSITE  BREST",
          "UNIVERSITE RENNES 1",
          "UNIVERSITE  BREST",
          "UNIVERSITE RENNES 1",
          "UNIVERSITE RENNES 1",
          "UNIVERSITE RENNES 1",
          "UNIVERSITE RENNES 1",
          "COMUE UNIV BRETAGNE LOIRE",
          "UNIVERSITE RENNES 1",
          "UNIVERSITE RENNES 1",
          "UNIVERSITE RENNES 1",
          "UNIVERSITE RENNES 2",
          "UNIVERSITE",
          "UNIVERSITE",
          "UNIVERSITE",
          "UNIVERSITE",
          "UNIVERSITE RENNES 1",
          "UNIVERSITE RENNES 2",
          "UNIVERSITE RENNES 1",
          "UNIVERSITE  BREST",
          "UNIVERSITE RENNES 1",
          "UNIVERSITE RENNES 1",
          "UNIVERSITE RENNES 1",
          "UNIVERSITE RENNES 1",
          "UNIVERSITE RENNES 1",
          "UNIVERSITE",
          "INST ETUD POLITIQUES RENNES",
          "INST ETUD POLITIQUES RENNES",
          "UNIVERSITE  BREST",
          "UNIVERSITE  BREST",
          "UNIVERSITE",
          "UNIVERSITE",
          "UNIVERSITE",
          "UNIVERSITE",
          "UNIVERSITE",
          "UNIVERSITE",
          "UNIVERSITE RENNES 1",
          "UNIVERSITE  BREST",
          "UNIVERSITE RENNES 2",
          "UNIVERSITE  BREST",
          "UNIVERSITE  BREST",
          "UNIVERSITE RENNES 2",
          "UNIVERSITE  BREST",
          "UNIVERSITE RENNES 1",
          "UNIVERSITE RENNES 1",
          "UNIVERSITE RENNES 1",
          "UNIVERSITE",
          "UNIVERSITE RENNES 2",
          "UNIVERSITE",
          "INST ETUD POLITIQUES RENNES",
          "UNIVERSITE",
          "UNIVERSITE",
          "UNIVERSITE",
          "UNIVERSITE",
          "UNIVERSITE",
          "UNIVERSITE  BREST",
          "UNIVERSITE",
          "UNIVERSITE",
          "UNIVERSITE RENNES 1",
          "UNIVERSITE RENNES 1",
          "COMUE UNIV BRETAGNE LOIRE",
          "UNIVERSITE  BREST",
          "UNIVERSITE RENNES 1",
          "UNIVERSITE  BREST",
          "UNIVERSITE  BREST",
          "UNIVERSITE RENNES 1",
          "UNIVERSITE RENNES 2",
          "UNIVERSITE RENNES 2",
          "UNIVERSITE RENNES 1",
          "UNIVERSITE RENNES 1",
          "UNIVERSITE RENNES 1",
          "UNIVERSITE  BREST",
          "UNIVERSITE  BREST",
          "UNIVERSITE RENNES 1",
          "INST ETUD POLITIQUES RENNES",
          "UNIVERSITE  BREST",
          "UNIVERSITE",
          "UNIVERSITE",
          "UNIVERSITE",
          "UNIVERSITE",
          "UNIVERSITE",
          "UNIVERSITE",
          "UNIVERSITE RENNES 1",
          "UNIVERSITE RENNES 1",
          "UNIVERSITE",
          "UNIVERSITE",
          "UNIVERSITE",
          "INST ETUD POLITIQUES RENNES",
          "UNIVERSITE",
          "UNIVERSITE",
          "UNIVERSITE",
          "UNIVERSITE",
          "UNIVERSITE  BREST",
          "UNIVERSITE  BREST",
          "UNIVERSITE  BREST",
          "UNIVERSITE RENNES 2",
          "UNIVERSITE  BREST",
          "UNIVERSITE  BREST",
          "UNIVERSITE  BREST",
          "UNIVERSITE  BREST",
          "UNIVERSITE",
          "UNIVERSITE",
          "UNIVERSITE",
          "UNIVERSITE",
          "UNIVERSITE",
          "UNIVERSITE RENNES 1",
          "UNIVERSITE RENNES 2",
          "UNIVERSITE",
          "UNIVERSITE",
          "UNIVERSITE RENNES 1",
          "UNIVERSITE RENNES 2",
          "COMUE UNIV BRETAGNE LOIRE",
          "UNIVERSITE",
          "UNIVERSITE",
          "UNIVERSITE",
          "UNIVERSITE",
          "UNIVERSITE RENNES 1",
          "COMUE UNIV BRETAGNE LOIRE",
          "UNIVERSITE  BREST",
          "UNIVERSITE  BREST",
          "UNIVERSITE  BREST",
          "UNIVERSITE RENNES 1",
          "UNIVERSITE RENNES 1",
          "UNIVERSITE RENNES 1",
          "UNIVERSITE RENNES 1",
          "UNIVERSITE RENNES 1",
          "UNIVERSITE",
          "UNIVERSITE",
          "UNIVERSITE",
          "UNIVERSITE",
          "UNIVERSITE",
          "UNIVERSITE RENNES 1",
          "UNIVERSITE  BREST",
          "UNIVERSITE",
          "UNIVERSITE",
          "UNIVERSITE RENNES 1",
          "UNIVERSITE RENNES 1",
          "UNIVERSITE RENNES 2",
          "UNIVERSITE RENNES 2",
          "UNIVERSITE RENNES 2",
          "UNIVERSITE RENNES 2",
          "UNIVERSITE  BREST",
          "UNIVERSITE  BREST",
          "UNIVERSITE",
          "UNIVERSITE  BREST",
          "UNIVERSITE RENNES 1",
          "UNIVERSITE RENNES 1",
          "UNIVERSITE RENNES 1",
          "UNIVERSITE",
          "INST ETUD POLITIQUES RENNES",
          "UNIVERSITE  BREST",
          "UNIVERSITE  BREST",
          "UNIVERSITE",
          "UNIVERSITE",
          "UNIVERSITE",
          "UNIVERSITE",
          "UNIVERSITE",
          "UNIVERSITE",
          "UNIVERSITE  BREST",
          "UNIVERSITE  BREST",
          "UNIVERSITE RENNES 1",
          "UNIVERSITE RENNES 1",
          "UNIVERSITE RENNES 2",
          "UNIVERSITE  BREST",
          "UNIVERSITE",
          "UNIVERSITE",
          "UNIVERSITE",
          "UNIVERSITE  BREST",
          "UNIVERSITE",
          "INST ETUD POLITIQUES RENNES",
          "UNIVERSITE  BREST",
          "COMUE UNIV BRETAGNE LOIRE",
          "COMUE UNIV BRETAGNE LOIRE",
          "UNIVERSITE RENNES 1",
          "UNIVERSITE RENNES 1",
          "UNIVERSITE RENNES 2",
          "UNIVERSITE  BREST",
          "UNIVERSITE  BREST",
          "UNIVERSITE  BREST",
          "UNIVERSITE RENNES 1",
          "UNIVERSITE",
          "UNIVERSITE",
          "UNIVERSITE  BREST",
          "UNIVERSITE",
          "UNIVERSITE",
          "UNIVERSITE RENNES 1",
          "UNIVERSITE RENNES 1",
          "UNIVERSITE RENNES 1",
          "UNIVERSITE",
          "INST ETUD POLITIQUES RENNES",
          "UNIVERSITE",
          "UNIVERSITE",
          "UNIVERSITE",
          "UNIVERSITE",
          "UNIVERSITE RENNES 1",
          "UNIVERSITE  BREST",
          "UNIVERSITE RENNES 2",
          "UNIVERSITE RENNES 1",
          "UNIVERSITE RENNES 1",
          "UNIVERSITE RENNES 2",
          "UNIVERSITE RENNES 1",
          "UNIVERSITE",
          "UNIVERSITE  BREST",
          "UNIVERSITE",
          "INST ETUD POLITIQUES RENNES",
          "UNIVERSITE  BREST",
          "UNIVERSITE RENNES 1",
          "UNIVERSITE RENNES 1",
          "UNIVERSITE",
          "UNIVERSITE",
          "UNIVERSITE",
          "UNIVERSITE",
          "UNIVERSITE  BREST",
          "UNIVERSITE RENNES 1",
          "UNIVERSITE",
          "INST ETUD POLITIQUES RENNES",
          "UNIVERSITE  BREST",
          "UNIVERSITE",
          "INST ETUD POLITIQUES RENNES",
          "UNIVERSITE",
          "UNIVERSITE",
          "UNIVERSITE",
          "UNIVERSITE RENNES 1",
          "UNIVERSITE RENNES 1",
          "UNIVERSITE RENNES 1",
          "UNIVERSITE RENNES 1",
          "UNIVERSITE  BREST",
          "UNIVERSITE  BREST",
          "UNIVERSITE RENNES 1",
          "UNIVERSITE RENNES 1",
          "UNIVERSITE RENNES 1",
          "UNIVERSITE",
          "UNIVERSITE",
          "UNIVERSITE  BREST",
          "UNIVERSITE  BREST",
          "UNIVERSITE",
          "UNIVERSITE",
          "UNIVERSITE",
          "UNIVERSITE",
          "UNIVERSITE",
          "UNIVERSITE",
          "UNIVERSITE  BREST",
          "UNIVERSITE",
          "UNIVERSITE",
          "UNIVERSITE",
          "COMUE UNIV BRETAGNE LOIRE",
          "COMUE UNIV BRETAGNE LOIRE",
          "UNIVERSITE RENNES 1",
          "UNIVERSITE RENNES 1",
          "UNIVERSITE  BREST",
          "UNIVERSITE",
          "UNIVERSITE",
          "UNIVERSITE",
          "UNIVERSITE",
          "UNIVERSITE",
          "UNIVERSITE  BREST",
          "UNIVERSITE RENNES 1",
          "UNIVERSITE RENNES 1",
          "UNIVERSITE RENNES 1",
          "UNIVERSITE RENNES 2",
          "UNIVERSITE",
          "UNIVERSITE",
          "UNIVERSITE RENNES 2",
          "UNIVERSITE RENNES 1",
          "UNIVERSITE RENNES 2",
          "UNIVERSITE  BREST",
          "UNIVERSITE RENNES 1",
          "UNIVERSITE RENNES 1",
          "UNIVERSITE RENNES 1",
          "UNIVERSITE RENNES 1",
          "UNIVERSITE",
          "UNIVERSITE  BREST",
          "UNIVERSITE",
          "UNIVERSITE",
          "UNIVERSITE",
          "UNIVERSITE",
          "UNIVERSITE",
          "UNIVERSITE",
          "UNIVERSITE",
          "UNIVERSITE  BREST",
          "UNIVERSITE RENNES 1",
          "UNIVERSITE RENNES 1",
          "UNIVERSITE RENNES 1",
          "UNIVERSITE RENNES 1",
          "UNIVERSITE RENNES 1",
          "UNIVERSITE RENNES 1",
          "UNIVERSITE RENNES 2",
          "UNIVERSITE  BREST",
          "UNIVERSITE",
          "UNIVERSITE",
          "UNIVERSITE",
          "UNIVERSITE",
          "UNIVERSITE",
          "UNIVERSITE RENNES 1",
          "UNIVERSITE RENNES 1",
          "UNIVERSITE RENNES 1",
          "UNIVERSITE RENNES 1",
          "UNIVERSITE",
          "INST ETUD POLITIQUES RENNES",
          "UNIVERSITE",
          "UNIVERSITE",
          "UNIVERSITE",
          "UNIVERSITE",
          "UNIVERSITE",
          "UNIVERSITE RENNES 1",
          "UNIVERSITE RENNES 2",
          "UNIVERSITE RENNES 1",
          "UNIVERSITE RENNES 1",
          "UNIVERSITE RENNES 1",
          "UNIVERSITE RENNES 1",
          "UNIVERSITE RENNES 1",
          "UNIVERSITE",
          "UNIVERSITE",
          "UNIVERSITE  BREST",
          "UNIVERSITE",
          "UNIVERSITE RENNES 1",
          "INST ETUD POLITIQUES RENNES",
          "UNIVERSITE  BREST",
          "UNIVERSITE RENNES 1",
          "UNIVERSITE RENNES 1",
          "UNIVERSITE RENNES 1",
          "UNIVERSITE",
          "UNIVERSITE RENNES 2",
          "UNIVERSITE  BREST",
          "UNIVERSITE  BREST",
          "UNIVERSITE  BREST",
          "UNIVERSITE",
          "UNIVERSITE",
          "UNIVERSITE",
          "UNIVERSITE",
          "UNIVERSITE",
          "UNIVERSITE",
          "UNIVERSITE",
          "UNIVERSITE",
          "UNIVERSITE",
          "UNIVERSITE",
          "UNIVERSITE RENNES 1",
          "UNIVERSITE RENNES 1",
          "UNIVERSITE",
          "UNIVERSITE  BREST",
          "UNIVERSITE",
          "UNIVERSITE",
          "UNIVERSITE",
          "UNIVERSITE",
          "UNIVERSITE",
          "UNIVERSITE",
          "UNIVERSITE RENNES 1",
          "UNIVERSITE RENNES 2",
          "UNIVERSITE  BREST",
          "UNIVERSITE",
          "UNIVERSITE",
          "UNIVERSITE",
          "UNIVERSITE",
          "UNIVERSITE RENNES 1",
          "UNIVERSITE RENNES 1",
          "UNIVERSITE RENNES 1",
          "UNIVERSITE RENNES 2",
          "UNIVERSITE  BREST",
          "UNIVERSITE",
          "UNIVERSITE",
          "UNIVERSITE RENNES 1",
          "UNIVERSITE RENNES 1",
          "COMUE UNIV BRETAGNE LOIRE",
          "UNIVERSITE RENNES 1",
          "UNIVERSITE",
          "UNIVERSITE",
          "UNIVERSITE",
          "UNIVERSITE",
          "UNIVERSITE RENNES 1",
          "UNIVERSITE RENNES 1",
          "UNIVERSITE RENNES 1",
          "UNIVERSITE RENNES 1",
          "UNIVERSITE RENNES 1",
          "UNIVERSITE RENNES 1",
          "UNIVERSITE",
          "UNIVERSITE",
          "UNIVERSITE",
          "UNIVERSITE",
          "UNIVERSITE",
          "UNIVERSITE  BREST",
          "UNIVERSITE RENNES 2",
          "UNIVERSITE RENNES 1",
          "UNIVERSITE RENNES 1",
          "UNIVERSITE",
          "COMUE UNIV BRETAGNE LOIRE",
          "UNIVERSITE",
          "UNIVERSITE",
          "INST ETUD POLITIQUES RENNES",
          "UNIVERSITE",
          "UNIVERSITE  BREST",
          "COMUE UNIV BRETAGNE LOIRE",
          "UNIVERSITE RENNES 1",
          "UNIVERSITE",
          "UNIVERSITE  BREST",
          "UNIVERSITE  BREST",
          "UNIVERSITE  BREST",
          "UNIVERSITE",
          "UNIVERSITE",
          "UNIVERSITE",
          "UNIVERSITE",
          "UNIVERSITE",
          "UNIVERSITE RENNES 1",
          "UNIVERSITE RENNES 2",
          "UNIVERSITE RENNES 1",
          "UNIVERSITE RENNES 2",
          "UNIVERSITE RENNES 1",
          "UNIVERSITE  BREST",
          "UNIVERSITE  BREST",
          "UNIVERSITE",
          "UNIVERSITE",
          "INST ETUD POLITIQUES RENNES",
          "UNIVERSITE",
          "UNIVERSITE  BREST",
          "UNIVERSITE  BREST",
          "UNIVERSITE",
          "UNIVERSITE",
          "UNIVERSITE",
          "UNIVERSITE",
          "UNIVERSITE  BREST",
          "UNIVERSITE  BREST",
          "UNIVERSITE  BREST",
          "UNIVERSITE",
          "UNIVERSITE",
          "UNIVERSITE",
          "UNIVERSITE",
          "UNIVERSITE",
          "UNIVERSITE RENNES 1",
          "UNIVERSITE RENNES 2",
          "UNIVERSITE RENNES 1",
          "UNIVERSITE RENNES 1",
          "UNIVERSITE RENNES 1",
          "UNIVERSITE",
          "UNIVERSITE",
          "UNIVERSITE RENNES 2",
          "UNIVERSITE",
          "INST ETUD POLITIQUES RENNES",
          "UNIVERSITE",
          "UNIVERSITE",
          "UNIVERSITE  BREST",
          "UNIVERSITE RENNES 2",
          "UNIVERSITE RENNES 1",
          "UNIVERSITE  BREST",
          "UNIVERSITE RENNES 1",
          "COMUE UNIV BRETAGNE LOIRE",
          "UNIVERSITE  BREST",
          "UNIVERSITE",
          "UNIVERSITE RENNES 1",
          "INST ETUD POLITIQUES RENNES",
          "UNIVERSITE",
          "UNIVERSITE",
          "UNIVERSITE",
          "UNIVERSITE",
          "UNIVERSITE",
          "UNIVERSITE",
          "UNIVERSITE  BREST",
          "UNIVERSITE RENNES 1",
          "UNIVERSITE RENNES 1",
          "UNIVERSITE",
          "UNIVERSITE",
          "UNIVERSITE",
          "UNIVERSITE",
          "UNIVERSITE RENNES 2",
          "UNIVERSITE  BREST",
          "UNIVERSITE RENNES 2",
          "UNIVERSITE RENNES 1",
          "COMUE UNIV BRETAGNE LOIRE",
          "UNIVERSITE",
          "UNIVERSITE",
          "UNIVERSITE",
          "UNIVERSITE",
          "UNIVERSITE",
          "UNIVERSITE RENNES 1",
          "UNIVERSITE RENNES 1",
          "UNIVERSITE RENNES 1",
          "UNIVERSITE",
          "UNIVERSITE",
          "UNIVERSITE",
          "UNIVERSITE  BREST",
          "UNIVERSITE  BREST",
          "UNIVERSITE  BREST",
          "UNIVERSITE",
          "UNIVERSITE",
          "UNIVERSITE",
          "UNIVERSITE",
          "UNIVERSITE",
          "UNIVERSITE",
          "UNIVERSITE",
          "UNIVERSITE",
          "UNIVERSITE",
          "UNIVERSITE",
          "UNIVERSITE",
          "UNIVERSITE",
          "COMUE UNIV BRETAGNE LOIRE",
          "UNIVERSITE RENNES 1",
          "UNIVERSITE",
          "UNIVERSITE",
          "UNIVERSITE",
          "UNIVERSITE",
          "UNIVERSITE  BREST",
          "UNIVERSITE RENNES 1",
          "UNIVERSITE RENNES 1",
          "UNIVERSITE RENNES 2",
          "UNIVERSITE  BREST",
          "UNIVERSITE  BREST",
          "UNIVERSITE  BREST",
          "UNIVERSITE  BREST",
          "UNIVERSITE RENNES 2",
          "UNIVERSITE RENNES 1",
          "UNIVERSITE RENNES 1",
          "UNIVERSITE RENNES 1",
          "UNIVERSITE RENNES 2",
          "UNIVERSITE  BREST",
          "UNIVERSITE",
          "UNIVERSITE RENNES 1",
          "UNIVERSITE RENNES 1",
          "UNIVERSITE RENNES 1",
          "COMUE UNIV BRETAGNE LOIRE",
          "UNIVERSITE RENNES 1",
          "UNIVERSITE RENNES 2",
          "UNIVERSITE RENNES 1",
          "UNIVERSITE RENNES 1",
          "UNIVERSITE RENNES 2",
          "UNIVERSITE",
          "INST ETUD POLITIQUES RENNES",
          "UNIVERSITE",
          "UNIVERSITE",
          "UNIVERSITE",
          "UNIVERSITE",
          "UNIVERSITE",
          "UNIVERSITE RENNES 2",
          "UNIVERSITE RENNES 1",
          "UNIVERSITE RENNES 2",
          "UNIVERSITE RENNES 2",
          "COMUE UNIV BRETAGNE LOIRE",
          "UNIVERSITE  BREST",
          "UNIVERSITE  BREST",
          "UNIVERSITE RENNES 1",
          "UNIVERSITE",
          "UNIVERSITE",
          "UNIVERSITE  BREST",
          "UNIVERSITE RENNES 1",
          "UNIVERSITE RENNES 1",
          "UNIVERSITE RENNES 1",
          "UNIVERSITE RENNES 1",
          "UNIVERSITE RENNES 1",
          "UNIVERSITE",
          "UNIVERSITE",
          "INST ETUD POLITIQUES RENNES",
          "UNIVERSITE",
          "UNIVERSITE",
          "UNIVERSITE  BREST",
          "UNIVERSITE  BREST",
          "UNIVERSITE RENNES 1",
          "UNIVERSITE RENNES 1",
          "UNIVERSITE RENNES 1",
          "UNIVERSITE RENNES 1",
          "UNIVERSITE RENNES 1",
          "UNIVERSITE",
          "UNIVERSITE",
          "UNIVERSITE",
          "UNIVERSITE",
          "UNIVERSITE",
          "UNIVERSITE",
          "UNIVERSITE",
          "UNIVERSITE RENNES 1",
          "UNIVERSITE RENNES 2",
          "UNIVERSITE  BREST",
          "UNIVERSITE",
          "UNIVERSITE",
          "UNIVERSITE",
          "UNIVERSITE",
          "UNIVERSITE",
          "UNIVERSITE",
          "UNIVERSITE RENNES 2",
          "UNIVERSITE  BREST",
          "UNIVERSITE",
          "UNIVERSITE",
          "UNIVERSITE",
          "UNIVERSITE",
          "UNIVERSITE RENNES 1",
          "UNIVERSITE  BREST",
          "UNIVERSITE RENNES 2",
          "UNIVERSITE RENNES 1",
          "UNIVERSITE RENNES 1",
          "UNIVERSITE RENNES 1",
          "COMUE UNIV BRETAGNE LOIRE",
          "UNIVERSITE",
          "UNIVERSITE",
          "UNIVERSITE",
          "UNIVERSITE",
          "UNIVERSITE",
          "UNIVERSITE RENNES 2",
          "UNIVERSITE RENNES 2",
          "UNIVERSITE RENNES 1",
          "UNIVERSITE RENNES 1",
          "UNIVERSITE RENNES 1"
         ],
         "lat": {
          "bdata": "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",
          "dtype": "f8"
         },
         "legendgroup": "Universités",
         "lon": {
          "bdata": "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",
          "dtype": "f8"
         },
         "marker": {
          "color": "#EF553B",
          "size": {
           "bdata": "PQAwADsF8gB+AHwAQwBIAPwAzwQsAEEDcQBzAD8AXwJuCGwAgAdJBUcABwBXB84BFQCMCigAcwA5AAgALQE7ADoAHABDAL4BIgCFEpEGowZQC18HmQBMBBAANQcaBTwAWQAvAP8AMAYKAKkAKQPuCjkCKgDVCYMAHgAGAHcAbQAyAIMA2gGGAMQEJACeCBMBKQZCApQCqAA3ARsBVABPAHsAmwBNAMQA4gA6APoErAvWALYA3wK3AeEB+gzdAD4AtAAlAJUArABZABMAwQDrAA8ALwB6A0QAHADLAIUBQwD3EpoAegQEAGoA4gyjAG8FoQJ/AWoD1A1LAE4BfQSYAKgAagAgAHMARgLuARwAsgYhAA4B4ABKACcAswj9ExwACgqeBL0IKwDnAFgHGwEuAO0EqAE7Ah8AQQINAPcFFAFSAtoBgAAzAT8CkAT3BGsALwA4ANcAEwAlAGYAKgA8AAsANQJRAU4AEgBPBXETQAAjAfwJKgDyAOUA2QD3AtECFQVaASwAFgAjAPUCPQNqAKQA8ABwAgcAgwG3AH4BsBAHAKgBvAAiAK8GPwiqAPsUMQAcACIAUwCDAFMDeQDAAKYADACMATYAZgKkADIA+gIpAREBEgAYAaICOAWeACYAQQAHAbEAJQA3BSUBrQAQABoAaQOXAncE5QBlAHEBRAOEAtgHAgB0BBYA2ABHAi8B3wHVACAADQCjAEYAAwK2AJgOKBHjAYAMhgRWABkATgD/AAEAEwFNADYAlAEzANcADACKAZ4CTgE/AOEA6wAuAIUAxgCrAcAErwCgESMAxQAXAHUAXQASAAcAawAJAEEAFQC7ASIBoAA5AS4ALQACAbYAuwA1AUQAqgERAIIAwwB+ANsBSwAbAPEBTACwAZUAugCAAbET2AFECDEAcAITAVUASwF5AjQAgAJ4AJMAIABjAN0BFAASAHwAmQE5AesB7wGzCUAAPACpBKcB5QmwA4wAxQJTACIArAA7AOMA+wFNAi0AgQC0AS4HFw2REa8EzQC/ACoA5wGtAgkA4QCEARkFCwB+AYsBHAk5A1UNJwCtAAYAWAMfANIAbAAcAEAEGQBvAlsBkwAMAF8BxQMrANUAGgC/ANUE1ABzAM0EFBapAAcD4gGMAbgAuRFXCNEBIQALAHAAHABGABMCxwD1EVUAQQDVAUUACQF8Ax4ACwA7AiMBXgBTBM0EYgO5AekAJgDXAbIAYwKMABQAdwPOAOMGLgBFAIcB7AAQAAYAKgCLACcD9QIVACkBUwkjAKYAAQQSEk4APADfA5gCEwFZAT0AJQBOADkBDQHFABQAMwAFAH4DsAG1AWEAjAC2BJwAqRL7AUEAxwIeADsNGQT5AGsAKgAlAMMNAwIIALMAwwBRAEwAMAMTABcATAABAZAAGQFMAUcACwONBJYA7ggTAksAVgdTAC8CoAowAREAVgGaAS8ABwCoAtcA9gCRAYMATAAMAEQALwC3BBkCFQFrAmUB9QKoABQAlQBRAMQAXAEiAA8BkgBxAMYB/QDwAMMCfgRVDA8AIABLAHIAZw1VACgFRAnuBwQAwALkAQsRpQBDATEAsAbwEVgDIQAfAAwAOALeBeYAMQITAAoLLwBqBN0MRAAGAJoA0QAaBCEDBwAWAG8CnAAxADsAAQMzAvwAmwTWAVYANwBKAIIDeAACAx8ANgKLAPcA+ASFAOcAfgCsBFAM6ADjAxkCsQLaAxcAjAAzDeIAJgBwAB4A0gA5B74AGQBKASwDIwfPAGkIxACNAOMCJwYhCFkXRAfjABsF",
           "dtype": "i2"
          },
          "sizemode": "area",
          "sizeref": 14.9425
         },
         "mode": "markers",
         "name": "Universités",
         "showlegend": true,
         "subplot": "map",
         "type": "scattermap"
        },
        {
         "customdata": [
          [
           "Rennes",
           411,
           "Public",
           "BAC + 4"
          ],
          [
           "Rennes",
           69,
           "Privé",
           "BAC + 3"
          ],
          [
           "Rennes",
           83,
           "Public",
           "BAC + 4"
          ],
          [
           "Rennes",
           88,
           "Public",
           "BAC + 4"
          ],
          [
           "Rennes",
           92,
           "Privé",
           null
          ],
          [
           "Rennes",
           126,
           "Public",
           "BAC + 1"
          ],
          [
           "Rennes",
           531,
           "Public",
           "BAC + 5"
          ],
          [
           "Rennes",
           258,
           "Public",
           "BAC + 5"
          ],
          [
           "Rennes",
           2062,
           "Public",
           null
          ],
          [
           "Rennes",
           254,
           "Public",
           "BAC + 3"
          ],
          [
           "Rennes",
           307,
           "Public",
           null
          ],
          [
           "Rennes",
           215,
           "Public",
           "BAC + 3"
          ],
          [
           "Rennes",
           298,
           "Public",
           "BAC + 1"
          ],
          [
           "Rennes",
           295,
           "Public",
           "BAC + 2"
          ],
          [
           "Rennes",
           215,
           "Public",
           "BAC + 3"
          ],
          [
           "Rennes",
           40,
           "Privé",
           "BAC + 1"
          ],
          [
           "Rennes",
           485,
           "Public",
           null
          ],
          [
           "Rennes",
           254,
           "Public",
           "BAC + 1"
          ],
          [
           "Rennes",
           11,
           "Public",
           "BAC + 6 et plus"
          ],
          [
           "Rennes",
           290,
           "Public",
           "BAC + 1"
          ],
          [
           "Rennes",
           87,
           "Public",
           "BAC + 3"
          ],
          [
           "Rennes",
           19,
           "Public",
           "BAC + 6 et plus"
          ],
          [
           "Rennes",
           114,
           "Public",
           "BAC + 6 et plus"
          ],
          [
           "Rennes",
           131,
           "Public",
           "BAC + 5"
          ],
          [
           "Rennes",
           84,
           "Privé",
           "BAC + 1"
          ],
          [
           "Rennes",
           118,
           "Public",
           "BAC + 5"
          ],
          [
           "Rennes",
           368,
           "Public",
           "BAC + 3"
          ],
          [
           "Rennes",
           102,
           "Public",
           "BAC + 2"
          ],
          [
           "Rennes",
           501,
           "Public",
           null
          ],
          [
           "Rennes",
           443,
           "Public",
           null
          ],
          [
           "Rennes",
           960,
           "Public",
           null
          ],
          [
           "Rennes",
           45,
           "Privé",
           "BAC + 3"
          ],
          [
           "Rennes",
           28,
           "Privé",
           null
          ],
          [
           "Rennes",
           93,
           "Public",
           "BAC + 2"
          ],
          [
           "Rennes",
           85,
           "Public",
           "BAC + 4"
          ],
          [
           "Rennes",
           102,
           "Public",
           "BAC + 5"
          ],
          [
           "Rennes",
           428,
           "Public",
           "BAC + 4"
          ],
          [
           "Rennes",
           112,
           "Public",
           "BAC + 6 et plus"
          ],
          [
           "Rennes",
           125,
           "Privé",
           "BAC + 1"
          ],
          [
           "Rennes",
           122,
           "Public",
           "BAC + 1"
          ],
          [
           "Rennes",
           287,
           "Public",
           "BAC + 1"
          ],
          [
           "Rennes",
           481,
           "Public",
           null
          ],
          [
           "Rennes",
           479,
           "Public",
           null
          ],
          [
           "Rennes",
           904,
           "Public",
           null
          ],
          [
           "Rennes",
           423,
           "Public",
           "BAC + 3"
          ],
          [
           "Rennes",
           28,
           "Privé",
           null
          ],
          [
           "Rennes",
           1779,
           "Public",
           null
          ],
          [
           "Rennes",
           88,
           "Public",
           "BAC + 6 et plus"
          ],
          [
           "Rennes",
           88,
           "Public",
           "BAC + 3"
          ],
          [
           "Rennes",
           293,
           "Public",
           "BAC + 4"
          ],
          [
           "Rennes",
           416,
           "Public",
           null
          ],
          [
           "Rennes",
           2049,
           "Public",
           null
          ],
          [
           "Rennes",
           962,
           "Public",
           null
          ],
          [
           "Rennes",
           77,
           "Public",
           "BAC + 6 et plus"
          ],
          [
           "Rennes",
           56,
           "Public",
           "BAC + 1"
          ],
          [
           "Rennes",
           1891,
           "Public",
           null
          ],
          [
           "Rennes",
           68,
           "Public",
           "BAC + 4"
          ],
          [
           "Rennes",
           61,
           "Privé",
           null
          ],
          [
           "Rennes",
           962,
           "Public",
           null
          ],
          [
           "Rennes",
           483,
           "Public",
           null
          ],
          [
           "Rennes",
           47,
           "Privé",
           "BAC + 2"
          ],
          [
           "Rennes",
           33,
           "Privé",
           "BAC + 4"
          ],
          [
           "Rennes",
           326,
           "Public",
           null
          ],
          [
           "Rennes",
           115,
           "Public",
           "BAC + 2"
          ],
          [
           "Rennes",
           52,
           "Public",
           "BAC + 2"
          ],
          [
           "Rennes",
           33,
           "Public",
           null
          ],
          [
           "Rennes",
           249,
           "Public",
           "BAC + 1"
          ],
          [
           "Rennes",
           36,
           "Privé",
           "BAC + 3"
          ],
          [
           "Rennes",
           7,
           "Privé",
           "BAC + 2"
          ],
          [
           "Rennes",
           300,
           "Public",
           "BAC + 2"
          ],
          [
           "Rennes",
           272,
           "Public",
           "BAC + 2"
          ],
          [
           "Rennes",
           711,
           "Public",
           null
          ],
          [
           "Rennes",
           911,
           "Public",
           null
          ],
          [
           "Rennes",
           525,
           "Public",
           "BAC + 5"
          ],
          [
           "Rennes",
           261,
           "Public",
           "BAC + 2"
          ],
          [
           "Rennes",
           81,
           "Public",
           "BAC + 3"
          ],
          [
           "Rennes",
           395,
           "Public",
           "BAC + 4"
          ],
          [
           "Rennes",
           16,
           "Public",
           "BAC + 6 et plus"
          ],
          [
           "Rennes",
           2054,
           "Public",
           null
          ],
          [
           "Rennes",
           75,
           "Public",
           "BAC + 4"
          ],
          [
           "Rennes",
           255,
           "Public",
           "BAC + 2"
          ],
          [
           "Rennes",
           93,
           "Public",
           "BAC + 6 et plus"
          ],
          [
           "Rennes",
           528,
           "Public",
           "BAC + 5"
          ],
          [
           "Rennes",
           39,
           "Privé",
           "BAC + 2"
          ],
          [
           "Rennes",
           74,
           "Public",
           "BAC + 6 et plus"
          ],
          [
           "Rennes",
           131,
           "Public",
           "BAC + 1"
          ],
          [
           "Rennes",
           1795,
           "Public",
           null
          ],
          [
           "Rennes",
           94,
           "Public",
           "BAC + 5"
          ],
          [
           "Rennes",
           425,
           "Public",
           "BAC + 3"
          ],
          [
           "Rennes",
           91,
           "Public",
           "BAC + 5"
          ]
         ],
         "hovertemplate": "<b>%{hovertext}</b><br><br>catégorie d'établissement=Écoles d'ingénieurs<br>nombre total d’étudiants inscrits hors doubles inscriptions université/CPGE=%{customdata[1]}<br>lat=%{lat}<br>lon=%{lon}<br>Commune=%{customdata[0]}<br>secteur d'établissement=%{customdata[2]}<br>degre_etudes=%{customdata[3]}<extra></extra>",
         "hovertext": [
          "INST NAT SC APPLIQ RENNES",
          "EC INFORMATIQUE TECH AVANCEES",
          "INSTITUT AGRO RENNES-ANGERS",
          "ENS CHIMIE RENNES",
          "EC INFORMATIQUE TECH AVANCEES",
          "ENS CHIMIE RENNES",
          "INST NAT SC APPLIQ RENNES",
          "INSTITUT AGRO RENNES-ANGERS",
          "INST NAT SC APPLIQ RENNES",
          "INSTITUT AGRO RENNES-ANGERS",
          "EC HTES ETUD SANTE PUB RENNES",
          "INSTITUT AGRO RENNES-ANGERS",
          "INST NAT SC APPLIQ RENNES",
          "INST NAT SC APPLIQ RENNES",
          "INSTITUT AGRO RENNES-ANGERS",
          "EC INFORMATIQUE TECH AVANCEES",
          "ENS CHIMIE RENNES",
          "INSTITUT AGRO RENNES-ANGERS",
          "ENS CHIMIE RENNES",
          "INST NAT SC APPLIQ RENNES",
          "ENS CHIMIE RENNES",
          "ENS CHIMIE RENNES",
          "INST NAT SC APPLIQ RENNES",
          "INSTITUT AGRO RENNES-ANGERS",
          "EC INFORMATIQUE TECH AVANCEES",
          "INSTITUT AGRO RENNES-ANGERS",
          "INSTITUT NATIONAL SCIENCES APP",
          "ENS CHIMIE RENNES",
          "ENS CHIMIE RENNES",
          "ENS CHIMIE RENNES",
          "IS SC AGRO HORT PAYSAGE RENNES",
          "EC INFORMATIQUE TECH AVANCEES",
          "EC INFORMATIQUE TECH AVANCEES",
          "ENS CHIMIE RENNES",
          "ENS CHIMIE RENNES",
          "ENS CHIMIE RENNES",
          "INST NAT SC APPLIQ RENNES",
          "INST NAT SC APPLIQ RENNES",
          "EC INFORMATIQUE TECH AVANCEES",
          "ENS CHIMIE RENNES",
          "INSTITUT NATIONAL SCIENCES APP",
          "ENS CHIMIE RENNES",
          "ENS CHIMIE RENNES",
          "IS SC AGRO HORT PAYSAGE RENNES",
          "INST NAT SC APPLIQ RENNES",
          "EC INFORMATIQUE TECH AVANCEES",
          "INST NAT SC APPLIQ RENNES",
          "INSTITUT AGRO RENNES-ANGERS",
          "ENS CHIMIE RENNES",
          "INSTITUT AGRO RENNES-ANGERS",
          "EC HTES ETUD SANTE PUB RENNES",
          "INST NAT SC APPLIQ RENNES",
          "INSTITUT AGRO RENNES-ANGERS",
          "INSTITUT AGRO RENNES-ANGERS",
          "INSTITUT AGRO RENNES-ANGERS",
          "INST NAT SC APPLIQ RENNES",
          "INSTITUT AGRO RENNES-ANGERS",
          "EC INFORMATIQUE TECH AVANCEES",
          "IS SC AGRO HORT PAYSAGE RENNES",
          "ENS CHIMIE RENNES",
          "EC INFORMATIQUE TECH AVANCEES",
          "EC INFORMATIQUE TECH AVANCEES",
          "EC HTES ETUD SANTE PUB RENNES",
          "ENS CHIMIE RENNES",
          "INSTITUT AGRO RENNES-ANGERS",
          "EC HTES ETUD SANTE PUB RENNES",
          "INSTITUT AGRO RENNES-ANGERS",
          "EC INFORMATIQUE TECH AVANCEES",
          "EC INFORMATIQUE TECH AVANCEES",
          "INSTITUT NATIONAL SCIENCES APP",
          "INSTITUT AGRO RENNES-ANGERS",
          "IS SC AGRO HORT PAYSAGE RENNES",
          "IS SC AGRO HORT PAYSAGE RENNES",
          "INSTITUT NATIONAL SCIENCES APP",
          "INST NAT SC APPLIQ RENNES",
          "ENS CHIMIE RENNES",
          "INSTITUT NATIONAL SCIENCES APP",
          "ENS CHIMIE RENNES",
          "INST NAT SC APPLIQ RENNES",
          "ENS CHIMIE RENNES",
          "INSTITUT AGRO RENNES-ANGERS",
          "INSTITUT NATIONAL SCIENCES APP",
          "INST NAT SC APPLIQ RENNES",
          "EC INFORMATIQUE TECH AVANCEES",
          "INSTITUT AGRO RENNES-ANGERS",
          "ENS CHIMIE RENNES",
          "INST NAT SC APPLIQ RENNES",
          "ENS CHIMIE RENNES",
          "INST NAT SC APPLIQ RENNES",
          "ENS CHIMIE RENNES"
         ],
         "lat": {
          "bdata": "KeJP748PSEAVTnN5Rg1IQII8NNN1DkhAofhwciQPSEAVTnN5Rg1IQKH4cHIkD0hAKeJP748PSECCPDTTdQ5IQCniT++PD0hAgjw003UOSEDhenVl5A5IQII8NNN1DkhAKeJP748PSEAp4k/vjw9IQII8NNN1DkhAFU5zeUYNSECh+HByJA9IQII8NNN1DkhAofhwciQPSEAp4k/vjw9IQKH4cHIkD0hAofhwciQPSEAp4k/vjw9IQII8NNN1DkhAFU5zeUYNSECCPDTTdQ5IQCniT++PD0hAofhwciQPSECh+HByJA9IQKH4cHIkD0hAgjw003UOSEAVTnN5Rg1IQBVOc3lGDUhAofhwciQPSECh+HByJA9IQKH4cHIkD0hAKeJP748PSEAp4k/vjw9IQBVOc3lGDUhAofhwciQPSEAp4k/vjw9IQKH4cHIkD0hAofhwciQPSECCPDTTdQ5IQCniT++PD0hAFU5zeUYNSEAp4k/vjw9IQII8NNN1DkhAofhwciQPSECCPDTTdQ5IQOF6dWXkDkhAKeJP748PSECCPDTTdQ5IQII8NNN1DkhAgjw003UOSEAp4k/vjw9IQII8NNN1DkhAFU5zeUYNSECCPDTTdQ5IQKH4cHIkD0hAFU5zeUYNSEAVTnN5Rg1IQOF6dWXkDkhAofhwciQPSECCPDTTdQ5IQOF6dWXkDkhAgjw003UOSEAVTnN5Rg1IQBVOc3lGDUhAKeJP748PSECCPDTTdQ5IQII8NNN1DkhAgjw003UOSEAp4k/vjw9IQCniT++PD0hAofhwciQPSEAp4k/vjw9IQKH4cHIkD0hAKeJP748PSECh+HByJA9IQII8NNN1DkhAKeJP748PSEAp4k/vjw9IQBVOc3lGDUhAgjw003UOSECh+HByJA9IQCniT++PD0hAofhwciQPSEAp4k/vjw9IQKH4cHIkD0hA",
          "dtype": "f8"
         },
         "legendgroup": "Écoles d'ingénieurs",
         "lon": {
          "bdata": "sayH1aQg+r+OdoI1GQT7v4cNcWMyRPu/gywO8t8h+r+OdoI1GQT7v4MsDvLfIfq/sayH1aQg+r+HDXFjMkT7v7Gsh9WkIPq/hw1xYzJE+7+IITNe3Tz7v4cNcWMyRPu/sayH1aQg+r+xrIfVpCD6v4cNcWMyRPu/jnaCNRkE+7+DLA7y3yH6v4cNcWMyRPu/gywO8t8h+r+xrIfVpCD6v4MsDvLfIfq/gywO8t8h+r+xrIfVpCD6v4cNcWMyRPu/jnaCNRkE+7+HDXFjMkT7v7Gsh9WkIPq/gywO8t8h+r+DLA7y3yH6v4MsDvLfIfq/hw1xYzJE+7+OdoI1GQT7v452gjUZBPu/gywO8t8h+r+DLA7y3yH6v4MsDvLfIfq/sayH1aQg+r+xrIfVpCD6v452gjUZBPu/gywO8t8h+r+xrIfVpCD6v4MsDvLfIfq/gywO8t8h+r+HDXFjMkT7v7Gsh9WkIPq/jnaCNRkE+7+xrIfVpCD6v4cNcWMyRPu/gywO8t8h+r+HDXFjMkT7v4ghM17dPPu/sayH1aQg+r+HDXFjMkT7v4cNcWMyRPu/hw1xYzJE+7+xrIfVpCD6v4cNcWMyRPu/jnaCNRkE+7+HDXFjMkT7v4MsDvLfIfq/jnaCNRkE+7+OdoI1GQT7v4ghM17dPPu/gywO8t8h+r+HDXFjMkT7v4ghM17dPPu/hw1xYzJE+7+OdoI1GQT7v452gjUZBPu/sayH1aQg+r+HDXFjMkT7v4cNcWMyRPu/hw1xYzJE+7+xrIfVpCD6v7Gsh9WkIPq/gywO8t8h+r+xrIfVpCD6v4MsDvLfIfq/sayH1aQg+r+DLA7y3yH6v4cNcWMyRPu/sayH1aQg+r+xrIfVpCD6v452gjUZBPu/hw1xYzJE+7+DLA7y3yH6v7Gsh9WkIPq/gywO8t8h+r+xrIfVpCD6v4MsDvLfIfq/",
          "dtype": "f8"
         },
         "marker": {
          "color": "#00cc96",
          "size": {
           "bdata": "mwFFAFMAWABcAH4AEwICAQ4I/gAzAdcAKgEnAdcAKADlAf4ACwAiAVcAEwByAIMAVAB2AHABZgD1AbsBwAMtABwAXQBVAGYArAFwAH0AegAfAeEB3wGIA6cBHADzBlgAWAAlAaABAQjCA00AOABjB0QAPQDCA+MBLwAhAEYBcwA0ACEA+QAkAAcALAEQAccCjwMNAgUBUQCLARAABghLAP8AXQAQAicASgCDAAMHXgCpAVsA",
           "dtype": "i2"
          },
          "sizemode": "area",
          "sizeref": 14.9425
         },
         "mode": "markers",
         "name": "Écoles d'ingénieurs",
         "showlegend": true,
         "subplot": "map",
         "type": "scattermap"
        },
        {
         "customdata": [
          [
           "Rennes",
           241,
           "Privé",
           "BAC + 1"
          ],
          [
           "Rennes",
           171,
           "Privé",
           "BAC + 1"
          ],
          [
           "Rennes",
           14,
           "Privé",
           "BAC + 1"
          ],
          [
           "Rennes",
           29,
           "Privé",
           "BAC + 5"
          ],
          [
           "Rennes",
           28,
           "Privé",
           "BAC + 3"
          ],
          [
           "Rennes",
           302,
           "Privé",
           "BAC + 1"
          ],
          [
           "Rennes",
           5,
           "Privé",
           "BAC + 1"
          ],
          [
           "Rennes",
           12,
           "Privé",
           "BAC + 1"
          ],
          [
           "Rennes",
           89,
           "Privé",
           "BAC + 1"
          ],
          [
           "Rennes",
           178,
           "Privé",
           "BAC + 4"
          ],
          [
           "Rennes",
           128,
           "Privé",
           null
          ],
          [
           "Rennes",
           170,
           "Privé",
           "BAC + 4"
          ],
          [
           "Rennes",
           118,
           "Privé",
           "BAC + 5"
          ],
          [
           "Rennes",
           10,
           "Privé",
           "BAC + 1"
          ],
          [
           "Rennes",
           145,
           "Privé",
           "BAC + 5"
          ],
          [
           "Rennes",
           358,
           "Privé",
           null
          ],
          [
           "Rennes",
           18,
           "Privé",
           "BAC + 3"
          ],
          [
           "Rennes",
           228,
           "Privé",
           "BAC + 1"
          ],
          [
           "Rennes",
           24,
           "Privé",
           "BAC + 2"
          ],
          [
           "Rennes",
           3984,
           "Privé",
           null
          ],
          [
           "Rennes",
           327,
           "Privé",
           null
          ],
          [
           "Rennes",
           165,
           "Privé",
           "BAC + 5"
          ],
          [
           "Rennes",
           3489,
           "Privé",
           null
          ],
          [
           "Rennes",
           49,
           "Privé",
           null
          ],
          [
           "Rennes",
           15,
           "Privé",
           "BAC + 5"
          ],
          [
           "Rennes",
           394,
           "Privé",
           null
          ],
          [
           "Rennes",
           3585,
           "Privé",
           null
          ],
          [
           "Rennes",
           205,
           "Privé",
           "BAC + 4"
          ],
          [
           "Rennes",
           198,
           "Privé",
           "BAC + 5"
          ],
          [
           "Rennes",
           49,
           "Privé",
           "BAC + 4"
          ],
          [
           "Rennes",
           8,
           "Privé",
           "BAC + 2"
          ],
          [
           "Rennes",
           483,
           "Privé",
           "BAC + 1"
          ],
          [
           "Rennes",
           97,
           "Privé",
           "BAC + 2"
          ],
          [
           "Rennes",
           10,
           "Privé",
           "BAC + 2"
          ],
          [
           "Rennes",
           281,
           "Privé",
           "BAC + 1"
          ],
          [
           "Rennes",
           1,
           "Privé",
           "BAC + 2"
          ],
          [
           "Rennes",
           177,
           "Privé",
           "BAC + 3"
          ],
          [
           "Rennes",
           7,
           "Privé",
           "BAC + 3"
          ],
          [
           "Rennes",
           92,
           "Privé",
           "BAC + 2"
          ],
          [
           "Rennes",
           24,
           "Privé",
           null
          ],
          [
           "Rennes",
           48,
           "Privé",
           "BAC + 2"
          ],
          [
           "Rennes",
           72,
           "Privé",
           null
          ],
          [
           "Rennes",
           357,
           "Privé",
           "BAC + 2"
          ],
          [
           "Rennes",
           187,
           "Privé",
           "BAC + 5"
          ],
          [
           "Rennes",
           1247,
           "Privé",
           "BAC + 3"
          ],
          [
           "Rennes",
           46,
           "Privé",
           "BAC + 4"
          ],
          [
           "Rennes",
           1,
           "Privé",
           "BAC + 4"
          ],
          [
           "Rennes",
           22,
           "Privé",
           "BAC + 1"
          ],
          [
           "Rennes",
           328,
           "Privé",
           null
          ],
          [
           "Rennes",
           152,
           "Privé",
           "BAC + 3"
          ],
          [
           "Rennes",
           2,
           "Privé",
           "BAC + 3"
          ],
          [
           "Rennes",
           58,
           "Privé",
           null
          ],
          [
           "Rennes",
           27,
           "Privé",
           null
          ],
          [
           "Rennes",
           947,
           "Privé",
           "BAC + 5"
          ],
          [
           "Rennes",
           1044,
           "Privé",
           "BAC + 3"
          ],
          [
           "Rennes",
           159,
           "Privé",
           "BAC + 3"
          ],
          [
           "Rennes",
           333,
           "Privé",
           null
          ],
          [
           "Rennes",
           40,
           "Privé",
           "BAC + 2"
          ],
          [
           "Rennes",
           19,
           "Privé",
           "BAC + 1"
          ],
          [
           "Rennes",
           62,
           "Privé",
           "BAC + 6 et plus"
          ],
          [
           "Rennes",
           35,
           "Privé",
           "BAC + 1"
          ],
          [
           "Rennes",
           4471,
           "Privé",
           null
          ],
          [
           "Rennes",
           444,
           "Privé",
           null
          ],
          [
           "Rennes",
           44,
           "Privé",
           "BAC + 1"
          ],
          [
           "Rennes",
           2222,
           "Privé",
           "BAC + 4"
          ],
          [
           "Rennes",
           212,
           "Privé",
           "BAC + 4"
          ],
          [
           "Rennes",
           100,
           "Privé",
           "BAC + 3"
          ],
          [
           "Rennes",
           115,
           "Privé",
           "BAC + 1"
          ],
          [
           "Rennes",
           34,
           "Privé",
           "BAC + 3"
          ],
          [
           "Rennes",
           3370,
           "Privé",
           null
          ],
          [
           "Rennes",
           45,
           "Privé",
           null
          ],
          [
           "Rennes",
           50,
           "Privé",
           "BAC + 1"
          ],
          [
           "Rennes",
           242,
           "Privé",
           "BAC + 4"
          ],
          [
           "Rennes",
           85,
           "Privé",
           "BAC + 1"
          ],
          [
           "Rennes",
           40,
           "Privé",
           "BAC + 3"
          ],
          [
           "Rennes",
           1761,
           "Privé",
           "BAC + 5"
          ],
          [
           "Rennes",
           50,
           "Privé",
           "BAC + 4"
          ],
          [
           "Rennes",
           243,
           "Privé",
           "BAC + 3"
          ],
          [
           "Rennes",
           111,
           "Privé",
           "BAC + 4"
          ],
          [
           "Rennes",
           288,
           "Privé",
           null
          ],
          [
           "Rennes",
           6,
           "Privé",
           "BAC + 2"
          ],
          [
           "Rennes",
           534,
           "Privé",
           null
          ],
          [
           "Rennes",
           1227,
           "Privé",
           "BAC + 4"
          ],
          [
           "Rennes",
           146,
           "Privé",
           "BAC + 1"
          ],
          [
           "Rennes",
           33,
           "Privé",
           "BAC + 3"
          ],
          [
           "Rennes",
           3,
           "Privé",
           "BAC + 2"
          ],
          [
           "Rennes",
           5,
           "Privé",
           "BAC + 5"
          ],
          [
           "Rennes",
           58,
           "Privé",
           "BAC + 5"
          ],
          [
           "Rennes",
           243,
           "Privé",
           "BAC + 2"
          ],
          [
           "Rennes",
           24,
           "Privé",
           "BAC + 2"
          ],
          [
           "Rennes",
           25,
           "Privé",
           null
          ],
          [
           "Rennes",
           1205,
           "Privé",
           "BAC + 5"
          ],
          [
           "Rennes",
           13,
           "Privé",
           "BAC + 3"
          ],
          [
           "Rennes",
           3988,
           "Privé",
           null
          ],
          [
           "Rennes",
           49,
           "Privé",
           "BAC + 1"
          ],
          [
           "Rennes",
           31,
           "Privé",
           "BAC + 2"
          ],
          [
           "Rennes",
           191,
           "Privé",
           "BAC + 4"
          ],
          [
           "Rennes",
           112,
           "Privé",
           "BAC + 3"
          ],
          [
           "Rennes",
           1434,
           "Privé",
           "BAC + 4"
          ],
          [
           "Rennes",
           198,
           "Privé",
           "BAC + 5"
          ],
          [
           "Rennes",
           290,
           "Privé",
           "BAC + 2"
          ],
          [
           "Rennes",
           23,
           "Privé",
           "BAC + 4"
          ],
          [
           "Rennes",
           326,
           "Privé",
           null
          ],
          [
           "Rennes",
           34,
           "Privé",
           "BAC + 2"
          ],
          [
           "Rennes",
           253,
           "Privé",
           "BAC + 1"
          ],
          [
           "Rennes",
           58,
           "Privé",
           "BAC + 3"
          ],
          [
           "Rennes",
           9,
           "Privé",
           "BAC + 1"
          ],
          [
           "Rennes",
           44,
           "Privé",
           "BAC + 2"
          ],
          [
           "Rennes",
           292,
           "Privé",
           "BAC + 1"
          ],
          [
           "Rennes",
           943,
           "Privé",
           "BAC + 3"
          ]
         ],
         "hovertemplate": "<b>%{hovertext}</b><br><br>catégorie d'établissement=Écoles de commerce, gestion et vente<br>nombre total d’étudiants inscrits hors doubles inscriptions université/CPGE=%{customdata[1]}<br>lat=%{lat}<br>lon=%{lon}<br>Commune=%{customdata[0]}<br>secteur d'établissement=%{customdata[2]}<br>degre_etudes=%{customdata[3]}<extra></extra>",
         "hovertext": [
          "GROUPE AFTEC",
          "SUP OUEST",
          "ECOLE SUPERIEURE PRIVEE",
          "GROUPE AFTEC",
          "ECOLE SUPERIEURE",
          "SUP OUEST",
          "ECOLE SUPERIEURE",
          "ECOLE TECHNIQUE SUPERIEURE PRI",
          "ORGANISME FORMATION-CFA",
          "GROUPE AFTEC",
          "ECOLE SUPERIEURE PRIVEE",
          "GROUPE AFTEC",
          "GROUPE AFTEC",
          "GROUPE AFTEC",
          "EC SUP GEST COMMERCE FINANCE",
          "EC SUP GEST COMMERCE FINANCE",
          "ORGANISME FORMATION-CFA",
          "SUP OUEST",
          "GROUPE AFTEC",
          "ECOLE SUPERIEURE DE COMMERCE",
          "SUP OUEST",
          "GROUPE AFTEC",
          "ECOLE SUPERIEURE DE COMMERCE",
          "ECOLE TECHNIQUE PRIVEE",
          "GROUPE AFTEC",
          "EC SUP GEST COMMERCE FINANCE",
          "ECOLE SUPERIEURE DE COMMERCE",
          "EC SUP GEST COMMERCE FINANCE",
          "EC SUP GEST COMMERCE FINANCE",
          "GROUPE AFTEC",
          "ECOLE SUPERIEURE",
          "ECOLE SUPERIEURE DE COMMERCE",
          "SUP OUEST",
          "GROUPE AFTEC",
          "ECOLE SUPERIEURE DE COMMERCE",
          "SUP OUEST",
          "EC SUP GEST COMMERCE FINANCE",
          "GROUPE AFTEC",
          "ORGANISME FORMATION-CFA",
          "ISTER",
          "GROUPE AFTEC",
          "ISTER",
          "ECOLE SUPERIEURE DE COMMERCE",
          "EC SUP GEST COMMERCE FINANCE",
          "ECOLE SUPERIEURE DE COMMERCE",
          "GROUPE AFTEC",
          "GROUPE AFTEC",
          "GROUPE AFTEC",
          "SUP OUEST",
          "EC SUP GEST COMMERCE FINANCE",
          "GROUPE AFTEC",
          "ISTER",
          "ISTER",
          "ECOLE SUPERIEURE DE COMMERCE",
          "ECOLE SUPERIEURE DE COMMERCE",
          "EC SUP GEST COMMERCE FINANCE",
          "EC SUP GEST COMMERCE FINANCE",
          "EC SUP GEST COMMERCE FINANCE",
          "INST FORM AFFAIRES ET GESTION",
          "ECOLE SUPERIEURE DE COMMERCE",
          "GROUPE AFTEC",
          "ECOLE SUPERIEURE DE COMMERCE",
          "EC SUP GEST COMMERCE FINANCE",
          "EC SUP GEST COMMERCE FINANCE",
          "ECOLE SUPERIEURE DE COMMERCE",
          "GROUPE AFTEC",
          "GROUPE AFTEC",
          "ORGANISME FORMATION-CFA",
          "GROUPE AFTEC",
          "ECOLE SUPERIEURE DE COMMERCE",
          "ISTER",
          "EC SUP GEST COMMERCE FINANCE",
          "EC SUP GEST COMMERCE FINANCE",
          "GROUPE AFTEC",
          "GROUPE AFTEC",
          "ECOLE SUPERIEURE DE COMMERCE",
          "GROUPE AFTEC",
          "GROUPE AFTEC",
          "ECOLE SUPERIEURE PRIVEE",
          "SUP OUEST",
          "ISTER",
          "ECOLE SUPERIEURE PRIVEE",
          "ECOLE SUPERIEURE DE COMMERCE",
          "GROUPE AFTEC",
          "ECOLE SUPERIEURE PRIVEE",
          "ECOLE TECHNIQUE SUPERIEURE PRI",
          "GROUPE AFTEC",
          "GROUPE AFTEC",
          "ECOLE SUPERIEURE DE COMMERCE",
          "GROUPE AFTEC",
          "ECOLE TECHNIQUE PRIVEE",
          "ECOLE SUPERIEURE DE COMMERCE",
          "GROUPE AFTEC",
          "ECOLE SUPERIEURE DE COMMERCE",
          "EC SUP GEST COMMERCE FINANCE",
          "EC SUP GEST COMMERCE FINANCE",
          "EC SUP GEST COMMERCE FINANCE",
          "GROUPE AFTEC",
          "ECOLE SUPERIEURE DE COMMERCE",
          "GROUPE AFTEC",
          "ECOLE SUPERIEURE DE COMMERCE",
          "GROUPE AFTEC",
          "SUP OUEST",
          "ORGANISME FORMATION-CFA",
          "GROUPE AFTEC",
          "ORGANISME FORMATION-CFA",
          "ISTER",
          "EC SUP GEST COMMERCE FINANCE",
          "ECOLE SUPERIEURE DE COMMERCE",
          "ECOLE SUPERIEURE DE COMMERCE"
         ],
         "lat": {
          "bdata": "Z+R8xp0LSEBoPuHpoQtIQHD/OaiJDUhAZ+R8xp0LSECWsKSB4hBIQGg+4emhC0hAlrCkgeIQSEBlzPc84BBIQKlZcFhjDkhAd98dkN4LSECXenpk4QtIQHffHZDeC0hAd98dkN4LSEB33x2Q3gtIQBfjdB4RDkhAF+N0HhEOSECpWXBYYw5IQGg+4emhC0hAZ+R8xp0LSEDdCIq5WxBIQGg+4emhC0hAd98dkN4LSEDdCIq5WxBIQKTk5JFzDEhAZ+R8xp0LSEAX43QeEQ5IQN0IirlbEEhAF+N0HhEOSEAX43QeEQ5IQGfkfMadC0hAlrCkgeIQSEDdCIq5WxBIQGg+4emhC0hAZ+R8xp0LSEDdCIq5WxBIQGg+4emhC0hAF+N0HhEOSEB33x2Q3gtIQKlZcFhjDkhAf9+pmOwMSEBn5HzGnQtIQH/fqZjsDEhA3QiKuVsQSEAX43QeEQ5IQN0IirlbEEhAZ+R8xp0LSEBn5HzGnQtIQGfkfMadC0hAaD7h6aELSEAX43QeEQ5IQGfkfMadC0hAf9+pmOwMSEB/36mY7AxIQN0IirlbEEhA3QiKuVsQSEAX43QeEQ5IQBfjdB4RDkhAF+N0HhEOSECWsKSB4hBIQN0IirlbEEhAZ+R8xp0LSEDdCIq5WxBIQBfjdB4RDkhAF+N0HhEOSEDdCIq5WxBIQHffHZDeC0hAZ+R8xp0LSECpWXBYYw5IQGfkfMadC0hA3QiKuVsQSEB/36mY7AxIQBfjdB4RDkhAF+N0HhEOSEBn5HzGnQtIQGfkfMadC0hA3QiKuVsQSEBn5HzGnQtIQGfkfMadC0hAcP85qIkNSEBoPuHpoQtIQH/fqZjsDEhAl3p6ZOELSEDdCIq5WxBIQGfkfMadC0hAcP85qIkNSEBlzPc84BBIQGfkfMadC0hAZ+R8xp0LSEDdCIq5WxBIQGfkfMadC0hApOTkkXMMSEDdCIq5WxBIQHffHZDeC0hA3QiKuVsQSEAX43QeEQ5IQBfjdB4RDkhAF+N0HhEOSEBn5HzGnQtIQN0IirlbEEhAd98dkN4LSEDdCIq5WxBIQGfkfMadC0hAaD7h6aELSECpWXBYYw5IQGfkfMadC0hAqVlwWGMOSEB/36mY7AxIQBfjdB4RDkhA3QiKuVsQSEDdCIq5WxBIQA==",
          "dtype": "f8"
         },
         "legendgroup": "Écoles de commerce, gestion et vente",
         "lon": {
          "bdata": "WHChSpQZ+r+lijrOeRn6v/R6Kmznovq/WHChSpQZ+r+jhsWP/Ev7v6WKOs55Gfq/o4bFj/xL+78XPcmG6E37v6Bb3ZmsAfu/ikTiRQUp+r9Zi9HHlUT7v4pE4kUFKfq/ikTiRQUp+r+KROJFBSn6v5eYWW+gpvq/l5hZb6Cm+r+gW92ZrAH7v6WKOs55Gfq/WHChSpQZ+r/+yqkiuRT7v6WKOs55Gfq/ikTiRQUp+r/+yqkiuRT7v+JGsVfGEfq/WHChSpQZ+r+XmFlvoKb6v/7KqSK5FPu/l5hZb6Cm+r+XmFlvoKb6v1hwoUqUGfq/o4bFj/xL+7/+yqkiuRT7v6WKOs55Gfq/WHChSpQZ+r/+yqkiuRT7v6WKOs55Gfq/l5hZb6Cm+r+KROJFBSn6v6Bb3ZmsAfu/MXyXTxZq+r9YcKFKlBn6vzF8l08Wavq//sqpIrkU+7+XmFlvoKb6v/7KqSK5FPu/WHChSpQZ+r9YcKFKlBn6v1hwoUqUGfq/pYo6znkZ+r+XmFlvoKb6v1hwoUqUGfq/MXyXTxZq+r8xfJdPFmr6v/7KqSK5FPu//sqpIrkU+7+XmFlvoKb6v5eYWW+gpvq/l5hZb6Cm+r+jhsWP/Ev7v/7KqSK5FPu/WHChSpQZ+r/+yqkiuRT7v5eYWW+gpvq/l5hZb6Cm+r/+yqkiuRT7v4pE4kUFKfq/WHChSpQZ+r+gW92ZrAH7v1hwoUqUGfq//sqpIrkU+78xfJdPFmr6v5eYWW+gpvq/l5hZb6Cm+r9YcKFKlBn6v1hwoUqUGfq//sqpIrkU+79YcKFKlBn6v1hwoUqUGfq/9HoqbOei+r+lijrOeRn6vzF8l08Wavq/WYvRx5VE+7/+yqkiuRT7v1hwoUqUGfq/9HoqbOei+r8XPcmG6E37v1hwoUqUGfq/WHChSpQZ+r/+yqkiuRT7v1hwoUqUGfq/4kaxV8YR+r/+yqkiuRT7v4pE4kUFKfq//sqpIrkU+7+XmFlvoKb6v5eYWW+gpvq/l5hZb6Cm+r9YcKFKlBn6v/7KqSK5FPu/ikTiRQUp+r/+yqkiuRT7v1hwoUqUGfq/pYo6znkZ+r+gW92ZrAH7v1hwoUqUGfq/oFvdmawB+78xfJdPFmr6v5eYWW+gpvq//sqpIrkU+7/+yqkiuRT7vw==",
          "dtype": "f8"
         },
         "marker": {
          "color": "#ab63fa",
          "size": {
           "bdata": "8QCrAA4AHQAcAC4BBQAMAFkAsgCAAKoAdgAKAJEAZgESAOQAGACQD0cBpQChDTEADwCKAQEOzQDGADEACADjAWEACgAZAQEAsQAHAFwAGAAwAEgAZQG7AN8ELgABABYASAGYAAIAOgAbALMDFASfAE0BKAATAD4AIwB3EbwBLACuCNQAZABzACIAKg0tADIA8gBVACgA4QYyAPMAbwAgAQYAFgLLBJIAIQADAAUAOgDzABgAGQC1BA0AlA8xAB8AvwBwAJoFxgAiARcARgEiAP0AOgAJACwAJAGvAw==",
           "dtype": "i2"
          },
          "sizemode": "area",
          "sizeref": 14.9425
         },
         "mode": "markers",
         "name": "Écoles de commerce, gestion et vente",
         "showlegend": true,
         "subplot": "map",
         "type": "scattermap"
        },
        {
         "customdata": [
          [
           "Rennes",
           154,
           "Public",
           "BAC + 1"
          ],
          [
           "Rennes",
           160,
           "Public",
           "BAC + 5"
          ],
          [
           "Rennes",
           663,
           "Public",
           null
          ],
          [
           "Rennes",
           561,
           "Public",
           null
          ],
          [
           "Rennes",
           156,
           "Public",
           "BAC + 5"
          ],
          [
           "Rennes",
           93,
           "Public",
           "BAC + 4"
          ],
          [
           "Rennes",
           65,
           "Public",
           "BAC + 6 et plus"
          ],
          [
           "Rennes",
           55,
           "Public",
           "BAC + 6 et plus"
          ],
          [
           "Rennes",
           114,
           "Public",
           "BAC + 4"
          ],
          [
           "Rennes",
           642,
           "Public",
           null
          ],
          [
           "Rennes",
           82,
           "Public",
           "BAC + 2"
          ],
          [
           "Rennes",
           59,
           "Public",
           "BAC + 6 et plus"
          ],
          [
           "Rennes",
           92,
           "Public",
           "BAC + 4"
          ],
          [
           "Rennes",
           640,
           "Public",
           null
          ],
          [
           "Rennes",
           165,
           "Public",
           "BAC + 5"
          ],
          [
           "Rennes",
           93,
           "Public",
           "BAC + 3"
          ],
          [
           "Rennes",
           651,
           "Public",
           null
          ],
          [
           "Rennes",
           146,
           "Public",
           "BAC + 1"
          ],
          [
           "Rennes",
           100,
           "Public",
           "BAC + 2"
          ],
          [
           "Rennes",
           95,
           "Public",
           "BAC + 3"
          ],
          [
           "Rennes",
           112,
           "Public",
           "BAC + 2"
          ],
          [
           "Rennes",
           555,
           "Public",
           null
          ],
          [
           "Rennes",
           112,
           "Public",
           "BAC + 3"
          ],
          [
           "Rennes",
           136,
           "Public",
           "BAC + 1"
          ]
         ],
         "hovertemplate": "<b>%{hovertext}</b><br><br>catégorie d'établissement=Écoles d'architecture<br>nombre total d’étudiants inscrits hors doubles inscriptions université/CPGE=%{customdata[1]}<br>lat=%{lat}<br>lon=%{lon}<br>Commune=%{customdata[0]}<br>secteur d'établissement=%{customdata[2]}<br>degre_etudes=%{customdata[3]}<extra></extra>",
         "hovertext": [
          "ECOLE NAT. SUP. ARCHITECTURE",
          "ECOLE NAT. SUP. ARCHITECTURE",
          "ECOLE NAT. SUP. ARCHITECTURE",
          "ECOLE NAT. SUP. ARCHITECTURE",
          "ECOLE NAT. SUP. ARCHITECTURE",
          "ECOLE NAT. SUP. ARCHITECTURE",
          "ECOLE NAT. SUP. ARCHITECTURE",
          "ECOLE NAT. SUP. ARCHITECTURE",
          "ECOLE NAT. SUP. ARCHITECTURE",
          "ECOLE NAT. SUP. ARCHITECTURE",
          "ECOLE NAT. SUP. ARCHITECTURE",
          "ECOLE NAT. SUP. ARCHITECTURE",
          "ECOLE NAT. SUP. ARCHITECTURE",
          "ECOLE NAT. SUP. ARCHITECTURE",
          "ECOLE NAT. SUP. ARCHITECTURE",
          "ECOLE NAT. SUP. ARCHITECTURE",
          "ECOLE NAT. SUP. ARCHITECTURE",
          "ECOLE NAT. SUP. ARCHITECTURE",
          "ECOLE NAT. SUP. ARCHITECTURE",
          "ECOLE NAT. SUP. ARCHITECTURE",
          "ECOLE NAT. SUP. ARCHITECTURE",
          "ECOLE NAT. SUP. ARCHITECTURE",
          "ECOLE NAT. SUP. ARCHITECTURE",
          "ECOLE NAT. SUP. ARCHITECTURE"
         ],
         "lat": {
          "bdata": "x7THR0YPSEDHtMdHRg9IQMe0x0dGD0hAx7THR0YPSEDHtMdHRg9IQMe0x0dGD0hAx7THR0YPSEDHtMdHRg9IQMe0x0dGD0hAx7THR0YPSEDHtMdHRg9IQMe0x0dGD0hAx7THR0YPSEDHtMdHRg9IQMe0x0dGD0hAx7THR0YPSEDHtMdHRg9IQMe0x0dGD0hAx7THR0YPSEDHtMdHRg9IQMe0x0dGD0hAx7THR0YPSEDHtMdHRg9IQMe0x0dGD0hA",
          "dtype": "f8"
         },
         "legendgroup": "Écoles d'architecture",
         "lon": {
          "bdata": "iVG3wmjv+r+JUbfCaO/6v4lRt8Jo7/q/iVG3wmjv+r+JUbfCaO/6v4lRt8Jo7/q/iVG3wmjv+r+JUbfCaO/6v4lRt8Jo7/q/iVG3wmjv+r+JUbfCaO/6v4lRt8Jo7/q/iVG3wmjv+r+JUbfCaO/6v4lRt8Jo7/q/iVG3wmjv+r+JUbfCaO/6v4lRt8Jo7/q/iVG3wmjv+r+JUbfCaO/6v4lRt8Jo7/q/iVG3wmjv+r+JUbfCaO/6v4lRt8Jo7/q/",
          "dtype": "f8"
         },
         "marker": {
          "color": "#FFA15A",
          "size": {
           "bdata": "mgCgAJcCMQKcAF0AQQA3AHIAggJSADsAXACAAqUAXQCLApIAZABfAHAAKwJwAIgA",
           "dtype": "i2"
          },
          "sizemode": "area",
          "sizeref": 14.9425
         },
         "mode": "markers",
         "name": "Écoles d'architecture",
         "showlegend": true,
         "subplot": "map",
         "type": "scattermap"
        },
        {
         "customdata": [
          [
           "Rennes",
           17,
           "Public",
           "BAC + 2"
          ],
          [
           "Rennes",
           62,
           "Public",
           "BAC + 1"
          ],
          [
           "Rennes",
           52,
           "Public",
           "BAC + 4"
          ],
          [
           "Rennes",
           326,
           "Public",
           null
          ],
          [
           "Rennes",
           422,
           "Privé",
           null
          ],
          [
           "Rennes",
           62,
           "Privé",
           null
          ],
          [
           "Rennes",
           86,
           "Privé",
           "BAC + 2"
          ],
          [
           "Rennes",
           29,
           "Public",
           "BAC + 2"
          ],
          [
           "Rennes",
           63,
           "Public",
           "BAC + 3"
          ],
          [
           "Rennes",
           12,
           "Privé",
           "Inférieur ou égal au baccalauréat"
          ],
          [
           "Rennes",
           426,
           "Privé",
           null
          ],
          [
           "Rennes",
           337,
           "Privé",
           null
          ],
          [
           "Rennes",
           94,
           "Privé",
           "BAC + 1"
          ],
          [
           "Rennes",
           28,
           "Privé",
           "BAC + 2"
          ],
          [
           "Rennes",
           43,
           "Public",
           "BAC + 1"
          ],
          [
           "Rennes",
           40,
           "Public",
           "BAC + 5"
          ],
          [
           "Rennes",
           31,
           "Privé",
           "Inférieur ou égal au baccalauréat"
          ],
          [
           "Rennes",
           33,
           "Public",
           "BAC + 5"
          ],
          [
           "Rennes",
           412,
           "Privé",
           null
          ],
          [
           "Rennes",
           18,
           "Public",
           "BAC + 3"
          ],
          [
           "Rennes",
           324,
           "Privé",
           null
          ],
          [
           "Rennes",
           47,
           "Privé",
           null
          ],
          [
           "Rennes",
           30,
           "Public",
           "BAC + 1"
          ],
          [
           "Rennes",
           74,
           "Public",
           "BAC + 3"
          ],
          [
           "Rennes",
           104,
           "Privé",
           "BAC + 2"
          ],
          [
           "Rennes",
           100,
           "Privé",
           "BAC + 4"
          ],
          [
           "Rennes",
           127,
           "Public",
           null
          ],
          [
           "Rennes",
           97,
           "Privé",
           "BAC + 2"
          ],
          [
           "Rennes",
           9,
           "Public",
           "BAC + 5"
          ],
          [
           "Rennes",
           101,
           "Public",
           null
          ],
          [
           "Rennes",
           53,
           "Privé",
           "BAC + 3"
          ],
          [
           "Rennes",
           63,
           "Public",
           "BAC + 1"
          ],
          [
           "Rennes",
           236,
           "Privé",
           "BAC + 1"
          ],
          [
           "Rennes",
           20,
           "Privé",
           null
          ],
          [
           "Rennes",
           426,
           "Privé",
           null
          ],
          [
           "Rennes",
           290,
           "Public",
           null
          ],
          [
           "Rennes",
           289,
           "Public",
           null
          ],
          [
           "Rennes",
           350,
           "Privé",
           null
          ],
          [
           "Rennes",
           77,
           "Privé",
           "BAC + 5"
          ],
          [
           "Rennes",
           70,
           "Public",
           "BAC + 2"
          ],
          [
           "Rennes",
           46,
           "Public",
           "BAC + 4"
          ],
          [
           "Rennes",
           283,
           "Public",
           null
          ],
          [
           "Rennes",
           100,
           "Public",
           null
          ],
          [
           "Rennes",
           20,
           "Privé",
           null
          ],
          [
           "Rennes",
           5,
           "Public",
           "BAC + 5"
          ],
          [
           "Rennes",
           114,
           "Privé",
           "BAC + 2"
          ],
          [
           "Rennes",
           87,
           "Public",
           null
          ],
          [
           "Rennes",
           87,
           "Public",
           null
          ],
          [
           "Rennes",
           268,
           "Privé",
           null
          ],
          [
           "Rennes",
           97,
           "Privé",
           "BAC + 3"
          ],
          [
           "Rennes",
           97,
           "Privé",
           "BAC + 2"
          ],
          [
           "Rennes",
           89,
           "Privé",
           "BAC + 3"
          ],
          [
           "Rennes",
           9,
           "Public",
           "BAC + 5"
          ],
          [
           "Rennes",
           306,
           "Public",
           null
          ],
          [
           "Rennes",
           81,
           "Public",
           "BAC + 1"
          ],
          [
           "Rennes",
           107,
           "Privé",
           "BAC + 3"
          ],
          [
           "Rennes",
           84,
           "Privé",
           "BAC + 4"
          ],
          [
           "Rennes",
           127,
           "Privé",
           "BAC + 1"
          ],
          [
           "Rennes",
           239,
           "Privé",
           "BAC + 1"
          ],
          [
           "Rennes",
           28,
           "Privé",
           "BAC + 2"
          ],
          [
           "Rennes",
           15,
           "Public",
           "BAC + 3"
          ],
          [
           "Rennes",
           65,
           "Public",
           "BAC + 2"
          ],
          [
           "Rennes",
           324,
           "Privé",
           null
          ],
          [
           "Rennes",
           52,
           "Privé",
           null
          ],
          [
           "Rennes",
           14,
           "Privé",
           null
          ],
          [
           "Rennes",
           47,
           "Privé",
           null
          ],
          [
           "Rennes",
           77,
           "Privé",
           "BAC + 2"
          ],
          [
           "Rennes",
           18,
           "Public",
           "BAC + 2"
          ],
          [
           "Rennes",
           20,
           "Privé",
           "BAC + 2"
          ],
          [
           "Rennes",
           14,
           "Privé",
           null
          ],
          [
           "Rennes",
           385,
           "Privé",
           null
          ],
          [
           "Rennes",
           383,
           "Privé",
           null
          ],
          [
           "Rennes",
           28,
           "Privé",
           "BAC + 2"
          ],
          [
           "Rennes",
           21,
           "Privé",
           "BAC + 2"
          ],
          [
           "Rennes",
           217,
           "Privé",
           "BAC + 1"
          ],
          [
           "Rennes",
           94,
           "Public",
           null
          ],
          [
           "Rennes",
           426,
           "Privé",
           null
          ],
          [
           "Rennes",
           20,
           "Privé",
           null
          ],
          [
           "Rennes",
           117,
           "Privé",
           "BAC + 3"
          ],
          [
           "Rennes",
           81,
           "Public",
           "BAC + 3"
          ],
          [
           "Rennes",
           14,
           "Privé",
           null
          ],
          [
           "Rennes",
           59,
           "Public",
           "BAC + 4"
          ],
          [
           "Rennes",
           366,
           "Privé",
           null
          ],
          [
           "Rennes",
           24,
           "Public",
           "BAC + 1"
          ],
          [
           "Rennes",
           66,
           "Public",
           "BAC + 2"
          ],
          [
           "Rennes",
           98,
           "Privé",
           null
          ],
          [
           "Rennes",
           313,
           "Public",
           null
          ],
          [
           "Rennes",
           127,
           "Privé",
           "BAC + 2"
          ],
          [
           "Rennes",
           127,
           "Privé",
           "BAC + 2"
          ],
          [
           "Rennes",
           95,
           "Privé",
           "BAC + 3"
          ],
          [
           "Rennes",
           19,
           "Public",
           "BAC + 3"
          ],
          [
           "Rennes",
           45,
           "Privé",
           "Inférieur ou égal au baccalauréat"
          ],
          [
           "Rennes",
           34,
           "Privé",
           "BAC + 3"
          ],
          [
           "Rennes",
           95,
           "Privé",
           "BAC + 4"
          ],
          [
           "Rennes",
           27,
           "Privé",
           "BAC + 1"
          ],
          [
           "Rennes",
           32,
           "Privé",
           "BAC + 5"
          ],
          [
           "Rennes",
           78,
           "Privé",
           "BAC + 2"
          ],
          [
           "Rennes",
           426,
           "Privé",
           null
          ],
          [
           "Rennes",
           108,
           "Privé",
           "BAC + 1"
          ],
          [
           "Rennes",
           451,
           "Privé",
           null
          ],
          [
           "Rennes",
           27,
           "Privé",
           "BAC + 1"
          ],
          [
           "Rennes",
           111,
           "Privé",
           "BAC + 3"
          ],
          [
           "Rennes",
           62,
           "Privé",
           "BAC + 3"
          ],
          [
           "Rennes",
           47,
           "Public",
           "BAC + 5"
          ],
          [
           "Rennes",
           87,
           "Privé",
           "BAC + 5"
          ],
          [
           "Rennes",
           20,
           "Privé",
           "BAC + 1"
          ],
          [
           "Rennes",
           66,
           "Privé",
           null
          ],
          [
           "Rennes",
           27,
           "Privé",
           "BAC + 1"
          ]
         ],
         "hovertemplate": "<b>%{hovertext}</b><br><br>catégorie d'établissement=Écoles supérieures artistiques et culturelles<br>nombre total d’étudiants inscrits hors doubles inscriptions université/CPGE=%{customdata[1]}<br>lat=%{lat}<br>lon=%{lon}<br>Commune=%{customdata[0]}<br>secteur d'établissement=%{customdata[2]}<br>degre_etudes=%{customdata[3]}<extra></extra>",
         "hovertext": [
          "LE PONT SUPERIEUR",
          "ECOLE SUPERIEURE D'ART",
          "ECOLE SUPERIEURE D'ART",
          "ECOLE SUPERIEURE D'ART",
          "E S R A  BRETAGNE",
          "ECOLE SUP ARTS TECHNIQUES MODE",
          "ECOLE TECHNIQUE PRIVEE",
          "LE PONT SUPERIEUR",
          "ECOLE SUPERIEURE D'ART",
          "ECOLE TECHNIQUE PRIVEE",
          "E S R A  BRETAGNE",
          "E S R A  BRETAGNE",
          "E S R A  BRETAGNE",
          "ECOLE SUP ARTS TECHNIQUES MODE",
          "LE PONT SUPERIEUR",
          "ECOLE SUPERIEURE D'ART",
          "ECOLE TECHNIQUE PRIVEE",
          "ECOLE SUPERIEURE D'ART",
          "ECOLE TECHNIQUE PRIVEE",
          "LE PONT SUPERIEUR",
          "ECOLE TECHNIQUE PRIVEE",
          "ECOLE SUP ARTS TECHNIQUES MODE",
          "LE PONT SUPERIEUR",
          "ECOLE SUPERIEURE D'ART",
          "INST SUPERIEUR ARTS APPLIQUES",
          "INST SUPERIEUR ARTS APPLIQUES",
          "POLE D'ENSEIGNEMENT SUPERIEUR",
          "E S R A  BRETAGNE",
          "LE PONT SUPERIEUR",
          "LE PONT SUPERIEUR",
          "ECOLE TECHNIQUE PRIVEE",
          "ECOLE SUPERIEURE D'ART",
          "ECOLE TECHNIQUE PRIVEE",
          "ECOLE SUP. D'ART DRAMATIQUE",
          "E S R A  BRETAGNE",
          "ECOLE SUPERIEURE D'ART",
          "ECOLE SUPERIEURE D'ART",
          "INST SUPERIEUR ARTS APPLIQUES",
          "INST SUPERIEUR ARTS APPLIQUES",
          "ECOLE SUPERIEURE D'ART",
          "ECOLE SUPERIEURE D'ART",
          "ECOLE REGIONALE DES BEAUX-ARTS",
          "POLE D'ENSEIGNEMENT SUPERIEUR",
          "ECOLE SUP. D'ART DRAMATIQUE",
          "LE PONT SUPERIEUR",
          "INST SUPERIEUR ARTS APPLIQUES",
          "LE PONT SUPERIEUR",
          "LE PONT SUPERIEUR",
          "ECOLE SUP ET TECHNIQUE PRIVEE",
          "INST SUPERIEUR ARTS APPLIQUES",
          "E S R A  BRETAGNE",
          "E S R A  BRETAGNE",
          "LE PONT SUPERIEUR",
          "ECOLE SUPERIEURE D'ART",
          "ECOLE SUPERIEURE D'ART",
          "E S R A  BRETAGNE",
          "INST SUPERIEUR ARTS APPLIQUES",
          "E S R A  BRETAGNE",
          "ECOLE TECHNIQUE PRIVEE",
          "ECOLE SUP ARTS TECHNIQUES MODE",
          "LE PONT SUPERIEUR",
          "ECOLE SUPERIEURE D'ART",
          "ECOLE TECHNIQUE PRIVEE",
          "ECOLE SUP ARTS TECHNIQUES MODE",
          "ECOLE SUP. D'ART DRAMATIQUE",
          "ESMOD INTERNATIONAL",
          "ECOLE TECHNIQUE PRIVEE",
          "LE PONT SUPERIEUR",
          "ECOLE SUP. D'ART DRAMATIQUE",
          "ECOLE SUP. D'ART DRAMATIQUE",
          "E S R A  BRETAGNE",
          "INST SUPERIEUR ARTS APPLIQUES",
          "ECOLE SUP ARTS TECHNIQUES MODE",
          "ECOLE SUP. D'ART DRAMATIQUE",
          "ECOLE TECHNIQUE PRIVEE",
          "LE PONT SUPERIEUR",
          "E S R A  BRETAGNE",
          "ECOLE SUP. D'ART DRAMATIQUE",
          "E S R A  BRETAGNE",
          "ECOLE SUPERIEURE D'ART",
          "ECOLE SUP. D'ART DRAMATIQUE",
          "ECOLE SUPERIEURE D'ART",
          "INST SUPERIEUR ARTS APPLIQUES",
          "LE PONT SUPERIEUR",
          "ECOLE SUPERIEURE D'ART",
          "ECOLE SUP ET TECHNIQUE PRIVEE",
          "ECOLE SUPERIEURE D'ART",
          "E S R A  BRETAGNE",
          "INST SUPERIEUR ARTS APPLIQUES",
          "INST SUPERIEUR ARTS APPLIQUES",
          "LE PONT SUPERIEUR",
          "ECOLE TECHNIQUE PRIVEE",
          "ECOLE TECHNIQUE PRIVEE",
          "INST SUPERIEUR ARTS APPLIQUES",
          "ECOLE SUP ARTS TECHNIQUES MODE",
          "INST SUPERIEUR ARTS APPLIQUES",
          "ECOLE TECHNIQUE PRIVEE",
          "INST SUPERIEUR ARTS APPLIQUES",
          "E S R A  BRETAGNE",
          "ECOLE TECHNIQUE PRIVEE",
          "ECOLE SUP ARTS TECHNIQUES MODE",
          "INST SUPERIEUR ARTS APPLIQUES",
          "ECOLE TECHNIQUE PRIVEE",
          "ECOLE SUPERIEURE D'ART",
          "INST SUPERIEUR ARTS APPLIQUES",
          "ECOLE SUP. D'ART DRAMATIQUE",
          "ECOLE SUP ARTS TECHNIQUES MODE",
          "ECOLE SUP ARTS TECHNIQUES MODE"
         ],
         "lat": {
          "bdata": "jg370j4LSEA8hQMFoA5IQDyFAwWgDkhAPIUDBaAOSEDRVvM4eRBIQA/AaWmIDkhAz31flb4OSECODfvSPgtIQDyFAwWgDkhAz31flb4OSEDRVvM4eRBIQNFW8zh5EEhA0VbzOHkQSEAPwGlpiA5IQI4N+9I+C0hAPIUDBaAOSEDPfV+Vvg5IQDyFAwWgDkhAz31flb4OSECODfvSPgtIQM99X5W+DkhAD8BpaYgOSECODfvSPgtIQDyFAwWgDkhAZuVdGOQNSEBm5V0Y5A1IQI4N+9I+C0hA0VbzOHkQSECODfvSPgtIQI4N+9I+C0hAz31flb4OSEA8hQMFoA5IQM99X5W+DkhApIF9wcwNSEDRVvM4eRBIQDyFAwWgDkhAPIUDBaAOSEBm5V0Y5A1IQGblXRjkDUhAPIUDBaAOSEA8hQMFoA5IQLUfkQSgDkhAjg370j4LSECkgX3BzA1IQI4N+9I+C0hAZuVdGOQNSECODfvSPgtIQI4N+9I+C0hAZuVdGOQNSEBm5V0Y5A1IQNFW8zh5EEhA0VbzOHkQSECODfvSPgtIQDyFAwWgDkhAPIUDBaAOSEDRVvM4eRBIQGblXRjkDUhA0VbzOHkQSEDPfV+Vvg5IQA/AaWmIDkhAjg370j4LSEA8hQMFoA5IQM99X5W+DkhAD8BpaYgOSECkgX3BzA1IQA/AaWmIDkhAz31flb4OSECODfvSPgtIQKSBfcHMDUhApIF9wcwNSEDRVvM4eRBIQGblXRjkDUhAD8BpaYgOSECkgX3BzA1IQM99X5W+DkhAjg370j4LSEDRVvM4eRBIQKSBfcHMDUhA0VbzOHkQSEA8hQMFoA5IQKSBfcHMDUhAPIUDBaAOSEBm5V0Y5A1IQI4N+9I+C0hAPIUDBaAOSEBm5V0Y5A1IQDyFAwWgDkhA0VbzOHkQSEBm5V0Y5A1IQGblXRjkDUhAjg370j4LSEDPfV+Vvg5IQM99X5W+DkhAZuVdGOQNSEAPwGlpiA5IQGblXRjkDUhAz31flb4OSEBm5V0Y5A1IQNFW8zh5EEhAz31flb4OSEAPwGlpiA5IQGblXRjkDUhAz31flb4OSEA8hQMFoA5IQGblXRjkDUhApIF9wcwNSEAPwGlpiA5IQA/AaWmIDkhA",
          "dtype": "f8"
         },
         "legendgroup": "Écoles supérieures artistiques et culturelles",
         "lon": {
          "bdata": "BD/O9zeA+r9UTzF2BNb6v1RPMXYE1vq/VE8xdgTW+r8bgrXbU0b6v7GA/hWo+/q/DkXulQ6o+r8EP873N4D6v1RPMXYE1vq/DkXulQ6o+r8bgrXbU0b6vxuCtdtTRvq/G4K121NG+r+xgP4VqPv6vwQ/zvc3gPq/VE8xdgTW+r8ORe6VDqj6v1RPMXYE1vq/DkXulQ6o+r8EP873N4D6vw5F7pUOqPq/sYD+Faj7+r8EP873N4D6v1RPMXYE1vq/5WpcyNPl+r/lalzI0+X6vwQ/zvc3gPq/G4K121NG+r8EP873N4D6vwQ/zvc3gPq/DkXulQ6o+r9UTzF2BNb6vw5F7pUOqPq/oz+yhEHD+r8bgrXbU0b6v1RPMXYE1vq/VE8xdgTW+r/lalzI0+X6v+VqXMjT5fq/VE8xdgTW+r9UTzF2BNb6v23tRN4F1vq/BD/O9zeA+r+jP7KEQcP6vwQ/zvc3gPq/5WpcyNPl+r8EP873N4D6vwQ/zvc3gPq/5WpcyNPl+r/lalzI0+X6vxuCtdtTRvq/G4K121NG+r8EP873N4D6v1RPMXYE1vq/VE8xdgTW+r8bgrXbU0b6v+VqXMjT5fq/G4K121NG+r8ORe6VDqj6v7GA/hWo+/q/BD/O9zeA+r9UTzF2BNb6vw5F7pUOqPq/sYD+Faj7+r+jP7KEQcP6v7GA/hWo+/q/DkXulQ6o+r8EP873N4D6v6M/soRBw/q/oz+yhEHD+r8bgrXbU0b6v+VqXMjT5fq/sYD+Faj7+r+jP7KEQcP6vw5F7pUOqPq/BD/O9zeA+r8bgrXbU0b6v6M/soRBw/q/G4K121NG+r9UTzF2BNb6v6M/soRBw/q/VE8xdgTW+r/lalzI0+X6vwQ/zvc3gPq/VE8xdgTW+r/lalzI0+X6v1RPMXYE1vq/G4K121NG+r/lalzI0+X6v+VqXMjT5fq/BD/O9zeA+r8ORe6VDqj6vw5F7pUOqPq/5WpcyNPl+r+xgP4VqPv6v+VqXMjT5fq/DkXulQ6o+r/lalzI0+X6vxuCtdtTRvq/DkXulQ6o+r+xgP4VqPv6v+VqXMjT5fq/DkXulQ6o+r9UTzF2BNb6v+VqXMjT5fq/oz+yhEHD+r+xgP4VqPv6v7GA/hWo+/q/",
          "dtype": "f8"
         },
         "marker": {
          "color": "#19d3f3",
          "size": {
           "bdata": "EQA+ADQARgGmAT4AVgAdAD8ADACqAVEBXgAcACsAKAAfACEAnAESAEQBLwAeAEoAaABkAH8AYQAJAGUANQA/AOwAFACqASIBIQFeAU0ARgAuABsBZAAUAAUAcgBXAFcADAFhAGEAWQAJADIBUQBrAFQAfwDvABwADwBBAEQBNAAOAC8ATQASABQADgCBAX8BHAAVANkAXgCqARQAdQBRAA4AOwBuARgAQgBiADkBfwB/AF8AEwAtACIAXwAbACAATgCqAWwAwwEbAG8APgAvAFcAFABCABsA",
           "dtype": "i2"
          },
          "sizemode": "area",
          "sizeref": 14.9425
         },
         "mode": "markers",
         "name": "Écoles supérieures artistiques et culturelles",
         "showlegend": true,
         "subplot": "map",
         "type": "scattermap"
        },
        {
         "customdata": [
          [
           "Rennes",
           151,
           "Privé",
           "BAC + 1"
          ],
          [
           "Rennes",
           97,
           "Privé",
           "BAC + 1"
          ],
          [
           "Rennes",
           44,
           "Privé",
           "BAC + 1"
          ],
          [
           "Rennes",
           31,
           "Privé",
           "BAC + 5"
          ],
          [
           "Rennes",
           66,
           "Privé",
           "BAC + 3"
          ],
          [
           "Rennes",
           183,
           "Privé",
           null
          ],
          [
           "Rennes",
           68,
           "Privé",
           null
          ],
          [
           "Rennes",
           56,
           "Privé",
           "BAC + 2"
          ],
          [
           "Rennes",
           98,
           "Privé",
           "BAC + 1"
          ],
          [
           "Rennes",
           139,
           "Privé",
           "BAC + 1"
          ],
          [
           "Rennes",
           94,
           "Privé",
           "BAC + 2"
          ],
          [
           "Rennes",
           1,
           "Privé",
           "BAC + 2"
          ],
          [
           "Rennes",
           30,
           "Public",
           null
          ],
          [
           "Rennes",
           11,
           "Privé",
           "BAC + 1"
          ],
          [
           "Rennes",
           73,
           "Privé",
           "BAC + 1"
          ],
          [
           "Rennes",
           129,
           "Privé",
           null
          ],
          [
           "Rennes",
           204,
           "Privé",
           null
          ],
          [
           "Rennes",
           58,
           "Privé",
           null
          ],
          [
           "Rennes",
           325,
           "Privé",
           null
          ],
          [
           "Rennes",
           74,
           "Privé",
           null
          ],
          [
           "Rennes",
           30,
           "Privé",
           null
          ],
          [
           "Rennes",
           95,
           "Privé",
           null
          ],
          [
           "Rennes",
           75,
           "Privé",
           null
          ],
          [
           "Rennes",
           138,
           "Privé",
           null
          ],
          [
           "Rennes",
           5,
           "Privé",
           null
          ],
          [
           "Rennes",
           66,
           "Privé",
           null
          ],
          [
           "Rennes",
           54,
           "Privé",
           "BAC + 3"
          ],
          [
           "Rennes",
           17,
           "Privé",
           "BAC + 3"
          ],
          [
           "Rennes",
           104,
           "Privé",
           "BAC + 1"
          ],
          [
           "Rennes",
           34,
           "Privé",
           "BAC + 2"
          ],
          [
           "Rennes",
           49,
           "Privé",
           "BAC + 1"
          ],
          [
           "Rennes",
           58,
           "Privé",
           "BAC + 4"
          ],
          [
           "Rennes",
           151,
           "Privé",
           "BAC + 1"
          ],
          [
           "Rennes",
           159,
           "Privé",
           null
          ],
          [
           "Rennes",
           41,
           "Privé",
           "BAC + 2"
          ],
          [
           "Rennes",
           24,
           "Privé",
           "BAC + 5"
          ],
          [
           "Rennes",
           321,
           "Privé",
           null
          ],
          [
           "Rennes",
           29,
           "Privé",
           "BAC + 4"
          ],
          [
           "Rennes",
           111,
           "Privé",
           "BAC + 1"
          ],
          [
           "Rennes",
           16,
           "Privé",
           null
          ],
          [
           "Rennes",
           23,
           "Privé",
           null
          ],
          [
           "Rennes",
           15,
           "Privé",
           null
          ],
          [
           "Rennes",
           9,
           "Privé",
           null
          ],
          [
           "Rennes",
           164,
           "Privé",
           null
          ],
          [
           "Rennes",
           65,
           "Privé",
           "BAC + 1"
          ],
          [
           "Rennes",
           133,
           "Privé",
           null
          ],
          [
           "Rennes",
           26,
           "Privé",
           "BAC + 3"
          ],
          [
           "Rennes",
           34,
           "Privé",
           "BAC + 1"
          ],
          [
           "Rennes",
           53,
           "Privé",
           "BAC + 5"
          ],
          [
           "Rennes",
           81,
           "Privé",
           null
          ],
          [
           "Rennes",
           79,
           "Privé",
           null
          ],
          [
           "Rennes",
           196,
           "Privé",
           null
          ],
          [
           "Rennes",
           2,
           "Privé",
           "BAC + 2"
          ],
          [
           "Rennes",
           68,
           "Privé",
           "BAC + 5"
          ],
          [
           "Rennes",
           62,
           "Privé",
           "BAC + 1"
          ],
          [
           "Rennes",
           196,
           "Privé",
           null
          ],
          [
           "Rennes",
           199,
           "Public",
           null
          ],
          [
           "Rennes",
           27,
           "Privé",
           null
          ],
          [
           "Rennes",
           18,
           "Privé",
           "BAC + 2"
          ],
          [
           "Rennes",
           107,
           "Privé",
           "BAC + 2"
          ],
          [
           "Rennes",
           253,
           "Privé",
           null
          ],
          [
           "Rennes",
           58,
           "Privé",
           "BAC + 1"
          ],
          [
           "Rennes",
           63,
           "Privé",
           "BAC + 4"
          ],
          [
           "Rennes",
           36,
           "Privé",
           "BAC + 3"
          ],
          [
           "Rennes",
           21,
           "Privé",
           null
          ],
          [
           "Rennes",
           151,
           "Privé",
           "BAC + 1"
          ],
          [
           "Rennes",
           33,
           "Privé",
           "BAC + 1"
          ],
          [
           "Rennes",
           94,
           "Privé",
           null
          ],
          [
           "Rennes",
           125,
           "Privé",
           null
          ],
          [
           "Rennes",
           67,
           "Privé",
           null
          ],
          [
           "Rennes",
           201,
           "Public",
           null
          ],
          [
           "Rennes",
           126,
           "Privé",
           null
          ],
          [
           "Rennes",
           290,
           "Privé",
           null
          ],
          [
           "Rennes",
           53,
           "Privé",
           null
          ],
          [
           "Rennes",
           193,
           "Privé",
           null
          ],
          [
           "Rennes",
           40,
           "Privé",
           "BAC + 2"
          ],
          [
           "Rennes",
           60,
           "Privé",
           "BAC + 1"
          ],
          [
           "Rennes",
           36,
           "Privé",
           "BAC + 2"
          ],
          [
           "Rennes",
           24,
           "Privé",
           "BAC + 4"
          ],
          [
           "Rennes",
           53,
           "Privé",
           null
          ],
          [
           "Rennes",
           9,
           "Privé",
           "BAC + 2"
          ],
          [
           "Rennes",
           1,
           "Privé",
           "BAC + 1"
          ],
          [
           "Rennes",
           43,
           "Privé",
           "BAC + 3"
          ],
          [
           "Rennes",
           107,
           "Privé",
           "BAC + 2"
          ],
          [
           "Rennes",
           1,
           "Privé",
           "BAC + 1"
          ],
          [
           "Rennes",
           183,
           "Privé",
           null
          ],
          [
           "Rennes",
           71,
           "Privé",
           null
          ],
          [
           "Rennes",
           41,
           "Privé",
           "BAC + 3"
          ],
          [
           "Rennes",
           11,
           "Privé",
           "BAC + 2"
          ],
          [
           "Rennes",
           25,
           "Privé",
           "BAC + 2"
          ],
          [
           "Rennes",
           53,
           "Privé",
           "BAC + 1"
          ],
          [
           "Rennes",
           91,
           "Privé",
           "BAC + 2"
          ],
          [
           "Rennes",
           20,
           "Privé",
           "BAC + 1"
          ],
          [
           "Rennes",
           25,
           "Privé",
           "BAC + 2"
          ],
          [
           "Rennes",
           337,
           "Privé",
           null
          ],
          [
           "Rennes",
           7,
           "Privé",
           null
          ],
          [
           "Rennes",
           33,
           "Privé",
           "BAC + 4"
          ],
          [
           "Rennes",
           55,
           "Privé",
           "BAC + 2"
          ],
          [
           "Rennes",
           62,
           "Privé",
           "BAC + 2"
          ],
          [
           "Rennes",
           24,
           "Privé",
           "BAC + 5"
          ],
          [
           "Rennes",
           79,
           "Privé",
           "BAC + 4"
          ],
          [
           "Rennes",
           300,
           "Privé",
           null
          ],
          [
           "Rennes",
           84,
           "Privé",
           null
          ],
          [
           "Rennes",
           7,
           "Privé",
           "BAC + 2"
          ],
          [
           "Rennes",
           21,
           "Privé",
           "BAC + 5"
          ],
          [
           "Rennes",
           44,
           "Privé",
           null
          ],
          [
           "Rennes",
           48,
           "Privé",
           "BAC + 1"
          ],
          [
           "Rennes",
           367,
           "Public",
           null
          ],
          [
           "Rennes",
           32,
           "Privé",
           null
          ],
          [
           "Rennes",
           36,
           "Privé",
           "BAC + 2"
          ],
          [
           "Rennes",
           18,
           "Privé",
           "BAC + 4"
          ],
          [
           "Rennes",
           38,
           "Privé",
           "BAC + 2"
          ],
          [
           "Rennes",
           21,
           "Privé",
           "BAC + 5"
          ],
          [
           "Rennes",
           6,
           "Privé",
           "BAC + 1"
          ],
          [
           "Rennes",
           10,
           "Privé",
           null
          ],
          [
           "Rennes",
           198,
           "Privé",
           null
          ],
          [
           "Rennes",
           33,
           "Privé",
           "BAC + 3"
          ],
          [
           "Rennes",
           41,
           "Privé",
           "BAC + 2"
          ],
          [
           "Rennes",
           29,
           "Privé",
           "BAC + 4"
          ],
          [
           "Rennes",
           30,
           "Privé",
           "BAC + 1"
          ],
          [
           "Rennes",
           62,
           "Privé",
           "BAC + 5"
          ],
          [
           "Rennes",
           85,
           "Privé",
           "BAC + 1"
          ]
         ],
         "hovertemplate": "<b>%{hovertext}</b><br><br>catégorie d'établissement=Autres écoles de spécialités diverses<br>nombre total d’étudiants inscrits hors doubles inscriptions université/CPGE=%{customdata[1]}<br>lat=%{lat}<br>lon=%{lon}<br>Commune=%{customdata[0]}<br>secteur d'établissement=%{customdata[2]}<br>degre_etudes=%{customdata[3]}<extra></extra>",
         "hovertext": [
          "INST SUPERIEUR ARTS APPLIQUES",
          "ECOLE TECHNIQUE PRIVEE",
          "INSTITUT SUPERIEUR D'OPTIQUE",
          "ECOLE POUR L'INFORMATIQUE",
          "ECOLE TECH SUP PRIVEE INFORMAT",
          "ECOLE POUR L'INFORMATIQUE",
          "INSTITUT NATIONAL",
          "ECOLE TECH SUP PRIVEE INFORMAT",
          "ECOLE POUR L'INFORMATIQUE",
          "ECOLE TECHNIQUE SUPERIEURE PRI",
          "ECOLE TECHNIQUE PRIVEE",
          "ECOLE SUPERIEURE PRIVEE",
          "ENS CHIMIE RENNES",
          "ETAB SUPERIEUR TECHNIQUE PR",
          "CENTRE DE FORMATION",
          "INST SUPERIEUR ARTS APPLIQUES",
          "ECOLE TECHNIQUE PRIVEE",
          "ECOLE TECHNIQUE PRIVEE",
          "ECOLE TECHNIQUE PRIVEE",
          "INSTITUT NATIONAL",
          "CENTRE DE FORMATION",
          "INSTITUT SUPERIEUR D'OPTIQUE",
          "INSTITUT SUPERIEUR D'OPTIQUE",
          "INST SUPERIEUR ARTS APPLIQUES",
          "CENTRE DE FORMATION",
          "INSTITUT SUPERIEUR D'OPTIQUE",
          "ECOLE POUR L'INFORMATIQUE",
          "ECOLE TECH SUP PRIVEE INFORMAT",
          "ECOLE TECHNIQUE PRIVEE",
          "ECOLE POUR L'INFORMATIQUE",
          "INSTITUT NATIONAL",
          "ECOLE TECH SUP PRIVEE INFORMAT",
          "INST SUPERIEUR ARTS APPLIQUES",
          "ECOLE POUR L'INFORMATIQUE",
          "CENTRE DE FORMATION",
          "ECOLE POUR L'INFORMATIQUE",
          "CTRE PREPA CARR SOC PARAMEDIC",
          "ECOLE POUR L'INFORMATIQUE",
          "ECOLE TECHNIQUE PRIVEE",
          "ECOLE",
          "ECOLE TECHNIQUE PRIVEE",
          "CENTRE DE FORMATION",
          "I R T S",
          "ECOLE POUR L'INFORMATIQUE",
          "ECOLE",
          "ECOLE TECHNIQUE PRIVEE",
          "ECOLE TECH SUP PRIVEE INFORMAT",
          "ECOLE POUR L'INFORMATIQUE",
          "ECOLE TECH SUP PRIVEE INFORMAT",
          "INSTITUT SUPERIEUR D'OPTIQUE",
          "INSTITUT SUPERIEUR D'OPTIQUE",
          "SUP OUEST",
          "CENTRE DE FORMATION",
          "ECOLE TECH SUP PRIVEE INFORMAT",
          "ECOLE POUR L'INFORMATIQUE",
          "ECOLE POUR L'INFORMATIQUE",
          "IS SC AGRO HORT PAYSAGE RENNES",
          null,
          "INSTITUT SUPERIEUR D'OPTIQUE",
          "ECOLE TECHNIQUE PRIVEE",
          "ECOLE TECH SUP PRIVEE INFORMAT",
          "CENTRE DE FORMATION",
          "ECOLE TECH SUP PRIVEE INFORMAT",
          "ECOLE POUR L'INFORMATIQUE",
          "ECOLE TECHNIQUE PRIVEE",
          "INST SUPERIEUR ARTS APPLIQUES",
          "ECOLE TECH SUP PRIVEE INFORMAT",
          null,
          "ECOLE TECHNIQUE PRIVEE",
          "INSTITUT NATIONAL",
          "INST NAT SC APPLIQ RENNES",
          "INST SUPERIEUR ARTS APPLIQUES",
          "ECOLE TECH SUP PRIVEE INFORMAT",
          "ECOLE",
          "ECOLE SUPERIEURE PRIVEE",
          "ECOLE POUR L'INFORMATIQUE",
          "ECOLE",
          "ECOLE TECH SUP PRIVEE INFORMAT",
          "ECOLE POUR L'INFORMATIQUE",
          "ECOLE TECHNIQUE PRIVEE",
          "ETAB SUPERIEUR TECHNIQUE PR",
          "ECOLE SUPERIEURE PRIVEE",
          "ETAB SUPERIEUR TECHNIQUE PR",
          "ECOLE TECHNIQUE PRIVEE",
          "ECOLE SUPERIEURE PRIVEE",
          "CTRE PREPA CARR SOC PARAMEDIC",
          "INSTITUT NATIONAL",
          "ECOLE POUR L'INFORMATIQUE",
          "ETAB SUPERIEUR TECHNIQUE PR",
          "INSTITUT SUPERIEUR D'OPTIQUE",
          "ECOLE TECH SUP PRIVEE INFORMAT",
          "INSTITUT SUPERIEUR D'OPTIQUE",
          "ECOLE TECH SUP PRIVEE INFORMAT",
          "INSTITUT NATIONAL",
          "SUP OUEST",
          "CENTRE DE FORMATION",
          "ECOLE POUR L'INFORMATIQUE",
          "CENTRE DE FORMATION",
          "ECOLE TECHNIQUE SUPERIEURE PRI",
          "ECOLE POUR L'INFORMATIQUE",
          "ECOLE TECH SUP PRIVEE INFORMAT",
          "SUP OUEST",
          "INSTITUT SUPERIEUR D'OPTIQUE",
          "SUP OUEST",
          "ETAB SUPERIEUR TECHNIQUE PR",
          "ECOLE",
          "INSTITUT SUPERIEUR D'OPTIQUE",
          "EC HTES ETUD SANTE PUB RENNES",
          "CENTRE DE FORMATION",
          "INSTITUT NATIONAL",
          "ETAB SUPERIEUR TECHNIQUE PR",
          "ECOLE TECH SUP PRIVEE INFORMAT",
          "ETAB SUPERIEUR TECHNIQUE PR",
          "ETAB SUPERIEUR TECHNIQUE PR",
          "ECOLE",
          "SUP OUEST",
          "ETAB SUPERIEUR TECHNIQUE PR",
          "ECOLE POUR L'INFORMATIQUE",
          "ETAB SUPERIEUR TECHNIQUE PR",
          "INSTITUT NATIONAL",
          "ECOLE TECH SUP PRIVEE INFORMAT",
          "INSTITUT SUPERIEUR D'OPTIQUE"
         ],
         "lat": {
          "bdata": "ZuVdGOQNSECk5OSRcwxIQDXEbINdDUhAmFd8tD4NSEBEdizVgg1IQJhXfLQ+DUhAdK5sv1YNSEBEdizVgg1IQJhXfLQ+DUhAu2nU80INSECk5OSRcwxIQLqCm8peDUhAofhwciQPSEBlzPc84BBIQAoDV/cjDEhAZuVdGOQNSECk5OSRcwxIQHSubL9WDUhAz31flb4OSEB0rmy/Vg1IQAoDV/cjDEhANcRsg10NSEA1xGyDXQ1IQGblXRjkDUhACgNX9yMMSEA1xGyDXQ1IQJhXfLQ+DUhARHYs1YINSECk5OSRcwxIQJhXfLQ+DUhAdK5sv1YNSEBEdizVgg1IQGblXRjkDUhAmFd8tD4NSEAKA1f3IwxIQJhXfLQ+DUhA1PiKUHgQSECYV3y0Pg1IQKTk5JFzDEhAM2fGFXIOSECk5OSRcwxIQAoDV/cjDEhAfA4F3RgQSECYV3y0Pg1IQDNnxhVyDkhAd4aSQm0OSEBEdizVgg1IQJhXfLQ+DUhARHYs1YINSEA1xGyDXQ1IQDXEbINdDUhAaD7h6aELSEAKA1f3IwxIQER2LNWCDUhAmFd8tD4NSECYV3y0Pg1IQII8NNN1DkhAaD7h6aELSEA1xGyDXQ1IQKTk5JFzDEhARHYs1YINSEAKA1f3IwxIQER2LNWCDUhAmFd8tD4NSECk5OSRcwxIQGblXRjkDUhARHYs1YINSECk5OSRcwxIQHeGkkJtDkhAdK5sv1YNSEAp4k/vjw9IQGblXRjkDUhARHYs1YINSEAzZ8YVcg5IQJd6emThC0hAmFd8tD4NSEAzZ8YVcg5IQER2LNWCDUhAmFd8tD4NSEB0rmy/Vg1IQGXM9zzgEEhAuoKbyl4NSEBlzPc84BBIQKTk5JFzDEhAuoKbyl4NSEDU+IpQeBBIQHSubL9WDUhAmFd8tD4NSEBlzPc84BBIQDXEbINdDUhARHYs1YINSEA1xGyDXQ1IQER2LNWCDUhAdK5sv1YNSEBoPuHpoQtIQAoDV/cjDEhAmFd8tD4NSEAKA1f3IwxIQLtp1PNCDUhAmFd8tD4NSEBEdizVgg1IQGg+4emhC0hANcRsg10NSEBoPuHpoQtIQGXM9zzgEEhAM2fGFXIOSEA1xGyDXQ1IQOF6dWXkDkhACgNX9yMMSEB0rmy/Vg1IQGXM9zzgEEhARHYs1YINSEBlzPc84BBIQGXM9zzgEEhAM2fGFXIOSEBoPuHpoQtIQGXM9zzgEEhAmFd8tD4NSEBlzPc84BBIQHSubL9WDUhARHYs1YINSEA1xGyDXQ1IQA==",
          "dtype": "f8"
         },
         "legendgroup": "Autres écoles de spécialités diverses",
         "lon": {
          "bdata": "5WpcyNPl+r/iRrFXxhH6v3s2Hhj7uvq/26BOBEYI+7+aCn/8JNz6v9ugTgRGCPu/tBGv9Sj5+r+aCn/8JNz6v9ugTgRGCPu/1YpenL7o+r/iRrFXxhH6vx6aDkET0Pq/gywO8t8h+r8XPcmG6E37vzpPBMy0Jvq/5WpcyNPl+r/iRrFXxhH6v7QRr/Uo+fq/DkXulQ6o+r+0Ea/1KPn6vzpPBMy0Jvq/ezYeGPu6+r97Nh4Y+7r6v+VqXMjT5fq/Ok8EzLQm+r97Nh4Y+7r6v9ugTgRGCPu/mgp//CTc+r/iRrFXxhH6v9ugTgRGCPu/tBGv9Sj5+r+aCn/8JNz6v+VqXMjT5fq/26BOBEYI+786TwTMtCb6v9ugTgRGCPu/izJQLyVb+7/boE4ERgj7v+JGsVfGEfq/1EVr+u2U+r/iRrFXxhH6vzpPBMy0Jvq/DqkZVeQ4+7/boE4ERgj7v9RFa/rtlPq/SsxCkCsC+7+aCn/8JNz6v9ugTgRGCPu/mgp//CTc+r97Nh4Y+7r6v3s2Hhj7uvq/pYo6znkZ+r86TwTMtCb6v5oKf/wk3Pq/26BOBEYI+7/boE4ERgj7v4cNcWMyRPu/pYo6znkZ+r97Nh4Y+7r6v+JGsVfGEfq/mgp//CTc+r86TwTMtCb6v5oKf/wk3Pq/26BOBEYI+7/iRrFXxhH6v+VqXMjT5fq/mgp//CTc+r/iRrFXxhH6v0rMQpArAvu/tBGv9Sj5+r+xrIfVpCD6v+VqXMjT5fq/mgp//CTc+r/URWv67ZT6v1mL0ceVRPu/26BOBEYI+7/URWv67ZT6v5oKf/wk3Pq/26BOBEYI+7+0Ea/1KPn6vxc9yYboTfu/HpoOQRPQ+r8XPcmG6E37v+JGsVfGEfq/HpoOQRPQ+r+LMlAvJVv7v7QRr/Uo+fq/26BOBEYI+78XPcmG6E37v3s2Hhj7uvq/mgp//CTc+r97Nh4Y+7r6v5oKf/wk3Pq/tBGv9Sj5+r+lijrOeRn6vzpPBMy0Jvq/26BOBEYI+786TwTMtCb6v9WKXpy+6Pq/26BOBEYI+7+aCn/8JNz6v6WKOs55Gfq/ezYeGPu6+r+lijrOeRn6vxc9yYboTfu/1EVr+u2U+r97Nh4Y+7r6v4ghM17dPPu/Ok8EzLQm+r+0Ea/1KPn6vxc9yYboTfu/mgp//CTc+r8XPcmG6E37vxc9yYboTfu/1EVr+u2U+r+lijrOeRn6vxc9yYboTfu/26BOBEYI+78XPcmG6E37v7QRr/Uo+fq/mgp//CTc+r97Nh4Y+7r6vw==",
          "dtype": "f8"
         },
         "marker": {
          "color": "#FF6692",
          "size": {
           "bdata": "lwBhACwAHwBCALcARAA4AGIAiwBeAAEAHgALAEkAgQDMADoARQFKAB4AXwBLAIoABQBCADYAEQBoACIAMQA6AJcAnwApABgAQQEdAG8AEAAXAA8ACQCkAEEAhQAaACIANQBRAE8AxAACAEQAPgDEAMcAGwASAGsA/QA6AD8AJAAVAJcAIQBeAH0AQwDJAH4AIgE1AMEAKAA8ACQAGAA1AAkAAQArAGsAAQC3AEcAKQALABkANQBbABQAGQBRAQcAIQA3AD4AGABPACwBVAAHABUALAAwAG8BIAAkABIAJgAVAAYACgDGACEAKQAdAB4APgBVAA==",
           "dtype": "i2"
          },
          "sizemode": "area",
          "sizeref": 14.9425
         },
         "mode": "markers",
         "name": "Autres écoles de spécialités diverses",
         "showlegend": true,
         "subplot": "map",
         "type": "scattermap"
        },
        {
         "customdata": [
          [
           "Rennes",
           91,
           "Public",
           null
          ],
          [
           "Rennes",
           100,
           "Public",
           null
          ],
          [
           "Rennes",
           44,
           "Public",
           null
          ],
          [
           "Rennes",
           50,
           "Public",
           null
          ]
         ],
         "hovertemplate": "<b>%{hovertext}</b><br><br>catégorie d'établissement=Écoles normales supérieures<br>nombre total d’étudiants inscrits hors doubles inscriptions université/CPGE=%{customdata[1]}<br>lat=%{lat}<br>lon=%{lon}<br>Commune=%{customdata[0]}<br>secteur d'établissement=%{customdata[2]}<br>degre_etudes=%{customdata[3]}<extra></extra>",
         "hovertext": [
          "ECOLE NORMALE SUP RENNES",
          "ECOLE NORMALE SUP RENNES",
          "ECOLE NORMALE SUP RENNES",
          "ECOLE NORMALE SUP RENNES"
         ],
         "lat": {
          "bdata": "77DAkpsOSEA9iP4qGQ9IQO+wwJKbDkhA77DAkpsOSEA=",
          "dtype": "f8"
         },
         "legendgroup": "Écoles normales supérieures",
         "lon": {
          "bdata": "hux81Poz+r+s9ANZLLf6v4bsfNT6M/q/hux81Poz+r8=",
          "dtype": "f8"
         },
         "marker": {
          "color": "#B6E880",
          "size": {
           "bdata": "W2QsMg==",
           "dtype": "i1"
          },
          "sizemode": "area",
          "sizeref": 14.9425
         },
         "mode": "markers",
         "name": "Écoles normales supérieures",
         "showlegend": true,
         "subplot": "map",
         "type": "scattermap"
        },
        {
         "customdata": [
          [
           "Rennes",
           98,
           "Privé",
           "BAC + 4"
          ],
          [
           "Rennes",
           572,
           "Privé",
           null
          ],
          [
           "Rennes",
           565,
           "Privé",
           null
          ],
          [
           "Rennes",
           307,
           "Public",
           "BAC + 1"
          ],
          [
           "Rennes",
           558,
           "Privé",
           null
          ],
          [
           "Rennes",
           210,
           "Privé",
           "BAC + 2"
          ],
          [
           "Rennes",
           632,
           "Public",
           null
          ],
          [
           "Rennes",
           85,
           "Privé",
           "BAC + 4"
          ],
          [
           "Rennes",
           221,
           "Privé",
           "BAC + 3"
          ],
          [
           "Rennes",
           205,
           "Privé",
           "BAC + 3"
          ],
          [
           "Rennes",
           113,
           "Public",
           "BAC + 1"
          ],
          [
           "Rennes",
           116,
           "Public",
           "BAC + 3"
          ],
          [
           "Rennes",
           110,
           "Public",
           "BAC + 1"
          ],
          [
           "Rennes",
           631,
           "Public",
           null
          ],
          [
           "Rennes",
           255,
           "Public",
           null
          ],
          [
           "Rennes",
           612,
           "Public",
           null
          ],
          [
           "Rennes",
           283,
           "Public",
           null
          ],
          [
           "Rennes",
           116,
           "Public",
           "BAC + 3"
          ],
          [
           "Rennes",
           213,
           "Privé",
           "BAC + 1"
          ],
          [
           "Rennes",
           110,
           "Public",
           "BAC + 1"
          ],
          [
           "Rennes",
           246,
           "Public",
           "BAC + 2"
          ],
          [
           "Rennes",
           210,
           "Privé",
           "BAC + 2"
          ],
          [
           "Rennes",
           630,
           "Public",
           null
          ],
          [
           "Rennes",
           116,
           "Public",
           "BAC + 2"
          ],
          [
           "Rennes",
           203,
           "Privé",
           "BAC + 2"
          ],
          [
           "Rennes",
           727,
           "Privé",
           null
          ],
          [
           "Rennes",
           627,
           "Public",
           null
          ],
          [
           "Rennes",
           257,
           "Public",
           null
          ],
          [
           "Rennes",
           205,
           "Privé",
           "BAC + 3"
          ],
          [
           "Rennes",
           718,
           "Privé",
           null
          ],
          [
           "Rennes",
           659,
           "Public",
           null
          ],
          [
           "Rennes",
           692,
           "Privé",
           null
          ],
          [
           "Rennes",
           182,
           "Public",
           "BAC + 3"
          ],
          [
           "Rennes",
           214,
           "Privé",
           "BAC + 1"
          ],
          [
           "Rennes",
           191,
           "Public",
           "BAC + 3"
          ],
          [
           "Rennes",
           265,
           "Public",
           null
          ],
          [
           "Rennes",
           110,
           "Public",
           "BAC + 2"
          ],
          [
           "Rennes",
           315,
           "Public",
           "BAC + 1"
          ],
          [
           "Rennes",
           246,
           "Public",
           "BAC + 2"
          ],
          [
           "Rennes",
           103,
           "Public",
           "BAC + 3"
          ],
          [
           "Rennes",
           182,
           "Public",
           "BAC + 3"
          ],
          [
           "Rennes",
           315,
           "Public",
           "BAC + 1"
          ],
          [
           "Rennes",
           239,
           "Public",
           "BAC + 2"
          ],
          [
           "Rennes",
           213,
           "Privé",
           "BAC + 1"
          ],
          [
           "Rennes",
           261,
           "Public",
           null
          ],
          [
           "Rennes",
           265,
           "Public",
           null
          ],
          [
           "Rennes",
           98,
           "Privé",
           "BAC + 4"
          ],
          [
           "Rennes",
           116,
           "Public",
           "BAC + 2"
          ]
         ],
         "hovertemplate": "<b>%{hovertext}</b><br><br>catégorie d'établissement=Écoles paramédicales hors université<br>nombre total d’étudiants inscrits hors doubles inscriptions université/CPGE=%{customdata[1]}<br>lat=%{lat}<br>lon=%{lon}<br>Commune=%{customdata[0]}<br>secteur d'établissement=%{customdata[2]}<br>degre_etudes=%{customdata[3]}<extra></extra>",
         "hovertext": [
          "INST FORM MASSO-KINESITHERAPIE",
          "INST FORM MASSO-KINESITHERAPIE",
          "INST FORM MASSO-KINESITHERAPIE",
          "CENTRES FORM METIERS SANTE",
          "INST FORM MASSO-KINESITHERAPIE",
          "INST FORM MASSO-KINESITHERAPIE",
          "CENTRES FORM METIERS SANTE",
          "INST FORM MASSO-KINESITHERAPIE",
          "INST FORM MASSO-KINESITHERAPIE",
          "INST FORM MASSO-KINESITHERAPIE",
          "CENTRES FORM METIERS SANTE",
          "CENTRES FORM METIERS SANTE",
          "CENTRES FORM METIERS SANTE",
          "CENTRES FORM METIERS SANTE",
          "CENTRES FORM METIERS SANTE",
          "CENTRES FORM METIERS SANTE",
          "CENTRES FORM METIERS SANTE",
          "CENTRES FORM METIERS SANTE",
          "INST FORM MASSO-KINESITHERAPIE",
          "CENTRES FORM METIERS SANTE",
          "CENTRES FORM METIERS SANTE",
          "INST FORM MASSO-KINESITHERAPIE",
          "CENTRES FORM METIERS SANTE",
          "CENTRES FORM METIERS SANTE",
          "INST FORM MASSO-KINESITHERAPIE",
          "INST FORM MASSO-KINESITHERAPIE",
          "CENTRES FORM METIERS SANTE",
          "CENTRES FORM METIERS SANTE",
          "INST FORM MASSO-KINESITHERAPIE",
          "INST FORM MASSO-KINESITHERAPIE",
          "CENTRES FORM METIERS SANTE",
          "INST FORM MASSO-KINESITHERAPIE",
          "CENTRES FORM METIERS SANTE",
          "INST FORM MASSO-KINESITHERAPIE",
          "CENTRES FORM METIERS SANTE",
          "CENTRES FORM METIERS SANTE",
          "CENTRES FORM METIERS SANTE",
          "CENTRES FORM METIERS SANTE",
          "CENTRES FORM METIERS SANTE",
          "CENTRES FORM METIERS SANTE",
          "CENTRES FORM METIERS SANTE",
          "CENTRES FORM METIERS SANTE",
          "CENTRES FORM METIERS SANTE",
          "INST FORM MASSO-KINESITHERAPIE",
          "CENTRES FORM METIERS SANTE",
          "CENTRES FORM METIERS SANTE",
          "INST FORM MASSO-KINESITHERAPIE",
          "CENTRES FORM METIERS SANTE"
         ],
         "lat": {
          "bdata": "wSX4q/gPSEDBJfir+A9IQMEl+Kv4D0hA1y+FavIOSEDBJfir+A9IQMEl+Kv4D0hA1y+FavIOSEDBJfir+A9IQMEl+Kv4D0hAwSX4q/gPSEAcbwe8wg5IQBxvB7zCDkhAHG8HvMIOSEDXL4Vq8g5IQBxvB7zCDkhA1y+FavIOSEAcbwe8wg5IQBxvB7zCDkhAwSX4q/gPSEAcbwe8wg5IQNcvhWryDkhAwSX4q/gPSEDXL4Vq8g5IQBxvB7zCDkhAwSX4q/gPSEDBJfir+A9IQNcvhWryDkhAHG8HvMIOSEDBJfir+A9IQMEl+Kv4D0hA1y+FavIOSEDBJfir+A9IQNcvhWryDkhAwSX4q/gPSEDXL4Vq8g5IQBxvB7zCDkhAHG8HvMIOSEDXL4Vq8g5IQNcvhWryDkhAHG8HvMIOSEDXL4Vq8g5IQNcvhWryDkhA1y+FavIOSEDBJfir+A9IQBxvB7zCDkhAHG8HvMIOSEDBJfir+A9IQBxvB7zCDkhA",
          "dtype": "f8"
         },
         "legendgroup": "Écoles paramédicales hors université",
         "lon": {
          "bdata": "5Rffx/Qt+7/lF9/H9C37v+UX38f0Lfu/8BsHE+Ah+7/lF9/H9C37v+UX38f0Lfu/8BsHE+Ah+7/lF9/H9C37v+UX38f0Lfu/5Rffx/Qt+79eTYLZFjf6v15NgtkWN/q/Xk2C2RY3+r/wGwcT4CH7v15NgtkWN/q/8BsHE+Ah+79eTYLZFjf6v15NgtkWN/q/5Rffx/Qt+79eTYLZFjf6v/AbBxPgIfu/5Rffx/Qt+7/wGwcT4CH7v15NgtkWN/q/5Rffx/Qt+7/lF9/H9C37v/AbBxPgIfu/Xk2C2RY3+r/lF9/H9C37v+UX38f0Lfu/8BsHE+Ah+7/lF9/H9C37v/AbBxPgIfu/5Rffx/Qt+7/wGwcT4CH7v15NgtkWN/q/Xk2C2RY3+r/wGwcT4CH7v/AbBxPgIfu/Xk2C2RY3+r/wGwcT4CH7v/AbBxPgIfu/8BsHE+Ah+7/lF9/H9C37v15NgtkWN/q/Xk2C2RY3+r/lF9/H9C37v15NgtkWN/q/",
          "dtype": "f8"
         },
         "marker": {
          "color": "#FF97FF",
          "size": {
           "bdata": "YgA8AjUCMwEuAtIAeAJVAN0AzQBxAHQAbgB3Av8AZAIbAXQA1QBuAPYA0gB2AnQAywDXAnMCAQHNAM4CkwK0ArYA1gC/AAkBbgA7AfYAZwC2ADsB7wDVAAUBCQFiAHQA",
           "dtype": "i2"
          },
          "sizemode": "area",
          "sizeref": 14.9425
         },
         "mode": "markers",
         "name": "Écoles paramédicales hors université",
         "showlegend": true,
         "subplot": "map",
         "type": "scattermap"
        },
        {
         "customdata": [
          [
           "Rennes",
           355,
           "Public",
           null
          ],
          [
           "Rennes",
           105,
           "Public",
           "BAC + 4"
          ],
          [
           "Rennes",
           229,
           "Public",
           "BAC + 5"
          ],
          [
           "Rennes",
           276,
           "Public",
           "BAC + 5"
          ],
          [
           "Rennes",
           118,
           "Privé",
           "BAC + 5"
          ],
          [
           "Rennes",
           437,
           "Public",
           null
          ],
          [
           "Rennes",
           88,
           "Privé",
           "BAC + 1"
          ],
          [
           "Rennes",
           51,
           "Public",
           "BAC + 6 et plus"
          ],
          [
           "Rennes",
           24,
           "Public",
           "BAC + 3"
          ],
          [
           "Rennes",
           22,
           "Public",
           "BAC + 3"
          ],
          [
           "Rennes",
           53,
           "Public",
           "BAC + 6 et plus"
          ],
          [
           "Rennes",
           103,
           "Public",
           "BAC + 4"
          ],
          [
           "Rennes",
           252,
           "Public",
           "BAC + 5"
          ],
          [
           "Rennes",
           54,
           "Public",
           "BAC + 6 et plus"
          ],
          [
           "Rennes",
           119,
           "Privé",
           "BAC + 4"
          ],
          [
           "Rennes",
           68,
           "Public",
           "BAC + 4"
          ]
         ],
         "hovertemplate": "<b>%{hovertext}</b><br><br>catégorie d'établissement=Autre établissements d'enseignement universitaire<br>nombre total d’étudiants inscrits hors doubles inscriptions université/CPGE=%{customdata[1]}<br>lat=%{lat}<br>lon=%{lon}<br>Commune=%{customdata[0]}<br>secteur d'établissement=%{customdata[2]}<br>degre_etudes=%{customdata[3]}<extra></extra>",
         "hovertext": [
          "EC HTES ETUD SANTE PUB RENNES",
          "EC HTES ETUD SANTE PUB RENNES",
          "EC HTES ETUD SANTE PUB RENNES",
          "EC HTES ETUD SANTE PUB RENNES",
          "FACULTES LIBRES DE L'OUEST",
          "EC HTES ETUD SANTE PUB RENNES",
          "FACULTES LIBRES DE L'OUEST",
          "EC HTES ETUD SANTE PUB RENNES",
          "EC HTES ETUD SANTE PUB RENNES",
          "EC HTES ETUD SANTE PUB RENNES",
          "EC HTES ETUD SANTE PUB RENNES",
          "EC HTES ETUD SANTE PUB RENNES",
          "EC HTES ETUD SANTE PUB RENNES",
          "EC HTES ETUD SANTE PUB RENNES",
          "FACULTES LIBRES DE L'OUEST",
          "EC HTES ETUD SANTE PUB RENNES"
         ],
         "lat": {
          "bdata": "4Xp1ZeQOSEDhenVl5A5IQOF6dWXkDkhA4Xp1ZeQOSEAEviuSExBIQOF6dWXkDkhABL4rkhMQSEDhenVl5A5IQOF6dWXkDkhA4Xp1ZeQOSEDhenVl5A5IQOF6dWXkDkhA4Xp1ZeQOSEDhenVl5A5IQAS+K5ITEEhA4Xp1ZeQOSEA=",
          "dtype": "f8"
         },
         "legendgroup": "Autre établissements d'enseignement universitaire",
         "lon": {
          "bdata": "iCEzXt08+7+IITNe3Tz7v4ghM17dPPu/iCEzXt08+79jpIIchaX6v4ghM17dPPu/Y6SCHIWl+r+IITNe3Tz7v4ghM17dPPu/iCEzXt08+7+IITNe3Tz7v4ghM17dPPu/iCEzXt08+7+IITNe3Tz7v2OkghyFpfq/iCEzXt08+78=",
          "dtype": "f8"
         },
         "marker": {
          "color": "#FECB52",
          "size": {
           "bdata": "YwFpAOUAFAF2ALUBWAAzABgAFgA1AGcA/AA2AHcARAA=",
           "dtype": "i2"
          },
          "sizemode": "area",
          "sizeref": 14.9425
         },
         "mode": "markers",
         "name": "Autre établissements d'enseignement universitaire",
         "showlegend": true,
         "subplot": "map",
         "type": "scattermap"
        },
        {
         "customdata": [
          [
           "Rennes",
           201,
           "Privé",
           "BAC + 2"
          ],
          [
           "Rennes",
           343,
           "Privé",
           "BAC + 1"
          ],
          [
           "Rennes",
           11,
           "Privé",
           null
          ],
          [
           "Rennes",
           343,
           "Privé",
           "BAC + 1"
          ],
          [
           "Rennes",
           181,
           "Privé",
           "BAC + 3"
          ],
          [
           "Rennes",
           756,
           "Privé",
           null
          ],
          [
           "Rennes",
           4,
           "Privé",
           "BAC + 1"
          ],
          [
           "Rennes",
           534,
           "Privé",
           null
          ],
          [
           "Rennes",
           758,
           "Privé",
           null
          ],
          [
           "Rennes",
           23,
           "Public",
           null
          ],
          [
           "Rennes",
           248,
           "Privé",
           "BAC + 3"
          ],
          [
           "Rennes",
           213,
           "Privé",
           "BAC + 2"
          ],
          [
           "Rennes",
           766,
           "Privé",
           null
          ],
          [
           "Rennes",
           181,
           "Privé",
           "BAC + 3"
          ],
          [
           "Rennes",
           213,
           "Privé",
           "BAC + 2"
          ],
          [
           "Rennes",
           750,
           "Privé",
           null
          ],
          [
           "Rennes",
           851,
           "Privé",
           null
          ],
          [
           "Rennes",
           10,
           "Privé",
           null
          ],
          [
           "Rennes",
           314,
           "Privé",
           "BAC + 1"
          ]
         ],
         "hovertemplate": "<b>%{hovertext}</b><br><br>catégorie d'établissement=Écoles préparant aux fonctions sociales<br>nombre total d’étudiants inscrits hors doubles inscriptions université/CPGE=%{customdata[1]}<br>lat=%{lat}<br>lon=%{lon}<br>Commune=%{customdata[0]}<br>secteur d'établissement=%{customdata[2]}<br>degre_etudes=%{customdata[3]}<extra></extra>",
         "hovertext": [
          "ECOLE DES METIERS SANITAIRES E",
          "ECOLE DES METIERS SANITAIRES E",
          "COLLEGE COOPERATIF EN BRETAGNE",
          "ECOLE DES METIERS SANITAIRES E",
          "ECOLE DES METIERS SANITAIRES E",
          "I R T S",
          "COLLEGE COOPERATIF EN BRETAGNE",
          "I R T S",
          "ECOLE DES METIERS SANITAIRES E",
          "ECOLE ASSISTANT SERVICE SOCIAL",
          "ECOLE DES METIERS SANITAIRES E",
          "ECOLE DES METIERS SANITAIRES E",
          "ECOLE DES METIERS SANITAIRES E",
          "ECOLE DES METIERS SANITAIRES E",
          "ECOLE DES METIERS SANITAIRES E",
          "ECOLE DES METIERS SANITAIRES E",
          "ECOLE DES METIERS SANITAIRES E",
          "COLLEGE COOPERATIF EN BRETAGNE",
          "ECOLE DES METIERS SANITAIRES E"
         ],
         "lat": {
          "bdata": "fA4F3RgQSEB8DgXdGBBIQOYmfzcdEEhAfA4F3RgQSEB8DgXdGBBIQHwOBd0YEEhA5iZ/Nx0QSEB8DgXdGBBIQHwOBd0YEEhAEDh0fRUQSEB8DgXdGBBIQHwOBd0YEEhAfA4F3RgQSEB8DgXdGBBIQHwOBd0YEEhAfA4F3RgQSEB8DgXdGBBIQOYmfzcdEEhAfA4F3RgQSEA=",
          "dtype": "f8"
         },
         "legendgroup": "Écoles préparant aux fonctions sociales",
         "lon": {
          "bdata": "DqkZVeQ4+78OqRlV5Dj7v9VifSWVH/u/DqkZVeQ4+78OqRlV5Dj7vw6pGVXkOPu/1WJ9JZUf+78OqRlV5Dj7vw6pGVXkOPu/6oA+w+Ax+78OqRlV5Dj7vw6pGVXkOPu/DqkZVeQ4+78OqRlV5Dj7vw6pGVXkOPu/DqkZVeQ4+78OqRlV5Dj7v9VifSWVH/u/DqkZVeQ4+78=",
          "dtype": "f8"
         },
         "marker": {
          "color": "#636efa",
          "size": {
           "bdata": "yQBXAQsAVwG1APQCBAAWAvYCFwD4ANUA/gK1ANUA7gJTAwoAOgE=",
           "dtype": "i2"
          },
          "sizemode": "area",
          "sizeref": 14.9425
         },
         "mode": "markers",
         "name": "Écoles préparant aux fonctions sociales",
         "showlegend": true,
         "subplot": "map",
         "type": "scattermap"
        },
        {
         "customdata": [
          [
           "Rennes",
           56,
           "Privé",
           "BAC + 2"
          ],
          [
           "Rennes",
           68,
           "Privé",
           null
          ],
          [
           "Rennes",
           76,
           "Privé",
           "BAC + 1"
          ],
          [
           "Rennes",
           69,
           "Privé",
           null
          ],
          [
           "Rennes",
           65,
           "Privé",
           null
          ],
          [
           "Rennes",
           61,
           "Privé",
           null
          ]
         ],
         "hovertemplate": "<b>%{hovertext}</b><br><br>catégorie d'établissement=Écoles juridiques et administratives<br>nombre total d’étudiants inscrits hors doubles inscriptions université/CPGE=%{customdata[1]}<br>lat=%{lat}<br>lon=%{lon}<br>Commune=%{customdata[0]}<br>secteur d'établissement=%{customdata[2]}<br>degre_etudes=%{customdata[3]}<extra></extra>",
         "hovertext": [
          "INSTITUT NATIONAL",
          "C F P N",
          "INSTITUT NATIONAL",
          "C F P N",
          "C F P N",
          "C F P N"
         ],
         "lat": {
          "bdata": "dK5sv1YNSECt/w2lXQ1IQHSubL9WDUhArf8NpV0NSECt/w2lXQ1IQK3/DaVdDUhA",
          "dtype": "f8"
         },
         "legendgroup": "Écoles juridiques et administratives",
         "lon": {
          "bdata": "tBGv9Sj5+r94k4n2dvj6v7QRr/Uo+fq/eJOJ9nb4+r94k4n2dvj6v3iTifZ2+Pq/",
          "dtype": "f8"
         },
         "marker": {
          "color": "#EF553B",
          "size": {
           "bdata": "OERMRUE9",
           "dtype": "i1"
          },
          "sizemode": "area",
          "sizeref": 14.9425
         },
         "mode": "markers",
         "name": "Écoles juridiques et administratives",
         "showlegend": true,
         "subplot": "map",
         "type": "scattermap"
        },
        {
         "customdata": [
          [
           "Rennes",
           25,
           "Privé",
           "BAC + 3"
          ],
          [
           "Rennes",
           42,
           "Privé",
           "BAC + 2"
          ],
          [
           "Rennes",
           47,
           "Privé",
           "BAC + 1"
          ]
         ],
         "hovertemplate": "<b>%{hovertext}</b><br><br>catégorie d'établissement=Écoles de journalisme et écoles littéraires<br>nombre total d’étudiants inscrits hors doubles inscriptions université/CPGE=%{customdata[1]}<br>lat=%{lat}<br>lon=%{lon}<br>Commune=%{customdata[0]}<br>secteur d'établissement=%{customdata[2]}<br>degre_etudes=%{customdata[3]}<extra></extra>",
         "hovertext": [
          "ECOLE SUPERIEURE TECHNIQUE PRI",
          "ECOLE SUPERIEURE TECHNIQUE PRI",
          "ECOLE SUPERIEURE TECHNIQUE PRI"
         ],
         "lat": {
          "bdata": "iHyXQx0OSECIfJdDHQ5IQIh8l0MdDkhA",
          "dtype": "f8"
         },
         "legendgroup": "Écoles de journalisme et écoles littéraires",
         "lon": {
          "bdata": "hxt4mWqi+r+HG3iZaqL6v4cbeJlqovq/",
          "dtype": "f8"
         },
         "marker": {
          "color": "#00cc96",
          "size": {
           "bdata": "GSov",
           "dtype": "i1"
          },
          "sizemode": "area",
          "sizeref": 14.9425
         },
         "mode": "markers",
         "name": "Écoles de journalisme et écoles littéraires",
         "showlegend": true,
         "subplot": "map",
         "type": "scattermap"
        }
       ],
       "layout": {
        "height": 600,
        "legend": {
         "itemsizing": "constant",
         "title": {
          "text": "catégorie d'établissement"
         },
         "tracegroupgap": 0
        },
        "map": {
         "center": {
          "lat": 48.117,
          "lon": -1.677
         },
         "domain": {
          "x": [
           0,
           1
          ],
          "y": [
           0,
           1
          ]
         },
         "zoom": 12
        },
        "mapbox": {
         "center": {
          "lat": 48.117,
          "lon": -1.677
         },
         "style": "open-street-map",
         "zoom": 12
        },
        "margin": {
         "b": 0,
         "l": 0,
         "r": 0,
         "t": 50
        },
        "template": {
         "data": {
          "bar": [
           {
            "error_x": {
             "color": "#2a3f5f"
            },
            "error_y": {
             "color": "#2a3f5f"
            },
            "marker": {
             "line": {
              "color": "#E5ECF6",
              "width": 0.5
             },
             "pattern": {
              "fillmode": "overlay",
              "size": 10,
              "solidity": 0.2
             }
            },
            "type": "bar"
           }
          ],
          "barpolar": [
           {
            "marker": {
             "line": {
              "color": "#E5ECF6",
              "width": 0.5
             },
             "pattern": {
              "fillmode": "overlay",
              "size": 10,
              "solidity": 0.2
             }
            },
            "type": "barpolar"
           }
          ],
          "carpet": [
           {
            "aaxis": {
             "endlinecolor": "#2a3f5f",
             "gridcolor": "white",
             "linecolor": "white",
             "minorgridcolor": "white",
             "startlinecolor": "#2a3f5f"
            },
            "baxis": {
             "endlinecolor": "#2a3f5f",
             "gridcolor": "white",
             "linecolor": "white",
             "minorgridcolor": "white",
             "startlinecolor": "#2a3f5f"
            },
            "type": "carpet"
           }
          ],
          "choropleth": [
           {
            "colorbar": {
             "outlinewidth": 0,
             "ticks": ""
            },
            "type": "choropleth"
           }
          ],
          "contour": [
           {
            "colorbar": {
             "outlinewidth": 0,
             "ticks": ""
            },
            "colorscale": [
             [
              0,
              "#0d0887"
             ],
             [
              0.1111111111111111,
              "#46039f"
             ],
             [
              0.2222222222222222,
              "#7201a8"
             ],
             [
              0.3333333333333333,
              "#9c179e"
             ],
             [
              0.4444444444444444,
              "#bd3786"
             ],
             [
              0.5555555555555556,
              "#d8576b"
             ],
             [
              0.6666666666666666,
              "#ed7953"
             ],
             [
              0.7777777777777778,
              "#fb9f3a"
             ],
             [
              0.8888888888888888,
              "#fdca26"
             ],
             [
              1,
              "#f0f921"
             ]
            ],
            "type": "contour"
           }
          ],
          "contourcarpet": [
           {
            "colorbar": {
             "outlinewidth": 0,
             "ticks": ""
            },
            "type": "contourcarpet"
           }
          ],
          "heatmap": [
           {
            "colorbar": {
             "outlinewidth": 0,
             "ticks": ""
            },
            "colorscale": [
             [
              0,
              "#0d0887"
             ],
             [
              0.1111111111111111,
              "#46039f"
             ],
             [
              0.2222222222222222,
              "#7201a8"
             ],
             [
              0.3333333333333333,
              "#9c179e"
             ],
             [
              0.4444444444444444,
              "#bd3786"
             ],
             [
              0.5555555555555556,
              "#d8576b"
             ],
             [
              0.6666666666666666,
              "#ed7953"
             ],
             [
              0.7777777777777778,
              "#fb9f3a"
             ],
             [
              0.8888888888888888,
              "#fdca26"
             ],
             [
              1,
              "#f0f921"
             ]
            ],
            "type": "heatmap"
           }
          ],
          "histogram": [
           {
            "marker": {
             "pattern": {
              "fillmode": "overlay",
              "size": 10,
              "solidity": 0.2
             }
            },
            "type": "histogram"
           }
          ],
          "histogram2d": [
           {
            "colorbar": {
             "outlinewidth": 0,
             "ticks": ""
            },
            "colorscale": [
             [
              0,
              "#0d0887"
             ],
             [
              0.1111111111111111,
              "#46039f"
             ],
             [
              0.2222222222222222,
              "#7201a8"
             ],
             [
              0.3333333333333333,
              "#9c179e"
             ],
             [
              0.4444444444444444,
              "#bd3786"
             ],
             [
              0.5555555555555556,
              "#d8576b"
             ],
             [
              0.6666666666666666,
              "#ed7953"
             ],
             [
              0.7777777777777778,
              "#fb9f3a"
             ],
             [
              0.8888888888888888,
              "#fdca26"
             ],
             [
              1,
              "#f0f921"
             ]
            ],
            "type": "histogram2d"
           }
          ],
          "histogram2dcontour": [
           {
            "colorbar": {
             "outlinewidth": 0,
             "ticks": ""
            },
            "colorscale": [
             [
              0,
              "#0d0887"
             ],
             [
              0.1111111111111111,
              "#46039f"
             ],
             [
              0.2222222222222222,
              "#7201a8"
             ],
             [
              0.3333333333333333,
              "#9c179e"
             ],
             [
              0.4444444444444444,
              "#bd3786"
             ],
             [
              0.5555555555555556,
              "#d8576b"
             ],
             [
              0.6666666666666666,
              "#ed7953"
             ],
             [
              0.7777777777777778,
              "#fb9f3a"
             ],
             [
              0.8888888888888888,
              "#fdca26"
             ],
             [
              1,
              "#f0f921"
             ]
            ],
            "type": "histogram2dcontour"
           }
          ],
          "mesh3d": [
           {
            "colorbar": {
             "outlinewidth": 0,
             "ticks": ""
            },
            "type": "mesh3d"
           }
          ],
          "parcoords": [
           {
            "line": {
             "colorbar": {
              "outlinewidth": 0,
              "ticks": ""
             }
            },
            "type": "parcoords"
           }
          ],
          "pie": [
           {
            "automargin": true,
            "type": "pie"
           }
          ],
          "scatter": [
           {
            "fillpattern": {
             "fillmode": "overlay",
             "size": 10,
             "solidity": 0.2
            },
            "type": "scatter"
           }
          ],
          "scatter3d": [
           {
            "line": {
             "colorbar": {
              "outlinewidth": 0,
              "ticks": ""
             }
            },
            "marker": {
             "colorbar": {
              "outlinewidth": 0,
              "ticks": ""
             }
            },
            "type": "scatter3d"
           }
          ],
          "scattercarpet": [
           {
            "marker": {
             "colorbar": {
              "outlinewidth": 0,
              "ticks": ""
             }
            },
            "type": "scattercarpet"
           }
          ],
          "scattergeo": [
           {
            "marker": {
             "colorbar": {
              "outlinewidth": 0,
              "ticks": ""
             }
            },
            "type": "scattergeo"
           }
          ],
          "scattergl": [
           {
            "marker": {
             "colorbar": {
              "outlinewidth": 0,
              "ticks": ""
             }
            },
            "type": "scattergl"
           }
          ],
          "scattermap": [
           {
            "marker": {
             "colorbar": {
              "outlinewidth": 0,
              "ticks": ""
             }
            },
            "type": "scattermap"
           }
          ],
          "scattermapbox": [
           {
            "marker": {
             "colorbar": {
              "outlinewidth": 0,
              "ticks": ""
             }
            },
            "type": "scattermapbox"
           }
          ],
          "scatterpolar": [
           {
            "marker": {
             "colorbar": {
              "outlinewidth": 0,
              "ticks": ""
             }
            },
            "type": "scatterpolar"
           }
          ],
          "scatterpolargl": [
           {
            "marker": {
             "colorbar": {
              "outlinewidth": 0,
              "ticks": ""
             }
            },
            "type": "scatterpolargl"
           }
          ],
          "scatterternary": [
           {
            "marker": {
             "colorbar": {
              "outlinewidth": 0,
              "ticks": ""
             }
            },
            "type": "scatterternary"
           }
          ],
          "surface": [
           {
            "colorbar": {
             "outlinewidth": 0,
             "ticks": ""
            },
            "colorscale": [
             [
              0,
              "#0d0887"
             ],
             [
              0.1111111111111111,
              "#46039f"
             ],
             [
              0.2222222222222222,
              "#7201a8"
             ],
             [
              0.3333333333333333,
              "#9c179e"
             ],
             [
              0.4444444444444444,
              "#bd3786"
             ],
             [
              0.5555555555555556,
              "#d8576b"
             ],
             [
              0.6666666666666666,
              "#ed7953"
             ],
             [
              0.7777777777777778,
              "#fb9f3a"
             ],
             [
              0.8888888888888888,
              "#fdca26"
             ],
             [
              1,
              "#f0f921"
             ]
            ],
            "type": "surface"
           }
          ],
          "table": [
           {
            "cells": {
             "fill": {
              "color": "#EBF0F8"
             },
             "line": {
              "color": "white"
             }
            },
            "header": {
             "fill": {
              "color": "#C8D4E3"
             },
             "line": {
              "color": "white"
             }
            },
            "type": "table"
           }
          ]
         },
         "layout": {
          "annotationdefaults": {
           "arrowcolor": "#2a3f5f",
           "arrowhead": 0,
           "arrowwidth": 1
          },
          "autotypenumbers": "strict",
          "coloraxis": {
           "colorbar": {
            "outlinewidth": 0,
            "ticks": ""
           }
          },
          "colorscale": {
           "diverging": [
            [
             0,
             "#8e0152"
            ],
            [
             0.1,
             "#c51b7d"
            ],
            [
             0.2,
             "#de77ae"
            ],
            [
             0.3,
             "#f1b6da"
            ],
            [
             0.4,
             "#fde0ef"
            ],
            [
             0.5,
             "#f7f7f7"
            ],
            [
             0.6,
             "#e6f5d0"
            ],
            [
             0.7,
             "#b8e186"
            ],
            [
             0.8,
             "#7fbc41"
            ],
            [
             0.9,
             "#4d9221"
            ],
            [
             1,
             "#276419"
            ]
           ],
           "sequential": [
            [
             0,
             "#0d0887"
            ],
            [
             0.1111111111111111,
             "#46039f"
            ],
            [
             0.2222222222222222,
             "#7201a8"
            ],
            [
             0.3333333333333333,
             "#9c179e"
            ],
            [
             0.4444444444444444,
             "#bd3786"
            ],
            [
             0.5555555555555556,
             "#d8576b"
            ],
            [
             0.6666666666666666,
             "#ed7953"
            ],
            [
             0.7777777777777778,
             "#fb9f3a"
            ],
            [
             0.8888888888888888,
             "#fdca26"
            ],
            [
             1,
             "#f0f921"
            ]
           ],
           "sequentialminus": [
            [
             0,
             "#0d0887"
            ],
            [
             0.1111111111111111,
             "#46039f"
            ],
            [
             0.2222222222222222,
             "#7201a8"
            ],
            [
             0.3333333333333333,
             "#9c179e"
            ],
            [
             0.4444444444444444,
             "#bd3786"
            ],
            [
             0.5555555555555556,
             "#d8576b"
            ],
            [
             0.6666666666666666,
             "#ed7953"
            ],
            [
             0.7777777777777778,
             "#fb9f3a"
            ],
            [
             0.8888888888888888,
             "#fdca26"
            ],
            [
             1,
             "#f0f921"
            ]
           ]
          },
          "colorway": [
           "#636efa",
           "#EF553B",
           "#00cc96",
           "#ab63fa",
           "#FFA15A",
           "#19d3f3",
           "#FF6692",
           "#B6E880",
           "#FF97FF",
           "#FECB52"
          ],
          "font": {
           "color": "#2a3f5f"
          },
          "geo": {
           "bgcolor": "white",
           "lakecolor": "white",
           "landcolor": "#E5ECF6",
           "showlakes": true,
           "showland": true,
           "subunitcolor": "white"
          },
          "hoverlabel": {
           "align": "left"
          },
          "hovermode": "closest",
          "mapbox": {
           "style": "light"
          },
          "paper_bgcolor": "white",
          "plot_bgcolor": "#E5ECF6",
          "polar": {
           "angularaxis": {
            "gridcolor": "white",
            "linecolor": "white",
            "ticks": ""
           },
           "bgcolor": "#E5ECF6",
           "radialaxis": {
            "gridcolor": "white",
            "linecolor": "white",
            "ticks": ""
           }
          },
          "scene": {
           "xaxis": {
            "backgroundcolor": "#E5ECF6",
            "gridcolor": "white",
            "gridwidth": 2,
            "linecolor": "white",
            "showbackground": true,
            "ticks": "",
            "zerolinecolor": "white"
           },
           "yaxis": {
            "backgroundcolor": "#E5ECF6",
            "gridcolor": "white",
            "gridwidth": 2,
            "linecolor": "white",
            "showbackground": true,
            "ticks": "",
            "zerolinecolor": "white"
           },
           "zaxis": {
            "backgroundcolor": "#E5ECF6",
            "gridcolor": "white",
            "gridwidth": 2,
            "linecolor": "white",
            "showbackground": true,
            "ticks": "",
            "zerolinecolor": "white"
           }
          },
          "shapedefaults": {
           "line": {
            "color": "#2a3f5f"
           }
          },
          "ternary": {
           "aaxis": {
            "gridcolor": "white",
            "linecolor": "white",
            "ticks": ""
           },
           "baxis": {
            "gridcolor": "white",
            "linecolor": "white",
            "ticks": ""
           },
           "bgcolor": "#E5ECF6",
           "caxis": {
            "gridcolor": "white",
            "linecolor": "white",
            "ticks": ""
           }
          },
          "title": {
           "x": 0.05
          },
          "xaxis": {
           "automargin": true,
           "gridcolor": "white",
           "linecolor": "white",
           "ticks": "",
           "title": {
            "standoff": 15
           },
           "zerolinecolor": "white",
           "zerolinewidth": 2
          },
          "yaxis": {
           "automargin": true,
           "gridcolor": "white",
           "linecolor": "white",
           "ticks": "",
           "title": {
            "standoff": 15
           },
           "zerolinecolor": "white",
           "zerolinewidth": 2
          }
         }
        },
        "title": {
         "text": "Répartition géographique des établissements d’enseignement supérieur en France (2023)"
        }
       }
      }
     },
     "metadata": {},
     "output_type": "display_data"
    }
   ],
   "source": [
    "# Nettoyage des coordonnées\n",
    "df_rennes_et_bordeaux[['lat', 'lon']] = df_rennes_et_bordeaux['gps'].str.split(',', expand=True)\n",
    "df_rennes_et_bordeaux['lat'] = df_rennes_et_bordeaux['lat'].astype(float)\n",
    "df_rennes_et_bordeaux['lon'] = df_rennes_et_bordeaux['lon'].astype(float)\n",
    "\n",
    "# On enlève les lignes sans coordonnées\n",
    "df_rennes_et_bordeaux = df_rennes_et_bordeaux.dropna(subset=['lat', 'lon'])\n",
    "\n",
    "df_rennes = df_rennes_et_bordeaux[df_rennes_et_bordeaux['Commune'] == 'Rennes']\n",
    "\n",
    "fig_rennes = px.scatter_map(\n",
    "    df_rennes,\n",
    "    lat=\"lat\",\n",
    "    lon=\"lon\",\n",
    "    color=\"catégorie d'établissement\",  # tu peux changer par 'secteur d'établissement' ou autre\n",
    "    size=\"nombre total d’étudiants inscrits hors doubles inscriptions université/CPGE\",\n",
    "    hover_name=\"libellé de l'établissement\",\n",
    "    hover_data={\n",
    "        \"Commune\": True,\n",
    "        \"nombre total d’étudiants inscrits hors doubles inscriptions université/CPGE\": True,\n",
    "        \"secteur d'établissement\": True,\n",
    "        \"degre_etudes\": True\n",
    "    },\n",
    "    zoom=12,\n",
    "    height=600,\n",
    "    center={\"lat\": 48.117, \"lon\": -1.677}\n",
    ")\n",
    "\n",
    "fig_rennes.update_layout(\n",
    "    mapbox_style=\"open-street-map\",  # carte claire\n",
    "    title=\"Répartition géographique des établissements d’enseignement supérieur en France (2023)\",\n",
    "    margin={\"r\":0,\"t\":50,\"l\":0,\"b\":0}\n",
    ")\n",
    "\n",
    "fig_rennes.show()"
   ]
  },
  {
   "cell_type": "code",
   "execution_count": 61,
   "id": "f41ce153",
   "metadata": {},
   "outputs": [
    {
     "data": {
      "application/vnd.plotly.v1+json": {
       "config": {
        "plotlyServerURL": "https://plot.ly"
       },
       "data": [
        {
         "customdata": [
          [
           "Bordeaux",
           15,
           "Privé",
           "BAC + 2"
          ],
          [
           "Bordeaux",
           87,
           "Public",
           "BAC + 4"
          ],
          [
           "Bordeaux",
           13,
           "Privé",
           "BAC + 6 et plus"
          ],
          [
           "Bordeaux",
           46,
           "Public",
           "BAC + 5"
          ],
          [
           "Bordeaux",
           207,
           "Privé",
           null
          ],
          [
           "Bordeaux",
           26,
           "Privé",
           "BAC + 2"
          ],
          [
           "Bordeaux",
           239,
           "Privé",
           null
          ],
          [
           "Bordeaux",
           201,
           "Privé",
           null
          ],
          [
           "Bordeaux",
           246,
           "Public",
           null
          ],
          [
           "Bordeaux",
           140,
           "Public",
           null
          ],
          [
           "Bordeaux",
           67,
           "Privé",
           "BAC + 1"
          ],
          [
           "Bordeaux",
           79,
           "Public",
           "BAC + 5"
          ],
          [
           "Bordeaux",
           154,
           "Public",
           null
          ],
          [
           "Bordeaux",
           152,
           "Public",
           null
          ],
          [
           "Bordeaux",
           39,
           "Privé",
           "BAC + 3"
          ],
          [
           "Bordeaux",
           73,
           "Privé",
           "BAC + 1"
          ],
          [
           "Bordeaux",
           3,
           "Public",
           "BAC + 6 et plus"
          ],
          [
           "Bordeaux",
           55,
           "Public",
           "BAC + 5"
          ],
          [
           "Bordeaux",
           61,
           "Privé",
           "BAC + 1"
          ],
          [
           "Bordeaux",
           111,
           "Privé",
           "BAC + 3"
          ],
          [
           "Bordeaux",
           62,
           "Privé",
           "BAC + 3"
          ],
          [
           "Bordeaux",
           67,
           "Public",
           "BAC + 4"
          ],
          [
           "Bordeaux",
           235,
           "Privé",
           null
          ],
          [
           "Bordeaux",
           187,
           "Privé",
           null
          ],
          [
           "Bordeaux",
           54,
           "Public",
           "BAC + 3"
          ],
          [
           "Bordeaux",
           81,
           "Public",
           "BAC + 3"
          ],
          [
           "Bordeaux",
           16,
           "Privé",
           "BAC + 6 et plus"
          ],
          [
           "Bordeaux",
           56,
           "Public",
           "BAC + 3"
          ],
          [
           "Bordeaux",
           59,
           "Public",
           "BAC + 4"
          ],
          [
           "Bordeaux",
           194,
           "Privé",
           null
          ],
          [
           "Bordeaux",
           67,
           "Privé",
           "BAC + 1"
          ],
          [
           "Bordeaux",
           23,
           "Privé",
           "BAC + 2"
          ],
          [
           "Bordeaux",
           68,
           "Public",
           "BAC + 4"
          ],
          [
           "Bordeaux",
           235,
           "Public",
           null
          ],
          [
           "Bordeaux",
           36,
           "Privé",
           "BAC + 1"
          ],
          [
           "Bordeaux",
           53,
           "Privé",
           null
          ],
          [
           "Bordeaux",
           65,
           "Public",
           "BAC + 5"
          ],
          [
           "Bordeaux",
           202,
           "Public",
           null
          ],
          [
           "Bordeaux",
           153,
           "Public",
           null
          ],
          [
           "Bordeaux",
           22,
           "Privé",
           "BAC + 2"
          ],
          [
           "Bordeaux",
           228,
           "Public",
           null
          ],
          [
           "Bordeaux",
           135,
           "Public",
           null
          ],
          [
           "Bordeaux",
           118,
           "Privé",
           null
          ],
          [
           "Bordeaux",
           61,
           "Privé",
           "BAC + 2"
          ],
          [
           "Bordeaux",
           68,
           "Privé",
           "BAC + 3"
          ],
          [
           "Bordeaux",
           23,
           "Privé",
           "BAC + 6 et plus"
          ],
          [
           "Bordeaux",
           48,
           "Privé",
           "BAC + 1"
          ],
          [
           "Bordeaux",
           191,
           "Public",
           null
          ],
          [
           "Bordeaux",
           49,
           "Privé",
           "BAC + 1"
          ],
          [
           "Bordeaux",
           97,
           "Privé",
           "BAC + 3"
          ],
          [
           "Bordeaux",
           69,
           "Privé",
           "BAC + 2"
          ],
          [
           "Bordeaux",
           58,
           "Public",
           "BAC + 3"
          ],
          [
           "Bordeaux",
           2,
           "Privé",
           "BAC + 4"
          ]
         ],
         "hovertemplate": "<b>%{hovertext}</b><br><br>catégorie d'établissement=Écoles d'ingénieurs<br>nombre total d’étudiants inscrits hors doubles inscriptions université/CPGE=%{customdata[1]}<br>lat=%{lat}<br>lon=%{lon}<br>Commune=%{customdata[0]}<br>secteur d'établissement=%{customdata[2]}<br>degre_etudes=%{customdata[3]}<extra></extra>",
         "hovertext": [
          "CESI ECOLE INGENIEURS NANTERRE",
          "INST POLYTECHNIQUE BORDEAUX",
          "CESI ECOLE INGENIEURS NANTERRE",
          "INST POLYTECHNIQUE BORDEAUX",
          "CTRE ETUDES SUP INDUST PARIS",
          "EC FR ELECTRON INFOR VILLEJUIF",
          "CTRE ETUDES SUP INDUST PARIS",
          "EC SPECIALE MECA ELECTRICITE",
          "INST POLYTECHNIQUE BORDEAUX",
          "INST POLYTECHNIQUE BORDEAUX",
          "CESI ECOLE INGENIEURS NANTERRE",
          "INST POLYTECHNIQUE BORDEAUX",
          "INST POLYTECHNIQUE BORDEAUX",
          "INST POLYTECHNIQUE BORDEAUX",
          "CESI ECOLE INGENIEURS NANTERRE",
          "EC SPECIALE MECA ELECTRICITE",
          "INST POLYTECHNIQUE BORDEAUX",
          "INST POLYTECHNIQUE BORDEAUX",
          "EC SPECIALE MECA ELECTRICITE",
          "CESI ECOLE INGENIEURS NANTERRE",
          "EC SPECIALE MECA ELECTRICITE",
          "INST POLYTECHNIQUE BORDEAUX",
          "CTRE ETUDES SUP INDUST PARIS",
          "EC SPECIALE MECA ELECTRICITE",
          "INST POLYTECHNIQUE BORDEAUX",
          "INST POLYTECHNIQUE BORDEAUX",
          "CESI ECOLE INGENIEURS NANTERRE",
          "INST POLYTECHNIQUE BORDEAUX",
          "INST POLYTECHNIQUE BORDEAUX",
          "CTRE ETUDES SUP INDUST PARIS",
          "ECOLE CENTRALE ELECTRONIQUE PA",
          "CESI ECOLE INGENIEURS NANTERRE",
          "INST POLYTECHNIQUE BORDEAUX",
          "INST POLYTECHNIQUE BORDEAUX",
          "EC FR ELECTRON INFOR VILLEJUIF",
          "EC SPECIALE MECA ELECTRICITE",
          "INST POLYTECHNIQUE BORDEAUX",
          "INST POLYTECHNIQUE BORDEAUX",
          "INST POLYTECHNIQUE BORDEAUX",
          "CESI ECOLE INGENIEURS NANTERRE",
          "INST POLYTECHNIQUE BORDEAUX",
          "INST POLYTECHNIQUE BORDEAUX",
          "EC SPECIALE MECA ELECTRICITE",
          "EC SPECIALE MECA ELECTRICITE",
          "EC SPECIALE MECA ELECTRICITE",
          "CESI ECOLE INGENIEURS NANTERRE",
          "CESI ECOLE INGENIEURS NANTERRE",
          "INST POLYTECHNIQUE BORDEAUX",
          "CESI ECOLE INGENIEURS NANTERRE",
          "CESI ECOLE INGENIEURS NANTERRE",
          "EC SPECIALE MECA ELECTRICITE",
          "INST POLYTECHNIQUE BORDEAUX",
          "CESI ECOLE INGENIEURS NANTERRE"
         ],
         "lat": {
          "bdata": "OBoKubduRkAEv66uqWlGQDgaCrm3bkZAKRoZrU1pRkA4Ggq5t25GQELLiJUSaEZAOBoKubduRkDD29gz1m5GQAS/rq6paUZAKRoZrU1pRkA4Ggq5t25GQAS/rq6paUZAKRoZrU1pRkApGhmtTWlGQDgaCrm3bkZAw9vYM9ZuRkAEv66uqWlGQCkaGa1NaUZAw9vYM9ZuRkA4Ggq5t25GQMPb2DPWbkZAKRoZrU1pRkA4Ggq5t25GQMPb2DPWbkZAKRoZrU1pRkAEv66uqWlGQDgaCrm3bkZAKRoZrU1pRkApGhmtTWlGQDgaCrm3bkZAtPHt7eZtRkA4Ggq5t25GQCkaGa1NaUZABL+urqlpRkBCy4iVEmhGQMPb2DPWbkZAKRoZrU1pRkAEv66uqWlGQCkaGa1NaUZAOBoKubduRkAEv66uqWlGQCkaGa1NaUZAw9vYM9ZuRkDD29gz1m5GQMPb2DPWbkZAOBoKubduRkA4Ggq5t25GQAS/rq6paUZAOBoKubduRkA4Ggq5t25GQMPb2DPWbkZAKRoZrU1pRkA4Ggq5t25GQA==",
          "dtype": "f8"
         },
         "legendgroup": "Écoles d'ingénieurs",
         "lon": {
          "bdata": "5xmeA3t74r81BypQ1Gbjv+cZngN7e+K/bXG4kAFr47/nGZ4De3viv5lXy1BUw+G/5xmeA3t74r+bcGs0GWTivzUHKlDUZuO/bXG4kAFr47/nGZ4De3vivzUHKlDUZuO/bXG4kAFr479tcbiQAWvjv+cZngN7e+K/m3BrNBlk4r81BypQ1Gbjv21xuJABa+O/m3BrNBlk4r/nGZ4De3viv5twazQZZOK/bXG4kAFr47/nGZ4De3viv5twazQZZOK/bXG4kAFr4781BypQ1Gbjv+cZngN7e+K/bXG4kAFr479tcbiQAWvjv+cZngN7e+K/0sfnF2XQ4b/nGZ4De3viv21xuJABa+O/NQcqUNRm47+ZV8tQVMPhv5twazQZZOK/bXG4kAFr4781BypQ1Gbjv21xuJABa+O/5xmeA3t74r81BypQ1Gbjv21xuJABa+O/m3BrNBlk4r+bcGs0GWTiv5twazQZZOK/5xmeA3t74r/nGZ4De3vivzUHKlDUZuO/5xmeA3t74r/nGZ4De3viv5twazQZZOK/bXG4kAFr47/nGZ4De3vivw==",
          "dtype": "f8"
         },
         "marker": {
          "color": "#636efa",
          "size": {
           "bdata": "DwBXAA0ALgDPABoA7wDJAPYAjABDAE8AmgCYACcASQADADcAPQBvAD4AQwDrALsANgBRABAAOAA7AMIAQwAXAEQA6wAkADUAQQDKAJkAFgDkAIcAdgA9AEQAFwAwAL8AMQBhAEUAOgACAA==",
           "dtype": "i2"
          },
          "sizemode": "area",
          "sizeref": 25.4025
         },
         "mode": "markers",
         "name": "Écoles d'ingénieurs",
         "showlegend": true,
         "subplot": "map",
         "type": "scattermap"
        },
        {
         "customdata": [
          [
           "Bordeaux",
           204,
           "Public",
           "BAC + 1"
          ],
          [
           "Bordeaux",
           137,
           "Public",
           "BAC + 1"
          ],
          [
           "Bordeaux",
           249,
           "Privé",
           null
          ],
          [
           "Bordeaux",
           15,
           "Public",
           null
          ],
          [
           "Bordeaux",
           12,
           "Privé",
           "BAC + 3"
          ],
          [
           "Bordeaux",
           32,
           "Privé",
           "BAC + 1"
          ],
          [
           "Bordeaux",
           46,
           "Public",
           "BAC + 3"
          ],
          [
           "Bordeaux",
           92,
           "Privé",
           null
          ],
          [
           "Bordeaux",
           234,
           "Public",
           null
          ],
          [
           "Bordeaux",
           70,
           "Privé",
           null
          ],
          [
           "Bordeaux",
           30,
           "Public",
           "BAC + 1"
          ],
          [
           "Bordeaux",
           693,
           "Public",
           "BAC + 1"
          ],
          [
           "Bordeaux",
           136,
           "Public",
           "BAC + 1"
          ],
          [
           "Bordeaux",
           121,
           "Public",
           "BAC + 2"
          ],
          [
           "Bordeaux",
           34,
           "Privé",
           "BAC + 1"
          ],
          [
           "Bordeaux",
           72,
           "Privé",
           "BAC + 1"
          ],
          [
           "Bordeaux",
           52,
           "Privé",
           "BAC + 2"
          ],
          [
           "Bordeaux",
           42,
           "Privé",
           "BAC + 2"
          ],
          [
           "Bordeaux",
           124,
           "Public",
           "BAC + 1"
          ],
          [
           "Bordeaux",
           50,
           "Privé",
           null
          ],
          [
           "Bordeaux",
           38,
           "Privé",
           null
          ],
          [
           "Bordeaux",
           101,
           "Privé",
           null
          ],
          [
           "Bordeaux",
           190,
           "Privé",
           null
          ],
          [
           "Bordeaux",
           66,
           "Privé",
           null
          ],
          [
           "Bordeaux",
           91,
           "Privé",
           null
          ],
          [
           "Bordeaux",
           32,
           "Public",
           null
          ],
          [
           "Bordeaux",
           54,
           "Privé",
           "BAC + 2"
          ],
          [
           "Bordeaux",
           20,
           "Privé",
           "BAC + 1"
          ],
          [
           "Bordeaux",
           41,
           "Privé",
           "BAC + 1"
          ],
          [
           "Bordeaux",
           594,
           "Public",
           "BAC + 2"
          ],
          [
           "Bordeaux",
           127,
           "Public",
           "BAC + 1"
          ],
          [
           "Bordeaux",
           29,
           "Privé",
           "BAC + 2"
          ],
          [
           "Bordeaux",
           12,
           "Privé",
           null
          ],
          [
           "Bordeaux",
           240,
           "Public",
           null
          ],
          [
           "Bordeaux",
           11,
           "Privé",
           null
          ],
          [
           "Bordeaux",
           148,
           "Public",
           "BAC + 2"
          ],
          [
           "Bordeaux",
           126,
           "Public",
           "BAC + 2"
          ],
          [
           "Bordeaux",
           57,
           "Privé",
           "BAC + 1"
          ],
          [
           "Bordeaux",
           33,
           "Privé",
           "BAC + 3"
          ],
          [
           "Bordeaux",
           11,
           "Privé",
           null
          ],
          [
           "Bordeaux",
           246,
           "Public",
           null
          ],
          [
           "Bordeaux",
           236,
           "Public",
           null
          ],
          [
           "Bordeaux",
           127,
           "Public",
           null
          ],
          [
           "Bordeaux",
           34,
           "Public",
           null
          ],
          [
           "Bordeaux",
           79,
           "Privé",
           null
          ],
          [
           "Bordeaux",
           28,
           "Privé",
           "BAC + 1"
          ],
          [
           "Bordeaux",
           21,
           "Privé",
           "BAC + 2"
          ],
          [
           "Bordeaux",
           101,
           "Privé",
           null
          ],
          [
           "Bordeaux",
           27,
           "Privé",
           "BAC + 1"
          ],
          [
           "Bordeaux",
           652,
           "Public",
           "BAC + 1"
          ],
          [
           "Bordeaux",
           32,
           "Public",
           null
          ],
          [
           "Bordeaux",
           246,
           "Public",
           null
          ],
          [
           "Bordeaux",
           146,
           "Public",
           null
          ],
          [
           "Bordeaux",
           87,
           "Privé",
           "BAC + 1"
          ],
          [
           "Bordeaux",
           70,
           "Privé",
           "BAC + 1"
          ],
          [
           "Bordeaux",
           26,
           "Privé",
           null
          ],
          [
           "Bordeaux",
           65,
           "Privé",
           "BAC + 2"
          ],
          [
           "Bordeaux",
           1181,
           "Public",
           null
          ],
          [
           "Bordeaux",
           62,
           "Privé",
           null
          ],
          [
           "Bordeaux",
           84,
           "Privé",
           null
          ],
          [
           "Bordeaux",
           229,
           "Privé",
           null
          ],
          [
           "Bordeaux",
           1158,
           "Public",
           null
          ],
          [
           "Bordeaux",
           77,
           "Privé",
           null
          ],
          [
           "Bordeaux",
           103,
           "Privé",
           null
          ],
          [
           "Bordeaux",
           1418,
           "Public",
           null
          ],
          [
           "Bordeaux",
           47,
           "Privé",
           null
          ],
          [
           "Bordeaux",
           121,
           "Public",
           "BAC + 1"
          ],
          [
           "Bordeaux",
           25,
           "Public",
           "BAC + 3"
          ],
          [
           "Bordeaux",
           18,
           "Public",
           "BAC + 3"
          ],
          [
           "Bordeaux",
           90,
           "Privé",
           "BAC + 1"
          ],
          [
           "Bordeaux",
           18,
           "Privé",
           "BAC + 2"
          ],
          [
           "Bordeaux",
           79,
           "Privé",
           "BAC + 1"
          ],
          [
           "Bordeaux",
           651,
           "Public",
           "BAC + 1"
          ],
          [
           "Bordeaux",
           601,
           "Public",
           "BAC + 1"
          ],
          [
           "Bordeaux",
           29,
           "Public",
           "BAC + 1"
          ],
          [
           "Bordeaux",
           46,
           "Privé",
           "BAC + 2"
          ],
          [
           "Bordeaux",
           14,
           "Privé",
           "BAC + 2"
          ],
          [
           "Bordeaux",
           183,
           "Privé",
           null
          ],
          [
           "Bordeaux",
           9,
           "Privé",
           null
          ],
          [
           "Bordeaux",
           35,
           "Public",
           null
          ],
          [
           "Bordeaux",
           40,
           "Privé",
           "BAC + 1"
          ],
          [
           "Bordeaux",
           69,
           "Privé",
           "BAC + 2"
          ],
          [
           "Bordeaux",
           50,
           "Public",
           "BAC + 2"
          ],
          [
           "Bordeaux",
           41,
           "Privé",
           "BAC + 2"
          ],
          [
           "Bordeaux",
           188,
           "Privé",
           null
          ],
          [
           "Bordeaux",
           71,
           "Privé",
           "BAC + 1"
          ],
          [
           "Bordeaux",
           13,
           "Privé",
           null
          ],
          [
           "Bordeaux",
           84,
           "Privé",
           null
          ],
          [
           "Bordeaux",
           466,
           "Public",
           null
          ],
          [
           "Bordeaux",
           188,
           "Privé",
           null
          ],
          [
           "Bordeaux",
           48,
           "Privé",
           null
          ],
          [
           "Bordeaux",
           35,
           "Privé",
           null
          ],
          [
           "Bordeaux",
           53,
           "Privé",
           "BAC + 2"
          ],
          [
           "Bordeaux",
           33,
           "Privé",
           "BAC + 3"
          ],
          [
           "Bordeaux",
           16,
           "Privé",
           null
          ],
          [
           "Bordeaux",
           7,
           "Public",
           null
          ],
          [
           "Bordeaux",
           35,
           "Public",
           "BAC + 3"
          ],
          [
           "Bordeaux",
           130,
           "Public",
           "BAC + 1"
          ],
          [
           "Bordeaux",
           630,
           "Public",
           "BAC + 2"
          ],
          [
           "Bordeaux",
           68,
           "Public",
           "BAC + 1"
          ],
          [
           "Bordeaux",
           370,
           "Public",
           null
          ],
          [
           "Bordeaux",
           403,
           "Public",
           null
          ],
          [
           "Bordeaux",
           126,
           "Public",
           null
          ],
          [
           "Bordeaux",
           29,
           "Public",
           null
          ],
          [
           "Bordeaux",
           53,
           "Privé",
           null
          ],
          [
           "Bordeaux",
           51,
           "Privé",
           "BAC + 1"
          ],
          [
           "Bordeaux",
           23,
           "Privé",
           "BAC + 2"
          ],
          [
           "Bordeaux",
           19,
           "Privé",
           "BAC + 3"
          ],
          [
           "Bordeaux",
           93,
           "Privé",
           null
          ],
          [
           "Bordeaux",
           27,
           "Privé",
           null
          ],
          [
           "Bordeaux",
           213,
           "Public",
           "BAC + 2"
          ],
          [
           "Bordeaux",
           109,
           "Privé",
           "BAC + 1"
          ],
          [
           "Bordeaux",
           32,
           "Privé",
           "BAC + 3"
          ],
          [
           "Bordeaux",
           127,
           "Privé",
           null
          ],
          [
           "Bordeaux",
           50,
           "Privé",
           "BAC + 2"
          ],
          [
           "Bordeaux",
           84,
           "Public",
           "BAC + 1"
          ],
          [
           "Bordeaux",
           202,
           "Public",
           "BAC + 2"
          ],
          [
           "Bordeaux",
           35,
           "Privé",
           "BAC + 2"
          ],
          [
           "Bordeaux",
           57,
           "Privé",
           "BAC + 1"
          ],
          [
           "Bordeaux",
           182,
           "Privé",
           null
          ],
          [
           "Bordeaux",
           67,
           "Privé",
           null
          ],
          [
           "Bordeaux",
           55,
           "Privé",
           null
          ],
          [
           "Bordeaux",
           30,
           "Public",
           "BAC + 2"
          ],
          [
           "Bordeaux",
           63,
           "Privé",
           "BAC + 1"
          ],
          [
           "Bordeaux",
           33,
           "Privé",
           "BAC + 1"
          ],
          [
           "Bordeaux",
           12,
           "Privé",
           "BAC + 3"
          ],
          [
           "Bordeaux",
           7,
           "Public",
           null
          ],
          [
           "Bordeaux",
           239,
           "Privé",
           null
          ],
          [
           "Bordeaux",
           27,
           "Privé",
           null
          ],
          [
           "Bordeaux",
           31,
           "Public",
           null
          ],
          [
           "Bordeaux",
           132,
           "Public",
           null
          ],
          [
           "Bordeaux",
           82,
           "Privé",
           "BAC + 2"
          ],
          [
           "Bordeaux",
           20,
           "Privé",
           "BAC + 2"
          ],
          [
           "Bordeaux",
           414,
           "Public",
           null
          ],
          [
           "Bordeaux",
           129,
           "Privé",
           null
          ],
          [
           "Bordeaux",
           150,
           "Public",
           "BAC + 2"
          ],
          [
           "Bordeaux",
           49,
           "Privé",
           "BAC + 1"
          ],
          [
           "Bordeaux",
           36,
           "Privé",
           "BAC + 2"
          ],
          [
           "Bordeaux",
           353,
           "Public",
           null
          ],
          [
           "Bordeaux",
           398,
           "Public",
           null
          ],
          [
           "Bordeaux",
           75,
           "Privé",
           null
          ],
          [
           "Bordeaux",
           48,
           "Privé",
           "BAC + 1"
          ],
          [
           "Bordeaux",
           93,
           "Public",
           "BAC + 2"
          ],
          [
           "Bordeaux",
           1178,
           "Public",
           null
          ],
          [
           "Bordeaux",
           401,
           "Public",
           null
          ],
          [
           "Bordeaux",
           54,
           "Public",
           null
          ],
          [
           "Bordeaux",
           1231,
           "Public",
           null
          ],
          [
           "Bordeaux",
           1168,
           "Public",
           null
          ],
          [
           "Bordeaux",
           1203,
           "Public",
           null
          ],
          [
           "Bordeaux",
           28,
           "Public",
           "BAC + 2"
          ],
          [
           "Bordeaux",
           30,
           "Privé",
           null
          ],
          [
           "Bordeaux",
           59,
           "Privé",
           "BAC + 2"
          ],
          [
           "Bordeaux",
           76,
           "Privé",
           null
          ],
          [
           "Bordeaux",
           102,
           "Privé",
           "BAC + 1"
          ],
          [
           "Bordeaux",
           259,
           "Public",
           null
          ],
          [
           "Bordeaux",
           9,
           "Privé",
           null
          ],
          [
           "Bordeaux",
           65,
           "Privé",
           null
          ],
          [
           "Bordeaux",
           1251,
           "Public",
           null
          ],
          [
           "Bordeaux",
           24,
           "Privé",
           null
          ],
          [
           "Bordeaux",
           19,
           "Privé",
           null
          ],
          [
           "Bordeaux",
           62,
           "Privé",
           "BAC + 2"
          ],
          [
           "Bordeaux",
           58,
           "Privé",
           null
          ],
          [
           "Bordeaux",
           109,
           "Privé",
           null
          ],
          [
           "Bordeaux",
           31,
           "Privé",
           null
          ],
          [
           "Bordeaux",
           66,
           "Privé",
           null
          ],
          [
           "Bordeaux",
           73,
           "Privé",
           "BAC + 1"
          ],
          [
           "Bordeaux",
           75,
           "Privé",
           null
          ],
          [
           "Bordeaux",
           182,
           "Privé",
           null
          ],
          [
           "Bordeaux",
           193,
           "Privé",
           null
          ],
          [
           "Bordeaux",
           252,
           "Privé",
           null
          ],
          [
           "Bordeaux",
           9,
           "Privé",
           null
          ],
          [
           "Bordeaux",
           73,
           "Privé",
           null
          ],
          [
           "Bordeaux",
           20,
           "Privé",
           "BAC + 1"
          ],
          [
           "Bordeaux",
           57,
           "Privé",
           "BAC + 3"
          ],
          [
           "Bordeaux",
           103,
           "Privé",
           null
          ],
          [
           "Bordeaux",
           63,
           "Privé",
           null
          ],
          [
           "Bordeaux",
           45,
           "Privé",
           null
          ],
          [
           "Bordeaux",
           108,
           "Privé",
           "BAC + 1"
          ],
          [
           "Bordeaux",
           39,
           "Privé",
           "BAC + 1"
          ],
          [
           "Bordeaux",
           57,
           "Privé",
           "BAC + 2"
          ],
          [
           "Bordeaux",
           351,
           "Public",
           null
          ],
          [
           "Bordeaux",
           251,
           "Public",
           null
          ],
          [
           "Bordeaux",
           42,
           "Privé",
           "BAC + 2"
          ],
          [
           "Bordeaux",
           71,
           "Privé",
           "BAC + 1"
          ],
          [
           "Bordeaux",
           30,
           "Privé",
           "BAC + 2"
          ],
          [
           "Bordeaux",
           218,
           "Public",
           "BAC + 2"
          ],
          [
           "Bordeaux",
           698,
           "Public",
           "BAC + 1"
          ],
          [
           "Bordeaux",
           234,
           "Public",
           "BAC + 1"
          ],
          [
           "Bordeaux",
           579,
           "Public",
           "BAC + 2"
          ],
          [
           "Bordeaux",
           642,
           "Public",
           "BAC + 2"
          ],
          [
           "Bordeaux",
           12,
           "Privé",
           null
          ],
          [
           "Bordeaux",
           23,
           "Privé",
           null
          ],
          [
           "Bordeaux",
           241,
           "Public",
           null
          ],
          [
           "Bordeaux",
           32,
           "Privé",
           "BAC + 2"
          ],
          [
           "Bordeaux",
           27,
           "Privé",
           "BAC + 1"
          ],
          [
           "Bordeaux",
           48,
           "Privé",
           "BAC + 2"
          ],
          [
           "Bordeaux",
           49,
           "Privé",
           "BAC + 1"
          ],
          [
           "Bordeaux",
           92,
           "Public",
           "BAC + 2"
          ],
          [
           "Bordeaux",
           181,
           "Privé",
           null
          ],
          [
           "Bordeaux",
           83,
           "Privé",
           null
          ],
          [
           "Bordeaux",
           244,
           "Public",
           null
          ],
          [
           "Bordeaux",
           243,
           "Public",
           "BAC + 1"
          ],
          [
           "Bordeaux",
           184,
           "Privé",
           null
          ],
          [
           "Bordeaux",
           33,
           "Privé",
           null
          ],
          [
           "Bordeaux",
           69,
           "Privé",
           "BAC + 1"
          ],
          [
           "Bordeaux",
           90,
           "Privé",
           "BAC + 1"
          ],
          [
           "Bordeaux",
           690,
           "Public",
           "BAC + 1"
          ],
          [
           "Bordeaux",
           92,
           "Privé",
           null
          ],
          [
           "Bordeaux",
           62,
           "Privé",
           null
          ],
          [
           "Bordeaux",
           21,
           "Privé",
           "BAC + 2"
          ],
          [
           "Bordeaux",
           28,
           "Privé",
           "BAC + 1"
          ],
          [
           "Bordeaux",
           57,
           "Privé",
           "BAC + 3"
          ],
          [
           "Bordeaux",
           65,
           "Public",
           "BAC + 2"
          ],
          [
           "Bordeaux",
           214,
           "Public",
           "BAC + 1"
          ],
          [
           "Bordeaux",
           111,
           "Privé",
           null
          ],
          [
           "Bordeaux",
           492,
           "Public",
           null
          ],
          [
           "Bordeaux",
           29,
           "Public",
           "BAC + 1"
          ],
          [
           "Bordeaux",
           63,
           "Privé",
           null
          ],
          [
           "Bordeaux",
           112,
           "Privé",
           "BAC + 2"
          ],
          [
           "Bordeaux",
           44,
           "Public",
           null
          ],
          [
           "Bordeaux",
           129,
           "Public",
           null
          ],
          [
           "Bordeaux",
           245,
           "Privé",
           null
          ],
          [
           "Bordeaux",
           26,
           "Privé",
           null
          ],
          [
           "Bordeaux",
           102,
           "Privé",
           null
          ],
          [
           "Bordeaux",
           127,
           "Privé",
           null
          ],
          [
           "Bordeaux",
           31,
           "Privé",
           null
          ],
          [
           "Bordeaux",
           40,
           "Public",
           "BAC + 3"
          ],
          [
           "Bordeaux",
           47,
           "Privé",
           "BAC + 1"
          ],
          [
           "Bordeaux",
           123,
           "Privé",
           "BAC + 2"
          ],
          [
           "Bordeaux",
           415,
           "Public",
           null
          ],
          [
           "Bordeaux",
           38,
           "Privé",
           "BAC + 1"
          ],
          [
           "Bordeaux",
           203,
           "Public",
           "BAC + 1"
          ],
          [
           "Bordeaux",
           235,
           "Public",
           null
          ],
          [
           "Bordeaux",
           42,
           "Privé",
           "BAC + 2"
          ],
          [
           "Bordeaux",
           25,
           "Public",
           "BAC + 3"
          ],
          [
           "Bordeaux",
           618,
           "Public",
           "BAC + 2"
          ],
          [
           "Bordeaux",
           125,
           "Public",
           "BAC + 2"
          ],
          [
           "Bordeaux",
           104,
           "Public",
           "BAC + 2"
          ],
          [
           "Bordeaux",
           35,
           "Privé",
           null
          ],
          [
           "Bordeaux",
           1127,
           "Public",
           null
          ],
          [
           "Bordeaux",
           60,
           "Privé",
           "BAC + 2"
          ],
          [
           "Bordeaux",
           38,
           "Privé",
           "BAC + 2"
          ],
          [
           "Bordeaux",
           35,
           "Privé",
           "BAC + 1"
          ],
          [
           "Bordeaux",
           28,
           "Public",
           "BAC + 2"
          ],
          [
           "Bordeaux",
           69,
           "Privé",
           "BAC + 2"
          ],
          [
           "Bordeaux",
           100,
           "Privé",
           null
          ],
          [
           "Bordeaux",
           127,
           "Privé",
           null
          ],
          [
           "Bordeaux",
           28,
           "Privé",
           "BAC + 1"
          ],
          [
           "Bordeaux",
           1234,
           "Public",
           null
          ],
          [
           "Bordeaux",
           176,
           "Privé",
           null
          ],
          [
           "Bordeaux",
           32,
           "Privé",
           null
          ],
          [
           "Bordeaux",
           83,
           "Privé",
           "BAC + 2"
          ],
          [
           "Bordeaux",
           124,
           "Public",
           null
          ],
          [
           "Bordeaux",
           227,
           "Public",
           null
          ],
          [
           "Bordeaux",
           157,
           "Public",
           "BAC + 2"
          ],
          [
           "Bordeaux",
           62,
           "Privé",
           "BAC + 2"
          ],
          [
           "Bordeaux",
           109,
           "Privé",
           "BAC + 2"
          ],
          [
           "Bordeaux",
           1181,
           "Public",
           null
          ],
          [
           "Bordeaux",
           9,
           "Public",
           null
          ],
          [
           "Bordeaux",
           40,
           "Privé",
           null
          ],
          [
           "Bordeaux",
           67,
           "Privé",
           null
          ],
          [
           "Bordeaux",
           379,
           "Public",
           null
          ],
          [
           "Bordeaux",
           372,
           "Public",
           null
          ],
          [
           "Bordeaux",
           235,
           "Public",
           null
          ],
          [
           "Bordeaux",
           67,
           "Public",
           "BAC + 2"
          ],
          [
           "Bordeaux",
           69,
           "Public",
           "BAC + 1"
          ],
          [
           "Bordeaux",
           55,
           "Privé",
           "BAC + 3"
          ],
          [
           "Bordeaux",
           32,
           "Privé",
           "BAC + 2"
          ],
          [
           "Bordeaux",
           30,
           "Privé",
           null
          ],
          [
           "Bordeaux",
           1172,
           "Public",
           null
          ],
          [
           "Bordeaux",
           192,
           "Public",
           "BAC + 1"
          ],
          [
           "Bordeaux",
           9,
           "Public",
           "Inférieur ou égal au baccalauréat"
          ],
          [
           "Bordeaux",
           609,
           "Public",
           "BAC + 2"
          ],
          [
           "Bordeaux",
           74,
           "Privé",
           null
          ],
          [
           "Bordeaux",
           71,
           "Privé",
           null
          ],
          [
           "Bordeaux",
           69,
           "Privé",
           null
          ],
          [
           "Bordeaux",
           99,
           "Privé",
           null
          ]
         ],
         "hovertemplate": "<b>%{hovertext}</b><br><br>catégorie d'établissement=Lycées<br>nombre total d’étudiants inscrits hors doubles inscriptions université/CPGE=%{customdata[1]}<br>lat=%{lat}<br>lon=%{lon}<br>Commune=%{customdata[0]}<br>secteur d'établissement=%{customdata[2]}<br>degre_etudes=%{customdata[3]}<extra></extra>",
         "hovertext": [
          "LYCEE GENERAL ET TECHNOLOGIQUE",
          "LT LYCEE DES METIERS",
          "LYCEE GENERAL PRIVE",
          null,
          "LYC TECHNOL PRIVE DES METIERS",
          "LYC GEN-TECHNO PR DES METIERS",
          "LYCEE POLYVALENT",
          "LYC TECHNOL PRIVE DES METIERS",
          "LYCEE GENERAL ET TECHNOLOGIQUE",
          "LYCEE GENERAL PRIVE",
          "LYCEE GENERAL",
          "LYCEE POLYVALENT",
          "LT LYCEE DES METIERS",
          "LT LYCEE DES METIERS",
          "ECOLE PRIVEE",
          "LYCEE PROF PRIVE DES METIERS",
          "LYCEE PROF PRIVE DES METIERS",
          "LYCEE PROF PRIVE DES METIERS",
          "LYCEE GENERAL ET TECHNOLOGIQUE",
          null,
          null,
          "LYCEE PROF PRIVE DES METIERS",
          "LYC GEN TECH PRIVE",
          "LYCEE GEN.ET TECHNOL.PRIVE",
          "ECOLE TECHNIQUE PRIVEE",
          null,
          "ECOLE PRIVEE",
          "LYCEE GEN.ET TECHNOL.PRIVE",
          "LYC TECHNOL PRIVE DES METIERS",
          "LYCEE GENERAL",
          "LYCEE GENERAL ET TECHNOLOGIQUE",
          "LYC GEN-TECHNO PR DES METIERS",
          "ECOLE TECHNIQUE PRIVEE",
          "LT LYCEE DES METIERS",
          null,
          "LYCEE GENERAL ET TECHNOLOGIQUE",
          "LT LYCEE DES METIERS",
          "LYCEE GEN.ET TECHNOL.PRIVE",
          "LYCEE TECHNOLOGIQUE PRIVE",
          "ECOLE TECHNIQUE PRIVEE",
          "LYCEE GENERAL ET TECHNOLOGIQUE",
          "LT LYCEE DES METIERS",
          "LYCEE GENERAL ET TECHNOLOGIQUE",
          "LYCEE GENERAL",
          "LYCEE GEN.ET TECHNOL.PRIVE",
          "LYC GEN-TECHNO PR DES METIERS",
          "ECOLE 2D DEGRE PROF.PRIVEE",
          "ECOLE TECHNIQUE PRIVEE",
          "LYCEE GEN.ET TECHNOL.PRIVE",
          "LYCEE GENERAL",
          "LYCEE GENERAL",
          "LYCEE GENERAL ET TECHNOLOGIQUE",
          "LYCEE GENERAL ET TECHNOLOGIQUE",
          "LYC GEN TECH PRIVE",
          "LYCEE TECHNOLOGIQUE PRIVE",
          null,
          "LYCEE GEN.ET TECHNOL.PRIVE",
          "LYCEE GENERAL",
          "LYCEE GEN.ET TECHNOL.PRIVE",
          "LYCEE GENERAL PRIVE",
          "LYCEE GENERAL PRIVE",
          "LYCEE GENERAL",
          "LYC GEN-TECHNO PR DES METIERS",
          "ECOLE PRIVEE",
          "LYCEE POLYVALENT",
          null,
          "LYCEE GENERAL ET TECHNOLOGIQUE",
          "LYCEE GENERAL",
          "LYCEE GENERAL",
          "LYC GEN TECH PRIVE",
          "LYCEE GEN.ET TECHNOL.PRIVE",
          "LYCEE TECHNOLOGIQUE PRIVE",
          "LYCEE GENERAL",
          "LYCEE GENERAL",
          "LYCEE GENERAL",
          "LYC TECHNOL PRIVE DES METIERS",
          "ECOLE SECONDAIRE PROF.PRIVEE",
          "LYC GEN TECH PRIVE",
          null,
          "LYCEE GENERAL",
          "LYCEE PROF PRIVE DES METIERS",
          "LYC GEN TECH PRIVE",
          "LYCEE GENERAL ET TECHNOLOGIQUE",
          "ECOLE SECONDAIRE PROF.PRIVEE",
          "LYCEE TECHNOLOGIQUE PRIVE",
          "ECOLE 2D DEGRE PROF.PRIVEE",
          "ECOLE 2ND DEGRE PROF PRIVEE",
          "LYC TECHNOL PRIVE DES METIERS",
          "LYCEE GENERAL ET TECHNOLOGIQUE",
          "LYC GEN TECH PRIVE DES METIERS",
          "LA COMPAGNIE DE FORMATION",
          null,
          "LYCEE TECHNOLOGIQUE PRIVE",
          "LYCEE TECHNOLOGIQUE PRIVE",
          "ECOLE 2ND DEGRE PROF PRIVEE",
          null,
          "LYCEE POLYVALENT",
          "LT LYCEE DES METIERS",
          "LYCEE GENERAL",
          "LYCEE GENERAL ET TECHNOLOGIQUE",
          "LYCEE GENERAL ET TECHNOLOGIQUE",
          "LYCEE GENERAL ET TECHNOLOGIQUE",
          "LYCEE GENERAL ET TECHNOLOGIQUE",
          null,
          "LYCEE GEN.ET TECHNOL.PRIVE",
          "ECOLE SECONDAIRE PROF.PRIVEE",
          "LYC GEN-TECHNO PR DES METIERS",
          "LYC TECHNOL PRIVE DES METIERS",
          "LYC TECHNOL PRIVE DES METIERS",
          "ECOLE 2ND DEGRE PROF PRIVEE",
          "LYCEE GENERAL ET TECHNOLOGIQUE",
          "LYCEE GENERAL PRIVE",
          "LYCEE TECHNOLOGIQUE PRIVE",
          "LYCEE TECHNOLOGIQUE PRIVE",
          "LYCEE GEN.ET TECHNOL.PRIVE",
          "LYCEE GENERAL ET TECHNOLOGIQUE",
          "LYCEE GENERAL ET TECHNOLOGIQUE",
          "LYC GEN-TECHNO PR DES METIERS",
          "LYC TECHNOL PRIVE DES METIERS",
          "LYC GEN TECH PRIVE DES METIERS",
          "LYCEE GEN.ET TECHNOL.PRIVE",
          "LYCEE GEN.ET TECHNOL.PRIVE",
          "LYCEE GENERAL",
          "LYCEE GENERAL PRIVE",
          "LYC GEN-TECHNO PR DES METIERS",
          "LYC TECHNOL PRIVE DES METIERS",
          null,
          "LYCEE GENERAL PRIVE",
          "ECOLE SECONDAIRE PROF.PRIVEE",
          "LYCEE GENERAL",
          "LYCEE GENERAL ET TECHNOLOGIQUE",
          "LYC GEN TECH PRIVE",
          "LYCEE GEN.ET TECHNOL.PRIVE",
          "LYCEE GENERAL ET TECHNOLOGIQUE",
          "LYCEE TECHNOLOGIQUE PRIVE",
          "LYCEE GENERAL ET TECHNOLOGIQUE",
          "LYC TECHNOL PRIVE DES METIERS",
          "ECOLE 2D DEGRE PROF.PRIVEE",
          "LYCEE GENERAL ET TECHNOLOGIQUE",
          "LYCEE GENERAL ET TECHNOLOGIQUE",
          "LYC GEN-TECHNO PR DES METIERS",
          "LYCEE GEN.ET TECHNOL.PRIVE",
          "LYCEE GENERAL ET TECHNOLOGIQUE",
          "LYCEE GENERAL",
          "LYCEE GENERAL ET TECHNOLOGIQUE",
          "LYCEE GENERAL",
          "LYCEE POLYVALENT",
          "LYCEE GENERAL",
          "LYCEE POLYVALENT",
          "LYCEE GENERAL",
          "ECOLE 2ND DEGRE PROF PRIVEE",
          "LYCEE TECHNOLOGIQUE PRIVE",
          "LYC TECHNOL PRIVE DES METIERS",
          "LYCEE GENERAL PRIVE",
          "LT LYCEE DES METIERS",
          "ECOLE SECONDAIRE PROF.PRIVEE",
          "LYCEE GENERAL PRIVE",
          "LYCEE POLYVALENT",
          null,
          "ECOLE 2ND DEGRE PROF PRIVEE",
          "LYCEE GENERAL PRIVE",
          "LYCEE GEN.ET TECHNOL.PRIVE",
          "LYCEE GENERAL PRIVE",
          "LA COMPAGNIE DE FORMATION",
          "LYCEE GEN.ET TECHNOL.PRIVE",
          "LYCEE GENERAL PRIVE",
          "ECOLE PRIVEE",
          "LYC GEN TECH PRIVE",
          "LYCEE TECHNOLOGIQUE PRIVE",
          "LYCEE GENERAL PRIVE",
          "ECOLE 2ND DEGRE PROF PRIVEE",
          "ECOLE PRIVEE",
          "ECOLE 2D DEGRE PROF.PRIVEE",
          "LYCEE GENERAL PRIVE",
          "ECOLE PRIVEE",
          "LYCEE GEN.ET TECHNOL.PRIVE",
          "LYCEE PROF PRIVE DES METIERS",
          "LYCEE GENERAL PRIVE",
          "ECOLE PRIVEE",
          "ECOLE 2D DEGRE PROF.PRIVEE",
          "LYCEE GENERAL ET TECHNOLOGIQUE",
          "LT LYCEE DES METIERS",
          "ECOLE PRIVEE",
          "LYCEE TECHNOLOGIQUE PRIVE",
          "ECOLE SECONDAIRE PROF.PRIVEE",
          "LYCEE GENERAL ET TECHNOLOGIQUE",
          "LYCEE POLYVALENT",
          "LYCEE GENERAL ET TECHNOLOGIQUE",
          "LYCEE GENERAL",
          "LYCEE POLYVALENT",
          "ECOLE SECONDAIRE PROF.PRIVEE",
          null,
          "LYCEE GENERAL ET TECHNOLOGIQUE",
          "LYCEE GEN.ET TECHNOL.PRIVE",
          "LYCEE GEN.ET TECHNOL.PRIVE",
          "LYC TECHNOL PRIVE DES METIERS",
          "ECOLE 2D DEGRE PROF.PRIVEE",
          "LYCEE GENERAL ET TECHNOLOGIQUE",
          "LYC GEN TECH PRIVE",
          "LYC GEN-TECHNO PR DES METIERS",
          "LYCEE GENERAL ET TECHNOLOGIQUE",
          "LYCEE GENERAL ET TECHNOLOGIQUE",
          "LYCEE GENERAL PRIVE",
          "ECOLE SECONDAIRE PROF.PRIVEE",
          "LYCEE GENERAL PRIVE",
          "LYC GEN TECH PRIVE",
          "LYCEE POLYVALENT",
          "LYC GEN-TECHNO PR DES METIERS",
          "LYC TECHNOL PRIVE DES METIERS",
          "LYCEE GEN.ET TECHNOL.PRIVE",
          "ECOLE SECONDAIRE PROF.PRIVEE",
          "LYCEE GENERAL PRIVE",
          "LYCEE GENERAL ET TECHNOLOGIQUE",
          "LYCEE GENERAL ET TECHNOLOGIQUE",
          "LYCEE GENERAL PRIVE",
          "LYCEE GENERAL ET TECHNOLOGIQUE",
          "LYCEE GENERAL",
          "LYCEE GEN.ET TECHNOL.PRIVE",
          "LYCEE GENERAL PRIVE",
          "LYCEE GENERAL",
          "LYCEE GENERAL ET TECHNOLOGIQUE",
          "LYCEE GENERAL PRIVE",
          null,
          "ECOLE PRIVEE",
          "LYCEE TECHNOLOGIQUE PRIVE",
          null,
          "LYCEE POLYVALENT",
          "LYCEE GEN.ET TECHNOL.PRIVE",
          "LYCEE GENERAL PRIVE",
          "LYCEE GENERAL ET TECHNOLOGIQUE",
          "LYCEE PROF PRIVE DES METIERS",
          "LYCEE GENERAL ET TECHNOLOGIQUE",
          "LYCEE GENERAL ET TECHNOLOGIQUE",
          "LYCEE PROF PRIVE DES METIERS",
          "LYCEE GENERAL",
          "LYCEE POLYVALENT",
          "LT LYCEE DES METIERS",
          "LYCEE GENERAL ET TECHNOLOGIQUE",
          "ECOLE SECONDAIRE PROF.PRIVEE",
          "LYCEE GENERAL",
          "LYCEE GENERAL PRIVE",
          "LYC TECHNOL PRIVE DES METIERS",
          "ECOLE SECONDAIRE PROF.PRIVEE",
          "LYCEE GENERAL",
          "LYCEE TECHNOLOGIQUE PRIVE",
          "LYCEE GEN.ET TECHNOL.PRIVE",
          "LYCEE GENERAL PRIVE",
          "ECOLE PRIVEE",
          "LYCEE POLYVALENT",
          "LYCEE TECHNOLOGIQUE PRIVE",
          null,
          "LYC GEN TECH PRIVE",
          "LYCEE GENERAL ET TECHNOLOGIQUE",
          "LT LYCEE DES METIERS",
          "LYCEE GENERAL ET TECHNOLOGIQUE",
          "LYCEE GENERAL PRIVE",
          "LYCEE GENERAL PRIVE",
          "LYCEE POLYVALENT",
          null,
          "ECOLE SECONDAIRE PROF.PRIVEE",
          "LYC TECHNOL PRIVE DES METIERS",
          "LYCEE GENERAL ET TECHNOLOGIQUE",
          "LYCEE GENERAL ET TECHNOLOGIQUE",
          "LT LYCEE DES METIERS",
          "LYCEE GENERAL ET TECHNOLOGIQUE",
          "LYCEE GENERAL ET TECHNOLOGIQUE",
          "LYCEE GENERAL PRIVE",
          "ECOLE PRIVEE",
          "LYCEE PROF PRIVE DES METIERS",
          "LYCEE GENERAL",
          "LYCEE GENERAL ET TECHNOLOGIQUE",
          "LYCEE GENERAL ET TECHNOLOGIQUE",
          "LYCEE POLYVALENT",
          "ECOLE PRIVEE",
          "LYC GEN-TECHNO PR DES METIERS",
          "LYC GEN-TECHNO PR DES METIERS",
          "LYCEE GEN.ET TECHNOL.PRIVE"
         ],
         "lat": {
          "bdata": "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",
          "dtype": "f8"
         },
         "legendgroup": "Lycées",
         "lon": {
          "bdata": "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",
          "dtype": "f8"
         },
         "marker": {
          "color": "#EF553B",
          "size": {
           "bdata": "zACJAPkADwAMACAALgBcAOoARgAeALUCiAB5ACIASAA0ACoAfAAyACYAZQC+AEIAWwAgADYAFAApAFICfwAdAAwA8AALAJQAfgA5ACEACwD2AOwAfwAiAE8AHAAVAGUAGwCMAiAA9gCSAFcARgAaAEEAnQQ+AFQA5QCGBE0AZwCKBS8AeQAZABIAWgASAE8AiwJZAh0ALgAOALcACQAjACgARQAyACkAvABHAA0AVADSAbwAMAAjADUAIQAQAAcAIwCCAHYCRAByAZMBfgAdADUAMwAXABMAXQAbANUAbQAgAH8AMgBUAMoAIwA5ALYAQwA3AB4APwAhAAwABwDvABsAHwCEAFIAFACeAYEAlgAxACQAYQGOAUsAMABdAJoEkQE2AM8EkASzBBwAHgA7AEwAZgADAQkAQQDjBBgAEwA+ADoAbQAfAEIASQBLALYAwQD8AAkASQAUADkAZwA/AC0AbAAnADkAXwH7ACoARwAeANoAugLqAEMCggIMABcA8QAgABsAMAAxAFwAtQBTAPQA8wC4ACEARQBaALICXAA+ABUAHAA5AEEA1gBvAOwBHQA/AHAALACBAPUAGgBmAH8AHwAoAC8AewCfASYAywDrACoAGQBqAn0AaAAjAGcEPAAmACMAHABFAGQAfwAcANIEsAAgAFMAfADjAJ0APgBtAJ0ECQAoAEMAewF0AesAQwBFADcAIAAeAJQEwAAJAGECSgBHAEUAYwA=",
           "dtype": "i2"
          },
          "sizemode": "area",
          "sizeref": 25.4025
         },
         "mode": "markers",
         "name": "Lycées",
         "showlegend": true,
         "subplot": "map",
         "type": "scattermap"
        },
        {
         "customdata": [
          [
           "Bordeaux",
           29,
           "Privé",
           "BAC + 3"
          ],
          [
           "Bordeaux",
           346,
           "Privé",
           "BAC + 2"
          ],
          [
           "Bordeaux",
           323,
           "Privé",
           "BAC + 4"
          ],
          [
           "Bordeaux",
           198,
           "Privé",
           "BAC + 1"
          ],
          [
           "Bordeaux",
           29,
           "Privé",
           "BAC + 1"
          ],
          [
           "Bordeaux",
           7,
           "Privé",
           "BAC + 5"
          ],
          [
           "Bordeaux",
           104,
           "Privé",
           "BAC + 4"
          ],
          [
           "Bordeaux",
           15,
           "Privé",
           "BAC + 4"
          ],
          [
           "Bordeaux",
           769,
           "Privé",
           null
          ],
          [
           "Bordeaux",
           245,
           "Privé",
           "BAC + 1"
          ],
          [
           "Bordeaux",
           108,
           "Privé",
           null
          ],
          [
           "Bordeaux",
           130,
           "Privé",
           "BAC + 1"
          ],
          [
           "Bordeaux",
           156,
           "Privé",
           "BAC + 1"
          ],
          [
           "Bordeaux",
           25,
           "Privé",
           "BAC + 2"
          ],
          [
           "Bordeaux",
           89,
           "Privé",
           "BAC + 3"
          ],
          [
           "Bordeaux",
           78,
           "Privé",
           "BAC + 1"
          ],
          [
           "Bordeaux",
           1,
           "Privé",
           "BAC + 5"
          ],
          [
           "Bordeaux",
           848,
           "Privé",
           "BAC + 3"
          ],
          [
           "Bordeaux",
           106,
           "Privé",
           "BAC + 4"
          ],
          [
           "Bordeaux",
           27,
           "Privé",
           "BAC + 2"
          ],
          [
           "Bordeaux",
           33,
           "Privé",
           null
          ],
          [
           "Bordeaux",
           275,
           "Privé",
           null
          ],
          [
           "Bordeaux",
           669,
           "Privé",
           null
          ],
          [
           "Bordeaux",
           155,
           "Privé",
           "BAC + 2"
          ],
          [
           "Bordeaux",
           1,
           "Privé",
           "BAC + 5"
          ],
          [
           "Bordeaux",
           1,
           "Privé",
           "BAC + 5"
          ],
          [
           "Bordeaux",
           13,
           "Privé",
           "BAC + 5"
          ],
          [
           "Bordeaux",
           273,
           "Privé",
           "BAC + 4"
          ],
          [
           "Bordeaux",
           248,
           "Privé",
           "BAC + 5"
          ],
          [
           "Bordeaux",
           31,
           "Privé",
           null
          ],
          [
           "Bordeaux",
           6,
           "Privé",
           "BAC + 3"
          ],
          [
           "Bordeaux",
           19,
           "Privé",
           "BAC + 1"
          ],
          [
           "Bordeaux",
           23,
           "Privé",
           "BAC + 4"
          ],
          [
           "Bordeaux",
           18,
           "Privé",
           "BAC + 5"
          ],
          [
           "Bordeaux",
           109,
           "Privé",
           "BAC + 3"
          ],
          [
           "Bordeaux",
           249,
           "Privé",
           null
          ],
          [
           "Bordeaux",
           26,
           "Privé",
           null
          ],
          [
           "Bordeaux",
           18,
           "Privé",
           "BAC + 4"
          ],
          [
           "Bordeaux",
           65,
           "Privé",
           "BAC + 5"
          ],
          [
           "Bordeaux",
           174,
           "Privé",
           "BAC + 1"
          ],
          [
           "Bordeaux",
           28,
           "Privé",
           "BAC + 2"
          ],
          [
           "Bordeaux",
           1054,
           "Privé",
           null
          ],
          [
           "Bordeaux",
           924,
           "Privé",
           null
          ],
          [
           "Bordeaux",
           1017,
           "Privé",
           null
          ],
          [
           "Bordeaux",
           288,
           "Privé",
           "BAC + 4"
          ],
          [
           "Bordeaux",
           71,
           "Privé",
           null
          ],
          [
           "Bordeaux",
           519,
           "Privé",
           null
          ],
          [
           "Bordeaux",
           638,
           "Privé",
           null
          ],
          [
           "Bordeaux",
           37,
           "Privé",
           "BAC + 4"
          ],
          [
           "Bordeaux",
           68,
           "Privé",
           "BAC + 5"
          ],
          [
           "Bordeaux",
           249,
           "Privé",
           null
          ],
          [
           "Bordeaux",
           153,
           "Privé",
           "BAC + 2"
          ],
          [
           "Bordeaux",
           13,
           "Privé",
           "BAC + 5"
          ],
          [
           "Bordeaux",
           90,
           "Privé",
           "BAC + 3"
          ],
          [
           "Bordeaux",
           29,
           "Privé",
           "BAC + 1"
          ],
          [
           "Bordeaux",
           17,
           "Privé",
           "BAC + 2"
          ],
          [
           "Bordeaux",
           159,
           "Privé",
           null
          ],
          [
           "Bordeaux",
           163,
           "Privé",
           null
          ],
          [
           "Bordeaux",
           39,
           "Privé",
           "BAC + 1"
          ],
          [
           "Bordeaux",
           38,
           "Privé",
           "BAC + 2"
          ],
          [
           "Bordeaux",
           2,
           "Privé",
           "BAC + 3"
          ],
          [
           "Bordeaux",
           129,
           "Privé",
           "BAC + 1"
          ],
          [
           "Bordeaux",
           436,
           "Privé",
           "BAC + 1"
          ],
          [
           "Bordeaux",
           152,
           "Privé",
           "BAC + 3"
          ],
          [
           "Bordeaux",
           54,
           "Privé",
           "BAC + 1"
          ],
          [
           "Bordeaux",
           11,
           "Privé",
           "BAC + 2"
          ],
          [
           "Bordeaux",
           22,
           "Privé",
           "BAC + 1"
          ],
          [
           "Bordeaux",
           49,
           "Privé",
           null
          ],
          [
           "Bordeaux",
           110,
           "Privé",
           null
          ],
          [
           "Bordeaux",
           67,
           "Privé",
           "BAC + 1"
          ],
          [
           "Bordeaux",
           114,
           "Privé",
           "BAC + 1"
          ],
          [
           "Bordeaux",
           687,
           "Privé",
           null
          ],
          [
           "Bordeaux",
           19,
           "Privé",
           null
          ],
          [
           "Bordeaux",
           64,
           "Privé",
           "BAC + 2"
          ],
          [
           "Bordeaux",
           222,
           "Privé",
           null
          ],
          [
           "Bordeaux",
           316,
           "Privé",
           null
          ],
          [
           "Bordeaux",
           265,
           "Privé",
           null
          ],
          [
           "Bordeaux",
           9,
           "Privé",
           "BAC + 3"
          ],
          [
           "Bordeaux",
           140,
           "Privé",
           "BAC + 3"
          ],
          [
           "Bordeaux",
           205,
           "Privé",
           "BAC + 4"
          ],
          [
           "Bordeaux",
           43,
           "Privé",
           "BAC + 1"
          ],
          [
           "Bordeaux",
           116,
           "Privé",
           "BAC + 1"
          ],
          [
           "Bordeaux",
           144,
           "Privé",
           "BAC + 2"
          ],
          [
           "Bordeaux",
           21,
           "Privé",
           "BAC + 1"
          ],
          [
           "Bordeaux",
           35,
           "Privé",
           "BAC + 3"
          ],
          [
           "Bordeaux",
           1,
           "Privé",
           "BAC + 4"
          ],
          [
           "Bordeaux",
           33,
           "Privé",
           "BAC + 1"
          ],
          [
           "Bordeaux",
           18,
           "Privé",
           null
          ],
          [
           "Bordeaux",
           13,
           "Privé",
           "BAC + 4"
          ],
          [
           "Bordeaux",
           2,
           "Privé",
           "BAC + 3"
          ],
          [
           "Bordeaux",
           111,
           "Privé",
           "BAC + 5"
          ],
          [
           "Bordeaux",
           20,
           "Privé",
           "BAC + 2"
          ],
          [
           "Bordeaux",
           238,
           "Privé",
           "BAC + 3"
          ],
          [
           "Bordeaux",
           1082,
           "Privé",
           null
          ],
          [
           "Bordeaux",
           57,
           "Privé",
           "BAC + 3"
          ],
          [
           "Bordeaux",
           22,
           "Privé",
           "BAC + 3"
          ],
          [
           "Bordeaux",
           673,
           "Privé",
           null
          ],
          [
           "Bordeaux",
           392,
           "Privé",
           null
          ],
          [
           "Bordeaux",
           4,
           "Privé",
           null
          ],
          [
           "Bordeaux",
           96,
           "Privé",
           null
          ],
          [
           "Bordeaux",
           46,
           "Privé",
           "BAC + 5"
          ],
          [
           "Bordeaux",
           27,
           "Privé",
           "BAC + 2"
          ],
          [
           "Bordeaux",
           173,
           "Privé",
           "BAC + 1"
          ],
          [
           "Bordeaux",
           157,
           "Privé",
           "BAC + 5"
          ],
          [
           "Bordeaux",
           90,
           "Privé",
           "BAC + 1"
          ],
          [
           "Bordeaux",
           41,
           "Privé",
           "BAC + 3"
          ],
          [
           "Bordeaux",
           62,
           "Privé",
           "BAC + 2"
          ],
          [
           "Bordeaux",
           14,
           "Privé",
           "BAC + 1"
          ],
          [
           "Bordeaux",
           1248,
           "Privé",
           null
          ],
          [
           "Bordeaux",
           88,
           "Privé",
           null
          ],
          [
           "Bordeaux",
           515,
           "Privé",
           "BAC + 1"
          ],
          [
           "Bordeaux",
           67,
           "Privé",
           "BAC + 5"
          ],
          [
           "Bordeaux",
           39,
           "Privé",
           "BAC + 1"
          ],
          [
           "Bordeaux",
           109,
           "Privé",
           "BAC + 3"
          ],
          [
           "Bordeaux",
           46,
           "Privé",
           null
          ],
          [
           "Bordeaux",
           60,
           "Privé",
           "BAC + 2"
          ],
          [
           "Bordeaux",
           65,
           "Privé",
           "BAC + 3"
          ],
          [
           "Bordeaux",
           245,
           "Privé",
           "BAC + 1"
          ],
          [
           "Bordeaux",
           33,
           "Privé",
           null
          ],
          [
           "Bordeaux",
           437,
           "Privé",
           null
          ],
          [
           "Bordeaux",
           670,
           "Privé",
           "BAC + 3"
          ],
          [
           "Bordeaux",
           46,
           "Privé",
           "BAC + 2"
          ],
          [
           "Bordeaux",
           41,
           "Privé",
           "BAC + 5"
          ],
          [
           "Bordeaux",
           66,
           "Privé",
           "BAC + 4"
          ],
          [
           "Bordeaux",
           249,
           "Privé",
           null
          ],
          [
           "Bordeaux",
           4,
           "Privé",
           "BAC + 4"
          ],
          [
           "Bordeaux",
           20,
           "Privé",
           "BAC + 5"
          ],
          [
           "Bordeaux",
           19,
           "Privé",
           "BAC + 3"
          ],
          [
           "Bordeaux",
           8,
           "Privé",
           "BAC + 3"
          ],
          [
           "Bordeaux",
           125,
           "Privé",
           "BAC + 3"
          ],
          [
           "Bordeaux",
           75,
           "Privé",
           "BAC + 2"
          ],
          [
           "Bordeaux",
           1,
           "Privé",
           "BAC + 5"
          ],
          [
           "Bordeaux",
           113,
           "Privé",
           "BAC + 5"
          ],
          [
           "Bordeaux",
           315,
           "Privé",
           null
          ],
          [
           "Bordeaux",
           75,
           "Privé",
           "BAC + 1"
          ],
          [
           "Bordeaux",
           29,
           "Privé",
           "BAC + 1"
          ],
          [
           "Bordeaux",
           40,
           "Privé",
           "BAC + 3"
          ],
          [
           "Bordeaux",
           35,
           "Privé",
           "BAC + 4"
          ],
          [
           "Bordeaux",
           54,
           "Privé",
           "BAC + 2"
          ],
          [
           "Bordeaux",
           3,
           "Privé",
           "BAC + 5"
          ],
          [
           "Bordeaux",
           55,
           "Privé",
           null
          ],
          [
           "Bordeaux",
           249,
           "Privé",
           null
          ],
          [
           "Bordeaux",
           24,
           "Privé",
           "BAC + 2"
          ],
          [
           "Bordeaux",
           1,
           "Privé",
           "BAC + 5"
          ],
          [
           "Bordeaux",
           39,
           "Privé",
           "BAC + 5"
          ],
          [
           "Bordeaux",
           147,
           "Privé",
           "BAC + 2"
          ],
          [
           "Bordeaux",
           218,
           "Privé",
           null
          ],
          [
           "Bordeaux",
           8,
           "Privé",
           "BAC + 4"
          ],
          [
           "Bordeaux",
           25,
           "Privé",
           "BAC + 2"
          ],
          [
           "Bordeaux",
           15,
           "Privé",
           "BAC + 4"
          ],
          [
           "Bordeaux",
           335,
           "Privé",
           null
          ],
          [
           "Bordeaux",
           145,
           "Privé",
           "BAC + 3"
          ],
          [
           "Bordeaux",
           17,
           "Privé",
           "BAC + 2"
          ],
          [
           "Bordeaux",
           22,
           "Privé",
           "BAC + 3"
          ],
          [
           "Bordeaux",
           56,
           "Privé",
           "BAC + 2"
          ],
          [
           "Bordeaux",
           76,
           "Privé",
           "BAC + 1"
          ],
          [
           "Bordeaux",
           141,
           "Privé",
           null
          ],
          [
           "Bordeaux",
           344,
           "Privé",
           null
          ],
          [
           "Bordeaux",
           459,
           "Privé",
           null
          ],
          [
           "Bordeaux",
           47,
           "Privé",
           "BAC + 3"
          ],
          [
           "Bordeaux",
           284,
           "Privé",
           "BAC + 1"
          ],
          [
           "Bordeaux",
           24,
           "Privé",
           "BAC + 2"
          ],
          [
           "Bordeaux",
           57,
           "Privé",
           "BAC + 3"
          ],
          [
           "Bordeaux",
           76,
           "Privé",
           "BAC + 1"
          ],
          [
           "Bordeaux",
           159,
           "Privé",
           "BAC + 3"
          ],
          [
           "Bordeaux",
           255,
           "Privé",
           "BAC + 5"
          ],
          [
           "Bordeaux",
           128,
           "Privé",
           "BAC + 4"
          ],
          [
           "Bordeaux",
           74,
           "Privé",
           "BAC + 5"
          ],
          [
           "Bordeaux",
           264,
           "Privé",
           "BAC + 4"
          ],
          [
           "Bordeaux",
           30,
           "Privé",
           "BAC + 5"
          ],
          [
           "Bordeaux",
           80,
           "Privé",
           "BAC + 1"
          ],
          [
           "Bordeaux",
           71,
           "Privé",
           "BAC + 4"
          ],
          [
           "Bordeaux",
           1445,
           "Privé",
           "BAC + 4"
          ],
          [
           "Bordeaux",
           8,
           "Privé",
           "BAC + 4"
          ],
          [
           "Bordeaux",
           4,
           "Privé",
           "BAC + 1"
          ],
          [
           "Bordeaux",
           20,
           "Privé",
           "BAC + 5"
          ],
          [
           "Bordeaux",
           33,
           "Privé",
           null
          ],
          [
           "Bordeaux",
           51,
           "Privé",
           null
          ],
          [
           "Bordeaux",
           847,
           "Privé",
           null
          ],
          [
           "Bordeaux",
           61,
           "Privé",
           null
          ],
          [
           "Bordeaux",
           41,
           "Privé",
           "BAC + 3"
          ],
          [
           "Bordeaux",
           30,
           "Privé",
           "BAC + 1"
          ],
          [
           "Bordeaux",
           22,
           "Privé",
           "BAC + 1"
          ],
          [
           "Bordeaux",
           126,
           "Privé",
           null
          ],
          [
           "Bordeaux",
           111,
           "Privé",
           "BAC + 3"
          ],
          [
           "Bordeaux",
           39,
           "Privé",
           "BAC + 2"
          ],
          [
           "Bordeaux",
           139,
           "Privé",
           "BAC + 3"
          ],
          [
           "Bordeaux",
           53,
           "Privé",
           "BAC + 1"
          ],
          [
           "Bordeaux",
           281,
           "Privé",
           "BAC + 2"
          ],
          [
           "Bordeaux",
           1,
           "Privé",
           "BAC + 5"
          ],
          [
           "Bordeaux",
           31,
           "Privé",
           "BAC + 3"
          ],
          [
           "Bordeaux",
           294,
           "Privé",
           null
          ],
          [
           "Bordeaux",
           76,
           "Privé",
           null
          ],
          [
           "Bordeaux",
           247,
           "Privé",
           "BAC + 5"
          ],
          [
           "Bordeaux",
           46,
           "Privé",
           "BAC + 2"
          ],
          [
           "Bordeaux",
           282,
           "Privé",
           "BAC + 1"
          ],
          [
           "Bordeaux",
           33,
           "Privé",
           "BAC + 1"
          ],
          [
           "Bordeaux",
           284,
           "Privé",
           "BAC + 1"
          ],
          [
           "Bordeaux",
           62,
           "Privé",
           "BAC + 2"
          ],
          [
           "Bordeaux",
           1,
           "Privé",
           "BAC + 4"
          ],
          [
           "Bordeaux",
           722,
           "Privé",
           null
          ],
          [
           "Bordeaux",
           47,
           "Privé",
           "BAC + 3"
          ],
          [
           "Bordeaux",
           926,
           "Privé",
           "BAC + 5"
          ],
          [
           "Bordeaux",
           376,
           "Privé",
           "BAC + 4"
          ],
          [
           "Bordeaux",
           37,
           "Privé",
           "BAC + 3"
          ],
          [
           "Bordeaux",
           156,
           "Privé",
           null
          ],
          [
           "Bordeaux",
           740,
           "Privé",
           null
          ],
          [
           "Bordeaux",
           37,
           "Privé",
           "BAC + 4"
          ],
          [
           "Bordeaux",
           17,
           "Privé",
           "BAC + 3"
          ],
          [
           "Bordeaux",
           168,
           "Privé",
           "BAC + 2"
          ],
          [
           "Bordeaux",
           15,
           "Privé",
           "BAC + 3"
          ],
          [
           "Bordeaux",
           42,
           "Privé",
           "BAC + 2"
          ],
          [
           "Bordeaux",
           57,
           "Privé",
           "BAC + 2"
          ],
          [
           "Bordeaux",
           67,
           "Privé",
           "BAC + 4"
          ],
          [
           "Bordeaux",
           231,
           "Privé",
           "BAC + 1"
          ],
          [
           "Bordeaux",
           39,
           "Privé",
           "BAC + 1"
          ],
          [
           "Bordeaux",
           1,
           "Privé",
           "BAC + 4"
          ],
          [
           "Bordeaux",
           54,
           "Privé",
           "BAC + 2"
          ],
          [
           "Bordeaux",
           2,
           "Privé",
           null
          ],
          [
           "Bordeaux",
           48,
           "Privé",
           null
          ],
          [
           "Bordeaux",
           7,
           "Privé",
           null
          ],
          [
           "Bordeaux",
           9,
           "Privé",
           null
          ],
          [
           "Bordeaux",
           170,
           "Privé",
           null
          ],
          [
           "Bordeaux",
           330,
           "Privé",
           null
          ],
          [
           "Bordeaux",
           201,
           "Privé",
           null
          ],
          [
           "Bordeaux",
           56,
           "Privé",
           "BAC + 4"
          ],
          [
           "Bordeaux",
           1,
           "Privé",
           "BAC + 4"
          ],
          [
           "Bordeaux",
           1317,
           "Privé",
           "BAC + 4"
          ],
          [
           "Bordeaux",
           849,
           "Privé",
           "BAC + 3"
          ],
          [
           "Bordeaux",
           127,
           "Privé",
           "BAC + 2"
          ],
          [
           "Bordeaux",
           112,
           "Privé",
           "BAC + 2"
          ],
          [
           "Bordeaux",
           47,
           "Privé",
           "BAC + 2"
          ],
          [
           "Bordeaux",
           58,
           "Privé",
           "BAC + 4"
          ],
          [
           "Bordeaux",
           1,
           "Privé",
           "BAC + 4"
          ],
          [
           "Bordeaux",
           95,
           "Privé",
           "BAC + 2"
          ],
          [
           "Bordeaux",
           14,
           "Privé",
           "BAC + 4"
          ],
          [
           "Bordeaux",
           54,
           "Privé",
           null
          ],
          [
           "Bordeaux",
           245,
           "Privé",
           null
          ],
          [
           "Bordeaux",
           155,
           "Privé",
           "BAC + 2"
          ],
          [
           "Bordeaux",
           89,
           "Privé",
           "BAC + 1"
          ],
          [
           "Bordeaux",
           118,
           "Privé",
           "BAC + 2"
          ],
          [
           "Bordeaux",
           423,
           "Privé",
           null
          ],
          [
           "Bordeaux",
           180,
           "Privé",
           null
          ],
          [
           "Bordeaux",
           348,
           "Privé",
           null
          ],
          [
           "Bordeaux",
           667,
           "Privé",
           null
          ],
          [
           "Bordeaux",
           287,
           "Privé",
           "BAC + 5"
          ],
          [
           "Bordeaux",
           196,
           "Privé",
           "BAC + 1"
          ],
          [
           "Bordeaux",
           290,
           "Privé",
           null
          ],
          [
           "Bordeaux",
           480,
           "Privé",
           null
          ],
          [
           "Bordeaux",
           991,
           "Privé",
           null
          ],
          [
           "Bordeaux",
           136,
           "Privé",
           "BAC + 4"
          ],
          [
           "Bordeaux",
           21,
           "Privé",
           "BAC + 3"
          ],
          [
           "Bordeaux",
           55,
           "Privé",
           "BAC + 1"
          ],
          [
           "Bordeaux",
           142,
           "Privé",
           "BAC + 4"
          ],
          [
           "Bordeaux",
           217,
           "Privé",
           null
          ],
          [
           "Bordeaux",
           2,
           "Privé",
           "BAC + 5"
          ],
          [
           "Bordeaux",
           47,
           "Privé",
           "BAC + 2"
          ],
          [
           "Bordeaux",
           36,
           "Privé",
           "BAC + 5"
          ],
          [
           "Bordeaux",
           182,
           "Privé",
           "BAC + 5"
          ],
          [
           "Bordeaux",
           15,
           "Privé",
           "BAC + 5"
          ],
          [
           "Bordeaux",
           62,
           "Privé",
           "BAC + 1"
          ],
          [
           "Bordeaux",
           7,
           "Privé",
           "BAC + 4"
          ],
          [
           "Bordeaux",
           121,
           "Privé",
           null
          ],
          [
           "Bordeaux",
           147,
           "Privé",
           "BAC + 1"
          ],
          [
           "Bordeaux",
           40,
           "Privé",
           "BAC + 5"
          ],
          [
           "Bordeaux",
           184,
           "Privé",
           null
          ],
          [
           "Bordeaux",
           792,
           "Privé",
           null
          ],
          [
           "Bordeaux",
           265,
           "Privé",
           null
          ],
          [
           "Bordeaux",
           15,
           "Privé",
           "BAC + 2"
          ],
          [
           "Bordeaux",
           56,
           "Privé",
           "BAC + 3"
          ],
          [
           "Bordeaux",
           342,
           "Privé",
           "BAC + 2"
          ],
          [
           "Bordeaux",
           147,
           "Privé",
           null
          ],
          [
           "Bordeaux",
           15,
           "Privé",
           "BAC + 5"
          ],
          [
           "Bordeaux",
           56,
           "Privé",
           "BAC + 5"
          ],
          [
           "Bordeaux",
           13,
           "Privé",
           "BAC + 2"
          ],
          [
           "Bordeaux",
           204,
           "Privé",
           null
          ],
          [
           "Bordeaux",
           28,
           "Privé",
           "BAC + 1"
          ],
          [
           "Bordeaux",
           7,
           "Privé",
           "BAC + 3"
          ],
          [
           "Bordeaux",
           102,
           "Privé",
           "BAC + 2"
          ],
          [
           "Bordeaux",
           27,
           "Privé",
           "BAC + 2"
          ],
          [
           "Bordeaux",
           179,
           "Privé",
           "BAC + 1"
          ],
          [
           "Bordeaux",
           218,
           "Privé",
           "BAC + 2"
          ],
          [
           "Bordeaux",
           32,
           "Privé",
           "BAC + 1"
          ],
          [
           "Bordeaux",
           839,
           "Privé",
           "BAC + 5"
          ],
          [
           "Bordeaux",
           84,
           "Privé",
           "BAC + 4"
          ],
          [
           "Bordeaux",
           64,
           "Privé",
           "BAC + 2"
          ],
          [
           "Bordeaux",
           230,
           "Privé",
           "BAC + 2"
          ],
          [
           "Bordeaux",
           206,
           "Privé",
           null
          ],
          [
           "Bordeaux",
           5,
           "Privé",
           "BAC + 3"
          ],
          [
           "Bordeaux",
           21,
           "Privé",
           "BAC + 2"
          ],
          [
           "Bordeaux",
           367,
           "Privé",
           null
          ],
          [
           "Bordeaux",
           73,
           "Privé",
           "BAC + 1"
          ],
          [
           "Bordeaux",
           1066,
           "Privé",
           null
          ],
          [
           "Bordeaux",
           14,
           "Privé",
           null
          ],
          [
           "Bordeaux",
           7,
           "Privé",
           "BAC + 4"
          ],
          [
           "Bordeaux",
           37,
           "Privé",
           "BAC + 5"
          ],
          [
           "Bordeaux",
           12,
           "Privé",
           "BAC + 3"
          ],
          [
           "Bordeaux",
           325,
           "Privé",
           null
          ],
          [
           "Bordeaux",
           57,
           "Privé",
           null
          ],
          [
           "Bordeaux",
           35,
           "Privé",
           "BAC + 3"
          ],
          [
           "Bordeaux",
           31,
           "Privé",
           "BAC + 5"
          ],
          [
           "Bordeaux",
           236,
           "Privé",
           "BAC + 3"
          ],
          [
           "Bordeaux",
           13,
           "Privé",
           "BAC + 4"
          ],
          [
           "Bordeaux",
           434,
           "Privé",
           null
          ],
          [
           "Bordeaux",
           75,
           "Privé",
           null
          ],
          [
           "Bordeaux",
           289,
           "Privé",
           "BAC + 4"
          ],
          [
           "Bordeaux",
           63,
           "Privé",
           "BAC + 1"
          ],
          [
           "Bordeaux",
           26,
           "Privé",
           "BAC + 4"
          ],
          [
           "Bordeaux",
           59,
           "Privé",
           "BAC + 1"
          ],
          [
           "Bordeaux",
           112,
           "Privé",
           "BAC + 4"
          ],
          [
           "Bordeaux",
           305,
           "Privé",
           "BAC + 2"
          ],
          [
           "Bordeaux",
           21,
           "Privé",
           "BAC + 5"
          ],
          [
           "Bordeaux",
           355,
           "Privé",
           null
          ],
          [
           "Bordeaux",
           524,
           "Privé",
           null
          ],
          [
           "Bordeaux",
           84,
           "Privé",
           "BAC + 1"
          ],
          [
           "Bordeaux",
           55,
           "Privé",
           null
          ],
          [
           "Bordeaux",
           10,
           "Privé",
           "BAC + 3"
          ],
          [
           "Bordeaux",
           26,
           "Privé",
           "BAC + 4"
          ],
          [
           "Bordeaux",
           206,
           "Privé",
           "BAC + 4"
          ],
          [
           "Bordeaux",
           171,
           "Privé",
           null
          ],
          [
           "Bordeaux",
           17,
           "Privé",
           "BAC + 2"
          ],
          [
           "Bordeaux",
           32,
           "Privé",
           null
          ]
         ],
         "hovertemplate": "<b>%{hovertext}</b><br><br>catégorie d'établissement=Écoles de commerce, gestion et vente<br>nombre total d’étudiants inscrits hors doubles inscriptions université/CPGE=%{customdata[1]}<br>lat=%{lat}<br>lon=%{lon}<br>Commune=%{customdata[0]}<br>secteur d'établissement=%{customdata[2]}<br>degre_etudes=%{customdata[3]}<extra></extra>",
         "hovertext": [
          "INST HTES ETUDES ECO COM BORDX",
          "ECOLE COMMERCE EUROP BORDEAUX",
          "INST HTES ETUDES ECO COM BORDX",
          "GROUPE ESSCA",
          "IDRAC LYON",
          "ECOLE TECHNIQUE PRIVEE",
          "IFAG BORDEAUX",
          "INSTITUT SUPERIEUR DE COMMUNIC",
          "EC COMMERCE EUROP BORDEAUX",
          "ECOLE COMMERCE EUROP BORDEAUX",
          "ECOLE TECHNIQUE PRIVEE",
          "ECOLE TECHNIQUE PRIVEE",
          "ECOLE TECHNIQUE PRIVEE",
          "INSTITUT SUPERIEUR DE COMMUNIC",
          "GROUPE ESSCA",
          "I.S.E.G",
          "ECOLE TECHNIQUE PRIVEE",
          "ECOLE COMMERCE EUROP BORDEAUX",
          "ECOLE TECHNIQUE PRIVEE",
          "IFAG BORDEAUX",
          "ECOLE BORDELAISE DU VIN",
          "INST SUPERIEUR GESTION PARIS",
          "ECOLE TECHNIQUE PRIVEE",
          "INST SUPERIEUR GESTION PARIS",
          "IFAG BORDEAUX",
          "EC. TECH. PRIVEE",
          "I.S.E.G",
          "EC SUP GEST COMMERCE FINANCE",
          "INST HTES ETUDES ECO COM BORDX",
          "IFAG",
          "ECOLE TECHNIQUE PRIVEE",
          "ETABLISSEMENT SUPERIEUR PRIVE",
          "ECOLE SUPERIEURE PRIVEE",
          "IDRAC LYON",
          "INST SUP EURO FORMATION ACTION",
          "INST SUP EURO FORMATION ACTION",
          "CTR DE FORMATION D APPRENTIS",
          "ECOLE SUPERIEURE PRIVEE",
          "I.S.E.G",
          "EC. TECH. PRIVEE",
          "ORGANISME FORMATION-CFA",
          "INSEEC BORDEAUX",
          "INST HTES ETUDES ECO COM BORDX",
          "ECOLE COMMERCE EUROP BORDEAUX",
          "INST HTES ETUDES ECO COM BORDX",
          "IFAG",
          "ESARC EVOLUTION",
          "EC SUP GEST COMMERCE FINANCE",
          "GROUPE ESSCA",
          "INST SUPERIEUR GESTION PARIS",
          "INST SUP EURO FORMATION ACTION",
          "GROUPE ESSCA",
          "IDRAC LYON",
          "INST SUPERIEUR GESTION PARIS",
          "ECOLE SUP COMMERCE ECO NUMERIQ",
          "EURIDIS BORDEAUX",
          "CTR DE FORMATION D APPRENTIS",
          "IDRAC LYON",
          "ECOLE SUPERIEURE PRIVEE",
          "ECOLE TECHNIQUE PRIVEE",
          "IFAG BORDEAUX",
          "EC. TECH. PRIVEE",
          "ESARC EVOLUTION",
          "ECOLE TECHNIQUE PRIVEE",
          "IFAG BORDEAUX",
          "INSTITUT SUPERIEUR DE COMMUNIC",
          "IDRAC LYON",
          "CTR DE FORMATION D APPRENTIS",
          "IFAG",
          "ETABLISSEMENT TECHNIQUE PRIVE",
          "INST SUPERIEUR GESTION PARIS",
          "INST HTES ETUDES ECO COM BORDX",
          "ETABLISSEMENT SUPERIEUR PRIVE",
          "INST SUP EURO FORMATION ACTION",
          "ESARC EVOLUTION",
          "I.S.E.G",
          "I.S.E.G",
          "ECOLE SUP COMMERCE ECO NUMERIQ",
          "INST SUPERIEUR GESTION PARIS",
          "I.S.E.G",
          "ORGANISME FORMATION-CFA",
          "ECOLE TECHNIQUE PRIVEE",
          "ECOLE TECHNIQUE PRIVEE",
          "ECOLE SUP COMMERCE ECO NUMERIQ",
          "ECOLE SUP COMMERCE ECO NUMERIQ",
          "EUROPEAN BX BUSINESS SCHOOL",
          "INSTITUT SUPERIEUR DE COMMUNIC",
          "ECOLE BORDELAISE DU VIN",
          "IDRAC LYON",
          "IFAG BORDEAUX",
          "ECOLE TECHNIQUE PRIVEE",
          "EUROPEAN BX BUSINESS SCHOOL",
          "EC SUP GEST COMMERCE FINANCE",
          "ECOLE COMMERCE EUROP BORDEAUX",
          "IFAG BORDEAUX",
          "INSTITUT SUPERIEUR DE COMMUNIC",
          "ECOLE TECHNIQUE PRIVEE",
          "ESARC EVOLUTION",
          "INSTITUT DE LA PROMOTION COMME",
          "EUROPEAN BX BUSINESS SCHOOL",
          "GROUPE ESSCA",
          "ECOLE SUP COMMERCE ECO NUMERIQ",
          "INST SUPERIEUR GESTION PARIS",
          "INST SUPERIEUR GESTION PARIS",
          "ECOLE TECHNIQUE PRIVEE",
          "I.S.E.G",
          "EC SUP GEST COMMERCE FINANCE",
          "IGEFI BORDEAUX",
          "INSEEC BORDEAUX",
          "ESCEN",
          "EC SUP GEST COMMERCE FINANCE",
          "ECOLE SUPERIEURE PRIVEE",
          "IDRAC LYON",
          "INST SUP EURO FORMATION ACTION",
          "IFAG",
          "ECOLE TECHNIQUE PRIVEE",
          "INST HTES ETUDES ECO COM BORDX",
          "ECOLE COMMERCE EUROP BORDEAUX",
          "CTR DE FORMATION D APPRENTIS",
          "EC SUP SC COMMERCIALES ANGERS",
          "ECOLE COMMERCE EUROP BORDEAUX",
          "ECOLE SUP COMMERCE ECO NUMERIQ",
          "EC SUP GEST COMMERCE FINANCE",
          "ECOLE SUPERIEURE PRIVEE",
          "INST SUP EURO FORMATION ACTION",
          "ECOLE TECHNIQUE PRIVEE",
          "INST SUPERIEUR GESTION PARIS",
          "INST SUP EURO FORMATION ACTION",
          "EUROPEAN BX BUSINESS SCHOOL",
          "INST SUPERIEUR GESTION PARIS",
          "I.S.E.G",
          "IFAG BORDEAUX",
          "ECOLE TECHNIQUE PRIVEE",
          "EC SUP GEST COMMERCE FINANCE",
          "IFAG BORDEAUX",
          "INSTITUT SUPERIEUR DE COMMUNIC",
          "ETABLISSEMENT TECHNIQUE PRIVE",
          "INSTITUT SUPERIEUR DE COMMUNIC",
          "ECOLE TECHNIQUE PRIVEE",
          "ECOLE TECHNIQUE PRIVEE",
          "ECOLE SUP COMMERCE ECO NUMERIQ",
          "INST SUP EURO FORMATION ACTION",
          "ECOLE SUP COMMERCE ECO NUMERIQ",
          "EUROPEAN BX BUSINESS SCHOOL",
          "GROUPE ESSCA",
          "INST SUPERIEUR GESTION PARIS",
          "I.S.E.G",
          "ORGANISME FORMATION-CFA",
          "INSTITUT SUPERIEUR DE COMMUNIC",
          "IDRAC LYON",
          "ESARC EVOLUTION",
          "GROUPE ESSCA",
          "IDRAC LYON",
          "IDRAC LYON",
          "ORGANISME FORMATION-CFA",
          "INST SUP EURO FORMATION ACTION",
          "CTR DE FORMATION D APPRENTIS",
          "EC SUP GEST COMMERCE FINANCE",
          "ECOLE TECHNIQUE PRIVEE",
          "I.S.E.G",
          "ECOLE COMMERCE EUROP BORDEAUX",
          "ETABLISSEMENT SUPERIEUR PRIVE",
          "EC. TECH. PRIVEE",
          "INST SUP EURO FORMATION ACTION",
          "GROUPE ESSCA",
          "INST HTES ETUDES ECO COM BORDX",
          "ECOLE TECHNIQUE PRIVEE",
          "ECOLE TECHNIQUE PRIVEE",
          "EC SUP GEST COMMERCE FINANCE",
          "ECOLE SUPERIEURE PRIVEE",
          "ETABLISSEMENT TECHNIQUE PRIVE",
          "INST SUPERIEUR GESTION PARIS",
          "ECOLE COMMERCE EUROP BORDEAUX",
          "ECOLE SUP COMMERCE ECO NUMERIQ",
          "ECOLE SUPERIEURE PRIVEE",
          "ECOLE SUPERIEURE PRIVEE",
          "INSTITUT SUPÉRIEUR EUROPÉEN DE",
          "IFAG",
          "EC COMMERCE EUROP BORDEAUX",
          "EC SUP SC COMMERCIALES ANGERS",
          "ORGANISME FORMATION-CFA",
          "ETABLISSEMENT SUPERIEUR PRIVE",
          "EUROPEAN BX BUSINESS SCHOOL",
          "IFAG",
          "INST HTES ETUDES ECO COM BORDX",
          "ORGANISME FORMATION-CFA",
          "ECOLE TECHNIQUE PRIVEE",
          "ECOLE SUP COMMERCE ECO NUMERIQ",
          "ESARC EVOLUTION",
          "ECOLE SUP COMMERCE ECO NUMERIQ",
          "INSTITUT SUPERIEUR DE COMMUNIC",
          "ECOLE TECHNIQUE PRIVEE",
          "ECOLE SUP COMMERCE ECO NUMERIQ",
          "INST HTES ETUDES ECO COM BORDX",
          "IFAG BORDEAUX",
          "ESARC EVOLUTION",
          "INSTITUT SUPERIEUR DE COMMUNIC",
          "ESARC EVOLUTION",
          "EC SUP GEST COMMERCE FINANCE",
          "IFAG BORDEAUX",
          "ECOLE TECHNIQUE PRIVEE",
          "ORGANISME FORMATION-CFA",
          "ECOLE COMMERCE EUROP BORDEAUX",
          "EC SUP GEST COMMERCE FINANCE",
          "ETABLISSEMENT TECHNIQUE PRIVE",
          "CTR DE FORMATION D APPRENTIS",
          "ECOLE TECHNIQUE PRIVEE",
          "INST SUPERIEUR GESTION PARIS",
          "IDRAC LYON",
          "GROUPE ESSCA",
          "INSTITUT SUPERIEUR DE COMMUNIC",
          "ETABLISSEMENT TECHNIQUE PRIVE",
          "IFAG BORDEAUX",
          "ETABLISSEMENT TECHNIQUE PRIVE",
          "ECOLE TECHNIQUE PRIVEE",
          "ETABLISSEMENT SUPERIEUR PRIVE",
          "IFAG BORDEAUX",
          "ETABLISSEMENT TECHNIQUE PRIVE",
          "ETABLISSEMENT SUPERIEUR PRIVE",
          "EUROPEAN BX BUSINESS SCHOOL",
          "INSTITUT DE LA PROMOTION COMME",
          "INSTITUT BORDELAIS DE L'ENSEIG",
          "IDRAC LYON",
          "I.S.E.G",
          "EUROPEAN BX BUSINESS SCHOOL",
          "I.S.E.G",
          "ECOLE DE COMMERCE DURABLE ET R",
          "ECOLE COMMERCE EUROP BORDEAUX",
          "ECOLE COMMERCE EUROP BORDEAUX",
          "ECOLE TECHNIQUE PRIVEE",
          "GROUPE ESSCA",
          "I.S.E.G",
          "I.S.E.G",
          "ECOLE SUP COMMERCE ECO NUMERIQ",
          "INST SUPERIEUR GESTION PARIS",
          "ETABLISSEMENT TECHNIQUE PRIVE",
          "EUROPEAN BX BUSINESS SCHOOL",
          "ISG PROGRAMME BUSINESS ET MANA",
          "ECOLE TECHNIQUE PRIVEE",
          "IFAG BORDEAUX",
          "EC. TECH. PRIVEE",
          "ECOLE TECHNIQUE SUPERIEURE",
          "IDRAC LYON",
          "ECOLE TECHNIQUE PRIVEE",
          "INST HTES ETUDES ECO COM BORDX",
          "EC SUP GEST COMMERCE FINANCE",
          "INST SUPERIEUR GESTION PARIS",
          "INST SUPERIEUR GESTION PARIS",
          "EC SUP SC COMMERCIALES ANGERS",
          "ECOLE COMMERCE EUROP BORDEAUX",
          "GROUPE ESSCA",
          "IDRAC LYON",
          "ORGANISME FORMATION-CFA",
          "ECOLE TECHNIQUE PRIVEE",
          "IDRAC LYON",
          "ETABLISSEMENT TECHNIQUE PRIVE",
          "EC SUP GEST COMMERCE FINANCE",
          "INSTITUT SUPERIEUR DE COMMUNIC",
          "EC SUP GEST COMMERCE FINANCE",
          "IDRAC LYON",
          "ECOLE TECHNIQUE PRIVEE",
          "ECOLE TECHNIQUE PRIVEE",
          "ECOLE SUP COMMERCE ECO NUMERIQ",
          "GROUPE ESSCA",
          "GROUPE ESSCA",
          "I.S.E.G",
          "INST HTES ETUDES ECO COM BORDX",
          "EC SUP SC COMMERCIALES ANGERS",
          "INST SUP EURO FORMATION ACTION",
          "ORGANISME FORMATION-CFA",
          "ECOLE COMMERCE EUROP BORDEAUX",
          "CTR DE FORMATION D APPRENTIS",
          "ECOLE SUP COMMERCE ECO NUMERIQ",
          "ETABLISSEMENT TECHNIQUE PRIVE",
          "ECOLE SUPERIEURE PRIVEE",
          "IDRAC LYON",
          "INST SUP EURO FORMATION ACTION",
          "ECOLE SUPERIEURE PRIVEE",
          "EC. TECH. PRIVEE",
          "IDRAC LYON",
          "GROUPE ESSCA",
          "ESARC EVOLUTION",
          "ORGANISME FORMATION-CFA",
          "ECOLE COMMERCE EUROP BORDEAUX",
          "GROUPE ESSCA",
          "INST SUP EURO FORMATION ACTION",
          "ESARC EVOLUTION",
          "INST SUP EURO FORMATION ACTION",
          "ECOLE TECHNIQUE PRIVEE",
          "ETABLISSEMENT SUPERIEUR PRIVE",
          "ECOLE TECHNIQUE PRIVEE",
          "EC SUP GEST COMMERCE FINANCE",
          "ECOLE COMMERCE EUROP BORDEAUX",
          "ECOLE BORDELAISE DU VIN",
          "ECOLE TECHNIQUE PRIVEE",
          "I.S.E.G",
          "ECOLE TECHNIQUE PRIVEE",
          "INST SUPERIEUR GESTION PARIS",
          "IDRAC LYON",
          "EC. TECH. PRIVEE",
          "INSTITUT SUPERIEUR DE COMMUNIC",
          "EC SUP GEST COMMERCE FINANCE",
          "IDRAC LYON",
          "INST SUPERIEUR GESTION PARIS",
          "ECOLE SUP COMMERCE ECO NUMERIQ",
          "INST HTES ETUDES ECO COM BORDX",
          "I.S.E.G",
          "ECOLE SUP COMMERCE ECO NUMERIQ",
          "EC SUP GEST COMMERCE FINANCE",
          "INST SUPERIEUR GESTION PARIS",
          "ECOLE COMMERCE EUROP BORDEAUX",
          "INSTITUT SUPERIEUR DE COMMUNIC",
          "ESARC EVOLUTION",
          "EC SUP GEST COMMERCE FINANCE",
          "EURIDIS BORDEAUX",
          "INSTITUT SUPÉRIEUR EUROPÉEN DE",
          "ECOLE SUP COMMERCE ECO NUMERIQ",
          "INSTITUT SUPERIEUR DE COMMUNIC",
          "ECOLE COMMERCE EUROP BORDEAUX",
          "EC SUP SC COMMERCIALES ANGERS",
          "ETABLISSEMENT SUPERIEUR PRIVE",
          "ECOLE BORDELAISE DU VIN"
         ],
         "lat": {
          "bdata": "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",
          "dtype": "f8"
         },
         "legendgroup": "Écoles de commerce, gestion et vente",
         "lon": {
          "bdata": "xcmPjRXJ4b9QJIshqEHiv8XJj40VyeG/1XZJY2lY4r/KFZaYt+7hvwlkhF7PFuO/u6Qrpvnt4b/PjgPMp0/iv1AkiyGoQeK/UCSLIahB4r8JZIRezxbjvwlkhF7PFuO/bUAtVUUP4r/PjgPMp0/iv9V2SWNpWOK/rnE70J1l4r8JZIRezxbjv1AkiyGoQeK/bUAtVUUP4r+7pCum+e3hv4XUxF6uduK/mPJJi7xl4r9tQC1VRQ/iv5jySYu8ZeK/u6Qrpvnt4b+KuceBOvfgv65xO9CdZeK/KJxmH+3X4b/FyY+NFcnhv7ukK6b57eG/CWSEXs8W47/KFZaYt+7hvycBaknL9eG/yhWWmLfu4b83uVjOCU7ivze5WM4JTuK/afRByjFk4r8nAWpJy/Xhv65xO9CdZeK/irnHgTr34L+NM2iF9mDiv8XJj40VyeG/xcmPjRXJ4b9QJIshqEHiv8XJj40VyeG/u6Qrpvnt4b9xqVrymtfhvyicZh/t1+G/1XZJY2lY4r+Y8kmLvGXivze5WM4JTuK/1XZJY2lY4r/KFZaYt+7hv5jySYu8ZeK/fstIsvMV4r8Lcvgobsbhv40zaIX2YOK/yhWWmLfu4b8nAWpJy/XhvwlkhF7PFuO/u6Qrpvnt4b+KuceBOvfgv3GpWvKa1+G/bUAtVUUP4r+7pCum+e3hv8+OA8ynT+K/yhWWmLfu4b9p9EHKMWTiv7ukK6b57eG/qgB05wZo4r+Y8kmLvGXiv8XJj40VyeG/yhWWmLfu4b83uVjOCU7iv3GpWvKa1+G/rnE70J1l4r+ucTvQnWXiv37LSLLzFeK/mPJJi7xl4r+ucTvQnWXiv40zaIX2YOK/bUAtVUUP4r9tQC1VRQ/iv37LSLLzFeK/fstIsvMV4r/xX5y3pu3iv8+OA8ynT+K/hdTEXq524r/KFZaYt+7hv7ukK6b57eG/bUAtVUUP4r/xX5y3pu3ivyicZh/t1+G/UCSLIahB4r+7pCum+e3hv8+OA8ynT+K/bUAtVUUP4r9xqVrymtfhv2n0QcoxZOK/8V+ct6bt4r/VdkljaVjiv37LSLLzFeK/mPJJi7xl4r+Y8kmLvGXivwlkhF7PFuO/rnE70J1l4r8onGYf7dfhv/HOmN9R7uG/xcmPjRXJ4b9+y0iy8xXivyicZh/t1+G/JwFqScv14b/KFZaYt+7hvze5WM4JTuK/u6Qrpvnt4b8JZIRezxbjv8XJj40VyeG/UCSLIahB4r9p9EHKMWTiv9V2SWNpWOK/UCSLIahB4r9+y0iy8xXivyicZh/t1+G/JwFqScv14b83uVjOCU7ivwlkhF7PFuO/mPJJi7xl4r83uVjOCU7iv/FfnLem7eK/mPJJi7xl4r+ucTvQnWXiv7ukK6b57eG/bUAtVUUP4r8onGYf7dfhv7ukK6b57eG/z44DzKdP4r+qAHTnBmjiv8+OA8ynT+K/CWSEXs8W478JZIRezxbjv37LSLLzFeK/N7lYzglO4r9+y0iy8xXiv/FfnLem7eK/1XZJY2lY4r+Y8kmLvGXiv65xO9CdZeK/jTNohfZg4r/PjgPMp0/iv8oVlpi37uG/cala8prX4b/VdkljaVjiv8oVlpi37uG/yhWWmLfu4b+NM2iF9mDivze5WM4JTuK/jTNohfZg4r8onGYf7dfhv21ALVVFD+K/rnE70J1l4r9QJIshqEHiv8oVlpi37uG/irnHgTr34L83uVjOCU7iv9V2SWNpWOK/xcmPjRXJ4b9tQC1VRQ/iv21ALVVFD+K/KJxmH+3X4b8nAWpJy/Xhv6oAdOcGaOK/mPJJi7xl4r9QJIshqEHiv37LSLLzFeK/JwFqScv14b8nAWpJy/Xhv2r7lmQn1uG/u6Qrpvnt4b9QJIshqEHiv9V2SWNpWOK/jTNohfZg4r/KFZaYt+7hv/FfnLem7eK/u6Qrpvnt4b/FyY+NFcnhv40zaIX2YOK/bUAtVUUP4r9+y0iy8xXiv3GpWvKa1+G/fstIsvMV4r/PjgPMp0/ivwlkhF7PFuO/fstIsvMV4r/FyY+NFcnhv7ukK6b57eG/cala8prX4b/PjgPMp0/iv3GpWvKa1+G/KJxmH+3X4b+7pCum+e3hv21ALVVFD+K/jTNohfZg4r9QJIshqEHivyicZh/t1+G/qgB05wZo4r+NM2iF9mDiv21ALVVFD+K/mPJJi7xl4r/KFZaYt+7hv9V2SWNpWOK/z44DzKdP4r+qAHTnBmjiv7ukK6b57eG/qgB05wZo4r9tQC1VRQ/iv8oVlpi37uG/u6Qrpvnt4b+qAHTnBmjiv8oVlpi37uG/8V+ct6bt4r9p9EHKMWTivxldEEIcX+K/yhWWmLfu4b+ucTvQnWXiv/FfnLem7eK/rnE70J1l4r+QFbCnPO7hv1AkiyGoQeK/UCSLIahB4r9tQC1VRQ/iv9V2SWNpWOK/rnE70J1l4r+ucTvQnWXiv37LSLLzFeK/mPJJi7xl4r+qAHTnBmjiv/FfnLem7eK/mPJJi7xl4r9tQC1VRQ/iv7ukK6b57eG/irnHgTr34L+ucTvQnWXiv8oVlpi37uG/CWSEXs8W47/FyY+NFcnhvyicZh/t1+G/mPJJi7xl4r+Y8kmLvGXiv9V2SWNpWOK/UCSLIahB4r/VdkljaVjiv8oVlpi37uG/jTNohfZg4r9tQC1VRQ/iv8oVlpi37uG/qgB05wZo4r8onGYf7dfhv8+OA8ynT+K/KJxmH+3X4b/KFZaYt+7hvwlkhF7PFuO/CWSEXs8W479+y0iy8xXiv9V2SWNpWOK/1XZJY2lY4r+ucTvQnWXiv8XJj40VyeG/1XZJY2lY4r83uVjOCU7iv40zaIX2YOK/UCSLIahB4r+NM2iF9mDiv37LSLLzFeK/qgB05wZo4r8nAWpJy/Xhv8oVlpi37uG/N7lYzglO4r8nAWpJy/Xhv4q5x4E69+C/yhWWmLfu4b/VdkljaVjiv3GpWvKa1+G/jTNohfZg4r9QJIshqEHiv9V2SWNpWOK/N7lYzglO4r9xqVrymtfhvze5WM4JTuK/CWSEXs8W47/KFZaYt+7hvwlkhF7PFuO/KJxmH+3X4b9QJIshqEHiv4XUxF6uduK/CWSEXs8W47+ucTvQnWXivwlkhF7PFuO/mPJJi7xl4r/KFZaYt+7hv4q5x4E69+C/z44DzKdP4r8onGYf7dfhv8oVlpi37uG/mPJJi7xl4r9+y0iy8xXiv8XJj40VyeG/rnE70J1l4r9+y0iy8xXivyicZh/t1+G/mPJJi7xl4r9QJIshqEHiv8+OA8ynT+K/cala8prX4b8onGYf7dfhvwty+ChuxuG/avuWZCfW4b9+y0iy8xXiv8+OA8ynT+K/UCSLIahB4r/VdkljaVjiv8oVlpi37uG/hdTEXq524r8=",
          "dtype": "f8"
         },
         "marker": {
          "color": "#00cc96",
          "size": {
           "bdata": "HQBaAUMBxgAdAAcAaAAPAAED9QBsAIIAnAAZAFkATgABAFADagAbACEAEwGdApsAAQABAA0AEQH4AB8ABgATABcAEgBtAPkAGgASAEEArgAcAB4EnAP5AyABRwAHAn4CJQBEAPkAmQANAFoAHQARAJ8AowAnACYAAgCBALQBmAA2AAsAFgAxAG4AQwByAK8CEwBAAN4APAEJAQkAjADNACsAdACQABUAIwABACEAEgANAAIAbwAUAO4AOgQ5ABYAoQKIAQQAYAAuABsArQCdAFoAKQA+AA4A4ARYAAMCQwAnAG0ALgA8AEEA9QAhALUBngIuACkAQgD5AAQAFAATAAgAfQBLAAEAcQA7AUsAHQAoACMANgADADcA+QAYAAEAJwCTANoACAAZAA8ATwGRABEAFgA4AEwAjQBYAcsBLwAcARgAOQBMAJ8A/wCAAEoACAEeAFAARwClBQgABAAUACEAMwBPAz0AKQAeABYAfgBvACcAiwA1ABkBAQAfACYBTAD3AC4AGgEhABwBPgABANICLwCeA3gBJQCcAOQCJQARAKgADwAqADkAQwDnACcAAQA2AAIAMAAHAAkAqgBKAckAOAABACUFUQN/AHAALwA6AAEAXwAOADYA9QCbAFkAdgCnAbQAXAGbAh8BxAAiAeAB3wOIABUANwCOANkAAgAvACQAtgAPAD4ABwB5AJMAKAC4ABgDCQEPADgAVgGTAA8AOAANAMwAHAAHAGYAGwCzANoAIABHA1QAQADmAM4ABQAVAG8BSQAqBA4ABwAlAAwARQE5ACMAHwDsAA0AsgFLACEBPwAaADsAcAAxARUAYwEMAlQANwAKABoAzgCrABEAIAA=",
           "dtype": "i2"
          },
          "sizemode": "area",
          "sizeref": 25.4025
         },
         "mode": "markers",
         "name": "Écoles de commerce, gestion et vente",
         "showlegend": true,
         "subplot": "map",
         "type": "scattermap"
        },
        {
         "customdata": [
          [
           "Bordeaux",
           3629,
           "Public",
           "BAC + 6 et plus"
          ],
          [
           "Bordeaux",
           681,
           "Public",
           null
          ],
          [
           "Bordeaux",
           205,
           "Public",
           "BAC + 3"
          ],
          [
           "Bordeaux",
           49,
           "Public",
           "BAC + 5"
          ],
          [
           "Bordeaux",
           437,
           "Public",
           "BAC + 1"
          ],
          [
           "Bordeaux",
           49,
           "Public",
           "BAC + 3"
          ],
          [
           "Bordeaux",
           203,
           "Public",
           "BAC + 2"
          ],
          [
           "Bordeaux",
           39,
           "Public",
           "BAC + 3"
          ],
          [
           "Bordeaux",
           1189,
           "Public",
           null
          ],
          [
           "Bordeaux",
           337,
           "Public",
           null
          ],
          [
           "Bordeaux",
           513,
           "Public",
           "BAC + 5"
          ],
          [
           "Bordeaux",
           187,
           "Public",
           "BAC + 4"
          ],
          [
           "Bordeaux",
           183,
           "Public",
           "BAC + 5"
          ],
          [
           "Bordeaux",
           20,
           "Public",
           "Inférieur ou égal au baccalauréat"
          ],
          [
           "Bordeaux",
           446,
           "Public",
           "BAC + 1"
          ],
          [
           "Bordeaux",
           144,
           "Public",
           null
          ],
          [
           "Bordeaux",
           843,
           "Public",
           null
          ],
          [
           "Bordeaux",
           1493,
           "Public",
           null
          ],
          [
           "Bordeaux",
           1521,
           "Public",
           null
          ],
          [
           "Bordeaux",
           46,
           "Public",
           "BAC + 5"
          ],
          [
           "Bordeaux",
           127,
           "Public",
           "BAC + 2"
          ],
          [
           "Bordeaux",
           34,
           "Public",
           "BAC + 4"
          ],
          [
           "Bordeaux",
           41,
           "Public",
           "BAC + 1"
          ],
          [
           "Bordeaux",
           6,
           "Public",
           "BAC + 1"
          ],
          [
           "Bordeaux",
           82,
           "Public",
           "BAC + 1"
          ],
          [
           "Bordeaux",
           17,
           "Public",
           "BAC + 1"
          ],
          [
           "Bordeaux",
           177,
           "Public",
           "BAC + 4"
          ],
          [
           "Bordeaux",
           1098,
           "Public",
           "BAC + 2"
          ],
          [
           "Bordeaux",
           1,
           "Public",
           "BAC + 5"
          ],
          [
           "Bordeaux",
           109,
           "Public",
           "BAC + 4"
          ],
          [
           "Bordeaux",
           293,
           "Public",
           "BAC + 2"
          ],
          [
           "Bordeaux",
           76,
           "Public",
           null
          ],
          [
           "Bordeaux",
           60,
           "Public",
           "BAC + 3"
          ],
          [
           "Bordeaux",
           708,
           "Public",
           null
          ],
          [
           "Bordeaux",
           91,
           "Public",
           "BAC + 2"
          ],
          [
           "Bordeaux",
           29,
           "Public",
           "BAC + 4"
          ],
          [
           "Bordeaux",
           402,
           "Public",
           "BAC + 6 et plus"
          ],
          [
           "Bordeaux",
           356,
           "Public",
           null
          ],
          [
           "Bordeaux",
           124,
           "Public",
           "BAC + 3"
          ],
          [
           "Bordeaux",
           349,
           "Public",
           "BAC + 5"
          ],
          [
           "Bordeaux",
           635,
           "Public",
           "BAC + 4"
          ],
          [
           "Bordeaux",
           1324,
           "Public",
           null
          ],
          [
           "Bordeaux",
           470,
           "Public",
           "BAC + 6 et plus"
          ],
          [
           "Bordeaux",
           50,
           "Public",
           "BAC + 6 et plus"
          ],
          [
           "Bordeaux",
           419,
           "Public",
           "BAC + 6 et plus"
          ],
          [
           "Bordeaux",
           410,
           "Public",
           "BAC + 1"
          ],
          [
           "Bordeaux",
           446,
           "Public",
           "BAC + 2"
          ],
          [
           "Bordeaux",
           20,
           "Public",
           "Inférieur ou égal au baccalauréat"
          ],
          [
           "Bordeaux",
           354,
           "Public",
           "BAC + 1"
          ],
          [
           "Bordeaux",
           109,
           "Public",
           "BAC + 3"
          ],
          [
           "Bordeaux",
           180,
           "Public",
           "BAC + 4"
          ],
          [
           "Bordeaux",
           76,
           "Public",
           "BAC + 2"
          ],
          [
           "Bordeaux",
           78,
           "Public",
           null
          ],
          [
           "Bordeaux",
           378,
           "Public",
           "BAC + 4"
          ],
          [
           "Bordeaux",
           983,
           "Public",
           "BAC + 3"
          ],
          [
           "Bordeaux",
           8977,
           "Public",
           null
          ],
          [
           "Bordeaux",
           1190,
           "Public",
           null
          ],
          [
           "Bordeaux",
           808,
           "Public",
           null
          ],
          [
           "Bordeaux",
           650,
           "Public",
           null
          ],
          [
           "Bordeaux",
           374,
           "Public",
           "BAC + 1"
          ],
          [
           "Bordeaux",
           103,
           "Public",
           "BAC + 4"
          ],
          [
           "Bordeaux",
           49,
           "Public",
           "BAC + 5"
          ],
          [
           "Bordeaux",
           343,
           "Public",
           "BAC + 3"
          ],
          [
           "Bordeaux",
           8,
           "Public",
           "BAC + 1"
          ],
          [
           "Bordeaux",
           201,
           "Public",
           "BAC + 2"
          ],
          [
           "Bordeaux",
           564,
           "Public",
           "BAC + 5"
          ],
          [
           "Bordeaux",
           376,
           "Public",
           "BAC + 3"
          ],
          [
           "Bordeaux",
           1622,
           "Public",
           null
          ],
          [
           "Bordeaux",
           767,
           "Public",
           null
          ],
          [
           "Bordeaux",
           1306,
           "Public",
           null
          ],
          [
           "Bordeaux",
           299,
           "Public",
           "BAC + 1"
          ],
          [
           "Bordeaux",
           356,
           "Public",
           "BAC + 2"
          ],
          [
           "Bordeaux",
           660,
           "Public",
           null
          ],
          [
           "Bordeaux",
           163,
           "Public",
           "BAC + 6 et plus"
          ],
          [
           "Bordeaux",
           411,
           "Public",
           "BAC + 1"
          ],
          [
           "Bordeaux",
           370,
           "Public",
           "BAC + 2"
          ],
          [
           "Bordeaux",
           339,
           "Public",
           null
          ],
          [
           "Bordeaux",
           1367,
           "Public",
           null
          ],
          [
           "Bordeaux",
           713,
           "Public",
           null
          ],
          [
           "Bordeaux",
           80,
           "Public",
           null
          ],
          [
           "Bordeaux",
           32,
           "Public",
           "BAC + 5"
          ],
          [
           "Bordeaux",
           115,
           "Public",
           "BAC + 5"
          ],
          [
           "Bordeaux",
           184,
           "Public",
           "BAC + 2"
          ],
          [
           "Bordeaux",
           190,
           "Public",
           "BAC + 3"
          ],
          [
           "Bordeaux",
           9820,
           "Public",
           null
          ],
          [
           "Bordeaux",
           1116,
           "Public",
           null
          ],
          [
           "Bordeaux",
           313,
           "Public",
           "BAC + 2"
          ],
          [
           "Bordeaux",
           159,
           "Public",
           null
          ],
          [
           "Bordeaux",
           1040,
           "Public",
           "BAC + 2"
          ],
          [
           "Bordeaux",
           1289,
           "Public",
           null
          ],
          [
           "Bordeaux",
           344,
           "Public",
           "BAC + 1"
          ],
          [
           "Bordeaux",
           283,
           "Public",
           "BAC + 5"
          ],
          [
           "Bordeaux",
           23,
           "Public",
           "BAC + 2"
          ],
          [
           "Bordeaux",
           39,
           "Public",
           "BAC + 5"
          ],
          [
           "Bordeaux",
           37,
           "Public",
           "BAC + 4"
          ],
          [
           "Bordeaux",
           90,
           "Public",
           "BAC + 4"
          ],
          [
           "Bordeaux",
           358,
           "Public",
           "BAC + 2"
          ],
          [
           "Bordeaux",
           49,
           "Public",
           "BAC + 4"
          ],
          [
           "Bordeaux",
           92,
           "Public",
           "BAC + 3"
          ],
          [
           "Bordeaux",
           635,
           "Public",
           "BAC + 4"
          ],
          [
           "Bordeaux",
           118,
           "Public",
           "BAC + 3"
          ],
          [
           "Bordeaux",
           1171,
           "Public",
           null
          ],
          [
           "Bordeaux",
           848,
           "Public",
           null
          ],
          [
           "Bordeaux",
           1114,
           "Public",
           "BAC + 2"
          ],
          [
           "Bordeaux",
           413,
           "Public",
           "BAC + 2"
          ],
          [
           "Bordeaux",
           21,
           "Public",
           "Inférieur ou égal au baccalauréat"
          ],
          [
           "Bordeaux",
           1249,
           "Public",
           null
          ],
          [
           "Bordeaux",
           155,
           "Public",
           "BAC + 4"
          ],
          [
           "Bordeaux",
           834,
           "Public",
           null
          ],
          [
           "Bordeaux",
           1799,
           "Public",
           null
          ],
          [
           "Bordeaux",
           10161,
           "Public",
           null
          ],
          [
           "Bordeaux",
           142,
           "Public",
           null
          ],
          [
           "Bordeaux",
           281,
           "Public",
           "BAC + 1"
          ],
          [
           "Bordeaux",
           31,
           "Public",
           "BAC + 5"
          ],
          [
           "Bordeaux",
           392,
           "Public",
           null
          ],
          [
           "Bordeaux",
           269,
           "Public",
           "BAC + 6 et plus"
          ],
          [
           "Bordeaux",
           293,
           "Public",
           "BAC + 1"
          ],
          [
           "Bordeaux",
           128,
           "Public",
           "BAC + 3"
          ],
          [
           "Bordeaux",
           212,
           "Public",
           "BAC + 5"
          ],
          [
           "Bordeaux",
           309,
           "Public",
           "BAC + 1"
          ],
          [
           "Bordeaux",
           38,
           "Public",
           "BAC + 4"
          ],
          [
           "Bordeaux",
           65,
           "Public",
           "BAC + 4"
          ],
          [
           "Bordeaux",
           1700,
           "Public",
           null
          ],
          [
           "Bordeaux",
           971,
           "Public",
           null
          ],
          [
           "Bordeaux",
           50,
           "Public",
           "BAC + 6 et plus"
          ],
          [
           "Bordeaux",
           6,
           "Public",
           "BAC + 1"
          ],
          [
           "Bordeaux",
           105,
           "Public",
           "BAC + 3"
          ],
          [
           "Bordeaux",
           964,
           "Public",
           null
          ],
          [
           "Bordeaux",
           1409,
           "Public",
           null
          ],
          [
           "Bordeaux",
           37,
           "Public",
           "BAC + 4"
          ],
          [
           "Bordeaux",
           439,
           "Public",
           "BAC + 3"
          ],
          [
           "Bordeaux",
           168,
           "Public",
           null
          ],
          [
           "Bordeaux",
           303,
           "Public",
           "BAC + 6 et plus"
          ],
          [
           "Bordeaux",
           3827,
           "Public",
           "BAC + 6 et plus"
          ],
          [
           "Bordeaux",
           471,
           "Public",
           "BAC + 3"
          ],
          [
           "Bordeaux",
           167,
           "Public",
           "BAC + 3"
          ],
          [
           "Bordeaux",
           37,
           "Public",
           "BAC + 5"
          ],
          [
           "Bordeaux",
           115,
           "Public",
           "BAC + 3"
          ],
          [
           "Bordeaux",
           952,
           "Public",
           null
          ],
          [
           "Bordeaux",
           788,
           "Public",
           null
          ],
          [
           "Bordeaux",
           2024,
           "Public",
           "BAC + 1"
          ],
          [
           "Bordeaux",
           414,
           "Public",
           "BAC + 3"
          ],
          [
           "Bordeaux",
           344,
           "Public",
           null
          ],
          [
           "Bordeaux",
           38,
           "Public",
           "BAC + 5"
          ],
          [
           "Bordeaux",
           258,
           "Public",
           "BAC + 6 et plus"
          ],
          [
           "Bordeaux",
           81,
           "Public",
           null
          ],
          [
           "Bordeaux",
           9845,
           "Public",
           null
          ],
          [
           "Bordeaux",
           693,
           "Public",
           null
          ],
          [
           "Bordeaux",
           197,
           "Public",
           "BAC + 3"
          ],
          [
           "Bordeaux",
           309,
           "Public",
           "BAC + 4"
          ],
          [
           "Bordeaux",
           38,
           "Public",
           "BAC + 3"
          ],
          [
           "Bordeaux",
           190,
           "Public",
           "BAC + 5"
          ],
          [
           "Bordeaux",
           4,
           "Public",
           "BAC + 1"
          ],
          [
           "Bordeaux",
           79,
           "Public",
           "BAC + 5"
          ],
          [
           "Bordeaux",
           894,
           "Public",
           null
          ],
          [
           "Bordeaux",
           124,
           "Public",
           "BAC + 2"
          ],
          [
           "Bordeaux",
           46,
           "Public",
           "BAC + 4"
          ],
          [
           "Bordeaux",
           344,
           "Public",
           "BAC + 2"
          ],
          [
           "Bordeaux",
           220,
           "Public",
           "BAC + 6 et plus"
          ],
          [
           "Bordeaux",
           130,
           "Public",
           "BAC + 3"
          ],
          [
           "Bordeaux",
           321,
           "Public",
           "BAC + 5"
          ],
          [
           "Bordeaux",
           76,
           "Public",
           null
          ],
          [
           "Bordeaux",
           281,
           "Public",
           "BAC + 6 et plus"
          ],
          [
           "Bordeaux",
           1699,
           "Public",
           "BAC + 1"
          ],
          [
           "Bordeaux",
           155,
           "Public",
           "BAC + 4"
          ],
          [
           "Bordeaux",
           63,
           "Public",
           "BAC + 4"
          ],
          [
           "Bordeaux",
           827,
           "Public",
           "BAC + 4"
          ],
          [
           "Bordeaux",
           160,
           "Public",
           "BAC + 3"
          ],
          [
           "Bordeaux",
           1063,
           "Public",
           "BAC + 3"
          ],
          [
           "Bordeaux",
           328,
           "Public",
           "BAC + 4"
          ],
          [
           "Bordeaux",
           884,
           "Public",
           "BAC + 5"
          ],
          [
           "Bordeaux",
           1276,
           "Public",
           null
          ],
          [
           "Bordeaux",
           130,
           "Public",
           null
          ],
          [
           "Bordeaux",
           1189,
           "Public",
           null
          ],
          [
           "Bordeaux",
           3538,
           "Public",
           "BAC + 6 et plus"
          ],
          [
           "Bordeaux",
           3,
           "Public",
           "BAC + 1"
          ],
          [
           "Bordeaux",
           142,
           "Public",
           "BAC + 5"
          ],
          [
           "Bordeaux",
           201,
           "Public",
           "BAC + 1"
          ],
          [
           "Bordeaux",
           1299,
           "Public",
           "BAC + 3"
          ],
          [
           "Bordeaux",
           10120,
           "Public",
           null
          ],
          [
           "Bordeaux",
           1397,
           "Public",
           null
          ],
          [
           "Bordeaux",
           38,
           "Public",
           "BAC + 5"
          ],
          [
           "Bordeaux",
           70,
           "Public",
           "BAC + 2"
          ],
          [
           "Bordeaux",
           78,
           "Public",
           null
          ],
          [
           "Bordeaux",
           376,
           "Public",
           "BAC + 3"
          ],
          [
           "Bordeaux",
           23,
           "Public",
           "BAC + 3"
          ],
          [
           "Bordeaux",
           1174,
           "Public",
           null
          ],
          [
           "Bordeaux",
           866,
           "Public",
           "BAC + 5"
          ],
          [
           "Bordeaux",
           853,
           "Public",
           null
          ],
          [
           "Bordeaux",
           10144,
           "Public",
           null
          ],
          [
           "Bordeaux",
           293,
           "Public",
           "BAC + 2"
          ],
          [
           "Bordeaux",
           155,
           "Public",
           "BAC + 5"
          ],
          [
           "Bordeaux",
           210,
           "Public",
           "BAC + 5"
          ],
          [
           "Bordeaux",
           63,
           "Public",
           "BAC + 5"
          ],
          [
           "Bordeaux",
           1325,
           "Public",
           null
          ],
          [
           "Bordeaux",
           163,
           "Public",
           "BAC + 3"
          ],
          [
           "Bordeaux",
           34,
           "Public",
           "BAC + 4"
          ],
          [
           "Bordeaux",
           118,
           "Public",
           "BAC + 3"
          ],
          [
           "Bordeaux",
           2167,
           "Public",
           null
          ],
          [
           "Bordeaux",
           1820,
           "Public",
           "BAC + 1"
          ],
          [
           "Bordeaux",
           187,
           "Public",
           "BAC + 5"
          ],
          [
           "Bordeaux",
           853,
           "Public",
           null
          ],
          [
           "Bordeaux",
           23,
           "Public",
           "BAC + 3"
          ],
          [
           "Bordeaux",
           572,
           "Public",
           "BAC + 5"
          ],
          [
           "Bordeaux",
           46,
           "Public",
           "BAC + 4"
          ],
          [
           "Bordeaux",
           632,
           "Public",
           null
          ],
          [
           "Bordeaux",
           809,
           "Public",
           null
          ],
          [
           "Bordeaux",
           149,
           "Public",
           null
          ],
          [
           "Bordeaux",
           1664,
           "Public",
           null
          ],
          [
           "Bordeaux",
           1000,
           "Public",
           null
          ],
          [
           "Bordeaux",
           1,
           "Public",
           "BAC + 1"
          ],
          [
           "Bordeaux",
           418,
           "Public",
           "BAC + 1"
          ],
          [
           "Bordeaux",
           192,
           "Public",
           "BAC + 2"
          ],
          [
           "Bordeaux",
           754,
           "Public",
           null
          ],
          [
           "Bordeaux",
           4,
           "Public",
           "BAC + 1"
          ],
          [
           "Bordeaux",
           186,
           "Public",
           "BAC + 4"
          ],
          [
           "Bordeaux",
           870,
           "Public",
           "BAC + 5"
          ],
          [
           "Bordeaux",
           430,
           "Public",
           "BAC + 1"
          ],
          [
           "Bordeaux",
           202,
           "Public",
           "BAC + 2"
          ],
          [
           "Bordeaux",
           87,
           "Public",
           "BAC + 4"
          ],
          [
           "Bordeaux",
           72,
           "Public",
           "BAC + 5"
          ],
          [
           "Bordeaux",
           356,
           "Public",
           "BAC + 2"
          ],
          [
           "Bordeaux",
           98,
           "Public",
           "BAC + 4"
          ],
          [
           "Bordeaux",
           101,
           "Public",
           "BAC + 4"
          ],
          [
           "Bordeaux",
           81,
           "Public",
           "BAC + 1"
          ],
          [
           "Bordeaux",
           78,
           "Public",
           "BAC + 6 et plus"
          ],
          [
           "Bordeaux",
           48,
           "Public",
           "BAC + 3"
          ],
          [
           "Bordeaux",
           310,
           "Public",
           "BAC + 3"
          ],
          [
           "Bordeaux",
           1321,
           "Public",
           null
          ],
          [
           "Bordeaux",
           1429,
           "Public",
           null
          ],
          [
           "Bordeaux",
           112,
           "Public",
           "BAC + 2"
          ],
          [
           "Bordeaux",
           111,
           "Public",
           "BAC + 4"
          ],
          [
           "Bordeaux",
           683,
           "Public",
           null
          ],
          [
           "Bordeaux",
           322,
           "Public",
           null
          ],
          [
           "Bordeaux",
           949,
           "Public",
           null
          ],
          [
           "Bordeaux",
           3,
           "Public",
           "BAC + 1"
          ],
          [
           "Bordeaux",
           300,
           "Public",
           "BAC + 5"
          ]
         ],
         "hovertemplate": "<b>%{hovertext}</b><br><br>catégorie d'établissement=Universités<br>nombre total d’étudiants inscrits hors doubles inscriptions université/CPGE=%{customdata[1]}<br>lat=%{lat}<br>lon=%{lon}<br>Commune=%{customdata[0]}<br>secteur d'établissement=%{customdata[2]}<br>degre_etudes=%{customdata[3]}<extra></extra>",
         "hovertext": [
          "UNIVERSITE DE BORDEAUX",
          "UNIVERSITÉ DE BORDEAUX",
          "UNIVERSITE DE BORDEAUX",
          "UNIVERSITE DE BORDEAUX",
          "UNIVERSITE DE BORDEAUX",
          "UNIVERSITE DE BORDEAUX",
          "UNIVERSITE DE BORDEAUX",
          "UNIVERSITE DE BORDEAUX",
          "UNIVERSITÉ DE BORDEAUX",
          "UNIVERSITE DE BORDEAUX",
          "UNIVERSITE DE BORDEAUX",
          "UNIVERSITE DE BORDEAUX",
          "UNIVERSITE DE BORDEAUX",
          "UNIVERSITE DE BORDEAUX",
          "UNIVERSITE DE BORDEAUX",
          "UNIVERSITÉ DE BORDEAUX",
          "UNIVERSITÉ DE BORDEAUX",
          "UNIVERSITÃ DE BORDEAUX",
          "UNIVERSITE DE BORDEAUX",
          "UNIVERSITE DE BORDEAUX",
          "UNIVERSITE DE BORDEAUX",
          "UNIVERSITE DE BORDEAUX",
          "UNIVERSITE DE BORDEAUX",
          "UNIVERSITE DE BORDEAUX",
          "UNIVERSITE DE BORDEAUX",
          "UNIVERSITE DE BORDEAUX",
          "UNIVERSITE DE BORDEAUX",
          "UNIVERSITE DE BORDEAUX",
          "UNIVERSITE BORDEAUX 3",
          "UNIVERSITE DE BORDEAUX",
          "UNIVERSITE DE BORDEAUX",
          "UNIVERSITE BORDEAUX 3",
          "UNIVERSITE DE BORDEAUX",
          "UNIVERSITÉ DE BORDEAUX",
          "UNIVERSITE DE BORDEAUX",
          "UNIVERSITE DE BORDEAUX",
          "UNIVERSITE DE BORDEAUX",
          "UNIVERSITÉ DE BORDEAUX",
          "UNIVERSITE BORDEAUX 3",
          "UNIVERSITE DE BORDEAUX",
          "UNIVERSITE DE BORDEAUX",
          "UNIVERSITÉ DE BORDEAUX",
          "UNIVERSITE DE BORDEAUX",
          "UNIVERSITE DE BORDEAUX",
          "UNIVERSITE DE BORDEAUX",
          "UNIVERSITE DE BORDEAUX",
          "UNIVERSITE DE BORDEAUX",
          "UNIVERSITE DE BORDEAUX",
          "UNIVERSITE BORDEAUX 3",
          "UNIVERSITE DE BORDEAUX",
          "UNIVERSITE DE BORDEAUX",
          "UNIVERSITE DE BORDEAUX",
          "UNIVERSITE BORDEAUX 3",
          "UNIVERSITE DE BORDEAUX",
          "UNIVERSITE DE BORDEAUX",
          "UNIVERSITE DE BORDEAUX",
          "UNIVERSITÃ DE BORDEAUX",
          "UNIVERSITÃ DE BORDEAUX",
          "UNIVERSITÉ DE BORDEAUX",
          "UNIVERSITE DE BORDEAUX",
          "UNIVERSITE DE BORDEAUX",
          "UNIVERSITE DE BORDEAUX",
          "UNIVERSITE DE BORDEAUX",
          "UNIVERSITE BORDEAUX 3",
          "UNIVERSITE DE BORDEAUX",
          "UNIVERSITE DE BORDEAUX",
          "UNIVERSITE DE BORDEAUX",
          "UNIVERSITÉ DE BORDEAUX",
          "UNIVERSITÉ DE BORDEAUX",
          "UNIVERSITÉ DE BORDEAUX",
          "UNIVERSITE DE BORDEAUX",
          "UNIVERSITE DE BORDEAUX",
          "UNIVERSITÉ DE BORDEAUX",
          "UNIVERSITE DE BORDEAUX",
          "UNIVERSITE DE BORDEAUX",
          "UNIVERSITE DE BORDEAUX",
          "UNIVERSITÃ DE BORDEAUX",
          "UNIVERSITÉ DE BORDEAUX",
          "UNIVERSITÉ DE BORDEAUX",
          "UNIVERSITE BORDEAUX 3",
          "UNIVERSITE DE BORDEAUX",
          "UNIVERSITE DE BORDEAUX",
          "UNIVERSITE DE BORDEAUX",
          "UNIVERSITE DE BORDEAUX",
          "UNIVERSITÉ DE BORDEAUX",
          "UNIVERSITÉ DE BORDEAUX",
          "UNIVERSITE BORDEAUX 3",
          "UNIVERSITÉ DE BORDEAUX",
          "UNIVERSITE DE BORDEAUX",
          "UNIVERSITÉ DE BORDEAUX",
          "UNIVERSITE BORDEAUX 3",
          "UNIVERSITE DE BORDEAUX",
          "UNIVERSITE DE BORDEAUX",
          "UNIVERSITE DE BORDEAUX",
          "UNIVERSITE BORDEAUX 3",
          "UNIVERSITE DE BORDEAUX",
          "UNIVERSITE DE BORDEAUX",
          "UNIVERSITE DE BORDEAUX",
          "UNIVERSITE DE BORDEAUX",
          "UNIVERSITE DE BORDEAUX",
          "UNIVERSITE DE BORDEAUX",
          "UNIVERSITE DE BORDEAUX",
          "UNIVERSITE DE BORDEAUX",
          "UNIVERSITE DE BORDEAUX",
          "UNIVERSITE DE BORDEAUX",
          "UNIVERSITE DE BORDEAUX",
          "UNIVERSITÉ DE BORDEAUX",
          "UNIVERSITE DE BORDEAUX",
          "UNIVERSITÉ DE BORDEAUX",
          "UNIVERSITÃ DE BORDEAUX",
          "UNIVERSITÉ DE BORDEAUX",
          "UNIVERSITÉ DE BORDEAUX",
          "UNIVERSITE DE BORDEAUX",
          "UNIVERSITE DE BORDEAUX",
          "UNIVERSITÉ DE BORDEAUX",
          "UNIVERSITE DE BORDEAUX",
          "UNIVERSITE DE BORDEAUX",
          "UNIVERSITE DE BORDEAUX",
          "UNIVERSITE DE BORDEAUX",
          "UNIVERSITE BORDEAUX 3",
          "UNIVERSITE BORDEAUX 3",
          "UNIVERSITE DE BORDEAUX",
          "UNIVERSITÉ DE BORDEAUX",
          "UNIVERSITE BORDEAUX 3",
          "UNIVERSITE DE BORDEAUX",
          "UNIVERSITE DE BORDEAUX",
          "UNIVERSITE DE BORDEAUX",
          "UNIVERSITE BORDEAUX 3",
          "UNIVERSITÉ DE BORDEAUX",
          "UNIVERSITE BORDEAUX 3",
          "UNIVERSITE DE BORDEAUX",
          "UNIVERSITÉ DE BORDEAUX",
          "UNIVERSITE DE BORDEAUX",
          "UNIVERSITE DE BORDEAUX",
          "UNIVERSITE DE BORDEAUX",
          "UNIVERSITE DE BORDEAUX",
          "UNIVERSITE BORDEAUX 3",
          "UNIVERSITE DE BORDEAUX",
          "UNIVERSITE BORDEAUX 3",
          "UNIVERSITÉ DE BORDEAUX",
          "UNIVERSITE DE BORDEAUX",
          "UNIVERSITE DE BORDEAUX",
          "UNIVERSITÉ DE BORDEAUX",
          "UNIVERSITE BORDEAUX 3",
          "UNIVERSITE DE BORDEAUX",
          "UNIVERSITE BORDEAUX 3",
          "UNIVERSITÉ DE BORDEAUX",
          "UNIVERSITÉ DE BORDEAUX",
          "UNIVERSITE DE BORDEAUX",
          "UNIVERSITE DE BORDEAUX",
          "UNIVERSITE DE BORDEAUX",
          "UNIVERSITE DE BORDEAUX",
          "UNIVERSITE DE BORDEAUX",
          "UNIVERSITE DE BORDEAUX",
          "UNIVERSITE BORDEAUX 3",
          "UNIVERSITE DE BORDEAUX",
          "UNIVERSITE DE BORDEAUX",
          "UNIVERSITE DE BORDEAUX",
          "UNIVERSITE DE BORDEAUX",
          "UNIVERSITE BORDEAUX 3",
          "UNIVERSITE DE BORDEAUX",
          "UNIVERSITE BORDEAUX 3",
          "UNIVERSITE DE BORDEAUX",
          "UNIVERSITE DE BORDEAUX",
          "UNIVERSITE DE BORDEAUX",
          "UNIVERSITE DE BORDEAUX",
          "UNIVERSITE DE BORDEAUX",
          "UNIVERSITE DE BORDEAUX",
          "UNIVERSITE DE BORDEAUX",
          "UNIVERSITE DE BORDEAUX",
          "UNIVERSITE DE BORDEAUX",
          "UNIVERSITE DE BORDEAUX",
          "UNIVERSITE DE BORDEAUX",
          "UNIVERSITÉ DE BORDEAUX",
          "UNIVERSITE DE BORDEAUX",
          "UNIVERSITE DE BORDEAUX",
          "UNIVERSITE DE BORDEAUX",
          "UNIVERSITE DE BORDEAUX",
          "UNIVERSITE DE BORDEAUX",
          "UNIVERSITÃ DE BORDEAUX",
          "UNIVERSITÃ DE BORDEAUX",
          "UNIVERSITE BORDEAUX 3",
          "UNIVERSITE DE BORDEAUX",
          "UNIVERSITE BORDEAUX 3",
          "UNIVERSITE BORDEAUX 3",
          "UNIVERSITE DE BORDEAUX",
          "UNIVERSITÉ DE BORDEAUX",
          "UNIVERSITE DE BORDEAUX",
          "UNIVERSITÉ DE BORDEAUX",
          "UNIVERSITÉ DE BORDEAUX",
          "UNIVERSITE BORDEAUX 3",
          "UNIVERSITE DE BORDEAUX",
          "UNIVERSITE DE BORDEAUX",
          "UNIVERSITE DE BORDEAUX",
          "UNIVERSITE DE BORDEAUX",
          "UNIVERSITE DE BORDEAUX",
          "UNIVERSITE DE BORDEAUX",
          "UNIVERSITE DE BORDEAUX",
          "UNIVERSITÉ DE BORDEAUX",
          "UNIVERSITE DE BORDEAUX",
          "UNIVERSITE DE BORDEAUX",
          "UNIVERSITÉ DE BORDEAUX",
          "UNIVERSITE DE BORDEAUX",
          "UNIVERSITE DE BORDEAUX",
          "UNIVERSITE DE BORDEAUX",
          "UNIVERSITE DE BORDEAUX",
          "UNIVERSITE DE BORDEAUX",
          "UNIVERSITÃ DE BORDEAUX",
          "UNIVERSITÉ DE BORDEAUX",
          "UNIVERSITE BORDEAUX 3",
          "UNIVERSITE BORDEAUX 3",
          "UNIVERSITE DE BORDEAUX",
          "UNIVERSITE DE BORDEAUX",
          "UNIVERSITÃ DE BORDEAUX",
          "UNIVERSITE BORDEAUX 3",
          "UNIVERSITE DE BORDEAUX",
          "UNIVERSITE DE BORDEAUX",
          "UNIVERSITE DE BORDEAUX",
          "UNIVERSITE DE BORDEAUX",
          "UNIVERSITE DE BORDEAUX",
          "UNIVERSITE DE BORDEAUX",
          "UNIVERSITE BORDEAUX 3",
          "UNIVERSITE DE BORDEAUX",
          "UNIVERSITE DE BORDEAUX",
          "UNIVERSITE DE BORDEAUX",
          "UNIVERSITE DE BORDEAUX",
          "UNIVERSITE DE BORDEAUX",
          "UNIVERSITE DE BORDEAUX",
          "UNIVERSITÉ DE BORDEAUX",
          "UNIVERSITÉ DE BORDEAUX",
          "UNIVERSITE DE BORDEAUX",
          "UNIVERSITE DE BORDEAUX",
          "UNIVERSITÃ DE BORDEAUX",
          "UNIVERSITÉ DE BORDEAUX",
          "UNIVERSITE BORDEAUX 3",
          "UNIVERSITE DE BORDEAUX",
          "UNIVERSITE DE BORDEAUX"
         ],
         "lat": {
          "bdata": "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",
          "dtype": "f8"
         },
         "legendgroup": "Universités",
         "lon": {
          "bdata": "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",
          "dtype": "f8"
         },
         "marker": {
          "color": "#ab63fa",
          "size": {
           "bdata": "LQ6pAs0AMQC1ATEAywAnAKUEUQEBArsAtwAUAL4BkABLA9UF8QUuAH8AIgApAAYAUgARALEASgQBAG0AJQFMADwAxAJbAB0AkgFkAXwAXQF7AiwF1gEyAKMBmgG+ARQAYgFtALQATABOAHoB1wMRI6YEKAOKAnYBZwAxAFcBCADJADQCeAFWBv8CGgUrAWQBlAKjAJsBcgFTAVcFyQJQACAAcwC4AL4AXCZcBDkBnwAQBAkFWAEbARcAJwAlAFoAZgExAFwAewJ2AJMEUANaBJ0BFQDhBJsAQgMHB7EnjgAZAR8AiAENASUBgADUADUBJgBBAKQGywMyAAYAaQDEA4EFJQC3AagALwHzDtcBpwAlAHMAuAMUA+gHngFYASYAAgFRAHUmtQLFADUBJgC+AAQATwB+A3wALgBYAdwAggBBAUwAGQGjBpsAPwA7A6AAJwRIAXQD/ASCAKUE0g0DAI4AyQATBYgndQUmAEYATgB4ARcAlgRiA1UDoCclAZsA0gA/AC0FowAiAHYAdwgcB7sAVQMXADwCLgB4AikDlQCABugDAQCiAcAA8gIEALoAZgOuAcoAVwBIAGQBYgBlAFEATgAwADYBKQWVBXAAbwCrAkIBtQMDACwB",
           "dtype": "i2"
          },
          "sizemode": "area",
          "sizeref": 25.4025
         },
         "mode": "markers",
         "name": "Universités",
         "showlegend": true,
         "subplot": "map",
         "type": "scattermap"
        },
        {
         "customdata": [
          [
           "Bordeaux",
           6,
           "Privé",
           null
          ],
          [
           "Bordeaux",
           16,
           "Privé",
           "BAC + 1"
          ],
          [
           "Bordeaux",
           39,
           "Privé",
           "BAC + 1"
          ],
          [
           "Bordeaux",
           4,
           "Privé",
           null
          ],
          [
           "Bordeaux",
           63,
           "Privé",
           null
          ],
          [
           "Bordeaux",
           190,
           "Privé",
           null
          ],
          [
           "Bordeaux",
           32,
           "Privé",
           "BAC + 3"
          ],
          [
           "Bordeaux",
           26,
           "Privé",
           "BAC + 1"
          ],
          [
           "Bordeaux",
           12,
           "Privé",
           "BAC + 2"
          ],
          [
           "Bordeaux",
           17,
           "Privé",
           "BAC + 1"
          ],
          [
           "Bordeaux",
           55,
           "Privé",
           "BAC + 1"
          ],
          [
           "Bordeaux",
           1,
           "Privé",
           "BAC + 3"
          ],
          [
           "Bordeaux",
           56,
           "Privé",
           null
          ],
          [
           "Bordeaux",
           331,
           "Privé",
           null
          ],
          [
           "Bordeaux",
           66,
           "Privé",
           null
          ],
          [
           "Bordeaux",
           15,
           "Privé",
           "BAC + 1"
          ],
          [
           "Bordeaux",
           9,
           "Privé",
           "BAC + 5"
          ],
          [
           "Bordeaux",
           23,
           "Privé",
           "BAC + 4"
          ],
          [
           "Bordeaux",
           28,
           "Privé",
           null
          ],
          [
           "Bordeaux",
           73,
           "Privé",
           "BAC + 3"
          ],
          [
           "Bordeaux",
           46,
           "Privé",
           "BAC + 4"
          ],
          [
           "Bordeaux",
           144,
           "Privé",
           "BAC + 1"
          ],
          [
           "Bordeaux",
           3,
           "Privé",
           "BAC + 2"
          ],
          [
           "Bordeaux",
           48,
           "Privé",
           null
          ],
          [
           "Bordeaux",
           23,
           "Privé",
           "BAC + 2"
          ],
          [
           "Bordeaux",
           75,
           "Privé",
           null
          ],
          [
           "Bordeaux",
           119,
           "Privé",
           "BAC + 1"
          ],
          [
           "Bordeaux",
           141,
           "Privé",
           null
          ],
          [
           "Bordeaux",
           142,
           "Privé",
           "BAC + 1"
          ],
          [
           "Bordeaux",
           5,
           "Privé",
           "BAC + 2"
          ],
          [
           "Bordeaux",
           18,
           "Privé",
           "BAC + 2"
          ],
          [
           "Bordeaux",
           19,
           "Privé",
           "BAC + 1"
          ],
          [
           "Bordeaux",
           111,
           "Privé",
           "BAC + 1"
          ],
          [
           "Bordeaux",
           80,
           "Privé",
           "BAC + 2"
          ],
          [
           "Bordeaux",
           28,
           "Privé",
           "BAC + 1"
          ],
          [
           "Bordeaux",
           43,
           "Privé",
           "BAC + 1"
          ],
          [
           "Bordeaux",
           13,
           "Privé",
           "BAC + 5"
          ],
          [
           "Bordeaux",
           23,
           "Privé",
           "BAC + 2"
          ],
          [
           "Bordeaux",
           59,
           "Privé",
           "BAC + 3"
          ],
          [
           "Bordeaux",
           64,
           "Privé",
           "BAC + 5"
          ],
          [
           "Bordeaux",
           3,
           "Privé",
           "BAC + 3"
          ],
          [
           "Bordeaux",
           91,
           "Privé",
           null
          ],
          [
           "Bordeaux",
           15,
           "Privé",
           "BAC + 1"
          ],
          [
           "Bordeaux",
           3,
           "Privé",
           "BAC + 4"
          ],
          [
           "Bordeaux",
           64,
           "Privé",
           "BAC + 4"
          ],
          [
           "Bordeaux",
           26,
           "Privé",
           "BAC + 2"
          ],
          [
           "Bordeaux",
           100,
           "Privé",
           null
          ],
          [
           "Bordeaux",
           271,
           "Privé",
           null
          ],
          [
           "Bordeaux",
           256,
           "Privé",
           null
          ],
          [
           "Bordeaux",
           96,
           "Privé",
           null
          ],
          [
           "Bordeaux",
           153,
           "Privé",
           null
          ],
          [
           "Bordeaux",
           41,
           "Privé",
           null
          ],
          [
           "Bordeaux",
           77,
           "Privé",
           "BAC + 5"
          ],
          [
           "Bordeaux",
           29,
           "Privé",
           "BAC + 4"
          ],
          [
           "Bordeaux",
           75,
           "Privé",
           "BAC + 5"
          ],
          [
           "Bordeaux",
           94,
           "Privé",
           "BAC + 2"
          ],
          [
           "Bordeaux",
           4,
           "Privé",
           null
          ],
          [
           "Bordeaux",
           60,
           "Privé",
           "BAC + 4"
          ],
          [
           "Bordeaux",
           3,
           "Privé",
           "BAC + 5"
          ],
          [
           "Bordeaux",
           41,
           "Privé",
           null
          ],
          [
           "Bordeaux",
           77,
           "Privé",
           null
          ],
          [
           "Bordeaux",
           36,
           "Privé",
           null
          ],
          [
           "Bordeaux",
           200,
           "Privé",
           null
          ],
          [
           "Bordeaux",
           24,
           "Privé",
           null
          ],
          [
           "Bordeaux",
           10,
           "Privé",
           "BAC + 1"
          ],
          [
           "Bordeaux",
           26,
           "Privé",
           "BAC + 3"
          ],
          [
           "Bordeaux",
           65,
           "Privé",
           "BAC + 2"
          ],
          [
           "Bordeaux",
           49,
           "Privé",
           "BAC + 5"
          ],
          [
           "Bordeaux",
           156,
           "Privé",
           "BAC + 3"
          ],
          [
           "Bordeaux",
           13,
           "Privé",
           "BAC + 3"
          ],
          [
           "Bordeaux",
           51,
           "Privé",
           null
          ],
          [
           "Bordeaux",
           77,
           "Privé",
           null
          ],
          [
           "Bordeaux",
           120,
           "Privé",
           null
          ],
          [
           "Bordeaux",
           925,
           "Privé",
           null
          ],
          [
           "Bordeaux",
           63,
           "Privé",
           "BAC + 1"
          ],
          [
           "Bordeaux",
           139,
           "Privé",
           null
          ],
          [
           "Bordeaux",
           4,
           "Privé",
           "BAC + 2"
          ],
          [
           "Bordeaux",
           2,
           "Privé",
           "BAC + 2"
          ],
          [
           "Bordeaux",
           102,
           "Privé",
           null
          ],
          [
           "Bordeaux",
           80,
           "Privé",
           null
          ],
          [
           "Bordeaux",
           70,
           "Privé",
           null
          ],
          [
           "Bordeaux",
           178,
           "Privé",
           null
          ],
          [
           "Bordeaux",
           5,
           "Privé",
           null
          ],
          [
           "Bordeaux",
           1325,
           "Privé",
           null
          ],
          [
           "Bordeaux",
           292,
           "Privé",
           null
          ],
          [
           "Bordeaux",
           267,
           "Privé",
           null
          ],
          [
           "Bordeaux",
           22,
           "Privé",
           "BAC + 3"
          ],
          [
           "Bordeaux",
           28,
           "Privé",
           "BAC + 2"
          ],
          [
           "Bordeaux",
           26,
           "Privé",
           "BAC + 1"
          ],
          [
           "Bordeaux",
           54,
           "Privé",
           null
          ],
          [
           "Bordeaux",
           35,
           "Privé",
           null
          ],
          [
           "Bordeaux",
           83,
           "Privé",
           "BAC + 1"
          ],
          [
           "Bordeaux",
           19,
           "Privé",
           "BAC + 4"
          ],
          [
           "Bordeaux",
           144,
           "Public",
           null
          ],
          [
           "Bordeaux",
           45,
           "Privé",
           null
          ],
          [
           "Bordeaux",
           2,
           "Privé",
           null
          ],
          [
           "Bordeaux",
           29,
           "Privé",
           "BAC + 1"
          ],
          [
           "Bordeaux",
           23,
           "Privé",
           "BAC + 2"
          ],
          [
           "Bordeaux",
           206,
           "Public",
           null
          ],
          [
           "Bordeaux",
           187,
           "Privé",
           null
          ],
          [
           "Bordeaux",
           151,
           "Privé",
           null
          ],
          [
           "Bordeaux",
           161,
           "Privé",
           null
          ],
          [
           "Bordeaux",
           280,
           "Privé",
           null
          ],
          [
           "Bordeaux",
           56,
           "Privé",
           null
          ],
          [
           "Bordeaux",
           15,
           "Privé",
           "BAC + 3"
          ],
          [
           "Bordeaux",
           14,
           "Privé",
           "BAC + 2"
          ],
          [
           "Bordeaux",
           27,
           "Privé",
           null
          ],
          [
           "Bordeaux",
           23,
           "Privé",
           null
          ],
          [
           "Bordeaux",
           59,
           "Privé",
           null
          ],
          [
           "Bordeaux",
           62,
           "Privé",
           null
          ],
          [
           "Bordeaux",
           91,
           "Privé",
           "BAC + 1"
          ],
          [
           "Bordeaux",
           17,
           "Privé",
           "BAC + 1"
          ],
          [
           "Bordeaux",
           28,
           "Privé",
           null
          ],
          [
           "Bordeaux",
           383,
           "Privé",
           null
          ],
          [
           "Bordeaux",
           260,
           "Privé",
           null
          ],
          [
           "Bordeaux",
           323,
           "Privé",
           "BAC + 2"
          ],
          [
           "Bordeaux",
           162,
           "Privé",
           null
          ],
          [
           "Bordeaux",
           187,
           "Privé",
           null
          ],
          [
           "Bordeaux",
           34,
           "Privé",
           "BAC + 1"
          ],
          [
           "Bordeaux",
           102,
           "Privé",
           "BAC + 2"
          ],
          [
           "Bordeaux",
           8,
           "Privé",
           "BAC + 2"
          ],
          [
           "Bordeaux",
           61,
           "Privé",
           "BAC + 4"
          ],
          [
           "Bordeaux",
           56,
           "Privé",
           null
          ],
          [
           "Bordeaux",
           267,
           "Privé",
           null
          ],
          [
           "Bordeaux",
           32,
           "Privé",
           "BAC + 1"
          ],
          [
           "Bordeaux",
           80,
           "Privé",
           "BAC + 3"
          ],
          [
           "Bordeaux",
           93,
           "Privé",
           null
          ],
          [
           "Bordeaux",
           169,
           "Privé",
           null
          ],
          [
           "Bordeaux",
           306,
           "Privé",
           null
          ],
          [
           "Bordeaux",
           24,
           "Privé",
           "BAC + 5"
          ],
          [
           "Bordeaux",
           17,
           "Privé",
           "BAC + 2"
          ],
          [
           "Bordeaux",
           106,
           "Privé",
           "BAC + 2"
          ],
          [
           "Bordeaux",
           18,
           "Privé",
           "BAC + 1"
          ],
          [
           "Bordeaux",
           3,
           "Privé",
           "BAC + 3"
          ],
          [
           "Bordeaux",
           2,
           "Privé",
           "BAC + 4"
          ],
          [
           "Bordeaux",
           195,
           "Privé",
           "BAC + 2"
          ],
          [
           "Bordeaux",
           1087,
           "Privé",
           null
          ],
          [
           "Bordeaux",
           29,
           "Privé",
           "BAC + 1"
          ],
          [
           "Bordeaux",
           53,
           "Privé",
           "BAC + 3"
          ],
          [
           "Bordeaux",
           150,
           "Privé",
           "BAC + 2"
          ],
          [
           "Bordeaux",
           13,
           "Privé",
           null
          ],
          [
           "Bordeaux",
           15,
           "Privé",
           "BAC + 1"
          ],
          [
           "Bordeaux",
           196,
           "Privé",
           "BAC + 1"
          ],
          [
           "Bordeaux",
           143,
           "Privé",
           "BAC + 2"
          ],
          [
           "Bordeaux",
           74,
           "Privé",
           "BAC + 2"
          ],
          [
           "Bordeaux",
           18,
           "Privé",
           "BAC + 1"
          ],
          [
           "Bordeaux",
           15,
           "Privé",
           "BAC + 2"
          ],
          [
           "Bordeaux",
           176,
           "Privé",
           null
          ],
          [
           "Bordeaux",
           40,
           "Privé",
           "BAC + 1"
          ],
          [
           "Bordeaux",
           38,
           "Privé",
           "BAC + 2"
          ],
          [
           "Bordeaux",
           240,
           "Privé",
           null
          ],
          [
           "Bordeaux",
           31,
           "Privé",
           null
          ],
          [
           "Bordeaux",
           29,
           "Privé",
           null
          ],
          [
           "Bordeaux",
           208,
           "Privé",
           "BAC + 1"
          ],
          [
           "Bordeaux",
           79,
           "Privé",
           "BAC + 1"
          ],
          [
           "Bordeaux",
           28,
           "Privé",
           "BAC + 1"
          ],
          [
           "Bordeaux",
           16,
           "Privé",
           "BAC + 2"
          ],
          [
           "Bordeaux",
           2,
           "Privé",
           "BAC + 3"
          ],
          [
           "Bordeaux",
           17,
           "Privé",
           "BAC + 2"
          ],
          [
           "Bordeaux",
           359,
           "Privé",
           null
          ],
          [
           "Bordeaux",
           25,
           "Privé",
           "BAC + 1"
          ],
          [
           "Bordeaux",
           20,
           "Privé",
           null
          ],
          [
           "Bordeaux",
           55,
           "Privé",
           "BAC + 5"
          ],
          [
           "Bordeaux",
           115,
           "Privé",
           "BAC + 2"
          ],
          [
           "Bordeaux",
           48,
           "Privé",
           "BAC + 2"
          ],
          [
           "Bordeaux",
           568,
           "Privé",
           null
          ],
          [
           "Bordeaux",
           175,
           "Privé",
           null
          ],
          [
           "Bordeaux",
           2,
           "Privé",
           "BAC + 4"
          ],
          [
           "Bordeaux",
           64,
           "Privé",
           "BAC + 1"
          ],
          [
           "Bordeaux",
           31,
           "Privé",
           "BAC + 5"
          ],
          [
           "Bordeaux",
           142,
           "Privé",
           null
          ],
          [
           "Bordeaux",
           43,
           "Privé",
           null
          ],
          [
           "Bordeaux",
           8,
           "Privé",
           "BAC + 2"
          ],
          [
           "Bordeaux",
           269,
           "Privé",
           null
          ],
          [
           "Bordeaux",
           6,
           "Privé",
           null
          ],
          [
           "Bordeaux",
           189,
           "Privé",
           null
          ],
          [
           "Bordeaux",
           13,
           "Privé",
           "BAC + 1"
          ],
          [
           "Bordeaux",
           16,
           "Privé",
           "BAC + 2"
          ],
          [
           "Bordeaux",
           16,
           "Privé",
           "BAC + 2"
          ],
          [
           "Bordeaux",
           13,
           "Privé",
           "BAC + 3"
          ],
          [
           "Bordeaux",
           9,
           "Privé",
           "BAC + 2"
          ],
          [
           "Bordeaux",
           15,
           "Privé",
           "BAC + 1"
          ],
          [
           "Bordeaux",
           3,
           "Privé",
           "BAC + 1"
          ],
          [
           "Bordeaux",
           22,
           "Privé",
           "BAC + 1"
          ],
          [
           "Bordeaux",
           132,
           "Privé",
           null
          ],
          [
           "Bordeaux",
           66,
           "Privé",
           null
          ],
          [
           "Bordeaux",
           50,
           "Privé",
           "BAC + 4"
          ],
          [
           "Bordeaux",
           8,
           "Privé",
           "BAC + 2"
          ],
          [
           "Bordeaux",
           49,
           "Privé",
           "BAC + 3"
          ],
          [
           "Bordeaux",
           15,
           "Privé",
           "BAC + 1"
          ],
          [
           "Bordeaux",
           75,
           "Privé",
           "BAC + 4"
          ],
          [
           "Bordeaux",
           12,
           "Privé",
           "BAC + 2"
          ],
          [
           "Bordeaux",
           15,
           "Privé",
           "BAC + 1"
          ],
          [
           "Bordeaux",
           169,
           "Privé",
           null
          ],
          [
           "Bordeaux",
           99,
           "Privé",
           null
          ],
          [
           "Bordeaux",
           44,
           "Privé",
           null
          ],
          [
           "Bordeaux",
           46,
           "Privé",
           null
          ],
          [
           "Bordeaux",
           102,
           "Privé",
           null
          ],
          [
           "Bordeaux",
           15,
           "Privé",
           null
          ],
          [
           "Bordeaux",
           42,
           "Privé",
           "BAC + 2"
          ],
          [
           "Bordeaux",
           47,
           "Privé",
           "BAC + 5"
          ],
          [
           "Bordeaux",
           11,
           "Privé",
           "BAC + 4"
          ],
          [
           "Bordeaux",
           70,
           "Privé",
           null
          ],
          [
           "Bordeaux",
           260,
           "Privé",
           null
          ],
          [
           "Bordeaux",
           6,
           "Privé",
           "BAC + 1"
          ],
          [
           "Bordeaux",
           5,
           "Privé",
           "BAC + 5"
          ],
          [
           "Bordeaux",
           26,
           "Privé",
           "BAC + 2"
          ],
          [
           "Bordeaux",
           3,
           "Privé",
           "BAC + 2"
          ],
          [
           "Bordeaux",
           370,
           "Privé",
           "BAC + 1"
          ],
          [
           "Bordeaux",
           205,
           "Privé",
           null
          ]
         ],
         "hovertemplate": "<b>%{hovertext}</b><br><br>catégorie d'établissement=Autres écoles de spécialités diverses<br>nombre total d’étudiants inscrits hors doubles inscriptions université/CPGE=%{customdata[1]}<br>lat=%{lat}<br>lon=%{lon}<br>Commune=%{customdata[0]}<br>secteur d'établissement=%{customdata[2]}<br>degre_etudes=%{customdata[3]}<extra></extra>",
         "hovertext": [
          "FORMATIONS D'AKI 10 - FORMADKL",
          "ETAB SUPERIEUR TECHNIQUE PR",
          "SUP DE VINCI",
          "EC PR DES SCIENCES INFORMATIQU",
          "ECOLE SUPÉRIEURE DU DIGITAL",
          "DIGITAL CAMPUS BORDEAUX",
          "EC PR DES SCIENCES INFORMATIQU",
          "ECOLE SUPERIEURE DU DIGITAL",
          "EC PR DES SCIENCES INFORMATIQU",
          "ECOLE SUPERIEURE DU DIGITAL",
          "ECOLE SUPERIEURE PRIVEE",
          "EC SUP GEST COMMERCE FINANCE",
          "LA COMPAGNIE DE FORMATION",
          "ECOLE TECH PRIVEE",
          "LA COMPAGNIE DE FORMATION",
          "EC PR DES SCIENCES INFORMATIQU",
          "ECOLE INTERNATIONALE TUNON",
          "INSTITUT SUPERIEUR DE FORMATIO",
          "INSTITUT METIERS DU NOTARIAT",
          "DIGITAL CAMPUS BORDEAUX",
          "DIGITAL CAMPUS BORDEAUX",
          "FORMASUP CAMPUS",
          "EC SUP GEST COMMERCE FINANCE",
          "CTR DE FORMATION D APPRENTIS",
          "EC PR DES SCIENCES INFORMATIQU",
          "INFOSUP",
          "INSTITUT SUPERIEUR D'OPTIQUE",
          "EC PR DES SCES INFORMATIQUES",
          "EC TECH NOSCHOOL",
          "DIGITAL CAMPUS BORDEAUX",
          "SUP DE VINCI",
          "INSTITUT METIERS DU NOTARIAT",
          "CAFA FORMATIONS",
          "CAFA FORMATIONS",
          "LA HORDE",
          "ETABLISSEMENT SUPERIEUR LIBRE",
          "ETABLISSEMENT SUPERIEUR LIBRE",
          "ETAB SUPERIEUR TECHNIQUE PR",
          "ETAB SUPERIEUR TECHNIQUE PR",
          "ETAB SUPERIEUR TECHNIQUE PR",
          "ETAB SUPERIEUR TECHNIQUE PR",
          "INSTITUT SUPERIEUR  FORMATION",
          "EC SUP GEST COMMERCE FINANCE",
          "LA HORDE",
          "ETAB SUPERIEUR TECHNIQUE PR",
          "LA HORDE",
          "ESARC EVOLUTION ARTS APPLIQUÃ",
          "EPITECH",
          "EC PR DES SCIENCES INFORMATIQU",
          "ECOLE INTERNATIONALE TUNON",
          "EC TECH PR ARTS APPLIQUES",
          "INSTITUT METIERS DU NOTARIAT",
          "ETAB SUPERIEUR TECHNIQUE PR",
          "ECOLE INTERNATIONALE TUNON",
          "INSTITUT SUPERIEUR DE FORMATIO",
          "INSTITUT SUPERIEUR D'OPTIQUE",
          "EC PR DES SCIENCES INFORMATIQU",
          "BORDEAUX  YNOV CAMPUS",
          "LA HORDE",
          "EC SUP GEST COMMERCE FINANCE",
          "CAFA FORMATIONS",
          "ARTSIDE GAMES",
          "FORMASUP CAMPUS",
          "ESARC EVOLUTION",
          "DIGITAL CAMPUS BORDEAUX",
          "ETABLISSEMENT SUPERIEUR LIBRE",
          "CAFA FORMATIONS",
          "DIGITAL CAMPUS BORDEAUX",
          "BORDEAUX  YNOV CAMPUS",
          "LA HORDE",
          "E COD (CCI DE BORDEAUX)",
          "ECOLE INTERNATIONALE TUNON",
          "ECOLE INTERNATIONALE TUNON",
          "BORDEAUX  Y NOV CAMPUS",
          "INSTITUT SUPERIEUR D'OPTIQUE",
          "BORDEAUX INFORMATIQUE CAMPUS",
          "EC SUP GEST COMMERCE FINANCE",
          "FORMATIONS D'AKI 10 - FORMADKL",
          "ESCEN",
          "EUROPEAN BX BUSINESS SCHOOL",
          "EUROPEAN BX BUSINESS SCHOOL",
          "EC PR DES SCIENCES INFORMATIQU",
          "EC PR DES SCIENCES INFORMATIQU",
          "BORDEAUX  YNOV CAMPUS",
          "EPITECH",
          "EPITECH",
          "DIGITAL CAMPUS BORDEAUX",
          "EC SUP GEST COMMERCE FINANCE",
          "ECOLE SUPERIEURE METIERS IMAGE",
          "ECOLE SUPÉRIEURE DU DIGITAL",
          "CTR DE FORMATION D APPRENTIS",
          "INSTITUT SUPERIEUR D'OPTIQUE",
          "ETABLISSEMENT SUPERIEUR LIBRE",
          "INST POLYTECHNIQUE BORDEAUX",
          "I.B.S.M.",
          "ETABLISSEMENT SUPERIEUR PRIVE",
          "ECOLE SUPERIEURE METIERS IMAGE",
          "ECOLE SUPERIEURE DU DIGITAL",
          "INST POLYTECHNIQUE BORDEAUX",
          "DIGITAL CAMPUS BORDEAUX",
          "INSTITUT SUPÉRIEUR D'OPTIQUE",
          "DIGITAL CAMPUS BORDEAUX",
          "EPITECH",
          "INST SUPERIEUR DES ARTS APPLIQ",
          "ECOLE SUPERIEURE DU DIGITAL",
          "FORMATIONS D'AKI 10 - FORMADKL",
          "INSTITUT METIERS DU NOTARIAT",
          null,
          "INST SUPERIEUR DES ARTS APPLIQ",
          "INSTITUT SUPÉRIEUR D'OPTIQUE",
          "CAFA FORMATIONS",
          "EC SUP GEST COMMERCE FINANCE",
          "INSTITUT METIERS DU NOTARIAT",
          "BORDEAUX  Y NOV CAMPUS",
          "EC PR DES SCIENCES INFORMATIQU",
          "BORDEAUX  YNOV CAMPUS",
          "INSTITUT SUPÉRIEUR D'OPTIQUE",
          "FORMASUP CAMPUS",
          "ECOLE INTERNATIONALE TUNON",
          "EC TECH NOSCHOOL",
          "DIDEROT EDUCATION - BORDEAUX",
          "EC PR DES SCIENCES INFORMATIQU",
          "LA COMPAGNIE DE FORMATION",
          "EC PR DES SCIENCES INFORMATIQU",
          "LA HORDE",
          "ETAB SUPERIEUR TECHNIQUE PR",
          "ESARC EVOLUTION",
          "INSTITUT SUPÉRIEUR D'OPTIQUE",
          "EC TECH PR ARTS APPLIQUES",
          "DIGITAL CAMPUS BORDEAUX",
          "DIDEROT EDUCATION - BORDEAUX",
          "FORMASUP CAMPUS",
          "INSTITUT METIERS DU NOTARIAT",
          "DIDEROT EDUCATION - BORDEAUX",
          "ETAB SUPERIEUR TECHNIQUE PR",
          "INSTITUT SUPERIEUR D'OPTIQUE",
          "BORDEAUX  YNOV CAMPUS",
          "DIGITAL CAMPUS BORDEAUX",
          "DIGITAL CAMPUS BORDEAUX",
          "FORMASUP CAMPUS",
          "EC PR DES SCIENCES INFORMATIQU",
          "EC PR DES SCIENCES INFORMATIQU",
          "FORMASUP CAMPUS",
          "INSTITUT SUPERIEUR D'OPTIQUE",
          "CAFA FORMATIONS",
          "INSTITUT METIERS DU NOTARIAT",
          "INSTITUT METIERS DU NOTARIAT",
          "ISEFAC",
          "EC SUP GEST COMMERCE FINANCE",
          "ETABLISSEMENT SUPERIEUR LIBRE",
          "FORMASUP CAMPUS",
          "CTR DE FORMATION D APPRENTIS",
          "INSTITUT METIERS DU NOTARIAT",
          "FORMASUP CAMPUS",
          "CAFA FORMATIONS",
          "DIGITAL CAMPUS BORDEAUX",
          "INSTITUT METIERS DU NOTARIAT",
          "LA HORDE",
          "ECOLE INTERNATIONALE TUNON",
          "ECOLE TECH PRIVEE",
          "ECOLE SUPERIEURE DU DIGITAL",
          "INFOSUP",
          "DIGITAL CAMPUS BORDEAUX",
          "FORMASUP CAMPUS",
          "DIGITAL CAMPUS BORDEAUX",
          "ECOLE TECHNIQUE PRIVEE",
          "DIGITAL CAMPUS BORDEAUX",
          "LA HORDE",
          "EC PR DES SCIENCES INFORMATIQU",
          "BORDEAUX  YNOV CAMPUS",
          "ECOLE BEST",
          "EC SUP GEST COMMERCE FINANCE",
          "INSTITUT METIERS DU NOTARIAT",
          "BORDEAUX INFORMATIQUE CAMPUS",
          "CAFA FORMATIONS",
          "FORMASUP CAMPUS",
          "INSTITUT EUROPEEN DE FORMATION",
          "ECOLE SUPERIEURE DU DIGITAL",
          "DIGITAL CAMPUS BORDEAUX",
          "DIDEROT EDUCATION - BORDEAUX",
          "LA HORDE",
          "DIDEROT EDUCATION - BORDEAUX",
          "FORMATIONS D'AKI 10 - FORMADKL",
          "ETAB SUPERIEUR TECHNIQUE PR",
          "INSTITUT SUPERIEUR D'OPTIQUE",
          "ECOLE SUPERIEURE DU DIGITAL",
          "DIGITAL CAMPUS BORDEAUX",
          "ETAB SUPERIEUR TECHNIQUE PR",
          "ECOLE INTERNATIONALE TUNON",
          "DIDEROT EDUCATION - BORDEAUX",
          "ETAB SUPERIEUR TECHNIQUE PR",
          "EC PR DES SCIENCES INFORMATIQU",
          "FORMATIONS D'AKI 10 - FORMADKL",
          "FORMASUP CAMPUS",
          "INSTITUT SUPERIEUR  FORMATION",
          "INSTITUT METIERS DU NOTARIAT",
          "E COD (CCI DE BORDEAUX)",
          "INSTITUT SUPÃRIEUR D'OPTIQUE",
          "ECOLE SUPÃRIEURE DU DIGITAL",
          "EC PR DES SCIENCES INFORMATIQU",
          "EC PR DES SCIENCES INFORMATIQU",
          "ECOLE SUPERIEURE DU DIGITAL",
          "ECOLE INTERNATIONALE TUNON",
          "EC PR DES SCIENCES INFORMATIQU",
          "STUDIO M",
          "ETAB SUPERIEUR TECHNIQUE PR",
          "ETAB SUPERIEUR TECHNIQUE PR",
          "ECOLE SUPERIEURE DU DIGITAL",
          "BORDEAUX  YNOV CAMPUS",
          "FORMASUP CAMPUS"
         ],
         "lat": {
          "bdata": "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",
          "dtype": "f8"
         },
         "legendgroup": "Autres écoles de spécialités diverses",
         "lon": {
          "bdata": "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",
          "dtype": "f8"
         },
         "marker": {
          "color": "#FFA15A",
          "size": {
           "bdata": "BgAQACcABAA/AL4AIAAaAAwAEQA3AAEAOABLAUIADwAJABcAHABJAC4AkAADADAAFwBLAHcAjQCOAAUAEgATAG8AUAAcACsADQAXADsAQAADAFsADwADAEAAGgBkAA8BAAFgAJkAKQBNAB0ASwBeAAQAPAADACkATQAkAMgAGAAKABoAQQAxAJwADQAzAE0AeACdAz8AiwAEAAIAZgBQAEYAsgAFAC0FJAELARYAHAAaADYAIwBTABMAkAAtAAIAHQAXAM4AuwCXAKEAGAE4AA8ADgAbABcAOwA+AFsAEQAcAH8BBAFDAaIAuwAiAGYACAA9ADgACwEgAFAAXQCpADIBGAARAGoAEgADAAIAwwA/BB0ANQCWAA0ADwDEAI8ASgASAA8AsAAoACYA8AAfAB0A0ABPABwAEAACABEAZwEZABQANwBzADAAOAKvAAIAQAAfAI4AKwAIAA0BBgC9AA0AEAAQAA0ACQAPAAMAFgCEAEIAMgAIADEADwBLAAwADwCpAGMALAAuAGYADwAqAC8ACwBGAAQBBgAFABoAAwByAc0A",
           "dtype": "i2"
          },
          "sizemode": "area",
          "sizeref": 25.4025
         },
         "mode": "markers",
         "name": "Autres écoles de spécialités diverses",
         "showlegend": true,
         "subplot": "map",
         "type": "scattermap"
        },
        {
         "customdata": [
          [
           "Bordeaux",
           7,
           "Privé",
           "BAC + 1"
          ],
          [
           "Bordeaux",
           81,
           "Privé",
           "BAC + 1"
          ],
          [
           "Bordeaux",
           143,
           "Privé",
           "Inférieur ou égal au baccalauréat"
          ],
          [
           "Bordeaux",
           69,
           "Privé",
           "BAC + 2"
          ],
          [
           "Bordeaux",
           37,
           "Privé",
           "BAC + 2"
          ],
          [
           "Bordeaux",
           18,
           "Privé",
           "BAC + 3"
          ],
          [
           "Bordeaux",
           58,
           "Privé",
           null
          ],
          [
           "Bordeaux",
           312,
           "Privé",
           null
          ],
          [
           "Bordeaux",
           107,
           "Privé",
           null
          ],
          [
           "Bordeaux",
           67,
           "Privé",
           "BAC + 2"
          ],
          [
           "Bordeaux",
           57,
           "Privé",
           "BAC + 3"
          ],
          [
           "Bordeaux",
           17,
           "Privé",
           "BAC + 3"
          ],
          [
           "Bordeaux",
           202,
           "Privé",
           null
          ],
          [
           "Bordeaux",
           56,
           "Public",
           "BAC + 1"
          ],
          [
           "Bordeaux",
           14,
           "Public",
           "BAC + 3"
          ],
          [
           "Bordeaux",
           61,
           "Public",
           "BAC + 2"
          ],
          [
           "Bordeaux",
           56,
           "Privé",
           "BAC + 1"
          ],
          [
           "Bordeaux",
           15,
           "Privé",
           "BAC + 1"
          ],
          [
           "Bordeaux",
           21,
           "Privé",
           "BAC + 2"
          ],
          [
           "Bordeaux",
           29,
           "Privé",
           "BAC + 4"
          ],
          [
           "Bordeaux",
           120,
           "Privé",
           null
          ],
          [
           "Bordeaux",
           139,
           "Privé",
           null
          ],
          [
           "Bordeaux",
           150,
           "Privé",
           "Inférieur ou égal au baccalauréat"
          ],
          [
           "Bordeaux",
           83,
           "Privé",
           "BAC + 3"
          ],
          [
           "Bordeaux",
           40,
           "Privé",
           "BAC + 2"
          ],
          [
           "Bordeaux",
           85,
           "Privé",
           "BAC + 6 et plus"
          ],
          [
           "Bordeaux",
           56,
           "Public",
           "BAC + 1"
          ],
          [
           "Bordeaux",
           9,
           "Privé",
           "BAC + 1"
          ],
          [
           "Bordeaux",
           34,
           "Privé",
           "BAC + 2"
          ],
          [
           "Bordeaux",
           68,
           "Privé",
           "BAC + 2"
          ],
          [
           "Bordeaux",
           34,
           "Public",
           "BAC + 4"
          ],
          [
           "Bordeaux",
           104,
           "Privé",
           null
          ],
          [
           "Bordeaux",
           67,
           "Privé",
           null
          ],
          [
           "Bordeaux",
           792,
           "Privé",
           null
          ],
          [
           "Bordeaux",
           103,
           "Privé",
           "BAC + 1"
          ],
          [
           "Bordeaux",
           146,
           "Privé",
           "BAC + 3"
          ],
          [
           "Bordeaux",
           53,
           "Privé",
           "BAC + 2"
          ],
          [
           "Bordeaux",
           14,
           "Public",
           null
          ],
          [
           "Bordeaux",
           53,
           "Privé",
           "BAC + 1"
          ],
          [
           "Bordeaux",
           13,
           "Privé",
           "BAC + 3"
          ],
          [
           "Bordeaux",
           14,
           "Privé",
           "BAC + 1"
          ],
          [
           "Bordeaux",
           156,
           "Privé",
           "BAC + 4"
          ],
          [
           "Bordeaux",
           21,
           "Privé",
           "BAC + 3"
          ],
          [
           "Bordeaux",
           25,
           "Privé",
           "BAC + 3"
          ],
          [
           "Bordeaux",
           72,
           "Public",
           "BAC + 2"
          ],
          [
           "Bordeaux",
           45,
           "Public",
           "BAC + 4"
          ],
          [
           "Bordeaux",
           146,
           "Privé",
           "BAC + 2"
          ],
          [
           "Bordeaux",
           33,
           "Privé",
           "BAC + 3"
          ],
          [
           "Bordeaux",
           44,
           "Public",
           "BAC + 3"
          ],
          [
           "Bordeaux",
           8,
           "Privé",
           "BAC + 5"
          ],
          [
           "Bordeaux",
           71,
           "Privé",
           "BAC + 3"
          ],
          [
           "Bordeaux",
           11,
           "Privé",
           "BAC + 4"
          ],
          [
           "Bordeaux",
           18,
           "Privé",
           "BAC + 2"
          ],
          [
           "Bordeaux",
           25,
           "Privé",
           "BAC + 1"
          ],
          [
           "Bordeaux",
           358,
           "Privé",
           null
          ],
          [
           "Bordeaux",
           38,
           "Privé",
           "BAC + 1"
          ],
          [
           "Bordeaux",
           26,
           "Privé",
           "BAC + 2"
          ],
          [
           "Bordeaux",
           75,
           "Privé",
           "BAC + 3"
          ],
          [
           "Bordeaux",
           97,
           "Privé",
           "Inférieur ou égal au baccalauréat"
          ],
          [
           "Bordeaux",
           35,
           "Privé",
           "BAC + 1"
          ],
          [
           "Bordeaux",
           73,
           "Privé",
           null
          ],
          [
           "Bordeaux",
           792,
           "Privé",
           null
          ],
          [
           "Bordeaux",
           336,
           "Privé",
           null
          ],
          [
           "Bordeaux",
           93,
           "Privé",
           null
          ],
          [
           "Bordeaux",
           86,
           "Privé",
           null
          ],
          [
           "Bordeaux",
           44,
           "Privé",
           null
          ],
          [
           "Bordeaux",
           183,
           "Privé",
           "BAC + 5"
          ],
          [
           "Bordeaux",
           21,
           "Privé",
           "BAC + 2"
          ],
          [
           "Bordeaux",
           21,
           "Privé",
           "BAC + 1"
          ],
          [
           "Bordeaux",
           119,
           "Privé",
           "Inférieur ou égal au baccalauréat"
          ],
          [
           "Bordeaux",
           11,
           "Privé",
           "BAC + 3"
          ],
          [
           "Bordeaux",
           68,
           "Privé",
           "BAC + 4"
          ],
          [
           "Bordeaux",
           100,
           "Privé",
           "BAC + 1"
          ],
          [
           "Bordeaux",
           36,
           "Privé",
           "BAC + 1"
          ],
          [
           "Bordeaux",
           34,
           "Privé",
           "BAC + 2"
          ],
          [
           "Bordeaux",
           72,
           "Privé",
           "BAC + 2"
          ],
          [
           "Bordeaux",
           61,
           "Privé",
           "BAC + 1"
          ],
          [
           "Bordeaux",
           19,
           "Privé",
           "BAC + 3"
          ],
          [
           "Bordeaux",
           169,
           "Privé",
           "BAC + 2"
          ],
          [
           "Bordeaux",
           14,
           "Public",
           "BAC + 2"
          ],
          [
           "Bordeaux",
           826,
           "Privé",
           null
          ],
          [
           "Bordeaux",
           35,
           "Privé",
           "BAC + 3"
          ],
          [
           "Bordeaux",
           293,
           "Privé",
           null
          ],
          [
           "Bordeaux",
           14,
           "Public",
           null
          ],
          [
           "Bordeaux",
           49,
           "Public",
           "BAC + 3"
          ],
          [
           "Bordeaux",
           225,
           "Privé",
           null
          ],
          [
           "Bordeaux",
           17,
           "Privé",
           "BAC + 1"
          ],
          [
           "Bordeaux",
           13,
           "Privé",
           "BAC + 2"
          ],
          [
           "Bordeaux",
           25,
           "Public",
           "BAC + 5"
          ],
          [
           "Bordeaux",
           53,
           "Privé",
           null
          ],
          [
           "Bordeaux",
           163,
           "Privé",
           null
          ],
          [
           "Bordeaux",
           32,
           "Privé",
           "BAC + 5"
          ],
          [
           "Bordeaux",
           25,
           "Privé",
           "BAC + 4"
          ],
          [
           "Bordeaux",
           377,
           "Privé",
           null
          ],
          [
           "Bordeaux",
           217,
           "Public",
           null
          ],
          [
           "Bordeaux",
           91,
           "Privé",
           null
          ],
          [
           "Bordeaux",
           79,
           "Privé",
           "BAC + 2"
          ],
          [
           "Bordeaux",
           56,
           "Privé",
           "BAC + 2"
          ],
          [
           "Bordeaux",
           228,
           "Privé",
           "BAC + 1"
          ],
          [
           "Bordeaux",
           40,
           "Privé",
           null
          ],
          [
           "Bordeaux",
           213,
           "Privé",
           null
          ],
          [
           "Bordeaux",
           27,
           "Privé",
           "BAC + 2"
          ],
          [
           "Bordeaux",
           41,
           "Privé",
           null
          ],
          [
           "Bordeaux",
           24,
           "Privé",
           "BAC + 1"
          ],
          [
           "Bordeaux",
           139,
           "Privé",
           "BAC + 2"
          ],
          [
           "Bordeaux",
           22,
           "Privé",
           "BAC + 3"
          ],
          [
           "Bordeaux",
           20,
           "Privé",
           "BAC + 3"
          ],
          [
           "Bordeaux",
           11,
           "Privé",
           "BAC + 3"
          ],
          [
           "Bordeaux",
           48,
           "Privé",
           "BAC + 3"
          ],
          [
           "Bordeaux",
           29,
           "Public",
           "BAC + 4"
          ],
          [
           "Bordeaux",
           156,
           "Privé",
           "BAC + 4"
          ],
          [
           "Bordeaux",
           183,
           "Privé",
           "BAC + 5"
          ],
          [
           "Bordeaux",
           15,
           "Privé",
           "BAC + 1"
          ],
          [
           "Bordeaux",
           25,
           "Privé",
           "BAC + 4"
          ],
          [
           "Bordeaux",
           28,
           "Privé",
           "BAC + 2"
          ],
          [
           "Bordeaux",
           215,
           "Public",
           null
          ],
          [
           "Bordeaux",
           21,
           "Privé",
           "BAC + 1"
          ],
          [
           "Bordeaux",
           62,
           "Privé",
           "BAC + 1"
          ],
          [
           "Bordeaux",
           146,
           "Privé",
           "BAC + 3"
          ],
          [
           "Bordeaux",
           344,
           "Privé",
           null
          ],
          [
           "Bordeaux",
           24,
           "Privé",
           "BAC + 2"
          ],
          [
           "Bordeaux",
           225,
           "Public",
           null
          ],
          [
           "Bordeaux",
           311,
           "Privé",
           null
          ],
          [
           "Bordeaux",
           50,
           "Privé",
           null
          ],
          [
           "Bordeaux",
           21,
           "Privé",
           "BAC + 3"
          ],
          [
           "Bordeaux",
           75,
           "Privé",
           null
          ],
          [
           "Bordeaux",
           14,
           "Public",
           null
          ],
          [
           "Bordeaux",
           167,
           "Privé",
           "BAC + 5"
          ],
          [
           "Bordeaux",
           42,
           "Privé",
           "BAC + 2"
          ],
          [
           "Bordeaux",
           72,
           "Privé",
           "BAC + 1"
          ],
          [
           "Bordeaux",
           208,
           "Public",
           null
          ],
          [
           "Bordeaux",
           108,
           "Privé",
           null
          ],
          [
           "Bordeaux",
           16,
           "Privé",
           "BAC + 4"
          ],
          [
           "Bordeaux",
           40,
           "Privé",
           "BAC + 1"
          ],
          [
           "Bordeaux",
           42,
           "Privé",
           "BAC + 3"
          ],
          [
           "Bordeaux",
           20,
           "Privé",
           "BAC + 2"
          ],
          [
           "Bordeaux",
           69,
           "Privé",
           "BAC + 2"
          ],
          [
           "Bordeaux",
           11,
           "Privé",
           "BAC + 3"
          ],
          [
           "Bordeaux",
           30,
           "Privé",
           "BAC + 2"
          ],
          [
           "Bordeaux",
           21,
           "Privé",
           "BAC + 3"
          ],
          [
           "Bordeaux",
           33,
           "Privé",
           "BAC + 3"
          ],
          [
           "Bordeaux",
           30,
           "Public",
           "BAC + 5"
          ],
          [
           "Bordeaux",
           722,
           "Privé",
           null
          ],
          [
           "Bordeaux",
           74,
           "Privé",
           null
          ],
          [
           "Bordeaux",
           127,
           "Privé",
           null
          ],
          [
           "Bordeaux",
           113,
           "Privé",
           null
          ],
          [
           "Bordeaux",
           43,
           "Public",
           null
          ],
          [
           "Bordeaux",
           44,
           "Privé",
           "BAC + 2"
          ],
          [
           "Bordeaux",
           19,
           "Privé",
           "BAC + 2"
          ],
          [
           "Bordeaux",
           221,
           "Public",
           null
          ],
          [
           "Bordeaux",
           9,
           "Privé",
           "BAC + 1"
          ],
          [
           "Bordeaux",
           26,
           "Privé",
           "BAC + 3"
          ],
          [
           "Bordeaux",
           9,
           "Privé",
           "BAC + 5"
          ],
          [
           "Bordeaux",
           102,
           "Privé",
           "Inférieur ou égal au baccalauréat"
          ],
          [
           "Bordeaux",
           13,
           "Privé",
           "BAC + 3"
          ],
          [
           "Bordeaux",
           62,
           "Privé",
           "BAC + 1"
          ],
          [
           "Bordeaux",
           22,
           "Public",
           null
          ],
          [
           "Bordeaux",
           21,
           "Privé",
           "BAC + 2"
          ],
          [
           "Bordeaux",
           60,
           "Privé",
           "BAC + 1"
          ],
          [
           "Bordeaux",
           298,
           "Privé",
           null
          ],
          [
           "Bordeaux",
           115,
           "Privé",
           null
          ],
          [
           "Bordeaux",
           14,
           "Public",
           null
          ],
          [
           "Bordeaux",
           56,
           "Privé",
           "BAC + 5"
          ],
          [
           "Bordeaux",
           54,
           "Privé",
           "BAC + 2"
          ],
          [
           "Bordeaux",
           59,
           "Public",
           "BAC + 1"
          ],
          [
           "Bordeaux",
           29,
           "Privé",
           "BAC + 2"
          ],
          [
           "Bordeaux",
           83,
           "Privé",
           "BAC + 1"
          ],
          [
           "Bordeaux",
           16,
           "Privé",
           "BAC + 1"
          ],
          [
           "Bordeaux",
           46,
           "Privé",
           "BAC + 1"
          ],
          [
           "Bordeaux",
           30,
           "Privé",
           "BAC + 1"
          ],
          [
           "Bordeaux",
           20,
           "Privé",
           "BAC + 1"
          ],
          [
           "Bordeaux",
           8,
           "Public",
           "Inférieur ou égal au baccalauréat"
          ],
          [
           "Bordeaux",
           5,
           "Privé",
           "BAC + 5"
          ],
          [
           "Bordeaux",
           18,
           "Privé",
           "BAC + 2"
          ],
          [
           "Bordeaux",
           34,
           "Privé",
           "BAC + 3"
          ],
          [
           "Bordeaux",
           14,
           "Public",
           null
          ],
          [
           "Bordeaux",
           19,
           "Privé",
           "BAC + 4"
          ],
          [
           "Bordeaux",
           113,
           "Privé",
           "BAC + 1"
          ],
          [
           "Bordeaux",
           34,
           "Privé",
           "BAC + 3"
          ],
          [
           "Bordeaux",
           20,
           "Privé",
           "Inférieur ou égal au baccalauréat"
          ],
          [
           "Bordeaux",
           13,
           "Privé",
           "BAC + 2"
          ],
          [
           "Bordeaux",
           8,
           "Privé",
           "BAC + 3"
          ],
          [
           "Bordeaux",
           45,
           "Privé",
           "BAC + 5"
          ],
          [
           "Bordeaux",
           59,
           "Privé",
           "BAC + 3"
          ],
          [
           "Bordeaux",
           5,
           "Public",
           "Inférieur ou égal au baccalauréat"
          ],
          [
           "Bordeaux",
           189,
           "Privé",
           null
          ],
          [
           "Bordeaux",
           320,
           "Privé",
           null
          ],
          [
           "Bordeaux",
           35,
           "Privé",
           "BAC + 2"
          ],
          [
           "Bordeaux",
           30,
           "Privé",
           "BAC + 3"
          ],
          [
           "Bordeaux",
           201,
           "Privé",
           "BAC + 4"
          ],
          [
           "Bordeaux",
           86,
           "Privé",
           "BAC + 1"
          ],
          [
           "Bordeaux",
           102,
           "Privé",
           "Inférieur ou égal au baccalauréat"
          ],
          [
           "Bordeaux",
           78,
           "Privé",
           "BAC + 4"
          ],
          [
           "Bordeaux",
           84,
           "Privé",
           "BAC + 1"
          ],
          [
           "Bordeaux",
           53,
           "Public",
           "BAC + 2"
          ],
          [
           "Bordeaux",
           21,
           "Privé",
           "BAC + 4"
          ],
          [
           "Bordeaux",
           42,
           "Privé",
           null
          ],
          [
           "Bordeaux",
           150,
           "Privé",
           "BAC + 1"
          ],
          [
           "Bordeaux",
           62,
           "Privé",
           "BAC + 4"
          ],
          [
           "Bordeaux",
           119,
           "Privé",
           null
          ],
          [
           "Bordeaux",
           66,
           "Privé",
           null
          ],
          [
           "Bordeaux",
           73,
           "Privé",
           "BAC + 2"
          ],
          [
           "Bordeaux",
           168,
           "Privé",
           null
          ],
          [
           "Bordeaux",
           9,
           "Privé",
           "BAC + 4"
          ],
          [
           "Bordeaux",
           86,
           "Privé",
           null
          ],
          [
           "Bordeaux",
           139,
           "Privé",
           "BAC + 2"
          ],
          [
           "Bordeaux",
           11,
           "Privé",
           "BAC + 5"
          ],
          [
           "Bordeaux",
           33,
           "Privé",
           "BAC + 1"
          ],
          [
           "Bordeaux",
           24,
           "Privé",
           "BAC + 1"
          ],
          [
           "Bordeaux",
           21,
           "Privé",
           "BAC + 2"
          ],
          [
           "Bordeaux",
           50,
           "Privé",
           null
          ],
          [
           "Bordeaux",
           74,
           "Privé",
           null
          ],
          [
           "Bordeaux",
           69,
           "Privé",
           "BAC + 2"
          ],
          [
           "Bordeaux",
           236,
           "Privé",
           "BAC + 1"
          ],
          [
           "Bordeaux",
           14,
           "Public",
           "BAC + 1"
          ],
          [
           "Bordeaux",
           53,
           "Public",
           "BAC + 3"
          ],
          [
           "Bordeaux",
           66,
           "Privé",
           "BAC + 1"
          ],
          [
           "Bordeaux",
           17,
           "Privé",
           "BAC + 5"
          ],
          [
           "Bordeaux",
           164,
           "Privé",
           null
          ],
          [
           "Bordeaux",
           270,
           "Privé",
           null
          ],
          [
           "Bordeaux",
           625,
           "Privé",
           null
          ],
          [
           "Bordeaux",
           32,
           "Privé",
           null
          ],
          [
           "Bordeaux",
           44,
           "Privé",
           "BAC + 5"
          ],
          [
           "Bordeaux",
           23,
           "Privé",
           "BAC + 1"
          ],
          [
           "Bordeaux",
           29,
           "Privé",
           "BAC + 2"
          ],
          [
           "Bordeaux",
           499,
           "Privé",
           null
          ],
          [
           "Bordeaux",
           69,
           "Privé",
           null
          ],
          [
           "Bordeaux",
           203,
           "Privé",
           null
          ],
          [
           "Bordeaux",
           82,
           "Privé",
           "BAC + 3"
          ],
          [
           "Bordeaux",
           102,
           "Privé",
           "BAC + 2"
          ],
          [
           "Bordeaux",
           15,
           "Privé",
           "BAC + 1"
          ],
          [
           "Bordeaux",
           171,
           "Privé",
           null
          ],
          [
           "Bordeaux",
           58,
           "Privé",
           null
          ],
          [
           "Bordeaux",
           91,
           "Privé",
           null
          ],
          [
           "Bordeaux",
           312,
           "Privé",
           null
          ],
          [
           "Bordeaux",
           62,
           "Privé",
           "BAC + 2"
          ],
          [
           "Bordeaux",
           24,
           "Privé",
           "BAC + 3"
          ],
          [
           "Bordeaux",
           145,
           "Privé",
           "BAC + 3"
          ],
          [
           "Bordeaux",
           23,
           "Privé",
           "BAC + 3"
          ],
          [
           "Bordeaux",
           119,
           "Privé",
           null
          ],
          [
           "Bordeaux",
           193,
           "Privé",
           null
          ],
          [
           "Bordeaux",
           150,
           "Privé",
           "Inférieur ou égal au baccalauréat"
          ],
          [
           "Bordeaux",
           29,
           "Public",
           "BAC + 5"
          ]
         ],
         "hovertemplate": "<b>%{hovertext}</b><br><br>catégorie d'établissement=Écoles supérieures artistiques et culturelles<br>nombre total d’étudiants inscrits hors doubles inscriptions université/CPGE=%{customdata[1]}<br>lat=%{lat}<br>lon=%{lon}<br>Commune=%{customdata[0]}<br>secteur d'établissement=%{customdata[2]}<br>degre_etudes=%{customdata[3]}<extra></extra>",
         "hovertext": [
          "ECOLE SUP ARTS TECHNIQUES DE L",
          "ECOLE SUPERIEURE METIERS IMAGE",
          "MJM GRAPHIC DESIGN - ESCAAD -",
          "ETAB PR ENSEIGNEMENT TECH",
          "INSTITUT BORDELAIS STYLISME MO",
          "ECOLE SUPERIEURE PRIVEE",
          "ECOLE SUP ARTS TECHNIQUES DE L",
          "ECOLE SUPERIEURE METIERS IMAGE",
          "PESMD BORDEAUX AQUITAINE",
          "ECOLE SUPERIEURE METIERS IMAGE",
          "MJM GRAPHIC DESIGN - ESCAAD -",
          "MJM GRAPHIC DESIGN - ESCAAD -",
          "MJM GRAPHIC DESIGN - ESCAAD -",
          "ECOLE MUNICIPALE BEAUX ARTS",
          "ECOLE SUPERIEURE DE THEATRE",
          "ECOLE SUPERIEURE DES BEAUX ART",
          "INSTITUT BORDELAIS STYLISME MO",
          "INSTITUT SUPERIEUR EUROPEEN DE",
          "ETAB PRIVE ENSEIGNT SUPERIEUR",
          "ETAB PRIVE ENSEIGNT SUPERIEUR",
          "PESMD BORDEAUX AQUITAINE",
          "PESMD BORDEAUX AQUITAINE",
          "ECV BORDEAUX - ICA",
          "ETAB PR ENSEIGNEMENT TECH",
          "ECOLE SUPERIEURE TECHNIQUE PRI",
          "ETAB PRIVE ENSEIGNT SUPERIEUR",
          "ECOLE SUPERIEURE DES BEAUX ART",
          "ECV BORDEAUX - ICA",
          "ARTSIDE GAMES",
          "ECOLE SUPERIEURE METIERS IMAGE",
          "ECOLE MUNICIPALE BEAUX ARTS",
          "PESMD BORDEAUX AQUITAINE",
          "INSTITUT BORDELAIS STYLISME MO",
          "ECV BORDEAUX - ICA",
          "INST SUPERIEUR DES ARTS APPLIQ",
          "ECV BORDEAUX - ICA",
          "ECOLE SUPERIEURE TECHNIQUE PRI",
          "ECOLE SUPERIEURE DE THEATRE",
          "ECOLE SUP ARTS TECHNIQUES DE L",
          "INSTITUT SUPERIEUR EUROPEEN DE",
          "ECOLE SUPERIEURE PRIVEE",
          "ECV BORDEAUX - ICA",
          "INSTITUT BORDELAIS STYLISME MO",
          "PESMD BORDEAUX AQUITAINE",
          "ECOLE SUPERIEURE DES BEAUX ART",
          "ECOLE SUPERIEURE DES BEAUX ART",
          "ECV BORDEAUX - ICA",
          "ETAB PRIVE ENSEIGNT SUPERIEUR",
          "ECOLE SUPERIEURE DES BEAUX ART",
          "INSTITUT BORDELAIS STYLISME MO",
          "INST SUPERIEUR DES ARTS APPLIQ",
          "ECOLE SUPERIEURE PRIVEE",
          "ECOLE SUPERIEURE D'ARCHITECTUR",
          "ETAB PRIVE ENSEIGNT SUPERIEUR",
          "ECOLE TECH PRIVEE",
          "L'ECOLE DU 7EME ART",
          "ECOLE SUP ARTS TECHNIQUES DE L",
          "INST SUPERIEUR DES ARTS APPLIQ",
          "MJM GRAPHIC DESIGN - ESCAAD -",
          "ARTSIDE GAMES",
          "CTR DE FORMATION D APPRENTIS",
          "E C V AQUITAINE I C B",
          "ECOLE SUPERIEURE METIERS IMAGE",
          "I.B.S.M.",
          "E - ARTSUP",
          "CTR DE FORMATION D APPRENTIS",
          "ECV BORDEAUX - ICA",
          "L'ECOLE DU 7EME ART",
          "ETAB PRIVE ENSEIGNT SUPERIEUR",
          "ECOLE SUPERIEURE METIERS IMAGE",
          "L'ECOLE DU 7EME ART",
          "INST SUPERIEUR DES ARTS APPLIQ",
          "MJM GRAPHIC DESIGN - ESCAAD -",
          "ARTSIDE GAMES",
          "ARTSIDE GAMES",
          "INST SUPERIEUR DES ARTS APPLIQ",
          "ECOLE SUPERIEURE TECHNIQUE PRI",
          "INSTITUT BORDELAIS STYLISME MO",
          "INST SUPERIEUR DES ARTS APPLIQ",
          "ECOLE SUPERIEURE DE THEATRE",
          "ECV BORDEAUX - ICA",
          "ARTSIDE GAMES",
          "ECOLE SUPERIEURE",
          "ECOLE SUPERIEURE DE THEATRE",
          "ECOLE MUNICIPALE BEAUX ARTS",
          "ETAB PR ENSEIGNEMENT TECH",
          "PESMD BORDEAUX AQUITAINE",
          "INSTITUT SUPERIEUR EUROPEEN DE",
          "ECOLE SUPERIEURE DES BEAUX ART",
          "EC.SUP.ARTS-TECH DE MODE",
          "ETAB PRIVE ENSEIGNT SUPERIEUR",
          "INST SUPERIEUR DES ARTS APPLIQ",
          "ARTSIDE GAMES",
          "MJM GRAPHIC DESIGN - ESCAAD -",
          "ECOLE MUNICIPALE BEAUX ARTS",
          "INST DECOR ETAL AMENAG ESPACE",
          "MJM GRAPHIC DESIGN - ESCAAD -",
          "INST SUPERIEUR DES ARTS APPLIQ",
          "MJM GRAPHIC DESIGN - ESCAAD -",
          "ECOLE SUP ARTS TECHNIQUES DE L",
          "ETAB PR ENSEIGNEMENT TECH",
          "ETAB PRIVE ENSEIGNT SUPERIEUR",
          "ECOLE SUP ARTS TECHNIQUES DE L",
          "ETAB PRIVE ENSEIGNT SUPERIEUR",
          "ECV BORDEAUX - ICA",
          "PESMD BORDEAUX AQUITAINE",
          "ECOLE SUPERIEURE METIERS IMAGE",
          "L'ECOLE DU 7EME ART",
          "ECOLE SUPERIEURE TECHNIQUE PRI",
          "ECOLE SUPERIEURE DES BEAUX ART",
          "ECV BORDEAUX - ICA",
          "ECV BORDEAUX - ICA",
          "ECOLE SUPERIEURE D'ARCHITECTUR",
          "INST SUPERIEUR DES ARTS APPLIQ",
          "ECOLE SUPERIEURE PRIVEE",
          "ECOLE MUNICIPALE BEAUX ARTS",
          "ECOLE SUP ARTS TECHNIQUES DE L",
          "PESMD BORDEAUX AQUITAINE",
          "ECV BORDEAUX - ICA",
          "MJM GRAPHIC DESIGN - ESCAAD -",
          "L'ECOLE DU 7EME ART",
          "ECOLE MUNICIPALE BEAUX ARTS",
          "ECOLE SUPERIEURE",
          "INSTITUT BORDELAIS STYLISME MO",
          "INSTITUT SUPERIEUR EUROPEEN DE",
          "CTR DE FORMATION D APPRENTIS",
          "ECOLE SUPERIEURE DE THEATRE",
          "ECV BORDEAUX - ICA",
          "PESMD BORDEAUX AQUITAINE",
          "ECOLE SUPERIEURE METIERS IMAGE",
          "ECOLE MUNICIPALE BEAUX ARTS",
          "PESMD BORDEAUX AQUITAINE",
          "INSTITUT BORDELAIS STYLISME MO",
          "PESMD BORDEAUX AQUITAINE",
          "ECOLE SUPERIEURE METIERS IMAGE",
          "L'ECOLE DU 7EME ART",
          "ETAB PR ENSEIGNEMENT TECH",
          "MJM GRAPHIC DESIGN - ESCAAD -",
          "PESMD BORDEAUX AQUITAINE",
          "ECOLE SUPERIEURE D'ARCHITECTUR",
          "ECOLE SUPERIEURE TECHNIQUE PRI",
          "ECOLE MUNICIPALE BEAUX ARTS",
          "E C V AQUITAINE I C B",
          "INSTITUT BORDELAIS STYLISME MO",
          "INST SUPERIEUR DES ARTS APPLIQ",
          "ETAB PRIVE ENSEIGNT SUPERIEUR",
          "ACADEMIE THEATRALE",
          "ECOLE SUP ARTS TECHNIQUES DE L",
          "INSTITUT SUPERIEUR EUROPEEN DE",
          "ECOLE MUNICIPALE BEAUX ARTS",
          "ECV BORDEAUX - ICA",
          "INSTITUT BORDELAIS STYLISME MO",
          "INSTITUT BORDELAIS STYLISME MO",
          "ECOLE SUPERIEURE METIERS IMAGE",
          "INSTITUT SUPERIEUR EUROPEEN DE",
          "ETAB PR ENSEIGNEMENT TECH",
          "ECOLE SUPERIEURE DE THEATRE",
          "INSTITUT BORDELAIS STYLISME MO",
          "ECOLE SUPERIEURE TECHNIQUE PRI",
          "ECOLE SUPERIEURE METIERS IMAGE",
          "INST SUPERIEUR DES ARTS APPLIQ",
          "ECOLE SUPERIEURE DE THEATRE",
          "INST SUPERIEUR DES ARTS APPLIQ",
          "ETAB PR ENSEIGNEMENT TECH",
          "ECOLE SUPERIEURE DES BEAUX ART",
          "INSTITUT BORDELAIS STYLISME MO",
          "ECOLE SUPERIEURE METIERS IMAGE",
          "INSTITUT SUPERIEUR EUROPEEN DE",
          "INSTITUT BORDELAIS STYLISME MO",
          "L'ECOLE DU 7EME ART",
          "ECOLE SUPERIEURE D'ARCHITECTUR",
          "ECOLE SUPERIEURE DE THEATRE",
          "ECOLE SUPERIEURE PRIVEE",
          "ECOLE SUP ARTS TECHNIQUES DE L",
          "ARTSIDE GAMES",
          "ECOLE SUPERIEURE DE THEATRE",
          "ETAB PR ENSEIGNEMENT TECH",
          "INST SUPERIEUR DES ARTS APPLIQ",
          "ECOLE SUPERIEURE METIERS IMAGE",
          "MJM GRAPHIC DESIGN - ESCAAD -",
          "INSTITUT SUPERIEUR EUROPEEN DE",
          "ETAB PR ENSEIGNEMENT TECH",
          "ETAB PRIVE ENSEIGNT SUPERIEUR",
          "ETAB PR ENSEIGNEMENT TECH",
          "ECOLE SUPERIEURE DE THEATRE",
          "ECOLE TECH PRIVEE",
          "MJM GRAPHIC DESIGN - ESCAAD -",
          "ARTSIDE GAMES",
          "ETAB PRIVE ENSEIGNT SUPERIEUR",
          "ECV BORDEAUX - ICA",
          "INST SUPERIEUR DES ARTS APPLIQ",
          "ECOLE SUPERIEURE METIERS IMAGE",
          "ETAB PRIVE ENSEIGNT SUPERIEUR",
          "ETAB PR ENSEIGNEMENT TECH",
          "ECOLE MUNICIPALE BEAUX ARTS",
          "INSTITUT BORDELAIS STYLISME MO",
          "I.B.S.M.",
          "ECV BORDEAUX - ICA",
          "INST SUPERIEUR DES ARTS APPLIQ",
          "PESMD BORDEAUX AQUITAINE",
          "EC.SUP.ARTS-TECH DE MODE",
          "ECOLE SUPERIEURE METIERS IMAGE",
          "ETAB PRIVE ENSEIGNT SUPERIEUR",
          "INSTITUT BORDELAIS STYLISME MO",
          "ECOLE TECH PRIVEE",
          "ECV BORDEAUX - ICA",
          "INSTITUT BORDELAIS STYLISME MO",
          "ARTSIDE GAMES",
          "INSTITUT BORDELAIS STYLISME MO",
          "ECOLE SUPERIEURE D'ARCHITECTUR",
          "L'ECOLE DU 7EME ART",
          "INSTITUT BORDELAIS STYLISME MO",
          "PESMD BORDEAUX AQUITAINE",
          "MJM GRAPHIC DESIGN - ESCAAD -",
          "ECOLE SUPERIEURE DE THEATRE",
          "ECOLE SUPERIEURE DES BEAUX ART",
          "ETAB PR ENSEIGNEMENT TECH",
          "ETAB PR ENSEIGNEMENT TECH",
          "ETAB PRIVE ENSEIGNT SUPERIEUR",
          "INST SUPERIEUR DES ARTS APPLIQ",
          "E C V AQUITAINE I C B",
          "L'ECOLE DU 7EME ART",
          "INST SUPERIEUR DES ARTS APPLIQ",
          "L'ECOLE DU 7EME ART",
          "ETAB PRIVE ENSEIGNT SUPERIEUR",
          "E C V AQUITAINE I C B",
          "ICART",
          "ETAB PR ENSEIGNEMENT TECH",
          "INST SUPERIEUR DES ARTS APPLIQ",
          "MJM GRAPHIC DESIGN - ESCAAD -",
          "INSTITUT SUPERIEUR EUROPEEN DE",
          "ETAB PR ENSEIGNEMENT TECH",
          "ECOLE SUP ARTS TECHNIQUES DE L",
          "INST DECOR ETAL AMENAG ESPACE",
          "ECOLE SUPERIEURE METIERS IMAGE",
          "MJM GRAPHIC DESIGN - ESCAAD -",
          "ETAB PRIVE ENSEIGNT SUPERIEUR",
          "ECV BORDEAUX - ICA",
          "PESMD BORDEAUX AQUITAINE",
          "E - ARTSUP",
          "INST SUPERIEUR DES ARTS APPLIQ",
          "ECV BORDEAUX - ICA",
          "ECOLE SUPERIEURE DES BEAUX ART"
         ],
         "lat": {
          "bdata": "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",
          "dtype": "f8"
         },
         "legendgroup": "Écoles supérieures artistiques et culturelles",
         "lon": {
          "bdata": "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",
          "dtype": "f8"
         },
         "marker": {
          "color": "#19d3f3",
          "size": {
           "bdata": "BwBRAI8ARQAlABIAOgA4AWsAQwA5ABEAygA4AA4APQA4AA8AFQAdAHgAiwCWAFMAKABVADgACQAiAEQAIgBoAEMAGANnAJIANQAOADUADQAOAJwAFQAZAEgALQCSACEALAAIAEcACwASABkAZgEmABoASwBhACMASQAYA1ABXQBWACwAtwAVABUAdwALAEQAZAAkACIASAA9ABMAqQAOADoDIwAlAQ4AMQDhABEADQAZADUAowAgABkAeQHZAFsATwA4AOQAKADVABsAKQAYAIsAFgAUAAsAMAAdAJwAtwAPABkAHADXABUAPgCSAFgBGADhADcBMgAVAEsADgCnACoASADQAGwAEAAoACoAFABFAAsAHgAVACEAHgDSAkoAfwBxACsALAATAN0ACQAaAAkAZgANAD4AFgAVADwAKgFzAA4AOAA2ADsAHQBTABAALgAeABQACAAFABIAIgAOABMAcQAiABQADQAIAC0AOwAFAL0AQAEjAB4AyQBWAGYATgBUADUAFQAqAJYAPgB3AEIASQCoAAkAVgCLAAsAIQAYABUAMgBKAEUA7AAOADUAQgARAKQADgFxAiAALAAXAB0A8wFFAMsAUgBmAA8AqwA6AFsAOAE+ABgAkQAXAHcAwQCWAB0A",
           "dtype": "i2"
          },
          "sizemode": "area",
          "sizeref": 25.4025
         },
         "mode": "markers",
         "name": "Écoles supérieures artistiques et culturelles",
         "showlegend": true,
         "subplot": "map",
         "type": "scattermap"
        },
        {
         "customdata": [
          [
           "Bordeaux",
           551,
           "Public",
           "BAC + 1"
          ],
          [
           "Bordeaux",
           414,
           "Public",
           "BAC + 3"
          ],
          [
           "Bordeaux",
           20,
           "Privé",
           "BAC + 1"
          ],
          [
           "Bordeaux",
           91,
           "Public",
           "BAC + 2"
          ],
          [
           "Bordeaux",
           800,
           "Public",
           null
          ],
          [
           "Bordeaux",
           369,
           "Privé",
           null
          ],
          [
           "Bordeaux",
           262,
           "Public",
           null
          ],
          [
           "Bordeaux",
           350,
           "Privé",
           null
          ],
          [
           "Bordeaux",
           114,
           "Public",
           "BAC + 2"
          ],
          [
           "Bordeaux",
           811,
           "Public",
           null
          ],
          [
           "Bordeaux",
           267,
           "Public",
           null
          ],
          [
           "Bordeaux",
           109,
           "Public",
           "BAC + 1"
          ],
          [
           "Bordeaux",
           262,
           "Public",
           null
          ],
          [
           "Bordeaux",
           99,
           "Public",
           "BAC + 3"
          ],
          [
           "Bordeaux",
           20,
           "Privé",
           "BAC + 1"
          ],
          [
           "Bordeaux",
           299,
           "Public",
           null
          ],
          [
           "Bordeaux",
           273,
           "Public",
           null
          ],
          [
           "Bordeaux",
           431,
           "Privé",
           null
          ],
          [
           "Bordeaux",
           450,
           "Privé",
           null
          ],
          [
           "Bordeaux",
           49,
           "Public",
           "BAC + 4"
          ],
          [
           "Bordeaux",
           461,
           "Public",
           "BAC + 2"
          ],
          [
           "Bordeaux",
           93,
           "Public",
           "BAC + 1"
          ],
          [
           "Bordeaux",
           461,
           "Public",
           "BAC + 2"
          ],
          [
           "Bordeaux",
           356,
           "Privé",
           null
          ],
          [
           "Bordeaux",
           551,
           "Public",
           "BAC + 1"
          ],
          [
           "Bordeaux",
           813,
           "Public",
           null
          ],
          [
           "Bordeaux",
           897,
           "Public",
           null
          ],
          [
           "Bordeaux",
           93,
           "Public",
           "BAC + 1"
          ],
          [
           "Bordeaux",
           313,
           "Public",
           null
          ],
          [
           "Bordeaux",
           99,
           "Public",
           "BAC + 3"
          ],
          [
           "Bordeaux",
           49,
           "Public",
           "BAC + 4"
          ],
          [
           "Bordeaux",
           414,
           "Public",
           "BAC + 3"
          ],
          [
           "Bordeaux",
           49,
           "Public",
           "BAC + 4"
          ],
          [
           "Bordeaux",
           114,
           "Public",
           "BAC + 2"
          ],
          [
           "Bordeaux",
           1388,
           "Public",
           null
          ],
          [
           "Bordeaux",
           104,
           "Public",
           "BAC + 3"
          ],
          [
           "Bordeaux",
           539,
           "Public",
           "BAC + 1"
          ],
          [
           "Bordeaux",
           1434,
           "Public",
           null
          ],
          [
           "Bordeaux",
           186,
           "Public",
           null
          ],
          [
           "Bordeaux",
           460,
           "Public",
           "BAC + 2"
          ],
          [
           "Bordeaux",
           470,
           "Public",
           "BAC + 3"
          ],
          [
           "Bordeaux",
           275,
           "Public",
           null
          ],
          [
           "Bordeaux",
           449,
           "Privé",
           null
          ]
         ],
         "hovertemplate": "<b>%{hovertext}</b><br><br>catégorie d'établissement=Écoles paramédicales hors université<br>nombre total d’étudiants inscrits hors doubles inscriptions université/CPGE=%{customdata[1]}<br>lat=%{lat}<br>lon=%{lon}<br>Commune=%{customdata[0]}<br>secteur d'établissement=%{customdata[2]}<br>degre_etudes=%{customdata[3]}<extra></extra>",
         "hovertext": [
          "CHU DE BORDEAUX",
          "CHU DE BORDEAUX",
          "CFPBNA",
          "C H S  CHARLES PERRENS",
          "C.H.R.",
          "INST. FORMAT. SOINS INFIRM.",
          "C H S  CHARLES PERRENS",
          "INST. FORMAT. SOINS INFIRM.",
          "C H S  CHARLES PERRENS",
          "C.H.R.",
          "C H S  CHARLES PERRENS",
          "C H S  CHARLES PERRENS",
          "C H S  CHARLES PERRENS",
          "C H S  CHARLES PERRENS",
          "CFPBNA",
          "C H S  CHARLES PERRENS",
          "C H S  CHARLES PERRENS",
          "INST. FORMAT. SOINS INFIRM.",
          "INST. FORMAT. SOINS INFIRM.",
          "CHU DE BORDEAUX",
          "CHU DE BORDEAUX",
          "C H S  CHARLES PERRENS",
          "CHU DE BORDEAUX",
          "INST. FORMAT. SOINS INFIRM.",
          "CHU DE BORDEAUX",
          "C.H.R.",
          "CHU DE BORDEAUX",
          "C H S  CHARLES PERRENS",
          "CHU DE BORDEAUX - IFPP",
          "C H S  CHARLES PERRENS",
          "CHU DE BORDEAUX",
          "CHU DE BORDEAUX",
          "CHU DE BORDEAUX",
          "C H S  CHARLES PERRENS",
          "C.H.R.",
          "C H S  CHARLES PERRENS",
          "CHU DE BORDEAUX",
          "C.H.R.",
          "CHU DE BORDEAUX",
          "CHU DE BORDEAUX",
          "CHU DE BORDEAUX",
          "C H S  CHARLES PERRENS",
          "INST. FORMAT. SOINS INFIRM."
         ],
         "lat": {
          "bdata": "jzbOvb5pRkCPNs69vmlGQJltYy2NbkZAE86TTmppRkCPNs69vmlGQC2KQJrnbUZAE86TTmppRkAtikCa521GQBPOk05qaUZAjzbOvb5pRkATzpNOamlGQBPOk05qaUZAE86TTmppRkATzpNOamlGQJltYy2NbkZAE86TTmppRkATzpNOamlGQC2KQJrnbUZALYpAmudtRkCPNs69vmlGQI82zr2+aUZAE86TTmppRkCPNs69vmlGQC2KQJrnbUZAjzbOvb5pRkCPNs69vmlGQI82zr2+aUZAE86TTmppRkDtSHqIvWlGQBPOk05qaUZAjzbOvb5pRkCPNs69vmlGQI82zr2+aUZAE86TTmppRkCPNs69vmlGQBPOk05qaUZAjzbOvb5pRkCPNs69vmlGQB0WGGDBaUZAjzbOvb5pRkCPNs69vmlGQBPOk05qaUZALYpAmudtRkA=",
          "dtype": "f8"
         },
         "legendgroup": "Écoles paramédicales hors université",
         "lon": {
          "bdata": "thmrGSKj47+2GasZIqPjv4BT170mc+K/T0GYVJA347+2GasZIqPjv2rHkNPPOOK/T0GYVJA3479qx5DTzzjiv09BmFSQN+O/thmrGSKj479PQZhUkDfjv09BmFSQN+O/T0GYVJA3479PQZhUkDfjv4BT170mc+K/T0GYVJA3479PQZhUkDfjv2rHkNPPOOK/aseQ08844r+2GasZIqPjv7YZqxkio+O/T0GYVJA347+2GasZIqPjv2rHkNPPOOK/thmrGSKj47+2GasZIqPjv7YZqxkio+O/T0GYVJA347+q8LEfHaPjv09BmFSQN+O/thmrGSKj47+2GasZIqPjv7YZqxkio+O/T0GYVJA347+2GasZIqPjv09BmFSQN+O/thmrGSKj47+2GasZIqPjv4FuMEXdouO/thmrGSKj47+2GasZIqPjv09BmFSQN+O/aseQ08844r8=",
          "dtype": "f8"
         },
         "marker": {
          "color": "#FF6692",
          "size": {
           "bdata": "JwKeARQAWwAgA3EBBgFeAXIAKwMLAW0ABgFjABQAKwERAa8BwgExAM0BXQDNAWQBJwItA4EDXQA5AWMAMQCeATEAcgBsBWgAGwKaBboAzAHWARMBwQE=",
           "dtype": "i2"
          },
          "sizemode": "area",
          "sizeref": 25.4025
         },
         "mode": "markers",
         "name": "Écoles paramédicales hors université",
         "showlegend": true,
         "subplot": "map",
         "type": "scattermap"
        },
        {
         "customdata": [
          [
           "Bordeaux",
           187,
           "Privé",
           "BAC + 1"
          ],
          [
           "Bordeaux",
           69,
           "Privé",
           null
          ],
          [
           "Bordeaux",
           136,
           "Privé",
           "BAC + 5"
          ],
          [
           "Bordeaux",
           50,
           "Privé",
           "BAC + 3"
          ],
          [
           "Bordeaux",
           41,
           "Privé",
           "BAC + 2"
          ],
          [
           "Bordeaux",
           23,
           "Privé",
           "BAC + 2"
          ],
          [
           "Bordeaux",
           84,
           "Privé",
           "BAC + 2"
          ],
          [
           "Bordeaux",
           137,
           "Privé",
           null
          ],
          [
           "Bordeaux",
           316,
           "Privé",
           null
          ],
          [
           "Bordeaux",
           40,
           "Privé",
           "BAC + 2"
          ],
          [
           "Bordeaux",
           52,
           "Privé",
           "BAC + 3"
          ],
          [
           "Bordeaux",
           24,
           "Privé",
           "BAC + 1"
          ],
          [
           "Bordeaux",
           253,
           "Privé",
           null
          ],
          [
           "Bordeaux",
           380,
           "Privé",
           null
          ],
          [
           "Bordeaux",
           43,
           "Privé",
           "BAC + 1"
          ],
          [
           "Bordeaux",
           163,
           "Privé",
           "BAC + 5"
          ],
          [
           "Bordeaux",
           472,
           "Privé",
           null
          ],
          [
           "Bordeaux",
           94,
           "Privé",
           null
          ],
          [
           "Bordeaux",
           88,
           "Privé",
           null
          ],
          [
           "Bordeaux",
           84,
           "Privé",
           "BAC + 1"
          ],
          [
           "Bordeaux",
           279,
           "Privé",
           "BAC + 2"
          ],
          [
           "Bordeaux",
           62,
           "Privé",
           "BAC + 4"
          ],
          [
           "Bordeaux",
           41,
           "Privé",
           null
          ],
          [
           "Bordeaux",
           196,
           "Privé",
           "BAC + 4"
          ],
          [
           "Bordeaux",
           122,
           "Privé",
           "BAC + 5"
          ],
          [
           "Bordeaux",
           68,
           "Privé",
           "BAC + 2"
          ],
          [
           "Bordeaux",
           72,
           "Privé",
           "BAC + 3"
          ],
          [
           "Bordeaux",
           123,
           "Privé",
           "BAC + 3"
          ],
          [
           "Bordeaux",
           158,
           "Privé",
           "BAC + 5"
          ],
          [
           "Bordeaux",
           25,
           "Privé",
           "BAC + 1"
          ],
          [
           "Bordeaux",
           271,
           "Privé",
           null
          ],
          [
           "Bordeaux",
           36,
           "Privé",
           "BAC + 5"
          ],
          [
           "Bordeaux",
           63,
           "Privé",
           "BAC + 1"
          ],
          [
           "Bordeaux",
           46,
           "Privé",
           "BAC + 5"
          ],
          [
           "Bordeaux",
           106,
           "Privé",
           null
          ],
          [
           "Bordeaux",
           369,
           "Privé",
           "BAC + 4"
          ],
          [
           "Bordeaux",
           48,
           "Privé",
           "BAC + 4"
          ],
          [
           "Bordeaux",
           104,
           "Privé",
           null
          ],
          [
           "Bordeaux",
           166,
           "Privé",
           "BAC + 4"
          ],
          [
           "Bordeaux",
           81,
           "Privé",
           "BAC + 3"
          ],
          [
           "Bordeaux",
           66,
           "Privé",
           "BAC + 3"
          ],
          [
           "Bordeaux",
           38,
           "Privé",
           null
          ],
          [
           "Bordeaux",
           34,
           "Privé",
           null
          ],
          [
           "Bordeaux",
           25,
           "Privé",
           "BAC + 1"
          ],
          [
           "Bordeaux",
           546,
           "Privé",
           null
          ],
          [
           "Bordeaux",
           25,
           "Privé",
           "BAC + 5"
          ],
          [
           "Bordeaux",
           26,
           "Privé",
           "BAC + 2"
          ],
          [
           "Bordeaux",
           42,
           "Privé",
           "BAC + 4"
          ]
         ],
         "hovertemplate": "<b>%{hovertext}</b><br><br>catégorie d'établissement=Écoles de journalisme et écoles littéraires<br>nombre total d’étudiants inscrits hors doubles inscriptions université/CPGE=%{customdata[1]}<br>lat=%{lat}<br>lon=%{lon}<br>Commune=%{customdata[0]}<br>secteur d'établissement=%{customdata[2]}<br>degre_etudes=%{customdata[3]}<extra></extra>",
         "hovertext": [
          "EC FRANCAISE ATTACHES DE PRESS",
          "SUP DE COM",
          "EC FRANCAISE ATTACHES DE PRESS",
          "IDRAC LYON",
          "IDRAC LYON",
          "IDRAC LYON",
          "EC FRANCAISE ATTACHES DE PRESS",
          "IDRAC LYON",
          "EC FRANCAISE ATTACHES DE PRESS",
          "ECOLE TECH SUP PRIVEE",
          "IDRAC LYON",
          "IDRAC LYON",
          "EC FRANCAISE ATTACHES DE PRESS",
          "EC FRANCAISE ATTACHES DE PRESS",
          "IDRAC LYON",
          "EC FRANCAISE ATTACHES DE PRESS",
          "EC FRANCAISE ATTACHES DE PRESS",
          "SUP DE COM",
          "INST DECOR ETAL AMENAG ESPACE",
          "EC FRANCAISE ATTACHES DE PRESS",
          "EC FRANCAISE ATTACHES DE PRESS",
          "IDRAC LYON",
          "INST DECOR ETAL AMENAG ESPACE",
          "EC FRANCAISE ATTACHES DE PRESS",
          "EC FRANCAISE ATTACHES DE PRESS",
          "EC FRANCAISE ATTACHES DE PRESS",
          "EC FRANCAISE ATTACHES DE PRESS",
          "EC FRANCAISE ATTACHES DE PRESS",
          "ECOLE TECH SUP PRIVEE",
          "ECOLE TECH SUP PRIVEE",
          "EC FRANCAISE ATTACHES DE PRESS",
          "IDRAC LYON",
          "EC FRANCAISE ATTACHES DE PRESS",
          "IDRAC LYON",
          "ESARC EVOLUTION ARTS APPLIQUÃ",
          "ECOLE TECH SUP PRIVEE",
          "IDRAC LYON",
          "SUP DE COM",
          "EC FRANCAISE ATTACHES DE PRESS",
          "ECOLE TECH SUP PRIVEE",
          "IDRAC LYON",
          "SUP DE COM",
          "E COD (CCI DE BORDEAUX)",
          "IDRAC LYON",
          "EC FRANCAISE ATTACHES DE PRESS",
          "IDRAC LYON",
          "IDRAC LYON",
          "IDRAC LYON"
         ],
         "lat": {
          "bdata": "plgf/8VsRkAVUXQXwG5GQKZYH//FbEZAFVF0F8BuRkAVUXQXwG5GQBVRdBfAbkZAplgf/8VsRkAVUXQXwG5GQKZYH//FbEZA8eT38N5tRkAVUXQXwG5GQBVRdBfAbkZAplgf/8VsRkCmWB//xWxGQBVRdBfAbkZAplgf/8VsRkCmWB//xWxGQBVRdBfAbkZAkHE200FwRkCmWB//xWxGQKZYH//FbEZAFVF0F8BuRkCQcTbTQXBGQKZYH//FbEZAplgf/8VsRkCmWB//xWxGQKZYH//FbEZAplgf/8VsRkDx5Pfw3m1GQPHk9/DebUZAplgf/8VsRkAVUXQXwG5GQKZYH//FbEZAFVF0F8BuRkCvKB5mkW5GQPHk9/DebUZAFVF0F8BuRkAVUXQXwG5GQKZYH//FbEZA8eT38N5tRkAVUXQXwG5GQBVRdBfAbkZAq/71CipwRkAVUXQXwG5GQKZYH//FbEZAFVF0F8BuRkAVUXQXwG5GQBVRdBfAbkZA",
          "dtype": "f8"
         },
         "legendgroup": "Écoles de journalisme et écoles littéraires",
         "lon": {
          "bdata": "On6BDYVF4r8vrehaJu/hvzp+gQ2FReK/L63oWibv4b8vrehaJu/hvy+t6Fom7+G/On6BDYVF4r8vrehaJu/hvzp+gQ2FReK/kUSpk7nW4b8vrehaJu/hvy+t6Fom7+G/On6BDYVF4r86foENhUXivy+t6Fom7+G/On6BDYVF4r86foENhUXivy+t6Fom7+G/fGSd/wFp4r86foENhUXivzp+gQ2FReK/L63oWibv4b98ZJ3/AWnivzp+gQ2FReK/On6BDYVF4r86foENhUXivzp+gQ2FReK/On6BDYVF4r+RRKmTudbhv5FEqZO51uG/On6BDYVF4r8vrehaJu/hvzp+gQ2FReK/L63oWibv4b8o3iVHYdjhv5FEqZO51uG/L63oWibv4b8vrehaJu/hvzp+gQ2FReK/kUSpk7nW4b8vrehaJu/hvy+t6Fom7+G/ENoDDF1g4r8vrehaJu/hvzp+gQ2FReK/L63oWibv4b8vrehaJu/hvy+t6Fom7+G/",
          "dtype": "f8"
         },
         "marker": {
          "color": "#B6E880",
          "size": {
           "bdata": "uwBFAIgAMgApABcAVACJADwBKAA0ABgA/QB8ASsAowDYAV4AWABUABcBPgApAMQAegBEAEgAewCeABkADwEkAD8ALgBqAHEBMABoAKYAUQBCACYAIgAZACICGQAaACoA",
           "dtype": "i2"
          },
          "sizemode": "area",
          "sizeref": 25.4025
         },
         "mode": "markers",
         "name": "Écoles de journalisme et écoles littéraires",
         "showlegend": true,
         "subplot": "map",
         "type": "scattermap"
        },
        {
         "customdata": [
          [
           "Bordeaux",
           29,
           "Privé",
           "BAC + 4"
          ],
          [
           "Bordeaux",
           27,
           "Privé",
           "BAC + 1"
          ],
          [
           "Bordeaux",
           62,
           "Privé",
           "BAC + 2"
          ],
          [
           "Bordeaux",
           1097,
           "Public",
           null
          ],
          [
           "Bordeaux",
           630,
           "Public",
           null
          ],
          [
           "Bordeaux",
           312,
           "Public",
           null
          ],
          [
           "Bordeaux",
           26,
           "Privé",
           "BAC + 1"
          ],
          [
           "Bordeaux",
           335,
           "Public",
           "BAC + 6 et plus"
          ],
          [
           "Bordeaux",
           22,
           "Privé",
           "BAC + 1"
          ],
          [
           "Bordeaux",
           60,
           "Privé",
           "BAC + 1"
          ],
          [
           "Bordeaux",
           459,
           "Public",
           "BAC + 6 et plus"
          ],
          [
           "Bordeaux",
           9,
           "Privé",
           "BAC + 4"
          ],
          [
           "Bordeaux",
           11,
           "Privé",
           "BAC + 4"
          ],
          [
           "Bordeaux",
           529,
           "Public",
           null
          ],
          [
           "Bordeaux",
           1097,
           "Public",
           null
          ],
          [
           "Bordeaux",
           366,
           "Public",
           null
          ],
          [
           "Bordeaux",
           2,
           "Privé",
           null
          ],
          [
           "Bordeaux",
           380,
           "Public",
           "BAC + 6 et plus"
          ],
          [
           "Bordeaux",
           78,
           "Privé",
           "BAC + 1"
          ]
         ],
         "hovertemplate": "<b>%{hovertext}</b><br><br>catégorie d'établissement=Écoles juridiques et administratives<br>nombre total d’étudiants inscrits hors doubles inscriptions université/CPGE=%{customdata[1]}<br>lat=%{lat}<br>lon=%{lon}<br>Commune=%{customdata[0]}<br>secteur d'établissement=%{customdata[2]}<br>degre_etudes=%{customdata[3]}<extra></extra>",
         "hovertext": [
          "HAUTES ETUDES INTERNATIONALES",
          "EC SUP PROFESSIONS IMMOBILIERE",
          "ECOLE DES HAUTES ETUDES INTERN",
          "ECOLE NATIONALE MAGISTRATURE",
          "ECOLE NATIONALE MAGISTRATURE",
          "ECOLE NATIONALE MAGISTRATURE",
          "ETAB ENSEIGNT SUP PRIVE LIBRE",
          "ECOLE NATIONALE MAGISTRATURE",
          "EC SUP PROFESSIONS IMMOBILIERE",
          "ECOLE DES HAUTES ETUDES INTERN",
          "ECOLE NATIONALE MAGISTRATURE",
          "ETAB ENSEIGNT SUP PRIVE LIBRE",
          "ECOLE DES HAUTES ETUDES INTERN",
          "ECOLE NATIONALE MAGISTRATURE",
          "ECOLE NATIONALE MAGISTRATURE",
          "ECOLE NATIONALE MAGISTRATURE",
          "ET PR ENS SUP JURIS FORMATIO",
          "ECOLE NATIONALE MAGISTRATURE",
          "HAUTES ETUDES INTERNATIONALES"
         ],
         "lat": {
          "bdata": "N8Gqz99tRkAT3Pf332tGQDfBqs/fbUZA4qJXbxxrRkDioldvHGtGQOKiV28ca0ZALIaVFsJuRkDioldvHGtGQBPc9/ffa0ZAN8Gqz99tRkDioldvHGtGQCyGlRbCbkZAN8Gqz99tRkDioldvHGtGQOKiV28ca0ZA4qJXbxxrRkAtXKIgiGxGQOKiV28ca0ZAN8Gqz99tRkA=",
          "dtype": "f8"
         },
         "legendgroup": "Écoles juridiques et administratives",
         "lon": {
          "bdata": "XmPC1O3V4b//1KbIhMXhv15jwtTt1eG/zba/+NaL4r/Ntr/41oviv822v/jWi+K/8c6Y31Hu4b/Ntr/41oviv//UpsiExeG/XmPC1O3V4b/Ntr/41oviv/HOmN9R7uG/XmPC1O3V4b/Ntr/41oviv822v/jWi+K/zba/+NaL4r8+IeCopFTiv822v/jWi+K/XmPC1O3V4b8=",
          "dtype": "f8"
         },
         "marker": {
          "color": "#FF97FF",
          "size": {
           "bdata": "HQAbAD4ASQR2AjgBGgBPARYAPADLAQkACwARAkkEbgECAHwBTgA=",
           "dtype": "i2"
          },
          "sizemode": "area",
          "sizeref": 25.4025
         },
         "mode": "markers",
         "name": "Écoles juridiques et administratives",
         "showlegend": true,
         "subplot": "map",
         "type": "scattermap"
        },
        {
         "customdata": [
          [
           "Bordeaux",
           89,
           "Privé",
           null
          ],
          [
           "Bordeaux",
           20,
           "Privé",
           null
          ],
          [
           "Bordeaux",
           72,
           "Privé",
           null
          ]
         ],
         "hovertemplate": "<b>%{hovertext}</b><br><br>catégorie d'établissement=Autre établissements d'enseignement universitaire<br>nombre total d’étudiants inscrits hors doubles inscriptions université/CPGE=%{customdata[1]}<br>lat=%{lat}<br>lon=%{lon}<br>Commune=%{customdata[0]}<br>secteur d'établissement=%{customdata[2]}<br>degre_etudes=%{customdata[3]}<extra></extra>",
         "hovertext": [
          "INSTITUT SUPERIEUR  FORMATION",
          "INSTITUT SUPERIEUR  FORMATION",
          "INSTITUT SUPERIEUR  FORMATION"
         ],
         "lat": {
          "bdata": "zS+zAN1tRkDNL7MA3W1GQM0vswDdbUZA",
          "dtype": "f8"
         },
         "legendgroup": "Autre établissements d'enseignement universitaire",
         "lon": {
          "bdata": "j0GJ5ENu5b+PQYnkQ27lv49BieRDbuW/",
          "dtype": "f8"
         },
         "marker": {
          "color": "#FECB52",
          "size": {
           "bdata": "WRRI",
           "dtype": "i1"
          },
          "sizemode": "area",
          "sizeref": 25.4025
         },
         "mode": "markers",
         "name": "Autre établissements d'enseignement universitaire",
         "showlegend": true,
         "subplot": "map",
         "type": "scattermap"
        }
       ],
       "layout": {
        "height": 600,
        "legend": {
         "itemsizing": "constant",
         "title": {
          "text": "catégorie d'établissement"
         },
         "tracegroupgap": 0
        },
        "map": {
         "center": {
          "lat": 44.8378,
          "lon": -0.5792
         },
         "domain": {
          "x": [
           0,
           1
          ],
          "y": [
           0,
           1
          ]
         },
         "zoom": 12
        },
        "mapbox": {
         "center": {
          "lat": 44.8378,
          "lon": -0.5792
         },
         "style": "open-street-map",
         "zoom": 12
        },
        "margin": {
         "b": 0,
         "l": 0,
         "r": 0,
         "t": 50
        },
        "template": {
         "data": {
          "bar": [
           {
            "error_x": {
             "color": "#2a3f5f"
            },
            "error_y": {
             "color": "#2a3f5f"
            },
            "marker": {
             "line": {
              "color": "#E5ECF6",
              "width": 0.5
             },
             "pattern": {
              "fillmode": "overlay",
              "size": 10,
              "solidity": 0.2
             }
            },
            "type": "bar"
           }
          ],
          "barpolar": [
           {
            "marker": {
             "line": {
              "color": "#E5ECF6",
              "width": 0.5
             },
             "pattern": {
              "fillmode": "overlay",
              "size": 10,
              "solidity": 0.2
             }
            },
            "type": "barpolar"
           }
          ],
          "carpet": [
           {
            "aaxis": {
             "endlinecolor": "#2a3f5f",
             "gridcolor": "white",
             "linecolor": "white",
             "minorgridcolor": "white",
             "startlinecolor": "#2a3f5f"
            },
            "baxis": {
             "endlinecolor": "#2a3f5f",
             "gridcolor": "white",
             "linecolor": "white",
             "minorgridcolor": "white",
             "startlinecolor": "#2a3f5f"
            },
            "type": "carpet"
           }
          ],
          "choropleth": [
           {
            "colorbar": {
             "outlinewidth": 0,
             "ticks": ""
            },
            "type": "choropleth"
           }
          ],
          "contour": [
           {
            "colorbar": {
             "outlinewidth": 0,
             "ticks": ""
            },
            "colorscale": [
             [
              0,
              "#0d0887"
             ],
             [
              0.1111111111111111,
              "#46039f"
             ],
             [
              0.2222222222222222,
              "#7201a8"
             ],
             [
              0.3333333333333333,
              "#9c179e"
             ],
             [
              0.4444444444444444,
              "#bd3786"
             ],
             [
              0.5555555555555556,
              "#d8576b"
             ],
             [
              0.6666666666666666,
              "#ed7953"
             ],
             [
              0.7777777777777778,
              "#fb9f3a"
             ],
             [
              0.8888888888888888,
              "#fdca26"
             ],
             [
              1,
              "#f0f921"
             ]
            ],
            "type": "contour"
           }
          ],
          "contourcarpet": [
           {
            "colorbar": {
             "outlinewidth": 0,
             "ticks": ""
            },
            "type": "contourcarpet"
           }
          ],
          "heatmap": [
           {
            "colorbar": {
             "outlinewidth": 0,
             "ticks": ""
            },
            "colorscale": [
             [
              0,
              "#0d0887"
             ],
             [
              0.1111111111111111,
              "#46039f"
             ],
             [
              0.2222222222222222,
              "#7201a8"
             ],
             [
              0.3333333333333333,
              "#9c179e"
             ],
             [
              0.4444444444444444,
              "#bd3786"
             ],
             [
              0.5555555555555556,
              "#d8576b"
             ],
             [
              0.6666666666666666,
              "#ed7953"
             ],
             [
              0.7777777777777778,
              "#fb9f3a"
             ],
             [
              0.8888888888888888,
              "#fdca26"
             ],
             [
              1,
              "#f0f921"
             ]
            ],
            "type": "heatmap"
           }
          ],
          "histogram": [
           {
            "marker": {
             "pattern": {
              "fillmode": "overlay",
              "size": 10,
              "solidity": 0.2
             }
            },
            "type": "histogram"
           }
          ],
          "histogram2d": [
           {
            "colorbar": {
             "outlinewidth": 0,
             "ticks": ""
            },
            "colorscale": [
             [
              0,
              "#0d0887"
             ],
             [
              0.1111111111111111,
              "#46039f"
             ],
             [
              0.2222222222222222,
              "#7201a8"
             ],
             [
              0.3333333333333333,
              "#9c179e"
             ],
             [
              0.4444444444444444,
              "#bd3786"
             ],
             [
              0.5555555555555556,
              "#d8576b"
             ],
             [
              0.6666666666666666,
              "#ed7953"
             ],
             [
              0.7777777777777778,
              "#fb9f3a"
             ],
             [
              0.8888888888888888,
              "#fdca26"
             ],
             [
              1,
              "#f0f921"
             ]
            ],
            "type": "histogram2d"
           }
          ],
          "histogram2dcontour": [
           {
            "colorbar": {
             "outlinewidth": 0,
             "ticks": ""
            },
            "colorscale": [
             [
              0,
              "#0d0887"
             ],
             [
              0.1111111111111111,
              "#46039f"
             ],
             [
              0.2222222222222222,
              "#7201a8"
             ],
             [
              0.3333333333333333,
              "#9c179e"
             ],
             [
              0.4444444444444444,
              "#bd3786"
             ],
             [
              0.5555555555555556,
              "#d8576b"
             ],
             [
              0.6666666666666666,
              "#ed7953"
             ],
             [
              0.7777777777777778,
              "#fb9f3a"
             ],
             [
              0.8888888888888888,
              "#fdca26"
             ],
             [
              1,
              "#f0f921"
             ]
            ],
            "type": "histogram2dcontour"
           }
          ],
          "mesh3d": [
           {
            "colorbar": {
             "outlinewidth": 0,
             "ticks": ""
            },
            "type": "mesh3d"
           }
          ],
          "parcoords": [
           {
            "line": {
             "colorbar": {
              "outlinewidth": 0,
              "ticks": ""
             }
            },
            "type": "parcoords"
           }
          ],
          "pie": [
           {
            "automargin": true,
            "type": "pie"
           }
          ],
          "scatter": [
           {
            "fillpattern": {
             "fillmode": "overlay",
             "size": 10,
             "solidity": 0.2
            },
            "type": "scatter"
           }
          ],
          "scatter3d": [
           {
            "line": {
             "colorbar": {
              "outlinewidth": 0,
              "ticks": ""
             }
            },
            "marker": {
             "colorbar": {
              "outlinewidth": 0,
              "ticks": ""
             }
            },
            "type": "scatter3d"
           }
          ],
          "scattercarpet": [
           {
            "marker": {
             "colorbar": {
              "outlinewidth": 0,
              "ticks": ""
             }
            },
            "type": "scattercarpet"
           }
          ],
          "scattergeo": [
           {
            "marker": {
             "colorbar": {
              "outlinewidth": 0,
              "ticks": ""
             }
            },
            "type": "scattergeo"
           }
          ],
          "scattergl": [
           {
            "marker": {
             "colorbar": {
              "outlinewidth": 0,
              "ticks": ""
             }
            },
            "type": "scattergl"
           }
          ],
          "scattermap": [
           {
            "marker": {
             "colorbar": {
              "outlinewidth": 0,
              "ticks": ""
             }
            },
            "type": "scattermap"
           }
          ],
          "scattermapbox": [
           {
            "marker": {
             "colorbar": {
              "outlinewidth": 0,
              "ticks": ""
             }
            },
            "type": "scattermapbox"
           }
          ],
          "scatterpolar": [
           {
            "marker": {
             "colorbar": {
              "outlinewidth": 0,
              "ticks": ""
             }
            },
            "type": "scatterpolar"
           }
          ],
          "scatterpolargl": [
           {
            "marker": {
             "colorbar": {
              "outlinewidth": 0,
              "ticks": ""
             }
            },
            "type": "scatterpolargl"
           }
          ],
          "scatterternary": [
           {
            "marker": {
             "colorbar": {
              "outlinewidth": 0,
              "ticks": ""
             }
            },
            "type": "scatterternary"
           }
          ],
          "surface": [
           {
            "colorbar": {
             "outlinewidth": 0,
             "ticks": ""
            },
            "colorscale": [
             [
              0,
              "#0d0887"
             ],
             [
              0.1111111111111111,
              "#46039f"
             ],
             [
              0.2222222222222222,
              "#7201a8"
             ],
             [
              0.3333333333333333,
              "#9c179e"
             ],
             [
              0.4444444444444444,
              "#bd3786"
             ],
             [
              0.5555555555555556,
              "#d8576b"
             ],
             [
              0.6666666666666666,
              "#ed7953"
             ],
             [
              0.7777777777777778,
              "#fb9f3a"
             ],
             [
              0.8888888888888888,
              "#fdca26"
             ],
             [
              1,
              "#f0f921"
             ]
            ],
            "type": "surface"
           }
          ],
          "table": [
           {
            "cells": {
             "fill": {
              "color": "#EBF0F8"
             },
             "line": {
              "color": "white"
             }
            },
            "header": {
             "fill": {
              "color": "#C8D4E3"
             },
             "line": {
              "color": "white"
             }
            },
            "type": "table"
           }
          ]
         },
         "layout": {
          "annotationdefaults": {
           "arrowcolor": "#2a3f5f",
           "arrowhead": 0,
           "arrowwidth": 1
          },
          "autotypenumbers": "strict",
          "coloraxis": {
           "colorbar": {
            "outlinewidth": 0,
            "ticks": ""
           }
          },
          "colorscale": {
           "diverging": [
            [
             0,
             "#8e0152"
            ],
            [
             0.1,
             "#c51b7d"
            ],
            [
             0.2,
             "#de77ae"
            ],
            [
             0.3,
             "#f1b6da"
            ],
            [
             0.4,
             "#fde0ef"
            ],
            [
             0.5,
             "#f7f7f7"
            ],
            [
             0.6,
             "#e6f5d0"
            ],
            [
             0.7,
             "#b8e186"
            ],
            [
             0.8,
             "#7fbc41"
            ],
            [
             0.9,
             "#4d9221"
            ],
            [
             1,
             "#276419"
            ]
           ],
           "sequential": [
            [
             0,
             "#0d0887"
            ],
            [
             0.1111111111111111,
             "#46039f"
            ],
            [
             0.2222222222222222,
             "#7201a8"
            ],
            [
             0.3333333333333333,
             "#9c179e"
            ],
            [
             0.4444444444444444,
             "#bd3786"
            ],
            [
             0.5555555555555556,
             "#d8576b"
            ],
            [
             0.6666666666666666,
             "#ed7953"
            ],
            [
             0.7777777777777778,
             "#fb9f3a"
            ],
            [
             0.8888888888888888,
             "#fdca26"
            ],
            [
             1,
             "#f0f921"
            ]
           ],
           "sequentialminus": [
            [
             0,
             "#0d0887"
            ],
            [
             0.1111111111111111,
             "#46039f"
            ],
            [
             0.2222222222222222,
             "#7201a8"
            ],
            [
             0.3333333333333333,
             "#9c179e"
            ],
            [
             0.4444444444444444,
             "#bd3786"
            ],
            [
             0.5555555555555556,
             "#d8576b"
            ],
            [
             0.6666666666666666,
             "#ed7953"
            ],
            [
             0.7777777777777778,
             "#fb9f3a"
            ],
            [
             0.8888888888888888,
             "#fdca26"
            ],
            [
             1,
             "#f0f921"
            ]
           ]
          },
          "colorway": [
           "#636efa",
           "#EF553B",
           "#00cc96",
           "#ab63fa",
           "#FFA15A",
           "#19d3f3",
           "#FF6692",
           "#B6E880",
           "#FF97FF",
           "#FECB52"
          ],
          "font": {
           "color": "#2a3f5f"
          },
          "geo": {
           "bgcolor": "white",
           "lakecolor": "white",
           "landcolor": "#E5ECF6",
           "showlakes": true,
           "showland": true,
           "subunitcolor": "white"
          },
          "hoverlabel": {
           "align": "left"
          },
          "hovermode": "closest",
          "mapbox": {
           "style": "light"
          },
          "paper_bgcolor": "white",
          "plot_bgcolor": "#E5ECF6",
          "polar": {
           "angularaxis": {
            "gridcolor": "white",
            "linecolor": "white",
            "ticks": ""
           },
           "bgcolor": "#E5ECF6",
           "radialaxis": {
            "gridcolor": "white",
            "linecolor": "white",
            "ticks": ""
           }
          },
          "scene": {
           "xaxis": {
            "backgroundcolor": "#E5ECF6",
            "gridcolor": "white",
            "gridwidth": 2,
            "linecolor": "white",
            "showbackground": true,
            "ticks": "",
            "zerolinecolor": "white"
           },
           "yaxis": {
            "backgroundcolor": "#E5ECF6",
            "gridcolor": "white",
            "gridwidth": 2,
            "linecolor": "white",
            "showbackground": true,
            "ticks": "",
            "zerolinecolor": "white"
           },
           "zaxis": {
            "backgroundcolor": "#E5ECF6",
            "gridcolor": "white",
            "gridwidth": 2,
            "linecolor": "white",
            "showbackground": true,
            "ticks": "",
            "zerolinecolor": "white"
           }
          },
          "shapedefaults": {
           "line": {
            "color": "#2a3f5f"
           }
          },
          "ternary": {
           "aaxis": {
            "gridcolor": "white",
            "linecolor": "white",
            "ticks": ""
           },
           "baxis": {
            "gridcolor": "white",
            "linecolor": "white",
            "ticks": ""
           },
           "bgcolor": "#E5ECF6",
           "caxis": {
            "gridcolor": "white",
            "linecolor": "white",
            "ticks": ""
           }
          },
          "title": {
           "x": 0.05
          },
          "xaxis": {
           "automargin": true,
           "gridcolor": "white",
           "linecolor": "white",
           "ticks": "",
           "title": {
            "standoff": 15
           },
           "zerolinecolor": "white",
           "zerolinewidth": 2
          },
          "yaxis": {
           "automargin": true,
           "gridcolor": "white",
           "linecolor": "white",
           "ticks": "",
           "title": {
            "standoff": 15
           },
           "zerolinecolor": "white",
           "zerolinewidth": 2
          }
         }
        },
        "title": {
         "text": "Établissements d'enseignement supérieur à Bordeaux (2023)"
        }
       }
      }
     },
     "metadata": {},
     "output_type": "display_data"
    }
   ],
   "source": [
    "df_bordeaux = df_rennes_et_bordeaux[df_rennes_et_bordeaux['Commune'] == 'Bordeaux']\n",
    "\n",
    "fig_bordeaux = px.scatter_map(\n",
    "    df_bordeaux,\n",
    "    lat=\"lat\",\n",
    "    lon=\"lon\",\n",
    "    color=\"catégorie d'établissement\",\n",
    "    size=\"nombre total d’étudiants inscrits hors doubles inscriptions université/CPGE\",\n",
    "    hover_name=\"libellé de l'établissement\",\n",
    "    hover_data={\n",
    "        \"Commune\": True,\n",
    "        \"nombre total d’étudiants inscrits hors doubles inscriptions université/CPGE\": True,\n",
    "        \"secteur d'établissement\": True,\n",
    "        \"degre_etudes\": True\n",
    "    },\n",
    "    zoom=12,  # zoom sur Bordeaux\n",
    "    height=600,\n",
    "    center={\"lat\": 44.8378, \"lon\": -0.5792}  # centre sur Bordeaux\n",
    ")\n",
    "\n",
    "fig_bordeaux.update_layout(\n",
    "    mapbox_style=\"open-street-map\",\n",
    "    title=\"Établissements d'enseignement supérieur à Bordeaux (2023)\",\n",
    "    margin={\"r\":0,\"t\":50,\"l\":0,\"b\":0}\n",
    ")\n",
    "\n",
    "fig_bordeaux.show()\n"
   ]
  },
  {
   "cell_type": "code",
   "execution_count": 70,
   "id": "3911694e",
   "metadata": {},
   "outputs": [
    {
     "name": "stderr",
     "output_type": "stream",
     "text": [
      "/var/folders/v0/_lflz19n6hv63x17d4_zjfjm0000gn/T/ipykernel_76510/2379515828.py:17: DeprecationWarning:\n",
      "\n",
      "*scattermapbox* is deprecated! Use *scattermap* instead. Learn more at: https://plotly.com/python/mapbox-to-maplibre/\n",
      "\n",
      "/var/folders/v0/_lflz19n6hv63x17d4_zjfjm0000gn/T/ipykernel_76510/2379515828.py:35: DeprecationWarning:\n",
      "\n",
      "*scattermapbox* is deprecated! Use *scattermap* instead. Learn more at: https://plotly.com/python/mapbox-to-maplibre/\n",
      "\n"
     ]
    },
    {
     "data": {
      "application/vnd.plotly.v1+json": {
       "config": {
        "plotlyServerURL": "https://plot.ly"
       },
       "data": [
        {
         "hovertemplate": "<b>%{text}</b><br>Étudiants: %{marker.size}<br>Secteur: %{marker.color}<extra></extra>",
         "lat": {
          "bdata": "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",
          "dtype": "f8"
         },
         "lon": {
          "bdata": "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",
          "dtype": "f8"
         },
         "marker": {
          "color": [
           "blue",
           "green",
           "green",
           "green",
           "green",
           "green",
           "green",
           "green",
           "blue",
           "blue",
           "blue",
           "green",
           "green",
           "green",
           "green",
           "green",
           "green",
           "green",
           "blue",
           "blue",
           "green",
           "green",
           "green",
           "blue",
           "green",
           "blue",
           "green",
           "green",
           "green",
           "green",
           "green",
           "green",
           "green",
           "green",
           "green",
           "green",
           "green",
           "blue",
           "blue",
           "blue",
           "blue",
           "green",
           "green",
           "blue",
           "green",
           "green",
           "blue",
           "green",
           "blue",
           "blue",
           "blue",
           "blue",
           "green",
           "green",
           "green",
           "green",
           "green",
           "green",
           "blue",
           "blue",
           "blue",
           "green",
           "blue",
           "blue",
           "blue",
           "green",
           "green",
           "blue",
           "blue",
           "blue",
           "blue",
           "green",
           "blue",
           "green",
           "green",
           "green",
           "green",
           "green",
           "green",
           "blue",
           "blue",
           "green",
           "green",
           "green",
           "green",
           "green",
           "green",
           "green",
           "green",
           "blue",
           "green",
           "green",
           "green",
           "green",
           "blue",
           "green",
           "green",
           "green",
           "blue",
           "green",
           "green",
           "green",
           "green",
           "blue",
           "blue",
           "green",
           "green",
           "green",
           "green",
           "blue",
           "blue",
           "green",
           "blue",
           "green",
           "green",
           "blue",
           "green",
           "green",
           "green",
           "green",
           "green",
           "green",
           "blue",
           "green",
           "blue",
           "blue",
           "blue",
           "green",
           "green",
           "green",
           "blue",
           "green",
           "green",
           "green",
           "green",
           "green",
           "green",
           "green",
           "green",
           "blue",
           "green",
           "blue",
           "green",
           "green",
           "blue",
           "green",
           "green",
           "green",
           "green",
           "green",
           "green",
           "green",
           "green",
           "blue",
           "green",
           "green",
           "blue",
           "blue",
           "blue",
           "green",
           "green",
           "green",
           "green",
           "green",
           "green",
           "green",
           "blue",
           "blue",
           "green",
           "green",
           "green",
           "green",
           "green",
           "green",
           "green",
           "green",
           "blue",
           "green",
           "green",
           "green",
           "green",
           "green",
           "green",
           "green",
           "green",
           "green",
           "green",
           "blue",
           "green",
           "green",
           "green",
           "blue",
           "blue",
           "blue",
           "blue",
           "blue",
           "blue",
           "blue",
           "green",
           "green",
           "blue",
           "green",
           "blue",
           "blue",
           "green",
           "blue",
           "blue",
           "green",
           "green",
           "blue",
           "green",
           "green",
           "green",
           "blue",
           "blue",
           "blue",
           "blue",
           "green",
           "green",
           "green",
           "green",
           "green",
           "green",
           "green",
           "green",
           "green",
           "blue",
           "blue",
           "green",
           "green",
           "green",
           "blue",
           "green",
           "green",
           "green",
           "green",
           "green",
           "green",
           "blue",
           "blue",
           "green",
           "green",
           "blue",
           "green",
           "green",
           "green",
           "blue",
           "green",
           "green",
           "green",
           "green",
           "green",
           "blue",
           "blue",
           "green",
           "green",
           "blue",
           "green",
           "green",
           "green",
           "green",
           "green",
           "green",
           "green",
           "blue",
           "blue",
           "blue",
           "green",
           "green",
           "blue",
           "green",
           "green",
           "green",
           "green",
           "green",
           "blue",
           "blue",
           "green",
           "green",
           "green",
           "green",
           "blue",
           "blue",
           "green",
           "green",
           "green",
           "green",
           "green",
           "green",
           "green",
           "green",
           "green",
           "green",
           "green",
           "green",
           "green",
           "blue",
           "blue",
           "green",
           "blue",
           "blue",
           "green",
           "green",
           "blue",
           "blue",
           "green",
           "green",
           "blue",
           "blue",
           "blue",
           "blue",
           "green",
           "blue",
           "green",
           "green",
           "green",
           "green",
           "blue",
           "blue",
           "green",
           "green",
           "green",
           "green",
           "green",
           "blue",
           "green",
           "blue",
           "green",
           "green",
           "green",
           "green",
           "blue",
           "green",
           "blue",
           "blue",
           "blue",
           "blue",
           "blue",
           "blue",
           "blue",
           "green",
           "green",
           "blue",
           "blue",
           "blue",
           "blue",
           "green",
           "green",
           "green",
           "green",
           "green",
           "green",
           "green",
           "green",
           "green",
           "green",
           "green",
           "green",
           "blue",
           "green",
           "green",
           "blue",
           "blue",
           "green",
           "green",
           "green",
           "green",
           "blue",
           "green",
           "green",
           "green",
           "blue",
           "green",
           "green",
           "green",
           "green",
           "blue",
           "blue",
           "green",
           "blue",
           "blue",
           "green",
           "green",
           "green",
           "green",
           "green",
           "green",
           "blue",
           "blue",
           "blue",
           "blue",
           "blue",
           "blue",
           "blue",
           "green",
           "blue",
           "green",
           "blue",
           "blue",
           "green",
           "blue",
           "blue",
           "green",
           "green",
           "green",
           "green",
           "green",
           "green",
           "green",
           "green",
           "blue",
           "green",
           "green",
           "green",
           "green",
           "green",
           "green",
           "blue",
           "green",
           "blue",
           "green",
           "green",
           "green",
           "blue",
           "green",
           "green",
           "green",
           "green",
           "green",
           "blue",
           "green",
           "green",
           "green",
           "blue",
           "blue",
           "green",
           "green",
           "green",
           "green",
           "blue",
           "blue",
           "blue",
           "blue",
           "green",
           "green",
           "green",
           "blue",
           "green",
           "green",
           "green",
           "green",
           "green",
           "green",
           "green",
           "green",
           "green",
           "green",
           "green",
           "blue",
           "blue",
           "green",
           "green",
           "green",
           "green",
           "green",
           "green",
           "green",
           "blue",
           "green",
           "green",
           "green",
           "blue",
           "green",
           "blue",
           "green",
           "blue",
           "green",
           "green",
           "green",
           "green",
           "green",
           "green",
           "green",
           "blue",
           "blue",
           "green",
           "green",
           "blue",
           "blue",
           "green",
           "green",
           "green",
           "green",
           "green",
           "green",
           "green",
           "green",
           "blue",
           "blue",
           "blue",
           "green",
           "blue",
           "blue",
           "green",
           "green",
           "green",
           "green",
           "green",
           "green",
           "green",
           "green",
           "green",
           "blue",
           "green",
           "blue",
           "blue",
           "blue",
           "blue",
           "blue",
           "blue",
           "green",
           "blue",
           "blue",
           "blue",
           "blue",
           "green",
           "green",
           "green",
           "green",
           "green",
           "green",
           "green",
           "green",
           "green",
           "green",
           "green",
           "green",
           "blue",
           "blue",
           "green",
           "blue",
           "blue",
           "green",
           "green",
           "green",
           "blue",
           "green",
           "green",
           "green",
           "green",
           "green",
           "blue",
           "blue",
           "green",
           "green",
           "blue",
           "blue",
           "blue",
           "blue",
           "blue",
           "green",
           "green",
           "green",
           "blue",
           "green",
           "green",
           "green",
           "green",
           "green",
           "blue",
           "green",
           "green",
           "green",
           "blue",
           "blue",
           "green",
           "blue",
           "green",
           "green",
           "green",
           "green",
           "green",
           "green",
           "green",
           "green",
           "blue",
           "green",
           "green",
           "green",
           "blue",
           "green",
           "green",
           "green",
           "green",
           "blue",
           "green",
           "green",
           "blue",
           "blue",
           "blue",
           "green",
           "green",
           "green",
           "green",
           "green",
           "green",
           "green",
           "blue",
           "green",
           "blue",
           "green",
           "green",
           "green",
           "green",
           "green",
           "blue",
           "green",
           "green",
           "green",
           "green",
           "blue",
           "blue",
           "blue",
           "green",
           "blue",
           "green",
           "green",
           "green",
           "blue",
           "green",
           "green",
           "green",
           "blue",
           "blue",
           "green",
           "green",
           "green",
           "green",
           "blue",
           "green",
           "blue",
           "green",
           "green",
           "blue",
           "blue",
           "green",
           "green",
           "green",
           "green",
           "green",
           "green",
           "green",
           "green",
           "green",
           "green",
           "green",
           "green",
           "green",
           "blue",
           "green",
           "blue",
           "green",
           "green",
           "green",
           "green",
           "green",
           "green",
           "blue",
           "green",
           "green",
           "blue",
           "blue",
           "green",
           "green",
           "blue",
           "blue",
           "green",
           "green",
           "green",
           "blue",
           "green",
           "blue",
           "blue",
           "green",
           "green",
           "green",
           "green",
           "green",
           "green",
           "blue",
           "green",
           "green",
           "blue",
           "blue",
           "green",
           "blue",
           "blue",
           "green",
           "green",
           "green",
           "blue",
           "green",
           "green",
           "blue",
           "green",
           "blue",
           "blue",
           "green",
           "blue",
           "green",
           "green",
           "green",
           "green",
           "blue",
           "green",
           "blue",
           "green",
           "green",
           "blue",
           "green",
           "blue",
           "blue",
           "blue",
           "blue",
           "green",
           "green",
           "green",
           "green",
           "green",
           "blue",
           "blue",
           "green",
           "green",
           "green",
           "blue",
           "green",
           "green",
           "green",
           "green",
           "blue",
           "blue",
           "blue",
           "green",
           "blue",
           "blue",
           "green",
           "green",
           "green",
           "blue",
           "green",
           "green",
           "green",
           "blue",
           "green",
           "blue",
           "blue",
           "blue",
           "green",
           "green",
           "blue",
           "green",
           "green",
           "green",
           "blue",
           "blue",
           "blue",
           "green",
           "green",
           "green",
           "blue",
           "green",
           "green",
           "green",
           "blue",
           "green",
           "green",
           "green",
           "blue",
           "green",
           "green",
           "blue",
           "blue",
           "blue",
           "blue",
           "green",
           "green",
           "green",
           "blue",
           "green",
           "green",
           "green",
           "green",
           "green",
           "green",
           "green",
           "green",
           "green",
           "green",
           "green",
           "green",
           "green",
           "green",
           "green",
           "green",
           "blue",
           "green",
           "blue",
           "blue",
           "blue",
           "green",
           "green",
           "green",
           "green",
           "blue",
           "blue",
           "green",
           "blue",
           "green",
           "green",
           "green",
           "blue",
           "blue",
           "blue",
           "green",
           "green",
           "green",
           "green",
           "green",
           "green",
           "blue",
           "blue",
           "blue",
           "green",
           "green",
           "green",
           "green",
           "green",
           "blue",
           "blue",
           "green",
           "green",
           "green",
           "green",
           "green",
           "green",
           "green",
           "green",
           "green",
           "blue",
           "blue",
           "blue",
           "blue",
           "green",
           "green",
           "green",
           "green",
           "green",
           "green",
           "green",
           "blue",
           "blue",
           "green",
           "green",
           "green",
           "green",
           "green",
           "green",
           "green",
           "green",
           "blue",
           "blue",
           "blue",
           "blue",
           "blue",
           "green",
           "green",
           "blue",
           "green",
           "green",
           "green",
           "green",
           "green",
           "green",
           "green",
           "green",
           "green",
           "blue",
           "blue",
           "blue",
           "green",
           "green",
           "blue",
           "blue",
           "green",
           "green",
           "blue",
           "green",
           "green",
           "green",
           "green",
           "green",
           "green",
           "green",
           "green",
           "green",
           "green",
           "green",
           "green",
           "blue",
           "green",
           "green",
           "green",
           "blue",
           "green",
           "green",
           "green",
           "green",
           "green",
           "green",
           "green",
           "blue",
           "blue",
           "blue",
           "blue",
           "green",
           "green",
           "green",
           "green",
           "blue",
           "blue",
           "blue",
           "blue",
           "blue",
           "blue",
           "blue",
           "blue",
           "blue",
           "green",
           "blue",
           "green",
           "blue",
           "green",
           "green",
           "green",
           "green",
           "blue",
           "green",
           "green",
           "green",
           "green",
           "green",
           "green",
           "blue",
           "blue",
           "blue",
           "blue",
           "blue",
           "blue",
           "blue",
           "green",
           "blue",
           "green",
           "blue",
           "green",
           "green",
           "green",
           "green",
           "green",
           "green",
           "green",
           "green",
           "blue",
           "green",
           "blue",
           "green",
           "green",
           "green",
           "green",
           "green",
           "green",
           "green",
           "green",
           "blue",
           "green",
           "blue",
           "green",
           "green",
           "green",
           "green",
           "green",
           "green",
           "blue",
           "blue",
           "green",
           "green",
           "green",
           "green",
           "green",
           "blue",
           "green",
           "green",
           "green",
           "green",
           "green",
           "green",
           "green",
           "green",
           "blue",
           "blue",
           "blue",
           "blue",
           "green",
           "blue",
           "green",
           "green",
           "green",
           "green",
           "blue",
           "green",
           "blue",
           "green",
           "blue",
           "green",
           "green",
           "blue",
           "green",
           "green",
           "green",
           "blue",
           "green",
           "blue",
           "green",
           "blue",
           "green",
           "green",
           "blue",
           "blue",
           "green",
           "green",
           "green",
           "green",
           "green",
           "green",
           "green",
           "green",
           "green",
           "green",
           "green",
           "green",
           "green",
           "green",
           "green",
           "green",
           "green",
           "blue",
           "green",
           "blue",
           "green",
           "blue",
           "blue",
           "green",
           "green",
           "green",
           "green",
           "blue",
           "blue",
           "green",
           "green",
           "green",
           "green",
           "green",
           "green",
           "green",
           "green",
           "green",
           "green",
           "blue",
           "green",
           "green",
           "blue",
           "green",
           "green",
           "green",
           "green",
           "green",
           "green",
           "green",
           "green",
           "green",
           "green",
           "green",
           "green",
           "green",
           "green",
           "green",
           "green",
           "green",
           "blue",
           "green",
           "blue",
           "green",
           "blue",
           "blue",
           "green",
           "blue",
           "green",
           "green",
           "green",
           "green",
           "green",
           "green",
           "green",
           "green",
           "blue",
           "green",
           "green",
           "green",
           "green",
           "green",
           "green",
           "green",
           "blue",
           "blue",
           "blue",
           "green",
           "green",
           "green",
           "green",
           "green",
           "blue",
           "green",
           "blue",
           "green",
           "blue",
           "blue",
           "blue",
           "blue",
           "blue",
           "green",
           "green",
           "green",
           "green",
           "green",
           "green",
           "green",
           "blue",
           "blue",
           "green",
           "blue",
           "blue",
           "blue",
           "blue",
           "blue",
           "green",
           "green",
           "blue",
           "blue",
           "blue",
           "blue",
           "green",
           "blue",
           "blue",
           "green",
           "green",
           "green",
           "green",
           "blue",
           "blue",
           "blue",
           "green",
           "green",
           "green",
           "green",
           "green",
           "green",
           "green",
           "blue",
           "green",
           "blue",
           "blue",
           "green",
           "blue",
           "blue",
           "green",
           "green",
           "blue",
           "blue",
           "blue",
           "green",
           "green",
           "green",
           "blue",
           "green",
           "blue",
           "green",
           "blue",
           "green",
           "green",
           "green",
           "green",
           "green",
           "green",
           "blue",
           "green",
           "blue",
           "blue",
           "green",
           "green",
           "green",
           "green",
           "green",
           "blue",
           "blue",
           "green",
           "green",
           "green",
           "green",
           "green",
           "green",
           "green",
           "green",
           "green",
           "green",
           "blue",
           "green",
           "green",
           "green",
           "green",
           "blue",
           "green",
           "green",
           "blue",
           "blue",
           "blue",
           "blue",
           "green",
           "blue",
           "blue",
           "blue",
           "blue",
           "blue",
           "green",
           "green",
           "green",
           "green",
           "green",
           "green",
           "green",
           "green",
           "green",
           "blue",
           "blue",
           "green",
           "green",
           "green",
           "green",
           "green",
           "blue",
           "blue",
           "green",
           "blue",
           "blue",
           "green",
           "blue",
           "green",
           "green",
           "green",
           "green",
           "green",
           "green",
           "blue",
           "blue",
           "green",
           "green",
           "green",
           "green",
           "green",
           "green",
           "blue",
           "green",
           "blue",
           "blue",
           "green",
           "blue",
           "blue",
           "blue",
           "blue",
           "green",
           "blue",
           "green",
           "blue",
           "blue",
           "blue",
           "green",
           "green",
           "green",
           "green",
           "green",
           "green",
           "blue",
           "blue",
           "green",
           "green",
           "blue",
           "green",
           "green",
           "green",
           "green",
           "blue",
           "blue",
           "green",
           "green",
           "blue",
           "green",
           "green",
           "blue",
           "blue",
           "green",
           "blue",
           "green",
           "green",
           "green",
           "green",
           "blue",
           "blue",
           "green",
           "blue",
           "blue",
           "blue",
           "green",
           "blue",
           "green",
           "blue",
           "green",
           "green",
           "blue",
           "blue",
           "green",
           "green",
           "green",
           "green",
           "blue",
           "green",
           "blue",
           "green",
           "green",
           "green",
           "blue",
           "green",
           "green",
           "green",
           "green",
           "green",
           "blue",
           "green",
           "blue",
           "green",
           "green",
           "green",
           "green",
           "green",
           "blue",
           "green",
           "green",
           "green",
           "green",
           "green",
           "blue",
           "green",
           "green",
           "green",
           "green",
           "green",
           "green",
           "green",
           "green",
           "green",
           "green",
           "blue",
           "blue",
           "blue",
           "green",
           "green",
           "green",
           "green",
           "green",
           "green",
           "green",
           "green",
           "green",
           "green",
           "blue",
           "green",
           "green",
           "green",
           "green",
           "green",
           "green",
           "blue",
           "green",
           "green",
           "green",
           "green",
           "green",
           "blue",
           "green",
           "green",
           "green",
           "green",
           "green",
           "green",
           "green",
           "blue",
           "green",
           "blue",
           "blue",
           "green",
           "green",
           "blue",
           "green",
           "blue",
           "green",
           "green",
           "green",
           "green",
           "green",
           "green",
           "green",
           "green",
           "blue",
           "green",
           "blue",
           "green",
           "green",
           "blue",
           "blue",
           "green",
           "green",
           "blue",
           "green",
           "green",
           "blue",
           "green",
           "green",
           "blue",
           "blue",
           "green",
           "green",
           "green",
           "green",
           "green",
           "green",
           "green",
           "green",
           "green",
           "green",
           "green",
           "green",
           "green",
           "green",
           "green"
          ],
          "size": {
           "bdata": "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",
           "dtype": "f8"
          },
          "sizemin": 5,
          "sizemode": "area"
         },
         "mode": "markers",
         "subplot": "mapbox",
         "text": [
          "ECOLE PRIVEE COIF ESTHETIQUE",
          "UNIVERSITE",
          "INST NAT SC APPLIQ RENNES",
          "UNIVERSITE  BREST",
          "UNIVERSITE RENNES 1",
          "LYCEE GENERAL ET TECHNOLOGIQUE",
          "LPO LYCEE DES METIERS",
          "UNIVERSITE RENNES 1",
          "GROUPE AFTEC",
          "SUP OUEST",
          "ECOLE SUPERIEURE PRIVEE",
          "UNIVERSITE",
          "UNIVERSITE",
          "LYCEE GENERAL ET TECHNOLOGIQUE",
          "ECOLE NAT. SUP. ARCHITECTURE",
          "LE PONT SUPERIEUR",
          "ECOLE SUPERIEURE D'ART",
          "ECOLE SUPERIEURE D'ART",
          "INST SUPERIEUR ARTS APPLIQUES",
          "ECOLE TECHNIQUE PRIVEE",
          "UNIVERSITE  BREST",
          "UNIVERSITE  BREST",
          "UNIVERSITE",
          "GROUPE AFTEC",
          "ECOLE NAT. SUP. ARCHITECTURE",
          "INSTITUT SUPERIEUR D'OPTIQUE",
          "UNIVERSITE",
          "UNIVERSITE",
          "UNIVERSITE",
          "UNIVERSITE",
          "UNIVERSITE",
          "UNIVERSITE  BREST",
          "UNIVERSITE",
          "UNIVERSITE",
          "UNIVERSITE  BREST",
          "LYCEE GENERAL ET TECHNOLOGIQUE",
          "ECOLE NORMALE SUP RENNES",
          "LYCEE GEN.ET TECHNOL.PRIVE",
          "LYCEE AGRICOLE PRIVE",
          "LYCEE GENERAL PRIVE",
          "LYCEE GEN.ET TECHNOL.PRIVE",
          "UNIVERSITE RENNES 2",
          "LYCEE GENERAL ET TECHNOLOGIQUE",
          "EC INFORMATIQUE TECH AVANCEES",
          "INSTITUT AGRO RENNES-ANGERS",
          "ENS CHIMIE RENNES",
          "LYC POLYVAL PRIVE DES METIERS",
          "LYCEE GENERAL",
          "ECOLE SUPERIEURE",
          "LYCEE GEN.ET TECHNOL.PRIVE",
          "INST FORM MASSO-KINESITHERAPIE",
          "INST FORM MASSO-KINESITHERAPIE",
          "UNIVERSITE RENNES 1",
          "COMUE UNIV BRETAGNE LOIRE",
          "ECOLE SUPERIEURE D'ART",
          "UNIVERSITE  BREST",
          "UNIVERSITE RENNES 1",
          "UNIVERSITE RENNES 1",
          "ECOLE POUR L'INFORMATIQUE",
          "ECOLE TECH SUP PRIVEE INFORMAT",
          "SUP OUEST",
          "EC HTES ETUD SANTE PUB RENNES",
          "ECOLE POUR L'INFORMATIQUE",
          "EC INFORMATIQUE TECH AVANCEES",
          "INST FORM MASSO-KINESITHERAPIE",
          "UNIVERSITE  BREST",
          "UNIVERSITE RENNES 1",
          "ECOLE SUPERIEURE",
          "ECOLE TECHNIQUE SUPERIEURE PRI",
          "LYCEE GENERAL PRIVE",
          "LYCEE AGRICOLE PRIVE",
          "LYCEE GENERAL ET TECHNOLOGIQUE",
          "LYC POLYVAL PRIVE DES METIERS",
          "UNIVERSITE RENNES 1",
          "UNIVERSITE RENNES 1",
          "UNIVERSITE RENNES 1",
          "UNIVERSITE RENNES 1",
          "UNIVERSITE RENNES 1",
          "UNIVERSITE",
          "ORGANISME FORMATION-CFA",
          "GROUPE AFTEC",
          "UNIVERSITE  BREST",
          "UNIVERSITE",
          "UNIVERSITE",
          "UNIVERSITE",
          "UNIVERSITE RENNES 2",
          "ENS CHIMIE RENNES",
          "INST NAT SC APPLIQ RENNES",
          "INSTITUT AGRO RENNES-ANGERS",
          "ECOLE TECHNIQUE PRIVEE",
          "UNIVERSITE RENNES 1",
          "UNIVERSITE RENNES 2",
          "INST NAT SC APPLIQ RENNES",
          "LP LYCEE DES METIERS",
          "ECOLE TECHNIQUE PRIVEE",
          "LYCEE GENERAL ET TECHNOLOGIQUE",
          "UNIVERSITE RENNES 2",
          "UNIVERSITE RENNES 2",
          "ECOLE SUPERIEURE PRIVEE",
          "LYCEE GENERAL ET TECHNOLOGIQUE",
          "UNIVERSITE RENNES 2",
          "UNIVERSITE RENNES 2",
          "UNIVERSITE RENNES 2",
          "LYCEE GEN ET TECHNOL PRIVE",
          "LYCEE GEN ET TECHNOL PRIVE",
          "LYCEE GENERAL ET TECHNOLOGIQUE",
          "COMUE UNIV BRETAGNE LOIRE",
          "UNIVERSITE RENNES 2",
          "UNIVERSITE RENNES 1",
          "LYCEE GENERAL PRIVE",
          "ECOLE PRIVEE COIF ESTHETIQUE",
          "LYCEE GENERAL ET TECHNOLOGIQUE",
          "GROUPE AFTEC",
          "INSTITUT AGRO RENNES-ANGERS",
          "CENTRES FORM METIERS SANTE",
          "ECOLE DES METIERS SANITAIRES E",
          "EC HTES ETUD SANTE PUB RENNES",
          "UNIVERSITE",
          "UNIVERSITE",
          "UNIVERSITE",
          "UNIVERSITE",
          "LYCEE GENERAL ET TECHNOLOGIQUE",
          "INSTITUT NATIONAL",
          "LYCEE GENERAL ET TECHNOLOGIQUE",
          "INST FORM MASSO-KINESITHERAPIE",
          "E S R A  BRETAGNE",
          "LYCEE GEN.ET TECHNOL.PRIVE",
          "UNIVERSITE RENNES 1",
          "UNIVERSITE  BREST",
          "UNIVERSITE",
          "GROUPE AFTEC",
          "UNIVERSITE RENNES 1",
          "UNIVERSITE RENNES 2",
          "UNIVERSITE RENNES 1",
          "UNIVERSITE",
          "EC HTES ETUD SANTE PUB RENNES",
          "LYCEE GENERAL",
          "UNIVERSITE RENNES 1",
          "UNIVERSITE RENNES 2",
          "LYC POLYVAL PRIVE DES METIERS",
          "UNIVERSITE  BREST",
          "ECOLE SUP ARTS TECHNIQUES MODE",
          "LPO LYCEE DES METIERS",
          "LYCEE GENERAL",
          "GROUPE AFTEC",
          "UNIVERSITE  BREST",
          "UNIVERSITE RENNES 1",
          "UNIVERSITE RENNES 1",
          "UNIVERSITE RENNES 1",
          "UNIVERSITE RENNES 1",
          "UNIVERSITE",
          "INSTITUT AGRO RENNES-ANGERS",
          "INST NAT SC APPLIQ RENNES",
          "ECOLE TECH SUP PRIVEE INFORMAT",
          "UNIVERSITE  BREST",
          "INST ETUD POLITIQUES RENNES",
          "ECOLE TECHNIQUE PRIVEE",
          "ECOLE POUR L'INFORMATIQUE",
          "EC SUP GEST COMMERCE FINANCE",
          "INST NAT SC APPLIQ RENNES",
          "INSTITUT AGRO RENNES-ANGERS",
          "LYCEE GENERAL ET TECHNOLOGIQUE",
          "UNIVERSITE RENNES 2",
          "UNIVERSITE RENNES 1",
          "COMUE UNIV BRETAGNE LOIRE",
          "UNIVERSITE RENNES 2",
          "EC SUP GEST COMMERCE FINANCE",
          "ECOLE TECHNIQUE SUPERIEURE PRI",
          "UNIVERSITE",
          "UNIVERSITE",
          "UNIVERSITE  BREST",
          "UNIVERSITE  BREST",
          "UNIVERSITE RENNES 1",
          "EC HTES ETUD SANTE PUB RENNES",
          "LE PONT SUPERIEUR",
          null,
          "LYC POLYVAL PRIVE DES METIERS",
          "UNIVERSITE  BREST",
          "UNIVERSITE RENNES 1",
          "UNIVERSITE RENNES 1",
          "UNIVERSITE RENNES 1",
          "UNIVERSITE RENNES 1",
          "COMUE UNIV BRETAGNE LOIRE",
          "UNIVERSITE RENNES 1",
          "UNIVERSITE RENNES 1",
          "UNIVERSITE RENNES 1",
          "UNIVERSITE RENNES 2",
          "ECOLE DES METIERS SANITAIRES E",
          "UNIVERSITE",
          "UNIVERSITE",
          "ECOLE SUPERIEURE D'ART",
          "ECOLE TECHNIQUE PRIVEE",
          "ORGANISME FORMATION-CFA",
          "SUP OUEST",
          "GROUPE AFTEC",
          "EC INFORMATIQUE TECH AVANCEES",
          "INSTITUT NATIONAL",
          "ECOLE TECHNIQUE PRIVEE",
          "UNIVERSITE",
          "UNIVERSITE",
          "ECOLE SUPERIEURE PRIVEE",
          "ENS CHIMIE RENNES",
          "E S R A  BRETAGNE",
          "LYC POLYVAL PRIVE DES METIERS",
          "LYCEE GENERAL ET TECHNOLOGIQUE",
          "LYCEE GEN ET TECHNOL PRIVE",
          "LYC POLYVAL PRIVE DES METIERS",
          "UNIVERSITE RENNES 1",
          "UNIVERSITE RENNES 2",
          "E S R A  BRETAGNE",
          "ENS CHIMIE RENNES",
          "UNIVERSITE RENNES 1",
          "ECOLE NAT. SUP. ARCHITECTURE",
          "ECOLE SUPERIEURE DE COMMERCE",
          "SUP OUEST",
          "LYC POLYVAL PRIVE DES METIERS",
          "ECOLE PRIVEE COIF ESTHETIQUE",
          "UNIVERSITE  BREST",
          "UNIVERSITE RENNES 1",
          "UNIVERSITE RENNES 1",
          "UNIVERSITE RENNES 1",
          "UNIVERSITE RENNES 1",
          "UNIVERSITE RENNES 1",
          "UNIVERSITE",
          "INST ETUD POLITIQUES RENNES",
          "INST ETUD POLITIQUES RENNES",
          "GROUPE AFTEC",
          "E S R A  BRETAGNE",
          "UNIVERSITE  BREST",
          "UNIVERSITE  BREST",
          "LYCEE PROFESSIONNEL",
          "ETAB SUPERIEUR TECHNIQUE PR",
          "UNIVERSITE",
          "UNIVERSITE",
          "UNIVERSITE",
          "UNIVERSITE",
          "INSTITUT AGRO RENNES-ANGERS",
          "ENS CHIMIE RENNES",
          "INST FORM MASSO-KINESITHERAPIE",
          "ECOLE SUP ARTS TECHNIQUES MODE",
          "LE PONT SUPERIEUR",
          "ECOLE SUPERIEURE D'ART",
          "CENTRE DE FORMATION",
          "EC HTES ETUD SANTE PUB RENNES",
          "UNIVERSITE",
          "UNIVERSITE",
          "ECOLE TECHNIQUE PRIVEE",
          "UNIVERSITE RENNES 1",
          "INST NAT SC APPLIQ RENNES",
          "UNIVERSITE  BREST",
          "UNIVERSITE RENNES 2",
          "LYCEE PROFESSIONNEL",
          "LYCEE GEN ET TECHNOL PRIVE",
          "ECOLE SUPERIEURE DE COMMERCE",
          "LYCEE GENERAL ET TECHNOLOGIQUE",
          "LYCEE GENERAL ET TECHNOLOGIQUE",
          "INST SUPERIEUR ARTS APPLIQUES",
          "UNIVERSITE  BREST",
          "ECOLE SUPERIEURE D'ART",
          "ENS CHIMIE RENNES",
          "ENS CHIMIE RENNES",
          "INST NAT SC APPLIQ RENNES",
          "UNIVERSITE  BREST",
          "UNIVERSITE RENNES 2",
          "ECOLE TECHNIQUE PRIVEE",
          "ECOLE TECHNIQUE PRIVEE",
          "ECOLE TECHNIQUE PRIVEE",
          "UNIVERSITE  BREST",
          "UNIVERSITE RENNES 1",
          "ECOLE PRIVEE COIF ESTHETIQUE",
          "UNIVERSITE RENNES 1",
          "UNIVERSITE RENNES 1",
          "UNIVERSITE",
          "UNIVERSITE RENNES 2",
          "ECOLE NAT. SUP. ARCHITECTURE",
          "ECOLE TECHNIQUE PRIVEE",
          "LYC POLYVAL PRIVE DES METIERS",
          "INSTITUT AGRO RENNES-ANGERS",
          "LYCEE GENERAL ET TECHNOLOGIQUE",
          "LYCEE GENERAL ET TECHNOLOGIQUE",
          "LYCEE PROFESSIONNEL",
          "LYCEE GEN.ET TECHNOL.PRIVE",
          "LYC POLYVAL PRIVE DES METIERS",
          "UNIVERSITE",
          "INST ETUD POLITIQUES RENNES",
          "UNIVERSITE",
          "UNIVERSITE",
          "UNIVERSITE",
          "UNIVERSITE",
          "UNIVERSITE",
          "UNIVERSITE  BREST",
          "UNIVERSITE",
          "UNIVERSITE",
          "UNIVERSITE RENNES 1",
          "LE PONT SUPERIEUR",
          "UNIVERSITE RENNES 1",
          "INSTITUT NATIONAL",
          "ECOLE TECHNIQUE PRIVEE",
          "COMUE UNIV BRETAGNE LOIRE",
          "CENTRE DE FORMATION",
          "INSTITUT SUPERIEUR D'OPTIQUE",
          "LYCEE GENERAL ET TECHNOLOGIQUE",
          "CENTRES FORM METIERS SANTE",
          "INSTITUT SUPERIEUR D'OPTIQUE",
          "LYCEE AGRICOLE PRIVE",
          "UNIVERSITE  BREST",
          "UNIVERSITE RENNES 1",
          "ECOLE TECHNIQUE PRIVEE",
          "ECOLE SUP ARTS TECHNIQUES MODE",
          "INST FORM MASSO-KINESITHERAPIE",
          "GROUPE AFTEC",
          "UNIVERSITE  BREST",
          "INST SUPERIEUR ARTS APPLIQUES",
          "UNIVERSITE  BREST",
          "UNIVERSITE RENNES 1",
          "UNIVERSITE RENNES 2",
          "UNIVERSITE RENNES 2",
          "CENTRE DE FORMATION",
          "EC SUP GEST COMMERCE FINANCE",
          "UNIVERSITE RENNES 1",
          "UNIVERSITE RENNES 1",
          "UNIVERSITE RENNES 1",
          "UNIVERSITE  BREST",
          "UNIVERSITE  BREST",
          "ECOLE SUPERIEURE DE COMMERCE",
          "UNIVERSITE RENNES 1",
          "INST FORM MASSO-KINESITHERAPIE",
          "INST ETUD POLITIQUES RENNES",
          "UNIVERSITE  BREST",
          "LE PONT SUPERIEUR",
          "ECOLE SUPERIEURE D'ART",
          "INSTITUT SUPERIEUR D'OPTIQUE",
          "LYCEE GENERAL ET TECHNOLOGIQUE",
          "INST SUPERIEUR ARTS APPLIQUES",
          "EC SUP GEST COMMERCE FINANCE",
          "COLLEGE COOPERATIF EN BRETAGNE",
          "EC INFORMATIQUE TECH AVANCEES",
          "EC SUP GEST COMMERCE FINANCE",
          "GROUPE AFTEC",
          "ECOLE SUPERIEURE",
          "INSTITUT AGRO RENNES-ANGERS",
          "INSTITUT NATIONAL SCIENCES APP",
          "LYCEE AGRICOLE PRIVE",
          "INST FORM MASSO-KINESITHERAPIE",
          "ECOLE DES METIERS SANITAIRES E",
          "ECOLE DES METIERS SANITAIRES E",
          "LYCEE GENERAL ET TECHNOLOGIQUE",
          "UNIVERSITE",
          "UNIVERSITE",
          "UNIVERSITE",
          "UNIVERSITE",
          "UNIVERSITE",
          "UNIVERSITE",
          "LYCEE GENERAL ET TECHNOLOGIQUE",
          "UNIVERSITE RENNES 1",
          "UNIVERSITE RENNES 1",
          "UNIVERSITE",
          "UNIVERSITE",
          "ECOLE SUPERIEURE DE COMMERCE",
          "UNIVERSITE",
          "INST ETUD POLITIQUES RENNES",
          "INST SUPERIEUR ARTS APPLIQUES",
          "ECOLE POUR L'INFORMATIQUE",
          "UNIVERSITE",
          "UNIVERSITE",
          "UNIVERSITE",
          "UNIVERSITE",
          "SUP OUEST",
          "ENS CHIMIE RENNES",
          "LYCEE PROFESSIONNEL",
          "CENTRES FORM METIERS SANTE",
          "ECOLE PRIVEE COIF ESTHETIQUE",
          "CENTRES FORM METIERS SANTE",
          "ENS CHIMIE RENNES",
          "LYCEE GENERAL",
          "LYCEE GENERAL",
          "ECOLE TECH SUP PRIVEE INFORMAT",
          "FACULTES LIBRES DE L'OUEST",
          "UNIVERSITE  BREST",
          "ECOLE TECHNIQUE PRIVEE",
          "ECOLE POUR L'INFORMATIQUE",
          "ENS CHIMIE RENNES",
          "POLE D'ENSEIGNEMENT SUPERIEUR",
          "IS SC AGRO HORT PAYSAGE RENNES",
          "UNIVERSITE  BREST",
          "UNIVERSITE  BREST",
          "UNIVERSITE RENNES 2",
          "EC INFORMATIQUE TECH AVANCEES",
          "ECOLE SUPERIEURE TECHNIQUE PRI",
          "LYCEE GEN ET TECHNOL PRIVE",
          "LYC POLYVAL PRIVE DES METIERS",
          "ECOLE TECHNIQUE PRIVEE",
          "LYCEE POLYVALENT PRIVE",
          "ECOLE TECHNIQUE PRIVEE",
          "UNIVERSITE  BREST",
          "E S R A  BRETAGNE",
          "LE PONT SUPERIEUR",
          "INSTITUT NATIONAL",
          "ECOLE TECH SUP PRIVEE INFORMAT",
          "UNIVERSITE  BREST",
          "GROUPE AFTEC",
          "ECOLE PRIVEE COIF ESTHETIQUE",
          "UNIVERSITE  BREST",
          "UNIVERSITE  BREST",
          "UNIVERSITE",
          "CENTRES FORM METIERS SANTE",
          "UNIVERSITE",
          "UNIVERSITE",
          "UNIVERSITE",
          "UNIVERSITE",
          "LYCEE GENERAL PRIVE",
          "CENTRES FORM METIERS SANTE",
          "CENTRES FORM METIERS SANTE",
          "UNIVERSITE RENNES 1",
          "UNIVERSITE RENNES 2",
          "LE PONT SUPERIEUR",
          "ECOLE NAT. SUP. ARCHITECTURE",
          "ECOLE TECHNIQUE PRIVEE",
          "ECOLE SUPERIEURE D'ART",
          "INST SUPERIEUR ARTS APPLIQUES",
          "UNIVERSITE",
          "UNIVERSITE",
          "UNIVERSITE RENNES 1",
          "LYC POLYVAL PRIVE DES METIERS",
          "LPO LYCEE DES METIERS",
          "LYCEE PROFESSIONNEL",
          "CENTRES FORM METIERS SANTE",
          "UNIVERSITE RENNES 2",
          "COMUE UNIV BRETAGNE LOIRE",
          "ECOLE POUR L'INFORMATIQUE",
          "LYCEE GENERAL ET TECHNOLOGIQUE",
          "LPO LYCEE DES METIERS",
          "LPO LYCEE DES METIERS",
          "LYCEE GENERAL PRIVE",
          "LYCEE GEN.ET TECHNOL.PRIVE",
          "UNIVERSITE",
          "UNIVERSITE",
          "UNIVERSITE",
          "UNIVERSITE",
          "ECOLE TECHNIQUE PRIVEE",
          "CENTRE DE FORMATION",
          "ECOLE POUR L'INFORMATIQUE",
          "ECOLE SUPERIEURE DE COMMERCE",
          "UNIVERSITE RENNES 1",
          "COMUE UNIV BRETAGNE LOIRE",
          "LYCEE GENERAL ET TECHNOLOGIQUE",
          "CTRE PREPA CARR SOC PARAMEDIC",
          "UNIVERSITE  BREST",
          "UNIVERSITE  BREST",
          "UNIVERSITE  BREST",
          "UNIVERSITE RENNES 1",
          "UNIVERSITE RENNES 1",
          "UNIVERSITE RENNES 1",
          "UNIVERSITE RENNES 1",
          "UNIVERSITE RENNES 1",
          "UNIVERSITE",
          "UNIVERSITE",
          "UNIVERSITE",
          "EC INFORMATIQUE TECH AVANCEES",
          "LYCEE GENERAL PRIVE",
          "ENS CHIMIE RENNES",
          "ENS CHIMIE RENNES",
          "ENS CHIMIE RENNES",
          "INST NAT SC APPLIQ RENNES",
          "INST NAT SC APPLIQ RENNES",
          "UNIVERSITE",
          "UNIVERSITE",
          "ECOLE POUR L'INFORMATIQUE",
          "CENTRES FORM METIERS SANTE",
          "UNIVERSITE RENNES 1",
          "ECOLE NAT. SUP. ARCHITECTURE",
          "SUP OUEST",
          "CENTRES FORM METIERS SANTE",
          "EC INFORMATIQUE TECH AVANCEES",
          "ENS CHIMIE RENNES",
          "EC SUP GEST COMMERCE FINANCE",
          "UNIVERSITE  BREST",
          "UNIVERSITE",
          "UNIVERSITE",
          "UNIVERSITE RENNES 1",
          "UNIVERSITE RENNES 1",
          "UNIVERSITE RENNES 2",
          "ECOLE NAT. SUP. ARCHITECTURE",
          "GROUPE AFTEC",
          "LYCEE GEN.ET TECHNOL.PRIVE",
          "LYCEE GENERAL ET TECHNOLOGIQUE",
          "UNIVERSITE RENNES 2",
          "ECOLE SUP. D'ART DRAMATIQUE",
          "I R T S",
          "UNIVERSITE RENNES 2",
          "UNIVERSITE RENNES 2",
          "ECOLE NORMALE SUP RENNES",
          "EC HTES ETUD SANTE PUB RENNES",
          "UNIVERSITE  BREST",
          "UNIVERSITE  BREST",
          "UNIVERSITE",
          "INSTITUT NATIONAL SCIENCES APP",
          "LYCEE POLYVALENT PRIVE",
          "LYCEE GEN.ET TECHNOL.PRIVE",
          "INST FORM MASSO-KINESITHERAPIE",
          "CENTRES FORM METIERS SANTE",
          "ECOLE TECHNIQUE PRIVEE",
          "ORGANISME FORMATION-CFA",
          "LP LYCEE DES METIERS",
          "LYCEE GENERAL",
          "CENTRES FORM METIERS SANTE",
          "UNIVERSITE  BREST",
          "UNIVERSITE RENNES 1",
          "UNIVERSITE RENNES 1",
          "UNIVERSITE RENNES 1",
          "UNIVERSITE",
          "INST ETUD POLITIQUES RENNES",
          "INST FORM MASSO-KINESITHERAPIE",
          "CENTRES FORM METIERS SANTE",
          "ECOLE",
          "LYCEE AGRICOLE PRIVE",
          "ECOLE TECHNIQUE PRIVEE",
          "E S R A  BRETAGNE",
          "CENTRE DE FORMATION",
          "ECOLE PRIVEE COIF ESTHETIQUE",
          "UNIVERSITE  BREST",
          "C F P N",
          "LYCEE AGRICOLE PRIVE",
          "ISTER",
          "FACULTES LIBRES DE L'OUEST",
          "UNIVERSITE  BREST",
          "UNIVERSITE",
          "UNIVERSITE",
          "UNIVERSITE",
          "UNIVERSITE",
          "UNIVERSITE",
          "UNIVERSITE",
          "LYCEE GENERAL ET TECHNOLOGIQUE",
          "UNIVERSITE  BREST",
          "UNIVERSITE  BREST",
          "UNIVERSITE RENNES 1",
          "LYCEE GENERAL",
          "GROUPE AFTEC",
          "INSTITUT NATIONAL",
          "LPO LYCEE DES METIERS",
          "I R T S",
          "C F P N",
          "UNIVERSITE RENNES 1",
          "UNIVERSITE RENNES 2",
          "ECOLE NORMALE SUP RENNES",
          "ECOLE POUR L'INFORMATIQUE",
          "ECOLE SUPERIEURE D'ART",
          "UNIVERSITE  BREST",
          "UNIVERSITE",
          "UNIVERSITE",
          "UNIVERSITE",
          "ECOLE",
          "ISTER",
          "ENS CHIMIE RENNES",
          "ENS CHIMIE RENNES",
          "LYC POLYVAL PRIVE des METIERS",
          "ECOLE TECHNIQUE PRIVEE",
          "LYC POLYVAL PRIVE DES METIERS",
          "ECOLE TECHNIQUE PRIVEE",
          "ECOLE SUPERIEURE DE COMMERCE",
          "UNIVERSITE  BREST",
          "UNIVERSITE",
          "INST ETUD POLITIQUES RENNES",
          "ECOLE SUPERIEURE TECHNIQUE PRI",
          "UNIVERSITE  BREST",
          "ECOLE SUPERIEURE D'ART",
          "IS SC AGRO HORT PAYSAGE RENNES",
          "LYCEE PROFESSIONNEL",
          "COMUE UNIV BRETAGNE LOIRE",
          "C F P N",
          "COMUE UNIV BRETAGNE LOIRE",
          "UNIVERSITE RENNES 1",
          "UNIVERSITE RENNES 1",
          "INST SUPERIEUR ARTS APPLIQUES",
          "LYC POLYVAL PRIVE des METIERS",
          "UNIVERSITE RENNES 2",
          "LYCEE POLYVALENT PRIVE",
          "UNIVERSITE  BREST",
          "UNIVERSITE  BREST",
          "UNIVERSITE  BREST",
          "UNIVERSITE RENNES 1",
          "CENTRES FORM METIERS SANTE",
          "INST NAT SC APPLIQ RENNES",
          "UNIVERSITE",
          "UNIVERSITE",
          "LYC POLYVAL PRIVE DES METIERS",
          "UNIVERSITE  BREST",
          "UNIVERSITE",
          "UNIVERSITE",
          "ECOLE TECH SUP PRIVEE INFORMAT",
          "UNIVERSITE RENNES 1",
          "UNIVERSITE RENNES 1",
          "UNIVERSITE RENNES 1",
          "UNIVERSITE",
          "INST SUPERIEUR ARTS APPLIQUES",
          "ECOLE SUPERIEURE D'ART",
          "ECOLE SUPERIEURE D'ART",
          "EC SUP GEST COMMERCE FINANCE",
          "ECOLE POUR L'INFORMATIQUE",
          "ECOLE TECH SUP PRIVEE INFORMAT",
          "INST ETUD POLITIQUES RENNES",
          "UNIVERSITE",
          "UNIVERSITE",
          "UNIVERSITE",
          "UNIVERSITE",
          "UNIVERSITE RENNES 1",
          "EC HTES ETUD SANTE PUB RENNES",
          "ECOLE SUPERIEURE DE COMMERCE",
          "UNIVERSITE  BREST",
          "LYC POLYVAL PRIVE des METIERS",
          "LYCEE GENERAL ET TECHNOLOGIQUE",
          "ECOLE REGIONALE DES BEAUX-ARTS",
          "UNIVERSITE RENNES 2",
          "UNIVERSITE RENNES 1",
          "POLE D'ENSEIGNEMENT SUPERIEUR",
          "LYCEE POLYVALENT PRIVE",
          "UNIVERSITE RENNES 1",
          "UNIVERSITE RENNES 2",
          "UNIVERSITE RENNES 1",
          "LP LYCEE DES METIERS",
          "LYCEE POLYVALENT PRIVE",
          "LYC POLYVAL PRIVE DES METIERS",
          "LYC POLYVAL PRIVE DES METIERS",
          "UNIVERSITE",
          "LYCEE GEN ET TECHNOL PRIVE",
          "UNIVERSITE  BREST",
          "UNIVERSITE",
          "INST ETUD POLITIQUES RENNES",
          "INST FORM MASSO-KINESITHERAPIE",
          "UNIVERSITE  BREST",
          "UNIVERSITE RENNES 1",
          "UNIVERSITE RENNES 1",
          "GROUPE AFTEC",
          "GROUPE AFTEC",
          "UNIVERSITE",
          "UNIVERSITE",
          "UNIVERSITE",
          "UNIVERSITE",
          "INST FORM MASSO-KINESITHERAPIE",
          "UNIVERSITE  BREST",
          "ECOLE SUP. D'ART DRAMATIQUE",
          "LYCEE GENERAL ET TECHNOLOGIQUE",
          "CENTRES FORM METIERS SANTE",
          "LYCEE GEN.ET TECHNOL.PRIVE",
          "LYC POLYVAL PRIVE DES METIERS",
          "UNIVERSITE RENNES 1",
          "UNIVERSITE",
          "INST ETUD POLITIQUES RENNES",
          "UNIVERSITE  BREST",
          "UNIVERSITE",
          "INST ETUD POLITIQUES RENNES",
          "UNIVERSITE",
          "UNIVERSITE",
          "UNIVERSITE",
          "UNIVERSITE RENNES 1",
          "UNIVERSITE RENNES 1",
          "UNIVERSITE RENNES 1",
          "UNIVERSITE RENNES 1",
          "INSTITUT SUPERIEUR D'OPTIQUE",
          "LE PONT SUPERIEUR",
          "COLLEGE COOPERATIF EN BRETAGNE",
          "UNIVERSITE  BREST",
          "UNIVERSITE  BREST",
          "UNIVERSITE RENNES 1",
          "UNIVERSITE RENNES 1",
          "UNIVERSITE RENNES 1",
          "UNIVERSITE",
          "EC INFORMATIQUE TECH AVANCEES",
          "INST NAT SC APPLIQ RENNES",
          "CENTRES FORM METIERS SANTE",
          "INSTITUT SUPERIEUR D'OPTIQUE",
          "SUP OUEST",
          "INSTITUT AGRO RENNES-ANGERS",
          "LYCEE PROFESSIONNEL",
          "CENTRE DE FORMATION",
          "GROUPE AFTEC",
          "LYCEE GENERAL",
          "ECOLE NAT. SUP. ARCHITECTURE",
          "UNIVERSITE",
          "ECOLE TECHNIQUE PRIVEE",
          "UNIVERSITE  BREST",
          "LYC POLYVAL PRIVE DES METIERS",
          "LYCEE AGRICOLE PRIVE",
          "UNIVERSITE  BREST",
          "UNIVERSITE",
          "UNIVERSITE",
          "UNIVERSITE",
          "UNIVERSITE",
          "UNIVERSITE",
          "INST FORM MASSO-KINESITHERAPIE",
          "ENS CHIMIE RENNES",
          "UNIVERSITE",
          "ECOLE TECHNIQUE PRIVEE",
          "ECOLE TECH SUP PRIVEE INFORMAT",
          "UNIVERSITE  BREST",
          "INST SUPERIEUR ARTS APPLIQUES",
          "ECOLE POUR L'INFORMATIQUE",
          "UNIVERSITE",
          "UNIVERSITE",
          "UNIVERSITE",
          "LYCEE GEN ET TECHNOL PRIVE",
          "LE PONT SUPERIEUR",
          "LE PONT SUPERIEUR",
          "LYC POLYVAL PRIVE DES METIERS",
          "LYCEE PROFESSIONNEL",
          "ECOLE SUP ET TECHNIQUE PRIVEE",
          "ECOLE POUR L'INFORMATIQUE",
          "IS SC AGRO HORT PAYSAGE RENNES",
          "SUP OUEST",
          "COMUE UNIV BRETAGNE LOIRE",
          "COMUE UNIV BRETAGNE LOIRE",
          "INSTITUT AGRO RENNES-ANGERS",
          "LYCEE GENERAL ET TECHNOLOGIQUE",
          null,
          "UNIVERSITE RENNES 1",
          "INST SUPERIEUR ARTS APPLIQUES",
          "UNIVERSITE RENNES 1",
          "LYCEE GENERAL ET TECHNOLOGIQUE",
          "I R T S",
          "LPO LYCEE DES METIERS",
          "EC SUP GEST COMMERCE FINANCE",
          "LYCEE GENERAL PRIVE",
          "LYCEE GENERAL PRIVE",
          "LYCEE GEN.ET TECHNOL.PRIVE",
          "UNIVERSITE  BREST",
          "UNIVERSITE",
          "UNIVERSITE",
          "UNIVERSITE",
          "ECOLE NAT. SUP. ARCHITECTURE",
          "E S R A  BRETAGNE",
          "E S R A  BRETAGNE",
          "UNIVERSITE",
          "UNIVERSITE",
          "ECOLE NAT. SUP. ARCHITECTURE",
          "INST FORM MASSO-KINESITHERAPIE",
          "LP LYCEE DES METIERS",
          "LYCEE GENERAL",
          "UNIVERSITE  BREST",
          "LE PONT SUPERIEUR",
          "INSTITUT SUPERIEUR D'OPTIQUE",
          "ECOLE TECHNIQUE PRIVEE",
          "GROUPE AFTEC",
          "CENTRES FORM METIERS SANTE",
          "INST FORM MASSO-KINESITHERAPIE",
          "ECOLE TECH SUP PRIVEE INFORMAT",
          "EC HTES ETUD SANTE PUB RENNES",
          "INST NAT SC APPLIQ RENNES",
          "INSTITUT AGRO RENNES-ANGERS",
          "ECOLE TECHNIQUE PRIVEE",
          "UNIVERSITE RENNES 1",
          "UNIVERSITE RENNES 1",
          "UNIVERSITE RENNES 1",
          "ISTER",
          "UNIVERSITE RENNES 2",
          "LYCEE POLYVALENT PRIVE",
          "LYCEE AGRICOLE PRIVE",
          "ISTER",
          "CENTRES FORM METIERS SANTE",
          "UNIVERSITE",
          "CENTRE DE FORMATION",
          "LYCEE GENERAL ET TECHNOLOGIQUE",
          "UNIVERSITE",
          "ECOLE NAT. SUP. ARCHITECTURE",
          "ECOLE TECH SUP PRIVEE INFORMAT",
          "ECOLE POUR L'INFORMATIQUE",
          "LYCEE POLYVALENT PRIVE",
          "UNIVERSITE RENNES 2",
          "UNIVERSITE RENNES 1",
          "UNIVERSITE RENNES 2",
          "ECOLE TECHNIQUE PRIVEE",
          "LP LYCEE DES METIERS",
          "LYCEE GENERAL ET TECHNOLOGIQUE",
          "UNIVERSITE  BREST",
          "LYCEE GEN.ET TECHNOL.PRIVE",
          "LYCEE PROFESSIONNEL",
          "UNIVERSITE RENNES 1",
          "UNIVERSITE RENNES 1",
          "INST FORM MASSO-KINESITHERAPIE",
          "UNIVERSITE RENNES 1",
          "UNIVERSITE RENNES 1",
          "INST SUPERIEUR ARTS APPLIQUES",
          "ECOLE TECH SUP PRIVEE INFORMAT",
          "ECOLE SUPERIEURE DE COMMERCE",
          "LYCEE GENERAL PRIVE",
          "ECOLE SUPERIEURE D'ART",
          "CENTRES FORM METIERS SANTE",
          "UNIVERSITE",
          null,
          "INSTITUT AGRO RENNES-ANGERS",
          "UNIVERSITE  BREST",
          "UNIVERSITE",
          "UNIVERSITE",
          "UNIVERSITE",
          "UNIVERSITE",
          "UNIVERSITE",
          "UNIVERSITE",
          "UNIVERSITE",
          "UNIVERSITE  BREST",
          "UNIVERSITE RENNES 1",
          "UNIVERSITE RENNES 1",
          "UNIVERSITE RENNES 1",
          "UNIVERSITE RENNES 1",
          "LYCEE GENERAL ET TECHNOLOGIQUE",
          "LYCEE PROFESSIONNEL",
          "ECOLE TECHNIQUE PRIVEE",
          "LYCEE GENERAL ET TECHNOLOGIQUE",
          "ECOLE SUPERIEURE DE COMMERCE",
          "EC SUP GEST COMMERCE FINANCE",
          "ECOLE DES METIERS SANITAIRES E",
          "ECOLE ASSISTANT SERVICE SOCIAL",
          "ECOLE SUPERIEURE D'ART",
          "INSTITUT AGRO RENNES-ANGERS",
          "CENTRES FORM METIERS SANTE",
          "ECOLE TECHNIQUE PRIVEE",
          "INSTITUT NATIONAL",
          "INST NAT SC APPLIQ RENNES",
          "EC SUP GEST COMMERCE FINANCE",
          "UNIVERSITE RENNES 1",
          "UNIVERSITE RENNES 1",
          "UNIVERSITE RENNES 2",
          "LYCEE POLYVALENT PRIVE",
          "INST SUPERIEUR ARTS APPLIQUES",
          "ECOLE TECH SUP PRIVEE INFORMAT",
          "UNIVERSITE  BREST",
          "UNIVERSITE",
          "UNIVERSITE",
          "UNIVERSITE",
          "UNIVERSITE",
          "UNIVERSITE",
          "EC SUP GEST COMMERCE FINANCE",
          "INST FORM AFFAIRES ET GESTION",
          "ECOLE PRIVEE COIF ESTHETIQUE",
          "UNIVERSITE RENNES 1",
          "UNIVERSITE RENNES 1",
          "UNIVERSITE RENNES 1",
          "UNIVERSITE RENNES 1",
          "EC HTES ETUD SANTE PUB RENNES",
          "ECOLE SUPERIEURE DE COMMERCE",
          "GROUPE AFTEC",
          "EC HTES ETUD SANTE PUB RENNES",
          "EC HTES ETUD SANTE PUB RENNES",
          "UNIVERSITE",
          "INST ETUD POLITIQUES RENNES",
          "UNIVERSITE",
          "UNIVERSITE",
          "UNIVERSITE",
          "UNIVERSITE",
          "UNIVERSITE",
          "E S R A  BRETAGNE",
          "INST SUPERIEUR ARTS APPLIQUES",
          "ECOLE SUPERIEURE DE COMMERCE",
          "EC SUP GEST COMMERCE FINANCE",
          "LYCEE GENERAL ET TECHNOLOGIQUE",
          "UNIVERSITE RENNES 1",
          "LYCEE GENERAL ET TECHNOLOGIQUE",
          "UNIVERSITE RENNES 2",
          "UNIVERSITE RENNES 1",
          "UNIVERSITE RENNES 1",
          "UNIVERSITE RENNES 1",
          "ECOLE",
          "LYC POLYVAL PRIVE DES METIERS",
          "CENTRES FORM METIERS SANTE",
          "UNIVERSITE RENNES 1",
          "UNIVERSITE RENNES 1",
          "UNIVERSITE",
          "UNIVERSITE",
          "CENTRES FORM METIERS SANTE",
          "UNIVERSITE  BREST",
          "UNIVERSITE",
          "EC SUP GEST COMMERCE FINANCE",
          "E S R A  BRETAGNE",
          "ECOLE TECHNIQUE PRIVEE",
          "ECOLE SUP ARTS TECHNIQUES MODE",
          "ECOLE SUPERIEURE DE COMMERCE",
          "LE PONT SUPERIEUR",
          "ECOLE SUPERIEURE D'ART",
          "GROUPE AFTEC",
          "UNIVERSITE RENNES 1",
          "INST ETUD POLITIQUES RENNES",
          "LYCEE PROFESSIONNEL",
          "UNIVERSITE  BREST",
          "UNIVERSITE RENNES 1",
          "UNIVERSITE RENNES 1",
          "UNIVERSITE RENNES 1",
          "UNIVERSITE",
          "UNIVERSITE RENNES 2",
          "ECOLE TECHNIQUE PRIVEE",
          "ECOLE SUP ARTS TECHNIQUES MODE",
          "ECOLE SUP. D'ART DRAMATIQUE",
          "UNIVERSITE  BREST",
          "UNIVERSITE  BREST",
          "ESMOD INTERNATIONAL",
          "ECOLE SUPERIEURE PRIVEE",
          "INST NAT SC APPLIQ RENNES",
          "UNIVERSITE  BREST",
          "GROUPE AFTEC",
          "UNIVERSITE",
          "UNIVERSITE",
          "CENTRES FORM METIERS SANTE",
          "UNIVERSITE",
          "UNIVERSITE",
          "UNIVERSITE",
          "UNIVERSITE",
          "UNIVERSITE",
          "UNIVERSITE",
          "UNIVERSITE",
          "UNIVERSITE",
          "LP LYCEE DES METIERS",
          "ECOLE POUR L'INFORMATIQUE",
          "UNIVERSITE RENNES 1",
          "UNIVERSITE RENNES 1",
          "UNIVERSITE",
          "ORGANISME FORMATION-CFA",
          "UNIVERSITE  BREST",
          "UNIVERSITE",
          "UNIVERSITE",
          "UNIVERSITE",
          "UNIVERSITE",
          "UNIVERSITE",
          "UNIVERSITE",
          "ECOLE TECHNIQUE PRIVEE",
          "ECOLE",
          "ECOLE TECH SUP PRIVEE INFORMAT",
          "LYC POLYVAL PRIVE DES METIERS",
          "UNIVERSITE RENNES 1",
          "UNIVERSITE RENNES 2",
          "UNIVERSITE  BREST",
          "LYCEE GENERAL ET TECHNOLOGIQUE",
          "ECOLE POUR L'INFORMATIQUE",
          "GROUPE AFTEC",
          "ECOLE TECHNIQUE PRIVEE",
          "ECOLE SUPERIEURE DE COMMERCE",
          "ISTER",
          "ECOLE PRIVEE COIF ESTHETIQUE",
          "EC SUP GEST COMMERCE FINANCE",
          "EC SUP GEST COMMERCE FINANCE",
          "GROUPE AFTEC",
          "LPO LYCEE DES METIERS",
          "GROUPE AFTEC",
          "LE PONT SUPERIEUR",
          "ETAB SUPERIEUR TECHNIQUE PR",
          "UNIVERSITE",
          "UNIVERSITE",
          "UNIVERSITE",
          "UNIVERSITE",
          "ECOLE PRIVEE COIF ESTHETIQUE",
          "LP LYCEE DES METIERS",
          "UNIVERSITE RENNES 1",
          "LYCEE GENERAL ET TECHNOLOGIQUE",
          "UNIVERSITE RENNES 1",
          "UNIVERSITE RENNES 1",
          "INSTITUT AGRO RENNES-ANGERS",
          "ECOLE SUPERIEURE PRIVEE",
          "ETAB SUPERIEUR TECHNIQUE PR",
          "ECOLE SUP. D'ART DRAMATIQUE",
          "ECOLE TECHNIQUE PRIVEE",
          "ECOLE SUPERIEURE PRIVEE",
          "ECOLE SUPERIEURE DE COMMERCE",
          "EC INFORMATIQUE TECH AVANCEES",
          "LYCEE GENERAL ET TECHNOLOGIQUE",
          "ECOLE SUP. D'ART DRAMATIQUE",
          "IS SC AGRO HORT PAYSAGE RENNES",
          "LYC POLYVAL PRIVE des METIERS",
          "UNIVERSITE RENNES 2",
          "LYCEE GENERAL ET TECHNOLOGIQUE",
          "UNIVERSITE  BREST",
          "UNIVERSITE",
          "UNIVERSITE",
          "UNIVERSITE RENNES 1",
          "UNIVERSITE RENNES 1",
          "COMUE UNIV BRETAGNE LOIRE",
          "E S R A  BRETAGNE",
          "UNIVERSITE RENNES 1",
          "INST SUPERIEUR ARTS APPLIQUES",
          "UNIVERSITE",
          "UNIVERSITE",
          "UNIVERSITE",
          "UNIVERSITE",
          "EC HTES ETUD SANTE PUB RENNES",
          "UNIVERSITE RENNES 1",
          "ENS CHIMIE RENNES",
          "LYCEE GENERAL ET TECHNOLOGIQUE",
          "CTRE PREPA CARR SOC PARAMEDIC",
          "LYCEE PROFESSIONNEL",
          "INSTITUT NATIONAL",
          "UNIVERSITE RENNES 1",
          "UNIVERSITE RENNES 1",
          "UNIVERSITE RENNES 1",
          "UNIVERSITE RENNES 1",
          "UNIVERSITE RENNES 1",
          "UNIVERSITE",
          "GROUPE AFTEC",
          "EC INFORMATIQUE TECH AVANCEES",
          "LYCEE GENERAL ET TECHNOLOGIQUE",
          "UNIVERSITE",
          "UNIVERSITE",
          "UNIVERSITE",
          "UNIVERSITE",
          "ECOLE SUP ARTS TECHNIQUES MODE",
          "UNIVERSITE  BREST",
          "UNIVERSITE RENNES 2",
          "ECOLE NAT. SUP. ARCHITECTURE",
          "UNIVERSITE RENNES 1",
          "UNIVERSITE RENNES 1",
          "UNIVERSITE",
          "COMUE UNIV BRETAGNE LOIRE",
          "UNIVERSITE",
          "ECOLE POUR L'INFORMATIQUE",
          "ETAB SUPERIEUR TECHNIQUE PR",
          "GROUPE AFTEC",
          "EC INFORMATIQUE TECH AVANCEES",
          "LYCEE GENERAL ET TECHNOLOGIQUE",
          "LYCEE AGRICOLE PRIVE",
          "UNIVERSITE",
          "INST ETUD POLITIQUES RENNES",
          "LP LYCEE DES METIERS",
          "ECOLE NAT. SUP. ARCHITECTURE",
          "ECOLE SUP. D'ART DRAMATIQUE",
          "CENTRES FORM METIERS SANTE",
          "INSTITUT SUPERIEUR D'OPTIQUE",
          "UNIVERSITE",
          "ECOLE TECH SUP PRIVEE INFORMAT",
          "EC HTES ETUD SANTE PUB RENNES",
          "UNIVERSITE  BREST",
          "INSTITUT SUPERIEUR D'OPTIQUE",
          "COMUE UNIV BRETAGNE LOIRE",
          "EC HTES ETUD SANTE PUB RENNES",
          "UNIVERSITE RENNES 1",
          "LYCEE GENERAL PRIVE",
          "LYCEE GENERAL ET TECHNOLOGIQUE",
          "ECOLE TECH SUP PRIVEE INFORMAT",
          "UNIVERSITE",
          "LYC POLYVAL PRIVE DES METIERS",
          "LYCEE GENERAL ET TECHNOLOGIQUE",
          "CENTRES FORM METIERS SANTE",
          "ECOLE TECHNIQUE PRIVEE",
          "ECOLE SUPERIEURE PRIVEE",
          "UNIVERSITE  BREST",
          "UNIVERSITE  BREST",
          "UNIVERSITE  BREST",
          "UNIVERSITE",
          "UNIVERSITE",
          "UNIVERSITE",
          "UNIVERSITE",
          "UNIVERSITE",
          "UNIVERSITE RENNES 1",
          "UNIVERSITE RENNES 2",
          "ENS CHIMIE RENNES",
          "INSTITUT AGRO RENNES-ANGERS",
          "UNIVERSITE RENNES 1",
          "UNIVERSITE RENNES 2",
          "ECOLE NAT. SUP. ARCHITECTURE",
          "LE PONT SUPERIEUR",
          "EC HTES ETUD SANTE PUB RENNES",
          "LYCEE POLYVALENT PRIVE",
          "UNIVERSITE RENNES 1",
          "SUP OUEST",
          "UNIVERSITE  BREST",
          "E S R A  BRETAGNE",
          "ECOLE SUP. D'ART DRAMATIQUE",
          "LYCEE GENERAL ET TECHNOLOGIQUE",
          "LP LYCEE DES METIERS",
          "CENTRES FORM METIERS SANTE",
          "INSTITUT AGRO RENNES-ANGERS",
          "LYC POLYVAL PRIVE DES METIERS",
          "EC INFORMATIQUE TECH AVANCEES",
          "UNIVERSITE  BREST",
          "UNIVERSITE",
          "UNIVERSITE",
          "INST ETUD POLITIQUES RENNES",
          "UNIVERSITE",
          "UNIVERSITE  BREST",
          "UNIVERSITE  BREST",
          "UNIVERSITE",
          "UNIVERSITE",
          "UNIVERSITE",
          "E S R A  BRETAGNE",
          "ECOLE SUPERIEURE D'ART",
          "EC HTES ETUD SANTE PUB RENNES",
          "ISTER",
          "UNIVERSITE",
          "UNIVERSITE  BREST",
          "UNIVERSITE  BREST",
          "UNIVERSITE  BREST",
          "UNIVERSITE",
          "UNIVERSITE",
          "UNIVERSITE",
          "UNIVERSITE",
          "UNIVERSITE",
          "UNIVERSITE RENNES 1",
          "UNIVERSITE RENNES 2",
          "ECOLE NAT. SUP. ARCHITECTURE",
          "UNIVERSITE RENNES 1",
          "UNIVERSITE RENNES 1",
          "UNIVERSITE RENNES 1",
          "UNIVERSITE",
          "UNIVERSITE",
          "EC INFORMATIQUE TECH AVANCEES",
          "LP LYCEE DES METIERS",
          "LYCEE GEN ET TECHNOL PRIVE",
          "UNIVERSITE RENNES 2",
          "ECOLE SUP. D'ART DRAMATIQUE",
          "ECOLE SUPERIEURE PRIVEE",
          "ECOLE NORMALE SUP RENNES",
          "ECOLE SUPERIEURE DE COMMERCE",
          "UNIVERSITE",
          "INST ETUD POLITIQUES RENNES",
          "UNIVERSITE",
          "UNIVERSITE",
          "UNIVERSITE  BREST",
          "UNIVERSITE RENNES 2",
          "ECOLE NAT. SUP. ARCHITECTURE",
          "ECOLE SUPERIEURE D'ART",
          "INSTITUT NATIONAL",
          "UNIVERSITE RENNES 1",
          "LYCEE GENERAL ET TECHNOLOGIQUE",
          "LP LYCEE DES METIERS",
          "LYCEE GENERAL ET TECHNOLOGIQUE",
          "UNIVERSITE  BREST",
          "UNIVERSITE RENNES 1",
          "COMUE UNIV BRETAGNE LOIRE",
          "SUP OUEST",
          "INST SUPERIEUR ARTS APPLIQUES",
          "CENTRE DE FORMATION",
          "LYCEE GENERAL ET TECHNOLOGIQUE",
          "UNIVERSITE  BREST",
          "UNIVERSITE",
          "LE PONT SUPERIEUR",
          "ECOLE SUPERIEURE D'ART",
          "ECOLE POUR L'INFORMATIQUE",
          "UNIVERSITE RENNES 1",
          "GROUPE AFTEC",
          "INSTITUT NATIONAL SCIENCES APP",
          "ECOLE SUPERIEURE TECHNIQUE PRI",
          "CENTRE DE FORMATION",
          "ECOLE DES METIERS SANITAIRES E",
          "ECOLE SUPERIEURE PRIVEE",
          "ECOLE TECHNIQUE SUPERIEURE PRI",
          "INST ETUD POLITIQUES RENNES",
          "UNIVERSITE",
          "UNIVERSITE",
          "UNIVERSITE",
          "UNIVERSITE",
          "UNIVERSITE",
          "UNIVERSITE",
          "ECOLE POUR L'INFORMATIQUE",
          "ECOLE TECH SUP PRIVEE INFORMAT",
          "ECOLE NAT. SUP. ARCHITECTURE",
          "ECOLE TECHNIQUE PRIVEE",
          "ECOLE SUP ET TECHNIQUE PRIVEE",
          "SUP OUEST",
          "LYCEE GEN.ET TECHNOL.PRIVE",
          "LYCEE AGRICOLE PRIVE",
          "UNIVERSITE  BREST",
          "ECOLE SUPERIEURE D'ART",
          "INSTITUT SUPERIEUR D'OPTIQUE",
          "ECOLE TECHNIQUE SUPERIEURE PRI",
          "LYCEE POLYVALENT PRIVE",
          "LYC POLYVAL PRIVE DES METIERS",
          "LYCEE GENERAL ET TECHNOLOGIQUE",
          "SUP OUEST",
          "ETAB SUPERIEUR TECHNIQUE PR",
          "LYCEE GENERAL ET TECHNOLOGIQUE",
          "UNIVERSITE RENNES 1",
          "UNIVERSITE RENNES 1",
          "LYCEE GENERAL ET TECHNOLOGIQUE",
          "E S R A  BRETAGNE",
          "INST SUPERIEUR ARTS APPLIQUES",
          "ECOLE DES METIERS SANITAIRES E",
          "INSTITUT AGRO RENNES-ANGERS",
          "LYCEE GENERAL ET TECHNOLOGIQUE",
          "LP LYCEE DES METIERS",
          "UNIVERSITE",
          "UNIVERSITE",
          "UNIVERSITE",
          "ECOLE NAT. SUP. ARCHITECTURE",
          "INST SUPERIEUR ARTS APPLIQUES",
          "UNIVERSITE",
          "ECOLE",
          "LYC POLYVAL PRIVE des METIERS",
          "UNIVERSITE RENNES 2",
          "GROUPE AFTEC",
          "GROUPE AFTEC",
          "UNIVERSITE  BREST",
          "UNIVERSITE RENNES 2",
          "INSTITUT SUPERIEUR D'OPTIQUE",
          "ECOLE SUPERIEURE DE COMMERCE",
          "GROUPE AFTEC",
          "UNIVERSITE RENNES 1",
          "COMUE UNIV BRETAGNE LOIRE",
          "EC HTES ETUD SANTE PUB RENNES",
          "ECOLE TECHNIQUE PRIVEE",
          "IS SC AGRO HORT PAYSAGE RENNES",
          "CENTRE DE FORMATION",
          "IS SC AGRO HORT PAYSAGE RENNES",
          "LYCEE GEN ET TECHNOL PRIVE",
          "UNIVERSITE",
          "UNIVERSITE",
          "UNIVERSITE",
          "UNIVERSITE",
          "UNIVERSITE",
          "LE PONT SUPERIEUR",
          "INSTITUT NATIONAL",
          "LYCEE GENERAL",
          "ECOLE TECHNIQUE PRIVEE",
          "ECOLE TECHNIQUE PRIVEE",
          "UNIVERSITE RENNES 1",
          "LYCEE GENERAL ET TECHNOLOGIQUE",
          "LP LYCEE DES METIERS",
          "UNIVERSITE RENNES 1",
          "UNIVERSITE RENNES 1",
          "LYCEE GEN ET TECHNOL PRIVE",
          "ECOLE SUPERIEURE DE COMMERCE",
          "UNIVERSITE",
          "UNIVERSITE",
          "UNIVERSITE",
          "UNIVERSITE  BREST",
          "INSTITUT NATIONAL SCIENCES APP",
          "UNIVERSITE  BREST",
          "UNIVERSITE  BREST",
          "UNIVERSITE",
          "UNIVERSITE",
          "UNIVERSITE",
          "GROUPE AFTEC",
          "UNIVERSITE",
          "UNIVERSITE",
          "LP LYCEE DES METIERS",
          "LYCEE GENERAL",
          "ECOLE SUPERIEURE DE COMMERCE",
          "LYCEE GENERAL ET TECHNOLOGIQUE",
          "INST NAT SC APPLIQ RENNES",
          "ETAB SUPERIEUR TECHNIQUE PR",
          "LYCEE GEN.ET TECHNOL.PRIVE",
          "INST SUPERIEUR ARTS APPLIQUES",
          "ECOLE TECH SUP PRIVEE INFORMAT",
          "LYCEE GENERAL ET TECHNOLOGIQUE",
          "ETAB SUPERIEUR TECHNIQUE PR",
          "ECOLE SUP ARTS TECHNIQUES MODE",
          "INST SUPERIEUR ARTS APPLIQUES",
          "EC SUP GEST COMMERCE FINANCE",
          "EC SUP GEST COMMERCE FINANCE",
          "ENS CHIMIE RENNES",
          "INSTITUT NATIONAL SCIENCES APP",
          "LYCEE GENERAL ET TECHNOLOGIQUE",
          "LP LYCEE DES METIERS",
          "ENS CHIMIE RENNES",
          "UNIVERSITE",
          "CENTRES FORM METIERS SANTE",
          "UNIVERSITE",
          "UNIVERSITE",
          "ECOLE TECHNIQUE PRIVEE",
          "ETAB SUPERIEUR TECHNIQUE PR",
          "UNIVERSITE",
          "UNIVERSITE",
          "UNIVERSITE",
          "UNIVERSITE",
          "INST NAT SC APPLIQ RENNES",
          "EC SUP GEST COMMERCE FINANCE",
          "GROUPE AFTEC",
          "ENS CHIMIE RENNES",
          "INST SUPERIEUR ARTS APPLIQUES",
          "ECOLE DES METIERS SANITAIRES E",
          "COMUE UNIV BRETAGNE LOIRE",
          "ECOLE TECHNIQUE PRIVEE",
          "LP LYCEE DES METIERS",
          "UNIVERSITE RENNES 1",
          "UNIVERSITE",
          "UNIVERSITE",
          "UNIVERSITE",
          "UNIVERSITE",
          "ECOLE",
          "SUP OUEST",
          "UNIVERSITE  BREST",
          "UNIVERSITE RENNES 1",
          "UNIVERSITE RENNES 1",
          "UNIVERSITE RENNES 2",
          "INSTITUT AGRO RENNES-ANGERS",
          "INSTITUT NATIONAL SCIENCES APP",
          "LYCEE GEN.ET TECHNOL.PRIVE",
          "INST NAT SC APPLIQ RENNES",
          "LYCEE GEN ET TECHNOL PRIVE",
          "LYCEE GENERAL PRIVE",
          "LYCEE GENERAL ET TECHNOLOGIQUE",
          "INST FORM MASSO-KINESITHERAPIE",
          "E S R A  BRETAGNE",
          "ETAB SUPERIEUR TECHNIQUE PR",
          "FACULTES LIBRES DE L'OUEST",
          "UNIVERSITE  BREST",
          "ECOLE DES METIERS SANITAIRES E",
          "ECOLE NAT. SUP. ARCHITECTURE",
          "ECOLE SUPERIEURE DE COMMERCE",
          "GROUPE AFTEC",
          "ECOLE SUPERIEURE DE COMMERCE",
          "ECOLE NAT. SUP. ARCHITECTURE",
          "UNIVERSITE  BREST",
          "UNIVERSITE  BREST",
          "UNIVERSITE  BREST",
          "UNIVERSITE RENNES 2",
          "LYCEE PROFESSIONNEL",
          "GROUPE AFTEC",
          "SUP OUEST",
          "UNIVERSITE RENNES 1",
          "LYCEE GENERAL ET TECHNOLOGIQUE",
          "LYCEE AGRICOLE PRIVE",
          "LP LYCEE DES METIERS",
          "UNIVERSITE RENNES 1",
          "UNIVERSITE RENNES 1",
          "UNIVERSITE RENNES 2",
          "LYC POLYVAL PRIVE DES METIERS",
          "ECOLE TECHNIQUE PRIVEE",
          "LP LYCEE DES METIERS",
          "LYCEE GENERAL ET TECHNOLOGIQUE",
          "ECOLE DES METIERS SANITAIRES E",
          "UNIVERSITE  BREST",
          "UNIVERSITE",
          "ORGANISME FORMATION-CFA",
          "GROUPE AFTEC",
          "UNIVERSITE RENNES 1",
          "EC INFORMATIQUE TECH AVANCEES",
          "LYCEE GENERAL ET TECHNOLOGIQUE",
          "UNIVERSITE RENNES 1",
          "UNIVERSITE RENNES 1",
          "COMUE UNIV BRETAGNE LOIRE",
          "LYC POLYVAL PRIVE des METIERS",
          "ECOLE TECHNIQUE PRIVEE",
          "UNIVERSITE RENNES 1",
          "ECOLE POUR L'INFORMATIQUE",
          "ETAB SUPERIEUR TECHNIQUE PR",
          "ORGANISME FORMATION-CFA",
          "ECOLE NAT. SUP. ARCHITECTURE",
          "LYCEE GENERAL PRIVE",
          "UNIVERSITE RENNES 2",
          "ECOLE DES METIERS SANITAIRES E",
          "UNIVERSITE RENNES 1",
          "ECOLE NAT. SUP. ARCHITECTURE",
          "ISTER",
          "EC SUP GEST COMMERCE FINANCE",
          "INSTITUT AGRO RENNES-ANGERS",
          "UNIVERSITE RENNES 1",
          "LYCEE GENERAL ET TECHNOLOGIQUE",
          "UNIVERSITE RENNES 2",
          "ECOLE TECHNIQUE PRIVEE",
          "ENS CHIMIE RENNES",
          "LYCEE POLYVALENT PRIVE",
          "UNIVERSITE",
          "INST ETUD POLITIQUES RENNES",
          "UNIVERSITE",
          "ECOLE SUPERIEURE DE COMMERCE",
          "UNIVERSITE",
          "UNIVERSITE",
          "UNIVERSITE",
          "UNIVERSITE",
          "UNIVERSITE RENNES 2",
          "INSTITUT NATIONAL",
          "UNIVERSITE RENNES 1",
          "LYCEE POLYVALENT PRIVE",
          "CENTRES FORM METIERS SANTE",
          "UNIVERSITE RENNES 2",
          "UNIVERSITE RENNES 2",
          "LPO LYCEE DES METIERS",
          "COMUE UNIV BRETAGNE LOIRE",
          "C F P N",
          "UNIVERSITE  BREST",
          "UNIVERSITE  BREST",
          "UNIVERSITE RENNES 1",
          "UNIVERSITE",
          "UNIVERSITE",
          "ECOLE TECH SUP PRIVEE INFORMAT",
          "UNIVERSITE  BREST",
          "UNIVERSITE RENNES 1",
          "UNIVERSITE RENNES 1",
          "UNIVERSITE RENNES 1",
          "UNIVERSITE RENNES 1",
          "UNIVERSITE RENNES 1",
          "UNIVERSITE",
          "UNIVERSITE",
          "INST ETUD POLITIQUES RENNES",
          "ECOLE NAT. SUP. ARCHITECTURE",
          "ECOLE SUP ARTS TECHNIQUES MODE",
          "INST SUPERIEUR ARTS APPLIQUES",
          "ECOLE SUPERIEURE DE COMMERCE",
          "UNIVERSITE",
          "UNIVERSITE",
          "UNIVERSITE  BREST",
          "UNIVERSITE  BREST",
          "UNIVERSITE RENNES 1",
          "UNIVERSITE RENNES 1",
          "UNIVERSITE RENNES 1",
          "UNIVERSITE RENNES 1",
          "UNIVERSITE RENNES 1",
          "UNIVERSITE",
          "LYCEE GEN.ET TECHNOL.PRIVE",
          "UNIVERSITE",
          "UNIVERSITE",
          "UNIVERSITE",
          "UNIVERSITE",
          "UNIVERSITE",
          "UNIVERSITE",
          "ECOLE TECHNIQUE PRIVEE",
          "ECOLE SUPERIEURE D'ART",
          "INST NAT SC APPLIQ RENNES",
          "UNIVERSITE RENNES 1",
          "UNIVERSITE RENNES 2",
          "CENTRES FORM METIERS SANTE",
          "INST SUPERIEUR ARTS APPLIQUES",
          "UNIVERSITE  BREST",
          "UNIVERSITE",
          "UNIVERSITE",
          "UNIVERSITE",
          "UNIVERSITE",
          "UNIVERSITE",
          "UNIVERSITE",
          "ECOLE SUP. D'ART DRAMATIQUE",
          "LPO LYCEE DES METIERS",
          "ECOLE DES METIERS SANITAIRES E",
          "COLLEGE COOPERATIF EN BRETAGNE",
          "UNIVERSITE RENNES 2",
          "LPO LYCEE DES METIERS",
          "LYCEE AGRICOLE PRIVE",
          "LYCEE GENERAL ET TECHNOLOGIQUE",
          "INST FORM MASSO-KINESITHERAPIE",
          "CENTRES FORM METIERS SANTE",
          "UNIVERSITE  BREST",
          "UNIVERSITE",
          "UNIVERSITE",
          "UNIVERSITE",
          "UNIVERSITE",
          "UNIVERSITE RENNES 1",
          "EC HTES ETUD SANTE PUB RENNES",
          "ECOLE TECHNIQUE PRIVEE",
          "LPO LYCEE DES METIERS",
          "LYC POLYVAL PRIVE DES METIERS",
          "UNIVERSITE  BREST",
          "UNIVERSITE RENNES 2",
          "LYCEE GEN ET TECHNOL PRIVE",
          "LYC POLYVAL PRIVE DES METIERS",
          "LYCEE GENERAL ET TECHNOLOGIQUE",
          "UNIVERSITE RENNES 1",
          "ECOLE DES METIERS SANITAIRES E",
          "UNIVERSITE RENNES 1",
          "ECOLE NAT. SUP. ARCHITECTURE",
          "ECOLE SUP ARTS TECHNIQUES MODE",
          "UNIVERSITE RENNES 1",
          "COMUE UNIV BRETAGNE LOIRE",
          "ECOLE SUP ARTS TECHNIQUES MODE",
          "INSTITUT SUPERIEUR D'OPTIQUE",
          "UNIVERSITE",
          "UNIVERSITE",
          "LP LYCEE DES METIERS",
          "ENS CHIMIE RENNES",
          "INST NAT SC APPLIQ RENNES",
          "UNIVERSITE",
          "UNIVERSITE",
          "UNIVERSITE",
          "ENS CHIMIE RENNES",
          "UNIVERSITE RENNES 2",
          "UNIVERSITE RENNES 2",
          "LYCEE GENERAL",
          "UNIVERSITE RENNES 1",
          "UNIVERSITE RENNES 1",
          "UNIVERSITE RENNES 1"
         ],
         "type": "scattermapbox"
        },
        {
         "hovertemplate": "<b>%{text}</b><br>Étudiants: %{marker.size}<br>Secteur: %{marker.color}<extra></extra>",
         "lat": {
          "bdata": "OBoKubduRkDVlmieHGxGQIzpqPTobkZAUf7byPdtRkCqqo5wCG1GQHeLCzKoaUZAUf7byPdtRkCtzKHO9GtGQAS/rq6paUZAMuxtotZsRkABKsFpTGpGQNhblnINbkZAQsRCeHhpRkBkxaYeqWlGQFHtmUDEaUZAcarRrmZqRkCJYDFKH2xGQCH10f6+bkZAFf+oo4NqRkDoc8S/GWpGQFjPNFULbkZAMPrzg8ttRkB9N9yMg2xGQIYb6WlzbUZA6vTh8mVqRkBt0R/0DWxGQDYxrIPCbkZA9GLtiLFpRkASHu46O2xGQFN45gSBakZANppPFlxtRkD0Yu2IsWlGQGTFph6paUZAyVg4TsFuRkBVM+zIdmxGQKqqjnAIbUZAuLy17vVtRkBYzzRVC25GQDD684PLbUZAoKptIa9qRkDE+ymPJWpGQFHtmUDEaUZALkavOtlpRkDoc8S/GWpGQDgaCrm3bkZAjzbOvb5pRkCPNs69vmlGQIzpqPTobkZAjOmo9OhuRkAJJysUwG5GQO3ODbPrakZAMPrzg8ttRkB9N9yMg2xGQKqqjnAIbUZAfTfcjINsRkApGhmtTWlGQNf6DJuMbkZAbdEf9A1sRkB9N9yMg2xGQHGq0a5makZAHjoNsk5qRkAUlWPAampGQDYxrIPCbkZA7c4Ns+tqRkB2QrKBeWxGQIfSFcCDakZAh9IVwINqRkDJOQ+Zp2lGQKZYH//FbEZAN8Gqz99tRkC4vLXu9W1GQJltYy2NbkZAHGiVJR5sRkBt0R/0DWxGQI+itr6QbUZAVTPsyHZsRkCtzKHO9GtGQB46DbJOakZANjGsg8JuRkDtzg2z62pGQJ87j8Hba0ZAkI/9OkBtRkBR7ZlAxGlGQGHlM55nakZAiWAxSh9sRkCJYDFKH2xGQBIe7jo7bEZAbX4XygxuRkBf+i7LxGxGQF/6LsvEbEZAC5pHoI9uRkBt0R/0DWxGQKqqjnAIbUZAj6K2vpBtRkDJWDhOwW5GQOr04fJlakZAh9IVwINqRkDK6f16lmlGQGFkJzQrakZAhD9lrhBsRkCH0hXAg2pGQMT7KY8lakZAxPspjyVqRkChM88YiGtGQE8qUJlAbUZAOBoKubduRkAVUXQXwG5GQJ9nK9jna0ZAQF4c9w5tRkBt0R/0DWxGQI+itr6QbUZAYWQnNCtqRkDGR4Dvb2tGQOaIS1JmakZAdkKygXlsRkBPKlCZQG1GQELLiJUSaEZAplgf/8VsRkAVUXQXwG5GQK7U+xJLbUZAZMWmHqlpRkCU4FSLr2pGQLi8te71bUZAE86TTmppRkBRQk/4+GxGQBX/qKODakZANjGsg8JuRkAIHIi4M2tGQM0vswDdbUZAjzbOvb5pRkBIvHovkGpGQBxolSUebEZALYpAmudtRkCM6aj06G5GQLTpax3xa0ZA1/oMm4xuRkDX+gybjG5GQMk5D5mnaUZA1ZZonhxsRkCM6aj06G5GQGHlM55nakZAhhvpaXNtRkBAXhz3Dm1GQKLqzOTFbEZASLx6L5BqRkDq9OHyZWpGQN/b6g9ib0ZAX/ouy8RsRkAeOg2yTmpGQMlYOE7BbkZASW+v+iNmRkATzpNOamlGQLGj4H5TbUZAC5pHoI9uRkCQj/06QG1GQAuaR6CPbkZAuLy17vVtRkCM6aj06G5GQKv+9QoqcEZAUUJP+PhsRkA6AvkX62tGQDYxrIPCbkZAUf7byPdtRkABKsFpTGpGQOr04fJlakZAMPrzg8ttRkAeOg2yTmpGQMZHgO9va0ZAxPspjyVqRkDJWDhOwW5GQPWwF85UbUZALkavOtlpRkASHu46O2xGQDgaCrm3bkZAQF4c9w5tRkBRQk/4+GxGQK8oHmaRbkZAbdEf9A1sRkAh9dH+vm5GQHXoACefa0ZAFVF0F8BuRkAT3Pf332tGQDfBqs/fbUZAFf+oo4NqRkA7yRU3TWtGQBIKKmY7akZAIfXR/r5uRkBaZ4xDjmpGQBxolSUebEZAcarRrmZqRkBRQk/4+GxGQN/b6g9ib0ZAFJVjwGpqRkDD29gz1m5GQAS/rq6paUZANjGsg8JuRkApGhmtTWlGQG3RH/QNbEZAWmeMQ45qRkDioldvHGtGQC570MVRcEZAzS+zAN1tRkCu1PsSS21GQBxolSUebEZAUe2ZQMRpRkBh5TOeZ2pGQFjPNFULbkZAbX4XygxuRkBTeOYEgWpGQMHrUoWrakZA1/oMm4xuRkA2mk8WXG1GQHXoACefa0ZAUUJP+PhsRkASHu46O2xGQMT7KY8lakZAtOlrHfFrRkAv9tHze21GQC/20fN7bUZAbTjYjwhtRkAg1krgnG9GQCDWSuCcb0ZAkI/9OkBtRkBJb6/6I2ZGQHeLCzKoaUZANjGsg8JuRkA2MayDwm5GQEvJfdMrcEZAwbD0gVNqRkABKsFpTGpGQFHtmUDEaUZAlOBUi69qRkAeOg2yTmpGQB46DbJOakZANjGsg8JuRkAJJysUwG5GQFFCT/j4bEZAOBoKubduRkDioldvHGtGQM0vswDdbUZAUf7byPdtRkAuRq862WlGQLi8te71bUZALYpAmudtRkBR/tvI921GQKqqjnAIbUZAFVF0F8BuRkBf+i7LxGxGQBPOk05qaUZAHjoNsk5qRkALmkegj25GQG042I8IbUZANjGsg8JuRkBR/tvI921GQBIe7jo7bEZABL+urqlpRkDGR4Dvb2tGQMlYOE7BbkZAjzbOvb5pRkBoqI+HU2pGQK8oHmaRbkZAU3jmBIFqRkAVMVM4vm5GQF/6LsvEbEZAbTjYjwhtRkCmWB//xWxGQJ9nK9jna0ZAourM5MVsRkD0Yu2IsWlGQBPOk05qaUZAoTPPGIhrRkCH0hXAg2pGQOaIS1JmakZArygeZpFuRkBAXhz3Dm1GQFHtmUDEaUZA6vTh8mVqRkC8XSb14mpGQFHtmUDEaUZAWM80VQtuRkCvKB5mkW5GQH033IyDbEZAOgL5F+trRkCfACtejm5GQAuaR6CPbkZAKRoZrU1pRkC5TW6y529GQJBxNtNBcEZANjGsg8JuRkCU4FSLr2pGQK7U+xJLbUZAoKptIa9qRkAy7G2i1mxGQFFCT/j4bEZArcyhzvRrRkBPKlCZQG1GQCkaGa1NaUZAlOBUi69qRkBaZ4xDjmpGQBVRdBfAbkZAFf+oo4NqRkB2QrKBeWxGQOhzxL8ZakZACByIuDNrRkCYFI5rUm1GQHGq0a5makZAyun9epZpRkAw+vODy21GQLTpax3xa0ZAEh7uOjtsRkCGG+lpc21GQDgaCrm3bkZAuLy17vVtRkDBsPSBU2pGQPRi7YixaUZAd4sLMqhpRkAuRq862WlGQMPb2DPWbkZAiWAxSh9sRkCQcTbTQXBGQC5GrzrZaUZAUUJP+PhsRkA2MayDwm5GQK3Moc70a0ZABL+urqlpRkAh9dH+vm5GQE8qUJlAbUZAn2cr2OdrRkApGhmtTWlGQK7U+xJLbUZAourM5MVsRkCU4FSLr2pGQFHtmUDEaUZAlOBUi69qRkAuRq862WlGQLxdJvXiakZAX/ouy8RsRkCIdHnqa21GQBxolSUebEZAMPrzg8ttRkC8XSb14mpGQAgciLgza0ZAzS+zAN1tRkASCipmO2pGQGTFph6paUZAE86TTmppRkDD29gz1m5GQEYSyrENbEZArygeZpFuRkB9N9yMg2xGQDoC+Rfra0ZA2Cod4GBuRkBLyX3TK3BGQKZYH//FbEZACScrFMBuRkCfZyvY52tGQCH10f6+bkZAdegAJ59rRkA6AvkX62tGQMXpe89TbUZAQF4c9w5tRkAuRq862WlGQG3RH/QNbEZAyVg4TsFuRkBJb6/6I2ZGQJ8AK16ObkZAj6K2vpBtRkDJWDhOwW5GQFUz7Mh2bEZA8eT38N5tRkAVUXQXwG5GQMrp/XqWaUZAn2cr2OdrRkDGR4Dvb2tGQEYSyrENbEZArygeZpFuRkDf2+oPYm9GQBVRdBfAbkZAUe2ZQMRpRkBh5TOeZ2pGQGHlM55nakZAiWAxSh9sRkDBsPSBU2pGQCH10f6+bkZAEh7uOjtsRkDioldvHGtGQC570MVRcEZAyVg4TsFuRkCvKB5mkW5GQBSVY8BqakZAbTjYjwhtRkCTnpsoF3BGQE8qUJlAbUZAC5pHoI9uRkAv9tHze21GQDoC+Rfra0ZAUf7byPdtRkAh9dH+vm5GQKLqzOTFbEZAO8kVN01rRkBcM8JaPWpGQLGj4H5TbUZAnwArXo5uRkBRQk/4+GxGQGTFph6paUZAASrBaUxqRkBR7ZlAxGlGQPRi7YixaUZAQsRCeHhpRkA6AvkX62tGQGioj4dTakZAWmeMQ45qRkA4Ggq5t25GQMPb2DPWbkZAnwArXo5uRkCQj/06QG1GQDD684PLbUZAFJVjwGpqRkCmWB//xWxGQJCP/TpAbUZAn2cr2OdrRkBhZCc0K2pGQMrp/XqWaUZAHGiVJR5sRkCmWB//xWxGQCkaGa1NaUZAFVF0F8BuRkDX+gybjG5GQCDWSuCcb0ZAL/bR83ttRkCi6szkxWxGQKZYH//FbEZAourM5MVsRkDX+gybjG5GQIh0eeprbUZATypQmUBtRkB3iwsyqGlGQHeLCzKoaUZAHjoNsk5qRkDF6XvPU21GQFwzwlo9akZAkI/9OkBtRkBLyX3TK3BGQI+itr6QbUZAj6K2vpBtRkCIdHnqa21GQIh0eeprbUZAcvr+rqhtRkBVM+zIdmxGQBPOk05qaUZAhhvpaXNtRkA4Ggq5t25GQMPb2DPWbkZAplgf/8VsRkBR7ZlAxGlGQPRi7YixaUZAASrBaUxqRkBCxEJ4eGlGQOhzxL8ZakZAjOmo9OhuRkCEP2WuEGxGQFHtmUDEaUZA9GLtiLFpRkDmiEtSZmpGQIlgMUofbEZAIfXR/r5uRkAshpUWwm5GQBPOk05qaUZAxPspjyVqRkBtfhfKDG5GQB46DbJOakZAyVg4TsFuRkBtONiPCG1GQI+itr6QbUZAaKiPh1NqRkDmiEtSZmpGQJTgVIuvakZAmW1jLY1uRkDGR4Dvb2tGQBxolSUebEZAiWAxSh9sRkBy+v6uqG1GQAuaR6CPbkZA1ZZonhxsRkBh5TOeZ2pGQFjPNFULbkZAq/71CipwRkBCxEJ4eGlGQOaIS1JmakZAiWAxSh9sRkDGR4Dvb2tGQF/6LsvEbEZAqqqOcAhtRkCvKB5mkW5GQDoC+Rfra0ZA5ohLUmZqRkCJYDFKH2xGQBVRdBfAbkZAfTfcjINsRkAIHIi4M2tGQBPOk05qaUZA4qJXbxxrRkAeOg2yTmpGQAgciLgza0ZAxel7z1NtRkABKsFpTGpGQBIKKmY7akZAyVg4TsFuRkBVM+zIdmxGQMZHgO9va0ZAj6K2vpBtRkCu1PsSS21GQJBxNtNBcEZAQ/qDXVRtRkCQcTbTQXBGQBPc9/ffa0ZARhLKsQ1sRkALmkegj25GQNhblnINbkZAiHR56mttRkBy+v6uqG1GQHL6/q6obUZAnwArXo5uRkD0Yu2IsWlGQGHlM55nakZAYeUznmdqRkAV/6ijg2pGQGTFph6paUZAfTfcjINsRkCvKB5mkW5GQH033IyDbEZAKRoZrU1pRkA2MayDwm5GQAknKxTAbkZAxel7z1NtRkBkxaYeqWlGQFwzwlo9akZAcarRrmZqRkAcaJUlHmxGQPRi7YixaUZAzS+zAN1tRkC5TW6y529GQC570MVRcEZAE86TTmppRkBoqI+HU2pGQLlNbrLnb0ZALYpAmudtRkBYzzRVC25GQIYb6WlzbUZAcvr+rqhtRkBCxEJ4eGlGQAS/rq6paUZArcyhzvRrRkAy7G2i1mxGQDfBqs/fbUZAOBoKubduRkCi6szkxWxGQOr04fJlakZAASrBaUxqRkBR7ZlAxGlGQHGq0a5makZAX/ouy8RsRkCIdHnqa21GQE8qUJlAbUZATypQmUBtRkBt0R/0DWxGQFjPNFULbkZAd4sLMqhpRkCi6szkxWxGQFHtmUDEaUZAX/ouy8RsRkBAXhz3Dm1GQCkaGa1NaUZAxkeA729rRkBCxEJ4eGlGQBX/qKODakZAUUJP+PhsRkDE+ymPJWpGQDD684PLbUZAvF0m9eJqRkDf2+oPYm9GQB46DbJOakZA1/oMm4xuRkBRQk/4+GxGQFFCT/j4bEZAFTFTOL5uRkALmkegj25GQMGw9IFTakZArygeZpFuRkBTeOYEgWpGQDD684PLbUZAkI/9OkBtRkALmkegj25GQCyGlRbCbkZAHjoNsk5qRkApGhmtTWlGQC2KQJrnbUZA6vTh8mVqRkCmWB//xWxGQGTFph6paUZAd4sLMqhpRkBYzzRVC25GQMT7KY8lakZAOBoKubduRkBR/tvI921GQJ9nK9jna0ZAiHR56mttRkDtzg2z62pGQIlgMUofbEZAq/71CipwRkASCipmO2pGQCDWSuCcb0ZAC5pHoI9uRkB16AAnn2tGQCH10f6+bkZAWmeMQ45qRkDBsPSBU2pGQFHtmUDEaUZAKRoZrU1pRkDJWDhOwW5GQEBeHPcObUZArtT7EkttRkASHu46O2xGQG3RH/QNbEZAUf7byPdtRkCqqo5wCG1GQLTx7e3mbUZA4qJXbxxrRkAuRq862WlGQFFCT/j4bEZAHGiVJR5sRkBxqtGuZmpGQKCqbSGvakZAplgf/8VsRkAh9dH+vm5GQGioj4dTakZA9GLtiLFpRkBh5TOeZ2pGQOaIS1JmakZAfTfcjINsRkAue9DFUXBGQK3Moc70a0ZAFf+oo4NqRkBkxaYeqWlGQDD684PLbUZA7c4Ns+tqRkAcaJUlHmxGQI82zr2+aUZAd4sLMqhpRkC8XSb14mpGQHGq0a5makZAqqqOcAhtRkCIdHnqa21GQAuaR6CPbkZAdegAJ59rRkBaZ4xDjmpGQELEQnh4aUZAbdEf9A1sRkAy7G2i1mxGQB46DbJOakZAMPrzg8ttRkAEv66uqWlGQEYSyrENbEZA1/oMm4xuRkAuRq862WlGQMZHgO9va0ZATypQmUBtRkBaZ4xDjmpGQJ9nK9jna0ZArtT7EkttRkASHu46O2xGQBIKKmY7akZA1/oMm4xuRkAcaJUlHmxGQPRi7YixaUZAbX4XygxuRkBy+v6uqG1GQE8qUJlAbUZAOBoKubduRkBCxEJ4eGlGQKLqzOTFbEZA1ZZonhxsRkB3iwsyqGlGQIlgMUofbEZAZMWmHqlpRkA7yRU3TWtGQIlgMUofbEZAkI/9OkBtRkDJWDhOwW5GQNWWaJ4cbEZAuU1usudvRkCQcTbTQXBGQBSVY8BqakZArygeZpFuRkBR7ZlAxGlGQFFCT/j4bEZA7c4Ns+tqRkApGhmtTWlGQBVRdBfAbkZALIaVFsJuRkA3warP321GQGHlM55nakZAxPspjyVqRkDYW5ZyDW5GQI+itr6QbUZABL+urqlpRkDmiEtSZmpGQLTpax3xa0ZAsaPgflNtRkCvKB5mkW5GQELEQnh4aUZAYeUznmdqRkB3iwsyqGlGQOr04fJlakZAFf+oo4NqRkASCipmO2pGQOKiV28ca0ZAC5pHoI9uRkDioldvHGtGQOaIS1JmakZAL/bR83ttRkDJWDhOwW5GQFUz7Mh2bEZAk56bKBdwRkCPNs69vmlGQBPOk05qaUZAQF4c9w5tRkC4vLXu9W1GQFUz7Mh2bEZAbdEf9A1sRkBt0R/0DWxGQOr04fJlakZAMPrzg8ttRkALmkegj25GQJTgVIuvakZAiHR56mttRkBaZ4xDjmpGQNWWaJ4cbEZALkavOtlpRkAeOg2yTmpGQJBxNtNBcEZAtOlrHfFrRkDF6XvPU21GQOhzxL8ZakZAlOBUi69qRkBxqtGuZmpGQDYxrIPCbkZA6HPEvxlqRkAuRq862WlGQPRi7YixaUZA5ohLUmZqRkDmiEtSZmpGQELLiJUSaEZAxel7z1NtRkCIdHnqa21GQHL6/q6obUZArcyhzvRrRkBPKlCZQG1GQFwzwlo9akZAxPspjyVqRkASCipmO2pGQJCP/TpAbUZAjzbOvb5pRkBR7ZlAxGlGQBIe7jo7bEZAxPspjyVqRkBLyX3TK3BGQFUz7Mh2bEZAwbD0gVNqRkBoqI+HU2pGQOaIS1JmakZAIfXR/r5uRkCxo+B+U21GQJ8AK16ObkZArcyhzvRrRkAh9dH+vm5GQKLqzOTFbEZAIfXR/r5uRkAIHIi4M2tGQMHrUoWrakZAfNHlqqxpRkBLyX3TK3BGQDD684PLbUZAvF0m9eJqRkCGG+lpc21GQDYxrIPCbkZAWmeMQ45qRkBhZCc0K2pGQDYxrIPCbkZAS8l90ytwRkALmkegj25GQMPb2DPWbkZAZMWmHqlpRkBh5TOeZ2pGQI+itr6QbUZALYpAmudtRkDBsPSBU2pGQKZYH//FbEZAplgf/8VsRkAcaJUlHmxGQKZYH//FbEZAjzbOvb5pRkBxqtGuZmpGQH033IyDbEZAbTjYjwhtRkA2MayDwm5GQJCP/TpAbUZAqqqOcAhtRkAh9dH+vm5GQElvr/ojZkZAWmeMQ45qRkAy7G2i1mxGQK3Moc70a0ZAKRoZrU1pRkCmWB//xWxGQFH+28j3bUZAj6K2vpBtRkCPora+kG1GQAuaR6CPbkZAdegAJ59rRkCTnpsoF3BGQE8qUJlAbUZAxPspjyVqRkCqqo5wCG1GQAEqwWlMakZAFTFTOL5uRkDf2+oPYm9GQIh0eeprbUZAdegAJ59rRkB16AAnn2tGQB46DbJOakZAjOmo9OhuRkDBsPSBU2pGQG1+F8oMbkZAnwArXo5uRkBRQk/4+GxGQBIKKmY7akZARhLKsQ1sRkCPNs69vmlGQBxolSUebEZAEh7uOjtsRkCvKB5mkW5GQF/6LsvEbEZABL+urqlpRkCgqm0hr2pGQOhzxL8ZakZAmBSOa1JtRkDJWDhOwW5GQOKiV28ca0ZAFJVjwGpqRkBYzzRVC25GQG1+F8oMbkZA1/oMm4xuRkAeOg2yTmpGQIfSFcCDakZAqqqOcAhtRkCtzKHO9GtGQFwzwlo9akZAjzbOvb5pRkBLyX3TK3BGQCH10f6+bkZAcvr+rqhtRkBoqI+HU2pGQGHlM55nakZA6vTh8mVqRkDJWDhOwW5GQFFCT/j4bEZAEh7uOjtsRkASHu46O2xGQDD684PLbUZAbX4XygxuRkCGG+lpc21GQHzR5aqsaUZAUf7byPdtRkBLyX3TK3BGQI+itr6QbUZAiHR56mttRkATzpNOamlGQAEqwWlMakZAd4sLMqhpRkBh5TOeZ2pGQHGq0a5makZAoKptIa9qRkBoqI+HU2pGQLGj4H5TbUZAtOlrHfFrRkABKsFpTGpGQHzR5aqsaUZACScrFMBuRkCfACtejm5GQIh0eeprbUZAVTPsyHZsRkASCipmO2pGQCkaGa1NaUZArtT7EkttRkBt0R/0DWxGQIh0eeprbUZAwbD0gVNqRkD0Yu2IsWlGQKCqbSGvakZAFJVjwGpqRkDF6XvPU21GQO1Ieoi9aUZA1/oMm4xuRkDX+gybjG5GQFH+28j3bUZAYWQnNCtqRkCu1PsSS21GQKCqbSGvakZAdkKygXlsRkASHu46O2xGQMlYOE7BbkZA39vqD2JvRkCxo+B+U21GQJ8AK16ObkZAVTPsyHZsRkB3iwsyqGlGQGHlM55nakZAn2cr2OdrRkCi6szkxWxGQDD684PLbUZAMuxtotZsRkBcM8JaPWpGQAknKxTAbkZAdkKygXlsRkBxqtGuZmpGQDvJFTdNa0ZAOBoKubduRkATzpNOamlGQDYxrIPCbkZAsaPgflNtRkASCipmO2pGQC/20fN7bUZAnwArXo5uRkALmkegj25GQMlYOE7BbkZAoKptIa9qRkCPNs69vmlGQLTpax3xa0ZAtOlrHfFrRkB2QrKBeWxGQFpnjEOOakZAQF4c9w5tRkDNL7MA3W1GQI+itr6QbUZAC5pHoI9uRkAg1krgnG9GQEvJfdMrcEZAqqqOcAhtRkALmkegj25GQJOemygXcEZAaKiPh1NqRkDK6f16lmlGQDLsbaLWbEZAdkKygXlsRkA7yRU3TWtGQAEqwWlMakZAaKiPh1NqRkCvKB5mkW5GQLGj4H5TbUZAd4sLMqhpRkABKsFpTGpGQBSVY8BqakZAS8l90ytwRkCPora+kG1GQKZYH//FbEZAUe2ZQMRpRkBPKlCZQG1GQPHk9/DebUZAHGiVJR5sRkD0Yu2IsWlGQGHlM55nakZA6vTh8mVqRkDmiEtSZmpGQK8oHmaRbkZAq/71CipwRkC06Wsd8WtGQAS/rq6paUZA1ZZonhxsRkCGG+lpc21GQB46DbJOakZAsaPgflNtRkDBsPSBU2pGQC/20fN7bUZAIfXR/r5uRkCM6aj06G5GQAEqwWlMakZAcarRrmZqRkDX+gybjG5GQBIe7jo7bEZAMPrzg8ttRkBtfhfKDG5GQK3Moc70a0ZA8eT38N5tRkB2QrKBeWxGQKLqzOTFbEZARhLKsQ1sRkBCxEJ4eGlGQOhzxL8ZakZAQsRCeHhpRkCU4FSLr2pGQI82zr2+aUZAiWAxSh9sRkDoc8S/GWpGQBIe7jo7bEZAvF0m9eJqRkAVMVM4vm5GQLTpax3xa0ZAbTjYjwhtRkAUlWPAampGQFN45gSBakZAVTPsyHZsRkCTnpsoF3BGQMlYOE7BbkZAk56bKBdwRkABKsFpTGpGQFjPNFULbkZAOgL5F+trRkCPora+kG1GQCH10f6+bkZAyVg4TsFuRkCTnpsoF3BGQBSVY8BqakZAIfXR/r5uRkBy+v6uqG1GQC570MVRcEZA7NpUnYJsRkAtXKIgiGxGQEYSyrENbEZAIfXR/r5uRkApGhmtTWlGQKZYH//FbEZAkI/9OkBtRkBy+v6uqG1GQIfSFcCDakZAhhvpaXNtRkAIHIi4M2tGQJCP/TpAbUZA2bVOGcJuRkCPNs69vmlGQBPOk05qaUZArygeZpFuRkAw+vODy21GQH033IyDbEZAqqqOcAhtRkDBsPSBU2pGQPRi7YixaUZAqqqOcAhtRkCPora+kG1GQK3Moc70a0ZAjzbOvb5pRkC4vLXu9W1GQGioj4dTakZAoTPPGIhrRkDD29gz1m5GQBVRdBfAbkZAw9vYM9ZuRkDD29gz1m5GQOKiV28ca0ZAQF4c9w5tRkD0Yu2IsWlGQHeLCzKoaUZAYeUznmdqRkBxqtGuZmpGQJCP/TpAbUZAkI/9OkBtRkCIdHnqa21GQE8qUJlAbUZAbX4XygxuRkCGG+lpc21GQF/6LsvEbEZA7c4Ns+tqRkCTnpsoF3BGQIYb6WlzbUZAFJVjwGpqRkB3iwsyqGlGQOaIS1JmakZAd4sLMqhpRkCu1PsSS21GQGTFph6paUZAO8kVN01rRkC4vLXu9W1GQHL6/q6obUZAn2cr2OdrRkD1sBfOVG1GQE8qUJlAbUZAFf+oo4NqRkDX+gybjG5GQI+itr6QbUZAyVg4TsFuRkBJb6/6I2ZGQBxolSUebEZAd4sLMqhpRkBR7ZlAxGlGQOr04fJlakZAsaPgflNtRkDX+gybjG5GQDgaCrm3bkZAuLy17vVtRkAcaJUlHmxGQELEQnh4aUZAd4sLMqhpRkDq9OHyZWpGQJCP/TpAbUZAIfXR/r5uRkAy7G2i1mxGQI+itr6QbUZAoTPPGIhrRkB9N9yMg2xGQNf6DJuMbkZARhLKsQ1sRkBt0R/0DWxGQFH+28j3bUZAoKptIa9qRkCfZyvY52tGQAEqwWlMakZAUe2ZQMRpRkB3iwsyqGlGQDoC+Rfra0ZAX/ouy8RsRkALmkegj25GQE8qUJlAbUZAbTjYjwhtRkBRQk/4+GxGQK8oHmaRbkZAMPrzg8ttRkBf+i7LxGxGQIYb6WlzbUZAHjoNsk5qRkA2MayDwm5GQE8qUJlAbUZArcyhzvRrRkCqqo5wCG1GQOhzxL8ZakZArcyhzvRrRkAh9dH+vm5GQBIe7jo7bEZAS8l90ytwRkCPora+kG1GQMXpe89TbUZAd4sLMqhpRkCJYDFKH2xGQCH10f6+bkZAFf+oo4NqRkASHu46O2xGQEvJfdMrcEZAZMWmHqlpRkCu1PsSS21GQEYSyrENbEZAE86TTmppRkBoqI+HU2pGQPRi7YixaUZAC5pHoI9uRkCgqm0hr2pGQMZHgO9va0ZAQsRCeHhpRkCTnpsoF3BGQLTpax3xa0ZAoKptIa9qRkBCxEJ4eGlGQGioj4dTakZAUUJP+PhsRkCvKB5mkW5GQAuaR6CPbkZAVTPsyHZsRkAuRq862WlGQMGw9IFTakZA6vTh8mVqRkBD+oNdVG1GQMT7KY8lakZAL/bR83ttRkA4Ggq5t25GQKZYH//FbEZAC5pHoI9uRkAh9dH+vm5GQBe/T3sqbEZAWM80VQtuRkCxo+B+U21GQK7U+xJLbUZAFVF0F8BuRkAy7G2i1mxGQHeLCzKoaUZAMPrzg8ttRkAuRq862WlGQPRi7YixaUZAd4sLMqhpRkBf+i7LxGxGQBIe7jo7bEZAxkeA729rRkAy7G2i1mxGQMrp/XqWaUZAdkKygXlsRkAEv66uqWlGQK8oHmaRbkZAourM5MVsRkCH0hXAg2pGQOhzxL8ZakZALIaVFsJuRkBt0R/0DWxGQG3RH/QNbEZAiHR56mttRkBAXhz3Dm1GQKEzzxiIa0ZArcyhzvRrRkDBsPSBU2pGQK3Moc70a0ZAUUJP+PhsRkASHu46O2xGQDoC+Rfra0ZA7c4Ns+tqRkABKsFpTGpGQFHtmUDEaUZAkI/9OkBtRkAy7G2i1mxGQHGq0a5makZAUf7byPdtRkCtzKHO9GtGQELEQnh4aUZAWmeMQ45qRkDx5Pfw3m1GQBVRdBfAbkZAN8Gqz99tRkDJOQ+Zp2lGQNWWaJ4cbEZA1/oMm4xuRkB80eWqrGlGQG042I8IbUZAS8l90ytwRkCJYDFKH2xGQKqqjnAIbUZAS8l90ytwRkAVUXQXwG5GQLi8te71bUZAfNHlqqxpRkASHu46O2xGQIh0eeprbUZAplgf/8VsRkDx5Pfw3m1GQMrp/XqWaUZALkavOtlpRkDoc8S/GWpGQIzpqPTobkZAuLy17vVtRkA4Ggq5t25GQDgaCrm3bkZAFVF0F8BuRkDmiEtSZmpGQI82zr2+aUZA6vTh8mVqRkAVMVM4vm5GQNhblnINbkZANjGsg8JuRkCTnpsoF3BGQHXoACefa0ZAUe2ZQMRpRkC8XSb14mpGQEYSyrENbEZAEgoqZjtqRkDtzg2z62pGQBIe7jo7bEZAlOBUi69qRkBh5TOeZ2pGQBVRdBfAbkZAq/71CipwRkB3iwsyqGlGQGHlM55nakZAIfXR/r5uRkD0Yu2IsWlGQFpnjEOOakZAoKptIa9qRkBkxaYeqWlGQEYSyrENbEZALkavOtlpRkDE+ymPJWpGQHXoACefa0ZASW+v+iNmRkAh9dH+vm5GQH033IyDbEZAFJVjwGpqRkCtzKHO9GtGQB46DbJOakZA1/oMm4xuRkAJJysUwG5GQJ8AK16ObkZAS8l90ytwRkCqqo5wCG1GQK3Moc70a0ZACByIuDNrRkB80eWqrGlGQDYxrIPCbkZAhhvpaXNtRkCGG+lpc21GQBxolSUebEZAHGiVJR5sRkAJJysUwG5GQNhblnINbkZAWmeMQ45qRkBf+i7LxGxGQKLqzOTFbEZAQF4c9w5tRkCvKB5mkW5GQKCqbSGvakZAdkKygXlsRkCfACtejm5GQMPb2DPWbkZAWmeMQ45qRkDoc8S/GWpGQKLqzOTFbEZAyun9epZpRkBt0R/0DWxGQCH10f6+bkZAcarRrmZqRkABKsFpTGpGQOaIS1JmakZAn2cr2OdrRkDq9OHyZWpGQLGj4H5TbUZAxkeA729rRkBt0R/0DWxGQI82zr2+aUZAYeUznmdqRkALmkegj25GQKqqjnAIbUZAzS+zAN1tRkC06Wsd8WtGQIzpqPTobkZAUUJP+PhsRkCEP2WuEGxGQMGw9IFTakZAvF0m9eJqRkAVUXQXwG5GQNWWaJ4cbEZAoKptIa9qRkAy7G2i1mxGQGioj4dTakZAYeUznmdqRkDmiEtSZmpGQG3RH/QNbEZAkI/9OkBtRkCvKB5mkW5GQLxdJvXiakZAX/ouy8RsRkBt0R/0DWxGQOhzxL8ZakZATypQmUBtRkBCxEJ4eGlGQEYSyrENbEZAUUJP+PhsRkBf+i7LxGxGQKv+9QoqcEZAZMWmHqlpRkDmiEtSZmpGQNWWaJ4cbEZAEgoqZjtqRkDtzg2z62pGQIYb6WlzbUZAaKiPh1NqRkBR7ZlAxGlGQHeLCzKoaUZAiWAxSh9sRkAh9dH+vm5GQKZYH//FbEZAHRYYYMFpRkDVlmieHGxGQIzpqPTobkZAxkeA729rRkDmiEtSZmpGQOaIS1JmakZA5ohLUmZqRkCvKB5mkW5GQH033IyDbEZAbX4XygxuRkBJb6/6I2ZGQFUz7Mh2bEZAxkeA729rRkAVUXQXwG5GQI82zr2+aUZAjzbOvb5pRkDBsPSBU2pGQAEqwWlMakZA9GLtiLFpRkAVUXQXwG5GQKCqbSGvakZAdkKygXlsRkAcaJUlHmxGQBxolSUebEZA6vTh8mVqRkCJYDFKH2xGQAuaR6CPbkZAIfXR/r5uRkA2MayDwm5GQDYxrIPCbkZA7c4Ns+tqRkBR7ZlAxGlGQE8qUJlAbUZAhhvpaXNtRkBYzzRVC25GQJBxNtNBcEZAMPrzg8ttRkATzpNOamlGQBxolSUebEZAiHR56mttRkB9N9yMg2xGQF/6LsvEbEZAyTkPmadpRkCU4FSLr2pGQNWWaJ4cbEZAQsRCeHhpRkDoc8S/GWpGQAEqwWlMakZAASrBaUxqRkBRQk/4+GxGQMT7KY8lakZAhhvpaXNtRkB2QrKBeWxGQAEqwWlMakZAFf+oo4NqRkBR/tvI921GQJCP/TpAbUZAiHR56mttRkALmkegj25GQE8qUJlAbUZAcarRrmZqRkApGhmtTWlGQBVRdBfAbkZAqqqOcAhtRkBVM+zIdmxGQBX/qKODakZACByIuDNrRkDBsPSBU2pGQJ8AK16ObkZArygeZpFuRkA2MayDwm5GQAuaR6CPbkZAdmOMLp9rRkAJJysUwG5GQOr04fJlakZAUUJP+PhsRkAeOg2yTmpGQDYxrIPCbkZA2Cod4GBuRkDtzg2z62pGQMXpe89TbUZAOBoKubduRkBtfhfKDG5GQIh0eeprbUZAVTPsyHZsRkD0Yu2IsWlGQC2KQJrnbUZAqqqOcAhtRkCxo+B+U21GQK3Moc70a0ZAIfXR/r5uRkBAXhz3Dm1GQIQ/Za4QbEZA",
          "dtype": "f8"
         },
         "lon": {
          "bdata": "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",
          "dtype": "f8"
         },
         "marker": {
          "color": [
           "blue",
           "green",
           "green",
           "blue",
           "blue",
           "green",
           "blue",
           "blue",
           "green",
           "blue",
           "green",
           "blue",
           "green",
           "blue",
           "green",
           "green",
           "green",
           "blue",
           "blue",
           "green",
           "blue",
           "blue",
           "blue",
           "blue",
           "green",
           "blue",
           "blue",
           "green",
           "blue",
           "blue",
           "blue",
           "green",
           "blue",
           "blue",
           "blue",
           "blue",
           "green",
           "blue",
           "blue",
           "blue",
           "blue",
           "green",
           "green",
           "green",
           "blue",
           "green",
           "green",
           "green",
           "green",
           "blue",
           "blue",
           "blue",
           "blue",
           "blue",
           "blue",
           "green",
           "blue",
           "blue",
           "blue",
           "green",
           "green",
           "green",
           "blue",
           "blue",
           "blue",
           "blue",
           "blue",
           "blue",
           "blue",
           "blue",
           "green",
           "blue",
           "green",
           "blue",
           "blue",
           "blue",
           "blue",
           "green",
           "blue",
           "blue",
           "blue",
           "blue",
           "green",
           "green",
           "green",
           "green",
           "blue",
           "blue",
           "blue",
           "blue",
           "blue",
           "blue",
           "blue",
           "blue",
           "blue",
           "green",
           "blue",
           "blue",
           "blue",
           "blue",
           "blue",
           "blue",
           "blue",
           "blue",
           "blue",
           "blue",
           "blue",
           "blue",
           "blue",
           "blue",
           "blue",
           "blue",
           "green",
           "green",
           "blue",
           "blue",
           "blue",
           "blue",
           "blue",
           "blue",
           "blue",
           "green",
           "green",
           "green",
           "blue",
           "blue",
           "blue",
           "blue",
           "blue",
           "green",
           "blue",
           "green",
           "blue",
           "green",
           "blue",
           "blue",
           "blue",
           "blue",
           "green",
           "green",
           "green",
           "blue",
           "blue",
           "blue",
           "blue",
           "green",
           "blue",
           "blue",
           "green",
           "blue",
           "blue",
           "green",
           "blue",
           "blue",
           "blue",
           "blue",
           "green",
           "green",
           "blue",
           "blue",
           "blue",
           "blue",
           "blue",
           "green",
           "green",
           "blue",
           "green",
           "green",
           "blue",
           "blue",
           "blue",
           "green",
           "blue",
           "blue",
           "blue",
           "blue",
           "blue",
           "blue",
           "blue",
           "blue",
           "blue",
           "blue",
           "blue",
           "blue",
           "blue",
           "blue",
           "blue",
           "blue",
           "green",
           "green",
           "blue",
           "blue",
           "green",
           "blue",
           "green",
           "blue",
           "green",
           "blue",
           "blue",
           "green",
           "blue",
           "blue",
           "blue",
           "green",
           "green",
           "green",
           "blue",
           "blue",
           "blue",
           "blue",
           "blue",
           "blue",
           "blue",
           "blue",
           "blue",
           "blue",
           "blue",
           "blue",
           "blue",
           "blue",
           "blue",
           "blue",
           "blue",
           "blue",
           "green",
           "blue",
           "blue",
           "blue",
           "green",
           "green",
           "green",
           "green",
           "green",
           "green",
           "blue",
           "blue",
           "blue",
           "blue",
           "green",
           "blue",
           "blue",
           "green",
           "green",
           "blue",
           "blue",
           "blue",
           "blue",
           "blue",
           "green",
           "green",
           "blue",
           "blue",
           "blue",
           "blue",
           "blue",
           "green",
           "green",
           "blue",
           "green",
           "green",
           "blue",
           "blue",
           "blue",
           "blue",
           "blue",
           "blue",
           "blue",
           "blue",
           "green",
           "green",
           "blue",
           "blue",
           "green",
           "blue",
           "blue",
           "green",
           "green",
           "blue",
           "green",
           "blue",
           "blue",
           "blue",
           "blue",
           "blue",
           "blue",
           "green",
           "blue",
           "blue",
           "blue",
           "green",
           "blue",
           "blue",
           "blue",
           "blue",
           "blue",
           "blue",
           "green",
           "green",
           "blue",
           "blue",
           "blue",
           "blue",
           "green",
           "blue",
           "blue",
           "green",
           "blue",
           "blue",
           "blue",
           "blue",
           "blue",
           "blue",
           "green",
           "green",
           "green",
           "green",
           "green",
           "blue",
           "green",
           "blue",
           "green",
           "blue",
           "blue",
           "blue",
           "green",
           "blue",
           "blue",
           "blue",
           "green",
           "blue",
           "blue",
           "green",
           "green",
           "green",
           "green",
           "blue",
           "blue",
           "blue",
           "green",
           "blue",
           "blue",
           "blue",
           "blue",
           "blue",
           "blue",
           "green",
           "blue",
           "blue",
           "blue",
           "blue",
           "blue",
           "blue",
           "blue",
           "blue",
           "blue",
           "blue",
           "blue",
           "blue",
           "blue",
           "blue",
           "blue",
           "green",
           "blue",
           "blue",
           "blue",
           "blue",
           "blue",
           "blue",
           "blue",
           "blue",
           "blue",
           "blue",
           "blue",
           "green",
           "blue",
           "blue",
           "blue",
           "blue",
           "green",
           "green",
           "green",
           "green",
           "green",
           "blue",
           "blue",
           "green",
           "blue",
           "blue",
           "blue",
           "green",
           "blue",
           "blue",
           "blue",
           "blue",
           "blue",
           "blue",
           "blue",
           "blue",
           "blue",
           "blue",
           "blue",
           "blue",
           "blue",
           "blue",
           "blue",
           "green",
           "green",
           "green",
           "green",
           "blue",
           "green",
           "blue",
           "blue",
           "blue",
           "blue",
           "blue",
           "blue",
           "green",
           "blue",
           "blue",
           "blue",
           "blue",
           "blue",
           "green",
           "blue",
           "green",
           "blue",
           "blue",
           "blue",
           "blue",
           "blue",
           "blue",
           "blue",
           "blue",
           "blue",
           "blue",
           "green",
           "green",
           "green",
           "blue",
           "blue",
           "blue",
           "blue",
           "blue",
           "blue",
           "blue",
           "blue",
           "blue",
           "blue",
           "green",
           "blue",
           "blue",
           "blue",
           "blue",
           "green",
           "green",
           "green",
           "green",
           "green",
           "green",
           "blue",
           "green",
           "green",
           "green",
           "green",
           "blue",
           "blue",
           "green",
           "blue",
           "blue",
           "green",
           "blue",
           "blue",
           "blue",
           "green",
           "green",
           "green",
           "blue",
           "green",
           "green",
           "green",
           "blue",
           "blue",
           "green",
           "green",
           "blue",
           "blue",
           "green",
           "green",
           "green",
           "green",
           "blue",
           "blue",
           "blue",
           "blue",
           "green",
           "green",
           "blue",
           "blue",
           "blue",
           "green",
           "green",
           "green",
           "blue",
           "blue",
           "green",
           "blue",
           "blue",
           "blue",
           "green",
           "blue",
           "blue",
           "blue",
           "blue",
           "blue",
           "blue",
           "blue",
           "blue",
           "blue",
           "blue",
           "blue",
           "blue",
           "blue",
           "green",
           "green",
           "green",
           "blue",
           "blue",
           "blue",
           "blue",
           "blue",
           "green",
           "blue",
           "blue",
           "blue",
           "blue",
           "blue",
           "green",
           "green",
           "green",
           "blue",
           "blue",
           "blue",
           "green",
           "green",
           "blue",
           "blue",
           "blue",
           "blue",
           "blue",
           "green",
           "green",
           "blue",
           "blue",
           "blue",
           "blue",
           "blue",
           "green",
           "green",
           "green",
           "green",
           "blue",
           "blue",
           "blue",
           "blue",
           "blue",
           "blue",
           "green",
           "blue",
           "green",
           "blue",
           "blue",
           "green",
           "green",
           "green",
           "blue",
           "blue",
           "blue",
           "blue",
           "blue",
           "blue",
           "green",
           "blue",
           "blue",
           "blue",
           "blue",
           "blue",
           "green",
           "blue",
           "blue",
           "blue",
           "blue",
           "blue",
           "blue",
           "green",
           "green",
           "blue",
           "green",
           "blue",
           "blue",
           "green",
           "blue",
           "blue",
           "blue",
           "blue",
           "blue",
           "blue",
           "blue",
           "green",
           "blue",
           "blue",
           "blue",
           "blue",
           "blue",
           "blue",
           "blue",
           "green",
           "green",
           "green",
           "blue",
           "blue",
           "blue",
           "blue",
           "blue",
           "blue",
           "blue",
           "blue",
           "green",
           "green",
           "blue",
           "green",
           "green",
           "blue",
           "blue",
           "blue",
           "green",
           "green",
           "green",
           "green",
           "blue",
           "blue",
           "blue",
           "blue",
           "blue",
           "blue",
           "blue",
           "green",
           "green",
           "green",
           "blue",
           "green",
           "blue",
           "blue",
           "blue",
           "blue",
           "blue",
           "green",
           "blue",
           "blue",
           "green",
           "blue",
           "green",
           "blue",
           "blue",
           "green",
           "green",
           "blue",
           "blue",
           "blue",
           "blue",
           "blue",
           "blue",
           "blue",
           "green",
           "green",
           "blue",
           "blue",
           "blue",
           "blue",
           "green",
           "blue",
           "green",
           "green",
           "green",
           "blue",
           "blue",
           "green",
           "blue",
           "blue",
           "green",
           "blue",
           "blue",
           "green",
           "blue",
           "green",
           "blue",
           "blue",
           "green",
           "blue",
           "blue",
           "blue",
           "green",
           "blue",
           "blue",
           "blue",
           "green",
           "green",
           "blue",
           "blue",
           "blue",
           "green",
           "green",
           "green",
           "green",
           "blue",
           "blue",
           "green",
           "blue",
           "green",
           "green",
           "blue",
           "blue",
           "blue",
           "blue",
           "green",
           "green",
           "blue",
           "green",
           "blue",
           "blue",
           "blue",
           "green",
           "blue",
           "blue",
           "green",
           "blue",
           "blue",
           "green",
           "green",
           "green",
           "blue",
           "blue",
           "blue",
           "green",
           "green",
           "green",
           "blue",
           "green",
           "green",
           "green",
           "green",
           "green",
           "blue",
           "blue",
           "blue",
           "blue",
           "blue",
           "blue",
           "blue",
           "blue",
           "blue",
           "blue",
           "green",
           "green",
           "blue",
           "blue",
           "blue",
           "blue",
           "green",
           "green",
           "green",
           "blue",
           "blue",
           "blue",
           "blue",
           "blue",
           "blue",
           "blue",
           "blue",
           "blue",
           "blue",
           "blue",
           "blue",
           "blue",
           "blue",
           "blue",
           "blue",
           "blue",
           "blue",
           "blue",
           "blue",
           "blue",
           "blue",
           "green",
           "blue",
           "blue",
           "green",
           "blue",
           "blue",
           "green",
           "blue",
           "green",
           "green",
           "blue",
           "blue",
           "blue",
           "blue",
           "blue",
           "blue",
           "blue",
           "blue",
           "blue",
           "blue",
           "green",
           "blue",
           "blue",
           "blue",
           "blue",
           "blue",
           "blue",
           "blue",
           "blue",
           "blue",
           "blue",
           "green",
           "blue",
           "blue",
           "blue",
           "blue",
           "blue",
           "green",
           "green",
           "green",
           "blue",
           "blue",
           "blue",
           "blue",
           "blue",
           "green",
           "green",
           "blue",
           "blue",
           "blue",
           "green",
           "blue",
           "green",
           "blue",
           "blue",
           "green",
           "green",
           "blue",
           "blue",
           "blue",
           "green",
           "blue",
           "blue",
           "blue",
           "blue",
           "green",
           "blue",
           "blue",
           "blue",
           "green",
           "green",
           "green",
           "blue",
           "blue",
           "blue",
           "blue",
           "blue",
           "blue",
           "blue",
           "blue",
           "blue",
           "blue",
           "blue",
           "blue",
           "green",
           "green",
           "green",
           "green",
           "green",
           "blue",
           "green",
           "blue",
           "blue",
           "green",
           "blue",
           "blue",
           "blue",
           "blue",
           "blue",
           "blue",
           "green",
           "blue",
           "blue",
           "blue",
           "green",
           "green",
           "blue",
           "green",
           "blue",
           "green",
           "blue",
           "blue",
           "blue",
           "blue",
           "blue",
           "blue",
           "blue",
           "blue",
           "blue",
           "blue",
           "blue",
           "blue",
           "blue",
           "green",
           "green",
           "blue",
           "blue",
           "blue",
           "blue",
           "blue",
           "blue",
           "blue",
           "green",
           "blue",
           "blue",
           "green",
           "blue",
           "blue",
           "blue",
           "blue",
           "blue",
           "blue",
           "blue",
           "blue",
           "green",
           "blue",
           "blue",
           "blue",
           "blue",
           "blue",
           "blue",
           "blue",
           "blue",
           "blue",
           "blue",
           "blue",
           "blue",
           "blue",
           "green",
           "blue",
           "blue",
           "blue",
           "blue",
           "green",
           "green",
           "blue",
           "blue",
           "green",
           "green",
           "green",
           "blue",
           "blue",
           "blue",
           "green",
           "blue",
           "blue",
           "green",
           "green",
           "green",
           "green",
           "green",
           "blue",
           "blue",
           "blue",
           "green",
           "green",
           "blue",
           "green",
           "blue",
           "green",
           "blue",
           "blue",
           "green",
           "green",
           "green",
           "blue",
           "blue",
           "blue",
           "blue",
           "blue",
           "blue",
           "blue",
           "blue",
           "blue",
           "green",
           "green",
           "green",
           "green",
           "green",
           "green",
           "green",
           "blue",
           "blue",
           "blue",
           "blue",
           "blue",
           "green",
           "blue",
           "blue",
           "blue",
           "blue",
           "blue",
           "green",
           "blue",
           "blue",
           "blue",
           "blue",
           "blue",
           "blue",
           "green",
           "blue",
           "blue",
           "blue",
           "blue",
           "blue",
           "blue",
           "blue",
           "green",
           "blue",
           "blue",
           "blue",
           "blue",
           "blue",
           "blue",
           "blue",
           "blue",
           "green",
           "green",
           "blue",
           "blue",
           "blue",
           "blue",
           "green",
           "green",
           "blue",
           "blue",
           "blue",
           "green",
           "green",
           "green",
           "blue",
           "blue",
           "blue",
           "blue",
           "blue",
           "green",
           "blue",
           "green",
           "green",
           "green",
           "green",
           "blue",
           "blue",
           "blue",
           "blue",
           "blue",
           "blue",
           "blue",
           "blue",
           "blue",
           "blue",
           "green",
           "green",
           "green",
           "green",
           "blue",
           "blue",
           "blue",
           "green",
           "blue",
           "blue",
           "blue",
           "blue",
           "blue",
           "blue",
           "blue",
           "blue",
           "blue",
           "green",
           "green",
           "green",
           "green",
           "blue",
           "blue",
           "blue",
           "green",
           "green",
           "green",
           "green",
           "green",
           "blue",
           "blue",
           "blue",
           "blue",
           "blue",
           "blue",
           "blue",
           "blue",
           "blue",
           "blue",
           "blue",
           "blue",
           "green",
           "green",
           "green",
           "blue",
           "blue",
           "blue",
           "blue",
           "blue",
           "blue",
           "blue",
           "blue",
           "blue",
           "blue",
           "green",
           "blue",
           "blue",
           "blue",
           "blue",
           "green",
           "blue",
           "blue",
           "blue",
           "blue",
           "blue",
           "blue",
           "green",
           "green",
           "blue",
           "blue",
           "blue",
           "blue",
           "blue",
           "blue",
           "blue",
           "green",
           "green",
           "green",
           "blue",
           "blue",
           "green",
           "green",
           "blue",
           "blue",
           "blue",
           "green",
           "green",
           "blue",
           "blue",
           "blue",
           "blue",
           "green",
           "green",
           "green",
           "blue",
           "blue",
           "blue",
           "blue",
           "blue",
           "blue",
           "blue",
           "green",
           "blue",
           "blue",
           "blue",
           "blue",
           "blue",
           "green",
           "blue",
           "green",
           "green",
           "green",
           "blue",
           "blue",
           "green",
           "blue",
           "blue",
           "blue",
           "green",
           "blue",
           "blue",
           "blue",
           "green",
           "blue",
           "blue",
           "blue",
           "blue",
           "blue",
           "blue",
           "blue",
           "green",
           "blue",
           "blue",
           "blue",
           "blue",
           "blue",
           "green",
           "green",
           "blue",
           "blue",
           "green",
           "blue",
           "blue",
           "green",
           "blue",
           "blue",
           "blue",
           "blue",
           "blue",
           "green",
           "blue",
           "blue",
           "blue",
           "blue",
           "green",
           "blue",
           "blue",
           "blue",
           "green",
           "blue",
           "blue",
           "blue",
           "blue",
           "blue",
           "blue",
           "green",
           "green",
           "green",
           "green",
           "blue",
           "blue",
           "blue",
           "green",
           "green",
           "green",
           "blue",
           "blue",
           "blue",
           "blue",
           "blue",
           "green",
           "blue",
           "blue",
           "blue",
           "blue",
           "blue",
           "green",
           "green",
           "blue",
           "blue",
           "green",
           "green",
           "blue",
           "green",
           "blue",
           "blue",
           "blue",
           "blue",
           "green",
           "blue",
           "blue",
           "blue",
           "blue",
           "blue",
           "green",
           "blue",
           "green",
           "blue",
           "blue",
           "blue",
           "blue",
           "blue",
           "blue",
           "blue",
           "blue",
           "blue",
           "blue",
           "blue",
           "green",
           "green",
           "blue",
           "blue",
           "blue",
           "blue",
           "blue",
           "blue",
           "blue",
           "blue",
           "blue",
           "blue",
           "blue",
           "blue",
           "green",
           "blue",
           "blue",
           "blue",
           "blue",
           "green",
           "green",
           "green",
           "blue",
           "green",
           "blue",
           "green",
           "blue",
           "green",
           "green",
           "blue",
           "blue",
           "blue",
           "blue",
           "green",
           "blue",
           "blue",
           "green",
           "blue",
           "blue",
           "green",
           "blue",
           "blue",
           "green",
           "green",
           "green",
           "blue",
           "blue",
           "blue",
           "blue",
           "blue",
           "blue",
           "green",
           "blue",
           "green",
           "blue",
           "blue",
           "blue",
           "blue",
           "blue",
           "green",
           "green",
           "blue",
           "blue",
           "blue",
           "green",
           "green",
           "green",
           "green",
           "blue",
           "blue",
           "green",
           "green",
           "green",
           "green",
           "green",
           "green",
           "green",
           "blue",
           "blue",
           "blue",
           "blue",
           "blue",
           "green",
           "blue",
           "green",
           "green",
           "green",
           "green",
           "green",
           "blue",
           "blue",
           "blue",
           "green",
           "green",
           "green",
           "green",
           "blue",
           "blue",
           "blue",
           "blue",
           "blue",
           "green",
           "blue",
           "blue",
           "blue",
           "blue",
           "blue",
           "green",
           "green",
           "blue",
           "blue",
           "blue",
           "blue",
           "green",
           "green",
           "green",
           "green",
           "green",
           "green",
           "blue",
           "blue",
           "blue",
           "blue",
           "green",
           "blue",
           "blue",
           "blue",
           "blue",
           "blue",
           "blue",
           "green",
           "green",
           "blue",
           "blue",
           "blue",
           "blue",
           "blue",
           "green",
           "blue",
           "blue",
           "blue",
           "blue",
           "blue",
           "blue",
           "green",
           "blue",
           "green",
           "blue",
           "blue",
           "blue",
           "blue",
           "blue",
           "blue",
           "blue",
           "blue",
           "green",
           "blue",
           "blue",
           "blue",
           "blue",
           "blue",
           "blue",
           "blue"
          ],
          "size": {
           "bdata": "AAAAAAAAHkAAAAAAAIBZQAAAAAAAIFFAAAAAAAAALUAAAAAAAKBlQAAAAAAAWpxAAAAAAAAwZEAAAAAAAMBYQAAAAAAAwEVAAAAAAAAgX0AAAAAAAEh1QAAAAAAAAAhAAAAAAAAAHkAAAAAAAAAYQAAAAAAAoFlAAAAAAACAOEAAAAAAAFBrQAAAAAAAAC1AAAAAAAAAMEAAAAAAAAA3QAAAAAAAAAxAAAAAAABAREAAAAAAAOBRQAAAAAAAQEFAAAAAAACAOEAAAAAAAAAMQAAAAAAAACBAAAAAAABgWUAAAAAAAIAyQAAAAAAAACJAAAAAAACAM0AAAAAAAIAzQAAAAAAAAEdAAAAAAAAASkAAAAAAAAAeQAAAAAAACHhAAAAAAABAXUAAAAAAAAA9QAAAAAAAgGNAAAAAAACAQUAAAAAAAMBKQAAAAAAAlIJAAAAAAAAALkAAAAAAAKh1QAAAAAAAABpAAAAAAAA4cUAAAAAAAOBpQAAAAAAAAFFAAAAAAABATkAAAAAAAAAAQAAAAAAAgD9AAAAAAADAQEAAAAAAAIA8QAAAAAAAoF5AAAAAAAAAIUAAAAAAAAA3QAAAAAAAwFdAAAAAAAAAS0AAAAAAAEBZQAAAAAAAEGVAAAAAAAAAPEAAAAAAAAAcQAAAAAAAADBAAAAAAAAAKkAAAAAAAAAxQAAAAAAAAEJAAAAAAAAAOkAAAAAAAAA1QAAAAAAAYFdAAAAAAAAALUAAAAAAAABPQAAAAAAAACRAAAAAAAAIcEAAAAAAAEBQQAAAAAAAgFNAAAAAAAAAKUAAAAAAAEBGQAAAAAAAgD5AAAAAAAAAGEAAAAAAAAAhQAAAAAAAgDtAAAAAAACAQ0AAAAAAAGBXQAAAAAAA4FZAAAAAAAAAJEAAAAAAAOBrQAAAAAAAADxAAAAAAAAAHkAAAAAAAAAlQAAAAAAAAC1AAAAAAAAA4D8AAAAAAADgPwAAAAAAgHpAAAAAAACASkAAAAAAAAArQAAAAAAAAFJAAAAAAAAAOUAAAAAAAAAzQAAAAAAAADxAAAAAAACAMEAAAAAAAEBJQAAAAAAAAE5AAAAAAABgUUAAAAAAALBkQAAAAAAAMGFAAAAAAADgWUAAAAAAAEBBQAAAAAAAwFdAAAAAAACAQEAAAAAAAMBGQAAAAAAA6HRAAAAAAACAQEAAAAAAAAAwQAAAAAAAWHpAAAAAAAAAO0AAAAAAAGBTQAAAAAAAACpAAAAAAAAAUUAAAAAAAAA5QAAAAAAAACRAAAAAAACANEAAAAAAAJByQAAAAAAAwE9AAAAAAADARkAAAAAAAMBSQAAAAAAAAC1AAAAAAAAAHkAAAAAAAAASQAAAAAAAACdAAAAAAAAAeUAAAAAAAAAYQAAAAAAAVIdAAAAAAAAQZ0AAAAAAAABeQAAAAAAAACxAAAAAAABAQkAAAAAAAAA3QAAAAAAAABZAAAAAAACAUkAAAAAAAIBPQAAAAAAAxIdAAAAAAADAREAAAAAAAIA8QAAAAAAAgDBAAAAAAAAAFkAAAAAAAAA3QAAAAAAAADRAAAAAAABARUAAAAAAAAA8QAAAAAAAAOA/AAAAAAAA4D8AAAAAAGBgQAAAAAAAAFJAAAAAAAAA+D8AAAAAAAAaQAAAAAAAEGFAAAAAAADAXkAAAAAAAIBdQAAAAAAAADhAAAAAAAAAEkAAAAAAAAAxQAAAAAAAACdAAAAAAAAAX0AAAAAAAMBPQAAAAAAAADFAAAAAAAAAQUAAAAAAAAAxQAAAAAAAwE9AAAAAAAAASkAAAAAAAAAvQAAAAAAAwEJAAAAAAAAAMUAAAAAAAMBAQAAAAAAA4F1AAAAAAADAQ0AAAAAAAMB4QAAAAAAAwElAAAAAAAAACEAAAAAAAAAjQAAAAAAAACdAAAAAAACANEAAAAAAAAArQAAAAAAAAD9AAAAAAAAALEAAAAAAAAAlQAAAAAAAwE1AAAAAAAAAIkAAAAAAAEBLQAAAAAAAgDRAAAAAAAAACEAAAAAAAEBSQAAAAAAAgDpAAAAAAAAAHEAAAAAAACBZQAAAAAAAwF5AAAAAAACgUUAAAAAAAIBRQAAAAAAAQElAAAAAAAAgX0AAAAAAACSBQAAAAAAAACpAAAAAAABARkAAAAAAAAArQAAAAAAAgERAAAAAAAAAIUAAAAAAACBWQAAAAAAAgDpAAAAAAAAAGkAAAAAAAAAcQAAAAAAAwFFAAAAAAAAABEAAAAAAAAAiQAAAAAAAACJAAAAAAACAU0AAAAAAAAAlQAAAAAAAAClAAAAAAAAAI0AAAAAAAMBLQAAAAAAAAERAAAAAAAAALEAAAAAAAIA1QAAAAAAAABpAAAAAAABAQEAAAAAAAMBVQAAAAAAAKIFAAAAAAAAAJ0AAAAAAAIA9QAAAAAAAACxAAAAAAAAA4D8AAAAAAEBLQAAAAAAAUGJAAAAAAABgdEAAAAAAAABCQAAAAAAAgDZAAAAAAAAAQEAAAAAAAAD4PwAAAAAAQFJAAAAAAADAQEAAAAAAALBzQAAAAAAAwEZAAAAAAAB4gEAAAAAAAAAwQAAAAAAAwF5AAAAAAADgZUAAAAAAAOB8QAAAAAAAyH9AAAAAAAAAJ0AAAAAAAIAwQAAAAAAAgExAAAAAAAAANkAAAAAAAAAeQAAAAAAAAPg/AAAAAAAAQEAAAAAAAABiQAAAAAAAABBAAAAAAADAQ0AAAAAAAEBSQAAAAAAAwEFAAAAAAABYeUAAAAAAAABDQAAAAAAAwEFAAAAAAAAAFkAAAAAAAAAiQAAAAAAAAClAAAAAAAAAKkAAAAAAAABFQAAAAAAAwEVAAAAAAACAQUAAAAAAAAA+QAAAAAAAsGBAAAAAAABgZkAAAAAAAAAqQAAAAAAAIHZAAAAAAAAASUAAAAAAAEBAQAAAAAAAwEZAAAAAAAAALUAAAAAAAAAzQAAAAAAAIGlAAAAAAAAAKkAAAAAAAMBCQAAAAAAAQEhAAAAAAACAMUAAAAAAADhwQAAAAAAA8HNAAAAAAABAU0AAAAAAAPBgQAAAAAAAQEJAAAAAAAAAYEAAAAAAAHSCQAAAAAAAAD9AAAAAAAAARUAAAAAAAKBcQAAAAAAAwHhAAAAAAACAMkAAAAAAAABBQAAAAAAAAFNAAAAAAAAYgkAAAAAAACBfQAAAAAAAIFFAAAAAAABAQ0AAAAAAAMBJQAAAAAAAKIZAAAAAAAAASEAAAAAAACBTQAAAAAAAQGZAAAAAAACAN0AAAAAAAABlQAAAAAAAgDRAAAAAAABAR0AAAAAAAIBFQAAAAAAAgDNAAAAAAABATkAAAAAAAABPQAAAAAAA0GVAAAAAAADYc0AAAAAAAAApQAAAAAAAQEJAAAAAAACwhEAAAAAAAAA2QAAAAAAAACJAAAAAAADgVkAAAAAAAEBDQAAAAAAAIFNAAAAAAAAA+D8AAAAAAAAaQAAAAAAAgEZAAAAAAACARkAAAAAAAIA7QAAAAAAAACJAAAAAAADAQ0AAAAAAAFh0QAAAAAAAYG1AAAAAAADIckAAAAAAAAAtQAAAAAAAACVAAAAAAAAAJUAAAAAAAAAtQAAAAAAAADlAAAAAAADATUAAAAAAAAAWQAAAAAAAAC1AAAAAAADAQkAAAAAAAIBHQAAAAAAAADdAAAAAAABAS0AAAAAAAIA+QAAAAAAAABxAAAAAAAAAQUAAAAAAAABJQAAAAAAAADJAAAAAAAAAIUAAAAAAAOBTQAAAAAAAwGNAAAAAAAAAAEAAAAAAAOBWQAAAAAAAYFRAAAAAAACAM0AAAAAAAAAxQAAAAAAAAD5AAAAAAAAAEkAAAAAAAIAxQAAAAAAAADNAAAAAAAAA8D8AAAAAACBQQAAAAAAAQGtAAAAAAAAAU0AAAAAAAAA7QAAAAAAAABZAAAAAAAAANEAAAAAAAAA6QAAAAAAAADRAAAAAAABAQUAAAAAAAAA5QAAAAAAAgDRAAAAAAAAAQkAAAAAAAIA+QAAAAAAAAChAAAAAAAAwakAAAAAAAKBpQAAAAAAA4GtAAAAAAAAAJEAAAAAAACBmQAAAAAAAACZAAAAAAAAAI0AAAAAAAIBjQAAAAAAAgDhAAAAAAACAS0AAAAAAACBVQAAAAAAAABxAAAAAAAAA+D8AAAAAAMBAQAAAAAAAgExAAAAAAACANEAAAAAAAEBDQAAAAAAAADJAAAAAAAB4dUAAAAAAAAAjQAAAAAAAgFdAAAAAAADAQUAAAAAAAAAaQAAAAAAAAFlAAAAAAAAAKEAAAAAAANB5QAAAAAAAAEVAAAAAAABAS0AAAAAAAIBWQAAAAAAAAENAAAAAAAAgbUAAAAAAAIAxQAAAAAAAgENAAAAAAAAAQEAAAAAAAMBLQAAAAAAAAD9AAAAAAADAW0AAAAAAAMBjQAAAAAAAUGJAAAAAAAAAHEAAAAAAAKBfQAAAAAAAkGBAAAAAAACAV0AAAAAAAAA4QAAAAAAAgDFAAAAAAACgZ0AAAAAAAMBnQAAAAAAAwEBAAAAAAACANUAAAAAAAAAUQAAAAAAAACpAAAAAAABAQEAAAAAAAIA6QAAAAAAAYFRAAAAAAACAMEAAAAAAAIA4QAAAAAAAABJAAAAAAACAUUAAAAAAALh+QAAAAACAiLFAAAAAAACAOEAAAAAAAIBTQAAAAAAAACBAAAAAAACgWUAAAAAAAIA1QAAAAAAAAE1AAAAAAAAAUkAAAAAAAAAlQAAAAAAAgDFAAAAAAAAA4D8AAAAAAIAwQAAAAAAAYGBAAAAAAAAgXEAAAAAAAGBdQAAAAAAAYFdAAAAAAACAbUAAAAAAAJiCQAAAAAAAQHlAAAAAAABQdEAAAAAAAAAMQAAAAAAAgDFAAAAAAABAUEAAAAAAAAAiQAAAAAAAYGdAAAAAAADASUAAAAAAAIA4QAAAAAAAcGVAAAAAAAAAGkAAAAAAAAAqQAAAAAAAwEhAAAAAAAAAIUAAAAAAAAAaQAAAAAAAAClAAAAAAAAA8D8AAAAAAAAaQAAAAAAAwEtAAAAAAAAAEEAAAAAAACBZQAAAAAAAsHNAAAAAAAAAJEAAAAAAAABBQAAAAAAAoHFAAAAAAACAZ0AAAAAAAAAkQAAAAAAAwF1AAAAAAAAgZ0AAAAAAAFiJQAAAAAAAgDpAAAAAAACAOUAAAAAAADBpQAAAAAAA+HdAAAAAAABohEAAAAAAAIBPQAAAAAAAYFRAAAAAAADogEAAAAAAAAAwQAAAAAAAAClAAAAAAACwYkAAAAAAAEBmQAAAAAAAgEdAAAAAAACQZ0AAAAAAAEBDQAAAAAAAsGJAAAAAAADwZEAAAAAAACBbQAAAAAAAAE5AAAAAAADofEAAAAAAAKB0QAAAAAAAgD9AAAAAAACAPEAAAAAAAAAmQAAAAAAAAC1AAAAAAAAIdUAAAAAAAIA6QAAAAAAAwEZAAAAAAABgUUAAAAAAAABGQAAAAAAAACZAAAAAAACAOUAAAAAAAAAAQAAAAAAAAPA/AAAAAACASUAAAAAAAABEQAAAAAAAgEFAAAAAAACAaEAAAAAAAGBUQAAAAAAAsGlAAAAAAAAgZ0AAAAAAAAAnQAAAAAAAACNAAAAAAADAQ0AAAAAAAAA8QAAAAAAAgFxAAAAAAAAAO0AAAAAAAEBWQAAAAAAAAARAAAAAAAC0hEAAAAAAAEBHQAAAAAAAACtAAAAAAAAwZUAAAAAAAFyFQAAAAAAASHZAAAAAAAAAJEAAAAAAAEBiQAAAAAAAAABAAAAAAAAQYUAAAAAAAABEQAAAAAAAsGBAAAAAAADwakAAAAAAAAA0QAAAAAAAoFpAAAAAAAAASEAAAAAAAKBaQAAAAAAAQERAAAAAAAAAN0AAAAAAAEBLQAAAAAAAAD5AAAAAAAAAIEAAAAAAAAAwQAAAAAAAADBAAAAAAADATEAAAAAAAABXQAAAAAAAwFdAAAAAAAAAK0AAAAAAAAArQAAAAAAAoFVAAAAAAACgU0AAAAAAAIBGQAAAAAAAgDRAAAAAAAAus0AAAAAAAMBPQAAAAAAAcIFAAAAAAAAAKEAAAAAAAAA5QAAAAAAAADxAAAAAAAAARUAAAAAAAEBZQAAAAAAAgDFAAAAAAABgUUAAAAAAAAAmQAAAAAAAACRAAAAAAAAAFkAAAAAAAAA4QAAAAAAAAC1AAAAAAAAAJkAAAAAAAIBTQAAAAAAA4FZAAAAAAAAAHkAAAAAAAAAsQAAAAAAAkGNAAAAAAAAAKUAAAAAAAAAsQAAAAAAAACpAAAAAAACANEAAAAAAAAA/QAAAAAAAABxAAAAAAADgWkAAAAAAAIA9QAAAAAAAIGxAAAAAAADgU0AAAAAAAABFQAAAAAAAgDxAAAAAAABAgEAAAAAAAAAlQAAAAAAAAD9AAAAAAABAWEAAAAAAAICDQAAAAAAAwFZAAAAAAAAARkAAAAAAAAA7QAAAAAAAJIRAAAAAAACAMUAAAAAAAMBEQAAAAAAAACNAAAAAAAAYcEAAAAAAAMBAQAAAAAAAgDNAAAAAAABAS0AAAAAAAIBlQAAAAAAAsGFAAAAAAAAAUkAAAAAAAAA3QAAAAAAAwEBAAAAAAACAO0AAAAAAAIA2QAAAAAAAAD5AAAAAAABAQEAAAAAAAKBeQAAAAAAAwEBAAAAAAACwbEAAAAAAAAAuQAAAAAAAQFJAAAAAAAAAJ0AAAAAAAIAzQAAAAAAAgD9AAAAAAABwYUAAAAAAAADwPwAAAAAAgDJAAAAAAACARkAAAAAAAGBmQAAAAAAAgDhAAAAAAACAZUAAAAAAAIAwQAAAAAAAUGtAAAAAAACAMEAAAAAAAAAYQAAAAAAAAC1AAAAAAAAAJ0AAAAAAAABHQAAAAAAAgDhAAAAAAADYc0AAAAAAAAAoQAAAAAAAgE1AAAAAAADwdEAAAAAAAAA3QAAAAAAAgDRAAAAAAACAQEAAAAAAACBfQAAAAAAAAAxAAAAAAAAAAEAAAAAAAOBdQAAAAAAAIFxAAAAAAABwY0AAAAAAAMBZQAAAAAAAACtAAAAAAABgV0AAAAAAAAAvQAAAAAAAgFBAAAAAAAAAJEAAAAAAAAAjQAAAAAAAgERAAAAAAAAAJEAAAAAAAAA5QAAAAAAA4FJAAAAAAAAgVEAAAAAAAEyCQAAAAAAAgHpAAAAAAAAAJUAAAAAAAAAQQAAAAAAAQE9AAAAAAAAAJ0AAAAAAAOBpQAAAAAAAIFBAAAAAAADAUkAAAAAAAGiBQAAAAAAA0GlAAAAAAACAOEAAAAAAAAAyQAAAAAAAACVAAAAAAADAQkAAAAAAAADgPwAAAAAAEGZAAAAAAACAYUAAAAAAAMBCQAAAAAAAABxAAAAAAAAAPEAAAAAAAISDQAAAAAAA4FRAAAAAAAAAHkAAAAAAAABBQAAAAAAAAD9AAAAAAAAAEkAAAAAAAAAWQAAAAAAAYFNAAAAAAAAANUAAAAAAAAAcQAAAAAAAQExAAAAAAABgXUAAAAAAABB6QAAAAAAAACtAAAAAAAAAJ0AAAAAAAIA9QAAAAAAA4GhAAAAAAAAcjEAAAAAAgNizQAAAAAAAwFFAAAAAAADAQkAAAAAAAAA/QAAAAAAAiHBAAAAAAACwY0AAAAAAACSBQAAAAAAAkGFAAAAAAADARkAAAAAAAMBCQAAAAAAAAC1AAAAAAAAANEAAAAAAANBsQAAAAAAAQEdAAAAAAAAAOEAAAAAAAEBHQAAAAAAAgDFAAAAAAAAAO0AAAAAAAAD4PwAAAAAAAC9AAAAAAAAAQkAAAAAAAAAhQAAAAAAAaIJAAAAAAACAO0AAAAAAACBfQAAAAAAAEGlAAAAAAAAAO0AAAAAAAABaQAAAAAAAgDRAAAAAAAAALEAAAAAAAPBnQAAAAAAAPINAAAAAAABAgkAAAAAAAIBoQAAAAAAAQGBAAAAAAADMgkAAAAAAAAAsQAAAAAAA0GBAAAAAAABQYkAAAAAAAABQQAAAAAAAADJAAAAAAAAwZEAAAAAAAAAoQAAAAAAAAOA/AAAAAACAM0AAAAAAAGBSQAAAAAAAAC5AAAAAAAAAS0AAAAAAAEBUQAAAAAAAQFtAAAAAAADQbEAAAAAAAIBaQAAAAAAAACBAAAAAAAAANEAAAAAAAAAQQAAAAAAAAClAAAAAAABQY0AAAAAAAAAzQAAAAAAAQEBAAAAAAAAAHkAAAAAAAGBXQAAAAAAA8GRAAAAAAAAgUkAAAAAAAAAhQAAAAAAAgD1AAAAAAAAAJkAAAAAAAAAxQAAAAAAAgElAAAAAAAAAEEAAAAAAAAA8QAAAAAAAADVAAAAAAAAAJEAAAAAAAEBBQAAAAAAAgD5AAAAAAAAAQ0AAAAAAAAA8QAAAAAAAsGBAAAAAAACgUUAAAAAAAIBlQAAAAAAAgDpAAAAAAAAAQ0AAAAAAAJCKQAAAAAAAsGxAAAAAAABAZkAAAAAAAFh+QAAAAAAAgFhAAAAAAACATkAAAAAAAAA5QAAAAAAAAEFAAAAAAAA4cUAAAAAAAAAIQAAAAAAAABZAAAAAAAAAMEAAAAAAAABEQAAAAAAAgDdAAAAAAADAYUAAAAAAAAAoQAAAAAAAgDxAAAAAAAAAQ0AAAAAAAIBJQAAAAAAA4FNAAAAAAABAQEAAAAAAAABCQAAAAAAA4F9AAAAAAAAAUEAAAAAAAIBCQAAAAAAAgGBAAAAAAAAALkAAAAAAAABEQAAAAAAAwEFAAAAAAAAALkAAAAAAAJSGQAAAAAAAQEpAAAAAAAAAJUAAAAAAAIAwQAAAAAAAABBAAAAAAAAAAEAAAAAAAAAkQAAAAAAAAC5AAAAAAAAwYEAAAAAAACB+QAAAAAAAgDBAAAAAAABAR0AAAAAAAJB2QAAAAAAAIFVAAAAAAAAAEkAAAAAAAGh5QAAAAAAABIZAAAAAAACAQkAAAAAAAMBPQAAAAAAAQExAAAAAAABAWUAAAAAAAEBAQAAAAAAAjINAAAAAAAAgY0AAAAAAAIA5QAAAAAAA4GZAAAAAAACANUAAAAAAAAA2QAAAAAAAACNAAAAAAAAAKEAAAAAAAKBbQAAAAAAAAChAAAAAAAB4ekAAAAAAAIA+QAAAAAAAACNAAAAAAAAIfEAAAAAAAIA0QAAAAAAAAC5AAAAAAAAAJkAAAAAAAIAyQAAAAAAAcGtAAAAAAAAAVUAAAAAAAIBPQAAAAAAAABJAAAAAAAAAKkAAAAAAAAASQAAAAAAAgElAAAAAAAAAGkAAAAAAAAA/QAAAAAAAACFAAAAAAADAS0AAAAAAAIAzQAAAAAAAYFFAAAAAAACAOkAAAAAAAEBHQAAAAAAA8GJAAAAAAADmnUAAAAAAAHBtQAAAAAAA4FRAAAAAAAAAP0AAAAAAAIAyQAAAAAAAgEpAAAAAAAAAIkAAAAAAAMBMQAAAAAAAAPg/AAAAAAAA8D8AAAAAAJBhQAAAAAAAAOA/AAAAAAAAL0AAAAAAAGBYQAAAAAAAIFNAAAAAAAAAPUAAAAAAAGBiQAAAAAAAAENAAAAAAADAfUAAAAAAAKB4QAAAAAAAQEtAAAAAAAAAJkAAAAAAAPyAQAAAAAAAkGNAAAAAAAAALUAAAAAAAIA6QAAAAAAA4F5AAAAAAAAAL0AAAAAAAIBAQAAAAAAAQEJAAAAAAADAQkAAAAAAAAAlQAAAAAAAADdAAAAAAAAAPkAAAAAAAMBSQAAAAAAAoGFAAAAAAACAMEAAAAAAAKCPQAAAAAAA4GlAAAAAAADAVkAAAAAAACBYQAAAAAAAoGJAAAAAAACAX0AAAAAAAAASQAAAAAAAABpAAAAAAABAQkAAAAAAAIBlQAAAAAAAACRAAAAAAAAAJkAAAAAAAMBIQAAAAAAAAB5AAAAAAACAWEAAAAAAAOBRQAAAAAAAgEJAAAAAAADAYUAAAAAAAAA/QAAAAAAAAOA/AAAAAACAPEAAAAAAAIA4QAAAAAAAACJAAAAAAAAAHkAAAAAAAMBJQAAAAAAAAFZAAAAAAACAP0AAAAAAAABCQAAAAAAAkHZAAAAAAAAANEAAAAAAAAAzQAAAAAAAgDdAAAAAAADwfEAAAAAAAIBnQAAAAAAAgDJAAAAAAAAAM0AAAAAAAIA2QAAAAAAAAEtAAAAAAACAM0AAAAAAAIA8QAAAAAAAIGBAAAAAAABAREAAAAAAAMBMQAAAAAAAAF5AAAAAAIA6s0AAAAAAAKh1QAAAAAAAABxAAAAAAACAU0AAAAAAACB3QAAAAAAAwE5AAAAAAACgWEAAAAAAAIAyQAAAAAAAwFNAAAAAAABQY0AAAAAAAAAzQAAAAAAAwFdAAAAAAAAAAEAAAAAAAMBDQAAAAAAAADxAAAAAAAAAL0AAAAAAAAAtQAAAAAAAgFxAAAAAAADwZUAAAAAAAAA7QAAAAAAAgD1AAAAAAAAAWkAAAAAAAPB7QAAAAAAAwENAAAAAAAAAIUAAAAAAAGBfQAAAAAAAAE9AAAAAAAAAN0AAAAAAAAAsQAAAAAAAAC1AAAAAAADAREAAAAAAAAAgQAAAAAAAAFVAAAAAAAAAKUAAAAAAAAA1QAAAAAAAwEFAAAAAAAAALkAAAAAAAEBbQAAAAAAA0HVAAAAAAABAXUAAAAAAABhyQAAAAAAA4GlAAAAAAACAZUAAAAAAABB0QAAAAAAAADdAAAAAAAAALkAAAAAAAAAkQAAAAAAAACBAAAAAAAAA8D8AAAAAAAAQQAAAAAAAAARAAAAAAAAAHkAAAAAAAAA1QAAAAAAAgDxAAAAAAADAQEAAAAAAAIBbQAAAAAAAACJAAAAAAAAAMUAAAAAAAOBcQAAAAAAAgDNAAAAAAAAA4D8AAAAAAAA7QAAAAAAAABxAAAAAAAAA8D8AAAAAAAA4QAAAAAAAAAxAAAAAAAAAEkAAAAAAAADwPwAAAAAAABhAAAAAAABAVUAAAAAAAOBQQAAAAAAA8GBAAAAAAACgZEAAAAAAACBZQAAAAAAAACdAAAAAAAAAI0AAAAAAAAAhQAAAAAAAADxAAAAAAAAA4D8AAAAAAIA4QAAAAAAAgExAAAAAAABATEAAAAAAAAAxQAAAAAAAACRAAAAAAACUhEAAAAAAAEBQQAAAAAAAEGRAAAAAAACIekAAAAAAAMBPQAAAAAAAAExAAAAAAACwhUAAAAAAACBeQAAAAAAAAENAAAAAAABwZkAAAAAAAIBNQAAAAAAAADJAAAAAAACAPkAAAAAAAABBQAAAAAAAwGdAAAAAAAAAMEAAAAAAAJBhQAAAAAAAjIpAAAAAAABgU0AAAAAAAIA/QAAAAAAAgDdAAAAAAAAAPUAAAAAAAADgPwAAAAAAwEdAAAAAAAAAGkAAAAAAAAAQQAAAAAAAgDZAAAAAAAAAKUAAAAAAAAAcQAAAAAAAgD1AAAAAAAAABEAAAAAAANh5QAAAAAAAAFRAAAAAAACcgEAAAAAAAAArQAAAAAAAADhAAAAAAACAOEAAAAAAAABHQAAAAAAAADtAAAAAAACgVkAAAAAAAAAkQAAAAAAAoF5AAAAAAADAREAAAAAAAIA7QAAAAAAAYFNAAAAAAABARkAAAAAAAIBNQAAAAAAAgGRAAAAAAACge0AAAAAAAPCDQAAAAAAAQFBAAAAAAADATEAAAAAAAAA4QAAAAAAAACdAAAAAAACAXkAAAAAAAJSCQAAAAAAAYF5AAAAAAACkm0AAAAAAAAD4PwAAAAAAcGpAAAAAAACAVkAAAAAAAABXQAAAAAAAwHFAAAAAAACgV0AAAAAAAABkQAAAAAAA4FVAAAAAAACAMEAAAAAAAMBlQAAAAAAA2HRAAAAAAABAQUAAAAAAAIBGQAAAAAAAwFFAAAAAAAAgWUAAAAAAAEyEQAAAAAAAgDFAAAAAAAAALkAAAAAAAPBhQAAAAAAAgFhAAAAAAAAA8D8AAAAAACBZQAAAAAAAgEVAAAAAAACASUAAAAAAAIBDQAAAAAAAAEVAAAAAAACAOkAAAAAAAABAQAAAAAAAIGJAAAAAAAAAbkAAAAAAAPh+QAAAAAAAkHVAAAAAAAAAUUAAAAAAAAAlQAAAAAAAACVAAAAAAACAO0AAAAAAAMBRQAAAAAAAAC9AAAAAAADEs0AAAAAAANSFQAAAAAAAIFtAAAAAAAAAR0AAAAAAAAA1QAAAAAAAwFFAAAAAAAAAP0AAAAAAAAAlQAAAAAAAACxAAAAAAAAASkAAAAAAAAAzQAAAAAAAgEFAAAAAAACANUAAAAAAAIA8QAAAAAAAQEBAAAAAAADAWkAAAAAAAADwPwAAAAAAABBAAAAAAADAS0AAAAAAAMBuQAAAAAAAgENAAAAAAADAUkAAAAAAAAA/QAAAAAAAgDdAAAAAAAAAMkAAAAAAAAAtQAAAAAAAgGdAAAAAAAAAJ0AAAAAAANBgQAAAAAAAwE1AAAAAAAAACEAAAAAAAAA4QAAAAAAAgD9AAAAAAADAVkAAAAAAAAAeQAAAAAAAWIJAAAAAAACAQEAAAAAAAKBXQAAAAAAAgD9AAAAAAAAAN0AAAAAAAABMQAAAAAAAEHtAAAAAAABAQkAAAAAAAAA2QAAAAAAAqHpAAAAAAADQs0AAAAAAAABVQAAAAAAAABJAAAAAAAAgUEAAAAAAAKBeQAAAAAAAACpAAAAAAACASUAAAAAAAOBXQAAAAAAAgEpAAAAAAADAT0AAAAAAAAAvQAAAAAAAADRAAAAAAAAAGkAAAAAAAAA/QAAAAAAAAAxAAAAAAABATkAAAAAAAIA3QAAAAAAAgEVAAAAAAABgUkAAAAAAAFBiQAAAAAAAADRAAAAAAABgUUAAAAAAAAAWQAAAAAAAgDBAAAAAAAAAIEAAAAAAAGBTQAAAAAAAQFpAAAAAAAAAV0AAAAAAAMBOQAAAAAAAgD9AAAAAAADAeEAAAAAAAJBgQAAAAAAA8GlAAAAAAAAAHkAAAAAAABBnQAAAAAAAADhAAAAAAACAQ0AAAAAAAAAzQAAAAAAAYFlAAAAAAAAAIEAAAAAAAAAaQAAAAAAAABJAAAAAAAAAPEAAAAAAALSEQAAAAAAAYGVAAAAAAABgUkAAAAAAAABKQAAAAAAAYF1AAAAAAAAAHkAAAAAAAAAoQAAAAAAAAB5AAAAAAADAVEAAAAAAAEBEQAAAAAAAADVAAAAAAAAAKUAAAAAAAFBzQAAAAAAAQE9AAAAAAAAASkAAAAAAAIA4QAAAAAAAQEhAAAAAAACAQEAAAAAAAGBUQAAAAAAA2HBAAAAAAAAAMUAAAAAAAAAlQAAAAAAAAPg/AAAAAAAAJkAAAAAAAAA8QAAAAAAAABpAAAAAAACATUAAAAAAAAA5QAAAAAAAgDFAAAAAAACAUEAAAAAAAIBAQAAAAAAAgEJAAAAAAACcgUAAAAAAAO6QQAAAAAAAADNAAAAAAAAAMUAAAAAAAHCMQAAAAAAAYFdAAAAAAACAWUAAAAAAAKh6QAAAAAAAACxAAAAAAAAAPkAAAAAAAAAzQAAAAAAAgDFAAAAAAAAALEAAAAAAAEBBQAAAAAAAAAxAAAAAAACASUAAAAAAAAArQAAAAAAAgF1AAAAAAAAAHEAAAAAAAGBWQAAAAAAAgDpAAAAAAAAAOUAAAAAAAAAQQAAAAAAAQFtAAAAAAAAAMEAAAAAAADh6QAAAAAAAAEVAAAAAAACAOEAAAAAAAAAeQAAAAAAAwEJAAAAAAACAQEAAAAAAAAAhQAAAAAAAACdAAAAAAADgcUAAAAAAAAAYQAAAAAAAAB5AAAAAAAAAQEAAAAAAAIBUQAAAAAAAQEFAAAAAAAAASUAAAAAAAOBgQAAAAAAAwE9AAAAAAAAALEAAAAAAAMBcQAAAAAAAQEFAAAAAAADAWUAAAAAAAEiDQAAAAAAAAFZAAAAAAAAAMEAAAAAAAAAEQAAAAAAAACVAAAAAAAAAN0AAAAAAAMBzQAAAAAAASHlAAAAAAADAREAAAAAAAKBSQAAAAAAAIFVAAAAAAAAAT0AAAAAAAPBmQAAAAAAAaIZAAAAAAAAAikAAAAAAAEBCQAAAAAAAqIBAAAAAAADASEAAAAAAAAA2QAAAAAAAYFxAAAAAAACIc0AAAAAAAAAcQAAAAAAAQH9AAAAAAAAAMEAAAAAAAAApQAAAAAAAoFNAAAAAAAAAP0AAAAAAAEBLQAAAAAAAAOA/AAAAAAAgakAAAAAAAABYQAAAAAAAAAxAAAAAAACAMkAAAAAAAAA2QAAAAAAAACdAAAAAAAAALUAAAAAAAAAYQAAAAAAAdIJAAAAAAABQZEAAAAAAAAASQAAAAAAAADRAAAAAAAAwb0AAAAAAAEBBQAAAAAAAADdAAAAAAADAQEAAAAAAAJB3QAAAAAAAsGdAAAAAAACASUAAAAAAAAAeQAAAAAAAYFlAAAAAAAAAAEAAAAAAAEBXQAAAAAAAMHtAAAAAAADgakAAAAAAAIA8QAAAAAAAEHFAAAAAAABAV0AAAAAAAEBnQAAAAAAAYF1AAAAAAADAQEAAAAAAAEBZQAAAAAAAwEVAAAAAAAAAQkAAAAAAAIBEQAAAAAAAgElAAAAAAAAAHkAAAAAAAIAxQAAAAAAAAC9AAAAAAABAQUAAAAAAAAApQAAAAAAAwGxAAAAAAABgbUAAAAAAAEBmQAAAAAAAgEhAAAAAAABASUAAAAAAAAAqQAAAAAAAgDtAAAAAAAAAMEAAAAAAAEBEQAAAAAAAgENAAAAAAAAAOEAAAAAAAGBjQAAAAAAAgF1AAAAAAAAAGkAAAAAAAAA1QAAAAAAAgDdAAAAAAAAAFkAAAAAAAKSEQAAAAAAAIGtAAAAAAABgVUAAAAAAAAA9QAAAAAAAwEZAAAAAAACAY0AAAAAAADBhQAAAAAAAVIZAAAAAAADAQkAAAAAAAAA/QAAAAAAAAChAAAAAAAAALkAAAAAAAFCCQAAAAAAAAFhAAAAAAAAAEkAAAAAAAAhzQAAAAAAAAExAAAAAAADAS0AAAAAAACBSQAAAAAAAACdAAAAAAADATUAAAAAAAIBCQAAAAAAAWHVAAAAAAADAQUAAAAAAABBiQAAAAAAAgD9AAAAAAAAAKkAAAAAAAIA9QAAAAAAAAExAAAAAAAAgZEAAAAAAAAA9QAAAAAAAADVAAAAAAAAQY0AAAAAAAAAlQAAAAAAAQEFAAAAAAACAQUAAAAAAAKh9QAAAAAAAMGZAAAAAAAAgWEAAAAAAAEBgQAAAAAAAYHBAAAAAAAAACEAAAAAAAAAEQAAAAAAAAPg/AAAAAADAUkAAAAAAAAAtQAAAAAAAACpAAAAAAAAARUAAAAAAAAD4PwAAAAAAIGdAAAAAAAAA8D8AAAAAAIA7QAAAAAAAABRAAAAAAAAAKkAAAAAAAMBiQAAAAAAAEGxAAAAAAADAWUAAAAAAAKBZQAAAAAAAYFVAAAAAAAAAIUAAAAAAAMBIQAAAAAAAADBA",
           "dtype": "f8"
          },
          "sizemin": 5,
          "sizemode": "area"
         },
         "mode": "markers",
         "subplot": "mapbox2",
         "text": [
          "CESI ECOLE INGENIEURS NANTERRE",
          "LYCEE GENERAL ET TECHNOLOGIQUE",
          "LT LYCEE DES METIERS",
          "INST HTES ETUDES ECO COM BORDX",
          "ECOLE COMMERCE EUROP BORDEAUX",
          "UNIVERSITE DE BORDEAUX",
          "INST HTES ETUDES ECO COM BORDX",
          "GROUPE ESSCA",
          "INST POLYTECHNIQUE BORDEAUX",
          "LYCEE GENERAL PRIVE",
          "UNIVERSITÉ DE BORDEAUX",
          "FORMATIONS D'AKI 10 - FORMADKL",
          null,
          "LYC TECHNOL PRIVE DES METIERS",
          "UNIVERSITE DE BORDEAUX",
          "UNIVERSITE DE BORDEAUX",
          "UNIVERSITE DE BORDEAUX",
          "IDRAC LYON",
          "LYC GEN-TECHNO PR DES METIERS",
          "LYCEE POLYVALENT",
          "ECOLE SUP ARTS TECHNIQUES DE L",
          "ECOLE SUPERIEURE METIERS IMAGE",
          "MJM GRAPHIC DESIGN - ESCAAD -",
          "ETAB PR ENSEIGNEMENT TECH",
          "UNIVERSITE DE BORDEAUX",
          "ECOLE TECHNIQUE PRIVEE",
          "ETAB SUPERIEUR TECHNIQUE PR",
          "UNIVERSITE DE BORDEAUX",
          "INSTITUT BORDELAIS STYLISME MO",
          "ECOLE SUPERIEURE PRIVEE",
          "SUP DE VINCI",
          "UNIVERSITE DE BORDEAUX",
          "LYC TECHNOL PRIVE DES METIERS",
          "IFAG BORDEAUX",
          "INSTITUT SUPERIEUR DE COMMUNIC",
          "EC COMMERCE EUROP BORDEAUX",
          "LYCEE GENERAL ET TECHNOLOGIQUE",
          "ECOLE SUP ARTS TECHNIQUES DE L",
          "ECOLE SUPERIEURE METIERS IMAGE",
          "LYCEE GENERAL PRIVE",
          "PESMD BORDEAUX AQUITAINE",
          "UNIVERSITÉ DE BORDEAUX",
          "LYCEE GENERAL",
          "LYCEE POLYVALENT",
          "CESI ECOLE INGENIEURS NANTERRE",
          "CHU DE BORDEAUX",
          "CHU DE BORDEAUX",
          "LT LYCEE DES METIERS",
          "LT LYCEE DES METIERS",
          "EC PR DES SCIENCES INFORMATIQU",
          "ECOLE SUPÉRIEURE DU DIGITAL",
          "ECOLE SUPERIEURE METIERS IMAGE",
          "MJM GRAPHIC DESIGN - ESCAAD -",
          "ECOLE COMMERCE EUROP BORDEAUX",
          "MJM GRAPHIC DESIGN - ESCAAD -",
          "INST POLYTECHNIQUE BORDEAUX",
          "DIGITAL CAMPUS BORDEAUX",
          "ECOLE TECHNIQUE PRIVEE",
          "MJM GRAPHIC DESIGN - ESCAAD -",
          "UNIVERSITE DE BORDEAUX",
          "ECOLE MUNICIPALE BEAUX ARTS",
          "ECOLE SUPERIEURE DE THEATRE",
          "EC PR DES SCIENCES INFORMATIQU",
          "ECOLE SUPERIEURE DU DIGITAL",
          "ECOLE PRIVEE",
          "LYCEE PROF PRIVE DES METIERS",
          "LYCEE PROF PRIVE DES METIERS",
          "LYCEE PROF PRIVE DES METIERS",
          "EC FRANCAISE ATTACHES DE PRESS",
          "HAUTES ETUDES INTERNATIONALES",
          "LYCEE GENERAL ET TECHNOLOGIQUE",
          "CFPBNA",
          "UNIVERSITE DE BORDEAUX",
          "ECOLE TECHNIQUE PRIVEE",
          "ECOLE TECHNIQUE PRIVEE",
          "INSTITUT SUPERIEUR DE COMMUNIC",
          "GROUPE ESSCA",
          "ECOLE SUPERIEURE DES BEAUX ART",
          "EC PR DES SCIENCES INFORMATIQU",
          "ECOLE SUPERIEURE DU DIGITAL",
          "ECOLE SUPERIEURE PRIVEE",
          "I.S.E.G",
          "UNIVERSITE DE BORDEAUX",
          "UNIVERSITE DE BORDEAUX",
          "UNIVERSITE DE BORDEAUX",
          "UNIVERSITE DE BORDEAUX",
          "INSTITUT BORDELAIS STYLISME MO",
          "INSTITUT SUPERIEUR EUROPEEN DE",
          "ETAB PRIVE ENSEIGNT SUPERIEUR",
          "ETAB PRIVE ENSEIGNT SUPERIEUR",
          "EC SUP GEST COMMERCE FINANCE",
          "ECOLE TECHNIQUE PRIVEE",
          "ECOLE COMMERCE EUROP BORDEAUX",
          "ECOLE TECHNIQUE PRIVEE",
          "IFAG BORDEAUX",
          "UNIVERSITÉ DE BORDEAUX",
          null,
          null,
          "LA COMPAGNIE DE FORMATION",
          "ECOLE BORDELAISE DU VIN",
          "LYCEE PROF PRIVE DES METIERS",
          "PESMD BORDEAUX AQUITAINE",
          "PESMD BORDEAUX AQUITAINE",
          "ECOLE TECH PRIVEE",
          "INST SUPERIEUR GESTION PARIS",
          "CTRE ETUDES SUP INDUST PARIS",
          "SUP DE COM",
          "LYC GEN TECH PRIVE",
          "LYCEE GEN.ET TECHNOL.PRIVE",
          "ECOLE TECHNIQUE PRIVEE",
          "ECOLE TECHNIQUE PRIVEE",
          "LA COMPAGNIE DE FORMATION",
          null,
          "UNIVERSITÉ DE BORDEAUX",
          "ECOLE PRIVEE",
          "INST SUPERIEUR GESTION PARIS",
          "EC FR ELECTRON INFOR VILLEJUIF",
          "EC FRANCAISE ATTACHES DE PRESS",
          "IDRAC LYON",
          "LYCEE GEN.ET TECHNOL.PRIVE",
          "LYC TECHNOL PRIVE DES METIERS",
          "LYCEE GENERAL",
          "LYCEE GENERAL ET TECHNOLOGIQUE",
          "C H S  CHARLES PERRENS",
          "ECV BORDEAUX - ICA",
          "LYC GEN-TECHNO PR DES METIERS",
          "EC PR DES SCIENCES INFORMATIQU",
          "ECOLE INTERNATIONALE TUNON",
          "INSTITUT SUPERIEUR DE FORMATIO",
          "C.H.R.",
          "ECOLE TECHNIQUE PRIVEE",
          "UNIVERSITÃ DE BORDEAUX",
          "INST. FORMAT. SOINS INFIRM.",
          "LT LYCEE DES METIERS",
          "INSTITUT METIERS DU NOTARIAT",
          "DIGITAL CAMPUS BORDEAUX",
          "DIGITAL CAMPUS BORDEAUX",
          null,
          "LYCEE GENERAL ET TECHNOLOGIQUE",
          "LT LYCEE DES METIERS",
          "UNIVERSITE DE BORDEAUX",
          "ETAB PR ENSEIGNEMENT TECH",
          "LYCEE GEN.ET TECHNOL.PRIVE",
          "LYCEE TECHNOLOGIQUE PRIVE",
          "ECOLE TECHNIQUE PRIVEE",
          "UNIVERSITE DE BORDEAUX",
          "ECOLE SUPERIEURE TECHNIQUE PRI",
          "ETAB PRIVE ENSEIGNT SUPERIEUR",
          "ECOLE SUPERIEURE DES BEAUX ART",
          "IFAG BORDEAUX",
          "EC. TECH. PRIVEE",
          "C H S  CHARLES PERRENS",
          "FORMASUP CAMPUS",
          "EC SUP GEST COMMERCE FINANCE",
          "I.S.E.G",
          "EC SUP GEST COMMERCE FINANCE",
          "LYCEE GENERAL ET TECHNOLOGIQUE",
          "LT LYCEE DES METIERS",
          "CTR DE FORMATION D APPRENTIS",
          "ECV BORDEAUX - ICA",
          "ARTSIDE GAMES",
          "EC PR DES SCIENCES INFORMATIQU",
          "INST HTES ETUDES ECO COM BORDX",
          "UNIVERSITE DE BORDEAUX",
          "UNIVERSITE DE BORDEAUX",
          "ECOLE SUPERIEURE METIERS IMAGE",
          "ECOLE MUNICIPALE BEAUX ARTS",
          "LYCEE GENERAL ET TECHNOLOGIQUE",
          "PESMD BORDEAUX AQUITAINE",
          "IFAG",
          "INFOSUP",
          "LYCEE GENERAL",
          "INSTITUT BORDELAIS STYLISME MO",
          "CTRE ETUDES SUP INDUST PARIS",
          "LYCEE GEN.ET TECHNOL.PRIVE",
          "ECV BORDEAUX - ICA",
          "INST SUPERIEUR DES ARTS APPLIQ",
          "ECOLE TECHNIQUE PRIVEE",
          "ETABLISSEMENT SUPERIEUR PRIVE",
          "ECOLE SUPERIEURE PRIVEE",
          "IDRAC LYON",
          "EC SUP PROFESSIONS IMMOBILIERE",
          "ECOLE DES HAUTES ETUDES INTERN",
          "LYC GEN-TECHNO PR DES METIERS",
          "ECOLE 2D DEGRE PROF.PRIVEE",
          "INSTITUT SUPERIEUR D'OPTIQUE",
          "IDRAC LYON",
          "INST SUP EURO FORMATION ACTION",
          "UNIVERSITE DE BORDEAUX",
          "UNIVERSITE DE BORDEAUX",
          "ECV BORDEAUX - ICA",
          "ECOLE SUPERIEURE TECHNIQUE PRI",
          "ECOLE SUPERIEURE DE THEATRE",
          "EC SPECIALE MECA ELECTRICITE",
          "INST POLYTECHNIQUE BORDEAUX",
          "EC PR DES SCES INFORMATIQUES",
          "INST POLYTECHNIQUE BORDEAUX",
          "ECOLE TECHNIQUE PRIVEE",
          "INST SUP EURO FORMATION ACTION",
          "ECOLE NATIONALE MAGISTRATURE",
          "CTR DE FORMATION D APPRENTIS",
          "INSTITUT SUPERIEUR  FORMATION",
          "LYCEE GEN.ET TECHNOL.PRIVE",
          "UNIVERSITE DE BORDEAUX",
          "UNIVERSITE DE BORDEAUX",
          "UNIVERSITE DE BORDEAUX",
          "ECOLE SUP ARTS TECHNIQUES DE L",
          "INSTITUT SUPERIEUR EUROPEEN DE",
          "ECOLE SUPERIEURE PRIVEE",
          "EC TECH NOSCHOOL",
          "DIGITAL CAMPUS BORDEAUX",
          "SUP DE VINCI",
          "ECOLE SUPERIEURE PRIVEE",
          "ECV BORDEAUX - ICA",
          "INSTITUT BORDELAIS STYLISME MO",
          "PESMD BORDEAUX AQUITAINE",
          "INSTITUT METIERS DU NOTARIAT",
          "CAFA FORMATIONS",
          "CAFA FORMATIONS",
          "LA HORDE",
          "ETABLISSEMENT SUPERIEUR LIBRE",
          "ETABLISSEMENT SUPERIEUR LIBRE",
          "I.S.E.G",
          "EC. TECH. PRIVEE",
          "UNIVERSITE DE BORDEAUX",
          "ETAB SUPERIEUR TECHNIQUE PR",
          "ETAB SUPERIEUR TECHNIQUE PR",
          "ORGANISME FORMATION-CFA",
          "UNIVERSITE BORDEAUX 3",
          "UNIVERSITE DE BORDEAUX",
          "UNIVERSITE DE BORDEAUX",
          "LYCEE GENERAL",
          "ECOLE SUPERIEURE DES BEAUX ART",
          "ECOLE SUPERIEURE DES BEAUX ART",
          "ETAB SUPERIEUR TECHNIQUE PR",
          "ETAB SUPERIEUR TECHNIQUE PR",
          "ECV BORDEAUX - ICA",
          "CESI ECOLE INGENIEURS NANTERRE",
          "ECOLE NATIONALE MAGISTRATURE",
          "INSTITUT SUPERIEUR  FORMATION",
          "INSEEC BORDEAUX",
          "LYCEE GENERAL",
          "LYCEE GENERAL ET TECHNOLOGIQUE",
          "INST. FORMAT. SOINS INFIRM.",
          "INST HTES ETUDES ECO COM BORDX",
          "ECOLE COMMERCE EUROP BORDEAUX",
          "IDRAC LYON",
          "ETAB PRIVE ENSEIGNT SUPERIEUR",
          "C H S  CHARLES PERRENS",
          "ECOLE SUPERIEURE DES BEAUX ART",
          "EC SUP GEST COMMERCE FINANCE",
          "LA HORDE",
          "ETAB SUPERIEUR TECHNIQUE PR",
          "INST HTES ETUDES ECO COM BORDX",
          "INSTITUT BORDELAIS STYLISME MO",
          "INST POLYTECHNIQUE BORDEAUX",
          "LYCEE GENERAL ET TECHNOLOGIQUE",
          "IFAG",
          "C.H.R.",
          "UNIVERSITE BORDEAUX 3",
          "INST SUPERIEUR DES ARTS APPLIQ",
          "ECOLE SUPERIEURE PRIVEE",
          "ECOLE SUPERIEURE D'ARCHITECTUR",
          "ETAB PRIVE ENSEIGNT SUPERIEUR",
          "LA HORDE",
          "EC FRANCAISE ATTACHES DE PRESS",
          "LYC GEN TECH PRIVE",
          "LYCEE TECHNOLOGIQUE PRIVE",
          "UNIVERSITE DE BORDEAUX",
          "C H S  CHARLES PERRENS",
          "ECOLE TECH PRIVEE",
          null,
          "UNIVERSITÉ DE BORDEAUX",
          "ESARC EVOLUTION ARTS APPLIQUÃ",
          "LYCEE GEN.ET TECHNOL.PRIVE",
          "UNIVERSITE DE BORDEAUX",
          "UNIVERSITE DE BORDEAUX",
          "L'ECOLE DU 7EME ART",
          "UNIVERSITE DE BORDEAUX",
          "ECOLE SUP ARTS TECHNIQUES DE L",
          "INST SUPERIEUR DES ARTS APPLIQ",
          "MJM GRAPHIC DESIGN - ESCAAD -",
          "ARTSIDE GAMES",
          "ESARC EVOLUTION",
          "EC SUP GEST COMMERCE FINANCE",
          "INST POLYTECHNIQUE BORDEAUX",
          "EPITECH",
          "CTR DE FORMATION D APPRENTIS",
          "EC PR DES SCIENCES INFORMATIQU",
          "LYCEE GENERAL",
          "LYCEE GEN.ET TECHNOL.PRIVE",
          "LYCEE GENERAL PRIVE",
          "LYCEE GENERAL PRIVE",
          "E C V AQUITAINE I C B",
          "GROUPE ESSCA",
          "INST SUPERIEUR GESTION PARIS",
          "INST POLYTECHNIQUE BORDEAUX",
          "LYCEE GENERAL",
          "INST SUP EURO FORMATION ACTION",
          "IDRAC LYON",
          "LYC GEN-TECHNO PR DES METIERS",
          "ECOLE PRIVEE",
          "LYCEE POLYVALENT",
          "ECOLE INTERNATIONALE TUNON",
          "EC TECH PR ARTS APPLIQUES",
          "UNIVERSITÉ DE BORDEAUX",
          null,
          "ECOLE SUPERIEURE METIERS IMAGE",
          "INSTITUT METIERS DU NOTARIAT",
          "I.B.S.M.",
          "E - ARTSUP",
          "CESI ECOLE INGENIEURS NANTERRE",
          "LYCEE GENERAL ET TECHNOLOGIQUE",
          "UNIVERSITE BORDEAUX 3",
          "UNIVERSITE DE BORDEAUX",
          "UNIVERSITE DE BORDEAUX",
          "LYCEE GENERAL",
          "EC SPECIALE MECA ELECTRICITE",
          "UNIVERSITÉ DE BORDEAUX",
          "CTR DE FORMATION D APPRENTIS",
          "LYCEE GENERAL",
          "ECV BORDEAUX - ICA",
          "ETAB SUPERIEUR TECHNIQUE PR",
          "GROUPE ESSCA",
          "INST POLYTECHNIQUE BORDEAUX",
          "IDRAC LYON",
          "INST SUPERIEUR GESTION PARIS",
          "LYC GEN TECH PRIVE",
          "INST POLYTECHNIQUE BORDEAUX",
          "LYCEE GEN.ET TECHNOL.PRIVE",
          "LYCEE TECHNOLOGIQUE PRIVE",
          "LYCEE GENERAL",
          "UNIVERSITE DE BORDEAUX",
          "LYCEE GENERAL",
          "LYCEE GENERAL",
          "L'ECOLE DU 7EME ART",
          "ETAB PRIVE ENSEIGNT SUPERIEUR",
          "ECOLE SUP COMMERCE ECO NUMERIQ",
          "UNIVERSITE DE BORDEAUX",
          "ECOLE SUPERIEURE METIERS IMAGE",
          "L'ECOLE DU 7EME ART",
          "ECOLE INTERNATIONALE TUNON",
          "INSTITUT SUPERIEUR DE FORMATIO",
          "INSTITUT SUPERIEUR D'OPTIQUE",
          "LYC TECHNOL PRIVE DES METIERS",
          "C H S  CHARLES PERRENS",
          "EC SPECIALE MECA ELECTRICITE",
          "ECOLE SECONDAIRE PROF.PRIVEE",
          "INST SUPERIEUR DES ARTS APPLIQ",
          "MJM GRAPHIC DESIGN - ESCAAD -",
          "ARTSIDE GAMES",
          "EURIDIS BORDEAUX",
          "CTR DE FORMATION D APPRENTIS",
          "EC FRANCAISE ATTACHES DE PRESS",
          "EC PR DES SCIENCES INFORMATIQU",
          "LYC GEN TECH PRIVE",
          "IDRAC LYON",
          "ECOLE SUPERIEURE PRIVEE",
          "ARTSIDE GAMES",
          "BORDEAUX  YNOV CAMPUS",
          null,
          "LYCEE GENERAL",
          "ECOLE TECHNIQUE PRIVEE",
          "IFAG BORDEAUX",
          "EC. TECH. PRIVEE",
          "ESARC EVOLUTION",
          "ECOLE TECHNIQUE PRIVEE",
          "IFAG BORDEAUX",
          "INSTITUT SUPERIEUR DE COMMUNIC",
          "ECOLE TECH SUP PRIVEE",
          "IDRAC LYON",
          "LYCEE PROF PRIVE DES METIERS",
          "LYC GEN TECH PRIVE",
          "LYCEE GENERAL ET TECHNOLOGIQUE",
          "ECOLE SECONDAIRE PROF.PRIVEE",
          "INST SUPERIEUR DES ARTS APPLIQ",
          "ECOLE SUPERIEURE TECHNIQUE PRI",
          "IDRAC LYON",
          "UNIVERSITE DE BORDEAUX",
          "UNIVERSITE DE BORDEAUX",
          "UNIVERSITE DE BORDEAUX",
          "UNIVERSITE DE BORDEAUX",
          "UNIVERSITE BORDEAUX 3",
          "IDRAC LYON",
          "INSTITUT BORDELAIS STYLISME MO",
          "ECOLE NATIONALE MAGISTRATURE",
          "CTR DE FORMATION D APPRENTIS",
          "IFAG",
          "INST SUPERIEUR DES ARTS APPLIQ",
          "ECOLE SUPERIEURE DE THEATRE",
          "LA HORDE",
          "ETABLISSEMENT TECHNIQUE PRIVE",
          "INST SUPERIEUR GESTION PARIS",
          "EC SUP GEST COMMERCE FINANCE",
          "CAFA FORMATIONS",
          "ARTSIDE GAMES",
          "INST HTES ETUDES ECO COM BORDX",
          "ETABLISSEMENT SUPERIEUR PRIVE",
          "LYCEE TECHNOLOGIQUE PRIVE",
          "ECOLE 2D DEGRE PROF.PRIVEE",
          "ECOLE 2ND DEGRE PROF PRIVEE",
          "FORMASUP CAMPUS",
          "ESARC EVOLUTION",
          "ECV BORDEAUX - ICA",
          "LYC TECHNOL PRIVE DES METIERS",
          "UNIVERSITE DE BORDEAUX",
          "UNIVERSITE DE BORDEAUX",
          "UNIVERSITE DE BORDEAUX",
          "LYCEE GENERAL ET TECHNOLOGIQUE",
          "ARTSIDE GAMES",
          "UNIVERSITE BORDEAUX 3",
          "INST SUP EURO FORMATION ACTION",
          "CESI ECOLE INGENIEURS NANTERRE",
          "EC SPECIALE MECA ELECTRICITE",
          "ESARC EVOLUTION",
          "I.S.E.G",
          "ECOLE SUPERIEURE",
          "ECOLE SUPERIEURE DE THEATRE",
          "EC FRANCAISE ATTACHES DE PRESS",
          "I.S.E.G",
          "LYC GEN TECH PRIVE DES METIERS",
          "LA COMPAGNIE DE FORMATION",
          null,
          "UNIVERSITE DE BORDEAUX",
          "EC FRANCAISE ATTACHES DE PRESS",
          "INST POLYTECHNIQUE BORDEAUX",
          "IDRAC LYON",
          "DIGITAL CAMPUS BORDEAUX",
          "ETABLISSEMENT SUPERIEUR LIBRE",
          "CAFA FORMATIONS",
          "LYCEE TECHNOLOGIQUE PRIVE",
          "EC FRANCAISE ATTACHES DE PRESS",
          "LYCEE TECHNOLOGIQUE PRIVE",
          "DIGITAL CAMPUS BORDEAUX",
          "ECOLE SUP COMMERCE ECO NUMERIQ",
          "INST SUPERIEUR GESTION PARIS",
          "UNIVERSITE DE BORDEAUX",
          "UNIVERSITE DE BORDEAUX",
          "ECOLE MUNICIPALE BEAUX ARTS",
          "BORDEAUX  YNOV CAMPUS",
          "ECOLE 2ND DEGRE PROF PRIVEE",
          "I.S.E.G",
          "ORGANISME FORMATION-CFA",
          "ECOLE TECHNIQUE PRIVEE",
          "ECOLE TECHNIQUE PRIVEE",
          "ECOLE SUP COMMERCE ECO NUMERIQ",
          "ECOLE SUP COMMERCE ECO NUMERIQ",
          "EUROPEAN BX BUSINESS SCHOOL",
          "INSTITUT SUPERIEUR DE COMMUNIC",
          "C H S  CHARLES PERRENS",
          "ETAB PR ENSEIGNEMENT TECH",
          "CTRE ETUDES SUP INDUST PARIS",
          "EC SPECIALE MECA ELECTRICITE",
          "EC FRANCAISE ATTACHES DE PRESS",
          "UNIVERSITÃ DE BORDEAUX",
          "UNIVERSITÃ DE BORDEAUX",
          "UNIVERSITÉ DE BORDEAUX",
          null,
          "LYCEE POLYVALENT",
          "LT LYCEE DES METIERS",
          "ECOLE BORDELAISE DU VIN",
          "UNIVERSITE DE BORDEAUX",
          "UNIVERSITE DE BORDEAUX",
          "UNIVERSITE DE BORDEAUX",
          "UNIVERSITE DE BORDEAUX",
          "IDRAC LYON",
          "ETAB ENSEIGNT SUP PRIVE LIBRE",
          "C H S  CHARLES PERRENS",
          "PESMD BORDEAUX AQUITAINE",
          "INSTITUT SUPERIEUR EUROPEEN DE",
          "ECOLE SUPERIEURE DES BEAUX ART",
          "IFAG BORDEAUX",
          "LA HORDE",
          "ECOLE TECHNIQUE PRIVEE",
          "UNIVERSITE BORDEAUX 3",
          "UNIVERSITE DE BORDEAUX",
          "LYCEE GENERAL",
          "CFPBNA",
          "LYCEE GENERAL ET TECHNOLOGIQUE",
          "UNIVERSITE DE BORDEAUX",
          "UNIVERSITE DE BORDEAUX",
          "EUROPEAN BX BUSINESS SCHOOL",
          "EC SUP GEST COMMERCE FINANCE",
          "LYCEE GENERAL ET TECHNOLOGIQUE",
          "UNIVERSITÉ DE BORDEAUX",
          "EC.SUP.ARTS-TECH DE MODE",
          "E COD (CCI DE BORDEAUX)",
          "LYCEE GENERAL ET TECHNOLOGIQUE",
          "UNIVERSITÉ DE BORDEAUX",
          "UNIVERSITÉ DE BORDEAUX",
          "LYCEE GENERAL ET TECHNOLOGIQUE",
          "ETAB PRIVE ENSEIGNT SUPERIEUR",
          "ECOLE COMMERCE EUROP BORDEAUX",
          "INST SUPERIEUR DES ARTS APPLIQ",
          "ARTSIDE GAMES",
          "UNIVERSITE DE BORDEAUX",
          "UNIVERSITE DE BORDEAUX",
          "SUP DE COM",
          "MJM GRAPHIC DESIGN - ESCAAD -",
          "ECOLE INTERNATIONALE TUNON",
          "C H S  CHARLES PERRENS",
          "ECOLE NATIONALE MAGISTRATURE",
          "ECOLE MUNICIPALE BEAUX ARTS",
          "ECOLE INTERNATIONALE TUNON",
          "BORDEAUX  Y NOV CAMPUS",
          "UNIVERSITÉ DE BORDEAUX",
          "INSTITUT SUPERIEUR D'OPTIQUE",
          "IFAG BORDEAUX",
          "INSTITUT SUPERIEUR DE COMMUNIC",
          null,
          "ECOLE TECHNIQUE PRIVEE",
          "LYCEE GEN.ET TECHNOL.PRIVE",
          "INST DECOR ETAL AMENAG ESPACE",
          "BORDEAUX INFORMATIQUE CAMPUS",
          "INST DECOR ETAL AMENAG ESPACE",
          "EC SUP PROFESSIONS IMMOBILIERE",
          "ECOLE SECONDAIRE PROF.PRIVEE",
          "EC SUP GEST COMMERCE FINANCE",
          "FORMATIONS D'AKI 10 - FORMADKL",
          "ESCEN",
          "EUROPEAN BX BUSINESS SCHOOL",
          "EUROPEAN BX BUSINESS SCHOOL",
          "ESARC EVOLUTION",
          "UNIVERSITE DE BORDEAUX",
          "UNIVERSITE DE BORDEAUX",
          "UNIVERSITE DE BORDEAUX",
          "LYC GEN-TECHNO PR DES METIERS",
          "LYC TECHNOL PRIVE DES METIERS",
          "MJM GRAPHIC DESIGN - ESCAAD -",
          "INST SUPERIEUR DES ARTS APPLIQ",
          "MJM GRAPHIC DESIGN - ESCAAD -",
          "INST POLYTECHNIQUE BORDEAUX",
          "EC PR DES SCIENCES INFORMATIQU",
          "EC PR DES SCIENCES INFORMATIQU",
          "BORDEAUX  YNOV CAMPUS",
          "LYC TECHNOL PRIVE DES METIERS",
          "ECOLE 2ND DEGRE PROF PRIVEE",
          "UNIVERSITÃ DE BORDEAUX",
          "UNIVERSITÉ DE BORDEAUX",
          "UNIVERSITÉ DE BORDEAUX",
          "INSTITUT SUPERIEUR  FORMATION",
          "EPITECH",
          "INSTITUT DE LA PROMOTION COMME",
          "C H S  CHARLES PERRENS",
          "UNIVERSITE BORDEAUX 3",
          "EPITECH",
          "INST. FORMAT. SOINS INFIRM.",
          "ECOLE SUP ARTS TECHNIQUES DE L",
          "ETAB PR ENSEIGNEMENT TECH",
          "EUROPEAN BX BUSINESS SCHOOL",
          "LYCEE GENERAL ET TECHNOLOGIQUE",
          "INST POLYTECHNIQUE BORDEAUX",
          "GROUPE ESSCA",
          "LYCEE GENERAL PRIVE",
          "ECOLE DES HAUTES ETUDES INTERN",
          "CESI ECOLE INGENIEURS NANTERRE",
          "LYCEE TECHNOLOGIQUE PRIVE",
          "UNIVERSITE DE BORDEAUX",
          "UNIVERSITE DE BORDEAUX",
          "UNIVERSITE DE BORDEAUX",
          "UNIVERSITE DE BORDEAUX",
          "ETAB PRIVE ENSEIGNT SUPERIEUR",
          "ECOLE SUP COMMERCE ECO NUMERIQ",
          "INST SUPERIEUR GESTION PARIS",
          "INST SUPERIEUR GESTION PARIS",
          "ECOLE TECHNIQUE PRIVEE",
          "ECOLE SUP ARTS TECHNIQUES DE L",
          "UNIVERSITÉ DE BORDEAUX",
          "LYCEE TECHNOLOGIQUE PRIVE",
          "UNIVERSITÉ DE BORDEAUX",
          "ETAB PRIVE ENSEIGNT SUPERIEUR",
          "LYCEE GEN.ET TECHNOL.PRIVE",
          "INST POLYTECHNIQUE BORDEAUX",
          "LYCEE GENERAL ET TECHNOLOGIQUE",
          "LYCEE GENERAL ET TECHNOLOGIQUE",
          "LYC GEN-TECHNO PR DES METIERS",
          "ECV BORDEAUX - ICA",
          "PESMD BORDEAUX AQUITAINE",
          "ECOLE SUPERIEURE METIERS IMAGE",
          "L'ECOLE DU 7EME ART",
          "ECOLE SUPERIEURE TECHNIQUE PRI",
          "ECOLE SUPERIEURE DES BEAUX ART",
          "DIGITAL CAMPUS BORDEAUX",
          "ECV BORDEAUX - ICA",
          "ECV BORDEAUX - ICA",
          "ECOLE SUPERIEURE D'ARCHITECTUR",
          "EC SUP GEST COMMERCE FINANCE",
          "UNIVERSITE BORDEAUX 3",
          "INST SUPERIEUR DES ARTS APPLIQ",
          "ECOLE SUPERIEURE PRIVEE",
          "ECOLE SUPERIEURE METIERS IMAGE",
          "I.S.E.G",
          "EC SUP GEST COMMERCE FINANCE",
          "IGEFI BORDEAUX",
          "ECOLE MUNICIPALE BEAUX ARTS",
          "INST POLYTECHNIQUE BORDEAUX",
          "INST. FORMAT. SOINS INFIRM.",
          "UNIVERSITÉ DE BORDEAUX",
          "EC FRANCAISE ATTACHES DE PRESS",
          "LYC TECHNOL PRIVE DES METIERS",
          "UNIVERSITE DE BORDEAUX",
          "ECOLE SUP ARTS TECHNIQUES DE L",
          "PESMD BORDEAUX AQUITAINE",
          "CTRE ETUDES SUP INDUST PARIS",
          "INSEEC BORDEAUX",
          "LYC GEN TECH PRIVE DES METIERS",
          "ESCEN",
          "ECOLE SUPÉRIEURE DU DIGITAL",
          "UNIVERSITÉ DE BORDEAUX",
          "CTR DE FORMATION D APPRENTIS",
          "INSTITUT SUPERIEUR D'OPTIQUE",
          "ETABLISSEMENT SUPERIEUR LIBRE",
          "EC SUP GEST COMMERCE FINANCE",
          "ECOLE SUPERIEURE PRIVEE",
          "IDRAC LYON",
          "INST SUP EURO FORMATION ACTION",
          "UNIVERSITE BORDEAUX 3",
          "UNIVERSITE DE BORDEAUX",
          "INST POLYTECHNIQUE BORDEAUX",
          "IFAG",
          "LYCEE GEN.ET TECHNOL.PRIVE",
          "LYCEE GEN.ET TECHNOL.PRIVE",
          "I.B.S.M.",
          "ECOLE TECHNIQUE PRIVEE",
          "INST HTES ETUDES ECO COM BORDX",
          "ECOLE COMMERCE EUROP BORDEAUX",
          "ECOLE CENTRALE ELECTRONIQUE PA",
          "ECOLE NATIONALE MAGISTRATURE",
          "LYCEE GENERAL",
          "ECV BORDEAUX - ICA",
          "UNIVERSITE DE BORDEAUX",
          "UNIVERSITE DE BORDEAUX",
          "LYCEE GENERAL PRIVE",
          "EC FRANCAISE ATTACHES DE PRESS",
          "ETABLISSEMENT SUPERIEUR PRIVE",
          "UNIVERSITE BORDEAUX 3",
          "UNIVERSITE DE BORDEAUX",
          "UNIVERSITE DE BORDEAUX",
          "UNIVERSITE DE BORDEAUX",
          "MJM GRAPHIC DESIGN - ESCAAD -",
          "CTR DE FORMATION D APPRENTIS",
          "EC SUP SC COMMERCIALES ANGERS",
          "LYC GEN-TECHNO PR DES METIERS",
          "LYC TECHNOL PRIVE DES METIERS",
          "ECOLE SUPERIEURE METIERS IMAGE",
          "ECOLE SUPERIEURE DU DIGITAL",
          "UNIVERSITE DE BORDEAUX",
          "CHU DE BORDEAUX",
          "UNIVERSITE DE BORDEAUX",
          "L'ECOLE DU 7EME ART",
          "UNIVERSITE DE BORDEAUX",
          "ECOLE COMMERCE EUROP BORDEAUX",
          "ECOLE SUP COMMERCE ECO NUMERIQ",
          "EC SUP GEST COMMERCE FINANCE",
          "ECOLE SUPERIEURE PRIVEE",
          "INST SUP EURO FORMATION ACTION",
          null,
          "ECOLE TECHNIQUE PRIVEE",
          "LYCEE GENERAL PRIVE",
          "ECOLE MUNICIPALE BEAUX ARTS",
          "ECOLE SUPERIEURE",
          "INST POLYTECHNIQUE BORDEAUX",
          "ECOLE SECONDAIRE PROF.PRIVEE",
          "DIGITAL CAMPUS BORDEAUX",
          "LYCEE GENERAL",
          "LYCEE GENERAL ET TECHNOLOGIQUE",
          "INST SUPERIEUR GESTION PARIS",
          "INST SUP EURO FORMATION ACTION",
          "LYC GEN TECH PRIVE",
          "LYCEE GEN.ET TECHNOL.PRIVE",
          "INSTITUT BORDELAIS STYLISME MO",
          "INSTITUT SUPÉRIEUR D'OPTIQUE",
          "DIGITAL CAMPUS BORDEAUX",
          "UNIVERSITE DE BORDEAUX",
          "UNIVERSITE DE BORDEAUX",
          "INSTITUT SUPERIEUR EUROPEEN DE",
          "EUROPEAN BX BUSINESS SCHOOL",
          "INST SUPERIEUR GESTION PARIS",
          "CESI ECOLE INGENIEURS NANTERRE",
          "LYCEE GENERAL ET TECHNOLOGIQUE",
          "LYCEE TECHNOLOGIQUE PRIVE",
          "LYCEE GENERAL ET TECHNOLOGIQUE",
          "UNIVERSITE DE BORDEAUX",
          "UNIVERSITE DE BORDEAUX",
          "LYC TECHNOL PRIVE DES METIERS",
          "ECOLE 2D DEGRE PROF.PRIVEE",
          "UNIVERSITE DE BORDEAUX",
          "I.S.E.G",
          "IFAG BORDEAUX",
          "LYCEE GENERAL ET TECHNOLOGIQUE",
          "EPITECH",
          "CTR DE FORMATION D APPRENTIS",
          "ECOLE SUPERIEURE DE THEATRE",
          "INST SUPERIEUR DES ARTS APPLIQ",
          "UNIVERSITÉ DE BORDEAUX",
          "ECV BORDEAUX - ICA",
          "ECOLE SUPERIEURE DU DIGITAL",
          "INST POLYTECHNIQUE BORDEAUX",
          "IDRAC LYON",
          "ETAB ENSEIGNT SUP PRIVE LIBRE",
          "ECOLE DES HAUTES ETUDES INTERN",
          "UNIVERSITE DE BORDEAUX",
          "PESMD BORDEAUX AQUITAINE",
          "FORMATIONS D'AKI 10 - FORMADKL",
          "ECOLE TECHNIQUE PRIVEE",
          "INST POLYTECHNIQUE BORDEAUX",
          "UNIVERSITÉ DE BORDEAUX",
          "INSTITUT METIERS DU NOTARIAT",
          null,
          "INST SUPERIEUR DES ARTS APPLIQ",
          "LYCEE GENERAL ET TECHNOLOGIQUE",
          "UNIVERSITÃ DE BORDEAUX",
          "UNIVERSITÉ DE BORDEAUX",
          "UNIVERSITÉ DE BORDEAUX",
          "LYC GEN-TECHNO PR DES METIERS",
          "INSTITUT SUPÉRIEUR D'OPTIQUE",
          "ECOLE NATIONALE MAGISTRATURE",
          "EC SUP GEST COMMERCE FINANCE",
          "ECOLE NATIONALE MAGISTRATURE",
          "UNIVERSITE DE BORDEAUX",
          "CAFA FORMATIONS",
          "IFAG BORDEAUX",
          "INSTITUT SUPERIEUR DE COMMUNIC",
          "ETABLISSEMENT TECHNIQUE PRIVE",
          "CHU DE BORDEAUX",
          "C H S  CHARLES PERRENS",
          "LYCEE GEN.ET TECHNOL.PRIVE",
          "LYCEE GENERAL ET TECHNOLOGIQUE",
          "INSTITUT SUPERIEUR DE COMMUNIC",
          "ECOLE TECHNIQUE PRIVEE",
          "ECOLE TECHNIQUE PRIVEE",
          "UNIVERSITE DE BORDEAUX",
          "ECOLE SUPERIEURE METIERS IMAGE",
          "EC SUP GEST COMMERCE FINANCE",
          "LYCEE GENERAL",
          "ECOLE SUP COMMERCE ECO NUMERIQ",
          "INST SUP EURO FORMATION ACTION",
          "LYCEE GENERAL ET TECHNOLOGIQUE",
          "LYCEE GENERAL",
          "ECOLE MUNICIPALE BEAUX ARTS",
          "INST DECOR ETAL AMENAG ESPACE",
          "INSTITUT METIERS DU NOTARIAT",
          "BORDEAUX  Y NOV CAMPUS",
          "LYCEE POLYVALENT",
          "LYCEE GENERAL",
          "UNIVERSITÉ DE BORDEAUX",
          "EC PR DES SCIENCES INFORMATIQU",
          "LYCEE POLYVALENT",
          "LYCEE GENERAL",
          "UNIVERSITE DE BORDEAUX",
          "UNIVERSITE DE BORDEAUX",
          "UNIVERSITE DE BORDEAUX",
          "EC FR ELECTRON INFOR VILLEJUIF",
          "BORDEAUX  YNOV CAMPUS",
          "ECOLE SUP COMMERCE ECO NUMERIQ",
          "EUROPEAN BX BUSINESS SCHOOL",
          "GROUPE ESSCA",
          "INST SUPERIEUR GESTION PARIS",
          "ECOLE 2ND DEGRE PROF PRIVEE",
          "PESMD BORDEAUX AQUITAINE",
          "INSTITUT SUPÉRIEUR D'OPTIQUE",
          "I.S.E.G",
          "CHU DE BORDEAUX",
          "UNIVERSITE DE BORDEAUX",
          "INSTITUT BORDELAIS STYLISME MO",
          "PESMD BORDEAUX AQUITAINE",
          "ORGANISME FORMATION-CFA",
          "INSTITUT SUPERIEUR DE COMMUNIC",
          "UNIVERSITE BORDEAUX 3",
          "UNIVERSITE BORDEAUX 3",
          "UNIVERSITE DE BORDEAUX",
          "IDRAC LYON",
          "FORMASUP CAMPUS",
          "ESARC EVOLUTION",
          "GROUPE ESSCA",
          "IDRAC LYON",
          "LYCEE TECHNOLOGIQUE PRIVE",
          "IDRAC LYON",
          "ECOLE INTERNATIONALE TUNON",
          "EC TECH NOSCHOOL",
          "DIDEROT EDUCATION - BORDEAUX",
          "ORGANISME FORMATION-CFA",
          "ECOLE SUPERIEURE METIERS IMAGE",
          "L'ECOLE DU 7EME ART",
          "ETAB PR ENSEIGNEMENT TECH",
          "EC PR DES SCIENCES INFORMATIQU",
          "INST SUP EURO FORMATION ACTION",
          "LA COMPAGNIE DE FORMATION",
          "EC PR DES SCIENCES INFORMATIQU",
          "CTR DE FORMATION D APPRENTIS",
          "EC SUP GEST COMMERCE FINANCE",
          "EC SPECIALE MECA ELECTRICITE",
          "LYC TECHNOL PRIVE DES METIERS",
          "UNIVERSITÉ DE BORDEAUX",
          "ECOLE TECHNIQUE PRIVEE",
          "INST. FORMAT. SOINS INFIRM.",
          "UNIVERSITE BORDEAUX 3",
          "EC FRANCAISE ATTACHES DE PRESS",
          "EC FRANCAISE ATTACHES DE PRESS",
          "UNIVERSITE DE BORDEAUX",
          "EC FRANCAISE ATTACHES DE PRESS",
          "CHU DE BORDEAUX",
          "UNIVERSITE DE BORDEAUX",
          "MJM GRAPHIC DESIGN - ESCAAD -",
          "LA HORDE",
          "ETAB SUPERIEUR TECHNIQUE PR",
          "I.S.E.G",
          "ECOLE COMMERCE EUROP BORDEAUX",
          "ETABLISSEMENT SUPERIEUR PRIVE",
          "EC. TECH. PRIVEE",
          "INST SUP EURO FORMATION ACTION",
          "LYCEE GENERAL PRIVE",
          "GROUPE ESSCA",
          "INST POLYTECHNIQUE BORDEAUX",
          "EC FRANCAISE ATTACHES DE PRESS",
          "INST HTES ETUDES ECO COM BORDX",
          "ECOLE TECHNIQUE PRIVEE",
          "ECOLE TECHNIQUE PRIVEE",
          "EC SUP GEST COMMERCE FINANCE",
          "ECOLE SUPERIEURE PRIVEE",
          "ETABLISSEMENT TECHNIQUE PRIVE",
          "INST SUPERIEUR GESTION PARIS",
          "PESMD BORDEAUX AQUITAINE",
          "ECOLE COMMERCE EUROP BORDEAUX",
          "UNIVERSITE DE BORDEAUX",
          "ECOLE SUPERIEURE D'ARCHITECTUR",
          "ECOLE SUPERIEURE TECHNIQUE PRI",
          "ECOLE SUP COMMERCE ECO NUMERIQ",
          "ECOLE SUPERIEURE PRIVEE",
          "ECOLE SUPERIEURE PRIVEE",
          "ECOLE MUNICIPALE BEAUX ARTS",
          "LT LYCEE DES METIERS",
          "UNIVERSITE BORDEAUX 3",
          "INSTITUT SUPÉRIEUR EUROPÉEN DE",
          "ESARC EVOLUTION",
          "E C V AQUITAINE I C B",
          "INSTITUT SUPÉRIEUR D'OPTIQUE",
          "ECOLE SECONDAIRE PROF.PRIVEE",
          "C.H.R.",
          "UNIVERSITÉ DE BORDEAUX",
          "INSTITUT BORDELAIS STYLISME MO",
          "INST SUPERIEUR DES ARTS APPLIQ",
          "ETAB PRIVE ENSEIGNT SUPERIEUR",
          "INST POLYTECHNIQUE BORDEAUX",
          "LYCEE GENERAL PRIVE",
          "LYCEE POLYVALENT",
          "EC TECH PR ARTS APPLIQUES",
          "IFAG",
          "ECOLE NATIONALE MAGISTRATURE",
          "ACADEMIE THEATRALE",
          "ECOLE SUP ARTS TECHNIQUES DE L",
          "INSTITUT SUPERIEUR EUROPEEN DE",
          "DIGITAL CAMPUS BORDEAUX",
          "ECOLE MUNICIPALE BEAUX ARTS",
          null,
          "EC COMMERCE EUROP BORDEAUX",
          "EC SUP SC COMMERCIALES ANGERS",
          "ECOLE 2ND DEGRE PROF PRIVEE",
          "CHU DE BORDEAUX",
          "ORGANISME FORMATION-CFA",
          "ETABLISSEMENT SUPERIEUR PRIVE",
          "EUROPEAN BX BUSINESS SCHOOL",
          "UNIVERSITE BORDEAUX 3",
          "UNIVERSITE DE BORDEAUX",
          "UNIVERSITÉ DE BORDEAUX",
          "IFAG",
          "ECV BORDEAUX - ICA",
          "INSTITUT BORDELAIS STYLISME MO",
          "INSTITUT BORDELAIS STYLISME MO",
          "ECOLE SUPERIEURE METIERS IMAGE",
          "INSTITUT SUPERIEUR EUROPEEN DE",
          "ETAB PR ENSEIGNEMENT TECH",
          "DIDEROT EDUCATION - BORDEAUX",
          "INST HTES ETUDES ECO COM BORDX",
          "ORGANISME FORMATION-CFA",
          "ECOLE TECHNIQUE PRIVEE",
          "ECOLE SUP COMMERCE ECO NUMERIQ",
          "C H S  CHARLES PERRENS",
          "UNIVERSITE DE BORDEAUX",
          "UNIVERSITE DE BORDEAUX",
          "UNIVERSITE DE BORDEAUX",
          "UNIVERSITE DE BORDEAUX",
          "LYCEE GENERAL PRIVE",
          "UNIVERSITE BORDEAUX 3",
          "FORMASUP CAMPUS",
          "INSTITUT METIERS DU NOTARIAT",
          "UNIVERSITE DE BORDEAUX",
          "DIDEROT EDUCATION - BORDEAUX",
          "ETAB SUPERIEUR TECHNIQUE PR",
          "ESARC EVOLUTION",
          "ECOLE SUP COMMERCE ECO NUMERIQ",
          "INSTITUT SUPERIEUR DE COMMUNIC",
          "INSTITUT SUPERIEUR D'OPTIQUE",
          "INST POLYTECHNIQUE BORDEAUX",
          "LYCEE GEN.ET TECHNOL.PRIVE",
          "ECOLE TECHNIQUE PRIVEE",
          "ECOLE SUP COMMERCE ECO NUMERIQ",
          "UNIVERSITE BORDEAUX 3",
          "UNIVERSITÉ DE BORDEAUX",
          "LYCEE GENERAL PRIVE",
          "ECOLE SUPERIEURE DE THEATRE",
          "BORDEAUX  YNOV CAMPUS",
          "CHU DE BORDEAUX - IFPP",
          "DIGITAL CAMPUS BORDEAUX",
          "DIGITAL CAMPUS BORDEAUX",
          "INST HTES ETUDES ECO COM BORDX",
          "LA COMPAGNIE DE FORMATION",
          "LYCEE GEN.ET TECHNOL.PRIVE",
          "LYCEE GENERAL PRIVE",
          "ECOLE PRIVEE",
          "INSTITUT BORDELAIS STYLISME MO",
          "IFAG BORDEAUX",
          "ECOLE SUPERIEURE TECHNIQUE PRI",
          "FORMASUP CAMPUS",
          "ESARC EVOLUTION",
          "INSTITUT SUPERIEUR DE COMMUNIC",
          "UNIVERSITE DE BORDEAUX",
          "UNIVERSITE DE BORDEAUX",
          "LYC GEN TECH PRIVE",
          "LYCEE TECHNOLOGIQUE PRIVE",
          "ECOLE SUPERIEURE METIERS IMAGE",
          "LYCEE GENERAL PRIVE",
          "ECOLE 2ND DEGRE PROF PRIVEE",
          "EC PR DES SCIENCES INFORMATIQU",
          "ECOLE PRIVEE",
          "UNIVERSITÉ DE BORDEAUX",
          "ECOLE 2D DEGRE PROF.PRIVEE",
          "CESI ECOLE INGENIEURS NANTERRE",
          "C H S  CHARLES PERRENS",
          "EC PR DES SCIENCES INFORMATIQU",
          "FORMASUP CAMPUS",
          "INSTITUT SUPERIEUR D'OPTIQUE",
          "CAFA FORMATIONS",
          "ESARC EVOLUTION",
          "EC SUP GEST COMMERCE FINANCE",
          "IFAG BORDEAUX",
          "LYCEE GENERAL PRIVE",
          "CHU DE BORDEAUX",
          "INSTITUT METIERS DU NOTARIAT",
          "INSTITUT METIERS DU NOTARIAT",
          "ECOLE PRIVEE",
          "ISEFAC",
          "LYCEE GEN.ET TECHNOL.PRIVE",
          "INSTITUT SUPERIEUR  FORMATION",
          "ECOLE TECHNIQUE PRIVEE",
          "EC SUP GEST COMMERCE FINANCE",
          "ETABLISSEMENT SUPERIEUR LIBRE",
          "ORGANISME FORMATION-CFA",
          "ECOLE COMMERCE EUROP BORDEAUX",
          "EC SUP GEST COMMERCE FINANCE",
          "ETABLISSEMENT TECHNIQUE PRIVE",
          "UNIVERSITE BORDEAUX 3",
          "LYCEE PROF PRIVE DES METIERS",
          "LYCEE GENERAL PRIVE",
          "ECOLE PRIVEE",
          "ECOLE 2D DEGRE PROF.PRIVEE",
          "UNIVERSITE DE BORDEAUX",
          "UNIVERSITE BORDEAUX 3",
          "INST SUPERIEUR DES ARTS APPLIQ",
          "FORMASUP CAMPUS",
          "UNIVERSITÉ DE BORDEAUX",
          "UNIVERSITÉ DE BORDEAUX",
          "ECOLE SUPERIEURE DE THEATRE",
          "CTR DE FORMATION D APPRENTIS",
          "ECOLE TECHNIQUE PRIVEE",
          "EC FRANCAISE ATTACHES DE PRESS",
          "UNIVERSITE DE BORDEAUX",
          "INST SUPERIEUR GESTION PARIS",
          "ECOLE TECH SUP PRIVEE",
          "UNIVERSITE DE BORDEAUX",
          "UNIVERSITE DE BORDEAUX",
          "UNIVERSITE DE BORDEAUX",
          "UNIVERSITE DE BORDEAUX",
          "UNIVERSITE DE BORDEAUX",
          "INST SUPERIEUR DES ARTS APPLIQ",
          "CTR DE FORMATION D APPRENTIS",
          "INSTITUT METIERS DU NOTARIAT",
          "INST POLYTECHNIQUE BORDEAUX",
          "LYCEE GENERAL ET TECHNOLOGIQUE",
          "ETAB PR ENSEIGNEMENT TECH",
          "ECOLE SUPERIEURE DES BEAUX ART",
          "FORMASUP CAMPUS",
          "UNIVERSITE BORDEAUX 3",
          "CAFA FORMATIONS",
          "IDRAC LYON",
          "LT LYCEE DES METIERS",
          "UNIVERSITE DE BORDEAUX",
          "UNIVERSITE DE BORDEAUX",
          "DIGITAL CAMPUS BORDEAUX",
          "INSTITUT BORDELAIS STYLISME MO",
          "ECOLE SUPERIEURE METIERS IMAGE",
          "INSTITUT SUPERIEUR EUROPEEN DE",
          "GROUPE ESSCA",
          "ECOLE TECH SUP PRIVEE",
          "ECOLE PRIVEE",
          "LYCEE TECHNOLOGIQUE PRIVE",
          "ECOLE SECONDAIRE PROF.PRIVEE",
          "LYCEE GENERAL ET TECHNOLOGIQUE",
          "LYCEE POLYVALENT",
          "LYCEE GENERAL ET TECHNOLOGIQUE",
          "LYCEE GENERAL",
          "CHU DE BORDEAUX",
          "UNIVERSITE DE BORDEAUX",
          "LYCEE POLYVALENT",
          "INSTITUT BORDELAIS STYLISME MO",
          "L'ECOLE DU 7EME ART",
          "ECOLE SUPERIEURE D'ARCHITECTUR",
          "INSTITUT METIERS DU NOTARIAT",
          "LA HORDE",
          "ECOLE SUPERIEURE DE THEATRE",
          "ECOLE SUPERIEURE PRIVEE",
          "INSTITUT SUPERIEUR DE COMMUNIC",
          "ETABLISSEMENT TECHNIQUE PRIVE",
          "IFAG BORDEAUX",
          "ETABLISSEMENT TECHNIQUE PRIVE",
          "UNIVERSITE DE BORDEAUX",
          "ECOLE SUP ARTS TECHNIQUES DE L",
          "ARTSIDE GAMES",
          "ECOLE TECHNIQUE PRIVEE",
          "ETABLISSEMENT SUPERIEUR PRIVE",
          "IFAG BORDEAUX",
          "ETABLISSEMENT TECHNIQUE PRIVE",
          "ECOLE SUPERIEURE DE THEATRE",
          "ETABLISSEMENT SUPERIEUR PRIVE",
          "EUROPEAN BX BUSINESS SCHOOL",
          "INSTITUT DE LA PROMOTION COMME",
          "INSTITUT BORDELAIS DE L'ENSEIG",
          "ET PR ENS SUP JURIS FORMATIO",
          "ECOLE SECONDAIRE PROF.PRIVEE",
          "IDRAC LYON",
          "INST POLYTECHNIQUE BORDEAUX",
          "EC FRANCAISE ATTACHES DE PRESS",
          "I.S.E.G",
          "EUROPEAN BX BUSINESS SCHOOL",
          null,
          "ETAB PR ENSEIGNEMENT TECH",
          "ECOLE INTERNATIONALE TUNON",
          "I.S.E.G",
          "ECOLE DE COMMERCE DURABLE ET R",
          "CHU DE BORDEAUX",
          "C H S  CHARLES PERRENS",
          "INST SUPERIEUR DES ARTS APPLIQ",
          "ECOLE SUPERIEURE METIERS IMAGE",
          "MJM GRAPHIC DESIGN - ESCAAD -",
          "ECOLE COMMERCE EUROP BORDEAUX",
          "UNIVERSITE BORDEAUX 3",
          "UNIVERSITE DE BORDEAUX",
          "ECOLE COMMERCE EUROP BORDEAUX",
          "ECOLE TECHNIQUE PRIVEE",
          "GROUPE ESSCA",
          "C.H.R.",
          "LYCEE GENERAL ET TECHNOLOGIQUE",
          "UNIVERSITE BORDEAUX 3",
          "ECOLE TECH PRIVEE",
          "EC SPECIALE MECA ELECTRICITE",
          "IDRAC LYON",
          "EC SPECIALE MECA ELECTRICITE",
          "EC SPECIALE MECA ELECTRICITE",
          "ECOLE NATIONALE MAGISTRATURE",
          "LYCEE GEN.ET TECHNOL.PRIVE",
          "UNIVERSITE DE BORDEAUX",
          "UNIVERSITE DE BORDEAUX",
          "UNIVERSITE DE BORDEAUX",
          "UNIVERSITE DE BORDEAUX",
          "I.S.E.G",
          "I.S.E.G",
          "ECOLE SUP COMMERCE ECO NUMERIQ",
          "INST SUPERIEUR GESTION PARIS",
          "INSTITUT SUPERIEUR EUROPEEN DE",
          "ETAB PR ENSEIGNEMENT TECH",
          "ETAB PRIVE ENSEIGNT SUPERIEUR",
          "ECOLE SUPERIEURE DU DIGITAL",
          "ETABLISSEMENT TECHNIQUE PRIVE",
          "ETAB PR ENSEIGNEMENT TECH",
          "ECOLE SUPERIEURE DE THEATRE",
          "UNIVERSITE DE BORDEAUX",
          "UNIVERSITE DE BORDEAUX",
          "UNIVERSITE DE BORDEAUX",
          "LYCEE GEN.ET TECHNOL.PRIVE",
          "LYC TECHNOL PRIVE DES METIERS",
          "ECOLE 2D DEGRE PROF.PRIVEE",
          "LYCEE GENERAL ET TECHNOLOGIQUE",
          "EUROPEAN BX BUSINESS SCHOOL",
          "LYC GEN TECH PRIVE",
          "INFOSUP",
          "ISG PROGRAMME BUSINESS ET MANA",
          "LYC GEN-TECHNO PR DES METIERS",
          "DIGITAL CAMPUS BORDEAUX",
          "ECOLE TECHNIQUE PRIVEE",
          "IFAG BORDEAUX",
          "EC. TECH. PRIVEE",
          "UNIVERSITE DE BORDEAUX",
          "UNIVERSITE DE BORDEAUX",
          "UNIVERSITE DE BORDEAUX",
          "UNIVERSITE DE BORDEAUX",
          "FORMASUP CAMPUS",
          "DIGITAL CAMPUS BORDEAUX",
          "CESI ECOLE INGENIEURS NANTERRE",
          "LYCEE GENERAL ET TECHNOLOGIQUE",
          "UNIVERSITÉ DE BORDEAUX",
          "LYCEE GENERAL ET TECHNOLOGIQUE",
          "UNIVERSITE DE BORDEAUX",
          "UNIVERSITE DE BORDEAUX",
          "ECOLE TECHNIQUE SUPERIEURE",
          "IDRAC LYON",
          "LYCEE GENERAL PRIVE",
          "ECOLE TECHNIQUE PRIVEE",
          "ECOLE TECH PRIVEE",
          "MJM GRAPHIC DESIGN - ESCAAD -",
          "DIGITAL CAMPUS BORDEAUX",
          "ECOLE SECONDAIRE PROF.PRIVEE",
          "ECOLE TECHNIQUE PRIVEE",
          "INST HTES ETUDES ECO COM BORDX",
          "LYCEE GENERAL PRIVE",
          "LYC GEN TECH PRIVE",
          "UNIVERSITE DE BORDEAUX",
          "UNIVERSITE DE BORDEAUX",
          "UNIVERSITE DE BORDEAUX",
          "ARTSIDE GAMES",
          "ETAB PRIVE ENSEIGNT SUPERIEUR",
          "EC SUP GEST COMMERCE FINANCE",
          "INST SUPERIEUR GESTION PARIS",
          "LA HORDE",
          "ECV BORDEAUX - ICA",
          "INST SUPERIEUR DES ARTS APPLIQ",
          "ECOLE SUPERIEURE METIERS IMAGE",
          "ETAB PRIVE ENSEIGNT SUPERIEUR",
          "ETAB PR ENSEIGNEMENT TECH",
          "ECOLE MUNICIPALE BEAUX ARTS",
          "EC PR DES SCIENCES INFORMATIQU",
          "INST SUPERIEUR GESTION PARIS",
          "EC SUP SC COMMERCIALES ANGERS",
          "ECOLE COMMERCE EUROP BORDEAUX",
          "LYCEE POLYVALENT",
          "GROUPE ESSCA",
          "IDRAC LYON",
          "INSTITUT BORDELAIS STYLISME MO",
          "ORGANISME FORMATION-CFA",
          "ECOLE TECHNIQUE PRIVEE",
          "BORDEAUX  YNOV CAMPUS",
          "UNIVERSITÃ DE BORDEAUX",
          "UNIVERSITÃ DE BORDEAUX",
          "IDRAC LYON",
          "LYC GEN-TECHNO PR DES METIERS",
          "I.B.S.M.",
          "ECOLE BEST",
          "LYC TECHNOL PRIVE DES METIERS",
          "LYCEE GEN.ET TECHNOL.PRIVE",
          "ECOLE SECONDAIRE PROF.PRIVEE",
          "C H S  CHARLES PERRENS",
          "UNIVERSITE BORDEAUX 3",
          "UNIVERSITE DE BORDEAUX",
          "EC SUP GEST COMMERCE FINANCE",
          "LYCEE GENERAL PRIVE",
          "LYCEE GENERAL ET TECHNOLOGIQUE",
          "LYCEE GENERAL ET TECHNOLOGIQUE",
          "ETABLISSEMENT TECHNIQUE PRIVE",
          "INSTITUT METIERS DU NOTARIAT",
          "LYCEE GENERAL PRIVE",
          "LYCEE GENERAL ET TECHNOLOGIQUE",
          "UNIVERSITE BORDEAUX 3",
          "ECV BORDEAUX - ICA",
          "INST SUPERIEUR DES ARTS APPLIQ",
          "EC SUP GEST COMMERCE FINANCE",
          "INSTITUT SUPERIEUR DE COMMUNIC",
          "LYCEE GENERAL",
          "UNIVERSITE BORDEAUX 3",
          "UNIVERSITE DE BORDEAUX",
          "BORDEAUX INFORMATIQUE CAMPUS",
          "PESMD BORDEAUX AQUITAINE",
          "CAFA FORMATIONS",
          "CESI ECOLE INGENIEURS NANTERRE",
          "EC FRANCAISE ATTACHES DE PRESS",
          "EC SUP GEST COMMERCE FINANCE",
          "IDRAC LYON",
          "UNIVERSITÉ DE BORDEAUX",
          "EC.SUP.ARTS-TECH DE MODE",
          "FORMASUP CAMPUS",
          "LYCEE GEN.ET TECHNOL.PRIVE",
          "IDRAC LYON",
          "LYCEE GENERAL PRIVE",
          "UNIVERSITE DE BORDEAUX",
          "ECOLE SUPERIEURE METIERS IMAGE",
          "LYCEE GENERAL",
          "UNIVERSITÉ DE BORDEAUX",
          "UNIVERSITÉ DE BORDEAUX",
          "ETAB PRIVE ENSEIGNT SUPERIEUR",
          "INSTITUT BORDELAIS STYLISME MO",
          "LYCEE GENERAL ET TECHNOLOGIQUE",
          "LYCEE GENERAL PRIVE",
          null,
          "ECOLE PRIVEE",
          "INST POLYTECHNIQUE BORDEAUX",
          "ESARC EVOLUTION ARTS APPLIQUÃ",
          "LYCEE TECHNOLOGIQUE PRIVE",
          null,
          "LYCEE POLYVALENT",
          "INSTITUT EUROPEEN DE FORMATION",
          "ECOLE TECHNIQUE PRIVEE",
          "ECOLE TECHNIQUE PRIVEE",
          "ECOLE SUP COMMERCE ECO NUMERIQ",
          "LYCEE GEN.ET TECHNOL.PRIVE",
          "ECOLE TECH PRIVEE",
          "GROUPE ESSCA",
          "UNIVERSITE BORDEAUX 3",
          "GROUPE ESSCA",
          "ECV BORDEAUX - ICA",
          "INSTITUT BORDELAIS STYLISME MO",
          "ARTSIDE GAMES",
          "ECOLE SUPERIEURE DU DIGITAL",
          "UNIVERSITE DE BORDEAUX",
          "UNIVERSITE DE BORDEAUX",
          "I.S.E.G",
          "LYCEE GENERAL PRIVE",
          "UNIVERSITE DE BORDEAUX",
          "INST HTES ETUDES ECO COM BORDX",
          "EC SUP SC COMMERCIALES ANGERS",
          "LYCEE GENERAL ET TECHNOLOGIQUE",
          "INST SUP EURO FORMATION ACTION",
          "ECOLE TECH SUP PRIVEE",
          "IDRAC LYON",
          "HAUTES ETUDES INTERNATIONALES",
          "LYCEE PROF PRIVE DES METIERS",
          "LYCEE GENERAL ET TECHNOLOGIQUE",
          "DIGITAL CAMPUS BORDEAUX",
          "DIDEROT EDUCATION - BORDEAUX",
          "LA HORDE",
          "ORGANISME FORMATION-CFA",
          "UNIVERSITE DE BORDEAUX",
          "ECOLE COMMERCE EUROP BORDEAUX",
          "CTR DE FORMATION D APPRENTIS",
          "SUP DE COM",
          "LYCEE GENERAL ET TECHNOLOGIQUE",
          "DIDEROT EDUCATION - BORDEAUX",
          "INSTITUT BORDELAIS STYLISME MO",
          "ECOLE SUP COMMERCE ECO NUMERIQ",
          "EC FRANCAISE ATTACHES DE PRESS",
          "ECOLE TECH SUP PRIVEE",
          "LYCEE PROF PRIVE DES METIERS",
          "LYCEE GENERAL",
          "LYCEE POLYVALENT",
          "LT LYCEE DES METIERS",
          "LYCEE GENERAL ET TECHNOLOGIQUE",
          "CESI ECOLE INGENIEURS NANTERRE",
          "CESI ECOLE INGENIEURS NANTERRE",
          "IDRAC LYON",
          "UNIVERSITE DE BORDEAUX",
          "CHU DE BORDEAUX",
          "UNIVERSITE DE BORDEAUX",
          "ECOLE SUPERIEURE D'ARCHITECTUR",
          "FORMATIONS D'AKI 10 - FORMADKL",
          "ETAB SUPERIEUR TECHNIQUE PR",
          "ETABLISSEMENT TECHNIQUE PRIVE",
          "ECOLE SUPERIEURE PRIVEE",
          "UNIVERSITE DE BORDEAUX",
          "L'ECOLE DU 7EME ART",
          "ECOLE SECONDAIRE PROF.PRIVEE",
          "INSTITUT SUPERIEUR D'OPTIQUE",
          "ECOLE SUPERIEURE DU DIGITAL",
          "INSTITUT BORDELAIS STYLISME MO",
          "LYCEE GENERAL",
          "UNIVERSITÉ DE BORDEAUX",
          "SUP DE COM",
          "E COD (CCI DE BORDEAUX)",
          "UNIVERSITE DE BORDEAUX",
          "UNIVERSITE DE BORDEAUX",
          "IDRAC LYON",
          "UNIVERSITÉ DE BORDEAUX",
          "INST SUP EURO FORMATION ACTION",
          "LYCEE GENERAL PRIVE",
          "LYC TECHNOL PRIVE DES METIERS",
          "ECOLE SECONDAIRE PROF.PRIVEE",
          "LYCEE GENERAL",
          "PESMD BORDEAUX AQUITAINE",
          "ECOLE SUPERIEURE PRIVEE",
          "EC. TECH. PRIVEE",
          "IDRAC LYON",
          "MJM GRAPHIC DESIGN - ESCAAD -",
          "ECOLE SUPERIEURE DE THEATRE",
          "GROUPE ESSCA",
          "ECOLE SUPERIEURE DES BEAUX ART",
          "DIGITAL CAMPUS BORDEAUX",
          "ETAB SUPERIEUR TECHNIQUE PR",
          "ESARC EVOLUTION",
          "ORGANISME FORMATION-CFA",
          "ECOLE COMMERCE EUROP BORDEAUX",
          "GROUPE ESSCA",
          "ECOLE INTERNATIONALE TUNON",
          "DIDEROT EDUCATION - BORDEAUX",
          "ETAB SUPERIEUR TECHNIQUE PR",
          "ETAB PR ENSEIGNEMENT TECH",
          "ETAB PR ENSEIGNEMENT TECH",
          "UNIVERSITE DE BORDEAUX",
          "UNIVERSITE DE BORDEAUX",
          "EC PR DES SCIENCES INFORMATIQU",
          "FORMATIONS D'AKI 10 - FORMADKL",
          "INST SUP EURO FORMATION ACTION",
          "ETAB PRIVE ENSEIGNT SUPERIEUR",
          "LYCEE TECHNOLOGIQUE PRIVE",
          "LYCEE GEN.ET TECHNOL.PRIVE",
          "INST SUPERIEUR DES ARTS APPLIQ",
          "LYCEE GENERAL PRIVE",
          "ECOLE PRIVEE",
          "ESARC EVOLUTION",
          "EC SPECIALE MECA ELECTRICITE",
          "INST SUP EURO FORMATION ACTION",
          "LYCEE POLYVALENT",
          "LYCEE TECHNOLOGIQUE PRIVE",
          null,
          "ECOLE TECHNIQUE PRIVEE",
          "ETABLISSEMENT SUPERIEUR PRIVE",
          "UNIVERSITE DE BORDEAUX",
          "UNIVERSITE DE BORDEAUX",
          "UNIVERSITE DE BORDEAUX",
          "LYC GEN TECH PRIVE",
          "UNIVERSITÃ DE BORDEAUX",
          "FORMASUP CAMPUS",
          "LYCEE GENERAL ET TECHNOLOGIQUE",
          "ECOLE TECHNIQUE PRIVEE",
          "C.H.R.",
          "UNIVERSITÉ DE BORDEAUX",
          "EC SUP GEST COMMERCE FINANCE",
          "ECOLE COMMERCE EUROP BORDEAUX",
          "INSTITUT SUPERIEUR  FORMATION",
          "INSTITUT METIERS DU NOTARIAT",
          "LT LYCEE DES METIERS",
          "E C V AQUITAINE I C B",
          "ECOLE BORDELAISE DU VIN",
          "UNIVERSITE BORDEAUX 3",
          "L'ECOLE DU 7EME ART",
          "IDRAC LYON",
          "LYCEE GENERAL ET TECHNOLOGIQUE",
          "LYCEE GENERAL PRIVE",
          "LYCEE GENERAL PRIVE",
          "UNIVERSITE BORDEAUX 3",
          "UNIVERSITE DE BORDEAUX",
          "UNIVERSITE DE BORDEAUX",
          "ECOLE TECHNIQUE PRIVEE",
          "I.S.E.G",
          "INST SUPERIEUR DES ARTS APPLIQ",
          "L'ECOLE DU 7EME ART",
          "ETAB PRIVE ENSEIGNT SUPERIEUR",
          "ECOLE TECHNIQUE PRIVEE",
          "LYCEE POLYVALENT",
          "INST SUPERIEUR GESTION PARIS",
          null,
          "ECOLE SECONDAIRE PROF.PRIVEE",
          "E C V AQUITAINE I C B",
          "ICART",
          "E COD (CCI DE BORDEAUX)",
          "LYC TECHNOL PRIVE DES METIERS",
          "UNIVERSITÃ DE BORDEAUX",
          "LYCEE GENERAL ET TECHNOLOGIQUE",
          "INSTITUT SUPÃRIEUR D'OPTIQUE",
          "ECOLE SUPÃRIEURE DU DIGITAL",
          "ETAB PR ENSEIGNEMENT TECH",
          "UNIVERSITE BORDEAUX 3",
          "UNIVERSITE DE BORDEAUX",
          "UNIVERSITE DE BORDEAUX",
          "UNIVERSITE DE BORDEAUX",
          "IDRAC LYON",
          "EC FRANCAISE ATTACHES DE PRESS",
          "CHU DE BORDEAUX",
          "LYCEE GENERAL ET TECHNOLOGIQUE",
          "LT LYCEE DES METIERS",
          "LYCEE GENERAL ET TECHNOLOGIQUE",
          "UNIVERSITE DE BORDEAUX",
          "UNIVERSITE DE BORDEAUX",
          "UNIVERSITE DE BORDEAUX",
          "INST SUPERIEUR DES ARTS APPLIQ",
          "MJM GRAPHIC DESIGN - ESCAAD -",
          "INSTITUT SUPERIEUR EUROPEEN DE",
          "EC. TECH. PRIVEE",
          "INSTITUT SUPERIEUR DE COMMUNIC",
          "LYCEE GENERAL ET TECHNOLOGIQUE",
          "IDRAC LYON",
          "CHU DE BORDEAUX",
          "CHU DE BORDEAUX",
          "UNIVERSITE BORDEAUX 3",
          "UNIVERSITE DE BORDEAUX",
          "UNIVERSITE DE BORDEAUX",
          "IDRAC LYON",
          "LYCEE GENERAL PRIVE",
          "ECOLE PRIVEE",
          "UNIVERSITE DE BORDEAUX",
          "UNIVERSITE DE BORDEAUX",
          "UNIVERSITE DE BORDEAUX",
          "UNIVERSITE DE BORDEAUX",
          "EC SUP GEST COMMERCE FINANCE",
          "IDRAC LYON",
          "EC PR DES SCIENCES INFORMATIQU",
          "EC PR DES SCIENCES INFORMATIQU",
          "ECOLE SUPERIEURE DU DIGITAL",
          "UNIVERSITÉ DE BORDEAUX",
          "INST SUPERIEUR GESTION PARIS",
          "ETAB PR ENSEIGNEMENT TECH",
          "ECOLE SUP ARTS TECHNIQUES DE L",
          "INST DECOR ETAL AMENAG ESPACE",
          "ECOLE SUPERIEURE METIERS IMAGE",
          "C H S  CHARLES PERRENS",
          "UNIVERSITÉ DE BORDEAUX",
          "ECOLE SUP COMMERCE ECO NUMERIQ",
          "MJM GRAPHIC DESIGN - ESCAAD -",
          "ETAB PRIVE ENSEIGNT SUPERIEUR",
          "LYCEE PROF PRIVE DES METIERS",
          "LYCEE GENERAL",
          "LYCEE GENERAL ET TECHNOLOGIQUE",
          "LYCEE GENERAL ET TECHNOLOGIQUE",
          "LYCEE POLYVALENT",
          "UNIVERSITE DE BORDEAUX",
          "UNIVERSITE DE BORDEAUX",
          "ECV BORDEAUX - ICA",
          "PESMD BORDEAUX AQUITAINE",
          "E - ARTSUP",
          "ECOLE PRIVEE",
          "UNIVERSITÃ DE BORDEAUX",
          "LYC GEN-TECHNO PR DES METIERS",
          "INST HTES ETUDES ECO COM BORDX",
          "I.S.E.G",
          "ECOLE SUP COMMERCE ECO NUMERIQ",
          "EC SUP GEST COMMERCE FINANCE",
          "INST SUPERIEUR GESTION PARIS",
          "UNIVERSITÉ DE BORDEAUX",
          "INST POLYTECHNIQUE BORDEAUX",
          "IDRAC LYON",
          "ECOLE COMMERCE EUROP BORDEAUX",
          "INSTITUT SUPERIEUR DE COMMUNIC",
          "LYC GEN-TECHNO PR DES METIERS",
          "ECOLE INTERNATIONALE TUNON",
          "UNIVERSITE BORDEAUX 3",
          "ESARC EVOLUTION",
          "INST SUPERIEUR DES ARTS APPLIQ",
          "EC PR DES SCIENCES INFORMATIQU",
          "EC SUP GEST COMMERCE FINANCE",
          "STUDIO M",
          "ETAB SUPERIEUR TECHNIQUE PR",
          "UNIVERSITE DE BORDEAUX",
          "ECV BORDEAUX - ICA",
          "ECOLE SUPERIEURE DES BEAUX ART",
          "ETAB SUPERIEUR TECHNIQUE PR",
          "EURIDIS BORDEAUX",
          "ECOLE SUPERIEURE DU DIGITAL",
          "BORDEAUX  YNOV CAMPUS",
          "CESI ECOLE INGENIEURS NANTERRE",
          "INSTITUT SUPÉRIEUR EUROPÉEN DE",
          "ECOLE SUP COMMERCE ECO NUMERIQ",
          "INSTITUT SUPERIEUR DE COMMUNIC",
          "UNIVERSITE DE BORDEAUX",
          "INST. FORMAT. SOINS INFIRM.",
          "ECOLE COMMERCE EUROP BORDEAUX",
          "FORMASUP CAMPUS",
          "EC SUP SC COMMERCIALES ANGERS",
          "ETABLISSEMENT SUPERIEUR PRIVE",
          "LYCEE GEN.ET TECHNOL.PRIVE",
          "ECOLE BORDELAISE DU VIN"
         ],
         "type": "scattermapbox"
        }
       ],
       "layout": {
        "annotations": [
         {
          "font": {
           "size": 16
          },
          "showarrow": false,
          "text": "Rennes",
          "x": 0.225,
          "xanchor": "center",
          "xref": "paper",
          "y": 1,
          "yanchor": "bottom",
          "yref": "paper"
         },
         {
          "font": {
           "size": 16
          },
          "showarrow": false,
          "text": "Bordeaux",
          "x": 0.775,
          "xanchor": "center",
          "xref": "paper",
          "y": 1,
          "yanchor": "bottom",
          "yref": "paper"
         }
        ],
        "height": 600,
        "mapbox": {
         "center": {
          "lat": 48.117,
          "lon": -1.677
         },
         "domain": {
          "x": [
           0,
           0.45
          ],
          "y": [
           0,
           1
          ]
         },
         "style": "open-street-map",
         "zoom": 12
        },
        "mapbox2": {
         "center": {
          "lat": 44.8378,
          "lon": -0.5792
         },
         "domain": {
          "x": [
           0.55,
           1
          ],
          "y": [
           0,
           1
          ]
         },
         "style": "open-street-map",
         "zoom": 12
        },
        "template": {
         "data": {
          "bar": [
           {
            "error_x": {
             "color": "#2a3f5f"
            },
            "error_y": {
             "color": "#2a3f5f"
            },
            "marker": {
             "line": {
              "color": "#E5ECF6",
              "width": 0.5
             },
             "pattern": {
              "fillmode": "overlay",
              "size": 10,
              "solidity": 0.2
             }
            },
            "type": "bar"
           }
          ],
          "barpolar": [
           {
            "marker": {
             "line": {
              "color": "#E5ECF6",
              "width": 0.5
             },
             "pattern": {
              "fillmode": "overlay",
              "size": 10,
              "solidity": 0.2
             }
            },
            "type": "barpolar"
           }
          ],
          "carpet": [
           {
            "aaxis": {
             "endlinecolor": "#2a3f5f",
             "gridcolor": "white",
             "linecolor": "white",
             "minorgridcolor": "white",
             "startlinecolor": "#2a3f5f"
            },
            "baxis": {
             "endlinecolor": "#2a3f5f",
             "gridcolor": "white",
             "linecolor": "white",
             "minorgridcolor": "white",
             "startlinecolor": "#2a3f5f"
            },
            "type": "carpet"
           }
          ],
          "choropleth": [
           {
            "colorbar": {
             "outlinewidth": 0,
             "ticks": ""
            },
            "type": "choropleth"
           }
          ],
          "contour": [
           {
            "colorbar": {
             "outlinewidth": 0,
             "ticks": ""
            },
            "colorscale": [
             [
              0,
              "#0d0887"
             ],
             [
              0.1111111111111111,
              "#46039f"
             ],
             [
              0.2222222222222222,
              "#7201a8"
             ],
             [
              0.3333333333333333,
              "#9c179e"
             ],
             [
              0.4444444444444444,
              "#bd3786"
             ],
             [
              0.5555555555555556,
              "#d8576b"
             ],
             [
              0.6666666666666666,
              "#ed7953"
             ],
             [
              0.7777777777777778,
              "#fb9f3a"
             ],
             [
              0.8888888888888888,
              "#fdca26"
             ],
             [
              1,
              "#f0f921"
             ]
            ],
            "type": "contour"
           }
          ],
          "contourcarpet": [
           {
            "colorbar": {
             "outlinewidth": 0,
             "ticks": ""
            },
            "type": "contourcarpet"
           }
          ],
          "heatmap": [
           {
            "colorbar": {
             "outlinewidth": 0,
             "ticks": ""
            },
            "colorscale": [
             [
              0,
              "#0d0887"
             ],
             [
              0.1111111111111111,
              "#46039f"
             ],
             [
              0.2222222222222222,
              "#7201a8"
             ],
             [
              0.3333333333333333,
              "#9c179e"
             ],
             [
              0.4444444444444444,
              "#bd3786"
             ],
             [
              0.5555555555555556,
              "#d8576b"
             ],
             [
              0.6666666666666666,
              "#ed7953"
             ],
             [
              0.7777777777777778,
              "#fb9f3a"
             ],
             [
              0.8888888888888888,
              "#fdca26"
             ],
             [
              1,
              "#f0f921"
             ]
            ],
            "type": "heatmap"
           }
          ],
          "histogram": [
           {
            "marker": {
             "pattern": {
              "fillmode": "overlay",
              "size": 10,
              "solidity": 0.2
             }
            },
            "type": "histogram"
           }
          ],
          "histogram2d": [
           {
            "colorbar": {
             "outlinewidth": 0,
             "ticks": ""
            },
            "colorscale": [
             [
              0,
              "#0d0887"
             ],
             [
              0.1111111111111111,
              "#46039f"
             ],
             [
              0.2222222222222222,
              "#7201a8"
             ],
             [
              0.3333333333333333,
              "#9c179e"
             ],
             [
              0.4444444444444444,
              "#bd3786"
             ],
             [
              0.5555555555555556,
              "#d8576b"
             ],
             [
              0.6666666666666666,
              "#ed7953"
             ],
             [
              0.7777777777777778,
              "#fb9f3a"
             ],
             [
              0.8888888888888888,
              "#fdca26"
             ],
             [
              1,
              "#f0f921"
             ]
            ],
            "type": "histogram2d"
           }
          ],
          "histogram2dcontour": [
           {
            "colorbar": {
             "outlinewidth": 0,
             "ticks": ""
            },
            "colorscale": [
             [
              0,
              "#0d0887"
             ],
             [
              0.1111111111111111,
              "#46039f"
             ],
             [
              0.2222222222222222,
              "#7201a8"
             ],
             [
              0.3333333333333333,
              "#9c179e"
             ],
             [
              0.4444444444444444,
              "#bd3786"
             ],
             [
              0.5555555555555556,
              "#d8576b"
             ],
             [
              0.6666666666666666,
              "#ed7953"
             ],
             [
              0.7777777777777778,
              "#fb9f3a"
             ],
             [
              0.8888888888888888,
              "#fdca26"
             ],
             [
              1,
              "#f0f921"
             ]
            ],
            "type": "histogram2dcontour"
           }
          ],
          "mesh3d": [
           {
            "colorbar": {
             "outlinewidth": 0,
             "ticks": ""
            },
            "type": "mesh3d"
           }
          ],
          "parcoords": [
           {
            "line": {
             "colorbar": {
              "outlinewidth": 0,
              "ticks": ""
             }
            },
            "type": "parcoords"
           }
          ],
          "pie": [
           {
            "automargin": true,
            "type": "pie"
           }
          ],
          "scatter": [
           {
            "fillpattern": {
             "fillmode": "overlay",
             "size": 10,
             "solidity": 0.2
            },
            "type": "scatter"
           }
          ],
          "scatter3d": [
           {
            "line": {
             "colorbar": {
              "outlinewidth": 0,
              "ticks": ""
             }
            },
            "marker": {
             "colorbar": {
              "outlinewidth": 0,
              "ticks": ""
             }
            },
            "type": "scatter3d"
           }
          ],
          "scattercarpet": [
           {
            "marker": {
             "colorbar": {
              "outlinewidth": 0,
              "ticks": ""
             }
            },
            "type": "scattercarpet"
           }
          ],
          "scattergeo": [
           {
            "marker": {
             "colorbar": {
              "outlinewidth": 0,
              "ticks": ""
             }
            },
            "type": "scattergeo"
           }
          ],
          "scattergl": [
           {
            "marker": {
             "colorbar": {
              "outlinewidth": 0,
              "ticks": ""
             }
            },
            "type": "scattergl"
           }
          ],
          "scattermap": [
           {
            "marker": {
             "colorbar": {
              "outlinewidth": 0,
              "ticks": ""
             }
            },
            "type": "scattermap"
           }
          ],
          "scattermapbox": [
           {
            "marker": {
             "colorbar": {
              "outlinewidth": 0,
              "ticks": ""
             }
            },
            "type": "scattermapbox"
           }
          ],
          "scatterpolar": [
           {
            "marker": {
             "colorbar": {
              "outlinewidth": 0,
              "ticks": ""
             }
            },
            "type": "scatterpolar"
           }
          ],
          "scatterpolargl": [
           {
            "marker": {
             "colorbar": {
              "outlinewidth": 0,
              "ticks": ""
             }
            },
            "type": "scatterpolargl"
           }
          ],
          "scatterternary": [
           {
            "marker": {
             "colorbar": {
              "outlinewidth": 0,
              "ticks": ""
             }
            },
            "type": "scatterternary"
           }
          ],
          "surface": [
           {
            "colorbar": {
             "outlinewidth": 0,
             "ticks": ""
            },
            "colorscale": [
             [
              0,
              "#0d0887"
             ],
             [
              0.1111111111111111,
              "#46039f"
             ],
             [
              0.2222222222222222,
              "#7201a8"
             ],
             [
              0.3333333333333333,
              "#9c179e"
             ],
             [
              0.4444444444444444,
              "#bd3786"
             ],
             [
              0.5555555555555556,
              "#d8576b"
             ],
             [
              0.6666666666666666,
              "#ed7953"
             ],
             [
              0.7777777777777778,
              "#fb9f3a"
             ],
             [
              0.8888888888888888,
              "#fdca26"
             ],
             [
              1,
              "#f0f921"
             ]
            ],
            "type": "surface"
           }
          ],
          "table": [
           {
            "cells": {
             "fill": {
              "color": "#EBF0F8"
             },
             "line": {
              "color": "white"
             }
            },
            "header": {
             "fill": {
              "color": "#C8D4E3"
             },
             "line": {
              "color": "white"
             }
            },
            "type": "table"
           }
          ]
         },
         "layout": {
          "annotationdefaults": {
           "arrowcolor": "#2a3f5f",
           "arrowhead": 0,
           "arrowwidth": 1
          },
          "autotypenumbers": "strict",
          "coloraxis": {
           "colorbar": {
            "outlinewidth": 0,
            "ticks": ""
           }
          },
          "colorscale": {
           "diverging": [
            [
             0,
             "#8e0152"
            ],
            [
             0.1,
             "#c51b7d"
            ],
            [
             0.2,
             "#de77ae"
            ],
            [
             0.3,
             "#f1b6da"
            ],
            [
             0.4,
             "#fde0ef"
            ],
            [
             0.5,
             "#f7f7f7"
            ],
            [
             0.6,
             "#e6f5d0"
            ],
            [
             0.7,
             "#b8e186"
            ],
            [
             0.8,
             "#7fbc41"
            ],
            [
             0.9,
             "#4d9221"
            ],
            [
             1,
             "#276419"
            ]
           ],
           "sequential": [
            [
             0,
             "#0d0887"
            ],
            [
             0.1111111111111111,
             "#46039f"
            ],
            [
             0.2222222222222222,
             "#7201a8"
            ],
            [
             0.3333333333333333,
             "#9c179e"
            ],
            [
             0.4444444444444444,
             "#bd3786"
            ],
            [
             0.5555555555555556,
             "#d8576b"
            ],
            [
             0.6666666666666666,
             "#ed7953"
            ],
            [
             0.7777777777777778,
             "#fb9f3a"
            ],
            [
             0.8888888888888888,
             "#fdca26"
            ],
            [
             1,
             "#f0f921"
            ]
           ],
           "sequentialminus": [
            [
             0,
             "#0d0887"
            ],
            [
             0.1111111111111111,
             "#46039f"
            ],
            [
             0.2222222222222222,
             "#7201a8"
            ],
            [
             0.3333333333333333,
             "#9c179e"
            ],
            [
             0.4444444444444444,
             "#bd3786"
            ],
            [
             0.5555555555555556,
             "#d8576b"
            ],
            [
             0.6666666666666666,
             "#ed7953"
            ],
            [
             0.7777777777777778,
             "#fb9f3a"
            ],
            [
             0.8888888888888888,
             "#fdca26"
            ],
            [
             1,
             "#f0f921"
            ]
           ]
          },
          "colorway": [
           "#636efa",
           "#EF553B",
           "#00cc96",
           "#ab63fa",
           "#FFA15A",
           "#19d3f3",
           "#FF6692",
           "#B6E880",
           "#FF97FF",
           "#FECB52"
          ],
          "font": {
           "color": "#2a3f5f"
          },
          "geo": {
           "bgcolor": "white",
           "lakecolor": "white",
           "landcolor": "#E5ECF6",
           "showlakes": true,
           "showland": true,
           "subunitcolor": "white"
          },
          "hoverlabel": {
           "align": "left"
          },
          "hovermode": "closest",
          "mapbox": {
           "style": "light"
          },
          "paper_bgcolor": "white",
          "plot_bgcolor": "#E5ECF6",
          "polar": {
           "angularaxis": {
            "gridcolor": "white",
            "linecolor": "white",
            "ticks": ""
           },
           "bgcolor": "#E5ECF6",
           "radialaxis": {
            "gridcolor": "white",
            "linecolor": "white",
            "ticks": ""
           }
          },
          "scene": {
           "xaxis": {
            "backgroundcolor": "#E5ECF6",
            "gridcolor": "white",
            "gridwidth": 2,
            "linecolor": "white",
            "showbackground": true,
            "ticks": "",
            "zerolinecolor": "white"
           },
           "yaxis": {
            "backgroundcolor": "#E5ECF6",
            "gridcolor": "white",
            "gridwidth": 2,
            "linecolor": "white",
            "showbackground": true,
            "ticks": "",
            "zerolinecolor": "white"
           },
           "zaxis": {
            "backgroundcolor": "#E5ECF6",
            "gridcolor": "white",
            "gridwidth": 2,
            "linecolor": "white",
            "showbackground": true,
            "ticks": "",
            "zerolinecolor": "white"
           }
          },
          "shapedefaults": {
           "line": {
            "color": "#2a3f5f"
           }
          },
          "ternary": {
           "aaxis": {
            "gridcolor": "white",
            "linecolor": "white",
            "ticks": ""
           },
           "baxis": {
            "gridcolor": "white",
            "linecolor": "white",
            "ticks": ""
           },
           "bgcolor": "#E5ECF6",
           "caxis": {
            "gridcolor": "white",
            "linecolor": "white",
            "ticks": ""
           }
          },
          "title": {
           "x": 0.05
          },
          "xaxis": {
           "automargin": true,
           "gridcolor": "white",
           "linecolor": "white",
           "ticks": "",
           "title": {
            "standoff": 15
           },
           "zerolinecolor": "white",
           "zerolinewidth": 2
          },
          "yaxis": {
           "automargin": true,
           "gridcolor": "white",
           "linecolor": "white",
           "ticks": "",
           "title": {
            "standoff": 15
           },
           "zerolinecolor": "white",
           "zerolinewidth": 2
          }
         }
        },
        "title": {
         "text": "Établissements d'enseignement supérieur à Rennes et Bordeaux (Privé/Public)"
        }
       }
      }
     },
     "metadata": {},
     "output_type": "display_data"
    }
   ],
   "source": [
    "import plotly.graph_objects as go\n",
    "from plotly.subplots import make_subplots\n",
    "\n",
    "# Filtrer les données\n",
    "df_rennes = df_rennes_et_bordeaux[df_rennes_et_bordeaux['Commune'] == 'Rennes']\n",
    "df_bordeaux = df_rennes_et_bordeaux[df_rennes_et_bordeaux['Commune'] == 'Bordeaux']\n",
    "\n",
    "# Créer une figure avec 1 ligne et 2 colonnes\n",
    "fig = make_subplots(\n",
    "    rows=1, cols=2,\n",
    "    subplot_titles=(\"Rennes\", \"Bordeaux\"),\n",
    "    specs=[[{\"type\": \"scattermapbox\"}, {\"type\": \"scattermapbox\"}]]\n",
    ")\n",
    "\n",
    "# Rennes\n",
    "fig.add_trace(\n",
    "    go.Scattermapbox(\n",
    "        lat=df_rennes['lat'],\n",
    "        lon=df_rennes['lon'],\n",
    "        mode='markers',\n",
    "        marker=dict(\n",
    "            size=df_rennes['nombre total d’étudiants inscrits hors doubles inscriptions université/CPGE'] / 2,  # taille relative\n",
    "            color=df_rennes[\"secteur d'établissement\"].map({\"Privé\": \"blue\", \"Public\": \"green\"}),\n",
    "            sizemode='area',\n",
    "            sizemin=5\n",
    "        ),\n",
    "        text=df_rennes[\"libellé de l'établissement\"],\n",
    "        hovertemplate=\"<b>%{text}</b><br>Étudiants: %{marker.size}<br>Secteur: %{marker.color}<extra></extra>\"\n",
    "    ),\n",
    "    row=1, col=1\n",
    ")\n",
    "\n",
    "# Bordeaux\n",
    "fig.add_trace(\n",
    "    go.Scattermapbox(\n",
    "        lat=df_bordeaux['lat'],\n",
    "        lon=df_bordeaux['lon'],\n",
    "        mode='markers',\n",
    "        marker=dict(\n",
    "            size=df_bordeaux['nombre total d’étudiants inscrits hors doubles inscriptions université/CPGE'] / 2,\n",
    "            color=df_bordeaux[\"secteur d'établissement\"].map({\"Privé\": \"blue\", \"Public\": \"green\"}),\n",
    "            sizemode='area',\n",
    "            sizemin=5\n",
    "        ),\n",
    "        text=df_bordeaux[\"libellé de l'établissement\"],\n",
    "        hovertemplate=\"<b>%{text}</b><br>Étudiants: %{marker.size}<br>Secteur: %{marker.color}<extra></extra>\"\n",
    "    ),\n",
    "    row=1, col=2\n",
    ")\n",
    "\n",
    "# Layout\n",
    "fig.update_layout(\n",
    "    mapbox=dict(\n",
    "        style=\"open-street-map\",\n",
    "        center={\"lat\": 48.117, \"lon\": -1.677},  # centre par défaut, ne s'applique pas aux sous-cartes individuellement\n",
    "        zoom=12\n",
    "    ),\n",
    "    mapbox2=dict(\n",
    "        style=\"open-street-map\",\n",
    "        center={\"lat\": 44.8378, \"lon\": -0.5792},\n",
    "        zoom=12\n",
    "    ),\n",
    "    height=600,\n",
    "    title_text=\"Établissements d'enseignement supérieur à Rennes et Bordeaux (Privé/Public)\"\n",
    ")\n",
    "\n",
    "fig.show()\n"
   ]
  },
  {
   "cell_type": "markdown",
   "id": "90516127",
   "metadata": {},
   "source": [
    "### Analyser les **quartiers vivants (nombre de resto, bars, et supermarchés)** à ? ###"
   ]
  },
  {
   "cell_type": "code",
   "execution_count": 10,
   "id": "26a86433",
   "metadata": {},
   "outputs": [
    {
     "name": "stdout",
     "output_type": "stream",
     "text": [
      "Partie Adam et Valentine\n"
     ]
    }
   ],
   "source": [
    "print(\"Partie Adam et Valentine\")"
   ]
  }
 ],
 "metadata": {
  "kernelspec": {
   "display_name": ".venv",
   "language": "python",
   "name": "python3"
  },
  "language_info": {
   "codemirror_mode": {
    "name": "ipython",
    "version": 3
   },
   "file_extension": ".py",
   "mimetype": "text/x-python",
   "name": "python",
   "nbconvert_exporter": "python",
   "pygments_lexer": "ipython3",
   "version": "3.13.7"
  }
 },
 "nbformat": 4,
 "nbformat_minor": 5
}
