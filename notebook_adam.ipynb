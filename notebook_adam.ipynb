{
 "cells": [
  {
   "cell_type": "markdown",
   "id": "25dd84de",
   "metadata": {},
   "source": [
    "## 🎓 Persona : Léa, jeune investisseuse étudiante\n",
    "\n",
    "**Profil :**\n",
    "- 👩 24 ans, diplômée de l'EM Lyon\n",
    "- 💼 Première expérience professionnelle après 2 ans d'alternance\n",
    "- 💰 Aide parentale pour le financement + épargne personnelle (~15 000 €)\n",
    "- 🎯 Objectif : réaliser un **premier investissement locatif** dans une **ville étudiante dynamique**\n",
    "\n",
    "---\n",
    "\n",
    "### 💡 Objectif d'investissement\n",
    "> Trouver le **meilleur investissement locatif étudiant** possible avec un **budget global de 200 000 €**,  \n",
    "> en analysant la rentabilité brute dans les **principales villes étudiantes françaises** (studios et T1 ≤45m²)\n",
    "\n",
    "---\n",
    "\n",
    "### 💰 Hypothèses financières\n",
    "| Élément | Montant estimé |\n",
    "|----------|----------------|\n",
    "| Prix d'achat visé | 160 000 – 180 000 € |\n",
    "| Apport personnel | 15 000 € |\n",
    "| Prêt immobilier estimé | 180 000 € sur 20 ans |\n",
    "| Budget total (frais inclus) | **≈ 200 000 €** |\n",
    "| Objectif de rentabilité brute | **≥ 5 %** |\n",
    "\n",
    "---\n",
    "\n",
    "### 🔍 Besoins data de Léa\n",
    "- Évaluer le **taux de vacance locative** en France pour anticiper les périodes creuses (notamment l'été où les étudiants quittent les logements)\n",
    "- Visualiser les **villes à forte concentration étudiante** en France\n",
    "- Analyser l'**évolution du prix au m² à l'achat et des loyers étudiants** en France\n",
    "- Etudier **la rentabilité moyenne en France** en 2024\n",
    "- Analyser la **dynamique du marché immobilier local : croissance ou baisse des prix et loyers sur les 5 dernières années** (entre Rennes et Bordeaux)\n",
    "- Comparer **les quartiers les plus rentables (rentabilité brute)** à ?\n",
    "- Analyser la **localisation/nombre des transports en commun** pour identifier les zones les plus attractives pour les étudiants à ?\n",
    "- Analyser la **localisation des universités/grandes écoles** à ?\n",
    "- Analyser les **quartiers vivants (nombre de resto, bars, et supermarchés)** à ? \n",
    "- Fournir une **recommandation finale : \"où investir avec 200k€ ?\"**\n",
    "\n",
    "---\n",
    "\n",
    "### 🧭 Objectif du notebook\n",
    "Créer un outil interactif permettant à Léa de :\n",
    "1. Analyser la **rentabilité locative brute** pour appartements étudiants ≤45m² dans **23 grandes villes françaises**\n",
    "2. Explorer visuellement les **villes à forte concentration étudiante** et analyser les **taux de vacance locative**\n",
    "3. Obtenir un **classement des villes** par rentabilité, prix et loyers pour décider où investir avec 200k€"
   ]
  },
  {
   "cell_type": "markdown",
   "id": "8f9733a3",
   "metadata": {},
   "source": [
    "## 📚 Import des bibliothèques ##"
   ]
  },
  {
   "cell_type": "code",
   "execution_count": 1,
   "id": "3eb868ba",
   "metadata": {},
   "outputs": [],
   "source": [
    "import pandas as pd \n",
    "import plotly.express as px\n",
    "import geopandas as gpd\n",
    "import requests\n",
    "import os\n",
    "import osmnx as ox\n",
    "from shapely.geometry import Point\n",
    "import matplotlib.pyplot as plt\n",
    "import seaborn as sns\n",
    "import warnings\n",
    "warnings.filterwarnings('ignore')"
   ]
  },
  {
   "cell_type": "markdown",
   "id": "f672a483",
   "metadata": {},
   "source": [
    "# 2e vision : Analyse resserrée sur des villes #"
   ]
  },
  {
   "cell_type": "markdown",
   "id": "a0144df7",
   "metadata": {},
   "source": [
    "### Analyser la **dynamique du marché immobilier local : croissance ou baisse des prix et loyers sur les 5 dernières années** (entre Rennes et Bordeaux) ###"
   ]
  },
  {
   "cell_type": "code",
   "execution_count": 105,
   "id": "4c7db600",
   "metadata": {},
   "outputs": [
    {
     "name": "stdout",
     "output_type": "stream",
     "text": [
      "Partie Axel\n"
     ]
    }
   ],
   "source": [
    "print(\"Partie Axel\")"
   ]
  },
  {
   "cell_type": "markdown",
   "id": "be63e6ce",
   "metadata": {},
   "source": [
    "### Comparer **les quartiers les plus rentables (rentabilité brute)** à ? ###"
   ]
  },
  {
   "cell_type": "code",
   "execution_count": 106,
   "id": "30b7b390",
   "metadata": {},
   "outputs": [
    {
     "name": "stdout",
     "output_type": "stream",
     "text": [
      "Partie Lucien\n"
     ]
    }
   ],
   "source": [
    "print(\"Partie Lucien\")"
   ]
  },
  {
   "cell_type": "markdown",
   "id": "7da69d10",
   "metadata": {},
   "source": [
    "### Analyser la **localisation/nombre des transports en commun** pour identifier les zones les plus attractives pour les étudiants à ?  ###"
   ]
  },
  {
   "cell_type": "code",
   "execution_count": 107,
   "id": "878e55f3",
   "metadata": {},
   "outputs": [
    {
     "name": "stdout",
     "output_type": "stream",
     "text": [
      "Partie Valentine\n"
     ]
    }
   ],
   "source": [
    "print(\"Partie Valentine\")"
   ]
  },
  {
   "cell_type": "markdown",
   "id": "9b97c335",
   "metadata": {},
   "source": [
    "### Analyser la **localisation des universités/grandes écoles** à ? ###"
   ]
  },
  {
   "cell_type": "code",
   "execution_count": 12,
   "id": "7727e89b",
   "metadata": {},
   "outputs": [
    {
     "data": {
      "text/html": [
       "<div>\n",
       "<style scoped>\n",
       "    .dataframe tbody tr th:only-of-type {\n",
       "        vertical-align: middle;\n",
       "    }\n",
       "\n",
       "    .dataframe tbody tr th {\n",
       "        vertical-align: top;\n",
       "    }\n",
       "\n",
       "    .dataframe thead th {\n",
       "        text-align: right;\n",
       "    }\n",
       "</style>\n",
       "<table border=\"1\" class=\"dataframe\">\n",
       "  <thead>\n",
       "    <tr style=\"text-align: right;\">\n",
       "      <th></th>\n",
       "      <th>Rentrée universitaire</th>\n",
       "      <th>catégorie d'établissement</th>\n",
       "      <th>secteur d'établissement</th>\n",
       "      <th>code UAI de l'établissement</th>\n",
       "      <th>sigle de l'établissement</th>\n",
       "      <th>libellé de l'établissement</th>\n",
       "      <th>libellé complémentaire de l'établissement</th>\n",
       "      <th>Code UAI de la composante</th>\n",
       "      <th>sigle de la composante</th>\n",
       "      <th>libellé de la composante</th>\n",
       "      <th>...</th>\n",
       "      <th>id unité urbaine</th>\n",
       "      <th>unité urbaine</th>\n",
       "      <th>code commune</th>\n",
       "      <th>Commune</th>\n",
       "      <th>gps</th>\n",
       "      <th>degetu</th>\n",
       "      <th>degre_etudes</th>\n",
       "      <th>nombre total d’étudiants inscrits hors doubles inscriptions université/CPGE</th>\n",
       "      <th>dont femmes</th>\n",
       "      <th>dont hommes</th>\n",
       "    </tr>\n",
       "  </thead>\n",
       "  <tbody>\n",
       "    <tr>\n",
       "      <th>0</th>\n",
       "      <td>2023</td>\n",
       "      <td>Écoles de commerce, gestion et vente</td>\n",
       "      <td>Privé</td>\n",
       "      <td>0562044T</td>\n",
       "      <td>EC TECH SUP PR</td>\n",
       "      <td>GROUPE AFTEC</td>\n",
       "      <td>IPAC BACHELOR FACTORY VANNES</td>\n",
       "      <td>0562044T</td>\n",
       "      <td>EC TECH SUP PR</td>\n",
       "      <td>GROUPE AFTEC</td>\n",
       "      <td>...</td>\n",
       "      <td>UU56501</td>\n",
       "      <td>Vannes</td>\n",
       "      <td>56158</td>\n",
       "      <td>Plescop</td>\n",
       "      <td>47.67764394859038, -2.80211043128016</td>\n",
       "      <td>3.0</td>\n",
       "      <td>BAC + 3</td>\n",
       "      <td>112</td>\n",
       "      <td>96</td>\n",
       "      <td>16</td>\n",
       "    </tr>\n",
       "    <tr>\n",
       "      <th>1</th>\n",
       "      <td>2023</td>\n",
       "      <td>Écoles de commerce, gestion et vente</td>\n",
       "      <td>Privé</td>\n",
       "      <td>0590346F</td>\n",
       "      <td>SKEMA LILLE</td>\n",
       "      <td>SKEMA BUSINESS SCHOOL LILLE</td>\n",
       "      <td>NaN</td>\n",
       "      <td>0060656F</td>\n",
       "      <td>E.COM</td>\n",
       "      <td>ECOLE DE COMMERCE</td>\n",
       "      <td>...</td>\n",
       "      <td>UU06701</td>\n",
       "      <td>Nice</td>\n",
       "      <td>06152</td>\n",
       "      <td>Valbonne</td>\n",
       "      <td>43.61328883276337, 7.056290282560445</td>\n",
       "      <td>6.0</td>\n",
       "      <td>BAC + 6 et plus</td>\n",
       "      <td>19</td>\n",
       "      <td>9</td>\n",
       "      <td>10</td>\n",
       "    </tr>\n",
       "    <tr>\n",
       "      <th>2</th>\n",
       "      <td>2023</td>\n",
       "      <td>Écoles de commerce, gestion et vente</td>\n",
       "      <td>Privé</td>\n",
       "      <td>0590346F</td>\n",
       "      <td>SKEMA LILLE</td>\n",
       "      <td>SKEMA BUSINESS SCHOOL LILLE</td>\n",
       "      <td>NaN</td>\n",
       "      <td>216P0001</td>\n",
       "      <td>SKEMA CHINE</td>\n",
       "      <td>SKEMA BUSINESS SCHOOL</td>\n",
       "      <td>...</td>\n",
       "      <td>CHI99216</td>\n",
       "      <td>Suzhou</td>\n",
       "      <td>99216</td>\n",
       "      <td>Suzhou</td>\n",
       "      <td>NaN</td>\n",
       "      <td>4.0</td>\n",
       "      <td>BAC + 4</td>\n",
       "      <td>389</td>\n",
       "      <td>67</td>\n",
       "      <td>322</td>\n",
       "    </tr>\n",
       "    <tr>\n",
       "      <th>3</th>\n",
       "      <td>2023</td>\n",
       "      <td>Écoles de commerce, gestion et vente</td>\n",
       "      <td>Privé</td>\n",
       "      <td>0590350K</td>\n",
       "      <td>EDHEC LILLE</td>\n",
       "      <td>EDHEC BUSINESS SCHOOL</td>\n",
       "      <td>MEMBRE FUPL</td>\n",
       "      <td>0755719J</td>\n",
       "      <td>EDHEC</td>\n",
       "      <td>CENTRE DE FORMATION CONTINUE</td>\n",
       "      <td>...</td>\n",
       "      <td>UU00851</td>\n",
       "      <td>Paris</td>\n",
       "      <td>75102</td>\n",
       "      <td>Paris  2e</td>\n",
       "      <td>NaN</td>\n",
       "      <td>5.0</td>\n",
       "      <td>BAC + 5</td>\n",
       "      <td>387</td>\n",
       "      <td>162</td>\n",
       "      <td>225</td>\n",
       "    </tr>\n",
       "    <tr>\n",
       "      <th>4</th>\n",
       "      <td>2023</td>\n",
       "      <td>Écoles de commerce, gestion et vente</td>\n",
       "      <td>Privé</td>\n",
       "      <td>0593202K</td>\n",
       "      <td>IESEG LILLE</td>\n",
       "      <td>INST ECO SCIENT GESTION LILLE</td>\n",
       "      <td>MEMBRE FUPL</td>\n",
       "      <td>0593202K</td>\n",
       "      <td>IESEG LILLE</td>\n",
       "      <td>INST ECO SCIENT GESTION LILLE</td>\n",
       "      <td>...</td>\n",
       "      <td>UU59702</td>\n",
       "      <td>Lille</td>\n",
       "      <td>59350</td>\n",
       "      <td>Lille</td>\n",
       "      <td>50.63553116922688, 3.044909976114497</td>\n",
       "      <td>2.0</td>\n",
       "      <td>BAC + 2</td>\n",
       "      <td>739</td>\n",
       "      <td>285</td>\n",
       "      <td>454</td>\n",
       "    </tr>\n",
       "  </tbody>\n",
       "</table>\n",
       "<p>5 rows × 27 columns</p>\n",
       "</div>"
      ],
      "text/plain": [
       "   Rentrée universitaire             catégorie d'établissement  \\\n",
       "0                   2023  Écoles de commerce, gestion et vente   \n",
       "1                   2023  Écoles de commerce, gestion et vente   \n",
       "2                   2023  Écoles de commerce, gestion et vente   \n",
       "3                   2023  Écoles de commerce, gestion et vente   \n",
       "4                   2023  Écoles de commerce, gestion et vente   \n",
       "\n",
       "  secteur d'établissement code UAI de l'établissement  \\\n",
       "0                   Privé                    0562044T   \n",
       "1                   Privé                    0590346F   \n",
       "2                   Privé                    0590346F   \n",
       "3                   Privé                    0590350K   \n",
       "4                   Privé                    0593202K   \n",
       "\n",
       "  sigle de l'établissement     libellé de l'établissement  \\\n",
       "0           EC TECH SUP PR                   GROUPE AFTEC   \n",
       "1              SKEMA LILLE    SKEMA BUSINESS SCHOOL LILLE   \n",
       "2              SKEMA LILLE    SKEMA BUSINESS SCHOOL LILLE   \n",
       "3              EDHEC LILLE          EDHEC BUSINESS SCHOOL   \n",
       "4              IESEG LILLE  INST ECO SCIENT GESTION LILLE   \n",
       "\n",
       "  libellé complémentaire de l'établissement Code UAI de la composante  \\\n",
       "0              IPAC BACHELOR FACTORY VANNES                  0562044T   \n",
       "1                                       NaN                  0060656F   \n",
       "2                                       NaN                  216P0001   \n",
       "3                               MEMBRE FUPL                  0755719J   \n",
       "4                               MEMBRE FUPL                  0593202K   \n",
       "\n",
       "  sigle de la composante       libellé de la composante  ... id unité urbaine  \\\n",
       "0         EC TECH SUP PR                   GROUPE AFTEC  ...          UU56501   \n",
       "1                  E.COM              ECOLE DE COMMERCE  ...          UU06701   \n",
       "2            SKEMA CHINE          SKEMA BUSINESS SCHOOL  ...         CHI99216   \n",
       "3                  EDHEC   CENTRE DE FORMATION CONTINUE  ...          UU00851   \n",
       "4            IESEG LILLE  INST ECO SCIENT GESTION LILLE  ...          UU59702   \n",
       "\n",
       "  unité urbaine code commune    Commune                                   gps  \\\n",
       "0        Vannes        56158    Plescop  47.67764394859038, -2.80211043128016   \n",
       "1          Nice        06152   Valbonne  43.61328883276337, 7.056290282560445   \n",
       "2        Suzhou        99216     Suzhou                                   NaN   \n",
       "3         Paris        75102  Paris  2e                                   NaN   \n",
       "4         Lille        59350      Lille  50.63553116922688, 3.044909976114497   \n",
       "\n",
       "  degetu     degre_etudes  \\\n",
       "0    3.0          BAC + 3   \n",
       "1    6.0  BAC + 6 et plus   \n",
       "2    4.0          BAC + 4   \n",
       "3    5.0          BAC + 5   \n",
       "4    2.0          BAC + 2   \n",
       "\n",
       "  nombre total d’étudiants inscrits hors doubles inscriptions université/CPGE  \\\n",
       "0                                                112                            \n",
       "1                                                 19                            \n",
       "2                                                389                            \n",
       "3                                                387                            \n",
       "4                                                739                            \n",
       "\n",
       "  dont femmes dont hommes  \n",
       "0          96          16  \n",
       "1           9          10  \n",
       "2          67         322  \n",
       "3         162         225  \n",
       "4         285         454  \n",
       "\n",
       "[5 rows x 27 columns]"
      ]
     },
     "execution_count": 12,
     "metadata": {},
     "output_type": "execute_result"
    }
   ],
   "source": [
    "url_df_enseignement_sup = \"https://huggingface.co/datasets/analysedonneesfoncieresdata/analyse_fonciere_data/resolve/main/fr-esr-atlas_regional-effectifs-d-etudiants-inscrits-detail_etablissements.csv\"\n",
    "\n",
    "df_enseignement_sup = pd.read_csv(url_df_enseignement_sup, delimiter=';')\n",
    "\n",
    "df_enseignement_sup.head()"
   ]
  },
  {
   "cell_type": "code",
   "execution_count": 13,
   "id": "d387a86d",
   "metadata": {},
   "outputs": [
    {
     "name": "stdout",
     "output_type": "stream",
     "text": [
      "Nombre de lignes à Rennes : 1531\n",
      "Nombres de lignes avec gps à Rennes : 1461\n",
      "Nombres de lignes sans gps à Rennes avant drop: 70\n",
      "Nombres de lignes sans gps à Rennes après drop: 0\n"
     ]
    },
    {
     "data": {
      "text/html": [
       "<div>\n",
       "<style scoped>\n",
       "    .dataframe tbody tr th:only-of-type {\n",
       "        vertical-align: middle;\n",
       "    }\n",
       "\n",
       "    .dataframe tbody tr th {\n",
       "        vertical-align: top;\n",
       "    }\n",
       "\n",
       "    .dataframe thead th {\n",
       "        text-align: right;\n",
       "    }\n",
       "</style>\n",
       "<table border=\"1\" class=\"dataframe\">\n",
       "  <thead>\n",
       "    <tr style=\"text-align: right;\">\n",
       "      <th></th>\n",
       "      <th>Rentrée universitaire</th>\n",
       "      <th>catégorie d'établissement</th>\n",
       "      <th>secteur d'établissement</th>\n",
       "      <th>code UAI de l'établissement</th>\n",
       "      <th>sigle de l'établissement</th>\n",
       "      <th>libellé de l'établissement</th>\n",
       "      <th>libellé complémentaire de l'établissement</th>\n",
       "      <th>Code UAI de la composante</th>\n",
       "      <th>sigle de la composante</th>\n",
       "      <th>libellé de la composante</th>\n",
       "      <th>...</th>\n",
       "      <th>id unité urbaine</th>\n",
       "      <th>unité urbaine</th>\n",
       "      <th>code commune</th>\n",
       "      <th>Commune</th>\n",
       "      <th>gps</th>\n",
       "      <th>degetu</th>\n",
       "      <th>degre_etudes</th>\n",
       "      <th>nombre total d’étudiants inscrits hors doubles inscriptions université/CPGE</th>\n",
       "      <th>dont femmes</th>\n",
       "      <th>dont hommes</th>\n",
       "    </tr>\n",
       "  </thead>\n",
       "  <tbody>\n",
       "    <tr>\n",
       "      <th>322</th>\n",
       "      <td>2022</td>\n",
       "      <td>Lycées</td>\n",
       "      <td>Privé</td>\n",
       "      <td>0352267Z</td>\n",
       "      <td>ECP PR</td>\n",
       "      <td>ECOLE PRIVEE COIF ESTHETIQUE</td>\n",
       "      <td>L'ACADEMY - SILVYA TERRADE REN</td>\n",
       "      <td>0352267Z</td>\n",
       "      <td>ECP PR</td>\n",
       "      <td>ECOLE PRIVEE COIF ESTHETIQUE</td>\n",
       "      <td>...</td>\n",
       "      <td>UU35701</td>\n",
       "      <td>Rennes</td>\n",
       "      <td>35238</td>\n",
       "      <td>Rennes</td>\n",
       "      <td>48.10427073898263, -1.6691603554365282</td>\n",
       "      <td>2.0</td>\n",
       "      <td>BAC + 2</td>\n",
       "      <td>9</td>\n",
       "      <td>8</td>\n",
       "      <td>1</td>\n",
       "    </tr>\n",
       "    <tr>\n",
       "      <th>583</th>\n",
       "      <td>2023</td>\n",
       "      <td>Universités</td>\n",
       "      <td>Public</td>\n",
       "      <td>0353074B</td>\n",
       "      <td>UR (EPE)</td>\n",
       "      <td>UNIVERSITE</td>\n",
       "      <td>DE RENNES (EPE)</td>\n",
       "      <td>0352076S</td>\n",
       "      <td>UFR SC VIE ENV</td>\n",
       "      <td>UFR SCIENCES VIE ENVIRONNEMENT</td>\n",
       "      <td>...</td>\n",
       "      <td>UU35701</td>\n",
       "      <td>Rennes</td>\n",
       "      <td>35238</td>\n",
       "      <td>Rennes</td>\n",
       "      <td>48.11412271889446, -1.6376903820335271</td>\n",
       "      <td>6.0</td>\n",
       "      <td>BAC + 6 et plus</td>\n",
       "      <td>61</td>\n",
       "      <td>35</td>\n",
       "      <td>26</td>\n",
       "    </tr>\n",
       "    <tr>\n",
       "      <th>820</th>\n",
       "      <td>2021</td>\n",
       "      <td>Écoles d'ingénieurs</td>\n",
       "      <td>Public</td>\n",
       "      <td>0350097R</td>\n",
       "      <td>INSA RENNES</td>\n",
       "      <td>INST NAT SC APPLIQ RENNES</td>\n",
       "      <td>NaN</td>\n",
       "      <td>0350097R</td>\n",
       "      <td>INSA RENNES</td>\n",
       "      <td>INST NAT SC APPLIQ RENNES</td>\n",
       "      <td>...</td>\n",
       "      <td>UU35701</td>\n",
       "      <td>Rennes</td>\n",
       "      <td>35238</td>\n",
       "      <td>Rennes</td>\n",
       "      <td>48.1215800418907, -1.6329696980490491</td>\n",
       "      <td>4.0</td>\n",
       "      <td>BAC + 4</td>\n",
       "      <td>411</td>\n",
       "      <td>126</td>\n",
       "      <td>285</td>\n",
       "    </tr>\n",
       "    <tr>\n",
       "      <th>878</th>\n",
       "      <td>2019</td>\n",
       "      <td>Universités</td>\n",
       "      <td>Public</td>\n",
       "      <td>0290346U</td>\n",
       "      <td>U BREST</td>\n",
       "      <td>UNIVERSITE  BREST</td>\n",
       "      <td>BRETAGNE OCCIDENTALE</td>\n",
       "      <td>0352076S</td>\n",
       "      <td>UFR SC VIE ENV</td>\n",
       "      <td>UFR SCIENCES VIE ENVIRONNEMENT</td>\n",
       "      <td>...</td>\n",
       "      <td>UU35701</td>\n",
       "      <td>Rennes</td>\n",
       "      <td>35238</td>\n",
       "      <td>Rennes</td>\n",
       "      <td>48.11412271889446, -1.6376903820335271</td>\n",
       "      <td>NaN</td>\n",
       "      <td>NaN</td>\n",
       "      <td>48</td>\n",
       "      <td>27</td>\n",
       "      <td>21</td>\n",
       "    </tr>\n",
       "    <tr>\n",
       "      <th>1196</th>\n",
       "      <td>2015</td>\n",
       "      <td>Universités</td>\n",
       "      <td>Public</td>\n",
       "      <td>0350936C</td>\n",
       "      <td>U RENNES 1</td>\n",
       "      <td>UNIVERSITE RENNES 1</td>\n",
       "      <td>UNIVERSITE RENNES 1</td>\n",
       "      <td>0350075S</td>\n",
       "      <td>IG RENNES 1</td>\n",
       "      <td>INSTITUT DE GESTION RENNES 1</td>\n",
       "      <td>...</td>\n",
       "      <td>UU35701</td>\n",
       "      <td>Rennes</td>\n",
       "      <td>35238</td>\n",
       "      <td>Rennes</td>\n",
       "      <td>48.11728104154247, -1.6723406266225596</td>\n",
       "      <td>NaN</td>\n",
       "      <td>NaN</td>\n",
       "      <td>1339</td>\n",
       "      <td>753</td>\n",
       "      <td>586</td>\n",
       "    </tr>\n",
       "  </tbody>\n",
       "</table>\n",
       "<p>5 rows × 27 columns</p>\n",
       "</div>"
      ],
      "text/plain": [
       "      Rentrée universitaire catégorie d'établissement secteur d'établissement  \\\n",
       "322                    2022                    Lycées                   Privé   \n",
       "583                    2023               Universités                  Public   \n",
       "820                    2021       Écoles d'ingénieurs                  Public   \n",
       "878                    2019               Universités                  Public   \n",
       "1196                   2015               Universités                  Public   \n",
       "\n",
       "     code UAI de l'établissement sigle de l'établissement  \\\n",
       "322                     0352267Z                   ECP PR   \n",
       "583                     0353074B                 UR (EPE)   \n",
       "820                     0350097R              INSA RENNES   \n",
       "878                     0290346U                  U BREST   \n",
       "1196                    0350936C               U RENNES 1   \n",
       "\n",
       "        libellé de l'établissement libellé complémentaire de l'établissement  \\\n",
       "322   ECOLE PRIVEE COIF ESTHETIQUE            L'ACADEMY - SILVYA TERRADE REN   \n",
       "583                     UNIVERSITE                           DE RENNES (EPE)   \n",
       "820      INST NAT SC APPLIQ RENNES                                       NaN   \n",
       "878              UNIVERSITE  BREST                      BRETAGNE OCCIDENTALE   \n",
       "1196           UNIVERSITE RENNES 1                       UNIVERSITE RENNES 1   \n",
       "\n",
       "     Code UAI de la composante sigle de la composante  \\\n",
       "322                   0352267Z                 ECP PR   \n",
       "583                   0352076S         UFR SC VIE ENV   \n",
       "820                   0350097R            INSA RENNES   \n",
       "878                   0352076S         UFR SC VIE ENV   \n",
       "1196                  0350075S            IG RENNES 1   \n",
       "\n",
       "            libellé de la composante  ... id unité urbaine unité urbaine  \\\n",
       "322     ECOLE PRIVEE COIF ESTHETIQUE  ...          UU35701        Rennes   \n",
       "583   UFR SCIENCES VIE ENVIRONNEMENT  ...          UU35701        Rennes   \n",
       "820        INST NAT SC APPLIQ RENNES  ...          UU35701        Rennes   \n",
       "878   UFR SCIENCES VIE ENVIRONNEMENT  ...          UU35701        Rennes   \n",
       "1196    INSTITUT DE GESTION RENNES 1  ...          UU35701        Rennes   \n",
       "\n",
       "     code commune Commune                                     gps degetu  \\\n",
       "322         35238  Rennes  48.10427073898263, -1.6691603554365282    2.0   \n",
       "583         35238  Rennes  48.11412271889446, -1.6376903820335271    6.0   \n",
       "820         35238  Rennes   48.1215800418907, -1.6329696980490491    4.0   \n",
       "878         35238  Rennes  48.11412271889446, -1.6376903820335271    NaN   \n",
       "1196        35238  Rennes  48.11728104154247, -1.6723406266225596    NaN   \n",
       "\n",
       "         degre_etudes  \\\n",
       "322           BAC + 2   \n",
       "583   BAC + 6 et plus   \n",
       "820           BAC + 4   \n",
       "878               NaN   \n",
       "1196              NaN   \n",
       "\n",
       "     nombre total d’étudiants inscrits hors doubles inscriptions université/CPGE  \\\n",
       "322                                                   9                            \n",
       "583                                                  61                            \n",
       "820                                                 411                            \n",
       "878                                                  48                            \n",
       "1196                                               1339                            \n",
       "\n",
       "     dont femmes dont hommes  \n",
       "322            8           1  \n",
       "583           35          26  \n",
       "820          126         285  \n",
       "878           27          21  \n",
       "1196         753         586  \n",
       "\n",
       "[5 rows x 27 columns]"
      ]
     },
     "execution_count": 13,
     "metadata": {},
     "output_type": "execute_result"
    }
   ],
   "source": [
    "df_rennes = df_enseignement_sup[df_enseignement_sup['Commune'] == 'Rennes']\n",
    "\n",
    "print(f\"Nombre de lignes à Rennes :\", df_rennes.shape[0])\n",
    "print(f\"Nombres de lignes avec gps à Rennes :\", (df_rennes['gps'].isnull() == False).sum())\n",
    "print(f\"Nombres de lignes sans gps à Rennes avant drop:\", df_rennes['gps'].isnull().sum())\n",
    "\n",
    "df_rennes = df_rennes.dropna(subset=['gps'])\n",
    "\n",
    "print(f\"Nombres de lignes sans gps à Rennes après drop:\", df_rennes['gps'].isnull().sum())\n",
    "df_rennes.head()"
   ]
  },
  {
   "cell_type": "code",
   "execution_count": 14,
   "id": "08982662",
   "metadata": {},
   "outputs": [
    {
     "name": "stdout",
     "output_type": "stream",
     "text": [
      "Nombre de lignes à Rennes : 1461\n",
      "Nombres de lignes avec lat et lon à Rennes : 1461\n",
      "Nombres de lignes sans lat et lon à Rennes avant drop: 0\n",
      "Nombres de lignes sans lat et lon à Rennes après drop: 0\n"
     ]
    }
   ],
   "source": [
    "# Nettoyage des coordonnées\n",
    "df_rennes[['lat', 'lon']] = df_rennes['gps'].str.split(',', expand=True)\n",
    "df_rennes['lat'] = df_rennes['lat'].astype(float)\n",
    "df_rennes['lon'] = df_rennes['lon'].astype(float)\n",
    "\n",
    "print(f\"Nombre de lignes à Rennes :\", df_rennes[['lat', 'lon']].shape[0])\n",
    "print(f\"Nombres de lignes avec lat et lon à Rennes :\", ((df_rennes['lat'].isnull() == False) & (df_rennes['lon'].isnull() == False)).sum())\n",
    "print(f\"Nombres de lignes sans lat et lon à Rennes avant drop:\", ((df_rennes['lat'].isnull()) & (df_rennes['lon'].isnull())).sum())\n",
    "\n",
    "# On enlève les lignes sans coordonnées\n",
    "df_rennes = df_rennes.dropna(subset=['lat', 'lon'])\n",
    "\n",
    "print(f\"Nombres de lignes sans lat et lon à Rennes après drop:\", ((df_rennes['lat'].isnull()) & (df_rennes['lon'].isnull())).sum())"
   ]
  },
  {
   "cell_type": "code",
   "execution_count": 15,
   "id": "a7355f73",
   "metadata": {},
   "outputs": [],
   "source": [
    "# Transformation en GeoDataFrame \n",
    "df_rennes = gpd.GeoDataFrame(\n",
    "    df_rennes,\n",
    "    geometry=gpd.points_from_xy(df_rennes.lon, df_rennes.lat),\n",
    "    crs=\"EPSG:4326\"  # WGS84\n",
    ")"
   ]
  },
  {
   "cell_type": "code",
   "execution_count": 16,
   "id": "1d79deb6",
   "metadata": {},
   "outputs": [
    {
     "name": "stdout",
     "output_type": "stream",
     "text": [
      "Nombre de lignes à Bordeaux : 1611\n",
      "Nombres de lignes avec gps à Bordeaux : 1455\n",
      "Nombres de lignes sans gps à Bordeaux avant drop: 156\n",
      "Nombres de lignes sans gps à Bordeaux après drop: 0\n"
     ]
    },
    {
     "data": {
      "text/html": [
       "<div>\n",
       "<style scoped>\n",
       "    .dataframe tbody tr th:only-of-type {\n",
       "        vertical-align: middle;\n",
       "    }\n",
       "\n",
       "    .dataframe tbody tr th {\n",
       "        vertical-align: top;\n",
       "    }\n",
       "\n",
       "    .dataframe thead th {\n",
       "        text-align: right;\n",
       "    }\n",
       "</style>\n",
       "<table border=\"1\" class=\"dataframe\">\n",
       "  <thead>\n",
       "    <tr style=\"text-align: right;\">\n",
       "      <th></th>\n",
       "      <th>Rentrée universitaire</th>\n",
       "      <th>catégorie d'établissement</th>\n",
       "      <th>secteur d'établissement</th>\n",
       "      <th>code UAI de l'établissement</th>\n",
       "      <th>sigle de l'établissement</th>\n",
       "      <th>libellé de l'établissement</th>\n",
       "      <th>libellé complémentaire de l'établissement</th>\n",
       "      <th>Code UAI de la composante</th>\n",
       "      <th>sigle de la composante</th>\n",
       "      <th>libellé de la composante</th>\n",
       "      <th>...</th>\n",
       "      <th>id unité urbaine</th>\n",
       "      <th>unité urbaine</th>\n",
       "      <th>code commune</th>\n",
       "      <th>Commune</th>\n",
       "      <th>gps</th>\n",
       "      <th>degetu</th>\n",
       "      <th>degre_etudes</th>\n",
       "      <th>nombre total d’étudiants inscrits hors doubles inscriptions université/CPGE</th>\n",
       "      <th>dont femmes</th>\n",
       "      <th>dont hommes</th>\n",
       "    </tr>\n",
       "  </thead>\n",
       "  <tbody>\n",
       "    <tr>\n",
       "      <th>25</th>\n",
       "      <td>2023</td>\n",
       "      <td>Écoles d'ingénieurs</td>\n",
       "      <td>Privé</td>\n",
       "      <td>0922455U</td>\n",
       "      <td>CESI EI NANTER</td>\n",
       "      <td>CESI ECOLE INGENIEURS NANTERRE</td>\n",
       "      <td>CESI PARIS</td>\n",
       "      <td>0332984P</td>\n",
       "      <td>CESI EI BDEAUX</td>\n",
       "      <td>CESI ECOLE INGENIEURS BORDEAUX</td>\n",
       "      <td>...</td>\n",
       "      <td>UU33701</td>\n",
       "      <td>Bordeaux</td>\n",
       "      <td>33063</td>\n",
       "      <td>Bordeaux</td>\n",
       "      <td>44.864981775219746, -0.5775733061462319</td>\n",
       "      <td>2.0</td>\n",
       "      <td>BAC + 2</td>\n",
       "      <td>15</td>\n",
       "      <td>5</td>\n",
       "      <td>10</td>\n",
       "    </tr>\n",
       "    <tr>\n",
       "      <th>110</th>\n",
       "      <td>2023</td>\n",
       "      <td>Lycées</td>\n",
       "      <td>Public</td>\n",
       "      <td>0330023W</td>\n",
       "      <td>LGT</td>\n",
       "      <td>LYCEE GENERAL ET TECHNOLOGIQUE</td>\n",
       "      <td>CAMILLE JULLIAN</td>\n",
       "      <td>0330023W</td>\n",
       "      <td>LGT</td>\n",
       "      <td>LYCEE GENERAL ET TECHNOLOGIQUE</td>\n",
       "      <td>...</td>\n",
       "      <td>UU33701</td>\n",
       "      <td>Bordeaux</td>\n",
       "      <td>33063</td>\n",
       "      <td>Bordeaux</td>\n",
       "      <td>44.844623375958385, -0.5902035283353784</td>\n",
       "      <td>1.0</td>\n",
       "      <td>BAC + 1</td>\n",
       "      <td>204</td>\n",
       "      <td>112</td>\n",
       "      <td>92</td>\n",
       "    </tr>\n",
       "    <tr>\n",
       "      <th>367</th>\n",
       "      <td>2022</td>\n",
       "      <td>Lycées</td>\n",
       "      <td>Public</td>\n",
       "      <td>0332468D</td>\n",
       "      <td>LT LYC METIER</td>\n",
       "      <td>LT LYCEE DES METIERS</td>\n",
       "      <td>BIOLOGIE ET CHIMIE ST LOUIS</td>\n",
       "      <td>0332468D</td>\n",
       "      <td>LT LYC METIER</td>\n",
       "      <td>LT LYCEE DES METIERS</td>\n",
       "      <td>...</td>\n",
       "      <td>UU33701</td>\n",
       "      <td>Bordeaux</td>\n",
       "      <td>33063</td>\n",
       "      <td>Bordeaux</td>\n",
       "      <td>44.866484243847566, -0.5674100961785374</td>\n",
       "      <td>1.0</td>\n",
       "      <td>BAC + 1</td>\n",
       "      <td>137</td>\n",
       "      <td>99</td>\n",
       "      <td>38</td>\n",
       "    </tr>\n",
       "    <tr>\n",
       "      <th>565</th>\n",
       "      <td>2023</td>\n",
       "      <td>Écoles de commerce, gestion et vente</td>\n",
       "      <td>Privé</td>\n",
       "      <td>0332524P</td>\n",
       "      <td>INSEEC BORDX</td>\n",
       "      <td>INST HTES ETUDES ECO COM BORDX</td>\n",
       "      <td>GROUPE OMNES EDUCATION</td>\n",
       "      <td>0332524P</td>\n",
       "      <td>INSEEC BORDX</td>\n",
       "      <td>INST HTES ETUDES ECO COM BORDX</td>\n",
       "      <td>...</td>\n",
       "      <td>UU33701</td>\n",
       "      <td>Bordeaux</td>\n",
       "      <td>33063</td>\n",
       "      <td>Bordeaux</td>\n",
       "      <td>44.859124286097206, -0.5557964100719849</td>\n",
       "      <td>3.0</td>\n",
       "      <td>BAC + 3</td>\n",
       "      <td>29</td>\n",
       "      <td>14</td>\n",
       "      <td>15</td>\n",
       "    </tr>\n",
       "    <tr>\n",
       "      <th>567</th>\n",
       "      <td>2023</td>\n",
       "      <td>Écoles de commerce, gestion et vente</td>\n",
       "      <td>Privé</td>\n",
       "      <td>0332818J</td>\n",
       "      <td>ECE BORDEAUX</td>\n",
       "      <td>ECOLE COMMERCE EUROP BORDEAUX</td>\n",
       "      <td>GROUPE OMNES EDUCATION</td>\n",
       "      <td>0332818J</td>\n",
       "      <td>ECE BORDEAUX</td>\n",
       "      <td>ECOLE COMMERCE EUROP BORDEAUX</td>\n",
       "      <td>...</td>\n",
       "      <td>UU33701</td>\n",
       "      <td>Bordeaux</td>\n",
       "      <td>33063</td>\n",
       "      <td>Bordeaux</td>\n",
       "      <td>44.85182005849977, -0.5705147414347582</td>\n",
       "      <td>2.0</td>\n",
       "      <td>BAC + 2</td>\n",
       "      <td>346</td>\n",
       "      <td>157</td>\n",
       "      <td>189</td>\n",
       "    </tr>\n",
       "  </tbody>\n",
       "</table>\n",
       "<p>5 rows × 27 columns</p>\n",
       "</div>"
      ],
      "text/plain": [
       "     Rentrée universitaire             catégorie d'établissement  \\\n",
       "25                    2023                   Écoles d'ingénieurs   \n",
       "110                   2023                                Lycées   \n",
       "367                   2022                                Lycées   \n",
       "565                   2023  Écoles de commerce, gestion et vente   \n",
       "567                   2023  Écoles de commerce, gestion et vente   \n",
       "\n",
       "    secteur d'établissement code UAI de l'établissement  \\\n",
       "25                    Privé                    0922455U   \n",
       "110                  Public                    0330023W   \n",
       "367                  Public                    0332468D   \n",
       "565                   Privé                    0332524P   \n",
       "567                   Privé                    0332818J   \n",
       "\n",
       "    sigle de l'établissement      libellé de l'établissement  \\\n",
       "25            CESI EI NANTER  CESI ECOLE INGENIEURS NANTERRE   \n",
       "110                      LGT  LYCEE GENERAL ET TECHNOLOGIQUE   \n",
       "367            LT LYC METIER            LT LYCEE DES METIERS   \n",
       "565             INSEEC BORDX  INST HTES ETUDES ECO COM BORDX   \n",
       "567             ECE BORDEAUX   ECOLE COMMERCE EUROP BORDEAUX   \n",
       "\n",
       "    libellé complémentaire de l'établissement Code UAI de la composante  \\\n",
       "25                                 CESI PARIS                  0332984P   \n",
       "110                           CAMILLE JULLIAN                  0330023W   \n",
       "367               BIOLOGIE ET CHIMIE ST LOUIS                  0332468D   \n",
       "565                    GROUPE OMNES EDUCATION                  0332524P   \n",
       "567                    GROUPE OMNES EDUCATION                  0332818J   \n",
       "\n",
       "    sigle de la composante        libellé de la composante  ...  \\\n",
       "25          CESI EI BDEAUX  CESI ECOLE INGENIEURS BORDEAUX  ...   \n",
       "110                    LGT  LYCEE GENERAL ET TECHNOLOGIQUE  ...   \n",
       "367          LT LYC METIER            LT LYCEE DES METIERS  ...   \n",
       "565           INSEEC BORDX  INST HTES ETUDES ECO COM BORDX  ...   \n",
       "567           ECE BORDEAUX   ECOLE COMMERCE EUROP BORDEAUX  ...   \n",
       "\n",
       "    id unité urbaine unité urbaine code commune   Commune  \\\n",
       "25           UU33701      Bordeaux        33063  Bordeaux   \n",
       "110          UU33701      Bordeaux        33063  Bordeaux   \n",
       "367          UU33701      Bordeaux        33063  Bordeaux   \n",
       "565          UU33701      Bordeaux        33063  Bordeaux   \n",
       "567          UU33701      Bordeaux        33063  Bordeaux   \n",
       "\n",
       "                                         gps degetu degre_etudes  \\\n",
       "25   44.864981775219746, -0.5775733061462319    2.0      BAC + 2   \n",
       "110  44.844623375958385, -0.5902035283353784    1.0      BAC + 1   \n",
       "367  44.866484243847566, -0.5674100961785374    1.0      BAC + 1   \n",
       "565  44.859124286097206, -0.5557964100719849    3.0      BAC + 3   \n",
       "567   44.85182005849977, -0.5705147414347582    2.0      BAC + 2   \n",
       "\n",
       "    nombre total d’étudiants inscrits hors doubles inscriptions université/CPGE  \\\n",
       "25                                                  15                            \n",
       "110                                                204                            \n",
       "367                                                137                            \n",
       "565                                                 29                            \n",
       "567                                                346                            \n",
       "\n",
       "    dont femmes dont hommes  \n",
       "25            5          10  \n",
       "110         112          92  \n",
       "367          99          38  \n",
       "565          14          15  \n",
       "567         157         189  \n",
       "\n",
       "[5 rows x 27 columns]"
      ]
     },
     "execution_count": 16,
     "metadata": {},
     "output_type": "execute_result"
    }
   ],
   "source": [
    "df_bordeaux = df_enseignement_sup[df_enseignement_sup['Commune'] == 'Bordeaux']\n",
    "\n",
    "print(f\"Nombre de lignes à Bordeaux :\", df_bordeaux.shape[0])\n",
    "print(f\"Nombres de lignes avec gps à Bordeaux :\", (df_bordeaux['gps'].isnull() == False).sum())\n",
    "print(f\"Nombres de lignes sans gps à Bordeaux avant drop:\", df_bordeaux['gps'].isnull().sum())\n",
    "\n",
    "df_bordeaux = df_bordeaux.dropna(subset=['gps'])\n",
    "\n",
    "print(f\"Nombres de lignes sans gps à Bordeaux après drop:\", df_bordeaux['gps'].isnull().sum())\n",
    "df_bordeaux.head()"
   ]
  },
  {
   "cell_type": "code",
   "execution_count": 17,
   "id": "c4248b7d",
   "metadata": {},
   "outputs": [
    {
     "name": "stdout",
     "output_type": "stream",
     "text": [
      "Nombre de lignes à Bordeaux : 1455\n",
      "Nombres de lignes avec lat et lon à Bordeaux : 1455\n",
      "Nombres de lignes sans lat et lon à Bordeaux avant drop: 0\n",
      "Nombres de lignes sans lat et lon à Bordeaux après drop: 0\n"
     ]
    }
   ],
   "source": [
    "# Nettoyage des coordonnées\n",
    "df_bordeaux[['lat', 'lon']] = df_bordeaux['gps'].str.split(',', expand=True)\n",
    "df_bordeaux['lat'] = df_bordeaux['lat'].astype(float)\n",
    "df_bordeaux['lon'] = df_bordeaux['lon'].astype(float)\n",
    "\n",
    "print(f\"Nombre de lignes à Bordeaux :\", df_bordeaux[['lat', 'lon']].shape[0])\n",
    "print(f\"Nombres de lignes avec lat et lon à Bordeaux :\", ((df_bordeaux['lat'].isnull() == False) & (df_bordeaux['lon'].isnull() == False)).sum())\n",
    "print(f\"Nombres de lignes sans lat et lon à Bordeaux avant drop:\", ((df_bordeaux['lat'].isnull()) & (df_bordeaux['lon'].isnull())).sum())\n",
    "\n",
    "# On enlève les lignes sans coordonnées\n",
    "df_bordeaux = df_bordeaux.dropna(subset=['lat', 'lon'])\n",
    "\n",
    "print(f\"Nombres de lignes sans lat et lon à Bordeaux après drop:\", ((df_bordeaux['lat'].isnull()) & (df_bordeaux['lon'].isnull())).sum())"
   ]
  },
  {
   "cell_type": "code",
   "execution_count": 18,
   "id": "cc70b2c7",
   "metadata": {},
   "outputs": [],
   "source": [
    "# Transformation en GeoDataFrame \n",
    "df_bordeaux = gpd.GeoDataFrame(\n",
    "    df_bordeaux,\n",
    "    geometry=gpd.points_from_xy(df_bordeaux.lon, df_bordeaux.lat),\n",
    "    crs=\"EPSG:4326\"  # WGS84\n",
    ")"
   ]
  },
  {
   "cell_type": "code",
   "execution_count": 10,
   "id": "64eb9c61",
   "metadata": {},
   "outputs": [
    {
     "name": "stdout",
     "output_type": "stream",
     "text": [
      "Couches disponibles: ['contours_iris_pe']\n"
     ]
    },
    {
     "data": {
      "text/html": [
       "<div>\n",
       "<style scoped>\n",
       "    .dataframe tbody tr th:only-of-type {\n",
       "        vertical-align: middle;\n",
       "    }\n",
       "\n",
       "    .dataframe tbody tr th {\n",
       "        vertical-align: top;\n",
       "    }\n",
       "\n",
       "    .dataframe thead th {\n",
       "        text-align: right;\n",
       "    }\n",
       "</style>\n",
       "<table border=\"1\" class=\"dataframe\">\n",
       "  <thead>\n",
       "    <tr style=\"text-align: right;\">\n",
       "      <th></th>\n",
       "      <th>cleabs</th>\n",
       "      <th>code_insee</th>\n",
       "      <th>nom_commune</th>\n",
       "      <th>iris</th>\n",
       "      <th>code_iris</th>\n",
       "      <th>nom_iris</th>\n",
       "      <th>type_iris</th>\n",
       "      <th>geometry</th>\n",
       "    </tr>\n",
       "  </thead>\n",
       "  <tbody>\n",
       "    <tr>\n",
       "      <th>0</th>\n",
       "      <td>IRIS____0000000670430101</td>\n",
       "      <td>67043</td>\n",
       "      <td>Bischheim</td>\n",
       "      <td>0101</td>\n",
       "      <td>670430101</td>\n",
       "      <td>Bischheim</td>\n",
       "      <td>A</td>\n",
       "      <td>MULTIPOLYGON (((1052052.5 6848302.2, 1052346.7...</td>\n",
       "    </tr>\n",
       "    <tr>\n",
       "      <th>1</th>\n",
       "      <td>IRIS____0000000132020101</td>\n",
       "      <td>13202</td>\n",
       "      <td>Marseille 2e Arrondissement</td>\n",
       "      <td>0101</td>\n",
       "      <td>132020101</td>\n",
       "      <td>Marseille 2e Arrondissement</td>\n",
       "      <td>A</td>\n",
       "      <td>MULTIPOLYGON (((892392.4 6249040.5, 892189 624...</td>\n",
       "    </tr>\n",
       "    <tr>\n",
       "      <th>2</th>\n",
       "      <td>IRIS____0000000561850101</td>\n",
       "      <td>56185</td>\n",
       "      <td>Quéven</td>\n",
       "      <td>0101</td>\n",
       "      <td>561850101</td>\n",
       "      <td>Quéven</td>\n",
       "      <td>A</td>\n",
       "      <td>MULTIPOLYGON (((217035.9 6759952.7, 216941.9 6...</td>\n",
       "    </tr>\n",
       "    <tr>\n",
       "      <th>3</th>\n",
       "      <td>IRIS____0000000930630101</td>\n",
       "      <td>93063</td>\n",
       "      <td>Romainville</td>\n",
       "      <td>0101</td>\n",
       "      <td>930630101</td>\n",
       "      <td>Romainville</td>\n",
       "      <td>A</td>\n",
       "      <td>MULTIPOLYGON (((659020 6865990.2, 658978.6 686...</td>\n",
       "    </tr>\n",
       "    <tr>\n",
       "      <th>4</th>\n",
       "      <td>IRIS____0000000940480101</td>\n",
       "      <td>94048</td>\n",
       "      <td>Marolles-en-Brie</td>\n",
       "      <td>0101</td>\n",
       "      <td>940480101</td>\n",
       "      <td>Marolles-en-Brie</td>\n",
       "      <td>A</td>\n",
       "      <td>MULTIPOLYGON (((667454 6850589.8, 667714.1 685...</td>\n",
       "    </tr>\n",
       "  </tbody>\n",
       "</table>\n",
       "</div>"
      ],
      "text/plain": [
       "                     cleabs code_insee                  nom_commune  iris  \\\n",
       "0  IRIS____0000000670430101      67043                    Bischheim  0101   \n",
       "1  IRIS____0000000132020101      13202  Marseille 2e Arrondissement  0101   \n",
       "2  IRIS____0000000561850101      56185                       Quéven  0101   \n",
       "3  IRIS____0000000930630101      93063                  Romainville  0101   \n",
       "4  IRIS____0000000940480101      94048             Marolles-en-Brie  0101   \n",
       "\n",
       "   code_iris                     nom_iris type_iris  \\\n",
       "0  670430101                    Bischheim         A   \n",
       "1  132020101  Marseille 2e Arrondissement         A   \n",
       "2  561850101                       Quéven         A   \n",
       "3  930630101                  Romainville         A   \n",
       "4  940480101             Marolles-en-Brie         A   \n",
       "\n",
       "                                            geometry  \n",
       "0  MULTIPOLYGON (((1052052.5 6848302.2, 1052346.7...  \n",
       "1  MULTIPOLYGON (((892392.4 6249040.5, 892189 624...  \n",
       "2  MULTIPOLYGON (((217035.9 6759952.7, 216941.9 6...  \n",
       "3  MULTIPOLYGON (((659020 6865990.2, 658978.6 686...  \n",
       "4  MULTIPOLYGON (((667454 6850589.8, 667714.1 685...  "
      ]
     },
     "execution_count": 10,
     "metadata": {},
     "output_type": "execute_result"
    }
   ],
   "source": [
    "url_iris = \"https://huggingface.co/datasets/analysedonneesfoncieresdata/analyse_fonciere_data/resolve/main/contours-iris-pe.gpkg\"\n",
    "local_path = \"contours-iris-pe.gpkg\"\n",
    "\n",
    "# Télécharger une seule fois\n",
    "if not os.path.exists(local_path):\n",
    "    print(\"Téléchargement du fichier...\")\n",
    "    r = requests.get(url_iris)\n",
    "    with open(local_path, \"wb\") as f:\n",
    "        f.write(r.content)\n",
    "\n",
    "# Lister les couches avec fiona\n",
    "from fiona import listlayers\n",
    "layers = listlayers(local_path)\n",
    "print(\"Couches disponibles:\", layers)\n",
    "\n",
    "# Charger la couche principale\n",
    "iris = gpd.read_file(local_path, layer=layers[0])\n",
    "iris.head()\n"
   ]
  },
  {
   "cell_type": "code",
   "execution_count": 2,
   "id": "87e92172",
   "metadata": {},
   "outputs": [
    {
     "ename": "ImportError",
     "evalue": "Missing optional dependency 'openpyxl'.  Use pip or conda to install openpyxl.",
     "output_type": "error",
     "traceback": [
      "\u001b[31m---------------------------------------------------------------------------\u001b[39m",
      "\u001b[31mModuleNotFoundError\u001b[39m                       Traceback (most recent call last)",
      "\u001b[36mFile \u001b[39m\u001b[32m~\\AppData\\Roaming\\Python\\Python313\\site-packages\\pandas\\compat\\_optional.py:135\u001b[39m, in \u001b[36mimport_optional_dependency\u001b[39m\u001b[34m(name, extra, errors, min_version)\u001b[39m\n\u001b[32m    134\u001b[39m \u001b[38;5;28;01mtry\u001b[39;00m:\n\u001b[32m--> \u001b[39m\u001b[32m135\u001b[39m     module = \u001b[43mimportlib\u001b[49m\u001b[43m.\u001b[49m\u001b[43mimport_module\u001b[49m\u001b[43m(\u001b[49m\u001b[43mname\u001b[49m\u001b[43m)\u001b[49m\n\u001b[32m    136\u001b[39m \u001b[38;5;28;01mexcept\u001b[39;00m \u001b[38;5;167;01mImportError\u001b[39;00m:\n",
      "\u001b[36mFile \u001b[39m\u001b[32mc:\\Program Files\\Python313\\Lib\\importlib\\__init__.py:88\u001b[39m, in \u001b[36mimport_module\u001b[39m\u001b[34m(name, package)\u001b[39m\n\u001b[32m     87\u001b[39m         level += \u001b[32m1\u001b[39m\n\u001b[32m---> \u001b[39m\u001b[32m88\u001b[39m \u001b[38;5;28;01mreturn\u001b[39;00m \u001b[43m_bootstrap\u001b[49m\u001b[43m.\u001b[49m\u001b[43m_gcd_import\u001b[49m\u001b[43m(\u001b[49m\u001b[43mname\u001b[49m\u001b[43m[\u001b[49m\u001b[43mlevel\u001b[49m\u001b[43m:\u001b[49m\u001b[43m]\u001b[49m\u001b[43m,\u001b[49m\u001b[43m \u001b[49m\u001b[43mpackage\u001b[49m\u001b[43m,\u001b[49m\u001b[43m \u001b[49m\u001b[43mlevel\u001b[49m\u001b[43m)\u001b[49m\n",
      "\u001b[36mFile \u001b[39m\u001b[32m<frozen importlib._bootstrap>:1387\u001b[39m, in \u001b[36m_gcd_import\u001b[39m\u001b[34m(name, package, level)\u001b[39m\n",
      "\u001b[36mFile \u001b[39m\u001b[32m<frozen importlib._bootstrap>:1360\u001b[39m, in \u001b[36m_find_and_load\u001b[39m\u001b[34m(name, import_)\u001b[39m\n",
      "\u001b[36mFile \u001b[39m\u001b[32m<frozen importlib._bootstrap>:1324\u001b[39m, in \u001b[36m_find_and_load_unlocked\u001b[39m\u001b[34m(name, import_)\u001b[39m\n",
      "\u001b[31mModuleNotFoundError\u001b[39m: No module named 'openpyxl'",
      "\nDuring handling of the above exception, another exception occurred:\n",
      "\u001b[31mImportError\u001b[39m                               Traceback (most recent call last)",
      "\u001b[36mCell\u001b[39m\u001b[36m \u001b[39m\u001b[32mIn[2]\u001b[39m\u001b[32m, line 3\u001b[39m\n\u001b[32m      1\u001b[39m url_ref_iris = \u001b[33m\"\u001b[39m\u001b[33mhttps://huggingface.co/datasets/analysedonneesfoncieresdata/analyse_fonciere_data/resolve/main/reference_IRIS_geo2025.xlsx\u001b[39m\u001b[33m\"\u001b[39m\n\u001b[32m----> \u001b[39m\u001b[32m3\u001b[39m iris_noms = \u001b[43mpd\u001b[49m\u001b[43m.\u001b[49m\u001b[43mread_excel\u001b[49m\u001b[43m(\u001b[49m\u001b[43murl_ref_iris\u001b[49m\u001b[43m)\u001b[49m\n\u001b[32m      5\u001b[39m iris_noms = iris_noms.rename(columns={\u001b[33m'\u001b[39m\u001b[33mCODE_IRIS\u001b[39m\u001b[33m'\u001b[39m: \u001b[33m'\u001b[39m\u001b[33mcode_iris\u001b[39m\u001b[33m'\u001b[39m})\n\u001b[32m      7\u001b[39m \u001b[38;5;66;03m# fusion avec ton GeoDataFrame (qui contient les codes IRIS)\u001b[39;00m\n",
      "\u001b[36mFile \u001b[39m\u001b[32m~\\AppData\\Roaming\\Python\\Python313\\site-packages\\pandas\\io\\excel\\_base.py:495\u001b[39m, in \u001b[36mread_excel\u001b[39m\u001b[34m(io, sheet_name, header, names, index_col, usecols, dtype, engine, converters, true_values, false_values, skiprows, nrows, na_values, keep_default_na, na_filter, verbose, parse_dates, date_parser, date_format, thousands, decimal, comment, skipfooter, storage_options, dtype_backend, engine_kwargs)\u001b[39m\n\u001b[32m    493\u001b[39m \u001b[38;5;28;01mif\u001b[39;00m \u001b[38;5;129;01mnot\u001b[39;00m \u001b[38;5;28misinstance\u001b[39m(io, ExcelFile):\n\u001b[32m    494\u001b[39m     should_close = \u001b[38;5;28;01mTrue\u001b[39;00m\n\u001b[32m--> \u001b[39m\u001b[32m495\u001b[39m     io = \u001b[43mExcelFile\u001b[49m\u001b[43m(\u001b[49m\n\u001b[32m    496\u001b[39m \u001b[43m        \u001b[49m\u001b[43mio\u001b[49m\u001b[43m,\u001b[49m\n\u001b[32m    497\u001b[39m \u001b[43m        \u001b[49m\u001b[43mstorage_options\u001b[49m\u001b[43m=\u001b[49m\u001b[43mstorage_options\u001b[49m\u001b[43m,\u001b[49m\n\u001b[32m    498\u001b[39m \u001b[43m        \u001b[49m\u001b[43mengine\u001b[49m\u001b[43m=\u001b[49m\u001b[43mengine\u001b[49m\u001b[43m,\u001b[49m\n\u001b[32m    499\u001b[39m \u001b[43m        \u001b[49m\u001b[43mengine_kwargs\u001b[49m\u001b[43m=\u001b[49m\u001b[43mengine_kwargs\u001b[49m\u001b[43m,\u001b[49m\n\u001b[32m    500\u001b[39m \u001b[43m    \u001b[49m\u001b[43m)\u001b[49m\n\u001b[32m    501\u001b[39m \u001b[38;5;28;01melif\u001b[39;00m engine \u001b[38;5;129;01mand\u001b[39;00m engine != io.engine:\n\u001b[32m    502\u001b[39m     \u001b[38;5;28;01mraise\u001b[39;00m \u001b[38;5;167;01mValueError\u001b[39;00m(\n\u001b[32m    503\u001b[39m         \u001b[33m\"\u001b[39m\u001b[33mEngine should not be specified when passing \u001b[39m\u001b[33m\"\u001b[39m\n\u001b[32m    504\u001b[39m         \u001b[33m\"\u001b[39m\u001b[33man ExcelFile - ExcelFile already has the engine set\u001b[39m\u001b[33m\"\u001b[39m\n\u001b[32m    505\u001b[39m     )\n",
      "\u001b[36mFile \u001b[39m\u001b[32m~\\AppData\\Roaming\\Python\\Python313\\site-packages\\pandas\\io\\excel\\_base.py:1567\u001b[39m, in \u001b[36mExcelFile.__init__\u001b[39m\u001b[34m(self, path_or_buffer, engine, storage_options, engine_kwargs)\u001b[39m\n\u001b[32m   1564\u001b[39m \u001b[38;5;28mself\u001b[39m.engine = engine\n\u001b[32m   1565\u001b[39m \u001b[38;5;28mself\u001b[39m.storage_options = storage_options\n\u001b[32m-> \u001b[39m\u001b[32m1567\u001b[39m \u001b[38;5;28mself\u001b[39m._reader = \u001b[38;5;28;43mself\u001b[39;49m\u001b[43m.\u001b[49m\u001b[43m_engines\u001b[49m\u001b[43m[\u001b[49m\u001b[43mengine\u001b[49m\u001b[43m]\u001b[49m\u001b[43m(\u001b[49m\n\u001b[32m   1568\u001b[39m \u001b[43m    \u001b[49m\u001b[38;5;28;43mself\u001b[39;49m\u001b[43m.\u001b[49m\u001b[43m_io\u001b[49m\u001b[43m,\u001b[49m\n\u001b[32m   1569\u001b[39m \u001b[43m    \u001b[49m\u001b[43mstorage_options\u001b[49m\u001b[43m=\u001b[49m\u001b[43mstorage_options\u001b[49m\u001b[43m,\u001b[49m\n\u001b[32m   1570\u001b[39m \u001b[43m    \u001b[49m\u001b[43mengine_kwargs\u001b[49m\u001b[43m=\u001b[49m\u001b[43mengine_kwargs\u001b[49m\u001b[43m,\u001b[49m\n\u001b[32m   1571\u001b[39m \u001b[43m\u001b[49m\u001b[43m)\u001b[49m\n",
      "\u001b[36mFile \u001b[39m\u001b[32m~\\AppData\\Roaming\\Python\\Python313\\site-packages\\pandas\\io\\excel\\_openpyxl.py:552\u001b[39m, in \u001b[36mOpenpyxlReader.__init__\u001b[39m\u001b[34m(self, filepath_or_buffer, storage_options, engine_kwargs)\u001b[39m\n\u001b[32m    534\u001b[39m \u001b[38;5;129m@doc\u001b[39m(storage_options=_shared_docs[\u001b[33m\"\u001b[39m\u001b[33mstorage_options\u001b[39m\u001b[33m\"\u001b[39m])\n\u001b[32m    535\u001b[39m \u001b[38;5;28;01mdef\u001b[39;00m\u001b[38;5;250m \u001b[39m\u001b[34m__init__\u001b[39m(\n\u001b[32m    536\u001b[39m     \u001b[38;5;28mself\u001b[39m,\n\u001b[32m   (...)\u001b[39m\u001b[32m    539\u001b[39m     engine_kwargs: \u001b[38;5;28mdict\u001b[39m | \u001b[38;5;28;01mNone\u001b[39;00m = \u001b[38;5;28;01mNone\u001b[39;00m,\n\u001b[32m    540\u001b[39m ) -> \u001b[38;5;28;01mNone\u001b[39;00m:\n\u001b[32m    541\u001b[39m \u001b[38;5;250m    \u001b[39m\u001b[33;03m\"\"\"\u001b[39;00m\n\u001b[32m    542\u001b[39m \u001b[33;03m    Reader using openpyxl engine.\u001b[39;00m\n\u001b[32m    543\u001b[39m \n\u001b[32m   (...)\u001b[39m\u001b[32m    550\u001b[39m \u001b[33;03m        Arbitrary keyword arguments passed to excel engine.\u001b[39;00m\n\u001b[32m    551\u001b[39m \u001b[33;03m    \"\"\"\u001b[39;00m\n\u001b[32m--> \u001b[39m\u001b[32m552\u001b[39m     \u001b[43mimport_optional_dependency\u001b[49m\u001b[43m(\u001b[49m\u001b[33;43m\"\u001b[39;49m\u001b[33;43mopenpyxl\u001b[39;49m\u001b[33;43m\"\u001b[39;49m\u001b[43m)\u001b[49m\n\u001b[32m    553\u001b[39m     \u001b[38;5;28msuper\u001b[39m().\u001b[34m__init__\u001b[39m(\n\u001b[32m    554\u001b[39m         filepath_or_buffer,\n\u001b[32m    555\u001b[39m         storage_options=storage_options,\n\u001b[32m    556\u001b[39m         engine_kwargs=engine_kwargs,\n\u001b[32m    557\u001b[39m     )\n",
      "\u001b[36mFile \u001b[39m\u001b[32m~\\AppData\\Roaming\\Python\\Python313\\site-packages\\pandas\\compat\\_optional.py:138\u001b[39m, in \u001b[36mimport_optional_dependency\u001b[39m\u001b[34m(name, extra, errors, min_version)\u001b[39m\n\u001b[32m    136\u001b[39m \u001b[38;5;28;01mexcept\u001b[39;00m \u001b[38;5;167;01mImportError\u001b[39;00m:\n\u001b[32m    137\u001b[39m     \u001b[38;5;28;01mif\u001b[39;00m errors == \u001b[33m\"\u001b[39m\u001b[33mraise\u001b[39m\u001b[33m\"\u001b[39m:\n\u001b[32m--> \u001b[39m\u001b[32m138\u001b[39m         \u001b[38;5;28;01mraise\u001b[39;00m \u001b[38;5;167;01mImportError\u001b[39;00m(msg)\n\u001b[32m    139\u001b[39m     \u001b[38;5;28;01mreturn\u001b[39;00m \u001b[38;5;28;01mNone\u001b[39;00m\n\u001b[32m    141\u001b[39m \u001b[38;5;66;03m# Handle submodules: if we have submodule, grab parent module from sys.modules\u001b[39;00m\n",
      "\u001b[31mImportError\u001b[39m: Missing optional dependency 'openpyxl'.  Use pip or conda to install openpyxl."
     ]
    }
   ],
   "source": [
    "url_ref_iris = \"https://huggingface.co/datasets/analysedonneesfoncieresdata/analyse_fonciere_data/resolve/main/reference_IRIS_geo2025.xlsx\"\n",
    "\n",
    "iris_noms = pd.read_excel(url_ref_iris)\n",
    "\n",
    "iris_noms = iris_noms.rename(columns={'CODE_IRIS': 'code_iris'})\n",
    "\n",
    "# fusion avec ton GeoDataFrame (qui contient les codes IRIS)\n",
    "iris = iris.merge(iris_noms[['code_iris', 'LIB_IRIS', 'LIBCOM']], on='code_iris', how='left')\n",
    "\n",
    "iris.head()\n"
   ]
  },
  {
   "cell_type": "code",
   "execution_count": 12,
   "id": "3ac92044",
   "metadata": {},
   "outputs": [
    {
     "name": "stdout",
     "output_type": "stream",
     "text": [
      "Rennes contient 146 IRIS\n"
     ]
    },
    {
     "data": {
      "text/html": [
       "<div>\n",
       "<style scoped>\n",
       "    .dataframe tbody tr th:only-of-type {\n",
       "        vertical-align: middle;\n",
       "    }\n",
       "\n",
       "    .dataframe tbody tr th {\n",
       "        vertical-align: top;\n",
       "    }\n",
       "\n",
       "    .dataframe thead th {\n",
       "        text-align: right;\n",
       "    }\n",
       "</style>\n",
       "<table border=\"1\" class=\"dataframe\">\n",
       "  <thead>\n",
       "    <tr style=\"text-align: right;\">\n",
       "      <th></th>\n",
       "      <th>cleabs</th>\n",
       "      <th>code_insee</th>\n",
       "      <th>nom_commune</th>\n",
       "      <th>iris</th>\n",
       "      <th>code_iris</th>\n",
       "      <th>nom_iris</th>\n",
       "      <th>type_iris</th>\n",
       "      <th>geometry</th>\n",
       "      <th>LIB_IRIS</th>\n",
       "      <th>LIBCOM</th>\n",
       "    </tr>\n",
       "  </thead>\n",
       "  <tbody>\n",
       "    <tr>\n",
       "      <th>489</th>\n",
       "      <td>IRIS____0000000352380308</td>\n",
       "      <td>35238</td>\n",
       "      <td>Rennes</td>\n",
       "      <td>0308</td>\n",
       "      <td>352380308</td>\n",
       "      <td>Rennes</td>\n",
       "      <td>A</td>\n",
       "      <td>MULTIPOLYGON (((349041.8 6789540.4, 349108.7 6...</td>\n",
       "      <td>Z.A. Ouest</td>\n",
       "      <td>Rennes</td>\n",
       "    </tr>\n",
       "    <tr>\n",
       "      <th>516</th>\n",
       "      <td>IRIS____0000000352380403</td>\n",
       "      <td>35238</td>\n",
       "      <td>Rennes</td>\n",
       "      <td>0403</td>\n",
       "      <td>352380403</td>\n",
       "      <td>Rennes</td>\n",
       "      <td>A</td>\n",
       "      <td>MULTIPOLYGON (((352060.5 6791899.6, 351994.9 6...</td>\n",
       "      <td>Z.A. Nord</td>\n",
       "      <td>Rennes</td>\n",
       "    </tr>\n",
       "    <tr>\n",
       "      <th>575</th>\n",
       "      <td>IRIS____0000000352380607</td>\n",
       "      <td>35238</td>\n",
       "      <td>Rennes</td>\n",
       "      <td>0607</td>\n",
       "      <td>352380607</td>\n",
       "      <td>Rennes</td>\n",
       "      <td>A</td>\n",
       "      <td>MULTIPOLYGON (((355296.3 6788725.3, 354873.5 6...</td>\n",
       "      <td>Plaine de Baud</td>\n",
       "      <td>Rennes</td>\n",
       "    </tr>\n",
       "    <tr>\n",
       "      <th>597</th>\n",
       "      <td>IRIS____0000000352380704</td>\n",
       "      <td>35238</td>\n",
       "      <td>Rennes</td>\n",
       "      <td>0704</td>\n",
       "      <td>352380704</td>\n",
       "      <td>Rennes</td>\n",
       "      <td>A</td>\n",
       "      <td>MULTIPOLYGON (((354457.9 6788601.8, 354873.5 6...</td>\n",
       "      <td>Z.A. Sud Est</td>\n",
       "      <td>Rennes</td>\n",
       "    </tr>\n",
       "    <tr>\n",
       "      <th>1032</th>\n",
       "      <td>IRIS____0000000352380307</td>\n",
       "      <td>35238</td>\n",
       "      <td>Rennes</td>\n",
       "      <td>0307</td>\n",
       "      <td>352380307</td>\n",
       "      <td>Rennes</td>\n",
       "      <td>D</td>\n",
       "      <td>MULTIPOLYGON (((348304.3 6789477.5, 348125.4 6...</td>\n",
       "      <td>Champeaux</td>\n",
       "      <td>Rennes</td>\n",
       "    </tr>\n",
       "  </tbody>\n",
       "</table>\n",
       "</div>"
      ],
      "text/plain": [
       "                        cleabs code_insee nom_commune  iris  code_iris  \\\n",
       "489   IRIS____0000000352380308      35238      Rennes  0308  352380308   \n",
       "516   IRIS____0000000352380403      35238      Rennes  0403  352380403   \n",
       "575   IRIS____0000000352380607      35238      Rennes  0607  352380607   \n",
       "597   IRIS____0000000352380704      35238      Rennes  0704  352380704   \n",
       "1032  IRIS____0000000352380307      35238      Rennes  0307  352380307   \n",
       "\n",
       "     nom_iris type_iris                                           geometry  \\\n",
       "489    Rennes         A  MULTIPOLYGON (((349041.8 6789540.4, 349108.7 6...   \n",
       "516    Rennes         A  MULTIPOLYGON (((352060.5 6791899.6, 351994.9 6...   \n",
       "575    Rennes         A  MULTIPOLYGON (((355296.3 6788725.3, 354873.5 6...   \n",
       "597    Rennes         A  MULTIPOLYGON (((354457.9 6788601.8, 354873.5 6...   \n",
       "1032   Rennes         D  MULTIPOLYGON (((348304.3 6789477.5, 348125.4 6...   \n",
       "\n",
       "            LIB_IRIS  LIBCOM  \n",
       "489       Z.A. Ouest  Rennes  \n",
       "516        Z.A. Nord  Rennes  \n",
       "575   Plaine de Baud  Rennes  \n",
       "597     Z.A. Sud Est  Rennes  \n",
       "1032       Champeaux  Rennes  "
      ]
     },
     "execution_count": 12,
     "metadata": {},
     "output_type": "execute_result"
    }
   ],
   "source": [
    "# Filtrer\n",
    "iris_rennes = iris[iris['nom_commune'].str.contains(\"Rennes\", case=False, na=False)].copy()\n",
    "\n",
    "print(f\"Rennes contient\", len(iris_rennes), \"IRIS\")\n",
    "\n",
    "iris_rennes.head()"
   ]
  },
  {
   "cell_type": "code",
   "execution_count": 15,
   "id": "da57996e",
   "metadata": {},
   "outputs": [
    {
     "ename": "NameError",
     "evalue": "name 'df_rennes' is not defined",
     "output_type": "error",
     "traceback": [
      "\u001b[31m---------------------------------------------------------------------------\u001b[39m",
      "\u001b[31mNameError\u001b[39m                                 Traceback (most recent call last)",
      "\u001b[36mCell\u001b[39m\u001b[36m \u001b[39m\u001b[32mIn[15]\u001b[39m\u001b[32m, line 3\u001b[39m\n\u001b[32m      1\u001b[39m \u001b[38;5;66;03m# On met tout dans la même CRS projetée (ex: EPSG:2154 ou utiliser EPSG:4326 par la suite)\u001b[39;00m\n\u001b[32m      2\u001b[39m iris_rennes = iris_rennes.to_crs(epsg=\u001b[32m4326\u001b[39m)\n\u001b[32m----> \u001b[39m\u001b[32m3\u001b[39m df_rennes = \u001b[43mdf_rennes\u001b[49m.to_crs(epsg=\u001b[32m4326\u001b[39m)\n",
      "\u001b[31mNameError\u001b[39m: name 'df_rennes' is not defined"
     ]
    }
   ],
   "source": [
    "# On met tout dans la même CRS projetée (ex: EPSG:2154 ou utiliser EPSG:4326 par la suite)\n",
    "iris_rennes = iris_rennes.to_crs(epsg=4326)\n",
    "df_rennes = df_rennes.to_crs(epsg=4326)\n"
   ]
  },
  {
   "cell_type": "code",
   "execution_count": 24,
   "id": "5bb4bcec",
   "metadata": {},
   "outputs": [
    {
     "data": {
      "text/html": [
       "<div>\n",
       "<style scoped>\n",
       "    .dataframe tbody tr th:only-of-type {\n",
       "        vertical-align: middle;\n",
       "    }\n",
       "\n",
       "    .dataframe tbody tr th {\n",
       "        vertical-align: top;\n",
       "    }\n",
       "\n",
       "    .dataframe thead th {\n",
       "        text-align: right;\n",
       "    }\n",
       "</style>\n",
       "<table border=\"1\" class=\"dataframe\">\n",
       "  <thead>\n",
       "    <tr style=\"text-align: right;\">\n",
       "      <th></th>\n",
       "      <th>Rentrée universitaire</th>\n",
       "      <th>catégorie d'établissement</th>\n",
       "      <th>secteur d'établissement</th>\n",
       "      <th>code UAI de l'établissement</th>\n",
       "      <th>sigle de l'établissement</th>\n",
       "      <th>libellé de l'établissement</th>\n",
       "      <th>libellé complémentaire de l'établissement</th>\n",
       "      <th>Code UAI de la composante</th>\n",
       "      <th>sigle de la composante</th>\n",
       "      <th>libellé de la composante</th>\n",
       "      <th>...</th>\n",
       "      <th>index_right</th>\n",
       "      <th>cleabs</th>\n",
       "      <th>code_insee</th>\n",
       "      <th>nom_commune</th>\n",
       "      <th>iris</th>\n",
       "      <th>code_iris</th>\n",
       "      <th>nom_iris</th>\n",
       "      <th>type_iris</th>\n",
       "      <th>LIB_IRIS</th>\n",
       "      <th>LIBCOM</th>\n",
       "    </tr>\n",
       "  </thead>\n",
       "  <tbody>\n",
       "    <tr>\n",
       "      <th>322</th>\n",
       "      <td>2022</td>\n",
       "      <td>Lycées</td>\n",
       "      <td>Privé</td>\n",
       "      <td>0352267Z</td>\n",
       "      <td>ECP PR</td>\n",
       "      <td>ECOLE PRIVEE COIF ESTHETIQUE</td>\n",
       "      <td>L'ACADEMY - SILVYA TERRADE REN</td>\n",
       "      <td>0352267Z</td>\n",
       "      <td>ECP PR</td>\n",
       "      <td>ECOLE PRIVEE COIF ESTHETIQUE</td>\n",
       "      <td>...</td>\n",
       "      <td>10225</td>\n",
       "      <td>IRIS____0000000352380207</td>\n",
       "      <td>35238</td>\n",
       "      <td>Rennes</td>\n",
       "      <td>0207</td>\n",
       "      <td>352380207</td>\n",
       "      <td>Rennes</td>\n",
       "      <td>H</td>\n",
       "      <td>Saint-Hélier</td>\n",
       "      <td>Rennes</td>\n",
       "    </tr>\n",
       "    <tr>\n",
       "      <th>583</th>\n",
       "      <td>2023</td>\n",
       "      <td>Universités</td>\n",
       "      <td>Public</td>\n",
       "      <td>0353074B</td>\n",
       "      <td>UR (EPE)</td>\n",
       "      <td>UNIVERSITE</td>\n",
       "      <td>DE RENNES (EPE)</td>\n",
       "      <td>0352076S</td>\n",
       "      <td>UFR SC VIE ENV</td>\n",
       "      <td>UFR SCIENCES VIE ENVIRONNEMENT</td>\n",
       "      <td>...</td>\n",
       "      <td>12606</td>\n",
       "      <td>IRIS____0000000352380605</td>\n",
       "      <td>35238</td>\n",
       "      <td>Rennes</td>\n",
       "      <td>0605</td>\n",
       "      <td>352380605</td>\n",
       "      <td>Rennes</td>\n",
       "      <td>H</td>\n",
       "      <td>Campus de Beaulieu</td>\n",
       "      <td>Rennes</td>\n",
       "    </tr>\n",
       "    <tr>\n",
       "      <th>820</th>\n",
       "      <td>2021</td>\n",
       "      <td>Écoles d'ingénieurs</td>\n",
       "      <td>Public</td>\n",
       "      <td>0350097R</td>\n",
       "      <td>INSA RENNES</td>\n",
       "      <td>INST NAT SC APPLIQ RENNES</td>\n",
       "      <td>NaN</td>\n",
       "      <td>0350097R</td>\n",
       "      <td>INSA RENNES</td>\n",
       "      <td>INST NAT SC APPLIQ RENNES</td>\n",
       "      <td>...</td>\n",
       "      <td>12606</td>\n",
       "      <td>IRIS____0000000352380605</td>\n",
       "      <td>35238</td>\n",
       "      <td>Rennes</td>\n",
       "      <td>0605</td>\n",
       "      <td>352380605</td>\n",
       "      <td>Rennes</td>\n",
       "      <td>H</td>\n",
       "      <td>Campus de Beaulieu</td>\n",
       "      <td>Rennes</td>\n",
       "    </tr>\n",
       "    <tr>\n",
       "      <th>878</th>\n",
       "      <td>2019</td>\n",
       "      <td>Universités</td>\n",
       "      <td>Public</td>\n",
       "      <td>0290346U</td>\n",
       "      <td>U BREST</td>\n",
       "      <td>UNIVERSITE  BREST</td>\n",
       "      <td>BRETAGNE OCCIDENTALE</td>\n",
       "      <td>0352076S</td>\n",
       "      <td>UFR SC VIE ENV</td>\n",
       "      <td>UFR SCIENCES VIE ENVIRONNEMENT</td>\n",
       "      <td>...</td>\n",
       "      <td>12606</td>\n",
       "      <td>IRIS____0000000352380605</td>\n",
       "      <td>35238</td>\n",
       "      <td>Rennes</td>\n",
       "      <td>0605</td>\n",
       "      <td>352380605</td>\n",
       "      <td>Rennes</td>\n",
       "      <td>H</td>\n",
       "      <td>Campus de Beaulieu</td>\n",
       "      <td>Rennes</td>\n",
       "    </tr>\n",
       "    <tr>\n",
       "      <th>1196</th>\n",
       "      <td>2015</td>\n",
       "      <td>Universités</td>\n",
       "      <td>Public</td>\n",
       "      <td>0350936C</td>\n",
       "      <td>U RENNES 1</td>\n",
       "      <td>UNIVERSITE RENNES 1</td>\n",
       "      <td>UNIVERSITE RENNES 1</td>\n",
       "      <td>0350075S</td>\n",
       "      <td>IG RENNES 1</td>\n",
       "      <td>INSTITUT DE GESTION RENNES 1</td>\n",
       "      <td>...</td>\n",
       "      <td>9919</td>\n",
       "      <td>IRIS____0000000352380203</td>\n",
       "      <td>35238</td>\n",
       "      <td>Rennes</td>\n",
       "      <td>0203</td>\n",
       "      <td>352380203</td>\n",
       "      <td>Rennes</td>\n",
       "      <td>H</td>\n",
       "      <td>Jean Macé</td>\n",
       "      <td>Rennes</td>\n",
       "    </tr>\n",
       "  </tbody>\n",
       "</table>\n",
       "<p>5 rows × 40 columns</p>\n",
       "</div>"
      ],
      "text/plain": [
       "      Rentrée universitaire catégorie d'établissement secteur d'établissement  \\\n",
       "322                    2022                    Lycées                   Privé   \n",
       "583                    2023               Universités                  Public   \n",
       "820                    2021       Écoles d'ingénieurs                  Public   \n",
       "878                    2019               Universités                  Public   \n",
       "1196                   2015               Universités                  Public   \n",
       "\n",
       "     code UAI de l'établissement sigle de l'établissement  \\\n",
       "322                     0352267Z                   ECP PR   \n",
       "583                     0353074B                 UR (EPE)   \n",
       "820                     0350097R              INSA RENNES   \n",
       "878                     0290346U                  U BREST   \n",
       "1196                    0350936C               U RENNES 1   \n",
       "\n",
       "        libellé de l'établissement libellé complémentaire de l'établissement  \\\n",
       "322   ECOLE PRIVEE COIF ESTHETIQUE            L'ACADEMY - SILVYA TERRADE REN   \n",
       "583                     UNIVERSITE                           DE RENNES (EPE)   \n",
       "820      INST NAT SC APPLIQ RENNES                                       NaN   \n",
       "878              UNIVERSITE  BREST                      BRETAGNE OCCIDENTALE   \n",
       "1196           UNIVERSITE RENNES 1                       UNIVERSITE RENNES 1   \n",
       "\n",
       "     Code UAI de la composante sigle de la composante  \\\n",
       "322                   0352267Z                 ECP PR   \n",
       "583                   0352076S         UFR SC VIE ENV   \n",
       "820                   0350097R            INSA RENNES   \n",
       "878                   0352076S         UFR SC VIE ENV   \n",
       "1196                  0350075S            IG RENNES 1   \n",
       "\n",
       "            libellé de la composante  ... index_right  \\\n",
       "322     ECOLE PRIVEE COIF ESTHETIQUE  ...       10225   \n",
       "583   UFR SCIENCES VIE ENVIRONNEMENT  ...       12606   \n",
       "820        INST NAT SC APPLIQ RENNES  ...       12606   \n",
       "878   UFR SCIENCES VIE ENVIRONNEMENT  ...       12606   \n",
       "1196    INSTITUT DE GESTION RENNES 1  ...        9919   \n",
       "\n",
       "                        cleabs code_insee nom_commune  iris  code_iris  \\\n",
       "322   IRIS____0000000352380207      35238      Rennes  0207  352380207   \n",
       "583   IRIS____0000000352380605      35238      Rennes  0605  352380605   \n",
       "820   IRIS____0000000352380605      35238      Rennes  0605  352380605   \n",
       "878   IRIS____0000000352380605      35238      Rennes  0605  352380605   \n",
       "1196  IRIS____0000000352380203      35238      Rennes  0203  352380203   \n",
       "\n",
       "     nom_iris type_iris            LIB_IRIS  LIBCOM  \n",
       "322    Rennes         H        Saint-Hélier  Rennes  \n",
       "583    Rennes         H  Campus de Beaulieu  Rennes  \n",
       "820    Rennes         H  Campus de Beaulieu  Rennes  \n",
       "878    Rennes         H  Campus de Beaulieu  Rennes  \n",
       "1196   Rennes         H           Jean Macé  Rennes  \n",
       "\n",
       "[5 rows x 40 columns]"
      ]
     },
     "execution_count": 24,
     "metadata": {},
     "output_type": "execute_result"
    }
   ],
   "source": [
    "# spatial join : chaque établissement rattaché à un IRIS\n",
    "etabs_par_iris_rennes = gpd.sjoin(df_rennes, iris_rennes, how=\"inner\", predicate=\"within\")\n",
    "etabs_par_iris_rennes.head()"
   ]
  },
  {
   "cell_type": "code",
   "execution_count": 25,
   "id": "422e76a1",
   "metadata": {},
   "outputs": [],
   "source": [
    "iris_rennes_stats = iris_rennes.copy()\n",
    "\n",
    "# Nombre d'établissements\n",
    "iris_rennes_stats = iris_rennes_stats.merge(\n",
    "    etabs_par_iris_rennes.groupby('LIB_IRIS').size().reset_index(name='nb_etabs'),\n",
    "    on='LIB_IRIS', how='left'\n",
    ").fillna({'nb_etabs':0})\n",
    "iris_rennes_stats['nb_etabs'] = iris_rennes_stats['nb_etabs'].astype(int)\n",
    "\n",
    "# Nombre total d'étudiants\n",
    "iris_rennes_stats = iris_rennes_stats.merge(\n",
    "    etabs_par_iris_rennes.groupby('LIB_IRIS')['nombre total d’étudiants inscrits hors doubles inscriptions université/CPGE'].sum().reset_index(name='nb_etudiants'),\n",
    "    on='LIB_IRIS', how='left'\n",
    ").fillna({'nb_etudiants':0})\n",
    "iris_rennes_stats['nb_etudiants'] = iris_rennes_stats['nb_etudiants'].astype(int)\n",
    "\n",
    "iris_rennes_stats = iris_rennes_stats.to_crs(epsg=2154)  # crs projetée pour calculer surface en m²\n",
    "iris_rennes_stats['area_m2'] = iris_rennes_stats.geometry.area\n",
    "iris_rennes_stats['etabs_per_m2'] = iris_rennes_stats['nb_etabs'] / iris_rennes_stats['area_m2']\n",
    "iris_rennes_stats['students_per_m2'] = iris_rennes_stats['nb_etudiants'] / iris_rennes_stats['area_m2']"
   ]
  },
  {
   "cell_type": "code",
   "execution_count": 29,
   "id": "bdafe542",
   "metadata": {},
   "outputs": [
    {
     "ename": "ValueError",
     "evalue": "Mime type rendering requires nbformat>=4.2.0 but it is not installed",
     "output_type": "error",
     "traceback": [
      "\u001b[31m---------------------------------------------------------------------------\u001b[39m",
      "\u001b[31mValueError\u001b[39m                                Traceback (most recent call last)",
      "\u001b[36mCell\u001b[39m\u001b[36m \u001b[39m\u001b[32mIn[29]\u001b[39m\u001b[32m, line 78\u001b[39m\n\u001b[32m     46\u001b[39m fig.update_layout(\n\u001b[32m     47\u001b[39m     updatemenus=[\n\u001b[32m     48\u001b[39m         \u001b[38;5;28mdict\u001b[39m(\n\u001b[32m   (...)\u001b[39m\u001b[32m     74\u001b[39m     ]\n\u001b[32m     75\u001b[39m )\n\u001b[32m     77\u001b[39m fig.update_layout(margin={\u001b[33m\"\u001b[39m\u001b[33mr\u001b[39m\u001b[33m\"\u001b[39m:\u001b[32m0\u001b[39m,\u001b[33m\"\u001b[39m\u001b[33mt\u001b[39m\u001b[33m\"\u001b[39m:\u001b[32m50\u001b[39m,\u001b[33m\"\u001b[39m\u001b[33ml\u001b[39m\u001b[33m\"\u001b[39m:\u001b[32m0\u001b[39m,\u001b[33m\"\u001b[39m\u001b[33mb\u001b[39m\u001b[33m\"\u001b[39m:\u001b[32m0\u001b[39m}, title=\u001b[33m\"\u001b[39m\u001b[33mÉtudiants sup. par IRIS - Rennes\u001b[39m\u001b[33m\"\u001b[39m)\n\u001b[32m---> \u001b[39m\u001b[32m78\u001b[39m \u001b[43mfig\u001b[49m\u001b[43m.\u001b[49m\u001b[43mshow\u001b[49m\u001b[43m(\u001b[49m\u001b[43m)\u001b[49m\n",
      "\u001b[36mFile \u001b[39m\u001b[32m~\\AppData\\Local\\Packages\\PythonSoftwareFoundation.Python.3.12_qbz5n2kfra8p0\\LocalCache\\local-packages\\Python312\\site-packages\\plotly\\basedatatypes.py:3420\u001b[39m, in \u001b[36mBaseFigure.show\u001b[39m\u001b[34m(self, *args, **kwargs)\u001b[39m\n\u001b[32m   3387\u001b[39m \u001b[38;5;250m\u001b[39m\u001b[33;03m\"\"\"\u001b[39;00m\n\u001b[32m   3388\u001b[39m \u001b[33;03mShow a figure using either the default renderer(s) or the renderer(s)\u001b[39;00m\n\u001b[32m   3389\u001b[39m \u001b[33;03mspecified by the renderer argument\u001b[39;00m\n\u001b[32m   (...)\u001b[39m\u001b[32m   3416\u001b[39m \u001b[33;03mNone\u001b[39;00m\n\u001b[32m   3417\u001b[39m \u001b[33;03m\"\"\"\u001b[39;00m\n\u001b[32m   3418\u001b[39m \u001b[38;5;28;01mimport\u001b[39;00m\u001b[38;5;250m \u001b[39m\u001b[34;01mplotly\u001b[39;00m\u001b[34;01m.\u001b[39;00m\u001b[34;01mio\u001b[39;00m\u001b[38;5;250m \u001b[39m\u001b[38;5;28;01mas\u001b[39;00m\u001b[38;5;250m \u001b[39m\u001b[34;01mpio\u001b[39;00m\n\u001b[32m-> \u001b[39m\u001b[32m3420\u001b[39m \u001b[38;5;28;01mreturn\u001b[39;00m \u001b[43mpio\u001b[49m\u001b[43m.\u001b[49m\u001b[43mshow\u001b[49m\u001b[43m(\u001b[49m\u001b[38;5;28;43mself\u001b[39;49m\u001b[43m,\u001b[49m\u001b[43m \u001b[49m\u001b[43m*\u001b[49m\u001b[43margs\u001b[49m\u001b[43m,\u001b[49m\u001b[43m \u001b[49m\u001b[43m*\u001b[49m\u001b[43m*\u001b[49m\u001b[43mkwargs\u001b[49m\u001b[43m)\u001b[49m\n",
      "\u001b[36mFile \u001b[39m\u001b[32m~\\AppData\\Local\\Packages\\PythonSoftwareFoundation.Python.3.12_qbz5n2kfra8p0\\LocalCache\\local-packages\\Python312\\site-packages\\plotly\\io\\_renderers.py:415\u001b[39m, in \u001b[36mshow\u001b[39m\u001b[34m(fig, renderer, validate, **kwargs)\u001b[39m\n\u001b[32m    410\u001b[39m     \u001b[38;5;28;01mraise\u001b[39;00m \u001b[38;5;167;01mValueError\u001b[39;00m(\n\u001b[32m    411\u001b[39m         \u001b[33m\"\u001b[39m\u001b[33mMime type rendering requires ipython but it is not installed\u001b[39m\u001b[33m\"\u001b[39m\n\u001b[32m    412\u001b[39m     )\n\u001b[32m    414\u001b[39m \u001b[38;5;28;01mif\u001b[39;00m \u001b[38;5;129;01mnot\u001b[39;00m nbformat \u001b[38;5;129;01mor\u001b[39;00m Version(nbformat.__version__) < Version(\u001b[33m\"\u001b[39m\u001b[33m4.2.0\u001b[39m\u001b[33m\"\u001b[39m):\n\u001b[32m--> \u001b[39m\u001b[32m415\u001b[39m     \u001b[38;5;28;01mraise\u001b[39;00m \u001b[38;5;167;01mValueError\u001b[39;00m(\n\u001b[32m    416\u001b[39m         \u001b[33m\"\u001b[39m\u001b[33mMime type rendering requires nbformat>=4.2.0 but it is not installed\u001b[39m\u001b[33m\"\u001b[39m\n\u001b[32m    417\u001b[39m     )\n\u001b[32m    419\u001b[39m display_jupyter_version_warnings()\n\u001b[32m    421\u001b[39m ipython_display.display(bundle, raw=\u001b[38;5;28;01mTrue\u001b[39;00m)\n",
      "\u001b[31mValueError\u001b[39m: Mime type rendering requires nbformat>=4.2.0 but it is not installed"
     ]
    }
   ],
   "source": [
    "# reconvertir en 4326\n",
    "iris_plot = iris_rennes_stats.to_crs(epsg=4326)\n",
    "\n",
    "colorscale = \"YlOrRd\"  # jaune = faible, rouge = élevé\n",
    "\n",
    "# Carte initiale avec coloraxis défini\n",
    "fig = px.choropleth_mapbox(\n",
    "    iris_plot,\n",
    "    geojson=iris_plot.__geo_interface__,\n",
    "    locations=iris_plot.index,\n",
    "    color='students_per_m2',  # initial color\n",
    "    hover_name='LIB_IRIS',\n",
    "    hover_data=['nb_etabs','area_m2','nb_etudiants'],\n",
    "    mapbox_style=\"carto-positron\",\n",
    "    center={\"lat\":48.117, \"lon\":-1.677},\n",
    "    zoom=12,\n",
    "    opacity=0.6,\n",
    ")\n",
    "\n",
    "# On associe explicitement la trace à coloraxis et fixe les limites\n",
    "fig.update_traces(\n",
    "    coloraxis=\"coloraxis\"\n",
    ")\n",
    "\n",
    "# Définition globale de coloraxis\n",
    "fig.update_layout(\n",
    "    coloraxis=dict(\n",
    "        colorscale=colorscale,\n",
    "        cmin=iris_plot['students_per_m2'].min(),\n",
    "        cmax=iris_plot['students_per_m2'].max(),\n",
    "        colorbar=dict(title=\"Étudiants/m²\")\n",
    "    )\n",
    ")\n",
    "\n",
    "# Points établissements\n",
    "fig.add_scattermapbox(\n",
    "    lat=df_rennes['lat'],\n",
    "    lon=df_rennes['lon'],\n",
    "    mode='markers',\n",
    "    marker=dict(size=6, color='blue'),\n",
    "    text=etabs_par_iris_rennes[\"libellé de l'établissement\"],\n",
    "    name='Établissements OSM'\n",
    ")\n",
    "\n",
    "# Boutons interactifs : on ne touche qu'à z, zmin, zmax\n",
    "fig.update_layout(\n",
    "    updatemenus=[\n",
    "        dict(\n",
    "            type=\"buttons\",\n",
    "            x=0.0, y=1.05, showactive=True,\n",
    "            buttons=[\n",
    "                dict(\n",
    "                    label=\"Densité\",\n",
    "                    method=\"update\",\n",
    "                    args=[\n",
    "                        {\"z\": [iris_plot['students_per_m2']]},\n",
    "                        {\"coloraxis.cmin\": iris_plot['students_per_m2'].min(),\n",
    "                         \"coloraxis.cmax\": iris_plot['students_per_m2'].max(),\n",
    "                         \"coloraxis.colorbar.title\": \"Étudiants/m²\"}\n",
    "                    ]\n",
    "                ),\n",
    "                dict(\n",
    "                    label=\"Nombre d'étudiants\",\n",
    "                    method=\"update\",\n",
    "                    args=[\n",
    "                        {\"z\": [iris_plot['nb_etudiants']]},\n",
    "                        {\"coloraxis.cmin\": iris_plot['nb_etudiants'].min(),\n",
    "                         \"coloraxis.cmax\": iris_plot['nb_etudiants'].max(),\n",
    "                         \"coloraxis.colorbar.title\": \"Nombre d'étudiants\"}\n",
    "                    ]\n",
    "                ),\n",
    "            ]\n",
    "        )\n",
    "    ]\n",
    ")\n",
    "\n",
    "fig.update_layout(margin={\"r\":0,\"t\":50,\"l\":0,\"b\":0}, title=\"Étudiants sup. par IRIS - Rennes\")\n",
    "fig.show()\n"
   ]
  },
  {
   "cell_type": "code",
   "execution_count": 122,
   "id": "1b5eadeb",
   "metadata": {},
   "outputs": [
    {
     "data": {
      "application/vnd.plotly.v1+json": {
       "config": {
        "plotlyServerURL": "https://plot.ly"
       },
       "data": [
        {
         "customdata": {
          "bdata": "AAAAAADD7EBzcBSuEsQPQQAAAAAAAFhAAAAAAEAn2UAn6aNwkIUBQQAAAAAAgEZAAAAAADDzC0GArUchErMzQQAAAAAA0HNAAAAAALDr+EBqdMKVGMg1QQAAAAAA4HFAAAAAAAAH8ECZocK13nY6QQAAAAAAAF1AAAAAAABFtkDOCVyPEp8CQQAAAAAAADhAAAAAAICYxkCtIzOz9uEcQQAAAAAAADhAAAAAAMCn0ED0z8zMgH4lQQAAAAAAgENAAAAAAAAqtEANYTMz40IKQQAAAAAAAEFAAAAAAAAorkC01yhcYSsIQQAAAAAAADhA",
          "dtype": "f8",
          "shape": "10, 3"
         },
         "hovertemplate": "LIB_IRIS=%{x}<br>students_per_m2=%{marker.color}<br>nb_etudiants=%{customdata[0]}<br>area_m2=%{customdata[1]}<br>nb_etabs=%{customdata[2]}<extra></extra>",
         "legendgroup": "",
         "marker": {
          "color": {
           "bdata": "8fPDckL5zD9JFEbgAvjGP+KCz/l3s8Y/qNkjGUpOsj9vaZszPmGjP4LwrMt0IqM/kO97XdMImT/8XyraxcuYP6VKlmQFkpg/Sr62OJX2kz8=",
           "dtype": "f8"
          },
          "coloraxis": "coloraxis",
          "pattern": {
           "shape": ""
          }
         },
         "name": "",
         "orientation": "v",
         "showlegend": false,
         "textposition": "auto",
         "type": "bar",
         "x": [
          "Jean Macé",
          "Hoche",
          "Pontchaillou",
          "Campus de Beaulieu",
          "Beauregard",
          "Hôtel-Dieu",
          "Les Mottais",
          "Le Gallet-Les Longs Champs Nord",
          "Paris Est",
          "Parcheminerie Toussaints"
         ],
         "xaxis": "x",
         "y": {
          "bdata": "8fPDckL5zD9JFEbgAvjGP+KCz/l3s8Y/qNkjGUpOsj9vaZszPmGjP4LwrMt0IqM/kO97XdMImT/8XyraxcuYP6VKlmQFkpg/Sr62OJX2kz8=",
          "dtype": "f8"
         },
         "yaxis": "y"
        }
       ],
       "layout": {
        "barmode": "relative",
        "coloraxis": {
         "colorbar": {
          "title": {
           "text": "students_per_m2"
          }
         },
         "colorscale": [
          [
           0,
           "rgb(255,255,204)"
          ],
          [
           0.125,
           "rgb(255,237,160)"
          ],
          [
           0.25,
           "rgb(254,217,118)"
          ],
          [
           0.375,
           "rgb(254,178,76)"
          ],
          [
           0.5,
           "rgb(253,141,60)"
          ],
          [
           0.625,
           "rgb(252,78,42)"
          ],
          [
           0.75,
           "rgb(227,26,28)"
          ],
          [
           0.875,
           "rgb(189,0,38)"
          ],
          [
           1,
           "rgb(128,0,38)"
          ]
         ]
        },
        "legend": {
         "tracegroupgap": 0
        },
        "template": {
         "data": {
          "bar": [
           {
            "error_x": {
             "color": "#2a3f5f"
            },
            "error_y": {
             "color": "#2a3f5f"
            },
            "marker": {
             "line": {
              "color": "#E5ECF6",
              "width": 0.5
             },
             "pattern": {
              "fillmode": "overlay",
              "size": 10,
              "solidity": 0.2
             }
            },
            "type": "bar"
           }
          ],
          "barpolar": [
           {
            "marker": {
             "line": {
              "color": "#E5ECF6",
              "width": 0.5
             },
             "pattern": {
              "fillmode": "overlay",
              "size": 10,
              "solidity": 0.2
             }
            },
            "type": "barpolar"
           }
          ],
          "carpet": [
           {
            "aaxis": {
             "endlinecolor": "#2a3f5f",
             "gridcolor": "white",
             "linecolor": "white",
             "minorgridcolor": "white",
             "startlinecolor": "#2a3f5f"
            },
            "baxis": {
             "endlinecolor": "#2a3f5f",
             "gridcolor": "white",
             "linecolor": "white",
             "minorgridcolor": "white",
             "startlinecolor": "#2a3f5f"
            },
            "type": "carpet"
           }
          ],
          "choropleth": [
           {
            "colorbar": {
             "outlinewidth": 0,
             "ticks": ""
            },
            "type": "choropleth"
           }
          ],
          "contour": [
           {
            "colorbar": {
             "outlinewidth": 0,
             "ticks": ""
            },
            "colorscale": [
             [
              0,
              "#0d0887"
             ],
             [
              0.1111111111111111,
              "#46039f"
             ],
             [
              0.2222222222222222,
              "#7201a8"
             ],
             [
              0.3333333333333333,
              "#9c179e"
             ],
             [
              0.4444444444444444,
              "#bd3786"
             ],
             [
              0.5555555555555556,
              "#d8576b"
             ],
             [
              0.6666666666666666,
              "#ed7953"
             ],
             [
              0.7777777777777778,
              "#fb9f3a"
             ],
             [
              0.8888888888888888,
              "#fdca26"
             ],
             [
              1,
              "#f0f921"
             ]
            ],
            "type": "contour"
           }
          ],
          "contourcarpet": [
           {
            "colorbar": {
             "outlinewidth": 0,
             "ticks": ""
            },
            "type": "contourcarpet"
           }
          ],
          "heatmap": [
           {
            "colorbar": {
             "outlinewidth": 0,
             "ticks": ""
            },
            "colorscale": [
             [
              0,
              "#0d0887"
             ],
             [
              0.1111111111111111,
              "#46039f"
             ],
             [
              0.2222222222222222,
              "#7201a8"
             ],
             [
              0.3333333333333333,
              "#9c179e"
             ],
             [
              0.4444444444444444,
              "#bd3786"
             ],
             [
              0.5555555555555556,
              "#d8576b"
             ],
             [
              0.6666666666666666,
              "#ed7953"
             ],
             [
              0.7777777777777778,
              "#fb9f3a"
             ],
             [
              0.8888888888888888,
              "#fdca26"
             ],
             [
              1,
              "#f0f921"
             ]
            ],
            "type": "heatmap"
           }
          ],
          "histogram": [
           {
            "marker": {
             "pattern": {
              "fillmode": "overlay",
              "size": 10,
              "solidity": 0.2
             }
            },
            "type": "histogram"
           }
          ],
          "histogram2d": [
           {
            "colorbar": {
             "outlinewidth": 0,
             "ticks": ""
            },
            "colorscale": [
             [
              0,
              "#0d0887"
             ],
             [
              0.1111111111111111,
              "#46039f"
             ],
             [
              0.2222222222222222,
              "#7201a8"
             ],
             [
              0.3333333333333333,
              "#9c179e"
             ],
             [
              0.4444444444444444,
              "#bd3786"
             ],
             [
              0.5555555555555556,
              "#d8576b"
             ],
             [
              0.6666666666666666,
              "#ed7953"
             ],
             [
              0.7777777777777778,
              "#fb9f3a"
             ],
             [
              0.8888888888888888,
              "#fdca26"
             ],
             [
              1,
              "#f0f921"
             ]
            ],
            "type": "histogram2d"
           }
          ],
          "histogram2dcontour": [
           {
            "colorbar": {
             "outlinewidth": 0,
             "ticks": ""
            },
            "colorscale": [
             [
              0,
              "#0d0887"
             ],
             [
              0.1111111111111111,
              "#46039f"
             ],
             [
              0.2222222222222222,
              "#7201a8"
             ],
             [
              0.3333333333333333,
              "#9c179e"
             ],
             [
              0.4444444444444444,
              "#bd3786"
             ],
             [
              0.5555555555555556,
              "#d8576b"
             ],
             [
              0.6666666666666666,
              "#ed7953"
             ],
             [
              0.7777777777777778,
              "#fb9f3a"
             ],
             [
              0.8888888888888888,
              "#fdca26"
             ],
             [
              1,
              "#f0f921"
             ]
            ],
            "type": "histogram2dcontour"
           }
          ],
          "mesh3d": [
           {
            "colorbar": {
             "outlinewidth": 0,
             "ticks": ""
            },
            "type": "mesh3d"
           }
          ],
          "parcoords": [
           {
            "line": {
             "colorbar": {
              "outlinewidth": 0,
              "ticks": ""
             }
            },
            "type": "parcoords"
           }
          ],
          "pie": [
           {
            "automargin": true,
            "type": "pie"
           }
          ],
          "scatter": [
           {
            "fillpattern": {
             "fillmode": "overlay",
             "size": 10,
             "solidity": 0.2
            },
            "type": "scatter"
           }
          ],
          "scatter3d": [
           {
            "line": {
             "colorbar": {
              "outlinewidth": 0,
              "ticks": ""
             }
            },
            "marker": {
             "colorbar": {
              "outlinewidth": 0,
              "ticks": ""
             }
            },
            "type": "scatter3d"
           }
          ],
          "scattercarpet": [
           {
            "marker": {
             "colorbar": {
              "outlinewidth": 0,
              "ticks": ""
             }
            },
            "type": "scattercarpet"
           }
          ],
          "scattergeo": [
           {
            "marker": {
             "colorbar": {
              "outlinewidth": 0,
              "ticks": ""
             }
            },
            "type": "scattergeo"
           }
          ],
          "scattergl": [
           {
            "marker": {
             "colorbar": {
              "outlinewidth": 0,
              "ticks": ""
             }
            },
            "type": "scattergl"
           }
          ],
          "scattermap": [
           {
            "marker": {
             "colorbar": {
              "outlinewidth": 0,
              "ticks": ""
             }
            },
            "type": "scattermap"
           }
          ],
          "scattermapbox": [
           {
            "marker": {
             "colorbar": {
              "outlinewidth": 0,
              "ticks": ""
             }
            },
            "type": "scattermapbox"
           }
          ],
          "scatterpolar": [
           {
            "marker": {
             "colorbar": {
              "outlinewidth": 0,
              "ticks": ""
             }
            },
            "type": "scatterpolar"
           }
          ],
          "scatterpolargl": [
           {
            "marker": {
             "colorbar": {
              "outlinewidth": 0,
              "ticks": ""
             }
            },
            "type": "scatterpolargl"
           }
          ],
          "scatterternary": [
           {
            "marker": {
             "colorbar": {
              "outlinewidth": 0,
              "ticks": ""
             }
            },
            "type": "scatterternary"
           }
          ],
          "surface": [
           {
            "colorbar": {
             "outlinewidth": 0,
             "ticks": ""
            },
            "colorscale": [
             [
              0,
              "#0d0887"
             ],
             [
              0.1111111111111111,
              "#46039f"
             ],
             [
              0.2222222222222222,
              "#7201a8"
             ],
             [
              0.3333333333333333,
              "#9c179e"
             ],
             [
              0.4444444444444444,
              "#bd3786"
             ],
             [
              0.5555555555555556,
              "#d8576b"
             ],
             [
              0.6666666666666666,
              "#ed7953"
             ],
             [
              0.7777777777777778,
              "#fb9f3a"
             ],
             [
              0.8888888888888888,
              "#fdca26"
             ],
             [
              1,
              "#f0f921"
             ]
            ],
            "type": "surface"
           }
          ],
          "table": [
           {
            "cells": {
             "fill": {
              "color": "#EBF0F8"
             },
             "line": {
              "color": "white"
             }
            },
            "header": {
             "fill": {
              "color": "#C8D4E3"
             },
             "line": {
              "color": "white"
             }
            },
            "type": "table"
           }
          ]
         },
         "layout": {
          "annotationdefaults": {
           "arrowcolor": "#2a3f5f",
           "arrowhead": 0,
           "arrowwidth": 1
          },
          "autotypenumbers": "strict",
          "coloraxis": {
           "colorbar": {
            "outlinewidth": 0,
            "ticks": ""
           }
          },
          "colorscale": {
           "diverging": [
            [
             0,
             "#8e0152"
            ],
            [
             0.1,
             "#c51b7d"
            ],
            [
             0.2,
             "#de77ae"
            ],
            [
             0.3,
             "#f1b6da"
            ],
            [
             0.4,
             "#fde0ef"
            ],
            [
             0.5,
             "#f7f7f7"
            ],
            [
             0.6,
             "#e6f5d0"
            ],
            [
             0.7,
             "#b8e186"
            ],
            [
             0.8,
             "#7fbc41"
            ],
            [
             0.9,
             "#4d9221"
            ],
            [
             1,
             "#276419"
            ]
           ],
           "sequential": [
            [
             0,
             "#0d0887"
            ],
            [
             0.1111111111111111,
             "#46039f"
            ],
            [
             0.2222222222222222,
             "#7201a8"
            ],
            [
             0.3333333333333333,
             "#9c179e"
            ],
            [
             0.4444444444444444,
             "#bd3786"
            ],
            [
             0.5555555555555556,
             "#d8576b"
            ],
            [
             0.6666666666666666,
             "#ed7953"
            ],
            [
             0.7777777777777778,
             "#fb9f3a"
            ],
            [
             0.8888888888888888,
             "#fdca26"
            ],
            [
             1,
             "#f0f921"
            ]
           ],
           "sequentialminus": [
            [
             0,
             "#0d0887"
            ],
            [
             0.1111111111111111,
             "#46039f"
            ],
            [
             0.2222222222222222,
             "#7201a8"
            ],
            [
             0.3333333333333333,
             "#9c179e"
            ],
            [
             0.4444444444444444,
             "#bd3786"
            ],
            [
             0.5555555555555556,
             "#d8576b"
            ],
            [
             0.6666666666666666,
             "#ed7953"
            ],
            [
             0.7777777777777778,
             "#fb9f3a"
            ],
            [
             0.8888888888888888,
             "#fdca26"
            ],
            [
             1,
             "#f0f921"
            ]
           ]
          },
          "colorway": [
           "#636efa",
           "#EF553B",
           "#00cc96",
           "#ab63fa",
           "#FFA15A",
           "#19d3f3",
           "#FF6692",
           "#B6E880",
           "#FF97FF",
           "#FECB52"
          ],
          "font": {
           "color": "#2a3f5f"
          },
          "geo": {
           "bgcolor": "white",
           "lakecolor": "white",
           "landcolor": "#E5ECF6",
           "showlakes": true,
           "showland": true,
           "subunitcolor": "white"
          },
          "hoverlabel": {
           "align": "left"
          },
          "hovermode": "closest",
          "mapbox": {
           "style": "light"
          },
          "paper_bgcolor": "white",
          "plot_bgcolor": "#E5ECF6",
          "polar": {
           "angularaxis": {
            "gridcolor": "white",
            "linecolor": "white",
            "ticks": ""
           },
           "bgcolor": "#E5ECF6",
           "radialaxis": {
            "gridcolor": "white",
            "linecolor": "white",
            "ticks": ""
           }
          },
          "scene": {
           "xaxis": {
            "backgroundcolor": "#E5ECF6",
            "gridcolor": "white",
            "gridwidth": 2,
            "linecolor": "white",
            "showbackground": true,
            "ticks": "",
            "zerolinecolor": "white"
           },
           "yaxis": {
            "backgroundcolor": "#E5ECF6",
            "gridcolor": "white",
            "gridwidth": 2,
            "linecolor": "white",
            "showbackground": true,
            "ticks": "",
            "zerolinecolor": "white"
           },
           "zaxis": {
            "backgroundcolor": "#E5ECF6",
            "gridcolor": "white",
            "gridwidth": 2,
            "linecolor": "white",
            "showbackground": true,
            "ticks": "",
            "zerolinecolor": "white"
           }
          },
          "shapedefaults": {
           "line": {
            "color": "#2a3f5f"
           }
          },
          "ternary": {
           "aaxis": {
            "gridcolor": "white",
            "linecolor": "white",
            "ticks": ""
           },
           "baxis": {
            "gridcolor": "white",
            "linecolor": "white",
            "ticks": ""
           },
           "bgcolor": "#E5ECF6",
           "caxis": {
            "gridcolor": "white",
            "linecolor": "white",
            "ticks": ""
           }
          },
          "title": {
           "x": 0.05
          },
          "xaxis": {
           "automargin": true,
           "gridcolor": "white",
           "linecolor": "white",
           "ticks": "",
           "title": {
            "standoff": 15
           },
           "zerolinecolor": "white",
           "zerolinewidth": 2
          },
          "yaxis": {
           "automargin": true,
           "gridcolor": "white",
           "linecolor": "white",
           "ticks": "",
           "title": {
            "standoff": 15
           },
           "zerolinecolor": "white",
           "zerolinewidth": 2
          }
         }
        },
        "title": {
         "text": "Top 10 IRIS les plus denses en étudiants - Rennes"
        },
        "xaxis": {
         "anchor": "y",
         "domain": [
          0,
          1
         ],
         "title": {
          "text": "Quartier (IRIS)"
         }
        },
        "yaxis": {
         "anchor": "x",
         "domain": [
          0,
          1
         ],
         "title": {
          "text": "Étudiants / m²"
         }
        }
       }
      }
     },
     "metadata": {},
     "output_type": "display_data"
    }
   ],
   "source": [
    "top10_iris_rennes = iris_rennes_stats.sort_values(by='students_per_m2', ascending=False).head(10)\n",
    "\n",
    "fig = px.bar(\n",
    "    top10_iris_rennes,\n",
    "    x='LIB_IRIS',\n",
    "    y='students_per_m2',\n",
    "    hover_data=['nb_etudiants','area_m2','nb_etabs'],\n",
    "    color='students_per_m2',\n",
    "    color_continuous_scale='YlOrRd',\n",
    "    title=\"Top 10 IRIS les plus denses en étudiants - Rennes\"\n",
    ")\n",
    "\n",
    "fig.update_layout(xaxis_title=\"Quartier (IRIS)\", yaxis_title=\"Étudiants / m²\")\n",
    "fig.show()\n"
   ]
  },
  {
   "cell_type": "markdown",
   "id": "52fcc709",
   "metadata": {},
   "source": [
    "## A RETRAVAILLER LE BLOC EN DESSOUS, POUR NE GARDER QUE LUI ET FAIRE PAREIL A BORDEAUX ##"
   ]
  },
  {
   "cell_type": "code",
   "execution_count": 130,
   "id": "ec2893b5",
   "metadata": {},
   "outputs": [
    {
     "data": {
      "application/vnd.plotly.v1+json": {
       "config": {
        "plotlyServerURL": "https://plot.ly"
       },
       "data": [
        {
         "customdata": {
          "bdata": "AAAAAADD7EBzcBSuEsQPQQAAAAAAAFhAAAAAAEAn2UAn6aNwkIUBQQAAAAAAgEZAAAAAADDzC0GArUchErMzQQAAAAAA0HNAAAAAALDr+EBqdMKVGMg1QQAAAAAA4HFAAAAAAAAH8ECZocK13nY6QQAAAAAAAF1AAAAAAABFtkDOCVyPEp8CQQAAAAAAADhAAAAAAICYxkCtIzOz9uEcQQAAAAAAADhAAAAAAMCn0ED0z8zMgH4lQQAAAAAAgENAAAAAAAAqtEANYTMz40IKQQAAAAAAAEFAAAAAAAAorkC01yhcYSsIQQAAAAAAADhA",
          "dtype": "f8",
          "shape": "10, 3"
         },
         "hovertemplate": "LIB_IRIS=%{x}<br>students_per_m2=%{marker.color}<br>nb_etudiants=%{customdata[0]}<br>area_m2=%{customdata[1]}<br>nb_etabs=%{customdata[2]}<extra></extra>",
         "legendgroup": "",
         "marker": {
          "color": {
           "bdata": "8fPDckL5zD9JFEbgAvjGP+KCz/l3s8Y/qNkjGUpOsj9vaZszPmGjP4LwrMt0IqM/kO97XdMImT/8XyraxcuYP6VKlmQFkpg/Sr62OJX2kz8=",
           "dtype": "f8"
          },
          "coloraxis": "coloraxis",
          "colorscale": [
           [
            0,
            "rgb(255,255,204)"
           ],
           [
            0.125,
            "rgb(255,237,160)"
           ],
           [
            0.25,
            "rgb(254,217,118)"
           ],
           [
            0.375,
            "rgb(254,178,76)"
           ],
           [
            0.5,
            "rgb(253,141,60)"
           ],
           [
            0.625,
            "rgb(252,78,42)"
           ],
           [
            0.75,
            "rgb(227,26,28)"
           ],
           [
            0.875,
            "rgb(189,0,38)"
           ],
           [
            1,
            "rgb(128,0,38)"
           ]
          ],
          "pattern": {
           "shape": ""
          },
          "showscale": true
         },
         "name": "",
         "orientation": "v",
         "showlegend": false,
         "textposition": "auto",
         "type": "bar",
         "x": [
          "Jean Macé",
          "Hoche",
          "Pontchaillou",
          "Campus de Beaulieu",
          "Beauregard",
          "Hôtel-Dieu",
          "Les Mottais",
          "Le Gallet-Les Longs Champs Nord",
          "Paris Est",
          "Parcheminerie Toussaints"
         ],
         "xaxis": "x",
         "y": {
          "bdata": "8fPDckL5zD9JFEbgAvjGP+KCz/l3s8Y/qNkjGUpOsj9vaZszPmGjP4LwrMt0IqM/kO97XdMImT/8XyraxcuYP6VKlmQFkpg/Sr62OJX2kz8=",
          "dtype": "f8"
         },
         "yaxis": "y"
        }
       ],
       "layout": {
        "barmode": "relative",
        "coloraxis": {
         "colorbar": {
          "title": {
           "text": "students_per_m2"
          }
         },
         "colorscale": [
          [
           0,
           "rgb(255,255,204)"
          ],
          [
           0.125,
           "rgb(255,237,160)"
          ],
          [
           0.25,
           "rgb(254,217,118)"
          ],
          [
           0.375,
           "rgb(254,178,76)"
          ],
          [
           0.5,
           "rgb(253,141,60)"
          ],
          [
           0.625,
           "rgb(252,78,42)"
          ],
          [
           0.75,
           "rgb(227,26,28)"
          ],
          [
           0.875,
           "rgb(189,0,38)"
          ],
          [
           1,
           "rgb(128,0,38)"
          ]
         ]
        },
        "legend": {
         "tracegroupgap": 0
        },
        "template": {
         "data": {
          "bar": [
           {
            "error_x": {
             "color": "#2a3f5f"
            },
            "error_y": {
             "color": "#2a3f5f"
            },
            "marker": {
             "line": {
              "color": "#E5ECF6",
              "width": 0.5
             },
             "pattern": {
              "fillmode": "overlay",
              "size": 10,
              "solidity": 0.2
             }
            },
            "type": "bar"
           }
          ],
          "barpolar": [
           {
            "marker": {
             "line": {
              "color": "#E5ECF6",
              "width": 0.5
             },
             "pattern": {
              "fillmode": "overlay",
              "size": 10,
              "solidity": 0.2
             }
            },
            "type": "barpolar"
           }
          ],
          "carpet": [
           {
            "aaxis": {
             "endlinecolor": "#2a3f5f",
             "gridcolor": "white",
             "linecolor": "white",
             "minorgridcolor": "white",
             "startlinecolor": "#2a3f5f"
            },
            "baxis": {
             "endlinecolor": "#2a3f5f",
             "gridcolor": "white",
             "linecolor": "white",
             "minorgridcolor": "white",
             "startlinecolor": "#2a3f5f"
            },
            "type": "carpet"
           }
          ],
          "choropleth": [
           {
            "colorbar": {
             "outlinewidth": 0,
             "ticks": ""
            },
            "type": "choropleth"
           }
          ],
          "contour": [
           {
            "colorbar": {
             "outlinewidth": 0,
             "ticks": ""
            },
            "colorscale": [
             [
              0,
              "#0d0887"
             ],
             [
              0.1111111111111111,
              "#46039f"
             ],
             [
              0.2222222222222222,
              "#7201a8"
             ],
             [
              0.3333333333333333,
              "#9c179e"
             ],
             [
              0.4444444444444444,
              "#bd3786"
             ],
             [
              0.5555555555555556,
              "#d8576b"
             ],
             [
              0.6666666666666666,
              "#ed7953"
             ],
             [
              0.7777777777777778,
              "#fb9f3a"
             ],
             [
              0.8888888888888888,
              "#fdca26"
             ],
             [
              1,
              "#f0f921"
             ]
            ],
            "type": "contour"
           }
          ],
          "contourcarpet": [
           {
            "colorbar": {
             "outlinewidth": 0,
             "ticks": ""
            },
            "type": "contourcarpet"
           }
          ],
          "heatmap": [
           {
            "colorbar": {
             "outlinewidth": 0,
             "ticks": ""
            },
            "colorscale": [
             [
              0,
              "#0d0887"
             ],
             [
              0.1111111111111111,
              "#46039f"
             ],
             [
              0.2222222222222222,
              "#7201a8"
             ],
             [
              0.3333333333333333,
              "#9c179e"
             ],
             [
              0.4444444444444444,
              "#bd3786"
             ],
             [
              0.5555555555555556,
              "#d8576b"
             ],
             [
              0.6666666666666666,
              "#ed7953"
             ],
             [
              0.7777777777777778,
              "#fb9f3a"
             ],
             [
              0.8888888888888888,
              "#fdca26"
             ],
             [
              1,
              "#f0f921"
             ]
            ],
            "type": "heatmap"
           }
          ],
          "histogram": [
           {
            "marker": {
             "pattern": {
              "fillmode": "overlay",
              "size": 10,
              "solidity": 0.2
             }
            },
            "type": "histogram"
           }
          ],
          "histogram2d": [
           {
            "colorbar": {
             "outlinewidth": 0,
             "ticks": ""
            },
            "colorscale": [
             [
              0,
              "#0d0887"
             ],
             [
              0.1111111111111111,
              "#46039f"
             ],
             [
              0.2222222222222222,
              "#7201a8"
             ],
             [
              0.3333333333333333,
              "#9c179e"
             ],
             [
              0.4444444444444444,
              "#bd3786"
             ],
             [
              0.5555555555555556,
              "#d8576b"
             ],
             [
              0.6666666666666666,
              "#ed7953"
             ],
             [
              0.7777777777777778,
              "#fb9f3a"
             ],
             [
              0.8888888888888888,
              "#fdca26"
             ],
             [
              1,
              "#f0f921"
             ]
            ],
            "type": "histogram2d"
           }
          ],
          "histogram2dcontour": [
           {
            "colorbar": {
             "outlinewidth": 0,
             "ticks": ""
            },
            "colorscale": [
             [
              0,
              "#0d0887"
             ],
             [
              0.1111111111111111,
              "#46039f"
             ],
             [
              0.2222222222222222,
              "#7201a8"
             ],
             [
              0.3333333333333333,
              "#9c179e"
             ],
             [
              0.4444444444444444,
              "#bd3786"
             ],
             [
              0.5555555555555556,
              "#d8576b"
             ],
             [
              0.6666666666666666,
              "#ed7953"
             ],
             [
              0.7777777777777778,
              "#fb9f3a"
             ],
             [
              0.8888888888888888,
              "#fdca26"
             ],
             [
              1,
              "#f0f921"
             ]
            ],
            "type": "histogram2dcontour"
           }
          ],
          "mesh3d": [
           {
            "colorbar": {
             "outlinewidth": 0,
             "ticks": ""
            },
            "type": "mesh3d"
           }
          ],
          "parcoords": [
           {
            "line": {
             "colorbar": {
              "outlinewidth": 0,
              "ticks": ""
             }
            },
            "type": "parcoords"
           }
          ],
          "pie": [
           {
            "automargin": true,
            "type": "pie"
           }
          ],
          "scatter": [
           {
            "fillpattern": {
             "fillmode": "overlay",
             "size": 10,
             "solidity": 0.2
            },
            "type": "scatter"
           }
          ],
          "scatter3d": [
           {
            "line": {
             "colorbar": {
              "outlinewidth": 0,
              "ticks": ""
             }
            },
            "marker": {
             "colorbar": {
              "outlinewidth": 0,
              "ticks": ""
             }
            },
            "type": "scatter3d"
           }
          ],
          "scattercarpet": [
           {
            "marker": {
             "colorbar": {
              "outlinewidth": 0,
              "ticks": ""
             }
            },
            "type": "scattercarpet"
           }
          ],
          "scattergeo": [
           {
            "marker": {
             "colorbar": {
              "outlinewidth": 0,
              "ticks": ""
             }
            },
            "type": "scattergeo"
           }
          ],
          "scattergl": [
           {
            "marker": {
             "colorbar": {
              "outlinewidth": 0,
              "ticks": ""
             }
            },
            "type": "scattergl"
           }
          ],
          "scattermap": [
           {
            "marker": {
             "colorbar": {
              "outlinewidth": 0,
              "ticks": ""
             }
            },
            "type": "scattermap"
           }
          ],
          "scattermapbox": [
           {
            "marker": {
             "colorbar": {
              "outlinewidth": 0,
              "ticks": ""
             }
            },
            "type": "scattermapbox"
           }
          ],
          "scatterpolar": [
           {
            "marker": {
             "colorbar": {
              "outlinewidth": 0,
              "ticks": ""
             }
            },
            "type": "scatterpolar"
           }
          ],
          "scatterpolargl": [
           {
            "marker": {
             "colorbar": {
              "outlinewidth": 0,
              "ticks": ""
             }
            },
            "type": "scatterpolargl"
           }
          ],
          "scatterternary": [
           {
            "marker": {
             "colorbar": {
              "outlinewidth": 0,
              "ticks": ""
             }
            },
            "type": "scatterternary"
           }
          ],
          "surface": [
           {
            "colorbar": {
             "outlinewidth": 0,
             "ticks": ""
            },
            "colorscale": [
             [
              0,
              "#0d0887"
             ],
             [
              0.1111111111111111,
              "#46039f"
             ],
             [
              0.2222222222222222,
              "#7201a8"
             ],
             [
              0.3333333333333333,
              "#9c179e"
             ],
             [
              0.4444444444444444,
              "#bd3786"
             ],
             [
              0.5555555555555556,
              "#d8576b"
             ],
             [
              0.6666666666666666,
              "#ed7953"
             ],
             [
              0.7777777777777778,
              "#fb9f3a"
             ],
             [
              0.8888888888888888,
              "#fdca26"
             ],
             [
              1,
              "#f0f921"
             ]
            ],
            "type": "surface"
           }
          ],
          "table": [
           {
            "cells": {
             "fill": {
              "color": "#EBF0F8"
             },
             "line": {
              "color": "white"
             }
            },
            "header": {
             "fill": {
              "color": "#C8D4E3"
             },
             "line": {
              "color": "white"
             }
            },
            "type": "table"
           }
          ]
         },
         "layout": {
          "annotationdefaults": {
           "arrowcolor": "#2a3f5f",
           "arrowhead": 0,
           "arrowwidth": 1
          },
          "autotypenumbers": "strict",
          "coloraxis": {
           "colorbar": {
            "outlinewidth": 0,
            "ticks": ""
           }
          },
          "colorscale": {
           "diverging": [
            [
             0,
             "#8e0152"
            ],
            [
             0.1,
             "#c51b7d"
            ],
            [
             0.2,
             "#de77ae"
            ],
            [
             0.3,
             "#f1b6da"
            ],
            [
             0.4,
             "#fde0ef"
            ],
            [
             0.5,
             "#f7f7f7"
            ],
            [
             0.6,
             "#e6f5d0"
            ],
            [
             0.7,
             "#b8e186"
            ],
            [
             0.8,
             "#7fbc41"
            ],
            [
             0.9,
             "#4d9221"
            ],
            [
             1,
             "#276419"
            ]
           ],
           "sequential": [
            [
             0,
             "#0d0887"
            ],
            [
             0.1111111111111111,
             "#46039f"
            ],
            [
             0.2222222222222222,
             "#7201a8"
            ],
            [
             0.3333333333333333,
             "#9c179e"
            ],
            [
             0.4444444444444444,
             "#bd3786"
            ],
            [
             0.5555555555555556,
             "#d8576b"
            ],
            [
             0.6666666666666666,
             "#ed7953"
            ],
            [
             0.7777777777777778,
             "#fb9f3a"
            ],
            [
             0.8888888888888888,
             "#fdca26"
            ],
            [
             1,
             "#f0f921"
            ]
           ],
           "sequentialminus": [
            [
             0,
             "#0d0887"
            ],
            [
             0.1111111111111111,
             "#46039f"
            ],
            [
             0.2222222222222222,
             "#7201a8"
            ],
            [
             0.3333333333333333,
             "#9c179e"
            ],
            [
             0.4444444444444444,
             "#bd3786"
            ],
            [
             0.5555555555555556,
             "#d8576b"
            ],
            [
             0.6666666666666666,
             "#ed7953"
            ],
            [
             0.7777777777777778,
             "#fb9f3a"
            ],
            [
             0.8888888888888888,
             "#fdca26"
            ],
            [
             1,
             "#f0f921"
            ]
           ]
          },
          "colorway": [
           "#636efa",
           "#EF553B",
           "#00cc96",
           "#ab63fa",
           "#FFA15A",
           "#19d3f3",
           "#FF6692",
           "#B6E880",
           "#FF97FF",
           "#FECB52"
          ],
          "font": {
           "color": "#2a3f5f"
          },
          "geo": {
           "bgcolor": "white",
           "lakecolor": "white",
           "landcolor": "#E5ECF6",
           "showlakes": true,
           "showland": true,
           "subunitcolor": "white"
          },
          "hoverlabel": {
           "align": "left"
          },
          "hovermode": "closest",
          "mapbox": {
           "style": "light"
          },
          "paper_bgcolor": "white",
          "plot_bgcolor": "#E5ECF6",
          "polar": {
           "angularaxis": {
            "gridcolor": "white",
            "linecolor": "white",
            "ticks": ""
           },
           "bgcolor": "#E5ECF6",
           "radialaxis": {
            "gridcolor": "white",
            "linecolor": "white",
            "ticks": ""
           }
          },
          "scene": {
           "xaxis": {
            "backgroundcolor": "#E5ECF6",
            "gridcolor": "white",
            "gridwidth": 2,
            "linecolor": "white",
            "showbackground": true,
            "ticks": "",
            "zerolinecolor": "white"
           },
           "yaxis": {
            "backgroundcolor": "#E5ECF6",
            "gridcolor": "white",
            "gridwidth": 2,
            "linecolor": "white",
            "showbackground": true,
            "ticks": "",
            "zerolinecolor": "white"
           },
           "zaxis": {
            "backgroundcolor": "#E5ECF6",
            "gridcolor": "white",
            "gridwidth": 2,
            "linecolor": "white",
            "showbackground": true,
            "ticks": "",
            "zerolinecolor": "white"
           }
          },
          "shapedefaults": {
           "line": {
            "color": "#2a3f5f"
           }
          },
          "ternary": {
           "aaxis": {
            "gridcolor": "white",
            "linecolor": "white",
            "ticks": ""
           },
           "baxis": {
            "gridcolor": "white",
            "linecolor": "white",
            "ticks": ""
           },
           "bgcolor": "#E5ECF6",
           "caxis": {
            "gridcolor": "white",
            "linecolor": "white",
            "ticks": ""
           }
          },
          "title": {
           "x": 0.05
          },
          "xaxis": {
           "automargin": true,
           "gridcolor": "white",
           "linecolor": "white",
           "ticks": "",
           "title": {
            "standoff": 15
           },
           "zerolinecolor": "white",
           "zerolinewidth": 2
          },
          "yaxis": {
           "automargin": true,
           "gridcolor": "white",
           "linecolor": "white",
           "ticks": "",
           "title": {
            "standoff": 15
           },
           "zerolinecolor": "white",
           "zerolinewidth": 2
          }
         }
        },
        "title": {
         "text": "Top 10 IRIS les plus denses en étudiants - Rennes"
        },
        "updatemenus": [
         {
          "buttons": [
           {
            "args": [
             {
              "marker.color": {
               "bdata": "8fPDckL5zD9JFEbgAvjGP+KCz/l3s8Y/qNkjGUpOsj9vaZszPmGjP4LwrMt0IqM/kO97XdMImT/8XyraxcuYP6VKlmQFkpg/Sr62OJX2kz8=",
               "dtype": "f8"
              },
              "y": [
               [
                0.22635679820805835,
                0.17944370222918085,
                0.17735194871695287,
                0.07150710214396006,
                0.03785128002137383,
                0.037372255194413576,
                0.024447729664629103,
                0.024214831772582088,
                0.02399452616152566,
                0.019495326601541664
               ]
              ]
             },
             {
              "coloraxis": {
               "cmax": 0.22635679820805835,
               "cmin": 0.019495326601541664,
               "colorbar": {
                "title": "Étudiants/m²"
               },
               "colorscale": "YlOrRd"
              }
             }
            ],
            "label": "Densité",
            "method": "update"
           },
           {
            "args": [
             {
              "marker.color": {
               "bdata": "GOYAAJ1kAABmfgMAu44BAHAAAQBFFgAAMS0AAJ9CAAAqFAAAFA8AAA==",
               "dtype": "i4"
              },
              "y": [
               [
                58904,
                25757,
                228966,
                102075,
                65648,
                5701,
                11569,
                17055,
                5162,
                3860
               ]
              ]
             },
             {
              "coloraxis": {
               "cmax": 228966,
               "cmin": 3860,
               "colorbar": {
                "title": "Nombre d'étudiants"
               },
               "colorscale": "YlOrRd"
              }
             }
            ],
            "label": "Nombre d'étudiants",
            "method": "update"
           }
          ],
          "showactive": true,
          "type": "buttons",
          "x": 0,
          "y": 1.05
         }
        ],
        "xaxis": {
         "anchor": "y",
         "domain": [
          0,
          1
         ],
         "title": {
          "text": "Quartier (IRIS)"
         }
        },
        "yaxis": {
         "anchor": "x",
         "domain": [
          0,
          1
         ],
         "title": {
          "text": "Étudiants / m²"
         }
        }
       }
      }
     },
     "metadata": {},
     "output_type": "display_data"
    }
   ],
   "source": [
    "colorscale = \"YlOrRd\"  # jaune = faible, rouge = élevé\n",
    "\n",
    "# Top 10 IRIS par densité (par défaut)\n",
    "top10_iris_rennes = iris_rennes_stats.sort_values(by='students_per_m2', ascending=False).head(10)\n",
    "\n",
    "fig = px.bar(\n",
    "    top10_iris_rennes,\n",
    "    x='LIB_IRIS',\n",
    "    y='students_per_m2',\n",
    "    hover_data=['nb_etudiants','area_m2','nb_etabs'],\n",
    "    color='students_per_m2',\n",
    "    color_continuous_scale=colorscale,\n",
    "    title=\"Top 10 IRIS les plus denses en étudiants - Rennes\"\n",
    ")\n",
    "\n",
    "# Forcer l'usage d'une coloraxis pour pouvoir la mettre à jour\n",
    "fig.update_traces(marker_color=top10_iris_rennes['students_per_m2'], marker_colorscale=colorscale, marker_showscale=True)\n",
    "\n",
    "# Boutons interactifs : densité vs nombre d'étudiants\n",
    "fig.update_layout(\n",
    "    updatemenus=[\n",
    "        dict(\n",
    "            type=\"buttons\",\n",
    "            x=0.0, y=1.05, showactive=True,\n",
    "            buttons=[\n",
    "                dict(\n",
    "                    label=\"Densité\",\n",
    "                    method=\"update\",\n",
    "                    args=[\n",
    "                        {\"y\": [top10_iris_rennes['students_per_m2']],\n",
    "                         \"marker.color\": top10_iris_rennes['students_per_m2']},\n",
    "                        {\"coloraxis\": dict(cmin=top10_iris_rennes['students_per_m2'].min(),\n",
    "                                           cmax=top10_iris_rennes['students_per_m2'].max(),\n",
    "                                           colorscale=colorscale,\n",
    "                                           colorbar=dict(title=\"Étudiants/m²\"))}\n",
    "                    ]\n",
    "                ),\n",
    "                dict(\n",
    "                    label=\"Nombre d'étudiants\",\n",
    "                    method=\"update\",\n",
    "                    args=[\n",
    "                        {\"y\": [top10_iris_rennes['nb_etudiants']],\n",
    "                         \"marker.color\": top10_iris_rennes['nb_etudiants']},\n",
    "                        {\"coloraxis\": dict(cmin=top10_iris_rennes['nb_etudiants'].min(),\n",
    "                                           cmax=top10_iris_rennes['nb_etudiants'].max(),\n",
    "                                           colorscale=colorscale,\n",
    "                                           colorbar=dict(title=\"Nombre d'étudiants\"))}\n",
    "                    ]\n",
    "                ),\n",
    "            ]\n",
    "        )\n",
    "    ]\n",
    ")\n",
    "\n",
    "fig.update_layout(xaxis_title=\"Quartier (IRIS)\", yaxis_title=\"Étudiants / m²\")\n",
    "fig.show()\n"
   ]
  },
  {
   "cell_type": "code",
   "execution_count": 123,
   "id": "029247a2",
   "metadata": {},
   "outputs": [
    {
     "name": "stdout",
     "output_type": "stream",
     "text": [
      "Bordeaux contient 95 IRIS\n"
     ]
    },
    {
     "data": {
      "text/html": [
       "<div>\n",
       "<style scoped>\n",
       "    .dataframe tbody tr th:only-of-type {\n",
       "        vertical-align: middle;\n",
       "    }\n",
       "\n",
       "    .dataframe tbody tr th {\n",
       "        vertical-align: top;\n",
       "    }\n",
       "\n",
       "    .dataframe thead th {\n",
       "        text-align: right;\n",
       "    }\n",
       "</style>\n",
       "<table border=\"1\" class=\"dataframe\">\n",
       "  <thead>\n",
       "    <tr style=\"text-align: right;\">\n",
       "      <th></th>\n",
       "      <th>cleabs</th>\n",
       "      <th>code_insee</th>\n",
       "      <th>nom_commune</th>\n",
       "      <th>iris</th>\n",
       "      <th>code_iris</th>\n",
       "      <th>nom_iris</th>\n",
       "      <th>type_iris</th>\n",
       "      <th>geometry</th>\n",
       "      <th>LIB_IRIS</th>\n",
       "      <th>LIBCOM</th>\n",
       "    </tr>\n",
       "  </thead>\n",
       "  <tbody>\n",
       "    <tr>\n",
       "      <th>20</th>\n",
       "      <td>IRIS____0000000330630101</td>\n",
       "      <td>33063</td>\n",
       "      <td>Bordeaux</td>\n",
       "      <td>0101</td>\n",
       "      <td>330630101</td>\n",
       "      <td>Bordeaux</td>\n",
       "      <td>A</td>\n",
       "      <td>MULTIPOLYGON (((417619.6 6426179.6, 417619.3 6...</td>\n",
       "      <td>Le Lac 1</td>\n",
       "      <td>Bordeaux</td>\n",
       "    </tr>\n",
       "    <tr>\n",
       "      <th>405</th>\n",
       "      <td>IRIS____0000000330630201</td>\n",
       "      <td>33063</td>\n",
       "      <td>Bordeaux</td>\n",
       "      <td>0201</td>\n",
       "      <td>330630201</td>\n",
       "      <td>Bordeaux</td>\n",
       "      <td>A</td>\n",
       "      <td>MULTIPOLYGON (((418606.2 6425087.8, 418382.6 6...</td>\n",
       "      <td>Bacalan 1</td>\n",
       "      <td>Bordeaux</td>\n",
       "    </tr>\n",
       "    <tr>\n",
       "      <th>639</th>\n",
       "      <td>IRIS____0000000330631002</td>\n",
       "      <td>33063</td>\n",
       "      <td>Bordeaux</td>\n",
       "      <td>1002</td>\n",
       "      <td>330631002</td>\n",
       "      <td>Bordeaux</td>\n",
       "      <td>A</td>\n",
       "      <td>MULTIPOLYGON (((416987.2 6422238.3, 417087.3 6...</td>\n",
       "      <td>Saint-Bruno-Saint-Victor 2</td>\n",
       "      <td>Bordeaux</td>\n",
       "    </tr>\n",
       "    <tr>\n",
       "      <th>2167</th>\n",
       "      <td>IRIS____0000000330130101</td>\n",
       "      <td>33013</td>\n",
       "      <td>Artigues-près-Bordeaux</td>\n",
       "      <td>0101</td>\n",
       "      <td>330130101</td>\n",
       "      <td>Artigues-près-Bordeaux</td>\n",
       "      <td>H</td>\n",
       "      <td>MULTIPOLYGON (((423289 6425075.8, 423550.3 642...</td>\n",
       "      <td>Nord</td>\n",
       "      <td>Artigues-près-Bordeaux</td>\n",
       "    </tr>\n",
       "    <tr>\n",
       "      <th>5098</th>\n",
       "      <td>IRIS____0000000330630103</td>\n",
       "      <td>33063</td>\n",
       "      <td>Bordeaux</td>\n",
       "      <td>0103</td>\n",
       "      <td>330630103</td>\n",
       "      <td>Bordeaux</td>\n",
       "      <td>H</td>\n",
       "      <td>MULTIPOLYGON (((417647.5 6425295, 417619.6 642...</td>\n",
       "      <td>Le Lac 3</td>\n",
       "      <td>Bordeaux</td>\n",
       "    </tr>\n",
       "  </tbody>\n",
       "</table>\n",
       "</div>"
      ],
      "text/plain": [
       "                        cleabs code_insee             nom_commune  iris  \\\n",
       "20    IRIS____0000000330630101      33063                Bordeaux  0101   \n",
       "405   IRIS____0000000330630201      33063                Bordeaux  0201   \n",
       "639   IRIS____0000000330631002      33063                Bordeaux  1002   \n",
       "2167  IRIS____0000000330130101      33013  Artigues-près-Bordeaux  0101   \n",
       "5098  IRIS____0000000330630103      33063                Bordeaux  0103   \n",
       "\n",
       "      code_iris                nom_iris type_iris  \\\n",
       "20    330630101                Bordeaux         A   \n",
       "405   330630201                Bordeaux         A   \n",
       "639   330631002                Bordeaux         A   \n",
       "2167  330130101  Artigues-près-Bordeaux         H   \n",
       "5098  330630103                Bordeaux         H   \n",
       "\n",
       "                                               geometry  \\\n",
       "20    MULTIPOLYGON (((417619.6 6426179.6, 417619.3 6...   \n",
       "405   MULTIPOLYGON (((418606.2 6425087.8, 418382.6 6...   \n",
       "639   MULTIPOLYGON (((416987.2 6422238.3, 417087.3 6...   \n",
       "2167  MULTIPOLYGON (((423289 6425075.8, 423550.3 642...   \n",
       "5098  MULTIPOLYGON (((417647.5 6425295, 417619.6 642...   \n",
       "\n",
       "                        LIB_IRIS                  LIBCOM  \n",
       "20                      Le Lac 1                Bordeaux  \n",
       "405                    Bacalan 1                Bordeaux  \n",
       "639   Saint-Bruno-Saint-Victor 2                Bordeaux  \n",
       "2167                        Nord  Artigues-près-Bordeaux  \n",
       "5098                    Le Lac 3                Bordeaux  "
      ]
     },
     "execution_count": 123,
     "metadata": {},
     "output_type": "execute_result"
    }
   ],
   "source": [
    "# Filtrer\n",
    "iris_bordeaux = iris[iris['nom_commune'].str.contains(\"Bordeaux\", case=False, na=False)].copy()\n",
    "\n",
    "print(f\"Bordeaux contient\", len(iris_bordeaux), \"IRIS\")\n",
    "\n",
    "iris_bordeaux.head()"
   ]
  },
  {
   "cell_type": "code",
   "execution_count": 124,
   "id": "6271fad9",
   "metadata": {},
   "outputs": [],
   "source": [
    "# On met tout dans la même CRS projetée (ex: EPSG:2154 ou utiliser EPSG:4326 par la suite)\n",
    "iris_bordeaux = iris_bordeaux.to_crs(epsg=4326)\n",
    "df_bordeaux = df_bordeaux.to_crs(epsg=4326)\n"
   ]
  },
  {
   "cell_type": "code",
   "execution_count": 125,
   "id": "d250634d",
   "metadata": {},
   "outputs": [
    {
     "data": {
      "text/html": [
       "<div>\n",
       "<style scoped>\n",
       "    .dataframe tbody tr th:only-of-type {\n",
       "        vertical-align: middle;\n",
       "    }\n",
       "\n",
       "    .dataframe tbody tr th {\n",
       "        vertical-align: top;\n",
       "    }\n",
       "\n",
       "    .dataframe thead th {\n",
       "        text-align: right;\n",
       "    }\n",
       "</style>\n",
       "<table border=\"1\" class=\"dataframe\">\n",
       "  <thead>\n",
       "    <tr style=\"text-align: right;\">\n",
       "      <th></th>\n",
       "      <th>Rentrée universitaire</th>\n",
       "      <th>catégorie d'établissement</th>\n",
       "      <th>secteur d'établissement</th>\n",
       "      <th>code UAI de l'établissement</th>\n",
       "      <th>sigle de l'établissement</th>\n",
       "      <th>libellé de l'établissement</th>\n",
       "      <th>libellé complémentaire de l'établissement</th>\n",
       "      <th>Code UAI de la composante</th>\n",
       "      <th>sigle de la composante</th>\n",
       "      <th>libellé de la composante</th>\n",
       "      <th>...</th>\n",
       "      <th>index_right</th>\n",
       "      <th>cleabs</th>\n",
       "      <th>code_insee</th>\n",
       "      <th>nom_commune</th>\n",
       "      <th>iris</th>\n",
       "      <th>code_iris</th>\n",
       "      <th>nom_iris</th>\n",
       "      <th>type_iris</th>\n",
       "      <th>LIB_IRIS</th>\n",
       "      <th>LIBCOM</th>\n",
       "    </tr>\n",
       "  </thead>\n",
       "  <tbody>\n",
       "    <tr>\n",
       "      <th>25</th>\n",
       "      <td>2023</td>\n",
       "      <td>Écoles d'ingénieurs</td>\n",
       "      <td>Privé</td>\n",
       "      <td>0922455U</td>\n",
       "      <td>CESI EI NANTER</td>\n",
       "      <td>CESI ECOLE INGENIEURS NANTERRE</td>\n",
       "      <td>CESI PARIS</td>\n",
       "      <td>0332984P</td>\n",
       "      <td>CESI EI BDEAUX</td>\n",
       "      <td>CESI ECOLE INGENIEURS BORDEAUX</td>\n",
       "      <td>...</td>\n",
       "      <td>10993</td>\n",
       "      <td>IRIS____0000000330630305</td>\n",
       "      <td>33063</td>\n",
       "      <td>Bordeaux</td>\n",
       "      <td>0305</td>\n",
       "      <td>330630305</td>\n",
       "      <td>Bordeaux</td>\n",
       "      <td>H</td>\n",
       "      <td>Chartrons-Grand Parc 5</td>\n",
       "      <td>Bordeaux</td>\n",
       "    </tr>\n",
       "    <tr>\n",
       "      <th>110</th>\n",
       "      <td>2023</td>\n",
       "      <td>Lycées</td>\n",
       "      <td>Public</td>\n",
       "      <td>0330023W</td>\n",
       "      <td>LGT</td>\n",
       "      <td>LYCEE GENERAL ET TECHNOLOGIQUE</td>\n",
       "      <td>CAMILLE JULLIAN</td>\n",
       "      <td>0330023W</td>\n",
       "      <td>LGT</td>\n",
       "      <td>LYCEE GENERAL ET TECHNOLOGIQUE</td>\n",
       "      <td>...</td>\n",
       "      <td>12601</td>\n",
       "      <td>IRIS____0000000330630604</td>\n",
       "      <td>33063</td>\n",
       "      <td>Bordeaux</td>\n",
       "      <td>0604</td>\n",
       "      <td>330630604</td>\n",
       "      <td>Bordeaux</td>\n",
       "      <td>H</td>\n",
       "      <td>Saint-Seurin-Fondaudège 4</td>\n",
       "      <td>Bordeaux</td>\n",
       "    </tr>\n",
       "    <tr>\n",
       "      <th>367</th>\n",
       "      <td>2022</td>\n",
       "      <td>Lycées</td>\n",
       "      <td>Public</td>\n",
       "      <td>0332468D</td>\n",
       "      <td>LT LYC METIER</td>\n",
       "      <td>LT LYCEE DES METIERS</td>\n",
       "      <td>BIOLOGIE ET CHIMIE ST LOUIS</td>\n",
       "      <td>0332468D</td>\n",
       "      <td>LT LYC METIER</td>\n",
       "      <td>LT LYCEE DES METIERS</td>\n",
       "      <td>...</td>\n",
       "      <td>11089</td>\n",
       "      <td>IRIS____0000000330630313</td>\n",
       "      <td>33063</td>\n",
       "      <td>Bordeaux</td>\n",
       "      <td>0313</td>\n",
       "      <td>330630313</td>\n",
       "      <td>Bordeaux</td>\n",
       "      <td>H</td>\n",
       "      <td>Chartrons-Grand Parc 13</td>\n",
       "      <td>Bordeaux</td>\n",
       "    </tr>\n",
       "    <tr>\n",
       "      <th>565</th>\n",
       "      <td>2023</td>\n",
       "      <td>Écoles de commerce, gestion et vente</td>\n",
       "      <td>Privé</td>\n",
       "      <td>0332524P</td>\n",
       "      <td>INSEEC BORDX</td>\n",
       "      <td>INST HTES ETUDES ECO COM BORDX</td>\n",
       "      <td>GROUPE OMNES EDUCATION</td>\n",
       "      <td>0332524P</td>\n",
       "      <td>INSEEC BORDX</td>\n",
       "      <td>INST HTES ETUDES ECO COM BORDX</td>\n",
       "      <td>...</td>\n",
       "      <td>10331</td>\n",
       "      <td>IRIS____0000000330630301</td>\n",
       "      <td>33063</td>\n",
       "      <td>Bordeaux</td>\n",
       "      <td>0301</td>\n",
       "      <td>330630301</td>\n",
       "      <td>Bordeaux</td>\n",
       "      <td>H</td>\n",
       "      <td>Chartrons-Grand Parc 1</td>\n",
       "      <td>Bordeaux</td>\n",
       "    </tr>\n",
       "    <tr>\n",
       "      <th>567</th>\n",
       "      <td>2023</td>\n",
       "      <td>Écoles de commerce, gestion et vente</td>\n",
       "      <td>Privé</td>\n",
       "      <td>0332818J</td>\n",
       "      <td>ECE BORDEAUX</td>\n",
       "      <td>ECOLE COMMERCE EUROP BORDEAUX</td>\n",
       "      <td>GROUPE OMNES EDUCATION</td>\n",
       "      <td>0332818J</td>\n",
       "      <td>ECE BORDEAUX</td>\n",
       "      <td>ECOLE COMMERCE EUROP BORDEAUX</td>\n",
       "      <td>...</td>\n",
       "      <td>11070</td>\n",
       "      <td>IRIS____0000000330630309</td>\n",
       "      <td>33063</td>\n",
       "      <td>Bordeaux</td>\n",
       "      <td>0309</td>\n",
       "      <td>330630309</td>\n",
       "      <td>Bordeaux</td>\n",
       "      <td>H</td>\n",
       "      <td>Chartrons-Grand Parc 9</td>\n",
       "      <td>Bordeaux</td>\n",
       "    </tr>\n",
       "  </tbody>\n",
       "</table>\n",
       "<p>5 rows × 40 columns</p>\n",
       "</div>"
      ],
      "text/plain": [
       "     Rentrée universitaire             catégorie d'établissement  \\\n",
       "25                    2023                   Écoles d'ingénieurs   \n",
       "110                   2023                                Lycées   \n",
       "367                   2022                                Lycées   \n",
       "565                   2023  Écoles de commerce, gestion et vente   \n",
       "567                   2023  Écoles de commerce, gestion et vente   \n",
       "\n",
       "    secteur d'établissement code UAI de l'établissement  \\\n",
       "25                    Privé                    0922455U   \n",
       "110                  Public                    0330023W   \n",
       "367                  Public                    0332468D   \n",
       "565                   Privé                    0332524P   \n",
       "567                   Privé                    0332818J   \n",
       "\n",
       "    sigle de l'établissement      libellé de l'établissement  \\\n",
       "25            CESI EI NANTER  CESI ECOLE INGENIEURS NANTERRE   \n",
       "110                      LGT  LYCEE GENERAL ET TECHNOLOGIQUE   \n",
       "367            LT LYC METIER            LT LYCEE DES METIERS   \n",
       "565             INSEEC BORDX  INST HTES ETUDES ECO COM BORDX   \n",
       "567             ECE BORDEAUX   ECOLE COMMERCE EUROP BORDEAUX   \n",
       "\n",
       "    libellé complémentaire de l'établissement Code UAI de la composante  \\\n",
       "25                                 CESI PARIS                  0332984P   \n",
       "110                           CAMILLE JULLIAN                  0330023W   \n",
       "367               BIOLOGIE ET CHIMIE ST LOUIS                  0332468D   \n",
       "565                    GROUPE OMNES EDUCATION                  0332524P   \n",
       "567                    GROUPE OMNES EDUCATION                  0332818J   \n",
       "\n",
       "    sigle de la composante        libellé de la composante  ... index_right  \\\n",
       "25          CESI EI BDEAUX  CESI ECOLE INGENIEURS BORDEAUX  ...       10993   \n",
       "110                    LGT  LYCEE GENERAL ET TECHNOLOGIQUE  ...       12601   \n",
       "367          LT LYC METIER            LT LYCEE DES METIERS  ...       11089   \n",
       "565           INSEEC BORDX  INST HTES ETUDES ECO COM BORDX  ...       10331   \n",
       "567           ECE BORDEAUX   ECOLE COMMERCE EUROP BORDEAUX  ...       11070   \n",
       "\n",
       "                       cleabs code_insee nom_commune  iris  code_iris  \\\n",
       "25   IRIS____0000000330630305      33063    Bordeaux  0305  330630305   \n",
       "110  IRIS____0000000330630604      33063    Bordeaux  0604  330630604   \n",
       "367  IRIS____0000000330630313      33063    Bordeaux  0313  330630313   \n",
       "565  IRIS____0000000330630301      33063    Bordeaux  0301  330630301   \n",
       "567  IRIS____0000000330630309      33063    Bordeaux  0309  330630309   \n",
       "\n",
       "     nom_iris type_iris                   LIB_IRIS    LIBCOM  \n",
       "25   Bordeaux         H     Chartrons-Grand Parc 5  Bordeaux  \n",
       "110  Bordeaux         H  Saint-Seurin-Fondaudège 4  Bordeaux  \n",
       "367  Bordeaux         H    Chartrons-Grand Parc 13  Bordeaux  \n",
       "565  Bordeaux         H     Chartrons-Grand Parc 1  Bordeaux  \n",
       "567  Bordeaux         H     Chartrons-Grand Parc 9  Bordeaux  \n",
       "\n",
       "[5 rows x 40 columns]"
      ]
     },
     "execution_count": 125,
     "metadata": {},
     "output_type": "execute_result"
    }
   ],
   "source": [
    "# spatial join : chaque établissement rattaché à un IRIS\n",
    "etabs_par_iris_bordeaux = gpd.sjoin(df_bordeaux, iris_bordeaux, how=\"inner\", predicate=\"within\")\n",
    "etabs_par_iris_bordeaux.head()"
   ]
  },
  {
   "cell_type": "code",
   "execution_count": 126,
   "id": "71a8155f",
   "metadata": {},
   "outputs": [],
   "source": [
    "iris_bordeaux_stats = iris_bordeaux.copy()\n",
    "\n",
    "# Nombre d'établissements\n",
    "iris_bordeaux_stats = iris_bordeaux_stats.merge(\n",
    "    etabs_par_iris_bordeaux.groupby('LIB_IRIS').size().reset_index(name='nb_etabs'),\n",
    "    on='LIB_IRIS', how='left'\n",
    ").fillna({'nb_etabs':0})\n",
    "iris_bordeaux_stats['nb_etabs'] = iris_bordeaux_stats['nb_etabs'].astype(int)\n",
    "\n",
    "# Nombre total d'étudiants\n",
    "iris_bordeaux_stats = iris_bordeaux_stats.merge(\n",
    "    etabs_par_iris_bordeaux.groupby('LIB_IRIS')['nombre total d’étudiants inscrits hors doubles inscriptions université/CPGE'].sum().reset_index(name='nb_etudiants'),\n",
    "    on='LIB_IRIS', how='left'\n",
    ").fillna({'nb_etudiants':0})\n",
    "iris_bordeaux_stats['nb_etudiants'] = iris_bordeaux_stats['nb_etudiants'].astype(int)\n",
    "\n",
    "iris_bordeaux_stats = iris_bordeaux_stats.to_crs(epsg=2154)  # crs projetée pour calculer surface en m²\n",
    "iris_bordeaux_stats['area_m2'] = iris_bordeaux_stats.geometry.area\n",
    "iris_bordeaux_stats['etabs_per_m2'] = iris_bordeaux_stats['nb_etabs'] / iris_bordeaux_stats['area_m2']\n",
    "iris_bordeaux_stats['students_per_m2'] = iris_bordeaux_stats['nb_etudiants'] / iris_bordeaux_stats['area_m2']\n",
    "\n"
   ]
  },
  {
   "cell_type": "code",
   "execution_count": 127,
   "id": "5e4be131",
   "metadata": {},
   "outputs": [
    {
     "name": "stderr",
     "output_type": "stream",
     "text": [
      "/var/folders/v0/_lflz19n6hv63x17d4_zjfjm0000gn/T/ipykernel_97138/30339773.py:7: DeprecationWarning:\n",
      "\n",
      "*choropleth_mapbox* is deprecated! Use *choropleth_map* instead. Learn more at: https://plotly.com/python/mapbox-to-maplibre/\n",
      "\n"
     ]
    },
    {
     "data": {
      "application/vnd.plotly.v1+json": {
       "config": {
        "plotlyServerURL": "https://plot.ly"
       },
       "data": [
        {
         "coloraxis": "coloraxis",
         "customdata": {
          "bdata": "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",
          "dtype": "f8",
          "shape": "95, 3"
         },
         "geojson": {
          "bbox": [
           -0.638510357982969,
           44.73692092243416,
           2.582901348117576,
           49.71412693052892
          ],
          "features": [
           {
            "bbox": [
             -0.5803263384874557,
             44.87720306180839,
             -0.5365218875433395,
             44.91669419952548
            ],
            "geometry": {
             "coordinates": [
              [
               [
                [
                 -0.5769228992079407,
                 44.877224793628066
                ],
                [
                 -0.576931396112544,
                 44.87729842360309
                ],
                [
                 -0.5803263384874557,
                 44.909006573562415
                ],
                [
                 -0.5760955833726286,
                 44.908632784540586
                ],
                [
                 -0.5710823247172178,
                 44.90941329855521
                ],
                [
                 -0.5478704507852256,
                 44.91669419952548
                ],
                [
                 -0.5389888650398077,
                 44.90162288302589
                ],
                [
                 -0.5365218875433395,
                 44.894133682256076
                ],
                [
                 -0.5493699418853037,
                 44.89375518581044
                ],
                [
                 -0.552300922996238,
                 44.88794205631411
                ],
                [
                 -0.5560108987163637,
                 44.883128614299174
                ],
                [
                 -0.562605166847597,
                 44.88070905989533
                ],
                [
                 -0.5638463490035734,
                 44.87745892355937
                ],
                [
                 -0.5686113425184082,
                 44.87720306180839
                ],
                [
                 -0.5744237291544534,
                 44.878286792606296
                ],
                [
                 -0.5769228992079407,
                 44.877224793628066
                ]
               ]
              ]
             ],
             "type": "MultiPolygon"
            },
            "id": "0",
            "properties": {
             "LIBCOM": "Bordeaux",
             "LIB_IRIS": "Le Lac 1",
             "area_m2": 9483183.709999254,
             "cleabs": "IRIS____0000000330630101",
             "code_insee": "33063",
             "code_iris": "330630101",
             "etabs_per_m2": 0,
             "iris": "0101",
             "nb_etabs": 0,
             "nb_etudiants": 0,
             "nom_commune": "Bordeaux",
             "nom_iris": "Bordeaux",
             "students_per_m2": 0,
             "type_iris": "A"
            },
            "type": "Feature"
           },
           {
            "bbox": [
             -0.5667903502820755,
             44.86176877807041,
             -0.5352556271736628,
             44.894133682256076
            ],
            "geometry": {
             "coordinates": [
              [
               [
                [
                 -0.5638188369957969,
                 44.86780643060395
                ],
                [
                 -0.5667903502820755,
                 44.86997311213664
                ],
                [
                 -0.5638463490035734,
                 44.87745892355937
                ],
                [
                 -0.562605166847597,
                 44.88070905989533
                ],
                [
                 -0.5560108987163637,
                 44.883128614299174
                ],
                [
                 -0.552300922996238,
                 44.88794205631411
                ],
                [
                 -0.5493699418853037,
                 44.89375518581044
                ],
                [
                 -0.5365218875433395,
                 44.894133682256076
                ],
                [
                 -0.5352556271736628,
                 44.88911079734254
                ],
                [
                 -0.5364124080142578,
                 44.88037150393491
                ],
                [
                 -0.5423661126591702,
                 44.881551538758906
                ],
                [
                 -0.5426362262874116,
                 44.88079037388542
                ],
                [
                 -0.550894512301984,
                 44.882387557852475
                ],
                [
                 -0.553216174269039,
                 44.87563135601844
                ],
                [
                 -0.554936946139972,
                 44.86800121325662
                ],
                [
                 -0.5534117385591426,
                 44.86601053472584
                ],
                [
                 -0.5494833129205668,
                 44.86471139708607
                ],
                [
                 -0.5513064228676956,
                 44.86214037844614
                ],
                [
                 -0.5554520122662828,
                 44.86176877807041
                ],
                [
                 -0.5584765818238974,
                 44.864262914490986
                ],
                [
                 -0.5638188369957969,
                 44.86780643060395
                ]
               ]
              ]
             ],
             "type": "MultiPolygon"
            },
            "id": "1",
            "properties": {
             "LIBCOM": "Bordeaux",
             "LIB_IRIS": "Bacalan 1",
             "area_m2": 3663155.304998307,
             "cleabs": "IRIS____0000000330630201",
             "code_insee": "33063",
             "code_iris": "330630201",
             "etabs_per_m2": 0.000024295994188005396,
             "iris": "0201",
             "nb_etabs": 89,
             "nb_etudiants": 12156,
             "nom_commune": "Bordeaux",
             "nom_iris": "Bordeaux",
             "students_per_m2": 0.003318450621903299,
             "type_iris": "A"
            },
            "type": "Feature"
           },
           {
            "bbox": [
             -0.5906981414053578,
             44.83535347579231,
             -0.5810923130805493,
             44.84151824849347
            ],
            "geometry": {
             "coordinates": [
              [
               [
                [
                 -0.5826589421907177,
                 44.84151824849347
                ],
                [
                 -0.5810923130805493,
                 44.83683724185288
                ],
                [
                 -0.5872209644972688,
                 44.83629038468303
                ],
                [
                 -0.5888520614733332,
                 44.83535347579231
                ],
                [
                 -0.5906981414053578,
                 44.83827419027629
                ],
                [
                 -0.5874337636439018,
                 44.83932345212323
                ],
                [
                 -0.5851071091418608,
                 44.841331889730306
                ],
                [
                 -0.5830484779311027,
                 44.84148854094052
                ],
                [
                 -0.5826589421907177,
                 44.84151824849347
                ]
               ]
              ]
             ],
             "type": "MultiPolygon"
            },
            "id": "2",
            "properties": {
             "LIBCOM": "Bordeaux",
             "LIB_IRIS": "Saint-Bruno-Saint-Victor 2",
             "area_m2": 287882.8899994815,
             "cleabs": "IRIS____0000000330631002",
             "code_insee": "33063",
             "code_iris": "330631002",
             "etabs_per_m2": 0.00002084180827839684,
             "iris": "1002",
             "nb_etabs": 6,
             "nb_etudiants": 254,
             "nom_commune": "Bordeaux",
             "nom_iris": "Bordeaux",
             "students_per_m2": 0.0008823032171187995,
             "type_iris": "A"
            },
            "type": "Feature"
           },
           {
            "bbox": [
             -0.5053643977774258,
             44.8534391341209,
             -0.472892595214233,
             44.876812181423105
            ],
            "geometry": {
             "coordinates": [
              [
               [
                [
                 -0.5045835045640414,
                 44.869584913711215
                ],
                [
                 -0.501557501635822,
                 44.87416133612272
                ],
                [
                 -0.49834186437205447,
                 44.8740779986205
                ],
                [
                 -0.4967733267454615,
                 44.876812181423105
                ],
                [
                 -0.48310108419308345,
                 44.87271259533202
                ],
                [
                 -0.4768381058101526,
                 44.86936632060606
                ],
                [
                 -0.472892595214233,
                 44.86551102601178
                ],
                [
                 -0.4858788840864229,
                 44.862669630703195
                ],
                [
                 -0.4909900502938847,
                 44.860601957908486
                ],
                [
                 -0.4955429421835963,
                 44.85736832933838
                ],
                [
                 -0.5053643977774258,
                 44.8534391341209
                ],
                [
                 -0.5053132311995308,
                 44.85594705233946
                ],
                [
                 -0.5039810511866227,
                 44.86342783802568
                ],
                [
                 -0.5047389408972016,
                 44.86825880593976
                ],
                [
                 -0.5045835045640414,
                 44.869584913711215
                ]
               ]
              ]
             ],
             "type": "MultiPolygon"
            },
            "id": "3",
            "properties": {
             "LIBCOM": "Artigues-près-Bordeaux",
             "LIB_IRIS": "Nord",
             "area_m2": 3425325.5250007575,
             "cleabs": "IRIS____0000000330130101",
             "code_insee": "33013",
             "code_iris": "330130101",
             "etabs_per_m2": 0,
             "iris": "0101",
             "nb_etabs": 0,
             "nb_etudiants": 0,
             "nom_commune": "Artigues-près-Bordeaux",
             "nom_iris": "Artigues-près-Bordeaux",
             "students_per_m2": 0,
             "type_iris": "H"
            },
            "type": "Feature"
           },
           {
            "bbox": [
             -0.5769228992079407,
             44.8659934431191,
             -0.5638463490035734,
             44.878286792606296
            ],
            "geometry": {
             "coordinates": [
              [
               [
                [
                 -0.5760628535499416,
                 44.8692799225378
                ],
                [
                 -0.5769228992079407,
                 44.877224793628066
                ],
                [
                 -0.5744237291544534,
                 44.878286792606296
                ],
                [
                 -0.5686113425184082,
                 44.87720306180839
                ],
                [
                 -0.5638463490035734,
                 44.87745892355937
                ],
                [
                 -0.5667903502820755,
                 44.86997311213664
                ],
                [
                 -0.5757140153383001,
                 44.8659934431191
                ],
                [
                 -0.5760628535499416,
                 44.8692799225378
                ]
               ]
              ]
             ],
             "type": "MultiPolygon"
            },
            "id": "4",
            "properties": {
             "LIBCOM": "Bordeaux",
             "LIB_IRIS": "Le Lac 3",
             "area_m2": 915921.8199999896,
             "cleabs": "IRIS____0000000330630103",
             "code_insee": "33063",
             "code_iris": "330630103",
             "etabs_per_m2": 0.000046947238357090883,
             "iris": "0103",
             "nb_etabs": 43,
             "nb_etudiants": 2476,
             "nom_commune": "Bordeaux",
             "nom_iris": "Bordeaux",
             "students_per_m2": 0.0027032874923757447,
             "type_iris": "H"
            },
            "type": "Feature"
           },
           {
            "bbox": [
             -0.5053643977774258,
             44.841517981119004,
             -0.47200357939601245,
             44.86556137735373
            ],
            "geometry": {
             "coordinates": [
              [
               [
                [
                 -0.5015985236681384,
                 44.843277854350376
                ],
                [
                 -0.5031855661451783,
                 44.84798437655641
                ],
                [
                 -0.5044519507072857,
                 44.85095986115314
                ],
                [
                 -0.5053643977774258,
                 44.8534391341209
                ],
                [
                 -0.4955429421835963,
                 44.85736832933838
                ],
                [
                 -0.4909900502938847,
                 44.860601957908486
                ],
                [
                 -0.4858788840864229,
                 44.862669630703195
                ],
                [
                 -0.472892595214233,
                 44.86551102601178
                ],
                [
                 -0.47200357939601245,
                 44.86556137735373
                ],
                [
                 -0.4749141062831357,
                 44.85687903646016
                ],
                [
                 -0.47807413146757255,
                 44.85146107870895
                ],
                [
                 -0.4822863411502729,
                 44.84780069703739
                ],
                [
                 -0.49619264941433716,
                 44.841517981119004
                ],
                [
                 -0.5015985236681384,
                 44.843277854350376
                ]
               ]
              ]
             ],
             "type": "MultiPolygon"
            },
            "id": "5",
            "properties": {
             "LIBCOM": "Artigues-près-Bordeaux",
             "LIB_IRIS": "Sud",
             "area_m2": 3746324.6099967775,
             "cleabs": "IRIS____0000000330130104",
             "code_insee": "33013",
             "code_iris": "330130104",
             "etabs_per_m2": 0,
             "iris": "0104",
             "nb_etabs": 0,
             "nb_etudiants": 0,
             "nom_commune": "Artigues-près-Bordeaux",
             "nom_iris": "Artigues-près-Bordeaux",
             "students_per_m2": 0,
             "type_iris": "H"
            },
            "type": "Feature"
           },
           {
            "bbox": [
             -0.554936946139972,
             44.86471139708607,
             -0.5453090003256975,
             44.87630981168137
            ],
            "geometry": {
             "coordinates": [
              [
               [
                [
                 -0.553216174269039,
                 44.87563135601844
                ],
                [
                 -0.5507722425950052,
                 44.87630981168137
                ],
                [
                 -0.5453090003256975,
                 44.8753840477026
                ],
                [
                 -0.5494833129205668,
                 44.86471139708607
                ],
                [
                 -0.5534117385591426,
                 44.86601053472584
                ],
                [
                 -0.554936946139972,
                 44.86800121325662
                ],
                [
                 -0.553216174269039,
                 44.87563135601844
                ]
               ]
              ]
             ],
             "type": "MultiPolygon"
            },
            "id": "6",
            "properties": {
             "LIBCOM": "Bordeaux",
             "LIB_IRIS": "Bacalan 2",
             "area_m2": 633807.459999882,
             "cleabs": "IRIS____0000000330630202",
             "code_insee": "33063",
             "code_iris": "330630202",
             "etabs_per_m2": 0.000007888831097066814,
             "iris": "0202",
             "nb_etabs": 5,
             "nb_etudiants": 139,
             "nom_commune": "Bordeaux",
             "nom_iris": "Bordeaux",
             "students_per_m2": 0.0002193095044984574,
             "type_iris": "H"
            },
            "type": "Feature"
           },
           {
            "bbox": [
             -0.553216174269039,
             44.8753840477026,
             -0.5426362262874116,
             44.882387557852475
            ],
            "geometry": {
             "coordinates": [
              [
               [
                [
                 -0.553216174269039,
                 44.87563135601844
                ],
                [
                 -0.550894512301984,
                 44.882387557852475
                ],
                [
                 -0.5426362262874116,
                 44.88079037388542
                ],
                [
                 -0.5453090003256975,
                 44.8753840477026
                ],
                [
                 -0.5507722425950052,
                 44.87630981168137
                ],
                [
                 -0.553216174269039,
                 44.87563135601844
                ]
               ]
              ]
             ],
             "type": "MultiPolygon"
            },
            "id": "7",
            "properties": {
             "LIBCOM": "Bordeaux",
             "LIB_IRIS": "Bacalan 3",
             "area_m2": 425153.7150006544,
             "cleabs": "IRIS____0000000330630203",
             "code_insee": "33063",
             "code_iris": "330630203",
             "etabs_per_m2": 0,
             "iris": "0203",
             "nb_etabs": 0,
             "nb_etudiants": 0,
             "nom_commune": "Bordeaux",
             "nom_iris": "Bordeaux",
             "students_per_m2": 0,
             "type_iris": "H"
            },
            "type": "Feature"
           },
           {
            "bbox": [
             -0.5513064228676956,
             44.859865540993894,
             -0.5364124080142578,
             44.881551538758906
            ],
            "geometry": {
             "coordinates": [
              [
               [
                [
                 -0.5494833129205668,
                 44.86471139708607
                ],
                [
                 -0.5453090003256975,
                 44.8753840477026
                ],
                [
                 -0.5426362262874116,
                 44.88079037388542
                ],
                [
                 -0.5423661126591702,
                 44.881551538758906
                ],
                [
                 -0.5364124080142578,
                 44.88037150393491
                ],
                [
                 -0.536704060670624,
                 44.87985030260815
                ],
                [
                 -0.541119996982707,
                 44.868778270970175
                ],
                [
                 -0.5446454600761113,
                 44.86223261374007
                ],
                [
                 -0.5487460043553491,
                 44.859865540993894
                ],
                [
                 -0.5513064228676956,
                 44.86214037844614
                ],
                [
                 -0.5494833129205668,
                 44.86471139708607
                ]
               ]
              ]
             ],
             "type": "MultiPolygon"
            },
            "id": "8",
            "properties": {
             "LIBCOM": "Bordeaux",
             "LIB_IRIS": "Bacalan 4",
             "area_m2": 1155251.0250008872,
             "cleabs": "IRIS____0000000330630204",
             "code_insee": "33063",
             "code_iris": "330630204",
             "etabs_per_m2": 0,
             "iris": "0204",
             "nb_etabs": 0,
             "nb_etudiants": 0,
             "nom_commune": "Bordeaux",
             "nom_iris": "Bordeaux",
             "students_per_m2": 0,
             "type_iris": "H"
            },
            "type": "Feature"
           },
           {
            "bbox": [
             -0.5668813374549608,
             44.8556870520536,
             -0.5487460043553491,
             44.864262914490986
            ],
            "geometry": {
             "coordinates": [
              [
               [
                [
                 -0.5487460043553491,
                 44.859865540993894
                ],
                [
                 -0.5553962265820513,
                 44.8566676882605
                ],
                [
                 -0.5578072128820958,
                 44.85770253849944
                ],
                [
                 -0.5637690067659581,
                 44.8556870520536
                ],
                [
                 -0.5668813374549608,
                 44.8583250415029
                ],
                [
                 -0.5584765818238974,
                 44.864262914490986
                ],
                [
                 -0.5554520122662828,
                 44.86176877807041
                ],
                [
                 -0.5513064228676956,
                 44.86214037844614
                ],
                [
                 -0.5487460043553491,
                 44.859865540993894
                ]
               ]
              ]
             ],
             "type": "MultiPolygon"
            },
            "id": "9",
            "properties": {
             "LIBCOM": "Bordeaux",
             "LIB_IRIS": "Chartrons-Grand Parc 1",
             "area_m2": 684435.4249992559,
             "cleabs": "IRIS____0000000330630301",
             "code_insee": "33063",
             "code_iris": "330630301",
             "etabs_per_m2": 0.000100813016801512,
             "iris": "0301",
             "nb_etabs": 69,
             "nb_etudiants": 11698,
             "nom_commune": "Bordeaux",
             "nom_iris": "Bordeaux",
             "students_per_m2": 0.017091458993392573,
             "type_iris": "H"
            },
            "type": "Feature"
           },
           {
            "bbox": [
             -0.5722487851863785,
             44.8514531372693,
             -0.5553962265820513,
             44.85990729448475
            ],
            "geometry": {
             "coordinates": [
              [
               [
                [
                 -0.5553962265820513,
                 44.8566676882605
                ],
                [
                 -0.5621866434614463,
                 44.85367400491968
                ],
                [
                 -0.565194146924086,
                 44.8514531372693
                ],
                [
                 -0.5699852680248984,
                 44.85329623311
                ],
                [
                 -0.5722487851863785,
                 44.85432109803179
                ],
                [
                 -0.5687420016857232,
                 44.85990729448475
                ],
                [
                 -0.5668813374549608,
                 44.8583250415029
                ],
                [
                 -0.5637690067659581,
                 44.8556870520536
                ],
                [
                 -0.5578072128820958,
                 44.85770253849944
                ],
                [
                 -0.5553962265820513,
                 44.8566676882605
                ]
               ]
              ]
             ],
             "type": "MultiPolygon"
            },
            "id": "10",
            "properties": {
             "LIBCOM": "Bordeaux",
             "LIB_IRIS": "Chartrons-Grand Parc 2",
             "area_m2": 510088.87499866786,
             "cleabs": "IRIS____0000000330630302",
             "code_insee": "33063",
             "code_iris": "330630302",
             "etabs_per_m2": 0.00016075629957664563,
             "iris": "0302",
             "nb_etabs": 82,
             "nb_etudiants": 17289,
             "nom_commune": "Bordeaux",
             "nom_iris": "Bordeaux",
             "students_per_m2": 0.0338940934558613,
             "type_iris": "H"
            },
            "type": "Feature"
           },
           {
            "bbox": [
             -0.5687420016857232,
             44.8583250415029,
             -0.5584765818238974,
             44.86780643060395
            ],
            "geometry": {
             "coordinates": [
              [
               [
                [
                 -0.5584765818238974,
                 44.864262914490986
                ],
                [
                 -0.5668813374549608,
                 44.8583250415029
                ],
                [
                 -0.5687420016857232,
                 44.85990729448475
                ],
                [
                 -0.5638188369957969,
                 44.86780643060395
                ],
                [
                 -0.5584765818238974,
                 44.864262914490986
                ]
               ]
              ]
             ],
             "type": "MultiPolygon"
            },
            "id": "11",
            "properties": {
             "LIBCOM": "Bordeaux",
             "LIB_IRIS": "Chartrons-Grand Parc 3",
             "area_m2": 368452.7249998579,
             "cleabs": "IRIS____0000000330630303",
             "code_insee": "33063",
             "code_iris": "330630303",
             "etabs_per_m2": 0.0003202581823761665,
             "iris": "0303",
             "nb_etabs": 118,
             "nb_etudiants": 5881,
             "nom_commune": "Bordeaux",
             "nom_iris": "Bordeaux",
             "students_per_m2": 0.015961342123340976,
             "type_iris": "H"
            },
            "type": "Feature"
           },
           {
            "bbox": [
             -0.5836072523695661,
             44.85989257716953,
             -0.5751082914807133,
             44.8659934431191
            ],
            "geometry": {
             "coordinates": [
              [
               [
                [
                 -0.5809744033741501,
                 44.85989257716953
                ],
                [
                 -0.5836072523695661,
                 44.86288358383769
                ],
                [
                 -0.5757140153383001,
                 44.8659934431191
                ],
                [
                 -0.5756904636466216,
                 44.865902273326476
                ],
                [
                 -0.5751082914807133,
                 44.86064324636512
                ],
                [
                 -0.5809744033741501,
                 44.85989257716953
                ]
               ]
              ]
             ],
             "type": "MultiPolygon"
            },
            "id": "12",
            "properties": {
             "LIBCOM": "Bordeaux",
             "LIB_IRIS": "Chartrons-Grand Parc 5",
             "area_m2": 279475.13999998715,
             "cleabs": "IRIS____0000000330630305",
             "code_insee": "33063",
             "code_iris": "330630305",
             "etabs_per_m2": 0.0000679845799522665,
             "iris": "0305",
             "nb_etabs": 19,
             "nb_etudiants": 1440,
             "nom_commune": "Bordeaux",
             "nom_iris": "Bordeaux",
             "students_per_m2": 0.005152515533224408,
             "type_iris": "H"
            },
            "type": "Feature"
           },
           {
            "bbox": [
             -0.5894028724051719,
             44.85719205051527,
             -0.5809744033741501,
             44.86288358383769
            ],
            "geometry": {
             "coordinates": [
              [
               [
                [
                 -0.5866764853196315,
                 44.85719205051527
                ],
                [
                 -0.5894028724051719,
                 44.859225456416304
                ],
                [
                 -0.5873139000200946,
                 44.861316365760516
                ],
                [
                 -0.5836072523695661,
                 44.86288358383769
                ],
                [
                 -0.5809744033741501,
                 44.85989257716953
                ],
                [
                 -0.5816966222605552,
                 44.85953399377189
                ],
                [
                 -0.5866764853196315,
                 44.85719205051527
                ]
               ]
              ]
             ],
             "type": "MultiPolygon"
            },
            "id": "13",
            "properties": {
             "LIBCOM": "Bordeaux",
             "LIB_IRIS": "Chartrons-Grand Parc 6",
             "area_m2": 221519.17500081618,
             "cleabs": "IRIS____0000000330630306",
             "code_insee": "33063",
             "code_iris": "330630306",
             "etabs_per_m2": 0,
             "iris": "0306",
             "nb_etabs": 0,
             "nb_etudiants": 0,
             "nom_commune": "Bordeaux",
             "nom_iris": "Bordeaux",
             "students_per_m2": 0,
             "type_iris": "H"
            },
            "type": "Feature"
           },
           {
            "bbox": [
             -0.5816966222605552,
             44.85503562303443,
             -0.5745668191894637,
             44.86064324636512
            ],
            "geometry": {
             "coordinates": [
              [
               [
                [
                 -0.5774841743391412,
                 44.85503562303443
                ],
                [
                 -0.5816966222605552,
                 44.85953399377189
                ],
                [
                 -0.5809744033741501,
                 44.85989257716953
                ],
                [
                 -0.5751082914807133,
                 44.86064324636512
                ],
                [
                 -0.5745668191894637,
                 44.85532523676059
                ],
                [
                 -0.5774841743391412,
                 44.85503562303443
                ]
               ]
              ]
             ],
             "type": "MultiPolygon"
            },
            "id": "14",
            "properties": {
             "LIBCOM": "Bordeaux",
             "LIB_IRIS": "Chartrons-Grand Parc 7",
             "area_m2": 226124.4000003052,
             "cleabs": "IRIS____0000000330630307",
             "code_insee": "33063",
             "code_iris": "330630307",
             "etabs_per_m2": 0.00005306813417739883,
             "iris": "0307",
             "nb_etabs": 12,
             "nb_etudiants": 2107,
             "nom_commune": "Bordeaux",
             "nom_iris": "Bordeaux",
             "students_per_m2": 0.009317879892648278,
             "type_iris": "H"
            },
            "type": "Feature"
           },
           {
            "bbox": [
             -0.5866764853196315,
             44.85501317922027,
             -0.5774841743391412,
             44.85953399377189
            ],
            "geometry": {
             "coordinates": [
              [
               [
                [
                 -0.5866764853196315,
                 44.85719205051527
                ],
                [
                 -0.5816966222605552,
                 44.85953399377189
                ],
                [
                 -0.5774841743391412,
                 44.85503562303443
                ],
                [
                 -0.5831503568543086,
                 44.85501317922027
                ],
                [
                 -0.5866764853196315,
                 44.85719205051527
                ]
               ]
              ]
             ],
             "type": "MultiPolygon"
            },
            "id": "15",
            "properties": {
             "LIBCOM": "Bordeaux",
             "LIB_IRIS": "Chartrons-Grand Parc 8",
             "area_m2": 196077.46999945393,
             "cleabs": "IRIS____0000000330630308",
             "code_insee": "33063",
             "code_iris": "330630308",
             "etabs_per_m2": 0,
             "iris": "0308",
             "nb_etabs": 0,
             "nb_etudiants": 0,
             "nom_commune": "Bordeaux",
             "nom_iris": "Bordeaux",
             "students_per_m2": 0,
             "type_iris": "H"
            },
            "type": "Feature"
           },
           {
            "bbox": [
             -0.575587260545596,
             44.84567275397014,
             -0.565194146924086,
             44.85329623311
            ],
            "geometry": {
             "coordinates": [
              [
               [
                [
                 -0.5699852680248984,
                 44.85329623311
                ],
                [
                 -0.565194146924086,
                 44.8514531372693
                ],
                [
                 -0.5675996411186671,
                 44.84857470438758
                ],
                [
                 -0.5677091255721151,
                 44.84567275397014
                ],
                [
                 -0.5710023095722745,
                 44.845762351466206
                ],
                [
                 -0.575587260545596,
                 44.84888801006336
                ],
                [
                 -0.5751399438094896,
                 44.84960270505799
                ],
                [
                 -0.5734275873037049,
                 44.85241752967591
                ],
                [
                 -0.5714384501935884,
                 44.851562306411566
                ],
                [
                 -0.5699852680248984,
                 44.85329623311
                ]
               ]
              ]
             ],
             "type": "MultiPolygon"
            },
            "id": "16",
            "properties": {
             "LIBCOM": "Bordeaux",
             "LIB_IRIS": "Chartrons-Grand Parc 9",
             "area_m2": 411636.09000061196,
             "cleabs": "IRIS____0000000330630309",
             "code_insee": "33063",
             "code_iris": "330630309",
             "etabs_per_m2": 0.0002623676655752887,
             "iris": "0309",
             "nb_etabs": 108,
             "nb_etudiants": 27548,
             "nom_commune": "Bordeaux",
             "nom_iris": "Bordeaux",
             "students_per_m2": 0.06692318936359308,
             "type_iris": "H"
            },
            "type": "Feature"
           },
           {
            "bbox": [
             -0.5831503568543086,
             44.850162919329236,
             -0.5738611308695671,
             44.85532523676059
            ],
            "geometry": {
             "coordinates": [
              [
               [
                [
                 -0.5831503568543086,
                 44.85501317922027
                ],
                [
                 -0.5774841743391412,
                 44.85503562303443
                ],
                [
                 -0.5745668191894637,
                 44.85532523676059
                ],
                [
                 -0.5738611308695671,
                 44.855067681548256
                ],
                [
                 -0.5769126262603532,
                 44.850162919329236
                ],
                [
                 -0.5787020046245352,
                 44.85076582835805
                ],
                [
                 -0.577820592264485,
                 44.850970907295476
                ],
                [
                 -0.5800241402498645,
                 44.85310069183441
                ],
                [
                 -0.5831503568543086,
                 44.85501317922027
                ]
               ]
              ]
             ],
             "type": "MultiPolygon"
            },
            "id": "17",
            "properties": {
             "LIBCOM": "Bordeaux",
             "LIB_IRIS": "Chartrons-Grand Parc 10",
             "area_m2": 193353.4300002211,
             "cleabs": "IRIS____0000000330630310",
             "code_insee": "33063",
             "code_iris": "330630310",
             "etabs_per_m2": 0.00028445319020167943,
             "iris": "0310",
             "nb_etabs": 55,
             "nb_etudiants": 7397,
             "nom_commune": "Bordeaux",
             "nom_iris": "Bordeaux",
             "students_per_m2": 0.03825636814403314,
             "type_iris": "H"
            },
            "type": "Feature"
           },
           {
            "bbox": [
             -0.5769126262603532,
             44.84960270505799,
             -0.5699852680248984,
             44.855067681548256
            ],
            "geometry": {
             "coordinates": [
              [
               [
                [
                 -0.5699852680248984,
                 44.85329623311
                ],
                [
                 -0.5714384501935884,
                 44.851562306411566
                ],
                [
                 -0.5734275873037049,
                 44.85241752967591
                ],
                [
                 -0.5751399438094896,
                 44.84960270505799
                ],
                [
                 -0.5769126262603532,
                 44.850162919329236
                ],
                [
                 -0.5738611308695671,
                 44.855067681548256
                ],
                [
                 -0.5722487851863785,
                 44.85432109803179
                ],
                [
                 -0.5699852680248984,
                 44.85329623311
                ]
               ]
              ]
             ],
             "type": "MultiPolygon"
            },
            "id": "18",
            "properties": {
             "LIBCOM": "Bordeaux",
             "LIB_IRIS": "Chartrons-Grand Parc 11",
             "area_m2": 133036.55999980896,
             "cleabs": "IRIS____0000000330630311",
             "code_insee": "33063",
             "code_iris": "330630311",
             "etabs_per_m2": 0.000015033461478580565,
             "iris": "0311",
             "nb_etabs": 2,
             "nb_etudiants": 57,
             "nom_commune": "Bordeaux",
             "nom_iris": "Bordeaux",
             "students_per_m2": 0.0004284536521395461,
             "type_iris": "H"
            },
            "type": "Feature"
           },
           {
            "bbox": [
             -0.5756904636466216,
             44.85432109803179,
             -0.5687420016857232,
             44.865902273326476
            ],
            "geometry": {
             "coordinates": [
              [
               [
                [
                 -0.5745668191894637,
                 44.85532523676059
                ],
                [
                 -0.5751082914807133,
                 44.86064324636512
                ],
                [
                 -0.5756904636466216,
                 44.865902273326476
                ],
                [
                 -0.5687420016857232,
                 44.85990729448475
                ],
                [
                 -0.5722487851863785,
                 44.85432109803179
                ],
                [
                 -0.5738611308695671,
                 44.855067681548256
                ],
                [
                 -0.5745668191894637,
                 44.85532523676059
                ]
               ]
              ]
             ],
             "type": "MultiPolygon"
            },
            "id": "19",
            "properties": {
             "LIBCOM": "Bordeaux",
             "LIB_IRIS": "Chartrons-Grand Parc 12",
             "area_m2": 363553.58000030194,
             "cleabs": "IRIS____0000000330630312",
             "code_insee": "33063",
             "code_iris": "330630312",
             "etabs_per_m2": 0,
             "iris": "0312",
             "nb_etabs": 0,
             "nb_etudiants": 0,
             "nom_commune": "Bordeaux",
             "nom_iris": "Bordeaux",
             "students_per_m2": 0,
             "type_iris": "H"
            },
            "type": "Feature"
           },
           {
            "bbox": [
             -0.5757140153383001,
             44.85990729448475,
             -0.5638188369957969,
             44.86997311213664
            ],
            "geometry": {
             "coordinates": [
              [
               [
                [
                 -0.5667903502820755,
                 44.86997311213664
                ],
                [
                 -0.5638188369957969,
                 44.86780643060395
                ],
                [
                 -0.5687420016857232,
                 44.85990729448475
                ],
                [
                 -0.5756904636466216,
                 44.865902273326476
                ],
                [
                 -0.5757140153383001,
                 44.8659934431191
                ],
                [
                 -0.5667903502820755,
                 44.86997311213664
                ]
               ]
              ]
             ],
             "type": "MultiPolygon"
            },
            "id": "20",
            "properties": {
             "LIBCOM": "Bordeaux",
             "LIB_IRIS": "Chartrons-Grand Parc 13",
             "area_m2": 511858.85999858595,
             "cleabs": "IRIS____0000000330630313",
             "code_insee": "33063",
             "code_iris": "330630313",
             "etabs_per_m2": 0.00004298059820642897,
             "iris": "0313",
             "nb_etabs": 22,
             "nb_etudiants": 3176,
             "nom_commune": "Bordeaux",
             "nom_iris": "Bordeaux",
             "students_per_m2": 0.006204835450164473,
             "type_iris": "H"
            },
            "type": "Feature"
           },
           {
            "bbox": [
             -0.5677091255721151,
             44.838356621210984,
             -0.536848912605918,
             44.868778270970175
            ],
            "geometry": {
             "coordinates": [
              [
               [
                [
                 -0.5496310483073777,
                 44.84653124313569
                ],
                [
                 -0.5548295418641355,
                 44.84333928055062
                ],
                [
                 -0.562936218383755,
                 44.838356621210984
                ],
                [
                 -0.5642796346321346,
                 44.8395652886753
                ],
                [
                 -0.567160104154523,
                 44.84383112937592
                ],
                [
                 -0.5677091255721151,
                 44.84567275397014
                ],
                [
                 -0.5675996411186671,
                 44.84857470438758
                ],
                [
                 -0.565194146924086,
                 44.8514531372693
                ],
                [
                 -0.5621866434614463,
                 44.85367400491968
                ],
                [
                 -0.5553962265820513,
                 44.8566676882605
                ],
                [
                 -0.5487460043553491,
                 44.859865540993894
                ],
                [
                 -0.5446454600761113,
                 44.86223261374007
                ],
                [
                 -0.541119996982707,
                 44.868778270970175
                ],
                [
                 -0.536848912605918,
                 44.867288645603736
                ],
                [
                 -0.5369854621619583,
                 44.86629833352617
                ],
                [
                 -0.538295870779022,
                 44.8613141407784
                ],
                [
                 -0.538866286205843,
                 44.85832275196009
                ],
                [
                 -0.5516148522648646,
                 44.847931361965735
                ],
                [
                 -0.5496310483073777,
                 44.84653124313569
                ]
               ]
              ]
             ],
             "type": "MultiPolygon"
            },
            "id": "21",
            "properties": {
             "LIBCOM": "Bordeaux",
             "LIB_IRIS": "La Bastide 1",
             "area_m2": 3030163.340002368,
             "cleabs": "IRIS____0000000330630401",
             "code_insee": "33063",
             "code_iris": "330630401",
             "etabs_per_m2": 0.000019800912778501607,
             "iris": "0401",
             "nb_etabs": 60,
             "nb_etudiants": 23203,
             "nom_commune": "Bordeaux",
             "nom_iris": "Bordeaux",
             "students_per_m2": 0.007657342986659546,
             "type_iris": "H"
            },
            "type": "Feature"
           },
           {
            "bbox": [
             -0.5548295418641355,
             44.841423103286225,
             -0.5468670642608725,
             44.8481314849955
            ],
            "geometry": {
             "coordinates": [
              [
               [
                [
                 -0.5496310483073777,
                 44.84653124313569
                ],
                [
                 -0.5470223531964871,
                 44.8481314849955
                ],
                [
                 -0.5469045451995542,
                 44.8465878192418
                ],
                [
                 -0.5468670642608725,
                 44.841423103286225
                ],
                [
                 -0.5548295418641355,
                 44.84333928055062
                ],
                [
                 -0.5496310483073777,
                 44.84653124313569
                ]
               ]
              ]
             ],
             "type": "MultiPolygon"
            },
            "id": "22",
            "properties": {
             "LIBCOM": "Bordeaux",
             "LIB_IRIS": "La Bastide 2",
             "area_m2": 235545.99999986048,
             "cleabs": "IRIS____0000000330630402",
             "code_insee": "33063",
             "code_iris": "330630402",
             "etabs_per_m2": 0.00005094546288201501,
             "iris": "0402",
             "nb_etabs": 12,
             "nb_etudiants": 1607,
             "nom_commune": "Bordeaux",
             "nom_iris": "Bordeaux",
             "students_per_m2": 0.006822446570949844,
             "type_iris": "H"
            },
            "type": "Feature"
           },
           {
            "bbox": [
             -0.5516148522648646,
             44.84653124313569,
             -0.5378287965560568,
             44.85832275196009
            ],
            "geometry": {
             "coordinates": [
              [
               [
                [
                 -0.5496310483073777,
                 44.84653124313569
                ],
                [
                 -0.5516148522648646,
                 44.847931361965735
                ],
                [
                 -0.538866286205843,
                 44.85832275196009
                ],
                [
                 -0.5378287965560568,
                 44.847291327818034
                ],
                [
                 -0.5469045451995542,
                 44.8465878192418
                ],
                [
                 -0.5470223531964871,
                 44.8481314849955
                ],
                [
                 -0.5496310483073777,
                 44.84653124313569
                ]
               ]
              ]
             ],
             "type": "MultiPolygon"
            },
            "id": "23",
            "properties": {
             "LIBCOM": "Bordeaux",
             "LIB_IRIS": "La Bastide 3",
             "area_m2": 731213.6799990435,
             "cleabs": "IRIS____0000000330630403",
             "code_insee": "33063",
             "code_iris": "330630403",
             "etabs_per_m2": 0,
             "iris": "0403",
             "nb_etabs": 0,
             "nb_etudiants": 0,
             "nom_commune": "Bordeaux",
             "nom_iris": "Bordeaux",
             "students_per_m2": 0,
             "type_iris": "H"
            },
            "type": "Feature"
           },
           {
            "bbox": [
             -0.5469045451995542,
             44.841423103286225,
             -0.5378287965560568,
             44.847291327818034
            ],
            "geometry": {
             "coordinates": [
              [
               [
                [
                 -0.5378287965560568,
                 44.847291327818034
                ],
                [
                 -0.5414220963965578,
                 44.842358641476274
                ],
                [
                 -0.5421330555537596,
                 44.84174112132447
                ],
                [
                 -0.5433486877699641,
                 44.84245662861369
                ],
                [
                 -0.5468670642608725,
                 44.841423103286225
                ],
                [
                 -0.5469045451995542,
                 44.8465878192418
                ],
                [
                 -0.5378287965560568,
                 44.847291327818034
                ]
               ]
              ]
             ],
             "type": "MultiPolygon"
            },
            "id": "24",
            "properties": {
             "LIBCOM": "Bordeaux",
             "LIB_IRIS": "La Bastide 4",
             "area_m2": 304196.7749997771,
             "cleabs": "IRIS____0000000330630404",
             "code_insee": "33063",
             "code_iris": "330630404",
             "etabs_per_m2": 0,
             "iris": "0404",
             "nb_etabs": 0,
             "nb_etudiants": 0,
             "nom_commune": "Bordeaux",
             "nom_iris": "Bordeaux",
             "students_per_m2": 0,
             "type_iris": "H"
            },
            "type": "Feature"
           },
           {
            "bbox": [
             -0.562936218383755,
             44.82281042869359,
             -0.5342422084151083,
             44.84333928055062
            ],
            "geometry": {
             "coordinates": [
              [
               [
                [
                 -0.5548295418641355,
                 44.84333928055062
                ],
                [
                 -0.5468670642608725,
                 44.841423103286225
                ],
                [
                 -0.5433486877699641,
                 44.84245662861369
                ],
                [
                 -0.5421330555537596,
                 44.84174112132447
                ],
                [
                 -0.5480006018623995,
                 44.83568740495513
                ],
                [
                 -0.5342422084151083,
                 44.82825446276747
                ],
                [
                 -0.534696904702319,
                 44.82429168209618
                ],
                [
                 -0.5375959743052193,
                 44.82281042869359
                ],
                [
                 -0.5438611681837197,
                 44.82743736336692
                ],
                [
                 -0.5523780653990155,
                 44.83190445508446
                ],
                [
                 -0.5578371965863964,
                 44.83472877912985
                ],
                [
                 -0.5589610873349957,
                 44.835394786296604
                ],
                [
                 -0.562936218383755,
                 44.838356621210984
                ],
                [
                 -0.5548295418641355,
                 44.84333928055062
                ]
               ]
              ]
             ],
             "type": "MultiPolygon"
            },
            "id": "25",
            "properties": {
             "LIBCOM": "Bordeaux",
             "LIB_IRIS": "La Bastide 5",
             "area_m2": 1947413.0500017242,
             "cleabs": "IRIS____0000000330630405",
             "code_insee": "33063",
             "code_iris": "330630405",
             "etabs_per_m2": 0.000010783536651344412,
             "iris": "0405",
             "nb_etabs": 21,
             "nb_etudiants": 2620,
             "nom_commune": "Bordeaux",
             "nom_iris": "Bordeaux",
             "students_per_m2": 0.001345374572691541,
             "type_iris": "H"
            },
            "type": "Feature"
           },
           {
            "bbox": [
             -0.5809877194912698,
             44.83187887092085,
             -0.5733585397315657,
             44.83753971679378
            ],
            "geometry": {
             "coordinates": [
              [
               [
                [
                 -0.5804883615439559,
                 44.834954190652844
                ],
                [
                 -0.5809877194912698,
                 44.83648822788921
                ],
                [
                 -0.5761565390795501,
                 44.837360618988484
                ],
                [
                 -0.5737878663233407,
                 44.83753971679378
                ],
                [
                 -0.5733585397315657,
                 44.8348939545845
                ],
                [
                 -0.5744603342832643,
                 44.83499093103152
                ],
                [
                 -0.5772563401448693,
                 44.83187887092085
                ],
                [
                 -0.5779061574291398,
                 44.83201923091056
                ],
                [
                 -0.5796057657834928,
                 44.83245466271854
                ],
                [
                 -0.5804883615439559,
                 44.834954190652844
                ]
               ]
              ]
             ],
             "type": "MultiPolygon"
            },
            "id": "26",
            "properties": {
             "LIBCOM": "Bordeaux",
             "LIB_IRIS": "Hôtel de Ville-Quinconces 1",
             "area_m2": 241613.5099995838,
             "cleabs": "IRIS____0000000330630501",
             "code_insee": "33063",
             "code_iris": "330630501",
             "etabs_per_m2": 0,
             "iris": "0501",
             "nb_etabs": 0,
             "nb_etudiants": 0,
             "nom_commune": "Bordeaux",
             "nom_iris": "Bordeaux",
             "students_per_m2": 0,
             "type_iris": "H"
            },
            "type": "Feature"
           },
           {
            "bbox": [
             -0.5737878663233407,
             44.8348939545845,
             -0.562936218383755,
             44.8395652886753
            ],
            "geometry": {
             "coordinates": [
              [
               [
                [
                 -0.5695582785572906,
                 44.83530564324558
                ],
                [
                 -0.5733585397315657,
                 44.8348939545845
                ],
                [
                 -0.5737878663233407,
                 44.83753971679378
                ],
                [
                 -0.5717996735519818,
                 44.83768668274137
                ],
                [
                 -0.5665045195494891,
                 44.83801841806239
                ],
                [
                 -0.5642796346321346,
                 44.8395652886753
                ],
                [
                 -0.562936218383755,
                 44.838356621210984
                ],
                [
                 -0.5695582785572906,
                 44.83530564324558
                ]
               ]
              ]
             ],
             "type": "MultiPolygon"
            },
            "id": "27",
            "properties": {
             "LIBCOM": "Bordeaux",
             "LIB_IRIS": "Hôtel de Ville-Quinconces 2",
             "area_m2": 184596.39499956788,
             "cleabs": "IRIS____0000000330630502",
             "code_insee": "33063",
             "code_iris": "330630502",
             "etabs_per_m2": 0.00011376170157629112,
             "iris": "0502",
             "nb_etabs": 21,
             "nb_etudiants": 835,
             "nom_commune": "Bordeaux",
             "nom_iris": "Bordeaux",
             "students_per_m2": 0.0045233819436287185,
             "type_iris": "H"
            },
            "type": "Feature"
           },
           {
            "bbox": [
             -0.578629677320913,
             44.837360618988484,
             -0.5737878663233407,
             44.842116488736345
            ],
            "geometry": {
             "coordinates": [
              [
               [
                [
                 -0.5737878663233407,
                 44.83753971679378
                ],
                [
                 -0.5761565390795501,
                 44.837360618988484
                ],
                [
                 -0.5766381593353409,
                 44.83825986110918
                ],
                [
                 -0.5778365231668073,
                 44.838201379894656
                ],
                [
                 -0.578629677320913,
                 44.84180154369523
                ],
                [
                 -0.5745086548874998,
                 44.842116488736345
                ],
                [
                 -0.5737878663233407,
                 44.83753971679378
                ]
               ]
              ]
             ],
             "type": "MultiPolygon"
            },
            "id": "28",
            "properties": {
             "LIBCOM": "Bordeaux",
             "LIB_IRIS": "Hôtel de Ville-Quinconces 3",
             "area_m2": 150643.32999988337,
             "cleabs": "IRIS____0000000330630503",
             "code_insee": "33063",
             "code_iris": "330630503",
             "etabs_per_m2": 0,
             "iris": "0503",
             "nb_etabs": 0,
             "nb_etudiants": 0,
             "nom_commune": "Bordeaux",
             "nom_iris": "Bordeaux",
             "students_per_m2": 0,
             "type_iris": "H"
            },
            "type": "Feature"
           },
           {
            "bbox": [
             -0.5745086548874998,
             44.83753971679378,
             -0.5700296179443778,
             44.84269307446933
            ],
            "geometry": {
             "coordinates": [
              [
               [
                [
                 -0.5737878663233407,
                 44.83753971679378
                ],
                [
                 -0.5745086548874998,
                 44.842116488736345
                ],
                [
                 -0.570290225155683,
                 44.84269307446933
                ],
                [
                 -0.5700296179443778,
                 44.84196153473142
                ],
                [
                 -0.5720044557452156,
                 44.84008913548621
                ],
                [
                 -0.5717996735519818,
                 44.83768668274137
                ],
                [
                 -0.5737878663233407,
                 44.83753971679378
                ]
               ]
              ]
             ],
             "type": "MultiPolygon"
            },
            "id": "29",
            "properties": {
             "LIBCOM": "Bordeaux",
             "LIB_IRIS": "Hôtel de Ville-Quinconces 4",
             "area_m2": 117330.22000041857,
             "cleabs": "IRIS____0000000330630504",
             "code_insee": "33063",
             "code_iris": "330630504",
             "etabs_per_m2": 0,
             "iris": "0504",
             "nb_etabs": 0,
             "nb_etudiants": 0,
             "nom_commune": "Bordeaux",
             "nom_iris": "Bordeaux",
             "students_per_m2": 0,
             "type_iris": "H"
            },
            "type": "Feature"
           },
           {
            "bbox": [
             -0.5720044557452156,
             44.83768668274137,
             -0.5642796346321346,
             44.84383112937592
            ],
            "geometry": {
             "coordinates": [
              [
               [
                [
                 -0.5717996735519818,
                 44.83768668274137
                ],
                [
                 -0.5720044557452156,
                 44.84008913548621
                ],
                [
                 -0.5700296179443778,
                 44.84196153473142
                ],
                [
                 -0.570290225155683,
                 44.84269307446933
                ],
                [
                 -0.5705031193731748,
                 44.843311690803546
                ],
                [
                 -0.567160104154523,
                 44.84383112937592
                ],
                [
                 -0.5642796346321346,
                 44.8395652886753
                ],
                [
                 -0.5665045195494891,
                 44.83801841806239
                ],
                [
                 -0.5717996735519818,
                 44.83768668274137
                ]
               ]
              ]
             ],
             "type": "MultiPolygon"
            },
            "id": "30",
            "properties": {
             "LIBCOM": "Bordeaux",
             "LIB_IRIS": "Hôtel de Ville-Quinconces 5",
             "area_m2": 279966.0849995947,
             "cleabs": "IRIS____0000000330630505",
             "code_insee": "33063",
             "code_iris": "330630505",
             "etabs_per_m2": 0,
             "iris": "0505",
             "nb_etabs": 0,
             "nb_etudiants": 0,
             "nom_commune": "Bordeaux",
             "nom_iris": "Bordeaux",
             "students_per_m2": 0,
             "type_iris": "H"
            },
            "type": "Feature"
           },
           {
            "bbox": [
             -0.5813465669923925,
             44.84163338577795,
             -0.5767133048395182,
             44.848273312023245
            ],
            "geometry": {
             "coordinates": [
              [
               [
                [
                 -0.5813465669923925,
                 44.847554907999296
                ],
                [
                 -0.5802825791746938,
                 44.848273312023245
                ],
                [
                 -0.5767133048395182,
                 44.84701494373991
                ],
                [
                 -0.5800952057233009,
                 44.841680344301245
                ],
                [
                 -0.5811030939568251,
                 44.84163338577795
                ],
                [
                 -0.5813465669923925,
                 44.847554907999296
                ]
               ]
              ]
             ],
             "type": "MultiPolygon"
            },
            "id": "31",
            "properties": {
             "LIBCOM": "Bordeaux",
             "LIB_IRIS": "Hôtel de Ville-Quinconces 6",
             "area_m2": 159839.8300006226,
             "cleabs": "IRIS____0000000330630506",
             "code_insee": "33063",
             "code_iris": "330630506",
             "etabs_per_m2": 0,
             "iris": "0506",
             "nb_etabs": 0,
             "nb_etudiants": 0,
             "nom_commune": "Bordeaux",
             "nom_iris": "Bordeaux",
             "students_per_m2": 0,
             "type_iris": "H"
            },
            "type": "Feature"
           },
           {
            "bbox": [
             -0.5800952057233009,
             44.841680344301245,
             -0.567160104154523,
             44.84888801006336
            ],
            "geometry": {
             "coordinates": [
              [
               [
                [
                 -0.575587260545596,
                 44.84888801006336
                ],
                [
                 -0.5710023095722745,
                 44.845762351466206
                ],
                [
                 -0.5677091255721151,
                 44.84567275397014
                ],
                [
                 -0.567160104154523,
                 44.84383112937592
                ],
                [
                 -0.5705031193731748,
                 44.843311690803546
                ],
                [
                 -0.570290225155683,
                 44.84269307446933
                ],
                [
                 -0.5745086548874998,
                 44.842116488736345
                ],
                [
                 -0.578629677320913,
                 44.84180154369523
                ],
                [
                 -0.5800952057233009,
                 44.841680344301245
                ],
                [
                 -0.5767133048395182,
                 44.84701494373991
                ],
                [
                 -0.575587260545596,
                 44.84888801006336
                ]
               ]
              ]
             ],
             "type": "MultiPolygon"
            },
            "id": "32",
            "properties": {
             "LIBCOM": "Bordeaux",
             "LIB_IRIS": "Hôtel de Ville-Quinconces 7",
             "area_m2": 409090.51999992906,
             "cleabs": "IRIS____0000000330630507",
             "code_insee": "33063",
             "code_iris": "330630507",
             "etabs_per_m2": 0.00014422235939373572,
             "iris": "0507",
             "nb_etabs": 59,
             "nb_etudiants": 4341,
             "nom_commune": "Bordeaux",
             "nom_iris": "Bordeaux",
             "students_per_m2": 0.010611343425901809,
             "type_iris": "H"
            },
            "type": "Feature"
           },
           {
            "bbox": [
             -0.5826589421907177,
             44.83648822788921,
             -0.5761565390795501,
             44.84180154369523
            ],
            "geometry": {
             "coordinates": [
              [
               [
                [
                 -0.578629677320913,
                 44.84180154369523
                ],
                [
                 -0.5778365231668073,
                 44.838201379894656
                ],
                [
                 -0.5766381593353409,
                 44.83825986110918
                ],
                [
                 -0.5761565390795501,
                 44.837360618988484
                ],
                [
                 -0.5809877194912698,
                 44.83648822788921
                ],
                [
                 -0.5810923130805493,
                 44.83683724185288
                ],
                [
                 -0.5826589421907177,
                 44.84151824849347
                ],
                [
                 -0.5811030939568251,
                 44.84163338577795
                ],
                [
                 -0.5800952057233009,
                 44.841680344301245
                ],
                [
                 -0.578629677320913,
                 44.84180154369523
                ]
               ]
              ]
             ],
             "type": "MultiPolygon"
            },
            "id": "33",
            "properties": {
             "LIBCOM": "Bordeaux",
             "LIB_IRIS": "Hôtel de Ville-Quinconces 8",
             "area_m2": 175503.73500006352,
             "cleabs": "IRIS____0000000330630508",
             "code_insee": "33063",
             "code_iris": "330630508",
             "etabs_per_m2": 0.000051280959918013956,
             "iris": "0508",
             "nb_etabs": 9,
             "nb_etudiants": 5205,
             "nom_commune": "Bordeaux",
             "nom_iris": "Bordeaux",
             "students_per_m2": 0.02965748848591807,
             "type_iris": "H"
            },
            "type": "Feature"
           },
           {
            "bbox": [
             -0.5914237057113285,
             44.85007402431204,
             -0.5800241402498645,
             44.85501317922027
            ],
            "geometry": {
             "coordinates": [
              [
               [
                [
                 -0.5899687860915593,
                 44.85165002399518
                ],
                [
                 -0.5914237057113285,
                 44.85246814519715
                ],
                [
                 -0.5831503568543086,
                 44.85501317922027
                ],
                [
                 -0.5800241402498645,
                 44.85310069183441
                ],
                [
                 -0.5834288594652982,
                 44.85054383484729
                ],
                [
                 -0.5847509670574598,
                 44.850950847307445
                ],
                [
                 -0.5860303508019862,
                 44.85007402431204
                ],
                [
                 -0.586259255375334,
                 44.85016666426983
                ],
                [
                 -0.5899687860915593,
                 44.85165002399518
                ]
               ]
              ]
             ],
             "type": "MultiPolygon"
            },
            "id": "34",
            "properties": {
             "LIBCOM": "Bordeaux",
             "LIB_IRIS": "Saint-Seurin-Fondaudège 1",
             "area_m2": 257907.79000022076,
             "cleabs": "IRIS____0000000330630601",
             "code_insee": "33063",
             "code_iris": "330630601",
             "etabs_per_m2": 0,
             "iris": "0601",
             "nb_etabs": 0,
             "nb_etudiants": 0,
             "nom_commune": "Bordeaux",
             "nom_iris": "Bordeaux",
             "students_per_m2": 0,
             "type_iris": "H"
            },
            "type": "Feature"
           },
           {
            "bbox": [
             -0.5860303508019862,
             44.84701494373991,
             -0.5751399438094896,
             44.85310069183441
            ],
            "geometry": {
             "coordinates": [
              [
               [
                [
                 -0.5767133048395182,
                 44.84701494373991
                ],
                [
                 -0.5802825791746938,
                 44.848273312023245
                ],
                [
                 -0.5813465669923925,
                 44.847554907999296
                ],
                [
                 -0.5827723926900876,
                 44.84855612808696
                ],
                [
                 -0.5860303508019862,
                 44.85007402431204
                ],
                [
                 -0.5847509670574598,
                 44.850950847307445
                ],
                [
                 -0.5834288594652982,
                 44.85054383484729
                ],
                [
                 -0.5800241402498645,
                 44.85310069183441
                ],
                [
                 -0.577820592264485,
                 44.850970907295476
                ],
                [
                 -0.5787020046245352,
                 44.85076582835805
                ],
                [
                 -0.5769126262603532,
                 44.850162919329236
                ],
                [
                 -0.5751399438094896,
                 44.84960270505799
                ],
                [
                 -0.575587260545596,
                 44.84888801006336
                ],
                [
                 -0.5767133048395182,
                 44.84701494373991
                ]
               ]
              ]
             ],
             "type": "MultiPolygon"
            },
            "id": "35",
            "properties": {
             "LIBCOM": "Bordeaux",
             "LIB_IRIS": "Saint-Seurin-Fondaudège 2",
             "area_m2": 267379.5499989607,
             "cleabs": "IRIS____0000000330630602",
             "code_insee": "33063",
             "code_iris": "330630602",
             "etabs_per_m2": 0,
             "iris": "0602",
             "nb_etabs": 0,
             "nb_etudiants": 0,
             "nom_commune": "Bordeaux",
             "nom_iris": "Bordeaux",
             "students_per_m2": 0,
             "type_iris": "H"
            },
            "type": "Feature"
           },
           {
            "bbox": [
             -0.5933783545440698,
             44.85246814519715,
             -0.5831503568543086,
             44.859225456416304
            ],
            "geometry": {
             "coordinates": [
              [
               [
                [
                 -0.5914237057113285,
                 44.85246814519715
                ],
                [
                 -0.5933783545440698,
                 44.853847775332135
                ],
                [
                 -0.5929924165733015,
                 44.85439022160142
                ],
                [
                 -0.5894028724051719,
                 44.859225456416304
                ],
                [
                 -0.5866764853196315,
                 44.85719205051527
                ],
                [
                 -0.5831503568543086,
                 44.85501317922027
                ],
                [
                 -0.5914237057113285,
                 44.85246814519715
                ]
               ]
              ]
             ],
             "type": "MultiPolygon"
            },
            "id": "36",
            "properties": {
             "LIBCOM": "Bordeaux",
             "LIB_IRIS": "Saint-Seurin-Fondaudège 3",
             "area_m2": 287856.3849994706,
             "cleabs": "IRIS____0000000330630603",
             "code_insee": "33063",
             "code_iris": "330630603",
             "etabs_per_m2": 0,
             "iris": "0603",
             "nb_etabs": 0,
             "nb_etudiants": 0,
             "nom_commune": "Bordeaux",
             "nom_iris": "Bordeaux",
             "students_per_m2": 0,
             "type_iris": "H"
            },
            "type": "Feature"
           },
           {
            "bbox": [
             -0.592210954237534,
             44.84417342198897,
             -0.586259255375334,
             44.85170271477982
            ],
            "geometry": {
             "coordinates": [
              [
               [
                [
                 -0.5889015836421939,
                 44.84417342198897
                ],
                [
                 -0.5918503463742661,
                 44.84509729897681
                ],
                [
                 -0.592210954237534,
                 44.85170271477982
                ],
                [
                 -0.5899687860915593,
                 44.85165002399518
                ],
                [
                 -0.586259255375334,
                 44.85016666426983
                ],
                [
                 -0.5889015836421939,
                 44.84417342198897
                ]
               ]
              ]
             ],
             "type": "MultiPolygon"
            },
            "id": "37",
            "properties": {
             "LIBCOM": "Bordeaux",
             "LIB_IRIS": "Saint-Seurin-Fondaudège 4",
             "area_m2": 272068.6550005115,
             "cleabs": "IRIS____0000000330630604",
             "code_insee": "33063",
             "code_iris": "330630604",
             "etabs_per_m2": 0.000044106514217808146,
             "iris": "0604",
             "nb_etabs": 12,
             "nb_etudiants": 3280,
             "nom_commune": "Bordeaux",
             "nom_iris": "Bordeaux",
             "students_per_m2": 0.01205578055286756,
             "type_iris": "H"
            },
            "type": "Feature"
           },
           {
            "bbox": [
             -0.5874020436215299,
             44.84148854094052,
             -0.5811030939568251,
             44.84855612808696
            ],
            "geometry": {
             "coordinates": [
              [
               [
                [
                 -0.5827723926900876,
                 44.84855612808696
                ],
                [
                 -0.5813465669923925,
                 44.847554907999296
                ],
                [
                 -0.5811030939568251,
                 44.84163338577795
                ],
                [
                 -0.5826589421907177,
                 44.84151824849347
                ],
                [
                 -0.5830484779311027,
                 44.84148854094052
                ],
                [
                 -0.5858303045391003,
                 44.84238101052092
                ],
                [
                 -0.5874020436215299,
                 44.84396146808933
                ],
                [
                 -0.5827723926900876,
                 44.84855612808696
                ]
               ]
              ]
             ],
             "type": "MultiPolygon"
            },
            "id": "38",
            "properties": {
             "LIBCOM": "Bordeaux",
             "LIB_IRIS": "Saint-Seurin-Fondaudège 5",
             "area_m2": 247294.72500048735,
             "cleabs": "IRIS____0000000330630605",
             "code_insee": "33063",
             "code_iris": "330630605",
             "etabs_per_m2": 0.00006470012653916685,
             "iris": "0605",
             "nb_etabs": 16,
             "nb_etudiants": 2395,
             "nom_commune": "Bordeaux",
             "nom_iris": "Bordeaux",
             "students_per_m2": 0.009684800191331538,
             "type_iris": "H"
            },
            "type": "Feature"
           },
           {
            "bbox": [
             -0.5976569322118807,
             44.84509729897681,
             -0.5899687860915593,
             44.853847775332135
            ],
            "geometry": {
             "coordinates": [
              [
               [
                [
                 -0.5918503463742661,
                 44.84509729897681
                ],
                [
                 -0.5935762519068265,
                 44.84546048339823
                ],
                [
                 -0.5946974138975171,
                 44.84710231178261
                ],
                [
                 -0.5976569322118807,
                 44.84826903742706
                ],
                [
                 -0.5940158892956635,
                 44.85317820915153
                ],
                [
                 -0.5934271996912405,
                 44.85377949928019
                ],
                [
                 -0.5933783545440698,
                 44.853847775332135
                ],
                [
                 -0.5914237057113285,
                 44.85246814519715
                ],
                [
                 -0.5899687860915593,
                 44.85165002399518
                ],
                [
                 -0.592210954237534,
                 44.85170271477982
                ],
                [
                 -0.5918503463742661,
                 44.84509729897681
                ]
               ]
              ]
             ],
             "type": "MultiPolygon"
            },
            "id": "39",
            "properties": {
             "LIBCOM": "Bordeaux",
             "LIB_IRIS": "Saint-Seurin-Fondaudège 6",
             "area_m2": 253345.31499942244,
             "cleabs": "IRIS____0000000330630606",
             "code_insee": "33063",
             "code_iris": "330630606",
             "etabs_per_m2": 0.00011052108857850335,
             "iris": "0606",
             "nb_etabs": 28,
             "nb_etudiants": 2221,
             "nom_commune": "Bordeaux",
             "nom_iris": "Bordeaux",
             "students_per_m2": 0.008766690633316284,
             "type_iris": "H"
            },
            "type": "Feature"
           },
           {
            "bbox": [
             -0.5889015836421939,
             44.84396146808933,
             -0.5827723926900876,
             44.85016666426983
            ],
            "geometry": {
             "coordinates": [
              [
               [
                [
                 -0.5874020436215299,
                 44.84396146808933
                ],
                [
                 -0.5889015836421939,
                 44.84417342198897
                ],
                [
                 -0.586259255375334,
                 44.85016666426983
                ],
                [
                 -0.5860303508019862,
                 44.85007402431204
                ],
                [
                 -0.5827723926900876,
                 44.84855612808696
                ],
                [
                 -0.5874020436215299,
                 44.84396146808933
                ]
               ]
              ]
             ],
             "type": "MultiPolygon"
            },
            "id": "40",
            "properties": {
             "LIBCOM": "Bordeaux",
             "LIB_IRIS": "Saint-Seurin-Fondaudège 7",
             "area_m2": 145112.90999936455,
             "cleabs": "IRIS____0000000330630607",
             "code_insee": "33063",
             "code_iris": "330630607",
             "etabs_per_m2": 0,
             "iris": "0607",
             "nb_etabs": 0,
             "nb_etudiants": 0,
             "nom_commune": "Bordeaux",
             "nom_iris": "Bordeaux",
             "students_per_m2": 0,
             "type_iris": "H"
            },
            "type": "Feature"
           },
           {
            "bbox": [
             -0.5993368356633366,
             44.8402265971605,
             -0.5922620047178656,
             44.84826903742706
            ],
            "geometry": {
             "coordinates": [
              [
               [
                [
                 -0.5993368356633366,
                 44.8402265971605
                ],
                [
                 -0.5987409383597414,
                 44.84545526167614
                ],
                [
                 -0.5976569322118807,
                 44.84826903742706
                ],
                [
                 -0.5946974138975171,
                 44.84710231178261
                ],
                [
                 -0.5935762519068265,
                 44.84546048339823
                ],
                [
                 -0.5942381084534186,
                 44.84218456803721
                ],
                [
                 -0.5922620047178656,
                 44.84076060245537
                ],
                [
                 -0.5993368356633366,
                 44.8402265971605
                ]
               ]
              ]
             ],
             "type": "MultiPolygon"
            },
            "id": "41",
            "properties": {
             "LIBCOM": "Bordeaux",
             "LIB_IRIS": "Saint-Seurin-Fondaudège 8",
             "area_m2": 314271.25499967346,
             "cleabs": "IRIS____0000000330630608",
             "code_insee": "33063",
             "code_iris": "330630608",
             "etabs_per_m2": 0.00010500483093827428,
             "iris": "0608",
             "nb_etabs": 33,
             "nb_etudiants": 2150,
             "nom_commune": "Bordeaux",
             "nom_iris": "Bordeaux",
             "students_per_m2": 0.006841223833857264,
             "type_iris": "H"
            },
            "type": "Feature"
           },
           {
            "bbox": [
             -0.5942381084534186,
             44.84076060245537,
             -0.5830484779311027,
             44.84546048339823
            ],
            "geometry": {
             "coordinates": [
              [
               [
                [
                 -0.5918503463742661,
                 44.84509729897681
                ],
                [
                 -0.5889015836421939,
                 44.84417342198897
                ],
                [
                 -0.5874020436215299,
                 44.84396146808933
                ],
                [
                 -0.5858303045391003,
                 44.84238101052092
                ],
                [
                 -0.5830484779311027,
                 44.84148854094052
                ],
                [
                 -0.5851071091418608,
                 44.841331889730306
                ],
                [
                 -0.5922620047178656,
                 44.84076060245537
                ],
                [
                 -0.5942381084534186,
                 44.84218456803721
                ],
                [
                 -0.5935762519068265,
                 44.84546048339823
                ],
                [
                 -0.5918503463742661,
                 44.84509729897681
                ]
               ]
              ]
             ],
             "type": "MultiPolygon"
            },
            "id": "42",
            "properties": {
             "LIBCOM": "Bordeaux",
             "LIB_IRIS": "Saint-Seurin-Fondaudège 9",
             "area_m2": 249930.55499994484,
             "cleabs": "IRIS____0000000330630609",
             "code_insee": "33063",
             "code_iris": "330630609",
             "etabs_per_m2": 0.000004001111428733556,
             "iris": "0609",
             "nb_etabs": 1,
             "nb_etudiants": 55,
             "nom_commune": "Bordeaux",
             "nom_iris": "Bordeaux",
             "students_per_m2": 0.0002200611285803456,
             "type_iris": "H"
            },
            "type": "Feature"
           },
           {
            "bbox": [
             -0.6139724578171171,
             44.85533192396278,
             -0.6012912916146701,
             44.860616019627756
            ],
            "geometry": {
             "coordinates": [
              [
               [
                [
                 -0.6124537184475141,
                 44.860616019627756
                ],
                [
                 -0.6086445535902056,
                 44.8599081030178
                ],
                [
                 -0.6051797891542745,
                 44.85814879593716
                ],
                [
                 -0.6012912916146701,
                 44.8557262889902
                ],
                [
                 -0.6139724578171171,
                 44.85533192396278
                ],
                [
                 -0.6124537184475141,
                 44.860616019627756
                ]
               ]
              ]
             ],
             "type": "MultiPolygon"
            },
            "id": "43",
            "properties": {
             "LIBCOM": "Bordeaux",
             "LIB_IRIS": "Villa Primerose Parc Bordelais-Caudéran 1",
             "area_m2": 345202.69499849353,
             "cleabs": "IRIS____0000000330630701",
             "code_insee": "33063",
             "code_iris": "330630701",
             "etabs_per_m2": 0,
             "iris": "0701",
             "nb_etabs": 0,
             "nb_etudiants": 0,
             "nom_commune": "Bordeaux",
             "nom_iris": "Bordeaux",
             "students_per_m2": 0,
             "type_iris": "H"
            },
            "type": "Feature"
           },
           {
            "bbox": [
             -0.614746169029377,
             44.84826903742706,
             -0.5940158892956635,
             44.8557262889902
            ],
            "geometry": {
             "coordinates": [
              [
               [
                [
                 -0.5976569322118807,
                 44.84826903742706
                ],
                [
                 -0.6042840280890068,
                 44.85002137310947
                ],
                [
                 -0.6143869491024617,
                 44.852245058772965
                ],
                [
                 -0.614746169029377,
                 44.85227481263163
                ],
                [
                 -0.6139724578171171,
                 44.85533192396278
                ],
                [
                 -0.6012912916146701,
                 44.8557262889902
                ],
                [
                 -0.5985660788743793,
                 44.85422938693699
                ],
                [
                 -0.5940158892956635,
                 44.85317820915153
                ],
                [
                 -0.5976569322118807,
                 44.84826903742706
                ]
               ]
              ]
             ],
             "type": "MultiPolygon"
            },
            "id": "44",
            "properties": {
             "LIBCOM": "Bordeaux",
             "LIB_IRIS": "Villa Primerose Parc Bordelais-Caudéran 2",
             "area_m2": 827037.2450022853,
             "cleabs": "IRIS____0000000330630702",
             "code_insee": "33063",
             "code_iris": "330630702",
             "etabs_per_m2": 0.00002539184314479328,
             "iris": "0702",
             "nb_etabs": 21,
             "nb_etudiants": 608,
             "nom_commune": "Bordeaux",
             "nom_iris": "Bordeaux",
             "students_per_m2": 0.0007351543158111578,
             "type_iris": "H"
            },
            "type": "Feature"
           },
           {
            "bbox": [
             -0.606947800640217,
             44.844493932751,
             -0.5976569322118807,
             44.85002137310947
            ],
            "geometry": {
             "coordinates": [
              [
               [
                [
                 -0.606947800640217,
                 44.84462809073771
                ],
                [
                 -0.6042840280890068,
                 44.85002137310947
                ],
                [
                 -0.5976569322118807,
                 44.84826903742706
                ],
                [
                 -0.5987409383597414,
                 44.84545526167614
                ],
                [
                 -0.6061676665894419,
                 44.844493932751
                ],
                [
                 -0.606947800640217,
                 44.84462809073771
                ]
               ]
              ]
             ],
             "type": "MultiPolygon"
            },
            "id": "45",
            "properties": {
             "LIBCOM": "Bordeaux",
             "LIB_IRIS": "Villa Primerose Parc Bordelais-Caudéran 3",
             "area_m2": 282380.73000106023,
             "cleabs": "IRIS____0000000330630703",
             "code_insee": "33063",
             "code_iris": "330630703",
             "etabs_per_m2": 0,
             "iris": "0703",
             "nb_etabs": 0,
             "nb_etudiants": 0,
             "nom_commune": "Bordeaux",
             "nom_iris": "Bordeaux",
             "students_per_m2": 0,
             "type_iris": "H"
            },
            "type": "Feature"
           },
           {
            "bbox": [
             -0.6154626421077276,
             44.84462809073771,
             -0.6042840280890068,
             44.852245058772965
            ],
            "geometry": {
             "coordinates": [
              [
               [
                [
                 -0.6153474238142422,
                 44.84534151452378
                ],
                [
                 -0.6154626421077276,
                 44.84534046271176
                ],
                [
                 -0.6143869491024617,
                 44.852245058772965
                ],
                [
                 -0.6042840280890068,
                 44.85002137310947
                ],
                [
                 -0.606947800640217,
                 44.84462809073771
                ],
                [
                 -0.6153474238142422,
                 44.84534151452378
                ]
               ]
              ]
             ],
             "type": "MultiPolygon"
            },
            "id": "46",
            "properties": {
             "LIBCOM": "Bordeaux",
             "LIB_IRIS": "Villa Primerose Parc Bordelais-Caudéran 4",
             "area_m2": 526026.0349990957,
             "cleabs": "IRIS____0000000330630704",
             "code_insee": "33063",
             "code_iris": "330630704",
             "etabs_per_m2": 0.000022812559078032382,
             "iris": "0704",
             "nb_etabs": 12,
             "nb_etudiants": 2061,
             "nom_commune": "Bordeaux",
             "nom_iris": "Bordeaux",
             "students_per_m2": 0.003918057021652061,
             "type_iris": "H"
            },
            "type": "Feature"
           },
           {
            "bbox": [
             -0.6119015539095486,
             44.836226914860426,
             -0.5987409383597414,
             44.84545526167614
            ],
            "geometry": {
             "coordinates": [
              [
               [
                [
                 -0.6119015539095486,
                 44.83919893615307
                ],
                [
                 -0.6068235582137611,
                 44.83963818478296
                ],
                [
                 -0.6061676665894419,
                 44.844493932751
                ],
                [
                 -0.5987409383597414,
                 44.84545526167614
                ],
                [
                 -0.5993368356633366,
                 44.8402265971605
                ],
                [
                 -0.5990196079963086,
                 44.83660208414986
                ],
                [
                 -0.6031071484730183,
                 44.836226914860426
                ],
                [
                 -0.6068685253198799,
                 44.83700591361368
                ],
                [
                 -0.6112956559190476,
                 44.83830657895751
                ],
                [
                 -0.6119015539095486,
                 44.83919893615307
                ]
               ]
              ]
             ],
             "type": "MultiPolygon"
            },
            "id": "47",
            "properties": {
             "LIBCOM": "Bordeaux",
             "LIB_IRIS": "Villa Primerose Parc Bordelais-Caudéran 5",
             "area_m2": 629030.7949994276,
             "cleabs": "IRIS____0000000330630705",
             "code_insee": "33063",
             "code_iris": "330630705",
             "etabs_per_m2": 0,
             "iris": "0705",
             "nb_etabs": 0,
             "nb_etudiants": 0,
             "nom_commune": "Bordeaux",
             "nom_iris": "Bordeaux",
             "students_per_m2": 0,
             "type_iris": "H"
            },
            "type": "Feature"
           },
           {
            "bbox": [
             -0.6153474238142422,
             44.83919893615307,
             -0.6061676665894419,
             44.84534151452378
            ],
            "geometry": {
             "coordinates": [
              [
               [
                [
                 -0.606947800640217,
                 44.84462809073771
                ],
                [
                 -0.6061676665894419,
                 44.844493932751
                ],
                [
                 -0.6068235582137611,
                 44.83963818478296
                ],
                [
                 -0.6119015539095486,
                 44.83919893615307
                ],
                [
                 -0.6151061637471484,
                 44.84348373555476
                ],
                [
                 -0.6153474238142422,
                 44.84534151452378
                ],
                [
                 -0.606947800640217,
                 44.84462809073771
                ]
               ]
              ]
             ],
             "type": "MultiPolygon"
            },
            "id": "48",
            "properties": {
             "LIBCOM": "Bordeaux",
             "LIB_IRIS": "Villa Primerose Parc Bordelais-Caudéran 6",
             "area_m2": 365672.37500097096,
             "cleabs": "IRIS____0000000330630706",
             "code_insee": "33063",
             "code_iris": "330630706",
             "etabs_per_m2": 0,
             "iris": "0706",
             "nb_etabs": 0,
             "nb_etudiants": 0,
             "nom_commune": "Bordeaux",
             "nom_iris": "Bordeaux",
             "students_per_m2": 0,
             "type_iris": "H"
            },
            "type": "Feature"
           },
           {
            "bbox": [
             -0.6215556629453287,
             44.85227481263163,
             -0.6124537184475141,
             44.86321687750325
            ],
            "geometry": {
             "coordinates": [
              [
               [
                [
                 -0.6139724578171171,
                 44.85533192396278
                ],
                [
                 -0.614746169029377,
                 44.85227481263163
                ],
                [
                 -0.6198745004629674,
                 44.85242212911326
                ],
                [
                 -0.6215556629453287,
                 44.85338119909563
                ],
                [
                 -0.6182694205753843,
                 44.86321687750325
                ],
                [
                 -0.6127404471084921,
                 44.8606409318573
                ],
                [
                 -0.6124537184475141,
                 44.860616019627756
                ],
                [
                 -0.6139724578171171,
                 44.85533192396278
                ]
               ]
              ]
             ],
             "type": "MultiPolygon"
            },
            "id": "49",
            "properties": {
             "LIBCOM": "Bordeaux",
             "LIB_IRIS": "Lestonnat-Monséjour 1",
             "area_m2": 564208.5200006532,
             "cleabs": "IRIS____0000000330630801",
             "code_insee": "33063",
             "code_iris": "330630801",
             "etabs_per_m2": 0,
             "iris": "0801",
             "nb_etabs": 0,
             "nb_etudiants": 0,
             "nom_commune": "Bordeaux",
             "nom_iris": "Bordeaux",
             "students_per_m2": 0,
             "type_iris": "H"
            },
            "type": "Feature"
           },
           {
            "bbox": [
             -0.6265196670876374,
             44.85338119909563,
             -0.6182694205753843,
             44.86596615452175
            ],
            "geometry": {
             "coordinates": [
              [
               [
                [
                 -0.6182694205753843,
                 44.86321687750325
                ],
                [
                 -0.6215556629453287,
                 44.85338119909563
                ],
                [
                 -0.6265196670876374,
                 44.85594451625107
                ],
                [
                 -0.6258479931981206,
                 44.86114075653778
                ],
                [
                 -0.6226226047534207,
                 44.86596615452175
                ],
                [
                 -0.6182694205753843,
                 44.86321687750325
                ]
               ]
              ]
             ],
             "type": "MultiPolygon"
            },
            "id": "50",
            "properties": {
             "LIBCOM": "Bordeaux",
             "LIB_IRIS": "Lestonnat-Monséjour 2",
             "area_m2": 548846.239998851,
             "cleabs": "IRIS____0000000330630802",
             "code_insee": "33063",
             "code_iris": "330630802",
             "etabs_per_m2": 0,
             "iris": "0802",
             "nb_etabs": 0,
             "nb_etudiants": 0,
             "nom_commune": "Bordeaux",
             "nom_iris": "Bordeaux",
             "students_per_m2": 0,
             "type_iris": "H"
            },
            "type": "Feature"
           },
           {
            "bbox": [
             -0.62812489498709,
             44.847014423633894,
             -0.6198745004629674,
             44.85594451625107
            ],
            "geometry": {
             "coordinates": [
              [
               [
                [
                 -0.6214489644123085,
                 44.847014423633894
                ],
                [
                 -0.62812489498709,
                 44.84731629720194
                ],
                [
                 -0.6265589750061562,
                 44.851964056075545
                ],
                [
                 -0.6265196670876374,
                 44.85594451625107
                ],
                [
                 -0.6215556629453287,
                 44.85338119909563
                ],
                [
                 -0.6198745004629674,
                 44.85242212911326
                ],
                [
                 -0.6214489644123085,
                 44.847014423633894
                ]
               ]
              ]
             ],
             "type": "MultiPolygon"
            },
            "id": "51",
            "properties": {
             "LIBCOM": "Bordeaux",
             "LIB_IRIS": "Lestonnat-Monséjour 3",
             "area_m2": 412310.1700015187,
             "cleabs": "IRIS____0000000330630803",
             "code_insee": "33063",
             "code_iris": "330630803",
             "etabs_per_m2": 0,
             "iris": "0803",
             "nb_etabs": 0,
             "nb_etudiants": 0,
             "nom_commune": "Bordeaux",
             "nom_iris": "Bordeaux",
             "students_per_m2": 0,
             "type_iris": "H"
            },
            "type": "Feature"
           },
           {
            "bbox": [
             -0.6214489644123085,
             44.84534046271176,
             -0.6143869491024617,
             44.85242212911326
            ],
            "geometry": {
             "coordinates": [
              [
               [
                [
                 -0.6154626421077276,
                 44.84534046271176
                ],
                [
                 -0.6177940867598891,
                 44.84575924321734
                ],
                [
                 -0.6214489644123085,
                 44.847014423633894
                ],
                [
                 -0.6198745004629674,
                 44.85242212911326
                ],
                [
                 -0.614746169029377,
                 44.85227481263163
                ],
                [
                 -0.6143869491024617,
                 44.852245058772965
                ],
                [
                 -0.6154626421077276,
                 44.84534046271176
                ]
               ]
              ]
             ],
             "type": "MultiPolygon"
            },
            "id": "52",
            "properties": {
             "LIBCOM": "Bordeaux",
             "LIB_IRIS": "Lestonnat-Monséjour 4",
             "area_m2": 327264.0199988789,
             "cleabs": "IRIS____0000000330630804",
             "code_insee": "33063",
             "code_iris": "330630804",
             "etabs_per_m2": 0,
             "iris": "0804",
             "nb_etabs": 0,
             "nb_etudiants": 0,
             "nom_commune": "Bordeaux",
             "nom_iris": "Bordeaux",
             "students_per_m2": 0,
             "type_iris": "H"
            },
            "type": "Feature"
           },
           {
            "bbox": [
             -0.62812489498709,
             44.838589311453745,
             -0.6177940867598891,
             44.84731629720194
            ],
            "geometry": {
             "coordinates": [
              [
               [
                [
                 -0.6210334449100073,
                 44.838589311453745
                ],
                [
                 -0.6258902927521041,
                 44.83878843431879
                ],
                [
                 -0.6266179585337187,
                 44.838875498964796
                ],
                [
                 -0.62812489498709,
                 44.84731629720194
                ],
                [
                 -0.6214489644123085,
                 44.847014423633894
                ],
                [
                 -0.6177940867598891,
                 44.84575924321734
                ],
                [
                 -0.6210334449100073,
                 44.838589311453745
                ]
               ]
              ]
             ],
             "type": "MultiPolygon"
            },
            "id": "53",
            "properties": {
             "LIBCOM": "Bordeaux",
             "LIB_IRIS": "Lestonnat-Monséjour 5",
             "area_m2": 585296.9449988925,
             "cleabs": "IRIS____0000000330630805",
             "code_insee": "33063",
             "code_iris": "330630805",
             "etabs_per_m2": 0,
             "iris": "0805",
             "nb_etabs": 0,
             "nb_etudiants": 0,
             "nom_commune": "Bordeaux",
             "nom_iris": "Bordeaux",
             "students_per_m2": 0,
             "type_iris": "H"
            },
            "type": "Feature"
           },
           {
            "bbox": [
             -0.6210334449100073,
             44.83830657895751,
             -0.6112956559190476,
             44.84575924321734
            ],
            "geometry": {
             "coordinates": [
              [
               [
                [
                 -0.6210334449100073,
                 44.838589311453745
                ],
                [
                 -0.6177940867598891,
                 44.84575924321734
                ],
                [
                 -0.6154626421077276,
                 44.84534046271176
                ],
                [
                 -0.6153474238142422,
                 44.84534151452378
                ],
                [
                 -0.6151061637471484,
                 44.84348373555476
                ],
                [
                 -0.6119015539095486,
                 44.83919893615307
                ],
                [
                 -0.6112956559190476,
                 44.83830657895751
                ],
                [
                 -0.6210334449100073,
                 44.838589311453745
                ]
               ]
              ]
             ],
             "type": "MultiPolygon"
            },
            "id": "54",
            "properties": {
             "LIBCOM": "Bordeaux",
             "LIB_IRIS": "Lestonnat-Monséjour 6",
             "area_m2": 353880.84000002244,
             "cleabs": "IRIS____0000000330630806",
             "code_insee": "33063",
             "code_iris": "330630806",
             "etabs_per_m2": 0,
             "iris": "0806",
             "nb_etabs": 0,
             "nb_etudiants": 0,
             "nom_commune": "Bordeaux",
             "nom_iris": "Bordeaux",
             "students_per_m2": 0,
             "type_iris": "H"
            },
            "type": "Feature"
           },
           {
            "bbox": [
             -0.6380971810644035,
             44.851270311123,
             -0.6266545271277997,
             44.857267910593045
            ],
            "geometry": {
             "coordinates": [
              [
               [
                [
                 -0.6371440972379054,
                 44.85196809381585
                ],
                [
                 -0.6364108128937573,
                 44.855161071973306
                ],
                [
                 -0.6380971810644035,
                 44.856448705216344
                ],
                [
                 -0.6374797840278819,
                 44.856600539280095
                ],
                [
                 -0.633836859038731,
                 44.857267910593045
                ],
                [
                 -0.6266545271277997,
                 44.85597255386775
                ],
                [
                 -0.6308220301947718,
                 44.851270311123
                ],
                [
                 -0.6321377773006108,
                 44.85139667872789
                ],
                [
                 -0.6371440972379054,
                 44.85196809381585
                ]
               ]
              ]
             ],
             "type": "MultiPolygon"
            },
            "id": "55",
            "properties": {
             "LIBCOM": "Bordeaux",
             "LIB_IRIS": "Lestonnat-Monséjour 7",
             "area_m2": 389547.5700003781,
             "cleabs": "IRIS____0000000330630807",
             "code_insee": "33063",
             "code_iris": "330630807",
             "etabs_per_m2": 0,
             "iris": "0807",
             "nb_etabs": 0,
             "nb_etudiants": 0,
             "nom_commune": "Bordeaux",
             "nom_iris": "Bordeaux",
             "students_per_m2": 0,
             "type_iris": "H"
            },
            "type": "Feature"
           },
           {
            "bbox": [
             -0.633546611186289,
             44.838875498964796,
             -0.6265196670876374,
             44.85597255386775
            ],
            "geometry": {
             "coordinates": [
              [
               [
                [
                 -0.6266179585337187,
                 44.838875498964796
                ],
                [
                 -0.6269654025781407,
                 44.838939844336416
                ],
                [
                 -0.6293187585586063,
                 44.84363875481302
                ],
                [
                 -0.6304208552960937,
                 44.84385324305545
                ],
                [
                 -0.6332788742281323,
                 44.846808708526076
                ],
                [
                 -0.633546611186289,
                 44.848322212242216
                ],
                [
                 -0.6321377773006108,
                 44.85139667872789
                ],
                [
                 -0.6308220301947718,
                 44.851270311123
                ],
                [
                 -0.6266545271277997,
                 44.85597255386775
                ],
                [
                 -0.6265196670876374,
                 44.85594451625107
                ],
                [
                 -0.6265589750061562,
                 44.851964056075545
                ],
                [
                 -0.62812489498709,
                 44.84731629720194
                ],
                [
                 -0.6266179585337187,
                 44.838875498964796
                ]
               ]
              ]
             ],
             "type": "MultiPolygon"
            },
            "id": "56",
            "properties": {
             "LIBCOM": "Bordeaux",
             "LIB_IRIS": "Lestonnat-Monséjour 8",
             "area_m2": 462480.2249998074,
             "cleabs": "IRIS____0000000330630808",
             "code_insee": "33063",
             "code_iris": "330630808",
             "etabs_per_m2": 0,
             "iris": "0808",
             "nb_etabs": 0,
             "nb_etudiants": 0,
             "nom_commune": "Bordeaux",
             "nom_iris": "Bordeaux",
             "students_per_m2": 0,
             "type_iris": "H"
            },
            "type": "Feature"
           },
           {
            "bbox": [
             -0.638510357982969,
             44.85594451625107,
             -0.6226226047534207,
             44.871656798618325
            ],
            "geometry": {
             "coordinates": [
              [
               [
                [
                 -0.6309257138597779,
                 44.871656798618325
                ],
                [
                 -0.6226226047534207,
                 44.86596615452175
                ],
                [
                 -0.6258479931981206,
                 44.86114075653778
                ],
                [
                 -0.6265196670876374,
                 44.85594451625107
                ],
                [
                 -0.6266545271277997,
                 44.85597255386775
                ],
                [
                 -0.633836859038731,
                 44.857267910593045
                ],
                [
                 -0.6374797840278819,
                 44.856600539280095
                ],
                [
                 -0.638510357982969,
                 44.856919148627924
                ],
                [
                 -0.6383230365804003,
                 44.86073415654653
                ],
                [
                 -0.636542452158753,
                 44.86049781198116
                ],
                [
                 -0.6333431862706445,
                 44.86191491124093
                ],
                [
                 -0.6314504357129865,
                 44.86384255104118
                ],
                [
                 -0.6328792447640822,
                 44.865064795470566
                ],
                [
                 -0.6329882310238188,
                 44.86659162117174
                ],
                [
                 -0.6309257138597779,
                 44.871656798618325
                ]
               ]
              ]
             ],
             "type": "MultiPolygon"
            },
            "id": "57",
            "properties": {
             "LIBCOM": "Bordeaux",
             "LIB_IRIS": "Lestonnat-Monséjour 9",
             "area_m2": 1088054.645000413,
             "cleabs": "IRIS____0000000330630809",
             "code_insee": "33063",
             "code_iris": "330630809",
             "etabs_per_m2": 0,
             "iris": "0809",
             "nb_etabs": 0,
             "nb_etudiants": 0,
             "nom_commune": "Bordeaux",
             "nom_iris": "Bordeaux",
             "students_per_m2": 0,
             "type_iris": "H"
            },
            "type": "Feature"
           },
           {
            "bbox": [
             -0.6141235100989022,
             44.82145569013328,
             -0.5985770920809669,
             44.83052356283473
            ],
            "geometry": {
             "coordinates": [
              [
               [
                [
                 -0.6135824395839025,
                 44.82650383476341
                ],
                [
                 -0.6126132634928825,
                 44.82663635836822
                ],
                [
                 -0.612846618399506,
                 44.827763454519975
                ],
                [
                 -0.6065221893023807,
                 44.8300368490589
                ],
                [
                 -0.6028893574562084,
                 44.83052356283473
                ],
                [
                 -0.6017297115956082,
                 44.827273420097285
                ],
                [
                 -0.5985770920809669,
                 44.82523167675208
                ],
                [
                 -0.6000481789185516,
                 44.823663491819886
                ],
                [
                 -0.6067021597308293,
                 44.82189526001836
                ],
                [
                 -0.6084949196306093,
                 44.82145569013328
                ],
                [
                 -0.6105425221878087,
                 44.822656209962965
                ],
                [
                 -0.6118856313162564,
                 44.82288464669421
                ],
                [
                 -0.6141235100989022,
                 44.825288411154666
                ],
                [
                 -0.6135824395839025,
                 44.82650383476341
                ]
               ]
              ]
             ],
             "type": "MultiPolygon"
            },
            "id": "58",
            "properties": {
             "LIBCOM": "Bordeaux",
             "LIB_IRIS": "Saint-Augustin 1",
             "area_m2": 758787.7799998467,
             "cleabs": "IRIS____0000000330630901",
             "code_insee": "33063",
             "code_iris": "330630901",
             "etabs_per_m2": 0.00017000800935411224,
             "iris": "0901",
             "nb_etabs": 129,
             "nb_etudiants": 122442,
             "nom_commune": "Bordeaux",
             "nom_iris": "Bordeaux",
             "students_per_m2": 0.1613652765995055,
             "type_iris": "H"
            },
            "type": "Feature"
           },
           {
            "bbox": [
             -0.6067021597308293,
             44.818423422591366,
             -0.5940235514692995,
             44.823663491819886
            ],
            "geometry": {
             "coordinates": [
              [
               [
                [
                 -0.5940235514692995,
                 44.82187527278736
                ],
                [
                 -0.5959946045273153,
                 44.82046127411155
                ],
                [
                 -0.5990366245012011,
                 44.81906384807524
                ],
                [
                 -0.60296531634044,
                 44.818423422591366
                ],
                [
                 -0.6038581702930169,
                 44.82004371410197
                ],
                [
                 -0.605026327650152,
                 44.81969840473588
                ],
                [
                 -0.6067021597308293,
                 44.82189526001836
                ],
                [
                 -0.6000481789185516,
                 44.823663491819886
                ],
                [
                 -0.5940235514692995,
                 44.82187527278736
                ]
               ]
              ]
             ],
             "type": "MultiPolygon"
            },
            "id": "59",
            "properties": {
             "LIBCOM": "Bordeaux",
             "LIB_IRIS": "Saint-Augustin 2",
             "area_m2": 333946.57499972807,
             "cleabs": "IRIS____0000000330630902",
             "code_insee": "33063",
             "code_iris": "330630902",
             "etabs_per_m2": 0,
             "iris": "0902",
             "nb_etabs": 0,
             "nb_etudiants": 0,
             "nom_commune": "Bordeaux",
             "nom_iris": "Bordeaux",
             "students_per_m2": 0,
             "type_iris": "H"
            },
            "type": "Feature"
           },
           {
            "bbox": [
             -0.6028893574562084,
             44.82187527278736,
             -0.5892107759984909,
             44.83141623279868
            ],
            "geometry": {
             "coordinates": [
              [
               [
                [
                 -0.5949651444895605,
                 44.828988136930924
                ],
                [
                 -0.5892107759984909,
                 44.82537123813
                ],
                [
                 -0.5930919395534664,
                 44.82320778694964
                ],
                [
                 -0.5940235514692995,
                 44.82187527278736
                ],
                [
                 -0.6000481789185516,
                 44.823663491819886
                ],
                [
                 -0.5985770920809669,
                 44.82523167675208
                ],
                [
                 -0.6017297115956082,
                 44.827273420097285
                ],
                [
                 -0.6028893574562084,
                 44.83052356283473
                ],
                [
                 -0.5985466249144827,
                 44.83141623279868
                ],
                [
                 -0.5949651444895605,
                 44.828988136930924
                ]
               ]
              ]
             ],
             "type": "MultiPolygon"
            },
            "id": "60",
            "properties": {
             "LIBCOM": "Bordeaux",
             "LIB_IRIS": "Saint-Augustin 3",
             "area_m2": 582110.1199994247,
             "cleabs": "IRIS____0000000330630903",
             "code_insee": "33063",
             "code_iris": "330630903",
             "etabs_per_m2": 0,
             "iris": "0903",
             "nb_etabs": 0,
             "nb_etudiants": 0,
             "nom_commune": "Bordeaux",
             "nom_iris": "Bordeaux",
             "students_per_m2": 0,
             "type_iris": "H"
            },
            "type": "Feature"
           },
           {
            "bbox": [
             -0.6138751474113024,
             44.827763454519975,
             -0.6022051352755862,
             44.83419166242081
            ],
            "geometry": {
             "coordinates": [
              [
               [
                [
                 -0.6028893574562084,
                 44.83052356283473
                ],
                [
                 -0.6065221893023807,
                 44.8300368490589
                ],
                [
                 -0.612846618399506,
                 44.827763454519975
                ],
                [
                 -0.6128672632142317,
                 44.82780874665124
                ],
                [
                 -0.6138751474113024,
                 44.829871358219634
                ],
                [
                 -0.6126261634339987,
                 44.83256539986435
                ],
                [
                 -0.6103178801230156,
                 44.83419166242081
                ],
                [
                 -0.6105903492425976,
                 44.83356361819184
                ],
                [
                 -0.6091715437518115,
                 44.833166379160296
                ],
                [
                 -0.6022051352755862,
                 44.8324537723425
                ],
                [
                 -0.6028893574562084,
                 44.83052356283473
                ]
               ]
              ]
             ],
             "type": "MultiPolygon"
            },
            "id": "61",
            "properties": {
             "LIBCOM": "Bordeaux",
             "LIB_IRIS": "Saint-Augustin 4",
             "area_m2": 340159.9200008938,
             "cleabs": "IRIS____0000000330630904",
             "code_insee": "33063",
             "code_iris": "330630904",
             "etabs_per_m2": 0,
             "iris": "0904",
             "nb_etabs": 0,
             "nb_etudiants": 0,
             "nom_commune": "Bordeaux",
             "nom_iris": "Bordeaux",
             "students_per_m2": 0,
             "type_iris": "H"
            },
            "type": "Feature"
           },
           {
            "bbox": [
             -0.6105903492425976,
             44.83052356283473,
             -0.5985466249144827,
             44.83700591361368
            ],
            "geometry": {
             "coordinates": [
              [
               [
                [
                 -0.5990196079963086,
                 44.83660208414986
                ],
                [
                 -0.5985466249144827,
                 44.83141623279868
                ],
                [
                 -0.6028893574562084,
                 44.83052356283473
                ],
                [
                 -0.6022051352755862,
                 44.8324537723425
                ],
                [
                 -0.6091715437518115,
                 44.833166379160296
                ],
                [
                 -0.6105903492425976,
                 44.83356361819184
                ],
                [
                 -0.6103178801230156,
                 44.83419166242081
                ],
                [
                 -0.6088426118006567,
                 44.83664066710482
                ],
                [
                 -0.6068685253198799,
                 44.83700591361368
                ],
                [
                 -0.6031071484730183,
                 44.836226914860426
                ],
                [
                 -0.5990196079963086,
                 44.83660208414986
                ]
               ]
              ]
             ],
             "type": "MultiPolygon"
            },
            "id": "62",
            "properties": {
             "LIBCOM": "Bordeaux",
             "LIB_IRIS": "Saint-Augustin 5",
             "area_m2": 421135.0500000169,
             "cleabs": "IRIS____0000000330630905",
             "code_insee": "33063",
             "code_iris": "330630905",
             "etabs_per_m2": 0,
             "iris": "0905",
             "nb_etabs": 0,
             "nb_etudiants": 0,
             "nom_commune": "Bordeaux",
             "nom_iris": "Bordeaux",
             "students_per_m2": 0,
             "type_iris": "H"
            },
            "type": "Feature"
           },
           {
            "bbox": [
             -0.5993368356633366,
             44.83660208414986,
             -0.5851071091418608,
             44.841331889730306
            ],
            "geometry": {
             "coordinates": [
              [
               [
                [
                 -0.5906981414053578,
                 44.83827419027629
                ],
                [
                 -0.5990196079963086,
                 44.83660208414986
                ],
                [
                 -0.5993368356633366,
                 44.8402265971605
                ],
                [
                 -0.5922620047178656,
                 44.84076060245537
                ],
                [
                 -0.5851071091418608,
                 44.841331889730306
                ],
                [
                 -0.5874337636439018,
                 44.83932345212323
                ],
                [
                 -0.5906981414053578,
                 44.83827419027629
                ]
               ]
              ]
             ],
             "type": "MultiPolygon"
            },
            "id": "63",
            "properties": {
             "LIBCOM": "Bordeaux",
             "LIB_IRIS": "Saint-Bruno-Saint-Victor 1",
             "area_m2": 315617.8400016879,
             "cleabs": "IRIS____0000000330631001",
             "code_insee": "33063",
             "code_iris": "330631001",
             "etabs_per_m2": 0,
             "iris": "1001",
             "nb_etabs": 0,
             "nb_etudiants": 0,
             "nom_commune": "Bordeaux",
             "nom_iris": "Bordeaux",
             "students_per_m2": 0,
             "type_iris": "H"
            },
            "type": "Feature"
           },
           {
            "bbox": [
             -0.5990196079963086,
             44.828988136930924,
             -0.5877109962868983,
             44.83827419027629
            ],
            "geometry": {
             "coordinates": [
              [
               [
                [
                 -0.5906981414053578,
                 44.83827419027629
                ],
                [
                 -0.5888520614733332,
                 44.83535347579231
                ],
                [
                 -0.5877109962868983,
                 44.83214496230374
                ],
                [
                 -0.5949651444895605,
                 44.828988136930924
                ],
                [
                 -0.5985466249144827,
                 44.83141623279868
                ],
                [
                 -0.5990196079963086,
                 44.83660208414986
                ],
                [
                 -0.5906981414053578,
                 44.83827419027629
                ]
               ]
              ]
             ],
             "type": "MultiPolygon"
            },
            "id": "64",
            "properties": {
             "LIBCOM": "Bordeaux",
             "LIB_IRIS": "Saint-Bruno-Saint-Victor 3",
             "area_m2": 632235.3249997509,
             "cleabs": "IRIS____0000000330631003",
             "code_insee": "33063",
             "code_iris": "330631003",
             "etabs_per_m2": 0,
             "iris": "1003",
             "nb_etabs": 0,
             "nb_etudiants": 0,
             "nom_commune": "Bordeaux",
             "nom_iris": "Bordeaux",
             "students_per_m2": 0,
             "type_iris": "H"
            },
            "type": "Feature"
           },
           {
            "bbox": [
             -0.5873398442674544,
             44.82750569843775,
             -0.5779061574291398,
             44.834954190652844
            ],
            "geometry": {
             "coordinates": [
              [
               [
                [
                 -0.5804883615439559,
                 44.834954190652844
                ],
                [
                 -0.5796057657834928,
                 44.83245466271854
                ],
                [
                 -0.5779061574291398,
                 44.83201923091056
                ],
                [
                 -0.5784231578299787,
                 44.83093005679853
                ],
                [
                 -0.5835209175146453,
                 44.82862765491678
                ],
                [
                 -0.585915106554917,
                 44.82750569843775
                ],
                [
                 -0.5873398442674544,
                 44.83117279547793
                ],
                [
                 -0.5804883615439559,
                 44.834954190652844
                ]
               ]
              ]
             ],
             "type": "MultiPolygon"
            },
            "id": "65",
            "properties": {
             "LIBCOM": "Bordeaux",
             "LIB_IRIS": "Saint-Bruno-Saint-Victor 4",
             "area_m2": 298442.32999974466,
             "cleabs": "IRIS____0000000330631004",
             "code_insee": "33063",
             "code_iris": "330631004",
             "etabs_per_m2": 0.00006701462222204576,
             "iris": "1004",
             "nb_etabs": 20,
             "nb_etudiants": 1026,
             "nom_commune": "Bordeaux",
             "nom_iris": "Bordeaux",
             "students_per_m2": 0.003437850119990947,
             "type_iris": "H"
            },
            "type": "Feature"
           },
           {
            "bbox": [
             -0.5888520614733332,
             44.83117279547793,
             -0.5804883615439559,
             44.83683724185288
            ],
            "geometry": {
             "coordinates": [
              [
               [
                [
                 -0.5888520614733332,
                 44.83535347579231
                ],
                [
                 -0.5872209644972688,
                 44.83629038468303
                ],
                [
                 -0.5810923130805493,
                 44.83683724185288
                ],
                [
                 -0.5809877194912698,
                 44.83648822788921
                ],
                [
                 -0.5804883615439559,
                 44.834954190652844
                ],
                [
                 -0.5873398442674544,
                 44.83117279547793
                ],
                [
                 -0.5877109962868983,
                 44.83214496230374
                ],
                [
                 -0.5888520614733332,
                 44.83535347579231
                ]
               ]
              ]
             ],
             "type": "MultiPolygon"
            },
            "id": "66",
            "properties": {
             "LIBCOM": "Bordeaux",
             "LIB_IRIS": "Saint-Bruno-Saint-Victor 5",
             "area_m2": 240464.73499999198,
             "cleabs": "IRIS____0000000330631005",
             "code_insee": "33063",
             "code_iris": "330631005",
             "etabs_per_m2": 0.00004158613943953292,
             "iris": "1005",
             "nb_etabs": 10,
             "nb_etudiants": 260,
             "nom_commune": "Bordeaux",
             "nom_iris": "Bordeaux",
             "students_per_m2": 0.001081239625427856,
             "type_iris": "H"
            },
            "type": "Feature"
           },
           {
            "bbox": [
             -0.5949651444895605,
             44.82537123813,
             -0.585915106554917,
             44.83214496230374
            ],
            "geometry": {
             "coordinates": [
              [
               [
                [
                 -0.5892107759984909,
                 44.82537123813
                ],
                [
                 -0.5949651444895605,
                 44.828988136930924
                ],
                [
                 -0.5877109962868983,
                 44.83214496230374
                ],
                [
                 -0.5873398442674544,
                 44.83117279547793
                ],
                [
                 -0.585915106554917,
                 44.82750569843775
                ],
                [
                 -0.5892107759984909,
                 44.82537123813
                ]
               ]
              ]
             ],
             "type": "MultiPolygon"
            },
            "id": "67",
            "properties": {
             "LIBCOM": "Bordeaux",
             "LIB_IRIS": "Saint-Bruno-Saint-Victor 6",
             "area_m2": 278744.1100004907,
             "cleabs": "IRIS____0000000330631006",
             "code_insee": "33063",
             "code_iris": "330631006",
             "etabs_per_m2": 0.000021525118503811393,
             "iris": "1006",
             "nb_etabs": 6,
             "nb_etudiants": 71,
             "nom_commune": "Bordeaux",
             "nom_iris": "Bordeaux",
             "students_per_m2": 0.0002547139022951015,
             "type_iris": "H"
            },
            "type": "Feature"
           },
           {
            "bbox": [
             -0.5673733017356911,
             44.83147714933686,
             -0.5617778559855946,
             44.83474774987576
            ],
            "geometry": {
             "coordinates": [
              [
               [
                [
                 -0.5617778559855946,
                 44.833175611994506
                ],
                [
                 -0.5635644046237948,
                 44.83182943386431
                ],
                [
                 -0.5673733017356911,
                 44.83147714933686
                ],
                [
                 -0.5660852420969604,
                 44.83474774987576
                ],
                [
                 -0.5635585546688835,
                 44.834451348116666
                ],
                [
                 -0.5617778559855946,
                 44.833175611994506
                ]
               ]
              ]
             ],
             "type": "MultiPolygon"
            },
            "id": "68",
            "properties": {
             "LIBCOM": "Bordeaux",
             "LIB_IRIS": "Capucins-Victoire 1",
             "area_m2": 102296.23000005077,
             "cleabs": "IRIS____0000000330631101",
             "code_insee": "33063",
             "code_iris": "330631101",
             "etabs_per_m2": 0,
             "iris": "1101",
             "nb_etabs": 0,
             "nb_etudiants": 0,
             "nom_commune": "Bordeaux",
             "nom_iris": "Bordeaux",
             "students_per_m2": 0,
             "type_iris": "H"
            },
            "type": "Feature"
           },
           {
            "bbox": [
             -0.5772563401448693,
             44.831121811642305,
             -0.5725599467039613,
             44.83499093103152
            ],
            "geometry": {
             "coordinates": [
              [
               [
                [
                 -0.5733585397315657,
                 44.8348939545845
                ],
                [
                 -0.5725599467039613,
                 44.831121811642305
                ],
                [
                 -0.5772563401448693,
                 44.83187887092085
                ],
                [
                 -0.5744603342832643,
                 44.83499093103152
                ],
                [
                 -0.5733585397315657,
                 44.8348939545845
                ]
               ]
              ]
             ],
             "type": "MultiPolygon"
            },
            "id": "69",
            "properties": {
             "LIBCOM": "Bordeaux",
             "LIB_IRIS": "Capucins-Victoire 2",
             "area_m2": 91343.52500021759,
             "cleabs": "IRIS____0000000330631102",
             "code_insee": "33063",
             "code_iris": "330631102",
             "etabs_per_m2": 0.0001532675687736668,
             "iris": "1102",
             "nb_etabs": 14,
             "nb_etudiants": 10714,
             "nom_commune": "Bordeaux",
             "nom_iris": "Bordeaux",
             "students_per_m2": 0.11729348084579042,
             "type_iris": "H"
            },
            "type": "Feature"
           },
           {
            "bbox": [
             -0.5733585397315657,
             44.830876749472274,
             -0.5674276420688575,
             44.83530564324558
            ],
            "geometry": {
             "coordinates": [
              [
               [
                [
                 -0.5719867434009259,
                 44.83095101453164
                ],
                [
                 -0.5725599467039613,
                 44.831121811642305
                ],
                [
                 -0.5733585397315657,
                 44.8348939545845
                ],
                [
                 -0.5695582785572906,
                 44.83530564324558
                ],
                [
                 -0.569562806535233,
                 44.833085718809464
                ],
                [
                 -0.5674276420688575,
                 44.831335707745104
                ],
                [
                 -0.5698150018782197,
                 44.830876749472274
                ],
                [
                 -0.5719867434009259,
                 44.83095101453164
                ]
               ]
              ]
             ],
             "type": "MultiPolygon"
            },
            "id": "70",
            "properties": {
             "LIBCOM": "Bordeaux",
             "LIB_IRIS": "Capucins-Victoire 3",
             "area_m2": 144492.23000011363,
             "cleabs": "IRIS____0000000330631103",
             "code_insee": "33063",
             "code_iris": "330631103",
             "etabs_per_m2": 0.0007751281850928034,
             "iris": "1103",
             "nb_etabs": 112,
             "nb_etudiants": 29541,
             "nom_commune": "Bordeaux",
             "nom_iris": "Bordeaux",
             "students_per_m2": 0.2044469796055938,
             "type_iris": "H"
            },
            "type": "Feature"
           },
           {
            "bbox": [
             -0.569562806535233,
             44.831335707745104,
             -0.5589610873349957,
             44.838356621210984
            ],
            "geometry": {
             "coordinates": [
              [
               [
                [
                 -0.5673733017356911,
                 44.83147714933686
                ],
                [
                 -0.5674276420688575,
                 44.831335707745104
                ],
                [
                 -0.569562806535233,
                 44.833085718809464
                ],
                [
                 -0.5695582785572906,
                 44.83530564324558
                ],
                [
                 -0.562936218383755,
                 44.838356621210984
                ],
                [
                 -0.5589610873349957,
                 44.835394786296604
                ],
                [
                 -0.5617778559855946,
                 44.833175611994506
                ],
                [
                 -0.5635585546688835,
                 44.834451348116666
                ],
                [
                 -0.5660852420969604,
                 44.83474774987576
                ],
                [
                 -0.5673733017356911,
                 44.83147714933686
                ]
               ]
              ]
             ],
             "type": "MultiPolygon"
            },
            "id": "71",
            "properties": {
             "LIBCOM": "Bordeaux",
             "LIB_IRIS": "Capucins-Victoire 4",
             "area_m2": 292299.50500027655,
             "cleabs": "IRIS____0000000330631104",
             "code_insee": "33063",
             "code_iris": "330631104",
             "etabs_per_m2": 0,
             "iris": "1104",
             "nb_etabs": 0,
             "nb_etudiants": 0,
             "nom_commune": "Bordeaux",
             "nom_iris": "Bordeaux",
             "students_per_m2": 0,
             "type_iris": "H"
            },
            "type": "Feature"
           },
           {
            "bbox": [
             -0.5698851718594092,
             44.828189067583324,
             -0.5578371965863964,
             44.835394786296604
            ],
            "geometry": {
             "coordinates": [
              [
               [
                [
                 -0.5698851718594092,
                 44.830227393680595
                ],
                [
                 -0.5698150018782197,
                 44.830876749472274
                ],
                [
                 -0.5674276420688575,
                 44.831335707745104
                ],
                [
                 -0.5673733017356911,
                 44.83147714933686
                ],
                [
                 -0.5635644046237948,
                 44.83182943386431
                ],
                [
                 -0.5617778559855946,
                 44.833175611994506
                ],
                [
                 -0.5589610873349957,
                 44.835394786296604
                ],
                [
                 -0.5578371965863964,
                 44.83472877912985
                ],
                [
                 -0.5597418603717275,
                 44.832027010225225
                ],
                [
                 -0.5607662820951125,
                 44.828189067583324
                ],
                [
                 -0.5698851718594092,
                 44.830227393680595
                ]
               ]
              ]
             ],
             "type": "MultiPolygon"
            },
            "id": "72",
            "properties": {
             "LIBCOM": "Bordeaux",
             "LIB_IRIS": "Capucins-Victoire 5",
             "area_m2": 280553.32500115666,
             "cleabs": "IRIS____0000000330631105",
             "code_insee": "33063",
             "code_iris": "330631105",
             "etabs_per_m2": 0.0002245562407778994,
             "iris": "1105",
             "nb_etabs": 63,
             "nb_etudiants": 11008,
             "nom_commune": "Bordeaux",
             "nom_iris": "Bordeaux",
             "students_per_m2": 0.0392367475949701,
             "type_iris": "H"
            },
            "type": "Feature"
           },
           {
            "bbox": [
             -0.5756390649170899,
             44.82698069752933,
             -0.5698150018782197,
             44.83095101453164
            ],
            "geometry": {
             "coordinates": [
              [
               [
                [
                 -0.5719867434009259,
                 44.83095101453164
                ],
                [
                 -0.5698150018782197,
                 44.830876749472274
                ],
                [
                 -0.5698851718594092,
                 44.830227393680595
                ],
                [
                 -0.5702334697486205,
                 44.82698069752933
                ],
                [
                 -0.5724638225079308,
                 44.8270828023495
                ],
                [
                 -0.5756390649170899,
                 44.82752481086481
                ],
                [
                 -0.5719867434009259,
                 44.83095101453164
                ]
               ]
              ]
             ],
             "type": "MultiPolygon"
            },
            "id": "73",
            "properties": {
             "LIBCOM": "Bordeaux",
             "LIB_IRIS": "Capucins-Victoire 6",
             "area_m2": 130195.37000004936,
             "cleabs": "IRIS____0000000330631106",
             "code_insee": "33063",
             "code_iris": "330631106",
             "etabs_per_m2": 0.00016129605837743722,
             "iris": "1106",
             "nb_etabs": 21,
             "nb_etudiants": 6202,
             "nom_commune": "Bordeaux",
             "nom_iris": "Bordeaux",
             "students_per_m2": 0.04763610257413646,
             "type_iris": "H"
            },
            "type": "Feature"
           },
           {
            "bbox": [
             -0.5772563401448693,
             44.82740573653125,
             -0.5719867434009259,
             44.83187887092085
            ],
            "geometry": {
             "coordinates": [
              [
               [
                [
                 -0.5772563401448693,
                 44.83187887092085
                ],
                [
                 -0.5725599467039613,
                 44.831121811642305
                ],
                [
                 -0.5719867434009259,
                 44.83095101453164
                ],
                [
                 -0.5756390649170899,
                 44.82752481086481
                ],
                [
                 -0.5757821899165371,
                 44.82740573653125
                ],
                [
                 -0.5772563401448693,
                 44.83187887092085
                ]
               ]
              ]
             ],
             "type": "MultiPolygon"
            },
            "id": "74",
            "properties": {
             "LIBCOM": "Bordeaux",
             "LIB_IRIS": "Capucins-Victoire 7",
             "area_m2": 99320.03499969587,
             "cleabs": "IRIS____0000000330631107",
             "code_insee": "33063",
             "code_iris": "330631107",
             "etabs_per_m2": 0,
             "iris": "1107",
             "nb_etabs": 0,
             "nb_etudiants": 0,
             "nom_commune": "Bordeaux",
             "nom_iris": "Bordeaux",
             "students_per_m2": 0,
             "type_iris": "H"
            },
            "type": "Feature"
           },
           {
            "bbox": [
             -0.5702334697486205,
             44.82536787183197,
             -0.5607662820951125,
             44.830227393680595
            ],
            "geometry": {
             "coordinates": [
              [
               [
                [
                 -0.5683103470965918,
                 44.826890291498394
                ],
                [
                 -0.5702334697486205,
                 44.82698069752933
                ],
                [
                 -0.5698851718594092,
                 44.830227393680595
                ],
                [
                 -0.5607662820951125,
                 44.828189067583324
                ],
                [
                 -0.5628238411976613,
                 44.82536787183197
                ],
                [
                 -0.5649309275445398,
                 44.82672140963035
                ],
                [
                 -0.5683103470965918,
                 44.826890291498394
                ]
               ]
              ]
             ],
             "type": "MultiPolygon"
            },
            "id": "75",
            "properties": {
             "LIBCOM": "Bordeaux",
             "LIB_IRIS": "Capucins-Victoire 8",
             "area_m2": 210216.5099989807,
             "cleabs": "IRIS____0000000330631108",
             "code_insee": "33063",
             "code_iris": "330631108",
             "etabs_per_m2": 0.00014271000883872282,
             "iris": "1108",
             "nb_etabs": 30,
             "nb_etudiants": 12616,
             "nom_commune": "Bordeaux",
             "nom_iris": "Bordeaux",
             "students_per_m2": 0.060014315716977566,
             "type_iris": "H"
            },
            "type": "Feature"
           },
           {
            "bbox": [
             -0.5835209175146453,
             44.82554214728469,
             -0.5757821899165371,
             44.83201923091056
            ],
            "geometry": {
             "coordinates": [
              [
               [
                [
                 -0.5772563401448693,
                 44.83187887092085
                ],
                [
                 -0.5757821899165371,
                 44.82740573653125
                ],
                [
                 -0.5776479808678737,
                 44.82554214728469
                ],
                [
                 -0.5821062798997182,
                 44.82680145767584
                ],
                [
                 -0.5835209175146453,
                 44.82862765491678
                ],
                [
                 -0.5784231578299787,
                 44.83093005679853
                ],
                [
                 -0.5779061574291398,
                 44.83201923091056
                ],
                [
                 -0.5772563401448693,
                 44.83187887092085
                ]
               ]
              ]
             ],
             "type": "MultiPolygon"
            },
            "id": "76",
            "properties": {
             "LIBCOM": "Bordeaux",
             "LIB_IRIS": "Nansouty 1",
             "area_m2": 239262.7750004316,
             "cleabs": "IRIS____0000000330631201",
             "code_insee": "33063",
             "code_iris": "330631201",
             "etabs_per_m2": 0,
             "iris": "1201",
             "nb_etabs": 0,
             "nb_etudiants": 0,
             "nom_commune": "Bordeaux",
             "nom_iris": "Bordeaux",
             "students_per_m2": 0,
             "type_iris": "H"
            },
            "type": "Feature"
           },
           {
            "bbox": [
             -0.5892107759984909,
             44.82134247027728,
             -0.5776479808678737,
             44.82862765491678
            ],
            "geometry": {
             "coordinates": [
              [
               [
                [
                 -0.5828623110896014,
                 44.82134247027728
                ],
                [
                 -0.5861401144656211,
                 44.82339410188776
                ],
                [
                 -0.5890826694798011,
                 44.82528886423769
                ],
                [
                 -0.5892107759984909,
                 44.82537123813
                ],
                [
                 -0.585915106554917,
                 44.82750569843775
                ],
                [
                 -0.5835209175146453,
                 44.82862765491678
                ],
                [
                 -0.5821062798997182,
                 44.82680145767584
                ],
                [
                 -0.5776479808678737,
                 44.82554214728469
                ],
                [
                 -0.5801787439439877,
                 44.823066733588824
                ],
                [
                 -0.5828623110896014,
                 44.82134247027728
                ]
               ]
              ]
             ],
             "type": "MultiPolygon"
            },
            "id": "77",
            "properties": {
             "LIBCOM": "Bordeaux",
             "LIB_IRIS": "Nansouty 2",
             "area_m2": 359358.95499971247,
             "cleabs": "IRIS____0000000330631202",
             "code_insee": "33063",
             "code_iris": "330631202",
             "etabs_per_m2": 0.00006400285753284874,
             "iris": "1202",
             "nb_etabs": 23,
             "nb_etudiants": 777,
             "nom_commune": "Bordeaux",
             "nom_iris": "Bordeaux",
             "students_per_m2": 0.0021621834914358033,
             "type_iris": "H"
            },
            "type": "Feature"
           },
           {
            "bbox": [
             -0.5828623110896014,
             44.8126831111435,
             -0.5722818892690938,
             44.823066733588824
            ],
            "geometry": {
             "coordinates": [
              [
               [
                [
                 -0.5722818892690938,
                 44.81657831310991
                ],
                [
                 -0.5735310050606005,
                 44.81270775981087
                ],
                [
                 -0.5739042063180411,
                 44.8126831111435
                ],
                [
                 -0.5757243557586084,
                 44.81677195552843
                ],
                [
                 -0.5785380253774033,
                 44.81856297766183
                ],
                [
                 -0.5827672501911468,
                 44.821281553228474
                ],
                [
                 -0.5828623110896014,
                 44.82134247027728
                ],
                [
                 -0.5801787439439877,
                 44.823066733588824
                ],
                [
                 -0.5781216267922048,
                 44.82136849046571
                ],
                [
                 -0.5763761977561342,
                 44.81835875665576
                ],
                [
                 -0.5723067795183644,
                 44.818960406816444
                ],
                [
                 -0.5722818892690938,
                 44.81657831310991
                ]
               ]
              ]
             ],
             "type": "MultiPolygon"
            },
            "id": "78",
            "properties": {
             "LIBCOM": "Bordeaux",
             "LIB_IRIS": "Nansouty 3",
             "area_m2": 267906.65999920527,
             "cleabs": "IRIS____0000000330631203",
             "code_insee": "33063",
             "code_iris": "330631203",
             "etabs_per_m2": 0,
             "iris": "1203",
             "nb_etabs": 0,
             "nb_etudiants": 0,
             "nom_commune": "Bordeaux",
             "nom_iris": "Bordeaux",
             "students_per_m2": 0,
             "type_iris": "H"
            },
            "type": "Feature"
           },
           {
            "bbox": [
             -0.5801787439439877,
             44.82136849046571,
             -0.5724638225079308,
             44.82752481086481
            ],
            "geometry": {
             "coordinates": [
              [
               [
                [
                 -0.5756390649170899,
                 44.82752481086481
                ],
                [
                 -0.5724638225079308,
                 44.8270828023495
                ],
                [
                 -0.5725461226043284,
                 44.82330031308957
                ],
                [
                 -0.5752684883543332,
                 44.823216166230935
                ],
                [
                 -0.5781216267922048,
                 44.82136849046571
                ],
                [
                 -0.5801787439439877,
                 44.823066733588824
                ],
                [
                 -0.5776479808678737,
                 44.82554214728469
                ],
                [
                 -0.5757821899165371,
                 44.82740573653125
                ],
                [
                 -0.5756390649170899,
                 44.82752481086481
                ]
               ]
              ]
             ],
             "type": "MultiPolygon"
            },
            "id": "79",
            "properties": {
             "LIBCOM": "Bordeaux",
             "LIB_IRIS": "Nansouty 4",
             "area_m2": 235584.1700002247,
             "cleabs": "IRIS____0000000330631204",
             "code_insee": "33063",
             "code_iris": "330631204",
             "etabs_per_m2": 0.00008065058021505383,
             "iris": "1204",
             "nb_etabs": 19,
             "nb_etudiants": 917,
             "nom_commune": "Bordeaux",
             "nom_iris": "Bordeaux",
             "students_per_m2": 0.0038924516872212824,
             "type_iris": "H"
            },
            "type": "Feature"
           },
           {
            "bbox": [
             -0.5781216267922048,
             44.81835875665576,
             -0.5722233436751631,
             44.82330031308957
            ],
            "geometry": {
             "coordinates": [
              [
               [
                [
                 -0.5781216267922048,
                 44.82136849046571
                ],
                [
                 -0.5752684883543332,
                 44.823216166230935
                ],
                [
                 -0.5725461226043284,
                 44.82330031308957
                ],
                [
                 -0.5722233436751631,
                 44.81953989324057
                ],
                [
                 -0.5723067795183644,
                 44.818960406816444
                ],
                [
                 -0.5763761977561342,
                 44.81835875665576
                ],
                [
                 -0.5781216267922048,
                 44.82136849046571
                ]
               ]
              ]
             ],
             "type": "MultiPolygon"
            },
            "id": "80",
            "properties": {
             "LIBCOM": "Bordeaux",
             "LIB_IRIS": "Nansouty 5",
             "area_m2": 189866.50999972125,
             "cleabs": "IRIS____0000000330631205",
             "code_insee": "33063",
             "code_iris": "330631205",
             "etabs_per_m2": 0,
             "iris": "1205",
             "nb_etabs": 0,
             "nb_etudiants": 0,
             "nom_commune": "Bordeaux",
             "nom_iris": "Bordeaux",
             "students_per_m2": 0,
             "type_iris": "H"
            },
            "type": "Feature"
           },
           {
            "bbox": [
             -0.5723067795183644,
             44.81657831310991,
             -0.5658083393403549,
             44.82278900244171
            ],
            "geometry": {
             "coordinates": [
              [
               [
                [
                 -0.5658083393403549,
                 44.82278900244171
                ],
                [
                 -0.5658242232926483,
                 44.82178270273253
                ],
                [
                 -0.565905820820099,
                 44.816586211433325
                ],
                [
                 -0.5722818892690938,
                 44.81657831310991
                ],
                [
                 -0.5723067795183644,
                 44.818960406816444
                ],
                [
                 -0.5722233436751631,
                 44.81953989324057
                ],
                [
                 -0.5718526107955502,
                 44.82048012218493
                ],
                [
                 -0.567532142051004,
                 44.82277410618168
                ],
                [
                 -0.5658083393403549,
                 44.82278900244171
                ]
               ]
              ]
             ],
             "type": "MultiPolygon"
            },
            "id": "81",
            "properties": {
             "LIBCOM": "Bordeaux",
             "LIB_IRIS": "Nansouty 6",
             "area_m2": 295407.14999940176,
             "cleabs": "IRIS____0000000330631206",
             "code_insee": "33063",
             "code_iris": "330631206",
             "etabs_per_m2": 0,
             "iris": "1206",
             "nb_etabs": 0,
             "nb_etudiants": 0,
             "nom_commune": "Bordeaux",
             "nom_iris": "Bordeaux",
             "students_per_m2": 0,
             "type_iris": "H"
            },
            "type": "Feature"
           },
           {
            "bbox": [
             -0.5718526107955502,
             44.82048012218493,
             -0.5628238411976613,
             44.826890291498394
            ],
            "geometry": {
             "coordinates": [
              [
               [
                [
                 -0.5628238411976613,
                 44.82536787183197
                ],
                [
                 -0.5658254714996632,
                 44.82367707881813
                ],
                [
                 -0.5658083393403549,
                 44.82278900244171
                ],
                [
                 -0.567532142051004,
                 44.82277410618168
                ],
                [
                 -0.5718526107955502,
                 44.82048012218493
                ],
                [
                 -0.5703418836949209,
                 44.824184239725696
                ],
                [
                 -0.5683305464317489,
                 44.8246770804625
                ],
                [
                 -0.5683103470965918,
                 44.826890291498394
                ],
                [
                 -0.5649309275445398,
                 44.82672140963035
                ],
                [
                 -0.5628238411976613,
                 44.82536787183197
                ]
               ]
              ]
             ],
             "type": "MultiPolygon"
            },
            "id": "82",
            "properties": {
             "LIBCOM": "Bordeaux",
             "LIB_IRIS": "Nansouty 7",
             "area_m2": 201441.7700005216,
             "cleabs": "IRIS____0000000330631207",
             "code_insee": "33063",
             "code_iris": "330631207",
             "etabs_per_m2": 0.00008439163337353511,
             "iris": "1207",
             "nb_etabs": 17,
             "nb_etudiants": 3959,
             "nom_commune": "Bordeaux",
             "nom_iris": "Bordeaux",
             "students_per_m2": 0.01965332214857797,
             "type_iris": "H"
            },
            "type": "Feature"
           },
           {
            "bbox": [
             -0.5739148721113443,
             44.810741484461026,
             -0.5645693290607233,
             44.816586211433325
            ],
            "geometry": {
             "coordinates": [
              [
               [
                [
                 -0.5722818892690938,
                 44.81657831310991
                ],
                [
                 -0.565905820820099,
                 44.816586211433325
                ],
                [
                 -0.5645693290607233,
                 44.813104435794145
                ],
                [
                 -0.5739148721113443,
                 44.810741484461026
                ],
                [
                 -0.5735310050606005,
                 44.81270775981087
                ],
                [
                 -0.5722818892690938,
                 44.81657831310991
                ]
               ]
              ]
             ],
             "type": "MultiPolygon"
            },
            "id": "83",
            "properties": {
             "LIBCOM": "Bordeaux",
             "LIB_IRIS": "Nansouty 8",
             "area_m2": 324339.3050000746,
             "cleabs": "IRIS____0000000330631208",
             "code_insee": "33063",
             "code_iris": "330631208",
             "etabs_per_m2": 0,
             "iris": "1208",
             "nb_etabs": 0,
             "nb_etudiants": 0,
             "nom_commune": "Bordeaux",
             "nom_iris": "Bordeaux",
             "students_per_m2": 0,
             "type_iris": "H"
            },
            "type": "Feature"
           },
           {
            "bbox": [
             -0.5725461226043284,
             44.81953989324057,
             -0.5683103470965918,
             44.8270828023495
            ],
            "geometry": {
             "coordinates": [
              [
               [
                [
                 -0.5724638225079308,
                 44.8270828023495
                ],
                [
                 -0.5702334697486205,
                 44.82698069752933
                ],
                [
                 -0.5683103470965918,
                 44.826890291498394
                ],
                [
                 -0.5683305464317489,
                 44.8246770804625
                ],
                [
                 -0.5703418836949209,
                 44.824184239725696
                ],
                [
                 -0.5718526107955502,
                 44.82048012218493
                ],
                [
                 -0.5722233436751631,
                 44.81953989324057
                ],
                [
                 -0.5725461226043284,
                 44.82330031308957
                ],
                [
                 -0.5724638225079308,
                 44.8270828023495
                ]
               ]
              ]
             ],
             "type": "MultiPolygon"
            },
            "id": "84",
            "properties": {
             "LIBCOM": "Bordeaux",
             "LIB_IRIS": "Nansouty 9",
             "area_m2": 144290.27000003104,
             "cleabs": "IRIS____0000000330631209",
             "code_insee": "33063",
             "code_iris": "330631209",
             "etabs_per_m2": 0,
             "iris": "1209",
             "nb_etabs": 0,
             "nb_etudiants": 0,
             "nom_commune": "Bordeaux",
             "nom_iris": "Bordeaux",
             "students_per_m2": 0,
             "type_iris": "H"
            },
            "type": "Feature"
           },
           {
            "bbox": [
             -0.5546573529176719,
             44.81699441964128,
             -0.5375959743052193,
             44.83190445508446
            ],
            "geometry": {
             "coordinates": [
              [
               [
                [
                 -0.5375959743052193,
                 44.82281042869359
                ],
                [
                 -0.5484366786805366,
                 44.81699441964128
                ],
                [
                 -0.5493034335172757,
                 44.82065182365967
                ],
                [
                 -0.5506135268884146,
                 44.82102444464065
                ],
                [
                 -0.5546573529176719,
                 44.82225393666176
                ],
                [
                 -0.554469885799293,
                 44.829115676964484
                ],
                [
                 -0.5523780653990155,
                 44.83190445508446
                ],
                [
                 -0.5438611681837197,
                 44.82743736336692
                ],
                [
                 -0.5375959743052193,
                 44.82281042869359
                ]
               ]
              ]
             ],
             "type": "MultiPolygon"
            },
            "id": "85",
            "properties": {
             "LIBCOM": "Bordeaux",
             "LIB_IRIS": "Gare Saint-Jean 1",
             "area_m2": 1157782.9899994498,
             "cleabs": "IRIS____0000000330631301",
             "code_insee": "33063",
             "code_iris": "330631301",
             "etabs_per_m2": 0,
             "iris": "1301",
             "nb_etabs": 0,
             "nb_etudiants": 0,
             "nom_commune": "Bordeaux",
             "nom_iris": "Bordeaux",
             "students_per_m2": 0,
             "type_iris": "H"
            },
            "type": "Feature"
           },
           {
            "bbox": [
             -0.565905820820099,
             44.81260571080184,
             -0.5506135268884146,
             44.829115676964484
            ],
            "geometry": {
             "coordinates": [
              [
               [
                [
                 -0.5645693290607233,
                 44.813104435794145
                ],
                [
                 -0.565905820820099,
                 44.816586211433325
                ],
                [
                 -0.5658242232926483,
                 44.82178270273253
                ],
                [
                 -0.5607355372856451,
                 44.821133325373324
                ],
                [
                 -0.5579058916670434,
                 44.82401981389143
                ],
                [
                 -0.5572007695560303,
                 44.825982809725225
                ],
                [
                 -0.554469885799293,
                 44.829115676964484
                ],
                [
                 -0.5546573529176719,
                 44.82225393666176
                ],
                [
                 -0.5506135268884146,
                 44.82102444464065
                ],
                [
                 -0.5508086356105022,
                 44.81988444102477
                ],
                [
                 -0.5591364444344715,
                 44.81398376531925
                ],
                [
                 -0.559390971748183,
                 44.81260571080184
                ],
                [
                 -0.5594025145024321,
                 44.81260804389509
                ],
                [
                 -0.5645693290607233,
                 44.813104435794145
                ]
               ]
              ]
             ],
             "type": "MultiPolygon"
            },
            "id": "86",
            "properties": {
             "LIBCOM": "Bordeaux",
             "LIB_IRIS": "Gare Saint-Jean 2",
             "area_m2": 1013132.6299992533,
             "cleabs": "IRIS____0000000330631302",
             "code_insee": "33063",
             "code_iris": "330631302",
             "etabs_per_m2": 0,
             "iris": "1302",
             "nb_etabs": 0,
             "nb_etudiants": 0,
             "nom_commune": "Bordeaux",
             "nom_iris": "Bordeaux",
             "students_per_m2": 0,
             "type_iris": "H"
            },
            "type": "Feature"
           },
           {
            "bbox": [
             -0.559390971748183,
             44.81233393397028,
             -0.5484366786805366,
             44.82102444464065
            ],
            "geometry": {
             "coordinates": [
              [
               [
                [
                 -0.5506135268884146,
                 44.82102444464065
                ],
                [
                 -0.5493034335172757,
                 44.82065182365967
                ],
                [
                 -0.5484366786805366,
                 44.81699441964128
                ],
                [
                 -0.5554427820472103,
                 44.81323800448111
                ],
                [
                 -0.5576379345782012,
                 44.81233393397028
                ],
                [
                 -0.559390971748183,
                 44.81260571080184
                ],
                [
                 -0.5591364444344715,
                 44.81398376531925
                ],
                [
                 -0.5508086356105022,
                 44.81988444102477
                ],
                [
                 -0.5506135268884146,
                 44.82102444464065
                ]
               ]
              ]
             ],
             "type": "MultiPolygon"
            },
            "id": "87",
            "properties": {
             "LIBCOM": "Bordeaux",
             "LIB_IRIS": "Gare Saint-Jean 3",
             "area_m2": 317710.6900010389,
             "cleabs": "IRIS____0000000330631303",
             "code_insee": "33063",
             "code_iris": "330631303",
             "etabs_per_m2": 0,
             "iris": "1303",
             "nb_etabs": 0,
             "nb_etudiants": 0,
             "nom_commune": "Bordeaux",
             "nom_iris": "Bordeaux",
             "students_per_m2": 0,
             "type_iris": "H"
            },
            "type": "Feature"
           },
           {
            "bbox": [
             -0.5628238411976613,
             44.824846686502624,
             -0.5523780653990155,
             44.83472877912985
            ],
            "geometry": {
             "coordinates": [
              [
               [
                [
                 -0.5628238411976613,
                 44.82536787183197
                ],
                [
                 -0.5607662820951125,
                 44.828189067583324
                ],
                [
                 -0.5597418603717275,
                 44.832027010225225
                ],
                [
                 -0.5578371965863964,
                 44.83472877912985
                ],
                [
                 -0.5523780653990155,
                 44.83190445508446
                ],
                [
                 -0.554469885799293,
                 44.829115676964484
                ],
                [
                 -0.5572007695560303,
                 44.825982809725225
                ],
                [
                 -0.5610647013042538,
                 44.824846686502624
                ],
                [
                 -0.5628238411976613,
                 44.82536787183197
                ]
               ]
              ]
             ],
             "type": "MultiPolygon"
            },
            "id": "88",
            "properties": {
             "LIBCOM": "Bordeaux",
             "LIB_IRIS": "Gare Saint-Jean 4",
             "area_m2": 438698.06999960355,
             "cleabs": "IRIS____0000000330631304",
             "code_insee": "33063",
             "code_iris": "330631304",
             "etabs_per_m2": 0.00005242785772916846,
             "iris": "1304",
             "nb_etabs": 23,
             "nb_etudiants": 1846,
             "nom_commune": "Bordeaux",
             "nom_iris": "Bordeaux",
             "students_per_m2": 0.004207905450784564,
             "type_iris": "H"
            },
            "type": "Feature"
           },
           {
            "bbox": [
             -0.5658254714996632,
             44.821133325373324,
             -0.5572007695560303,
             44.825982809725225
            ],
            "geometry": {
             "coordinates": [
              [
               [
                [
                 -0.5628238411976613,
                 44.82536787183197
                ],
                [
                 -0.5610647013042538,
                 44.824846686502624
                ],
                [
                 -0.5572007695560303,
                 44.825982809725225
                ],
                [
                 -0.5579058916670434,
                 44.82401981389143
                ],
                [
                 -0.5607355372856451,
                 44.821133325373324
                ],
                [
                 -0.5658242232926483,
                 44.82178270273253
                ],
                [
                 -0.5658083393403549,
                 44.82278900244171
                ],
                [
                 -0.5658254714996632,
                 44.82367707881813
                ],
                [
                 -0.5628238411976613,
                 44.82536787183197
                ]
               ]
              ]
             ],
             "type": "MultiPolygon"
            },
            "id": "89",
            "properties": {
             "LIBCOM": "Bordeaux",
             "LIB_IRIS": "Gare Saint-Jean 5",
             "area_m2": 221478.11499969976,
             "cleabs": "IRIS____0000000330631305",
             "code_insee": "33063",
             "code_iris": "330631305",
             "etabs_per_m2": 0,
             "iris": "1305",
             "nb_etabs": 0,
             "nb_etudiants": 0,
             "nom_commune": "Bordeaux",
             "nom_iris": "Bordeaux",
             "students_per_m2": 0,
             "type_iris": "H"
            },
            "type": "Feature"
           },
           {
            "bbox": [
             2.5024060524529768,
             48.08854670294291,
             2.582901348117576,
             48.11097800321067
            ],
            "geometry": {
             "coordinates": [
              [
               [
                [
                 2.5024060524529768,
                 48.08854670294291
                ],
                [
                 2.5066280874928424,
                 48.10878815142062
                ],
                [
                 2.5132205242216203,
                 48.10551484779314
                ],
                [
                 2.5287730642465656,
                 48.11038331044011
                ],
                [
                 2.5349321983511617,
                 48.109954235053124
                ],
                [
                 2.5436128130752906,
                 48.11097800321067
                ],
                [
                 2.551719891197853,
                 48.10805126072555
                ],
                [
                 2.5650469904018376,
                 48.10921520781567
                ],
                [
                 2.5725876166899435,
                 48.10720459995433
                ],
                [
                 2.579555313886603,
                 48.1048567185755
                ],
                [
                 2.5812187101639745,
                 48.10331577499695
                ],
                [
                 2.582901348117576,
                 48.10324075259411
                ],
                [
                 2.5693068947081263,
                 48.096441975602886
                ],
                [
                 2.5024060524529768,
                 48.08854670294291
                ]
               ]
              ]
             ],
             "type": "MultiPolygon"
            },
            "id": "90",
            "properties": {
             "LIBCOM": "Bordeaux-en-Gâtinais",
             "LIB_IRIS": "Bordeaux-en-Gâtinais (commune non irisée)",
             "area_m2": 9357064.180002328,
             "cleabs": "IRIS____0000000450410000",
             "code_insee": "45041",
             "code_iris": "450410000",
             "etabs_per_m2": 0,
             "iris": "0000",
             "nb_etabs": 0,
             "nb_etudiants": 0,
             "nom_commune": "Bordeaux-en-Gâtinais",
             "nom_iris": "Bordeaux-en-Gâtinais",
             "students_per_m2": 0,
             "type_iris": "Z"
            },
            "type": "Feature"
           },
           {
            "bbox": [
             0.2159056729971091,
             49.67640920300401,
             0.27314554886088255,
             49.71412693052892
            ],
            "geometry": {
             "coordinates": [
              [
               [
                [
                 0.24874290757257503,
                 49.67760561043528
                ],
                [
                 0.24645178377101112,
                 49.67640920300401
                ],
                [
                 0.24151906875537946,
                 49.677108430273584
                ],
                [
                 0.23971633099769576,
                 49.67834516661049
                ],
                [
                 0.2381723934776626,
                 49.67989434831959
                ],
                [
                 0.23511313982419058,
                 49.680634945912814
                ],
                [
                 0.22144944425676713,
                 49.689136667492235
                ],
                [
                 0.2159056729971091,
                 49.7000760609268
                ],
                [
                 0.21766039029507037,
                 49.70089570774256
                ],
                [
                 0.2182176363799523,
                 49.70867657454735
                ],
                [
                 0.2248149573456813,
                 49.710656809923854
                ],
                [
                 0.23495600720583273,
                 49.71128949207447
                ],
                [
                 0.24404181765332397,
                 49.71094981441173
                ],
                [
                 0.25804673023564095,
                 49.71412693052892
                ],
                [
                 0.2626265981811134,
                 49.71293176229134
                ],
                [
                 0.2664806435530147,
                 49.71034366166086
                ],
                [
                 0.2685626057415507,
                 49.709962446135
                ],
                [
                 0.27314554886088255,
                 49.70619923209139
                ],
                [
                 0.2720376819762434,
                 49.70456417665767
                ],
                [
                 0.25625299601824997,
                 49.6930652416548
                ],
                [
                 0.25009261248718584,
                 49.68702183368625
                ],
                [
                 0.25106168684751906,
                 49.68453615639775
                ],
                [
                 0.25659866228062606,
                 49.68025017753844
                ],
                [
                 0.2546086407379351,
                 49.67730837449478
                ],
                [
                 0.2502623372532523,
                 49.67810570492736
                ],
                [
                 0.24874290757257503,
                 49.67760561043528
                ]
               ]
              ]
             ],
             "type": "MultiPolygon"
            },
            "id": "91",
            "properties": {
             "LIBCOM": "Bordeaux-Saint-Clair",
             "LIB_IRIS": "Bordeaux-Saint-Clair (commune non irisée)",
             "area_m2": 10382052.199996768,
             "cleabs": "IRIS____0000000761170000",
             "code_insee": "76117",
             "code_iris": "761170000",
             "etabs_per_m2": 0,
             "iris": "0000",
             "nb_etabs": 0,
             "nb_etudiants": 0,
             "nom_commune": "Bordeaux-Saint-Clair",
             "nom_iris": "Bordeaux-Saint-Clair",
             "students_per_m2": 0,
             "type_iris": "Z"
            },
            "type": "Feature"
           },
           {
            "bbox": [
             -0.4983589829808671,
             44.79089159817521,
             -0.45139905389181323,
             44.82704439050964
            ],
            "geometry": {
             "coordinates": [
              [
               [
                [
                 -0.4983589829808671,
                 44.805561673116124
                ],
                [
                 -0.49494234440010226,
                 44.80796301659549
                ],
                [
                 -0.49425785710880854,
                 44.8106557644958
                ],
                [
                 -0.4856318762078158,
                 44.816500357061955
                ],
                [
                 -0.4733224266039256,
                 44.82278411374024
                ],
                [
                 -0.47254285935426926,
                 44.8238358963286
                ],
                [
                 -0.4747379587797032,
                 44.82542172956776
                ],
                [
                 -0.47077966449978537,
                 44.82704439050964
                ],
                [
                 -0.4583956863709474,
                 44.82681400246639
                ],
                [
                 -0.45285671449171433,
                 44.82582588561551
                ],
                [
                 -0.45139905389181323,
                 44.82059031204396
                ],
                [
                 -0.459131538639804,
                 44.80677114402769
                ],
                [
                 -0.45882824773272984,
                 44.805443249190034
                ],
                [
                 -0.45399130457310194,
                 44.80173611517713
                ],
                [
                 -0.4525399380529261,
                 44.80139382602971
                ],
                [
                 -0.45541961356005534,
                 44.80055069987404
                ],
                [
                 -0.4680215763581467,
                 44.793948824511055
                ],
                [
                 -0.46991968479209195,
                 44.79150486974995
                ],
                [
                 -0.47341522831062743,
                 44.79089159817521
                ],
                [
                 -0.4760290191146683,
                 44.7921055514304
                ],
                [
                 -0.4787934996148828,
                 44.79530184460052
                ],
                [
                 -0.4983589829808671,
                 44.805561673116124
                ]
               ]
              ]
             ],
             "type": "MultiPolygon"
            },
            "id": "92",
            "properties": {
             "LIBCOM": "Carignan-de-Bordeaux",
             "LIB_IRIS": "Carignan-de-Bordeaux (commune non irisée)",
             "area_m2": 8718269.240002792,
             "cleabs": "IRIS____0000000330990000",
             "code_insee": "33099",
             "code_iris": "330990000",
             "etabs_per_m2": 0,
             "iris": "0000",
             "nb_etabs": 0,
             "nb_etudiants": 0,
             "nom_commune": "Carignan-de-Bordeaux",
             "nom_iris": "Carignan-de-Bordeaux",
             "students_per_m2": 0,
             "type_iris": "Z"
            },
            "type": "Feature"
           },
           {
            "bbox": [
             -0.45541961356005534,
             44.771364061822936,
             -0.40383079032372704,
             44.81123143573255
            ],
            "geometry": {
             "coordinates": [
              [
               [
                [
                 -0.4150905390228703,
                 44.808817095752666
                ],
                [
                 -0.4159155484594508,
                 44.80849879789606
                ],
                [
                 -0.41606120914552375,
                 44.80633511935352
                ],
                [
                 -0.41420948724615947,
                 44.804526761727864
                ],
                [
                 -0.40487236964126566,
                 44.798315721120474
                ],
                [
                 -0.4038423579752611,
                 44.7985077645563
                ],
                [
                 -0.40383079032372704,
                 44.79743934937538
                ],
                [
                 -0.4075183968154341,
                 44.79511459672255
                ],
                [
                 -0.41912114748334284,
                 44.790679491741
                ],
                [
                 -0.42259274444696954,
                 44.77983859979179
                ],
                [
                 -0.4324972124465126,
                 44.771364061822936
                ],
                [
                 -0.43455724811942453,
                 44.771868846646136
                ],
                [
                 -0.43735467038221626,
                 44.77363217297115
                ],
                [
                 -0.4413107411207736,
                 44.77811612259881
                ],
                [
                 -0.4426813685474563,
                 44.78894616113309
                ],
                [
                 -0.4478989009831797,
                 44.794740713491166
                ],
                [
                 -0.45523020034389805,
                 44.79961126530527
                ],
                [
                 -0.45541961356005534,
                 44.80055069987404
                ],
                [
                 -0.4525399380529261,
                 44.80139382602971
                ],
                [
                 -0.45399130457310194,
                 44.80173611517713
                ],
                [
                 -0.43537902124777716,
                 44.808085665501316
                ],
                [
                 -0.420727830211905,
                 44.81123143573255
                ],
                [
                 -0.4174273442538532,
                 44.81050145264132
                ],
                [
                 -0.4150905390228703,
                 44.808817095752666
                ]
               ]
              ]
             ],
             "type": "MultiPolygon"
            },
            "id": "93",
            "properties": {
             "LIBCOM": "Lignan-de-Bordeaux",
             "LIB_IRIS": "Lignan-de-Bordeaux (commune non irisée)",
             "area_m2": 8874677.600002024,
             "cleabs": "IRIS____0000000332450000",
             "code_insee": "33245",
             "code_iris": "332450000",
             "etabs_per_m2": 0,
             "iris": "0000",
             "nb_etabs": 0,
             "nb_etudiants": 0,
             "nom_commune": "Lignan-de-Bordeaux",
             "nom_iris": "Lignan-de-Bordeaux",
             "students_per_m2": 0,
             "type_iris": "Z"
            },
            "type": "Feature"
           },
           {
            "bbox": [
             -0.4524213584166051,
             44.73692092243416,
             -0.40000245871441886,
             44.771868846646136
            ],
            "geometry": {
             "coordinates": [
              [
               [
                [
                 -0.4324972124465126,
                 44.771364061822936
                ],
                [
                 -0.4334310440739352,
                 44.76979323578013
                ],
                [
                 -0.42390440508211197,
                 44.769675363382774
                ],
                [
                 -0.4052119673241298,
                 44.763718212992224
                ],
                [
                 -0.4064617841753775,
                 44.760630306805474
                ],
                [
                 -0.4057649458288833,
                 44.752592808672844
                ],
                [
                 -0.40000245871441886,
                 44.749086917813344
                ],
                [
                 -0.4046979508174717,
                 44.748108196622205
                ],
                [
                 -0.4118729862562478,
                 44.74529477104105
                ],
                [
                 -0.41275521538353704,
                 44.74372572802781
                ],
                [
                 -0.429723567089964,
                 44.73965180864673
                ],
                [
                 -0.44633573071927835,
                 44.73692092243416
                ],
                [
                 -0.44681502498546766,
                 44.74408192932904
                ],
                [
                 -0.4524213584166051,
                 44.749410674072664
                ],
                [
                 -0.4518044951564868,
                 44.753926716798475
                ],
                [
                 -0.44877438097189143,
                 44.75953715059403
                ],
                [
                 -0.4370653656241677,
                 44.76627323789243
                ],
                [
                 -0.43673226338964577,
                 44.767342438639226
                ],
                [
                 -0.43818205055057774,
                 44.769826113817764
                ],
                [
                 -0.4375335107292858,
                 44.77101234636122
                ],
                [
                 -0.4353635771012088,
                 44.77057230430679
                ],
                [
                 -0.43455724811942453,
                 44.771868846646136
                ],
                [
                 -0.4324972124465126,
                 44.771364061822936
                ]
               ]
              ]
             ],
             "type": "MultiPolygon"
            },
            "id": "94",
            "properties": {
             "LIBCOM": "Saint-Caprais-de-Bordeaux",
             "LIB_IRIS": "Saint-Caprais-de-Bordeaux (commune non irisée)",
             "area_m2": 10020115.810004571,
             "cleabs": "IRIS____0000000333810000",
             "code_insee": "33381",
             "code_iris": "333810000",
             "etabs_per_m2": 0,
             "iris": "0000",
             "nb_etabs": 0,
             "nb_etudiants": 0,
             "nom_commune": "Saint-Caprais-de-Bordeaux",
             "nom_iris": "Saint-Caprais-de-Bordeaux",
             "students_per_m2": 0,
             "type_iris": "Z"
            },
            "type": "Feature"
           }
          ],
          "type": "FeatureCollection"
         },
         "hovertemplate": "<b>%{hovertext}</b><br><br>index=%{location}<br>nb_etabs=%{customdata[0]}<br>area_m2=%{customdata[1]}<br>nb_etudiants=%{customdata[2]}<br>students_per_m2=%{z}<extra></extra>",
         "hovertext": [
          "Le Lac 1",
          "Bacalan 1",
          "Saint-Bruno-Saint-Victor 2",
          "Nord",
          "Le Lac 3",
          "Sud",
          "Bacalan 2",
          "Bacalan 3",
          "Bacalan 4",
          "Chartrons-Grand Parc 1",
          "Chartrons-Grand Parc 2",
          "Chartrons-Grand Parc 3",
          "Chartrons-Grand Parc 5",
          "Chartrons-Grand Parc 6",
          "Chartrons-Grand Parc 7",
          "Chartrons-Grand Parc 8",
          "Chartrons-Grand Parc 9",
          "Chartrons-Grand Parc 10",
          "Chartrons-Grand Parc 11",
          "Chartrons-Grand Parc 12",
          "Chartrons-Grand Parc 13",
          "La Bastide 1",
          "La Bastide 2",
          "La Bastide 3",
          "La Bastide 4",
          "La Bastide 5",
          "Hôtel de Ville-Quinconces 1",
          "Hôtel de Ville-Quinconces 2",
          "Hôtel de Ville-Quinconces 3",
          "Hôtel de Ville-Quinconces 4",
          "Hôtel de Ville-Quinconces 5",
          "Hôtel de Ville-Quinconces 6",
          "Hôtel de Ville-Quinconces 7",
          "Hôtel de Ville-Quinconces 8",
          "Saint-Seurin-Fondaudège 1",
          "Saint-Seurin-Fondaudège 2",
          "Saint-Seurin-Fondaudège 3",
          "Saint-Seurin-Fondaudège 4",
          "Saint-Seurin-Fondaudège 5",
          "Saint-Seurin-Fondaudège 6",
          "Saint-Seurin-Fondaudège 7",
          "Saint-Seurin-Fondaudège 8",
          "Saint-Seurin-Fondaudège 9",
          "Villa Primerose Parc Bordelais-Caudéran 1",
          "Villa Primerose Parc Bordelais-Caudéran 2",
          "Villa Primerose Parc Bordelais-Caudéran 3",
          "Villa Primerose Parc Bordelais-Caudéran 4",
          "Villa Primerose Parc Bordelais-Caudéran 5",
          "Villa Primerose Parc Bordelais-Caudéran 6",
          "Lestonnat-Monséjour 1",
          "Lestonnat-Monséjour 2",
          "Lestonnat-Monséjour 3",
          "Lestonnat-Monséjour 4",
          "Lestonnat-Monséjour 5",
          "Lestonnat-Monséjour 6",
          "Lestonnat-Monséjour 7",
          "Lestonnat-Monséjour 8",
          "Lestonnat-Monséjour 9",
          "Saint-Augustin 1",
          "Saint-Augustin 2",
          "Saint-Augustin 3",
          "Saint-Augustin 4",
          "Saint-Augustin 5",
          "Saint-Bruno-Saint-Victor 1",
          "Saint-Bruno-Saint-Victor 3",
          "Saint-Bruno-Saint-Victor 4",
          "Saint-Bruno-Saint-Victor 5",
          "Saint-Bruno-Saint-Victor 6",
          "Capucins-Victoire 1",
          "Capucins-Victoire 2",
          "Capucins-Victoire 3",
          "Capucins-Victoire 4",
          "Capucins-Victoire 5",
          "Capucins-Victoire 6",
          "Capucins-Victoire 7",
          "Capucins-Victoire 8",
          "Nansouty 1",
          "Nansouty 2",
          "Nansouty 3",
          "Nansouty 4",
          "Nansouty 5",
          "Nansouty 6",
          "Nansouty 7",
          "Nansouty 8",
          "Nansouty 9",
          "Gare Saint-Jean 1",
          "Gare Saint-Jean 2",
          "Gare Saint-Jean 3",
          "Gare Saint-Jean 4",
          "Gare Saint-Jean 5",
          "Bordeaux-en-Gâtinais (commune non irisée)",
          "Bordeaux-Saint-Clair (commune non irisée)",
          "Carignan-de-Bordeaux (commune non irisée)",
          "Lignan-de-Bordeaux (commune non irisée)",
          "Saint-Caprais-de-Bordeaux (commune non irisée)"
         ],
         "locations": {
          "bdata": "AAECAwQFBgcICQoLDA0ODxAREhMUFRYXGBkaGxwdHh8gISIjJCUmJygpKissLS4vMDEyMzQ1Njc4OTo7PD0+P0BBQkNERUZHSElKS0xNTk9QUVJTVFVWV1hZWltcXV4=",
          "dtype": "i1"
         },
         "marker": {
          "opacity": 0.6
         },
         "name": "",
         "subplot": "mapbox",
         "type": "choroplethmapbox",
         "z": {
          "bdata": "AAAAAAAAAAAtdp+cSy9rPx8gObtL6Uw/AAAAAAAAAAB01eJrNCVmPwAAAAAAAAAA80GOTM6+LD8AAAAAAAAAAAAAAAAAAAAAOpGrZWyAkT+3StcNkVqhP9sYrokrWJA/IzpR280adT8AAAAAAAAAAOl+QatAFYM/AAAAAAAAAAAvIKnN4CGxPwWwFbRWlqM/ApN9bEIUPD8AAAAAAAAAAPdHXtU9ank/Azg7W05dfz/WPGqO2vF7PwAAAAAAAAAAAAAAAAAAAAB13Zjy6ApWPwAAAAAAAAAAukQ+GByHcj8AAAAAAAAAAAAAAAAAAAAAAAAAAAAAAAAAAAAAAAAAAODT2Gdmu4U/WZmDXIhenj8AAAAAAAAAAAAAAAAAAAAAAAAAAAAAAABoWZ55s7CIPzZzuOCf1YM/0ZGDTEX0gT8AAAAAAAAAALu1GAqLBXw/nCVkswbYLD8AAAAAAAAAAIrXON/rFkg/AAAAAAAAAACUiFlsYQxwPwAAAAAAAAAAAAAAAAAAAAAAAAAAAAAAAAAAAAAAAAAAAAAAAAAAAAAAAAAAAAAAAAAAAAAAAAAAAAAAAAAAAAAAAAAAAAAAAAAAAAAAAAAAAAAAAAAAAAAwOdoMnqfEPwAAAAAAAAAAAAAAAAAAAAAAAAAAAAAAAAAAAAAAAAAAAAAAAAAAAAAAAAAAAAAAALBlr7qxKWw/bnwkNQy3UT/dZFThY7EwPwAAAAAAAAAAokREEPIGvj89BJaRUSvKPwAAAAAAAAAAMpBxx9YWpD/2YlRdwmOoPwAAAAAAAAAAb6yXRjK6rj8AAAAAAAAAANgBR2xttmE/AAAAAAAAAADa/lQWEONvPwAAAAAAAAAAAAAAAAAAAAAEKIsfACCUPwAAAAAAAAAAAAAAAAAAAAAAAAAAAAAAAAAAAAAAAAAAAAAAAAAAAACkg7sETzxxPwAAAAAAAAAAAAAAAAAAAAAAAAAAAAAAAAAAAAAAAAAAAAAAAAAAAAAAAAAAAAAAAA==",
          "dtype": "f8"
         }
        },
        {
         "lat": {
          "bdata": "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",
          "dtype": "f8"
         },
         "lon": {
          "bdata": "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",
          "dtype": "f8"
         },
         "marker": {
          "color": "blue",
          "size": 6
         },
         "mode": "markers",
         "name": "Établissements OSM",
         "text": [
          "CESI ECOLE INGENIEURS NANTERRE",
          "LYCEE GENERAL ET TECHNOLOGIQUE",
          "LT LYCEE DES METIERS",
          "INST HTES ETUDES ECO COM BORDX",
          "ECOLE COMMERCE EUROP BORDEAUX",
          "UNIVERSITE DE BORDEAUX",
          "INST HTES ETUDES ECO COM BORDX",
          "GROUPE ESSCA",
          "INST POLYTECHNIQUE BORDEAUX",
          "LYCEE GENERAL PRIVE",
          "UNIVERSITÉ DE BORDEAUX",
          "FORMATIONS D'AKI 10 - FORMADKL",
          null,
          "LYC TECHNOL PRIVE DES METIERS",
          "UNIVERSITE DE BORDEAUX",
          "UNIVERSITE DE BORDEAUX",
          "UNIVERSITE DE BORDEAUX",
          "IDRAC LYON",
          "LYC GEN-TECHNO PR DES METIERS",
          "LYCEE POLYVALENT",
          "ECOLE SUP ARTS TECHNIQUES DE L",
          "ECOLE SUPERIEURE METIERS IMAGE",
          "MJM GRAPHIC DESIGN - ESCAAD -",
          "ETAB PR ENSEIGNEMENT TECH",
          "UNIVERSITE DE BORDEAUX",
          "ECOLE TECHNIQUE PRIVEE",
          "ETAB SUPERIEUR TECHNIQUE PR",
          "UNIVERSITE DE BORDEAUX",
          "INSTITUT BORDELAIS STYLISME MO",
          "ECOLE SUPERIEURE PRIVEE",
          "SUP DE VINCI",
          "UNIVERSITE DE BORDEAUX",
          "LYC TECHNOL PRIVE DES METIERS",
          "IFAG BORDEAUX",
          "INSTITUT SUPERIEUR DE COMMUNIC",
          "EC COMMERCE EUROP BORDEAUX",
          "LYCEE GENERAL ET TECHNOLOGIQUE",
          "ECOLE SUP ARTS TECHNIQUES DE L",
          "ECOLE SUPERIEURE METIERS IMAGE",
          "LYCEE GENERAL PRIVE",
          "PESMD BORDEAUX AQUITAINE",
          "UNIVERSITÉ DE BORDEAUX",
          "LYCEE GENERAL",
          "LYCEE POLYVALENT",
          "CESI ECOLE INGENIEURS NANTERRE",
          "CHU DE BORDEAUX",
          "CHU DE BORDEAUX",
          "LT LYCEE DES METIERS",
          "LT LYCEE DES METIERS",
          "EC PR DES SCIENCES INFORMATIQU",
          "ECOLE SUPÉRIEURE DU DIGITAL",
          "ECOLE SUPERIEURE METIERS IMAGE",
          "MJM GRAPHIC DESIGN - ESCAAD -",
          "ECOLE COMMERCE EUROP BORDEAUX",
          "MJM GRAPHIC DESIGN - ESCAAD -",
          "INST POLYTECHNIQUE BORDEAUX",
          "DIGITAL CAMPUS BORDEAUX",
          "ECOLE TECHNIQUE PRIVEE",
          "MJM GRAPHIC DESIGN - ESCAAD -",
          "UNIVERSITE DE BORDEAUX",
          "ECOLE MUNICIPALE BEAUX ARTS",
          "ECOLE SUPERIEURE DE THEATRE",
          "EC PR DES SCIENCES INFORMATIQU",
          "ECOLE SUPERIEURE DU DIGITAL",
          "ECOLE PRIVEE",
          "LYCEE PROF PRIVE DES METIERS",
          "LYCEE PROF PRIVE DES METIERS",
          "LYCEE PROF PRIVE DES METIERS",
          "EC FRANCAISE ATTACHES DE PRESS",
          "HAUTES ETUDES INTERNATIONALES",
          "LYCEE GENERAL ET TECHNOLOGIQUE",
          "CFPBNA",
          "UNIVERSITE DE BORDEAUX",
          "ECOLE TECHNIQUE PRIVEE",
          "ECOLE TECHNIQUE PRIVEE",
          "INSTITUT SUPERIEUR DE COMMUNIC",
          "GROUPE ESSCA",
          "ECOLE SUPERIEURE DES BEAUX ART",
          "EC PR DES SCIENCES INFORMATIQU",
          "ECOLE SUPERIEURE DU DIGITAL",
          "ECOLE SUPERIEURE PRIVEE",
          "I.S.E.G",
          "UNIVERSITE DE BORDEAUX",
          "UNIVERSITE DE BORDEAUX",
          "UNIVERSITE DE BORDEAUX",
          "UNIVERSITE DE BORDEAUX",
          "INSTITUT BORDELAIS STYLISME MO",
          "INSTITUT SUPERIEUR EUROPEEN DE",
          "ETAB PRIVE ENSEIGNT SUPERIEUR",
          "ETAB PRIVE ENSEIGNT SUPERIEUR",
          "EC SUP GEST COMMERCE FINANCE",
          "ECOLE TECHNIQUE PRIVEE",
          "ECOLE COMMERCE EUROP BORDEAUX",
          "ECOLE TECHNIQUE PRIVEE",
          "IFAG BORDEAUX",
          "UNIVERSITÉ DE BORDEAUX",
          null,
          null,
          "LA COMPAGNIE DE FORMATION",
          "ECOLE BORDELAISE DU VIN",
          "LYCEE PROF PRIVE DES METIERS",
          "PESMD BORDEAUX AQUITAINE",
          "PESMD BORDEAUX AQUITAINE",
          "ECOLE TECH PRIVEE",
          "INST SUPERIEUR GESTION PARIS",
          "CTRE ETUDES SUP INDUST PARIS",
          "SUP DE COM",
          "LYC GEN TECH PRIVE",
          "LYCEE GEN.ET TECHNOL.PRIVE",
          "ECOLE TECHNIQUE PRIVEE",
          "ECOLE TECHNIQUE PRIVEE",
          "LA COMPAGNIE DE FORMATION",
          null,
          "UNIVERSITÉ DE BORDEAUX",
          "ECOLE PRIVEE",
          "INST SUPERIEUR GESTION PARIS",
          "EC FRANCAISE ATTACHES DE PRESS",
          "IDRAC LYON",
          "LYCEE GEN.ET TECHNOL.PRIVE",
          "LYC TECHNOL PRIVE DES METIERS",
          "LYCEE GENERAL",
          "LYCEE GENERAL ET TECHNOLOGIQUE",
          "C H S  CHARLES PERRENS",
          "ECV BORDEAUX - ICA",
          "LYC GEN-TECHNO PR DES METIERS",
          "EC PR DES SCIENCES INFORMATIQU",
          "ECOLE INTERNATIONALE TUNON",
          "C.H.R.",
          "ECOLE TECHNIQUE PRIVEE",
          "UNIVERSITÃ DE BORDEAUX",
          "INST. FORMAT. SOINS INFIRM.",
          "LT LYCEE DES METIERS",
          "INSTITUT METIERS DU NOTARIAT",
          "DIGITAL CAMPUS BORDEAUX",
          "DIGITAL CAMPUS BORDEAUX",
          null,
          "LYCEE GENERAL ET TECHNOLOGIQUE",
          "LT LYCEE DES METIERS",
          "UNIVERSITE DE BORDEAUX",
          "ETAB PR ENSEIGNEMENT TECH",
          "LYCEE GEN.ET TECHNOL.PRIVE",
          "LYCEE TECHNOLOGIQUE PRIVE",
          "ECOLE TECHNIQUE PRIVEE",
          "UNIVERSITE DE BORDEAUX",
          "ECOLE SUPERIEURE TECHNIQUE PRI",
          "ETAB PRIVE ENSEIGNT SUPERIEUR",
          "ECOLE SUPERIEURE DES BEAUX ART",
          "IFAG BORDEAUX",
          "C H S  CHARLES PERRENS",
          "FORMASUP CAMPUS",
          "EC SUP GEST COMMERCE FINANCE",
          "I.S.E.G",
          "EC SUP GEST COMMERCE FINANCE",
          "LYCEE GENERAL ET TECHNOLOGIQUE",
          "LT LYCEE DES METIERS",
          "CTR DE FORMATION D APPRENTIS",
          "ECV BORDEAUX - ICA",
          "ARTSIDE GAMES",
          "EC PR DES SCIENCES INFORMATIQU",
          "INST HTES ETUDES ECO COM BORDX",
          "UNIVERSITE DE BORDEAUX",
          "UNIVERSITE DE BORDEAUX",
          "ECOLE SUPERIEURE METIERS IMAGE",
          "ECOLE MUNICIPALE BEAUX ARTS",
          "LYCEE GENERAL ET TECHNOLOGIQUE",
          "PESMD BORDEAUX AQUITAINE",
          "IFAG",
          "INFOSUP",
          "LYCEE GENERAL",
          "INSTITUT BORDELAIS STYLISME MO",
          "CTRE ETUDES SUP INDUST PARIS",
          "LYCEE GEN.ET TECHNOL.PRIVE",
          "ECV BORDEAUX - ICA",
          "INST SUPERIEUR DES ARTS APPLIQ",
          "ECOLE TECHNIQUE PRIVEE",
          "ETABLISSEMENT SUPERIEUR PRIVE",
          "ECOLE SUPERIEURE PRIVEE",
          "IDRAC LYON",
          "EC SUP PROFESSIONS IMMOBILIERE",
          "ECOLE DES HAUTES ETUDES INTERN",
          "LYC GEN-TECHNO PR DES METIERS",
          "ECOLE 2D DEGRE PROF.PRIVEE",
          "INSTITUT SUPERIEUR D'OPTIQUE",
          "IDRAC LYON",
          "INST SUP EURO FORMATION ACTION",
          "UNIVERSITE DE BORDEAUX",
          "UNIVERSITE DE BORDEAUX",
          "ECV BORDEAUX - ICA",
          "ECOLE SUPERIEURE TECHNIQUE PRI",
          "ECOLE SUPERIEURE DE THEATRE",
          "EC SPECIALE MECA ELECTRICITE",
          "INST POLYTECHNIQUE BORDEAUX",
          "EC PR DES SCES INFORMATIQUES",
          "INST POLYTECHNIQUE BORDEAUX",
          "ECOLE TECHNIQUE PRIVEE",
          "INST SUP EURO FORMATION ACTION",
          "ECOLE NATIONALE MAGISTRATURE",
          "CTR DE FORMATION D APPRENTIS",
          "LYCEE GEN.ET TECHNOL.PRIVE",
          "UNIVERSITE DE BORDEAUX",
          "UNIVERSITE DE BORDEAUX",
          "UNIVERSITE DE BORDEAUX",
          "ECOLE SUP ARTS TECHNIQUES DE L",
          "INSTITUT SUPERIEUR EUROPEEN DE",
          "ECOLE SUPERIEURE PRIVEE",
          "DIGITAL CAMPUS BORDEAUX",
          "SUP DE VINCI",
          "ECOLE SUPERIEURE PRIVEE",
          "ECV BORDEAUX - ICA",
          "INSTITUT BORDELAIS STYLISME MO",
          "PESMD BORDEAUX AQUITAINE",
          "INSTITUT METIERS DU NOTARIAT",
          "CAFA FORMATIONS",
          "CAFA FORMATIONS",
          "LA HORDE",
          "ETABLISSEMENT SUPERIEUR LIBRE",
          "ETABLISSEMENT SUPERIEUR LIBRE",
          "I.S.E.G",
          "UNIVERSITE DE BORDEAUX",
          "ETAB SUPERIEUR TECHNIQUE PR",
          "ETAB SUPERIEUR TECHNIQUE PR",
          "ORGANISME FORMATION-CFA",
          "UNIVERSITE BORDEAUX 3",
          "UNIVERSITE DE BORDEAUX",
          "UNIVERSITE DE BORDEAUX",
          "LYCEE GENERAL",
          "ECOLE SUPERIEURE DES BEAUX ART",
          "ECOLE SUPERIEURE DES BEAUX ART",
          "ETAB SUPERIEUR TECHNIQUE PR",
          "ETAB SUPERIEUR TECHNIQUE PR",
          "ECV BORDEAUX - ICA",
          "CESI ECOLE INGENIEURS NANTERRE",
          "ECOLE NATIONALE MAGISTRATURE",
          "INSEEC BORDEAUX",
          "LYCEE GENERAL",
          "LYCEE GENERAL ET TECHNOLOGIQUE",
          "INST. FORMAT. SOINS INFIRM.",
          "INST HTES ETUDES ECO COM BORDX",
          "ECOLE COMMERCE EUROP BORDEAUX",
          "IDRAC LYON",
          "ETAB PRIVE ENSEIGNT SUPERIEUR",
          "C H S  CHARLES PERRENS",
          "ECOLE SUPERIEURE DES BEAUX ART",
          "EC SUP GEST COMMERCE FINANCE",
          "LA HORDE",
          "ETAB SUPERIEUR TECHNIQUE PR",
          "INST HTES ETUDES ECO COM BORDX",
          "INSTITUT BORDELAIS STYLISME MO",
          "INST POLYTECHNIQUE BORDEAUX",
          "LYCEE GENERAL ET TECHNOLOGIQUE",
          "IFAG",
          "C.H.R.",
          "UNIVERSITE BORDEAUX 3",
          "INST SUPERIEUR DES ARTS APPLIQ",
          "ECOLE SUPERIEURE PRIVEE",
          "ECOLE SUPERIEURE D'ARCHITECTUR",
          "ETAB PRIVE ENSEIGNT SUPERIEUR",
          "LA HORDE",
          "EC FRANCAISE ATTACHES DE PRESS",
          "LYC GEN TECH PRIVE",
          "LYCEE TECHNOLOGIQUE PRIVE",
          "UNIVERSITE DE BORDEAUX",
          "C H S  CHARLES PERRENS",
          "ECOLE TECH PRIVEE",
          null,
          "UNIVERSITÉ DE BORDEAUX",
          "ESARC EVOLUTION ARTS APPLIQUÃ",
          "LYCEE GEN.ET TECHNOL.PRIVE",
          "UNIVERSITE DE BORDEAUX",
          "UNIVERSITE DE BORDEAUX",
          "L'ECOLE DU 7EME ART",
          "UNIVERSITE DE BORDEAUX",
          "ECOLE SUP ARTS TECHNIQUES DE L",
          "INST SUPERIEUR DES ARTS APPLIQ",
          "MJM GRAPHIC DESIGN - ESCAAD -",
          "ARTSIDE GAMES",
          "ESARC EVOLUTION",
          "EC SUP GEST COMMERCE FINANCE",
          "INST POLYTECHNIQUE BORDEAUX",
          "CTR DE FORMATION D APPRENTIS",
          "EC PR DES SCIENCES INFORMATIQU",
          "LYCEE GENERAL",
          "LYCEE GEN.ET TECHNOL.PRIVE",
          "LYCEE GENERAL PRIVE",
          "LYCEE GENERAL PRIVE",
          "E C V AQUITAINE I C B",
          "GROUPE ESSCA",
          "INST SUPERIEUR GESTION PARIS",
          "INST POLYTECHNIQUE BORDEAUX",
          "LYCEE GENERAL",
          "INST SUP EURO FORMATION ACTION",
          "IDRAC LYON",
          "LYC GEN-TECHNO PR DES METIERS",
          "ECOLE PRIVEE",
          "LYCEE POLYVALENT",
          "ECOLE INTERNATIONALE TUNON",
          "EC TECH PR ARTS APPLIQUES",
          "UNIVERSITÉ DE BORDEAUX",
          null,
          "ECOLE SUPERIEURE METIERS IMAGE",
          "INSTITUT METIERS DU NOTARIAT",
          "I.B.S.M.",
          "E - ARTSUP",
          "CESI ECOLE INGENIEURS NANTERRE",
          "LYCEE GENERAL ET TECHNOLOGIQUE",
          "UNIVERSITE BORDEAUX 3",
          "UNIVERSITE DE BORDEAUX",
          "UNIVERSITE DE BORDEAUX",
          "LYCEE GENERAL",
          "EC SPECIALE MECA ELECTRICITE",
          "UNIVERSITÉ DE BORDEAUX",
          "CTR DE FORMATION D APPRENTIS",
          "LYCEE GENERAL",
          "ECV BORDEAUX - ICA",
          "ETAB SUPERIEUR TECHNIQUE PR",
          "GROUPE ESSCA",
          "INST POLYTECHNIQUE BORDEAUX",
          "IDRAC LYON",
          "INST SUPERIEUR GESTION PARIS",
          "LYC GEN TECH PRIVE",
          "INST POLYTECHNIQUE BORDEAUX",
          "LYCEE GEN.ET TECHNOL.PRIVE",
          "LYCEE TECHNOLOGIQUE PRIVE",
          "LYCEE GENERAL",
          "UNIVERSITE DE BORDEAUX",
          "LYCEE GENERAL",
          "LYCEE GENERAL",
          "L'ECOLE DU 7EME ART",
          "ETAB PRIVE ENSEIGNT SUPERIEUR",
          "ECOLE SUP COMMERCE ECO NUMERIQ",
          "UNIVERSITE DE BORDEAUX",
          "ECOLE SUPERIEURE METIERS IMAGE",
          "L'ECOLE DU 7EME ART",
          "ECOLE INTERNATIONALE TUNON",
          "INSTITUT SUPERIEUR D'OPTIQUE",
          "LYC TECHNOL PRIVE DES METIERS",
          "C H S  CHARLES PERRENS",
          "EC SPECIALE MECA ELECTRICITE",
          "ECOLE SECONDAIRE PROF.PRIVEE",
          "INST SUPERIEUR DES ARTS APPLIQ",
          "MJM GRAPHIC DESIGN - ESCAAD -",
          "ARTSIDE GAMES",
          "EURIDIS BORDEAUX",
          "CTR DE FORMATION D APPRENTIS",
          "EC FRANCAISE ATTACHES DE PRESS",
          "EC PR DES SCIENCES INFORMATIQU",
          "LYC GEN TECH PRIVE",
          "IDRAC LYON",
          "ECOLE SUPERIEURE PRIVEE",
          "ARTSIDE GAMES",
          "BORDEAUX  YNOV CAMPUS",
          null,
          "LYCEE GENERAL",
          "ECOLE TECHNIQUE PRIVEE",
          "IFAG BORDEAUX",
          "ESARC EVOLUTION",
          "ECOLE TECHNIQUE PRIVEE",
          "IFAG BORDEAUX",
          "INSTITUT SUPERIEUR DE COMMUNIC",
          "ECOLE TECH SUP PRIVEE",
          "IDRAC LYON",
          "LYCEE PROF PRIVE DES METIERS",
          "LYC GEN TECH PRIVE",
          "LYCEE GENERAL ET TECHNOLOGIQUE",
          "ECOLE SECONDAIRE PROF.PRIVEE",
          "INST SUPERIEUR DES ARTS APPLIQ",
          "ECOLE SUPERIEURE TECHNIQUE PRI",
          "IDRAC LYON",
          "UNIVERSITE DE BORDEAUX",
          "UNIVERSITE DE BORDEAUX",
          "UNIVERSITE DE BORDEAUX",
          "UNIVERSITE DE BORDEAUX",
          "UNIVERSITE BORDEAUX 3",
          "IDRAC LYON",
          "INSTITUT BORDELAIS STYLISME MO",
          "ECOLE NATIONALE MAGISTRATURE",
          "CTR DE FORMATION D APPRENTIS",
          "IFAG",
          "INST SUPERIEUR DES ARTS APPLIQ",
          "ECOLE SUPERIEURE DE THEATRE",
          "LA HORDE",
          "ETABLISSEMENT TECHNIQUE PRIVE",
          "INST SUPERIEUR GESTION PARIS",
          "EC SUP GEST COMMERCE FINANCE",
          "CAFA FORMATIONS",
          "ARTSIDE GAMES",
          "INST HTES ETUDES ECO COM BORDX",
          "ETABLISSEMENT SUPERIEUR PRIVE",
          "LYCEE TECHNOLOGIQUE PRIVE",
          "ECOLE 2D DEGRE PROF.PRIVEE",
          "ECOLE 2ND DEGRE PROF PRIVEE",
          "FORMASUP CAMPUS",
          "ESARC EVOLUTION",
          "ECV BORDEAUX - ICA",
          "LYC TECHNOL PRIVE DES METIERS",
          "UNIVERSITE DE BORDEAUX",
          "UNIVERSITE DE BORDEAUX",
          "UNIVERSITE DE BORDEAUX",
          "LYCEE GENERAL ET TECHNOLOGIQUE",
          "ARTSIDE GAMES",
          "UNIVERSITE BORDEAUX 3",
          "INST SUP EURO FORMATION ACTION",
          "CESI ECOLE INGENIEURS NANTERRE",
          "EC SPECIALE MECA ELECTRICITE",
          "ESARC EVOLUTION",
          "I.S.E.G",
          "ECOLE SUPERIEURE",
          "ECOLE SUPERIEURE DE THEATRE",
          "EC FRANCAISE ATTACHES DE PRESS",
          "I.S.E.G",
          "LYC GEN TECH PRIVE DES METIERS",
          "LA COMPAGNIE DE FORMATION",
          null,
          "UNIVERSITE DE BORDEAUX",
          "EC FRANCAISE ATTACHES DE PRESS",
          "INST POLYTECHNIQUE BORDEAUX",
          "IDRAC LYON",
          "DIGITAL CAMPUS BORDEAUX",
          "ETABLISSEMENT SUPERIEUR LIBRE",
          "CAFA FORMATIONS",
          "LYCEE TECHNOLOGIQUE PRIVE",
          "EC FRANCAISE ATTACHES DE PRESS",
          "LYCEE TECHNOLOGIQUE PRIVE",
          "DIGITAL CAMPUS BORDEAUX",
          "ECOLE SUP COMMERCE ECO NUMERIQ",
          "INST SUPERIEUR GESTION PARIS",
          "UNIVERSITE DE BORDEAUX",
          "UNIVERSITE DE BORDEAUX",
          "ECOLE MUNICIPALE BEAUX ARTS",
          "BORDEAUX  YNOV CAMPUS",
          "ECOLE 2ND DEGRE PROF PRIVEE",
          "I.S.E.G",
          "ORGANISME FORMATION-CFA",
          "ECOLE TECHNIQUE PRIVEE",
          "ECOLE TECHNIQUE PRIVEE",
          "ECOLE SUP COMMERCE ECO NUMERIQ",
          "ECOLE SUP COMMERCE ECO NUMERIQ",
          "INSTITUT SUPERIEUR DE COMMUNIC",
          "C H S  CHARLES PERRENS",
          "ETAB PR ENSEIGNEMENT TECH",
          "CTRE ETUDES SUP INDUST PARIS",
          "EC SPECIALE MECA ELECTRICITE",
          "EC FRANCAISE ATTACHES DE PRESS",
          "UNIVERSITÃ DE BORDEAUX",
          "UNIVERSITÃ DE BORDEAUX",
          "UNIVERSITÉ DE BORDEAUX",
          null,
          "LYCEE POLYVALENT",
          "LT LYCEE DES METIERS",
          "ECOLE BORDELAISE DU VIN",
          "UNIVERSITE DE BORDEAUX",
          "UNIVERSITE DE BORDEAUX",
          "UNIVERSITE DE BORDEAUX",
          "UNIVERSITE DE BORDEAUX",
          "IDRAC LYON",
          "ETAB ENSEIGNT SUP PRIVE LIBRE",
          "C H S  CHARLES PERRENS",
          "PESMD BORDEAUX AQUITAINE",
          "INSTITUT SUPERIEUR EUROPEEN DE",
          "ECOLE SUPERIEURE DES BEAUX ART",
          "IFAG BORDEAUX",
          "LA HORDE",
          "ECOLE TECHNIQUE PRIVEE",
          "UNIVERSITE BORDEAUX 3",
          "UNIVERSITE DE BORDEAUX",
          "LYCEE GENERAL",
          "CFPBNA",
          "LYCEE GENERAL ET TECHNOLOGIQUE",
          "UNIVERSITE DE BORDEAUX",
          "UNIVERSITE DE BORDEAUX",
          "EC SUP GEST COMMERCE FINANCE",
          "LYCEE GENERAL ET TECHNOLOGIQUE",
          "UNIVERSITÉ DE BORDEAUX",
          "EC.SUP.ARTS-TECH DE MODE",
          "E COD (CCI DE BORDEAUX)",
          "LYCEE GENERAL ET TECHNOLOGIQUE",
          "UNIVERSITÉ DE BORDEAUX",
          "UNIVERSITÉ DE BORDEAUX",
          "LYCEE GENERAL ET TECHNOLOGIQUE",
          "ETAB PRIVE ENSEIGNT SUPERIEUR",
          "ECOLE COMMERCE EUROP BORDEAUX",
          "INST SUPERIEUR DES ARTS APPLIQ",
          "ARTSIDE GAMES",
          "UNIVERSITE DE BORDEAUX",
          "UNIVERSITE DE BORDEAUX",
          "SUP DE COM",
          "MJM GRAPHIC DESIGN - ESCAAD -",
          "ECOLE INTERNATIONALE TUNON",
          "C H S  CHARLES PERRENS",
          "ECOLE NATIONALE MAGISTRATURE",
          "ECOLE MUNICIPALE BEAUX ARTS",
          "ECOLE INTERNATIONALE TUNON",
          "BORDEAUX  Y NOV CAMPUS",
          "UNIVERSITÉ DE BORDEAUX",
          "INSTITUT SUPERIEUR D'OPTIQUE",
          "IFAG BORDEAUX",
          "INSTITUT SUPERIEUR DE COMMUNIC",
          null,
          "ECOLE TECHNIQUE PRIVEE",
          "LYCEE GEN.ET TECHNOL.PRIVE",
          "INST DECOR ETAL AMENAG ESPACE",
          "BORDEAUX INFORMATIQUE CAMPUS",
          "INST DECOR ETAL AMENAG ESPACE",
          "EC SUP PROFESSIONS IMMOBILIERE",
          "ECOLE SECONDAIRE PROF.PRIVEE",
          "EC SUP GEST COMMERCE FINANCE",
          "FORMATIONS D'AKI 10 - FORMADKL",
          "ESCEN",
          "ESARC EVOLUTION",
          "UNIVERSITE DE BORDEAUX",
          "UNIVERSITE DE BORDEAUX",
          "UNIVERSITE DE BORDEAUX",
          "LYC GEN-TECHNO PR DES METIERS",
          "LYC TECHNOL PRIVE DES METIERS",
          "MJM GRAPHIC DESIGN - ESCAAD -",
          "INST SUPERIEUR DES ARTS APPLIQ",
          "MJM GRAPHIC DESIGN - ESCAAD -",
          "INST POLYTECHNIQUE BORDEAUX",
          "EC PR DES SCIENCES INFORMATIQU",
          "EC PR DES SCIENCES INFORMATIQU",
          "BORDEAUX  YNOV CAMPUS",
          "LYC TECHNOL PRIVE DES METIERS",
          "ECOLE 2ND DEGRE PROF PRIVEE",
          "UNIVERSITÃ DE BORDEAUX",
          "UNIVERSITÉ DE BORDEAUX",
          "UNIVERSITÉ DE BORDEAUX",
          "INSTITUT DE LA PROMOTION COMME",
          "C H S  CHARLES PERRENS",
          "UNIVERSITE BORDEAUX 3",
          "INST. FORMAT. SOINS INFIRM.",
          "ECOLE SUP ARTS TECHNIQUES DE L",
          "ETAB PR ENSEIGNEMENT TECH",
          "LYCEE GENERAL ET TECHNOLOGIQUE",
          "INST POLYTECHNIQUE BORDEAUX",
          "GROUPE ESSCA",
          "LYCEE GENERAL PRIVE",
          "ECOLE DES HAUTES ETUDES INTERN",
          "CESI ECOLE INGENIEURS NANTERRE",
          "LYCEE TECHNOLOGIQUE PRIVE",
          "UNIVERSITE DE BORDEAUX",
          "UNIVERSITE DE BORDEAUX",
          "UNIVERSITE DE BORDEAUX",
          "UNIVERSITE DE BORDEAUX",
          "ETAB PRIVE ENSEIGNT SUPERIEUR",
          "ECOLE SUP COMMERCE ECO NUMERIQ",
          "INST SUPERIEUR GESTION PARIS",
          "INST SUPERIEUR GESTION PARIS",
          "ECOLE TECHNIQUE PRIVEE",
          "ECOLE SUP ARTS TECHNIQUES DE L",
          "UNIVERSITÉ DE BORDEAUX",
          "LYCEE TECHNOLOGIQUE PRIVE",
          "UNIVERSITÉ DE BORDEAUX",
          "ETAB PRIVE ENSEIGNT SUPERIEUR",
          "LYCEE GEN.ET TECHNOL.PRIVE",
          "INST POLYTECHNIQUE BORDEAUX",
          "LYCEE GENERAL ET TECHNOLOGIQUE",
          "LYCEE GENERAL ET TECHNOLOGIQUE",
          "LYC GEN-TECHNO PR DES METIERS",
          "ECV BORDEAUX - ICA",
          "PESMD BORDEAUX AQUITAINE",
          "ECOLE SUPERIEURE METIERS IMAGE",
          "L'ECOLE DU 7EME ART",
          "ECOLE SUPERIEURE TECHNIQUE PRI",
          "ECOLE SUPERIEURE DES BEAUX ART",
          "DIGITAL CAMPUS BORDEAUX",
          "ECV BORDEAUX - ICA",
          "ECV BORDEAUX - ICA",
          "ECOLE SUPERIEURE D'ARCHITECTUR",
          "EC SUP GEST COMMERCE FINANCE",
          "UNIVERSITE BORDEAUX 3",
          "INST SUPERIEUR DES ARTS APPLIQ",
          "ECOLE SUPERIEURE PRIVEE",
          "ECOLE SUPERIEURE METIERS IMAGE",
          "I.S.E.G",
          "EC SUP GEST COMMERCE FINANCE",
          "IGEFI BORDEAUX",
          "ECOLE MUNICIPALE BEAUX ARTS",
          "INST POLYTECHNIQUE BORDEAUX",
          "INST. FORMAT. SOINS INFIRM.",
          "UNIVERSITÉ DE BORDEAUX",
          "EC FRANCAISE ATTACHES DE PRESS",
          "LYC TECHNOL PRIVE DES METIERS",
          "UNIVERSITE DE BORDEAUX",
          "ECOLE SUP ARTS TECHNIQUES DE L",
          "PESMD BORDEAUX AQUITAINE",
          "CTRE ETUDES SUP INDUST PARIS",
          "INSEEC BORDEAUX",
          "LYC GEN TECH PRIVE DES METIERS",
          "ESCEN",
          "ECOLE SUPÉRIEURE DU DIGITAL",
          "UNIVERSITÉ DE BORDEAUX",
          "CTR DE FORMATION D APPRENTIS",
          "INSTITUT SUPERIEUR D'OPTIQUE",
          "ETABLISSEMENT SUPERIEUR LIBRE",
          "EC SUP GEST COMMERCE FINANCE",
          "ECOLE SUPERIEURE PRIVEE",
          "IDRAC LYON",
          "INST SUP EURO FORMATION ACTION",
          "UNIVERSITE BORDEAUX 3",
          "UNIVERSITE DE BORDEAUX",
          "INST POLYTECHNIQUE BORDEAUX",
          "IFAG",
          "LYCEE GEN.ET TECHNOL.PRIVE",
          "LYCEE GEN.ET TECHNOL.PRIVE",
          "I.B.S.M.",
          "ECOLE TECHNIQUE PRIVEE",
          "INST HTES ETUDES ECO COM BORDX",
          "ECOLE COMMERCE EUROP BORDEAUX",
          "ECOLE CENTRALE ELECTRONIQUE PA",
          "ECOLE NATIONALE MAGISTRATURE",
          "LYCEE GENERAL",
          "ECV BORDEAUX - ICA",
          "UNIVERSITE DE BORDEAUX",
          "UNIVERSITE DE BORDEAUX",
          "LYCEE GENERAL PRIVE",
          "EC FRANCAISE ATTACHES DE PRESS",
          "ETABLISSEMENT SUPERIEUR PRIVE",
          "UNIVERSITE BORDEAUX 3",
          "UNIVERSITE DE BORDEAUX",
          "UNIVERSITE DE BORDEAUX",
          "UNIVERSITE DE BORDEAUX",
          "MJM GRAPHIC DESIGN - ESCAAD -",
          "CTR DE FORMATION D APPRENTIS",
          "EC SUP SC COMMERCIALES ANGERS",
          "LYC GEN-TECHNO PR DES METIERS",
          "LYC TECHNOL PRIVE DES METIERS",
          "ECOLE SUPERIEURE METIERS IMAGE",
          "ECOLE SUPERIEURE DU DIGITAL",
          "UNIVERSITE DE BORDEAUX",
          "CHU DE BORDEAUX",
          "UNIVERSITE DE BORDEAUX",
          "L'ECOLE DU 7EME ART",
          "UNIVERSITE DE BORDEAUX",
          "ECOLE COMMERCE EUROP BORDEAUX",
          "ECOLE SUP COMMERCE ECO NUMERIQ",
          "EC SUP GEST COMMERCE FINANCE",
          "ECOLE SUPERIEURE PRIVEE",
          "INST SUP EURO FORMATION ACTION",
          null,
          "ECOLE TECHNIQUE PRIVEE",
          "LYCEE GENERAL PRIVE",
          "ECOLE MUNICIPALE BEAUX ARTS",
          "ECOLE SUPERIEURE",
          "INST POLYTECHNIQUE BORDEAUX",
          "ECOLE SECONDAIRE PROF.PRIVEE",
          "DIGITAL CAMPUS BORDEAUX",
          "LYCEE GENERAL",
          "LYCEE GENERAL ET TECHNOLOGIQUE",
          "INST SUPERIEUR GESTION PARIS",
          "INST SUP EURO FORMATION ACTION",
          "LYC GEN TECH PRIVE",
          "LYCEE GEN.ET TECHNOL.PRIVE",
          "INSTITUT BORDELAIS STYLISME MO",
          "INSTITUT SUPÉRIEUR D'OPTIQUE",
          "DIGITAL CAMPUS BORDEAUX",
          "UNIVERSITE DE BORDEAUX",
          "UNIVERSITE DE BORDEAUX",
          "INSTITUT SUPERIEUR EUROPEEN DE",
          "INST SUPERIEUR GESTION PARIS",
          "CESI ECOLE INGENIEURS NANTERRE",
          "LYCEE GENERAL ET TECHNOLOGIQUE",
          "LYCEE TECHNOLOGIQUE PRIVE",
          "LYCEE GENERAL ET TECHNOLOGIQUE",
          "UNIVERSITE DE BORDEAUX",
          "UNIVERSITE DE BORDEAUX",
          "LYC TECHNOL PRIVE DES METIERS",
          "ECOLE 2D DEGRE PROF.PRIVEE",
          "UNIVERSITE DE BORDEAUX",
          "I.S.E.G",
          "IFAG BORDEAUX",
          "LYCEE GENERAL ET TECHNOLOGIQUE",
          "CTR DE FORMATION D APPRENTIS",
          "ECOLE SUPERIEURE DE THEATRE",
          "INST SUPERIEUR DES ARTS APPLIQ",
          "UNIVERSITÉ DE BORDEAUX",
          "ECV BORDEAUX - ICA",
          "ECOLE SUPERIEURE DU DIGITAL",
          "INST POLYTECHNIQUE BORDEAUX",
          "IDRAC LYON",
          "ETAB ENSEIGNT SUP PRIVE LIBRE",
          "ECOLE DES HAUTES ETUDES INTERN",
          "UNIVERSITE DE BORDEAUX",
          "PESMD BORDEAUX AQUITAINE",
          "FORMATIONS D'AKI 10 - FORMADKL",
          "ECOLE TECHNIQUE PRIVEE",
          "INST POLYTECHNIQUE BORDEAUX",
          "UNIVERSITÉ DE BORDEAUX",
          "INSTITUT METIERS DU NOTARIAT",
          null,
          "INST SUPERIEUR DES ARTS APPLIQ",
          "LYCEE GENERAL ET TECHNOLOGIQUE",
          "UNIVERSITÃ DE BORDEAUX",
          "UNIVERSITÉ DE BORDEAUX",
          "UNIVERSITÉ DE BORDEAUX",
          "LYC GEN-TECHNO PR DES METIERS",
          "INSTITUT SUPÉRIEUR D'OPTIQUE",
          "ECOLE NATIONALE MAGISTRATURE",
          "EC SUP GEST COMMERCE FINANCE",
          "ECOLE NATIONALE MAGISTRATURE",
          "UNIVERSITE DE BORDEAUX",
          "CAFA FORMATIONS",
          "IFAG BORDEAUX",
          "INSTITUT SUPERIEUR DE COMMUNIC",
          "ETABLISSEMENT TECHNIQUE PRIVE",
          "CHU DE BORDEAUX",
          "C H S  CHARLES PERRENS",
          "LYCEE GEN.ET TECHNOL.PRIVE",
          "LYCEE GENERAL ET TECHNOLOGIQUE",
          "INSTITUT SUPERIEUR DE COMMUNIC",
          "ECOLE TECHNIQUE PRIVEE",
          "ECOLE TECHNIQUE PRIVEE",
          "UNIVERSITE DE BORDEAUX",
          "ECOLE SUPERIEURE METIERS IMAGE",
          "EC SUP GEST COMMERCE FINANCE",
          "LYCEE GENERAL",
          "ECOLE SUP COMMERCE ECO NUMERIQ",
          "INST SUP EURO FORMATION ACTION",
          "LYCEE GENERAL ET TECHNOLOGIQUE",
          "LYCEE GENERAL",
          "ECOLE MUNICIPALE BEAUX ARTS",
          "INST DECOR ETAL AMENAG ESPACE",
          "INSTITUT METIERS DU NOTARIAT",
          "BORDEAUX  Y NOV CAMPUS",
          "LYCEE POLYVALENT",
          "LYCEE GENERAL",
          "UNIVERSITÉ DE BORDEAUX",
          "EC PR DES SCIENCES INFORMATIQU",
          "LYCEE POLYVALENT",
          "LYCEE GENERAL",
          "UNIVERSITE DE BORDEAUX",
          "UNIVERSITE DE BORDEAUX",
          "UNIVERSITE DE BORDEAUX",
          "BORDEAUX  YNOV CAMPUS",
          "ECOLE SUP COMMERCE ECO NUMERIQ",
          "GROUPE ESSCA",
          "INST SUPERIEUR GESTION PARIS",
          "ECOLE 2ND DEGRE PROF PRIVEE",
          "PESMD BORDEAUX AQUITAINE",
          "INSTITUT SUPÉRIEUR D'OPTIQUE",
          "I.S.E.G",
          "CHU DE BORDEAUX",
          "UNIVERSITE DE BORDEAUX",
          "INSTITUT BORDELAIS STYLISME MO",
          "PESMD BORDEAUX AQUITAINE",
          "ORGANISME FORMATION-CFA",
          "INSTITUT SUPERIEUR DE COMMUNIC",
          "UNIVERSITE BORDEAUX 3",
          "UNIVERSITE BORDEAUX 3",
          "UNIVERSITE DE BORDEAUX",
          "IDRAC LYON",
          "FORMASUP CAMPUS",
          "ESARC EVOLUTION",
          "GROUPE ESSCA",
          "IDRAC LYON",
          "LYCEE TECHNOLOGIQUE PRIVE",
          "IDRAC LYON",
          "ECOLE INTERNATIONALE TUNON",
          "DIDEROT EDUCATION - BORDEAUX",
          "ORGANISME FORMATION-CFA",
          "ECOLE SUPERIEURE METIERS IMAGE",
          "L'ECOLE DU 7EME ART",
          "ETAB PR ENSEIGNEMENT TECH",
          "EC PR DES SCIENCES INFORMATIQU",
          "INST SUP EURO FORMATION ACTION",
          "LA COMPAGNIE DE FORMATION",
          "EC PR DES SCIENCES INFORMATIQU",
          "CTR DE FORMATION D APPRENTIS",
          "EC SUP GEST COMMERCE FINANCE",
          "EC SPECIALE MECA ELECTRICITE",
          "LYC TECHNOL PRIVE DES METIERS",
          "UNIVERSITÉ DE BORDEAUX",
          "ECOLE TECHNIQUE PRIVEE",
          "INST. FORMAT. SOINS INFIRM.",
          "UNIVERSITE BORDEAUX 3",
          "EC FRANCAISE ATTACHES DE PRESS",
          "EC FRANCAISE ATTACHES DE PRESS",
          "UNIVERSITE DE BORDEAUX",
          "EC FRANCAISE ATTACHES DE PRESS",
          "CHU DE BORDEAUX",
          "UNIVERSITE DE BORDEAUX",
          "MJM GRAPHIC DESIGN - ESCAAD -",
          "LA HORDE",
          "ETAB SUPERIEUR TECHNIQUE PR",
          "I.S.E.G",
          "ECOLE COMMERCE EUROP BORDEAUX",
          "ETABLISSEMENT SUPERIEUR PRIVE",
          "INST SUP EURO FORMATION ACTION",
          "LYCEE GENERAL PRIVE",
          "GROUPE ESSCA",
          "INST POLYTECHNIQUE BORDEAUX",
          "EC FRANCAISE ATTACHES DE PRESS",
          "INST HTES ETUDES ECO COM BORDX",
          "ECOLE TECHNIQUE PRIVEE",
          "ECOLE TECHNIQUE PRIVEE",
          "EC SUP GEST COMMERCE FINANCE",
          "ECOLE SUPERIEURE PRIVEE",
          "ETABLISSEMENT TECHNIQUE PRIVE",
          "INST SUPERIEUR GESTION PARIS",
          "PESMD BORDEAUX AQUITAINE",
          "ECOLE COMMERCE EUROP BORDEAUX",
          "UNIVERSITE DE BORDEAUX",
          "ECOLE SUPERIEURE D'ARCHITECTUR",
          "ECOLE SUPERIEURE TECHNIQUE PRI",
          "ECOLE SUP COMMERCE ECO NUMERIQ",
          "ECOLE SUPERIEURE PRIVEE",
          "ECOLE SUPERIEURE PRIVEE",
          "ECOLE MUNICIPALE BEAUX ARTS",
          "LT LYCEE DES METIERS",
          "UNIVERSITE BORDEAUX 3",
          "INSTITUT SUPÉRIEUR EUROPÉEN DE",
          "ESARC EVOLUTION",
          "E C V AQUITAINE I C B",
          "INSTITUT SUPÉRIEUR D'OPTIQUE",
          "ECOLE SECONDAIRE PROF.PRIVEE",
          "C.H.R.",
          "UNIVERSITÉ DE BORDEAUX",
          "INSTITUT BORDELAIS STYLISME MO",
          "INST SUPERIEUR DES ARTS APPLIQ",
          "ETAB PRIVE ENSEIGNT SUPERIEUR",
          "INST POLYTECHNIQUE BORDEAUX",
          "LYCEE GENERAL PRIVE",
          "LYCEE POLYVALENT",
          "EC TECH PR ARTS APPLIQUES",
          "IFAG",
          "ECOLE NATIONALE MAGISTRATURE",
          "ACADEMIE THEATRALE",
          "ECOLE SUP ARTS TECHNIQUES DE L",
          "INSTITUT SUPERIEUR EUROPEEN DE",
          "DIGITAL CAMPUS BORDEAUX",
          "ECOLE MUNICIPALE BEAUX ARTS",
          null,
          "EC COMMERCE EUROP BORDEAUX",
          "EC SUP SC COMMERCIALES ANGERS",
          "ECOLE 2ND DEGRE PROF PRIVEE",
          "CHU DE BORDEAUX",
          "ORGANISME FORMATION-CFA",
          "ETABLISSEMENT SUPERIEUR PRIVE",
          "UNIVERSITE BORDEAUX 3",
          "UNIVERSITE DE BORDEAUX",
          "UNIVERSITÉ DE BORDEAUX",
          "IFAG",
          "ECV BORDEAUX - ICA",
          "INSTITUT BORDELAIS STYLISME MO",
          "INSTITUT BORDELAIS STYLISME MO",
          "ECOLE SUPERIEURE METIERS IMAGE",
          "INSTITUT SUPERIEUR EUROPEEN DE",
          "ETAB PR ENSEIGNEMENT TECH",
          "DIDEROT EDUCATION - BORDEAUX",
          "INST HTES ETUDES ECO COM BORDX",
          "ORGANISME FORMATION-CFA",
          "ECOLE TECHNIQUE PRIVEE",
          "ECOLE SUP COMMERCE ECO NUMERIQ",
          "C H S  CHARLES PERRENS",
          "UNIVERSITE DE BORDEAUX",
          "UNIVERSITE DE BORDEAUX",
          "UNIVERSITE DE BORDEAUX",
          "UNIVERSITE DE BORDEAUX",
          "LYCEE GENERAL PRIVE",
          "UNIVERSITE BORDEAUX 3",
          "FORMASUP CAMPUS",
          "INSTITUT METIERS DU NOTARIAT",
          "UNIVERSITE DE BORDEAUX",
          "DIDEROT EDUCATION - BORDEAUX",
          "ETAB SUPERIEUR TECHNIQUE PR",
          "ESARC EVOLUTION",
          "ECOLE SUP COMMERCE ECO NUMERIQ",
          "INSTITUT SUPERIEUR DE COMMUNIC",
          "INSTITUT SUPERIEUR D'OPTIQUE",
          "INST POLYTECHNIQUE BORDEAUX",
          "LYCEE GEN.ET TECHNOL.PRIVE",
          "ECOLE TECHNIQUE PRIVEE",
          "ECOLE SUP COMMERCE ECO NUMERIQ",
          "UNIVERSITE BORDEAUX 3",
          "UNIVERSITÉ DE BORDEAUX",
          "LYCEE GENERAL PRIVE",
          "ECOLE SUPERIEURE DE THEATRE",
          "BORDEAUX  YNOV CAMPUS",
          "CHU DE BORDEAUX - IFPP",
          "DIGITAL CAMPUS BORDEAUX",
          "DIGITAL CAMPUS BORDEAUX",
          "INST HTES ETUDES ECO COM BORDX",
          "LA COMPAGNIE DE FORMATION",
          "LYCEE GEN.ET TECHNOL.PRIVE",
          "LYCEE GENERAL PRIVE",
          "ECOLE PRIVEE",
          "INSTITUT BORDELAIS STYLISME MO",
          "IFAG BORDEAUX",
          "ECOLE SUPERIEURE TECHNIQUE PRI",
          "FORMASUP CAMPUS",
          "ESARC EVOLUTION",
          "INSTITUT SUPERIEUR DE COMMUNIC",
          "UNIVERSITE DE BORDEAUX",
          "UNIVERSITE DE BORDEAUX",
          "LYC GEN TECH PRIVE",
          "LYCEE TECHNOLOGIQUE PRIVE",
          "ECOLE SUPERIEURE METIERS IMAGE",
          "LYCEE GENERAL PRIVE",
          "ECOLE 2ND DEGRE PROF PRIVEE",
          "EC PR DES SCIENCES INFORMATIQU",
          "ECOLE PRIVEE",
          "UNIVERSITÉ DE BORDEAUX",
          "ECOLE 2D DEGRE PROF.PRIVEE",
          "CESI ECOLE INGENIEURS NANTERRE",
          "C H S  CHARLES PERRENS",
          "EC PR DES SCIENCES INFORMATIQU",
          "FORMASUP CAMPUS",
          "INSTITUT SUPERIEUR D'OPTIQUE",
          "CAFA FORMATIONS",
          "ESARC EVOLUTION",
          "EC SUP GEST COMMERCE FINANCE",
          "IFAG BORDEAUX",
          "LYCEE GENERAL PRIVE",
          "CHU DE BORDEAUX",
          "INSTITUT METIERS DU NOTARIAT",
          "INSTITUT METIERS DU NOTARIAT",
          "ECOLE PRIVEE",
          "ISEFAC",
          "LYCEE GEN.ET TECHNOL.PRIVE",
          "ECOLE TECHNIQUE PRIVEE",
          "EC SUP GEST COMMERCE FINANCE",
          "ETABLISSEMENT SUPERIEUR LIBRE",
          "ORGANISME FORMATION-CFA",
          "ECOLE COMMERCE EUROP BORDEAUX",
          "EC SUP GEST COMMERCE FINANCE",
          "ETABLISSEMENT TECHNIQUE PRIVE",
          "UNIVERSITE BORDEAUX 3",
          "LYCEE PROF PRIVE DES METIERS",
          "LYCEE GENERAL PRIVE",
          "ECOLE PRIVEE",
          "ECOLE 2D DEGRE PROF.PRIVEE",
          "UNIVERSITE DE BORDEAUX",
          "UNIVERSITE BORDEAUX 3",
          "INST SUPERIEUR DES ARTS APPLIQ",
          "FORMASUP CAMPUS",
          "UNIVERSITÉ DE BORDEAUX",
          "UNIVERSITÉ DE BORDEAUX",
          "ECOLE SUPERIEURE DE THEATRE",
          "CTR DE FORMATION D APPRENTIS",
          "ECOLE TECHNIQUE PRIVEE",
          "EC FRANCAISE ATTACHES DE PRESS",
          "UNIVERSITE DE BORDEAUX",
          "INST SUPERIEUR GESTION PARIS",
          "ECOLE TECH SUP PRIVEE",
          "UNIVERSITE DE BORDEAUX",
          "UNIVERSITE DE BORDEAUX",
          "UNIVERSITE DE BORDEAUX",
          "UNIVERSITE DE BORDEAUX",
          "UNIVERSITE DE BORDEAUX",
          "INST SUPERIEUR DES ARTS APPLIQ",
          "CTR DE FORMATION D APPRENTIS",
          "INSTITUT METIERS DU NOTARIAT",
          "INST POLYTECHNIQUE BORDEAUX",
          "LYCEE GENERAL ET TECHNOLOGIQUE",
          "ETAB PR ENSEIGNEMENT TECH",
          "ECOLE SUPERIEURE DES BEAUX ART",
          "FORMASUP CAMPUS",
          "UNIVERSITE BORDEAUX 3",
          "CAFA FORMATIONS",
          "IDRAC LYON",
          "LT LYCEE DES METIERS",
          "UNIVERSITE DE BORDEAUX",
          "UNIVERSITE DE BORDEAUX",
          "DIGITAL CAMPUS BORDEAUX",
          "INSTITUT BORDELAIS STYLISME MO",
          "ECOLE SUPERIEURE METIERS IMAGE",
          "INSTITUT SUPERIEUR EUROPEEN DE",
          "GROUPE ESSCA",
          "ECOLE TECH SUP PRIVEE",
          "ECOLE PRIVEE",
          "LYCEE TECHNOLOGIQUE PRIVE",
          "ECOLE SECONDAIRE PROF.PRIVEE",
          "LYCEE GENERAL ET TECHNOLOGIQUE",
          "LYCEE POLYVALENT",
          "LYCEE GENERAL ET TECHNOLOGIQUE",
          "LYCEE GENERAL",
          "CHU DE BORDEAUX",
          "UNIVERSITE DE BORDEAUX",
          "LYCEE POLYVALENT",
          "INSTITUT BORDELAIS STYLISME MO",
          "L'ECOLE DU 7EME ART",
          "ECOLE SUPERIEURE D'ARCHITECTUR",
          "INSTITUT METIERS DU NOTARIAT",
          "LA HORDE",
          "ECOLE SUPERIEURE DE THEATRE",
          "ECOLE SUPERIEURE PRIVEE",
          "INSTITUT SUPERIEUR DE COMMUNIC",
          "ETABLISSEMENT TECHNIQUE PRIVE",
          "IFAG BORDEAUX",
          "ETABLISSEMENT TECHNIQUE PRIVE",
          "UNIVERSITE DE BORDEAUX",
          "ECOLE SUP ARTS TECHNIQUES DE L",
          "ARTSIDE GAMES",
          "ECOLE TECHNIQUE PRIVEE",
          "ETABLISSEMENT SUPERIEUR PRIVE",
          "IFAG BORDEAUX",
          "ETABLISSEMENT TECHNIQUE PRIVE",
          "ECOLE SUPERIEURE DE THEATRE",
          "ETABLISSEMENT SUPERIEUR PRIVE",
          "INSTITUT DE LA PROMOTION COMME",
          "INSTITUT BORDELAIS DE L'ENSEIG",
          "ET PR ENS SUP JURIS FORMATIO",
          "ECOLE SECONDAIRE PROF.PRIVEE",
          "IDRAC LYON",
          "INST POLYTECHNIQUE BORDEAUX",
          "EC FRANCAISE ATTACHES DE PRESS",
          "I.S.E.G",
          null,
          "ETAB PR ENSEIGNEMENT TECH",
          "ECOLE INTERNATIONALE TUNON",
          "I.S.E.G",
          "ECOLE DE COMMERCE DURABLE ET R",
          "CHU DE BORDEAUX",
          "C H S  CHARLES PERRENS",
          "INST SUPERIEUR DES ARTS APPLIQ",
          "ECOLE SUPERIEURE METIERS IMAGE",
          "MJM GRAPHIC DESIGN - ESCAAD -",
          "ECOLE COMMERCE EUROP BORDEAUX",
          "UNIVERSITE BORDEAUX 3",
          "UNIVERSITE DE BORDEAUX",
          "ECOLE COMMERCE EUROP BORDEAUX",
          "ECOLE TECHNIQUE PRIVEE",
          "GROUPE ESSCA",
          "C.H.R.",
          "LYCEE GENERAL ET TECHNOLOGIQUE",
          "UNIVERSITE BORDEAUX 3",
          "ECOLE TECH PRIVEE",
          "EC SPECIALE MECA ELECTRICITE",
          "IDRAC LYON",
          "EC SPECIALE MECA ELECTRICITE",
          "EC SPECIALE MECA ELECTRICITE",
          "ECOLE NATIONALE MAGISTRATURE",
          "LYCEE GEN.ET TECHNOL.PRIVE",
          "UNIVERSITE DE BORDEAUX",
          "UNIVERSITE DE BORDEAUX",
          "UNIVERSITE DE BORDEAUX",
          "UNIVERSITE DE BORDEAUX",
          "I.S.E.G",
          "I.S.E.G",
          "ECOLE SUP COMMERCE ECO NUMERIQ",
          "INST SUPERIEUR GESTION PARIS",
          "INSTITUT SUPERIEUR EUROPEEN DE",
          "ETAB PR ENSEIGNEMENT TECH",
          "ETAB PRIVE ENSEIGNT SUPERIEUR",
          "ECOLE SUPERIEURE DU DIGITAL",
          "ETABLISSEMENT TECHNIQUE PRIVE",
          "ETAB PR ENSEIGNEMENT TECH",
          "ECOLE SUPERIEURE DE THEATRE",
          "UNIVERSITE DE BORDEAUX",
          "UNIVERSITE DE BORDEAUX",
          "UNIVERSITE DE BORDEAUX",
          "LYCEE GEN.ET TECHNOL.PRIVE",
          "LYC TECHNOL PRIVE DES METIERS",
          "ECOLE 2D DEGRE PROF.PRIVEE",
          "LYCEE GENERAL ET TECHNOLOGIQUE",
          "LYC GEN TECH PRIVE",
          "INFOSUP",
          "ISG PROGRAMME BUSINESS ET MANA",
          "LYC GEN-TECHNO PR DES METIERS",
          "DIGITAL CAMPUS BORDEAUX",
          "ECOLE TECHNIQUE PRIVEE",
          "IFAG BORDEAUX",
          "UNIVERSITE DE BORDEAUX",
          "UNIVERSITE DE BORDEAUX",
          "UNIVERSITE DE BORDEAUX",
          "UNIVERSITE DE BORDEAUX",
          "FORMASUP CAMPUS",
          "DIGITAL CAMPUS BORDEAUX",
          "CESI ECOLE INGENIEURS NANTERRE",
          "LYCEE GENERAL ET TECHNOLOGIQUE",
          "UNIVERSITÉ DE BORDEAUX",
          "LYCEE GENERAL ET TECHNOLOGIQUE",
          "UNIVERSITE DE BORDEAUX",
          "UNIVERSITE DE BORDEAUX",
          "ECOLE TECHNIQUE SUPERIEURE",
          "IDRAC LYON",
          "LYCEE GENERAL PRIVE",
          "ECOLE TECHNIQUE PRIVEE",
          "ECOLE TECH PRIVEE",
          "MJM GRAPHIC DESIGN - ESCAAD -",
          "DIGITAL CAMPUS BORDEAUX",
          "ECOLE SECONDAIRE PROF.PRIVEE",
          "ECOLE TECHNIQUE PRIVEE",
          "INST HTES ETUDES ECO COM BORDX",
          "LYCEE GENERAL PRIVE",
          "LYC GEN TECH PRIVE",
          "UNIVERSITE DE BORDEAUX",
          "UNIVERSITE DE BORDEAUX",
          "UNIVERSITE DE BORDEAUX",
          "ARTSIDE GAMES",
          "ETAB PRIVE ENSEIGNT SUPERIEUR",
          "EC SUP GEST COMMERCE FINANCE",
          "INST SUPERIEUR GESTION PARIS",
          "LA HORDE",
          "ECV BORDEAUX - ICA",
          "INST SUPERIEUR DES ARTS APPLIQ",
          "ECOLE SUPERIEURE METIERS IMAGE",
          "ETAB PRIVE ENSEIGNT SUPERIEUR",
          "ETAB PR ENSEIGNEMENT TECH",
          "ECOLE MUNICIPALE BEAUX ARTS",
          "EC PR DES SCIENCES INFORMATIQU",
          "INST SUPERIEUR GESTION PARIS",
          "EC SUP SC COMMERCIALES ANGERS",
          "ECOLE COMMERCE EUROP BORDEAUX",
          "LYCEE POLYVALENT",
          "GROUPE ESSCA",
          "IDRAC LYON",
          "INSTITUT BORDELAIS STYLISME MO",
          "ORGANISME FORMATION-CFA",
          "ECOLE TECHNIQUE PRIVEE",
          "BORDEAUX  YNOV CAMPUS",
          "UNIVERSITÃ DE BORDEAUX",
          "UNIVERSITÃ DE BORDEAUX",
          "IDRAC LYON",
          "LYC GEN-TECHNO PR DES METIERS",
          "I.B.S.M.",
          "ECOLE BEST",
          "LYC TECHNOL PRIVE DES METIERS",
          "LYCEE GEN.ET TECHNOL.PRIVE",
          "ECOLE SECONDAIRE PROF.PRIVEE",
          "C H S  CHARLES PERRENS",
          "UNIVERSITE BORDEAUX 3",
          "UNIVERSITE DE BORDEAUX",
          "EC SUP GEST COMMERCE FINANCE",
          "LYCEE GENERAL PRIVE",
          "LYCEE GENERAL ET TECHNOLOGIQUE",
          "LYCEE GENERAL ET TECHNOLOGIQUE",
          "ETABLISSEMENT TECHNIQUE PRIVE",
          "INSTITUT METIERS DU NOTARIAT",
          "LYCEE GENERAL PRIVE",
          "LYCEE GENERAL ET TECHNOLOGIQUE",
          "UNIVERSITE BORDEAUX 3",
          "ECV BORDEAUX - ICA",
          "INST SUPERIEUR DES ARTS APPLIQ",
          "EC SUP GEST COMMERCE FINANCE",
          "INSTITUT SUPERIEUR DE COMMUNIC",
          "LYCEE GENERAL",
          "UNIVERSITE BORDEAUX 3",
          "UNIVERSITE DE BORDEAUX",
          "BORDEAUX INFORMATIQUE CAMPUS",
          "PESMD BORDEAUX AQUITAINE",
          "CAFA FORMATIONS",
          "CESI ECOLE INGENIEURS NANTERRE",
          "EC FRANCAISE ATTACHES DE PRESS",
          "EC SUP GEST COMMERCE FINANCE",
          "IDRAC LYON",
          "UNIVERSITÉ DE BORDEAUX",
          "EC.SUP.ARTS-TECH DE MODE",
          "FORMASUP CAMPUS",
          "LYCEE GEN.ET TECHNOL.PRIVE",
          "IDRAC LYON",
          "LYCEE GENERAL PRIVE",
          "UNIVERSITE DE BORDEAUX",
          "ECOLE SUPERIEURE METIERS IMAGE",
          "LYCEE GENERAL",
          "UNIVERSITÉ DE BORDEAUX",
          "UNIVERSITÉ DE BORDEAUX",
          "ETAB PRIVE ENSEIGNT SUPERIEUR",
          "INSTITUT BORDELAIS STYLISME MO",
          "LYCEE GENERAL ET TECHNOLOGIQUE",
          "LYCEE GENERAL PRIVE",
          null,
          "ECOLE PRIVEE",
          "INST POLYTECHNIQUE BORDEAUX",
          "ESARC EVOLUTION ARTS APPLIQUÃ",
          "LYCEE TECHNOLOGIQUE PRIVE",
          null,
          "LYCEE POLYVALENT",
          "INSTITUT EUROPEEN DE FORMATION",
          "ECOLE TECHNIQUE PRIVEE",
          "ECOLE TECHNIQUE PRIVEE",
          "ECOLE SUP COMMERCE ECO NUMERIQ",
          "LYCEE GEN.ET TECHNOL.PRIVE",
          "ECOLE TECH PRIVEE",
          "GROUPE ESSCA",
          "UNIVERSITE BORDEAUX 3",
          "GROUPE ESSCA",
          "ECV BORDEAUX - ICA",
          "INSTITUT BORDELAIS STYLISME MO",
          "ARTSIDE GAMES",
          "ECOLE SUPERIEURE DU DIGITAL",
          "UNIVERSITE DE BORDEAUX",
          "UNIVERSITE DE BORDEAUX",
          "I.S.E.G",
          "LYCEE GENERAL PRIVE",
          "UNIVERSITE DE BORDEAUX",
          "INST HTES ETUDES ECO COM BORDX",
          "EC SUP SC COMMERCIALES ANGERS",
          "LYCEE GENERAL ET TECHNOLOGIQUE",
          "INST SUP EURO FORMATION ACTION",
          "ECOLE TECH SUP PRIVEE",
          "IDRAC LYON",
          "HAUTES ETUDES INTERNATIONALES",
          "LYCEE PROF PRIVE DES METIERS",
          "LYCEE GENERAL ET TECHNOLOGIQUE",
          "DIGITAL CAMPUS BORDEAUX",
          "DIDEROT EDUCATION - BORDEAUX",
          "LA HORDE",
          "ORGANISME FORMATION-CFA",
          "UNIVERSITE DE BORDEAUX",
          "ECOLE COMMERCE EUROP BORDEAUX",
          "CTR DE FORMATION D APPRENTIS",
          "SUP DE COM",
          "LYCEE GENERAL ET TECHNOLOGIQUE",
          "DIDEROT EDUCATION - BORDEAUX",
          "INSTITUT BORDELAIS STYLISME MO",
          "ECOLE SUP COMMERCE ECO NUMERIQ",
          "EC FRANCAISE ATTACHES DE PRESS",
          "ECOLE TECH SUP PRIVEE",
          "LYCEE PROF PRIVE DES METIERS",
          "LYCEE GENERAL",
          "LYCEE POLYVALENT",
          "LT LYCEE DES METIERS",
          "LYCEE GENERAL ET TECHNOLOGIQUE",
          "CESI ECOLE INGENIEURS NANTERRE",
          "CESI ECOLE INGENIEURS NANTERRE",
          "IDRAC LYON",
          "UNIVERSITE DE BORDEAUX",
          "CHU DE BORDEAUX",
          "UNIVERSITE DE BORDEAUX",
          "ECOLE SUPERIEURE D'ARCHITECTUR",
          "FORMATIONS D'AKI 10 - FORMADKL",
          "ETAB SUPERIEUR TECHNIQUE PR",
          "ETABLISSEMENT TECHNIQUE PRIVE",
          "ECOLE SUPERIEURE PRIVEE",
          "UNIVERSITE DE BORDEAUX",
          "L'ECOLE DU 7EME ART",
          "ECOLE SECONDAIRE PROF.PRIVEE",
          "INSTITUT SUPERIEUR D'OPTIQUE",
          "ECOLE SUPERIEURE DU DIGITAL",
          "INSTITUT BORDELAIS STYLISME MO",
          "LYCEE GENERAL",
          "UNIVERSITÉ DE BORDEAUX",
          "SUP DE COM",
          "E COD (CCI DE BORDEAUX)",
          "UNIVERSITE DE BORDEAUX",
          "UNIVERSITE DE BORDEAUX",
          "IDRAC LYON",
          "UNIVERSITÉ DE BORDEAUX",
          "INST SUP EURO FORMATION ACTION",
          "LYCEE GENERAL PRIVE",
          "LYC TECHNOL PRIVE DES METIERS",
          "ECOLE SECONDAIRE PROF.PRIVEE",
          "LYCEE GENERAL",
          "PESMD BORDEAUX AQUITAINE",
          "ECOLE SUPERIEURE PRIVEE",
          "IDRAC LYON",
          "MJM GRAPHIC DESIGN - ESCAAD -",
          "ECOLE SUPERIEURE DE THEATRE",
          "GROUPE ESSCA",
          "ECOLE SUPERIEURE DES BEAUX ART",
          "DIGITAL CAMPUS BORDEAUX",
          "ETAB SUPERIEUR TECHNIQUE PR",
          "ESARC EVOLUTION",
          "ORGANISME FORMATION-CFA",
          "ECOLE COMMERCE EUROP BORDEAUX",
          "GROUPE ESSCA",
          "ECOLE INTERNATIONALE TUNON",
          "DIDEROT EDUCATION - BORDEAUX",
          "ETAB SUPERIEUR TECHNIQUE PR",
          "ETAB PR ENSEIGNEMENT TECH",
          "ETAB PR ENSEIGNEMENT TECH",
          "UNIVERSITE DE BORDEAUX",
          "UNIVERSITE DE BORDEAUX",
          "EC PR DES SCIENCES INFORMATIQU",
          "FORMATIONS D'AKI 10 - FORMADKL",
          "INST SUP EURO FORMATION ACTION",
          "ETAB PRIVE ENSEIGNT SUPERIEUR",
          "LYCEE TECHNOLOGIQUE PRIVE",
          "LYCEE GEN.ET TECHNOL.PRIVE",
          "INST SUPERIEUR DES ARTS APPLIQ",
          "LYCEE GENERAL PRIVE",
          "ECOLE PRIVEE",
          "ESARC EVOLUTION",
          "EC SPECIALE MECA ELECTRICITE",
          "INST SUP EURO FORMATION ACTION",
          "LYCEE POLYVALENT",
          "LYCEE TECHNOLOGIQUE PRIVE",
          null,
          "ECOLE TECHNIQUE PRIVEE",
          "ETABLISSEMENT SUPERIEUR PRIVE",
          "UNIVERSITE DE BORDEAUX",
          "UNIVERSITE DE BORDEAUX",
          "UNIVERSITE DE BORDEAUX",
          "LYC GEN TECH PRIVE",
          "UNIVERSITÃ DE BORDEAUX",
          "FORMASUP CAMPUS",
          "LYCEE GENERAL ET TECHNOLOGIQUE",
          "ECOLE TECHNIQUE PRIVEE",
          "C.H.R.",
          "UNIVERSITÉ DE BORDEAUX",
          "EC SUP GEST COMMERCE FINANCE",
          "ECOLE COMMERCE EUROP BORDEAUX",
          "INSTITUT METIERS DU NOTARIAT",
          "LT LYCEE DES METIERS",
          "E C V AQUITAINE I C B",
          "ECOLE BORDELAISE DU VIN",
          "UNIVERSITE BORDEAUX 3",
          "L'ECOLE DU 7EME ART",
          "IDRAC LYON",
          "LYCEE GENERAL ET TECHNOLOGIQUE",
          "LYCEE GENERAL PRIVE",
          "LYCEE GENERAL PRIVE",
          "UNIVERSITE BORDEAUX 3",
          "UNIVERSITE DE BORDEAUX",
          "UNIVERSITE DE BORDEAUX",
          "ECOLE TECHNIQUE PRIVEE",
          "I.S.E.G",
          "INST SUPERIEUR DES ARTS APPLIQ",
          "L'ECOLE DU 7EME ART",
          "ETAB PRIVE ENSEIGNT SUPERIEUR",
          "ECOLE TECHNIQUE PRIVEE",
          "LYCEE POLYVALENT",
          "INST SUPERIEUR GESTION PARIS",
          null,
          "ECOLE SECONDAIRE PROF.PRIVEE",
          "E C V AQUITAINE I C B",
          "ICART",
          "E COD (CCI DE BORDEAUX)",
          "LYC TECHNOL PRIVE DES METIERS",
          "UNIVERSITÃ DE BORDEAUX",
          "LYCEE GENERAL ET TECHNOLOGIQUE",
          "INSTITUT SUPÃRIEUR D'OPTIQUE",
          "ECOLE SUPÃRIEURE DU DIGITAL",
          "ETAB PR ENSEIGNEMENT TECH",
          "UNIVERSITE BORDEAUX 3",
          "UNIVERSITE DE BORDEAUX",
          "UNIVERSITE DE BORDEAUX",
          "UNIVERSITE DE BORDEAUX",
          "IDRAC LYON",
          "EC FRANCAISE ATTACHES DE PRESS",
          "CHU DE BORDEAUX",
          "LYCEE GENERAL ET TECHNOLOGIQUE",
          "LT LYCEE DES METIERS",
          "LYCEE GENERAL ET TECHNOLOGIQUE",
          "UNIVERSITE DE BORDEAUX",
          "UNIVERSITE DE BORDEAUX",
          "UNIVERSITE DE BORDEAUX",
          "INST SUPERIEUR DES ARTS APPLIQ",
          "MJM GRAPHIC DESIGN - ESCAAD -",
          "INSTITUT SUPERIEUR EUROPEEN DE",
          "INSTITUT SUPERIEUR DE COMMUNIC",
          "LYCEE GENERAL ET TECHNOLOGIQUE",
          "IDRAC LYON",
          "CHU DE BORDEAUX",
          "CHU DE BORDEAUX",
          "UNIVERSITE BORDEAUX 3",
          "UNIVERSITE DE BORDEAUX",
          "UNIVERSITE DE BORDEAUX",
          "IDRAC LYON",
          "LYCEE GENERAL PRIVE",
          "ECOLE PRIVEE",
          "UNIVERSITE DE BORDEAUX",
          "UNIVERSITE DE BORDEAUX",
          "UNIVERSITE DE BORDEAUX",
          "UNIVERSITE DE BORDEAUX",
          "EC SUP GEST COMMERCE FINANCE",
          "IDRAC LYON",
          "EC PR DES SCIENCES INFORMATIQU",
          "EC PR DES SCIENCES INFORMATIQU",
          "ECOLE SUPERIEURE DU DIGITAL",
          "UNIVERSITÉ DE BORDEAUX",
          "INST SUPERIEUR GESTION PARIS",
          "ETAB PR ENSEIGNEMENT TECH",
          "ECOLE SUP ARTS TECHNIQUES DE L",
          "INST DECOR ETAL AMENAG ESPACE",
          "ECOLE SUPERIEURE METIERS IMAGE",
          "C H S  CHARLES PERRENS",
          "UNIVERSITÉ DE BORDEAUX",
          "ECOLE SUP COMMERCE ECO NUMERIQ",
          "MJM GRAPHIC DESIGN - ESCAAD -",
          "ETAB PRIVE ENSEIGNT SUPERIEUR",
          "LYCEE PROF PRIVE DES METIERS",
          "LYCEE GENERAL",
          "LYCEE GENERAL ET TECHNOLOGIQUE",
          "LYCEE GENERAL ET TECHNOLOGIQUE",
          "LYCEE POLYVALENT",
          "UNIVERSITE DE BORDEAUX",
          "UNIVERSITE DE BORDEAUX",
          "ECV BORDEAUX - ICA",
          "PESMD BORDEAUX AQUITAINE",
          "E - ARTSUP",
          "ECOLE PRIVEE",
          "UNIVERSITÃ DE BORDEAUX",
          "LYC GEN-TECHNO PR DES METIERS",
          "INST HTES ETUDES ECO COM BORDX",
          "I.S.E.G",
          "ECOLE SUP COMMERCE ECO NUMERIQ",
          "EC SUP GEST COMMERCE FINANCE",
          "INST SUPERIEUR GESTION PARIS",
          "UNIVERSITÉ DE BORDEAUX",
          "INST POLYTECHNIQUE BORDEAUX",
          "IDRAC LYON",
          "ECOLE COMMERCE EUROP BORDEAUX",
          "INSTITUT SUPERIEUR DE COMMUNIC",
          "LYC GEN-TECHNO PR DES METIERS",
          "ECOLE INTERNATIONALE TUNON",
          "UNIVERSITE BORDEAUX 3",
          "ESARC EVOLUTION",
          "INST SUPERIEUR DES ARTS APPLIQ",
          "EC PR DES SCIENCES INFORMATIQU",
          "EC SUP GEST COMMERCE FINANCE",
          "STUDIO M",
          "ETAB SUPERIEUR TECHNIQUE PR",
          "UNIVERSITE DE BORDEAUX",
          "ECV BORDEAUX - ICA",
          "ECOLE SUPERIEURE DES BEAUX ART",
          "ETAB SUPERIEUR TECHNIQUE PR",
          "EURIDIS BORDEAUX",
          "ECOLE SUPERIEURE DU DIGITAL",
          "BORDEAUX  YNOV CAMPUS",
          "CESI ECOLE INGENIEURS NANTERRE",
          "INSTITUT SUPÉRIEUR EUROPÉEN DE",
          "ECOLE SUP COMMERCE ECO NUMERIQ",
          "INSTITUT SUPERIEUR DE COMMUNIC",
          "UNIVERSITE DE BORDEAUX",
          "INST. FORMAT. SOINS INFIRM.",
          "ECOLE COMMERCE EUROP BORDEAUX",
          "FORMASUP CAMPUS",
          "EC SUP SC COMMERCIALES ANGERS",
          "ETABLISSEMENT SUPERIEUR PRIVE",
          "LYCEE GEN.ET TECHNOL.PRIVE",
          "ECOLE BORDELAISE DU VIN"
         ],
         "type": "scattermapbox"
        }
       ],
       "layout": {
        "coloraxis": {
         "cmax": 0.2044469796055938,
         "cmin": 0,
         "colorbar": {
          "title": {
           "text": "Étudiants/m²"
          }
         },
         "colorscale": [
          [
           0,
           "rgb(255,255,204)"
          ],
          [
           0.125,
           "rgb(255,237,160)"
          ],
          [
           0.25,
           "rgb(254,217,118)"
          ],
          [
           0.375,
           "rgb(254,178,76)"
          ],
          [
           0.5,
           "rgb(253,141,60)"
          ],
          [
           0.625,
           "rgb(252,78,42)"
          ],
          [
           0.75,
           "rgb(227,26,28)"
          ],
          [
           0.875,
           "rgb(189,0,38)"
          ],
          [
           1,
           "rgb(128,0,38)"
          ]
         ]
        },
        "legend": {
         "tracegroupgap": 0
        },
        "mapbox": {
         "center": {
          "lat": 44.8378,
          "lon": -0.5792
         },
         "domain": {
          "x": [
           0,
           1
          ],
          "y": [
           0,
           1
          ]
         },
         "style": "carto-positron",
         "zoom": 12
        },
        "margin": {
         "b": 0,
         "l": 0,
         "r": 0,
         "t": 50
        },
        "template": {
         "data": {
          "bar": [
           {
            "error_x": {
             "color": "#2a3f5f"
            },
            "error_y": {
             "color": "#2a3f5f"
            },
            "marker": {
             "line": {
              "color": "#E5ECF6",
              "width": 0.5
             },
             "pattern": {
              "fillmode": "overlay",
              "size": 10,
              "solidity": 0.2
             }
            },
            "type": "bar"
           }
          ],
          "barpolar": [
           {
            "marker": {
             "line": {
              "color": "#E5ECF6",
              "width": 0.5
             },
             "pattern": {
              "fillmode": "overlay",
              "size": 10,
              "solidity": 0.2
             }
            },
            "type": "barpolar"
           }
          ],
          "carpet": [
           {
            "aaxis": {
             "endlinecolor": "#2a3f5f",
             "gridcolor": "white",
             "linecolor": "white",
             "minorgridcolor": "white",
             "startlinecolor": "#2a3f5f"
            },
            "baxis": {
             "endlinecolor": "#2a3f5f",
             "gridcolor": "white",
             "linecolor": "white",
             "minorgridcolor": "white",
             "startlinecolor": "#2a3f5f"
            },
            "type": "carpet"
           }
          ],
          "choropleth": [
           {
            "colorbar": {
             "outlinewidth": 0,
             "ticks": ""
            },
            "type": "choropleth"
           }
          ],
          "contour": [
           {
            "colorbar": {
             "outlinewidth": 0,
             "ticks": ""
            },
            "colorscale": [
             [
              0,
              "#0d0887"
             ],
             [
              0.1111111111111111,
              "#46039f"
             ],
             [
              0.2222222222222222,
              "#7201a8"
             ],
             [
              0.3333333333333333,
              "#9c179e"
             ],
             [
              0.4444444444444444,
              "#bd3786"
             ],
             [
              0.5555555555555556,
              "#d8576b"
             ],
             [
              0.6666666666666666,
              "#ed7953"
             ],
             [
              0.7777777777777778,
              "#fb9f3a"
             ],
             [
              0.8888888888888888,
              "#fdca26"
             ],
             [
              1,
              "#f0f921"
             ]
            ],
            "type": "contour"
           }
          ],
          "contourcarpet": [
           {
            "colorbar": {
             "outlinewidth": 0,
             "ticks": ""
            },
            "type": "contourcarpet"
           }
          ],
          "heatmap": [
           {
            "colorbar": {
             "outlinewidth": 0,
             "ticks": ""
            },
            "colorscale": [
             [
              0,
              "#0d0887"
             ],
             [
              0.1111111111111111,
              "#46039f"
             ],
             [
              0.2222222222222222,
              "#7201a8"
             ],
             [
              0.3333333333333333,
              "#9c179e"
             ],
             [
              0.4444444444444444,
              "#bd3786"
             ],
             [
              0.5555555555555556,
              "#d8576b"
             ],
             [
              0.6666666666666666,
              "#ed7953"
             ],
             [
              0.7777777777777778,
              "#fb9f3a"
             ],
             [
              0.8888888888888888,
              "#fdca26"
             ],
             [
              1,
              "#f0f921"
             ]
            ],
            "type": "heatmap"
           }
          ],
          "histogram": [
           {
            "marker": {
             "pattern": {
              "fillmode": "overlay",
              "size": 10,
              "solidity": 0.2
             }
            },
            "type": "histogram"
           }
          ],
          "histogram2d": [
           {
            "colorbar": {
             "outlinewidth": 0,
             "ticks": ""
            },
            "colorscale": [
             [
              0,
              "#0d0887"
             ],
             [
              0.1111111111111111,
              "#46039f"
             ],
             [
              0.2222222222222222,
              "#7201a8"
             ],
             [
              0.3333333333333333,
              "#9c179e"
             ],
             [
              0.4444444444444444,
              "#bd3786"
             ],
             [
              0.5555555555555556,
              "#d8576b"
             ],
             [
              0.6666666666666666,
              "#ed7953"
             ],
             [
              0.7777777777777778,
              "#fb9f3a"
             ],
             [
              0.8888888888888888,
              "#fdca26"
             ],
             [
              1,
              "#f0f921"
             ]
            ],
            "type": "histogram2d"
           }
          ],
          "histogram2dcontour": [
           {
            "colorbar": {
             "outlinewidth": 0,
             "ticks": ""
            },
            "colorscale": [
             [
              0,
              "#0d0887"
             ],
             [
              0.1111111111111111,
              "#46039f"
             ],
             [
              0.2222222222222222,
              "#7201a8"
             ],
             [
              0.3333333333333333,
              "#9c179e"
             ],
             [
              0.4444444444444444,
              "#bd3786"
             ],
             [
              0.5555555555555556,
              "#d8576b"
             ],
             [
              0.6666666666666666,
              "#ed7953"
             ],
             [
              0.7777777777777778,
              "#fb9f3a"
             ],
             [
              0.8888888888888888,
              "#fdca26"
             ],
             [
              1,
              "#f0f921"
             ]
            ],
            "type": "histogram2dcontour"
           }
          ],
          "mesh3d": [
           {
            "colorbar": {
             "outlinewidth": 0,
             "ticks": ""
            },
            "type": "mesh3d"
           }
          ],
          "parcoords": [
           {
            "line": {
             "colorbar": {
              "outlinewidth": 0,
              "ticks": ""
             }
            },
            "type": "parcoords"
           }
          ],
          "pie": [
           {
            "automargin": true,
            "type": "pie"
           }
          ],
          "scatter": [
           {
            "fillpattern": {
             "fillmode": "overlay",
             "size": 10,
             "solidity": 0.2
            },
            "type": "scatter"
           }
          ],
          "scatter3d": [
           {
            "line": {
             "colorbar": {
              "outlinewidth": 0,
              "ticks": ""
             }
            },
            "marker": {
             "colorbar": {
              "outlinewidth": 0,
              "ticks": ""
             }
            },
            "type": "scatter3d"
           }
          ],
          "scattercarpet": [
           {
            "marker": {
             "colorbar": {
              "outlinewidth": 0,
              "ticks": ""
             }
            },
            "type": "scattercarpet"
           }
          ],
          "scattergeo": [
           {
            "marker": {
             "colorbar": {
              "outlinewidth": 0,
              "ticks": ""
             }
            },
            "type": "scattergeo"
           }
          ],
          "scattergl": [
           {
            "marker": {
             "colorbar": {
              "outlinewidth": 0,
              "ticks": ""
             }
            },
            "type": "scattergl"
           }
          ],
          "scattermap": [
           {
            "marker": {
             "colorbar": {
              "outlinewidth": 0,
              "ticks": ""
             }
            },
            "type": "scattermap"
           }
          ],
          "scattermapbox": [
           {
            "marker": {
             "colorbar": {
              "outlinewidth": 0,
              "ticks": ""
             }
            },
            "type": "scattermapbox"
           }
          ],
          "scatterpolar": [
           {
            "marker": {
             "colorbar": {
              "outlinewidth": 0,
              "ticks": ""
             }
            },
            "type": "scatterpolar"
           }
          ],
          "scatterpolargl": [
           {
            "marker": {
             "colorbar": {
              "outlinewidth": 0,
              "ticks": ""
             }
            },
            "type": "scatterpolargl"
           }
          ],
          "scatterternary": [
           {
            "marker": {
             "colorbar": {
              "outlinewidth": 0,
              "ticks": ""
             }
            },
            "type": "scatterternary"
           }
          ],
          "surface": [
           {
            "colorbar": {
             "outlinewidth": 0,
             "ticks": ""
            },
            "colorscale": [
             [
              0,
              "#0d0887"
             ],
             [
              0.1111111111111111,
              "#46039f"
             ],
             [
              0.2222222222222222,
              "#7201a8"
             ],
             [
              0.3333333333333333,
              "#9c179e"
             ],
             [
              0.4444444444444444,
              "#bd3786"
             ],
             [
              0.5555555555555556,
              "#d8576b"
             ],
             [
              0.6666666666666666,
              "#ed7953"
             ],
             [
              0.7777777777777778,
              "#fb9f3a"
             ],
             [
              0.8888888888888888,
              "#fdca26"
             ],
             [
              1,
              "#f0f921"
             ]
            ],
            "type": "surface"
           }
          ],
          "table": [
           {
            "cells": {
             "fill": {
              "color": "#EBF0F8"
             },
             "line": {
              "color": "white"
             }
            },
            "header": {
             "fill": {
              "color": "#C8D4E3"
             },
             "line": {
              "color": "white"
             }
            },
            "type": "table"
           }
          ]
         },
         "layout": {
          "annotationdefaults": {
           "arrowcolor": "#2a3f5f",
           "arrowhead": 0,
           "arrowwidth": 1
          },
          "autotypenumbers": "strict",
          "coloraxis": {
           "colorbar": {
            "outlinewidth": 0,
            "ticks": ""
           }
          },
          "colorscale": {
           "diverging": [
            [
             0,
             "#8e0152"
            ],
            [
             0.1,
             "#c51b7d"
            ],
            [
             0.2,
             "#de77ae"
            ],
            [
             0.3,
             "#f1b6da"
            ],
            [
             0.4,
             "#fde0ef"
            ],
            [
             0.5,
             "#f7f7f7"
            ],
            [
             0.6,
             "#e6f5d0"
            ],
            [
             0.7,
             "#b8e186"
            ],
            [
             0.8,
             "#7fbc41"
            ],
            [
             0.9,
             "#4d9221"
            ],
            [
             1,
             "#276419"
            ]
           ],
           "sequential": [
            [
             0,
             "#0d0887"
            ],
            [
             0.1111111111111111,
             "#46039f"
            ],
            [
             0.2222222222222222,
             "#7201a8"
            ],
            [
             0.3333333333333333,
             "#9c179e"
            ],
            [
             0.4444444444444444,
             "#bd3786"
            ],
            [
             0.5555555555555556,
             "#d8576b"
            ],
            [
             0.6666666666666666,
             "#ed7953"
            ],
            [
             0.7777777777777778,
             "#fb9f3a"
            ],
            [
             0.8888888888888888,
             "#fdca26"
            ],
            [
             1,
             "#f0f921"
            ]
           ],
           "sequentialminus": [
            [
             0,
             "#0d0887"
            ],
            [
             0.1111111111111111,
             "#46039f"
            ],
            [
             0.2222222222222222,
             "#7201a8"
            ],
            [
             0.3333333333333333,
             "#9c179e"
            ],
            [
             0.4444444444444444,
             "#bd3786"
            ],
            [
             0.5555555555555556,
             "#d8576b"
            ],
            [
             0.6666666666666666,
             "#ed7953"
            ],
            [
             0.7777777777777778,
             "#fb9f3a"
            ],
            [
             0.8888888888888888,
             "#fdca26"
            ],
            [
             1,
             "#f0f921"
            ]
           ]
          },
          "colorway": [
           "#636efa",
           "#EF553B",
           "#00cc96",
           "#ab63fa",
           "#FFA15A",
           "#19d3f3",
           "#FF6692",
           "#B6E880",
           "#FF97FF",
           "#FECB52"
          ],
          "font": {
           "color": "#2a3f5f"
          },
          "geo": {
           "bgcolor": "white",
           "lakecolor": "white",
           "landcolor": "#E5ECF6",
           "showlakes": true,
           "showland": true,
           "subunitcolor": "white"
          },
          "hoverlabel": {
           "align": "left"
          },
          "hovermode": "closest",
          "mapbox": {
           "style": "light"
          },
          "paper_bgcolor": "white",
          "plot_bgcolor": "#E5ECF6",
          "polar": {
           "angularaxis": {
            "gridcolor": "white",
            "linecolor": "white",
            "ticks": ""
           },
           "bgcolor": "#E5ECF6",
           "radialaxis": {
            "gridcolor": "white",
            "linecolor": "white",
            "ticks": ""
           }
          },
          "scene": {
           "xaxis": {
            "backgroundcolor": "#E5ECF6",
            "gridcolor": "white",
            "gridwidth": 2,
            "linecolor": "white",
            "showbackground": true,
            "ticks": "",
            "zerolinecolor": "white"
           },
           "yaxis": {
            "backgroundcolor": "#E5ECF6",
            "gridcolor": "white",
            "gridwidth": 2,
            "linecolor": "white",
            "showbackground": true,
            "ticks": "",
            "zerolinecolor": "white"
           },
           "zaxis": {
            "backgroundcolor": "#E5ECF6",
            "gridcolor": "white",
            "gridwidth": 2,
            "linecolor": "white",
            "showbackground": true,
            "ticks": "",
            "zerolinecolor": "white"
           }
          },
          "shapedefaults": {
           "line": {
            "color": "#2a3f5f"
           }
          },
          "ternary": {
           "aaxis": {
            "gridcolor": "white",
            "linecolor": "white",
            "ticks": ""
           },
           "baxis": {
            "gridcolor": "white",
            "linecolor": "white",
            "ticks": ""
           },
           "bgcolor": "#E5ECF6",
           "caxis": {
            "gridcolor": "white",
            "linecolor": "white",
            "ticks": ""
           }
          },
          "title": {
           "x": 0.05
          },
          "xaxis": {
           "automargin": true,
           "gridcolor": "white",
           "linecolor": "white",
           "ticks": "",
           "title": {
            "standoff": 15
           },
           "zerolinecolor": "white",
           "zerolinewidth": 2
          },
          "yaxis": {
           "automargin": true,
           "gridcolor": "white",
           "linecolor": "white",
           "ticks": "",
           "title": {
            "standoff": 15
           },
           "zerolinecolor": "white",
           "zerolinewidth": 2
          }
         }
        },
        "title": {
         "text": "Étudiants sup. par IRIS - Bordeaux"
        },
        "updatemenus": [
         {
          "buttons": [
           {
            "args": [
             {
              "z": [
               [
                0,
                0.003318450621903299,
                0.0008823032171187995,
                0,
                0.0027032874923757447,
                0,
                0.0002193095044984574,
                0,
                0,
                0.017091458993392573,
                0.0338940934558613,
                0.015961342123340976,
                0.005152515533224408,
                0,
                0.009317879892648278,
                0,
                0.06692318936359308,
                0.03825636814403314,
                0.0004284536521395461,
                0,
                0.006204835450164473,
                0.007657342986659546,
                0.006822446570949844,
                0,
                0,
                0.001345374572691541,
                0,
                0.0045233819436287185,
                0,
                0,
                0,
                0,
                0.010611343425901809,
                0.02965748848591807,
                0,
                0,
                0,
                0.01205578055286756,
                0.009684800191331538,
                0.008766690633316284,
                0,
                0.006841223833857264,
                0.0002200611285803456,
                0,
                0.0007351543158111578,
                0,
                0.003918057021652061,
                0,
                0,
                0,
                0,
                0,
                0,
                0,
                0,
                0,
                0,
                0,
                0.1613652765995055,
                0,
                0,
                0,
                0,
                0,
                0,
                0.003437850119990947,
                0.001081239625427856,
                0.0002547139022951015,
                0,
                0.11729348084579042,
                0.2044469796055938,
                0,
                0.0392367475949701,
                0.04763610257413646,
                0,
                0.060014315716977566,
                0,
                0.0021621834914358033,
                0,
                0.0038924516872212824,
                0,
                0,
                0.01965332214857797,
                0,
                0,
                0,
                0,
                0,
                0.004207905450784564,
                0,
                0,
                0,
                0,
                0,
                0
               ]
              ]
             },
             {
              "coloraxis.cmax": 0.2044469796055938,
              "coloraxis.cmin": 0,
              "coloraxis.colorbar.title": "Étudiants/m²"
             }
            ],
            "label": "Densité",
            "method": "update"
           },
           {
            "args": [
             {
              "z": [
               [
                0,
                12156,
                254,
                0,
                2476,
                0,
                139,
                0,
                0,
                11698,
                17289,
                5881,
                1440,
                0,
                2107,
                0,
                27548,
                7397,
                57,
                0,
                3176,
                23203,
                1607,
                0,
                0,
                2620,
                0,
                835,
                0,
                0,
                0,
                0,
                4341,
                5205,
                0,
                0,
                0,
                3280,
                2395,
                2221,
                0,
                2150,
                55,
                0,
                608,
                0,
                2061,
                0,
                0,
                0,
                0,
                0,
                0,
                0,
                0,
                0,
                0,
                0,
                122442,
                0,
                0,
                0,
                0,
                0,
                0,
                1026,
                260,
                71,
                0,
                10714,
                29541,
                0,
                11008,
                6202,
                0,
                12616,
                0,
                777,
                0,
                917,
                0,
                0,
                3959,
                0,
                0,
                0,
                0,
                0,
                1846,
                0,
                0,
                0,
                0,
                0,
                0
               ]
              ]
             },
             {
              "coloraxis.cmax": 122442,
              "coloraxis.cmin": 0,
              "coloraxis.colorbar.title": "Nombre d'étudiants"
             }
            ],
            "label": "Nombre d'étudiants",
            "method": "update"
           }
          ],
          "showactive": true,
          "type": "buttons",
          "x": 0,
          "y": 1.05
         }
        ]
       }
      }
     },
     "metadata": {},
     "output_type": "display_data"
    }
   ],
   "source": [
    "# reconvertir en 4326\n",
    "iris_plot = iris_bordeaux_stats.to_crs(epsg=4326)\n",
    "\n",
    "colorscale = \"YlOrRd\"  # jaune = faible, rouge = élevé\n",
    "\n",
    "# Carte initiale avec coloraxis défini\n",
    "fig = px.choropleth_mapbox(\n",
    "    iris_plot,\n",
    "    geojson=iris_plot.__geo_interface__,\n",
    "    locations=iris_plot.index,\n",
    "    color='students_per_m2',  # initial color\n",
    "    hover_name='LIB_IRIS',\n",
    "    hover_data=['nb_etabs','area_m2','nb_etudiants'],\n",
    "    mapbox_style=\"carto-positron\",\n",
    "    center={\"lat\":44.8378, \"lon\":-0.5792},\n",
    "    zoom=12,\n",
    "    opacity=0.6,\n",
    ")\n",
    "\n",
    "# On associe explicitement la trace à coloraxis et fixe les limites\n",
    "fig.update_traces(\n",
    "    coloraxis=\"coloraxis\"\n",
    ")\n",
    "\n",
    "# Définition globale de coloraxis\n",
    "fig.update_layout(\n",
    "    coloraxis=dict(\n",
    "        colorscale=colorscale,\n",
    "        cmin=iris_plot['students_per_m2'].min(),\n",
    "        cmax=iris_plot['students_per_m2'].max(),\n",
    "        colorbar=dict(title=\"Étudiants/m²\")\n",
    "    )\n",
    ")\n",
    "\n",
    "# Points établissements\n",
    "fig.add_scattermapbox(\n",
    "    lat=df_bordeaux['lat'],\n",
    "    lon=df_bordeaux['lon'],\n",
    "    mode='markers',\n",
    "    marker=dict(size=6, color='blue'),\n",
    "    text=etabs_par_iris_bordeaux[\"libellé de l'établissement\"],\n",
    "    name='Établissements OSM'\n",
    ")\n",
    "\n",
    "# Boutons interactifs : on ne touche qu'à z, zmin, zmax\n",
    "fig.update_layout(\n",
    "    updatemenus=[\n",
    "        dict(\n",
    "            type=\"buttons\",\n",
    "            x=0.0, y=1.05, showactive=True,\n",
    "            buttons=[\n",
    "                dict(\n",
    "                    label=\"Densité\",\n",
    "                    method=\"update\",\n",
    "                    args=[\n",
    "                        {\"z\": [iris_plot['students_per_m2']]},\n",
    "                        {\"coloraxis.cmin\": iris_plot['students_per_m2'].min(),\n",
    "                         \"coloraxis.cmax\": iris_plot['students_per_m2'].max(),\n",
    "                         \"coloraxis.colorbar.title\": \"Étudiants/m²\"}\n",
    "                    ]\n",
    "                ),\n",
    "                dict(\n",
    "                    label=\"Nombre d'étudiants\",\n",
    "                    method=\"update\",\n",
    "                    args=[\n",
    "                        {\"z\": [iris_plot['nb_etudiants']]},\n",
    "                        {\"coloraxis.cmin\": iris_plot['nb_etudiants'].min(),\n",
    "                         \"coloraxis.cmax\": iris_plot['nb_etudiants'].max(),\n",
    "                         \"coloraxis.colorbar.title\": \"Nombre d'étudiants\"}\n",
    "                    ]\n",
    "                ),\n",
    "            ]\n",
    "        )\n",
    "    ]\n",
    ")\n",
    "\n",
    "fig.update_layout(margin={\"r\":0,\"t\":50,\"l\":0,\"b\":0}, title=\"Étudiants sup. par IRIS - Bordeaux\")\n",
    "fig.show()\n"
   ]
  },
  {
   "cell_type": "code",
   "execution_count": 128,
   "id": "0ee534c1",
   "metadata": {},
   "outputs": [
    {
     "data": {
      "application/vnd.plotly.v1+json": {
       "config": {
        "plotlyServerURL": "https://plot.ly"
       },
       "data": [
        {
         "customdata": {
          "bdata": "AAAAAEDZ3ECxTArXYaMBQQAAAAAAAFxAAAAAAKDk/UDRI1yPBygnQQAAAAAAIGBAAAAAAADtxEDPoGZm+Ez2QAAAAAAAACxAAAAAAADn2kDUHilc0B8ZQQAAAAAAAFtAAAAAAACkyEB5WHoURKkJQQAAAAAAAD5AAAAAAAA6uED4K4XrNcn/QAAAAAAAADVAAAAAAACAxUBsGs1MpR8RQQAAAAAAgE9AAAAAAADlvEC39KNwS5oHQQAAAAAAgEtAAAAAAEDi0ECapv9/IyIfQQAAAAAAgFRAAAAAAABVtECbtkfhfWwFQQAAAAAAACJA",
          "dtype": "f8",
          "shape": "10, 3"
         },
         "hovertemplate": "LIB_IRIS=%{x}<br>students_per_m2=%{marker.color}<br>nb_etudiants=%{customdata[0]}<br>area_m2=%{customdata[1]}<br>nb_etabs=%{customdata[2]}<extra></extra>",
         "legendgroup": "",
         "marker": {
          "color": {
           "bdata": "PQSWkVEryj8wOdoMnqfEP6JERBDyBr4/LyCpzeAhsT9vrJdGMrquP/ZiVF3CY6g/MpBxx9YWpD8FsBW0VpajP7dK1w2RWqE/WZmDXIhenj8=",
           "dtype": "f8"
          },
          "coloraxis": "coloraxis",
          "pattern": {
           "shape": ""
          }
         },
         "name": "",
         "orientation": "v",
         "showlegend": false,
         "textposition": "auto",
         "type": "bar",
         "x": [
          "Capucins-Victoire 3",
          "Saint-Augustin 1",
          "Capucins-Victoire 2",
          "Chartrons-Grand Parc 9",
          "Capucins-Victoire 8",
          "Capucins-Victoire 6",
          "Capucins-Victoire 5",
          "Chartrons-Grand Parc 10",
          "Chartrons-Grand Parc 2",
          "Hôtel de Ville-Quinconces 8"
         ],
         "xaxis": "x",
         "y": {
          "bdata": "PQSWkVEryj8wOdoMnqfEP6JERBDyBr4/LyCpzeAhsT9vrJdGMrquP/ZiVF3CY6g/MpBxx9YWpD8FsBW0VpajP7dK1w2RWqE/WZmDXIhenj8=",
          "dtype": "f8"
         },
         "yaxis": "y"
        }
       ],
       "layout": {
        "barmode": "relative",
        "coloraxis": {
         "colorbar": {
          "title": {
           "text": "students_per_m2"
          }
         },
         "colorscale": [
          [
           0,
           "rgb(255,255,204)"
          ],
          [
           0.125,
           "rgb(255,237,160)"
          ],
          [
           0.25,
           "rgb(254,217,118)"
          ],
          [
           0.375,
           "rgb(254,178,76)"
          ],
          [
           0.5,
           "rgb(253,141,60)"
          ],
          [
           0.625,
           "rgb(252,78,42)"
          ],
          [
           0.75,
           "rgb(227,26,28)"
          ],
          [
           0.875,
           "rgb(189,0,38)"
          ],
          [
           1,
           "rgb(128,0,38)"
          ]
         ]
        },
        "legend": {
         "tracegroupgap": 0
        },
        "template": {
         "data": {
          "bar": [
           {
            "error_x": {
             "color": "#2a3f5f"
            },
            "error_y": {
             "color": "#2a3f5f"
            },
            "marker": {
             "line": {
              "color": "#E5ECF6",
              "width": 0.5
             },
             "pattern": {
              "fillmode": "overlay",
              "size": 10,
              "solidity": 0.2
             }
            },
            "type": "bar"
           }
          ],
          "barpolar": [
           {
            "marker": {
             "line": {
              "color": "#E5ECF6",
              "width": 0.5
             },
             "pattern": {
              "fillmode": "overlay",
              "size": 10,
              "solidity": 0.2
             }
            },
            "type": "barpolar"
           }
          ],
          "carpet": [
           {
            "aaxis": {
             "endlinecolor": "#2a3f5f",
             "gridcolor": "white",
             "linecolor": "white",
             "minorgridcolor": "white",
             "startlinecolor": "#2a3f5f"
            },
            "baxis": {
             "endlinecolor": "#2a3f5f",
             "gridcolor": "white",
             "linecolor": "white",
             "minorgridcolor": "white",
             "startlinecolor": "#2a3f5f"
            },
            "type": "carpet"
           }
          ],
          "choropleth": [
           {
            "colorbar": {
             "outlinewidth": 0,
             "ticks": ""
            },
            "type": "choropleth"
           }
          ],
          "contour": [
           {
            "colorbar": {
             "outlinewidth": 0,
             "ticks": ""
            },
            "colorscale": [
             [
              0,
              "#0d0887"
             ],
             [
              0.1111111111111111,
              "#46039f"
             ],
             [
              0.2222222222222222,
              "#7201a8"
             ],
             [
              0.3333333333333333,
              "#9c179e"
             ],
             [
              0.4444444444444444,
              "#bd3786"
             ],
             [
              0.5555555555555556,
              "#d8576b"
             ],
             [
              0.6666666666666666,
              "#ed7953"
             ],
             [
              0.7777777777777778,
              "#fb9f3a"
             ],
             [
              0.8888888888888888,
              "#fdca26"
             ],
             [
              1,
              "#f0f921"
             ]
            ],
            "type": "contour"
           }
          ],
          "contourcarpet": [
           {
            "colorbar": {
             "outlinewidth": 0,
             "ticks": ""
            },
            "type": "contourcarpet"
           }
          ],
          "heatmap": [
           {
            "colorbar": {
             "outlinewidth": 0,
             "ticks": ""
            },
            "colorscale": [
             [
              0,
              "#0d0887"
             ],
             [
              0.1111111111111111,
              "#46039f"
             ],
             [
              0.2222222222222222,
              "#7201a8"
             ],
             [
              0.3333333333333333,
              "#9c179e"
             ],
             [
              0.4444444444444444,
              "#bd3786"
             ],
             [
              0.5555555555555556,
              "#d8576b"
             ],
             [
              0.6666666666666666,
              "#ed7953"
             ],
             [
              0.7777777777777778,
              "#fb9f3a"
             ],
             [
              0.8888888888888888,
              "#fdca26"
             ],
             [
              1,
              "#f0f921"
             ]
            ],
            "type": "heatmap"
           }
          ],
          "histogram": [
           {
            "marker": {
             "pattern": {
              "fillmode": "overlay",
              "size": 10,
              "solidity": 0.2
             }
            },
            "type": "histogram"
           }
          ],
          "histogram2d": [
           {
            "colorbar": {
             "outlinewidth": 0,
             "ticks": ""
            },
            "colorscale": [
             [
              0,
              "#0d0887"
             ],
             [
              0.1111111111111111,
              "#46039f"
             ],
             [
              0.2222222222222222,
              "#7201a8"
             ],
             [
              0.3333333333333333,
              "#9c179e"
             ],
             [
              0.4444444444444444,
              "#bd3786"
             ],
             [
              0.5555555555555556,
              "#d8576b"
             ],
             [
              0.6666666666666666,
              "#ed7953"
             ],
             [
              0.7777777777777778,
              "#fb9f3a"
             ],
             [
              0.8888888888888888,
              "#fdca26"
             ],
             [
              1,
              "#f0f921"
             ]
            ],
            "type": "histogram2d"
           }
          ],
          "histogram2dcontour": [
           {
            "colorbar": {
             "outlinewidth": 0,
             "ticks": ""
            },
            "colorscale": [
             [
              0,
              "#0d0887"
             ],
             [
              0.1111111111111111,
              "#46039f"
             ],
             [
              0.2222222222222222,
              "#7201a8"
             ],
             [
              0.3333333333333333,
              "#9c179e"
             ],
             [
              0.4444444444444444,
              "#bd3786"
             ],
             [
              0.5555555555555556,
              "#d8576b"
             ],
             [
              0.6666666666666666,
              "#ed7953"
             ],
             [
              0.7777777777777778,
              "#fb9f3a"
             ],
             [
              0.8888888888888888,
              "#fdca26"
             ],
             [
              1,
              "#f0f921"
             ]
            ],
            "type": "histogram2dcontour"
           }
          ],
          "mesh3d": [
           {
            "colorbar": {
             "outlinewidth": 0,
             "ticks": ""
            },
            "type": "mesh3d"
           }
          ],
          "parcoords": [
           {
            "line": {
             "colorbar": {
              "outlinewidth": 0,
              "ticks": ""
             }
            },
            "type": "parcoords"
           }
          ],
          "pie": [
           {
            "automargin": true,
            "type": "pie"
           }
          ],
          "scatter": [
           {
            "fillpattern": {
             "fillmode": "overlay",
             "size": 10,
             "solidity": 0.2
            },
            "type": "scatter"
           }
          ],
          "scatter3d": [
           {
            "line": {
             "colorbar": {
              "outlinewidth": 0,
              "ticks": ""
             }
            },
            "marker": {
             "colorbar": {
              "outlinewidth": 0,
              "ticks": ""
             }
            },
            "type": "scatter3d"
           }
          ],
          "scattercarpet": [
           {
            "marker": {
             "colorbar": {
              "outlinewidth": 0,
              "ticks": ""
             }
            },
            "type": "scattercarpet"
           }
          ],
          "scattergeo": [
           {
            "marker": {
             "colorbar": {
              "outlinewidth": 0,
              "ticks": ""
             }
            },
            "type": "scattergeo"
           }
          ],
          "scattergl": [
           {
            "marker": {
             "colorbar": {
              "outlinewidth": 0,
              "ticks": ""
             }
            },
            "type": "scattergl"
           }
          ],
          "scattermap": [
           {
            "marker": {
             "colorbar": {
              "outlinewidth": 0,
              "ticks": ""
             }
            },
            "type": "scattermap"
           }
          ],
          "scattermapbox": [
           {
            "marker": {
             "colorbar": {
              "outlinewidth": 0,
              "ticks": ""
             }
            },
            "type": "scattermapbox"
           }
          ],
          "scatterpolar": [
           {
            "marker": {
             "colorbar": {
              "outlinewidth": 0,
              "ticks": ""
             }
            },
            "type": "scatterpolar"
           }
          ],
          "scatterpolargl": [
           {
            "marker": {
             "colorbar": {
              "outlinewidth": 0,
              "ticks": ""
             }
            },
            "type": "scatterpolargl"
           }
          ],
          "scatterternary": [
           {
            "marker": {
             "colorbar": {
              "outlinewidth": 0,
              "ticks": ""
             }
            },
            "type": "scatterternary"
           }
          ],
          "surface": [
           {
            "colorbar": {
             "outlinewidth": 0,
             "ticks": ""
            },
            "colorscale": [
             [
              0,
              "#0d0887"
             ],
             [
              0.1111111111111111,
              "#46039f"
             ],
             [
              0.2222222222222222,
              "#7201a8"
             ],
             [
              0.3333333333333333,
              "#9c179e"
             ],
             [
              0.4444444444444444,
              "#bd3786"
             ],
             [
              0.5555555555555556,
              "#d8576b"
             ],
             [
              0.6666666666666666,
              "#ed7953"
             ],
             [
              0.7777777777777778,
              "#fb9f3a"
             ],
             [
              0.8888888888888888,
              "#fdca26"
             ],
             [
              1,
              "#f0f921"
             ]
            ],
            "type": "surface"
           }
          ],
          "table": [
           {
            "cells": {
             "fill": {
              "color": "#EBF0F8"
             },
             "line": {
              "color": "white"
             }
            },
            "header": {
             "fill": {
              "color": "#C8D4E3"
             },
             "line": {
              "color": "white"
             }
            },
            "type": "table"
           }
          ]
         },
         "layout": {
          "annotationdefaults": {
           "arrowcolor": "#2a3f5f",
           "arrowhead": 0,
           "arrowwidth": 1
          },
          "autotypenumbers": "strict",
          "coloraxis": {
           "colorbar": {
            "outlinewidth": 0,
            "ticks": ""
           }
          },
          "colorscale": {
           "diverging": [
            [
             0,
             "#8e0152"
            ],
            [
             0.1,
             "#c51b7d"
            ],
            [
             0.2,
             "#de77ae"
            ],
            [
             0.3,
             "#f1b6da"
            ],
            [
             0.4,
             "#fde0ef"
            ],
            [
             0.5,
             "#f7f7f7"
            ],
            [
             0.6,
             "#e6f5d0"
            ],
            [
             0.7,
             "#b8e186"
            ],
            [
             0.8,
             "#7fbc41"
            ],
            [
             0.9,
             "#4d9221"
            ],
            [
             1,
             "#276419"
            ]
           ],
           "sequential": [
            [
             0,
             "#0d0887"
            ],
            [
             0.1111111111111111,
             "#46039f"
            ],
            [
             0.2222222222222222,
             "#7201a8"
            ],
            [
             0.3333333333333333,
             "#9c179e"
            ],
            [
             0.4444444444444444,
             "#bd3786"
            ],
            [
             0.5555555555555556,
             "#d8576b"
            ],
            [
             0.6666666666666666,
             "#ed7953"
            ],
            [
             0.7777777777777778,
             "#fb9f3a"
            ],
            [
             0.8888888888888888,
             "#fdca26"
            ],
            [
             1,
             "#f0f921"
            ]
           ],
           "sequentialminus": [
            [
             0,
             "#0d0887"
            ],
            [
             0.1111111111111111,
             "#46039f"
            ],
            [
             0.2222222222222222,
             "#7201a8"
            ],
            [
             0.3333333333333333,
             "#9c179e"
            ],
            [
             0.4444444444444444,
             "#bd3786"
            ],
            [
             0.5555555555555556,
             "#d8576b"
            ],
            [
             0.6666666666666666,
             "#ed7953"
            ],
            [
             0.7777777777777778,
             "#fb9f3a"
            ],
            [
             0.8888888888888888,
             "#fdca26"
            ],
            [
             1,
             "#f0f921"
            ]
           ]
          },
          "colorway": [
           "#636efa",
           "#EF553B",
           "#00cc96",
           "#ab63fa",
           "#FFA15A",
           "#19d3f3",
           "#FF6692",
           "#B6E880",
           "#FF97FF",
           "#FECB52"
          ],
          "font": {
           "color": "#2a3f5f"
          },
          "geo": {
           "bgcolor": "white",
           "lakecolor": "white",
           "landcolor": "#E5ECF6",
           "showlakes": true,
           "showland": true,
           "subunitcolor": "white"
          },
          "hoverlabel": {
           "align": "left"
          },
          "hovermode": "closest",
          "mapbox": {
           "style": "light"
          },
          "paper_bgcolor": "white",
          "plot_bgcolor": "#E5ECF6",
          "polar": {
           "angularaxis": {
            "gridcolor": "white",
            "linecolor": "white",
            "ticks": ""
           },
           "bgcolor": "#E5ECF6",
           "radialaxis": {
            "gridcolor": "white",
            "linecolor": "white",
            "ticks": ""
           }
          },
          "scene": {
           "xaxis": {
            "backgroundcolor": "#E5ECF6",
            "gridcolor": "white",
            "gridwidth": 2,
            "linecolor": "white",
            "showbackground": true,
            "ticks": "",
            "zerolinecolor": "white"
           },
           "yaxis": {
            "backgroundcolor": "#E5ECF6",
            "gridcolor": "white",
            "gridwidth": 2,
            "linecolor": "white",
            "showbackground": true,
            "ticks": "",
            "zerolinecolor": "white"
           },
           "zaxis": {
            "backgroundcolor": "#E5ECF6",
            "gridcolor": "white",
            "gridwidth": 2,
            "linecolor": "white",
            "showbackground": true,
            "ticks": "",
            "zerolinecolor": "white"
           }
          },
          "shapedefaults": {
           "line": {
            "color": "#2a3f5f"
           }
          },
          "ternary": {
           "aaxis": {
            "gridcolor": "white",
            "linecolor": "white",
            "ticks": ""
           },
           "baxis": {
            "gridcolor": "white",
            "linecolor": "white",
            "ticks": ""
           },
           "bgcolor": "#E5ECF6",
           "caxis": {
            "gridcolor": "white",
            "linecolor": "white",
            "ticks": ""
           }
          },
          "title": {
           "x": 0.05
          },
          "xaxis": {
           "automargin": true,
           "gridcolor": "white",
           "linecolor": "white",
           "ticks": "",
           "title": {
            "standoff": 15
           },
           "zerolinecolor": "white",
           "zerolinewidth": 2
          },
          "yaxis": {
           "automargin": true,
           "gridcolor": "white",
           "linecolor": "white",
           "ticks": "",
           "title": {
            "standoff": 15
           },
           "zerolinecolor": "white",
           "zerolinewidth": 2
          }
         }
        },
        "title": {
         "text": "Top 10 IRIS les plus denses en étudiants - Rennes"
        },
        "xaxis": {
         "anchor": "y",
         "domain": [
          0,
          1
         ],
         "title": {
          "text": "Quartier (IRIS)"
         }
        },
        "yaxis": {
         "anchor": "x",
         "domain": [
          0,
          1
         ],
         "title": {
          "text": "Étudiants / m²"
         }
        }
       }
      }
     },
     "metadata": {},
     "output_type": "display_data"
    }
   ],
   "source": [
    "top10_iris_bordeaux = iris_bordeaux_stats.sort_values(by='students_per_m2', ascending=False).head(10)\n",
    "\n",
    "fig = px.bar(\n",
    "    top10_iris_bordeaux,\n",
    "    x='LIB_IRIS',\n",
    "    y='students_per_m2',\n",
    "    hover_data=['nb_etudiants','area_m2','nb_etabs'],\n",
    "    color='students_per_m2',\n",
    "    color_continuous_scale='YlOrRd',\n",
    "    title=\"Top 10 IRIS les plus denses en étudiants - Rennes\"\n",
    ")\n",
    "\n",
    "fig.update_layout(xaxis_title=\"Quartier (IRIS)\", yaxis_title=\"Étudiants / m²\")\n",
    "fig.show()\n"
   ]
  },
  {
   "cell_type": "markdown",
   "id": "90516127",
   "metadata": {},
   "source": [
    "### Analyser les **quartiers vivants (nombre de resto, bars, et supermarchés)** à Rennes"
   ]
  },
  {
   "cell_type": "code",
   "execution_count": null,
   "id": "a0668a27",
   "metadata": {},
   "outputs": [
    {
     "name": "stdout",
     "output_type": "stream",
     "text": [
      "================================================================================\n",
      "ANALYSE DES IRIS - COMMERCES VIVANTS A RENNES\n",
      "================================================================================\n",
      "\n",
      "ETAPE 1 : Chargement des donnees IRIS\n",
      "--------------------------------------------------------------------------------\n",
      "Telechargement de la base de reference IRIS depuis HuggingFace...\n",
      "OK - 49444 IRIS charges dans la base nationale\n",
      "\n",
      "Telechargement des geometries IRIS depuis Rennes Metropole...\n",
      "OK - 173 IRIS geographiques telecharges\n",
      "\n",
      "Filtrage sur la commune de Rennes (code INSEE 35238)...\n",
      "OK - 93 IRIS conserves pour Rennes\n",
      "\n",
      "Fusion des noms avec les geometries...\n",
      "OK - Fusion terminee : 93 IRIS avec noms et geometries\n",
      "\n",
      "================================================================================\n",
      "ETAPE 2 : Recuperation des commerces depuis OpenStreetMap\n",
      "--------------------------------------------------------------------------------\n",
      "Construction de la requete Overpass API...\n",
      "Types de commerces recherches :\n",
      "  - Restaurants et fast-foods\n",
      "  - Bars, pubs et cafes\n",
      "  - Supermarches et epiceries\n",
      "\n",
      "Envoi de la requete a l'API Overpass...\n",
      "(Cette etape peut prendre 30-60 secondes)\n",
      "OK - 941 commerces recuperes\n",
      "\n",
      "================================================================================\n",
      "ETAPE 3 : Conversion et categorisation des commerces\n",
      "--------------------------------------------------------------------------------\n",
      "Traitement des elements OpenStreetMap...\n",
      "OK - 941 commerces traites\n",
      "\n",
      "Creation du GeoDataFrame avec les coordonnees...\n",
      "Reprojection dans le systeme de coordonnees des IRIS...\n",
      "OK - 941 commerces geolocalises\n",
      "\n",
      "Repartition par categorie :\n",
      "categorie\n",
      "Restaurant     535\n",
      "Bar/Café       274\n",
      "Supermarché    132\n",
      "\n",
      "================================================================================\n",
      "ETAPE 4 : Jointure spatiale (commerces x IRIS)\n",
      "--------------------------------------------------------------------------------\n",
      "Association de chaque commerce a son IRIS...\n",
      "OK - 941 commerces associes a un IRIS\n",
      "     0 commerces hors IRIS\n",
      "\n",
      "Comptage du nombre de commerces par IRIS...\n",
      "OK - 79 IRIS contiennent au moins 1 commerce\n",
      "\n",
      "Comptage par categorie de commerce...\n",
      "OK - Tableau croise cree\n",
      "\n",
      "Fusion avec les informations des IRIS...\n",
      "Remplissage des valeurs manquantes par 0...\n",
      "OK - Table finale : 93 IRIS avec statistiques\n",
      "\n",
      "Calcul de la surface de chaque IRIS...\n",
      "Reprojection en Lambert 93 (systeme metrique francais)...\n",
      "OK - Surfaces calculees (min: 0.061 km², max: 4.702 km²)\n",
      "\n",
      "Calcul du score de densite pondere...\n",
      "\n",
      "Calcul du score de densite pondere...\n",
      "Formule : (Restaurants x 2 + Bars/Cafes x 2 + Supermarches x 1.5) / surface_km2\n",
      "OK - Scores calcules pour tous les IRIS\n",
      "\n",
      "================================================================================\n",
      "TOP 10 DES IRIS LES PLUS DENSES EN COMMERCES VIVANTS\n",
      "================================================================================\n",
      "\n",
      "Calcul de la densite pour chaque IRIS...\n",
      "Formule : (Restaurants x2 + Bars x2 + Supermarches x1.5) / surface\n",
      "\n",
      "RESULTAT : 79 IRIS contiennent au moins 1 commerce\n",
      "\n",
      "================================================================================\n",
      "\n",
      "Rang   IRIS                                          Restos   Bars     Supers   Total   \n",
      "-------------------------------------------------------------------------------------\n",
      "1      Parcheminerie Toussaints                      62       29       11       102     \n",
      "2      Cathédrale                                    61       43       3        107     \n",
      "3      Parlement                                     38       18       1        57      \n",
      "4      Hoche                                         35       17       6        58      \n",
      "5      Dalle du Colombier                            18       5        3        26      \n",
      "6      Vieux Saint-Étienne                           27       11       1        39      \n",
      "7      Saint-Louis                                   11       15       0        26      \n",
      "8      Dalle Kennedy                                 5        0        6        11      \n",
      "9      Liberté Champ de Mars                         26       7        4        37      \n",
      "10     Saint-Hélier                                  24       8        4        36      \n",
      "\n",
      "================================================================================\n",
      "STATISTIQUES GLOBALES\n",
      "================================================================================\n",
      "IRIS total a Rennes : 93\n",
      "IRIS avec commerces : 79\n",
      "IRIS sans commerce : 14\n",
      "\n",
      "Total restaurants : 535\n",
      "Total bars/cafes : 274\n",
      "Total supermarches : 132\n",
      "================================================================================\n",
      "\n",
      "================================================================================\n",
      "ETAPE 5 : Generation des graphiques\n",
      "--------------------------------------------------------------------------------\n",
      "Nombre de graphiques a generer : 2\n",
      "\n",
      "Creation du graphique 1 : Classement du Top 10...\n",
      "OK - Graphique 1 genere\n"
     ]
    },
    {
     "data": {
      "image/png": "[encoded data removed]",
      "text/plain": [
       "<Figure size 1400x800 with 1 Axes>"
      ]
     },
     "metadata": {},
     "output_type": "display_data"
    },
    {
     "name": "stdout",
     "output_type": "stream",
     "text": [
      "\n",
      "Creation du graphique 2 : Composition par type de commerce...\n",
      "OK - Graphique 2 genere\n"
     ]
    },
    {
     "data": {
      "image/png": "[encoded data removed]",
      "text/plain": [
       "<Figure size 1400x800 with 1 Axes>"
      ]
     },
     "metadata": {},
     "output_type": "display_data"
    }
   ],
   "source": [
    "\"\"\"\n",
    "Analyse des IRIS de Rennes les plus denses en commerces vivants\n",
    "================================================================\n",
    "Version legere : affichage direct des graphiques sans sauvegarde\n",
    "\"\"\"\n",
    "\n",
    "import os\n",
    "import pandas as pd\n",
    "import geopandas as gpd\n",
    "import requests\n",
    "import matplotlib.pyplot as plt\n",
    "import seaborn as sns\n",
    "import warnings\n",
    "warnings.filterwarnings('ignore')\n",
    "\n",
    "print(\"=\" * 80)\n",
    "print(\"ANALYSE DES IRIS - COMMERCES VIVANTS A RENNES\")\n",
    "print(\"=\" * 80)\n",
    "\n",
    "# ============================================================================\n",
    "# 1. CHARGEMENT DES IRIS\n",
    "# ============================================================================\n",
    "print(\"\\nETAPE 1 : Chargement des donnees IRIS\")\n",
    "print(\"-\" * 80)\n",
    "\n",
    "\n",
    "\n",
    "url_iris = \"https://huggingface.co/datasets/analysedonneesfoncieresdata/analyse_fonciere_data/resolve/main/contours-iris-pe.gpkg\"\n",
    "local_path = \"contours-iris-pe.gpkg\"\n",
    "# Télécharger une seule fois\n",
    "if not os.path.exists(local_path):\n",
    "    print(\"Téléchargement du fichier...\")\n",
    "    r = requests.get(url_iris)\n",
    "    with open(local_path, \"wb\") as f:\n",
    "        f.write(r.content)\n",
    "# Lister les couches avec fiona\n",
    "from fiona import listlayers\n",
    "layers = listlayers(local_path)\n",
    "print(\"Couches disponibles:\", layers)\n",
    "# Charger la couche principale\n",
    "iris_start = gpd.read_file(local_path, layer=layers[0])\n",
    "iris_start.head()\n",
    "print(f\"OK - {len(iris_start)} IRIS geographiques telecharges\")\n",
    "\n",
    "print(\"Telechargement de la base de reference IRIS depuis HuggingFace...\")\n",
    "url_ref_iris = \"https://huggingface.co/datasets/analysedonneesfoncieresdata/analyse_fonciere_data/resolve/main/reference_IRIS_geo2025.xlsx\"\n",
    "iris_noms = pd.read_excel(url_ref_iris)\n",
    "iris_noms = iris_noms.rename(columns={'CODE_IRIS': 'code_iris'})\n",
    "print(f\"OK - {len(iris_noms)} IRIS charges dans la base nationale\")\n",
    "\n",
    "print(\"\\nFiltrage sur la commune de Rennes (code INSEE 35238)...\")\n",
    "iris_rennes = iris_start[iris_start['nom_commune'].str.contains(\"Rennes\", case=False, na=False)].copy()\n",
    "print(f\"OK - {len(iris_rennes)} IRIS conserves pour Rennes\")\n",
    "\n",
    "print(\"\\nFusion des noms avec les geometries...\")\n",
    "iris = iris_rennes.merge(iris_noms[['code_iris', 'LIB_IRIS', 'LIBCOM']], \n",
    "                         on='code_iris', how='left')\n",
    "print(f\"OK - Fusion terminee : {len(iris)} IRIS avec noms et geometries\")\n",
    "\n",
    "# ============================================================================\n",
    "# 2. RÉCUPÉRATION DES COMMERCES OSM\n",
    "# ============================================================================\n",
    "print(\"\\n\" + \"=\" * 80)\n",
    "print(\"ETAPE 2 : Recuperation des commerces depuis OpenStreetMap\")\n",
    "print(\"-\" * 80)\n",
    "\n",
    "overpass_url = \"http://overpass-api.de/api/interpreter\"\n",
    "\n",
    "print(\"Construction de la requete Overpass API...\")\n",
    "print(\"Types de commerces recherches :\")\n",
    "print(\"  - Restaurants et fast-foods\")\n",
    "print(\"  - Bars, pubs et cafes\")\n",
    "print(\"  - Supermarches et epiceries\")\n",
    "\n",
    "overpass_query = \"\"\"\n",
    "[out:json][timeout:90];\n",
    "area[\"name\"=\"Rennes\"][\"admin_level\"=\"8\"]->.searchArea;\n",
    "(\n",
    "  node[\"amenity\"=\"restaurant\"](area.searchArea);\n",
    "  way[\"amenity\"=\"restaurant\"](area.searchArea);\n",
    "  node[\"amenity\"=\"fast_food\"](area.searchArea);\n",
    "  way[\"amenity\"=\"fast_food\"](area.searchArea);\n",
    "  node[\"amenity\"=\"bar\"](area.searchArea);\n",
    "  way[\"amenity\"=\"bar\"](area.searchArea);\n",
    "  node[\"amenity\"=\"pub\"](area.searchArea);\n",
    "  way[\"amenity\"=\"pub\"](area.searchArea);\n",
    "  node[\"amenity\"=\"cafe\"](area.searchArea);\n",
    "  way[\"amenity\"=\"cafe\"](area.searchArea);\n",
    "  node[\"shop\"=\"supermarket\"](area.searchArea);\n",
    "  way[\"shop\"=\"supermarket\"](area.searchArea);\n",
    "  node[\"shop\"=\"convenience\"](area.searchArea);\n",
    "  way[\"shop\"=\"convenience\"](area.searchArea);\n",
    "  node[\"shop\"=\"grocery\"](area.searchArea);\n",
    "  way[\"shop\"=\"grocery\"](area.searchArea);\n",
    ");\n",
    "out center;\n",
    "\"\"\"\n",
    "\n",
    "print(\"\\nEnvoi de la requete a l'API Overpass...\")\n",
    "print(\"(Cette etape peut prendre 30-60 secondes)\")\n",
    "\n",
    "try:\n",
    "    response = requests.post(overpass_url, data={\"data\": overpass_query}, timeout=120)\n",
    "    response.raise_for_status()\n",
    "    osm_data = response.json()\n",
    "    print(f\"OK - {len(osm_data['elements'])} commerces recuperes\")\n",
    "except Exception as e:\n",
    "    print(f\"ERREUR - Impossible de recuperer les donnees OSM : {e}\")\n",
    "    exit(1)\n",
    "\n",
    "# ============================================================================\n",
    "# 3. CONVERSION ET CATÉGORISATION\n",
    "# ============================================================================\n",
    "print(\"\\n\" + \"=\" * 80)\n",
    "print(\"ETAPE 3 : Conversion et categorisation des commerces\")\n",
    "print(\"-\" * 80)\n",
    "\n",
    "commerces_list = []\n",
    "\n",
    "print(\"Traitement des elements OpenStreetMap...\")\n",
    "for element in osm_data['elements']:\n",
    "    tags = element.get('tags', {})\n",
    "    \n",
    "    # Extraction coordonnees\n",
    "    if element['type'] == 'node':\n",
    "        lat, lon = element['lat'], element['lon']\n",
    "    elif 'center' in element:\n",
    "        lat, lon = element['center']['lat'], element['center']['lon']\n",
    "    else:\n",
    "        continue\n",
    "    \n",
    "    # Categorisation\n",
    "    amenity = tags.get('amenity', '')\n",
    "    shop = tags.get('shop', '')\n",
    "    \n",
    "    if amenity in ['restaurant', 'fast_food']:\n",
    "        categorie = 'Restaurant'\n",
    "    elif amenity in ['bar', 'pub', 'cafe']:\n",
    "        categorie = 'Bar/Café'\n",
    "    elif shop in ['supermarket', 'convenience', 'grocery']:\n",
    "        categorie = 'Supermarché'\n",
    "    else:\n",
    "        categorie = 'Autre'\n",
    "    \n",
    "    commerces_list.append({\n",
    "        'categorie': categorie,\n",
    "        'latitude': lat,\n",
    "        'longitude': lon\n",
    "    })\n",
    "\n",
    "print(f\"OK - {len(commerces_list)} commerces traites\")\n",
    "\n",
    "print(\"\\nCreation du GeoDataFrame avec les coordonnees...\")\n",
    "commerces_df = pd.DataFrame(commerces_list)\n",
    "commerces_gdf = gpd.GeoDataFrame(\n",
    "    commerces_df,\n",
    "    geometry=gpd.points_from_xy(commerces_df.longitude, commerces_df.latitude),\n",
    "    crs=\"EPSG:4326\"\n",
    ")\n",
    "\n",
    "print(\"Reprojection dans le systeme de coordonnees des IRIS...\")\n",
    "commerces_gdf = commerces_gdf.to_crs(iris.crs)\n",
    "print(f\"OK - {len(commerces_gdf)} commerces geolocalises\")\n",
    "\n",
    "print(\"\\nRepartition par categorie :\")\n",
    "print(commerces_gdf['categorie'].value_counts().to_string())\n",
    "\n",
    "# ============================================================================\n",
    "# 4. JOINTURE SPATIALE\n",
    "# ============================================================================\n",
    "print(\"\\n\" + \"=\" * 80)\n",
    "print(\"ETAPE 4 : Jointure spatiale (commerces x IRIS)\")\n",
    "print(\"-\" * 80)\n",
    "\n",
    "print(\"Association de chaque commerce a son IRIS...\")\n",
    "commerces_iris = gpd.sjoin(commerces_gdf, iris[['code_iris', 'LIB_IRIS', 'geometry']], \n",
    "                            how='left', predicate='within')\n",
    "\n",
    "nb_associes = commerces_iris['code_iris'].notna().sum()\n",
    "print(f\"OK - {nb_associes} commerces associes a un IRIS\")\n",
    "print(f\"     {len(commerces_iris) - nb_associes} commerces hors IRIS\")\n",
    "\n",
    "print(\"\\nComptage du nombre de commerces par IRIS...\")\n",
    "stats_iris = commerces_iris.groupby('code_iris').size().reset_index(name='total_commerces')\n",
    "print(f\"OK - {len(stats_iris)} IRIS contiennent au moins 1 commerce\")\n",
    "\n",
    "print(\"\\nComptage par categorie de commerce...\")\n",
    "pivot = commerces_iris.pivot_table(index='code_iris', columns='categorie', \n",
    "                                   aggfunc='size', fill_value=0).reset_index()\n",
    "print(f\"OK - Tableau croise cree\")\n",
    "\n",
    "print(\"\\nFusion avec les informations des IRIS...\")\n",
    "stats_iris = stats_iris.merge(pivot, on='code_iris', how='left')\n",
    "stats_iris = iris[['code_iris', 'LIB_IRIS', 'geometry']].merge(stats_iris, on='code_iris', how='left')\n",
    "\n",
    "print(\"Remplissage des valeurs manquantes par 0...\")\n",
    "for col in ['total_commerces', 'Restaurant', 'Bar/Café', 'Supermarché']:\n",
    "    if col in stats_iris.columns:\n",
    "        stats_iris[col] = stats_iris[col].fillna(0).astype(int)\n",
    "    else:\n",
    "        stats_iris[col] = 0\n",
    "\n",
    "print(f\"OK - Table finale : {len(stats_iris)} IRIS avec statistiques\")\n",
    "\n",
    "print(\"\\nCalcul de la surface de chaque IRIS...\")\n",
    "print(\"Reprojection en Lambert 93 (systeme metrique francais)...\")\n",
    "stats_iris = gpd.GeoDataFrame(stats_iris, geometry='geometry', crs=iris.crs)\n",
    "\n",
    "# Reprojeter en Lambert 93 (EPSG:2154) pour avoir des surfaces en mètres\n",
    "stats_iris_projected = stats_iris.to_crs(epsg=2154)\n",
    "stats_iris['surface_km2'] = stats_iris_projected.geometry.area / 1_000_000\n",
    "\n",
    "print(f\"OK - Surfaces calculees (min: {stats_iris['surface_km2'].min():.3f} km², max: {stats_iris['surface_km2'].max():.3f} km²)\")\n",
    "\n",
    "# Vérification\n",
    "if stats_iris['surface_km2'].max() == 0:\n",
    "    print(\"ATTENTION - Probleme de calcul de surface, utilisation de la geometrie originale...\")\n",
    "    stats_iris['surface_km2'] = stats_iris.geometry.area / 1_000_000\n",
    "    print(f\"OK - Surfaces recalculees (min: {stats_iris['surface_km2'].min():.6f} km², max: {stats_iris['surface_km2'].max():.3f} km²)\")\n",
    "\n",
    "\n",
    "print(\"\\nCalcul du score de densite pondere...\")\n",
    "\n",
    "print(\"\\nCalcul du score de densite pondere...\")\n",
    "print(\"Formule : (Restaurants x 2 + Bars/Cafes x 2 + Supermarches x 1.5) / surface_km2\")\n",
    "\n",
    "stats_iris['score_densite'] = (\n",
    "    stats_iris['Restaurant'] * 2.0 +\n",
    "    stats_iris['Bar/Café'] * 2.0 +\n",
    "    stats_iris['Supermarché'] * 1.5\n",
    ") / stats_iris['surface_km2']\n",
    "\n",
    "stats_iris['score_densite'] = stats_iris['score_densite'].replace([float('inf')], 0).round(1)\n",
    "print(f\"OK - Scores calcules pour tous les IRIS\")\n",
    "\n",
    "# ============================================================================\n",
    "# 5. TOP 10\n",
    "# ============================================================================\n",
    "print(\"\\n\" + \"=\" * 80)\n",
    "print(\"TOP 10 DES IRIS LES PLUS DENSES EN COMMERCES VIVANTS\")\n",
    "print(\"=\" * 80)\n",
    "print(\"\\nCalcul de la densite pour chaque IRIS...\")\n",
    "print(\"Formule : (Restaurants x2 + Bars x2 + Supermarches x1.5) / surface\")\n",
    "\n",
    "iris_valides = stats_iris[(stats_iris['total_commerces'] > 0) & (stats_iris['surface_km2'] > 0)]\n",
    "top10 = iris_valides.nlargest(10, 'score_densite')\n",
    "\n",
    "print(f\"\\nRESULTAT : {len(iris_valides)} IRIS contiennent au moins 1 commerce\")\n",
    "print(\"\\n\" + \"=\" * 80)\n",
    "\n",
    "print(f\"\\n{'Rang':<6} {'IRIS':<45} {'Restos':<8} {'Bars':<8} {'Supers':<8} {'Total':<8}\")\n",
    "print(\"-\" * 85)\n",
    "\n",
    "for idx, (_, row) in enumerate(top10.iterrows(), 1):\n",
    "    nom = row['LIB_IRIS'] if pd.notna(row['LIB_IRIS']) else 'Sans nom'\n",
    "    nom = nom[:43]\n",
    "    print(f\"{idx:<6} {nom:<45} {int(row['Restaurant']):<8} {int(row['Bar/Café']):<8} \"\n",
    "          f\"{int(row['Supermarché']):<8} {int(row['total_commerces']):<8}\")\n",
    "\n",
    "print(\"\\n\" + \"=\" * 80)\n",
    "print(f\"STATISTIQUES GLOBALES\")\n",
    "print(\"=\" * 80)\n",
    "print(f\"IRIS total a Rennes : {len(iris)}\")\n",
    "print(f\"IRIS avec commerces : {len(iris_valides)}\")\n",
    "print(f\"IRIS sans commerce : {len(iris) - len(iris_valides)}\")\n",
    "print(f\"\\nTotal restaurants : {int(stats_iris['Restaurant'].sum())}\")\n",
    "print(f\"Total bars/cafes : {int(stats_iris['Bar/Café'].sum())}\")\n",
    "print(f\"Total supermarches : {int(stats_iris['Supermarché'].sum())}\")\n",
    "print(\"=\" * 80)\n",
    "\n",
    "# ============================================================================\n",
    "# 6. GRAPHIQUES\n",
    "# ============================================================================\n",
    "print(\"\\n\" + \"=\" * 80)\n",
    "print(\"ETAPE 5 : Generation des graphiques\")\n",
    "print(\"-\" * 80)\n",
    "print(\"Nombre de graphiques a generer : 2\")\n",
    "\n",
    "# Configuration\n",
    "plt.style.use('seaborn-v0_8-whitegrid')\n",
    "sns.set_palette(\"husl\")\n",
    "\n",
    "# ============================================================================\n",
    "# GRAPHIQUE 1 : TOP 10 CLASSEMENT\n",
    "# ============================================================================\n",
    "print(\"\\nCreation du graphique 1 : Classement du Top 10...\")\n",
    "\n",
    "fig, ax = plt.subplots(figsize=(14, 8))\n",
    "\n",
    "top10_sorted = top10.sort_values('score_densite', ascending=True)\n",
    "\n",
    "bars = ax.barh(\n",
    "    range(len(top10_sorted)),\n",
    "    top10_sorted['total_commerces'],\n",
    "    color=sns.color_palette(\"RdYlGn_r\", len(top10_sorted))\n",
    ")\n",
    "\n",
    "labels = [row['LIB_IRIS'][:40] if pd.notna(row['LIB_IRIS']) else 'Sans nom' \n",
    "          for _, row in top10_sorted.iterrows()]\n",
    "\n",
    "ax.set_yticks(range(len(top10_sorted)))\n",
    "ax.set_yticklabels(labels)\n",
    "\n",
    "for i, (_, row) in enumerate(top10_sorted.iterrows()):\n",
    "    ax.text(row['total_commerces'] + 1, i, f\"{int(row['total_commerces'])}\", \n",
    "            va='center', fontweight='bold')\n",
    "\n",
    "ax.set_xlabel('Nombre de commerces', fontsize=12, fontweight='bold')\n",
    "ax.set_title('Top 10 des IRIS de Rennes les plus denses en commerces vivants',\n",
    "             fontsize=14, fontweight='bold', pad=20)\n",
    "ax.grid(axis='x', alpha=0.3)\n",
    "\n",
    "plt.tight_layout()\n",
    "print(\"OK - Graphique 1 genere\")\n",
    "plt.show()\n",
    "\n",
    "# ============================================================================\n",
    "# GRAPHIQUE 2 : COMPOSITION\n",
    "# ============================================================================\n",
    "print(\"\\nCreation du graphique 2 : Composition par type de commerce...\")\n",
    "\n",
    "fig, ax = plt.subplots(figsize=(14, 8))\n",
    "\n",
    "x = range(len(top10))\n",
    "width = 0.25\n",
    "\n",
    "ax.bar([i - width for i in x], top10['Restaurant'].values, width, \n",
    "       label='Restaurants', color='#FF6B6B')\n",
    "ax.bar(x, top10['Bar/Café'].values, width, \n",
    "       label='Bars/Cafes', color='#4ECDC4')\n",
    "ax.bar([i + width for i in x], top10['Supermarché'].values, width, \n",
    "       label='Supermarches', color='#45B7D1')\n",
    "\n",
    "labels = [row['LIB_IRIS'][:25] if pd.notna(row['LIB_IRIS']) else 'Sans nom' \n",
    "          for _, row in top10.iterrows()]\n",
    "\n",
    "ax.set_xticks(x)\n",
    "ax.set_xticklabels(labels, rotation=45, ha='right')\n",
    "ax.set_ylabel('Nombre de commerces', fontsize=12, fontweight='bold')\n",
    "ax.set_title('Composition du Top 10 des IRIS par type de commerce',\n",
    "             fontsize=14, fontweight='bold', pad=20)\n",
    "ax.legend(fontsize=11)\n",
    "ax.grid(axis='y', alpha=0.3)\n",
    "\n",
    "plt.tight_layout()\n",
    "print(\"OK - Graphique 2 genere\")\n",
    "plt.show()\n",
    "\n"
   ]
  }
 ],
 "metadata": {
  "kernelspec": {
   "display_name": "Python 3",
   "language": "python",
   "name": "python3"
  },
  "language_info": {
   "codemirror_mode": {
    "name": "ipython",
    "version": 3
   },
   "file_extension": ".py",
   "mimetype": "text/x-python",
   "name": "python",
   "nbconvert_exporter": "python",
   "pygments_lexer": "ipython3",
   "version": "3.13.7"
  }
 },
 "nbformat": 4,
 "nbformat_minor": 5
}
