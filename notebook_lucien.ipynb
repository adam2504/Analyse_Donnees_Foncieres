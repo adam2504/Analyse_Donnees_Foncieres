{
 "cells": [
  {
   "cell_type": "markdown",
   "id": "25dd84de",
   "metadata": {},
   "source": [
    "## 🎓 Persona : Léa, jeune investisseuse étudiante\n",
    "\n",
    "**Profil :**\n",
    "- 👩 24 ans, diplômée de l'EM Lyon\n",
    "- 💼 Première expérience professionnelle après 2 ans d'alternance\n",
    "- 💰 Aide parentale pour le financement + épargne personnelle (~15 000 €)\n",
    "- 🎯 Objectif : réaliser un **premier investissement locatif** dans une **ville étudiante dynamique**\n",
    "\n",
    "---\n",
    "\n",
    "### 💡 Objectif d'investissement\n",
    "> Trouver le **meilleur investissement locatif étudiant** possible avec un **budget global de 200 000 €**,  \n",
    "> en analysant la rentabilité brute dans les **principales villes étudiantes françaises** (studios et T1 ≤45m²)\n",
    "\n",
    "---\n",
    "\n",
    "### 💰 Hypothèses financières\n",
    "| Élément | Montant estimé |\n",
    "|----------|----------------|\n",
    "| Prix d'achat visé | 160 000 – 180 000 € |\n",
    "| Apport personnel | 15 000 € |\n",
    "| Prêt immobilier estimé | 180 000 € sur 20 ans |\n",
    "| Budget total (frais inclus) | **≈ 200 000 €** |\n",
    "| Objectif de rentabilité brute | **≥ 5 %** |\n",
    "\n",
    "---\n",
    "\n",
    "### 🔍 Besoins data de Léa\n",
    "- Évaluer le **taux de vacance locative** en France pour anticiper les périodes creuses (notamment l'été où les étudiants quittent les logements)\n",
    "- Visualiser les **villes à forte concentration étudiante** en France\n",
    "- Analyser l'**évolution du prix au m² à l'achat et des loyers étudiants** en France\n",
    "- Etudier **la rentabilité moyenne en France** en 2024\n",
    "- Analyser la **dynamique du marché immobilier local : croissance ou baisse des prix et loyers sur les 5 dernières années** (entre Rennes et Bordeaux)\n",
    "- Comparer **les quartiers les plus rentables (rentabilité brute)** à ?\n",
    "- Analyser la **localisation/nombre des transports en commun** pour identifier les zones les plus attractives pour les étudiants à ?\n",
    "- Analyser la **localisation des universités/grandes écoles** à ?\n",
    "- Analyser les **quartiers vivants (nombre de resto, bars, et supermarchés)** à ? \n",
    "- Fournir une **recommandation finale : \"où investir avec 200k€ ?\"**\n",
    "\n",
    "---\n",
    "\n",
    "### 🧭 Objectif du notebook\n",
    "Créer un outil interactif permettant à Léa de :\n",
    "1. Analyser la **rentabilité locative brute** pour appartements étudiants ≤45m² dans **23 grandes villes françaises**\n",
    "2. Explorer visuellement les **villes à forte concentration étudiante** et analyser les **taux de vacance locative**\n",
    "3. Obtenir un **classement des villes** par rentabilité, prix et loyers pour décider où investir avec 200k€"
   ]
  },
  {
   "cell_type": "markdown",
   "id": "8f9733a3",
   "metadata": {},
   "source": [
    "## 📚 Import des bibliothèques ##"
   ]
  },
  {
   "cell_type": "code",
<<<<<<< HEAD
   "execution_count": null,
   "id": "d672d6bb",
=======
   "execution_count": 51,
   "id": "f672a483",
>>>>>>> origin/Lucien
   "metadata": {},
   "outputs": [],
   "source": []
  },
  {
   "cell_type": "markdown",
   "id": "f672a483",
   "metadata": {},
   "source": [
    "# 2e vision : Analyse resserrée sur des villes #"
   ]
  },
  {
   "cell_type": "markdown",
   "id": "a0144df7",
   "metadata": {},
   "source": [
    "### Analyser la **dynamique du marché immobilier local : croissance ou baisse des prix et loyers sur les 5 dernières années** (entre Rennes et Bordeaux) ###"
   ]
  },
  {
   "cell_type": "code",
   "execution_count": 8,
   "id": "4c7db600",
   "metadata": {},
   "outputs": [
    {
     "name": "stdout",
     "output_type": "stream",
     "text": [
      "Partie Axel\n"
     ]
    }
   ],
   "source": [
    "print(\"Partie Axel\")"
   ]
  },
  {
   "cell_type": "markdown",
   "id": "be63e6ce",
   "metadata": {},
   "source": [
    "### Comparer **les quartiers les plus rentables (rentabilité brute)** à ? ###"
   ]
  },
  {
   "cell_type": "code",
   "execution_count": 9,
   "id": "30b7b390",
   "metadata": {},
   "outputs": [
    {
     "name": "stdout",
     "output_type": "stream",
     "text": [
      "Partie Lucien\n"
     ]
    }
   ],
   "source": [
    "print(\"Partie Lucien\")"
   ]
  },
  {
   "cell_type": "markdown",
   "id": "7da69d10",
   "metadata": {},
   "source": [
    "### Analyser la **localisation/nombre des transports en commun** pour identifier les zones les plus attractives pour les étudiants à ?  ###"
   ]
  },
  {
   "cell_type": "code",
   "execution_count": 12,
   "id": "878e55f3",
   "metadata": {},
   "outputs": [
    {
     "name": "stdout",
     "output_type": "stream",
     "text": [
      "Partie Valentine\n"
     ]
    }
   ],
   "source": [
    "print(\"Partie Valentine\")"
   ]
  },
  {
   "cell_type": "markdown",
   "id": "9b97c335",
   "metadata": {},
   "source": [
    "### Analyser la **localisation des universités/grandes écoles** à ? ###"
   ]
  },
  {
   "cell_type": "code",
<<<<<<< HEAD
   "execution_count": 11,
=======
   "execution_count": 52,
   "id": "549213c3",
   "metadata": {},
   "outputs": [],
   "source": [
    "BDD = \"https://huggingface.co/datasets/analysedonneesfoncieresdata/analyse_fonciere_data/resolve/main\""
   ]
  },
  {
   "cell_type": "markdown",
   "id": "831a5530",
   "metadata": {},
   "source": [
    "Lecture fichiers Excel"
   ]
  },
  {
   "cell_type": "code",
   "execution_count": 53,
>>>>>>> origin/Lucien
   "id": "7727e89b",
   "metadata": {},
   "outputs": [
    {
     "name": "stdout",
     "output_type": "stream",
     "text": [
<<<<<<< HEAD
      "Partie Adam\n"
=======
      "C:\\Users\\rivat\\AppData\\Local\\Temp\\ipykernel_16588\\1433042141.py:3: DtypeWarning:\n",
      "\n",
      "Columns (1,12,14,16,23,24) have mixed types. Specify dtype option on import or set low_memory=False.\n",
      "\n"
>>>>>>> origin/Lucien
     ]
    }
   ],
   "source": [
<<<<<<< HEAD
    "print(\"Partie Adam\")"
=======
    "df_vac = pd.read_excel(f\"{BDD}/insee_rp_hist_1968.xlsx\", header=1)\n",
    "df_pop = pd.read_excel(f\"{BDD}/POPULATION_MUNICIPALE_COMMUNES_FRANCE_lucien.xlsx\")\n",
    "df_communes = pd.read_csv(f\"{BDD}/communes-france-2025.csv\", sep=\",\")  # adapte le chemin si nécessaire"
   ]
  },
  {
   "cell_type": "code",
   "execution_count": 54,
   "id": "2a741682",
   "metadata": {},
   "outputs": [],
   "source": [
    "df_communes_coords = df_communes[[\n",
    "    \"code_insee\",       # code INSEE pour faire le merge\n",
    "    \"code_postal\",      # code postal\n",
    "    \"latitude_centre\",  # latitude du centre de la commune\n",
    "    \"longitude_centre\"  # longitude du centre de la commune\n",
    "]]"
>>>>>>> origin/Lucien
   ]
  },
  {
   "cell_type": "markdown",
   "id": "90516127",
   "metadata": {},
   "source": [
    "### Analyser les **quartiers vivants (nombre de resto, bars, et supermarchés)** à ? ###"
   ]
  },
  {
   "cell_type": "code",
<<<<<<< HEAD
   "execution_count": 10,
   "id": "26a86433",
=======
   "execution_count": 55,
   "id": "3812fbc2",
   "metadata": {},
   "outputs": [],
   "source": [
    "df_vac.columns = [\"code_commune\", \"nom_commune\", \"annee\", \"part_log_vacant\", \"col5\", \"col6\", \"col7\", \"col8\"]\n",
    "df_vac = df_vac[[\"code_commune\", \"nom_commune\", \"annee\", \"part_log_vacant\"]]\n",
    "\n",
    "df_pop.columns = [\"objectid\", \"reg\", \"dep\", \"cv\", \"codgeo\",\t\"libgeo\", \"p21_pop\"]\n",
    "\n",
    "df_vac = df_vac.dropna(subset=[\"part_log_vacant\"])\n",
    "df_vac[\"part_log_vacant\"] = pd.to_numeric(df_vac[\"part_log_vacant\"], errors=\"coerce\")\n",
    "df_vac = df_vac.dropna(subset=[\"part_log_vacant\"])\n",
    "\n",
    "df_pop[\"codgeo\"] = df_pop[\"codgeo\"].astype(str)\n",
    "df_vac[\"code_commune\"] = df_vac[\"code_commune\"].astype(str)"
   ]
  },
  {
   "cell_type": "markdown",
   "id": "521adc7d",
   "metadata": {},
   "source": [
    "Dataframe des villes de plus de 100 000 habitants classées dans l'ordre croissant par rapport au taux de logement vacant."
   ]
  },
  {
   "cell_type": "code",
   "execution_count": 56,
   "id": "f078d3ba",
>>>>>>> origin/Lucien
   "metadata": {},
   "outputs": [
    {
     "name": "stdout",
     "output_type": "stream",
     "text": [
<<<<<<< HEAD
      "Partie Adam et Valentine\n"
=======
      "C:\\Users\\rivat\\AppData\\Local\\Temp\\ipykernel_16588\\1603771164.py:12: SettingWithCopyWarning:\n",
      "\n",
      "\n",
      "A value is trying to be set on a copy of a slice from a DataFrame.\n",
      "Try using .loc[row_indexer,col_indexer] = value instead\n",
      "\n",
      "See the caveats in the documentation: https://pandas.pydata.org/pandas-docs/stable/user_guide/indexing.html#returning-a-view-versus-a-copy\n",
      "\n"
>>>>>>> origin/Lucien
     ]
    }
   ],
   "source": [
    "print(\"Partie Adam et Valentine\")"
   ]
<<<<<<< HEAD
=======
  },
  {
   "cell_type": "markdown",
   "id": "4b656875",
   "metadata": {},
   "source": [
    "Affichage sur la map"
   ]
  },
  {
   "cell_type": "code",
   "execution_count": 57,
   "id": "93021a23",
   "metadata": {},
   "outputs": [
    {
     "name": "stderr",
     "output_type": "stream",
     "text": [
      "C:\\Users\\rivat\\AppData\\Local\\Temp\\ipykernel_16588\\73503755.py:17: DeprecationWarning:\n",
      "\n",
      "*scatter_mapbox* is deprecated! Use *scatter_map* instead. Learn more at: https://plotly.com/python/mapbox-to-maplibre/\n",
      "\n"
     ]
    },
    {
     "data": {
      "application/vnd.plotly.v1+json": {
       "config": {
        "plotlyServerURL": "https://plot.ly"
       },
       "data": [
        {
         "customdata": {
          "bdata": "AAAAANQ+FUHNzMzMzMwpQAAAAAAAcLdAAAAAAACYn0AAAAAAsAACQc3MzMzMzCBAAAAAAACWyUAAAAAAAJifQAAAAACAavpAmpmZmZmZIUAAAAAAAFjLQAAAAAAAmJ9AAAAAAJBzA0EzMzMzMzMdQAAAAAAAgtRAAAAAAACYn0AAAAAA4Bn9QAAAAAAAACNAAAAAAABq2EAAAAAAAJifQAAAAAAYCwFBmpmZmZmZGUAAAAAAAITcQAAAAAAAmJ9AAAAAAEAUAkEzMzMzMzMlQAAAAAAALd5AAAAAAACYn0AAAAAAOMQeQWZmZmZmZiBAAAAAAABf3kAAAAAAAJifQAAAAABg9Q9BZmZmZmZmHEAAAAAAgELgQAAAAAAAmJ9AAAAAANh1EkHNzMzMzMwcQAAAAAAApOBAAAAAAACYn0AAAAAAyHkLQWZmZmZmZhpAAAAAAIBu4UAAAAAAAJifQAAAAADQzQBBAAAAAAAAJUAAAAAAgB3iQAAAAAAAmJ9AAAAAACg5A0GamZmZmZkqQAAAAAAAjuJAAAAAAACYn0AAAAAAcBUFQWZmZmZmZihAAAAAAICO5EAAAAAAAJifQAAAAAAQuhNBZmZmZmZmGEAAAAAAAJXlQAAAAAAAmJ9AAAAAAJB4/EAAAAAAAAAkQAAAAAAA+eVAAAAAAACYn0AAAAAAuC8DQQAAAAAAABhAAAAAAADt50AAAAAAAJifQAAAAACg5QVBAAAAAAAAI0AAAAAAgPPoQAAAAAAAmJ9AAAAAAEB0+UBmZmZmZmYnQAAAAACAaupAAAAAAACYn0AAAAAAoIL9QAAAAAAAACdAAAAAAMDd60AAAAAAAJifQAAAAAAw5QxBZmZmZmZmIEAAAAAAgO/sQAAAAAAAmJ9AAAAAAPj7AUEAAAAAAAAhQAAAAACAz+5AAAAAAACYn0AAAAAAgDb9QDMzMzMzMy5AAAAAAAAd8EAAAAAAAJifQAAAAADExxFBMzMzMzMzIUAAAAAAgFvwQAAAAAAAmJ9AAAAAAFD2+UBmZmZmZmYwQAAAAACApvBAAAAAAACYn0AAAAAAACgDQZqZmZmZmR9AAAAAAMDe8EAAAAAAAJifQAAAAABgswFBAAAAAAAAJEAAAAAAQJrxQAAAAAAAmJ9AAAAAABgUAEEzMzMzMzMdQAAAAAAAEfJAAAAAAACYn0AAAAAAUEUEQTMzMzMzMyVAAAAAAMC08kAAAAAAAJifQAAAAAAw2vtAZmZmZmZmI0AAAAAAQJTyQAAAAAAAmJ9AAAAAAMhPAEHNzMzMzMwiQAAAAACgjfNAAAAAAACYn0AAAAAAIAcGQTMzMzMzMwtAAAAAAIBD9EAAAAAAAJifQAAAAAAArv9AmpmZmZmZIUAAAAAAwEP1QAAAAAAAmJ9AAAAAAABA/UDNzMzMzMwaQAAAAABAfPZAAAAAAACYn0AAAAAA8DX7QM3MzMzMzBZAAAAAAMC69kAAAAAAAJifQAAAAABg0ftAZmZmZmZmGkAAAAAAoMH2QAAAAAAAmJ9AAAAAAFAt+kDNzMzMzMwYQAAAAADAN/dAAAAAAACYn0A=",
          "dtype": "f8",
          "shape": "37, 4"
         },
         "hovertemplate": "<b>%{hovertext}</b><br><br>part_log_vacant=%{marker.color}<br>latitude_centre=%{lat}<br>longitude_centre=%{lon}<br>p21_pop=%{customdata[0]}<br>code_postal=%{customdata[2]}<br>annee=%{customdata[3]}<extra></extra>",
         "hovertext": [
          "Nice",
          "Aix-en-Provence",
          "Caen",
          "Dijon",
          "Besançon",
          "Brest",
          "Nîmes",
          "Toulouse",
          "Bordeaux",
          "Montpellier",
          "Rennes",
          "Tours",
          "Grenoble",
          "Saint-Étienne",
          "Nantes",
          "Orléans",
          "Angers",
          "Reims",
          "Nancy",
          "Metz",
          "Lille",
          "Clermont-Ferrand",
          "Perpignan",
          "Strasbourg",
          "Mulhouse",
          "Villeurbanne",
          "Le Mans",
          "Annecy",
          "Le Havre",
          "Rouen",
          "Amiens",
          "Toulon",
          "Limoges",
          "Boulogne-Billancourt",
          "Montreuil",
          "Saint-Denis",
          "Argenteuil"
         ],
         "lat": {
          "bdata": "QmDl0CLbRUD4U+Olm8RFQEjhehSul0hA001iEFipR0BxPQrXo6BHQDMzMzMzM0hAXI/C9SjsRUA/NV66ScxFQARWDi2ybUZAWDm0yHbORUB1kxgEVg5IQFCNl24Ss0dAnu+nxkuXRkDXo3A9CrdGQARWDi2ynUdAGy/dJAbxR0CTGARWDr1HQMdLN4lBoEhAuB6F61FYSEDn+6nx0o1IQDeJQWDlUElA+FPjpZvkRkDwp8ZLN1lFQAwCK4cWSUhAHVpkO9/fR0Cmm8QgsOJGQFg5tMh2/kdANV66SQzyRkA5tMh2vr9IQJzEILByuEhAF9nO91PzSEDFILByaJFFQFpkO99P7UZAQmDl0CJrSEBYObTIdm5IQNejcD0Kd0hAfT81Xrp5SEA=",
          "dtype": "f8"
         },
         "legendgroup": "",
         "lon": {
          "bdata": "wcqhRbbzHEB/arx0k5gVQK5H4XoUrte/9P3UeOkmFEAUrkfhehQYQFCNl24SAxLAMQisHFpkEUC28/3UeOn2P5HtfD81XuK/i2zn+6nxDkC28/3UeOn6vxKDwMqhReY//Knx0k3iFkBqvHSTGIQRQPhT46WbxPi/Di2yne+n/j+YbhKDwMrhvylcj8L1KBBATmIQWDm0GEBiEFg5tMgYQPyp8dJNYghAIbByaJHtCED+1HjpJjEHQN9PjZduEh9A5/up8dJNHUBaZDvfT40TQJqZmZmZmck/Gy/dJAaBGEDsUbgehevBP7ByaJHtfPE/UrgehetRAkDufD81XroXQJZDi2zn+/M/tvP91HjpAUAv3SQGgZUDQKwcWmQ73wJAIbByaJHtAUA=",
          "dtype": "f8"
         },
         "marker": {
          "color": {
           "bdata": "zczMzMzMKUDNzMzMzMwgQJqZmZmZmSFAMzMzMzMzHUAAAAAAAAAjQJqZmZmZmRlAMzMzMzMzJUBmZmZmZmYgQGZmZmZmZhxAzczMzMzMHEBmZmZmZmYaQAAAAAAAACVAmpmZmZmZKkBmZmZmZmYoQGZmZmZmZhhAAAAAAAAAJEAAAAAAAAAYQAAAAAAAACNAZmZmZmZmJ0AAAAAAAAAnQGZmZmZmZiBAAAAAAAAAIUAzMzMzMzMuQDMzMzMzMyFAZmZmZmZmMECamZmZmZkfQAAAAAAAACRAMzMzMzMzHUAzMzMzMzMlQGZmZmZmZiNAzczMzMzMIkAzMzMzMzMLQJqZmZmZmSFAzczMzMzMGkDNzMzMzMwWQGZmZmZmZhpAzczMzMzMGEA=",
           "dtype": "f8"
          },
          "coloraxis": "coloraxis",
          "size": {
           "bdata": "zczMzMzMKUDNzMzMzMwgQJqZmZmZmSFAMzMzMzMzHUAAAAAAAAAjQJqZmZmZmRlAMzMzMzMzJUBmZmZmZmYgQGZmZmZmZhxAzczMzMzMHEBmZmZmZmYaQAAAAAAAACVAmpmZmZmZKkBmZmZmZmYoQGZmZmZmZhhAAAAAAAAAJEAAAAAAAAAYQAAAAAAAACNAZmZmZmZmJ0AAAAAAAAAnQGZmZmZmZiBAAAAAAAAAIUAzMzMzMzMuQDMzMzMzMyFAZmZmZmZmMECamZmZmZkfQAAAAAAAACRAMzMzMzMzHUAzMzMzMzMlQGZmZmZmZiNAzczMzMzMIkAzMzMzMzMLQJqZmZmZmSFAzczMzMzMGkDNzMzMzMwWQGZmZmZmZhpAzczMzMzMGEA=",
           "dtype": "f8"
          },
          "sizemode": "area",
          "sizeref": 0.040999999999999995
         },
         "mode": "markers",
         "name": "",
         "showlegend": false,
         "subplot": "mapbox",
         "type": "scattermapbox"
        }
       ],
       "layout": {
        "coloraxis": {
         "colorbar": {
          "title": {
           "text": "part_log_vacant"
          }
         },
         "colorscale": [
          [
           0,
           "rgb(255,247,236)"
          ],
          [
           0.125,
           "rgb(254,232,200)"
          ],
          [
           0.25,
           "rgb(253,212,158)"
          ],
          [
           0.375,
           "rgb(253,187,132)"
          ],
          [
           0.5,
           "rgb(252,141,89)"
          ],
          [
           0.625,
           "rgb(239,101,72)"
          ],
          [
           0.75,
           "rgb(215,48,31)"
          ],
          [
           0.875,
           "rgb(179,0,0)"
          ],
          [
           1,
           "rgb(127,0,0)"
          ]
         ]
        },
        "height": 500,
        "legend": {
         "itemsizing": "constant",
         "tracegroupgap": 0
        },
        "mapbox": {
         "center": {
          "lat": 47.015756756756765,
          "lon": 2.9350270270270267
         },
         "domain": {
          "x": [
           0,
           1
          ],
          "y": [
           0,
           1
          ]
         },
         "style": "open-street-map",
         "zoom": 5
        },
        "margin": {
         "b": 0,
         "l": 0,
         "r": 0,
         "t": 0
        },
        "template": {
         "data": {
          "bar": [
           {
            "error_x": {
             "color": "#2a3f5f"
            },
            "error_y": {
             "color": "#2a3f5f"
            },
            "marker": {
             "line": {
              "color": "#E5ECF6",
              "width": 0.5
             },
             "pattern": {
              "fillmode": "overlay",
              "size": 10,
              "solidity": 0.2
             }
            },
            "type": "bar"
           }
          ],
          "barpolar": [
           {
            "marker": {
             "line": {
              "color": "#E5ECF6",
              "width": 0.5
             },
             "pattern": {
              "fillmode": "overlay",
              "size": 10,
              "solidity": 0.2
             }
            },
            "type": "barpolar"
           }
          ],
          "carpet": [
           {
            "aaxis": {
             "endlinecolor": "#2a3f5f",
             "gridcolor": "white",
             "linecolor": "white",
             "minorgridcolor": "white",
             "startlinecolor": "#2a3f5f"
            },
            "baxis": {
             "endlinecolor": "#2a3f5f",
             "gridcolor": "white",
             "linecolor": "white",
             "minorgridcolor": "white",
             "startlinecolor": "#2a3f5f"
            },
            "type": "carpet"
           }
          ],
          "choropleth": [
           {
            "colorbar": {
             "outlinewidth": 0,
             "ticks": ""
            },
            "type": "choropleth"
           }
          ],
          "contour": [
           {
            "colorbar": {
             "outlinewidth": 0,
             "ticks": ""
            },
            "colorscale": [
             [
              0,
              "#0d0887"
             ],
             [
              0.1111111111111111,
              "#46039f"
             ],
             [
              0.2222222222222222,
              "#7201a8"
             ],
             [
              0.3333333333333333,
              "#9c179e"
             ],
             [
              0.4444444444444444,
              "#bd3786"
             ],
             [
              0.5555555555555556,
              "#d8576b"
             ],
             [
              0.6666666666666666,
              "#ed7953"
             ],
             [
              0.7777777777777778,
              "#fb9f3a"
             ],
             [
              0.8888888888888888,
              "#fdca26"
             ],
             [
              1,
              "#f0f921"
             ]
            ],
            "type": "contour"
           }
          ],
          "contourcarpet": [
           {
            "colorbar": {
             "outlinewidth": 0,
             "ticks": ""
            },
            "type": "contourcarpet"
           }
          ],
          "heatmap": [
           {
            "colorbar": {
             "outlinewidth": 0,
             "ticks": ""
            },
            "colorscale": [
             [
              0,
              "#0d0887"
             ],
             [
              0.1111111111111111,
              "#46039f"
             ],
             [
              0.2222222222222222,
              "#7201a8"
             ],
             [
              0.3333333333333333,
              "#9c179e"
             ],
             [
              0.4444444444444444,
              "#bd3786"
             ],
             [
              0.5555555555555556,
              "#d8576b"
             ],
             [
              0.6666666666666666,
              "#ed7953"
             ],
             [
              0.7777777777777778,
              "#fb9f3a"
             ],
             [
              0.8888888888888888,
              "#fdca26"
             ],
             [
              1,
              "#f0f921"
             ]
            ],
            "type": "heatmap"
           }
          ],
          "histogram": [
           {
            "marker": {
             "pattern": {
              "fillmode": "overlay",
              "size": 10,
              "solidity": 0.2
             }
            },
            "type": "histogram"
           }
          ],
          "histogram2d": [
           {
            "colorbar": {
             "outlinewidth": 0,
             "ticks": ""
            },
            "colorscale": [
             [
              0,
              "#0d0887"
             ],
             [
              0.1111111111111111,
              "#46039f"
             ],
             [
              0.2222222222222222,
              "#7201a8"
             ],
             [
              0.3333333333333333,
              "#9c179e"
             ],
             [
              0.4444444444444444,
              "#bd3786"
             ],
             [
              0.5555555555555556,
              "#d8576b"
             ],
             [
              0.6666666666666666,
              "#ed7953"
             ],
             [
              0.7777777777777778,
              "#fb9f3a"
             ],
             [
              0.8888888888888888,
              "#fdca26"
             ],
             [
              1,
              "#f0f921"
             ]
            ],
            "type": "histogram2d"
           }
          ],
          "histogram2dcontour": [
           {
            "colorbar": {
             "outlinewidth": 0,
             "ticks": ""
            },
            "colorscale": [
             [
              0,
              "#0d0887"
             ],
             [
              0.1111111111111111,
              "#46039f"
             ],
             [
              0.2222222222222222,
              "#7201a8"
             ],
             [
              0.3333333333333333,
              "#9c179e"
             ],
             [
              0.4444444444444444,
              "#bd3786"
             ],
             [
              0.5555555555555556,
              "#d8576b"
             ],
             [
              0.6666666666666666,
              "#ed7953"
             ],
             [
              0.7777777777777778,
              "#fb9f3a"
             ],
             [
              0.8888888888888888,
              "#fdca26"
             ],
             [
              1,
              "#f0f921"
             ]
            ],
            "type": "histogram2dcontour"
           }
          ],
          "mesh3d": [
           {
            "colorbar": {
             "outlinewidth": 0,
             "ticks": ""
            },
            "type": "mesh3d"
           }
          ],
          "parcoords": [
           {
            "line": {
             "colorbar": {
              "outlinewidth": 0,
              "ticks": ""
             }
            },
            "type": "parcoords"
           }
          ],
          "pie": [
           {
            "automargin": true,
            "type": "pie"
           }
          ],
          "scatter": [
           {
            "fillpattern": {
             "fillmode": "overlay",
             "size": 10,
             "solidity": 0.2
            },
            "type": "scatter"
           }
          ],
          "scatter3d": [
           {
            "line": {
             "colorbar": {
              "outlinewidth": 0,
              "ticks": ""
             }
            },
            "marker": {
             "colorbar": {
              "outlinewidth": 0,
              "ticks": ""
             }
            },
            "type": "scatter3d"
           }
          ],
          "scattercarpet": [
           {
            "marker": {
             "colorbar": {
              "outlinewidth": 0,
              "ticks": ""
             }
            },
            "type": "scattercarpet"
           }
          ],
          "scattergeo": [
           {
            "marker": {
             "colorbar": {
              "outlinewidth": 0,
              "ticks": ""
             }
            },
            "type": "scattergeo"
           }
          ],
          "scattergl": [
           {
            "marker": {
             "colorbar": {
              "outlinewidth": 0,
              "ticks": ""
             }
            },
            "type": "scattergl"
           }
          ],
          "scattermap": [
           {
            "marker": {
             "colorbar": {
              "outlinewidth": 0,
              "ticks": ""
             }
            },
            "type": "scattermap"
           }
          ],
          "scattermapbox": [
           {
            "marker": {
             "colorbar": {
              "outlinewidth": 0,
              "ticks": ""
             }
            },
            "type": "scattermapbox"
           }
          ],
          "scatterpolar": [
           {
            "marker": {
             "colorbar": {
              "outlinewidth": 0,
              "ticks": ""
             }
            },
            "type": "scatterpolar"
           }
          ],
          "scatterpolargl": [
           {
            "marker": {
             "colorbar": {
              "outlinewidth": 0,
              "ticks": ""
             }
            },
            "type": "scatterpolargl"
           }
          ],
          "scatterternary": [
           {
            "marker": {
             "colorbar": {
              "outlinewidth": 0,
              "ticks": ""
             }
            },
            "type": "scatterternary"
           }
          ],
          "surface": [
           {
            "colorbar": {
             "outlinewidth": 0,
             "ticks": ""
            },
            "colorscale": [
             [
              0,
              "#0d0887"
             ],
             [
              0.1111111111111111,
              "#46039f"
             ],
             [
              0.2222222222222222,
              "#7201a8"
             ],
             [
              0.3333333333333333,
              "#9c179e"
             ],
             [
              0.4444444444444444,
              "#bd3786"
             ],
             [
              0.5555555555555556,
              "#d8576b"
             ],
             [
              0.6666666666666666,
              "#ed7953"
             ],
             [
              0.7777777777777778,
              "#fb9f3a"
             ],
             [
              0.8888888888888888,
              "#fdca26"
             ],
             [
              1,
              "#f0f921"
             ]
            ],
            "type": "surface"
           }
          ],
          "table": [
           {
            "cells": {
             "fill": {
              "color": "#EBF0F8"
             },
             "line": {
              "color": "white"
             }
            },
            "header": {
             "fill": {
              "color": "#C8D4E3"
             },
             "line": {
              "color": "white"
             }
            },
            "type": "table"
           }
          ]
         },
         "layout": {
          "annotationdefaults": {
           "arrowcolor": "#2a3f5f",
           "arrowhead": 0,
           "arrowwidth": 1
          },
          "autotypenumbers": "strict",
          "coloraxis": {
           "colorbar": {
            "outlinewidth": 0,
            "ticks": ""
           }
          },
          "colorscale": {
           "diverging": [
            [
             0,
             "#8e0152"
            ],
            [
             0.1,
             "#c51b7d"
            ],
            [
             0.2,
             "#de77ae"
            ],
            [
             0.3,
             "#f1b6da"
            ],
            [
             0.4,
             "#fde0ef"
            ],
            [
             0.5,
             "#f7f7f7"
            ],
            [
             0.6,
             "#e6f5d0"
            ],
            [
             0.7,
             "#b8e186"
            ],
            [
             0.8,
             "#7fbc41"
            ],
            [
             0.9,
             "#4d9221"
            ],
            [
             1,
             "#276419"
            ]
           ],
           "sequential": [
            [
             0,
             "#0d0887"
            ],
            [
             0.1111111111111111,
             "#46039f"
            ],
            [
             0.2222222222222222,
             "#7201a8"
            ],
            [
             0.3333333333333333,
             "#9c179e"
            ],
            [
             0.4444444444444444,
             "#bd3786"
            ],
            [
             0.5555555555555556,
             "#d8576b"
            ],
            [
             0.6666666666666666,
             "#ed7953"
            ],
            [
             0.7777777777777778,
             "#fb9f3a"
            ],
            [
             0.8888888888888888,
             "#fdca26"
            ],
            [
             1,
             "#f0f921"
            ]
           ],
           "sequentialminus": [
            [
             0,
             "#0d0887"
            ],
            [
             0.1111111111111111,
             "#46039f"
            ],
            [
             0.2222222222222222,
             "#7201a8"
            ],
            [
             0.3333333333333333,
             "#9c179e"
            ],
            [
             0.4444444444444444,
             "#bd3786"
            ],
            [
             0.5555555555555556,
             "#d8576b"
            ],
            [
             0.6666666666666666,
             "#ed7953"
            ],
            [
             0.7777777777777778,
             "#fb9f3a"
            ],
            [
             0.8888888888888888,
             "#fdca26"
            ],
            [
             1,
             "#f0f921"
            ]
           ]
          },
          "colorway": [
           "#636efa",
           "#EF553B",
           "#00cc96",
           "#ab63fa",
           "#FFA15A",
           "#19d3f3",
           "#FF6692",
           "#B6E880",
           "#FF97FF",
           "#FECB52"
          ],
          "font": {
           "color": "#2a3f5f"
          },
          "geo": {
           "bgcolor": "white",
           "lakecolor": "white",
           "landcolor": "#E5ECF6",
           "showlakes": true,
           "showland": true,
           "subunitcolor": "white"
          },
          "hoverlabel": {
           "align": "left"
          },
          "hovermode": "closest",
          "mapbox": {
           "style": "light"
          },
          "paper_bgcolor": "white",
          "plot_bgcolor": "#E5ECF6",
          "polar": {
           "angularaxis": {
            "gridcolor": "white",
            "linecolor": "white",
            "ticks": ""
           },
           "bgcolor": "#E5ECF6",
           "radialaxis": {
            "gridcolor": "white",
            "linecolor": "white",
            "ticks": ""
           }
          },
          "scene": {
           "xaxis": {
            "backgroundcolor": "#E5ECF6",
            "gridcolor": "white",
            "gridwidth": 2,
            "linecolor": "white",
            "showbackground": true,
            "ticks": "",
            "zerolinecolor": "white"
           },
           "yaxis": {
            "backgroundcolor": "#E5ECF6",
            "gridcolor": "white",
            "gridwidth": 2,
            "linecolor": "white",
            "showbackground": true,
            "ticks": "",
            "zerolinecolor": "white"
           },
           "zaxis": {
            "backgroundcolor": "#E5ECF6",
            "gridcolor": "white",
            "gridwidth": 2,
            "linecolor": "white",
            "showbackground": true,
            "ticks": "",
            "zerolinecolor": "white"
           }
          },
          "shapedefaults": {
           "line": {
            "color": "#2a3f5f"
           }
          },
          "ternary": {
           "aaxis": {
            "gridcolor": "white",
            "linecolor": "white",
            "ticks": ""
           },
           "baxis": {
            "gridcolor": "white",
            "linecolor": "white",
            "ticks": ""
           },
           "bgcolor": "#E5ECF6",
           "caxis": {
            "gridcolor": "white",
            "linecolor": "white",
            "ticks": ""
           }
          },
          "title": {
           "x": 0.05
          },
          "xaxis": {
           "automargin": true,
           "gridcolor": "white",
           "linecolor": "white",
           "ticks": "",
           "title": {
            "standoff": 15
           },
           "zerolinecolor": "white",
           "zerolinewidth": 2
          },
          "yaxis": {
           "automargin": true,
           "gridcolor": "white",
           "linecolor": "white",
           "ticks": "",
           "title": {
            "standoff": 15
           },
           "zerolinecolor": "white",
           "zerolinewidth": 2
          }
         }
        }
       }
      }
     },
     "metadata": {},
     "output_type": "display_data"
    },
    {
     "data": {
      "application/vnd.plotly.v1+json": {
       "config": {
        "plotlyServerURL": "https://plot.ly"
       },
       "data": [
        {
         "customdata": {
          "bdata": "AAAAACAHBkEAAAAAgEP0QAAAAAAAmJ9AAAAAAPA1+0AAAAAAwLr2QAAAAAAAmJ9AAAAAALgvA0EAAAAAAO3nQAAAAAAAmJ9AAAAAABC6E0EAAAAAAJXlQAAAAAAAmJ9AAAAAAFAt+kAAAAAAwDf3QAAAAAAAmJ9AAAAAABgLAUEAAAAAAITcQAAAAAAAmJ9AAAAAAGDR+0AAAAAAoMH2QAAAAAAAmJ9AAAAAAMh5C0EAAAAAgG7hQAAAAAAAmJ9AAAAAAABA/UAAAAAAQHz2QAAAAAAAmJ9AAAAAAGD1D0EAAAAAgELgQAAAAAAAmJ9AAAAAANh1EkEAAAAAAKTgQAAAAAAAmJ9AAAAAABgUAEEAAAAAABHyQAAAAAAAmJ9AAAAAAJBzA0EAAAAAAILUQAAAAAAAmJ9AAAAAAAAoA0EAAAAAwN7wQAAAAAAAmJ9AAAAAADjEHkEAAAAAAF/eQAAAAAAAmJ9AAAAAADDlDEEAAAAAgO/sQAAAAAAAmJ9AAAAAALAAAkEAAAAAAJbJQAAAAAAAmJ9AAAAAAPj7AUEAAAAAgM/uQAAAAAAAmJ9AAAAAAMTHEUEAAAAAgFvwQAAAAAAAmJ9AAAAAAIBq+kAAAAAAAFjLQAAAAAAAmJ9A",
          "dtype": "f8",
          "shape": "20, 3"
         },
         "hovertemplate": "Commune=%{x}<br>Taux logements vacants=%{marker.color}<br>p21_pop=%{customdata[0]}<br>code_postal=%{customdata[1]}<br>annee=%{customdata[2]}<extra></extra>",
         "legendgroup": "",
         "marker": {
          "color": {
           "bdata": "MzMzMzMzC0DNzMzMzMwWQAAAAAAAABhAZmZmZmZmGEDNzMzMzMwYQJqZmZmZmRlAZmZmZmZmGkBmZmZmZmYaQM3MzMzMzBpAZmZmZmZmHEDNzMzMzMwcQDMzMzMzMx1AMzMzMzMzHUCamZmZmZkfQGZmZmZmZiBAZmZmZmZmIEDNzMzMzMwgQAAAAAAAACFAMzMzMzMzIUCamZmZmZkhQA==",
           "dtype": "f8"
          },
          "coloraxis": "coloraxis",
          "pattern": {
           "shape": ""
          }
         },
         "name": "",
         "orientation": "v",
         "showlegend": false,
         "text": {
          "bdata": "MzMzMzMzC0DNzMzMzMwWQAAAAAAAABhAZmZmZmZmGEDNzMzMzMwYQJqZmZmZmRlAZmZmZmZmGkBmZmZmZmYaQM3MzMzMzBpAZmZmZmZmHEDNzMzMzMwcQDMzMzMzMx1AMzMzMzMzHUCamZmZmZkfQGZmZmZmZiBAZmZmZmZmIEDNzMzMzMwgQAAAAAAAACFAMzMzMzMzIUCamZmZmZkhQA==",
          "dtype": "f8"
         },
         "textposition": "outside",
         "texttemplate": "%{text:.2f}",
         "type": "bar",
         "x": [
          "Toulon",
          "Montreuil",
          "Angers",
          "Nantes",
          "Argenteuil",
          "Brest",
          "Saint-Denis",
          "Rennes",
          "Boulogne-Billancourt",
          "Bordeaux",
          "Montpellier",
          "Annecy",
          "Dijon",
          "Villeurbanne",
          "Toulouse",
          "Lille",
          "Aix-en-Provence",
          "Clermont-Ferrand",
          "Strasbourg",
          "Caen"
         ],
         "xaxis": "x",
         "y": {
          "bdata": "MzMzMzMzC0DNzMzMzMwWQAAAAAAAABhAZmZmZmZmGEDNzMzMzMwYQJqZmZmZmRlAZmZmZmZmGkBmZmZmZmYaQM3MzMzMzBpAZmZmZmZmHEDNzMzMzMwcQDMzMzMzMx1AMzMzMzMzHUCamZmZmZkfQGZmZmZmZiBAZmZmZmZmIEDNzMzMzMwgQAAAAAAAACFAMzMzMzMzIUCamZmZmZkhQA==",
          "dtype": "f8"
         },
         "yaxis": "y"
        }
       ],
       "layout": {
        "barmode": "relative",
        "coloraxis": {
         "colorbar": {
          "title": {
           "text": "Taux logements vacants"
          }
         },
         "colorscale": [
          [
           0,
           "rgb(247,251,255)"
          ],
          [
           0.125,
           "rgb(222,235,247)"
          ],
          [
           0.25,
           "rgb(198,219,239)"
          ],
          [
           0.375,
           "rgb(158,202,225)"
          ],
          [
           0.5,
           "rgb(107,174,214)"
          ],
          [
           0.625,
           "rgb(66,146,198)"
          ],
          [
           0.75,
           "rgb(33,113,181)"
          ],
          [
           0.875,
           "rgb(8,81,156)"
          ],
          [
           1,
           "rgb(8,48,107)"
          ]
         ]
        },
        "height": 600,
        "legend": {
         "tracegroupgap": 0
        },
        "template": {
         "data": {
          "bar": [
           {
            "error_x": {
             "color": "#2a3f5f"
            },
            "error_y": {
             "color": "#2a3f5f"
            },
            "marker": {
             "line": {
              "color": "#E5ECF6",
              "width": 0.5
             },
             "pattern": {
              "fillmode": "overlay",
              "size": 10,
              "solidity": 0.2
             }
            },
            "type": "bar"
           }
          ],
          "barpolar": [
           {
            "marker": {
             "line": {
              "color": "#E5ECF6",
              "width": 0.5
             },
             "pattern": {
              "fillmode": "overlay",
              "size": 10,
              "solidity": 0.2
             }
            },
            "type": "barpolar"
           }
          ],
          "carpet": [
           {
            "aaxis": {
             "endlinecolor": "#2a3f5f",
             "gridcolor": "white",
             "linecolor": "white",
             "minorgridcolor": "white",
             "startlinecolor": "#2a3f5f"
            },
            "baxis": {
             "endlinecolor": "#2a3f5f",
             "gridcolor": "white",
             "linecolor": "white",
             "minorgridcolor": "white",
             "startlinecolor": "#2a3f5f"
            },
            "type": "carpet"
           }
          ],
          "choropleth": [
           {
            "colorbar": {
             "outlinewidth": 0,
             "ticks": ""
            },
            "type": "choropleth"
           }
          ],
          "contour": [
           {
            "colorbar": {
             "outlinewidth": 0,
             "ticks": ""
            },
            "colorscale": [
             [
              0,
              "#0d0887"
             ],
             [
              0.1111111111111111,
              "#46039f"
             ],
             [
              0.2222222222222222,
              "#7201a8"
             ],
             [
              0.3333333333333333,
              "#9c179e"
             ],
             [
              0.4444444444444444,
              "#bd3786"
             ],
             [
              0.5555555555555556,
              "#d8576b"
             ],
             [
              0.6666666666666666,
              "#ed7953"
             ],
             [
              0.7777777777777778,
              "#fb9f3a"
             ],
             [
              0.8888888888888888,
              "#fdca26"
             ],
             [
              1,
              "#f0f921"
             ]
            ],
            "type": "contour"
           }
          ],
          "contourcarpet": [
           {
            "colorbar": {
             "outlinewidth": 0,
             "ticks": ""
            },
            "type": "contourcarpet"
           }
          ],
          "heatmap": [
           {
            "colorbar": {
             "outlinewidth": 0,
             "ticks": ""
            },
            "colorscale": [
             [
              0,
              "#0d0887"
             ],
             [
              0.1111111111111111,
              "#46039f"
             ],
             [
              0.2222222222222222,
              "#7201a8"
             ],
             [
              0.3333333333333333,
              "#9c179e"
             ],
             [
              0.4444444444444444,
              "#bd3786"
             ],
             [
              0.5555555555555556,
              "#d8576b"
             ],
             [
              0.6666666666666666,
              "#ed7953"
             ],
             [
              0.7777777777777778,
              "#fb9f3a"
             ],
             [
              0.8888888888888888,
              "#fdca26"
             ],
             [
              1,
              "#f0f921"
             ]
            ],
            "type": "heatmap"
           }
          ],
          "histogram": [
           {
            "marker": {
             "pattern": {
              "fillmode": "overlay",
              "size": 10,
              "solidity": 0.2
             }
            },
            "type": "histogram"
           }
          ],
          "histogram2d": [
           {
            "colorbar": {
             "outlinewidth": 0,
             "ticks": ""
            },
            "colorscale": [
             [
              0,
              "#0d0887"
             ],
             [
              0.1111111111111111,
              "#46039f"
             ],
             [
              0.2222222222222222,
              "#7201a8"
             ],
             [
              0.3333333333333333,
              "#9c179e"
             ],
             [
              0.4444444444444444,
              "#bd3786"
             ],
             [
              0.5555555555555556,
              "#d8576b"
             ],
             [
              0.6666666666666666,
              "#ed7953"
             ],
             [
              0.7777777777777778,
              "#fb9f3a"
             ],
             [
              0.8888888888888888,
              "#fdca26"
             ],
             [
              1,
              "#f0f921"
             ]
            ],
            "type": "histogram2d"
           }
          ],
          "histogram2dcontour": [
           {
            "colorbar": {
             "outlinewidth": 0,
             "ticks": ""
            },
            "colorscale": [
             [
              0,
              "#0d0887"
             ],
             [
              0.1111111111111111,
              "#46039f"
             ],
             [
              0.2222222222222222,
              "#7201a8"
             ],
             [
              0.3333333333333333,
              "#9c179e"
             ],
             [
              0.4444444444444444,
              "#bd3786"
             ],
             [
              0.5555555555555556,
              "#d8576b"
             ],
             [
              0.6666666666666666,
              "#ed7953"
             ],
             [
              0.7777777777777778,
              "#fb9f3a"
             ],
             [
              0.8888888888888888,
              "#fdca26"
             ],
             [
              1,
              "#f0f921"
             ]
            ],
            "type": "histogram2dcontour"
           }
          ],
          "mesh3d": [
           {
            "colorbar": {
             "outlinewidth": 0,
             "ticks": ""
            },
            "type": "mesh3d"
           }
          ],
          "parcoords": [
           {
            "line": {
             "colorbar": {
              "outlinewidth": 0,
              "ticks": ""
             }
            },
            "type": "parcoords"
           }
          ],
          "pie": [
           {
            "automargin": true,
            "type": "pie"
           }
          ],
          "scatter": [
           {
            "fillpattern": {
             "fillmode": "overlay",
             "size": 10,
             "solidity": 0.2
            },
            "type": "scatter"
           }
          ],
          "scatter3d": [
           {
            "line": {
             "colorbar": {
              "outlinewidth": 0,
              "ticks": ""
             }
            },
            "marker": {
             "colorbar": {
              "outlinewidth": 0,
              "ticks": ""
             }
            },
            "type": "scatter3d"
           }
          ],
          "scattercarpet": [
           {
            "marker": {
             "colorbar": {
              "outlinewidth": 0,
              "ticks": ""
             }
            },
            "type": "scattercarpet"
           }
          ],
          "scattergeo": [
           {
            "marker": {
             "colorbar": {
              "outlinewidth": 0,
              "ticks": ""
             }
            },
            "type": "scattergeo"
           }
          ],
          "scattergl": [
           {
            "marker": {
             "colorbar": {
              "outlinewidth": 0,
              "ticks": ""
             }
            },
            "type": "scattergl"
           }
          ],
          "scattermap": [
           {
            "marker": {
             "colorbar": {
              "outlinewidth": 0,
              "ticks": ""
             }
            },
            "type": "scattermap"
           }
          ],
          "scattermapbox": [
           {
            "marker": {
             "colorbar": {
              "outlinewidth": 0,
              "ticks": ""
             }
            },
            "type": "scattermapbox"
           }
          ],
          "scatterpolar": [
           {
            "marker": {
             "colorbar": {
              "outlinewidth": 0,
              "ticks": ""
             }
            },
            "type": "scatterpolar"
           }
          ],
          "scatterpolargl": [
           {
            "marker": {
             "colorbar": {
              "outlinewidth": 0,
              "ticks": ""
             }
            },
            "type": "scatterpolargl"
           }
          ],
          "scatterternary": [
           {
            "marker": {
             "colorbar": {
              "outlinewidth": 0,
              "ticks": ""
             }
            },
            "type": "scatterternary"
           }
          ],
          "surface": [
           {
            "colorbar": {
             "outlinewidth": 0,
             "ticks": ""
            },
            "colorscale": [
             [
              0,
              "#0d0887"
             ],
             [
              0.1111111111111111,
              "#46039f"
             ],
             [
              0.2222222222222222,
              "#7201a8"
             ],
             [
              0.3333333333333333,
              "#9c179e"
             ],
             [
              0.4444444444444444,
              "#bd3786"
             ],
             [
              0.5555555555555556,
              "#d8576b"
             ],
             [
              0.6666666666666666,
              "#ed7953"
             ],
             [
              0.7777777777777778,
              "#fb9f3a"
             ],
             [
              0.8888888888888888,
              "#fdca26"
             ],
             [
              1,
              "#f0f921"
             ]
            ],
            "type": "surface"
           }
          ],
          "table": [
           {
            "cells": {
             "fill": {
              "color": "#EBF0F8"
             },
             "line": {
              "color": "white"
             }
            },
            "header": {
             "fill": {
              "color": "#C8D4E3"
             },
             "line": {
              "color": "white"
             }
            },
            "type": "table"
           }
          ]
         },
         "layout": {
          "annotationdefaults": {
           "arrowcolor": "#2a3f5f",
           "arrowhead": 0,
           "arrowwidth": 1
          },
          "autotypenumbers": "strict",
          "coloraxis": {
           "colorbar": {
            "outlinewidth": 0,
            "ticks": ""
           }
          },
          "colorscale": {
           "diverging": [
            [
             0,
             "#8e0152"
            ],
            [
             0.1,
             "#c51b7d"
            ],
            [
             0.2,
             "#de77ae"
            ],
            [
             0.3,
             "#f1b6da"
            ],
            [
             0.4,
             "#fde0ef"
            ],
            [
             0.5,
             "#f7f7f7"
            ],
            [
             0.6,
             "#e6f5d0"
            ],
            [
             0.7,
             "#b8e186"
            ],
            [
             0.8,
             "#7fbc41"
            ],
            [
             0.9,
             "#4d9221"
            ],
            [
             1,
             "#276419"
            ]
           ],
           "sequential": [
            [
             0,
             "#0d0887"
            ],
            [
             0.1111111111111111,
             "#46039f"
            ],
            [
             0.2222222222222222,
             "#7201a8"
            ],
            [
             0.3333333333333333,
             "#9c179e"
            ],
            [
             0.4444444444444444,
             "#bd3786"
            ],
            [
             0.5555555555555556,
             "#d8576b"
            ],
            [
             0.6666666666666666,
             "#ed7953"
            ],
            [
             0.7777777777777778,
             "#fb9f3a"
            ],
            [
             0.8888888888888888,
             "#fdca26"
            ],
            [
             1,
             "#f0f921"
            ]
           ],
           "sequentialminus": [
            [
             0,
             "#0d0887"
            ],
            [
             0.1111111111111111,
             "#46039f"
            ],
            [
             0.2222222222222222,
             "#7201a8"
            ],
            [
             0.3333333333333333,
             "#9c179e"
            ],
            [
             0.4444444444444444,
             "#bd3786"
            ],
            [
             0.5555555555555556,
             "#d8576b"
            ],
            [
             0.6666666666666666,
             "#ed7953"
            ],
            [
             0.7777777777777778,
             "#fb9f3a"
            ],
            [
             0.8888888888888888,
             "#fdca26"
            ],
            [
             1,
             "#f0f921"
            ]
           ]
          },
          "colorway": [
           "#636efa",
           "#EF553B",
           "#00cc96",
           "#ab63fa",
           "#FFA15A",
           "#19d3f3",
           "#FF6692",
           "#B6E880",
           "#FF97FF",
           "#FECB52"
          ],
          "font": {
           "color": "#2a3f5f"
          },
          "geo": {
           "bgcolor": "white",
           "lakecolor": "white",
           "landcolor": "#E5ECF6",
           "showlakes": true,
           "showland": true,
           "subunitcolor": "white"
          },
          "hoverlabel": {
           "align": "left"
          },
          "hovermode": "closest",
          "mapbox": {
           "style": "light"
          },
          "paper_bgcolor": "white",
          "plot_bgcolor": "#E5ECF6",
          "polar": {
           "angularaxis": {
            "gridcolor": "white",
            "linecolor": "white",
            "ticks": ""
           },
           "bgcolor": "#E5ECF6",
           "radialaxis": {
            "gridcolor": "white",
            "linecolor": "white",
            "ticks": ""
           }
          },
          "scene": {
           "xaxis": {
            "backgroundcolor": "#E5ECF6",
            "gridcolor": "white",
            "gridwidth": 2,
            "linecolor": "white",
            "showbackground": true,
            "ticks": "",
            "zerolinecolor": "white"
           },
           "yaxis": {
            "backgroundcolor": "#E5ECF6",
            "gridcolor": "white",
            "gridwidth": 2,
            "linecolor": "white",
            "showbackground": true,
            "ticks": "",
            "zerolinecolor": "white"
           },
           "zaxis": {
            "backgroundcolor": "#E5ECF6",
            "gridcolor": "white",
            "gridwidth": 2,
            "linecolor": "white",
            "showbackground": true,
            "ticks": "",
            "zerolinecolor": "white"
           }
          },
          "shapedefaults": {
           "line": {
            "color": "#2a3f5f"
           }
          },
          "ternary": {
           "aaxis": {
            "gridcolor": "white",
            "linecolor": "white",
            "ticks": ""
           },
           "baxis": {
            "gridcolor": "white",
            "linecolor": "white",
            "ticks": ""
           },
           "bgcolor": "#E5ECF6",
           "caxis": {
            "gridcolor": "white",
            "linecolor": "white",
            "ticks": ""
           }
          },
          "title": {
           "x": 0.05
          },
          "xaxis": {
           "automargin": true,
           "gridcolor": "white",
           "linecolor": "white",
           "ticks": "",
           "title": {
            "standoff": 15
           },
           "zerolinecolor": "white",
           "zerolinewidth": 2
          },
          "yaxis": {
           "automargin": true,
           "gridcolor": "white",
           "linecolor": "white",
           "ticks": "",
           "title": {
            "standoff": 15
           },
           "zerolinecolor": "white",
           "zerolinewidth": 2
          }
         }
        },
        "title": {
         "text": "Top 10 communes avec le plus petit taux de logements vacants"
        },
        "xaxis": {
         "anchor": "y",
         "domain": [
          0,
          1
         ],
         "title": {
          "text": "Commune"
         }
        },
        "yaxis": {
         "anchor": "x",
         "domain": [
          0,
          1
         ],
         "title": {
          "text": "Taux logements vacants"
         }
        }
       }
      }
     },
     "metadata": {},
     "output_type": "display_data"
    }
   ],
   "source": [
    "# --- Garder uniquement l'année la plus récente pour chaque commune ---\n",
    "df_vac_100k_recent = df_vac_100k.sort_values(\"annee\", ascending=False) \\\n",
    "                                 .groupby(\"code_commune\", as_index=False) \\\n",
    "                                 .first()  # prend la ligne la plus récente pour chaque commune\n",
    "\n",
    "# --- Merge avec les coordonnées ---\n",
    "df_vac_map = df_vac_100k_recent.merge(\n",
    "    df_communes_coords,\n",
    "    left_on=\"code_commune\",\n",
    "    right_on=\"code_insee\",\n",
    "    how=\"left\"\n",
    ").dropna(subset=[\"latitude_centre\", \"longitude_centre\"])\n",
    "\n",
    "# --- Affichage carte Plotly ---\n",
    "import plotly.express as px\n",
    "\n",
    "fig = px.scatter_mapbox(\n",
    "    df_vac_map,\n",
    "    lat=\"latitude_centre\",\n",
    "    lon=\"longitude_centre\",\n",
    "    size=\"part_log_vacant\",\n",
    "    color=\"part_log_vacant\",\n",
    "    hover_name=\"nom_commune\",\n",
    "    hover_data={\n",
    "        \"p21_pop\": True,\n",
    "        \"part_log_vacant\": True,\n",
    "        \"code_postal\": True,\n",
    "        \"annee\": True\n",
    "    },\n",
    "    zoom=5,\n",
    "    height=500,\n",
    "    color_continuous_scale=\"OrRd\"\n",
    ")\n",
    "# --- Top 10 communes avec le plus petit taux de logements vacants ---\n",
    "top10_low_vac = df_vac_map.sort_values(\"part_log_vacant\", ascending=True).head(20)\n",
    "\n",
    "# --- Histogramme ---\n",
    "fig_hist = px.bar(\n",
    "    top10_low_vac,\n",
    "    x=\"nom_commune\",\n",
    "    y=\"part_log_vacant\",\n",
    "    text=\"part_log_vacant\",\n",
    "    hover_data={\"p21_pop\": True, \"code_postal\": True, \"annee\": True},\n",
    "    labels={\"part_log_vacant\": \"Taux logements vacants\", \"nom_commune\": \"Commune\"},\n",
    "    title=\"Top 10 communes avec le plus petit taux de logements vacants\",\n",
    "    color=\"part_log_vacant\",\n",
    "    color_continuous_scale=\"Blues\",\n",
    "    height=600\n",
    ")\n",
    "\n",
    "fig.update_layout(mapbox_style=\"open-street-map\", margin={\"r\":0,\"t\":0,\"l\":0,\"b\":0})\n",
    "fig.show()\n",
    "\n",
    "fig_hist.update_traces(texttemplate='%{text:.2f}', textposition='outside')\n",
    "fig_hist.show()"
   ]
  },
  {
   "cell_type": "markdown",
   "id": "4a1eacfe",
   "metadata": {},
   "source": [
    "Etude rentabilité par quartier à Rennes"
   ]
  },
  {
   "cell_type": "code",
   "execution_count": 58,
   "id": "5ad7b818",
   "metadata": {},
   "outputs": [
    {
     "data": {
      "text/html": [
       "<div>\n",
       "<style scoped>\n",
       "    .dataframe tbody tr th:only-of-type {\n",
       "        vertical-align: middle;\n",
       "    }\n",
       "\n",
       "    .dataframe tbody tr th {\n",
       "        vertical-align: top;\n",
       "    }\n",
       "\n",
       "    .dataframe thead th {\n",
       "        text-align: right;\n",
       "    }\n",
       "</style>\n",
       "<table border=\"1\" class=\"dataframe\">\n",
       "  <thead>\n",
       "    <tr style=\"text-align: right;\">\n",
       "      <th></th>\n",
       "      <th>Observatory</th>\n",
       "      <th>Data_year</th>\n",
       "      <th>agglomeration</th>\n",
       "      <th>Zone_calcul</th>\n",
       "      <th>Zone_complementaire</th>\n",
       "      <th>Type_habitat</th>\n",
       "      <th>epoque_construction_local</th>\n",
       "      <th>epoque_construction_homogene</th>\n",
       "      <th>anciennete_locataire_local</th>\n",
       "      <th>anciennete_locataire_homogene</th>\n",
       "      <th>...</th>\n",
       "      <th>loyer_mensuel_1_decile</th>\n",
       "      <th>loyer_mensuel_1_quartile</th>\n",
       "      <th>loyer_mensuel_median</th>\n",
       "      <th>loyer_mensuel_3_quartile</th>\n",
       "      <th>loyer_mensuel_9_decile</th>\n",
       "      <th>moyenne_loyer_mensuel</th>\n",
       "      <th>surface_moyenne</th>\n",
       "      <th>nombre_observations</th>\n",
       "      <th>nombre_logements</th>\n",
       "      <th>methodologie_production</th>\n",
       "    </tr>\n",
       "  </thead>\n",
       "  <tbody>\n",
       "    <tr>\n",
       "      <th>0</th>\n",
       "      <td>B3500</td>\n",
       "      <td>2024</td>\n",
       "      <td>L3500</td>\n",
       "      <td>NaN</td>\n",
       "      <td>NaN</td>\n",
       "      <td>NaN</td>\n",
       "      <td>NaN</td>\n",
       "      <td>NaN</td>\n",
       "      <td>NaN</td>\n",
       "      <td>NaN</td>\n",
       "      <td>...</td>\n",
       "      <td>420.0</td>\n",
       "      <td>500.0</td>\n",
       "      <td>595.0</td>\n",
       "      <td>740.0</td>\n",
       "      <td>936.0</td>\n",
       "      <td>650.0</td>\n",
       "      <td>57.0</td>\n",
       "      <td>16763.0</td>\n",
       "      <td>60909.0</td>\n",
       "      <td>Estimation directe</td>\n",
       "    </tr>\n",
       "    <tr>\n",
       "      <th>1</th>\n",
       "      <td>B3500</td>\n",
       "      <td>2024</td>\n",
       "      <td>L3500</td>\n",
       "      <td>NaN</td>\n",
       "      <td>NaN</td>\n",
       "      <td>NaN</td>\n",
       "      <td>NaN</td>\n",
       "      <td>NaN</td>\n",
       "      <td>NaN</td>\n",
       "      <td>NaN</td>\n",
       "      <td>...</td>\n",
       "      <td>480.0</td>\n",
       "      <td>505.0</td>\n",
       "      <td>600.0</td>\n",
       "      <td>750.0</td>\n",
       "      <td>960.0</td>\n",
       "      <td>653.0</td>\n",
       "      <td>61.0</td>\n",
       "      <td>130.0</td>\n",
       "      <td>1412.0</td>\n",
       "      <td>Estimation directe</td>\n",
       "    </tr>\n",
       "    <tr>\n",
       "      <th>2</th>\n",
       "      <td>B3500</td>\n",
       "      <td>2024</td>\n",
       "      <td>L3500</td>\n",
       "      <td>NaN</td>\n",
       "      <td>NaN</td>\n",
       "      <td>NaN</td>\n",
       "      <td>NaN</td>\n",
       "      <td>NaN</td>\n",
       "      <td>NaN</td>\n",
       "      <td>NaN</td>\n",
       "      <td>...</td>\n",
       "      <td>665.0</td>\n",
       "      <td>770.0</td>\n",
       "      <td>869.0</td>\n",
       "      <td>1066.0</td>\n",
       "      <td>1300.0</td>\n",
       "      <td>954.0</td>\n",
       "      <td>97.0</td>\n",
       "      <td>2065.0</td>\n",
       "      <td>13602.0</td>\n",
       "      <td>Estimation directe</td>\n",
       "    </tr>\n",
       "    <tr>\n",
       "      <th>3</th>\n",
       "      <td>B3500</td>\n",
       "      <td>2024</td>\n",
       "      <td>L3500</td>\n",
       "      <td>NaN</td>\n",
       "      <td>NaN</td>\n",
       "      <td>NaN</td>\n",
       "      <td>NaN</td>\n",
       "      <td>NaN</td>\n",
       "      <td>NaN</td>\n",
       "      <td>NaN</td>\n",
       "      <td>...</td>\n",
       "      <td>733.0</td>\n",
       "      <td>825.0</td>\n",
       "      <td>994.0</td>\n",
       "      <td>1177.0</td>\n",
       "      <td>1400.0</td>\n",
       "      <td>1030.0</td>\n",
       "      <td>110.0</td>\n",
       "      <td>704.0</td>\n",
       "      <td>6113.0</td>\n",
       "      <td>Estimation directe</td>\n",
       "    </tr>\n",
       "    <tr>\n",
       "      <th>4</th>\n",
       "      <td>B3500</td>\n",
       "      <td>2024</td>\n",
       "      <td>L3500</td>\n",
       "      <td>NaN</td>\n",
       "      <td>NaN</td>\n",
       "      <td>NaN</td>\n",
       "      <td>NaN</td>\n",
       "      <td>NaN</td>\n",
       "      <td>NaN</td>\n",
       "      <td>NaN</td>\n",
       "      <td>...</td>\n",
       "      <td>342.0</td>\n",
       "      <td>385.0</td>\n",
       "      <td>425.0</td>\n",
       "      <td>475.0</td>\n",
       "      <td>520.0</td>\n",
       "      <td>428.0</td>\n",
       "      <td>26.0</td>\n",
       "      <td>3190.0</td>\n",
       "      <td>10072.0</td>\n",
       "      <td>Estimation directe</td>\n",
       "    </tr>\n",
       "  </tbody>\n",
       "</table>\n",
       "<p>5 rows × 28 columns</p>\n",
       "</div>"
      ],
      "text/plain": [
       "  Observatory  Data_year agglomeration Zone_calcul Zone_complementaire  \\\n",
       "0       B3500       2024         L3500         NaN                 NaN   \n",
       "1       B3500       2024         L3500         NaN                 NaN   \n",
       "2       B3500       2024         L3500         NaN                 NaN   \n",
       "3       B3500       2024         L3500         NaN                 NaN   \n",
       "4       B3500       2024         L3500         NaN                 NaN   \n",
       "\n",
       "  Type_habitat epoque_construction_local epoque_construction_homogene  \\\n",
       "0          NaN                       NaN                          NaN   \n",
       "1          NaN                       NaN                          NaN   \n",
       "2          NaN                       NaN                          NaN   \n",
       "3          NaN                       NaN                          NaN   \n",
       "4          NaN                       NaN                          NaN   \n",
       "\n",
       "  anciennete_locataire_local anciennete_locataire_homogene  ...  \\\n",
       "0                        NaN                           NaN  ...   \n",
       "1                        NaN                           NaN  ...   \n",
       "2                        NaN                           NaN  ...   \n",
       "3                        NaN                           NaN  ...   \n",
       "4                        NaN                           NaN  ...   \n",
       "\n",
       "  loyer_mensuel_1_decile loyer_mensuel_1_quartile loyer_mensuel_median  \\\n",
       "0                  420.0                    500.0                595.0   \n",
       "1                  480.0                    505.0                600.0   \n",
       "2                  665.0                    770.0                869.0   \n",
       "3                  733.0                    825.0                994.0   \n",
       "4                  342.0                    385.0                425.0   \n",
       "\n",
       "  loyer_mensuel_3_quartile loyer_mensuel_9_decile moyenne_loyer_mensuel  \\\n",
       "0                    740.0                  936.0                 650.0   \n",
       "1                    750.0                  960.0                 653.0   \n",
       "2                   1066.0                 1300.0                 954.0   \n",
       "3                   1177.0                 1400.0                1030.0   \n",
       "4                    475.0                  520.0                 428.0   \n",
       "\n",
       "  surface_moyenne nombre_observations  nombre_logements  \\\n",
       "0            57.0             16763.0           60909.0   \n",
       "1            61.0               130.0            1412.0   \n",
       "2            97.0              2065.0           13602.0   \n",
       "3           110.0               704.0            6113.0   \n",
       "4            26.0              3190.0           10072.0   \n",
       "\n",
       "   methodologie_production  \n",
       "0       Estimation directe  \n",
       "1       Estimation directe  \n",
       "2       Estimation directe  \n",
       "3       Estimation directe  \n",
       "4       Estimation directe  \n",
       "\n",
       "[5 rows x 28 columns]"
      ]
     },
     "metadata": {},
     "output_type": "display_data"
    },
    {
     "data": {
      "text/html": [
       "<div>\n",
       "<style scoped>\n",
       "    .dataframe tbody tr th:only-of-type {\n",
       "        vertical-align: middle;\n",
       "    }\n",
       "\n",
       "    .dataframe tbody tr th {\n",
       "        vertical-align: top;\n",
       "    }\n",
       "\n",
       "    .dataframe thead th {\n",
       "        text-align: right;\n",
       "    }\n",
       "</style>\n",
       "<table border=\"1\" class=\"dataframe\">\n",
       "  <thead>\n",
       "    <tr style=\"text-align: right;\">\n",
       "      <th></th>\n",
       "      <th>Quartier</th>\n",
       "      <th>Type de bien</th>\n",
       "      <th>Statut</th>\n",
       "      <th>Nb de pièces</th>\n",
       "      <th>Surface (m²)</th>\n",
       "      <th>Prix au m² (€)</th>\n",
       "      <th>Prix total estimé (€)</th>\n",
       "    </tr>\n",
       "  </thead>\n",
       "  <tbody>\n",
       "    <tr>\n",
       "      <th>0</th>\n",
       "      <td>Thabor-Saint Helier</td>\n",
       "      <td>Appartement</td>\n",
       "      <td>ancien</td>\n",
       "      <td>1</td>\n",
       "      <td>30</td>\n",
       "      <td>4327</td>\n",
       "      <td>129810</td>\n",
       "    </tr>\n",
       "    <tr>\n",
       "      <th>1</th>\n",
       "      <td>Thabor-Saint Helier</td>\n",
       "      <td>Appartement</td>\n",
       "      <td>neuf</td>\n",
       "      <td>1</td>\n",
       "      <td>30</td>\n",
       "      <td>5897</td>\n",
       "      <td>176910</td>\n",
       "    </tr>\n",
       "    <tr>\n",
       "      <th>2</th>\n",
       "      <td>Thabor-Saint Helier</td>\n",
       "      <td>Appartement</td>\n",
       "      <td>ancien</td>\n",
       "      <td>2</td>\n",
       "      <td>45</td>\n",
       "      <td>4327</td>\n",
       "      <td>194715</td>\n",
       "    </tr>\n",
       "    <tr>\n",
       "      <th>3</th>\n",
       "      <td>Thabor-Saint Helier</td>\n",
       "      <td>Appartement</td>\n",
       "      <td>neuf</td>\n",
       "      <td>2</td>\n",
       "      <td>45</td>\n",
       "      <td>5897</td>\n",
       "      <td>265365</td>\n",
       "    </tr>\n",
       "    <tr>\n",
       "      <th>4</th>\n",
       "      <td>Thabor-Saint Helier</td>\n",
       "      <td>Appartement</td>\n",
       "      <td>ancien</td>\n",
       "      <td>3</td>\n",
       "      <td>65</td>\n",
       "      <td>4327</td>\n",
       "      <td>281255</td>\n",
       "    </tr>\n",
       "    <tr>\n",
       "      <th>...</th>\n",
       "      <td>...</td>\n",
       "      <td>...</td>\n",
       "      <td>...</td>\n",
       "      <td>...</td>\n",
       "      <td>...</td>\n",
       "      <td>...</td>\n",
       "      <td>...</td>\n",
       "    </tr>\n",
       "    <tr>\n",
       "      <th>163</th>\n",
       "      <td>Le Blosne</td>\n",
       "      <td>Maison</td>\n",
       "      <td>neuf</td>\n",
       "      <td>3</td>\n",
       "      <td>90</td>\n",
       "      <td>2734</td>\n",
       "      <td>246060</td>\n",
       "    </tr>\n",
       "    <tr>\n",
       "      <th>164</th>\n",
       "      <td>Le Blosne</td>\n",
       "      <td>Maison</td>\n",
       "      <td>ancien</td>\n",
       "      <td>4</td>\n",
       "      <td>110</td>\n",
       "      <td>2006</td>\n",
       "      <td>220660</td>\n",
       "    </tr>\n",
       "    <tr>\n",
       "      <th>165</th>\n",
       "      <td>Le Blosne</td>\n",
       "      <td>Maison</td>\n",
       "      <td>neuf</td>\n",
       "      <td>4</td>\n",
       "      <td>110</td>\n",
       "      <td>2734</td>\n",
       "      <td>300740</td>\n",
       "    </tr>\n",
       "    <tr>\n",
       "      <th>166</th>\n",
       "      <td>Le Blosne</td>\n",
       "      <td>Maison</td>\n",
       "      <td>ancien</td>\n",
       "      <td>5</td>\n",
       "      <td>130</td>\n",
       "      <td>2006</td>\n",
       "      <td>260780</td>\n",
       "    </tr>\n",
       "    <tr>\n",
       "      <th>167</th>\n",
       "      <td>Le Blosne</td>\n",
       "      <td>Maison</td>\n",
       "      <td>neuf</td>\n",
       "      <td>5</td>\n",
       "      <td>130</td>\n",
       "      <td>2734</td>\n",
       "      <td>355420</td>\n",
       "    </tr>\n",
       "  </tbody>\n",
       "</table>\n",
       "<p>168 rows × 7 columns</p>\n",
       "</div>"
      ],
      "text/plain": [
       "                Quartier Type de bien  Statut  Nb de pièces  Surface (m²)  \\\n",
       "0    Thabor-Saint Helier  Appartement  ancien             1            30   \n",
       "1    Thabor-Saint Helier  Appartement    neuf             1            30   \n",
       "2    Thabor-Saint Helier  Appartement  ancien             2            45   \n",
       "3    Thabor-Saint Helier  Appartement    neuf             2            45   \n",
       "4    Thabor-Saint Helier  Appartement  ancien             3            65   \n",
       "..                   ...          ...     ...           ...           ...   \n",
       "163            Le Blosne       Maison    neuf             3            90   \n",
       "164            Le Blosne       Maison  ancien             4           110   \n",
       "165            Le Blosne       Maison    neuf             4           110   \n",
       "166            Le Blosne       Maison  ancien             5           130   \n",
       "167            Le Blosne       Maison    neuf             5           130   \n",
       "\n",
       "     Prix au m² (€)  Prix total estimé (€)  \n",
       "0              4327                 129810  \n",
       "1              5897                 176910  \n",
       "2              4327                 194715  \n",
       "3              5897                 265365  \n",
       "4              4327                 281255  \n",
       "..              ...                    ...  \n",
       "163            2734                 246060  \n",
       "164            2006                 220660  \n",
       "165            2734                 300740  \n",
       "166            2006                 260780  \n",
       "167            2734                 355420  \n",
       "\n",
       "[168 rows x 7 columns]"
      ]
     },
     "metadata": {},
     "output_type": "display_data"
    }
   ],
   "source": [
    "import requests, zipfile, io\n",
    "df = pd.read_csv(f\"{BDD}/rennes_quartiers.csv.txt\", sep=\",\")\n",
    "r = requests.get(f\"{BDD}/data_loyer.zip\")\n",
    "z = zipfile.ZipFile(io.BytesIO(r.content))\n",
    "fichier_csv = 'data_loyer/Base_OP_2024_L3500_Rennes.csv'\n",
    "df2 = pd.read_csv(z.open(fichier_csv), encoding=\"latin-1\", sep=\";\")\n",
    "df2.columns = df2.columns.str.strip()\n",
    "df.columns = df.columns.str.strip()\n",
    "display(df2.head())\n",
    "display(df)"
   ]
  },
  {
   "cell_type": "code",
   "execution_count": 59,
   "id": "c30cc949",
   "metadata": {},
   "outputs": [],
   "source": [
    "df['Nb de pièces'] = df['Nb de pièces'].astype(int)\n",
    "df['Surface (m²)'] = df['Surface (m²)'].astype(float)\n",
    "df['Prix au m² (€)'] = df['Prix au m² (€)'].astype(float)\n",
    "df['Prix total estimé (€)'] = df['Prix total estimé (€)'].astype(float)"
   ]
  },
  {
   "cell_type": "code",
   "execution_count": 60,
   "id": "2819b8dd",
   "metadata": {},
   "outputs": [],
   "source": [
    "df_etudiants = df[(df['Type de bien'] == 'Appartement') & (df['Surface (m²)'] < 50)]\n",
    "df2 = df2[((df2['Type_habitat'] == 'Appartement') | (df2['nombre_pieces_homogene'] == 'Appart 1P') | (df2['nombre_pieces_homogene'] == 'Appart 2P')) & (df2['surface_moyenne'] < 50)]"
   ]
  },
  {
   "cell_type": "code",
   "execution_count": 61,
   "id": "9fc45e7b",
   "metadata": {},
   "outputs": [],
   "source": [
    "df2 = df2.sort_values(by=\"moyenne_loyer_mensuel\")\n",
    "df2 = df2[df2['nombre_logements'].notna() & (df2['nombre_logements'] != 0)]"
   ]
  },
  {
   "cell_type": "code",
   "execution_count": 63,
   "id": "950a9034",
   "metadata": {},
   "outputs": [
    {
     "data": {
      "text/plain": [
       "Quartier\n",
       "Inconnu                87\n",
       "Centre                 33\n",
       "Thabor-Saint Helier    32\n",
       "Maurepas-Patton        20\n",
       "Nord Saint Martin      18\n",
       "Atalante Beaulieu       7\n",
       "Name: count, dtype: int64"
      ]
     },
     "metadata": {},
     "output_type": "display_data"
    }
   ],
   "source": [
    "mapping_zones = {\n",
    "    \"L3500.1.01\": \"Centre\",\n",
    "    \"L3500.1.02\": \"Thabor-Saint Helier\",\n",
    "    \"L3500.1.04\": \"Nord Saint Martin\",\n",
    "    \"L3500.1.05\": \"Maurepas-Patton\",\n",
    "    \"L3500.1.06\": \"Atalante Beaulieu\",\n",
    "    \"L3500.1.08\": \"Sud Gare\",\n",
    "    \"L3500.1.09\": \"Cleunay-Arsenal Redon\",\n",
    "    \"L3500.1.10\": \"Villejean-Beauregard\",\n",
    "    \"L3500.1.11\": \"Le Blosne\",\n",
    "    \"L3500.1.12\": \"Bréquigny\"\n",
    "}\n",
    "\n",
    "df2[\"Quartier\"] = df2[\"Zone_calcul\"].map(mapping_zones).fillna(\"Inconnu\")\n",
    "display(df2[\"Quartier\"].value_counts(dropna=False))\n",
    "df_etudiants = df_etudiants.rename(columns={\n",
    "    \"Type de bien\": \"Type_habitat\",\n",
    "    \"Surface (m²)\": \"surface_moyenne\",\n",
    "    \"Prix au m² (€)\": \"Prix_m2\",\n",
    "    \"Prix total estimé (€)\": \"Prix_total\"\n",
    "})"
   ]
  },
  {
   "cell_type": "code",
   "execution_count": 64,
   "id": "3257620f",
   "metadata": {},
   "outputs": [
    {
     "data": {
      "text/html": [
       "<div>\n",
       "<style scoped>\n",
       "    .dataframe tbody tr th:only-of-type {\n",
       "        vertical-align: middle;\n",
       "    }\n",
       "\n",
       "    .dataframe tbody tr th {\n",
       "        vertical-align: top;\n",
       "    }\n",
       "\n",
       "    .dataframe thead th {\n",
       "        text-align: right;\n",
       "    }\n",
       "</style>\n",
       "<table border=\"1\" class=\"dataframe\">\n",
       "  <thead>\n",
       "    <tr style=\"text-align: right;\">\n",
       "      <th></th>\n",
       "      <th>Observatory</th>\n",
       "      <th>Data_year</th>\n",
       "      <th>agglomeration</th>\n",
       "      <th>Zone_calcul</th>\n",
       "      <th>Zone_complementaire</th>\n",
       "      <th>Type_habitat</th>\n",
       "      <th>epoque_construction_local</th>\n",
       "      <th>epoque_construction_homogene</th>\n",
       "      <th>anciennete_locataire_local</th>\n",
       "      <th>anciennete_locataire_homogene</th>\n",
       "      <th>...</th>\n",
       "      <th>loyer_mensuel_1_quartile</th>\n",
       "      <th>loyer_mensuel_median</th>\n",
       "      <th>loyer_mensuel_3_quartile</th>\n",
       "      <th>loyer_mensuel_9_decile</th>\n",
       "      <th>moyenne_loyer_mensuel</th>\n",
       "      <th>surface_moyenne</th>\n",
       "      <th>nombre_observations</th>\n",
       "      <th>nombre_logements</th>\n",
       "      <th>methodologie_production</th>\n",
       "      <th>Quartier</th>\n",
       "    </tr>\n",
       "  </thead>\n",
       "  <tbody>\n",
       "    <tr>\n",
       "      <th>1524</th>\n",
       "      <td>B3500</td>\n",
       "      <td>2024</td>\n",
       "      <td>L3500</td>\n",
       "      <td>L3500.1.03</td>\n",
       "      <td>NaN</td>\n",
       "      <td>Appartement</td>\n",
       "      <td>NaN</td>\n",
       "      <td>2. Entre 1946-1970</td>\n",
       "      <td>NaN</td>\n",
       "      <td>NaN</td>\n",
       "      <td>...</td>\n",
       "      <td>348.0</td>\n",
       "      <td>393.0</td>\n",
       "      <td>414.0</td>\n",
       "      <td>422.0</td>\n",
       "      <td>379.0</td>\n",
       "      <td>26.0</td>\n",
       "      <td>55.0</td>\n",
       "      <td>140.0</td>\n",
       "      <td>Estimation directe</td>\n",
       "      <td>Inconnu</td>\n",
       "    </tr>\n",
       "    <tr>\n",
       "      <th>1559</th>\n",
       "      <td>B3500</td>\n",
       "      <td>2024</td>\n",
       "      <td>L3500</td>\n",
       "      <td>L3500.1.03</td>\n",
       "      <td>NaN</td>\n",
       "      <td>Appartement</td>\n",
       "      <td>2. Entre 1946-1970</td>\n",
       "      <td>NaN</td>\n",
       "      <td>NaN</td>\n",
       "      <td>NaN</td>\n",
       "      <td>...</td>\n",
       "      <td>348.0</td>\n",
       "      <td>393.0</td>\n",
       "      <td>414.0</td>\n",
       "      <td>422.0</td>\n",
       "      <td>379.0</td>\n",
       "      <td>26.0</td>\n",
       "      <td>55.0</td>\n",
       "      <td>140.0</td>\n",
       "      <td>Estimation directe</td>\n",
       "      <td>Inconnu</td>\n",
       "    </tr>\n",
       "    <tr>\n",
       "      <th>1545</th>\n",
       "      <td>B3500</td>\n",
       "      <td>2024</td>\n",
       "      <td>L3500</td>\n",
       "      <td>L3500.1.03</td>\n",
       "      <td>NaN</td>\n",
       "      <td>Appartement</td>\n",
       "      <td>NaN</td>\n",
       "      <td>5. Après 2005</td>\n",
       "      <td>NaN</td>\n",
       "      <td>NaN</td>\n",
       "      <td>...</td>\n",
       "      <td>316.0</td>\n",
       "      <td>384.0</td>\n",
       "      <td>419.0</td>\n",
       "      <td>469.0</td>\n",
       "      <td>382.0</td>\n",
       "      <td>27.0</td>\n",
       "      <td>222.0</td>\n",
       "      <td>513.0</td>\n",
       "      <td>Estimation directe</td>\n",
       "      <td>Inconnu</td>\n",
       "    </tr>\n",
       "    <tr>\n",
       "      <th>1580</th>\n",
       "      <td>B3500</td>\n",
       "      <td>2024</td>\n",
       "      <td>L3500</td>\n",
       "      <td>L3500.1.03</td>\n",
       "      <td>NaN</td>\n",
       "      <td>Appartement</td>\n",
       "      <td>5. Après 2005</td>\n",
       "      <td>NaN</td>\n",
       "      <td>NaN</td>\n",
       "      <td>NaN</td>\n",
       "      <td>...</td>\n",
       "      <td>316.0</td>\n",
       "      <td>384.0</td>\n",
       "      <td>419.0</td>\n",
       "      <td>469.0</td>\n",
       "      <td>382.0</td>\n",
       "      <td>27.0</td>\n",
       "      <td>222.0</td>\n",
       "      <td>513.0</td>\n",
       "      <td>Estimation directe</td>\n",
       "      <td>Inconnu</td>\n",
       "    </tr>\n",
       "    <tr>\n",
       "      <th>543</th>\n",
       "      <td>B3500</td>\n",
       "      <td>2024</td>\n",
       "      <td>L3500</td>\n",
       "      <td>NaN</td>\n",
       "      <td>L3500.1</td>\n",
       "      <td>Appartement</td>\n",
       "      <td>2. Entre 1946-1970</td>\n",
       "      <td>NaN</td>\n",
       "      <td>NaN</td>\n",
       "      <td>NaN</td>\n",
       "      <td>...</td>\n",
       "      <td>348.0</td>\n",
       "      <td>402.0</td>\n",
       "      <td>441.0</td>\n",
       "      <td>500.0</td>\n",
       "      <td>403.0</td>\n",
       "      <td>25.0</td>\n",
       "      <td>311.0</td>\n",
       "      <td>1176.0</td>\n",
       "      <td>Estimation directe</td>\n",
       "      <td>Inconnu</td>\n",
       "    </tr>\n",
       "    <tr>\n",
       "      <th>508</th>\n",
       "      <td>B3500</td>\n",
       "      <td>2024</td>\n",
       "      <td>L3500</td>\n",
       "      <td>NaN</td>\n",
       "      <td>L3500.1</td>\n",
       "      <td>Appartement</td>\n",
       "      <td>NaN</td>\n",
       "      <td>2. Entre 1946-1970</td>\n",
       "      <td>NaN</td>\n",
       "      <td>NaN</td>\n",
       "      <td>...</td>\n",
       "      <td>348.0</td>\n",
       "      <td>402.0</td>\n",
       "      <td>441.0</td>\n",
       "      <td>500.0</td>\n",
       "      <td>403.0</td>\n",
       "      <td>25.0</td>\n",
       "      <td>311.0</td>\n",
       "      <td>1176.0</td>\n",
       "      <td>Estimation directe</td>\n",
       "      <td>Inconnu</td>\n",
       "    </tr>\n",
       "    <tr>\n",
       "      <th>258</th>\n",
       "      <td>B3500</td>\n",
       "      <td>2024</td>\n",
       "      <td>L3500</td>\n",
       "      <td>NaN</td>\n",
       "      <td>NaN</td>\n",
       "      <td>Appartement</td>\n",
       "      <td>2. Entre 1946-1970</td>\n",
       "      <td>NaN</td>\n",
       "      <td>NaN</td>\n",
       "      <td>NaN</td>\n",
       "      <td>...</td>\n",
       "      <td>348.0</td>\n",
       "      <td>402.0</td>\n",
       "      <td>441.0</td>\n",
       "      <td>500.0</td>\n",
       "      <td>403.0</td>\n",
       "      <td>25.0</td>\n",
       "      <td>311.0</td>\n",
       "      <td>1266.0</td>\n",
       "      <td>Estimation directe</td>\n",
       "      <td>Inconnu</td>\n",
       "    </tr>\n",
       "    <tr>\n",
       "      <th>223</th>\n",
       "      <td>B3500</td>\n",
       "      <td>2024</td>\n",
       "      <td>L3500</td>\n",
       "      <td>NaN</td>\n",
       "      <td>NaN</td>\n",
       "      <td>Appartement</td>\n",
       "      <td>NaN</td>\n",
       "      <td>2. Entre 1946-1970</td>\n",
       "      <td>NaN</td>\n",
       "      <td>NaN</td>\n",
       "      <td>...</td>\n",
       "      <td>348.0</td>\n",
       "      <td>402.0</td>\n",
       "      <td>441.0</td>\n",
       "      <td>500.0</td>\n",
       "      <td>403.0</td>\n",
       "      <td>25.0</td>\n",
       "      <td>311.0</td>\n",
       "      <td>1266.0</td>\n",
       "      <td>Estimation directe</td>\n",
       "      <td>Inconnu</td>\n",
       "    </tr>\n",
       "    <tr>\n",
       "      <th>1488</th>\n",
       "      <td>B3500</td>\n",
       "      <td>2024</td>\n",
       "      <td>L3500</td>\n",
       "      <td>L3500.1.03</td>\n",
       "      <td>NaN</td>\n",
       "      <td>Appartement</td>\n",
       "      <td>NaN</td>\n",
       "      <td>NaN</td>\n",
       "      <td>NaN</td>\n",
       "      <td>NaN</td>\n",
       "      <td>...</td>\n",
       "      <td>371.0</td>\n",
       "      <td>399.0</td>\n",
       "      <td>445.0</td>\n",
       "      <td>490.0</td>\n",
       "      <td>404.0</td>\n",
       "      <td>25.0</td>\n",
       "      <td>577.0</td>\n",
       "      <td>1817.0</td>\n",
       "      <td>Estimation directe</td>\n",
       "      <td>Inconnu</td>\n",
       "    </tr>\n",
       "    <tr>\n",
       "      <th>1307</th>\n",
       "      <td>B3500</td>\n",
       "      <td>2024</td>\n",
       "      <td>L3500</td>\n",
       "      <td>L3500.1.03</td>\n",
       "      <td>NaN</td>\n",
       "      <td>NaN</td>\n",
       "      <td>NaN</td>\n",
       "      <td>NaN</td>\n",
       "      <td>NaN</td>\n",
       "      <td>NaN</td>\n",
       "      <td>...</td>\n",
       "      <td>371.0</td>\n",
       "      <td>399.0</td>\n",
       "      <td>445.0</td>\n",
       "      <td>490.0</td>\n",
       "      <td>404.0</td>\n",
       "      <td>25.0</td>\n",
       "      <td>577.0</td>\n",
       "      <td>1817.0</td>\n",
       "      <td>Estimation directe</td>\n",
       "      <td>Inconnu</td>\n",
       "    </tr>\n",
       "  </tbody>\n",
       "</table>\n",
       "<p>10 rows × 29 columns</p>\n",
       "</div>"
      ],
      "text/plain": [
       "     Observatory  Data_year agglomeration Zone_calcul Zone_complementaire  \\\n",
       "1524       B3500       2024         L3500  L3500.1.03                 NaN   \n",
       "1559       B3500       2024         L3500  L3500.1.03                 NaN   \n",
       "1545       B3500       2024         L3500  L3500.1.03                 NaN   \n",
       "1580       B3500       2024         L3500  L3500.1.03                 NaN   \n",
       "543        B3500       2024         L3500         NaN             L3500.1   \n",
       "508        B3500       2024         L3500         NaN             L3500.1   \n",
       "258        B3500       2024         L3500         NaN                 NaN   \n",
       "223        B3500       2024         L3500         NaN                 NaN   \n",
       "1488       B3500       2024         L3500  L3500.1.03                 NaN   \n",
       "1307       B3500       2024         L3500  L3500.1.03                 NaN   \n",
       "\n",
       "     Type_habitat epoque_construction_local epoque_construction_homogene  \\\n",
       "1524  Appartement                       NaN           2. Entre 1946-1970   \n",
       "1559  Appartement        2. Entre 1946-1970                          NaN   \n",
       "1545  Appartement                       NaN                5. Après 2005   \n",
       "1580  Appartement             5. Après 2005                          NaN   \n",
       "543   Appartement        2. Entre 1946-1970                          NaN   \n",
       "508   Appartement                       NaN           2. Entre 1946-1970   \n",
       "258   Appartement        2. Entre 1946-1970                          NaN   \n",
       "223   Appartement                       NaN           2. Entre 1946-1970   \n",
       "1488  Appartement                       NaN                          NaN   \n",
       "1307          NaN                       NaN                          NaN   \n",
       "\n",
       "     anciennete_locataire_local anciennete_locataire_homogene  ...  \\\n",
       "1524                        NaN                           NaN  ...   \n",
       "1559                        NaN                           NaN  ...   \n",
       "1545                        NaN                           NaN  ...   \n",
       "1580                        NaN                           NaN  ...   \n",
       "543                         NaN                           NaN  ...   \n",
       "508                         NaN                           NaN  ...   \n",
       "258                         NaN                           NaN  ...   \n",
       "223                         NaN                           NaN  ...   \n",
       "1488                        NaN                           NaN  ...   \n",
       "1307                        NaN                           NaN  ...   \n",
       "\n",
       "     loyer_mensuel_1_quartile loyer_mensuel_median loyer_mensuel_3_quartile  \\\n",
       "1524                    348.0                393.0                    414.0   \n",
       "1559                    348.0                393.0                    414.0   \n",
       "1545                    316.0                384.0                    419.0   \n",
       "1580                    316.0                384.0                    419.0   \n",
       "543                     348.0                402.0                    441.0   \n",
       "508                     348.0                402.0                    441.0   \n",
       "258                     348.0                402.0                    441.0   \n",
       "223                     348.0                402.0                    441.0   \n",
       "1488                    371.0                399.0                    445.0   \n",
       "1307                    371.0                399.0                    445.0   \n",
       "\n",
       "     loyer_mensuel_9_decile moyenne_loyer_mensuel surface_moyenne  \\\n",
       "1524                  422.0                 379.0            26.0   \n",
       "1559                  422.0                 379.0            26.0   \n",
       "1545                  469.0                 382.0            27.0   \n",
       "1580                  469.0                 382.0            27.0   \n",
       "543                   500.0                 403.0            25.0   \n",
       "508                   500.0                 403.0            25.0   \n",
       "258                   500.0                 403.0            25.0   \n",
       "223                   500.0                 403.0            25.0   \n",
       "1488                  490.0                 404.0            25.0   \n",
       "1307                  490.0                 404.0            25.0   \n",
       "\n",
       "     nombre_observations nombre_logements  methodologie_production  Quartier  \n",
       "1524                55.0            140.0       Estimation directe   Inconnu  \n",
       "1559                55.0            140.0       Estimation directe   Inconnu  \n",
       "1545               222.0            513.0       Estimation directe   Inconnu  \n",
       "1580               222.0            513.0       Estimation directe   Inconnu  \n",
       "543                311.0           1176.0       Estimation directe   Inconnu  \n",
       "508                311.0           1176.0       Estimation directe   Inconnu  \n",
       "258                311.0           1266.0       Estimation directe   Inconnu  \n",
       "223                311.0           1266.0       Estimation directe   Inconnu  \n",
       "1488               577.0           1817.0       Estimation directe   Inconnu  \n",
       "1307               577.0           1817.0       Estimation directe   Inconnu  \n",
       "\n",
       "[10 rows x 29 columns]"
      ]
     },
     "metadata": {},
     "output_type": "display_data"
    },
    {
     "data": {
      "text/html": [
       "<div>\n",
       "<style scoped>\n",
       "    .dataframe tbody tr th:only-of-type {\n",
       "        vertical-align: middle;\n",
       "    }\n",
       "\n",
       "    .dataframe tbody tr th {\n",
       "        vertical-align: top;\n",
       "    }\n",
       "\n",
       "    .dataframe thead th {\n",
       "        text-align: right;\n",
       "    }\n",
       "</style>\n",
       "<table border=\"1\" class=\"dataframe\">\n",
       "  <thead>\n",
       "    <tr style=\"text-align: right;\">\n",
       "      <th></th>\n",
       "      <th>Quartier</th>\n",
       "      <th>Type_habitat</th>\n",
       "      <th>Statut</th>\n",
       "      <th>Nb de pièces</th>\n",
       "      <th>surface_moyenne</th>\n",
       "      <th>Prix_m2</th>\n",
       "      <th>Prix_total</th>\n",
       "    </tr>\n",
       "  </thead>\n",
       "  <tbody>\n",
       "    <tr>\n",
       "      <th>0</th>\n",
       "      <td>Thabor-Saint Helier</td>\n",
       "      <td>Appartement</td>\n",
       "      <td>ancien</td>\n",
       "      <td>1</td>\n",
       "      <td>30.0</td>\n",
       "      <td>4327.0</td>\n",
       "      <td>129810.0</td>\n",
       "    </tr>\n",
       "    <tr>\n",
       "      <th>1</th>\n",
       "      <td>Thabor-Saint Helier</td>\n",
       "      <td>Appartement</td>\n",
       "      <td>neuf</td>\n",
       "      <td>1</td>\n",
       "      <td>30.0</td>\n",
       "      <td>5897.0</td>\n",
       "      <td>176910.0</td>\n",
       "    </tr>\n",
       "    <tr>\n",
       "      <th>2</th>\n",
       "      <td>Thabor-Saint Helier</td>\n",
       "      <td>Appartement</td>\n",
       "      <td>ancien</td>\n",
       "      <td>2</td>\n",
       "      <td>45.0</td>\n",
       "      <td>4327.0</td>\n",
       "      <td>194715.0</td>\n",
       "    </tr>\n",
       "    <tr>\n",
       "      <th>3</th>\n",
       "      <td>Thabor-Saint Helier</td>\n",
       "      <td>Appartement</td>\n",
       "      <td>neuf</td>\n",
       "      <td>2</td>\n",
       "      <td>45.0</td>\n",
       "      <td>5897.0</td>\n",
       "      <td>265365.0</td>\n",
       "    </tr>\n",
       "    <tr>\n",
       "      <th>14</th>\n",
       "      <td>Atalante Beaulieu</td>\n",
       "      <td>Appartement</td>\n",
       "      <td>ancien</td>\n",
       "      <td>1</td>\n",
       "      <td>30.0</td>\n",
       "      <td>4063.0</td>\n",
       "      <td>121890.0</td>\n",
       "    </tr>\n",
       "    <tr>\n",
       "      <th>15</th>\n",
       "      <td>Atalante Beaulieu</td>\n",
       "      <td>Appartement</td>\n",
       "      <td>neuf</td>\n",
       "      <td>1</td>\n",
       "      <td>30.0</td>\n",
       "      <td>5536.0</td>\n",
       "      <td>166080.0</td>\n",
       "    </tr>\n",
       "    <tr>\n",
       "      <th>16</th>\n",
       "      <td>Atalante Beaulieu</td>\n",
       "      <td>Appartement</td>\n",
       "      <td>ancien</td>\n",
       "      <td>2</td>\n",
       "      <td>45.0</td>\n",
       "      <td>4063.0</td>\n",
       "      <td>182835.0</td>\n",
       "    </tr>\n",
       "    <tr>\n",
       "      <th>17</th>\n",
       "      <td>Atalante Beaulieu</td>\n",
       "      <td>Appartement</td>\n",
       "      <td>neuf</td>\n",
       "      <td>2</td>\n",
       "      <td>45.0</td>\n",
       "      <td>5536.0</td>\n",
       "      <td>249120.0</td>\n",
       "    </tr>\n",
       "    <tr>\n",
       "      <th>28</th>\n",
       "      <td>Centre</td>\n",
       "      <td>Appartement</td>\n",
       "      <td>ancien</td>\n",
       "      <td>1</td>\n",
       "      <td>30.0</td>\n",
       "      <td>3932.0</td>\n",
       "      <td>117960.0</td>\n",
       "    </tr>\n",
       "    <tr>\n",
       "      <th>29</th>\n",
       "      <td>Centre</td>\n",
       "      <td>Appartement</td>\n",
       "      <td>neuf</td>\n",
       "      <td>1</td>\n",
       "      <td>30.0</td>\n",
       "      <td>5357.0</td>\n",
       "      <td>160710.0</td>\n",
       "    </tr>\n",
       "  </tbody>\n",
       "</table>\n",
       "</div>"
      ],
      "text/plain": [
       "               Quartier Type_habitat  Statut  Nb de pièces  surface_moyenne  \\\n",
       "0   Thabor-Saint Helier  Appartement  ancien             1             30.0   \n",
       "1   Thabor-Saint Helier  Appartement    neuf             1             30.0   \n",
       "2   Thabor-Saint Helier  Appartement  ancien             2             45.0   \n",
       "3   Thabor-Saint Helier  Appartement    neuf             2             45.0   \n",
       "14    Atalante Beaulieu  Appartement  ancien             1             30.0   \n",
       "15    Atalante Beaulieu  Appartement    neuf             1             30.0   \n",
       "16    Atalante Beaulieu  Appartement  ancien             2             45.0   \n",
       "17    Atalante Beaulieu  Appartement    neuf             2             45.0   \n",
       "28               Centre  Appartement  ancien             1             30.0   \n",
       "29               Centre  Appartement    neuf             1             30.0   \n",
       "\n",
       "    Prix_m2  Prix_total  \n",
       "0    4327.0    129810.0  \n",
       "1    5897.0    176910.0  \n",
       "2    4327.0    194715.0  \n",
       "3    5897.0    265365.0  \n",
       "14   4063.0    121890.0  \n",
       "15   5536.0    166080.0  \n",
       "16   4063.0    182835.0  \n",
       "17   5536.0    249120.0  \n",
       "28   3932.0    117960.0  \n",
       "29   5357.0    160710.0  "
      ]
     },
     "metadata": {},
     "output_type": "display_data"
    }
   ],
   "source": [
    "display(df2.head(10))\n",
    "display(df_etudiants.head(10))"
   ]
  },
  {
   "cell_type": "code",
   "execution_count": 65,
   "id": "b5a99611",
   "metadata": {},
   "outputs": [
    {
     "data": {
      "text/html": [
       "<div>\n",
       "<style scoped>\n",
       "    .dataframe tbody tr th:only-of-type {\n",
       "        vertical-align: middle;\n",
       "    }\n",
       "\n",
       "    .dataframe tbody tr th {\n",
       "        vertical-align: top;\n",
       "    }\n",
       "\n",
       "    .dataframe thead th {\n",
       "        text-align: right;\n",
       "    }\n",
       "</style>\n",
       "<table border=\"1\" class=\"dataframe\">\n",
       "  <thead>\n",
       "    <tr style=\"text-align: right;\">\n",
       "      <th></th>\n",
       "      <th>Observatory</th>\n",
       "      <th>Data_year</th>\n",
       "      <th>agglomeration</th>\n",
       "      <th>Zone_calcul</th>\n",
       "      <th>Zone_complementaire</th>\n",
       "      <th>Type_habitat_x</th>\n",
       "      <th>epoque_construction_local</th>\n",
       "      <th>epoque_construction_homogene</th>\n",
       "      <th>anciennete_locataire_local</th>\n",
       "      <th>anciennete_locataire_homogene</th>\n",
       "      <th>...</th>\n",
       "      <th>surface_moyenne</th>\n",
       "      <th>nombre_observations</th>\n",
       "      <th>nombre_logements</th>\n",
       "      <th>methodologie_production</th>\n",
       "      <th>Quartier</th>\n",
       "      <th>Type_habitat_y</th>\n",
       "      <th>Statut</th>\n",
       "      <th>Nb de pièces</th>\n",
       "      <th>Prix_m2</th>\n",
       "      <th>Prix_total</th>\n",
       "    </tr>\n",
       "  </thead>\n",
       "  <tbody>\n",
       "    <tr>\n",
       "      <th>0</th>\n",
       "      <td>B3500</td>\n",
       "      <td>2024</td>\n",
       "      <td>L3500</td>\n",
       "      <td>L3500.1.03</td>\n",
       "      <td>NaN</td>\n",
       "      <td>Appartement</td>\n",
       "      <td>NaN</td>\n",
       "      <td>2. Entre 1946-1970</td>\n",
       "      <td>NaN</td>\n",
       "      <td>NaN</td>\n",
       "      <td>...</td>\n",
       "      <td>26.0</td>\n",
       "      <td>55.0</td>\n",
       "      <td>140.0</td>\n",
       "      <td>Estimation directe</td>\n",
       "      <td>Inconnu</td>\n",
       "      <td>NaN</td>\n",
       "      <td>NaN</td>\n",
       "      <td>NaN</td>\n",
       "      <td>NaN</td>\n",
       "      <td>NaN</td>\n",
       "    </tr>\n",
       "    <tr>\n",
       "      <th>1</th>\n",
       "      <td>B3500</td>\n",
       "      <td>2024</td>\n",
       "      <td>L3500</td>\n",
       "      <td>L3500.1.03</td>\n",
       "      <td>NaN</td>\n",
       "      <td>Appartement</td>\n",
       "      <td>2. Entre 1946-1970</td>\n",
       "      <td>NaN</td>\n",
       "      <td>NaN</td>\n",
       "      <td>NaN</td>\n",
       "      <td>...</td>\n",
       "      <td>26.0</td>\n",
       "      <td>55.0</td>\n",
       "      <td>140.0</td>\n",
       "      <td>Estimation directe</td>\n",
       "      <td>Inconnu</td>\n",
       "      <td>NaN</td>\n",
       "      <td>NaN</td>\n",
       "      <td>NaN</td>\n",
       "      <td>NaN</td>\n",
       "      <td>NaN</td>\n",
       "    </tr>\n",
       "    <tr>\n",
       "      <th>2</th>\n",
       "      <td>B3500</td>\n",
       "      <td>2024</td>\n",
       "      <td>L3500</td>\n",
       "      <td>L3500.1.03</td>\n",
       "      <td>NaN</td>\n",
       "      <td>Appartement</td>\n",
       "      <td>NaN</td>\n",
       "      <td>5. Après 2005</td>\n",
       "      <td>NaN</td>\n",
       "      <td>NaN</td>\n",
       "      <td>...</td>\n",
       "      <td>27.0</td>\n",
       "      <td>222.0</td>\n",
       "      <td>513.0</td>\n",
       "      <td>Estimation directe</td>\n",
       "      <td>Inconnu</td>\n",
       "      <td>NaN</td>\n",
       "      <td>NaN</td>\n",
       "      <td>NaN</td>\n",
       "      <td>NaN</td>\n",
       "      <td>NaN</td>\n",
       "    </tr>\n",
       "    <tr>\n",
       "      <th>3</th>\n",
       "      <td>B3500</td>\n",
       "      <td>2024</td>\n",
       "      <td>L3500</td>\n",
       "      <td>L3500.1.03</td>\n",
       "      <td>NaN</td>\n",
       "      <td>Appartement</td>\n",
       "      <td>5. Après 2005</td>\n",
       "      <td>NaN</td>\n",
       "      <td>NaN</td>\n",
       "      <td>NaN</td>\n",
       "      <td>...</td>\n",
       "      <td>27.0</td>\n",
       "      <td>222.0</td>\n",
       "      <td>513.0</td>\n",
       "      <td>Estimation directe</td>\n",
       "      <td>Inconnu</td>\n",
       "      <td>NaN</td>\n",
       "      <td>NaN</td>\n",
       "      <td>NaN</td>\n",
       "      <td>NaN</td>\n",
       "      <td>NaN</td>\n",
       "    </tr>\n",
       "    <tr>\n",
       "      <th>4</th>\n",
       "      <td>B3500</td>\n",
       "      <td>2024</td>\n",
       "      <td>L3500</td>\n",
       "      <td>NaN</td>\n",
       "      <td>L3500.1</td>\n",
       "      <td>Appartement</td>\n",
       "      <td>2. Entre 1946-1970</td>\n",
       "      <td>NaN</td>\n",
       "      <td>NaN</td>\n",
       "      <td>NaN</td>\n",
       "      <td>...</td>\n",
       "      <td>25.0</td>\n",
       "      <td>311.0</td>\n",
       "      <td>1176.0</td>\n",
       "      <td>Estimation directe</td>\n",
       "      <td>Inconnu</td>\n",
       "      <td>NaN</td>\n",
       "      <td>NaN</td>\n",
       "      <td>NaN</td>\n",
       "      <td>NaN</td>\n",
       "      <td>NaN</td>\n",
       "    </tr>\n",
       "    <tr>\n",
       "      <th>5</th>\n",
       "      <td>B3500</td>\n",
       "      <td>2024</td>\n",
       "      <td>L3500</td>\n",
       "      <td>NaN</td>\n",
       "      <td>L3500.1</td>\n",
       "      <td>Appartement</td>\n",
       "      <td>NaN</td>\n",
       "      <td>2. Entre 1946-1970</td>\n",
       "      <td>NaN</td>\n",
       "      <td>NaN</td>\n",
       "      <td>...</td>\n",
       "      <td>25.0</td>\n",
       "      <td>311.0</td>\n",
       "      <td>1176.0</td>\n",
       "      <td>Estimation directe</td>\n",
       "      <td>Inconnu</td>\n",
       "      <td>NaN</td>\n",
       "      <td>NaN</td>\n",
       "      <td>NaN</td>\n",
       "      <td>NaN</td>\n",
       "      <td>NaN</td>\n",
       "    </tr>\n",
       "    <tr>\n",
       "      <th>6</th>\n",
       "      <td>B3500</td>\n",
       "      <td>2024</td>\n",
       "      <td>L3500</td>\n",
       "      <td>NaN</td>\n",
       "      <td>NaN</td>\n",
       "      <td>Appartement</td>\n",
       "      <td>2. Entre 1946-1970</td>\n",
       "      <td>NaN</td>\n",
       "      <td>NaN</td>\n",
       "      <td>NaN</td>\n",
       "      <td>...</td>\n",
       "      <td>25.0</td>\n",
       "      <td>311.0</td>\n",
       "      <td>1266.0</td>\n",
       "      <td>Estimation directe</td>\n",
       "      <td>Inconnu</td>\n",
       "      <td>NaN</td>\n",
       "      <td>NaN</td>\n",
       "      <td>NaN</td>\n",
       "      <td>NaN</td>\n",
       "      <td>NaN</td>\n",
       "    </tr>\n",
       "    <tr>\n",
       "      <th>7</th>\n",
       "      <td>B3500</td>\n",
       "      <td>2024</td>\n",
       "      <td>L3500</td>\n",
       "      <td>NaN</td>\n",
       "      <td>NaN</td>\n",
       "      <td>Appartement</td>\n",
       "      <td>NaN</td>\n",
       "      <td>2. Entre 1946-1970</td>\n",
       "      <td>NaN</td>\n",
       "      <td>NaN</td>\n",
       "      <td>...</td>\n",
       "      <td>25.0</td>\n",
       "      <td>311.0</td>\n",
       "      <td>1266.0</td>\n",
       "      <td>Estimation directe</td>\n",
       "      <td>Inconnu</td>\n",
       "      <td>NaN</td>\n",
       "      <td>NaN</td>\n",
       "      <td>NaN</td>\n",
       "      <td>NaN</td>\n",
       "      <td>NaN</td>\n",
       "    </tr>\n",
       "    <tr>\n",
       "      <th>8</th>\n",
       "      <td>B3500</td>\n",
       "      <td>2024</td>\n",
       "      <td>L3500</td>\n",
       "      <td>L3500.1.03</td>\n",
       "      <td>NaN</td>\n",
       "      <td>Appartement</td>\n",
       "      <td>NaN</td>\n",
       "      <td>NaN</td>\n",
       "      <td>NaN</td>\n",
       "      <td>NaN</td>\n",
       "      <td>...</td>\n",
       "      <td>25.0</td>\n",
       "      <td>577.0</td>\n",
       "      <td>1817.0</td>\n",
       "      <td>Estimation directe</td>\n",
       "      <td>Inconnu</td>\n",
       "      <td>NaN</td>\n",
       "      <td>NaN</td>\n",
       "      <td>NaN</td>\n",
       "      <td>NaN</td>\n",
       "      <td>NaN</td>\n",
       "    </tr>\n",
       "    <tr>\n",
       "      <th>9</th>\n",
       "      <td>B3500</td>\n",
       "      <td>2024</td>\n",
       "      <td>L3500</td>\n",
       "      <td>L3500.1.03</td>\n",
       "      <td>NaN</td>\n",
       "      <td>NaN</td>\n",
       "      <td>NaN</td>\n",
       "      <td>NaN</td>\n",
       "      <td>NaN</td>\n",
       "      <td>NaN</td>\n",
       "      <td>...</td>\n",
       "      <td>25.0</td>\n",
       "      <td>577.0</td>\n",
       "      <td>1817.0</td>\n",
       "      <td>Estimation directe</td>\n",
       "      <td>Inconnu</td>\n",
       "      <td>NaN</td>\n",
       "      <td>NaN</td>\n",
       "      <td>NaN</td>\n",
       "      <td>NaN</td>\n",
       "      <td>NaN</td>\n",
       "    </tr>\n",
       "    <tr>\n",
       "      <th>10</th>\n",
       "      <td>B3500</td>\n",
       "      <td>2024</td>\n",
       "      <td>L3500</td>\n",
       "      <td>L3500.1.03</td>\n",
       "      <td>NaN</td>\n",
       "      <td>Appartement</td>\n",
       "      <td>NaN</td>\n",
       "      <td>NaN</td>\n",
       "      <td>NaN</td>\n",
       "      <td>NaN</td>\n",
       "      <td>...</td>\n",
       "      <td>25.0</td>\n",
       "      <td>577.0</td>\n",
       "      <td>1817.0</td>\n",
       "      <td>Estimation directe</td>\n",
       "      <td>Inconnu</td>\n",
       "      <td>NaN</td>\n",
       "      <td>NaN</td>\n",
       "      <td>NaN</td>\n",
       "      <td>NaN</td>\n",
       "      <td>NaN</td>\n",
       "    </tr>\n",
       "    <tr>\n",
       "      <th>11</th>\n",
       "      <td>B3500</td>\n",
       "      <td>2024</td>\n",
       "      <td>L3500</td>\n",
       "      <td>NaN</td>\n",
       "      <td>NaN</td>\n",
       "      <td>Appartement</td>\n",
       "      <td>5. Après 2005</td>\n",
       "      <td>NaN</td>\n",
       "      <td>NaN</td>\n",
       "      <td>NaN</td>\n",
       "      <td>...</td>\n",
       "      <td>29.0</td>\n",
       "      <td>869.0</td>\n",
       "      <td>1614.0</td>\n",
       "      <td>Estimation directe</td>\n",
       "      <td>Inconnu</td>\n",
       "      <td>NaN</td>\n",
       "      <td>NaN</td>\n",
       "      <td>NaN</td>\n",
       "      <td>NaN</td>\n",
       "      <td>NaN</td>\n",
       "    </tr>\n",
       "    <tr>\n",
       "      <th>12</th>\n",
       "      <td>B3500</td>\n",
       "      <td>2024</td>\n",
       "      <td>L3500</td>\n",
       "      <td>NaN</td>\n",
       "      <td>NaN</td>\n",
       "      <td>Appartement</td>\n",
       "      <td>NaN</td>\n",
       "      <td>5. Après 2005</td>\n",
       "      <td>NaN</td>\n",
       "      <td>NaN</td>\n",
       "      <td>...</td>\n",
       "      <td>29.0</td>\n",
       "      <td>869.0</td>\n",
       "      <td>1614.0</td>\n",
       "      <td>Estimation directe</td>\n",
       "      <td>Inconnu</td>\n",
       "      <td>NaN</td>\n",
       "      <td>NaN</td>\n",
       "      <td>NaN</td>\n",
       "      <td>NaN</td>\n",
       "      <td>NaN</td>\n",
       "    </tr>\n",
       "    <tr>\n",
       "      <th>13</th>\n",
       "      <td>B3500</td>\n",
       "      <td>2024</td>\n",
       "      <td>L3500</td>\n",
       "      <td>NaN</td>\n",
       "      <td>L3500.1</td>\n",
       "      <td>Appartement</td>\n",
       "      <td>5. Après 2005</td>\n",
       "      <td>NaN</td>\n",
       "      <td>NaN</td>\n",
       "      <td>NaN</td>\n",
       "      <td>...</td>\n",
       "      <td>29.0</td>\n",
       "      <td>869.0</td>\n",
       "      <td>1184.0</td>\n",
       "      <td>Estimation directe</td>\n",
       "      <td>Inconnu</td>\n",
       "      <td>NaN</td>\n",
       "      <td>NaN</td>\n",
       "      <td>NaN</td>\n",
       "      <td>NaN</td>\n",
       "      <td>NaN</td>\n",
       "    </tr>\n",
       "    <tr>\n",
       "      <th>14</th>\n",
       "      <td>B3500</td>\n",
       "      <td>2024</td>\n",
       "      <td>L3500</td>\n",
       "      <td>NaN</td>\n",
       "      <td>L3500.1</td>\n",
       "      <td>Appartement</td>\n",
       "      <td>NaN</td>\n",
       "      <td>5. Après 2005</td>\n",
       "      <td>NaN</td>\n",
       "      <td>NaN</td>\n",
       "      <td>...</td>\n",
       "      <td>29.0</td>\n",
       "      <td>869.0</td>\n",
       "      <td>1184.0</td>\n",
       "      <td>Estimation directe</td>\n",
       "      <td>Inconnu</td>\n",
       "      <td>NaN</td>\n",
       "      <td>NaN</td>\n",
       "      <td>NaN</td>\n",
       "      <td>NaN</td>\n",
       "      <td>NaN</td>\n",
       "    </tr>\n",
       "    <tr>\n",
       "      <th>15</th>\n",
       "      <td>B3500</td>\n",
       "      <td>2024</td>\n",
       "      <td>L3500</td>\n",
       "      <td>L3500.1.03</td>\n",
       "      <td>NaN</td>\n",
       "      <td>Appartement</td>\n",
       "      <td>NaN</td>\n",
       "      <td>4. Entre 1991-2005</td>\n",
       "      <td>NaN</td>\n",
       "      <td>NaN</td>\n",
       "      <td>...</td>\n",
       "      <td>22.0</td>\n",
       "      <td>151.0</td>\n",
       "      <td>646.0</td>\n",
       "      <td>Estimation directe</td>\n",
       "      <td>Inconnu</td>\n",
       "      <td>NaN</td>\n",
       "      <td>NaN</td>\n",
       "      <td>NaN</td>\n",
       "      <td>NaN</td>\n",
       "      <td>NaN</td>\n",
       "    </tr>\n",
       "    <tr>\n",
       "      <th>16</th>\n",
       "      <td>B3500</td>\n",
       "      <td>2024</td>\n",
       "      <td>L3500</td>\n",
       "      <td>L3500.1.03</td>\n",
       "      <td>NaN</td>\n",
       "      <td>Appartement</td>\n",
       "      <td>4. Entre 1991-2005</td>\n",
       "      <td>NaN</td>\n",
       "      <td>NaN</td>\n",
       "      <td>NaN</td>\n",
       "      <td>...</td>\n",
       "      <td>22.0</td>\n",
       "      <td>151.0</td>\n",
       "      <td>646.0</td>\n",
       "      <td>Estimation directe</td>\n",
       "      <td>Inconnu</td>\n",
       "      <td>NaN</td>\n",
       "      <td>NaN</td>\n",
       "      <td>NaN</td>\n",
       "      <td>NaN</td>\n",
       "      <td>NaN</td>\n",
       "    </tr>\n",
       "    <tr>\n",
       "      <th>17</th>\n",
       "      <td>B3500</td>\n",
       "      <td>2024</td>\n",
       "      <td>L3500</td>\n",
       "      <td>L3500.1.05</td>\n",
       "      <td>NaN</td>\n",
       "      <td>Appartement</td>\n",
       "      <td>5. Après 2005</td>\n",
       "      <td>NaN</td>\n",
       "      <td>NaN</td>\n",
       "      <td>NaN</td>\n",
       "      <td>...</td>\n",
       "      <td>31.0</td>\n",
       "      <td>90.0</td>\n",
       "      <td>126.0</td>\n",
       "      <td>Estimation directe</td>\n",
       "      <td>Maurepas-Patton</td>\n",
       "      <td>NaN</td>\n",
       "      <td>NaN</td>\n",
       "      <td>NaN</td>\n",
       "      <td>NaN</td>\n",
       "      <td>NaN</td>\n",
       "    </tr>\n",
       "    <tr>\n",
       "      <th>18</th>\n",
       "      <td>B3500</td>\n",
       "      <td>2024</td>\n",
       "      <td>L3500</td>\n",
       "      <td>L3500.1.05</td>\n",
       "      <td>NaN</td>\n",
       "      <td>Appartement</td>\n",
       "      <td>NaN</td>\n",
       "      <td>5. Après 2005</td>\n",
       "      <td>NaN</td>\n",
       "      <td>NaN</td>\n",
       "      <td>...</td>\n",
       "      <td>31.0</td>\n",
       "      <td>90.0</td>\n",
       "      <td>126.0</td>\n",
       "      <td>Estimation directe</td>\n",
       "      <td>Maurepas-Patton</td>\n",
       "      <td>NaN</td>\n",
       "      <td>NaN</td>\n",
       "      <td>NaN</td>\n",
       "      <td>NaN</td>\n",
       "      <td>NaN</td>\n",
       "    </tr>\n",
       "    <tr>\n",
       "      <th>19</th>\n",
       "      <td>B3500</td>\n",
       "      <td>2024</td>\n",
       "      <td>L3500</td>\n",
       "      <td>L3500.1.01</td>\n",
       "      <td>NaN</td>\n",
       "      <td>Appartement</td>\n",
       "      <td>2. Entre 1946-1970</td>\n",
       "      <td>NaN</td>\n",
       "      <td>NaN</td>\n",
       "      <td>NaN</td>\n",
       "      <td>...</td>\n",
       "      <td>21.0</td>\n",
       "      <td>96.0</td>\n",
       "      <td>660.0</td>\n",
       "      <td>Estimation directe</td>\n",
       "      <td>Centre</td>\n",
       "      <td>NaN</td>\n",
       "      <td>NaN</td>\n",
       "      <td>NaN</td>\n",
       "      <td>NaN</td>\n",
       "      <td>NaN</td>\n",
       "    </tr>\n",
       "    <tr>\n",
       "      <th>20</th>\n",
       "      <td>B3500</td>\n",
       "      <td>2024</td>\n",
       "      <td>L3500</td>\n",
       "      <td>L3500.1.01</td>\n",
       "      <td>NaN</td>\n",
       "      <td>Appartement</td>\n",
       "      <td>NaN</td>\n",
       "      <td>2. Entre 1946-1970</td>\n",
       "      <td>NaN</td>\n",
       "      <td>NaN</td>\n",
       "      <td>...</td>\n",
       "      <td>21.0</td>\n",
       "      <td>96.0</td>\n",
       "      <td>660.0</td>\n",
       "      <td>Estimation directe</td>\n",
       "      <td>Centre</td>\n",
       "      <td>NaN</td>\n",
       "      <td>NaN</td>\n",
       "      <td>NaN</td>\n",
       "      <td>NaN</td>\n",
       "      <td>NaN</td>\n",
       "    </tr>\n",
       "    <tr>\n",
       "      <th>21</th>\n",
       "      <td>B3500</td>\n",
       "      <td>2024</td>\n",
       "      <td>L3500</td>\n",
       "      <td>L3500.1.02</td>\n",
       "      <td>NaN</td>\n",
       "      <td>Appartement</td>\n",
       "      <td>5. Après 2005</td>\n",
       "      <td>NaN</td>\n",
       "      <td>NaN</td>\n",
       "      <td>NaN</td>\n",
       "      <td>...</td>\n",
       "      <td>29.0</td>\n",
       "      <td>217.0</td>\n",
       "      <td>311.0</td>\n",
       "      <td>Estimation directe</td>\n",
       "      <td>Thabor-Saint Helier</td>\n",
       "      <td>NaN</td>\n",
       "      <td>NaN</td>\n",
       "      <td>NaN</td>\n",
       "      <td>NaN</td>\n",
       "      <td>NaN</td>\n",
       "    </tr>\n",
       "    <tr>\n",
       "      <th>22</th>\n",
       "      <td>B3500</td>\n",
       "      <td>2024</td>\n",
       "      <td>L3500</td>\n",
       "      <td>L3500.1.02</td>\n",
       "      <td>NaN</td>\n",
       "      <td>Appartement</td>\n",
       "      <td>NaN</td>\n",
       "      <td>5. Après 2005</td>\n",
       "      <td>NaN</td>\n",
       "      <td>NaN</td>\n",
       "      <td>...</td>\n",
       "      <td>29.0</td>\n",
       "      <td>217.0</td>\n",
       "      <td>311.0</td>\n",
       "      <td>Estimation directe</td>\n",
       "      <td>Thabor-Saint Helier</td>\n",
       "      <td>NaN</td>\n",
       "      <td>NaN</td>\n",
       "      <td>NaN</td>\n",
       "      <td>NaN</td>\n",
       "      <td>NaN</td>\n",
       "    </tr>\n",
       "    <tr>\n",
       "      <th>23</th>\n",
       "      <td>B3500</td>\n",
       "      <td>2024</td>\n",
       "      <td>L3500</td>\n",
       "      <td>L3500.1.05</td>\n",
       "      <td>NaN</td>\n",
       "      <td>NaN</td>\n",
       "      <td>NaN</td>\n",
       "      <td>NaN</td>\n",
       "      <td>NaN</td>\n",
       "      <td>NaN</td>\n",
       "      <td>...</td>\n",
       "      <td>28.0</td>\n",
       "      <td>245.0</td>\n",
       "      <td>801.0</td>\n",
       "      <td>Estimation directe</td>\n",
       "      <td>Maurepas-Patton</td>\n",
       "      <td>NaN</td>\n",
       "      <td>NaN</td>\n",
       "      <td>NaN</td>\n",
       "      <td>NaN</td>\n",
       "      <td>NaN</td>\n",
       "    </tr>\n",
       "    <tr>\n",
       "      <th>24</th>\n",
       "      <td>B3500</td>\n",
       "      <td>2024</td>\n",
       "      <td>L3500</td>\n",
       "      <td>L3500.1.05</td>\n",
       "      <td>NaN</td>\n",
       "      <td>Appartement</td>\n",
       "      <td>NaN</td>\n",
       "      <td>NaN</td>\n",
       "      <td>NaN</td>\n",
       "      <td>NaN</td>\n",
       "      <td>...</td>\n",
       "      <td>28.0</td>\n",
       "      <td>245.0</td>\n",
       "      <td>801.0</td>\n",
       "      <td>Estimation directe</td>\n",
       "      <td>Maurepas-Patton</td>\n",
       "      <td>NaN</td>\n",
       "      <td>NaN</td>\n",
       "      <td>NaN</td>\n",
       "      <td>NaN</td>\n",
       "      <td>NaN</td>\n",
       "    </tr>\n",
       "    <tr>\n",
       "      <th>25</th>\n",
       "      <td>B3500</td>\n",
       "      <td>2024</td>\n",
       "      <td>L3500</td>\n",
       "      <td>L3500.1.05</td>\n",
       "      <td>NaN</td>\n",
       "      <td>Appartement</td>\n",
       "      <td>NaN</td>\n",
       "      <td>NaN</td>\n",
       "      <td>NaN</td>\n",
       "      <td>NaN</td>\n",
       "      <td>...</td>\n",
       "      <td>28.0</td>\n",
       "      <td>245.0</td>\n",
       "      <td>801.0</td>\n",
       "      <td>Estimation directe</td>\n",
       "      <td>Maurepas-Patton</td>\n",
       "      <td>NaN</td>\n",
       "      <td>NaN</td>\n",
       "      <td>NaN</td>\n",
       "      <td>NaN</td>\n",
       "      <td>NaN</td>\n",
       "    </tr>\n",
       "    <tr>\n",
       "      <th>26</th>\n",
       "      <td>B3500</td>\n",
       "      <td>2024</td>\n",
       "      <td>L3500</td>\n",
       "      <td>L3500.1.02</td>\n",
       "      <td>NaN</td>\n",
       "      <td>Appartement</td>\n",
       "      <td>NaN</td>\n",
       "      <td>2. Entre 1946-1970</td>\n",
       "      <td>NaN</td>\n",
       "      <td>NaN</td>\n",
       "      <td>...</td>\n",
       "      <td>26.0</td>\n",
       "      <td>93.0</td>\n",
       "      <td>352.0</td>\n",
       "      <td>Estimation directe</td>\n",
       "      <td>Thabor-Saint Helier</td>\n",
       "      <td>NaN</td>\n",
       "      <td>NaN</td>\n",
       "      <td>NaN</td>\n",
       "      <td>NaN</td>\n",
       "      <td>NaN</td>\n",
       "    </tr>\n",
       "    <tr>\n",
       "      <th>27</th>\n",
       "      <td>B3500</td>\n",
       "      <td>2024</td>\n",
       "      <td>L3500</td>\n",
       "      <td>L3500.1.02</td>\n",
       "      <td>NaN</td>\n",
       "      <td>Appartement</td>\n",
       "      <td>2. Entre 1946-1970</td>\n",
       "      <td>NaN</td>\n",
       "      <td>NaN</td>\n",
       "      <td>NaN</td>\n",
       "      <td>...</td>\n",
       "      <td>26.0</td>\n",
       "      <td>93.0</td>\n",
       "      <td>352.0</td>\n",
       "      <td>Estimation directe</td>\n",
       "      <td>Thabor-Saint Helier</td>\n",
       "      <td>NaN</td>\n",
       "      <td>NaN</td>\n",
       "      <td>NaN</td>\n",
       "      <td>NaN</td>\n",
       "      <td>NaN</td>\n",
       "    </tr>\n",
       "    <tr>\n",
       "      <th>28</th>\n",
       "      <td>B3500</td>\n",
       "      <td>2024</td>\n",
       "      <td>L3500</td>\n",
       "      <td>L3500.1.05</td>\n",
       "      <td>NaN</td>\n",
       "      <td>Appartement</td>\n",
       "      <td>NaN</td>\n",
       "      <td>4. Entre 1991-2005</td>\n",
       "      <td>NaN</td>\n",
       "      <td>NaN</td>\n",
       "      <td>...</td>\n",
       "      <td>27.0</td>\n",
       "      <td>66.0</td>\n",
       "      <td>391.0</td>\n",
       "      <td>Estimation directe</td>\n",
       "      <td>Maurepas-Patton</td>\n",
       "      <td>NaN</td>\n",
       "      <td>NaN</td>\n",
       "      <td>NaN</td>\n",
       "      <td>NaN</td>\n",
       "      <td>NaN</td>\n",
       "    </tr>\n",
       "    <tr>\n",
       "      <th>29</th>\n",
       "      <td>B3500</td>\n",
       "      <td>2024</td>\n",
       "      <td>L3500</td>\n",
       "      <td>L3500.1.05</td>\n",
       "      <td>NaN</td>\n",
       "      <td>Appartement</td>\n",
       "      <td>4. Entre 1991-2005</td>\n",
       "      <td>NaN</td>\n",
       "      <td>NaN</td>\n",
       "      <td>NaN</td>\n",
       "      <td>...</td>\n",
       "      <td>27.0</td>\n",
       "      <td>66.0</td>\n",
       "      <td>391.0</td>\n",
       "      <td>Estimation directe</td>\n",
       "      <td>Maurepas-Patton</td>\n",
       "      <td>NaN</td>\n",
       "      <td>NaN</td>\n",
       "      <td>NaN</td>\n",
       "      <td>NaN</td>\n",
       "      <td>NaN</td>\n",
       "    </tr>\n",
       "    <tr>\n",
       "      <th>30</th>\n",
       "      <td>B3500</td>\n",
       "      <td>2024</td>\n",
       "      <td>L3500</td>\n",
       "      <td>L3500.1.01</td>\n",
       "      <td>NaN</td>\n",
       "      <td>Appartement</td>\n",
       "      <td>NaN</td>\n",
       "      <td>5. Après 2005</td>\n",
       "      <td>NaN</td>\n",
       "      <td>NaN</td>\n",
       "      <td>...</td>\n",
       "      <td>28.0</td>\n",
       "      <td>191.0</td>\n",
       "      <td>343.0</td>\n",
       "      <td>Estimation directe</td>\n",
       "      <td>Centre</td>\n",
       "      <td>NaN</td>\n",
       "      <td>NaN</td>\n",
       "      <td>NaN</td>\n",
       "      <td>NaN</td>\n",
       "      <td>NaN</td>\n",
       "    </tr>\n",
       "    <tr>\n",
       "      <th>31</th>\n",
       "      <td>B3500</td>\n",
       "      <td>2024</td>\n",
       "      <td>L3500</td>\n",
       "      <td>L3500.1.01</td>\n",
       "      <td>NaN</td>\n",
       "      <td>Appartement</td>\n",
       "      <td>5. Après 2005</td>\n",
       "      <td>NaN</td>\n",
       "      <td>NaN</td>\n",
       "      <td>NaN</td>\n",
       "      <td>...</td>\n",
       "      <td>28.0</td>\n",
       "      <td>191.0</td>\n",
       "      <td>343.0</td>\n",
       "      <td>Estimation directe</td>\n",
       "      <td>Centre</td>\n",
       "      <td>NaN</td>\n",
       "      <td>NaN</td>\n",
       "      <td>NaN</td>\n",
       "      <td>NaN</td>\n",
       "      <td>NaN</td>\n",
       "    </tr>\n",
       "    <tr>\n",
       "      <th>32</th>\n",
       "      <td>B3500</td>\n",
       "      <td>2024</td>\n",
       "      <td>L3500</td>\n",
       "      <td>L3500.1.04</td>\n",
       "      <td>NaN</td>\n",
       "      <td>Appartement</td>\n",
       "      <td>NaN</td>\n",
       "      <td>NaN</td>\n",
       "      <td>NaN</td>\n",
       "      <td>NaN</td>\n",
       "      <td>...</td>\n",
       "      <td>28.0</td>\n",
       "      <td>224.0</td>\n",
       "      <td>606.0</td>\n",
       "      <td>Estimation directe</td>\n",
       "      <td>Nord Saint Martin</td>\n",
       "      <td>NaN</td>\n",
       "      <td>NaN</td>\n",
       "      <td>NaN</td>\n",
       "      <td>NaN</td>\n",
       "      <td>NaN</td>\n",
       "    </tr>\n",
       "    <tr>\n",
       "      <th>33</th>\n",
       "      <td>B3500</td>\n",
       "      <td>2024</td>\n",
       "      <td>L3500</td>\n",
       "      <td>L3500.1.04</td>\n",
       "      <td>NaN</td>\n",
       "      <td>Appartement</td>\n",
       "      <td>NaN</td>\n",
       "      <td>NaN</td>\n",
       "      <td>NaN</td>\n",
       "      <td>NaN</td>\n",
       "      <td>...</td>\n",
       "      <td>28.0</td>\n",
       "      <td>224.0</td>\n",
       "      <td>606.0</td>\n",
       "      <td>Estimation directe</td>\n",
       "      <td>Nord Saint Martin</td>\n",
       "      <td>NaN</td>\n",
       "      <td>NaN</td>\n",
       "      <td>NaN</td>\n",
       "      <td>NaN</td>\n",
       "      <td>NaN</td>\n",
       "    </tr>\n",
       "    <tr>\n",
       "      <th>34</th>\n",
       "      <td>B3500</td>\n",
       "      <td>2024</td>\n",
       "      <td>L3500</td>\n",
       "      <td>L3500.1.04</td>\n",
       "      <td>NaN</td>\n",
       "      <td>NaN</td>\n",
       "      <td>NaN</td>\n",
       "      <td>NaN</td>\n",
       "      <td>NaN</td>\n",
       "      <td>NaN</td>\n",
       "      <td>...</td>\n",
       "      <td>28.0</td>\n",
       "      <td>224.0</td>\n",
       "      <td>606.0</td>\n",
       "      <td>Estimation directe</td>\n",
       "      <td>Nord Saint Martin</td>\n",
       "      <td>NaN</td>\n",
       "      <td>NaN</td>\n",
       "      <td>NaN</td>\n",
       "      <td>NaN</td>\n",
       "      <td>NaN</td>\n",
       "    </tr>\n",
       "    <tr>\n",
       "      <th>35</th>\n",
       "      <td>B3500</td>\n",
       "      <td>2024</td>\n",
       "      <td>L3500</td>\n",
       "      <td>NaN</td>\n",
       "      <td>NaN</td>\n",
       "      <td>Appartement</td>\n",
       "      <td>4. Entre 1991-2005</td>\n",
       "      <td>NaN</td>\n",
       "      <td>NaN</td>\n",
       "      <td>NaN</td>\n",
       "      <td>...</td>\n",
       "      <td>25.0</td>\n",
       "      <td>760.0</td>\n",
       "      <td>3017.0</td>\n",
       "      <td>Estimation directe</td>\n",
       "      <td>Inconnu</td>\n",
       "      <td>NaN</td>\n",
       "      <td>NaN</td>\n",
       "      <td>NaN</td>\n",
       "      <td>NaN</td>\n",
       "      <td>NaN</td>\n",
       "    </tr>\n",
       "    <tr>\n",
       "      <th>36</th>\n",
       "      <td>B3500</td>\n",
       "      <td>2024</td>\n",
       "      <td>L3500</td>\n",
       "      <td>NaN</td>\n",
       "      <td>L3500.1</td>\n",
       "      <td>Appartement</td>\n",
       "      <td>4. Entre 1991-2005</td>\n",
       "      <td>NaN</td>\n",
       "      <td>NaN</td>\n",
       "      <td>NaN</td>\n",
       "      <td>...</td>\n",
       "      <td>25.0</td>\n",
       "      <td>760.0</td>\n",
       "      <td>2453.0</td>\n",
       "      <td>Estimation directe</td>\n",
       "      <td>Inconnu</td>\n",
       "      <td>NaN</td>\n",
       "      <td>NaN</td>\n",
       "      <td>NaN</td>\n",
       "      <td>NaN</td>\n",
       "      <td>NaN</td>\n",
       "    </tr>\n",
       "    <tr>\n",
       "      <th>37</th>\n",
       "      <td>B3500</td>\n",
       "      <td>2024</td>\n",
       "      <td>L3500</td>\n",
       "      <td>NaN</td>\n",
       "      <td>L3500.1</td>\n",
       "      <td>Appartement</td>\n",
       "      <td>NaN</td>\n",
       "      <td>4. Entre 1991-2005</td>\n",
       "      <td>NaN</td>\n",
       "      <td>NaN</td>\n",
       "      <td>...</td>\n",
       "      <td>25.0</td>\n",
       "      <td>760.0</td>\n",
       "      <td>2453.0</td>\n",
       "      <td>Estimation directe</td>\n",
       "      <td>Inconnu</td>\n",
       "      <td>NaN</td>\n",
       "      <td>NaN</td>\n",
       "      <td>NaN</td>\n",
       "      <td>NaN</td>\n",
       "      <td>NaN</td>\n",
       "    </tr>\n",
       "    <tr>\n",
       "      <th>38</th>\n",
       "      <td>B3500</td>\n",
       "      <td>2024</td>\n",
       "      <td>L3500</td>\n",
       "      <td>L3500.1.04</td>\n",
       "      <td>NaN</td>\n",
       "      <td>Appartement</td>\n",
       "      <td>NaN</td>\n",
       "      <td>5. Après 2005</td>\n",
       "      <td>NaN</td>\n",
       "      <td>NaN</td>\n",
       "      <td>...</td>\n",
       "      <td>32.0</td>\n",
       "      <td>131.0</td>\n",
       "      <td>263.0</td>\n",
       "      <td>Estimation directe</td>\n",
       "      <td>Nord Saint Martin</td>\n",
       "      <td>NaN</td>\n",
       "      <td>NaN</td>\n",
       "      <td>NaN</td>\n",
       "      <td>NaN</td>\n",
       "      <td>NaN</td>\n",
       "    </tr>\n",
       "    <tr>\n",
       "      <th>39</th>\n",
       "      <td>B3500</td>\n",
       "      <td>2024</td>\n",
       "      <td>L3500</td>\n",
       "      <td>NaN</td>\n",
       "      <td>NaN</td>\n",
       "      <td>Appartement</td>\n",
       "      <td>NaN</td>\n",
       "      <td>4. Entre 1991-2005</td>\n",
       "      <td>NaN</td>\n",
       "      <td>NaN</td>\n",
       "      <td>...</td>\n",
       "      <td>25.0</td>\n",
       "      <td>760.0</td>\n",
       "      <td>3017.0</td>\n",
       "      <td>Estimation directe</td>\n",
       "      <td>Inconnu</td>\n",
       "      <td>NaN</td>\n",
       "      <td>NaN</td>\n",
       "      <td>NaN</td>\n",
       "      <td>NaN</td>\n",
       "      <td>NaN</td>\n",
       "    </tr>\n",
       "  </tbody>\n",
       "</table>\n",
       "<p>40 rows × 34 columns</p>\n",
       "</div>"
      ],
      "text/plain": [
       "   Observatory  Data_year agglomeration Zone_calcul Zone_complementaire  \\\n",
       "0        B3500       2024         L3500  L3500.1.03                 NaN   \n",
       "1        B3500       2024         L3500  L3500.1.03                 NaN   \n",
       "2        B3500       2024         L3500  L3500.1.03                 NaN   \n",
       "3        B3500       2024         L3500  L3500.1.03                 NaN   \n",
       "4        B3500       2024         L3500         NaN             L3500.1   \n",
       "5        B3500       2024         L3500         NaN             L3500.1   \n",
       "6        B3500       2024         L3500         NaN                 NaN   \n",
       "7        B3500       2024         L3500         NaN                 NaN   \n",
       "8        B3500       2024         L3500  L3500.1.03                 NaN   \n",
       "9        B3500       2024         L3500  L3500.1.03                 NaN   \n",
       "10       B3500       2024         L3500  L3500.1.03                 NaN   \n",
       "11       B3500       2024         L3500         NaN                 NaN   \n",
       "12       B3500       2024         L3500         NaN                 NaN   \n",
       "13       B3500       2024         L3500         NaN             L3500.1   \n",
       "14       B3500       2024         L3500         NaN             L3500.1   \n",
       "15       B3500       2024         L3500  L3500.1.03                 NaN   \n",
       "16       B3500       2024         L3500  L3500.1.03                 NaN   \n",
       "17       B3500       2024         L3500  L3500.1.05                 NaN   \n",
       "18       B3500       2024         L3500  L3500.1.05                 NaN   \n",
       "19       B3500       2024         L3500  L3500.1.01                 NaN   \n",
       "20       B3500       2024         L3500  L3500.1.01                 NaN   \n",
       "21       B3500       2024         L3500  L3500.1.02                 NaN   \n",
       "22       B3500       2024         L3500  L3500.1.02                 NaN   \n",
       "23       B3500       2024         L3500  L3500.1.05                 NaN   \n",
       "24       B3500       2024         L3500  L3500.1.05                 NaN   \n",
       "25       B3500       2024         L3500  L3500.1.05                 NaN   \n",
       "26       B3500       2024         L3500  L3500.1.02                 NaN   \n",
       "27       B3500       2024         L3500  L3500.1.02                 NaN   \n",
       "28       B3500       2024         L3500  L3500.1.05                 NaN   \n",
       "29       B3500       2024         L3500  L3500.1.05                 NaN   \n",
       "30       B3500       2024         L3500  L3500.1.01                 NaN   \n",
       "31       B3500       2024         L3500  L3500.1.01                 NaN   \n",
       "32       B3500       2024         L3500  L3500.1.04                 NaN   \n",
       "33       B3500       2024         L3500  L3500.1.04                 NaN   \n",
       "34       B3500       2024         L3500  L3500.1.04                 NaN   \n",
       "35       B3500       2024         L3500         NaN                 NaN   \n",
       "36       B3500       2024         L3500         NaN             L3500.1   \n",
       "37       B3500       2024         L3500         NaN             L3500.1   \n",
       "38       B3500       2024         L3500  L3500.1.04                 NaN   \n",
       "39       B3500       2024         L3500         NaN                 NaN   \n",
       "\n",
       "   Type_habitat_x epoque_construction_local epoque_construction_homogene  \\\n",
       "0     Appartement                       NaN           2. Entre 1946-1970   \n",
       "1     Appartement        2. Entre 1946-1970                          NaN   \n",
       "2     Appartement                       NaN                5. Après 2005   \n",
       "3     Appartement             5. Après 2005                          NaN   \n",
       "4     Appartement        2. Entre 1946-1970                          NaN   \n",
       "5     Appartement                       NaN           2. Entre 1946-1970   \n",
       "6     Appartement        2. Entre 1946-1970                          NaN   \n",
       "7     Appartement                       NaN           2. Entre 1946-1970   \n",
       "8     Appartement                       NaN                          NaN   \n",
       "9             NaN                       NaN                          NaN   \n",
       "10    Appartement                       NaN                          NaN   \n",
       "11    Appartement             5. Après 2005                          NaN   \n",
       "12    Appartement                       NaN                5. Après 2005   \n",
       "13    Appartement             5. Après 2005                          NaN   \n",
       "14    Appartement                       NaN                5. Après 2005   \n",
       "15    Appartement                       NaN           4. Entre 1991-2005   \n",
       "16    Appartement        4. Entre 1991-2005                          NaN   \n",
       "17    Appartement             5. Après 2005                          NaN   \n",
       "18    Appartement                       NaN                5. Après 2005   \n",
       "19    Appartement        2. Entre 1946-1970                          NaN   \n",
       "20    Appartement                       NaN           2. Entre 1946-1970   \n",
       "21    Appartement             5. Après 2005                          NaN   \n",
       "22    Appartement                       NaN                5. Après 2005   \n",
       "23            NaN                       NaN                          NaN   \n",
       "24    Appartement                       NaN                          NaN   \n",
       "25    Appartement                       NaN                          NaN   \n",
       "26    Appartement                       NaN           2. Entre 1946-1970   \n",
       "27    Appartement        2. Entre 1946-1970                          NaN   \n",
       "28    Appartement                       NaN           4. Entre 1991-2005   \n",
       "29    Appartement        4. Entre 1991-2005                          NaN   \n",
       "30    Appartement                       NaN                5. Après 2005   \n",
       "31    Appartement             5. Après 2005                          NaN   \n",
       "32    Appartement                       NaN                          NaN   \n",
       "33    Appartement                       NaN                          NaN   \n",
       "34            NaN                       NaN                          NaN   \n",
       "35    Appartement        4. Entre 1991-2005                          NaN   \n",
       "36    Appartement        4. Entre 1991-2005                          NaN   \n",
       "37    Appartement                       NaN           4. Entre 1991-2005   \n",
       "38    Appartement                       NaN                5. Après 2005   \n",
       "39    Appartement                       NaN           4. Entre 1991-2005   \n",
       "\n",
       "   anciennete_locataire_local anciennete_locataire_homogene  ...  \\\n",
       "0                         NaN                           NaN  ...   \n",
       "1                         NaN                           NaN  ...   \n",
       "2                         NaN                           NaN  ...   \n",
       "3                         NaN                           NaN  ...   \n",
       "4                         NaN                           NaN  ...   \n",
       "5                         NaN                           NaN  ...   \n",
       "6                         NaN                           NaN  ...   \n",
       "7                         NaN                           NaN  ...   \n",
       "8                         NaN                           NaN  ...   \n",
       "9                         NaN                           NaN  ...   \n",
       "10                        NaN                           NaN  ...   \n",
       "11                        NaN                           NaN  ...   \n",
       "12                        NaN                           NaN  ...   \n",
       "13                        NaN                           NaN  ...   \n",
       "14                        NaN                           NaN  ...   \n",
       "15                        NaN                           NaN  ...   \n",
       "16                        NaN                           NaN  ...   \n",
       "17                        NaN                           NaN  ...   \n",
       "18                        NaN                           NaN  ...   \n",
       "19                        NaN                           NaN  ...   \n",
       "20                        NaN                           NaN  ...   \n",
       "21                        NaN                           NaN  ...   \n",
       "22                        NaN                           NaN  ...   \n",
       "23                        NaN                           NaN  ...   \n",
       "24                        NaN                           NaN  ...   \n",
       "25                        NaN                           NaN  ...   \n",
       "26                        NaN                           NaN  ...   \n",
       "27                        NaN                           NaN  ...   \n",
       "28                        NaN                           NaN  ...   \n",
       "29                        NaN                           NaN  ...   \n",
       "30                        NaN                           NaN  ...   \n",
       "31                        NaN                           NaN  ...   \n",
       "32                        NaN                           NaN  ...   \n",
       "33                        NaN                           NaN  ...   \n",
       "34                        NaN                           NaN  ...   \n",
       "35                        NaN                           NaN  ...   \n",
       "36                        NaN                           NaN  ...   \n",
       "37                        NaN                           NaN  ...   \n",
       "38                        NaN                           NaN  ...   \n",
       "39                        NaN                           NaN  ...   \n",
       "\n",
       "   surface_moyenne nombre_observations nombre_logements  \\\n",
       "0             26.0                55.0            140.0   \n",
       "1             26.0                55.0            140.0   \n",
       "2             27.0               222.0            513.0   \n",
       "3             27.0               222.0            513.0   \n",
       "4             25.0               311.0           1176.0   \n",
       "5             25.0               311.0           1176.0   \n",
       "6             25.0               311.0           1266.0   \n",
       "7             25.0               311.0           1266.0   \n",
       "8             25.0               577.0           1817.0   \n",
       "9             25.0               577.0           1817.0   \n",
       "10            25.0               577.0           1817.0   \n",
       "11            29.0               869.0           1614.0   \n",
       "12            29.0               869.0           1614.0   \n",
       "13            29.0               869.0           1184.0   \n",
       "14            29.0               869.0           1184.0   \n",
       "15            22.0               151.0            646.0   \n",
       "16            22.0               151.0            646.0   \n",
       "17            31.0                90.0            126.0   \n",
       "18            31.0                90.0            126.0   \n",
       "19            21.0                96.0            660.0   \n",
       "20            21.0                96.0            660.0   \n",
       "21            29.0               217.0            311.0   \n",
       "22            29.0               217.0            311.0   \n",
       "23            28.0               245.0            801.0   \n",
       "24            28.0               245.0            801.0   \n",
       "25            28.0               245.0            801.0   \n",
       "26            26.0                93.0            352.0   \n",
       "27            26.0                93.0            352.0   \n",
       "28            27.0                66.0            391.0   \n",
       "29            27.0                66.0            391.0   \n",
       "30            28.0               191.0            343.0   \n",
       "31            28.0               191.0            343.0   \n",
       "32            28.0               224.0            606.0   \n",
       "33            28.0               224.0            606.0   \n",
       "34            28.0               224.0            606.0   \n",
       "35            25.0               760.0           3017.0   \n",
       "36            25.0               760.0           2453.0   \n",
       "37            25.0               760.0           2453.0   \n",
       "38            32.0               131.0            263.0   \n",
       "39            25.0               760.0           3017.0   \n",
       "\n",
       "   methodologie_production             Quartier Type_habitat_y Statut  \\\n",
       "0       Estimation directe              Inconnu            NaN    NaN   \n",
       "1       Estimation directe              Inconnu            NaN    NaN   \n",
       "2       Estimation directe              Inconnu            NaN    NaN   \n",
       "3       Estimation directe              Inconnu            NaN    NaN   \n",
       "4       Estimation directe              Inconnu            NaN    NaN   \n",
       "5       Estimation directe              Inconnu            NaN    NaN   \n",
       "6       Estimation directe              Inconnu            NaN    NaN   \n",
       "7       Estimation directe              Inconnu            NaN    NaN   \n",
       "8       Estimation directe              Inconnu            NaN    NaN   \n",
       "9       Estimation directe              Inconnu            NaN    NaN   \n",
       "10      Estimation directe              Inconnu            NaN    NaN   \n",
       "11      Estimation directe              Inconnu            NaN    NaN   \n",
       "12      Estimation directe              Inconnu            NaN    NaN   \n",
       "13      Estimation directe              Inconnu            NaN    NaN   \n",
       "14      Estimation directe              Inconnu            NaN    NaN   \n",
       "15      Estimation directe              Inconnu            NaN    NaN   \n",
       "16      Estimation directe              Inconnu            NaN    NaN   \n",
       "17      Estimation directe      Maurepas-Patton            NaN    NaN   \n",
       "18      Estimation directe      Maurepas-Patton            NaN    NaN   \n",
       "19      Estimation directe               Centre            NaN    NaN   \n",
       "20      Estimation directe               Centre            NaN    NaN   \n",
       "21      Estimation directe  Thabor-Saint Helier            NaN    NaN   \n",
       "22      Estimation directe  Thabor-Saint Helier            NaN    NaN   \n",
       "23      Estimation directe      Maurepas-Patton            NaN    NaN   \n",
       "24      Estimation directe      Maurepas-Patton            NaN    NaN   \n",
       "25      Estimation directe      Maurepas-Patton            NaN    NaN   \n",
       "26      Estimation directe  Thabor-Saint Helier            NaN    NaN   \n",
       "27      Estimation directe  Thabor-Saint Helier            NaN    NaN   \n",
       "28      Estimation directe      Maurepas-Patton            NaN    NaN   \n",
       "29      Estimation directe      Maurepas-Patton            NaN    NaN   \n",
       "30      Estimation directe               Centre            NaN    NaN   \n",
       "31      Estimation directe               Centre            NaN    NaN   \n",
       "32      Estimation directe    Nord Saint Martin            NaN    NaN   \n",
       "33      Estimation directe    Nord Saint Martin            NaN    NaN   \n",
       "34      Estimation directe    Nord Saint Martin            NaN    NaN   \n",
       "35      Estimation directe              Inconnu            NaN    NaN   \n",
       "36      Estimation directe              Inconnu            NaN    NaN   \n",
       "37      Estimation directe              Inconnu            NaN    NaN   \n",
       "38      Estimation directe    Nord Saint Martin            NaN    NaN   \n",
       "39      Estimation directe              Inconnu            NaN    NaN   \n",
       "\n",
       "   Nb de pièces  Prix_m2  Prix_total  \n",
       "0           NaN      NaN         NaN  \n",
       "1           NaN      NaN         NaN  \n",
       "2           NaN      NaN         NaN  \n",
       "3           NaN      NaN         NaN  \n",
       "4           NaN      NaN         NaN  \n",
       "5           NaN      NaN         NaN  \n",
       "6           NaN      NaN         NaN  \n",
       "7           NaN      NaN         NaN  \n",
       "8           NaN      NaN         NaN  \n",
       "9           NaN      NaN         NaN  \n",
       "10          NaN      NaN         NaN  \n",
       "11          NaN      NaN         NaN  \n",
       "12          NaN      NaN         NaN  \n",
       "13          NaN      NaN         NaN  \n",
       "14          NaN      NaN         NaN  \n",
       "15          NaN      NaN         NaN  \n",
       "16          NaN      NaN         NaN  \n",
       "17          NaN      NaN         NaN  \n",
       "18          NaN      NaN         NaN  \n",
       "19          NaN      NaN         NaN  \n",
       "20          NaN      NaN         NaN  \n",
       "21          NaN      NaN         NaN  \n",
       "22          NaN      NaN         NaN  \n",
       "23          NaN      NaN         NaN  \n",
       "24          NaN      NaN         NaN  \n",
       "25          NaN      NaN         NaN  \n",
       "26          NaN      NaN         NaN  \n",
       "27          NaN      NaN         NaN  \n",
       "28          NaN      NaN         NaN  \n",
       "29          NaN      NaN         NaN  \n",
       "30          NaN      NaN         NaN  \n",
       "31          NaN      NaN         NaN  \n",
       "32          NaN      NaN         NaN  \n",
       "33          NaN      NaN         NaN  \n",
       "34          NaN      NaN         NaN  \n",
       "35          NaN      NaN         NaN  \n",
       "36          NaN      NaN         NaN  \n",
       "37          NaN      NaN         NaN  \n",
       "38          NaN      NaN         NaN  \n",
       "39          NaN      NaN         NaN  \n",
       "\n",
       "[40 rows x 34 columns]"
      ]
     },
     "metadata": {},
     "output_type": "display_data"
    }
   ],
   "source": [
    "df_merged = pd.merge(df2, df_etudiants, on=[\"Quartier\", \"surface_moyenne\"], how=\"left\")\n",
    "#df_etudiants['rentabilite_brute_%'] = (df2['loyer_mensuel_median'] * 12 / df_etudiants['Prix total estimé (€)']) * 100\n",
    "display(df_merged.head(40))"
   ]
  },
  {
   "cell_type": "code",
   "execution_count": null,
   "id": "3ddb74b1",
   "metadata": {},
   "outputs": [],
   "source": []
>>>>>>> origin/Lucien
  }
 ],
 "metadata": {
  "kernelspec": {
   "display_name": ".venv",
   "language": "python",
   "name": "python3"
  },
  "language_info": {
   "codemirror_mode": {
    "name": "ipython",
    "version": 3
   },
   "file_extension": ".py",
   "mimetype": "text/x-python",
   "name": "python",
   "nbconvert_exporter": "python",
   "pygments_lexer": "ipython3",
   "version": "3.13.7"
  }
 },
 "nbformat": 4,
 "nbformat_minor": 5
}
