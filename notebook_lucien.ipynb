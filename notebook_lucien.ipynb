{
 "cells": [
  {
   "cell_type": "markdown",
   "id": "25dd84de",
   "metadata": {},
   "source": [
    "## 🎓 Persona : Léa, jeune investisseuse étudiante\n",
    "\n",
    "**Profil :**\n",
    "- 👩 24 ans, diplômée de l'EM Lyon\n",
    "- 💼 Première expérience professionnelle après 2 ans d'alternance\n",
    "- 💰 Aide parentale pour le financement + épargne personnelle (~15 000 €)\n",
    "- 🎯 Objectif : réaliser un **premier investissement locatif** dans une **ville étudiante dynamique**\n",
    "\n",
    "---\n",
    "\n",
    "### 💡 Objectif d'investissement\n",
    "> Trouver le **meilleur investissement locatif étudiant** possible avec un **budget global de 200 000 €**,  \n",
    "> en ciblant un **studio à Lille**, tout en comparant brièvement avec un **T1 à Angers ou Nancy**.\n",
    "\n",
    "---\n",
    "\n",
    "### 💰 Hypothèses financières\n",
    "| Élément | Montant estimé |\n",
    "|----------|----------------|\n",
    "| Prix d'achat visé | 160 000 – 180 000 € |\n",
    "| Apport personnel | 15 000 € |\n",
    "| Prêt immobilier estimé | 180 000 € sur 20 ans |\n",
    "| Budget total (frais inclus) | **≈ 200 000 €** |\n",
    "| Objectif de rentabilité brute | **≥ 5 %** |\n",
    "\n",
    "---\n",
    "\n",
    "### 🏙️ Cibles principales\n",
    "| Ville | Type de bien | Prix moyen au m² | Loyer moyen mensuel | Observations |\n",
    "|-------|---------------|------------------|---------------------|---------------|\n",
    "| **Lille** | Studio (20–25 m²) | ~4 500 €/m² | 550–600 € | Marché étudiant tendu, forte demande locative |\n",
    "| **Angers** | T1 (25–30 m²) | ~3 200 €/m² | 450–500 € | Ville très dynamique, bonne rentabilité brute |\n",
    "| **Nancy** | T1 (25–30 m²) | ~2 800 €/m² | 420–470 € | Marché abordable, bon rapport prix/rentabilité |\n",
    "\n",
    "---\n",
    "\n",
    "### 🔍 Besoins data de Léa\n",
    "- Identifier **les quartiers les plus rentables** à Lille (ou dans des villes comparables)\n",
    "- Comparer avec **la rentabilité moyenne en France**\n",
    "- Analyser l'**évolution du prix au m² et des loyers étudiants** depuis 5 ans\n",
    "- Calculer la **rentabilité locative brute et nette** par quartier\n",
    "- Visualiser les **zones à forte concentration étudiante**\n",
    "- Fournir une **recommandation finale : \"où investir avec 200k€ ?\"**\n",
    "- Évaluer le **taux de vacance locative** par quartier pour anticiper les périodes creuses (notamment l'été où les étudiants quittent les logements)\n",
    "- Analyser la **proximité des transports en commun** et des universités/grandes écoles pour identifier les zones les plus attractives pour les étudiants\n",
    "- Estimer les **charges de copropriété moyennes** par type de bien et par quartier pour affiner le calcul de rentabilité nette\n",
    "- Identifier les **opportunités de biens nécessitant des travaux** (décote à l'achat) pour maximiser la plus-value à long terme\n",
    "\n",
    "---\n",
    "\n",
    "### 🧭 Objectif du notebook\n",
    "Créer un outil interactif permettant à Léa de :\n",
    "1. Comparer la rentabilité d'un **studio à Lille** avec celle d'un **T1 à Angers ou Nancy**  \n",
    "2. Explorer visuellement les **zones à potentiel locatif élevé**  \n",
    "3. Obtenir une **recommandation automatique** en fonction de son budget et de ses préférences"
   ]
  },
  {
   "cell_type": "markdown",
   "id": "8f9733a3",
   "metadata": {},
   "source": [
    "## Import des bibliothèques ##"
   ]
  },
  {
   "cell_type": "code",
   "execution_count": 35,
   "id": "f672a483",
   "metadata": {},
   "outputs": [],
   "source": [
    "import pandas as pd \n",
    "import plotly.express as px\n",
    "import time\n",
    "import nbformat"
   ]
  },
  {
   "cell_type": "markdown",
   "id": "9b97c335",
   "metadata": {},
   "source": [
    "Évaluer le taux de vacance locative en France, et les zones propices à un taux élevé\n",
    "\n",
    "Constante"
   ]
  },
  {
   "cell_type": "code",
   "execution_count": 36,
   "id": "549213c3",
   "metadata": {},
   "outputs": [],
   "source": [
    "BDD = \"https://huggingface.co/datasets/analysedonneesfoncieresdata/analyse_fonciere_data/resolve/main\""
   ]
  },
  {
   "cell_type": "markdown",
   "id": "831a5530",
   "metadata": {},
   "source": [
    "Lecture fichiers Excel"
   ]
  },
  {
   "cell_type": "code",
   "execution_count": 37,
   "id": "7727e89b",
   "metadata": {},
   "outputs": [
    {
     "name": "stderr",
     "output_type": "stream",
     "text": [
      "C:\\Users\\rivat\\AppData\\Local\\Temp\\ipykernel_32676\\1433042141.py:3: DtypeWarning:\n",
      "\n",
      "Columns (1,12,14,16,23,24) have mixed types. Specify dtype option on import or set low_memory=False.\n",
      "\n"
     ]
    }
   ],
   "source": [
    "df_vac = pd.read_excel(f\"{BDD}/insee_rp_hist_1968.xlsx\", header=1)\n",
    "df_pop = pd.read_excel(f\"{BDD}/POPULATION_MUNICIPALE_COMMUNES_FRANCE_lucien.xlsx\")\n",
    "df_communes = pd.read_csv(f\"{BDD}/communes-france-2025.csv\", sep=\",\")  # adapte le chemin si nécessaire"
   ]
  },
  {
   "cell_type": "code",
   "execution_count": 38,
   "id": "2a741682",
   "metadata": {},
   "outputs": [],
   "source": [
    "df_communes_coords = df_communes[[\n",
    "    \"code_insee\",       # code INSEE pour faire le merge\n",
    "    \"code_postal\",      # code postal\n",
    "    \"latitude_centre\",  # latitude du centre de la commune\n",
    "    \"longitude_centre\"  # longitude du centre de la commune\n",
    "]]"
   ]
  },
  {
   "cell_type": "markdown",
   "id": "da42867e",
   "metadata": {},
   "source": [
    "Mise en forme des colonnes dans les fichiers"
   ]
  },
  {
   "cell_type": "code",
   "execution_count": 39,
   "id": "3812fbc2",
   "metadata": {},
   "outputs": [],
   "source": [
    "df_vac.columns = [\"code_commune\", \"nom_commune\", \"annee\", \"part_log_vacant\", \"col5\", \"col6\", \"col7\", \"col8\"]\n",
    "df_vac = df_vac[[\"code_commune\", \"nom_commune\", \"annee\", \"part_log_vacant\"]]\n",
    "\n",
    "df_pop.columns = [\"objectid\", \"reg\", \"dep\", \"cv\", \"codgeo\",\t\"libgeo\", \"p21_pop\"]\n",
    "\n",
    "df_vac = df_vac.dropna(subset=[\"part_log_vacant\"])\n",
    "df_vac[\"part_log_vacant\"] = pd.to_numeric(df_vac[\"part_log_vacant\"], errors=\"coerce\")\n",
    "df_vac = df_vac.dropna(subset=[\"part_log_vacant\"])\n",
    "\n",
    "df_pop[\"codgeo\"] = df_pop[\"codgeo\"].astype(str)\n",
    "df_vac[\"code_commune\"] = df_vac[\"code_commune\"].astype(str)"
   ]
  },
  {
   "cell_type": "markdown",
   "id": "521adc7d",
   "metadata": {},
   "source": [
    "Dataframe des villes de plus de 100 000 habitants classées dans l'ordre croissant par rapport au taux de logement vacant."
   ]
  },
  {
   "cell_type": "code",
   "execution_count": 40,
   "id": "f078d3ba",
   "metadata": {},
   "outputs": [
    {
     "name": "stderr",
     "output_type": "stream",
     "text": [
      "C:\\Users\\rivat\\AppData\\Local\\Temp\\ipykernel_32676\\1603771164.py:12: SettingWithCopyWarning:\n",
      "\n",
      "\n",
      "A value is trying to be set on a copy of a slice from a DataFrame.\n",
      "Try using .loc[row_indexer,col_indexer] = value instead\n",
      "\n",
      "See the caveats in the documentation: https://pandas.pydata.org/pandas-docs/stable/user_guide/indexing.html#returning-a-view-versus-a-copy\n",
      "\n"
     ]
    }
   ],
   "source": [
    "df_vac = df_vac.sort_values(by=\"part_log_vacant\", ascending=True)\n",
    "\n",
    "df_pop_100k = df_pop[df_pop[\"p21_pop\"] > 100000]\n",
    "\n",
    "df_vac_100k = df_vac.merge(\n",
    "    df_pop_100k[[\"codgeo\", \"p21_pop\"]],\n",
    "    left_on=\"code_commune\",\n",
    "    right_on=\"codgeo\",\n",
    "    how=\"inner\"\n",
    ")\n",
    "\n",
    "df_communes_coords[\"code_insee\"] = df_communes_coords[\"code_insee\"].astype(str)\n",
    "df_vac_100k[\"code_commune\"] = df_vac_100k[\"code_commune\"].astype(str)\n",
    "\n",
    "df_vac_100k = df_vac_100k[[\"code_commune\", \"nom_commune\", \"annee\", \"part_log_vacant\", \"p21_pop\"]]"
   ]
  },
  {
   "cell_type": "markdown",
   "id": "4b656875",
   "metadata": {},
   "source": [
    "Affichage sur la map"
   ]
  },
  {
   "cell_type": "code",
   "execution_count": 41,
   "id": "93021a23",
   "metadata": {},
   "outputs": [
    {
     "name": "stderr",
     "output_type": "stream",
     "text": [
      "C:\\Users\\rivat\\AppData\\Local\\Temp\\ipykernel_32676\\73503755.py:17: DeprecationWarning:\n",
      "\n",
      "*scatter_mapbox* is deprecated! Use *scatter_map* instead. Learn more at: https://plotly.com/python/mapbox-to-maplibre/\n",
      "\n"
     ]
    },
    {
     "data": {
      "application/vnd.plotly.v1+json": {
       "config": {
        "plotlyServerURL": "https://plot.ly"
       },
       "data": [
        {
         "customdata": {
          "bdata": "AAAAANQ+FUHNzMzMzMwpQAAAAAAAcLdAAAAAAACYn0AAAAAAsAACQc3MzMzMzCBAAAAAAACWyUAAAAAAAJifQAAAAACAavpAmpmZmZmZIUAAAAAAAFjLQAAAAAAAmJ9AAAAAAJBzA0EzMzMzMzMdQAAAAAAAgtRAAAAAAACYn0AAAAAA4Bn9QAAAAAAAACNAAAAAAABq2EAAAAAAAJifQAAAAAAYCwFBmpmZmZmZGUAAAAAAAITcQAAAAAAAmJ9AAAAAAEAUAkEzMzMzMzMlQAAAAAAALd5AAAAAAACYn0AAAAAAOMQeQWZmZmZmZiBAAAAAAABf3kAAAAAAAJifQAAAAABg9Q9BZmZmZmZmHEAAAAAAgELgQAAAAAAAmJ9AAAAAANh1EkHNzMzMzMwcQAAAAAAApOBAAAAAAACYn0AAAAAAyHkLQWZmZmZmZhpAAAAAAIBu4UAAAAAAAJifQAAAAADQzQBBAAAAAAAAJUAAAAAAgB3iQAAAAAAAmJ9AAAAAACg5A0GamZmZmZkqQAAAAAAAjuJAAAAAAACYn0AAAAAAcBUFQWZmZmZmZihAAAAAAICO5EAAAAAAAJifQAAAAAAQuhNBZmZmZmZmGEAAAAAAAJXlQAAAAAAAmJ9AAAAAAJB4/EAAAAAAAAAkQAAAAAAA+eVAAAAAAACYn0AAAAAAuC8DQQAAAAAAABhAAAAAAADt50AAAAAAAJifQAAAAACg5QVBAAAAAAAAI0AAAAAAgPPoQAAAAAAAmJ9AAAAAAEB0+UBmZmZmZmYnQAAAAACAaupAAAAAAACYn0AAAAAAoIL9QAAAAAAAACdAAAAAAMDd60AAAAAAAJifQAAAAAAw5QxBZmZmZmZmIEAAAAAAgO/sQAAAAAAAmJ9AAAAAAPj7AUEAAAAAAAAhQAAAAACAz+5AAAAAAACYn0AAAAAAgDb9QDMzMzMzMy5AAAAAAAAd8EAAAAAAAJifQAAAAADExxFBMzMzMzMzIUAAAAAAgFvwQAAAAAAAmJ9AAAAAAFD2+UBmZmZmZmYwQAAAAACApvBAAAAAAACYn0AAAAAAACgDQZqZmZmZmR9AAAAAAMDe8EAAAAAAAJifQAAAAABgswFBAAAAAAAAJEAAAAAAQJrxQAAAAAAAmJ9AAAAAABgUAEEzMzMzMzMdQAAAAAAAEfJAAAAAAACYn0AAAAAAUEUEQTMzMzMzMyVAAAAAAMC08kAAAAAAAJifQAAAAAAw2vtAZmZmZmZmI0AAAAAAQJTyQAAAAAAAmJ9AAAAAAMhPAEHNzMzMzMwiQAAAAACgjfNAAAAAAACYn0AAAAAAIAcGQTMzMzMzMwtAAAAAAIBD9EAAAAAAAJifQAAAAAAArv9AmpmZmZmZIUAAAAAAwEP1QAAAAAAAmJ9AAAAAAABA/UDNzMzMzMwaQAAAAABAfPZAAAAAAACYn0AAAAAA8DX7QM3MzMzMzBZAAAAAAMC69kAAAAAAAJifQAAAAABg0ftAZmZmZmZmGkAAAAAAoMH2QAAAAAAAmJ9AAAAAAFAt+kDNzMzMzMwYQAAAAADAN/dAAAAAAACYn0A=",
          "dtype": "f8",
          "shape": "37, 4"
         },
         "hovertemplate": "<b>%{hovertext}</b><br><br>part_log_vacant=%{marker.color}<br>latitude_centre=%{lat}<br>longitude_centre=%{lon}<br>p21_pop=%{customdata[0]}<br>code_postal=%{customdata[2]}<br>annee=%{customdata[3]}<extra></extra>",
         "hovertext": [
          "Nice",
          "Aix-en-Provence",
          "Caen",
          "Dijon",
          "Besançon",
          "Brest",
          "Nîmes",
          "Toulouse",
          "Bordeaux",
          "Montpellier",
          "Rennes",
          "Tours",
          "Grenoble",
          "Saint-Étienne",
          "Nantes",
          "Orléans",
          "Angers",
          "Reims",
          "Nancy",
          "Metz",
          "Lille",
          "Clermont-Ferrand",
          "Perpignan",
          "Strasbourg",
          "Mulhouse",
          "Villeurbanne",
          "Le Mans",
          "Annecy",
          "Le Havre",
          "Rouen",
          "Amiens",
          "Toulon",
          "Limoges",
          "Boulogne-Billancourt",
          "Montreuil",
          "Saint-Denis",
          "Argenteuil"
         ],
         "lat": {
          "bdata": "QmDl0CLbRUD4U+Olm8RFQEjhehSul0hA001iEFipR0BxPQrXo6BHQDMzMzMzM0hAXI/C9SjsRUA/NV66ScxFQARWDi2ybUZAWDm0yHbORUB1kxgEVg5IQFCNl24Ss0dAnu+nxkuXRkDXo3A9CrdGQARWDi2ynUdAGy/dJAbxR0CTGARWDr1HQMdLN4lBoEhAuB6F61FYSEDn+6nx0o1IQDeJQWDlUElA+FPjpZvkRkDwp8ZLN1lFQAwCK4cWSUhAHVpkO9/fR0Cmm8QgsOJGQFg5tMh2/kdANV66SQzyRkA5tMh2vr9IQJzEILByuEhAF9nO91PzSEDFILByaJFFQFpkO99P7UZAQmDl0CJrSEBYObTIdm5IQNejcD0Kd0hAfT81Xrp5SEA=",
          "dtype": "f8"
         },
         "legendgroup": "",
         "lon": {
          "bdata": "wcqhRbbzHEB/arx0k5gVQK5H4XoUrte/9P3UeOkmFEAUrkfhehQYQFCNl24SAxLAMQisHFpkEUC28/3UeOn2P5HtfD81XuK/i2zn+6nxDkC28/3UeOn6vxKDwMqhReY//Knx0k3iFkBqvHSTGIQRQPhT46WbxPi/Di2yne+n/j+YbhKDwMrhvylcj8L1KBBATmIQWDm0GEBiEFg5tMgYQPyp8dJNYghAIbByaJHtCED+1HjpJjEHQN9PjZduEh9A5/up8dJNHUBaZDvfT40TQJqZmZmZmck/Gy/dJAaBGEDsUbgehevBP7ByaJHtfPE/UrgehetRAkDufD81XroXQJZDi2zn+/M/tvP91HjpAUAv3SQGgZUDQKwcWmQ73wJAIbByaJHtAUA=",
          "dtype": "f8"
         },
         "marker": {
          "color": {
           "bdata": "zczMzMzMKUDNzMzMzMwgQJqZmZmZmSFAMzMzMzMzHUAAAAAAAAAjQJqZmZmZmRlAMzMzMzMzJUBmZmZmZmYgQGZmZmZmZhxAzczMzMzMHEBmZmZmZmYaQAAAAAAAACVAmpmZmZmZKkBmZmZmZmYoQGZmZmZmZhhAAAAAAAAAJEAAAAAAAAAYQAAAAAAAACNAZmZmZmZmJ0AAAAAAAAAnQGZmZmZmZiBAAAAAAAAAIUAzMzMzMzMuQDMzMzMzMyFAZmZmZmZmMECamZmZmZkfQAAAAAAAACRAMzMzMzMzHUAzMzMzMzMlQGZmZmZmZiNAzczMzMzMIkAzMzMzMzMLQJqZmZmZmSFAzczMzMzMGkDNzMzMzMwWQGZmZmZmZhpAzczMzMzMGEA=",
           "dtype": "f8"
          },
          "coloraxis": "coloraxis",
          "size": {
           "bdata": "zczMzMzMKUDNzMzMzMwgQJqZmZmZmSFAMzMzMzMzHUAAAAAAAAAjQJqZmZmZmRlAMzMzMzMzJUBmZmZmZmYgQGZmZmZmZhxAzczMzMzMHEBmZmZmZmYaQAAAAAAAACVAmpmZmZmZKkBmZmZmZmYoQGZmZmZmZhhAAAAAAAAAJEAAAAAAAAAYQAAAAAAAACNAZmZmZmZmJ0AAAAAAAAAnQGZmZmZmZiBAAAAAAAAAIUAzMzMzMzMuQDMzMzMzMyFAZmZmZmZmMECamZmZmZkfQAAAAAAAACRAMzMzMzMzHUAzMzMzMzMlQGZmZmZmZiNAzczMzMzMIkAzMzMzMzMLQJqZmZmZmSFAzczMzMzMGkDNzMzMzMwWQGZmZmZmZhpAzczMzMzMGEA=",
           "dtype": "f8"
          },
          "sizemode": "area",
          "sizeref": 0.040999999999999995
         },
         "mode": "markers",
         "name": "",
         "showlegend": false,
         "subplot": "mapbox",
         "type": "scattermapbox"
        }
       ],
       "layout": {
        "coloraxis": {
         "colorbar": {
          "title": {
           "text": "part_log_vacant"
          }
         },
         "colorscale": [
          [
           0,
           "rgb(255,247,236)"
          ],
          [
           0.125,
           "rgb(254,232,200)"
          ],
          [
           0.25,
           "rgb(253,212,158)"
          ],
          [
           0.375,
           "rgb(253,187,132)"
          ],
          [
           0.5,
           "rgb(252,141,89)"
          ],
          [
           0.625,
           "rgb(239,101,72)"
          ],
          [
           0.75,
           "rgb(215,48,31)"
          ],
          [
           0.875,
           "rgb(179,0,0)"
          ],
          [
           1,
           "rgb(127,0,0)"
          ]
         ]
        },
        "height": 500,
        "legend": {
         "itemsizing": "constant",
         "tracegroupgap": 0
        },
        "mapbox": {
         "center": {
          "lat": 47.015756756756765,
          "lon": 2.9350270270270267
         },
         "domain": {
          "x": [
           0,
           1
          ],
          "y": [
           0,
           1
          ]
         },
         "style": "open-street-map",
         "zoom": 5
        },
        "margin": {
         "b": 0,
         "l": 0,
         "r": 0,
         "t": 0
        },
        "template": {
         "data": {
          "bar": [
           {
            "error_x": {
             "color": "#2a3f5f"
            },
            "error_y": {
             "color": "#2a3f5f"
            },
            "marker": {
             "line": {
              "color": "#E5ECF6",
              "width": 0.5
             },
             "pattern": {
              "fillmode": "overlay",
              "size": 10,
              "solidity": 0.2
             }
            },
            "type": "bar"
           }
          ],
          "barpolar": [
           {
            "marker": {
             "line": {
              "color": "#E5ECF6",
              "width": 0.5
             },
             "pattern": {
              "fillmode": "overlay",
              "size": 10,
              "solidity": 0.2
             }
            },
            "type": "barpolar"
           }
          ],
          "carpet": [
           {
            "aaxis": {
             "endlinecolor": "#2a3f5f",
             "gridcolor": "white",
             "linecolor": "white",
             "minorgridcolor": "white",
             "startlinecolor": "#2a3f5f"
            },
            "baxis": {
             "endlinecolor": "#2a3f5f",
             "gridcolor": "white",
             "linecolor": "white",
             "minorgridcolor": "white",
             "startlinecolor": "#2a3f5f"
            },
            "type": "carpet"
           }
          ],
          "choropleth": [
           {
            "colorbar": {
             "outlinewidth": 0,
             "ticks": ""
            },
            "type": "choropleth"
           }
          ],
          "contour": [
           {
            "colorbar": {
             "outlinewidth": 0,
             "ticks": ""
            },
            "colorscale": [
             [
              0,
              "#0d0887"
             ],
             [
              0.1111111111111111,
              "#46039f"
             ],
             [
              0.2222222222222222,
              "#7201a8"
             ],
             [
              0.3333333333333333,
              "#9c179e"
             ],
             [
              0.4444444444444444,
              "#bd3786"
             ],
             [
              0.5555555555555556,
              "#d8576b"
             ],
             [
              0.6666666666666666,
              "#ed7953"
             ],
             [
              0.7777777777777778,
              "#fb9f3a"
             ],
             [
              0.8888888888888888,
              "#fdca26"
             ],
             [
              1,
              "#f0f921"
             ]
            ],
            "type": "contour"
           }
          ],
          "contourcarpet": [
           {
            "colorbar": {
             "outlinewidth": 0,
             "ticks": ""
            },
            "type": "contourcarpet"
           }
          ],
          "heatmap": [
           {
            "colorbar": {
             "outlinewidth": 0,
             "ticks": ""
            },
            "colorscale": [
             [
              0,
              "#0d0887"
             ],
             [
              0.1111111111111111,
              "#46039f"
             ],
             [
              0.2222222222222222,
              "#7201a8"
             ],
             [
              0.3333333333333333,
              "#9c179e"
             ],
             [
              0.4444444444444444,
              "#bd3786"
             ],
             [
              0.5555555555555556,
              "#d8576b"
             ],
             [
              0.6666666666666666,
              "#ed7953"
             ],
             [
              0.7777777777777778,
              "#fb9f3a"
             ],
             [
              0.8888888888888888,
              "#fdca26"
             ],
             [
              1,
              "#f0f921"
             ]
            ],
            "type": "heatmap"
           }
          ],
          "histogram": [
           {
            "marker": {
             "pattern": {
              "fillmode": "overlay",
              "size": 10,
              "solidity": 0.2
             }
            },
            "type": "histogram"
           }
          ],
          "histogram2d": [
           {
            "colorbar": {
             "outlinewidth": 0,
             "ticks": ""
            },
            "colorscale": [
             [
              0,
              "#0d0887"
             ],
             [
              0.1111111111111111,
              "#46039f"
             ],
             [
              0.2222222222222222,
              "#7201a8"
             ],
             [
              0.3333333333333333,
              "#9c179e"
             ],
             [
              0.4444444444444444,
              "#bd3786"
             ],
             [
              0.5555555555555556,
              "#d8576b"
             ],
             [
              0.6666666666666666,
              "#ed7953"
             ],
             [
              0.7777777777777778,
              "#fb9f3a"
             ],
             [
              0.8888888888888888,
              "#fdca26"
             ],
             [
              1,
              "#f0f921"
             ]
            ],
            "type": "histogram2d"
           }
          ],
          "histogram2dcontour": [
           {
            "colorbar": {
             "outlinewidth": 0,
             "ticks": ""
            },
            "colorscale": [
             [
              0,
              "#0d0887"
             ],
             [
              0.1111111111111111,
              "#46039f"
             ],
             [
              0.2222222222222222,
              "#7201a8"
             ],
             [
              0.3333333333333333,
              "#9c179e"
             ],
             [
              0.4444444444444444,
              "#bd3786"
             ],
             [
              0.5555555555555556,
              "#d8576b"
             ],
             [
              0.6666666666666666,
              "#ed7953"
             ],
             [
              0.7777777777777778,
              "#fb9f3a"
             ],
             [
              0.8888888888888888,
              "#fdca26"
             ],
             [
              1,
              "#f0f921"
             ]
            ],
            "type": "histogram2dcontour"
           }
          ],
          "mesh3d": [
           {
            "colorbar": {
             "outlinewidth": 0,
             "ticks": ""
            },
            "type": "mesh3d"
           }
          ],
          "parcoords": [
           {
            "line": {
             "colorbar": {
              "outlinewidth": 0,
              "ticks": ""
             }
            },
            "type": "parcoords"
           }
          ],
          "pie": [
           {
            "automargin": true,
            "type": "pie"
           }
          ],
          "scatter": [
           {
            "fillpattern": {
             "fillmode": "overlay",
             "size": 10,
             "solidity": 0.2
            },
            "type": "scatter"
           }
          ],
          "scatter3d": [
           {
            "line": {
             "colorbar": {
              "outlinewidth": 0,
              "ticks": ""
             }
            },
            "marker": {
             "colorbar": {
              "outlinewidth": 0,
              "ticks": ""
             }
            },
            "type": "scatter3d"
           }
          ],
          "scattercarpet": [
           {
            "marker": {
             "colorbar": {
              "outlinewidth": 0,
              "ticks": ""
             }
            },
            "type": "scattercarpet"
           }
          ],
          "scattergeo": [
           {
            "marker": {
             "colorbar": {
              "outlinewidth": 0,
              "ticks": ""
             }
            },
            "type": "scattergeo"
           }
          ],
          "scattergl": [
           {
            "marker": {
             "colorbar": {
              "outlinewidth": 0,
              "ticks": ""
             }
            },
            "type": "scattergl"
           }
          ],
          "scattermap": [
           {
            "marker": {
             "colorbar": {
              "outlinewidth": 0,
              "ticks": ""
             }
            },
            "type": "scattermap"
           }
          ],
          "scattermapbox": [
           {
            "marker": {
             "colorbar": {
              "outlinewidth": 0,
              "ticks": ""
             }
            },
            "type": "scattermapbox"
           }
          ],
          "scatterpolar": [
           {
            "marker": {
             "colorbar": {
              "outlinewidth": 0,
              "ticks": ""
             }
            },
            "type": "scatterpolar"
           }
          ],
          "scatterpolargl": [
           {
            "marker": {
             "colorbar": {
              "outlinewidth": 0,
              "ticks": ""
             }
            },
            "type": "scatterpolargl"
           }
          ],
          "scatterternary": [
           {
            "marker": {
             "colorbar": {
              "outlinewidth": 0,
              "ticks": ""
             }
            },
            "type": "scatterternary"
           }
          ],
          "surface": [
           {
            "colorbar": {
             "outlinewidth": 0,
             "ticks": ""
            },
            "colorscale": [
             [
              0,
              "#0d0887"
             ],
             [
              0.1111111111111111,
              "#46039f"
             ],
             [
              0.2222222222222222,
              "#7201a8"
             ],
             [
              0.3333333333333333,
              "#9c179e"
             ],
             [
              0.4444444444444444,
              "#bd3786"
             ],
             [
              0.5555555555555556,
              "#d8576b"
             ],
             [
              0.6666666666666666,
              "#ed7953"
             ],
             [
              0.7777777777777778,
              "#fb9f3a"
             ],
             [
              0.8888888888888888,
              "#fdca26"
             ],
             [
              1,
              "#f0f921"
             ]
            ],
            "type": "surface"
           }
          ],
          "table": [
           {
            "cells": {
             "fill": {
              "color": "#EBF0F8"
             },
             "line": {
              "color": "white"
             }
            },
            "header": {
             "fill": {
              "color": "#C8D4E3"
             },
             "line": {
              "color": "white"
             }
            },
            "type": "table"
           }
          ]
         },
         "layout": {
          "annotationdefaults": {
           "arrowcolor": "#2a3f5f",
           "arrowhead": 0,
           "arrowwidth": 1
          },
          "autotypenumbers": "strict",
          "coloraxis": {
           "colorbar": {
            "outlinewidth": 0,
            "ticks": ""
           }
          },
          "colorscale": {
           "diverging": [
            [
             0,
             "#8e0152"
            ],
            [
             0.1,
             "#c51b7d"
            ],
            [
             0.2,
             "#de77ae"
            ],
            [
             0.3,
             "#f1b6da"
            ],
            [
             0.4,
             "#fde0ef"
            ],
            [
             0.5,
             "#f7f7f7"
            ],
            [
             0.6,
             "#e6f5d0"
            ],
            [
             0.7,
             "#b8e186"
            ],
            [
             0.8,
             "#7fbc41"
            ],
            [
             0.9,
             "#4d9221"
            ],
            [
             1,
             "#276419"
            ]
           ],
           "sequential": [
            [
             0,
             "#0d0887"
            ],
            [
             0.1111111111111111,
             "#46039f"
            ],
            [
             0.2222222222222222,
             "#7201a8"
            ],
            [
             0.3333333333333333,
             "#9c179e"
            ],
            [
             0.4444444444444444,
             "#bd3786"
            ],
            [
             0.5555555555555556,
             "#d8576b"
            ],
            [
             0.6666666666666666,
             "#ed7953"
            ],
            [
             0.7777777777777778,
             "#fb9f3a"
            ],
            [
             0.8888888888888888,
             "#fdca26"
            ],
            [
             1,
             "#f0f921"
            ]
           ],
           "sequentialminus": [
            [
             0,
             "#0d0887"
            ],
            [
             0.1111111111111111,
             "#46039f"
            ],
            [
             0.2222222222222222,
             "#7201a8"
            ],
            [
             0.3333333333333333,
             "#9c179e"
            ],
            [
             0.4444444444444444,
             "#bd3786"
            ],
            [
             0.5555555555555556,
             "#d8576b"
            ],
            [
             0.6666666666666666,
             "#ed7953"
            ],
            [
             0.7777777777777778,
             "#fb9f3a"
            ],
            [
             0.8888888888888888,
             "#fdca26"
            ],
            [
             1,
             "#f0f921"
            ]
           ]
          },
          "colorway": [
           "#636efa",
           "#EF553B",
           "#00cc96",
           "#ab63fa",
           "#FFA15A",
           "#19d3f3",
           "#FF6692",
           "#B6E880",
           "#FF97FF",
           "#FECB52"
          ],
          "font": {
           "color": "#2a3f5f"
          },
          "geo": {
           "bgcolor": "white",
           "lakecolor": "white",
           "landcolor": "#E5ECF6",
           "showlakes": true,
           "showland": true,
           "subunitcolor": "white"
          },
          "hoverlabel": {
           "align": "left"
          },
          "hovermode": "closest",
          "mapbox": {
           "style": "light"
          },
          "paper_bgcolor": "white",
          "plot_bgcolor": "#E5ECF6",
          "polar": {
           "angularaxis": {
            "gridcolor": "white",
            "linecolor": "white",
            "ticks": ""
           },
           "bgcolor": "#E5ECF6",
           "radialaxis": {
            "gridcolor": "white",
            "linecolor": "white",
            "ticks": ""
           }
          },
          "scene": {
           "xaxis": {
            "backgroundcolor": "#E5ECF6",
            "gridcolor": "white",
            "gridwidth": 2,
            "linecolor": "white",
            "showbackground": true,
            "ticks": "",
            "zerolinecolor": "white"
           },
           "yaxis": {
            "backgroundcolor": "#E5ECF6",
            "gridcolor": "white",
            "gridwidth": 2,
            "linecolor": "white",
            "showbackground": true,
            "ticks": "",
            "zerolinecolor": "white"
           },
           "zaxis": {
            "backgroundcolor": "#E5ECF6",
            "gridcolor": "white",
            "gridwidth": 2,
            "linecolor": "white",
            "showbackground": true,
            "ticks": "",
            "zerolinecolor": "white"
           }
          },
          "shapedefaults": {
           "line": {
            "color": "#2a3f5f"
           }
          },
          "ternary": {
           "aaxis": {
            "gridcolor": "white",
            "linecolor": "white",
            "ticks": ""
           },
           "baxis": {
            "gridcolor": "white",
            "linecolor": "white",
            "ticks": ""
           },
           "bgcolor": "#E5ECF6",
           "caxis": {
            "gridcolor": "white",
            "linecolor": "white",
            "ticks": ""
           }
          },
          "title": {
           "x": 0.05
          },
          "xaxis": {
           "automargin": true,
           "gridcolor": "white",
           "linecolor": "white",
           "ticks": "",
           "title": {
            "standoff": 15
           },
           "zerolinecolor": "white",
           "zerolinewidth": 2
          },
          "yaxis": {
           "automargin": true,
           "gridcolor": "white",
           "linecolor": "white",
           "ticks": "",
           "title": {
            "standoff": 15
           },
           "zerolinecolor": "white",
           "zerolinewidth": 2
          }
         }
        }
       }
      }
     },
     "metadata": {},
     "output_type": "display_data"
    },
    {
     "data": {
      "application/vnd.plotly.v1+json": {
       "config": {
        "plotlyServerURL": "https://plot.ly"
       },
       "data": [
        {
         "customdata": {
          "bdata": "AAAAACAHBkEAAAAAgEP0QAAAAAAAmJ9AAAAAAPA1+0AAAAAAwLr2QAAAAAAAmJ9AAAAAALgvA0EAAAAAAO3nQAAAAAAAmJ9AAAAAABC6E0EAAAAAAJXlQAAAAAAAmJ9AAAAAAFAt+kAAAAAAwDf3QAAAAAAAmJ9AAAAAABgLAUEAAAAAAITcQAAAAAAAmJ9AAAAAAGDR+0AAAAAAoMH2QAAAAAAAmJ9AAAAAAMh5C0EAAAAAgG7hQAAAAAAAmJ9AAAAAAABA/UAAAAAAQHz2QAAAAAAAmJ9AAAAAAGD1D0EAAAAAgELgQAAAAAAAmJ9AAAAAANh1EkEAAAAAAKTgQAAAAAAAmJ9AAAAAABgUAEEAAAAAABHyQAAAAAAAmJ9AAAAAAJBzA0EAAAAAAILUQAAAAAAAmJ9AAAAAAAAoA0EAAAAAwN7wQAAAAAAAmJ9AAAAAADjEHkEAAAAAAF/eQAAAAAAAmJ9AAAAAADDlDEEAAAAAgO/sQAAAAAAAmJ9AAAAAALAAAkEAAAAAAJbJQAAAAAAAmJ9AAAAAAPj7AUEAAAAAgM/uQAAAAAAAmJ9AAAAAAMTHEUEAAAAAgFvwQAAAAAAAmJ9AAAAAAIBq+kAAAAAAAFjLQAAAAAAAmJ9A",
          "dtype": "f8",
          "shape": "20, 3"
         },
         "hovertemplate": "Commune=%{x}<br>Taux logements vacants=%{marker.color}<br>p21_pop=%{customdata[0]}<br>code_postal=%{customdata[1]}<br>annee=%{customdata[2]}<extra></extra>",
         "legendgroup": "",
         "marker": {
          "color": {
           "bdata": "MzMzMzMzC0DNzMzMzMwWQAAAAAAAABhAZmZmZmZmGEDNzMzMzMwYQJqZmZmZmRlAZmZmZmZmGkBmZmZmZmYaQM3MzMzMzBpAZmZmZmZmHEDNzMzMzMwcQDMzMzMzMx1AMzMzMzMzHUCamZmZmZkfQGZmZmZmZiBAZmZmZmZmIEDNzMzMzMwgQAAAAAAAACFAMzMzMzMzIUCamZmZmZkhQA==",
           "dtype": "f8"
          },
          "coloraxis": "coloraxis",
          "pattern": {
           "shape": ""
          }
         },
         "name": "",
         "orientation": "v",
         "showlegend": false,
         "text": {
          "bdata": "MzMzMzMzC0DNzMzMzMwWQAAAAAAAABhAZmZmZmZmGEDNzMzMzMwYQJqZmZmZmRlAZmZmZmZmGkBmZmZmZmYaQM3MzMzMzBpAZmZmZmZmHEDNzMzMzMwcQDMzMzMzMx1AMzMzMzMzHUCamZmZmZkfQGZmZmZmZiBAZmZmZmZmIEDNzMzMzMwgQAAAAAAAACFAMzMzMzMzIUCamZmZmZkhQA==",
          "dtype": "f8"
         },
         "textposition": "outside",
         "texttemplate": "%{text:.2f}",
         "type": "bar",
         "x": [
          "Toulon",
          "Montreuil",
          "Angers",
          "Nantes",
          "Argenteuil",
          "Brest",
          "Saint-Denis",
          "Rennes",
          "Boulogne-Billancourt",
          "Bordeaux",
          "Montpellier",
          "Annecy",
          "Dijon",
          "Villeurbanne",
          "Toulouse",
          "Lille",
          "Aix-en-Provence",
          "Clermont-Ferrand",
          "Strasbourg",
          "Caen"
         ],
         "xaxis": "x",
         "y": {
          "bdata": "MzMzMzMzC0DNzMzMzMwWQAAAAAAAABhAZmZmZmZmGEDNzMzMzMwYQJqZmZmZmRlAZmZmZmZmGkBmZmZmZmYaQM3MzMzMzBpAZmZmZmZmHEDNzMzMzMwcQDMzMzMzMx1AMzMzMzMzHUCamZmZmZkfQGZmZmZmZiBAZmZmZmZmIEDNzMzMzMwgQAAAAAAAACFAMzMzMzMzIUCamZmZmZkhQA==",
          "dtype": "f8"
         },
         "yaxis": "y"
        }
       ],
       "layout": {
        "barmode": "relative",
        "coloraxis": {
         "colorbar": {
          "title": {
           "text": "Taux logements vacants"
          }
         },
         "colorscale": [
          [
           0,
           "rgb(247,251,255)"
          ],
          [
           0.125,
           "rgb(222,235,247)"
          ],
          [
           0.25,
           "rgb(198,219,239)"
          ],
          [
           0.375,
           "rgb(158,202,225)"
          ],
          [
           0.5,
           "rgb(107,174,214)"
          ],
          [
           0.625,
           "rgb(66,146,198)"
          ],
          [
           0.75,
           "rgb(33,113,181)"
          ],
          [
           0.875,
           "rgb(8,81,156)"
          ],
          [
           1,
           "rgb(8,48,107)"
          ]
         ]
        },
        "height": 600,
        "legend": {
         "tracegroupgap": 0
        },
        "template": {
         "data": {
          "bar": [
           {
            "error_x": {
             "color": "#2a3f5f"
            },
            "error_y": {
             "color": "#2a3f5f"
            },
            "marker": {
             "line": {
              "color": "#E5ECF6",
              "width": 0.5
             },
             "pattern": {
              "fillmode": "overlay",
              "size": 10,
              "solidity": 0.2
             }
            },
            "type": "bar"
           }
          ],
          "barpolar": [
           {
            "marker": {
             "line": {
              "color": "#E5ECF6",
              "width": 0.5
             },
             "pattern": {
              "fillmode": "overlay",
              "size": 10,
              "solidity": 0.2
             }
            },
            "type": "barpolar"
           }
          ],
          "carpet": [
           {
            "aaxis": {
             "endlinecolor": "#2a3f5f",
             "gridcolor": "white",
             "linecolor": "white",
             "minorgridcolor": "white",
             "startlinecolor": "#2a3f5f"
            },
            "baxis": {
             "endlinecolor": "#2a3f5f",
             "gridcolor": "white",
             "linecolor": "white",
             "minorgridcolor": "white",
             "startlinecolor": "#2a3f5f"
            },
            "type": "carpet"
           }
          ],
          "choropleth": [
           {
            "colorbar": {
             "outlinewidth": 0,
             "ticks": ""
            },
            "type": "choropleth"
           }
          ],
          "contour": [
           {
            "colorbar": {
             "outlinewidth": 0,
             "ticks": ""
            },
            "colorscale": [
             [
              0,
              "#0d0887"
             ],
             [
              0.1111111111111111,
              "#46039f"
             ],
             [
              0.2222222222222222,
              "#7201a8"
             ],
             [
              0.3333333333333333,
              "#9c179e"
             ],
             [
              0.4444444444444444,
              "#bd3786"
             ],
             [
              0.5555555555555556,
              "#d8576b"
             ],
             [
              0.6666666666666666,
              "#ed7953"
             ],
             [
              0.7777777777777778,
              "#fb9f3a"
             ],
             [
              0.8888888888888888,
              "#fdca26"
             ],
             [
              1,
              "#f0f921"
             ]
            ],
            "type": "contour"
           }
          ],
          "contourcarpet": [
           {
            "colorbar": {
             "outlinewidth": 0,
             "ticks": ""
            },
            "type": "contourcarpet"
           }
          ],
          "heatmap": [
           {
            "colorbar": {
             "outlinewidth": 0,
             "ticks": ""
            },
            "colorscale": [
             [
              0,
              "#0d0887"
             ],
             [
              0.1111111111111111,
              "#46039f"
             ],
             [
              0.2222222222222222,
              "#7201a8"
             ],
             [
              0.3333333333333333,
              "#9c179e"
             ],
             [
              0.4444444444444444,
              "#bd3786"
             ],
             [
              0.5555555555555556,
              "#d8576b"
             ],
             [
              0.6666666666666666,
              "#ed7953"
             ],
             [
              0.7777777777777778,
              "#fb9f3a"
             ],
             [
              0.8888888888888888,
              "#fdca26"
             ],
             [
              1,
              "#f0f921"
             ]
            ],
            "type": "heatmap"
           }
          ],
          "histogram": [
           {
            "marker": {
             "pattern": {
              "fillmode": "overlay",
              "size": 10,
              "solidity": 0.2
             }
            },
            "type": "histogram"
           }
          ],
          "histogram2d": [
           {
            "colorbar": {
             "outlinewidth": 0,
             "ticks": ""
            },
            "colorscale": [
             [
              0,
              "#0d0887"
             ],
             [
              0.1111111111111111,
              "#46039f"
             ],
             [
              0.2222222222222222,
              "#7201a8"
             ],
             [
              0.3333333333333333,
              "#9c179e"
             ],
             [
              0.4444444444444444,
              "#bd3786"
             ],
             [
              0.5555555555555556,
              "#d8576b"
             ],
             [
              0.6666666666666666,
              "#ed7953"
             ],
             [
              0.7777777777777778,
              "#fb9f3a"
             ],
             [
              0.8888888888888888,
              "#fdca26"
             ],
             [
              1,
              "#f0f921"
             ]
            ],
            "type": "histogram2d"
           }
          ],
          "histogram2dcontour": [
           {
            "colorbar": {
             "outlinewidth": 0,
             "ticks": ""
            },
            "colorscale": [
             [
              0,
              "#0d0887"
             ],
             [
              0.1111111111111111,
              "#46039f"
             ],
             [
              0.2222222222222222,
              "#7201a8"
             ],
             [
              0.3333333333333333,
              "#9c179e"
             ],
             [
              0.4444444444444444,
              "#bd3786"
             ],
             [
              0.5555555555555556,
              "#d8576b"
             ],
             [
              0.6666666666666666,
              "#ed7953"
             ],
             [
              0.7777777777777778,
              "#fb9f3a"
             ],
             [
              0.8888888888888888,
              "#fdca26"
             ],
             [
              1,
              "#f0f921"
             ]
            ],
            "type": "histogram2dcontour"
           }
          ],
          "mesh3d": [
           {
            "colorbar": {
             "outlinewidth": 0,
             "ticks": ""
            },
            "type": "mesh3d"
           }
          ],
          "parcoords": [
           {
            "line": {
             "colorbar": {
              "outlinewidth": 0,
              "ticks": ""
             }
            },
            "type": "parcoords"
           }
          ],
          "pie": [
           {
            "automargin": true,
            "type": "pie"
           }
          ],
          "scatter": [
           {
            "fillpattern": {
             "fillmode": "overlay",
             "size": 10,
             "solidity": 0.2
            },
            "type": "scatter"
           }
          ],
          "scatter3d": [
           {
            "line": {
             "colorbar": {
              "outlinewidth": 0,
              "ticks": ""
             }
            },
            "marker": {
             "colorbar": {
              "outlinewidth": 0,
              "ticks": ""
             }
            },
            "type": "scatter3d"
           }
          ],
          "scattercarpet": [
           {
            "marker": {
             "colorbar": {
              "outlinewidth": 0,
              "ticks": ""
             }
            },
            "type": "scattercarpet"
           }
          ],
          "scattergeo": [
           {
            "marker": {
             "colorbar": {
              "outlinewidth": 0,
              "ticks": ""
             }
            },
            "type": "scattergeo"
           }
          ],
          "scattergl": [
           {
            "marker": {
             "colorbar": {
              "outlinewidth": 0,
              "ticks": ""
             }
            },
            "type": "scattergl"
           }
          ],
          "scattermap": [
           {
            "marker": {
             "colorbar": {
              "outlinewidth": 0,
              "ticks": ""
             }
            },
            "type": "scattermap"
           }
          ],
          "scattermapbox": [
           {
            "marker": {
             "colorbar": {
              "outlinewidth": 0,
              "ticks": ""
             }
            },
            "type": "scattermapbox"
           }
          ],
          "scatterpolar": [
           {
            "marker": {
             "colorbar": {
              "outlinewidth": 0,
              "ticks": ""
             }
            },
            "type": "scatterpolar"
           }
          ],
          "scatterpolargl": [
           {
            "marker": {
             "colorbar": {
              "outlinewidth": 0,
              "ticks": ""
             }
            },
            "type": "scatterpolargl"
           }
          ],
          "scatterternary": [
           {
            "marker": {
             "colorbar": {
              "outlinewidth": 0,
              "ticks": ""
             }
            },
            "type": "scatterternary"
           }
          ],
          "surface": [
           {
            "colorbar": {
             "outlinewidth": 0,
             "ticks": ""
            },
            "colorscale": [
             [
              0,
              "#0d0887"
             ],
             [
              0.1111111111111111,
              "#46039f"
             ],
             [
              0.2222222222222222,
              "#7201a8"
             ],
             [
              0.3333333333333333,
              "#9c179e"
             ],
             [
              0.4444444444444444,
              "#bd3786"
             ],
             [
              0.5555555555555556,
              "#d8576b"
             ],
             [
              0.6666666666666666,
              "#ed7953"
             ],
             [
              0.7777777777777778,
              "#fb9f3a"
             ],
             [
              0.8888888888888888,
              "#fdca26"
             ],
             [
              1,
              "#f0f921"
             ]
            ],
            "type": "surface"
           }
          ],
          "table": [
           {
            "cells": {
             "fill": {
              "color": "#EBF0F8"
             },
             "line": {
              "color": "white"
             }
            },
            "header": {
             "fill": {
              "color": "#C8D4E3"
             },
             "line": {
              "color": "white"
             }
            },
            "type": "table"
           }
          ]
         },
         "layout": {
          "annotationdefaults": {
           "arrowcolor": "#2a3f5f",
           "arrowhead": 0,
           "arrowwidth": 1
          },
          "autotypenumbers": "strict",
          "coloraxis": {
           "colorbar": {
            "outlinewidth": 0,
            "ticks": ""
           }
          },
          "colorscale": {
           "diverging": [
            [
             0,
             "#8e0152"
            ],
            [
             0.1,
             "#c51b7d"
            ],
            [
             0.2,
             "#de77ae"
            ],
            [
             0.3,
             "#f1b6da"
            ],
            [
             0.4,
             "#fde0ef"
            ],
            [
             0.5,
             "#f7f7f7"
            ],
            [
             0.6,
             "#e6f5d0"
            ],
            [
             0.7,
             "#b8e186"
            ],
            [
             0.8,
             "#7fbc41"
            ],
            [
             0.9,
             "#4d9221"
            ],
            [
             1,
             "#276419"
            ]
           ],
           "sequential": [
            [
             0,
             "#0d0887"
            ],
            [
             0.1111111111111111,
             "#46039f"
            ],
            [
             0.2222222222222222,
             "#7201a8"
            ],
            [
             0.3333333333333333,
             "#9c179e"
            ],
            [
             0.4444444444444444,
             "#bd3786"
            ],
            [
             0.5555555555555556,
             "#d8576b"
            ],
            [
             0.6666666666666666,
             "#ed7953"
            ],
            [
             0.7777777777777778,
             "#fb9f3a"
            ],
            [
             0.8888888888888888,
             "#fdca26"
            ],
            [
             1,
             "#f0f921"
            ]
           ],
           "sequentialminus": [
            [
             0,
             "#0d0887"
            ],
            [
             0.1111111111111111,
             "#46039f"
            ],
            [
             0.2222222222222222,
             "#7201a8"
            ],
            [
             0.3333333333333333,
             "#9c179e"
            ],
            [
             0.4444444444444444,
             "#bd3786"
            ],
            [
             0.5555555555555556,
             "#d8576b"
            ],
            [
             0.6666666666666666,
             "#ed7953"
            ],
            [
             0.7777777777777778,
             "#fb9f3a"
            ],
            [
             0.8888888888888888,
             "#fdca26"
            ],
            [
             1,
             "#f0f921"
            ]
           ]
          },
          "colorway": [
           "#636efa",
           "#EF553B",
           "#00cc96",
           "#ab63fa",
           "#FFA15A",
           "#19d3f3",
           "#FF6692",
           "#B6E880",
           "#FF97FF",
           "#FECB52"
          ],
          "font": {
           "color": "#2a3f5f"
          },
          "geo": {
           "bgcolor": "white",
           "lakecolor": "white",
           "landcolor": "#E5ECF6",
           "showlakes": true,
           "showland": true,
           "subunitcolor": "white"
          },
          "hoverlabel": {
           "align": "left"
          },
          "hovermode": "closest",
          "mapbox": {
           "style": "light"
          },
          "paper_bgcolor": "white",
          "plot_bgcolor": "#E5ECF6",
          "polar": {
           "angularaxis": {
            "gridcolor": "white",
            "linecolor": "white",
            "ticks": ""
           },
           "bgcolor": "#E5ECF6",
           "radialaxis": {
            "gridcolor": "white",
            "linecolor": "white",
            "ticks": ""
           }
          },
          "scene": {
           "xaxis": {
            "backgroundcolor": "#E5ECF6",
            "gridcolor": "white",
            "gridwidth": 2,
            "linecolor": "white",
            "showbackground": true,
            "ticks": "",
            "zerolinecolor": "white"
           },
           "yaxis": {
            "backgroundcolor": "#E5ECF6",
            "gridcolor": "white",
            "gridwidth": 2,
            "linecolor": "white",
            "showbackground": true,
            "ticks": "",
            "zerolinecolor": "white"
           },
           "zaxis": {
            "backgroundcolor": "#E5ECF6",
            "gridcolor": "white",
            "gridwidth": 2,
            "linecolor": "white",
            "showbackground": true,
            "ticks": "",
            "zerolinecolor": "white"
           }
          },
          "shapedefaults": {
           "line": {
            "color": "#2a3f5f"
           }
          },
          "ternary": {
           "aaxis": {
            "gridcolor": "white",
            "linecolor": "white",
            "ticks": ""
           },
           "baxis": {
            "gridcolor": "white",
            "linecolor": "white",
            "ticks": ""
           },
           "bgcolor": "#E5ECF6",
           "caxis": {
            "gridcolor": "white",
            "linecolor": "white",
            "ticks": ""
           }
          },
          "title": {
           "x": 0.05
          },
          "xaxis": {
           "automargin": true,
           "gridcolor": "white",
           "linecolor": "white",
           "ticks": "",
           "title": {
            "standoff": 15
           },
           "zerolinecolor": "white",
           "zerolinewidth": 2
          },
          "yaxis": {
           "automargin": true,
           "gridcolor": "white",
           "linecolor": "white",
           "ticks": "",
           "title": {
            "standoff": 15
           },
           "zerolinecolor": "white",
           "zerolinewidth": 2
          }
         }
        },
        "title": {
         "text": "Top 10 communes avec le plus petit taux de logements vacants"
        },
        "xaxis": {
         "anchor": "y",
         "domain": [
          0,
          1
         ],
         "title": {
          "text": "Commune"
         }
        },
        "yaxis": {
         "anchor": "x",
         "domain": [
          0,
          1
         ],
         "title": {
          "text": "Taux logements vacants"
         }
        }
       }
      }
     },
     "metadata": {},
     "output_type": "display_data"
    }
   ],
   "source": [
    "# --- Garder uniquement l'année la plus récente pour chaque commune ---\n",
    "df_vac_100k_recent = df_vac_100k.sort_values(\"annee\", ascending=False) \\\n",
    "                                 .groupby(\"code_commune\", as_index=False) \\\n",
    "                                 .first()  # prend la ligne la plus récente pour chaque commune\n",
    "\n",
    "# --- Merge avec les coordonnées ---\n",
    "df_vac_map = df_vac_100k_recent.merge(\n",
    "    df_communes_coords,\n",
    "    left_on=\"code_commune\",\n",
    "    right_on=\"code_insee\",\n",
    "    how=\"left\"\n",
    ").dropna(subset=[\"latitude_centre\", \"longitude_centre\"])\n",
    "\n",
    "# --- Affichage carte Plotly ---\n",
    "import plotly.express as px\n",
    "\n",
    "fig = px.scatter_mapbox(\n",
    "    df_vac_map,\n",
    "    lat=\"latitude_centre\",\n",
    "    lon=\"longitude_centre\",\n",
    "    size=\"part_log_vacant\",\n",
    "    color=\"part_log_vacant\",\n",
    "    hover_name=\"nom_commune\",\n",
    "    hover_data={\n",
    "        \"p21_pop\": True,\n",
    "        \"part_log_vacant\": True,\n",
    "        \"code_postal\": True,\n",
    "        \"annee\": True\n",
    "    },\n",
    "    zoom=5,\n",
    "    height=500,\n",
    "    color_continuous_scale=\"OrRd\"\n",
    ")\n",
    "# --- Top 10 communes avec le plus petit taux de logements vacants ---\n",
    "top10_low_vac = df_vac_map.sort_values(\"part_log_vacant\", ascending=True).head(20)\n",
    "\n",
    "# --- Histogramme ---\n",
    "fig_hist = px.bar(\n",
    "    top10_low_vac,\n",
    "    x=\"nom_commune\",\n",
    "    y=\"part_log_vacant\",\n",
    "    text=\"part_log_vacant\",\n",
    "    hover_data={\"p21_pop\": True, \"code_postal\": True, \"annee\": True},\n",
    "    labels={\"part_log_vacant\": \"Taux logements vacants\", \"nom_commune\": \"Commune\"},\n",
    "    title=\"Top 10 communes avec le plus petit taux de logements vacants\",\n",
    "    color=\"part_log_vacant\",\n",
    "    color_continuous_scale=\"Blues\",\n",
    "    height=600\n",
    ")\n",
    "\n",
    "fig.update_layout(mapbox_style=\"open-street-map\", margin={\"r\":0,\"t\":0,\"l\":0,\"b\":0})\n",
    "fig.show()\n",
    "\n",
    "fig_hist.update_traces(texttemplate='%{text:.2f}', textposition='outside')\n",
    "fig_hist.show()"
   ]
  },
  {
   "cell_type": "markdown",
   "id": "4a1eacfe",
   "metadata": {},
   "source": [
    "Etude rentabilité par quartier à Rennes"
   ]
  },
  {
   "cell_type": "code",
   "execution_count": 50,
   "id": "5ad7b818",
   "metadata": {},
   "outputs": [
    {
     "data": {
      "text/html": [
       "<div>\n",
       "<style scoped>\n",
       "    .dataframe tbody tr th:only-of-type {\n",
       "        vertical-align: middle;\n",
       "    }\n",
       "\n",
       "    .dataframe tbody tr th {\n",
       "        vertical-align: top;\n",
       "    }\n",
       "\n",
       "    .dataframe thead th {\n",
       "        text-align: right;\n",
       "    }\n",
       "</style>\n",
       "<table border=\"1\" class=\"dataframe\">\n",
       "  <thead>\n",
       "    <tr style=\"text-align: right;\">\n",
       "      <th></th>\n",
       "      <th>Observatory</th>\n",
       "      <th>Data_year</th>\n",
       "      <th>agglomeration</th>\n",
       "      <th>Zone_calcul</th>\n",
       "      <th>Zone_complementaire</th>\n",
       "      <th>Type_habitat</th>\n",
       "      <th>epoque_construction_local</th>\n",
       "      <th>epoque_construction_homogene</th>\n",
       "      <th>anciennete_locataire_local</th>\n",
       "      <th>anciennete_locataire_homogene</th>\n",
       "      <th>...</th>\n",
       "      <th>loyer_mensuel_1_decile</th>\n",
       "      <th>loyer_mensuel_1_quartile</th>\n",
       "      <th>loyer_mensuel_median</th>\n",
       "      <th>loyer_mensuel_3_quartile</th>\n",
       "      <th>loyer_mensuel_9_decile</th>\n",
       "      <th>moyenne_loyer_mensuel</th>\n",
       "      <th>surface_moyenne</th>\n",
       "      <th>nombre_observations</th>\n",
       "      <th>nombre_logements</th>\n",
       "      <th>methodologie_production</th>\n",
       "    </tr>\n",
       "  </thead>\n",
       "  <tbody>\n",
       "    <tr>\n",
       "      <th>0</th>\n",
       "      <td>B6300</td>\n",
       "      <td>2022</td>\n",
       "      <td>L6300</td>\n",
       "      <td>NaN</td>\n",
       "      <td>NaN</td>\n",
       "      <td>NaN</td>\n",
       "      <td>NaN</td>\n",
       "      <td>NaN</td>\n",
       "      <td>NaN</td>\n",
       "      <td>NaN</td>\n",
       "      <td>...</td>\n",
       "      <td>345.0</td>\n",
       "      <td>410.0</td>\n",
       "      <td>503.0</td>\n",
       "      <td>648.0</td>\n",
       "      <td>840.0</td>\n",
       "      <td>556.0</td>\n",
       "      <td>63.0</td>\n",
       "      <td>10753.0</td>\n",
       "      <td>46756.0</td>\n",
       "      <td>Estimation directe</td>\n",
       "    </tr>\n",
       "    <tr>\n",
       "      <th>1</th>\n",
       "      <td>B6300</td>\n",
       "      <td>2022</td>\n",
       "      <td>L6300</td>\n",
       "      <td>NaN</td>\n",
       "      <td>NaN</td>\n",
       "      <td>NaN</td>\n",
       "      <td>NaN</td>\n",
       "      <td>NaN</td>\n",
       "      <td>NaN</td>\n",
       "      <td>NaN</td>\n",
       "      <td>...</td>\n",
       "      <td>350.0</td>\n",
       "      <td>450.0</td>\n",
       "      <td>500.0</td>\n",
       "      <td>600.0</td>\n",
       "      <td>732.0</td>\n",
       "      <td>526.0</td>\n",
       "      <td>64.0</td>\n",
       "      <td>250.0</td>\n",
       "      <td>2952.0</td>\n",
       "      <td>Estimation directe</td>\n",
       "    </tr>\n",
       "    <tr>\n",
       "      <th>2</th>\n",
       "      <td>B6300</td>\n",
       "      <td>2022</td>\n",
       "      <td>L6300</td>\n",
       "      <td>NaN</td>\n",
       "      <td>NaN</td>\n",
       "      <td>NaN</td>\n",
       "      <td>NaN</td>\n",
       "      <td>NaN</td>\n",
       "      <td>NaN</td>\n",
       "      <td>NaN</td>\n",
       "      <td>...</td>\n",
       "      <td>505.0</td>\n",
       "      <td>600.0</td>\n",
       "      <td>750.0</td>\n",
       "      <td>900.0</td>\n",
       "      <td>1072.0</td>\n",
       "      <td>772.0</td>\n",
       "      <td>98.0</td>\n",
       "      <td>2029.0</td>\n",
       "      <td>13250.0</td>\n",
       "      <td>Estimation directe</td>\n",
       "    </tr>\n",
       "    <tr>\n",
       "      <th>3</th>\n",
       "      <td>B6300</td>\n",
       "      <td>2022</td>\n",
       "      <td>L6300</td>\n",
       "      <td>NaN</td>\n",
       "      <td>NaN</td>\n",
       "      <td>NaN</td>\n",
       "      <td>NaN</td>\n",
       "      <td>NaN</td>\n",
       "      <td>NaN</td>\n",
       "      <td>NaN</td>\n",
       "      <td>...</td>\n",
       "      <td>550.0</td>\n",
       "      <td>670.0</td>\n",
       "      <td>840.0</td>\n",
       "      <td>945.0</td>\n",
       "      <td>1146.0</td>\n",
       "      <td>835.0</td>\n",
       "      <td>106.0</td>\n",
       "      <td>638.0</td>\n",
       "      <td>6582.0</td>\n",
       "      <td>Estimation directe</td>\n",
       "    </tr>\n",
       "    <tr>\n",
       "      <th>4</th>\n",
       "      <td>B6300</td>\n",
       "      <td>2022</td>\n",
       "      <td>L6300</td>\n",
       "      <td>NaN</td>\n",
       "      <td>NaN</td>\n",
       "      <td>NaN</td>\n",
       "      <td>NaN</td>\n",
       "      <td>NaN</td>\n",
       "      <td>NaN</td>\n",
       "      <td>NaN</td>\n",
       "      <td>...</td>\n",
       "      <td>289.0</td>\n",
       "      <td>315.0</td>\n",
       "      <td>348.0</td>\n",
       "      <td>380.0</td>\n",
       "      <td>408.0</td>\n",
       "      <td>348.0</td>\n",
       "      <td>27.0</td>\n",
       "      <td>2175.0</td>\n",
       "      <td>6798.0</td>\n",
       "      <td>Estimation directe</td>\n",
       "    </tr>\n",
       "    <tr>\n",
       "      <th>...</th>\n",
       "      <td>...</td>\n",
       "      <td>...</td>\n",
       "      <td>...</td>\n",
       "      <td>...</td>\n",
       "      <td>...</td>\n",
       "      <td>...</td>\n",
       "      <td>...</td>\n",
       "      <td>...</td>\n",
       "      <td>...</td>\n",
       "      <td>...</td>\n",
       "      <td>...</td>\n",
       "      <td>...</td>\n",
       "      <td>...</td>\n",
       "      <td>...</td>\n",
       "      <td>...</td>\n",
       "      <td>...</td>\n",
       "      <td>...</td>\n",
       "      <td>...</td>\n",
       "      <td>...</td>\n",
       "      <td>...</td>\n",
       "      <td>...</td>\n",
       "    </tr>\n",
       "    <tr>\n",
       "      <th>1927</th>\n",
       "      <td>B6300</td>\n",
       "      <td>2022</td>\n",
       "      <td>L6300</td>\n",
       "      <td>L6300.1.04</td>\n",
       "      <td>NaN</td>\n",
       "      <td>Appartement</td>\n",
       "      <td>5. Après 2005</td>\n",
       "      <td>NaN</td>\n",
       "      <td>NaN</td>\n",
       "      <td>NaN</td>\n",
       "      <td>...</td>\n",
       "      <td>410.0</td>\n",
       "      <td>430.0</td>\n",
       "      <td>465.0</td>\n",
       "      <td>485.0</td>\n",
       "      <td>530.0</td>\n",
       "      <td>463.0</td>\n",
       "      <td>44.0</td>\n",
       "      <td>92.0</td>\n",
       "      <td>272.0</td>\n",
       "      <td>Estimation directe</td>\n",
       "    </tr>\n",
       "    <tr>\n",
       "      <th>1928</th>\n",
       "      <td>B6300</td>\n",
       "      <td>2022</td>\n",
       "      <td>L6300</td>\n",
       "      <td>L6300.1.04</td>\n",
       "      <td>NaN</td>\n",
       "      <td>Appartement</td>\n",
       "      <td>5. Après 2005</td>\n",
       "      <td>NaN</td>\n",
       "      <td>NaN</td>\n",
       "      <td>NaN</td>\n",
       "      <td>...</td>\n",
       "      <td>480.0</td>\n",
       "      <td>500.0</td>\n",
       "      <td>580.0</td>\n",
       "      <td>610.0</td>\n",
       "      <td>623.0</td>\n",
       "      <td>562.0</td>\n",
       "      <td>63.0</td>\n",
       "      <td>67.0</td>\n",
       "      <td>368.0</td>\n",
       "      <td>Estimation directe</td>\n",
       "    </tr>\n",
       "    <tr>\n",
       "      <th>1929</th>\n",
       "      <td>B6300</td>\n",
       "      <td>2022</td>\n",
       "      <td>L6300</td>\n",
       "      <td>L6300.1.04</td>\n",
       "      <td>NaN</td>\n",
       "      <td>Appartement</td>\n",
       "      <td>5. Après 2005</td>\n",
       "      <td>NaN</td>\n",
       "      <td>NaN</td>\n",
       "      <td>NaN</td>\n",
       "      <td>...</td>\n",
       "      <td>NaN</td>\n",
       "      <td>NaN</td>\n",
       "      <td>NaN</td>\n",
       "      <td>NaN</td>\n",
       "      <td>NaN</td>\n",
       "      <td>NaN</td>\n",
       "      <td>NaN</td>\n",
       "      <td>22.0</td>\n",
       "      <td>NaN</td>\n",
       "      <td>Estimation directe</td>\n",
       "    </tr>\n",
       "    <tr>\n",
       "      <th>1930</th>\n",
       "      <td>B6300</td>\n",
       "      <td>2022</td>\n",
       "      <td>L6300</td>\n",
       "      <td>L6300.1.04</td>\n",
       "      <td>NaN</td>\n",
       "      <td>Appartement</td>\n",
       "      <td>5. Après 2005</td>\n",
       "      <td>NaN</td>\n",
       "      <td>1. Moins de 1 an</td>\n",
       "      <td>NaN</td>\n",
       "      <td>...</td>\n",
       "      <td>407.0</td>\n",
       "      <td>463.0</td>\n",
       "      <td>539.0</td>\n",
       "      <td>680.0</td>\n",
       "      <td>750.0</td>\n",
       "      <td>568.0</td>\n",
       "      <td>60.0</td>\n",
       "      <td>62.0</td>\n",
       "      <td>NaN</td>\n",
       "      <td>Estimation directe</td>\n",
       "    </tr>\n",
       "    <tr>\n",
       "      <th>1931</th>\n",
       "      <td>B6300</td>\n",
       "      <td>2022</td>\n",
       "      <td>L6300</td>\n",
       "      <td>L6300.1.04</td>\n",
       "      <td>NaN</td>\n",
       "      <td>Appartement</td>\n",
       "      <td>5. Après 2005</td>\n",
       "      <td>NaN</td>\n",
       "      <td>2. 1 an et plus</td>\n",
       "      <td>NaN</td>\n",
       "      <td>...</td>\n",
       "      <td>420.0</td>\n",
       "      <td>470.0</td>\n",
       "      <td>500.0</td>\n",
       "      <td>610.0</td>\n",
       "      <td>681.0</td>\n",
       "      <td>537.0</td>\n",
       "      <td>58.0</td>\n",
       "      <td>125.0</td>\n",
       "      <td>NaN</td>\n",
       "      <td>Estimation directe</td>\n",
       "    </tr>\n",
       "  </tbody>\n",
       "</table>\n",
       "<p>1932 rows × 28 columns</p>\n",
       "</div>"
      ],
      "text/plain": [
       "     Observatory  Data_year agglomeration Zone_calcul Zone_complementaire  \\\n",
       "0          B6300       2022         L6300         NaN                 NaN   \n",
       "1          B6300       2022         L6300         NaN                 NaN   \n",
       "2          B6300       2022         L6300         NaN                 NaN   \n",
       "3          B6300       2022         L6300         NaN                 NaN   \n",
       "4          B6300       2022         L6300         NaN                 NaN   \n",
       "...          ...        ...           ...         ...                 ...   \n",
       "1927       B6300       2022         L6300  L6300.1.04                 NaN   \n",
       "1928       B6300       2022         L6300  L6300.1.04                 NaN   \n",
       "1929       B6300       2022         L6300  L6300.1.04                 NaN   \n",
       "1930       B6300       2022         L6300  L6300.1.04                 NaN   \n",
       "1931       B6300       2022         L6300  L6300.1.04                 NaN   \n",
       "\n",
       "     Type_habitat epoque_construction_local epoque_construction_homogene  \\\n",
       "0             NaN                       NaN                          NaN   \n",
       "1             NaN                       NaN                          NaN   \n",
       "2             NaN                       NaN                          NaN   \n",
       "3             NaN                       NaN                          NaN   \n",
       "4             NaN                       NaN                          NaN   \n",
       "...           ...                       ...                          ...   \n",
       "1927  Appartement             5. Après 2005                          NaN   \n",
       "1928  Appartement             5. Après 2005                          NaN   \n",
       "1929  Appartement             5. Après 2005                          NaN   \n",
       "1930  Appartement             5. Après 2005                          NaN   \n",
       "1931  Appartement             5. Après 2005                          NaN   \n",
       "\n",
       "     anciennete_locataire_local anciennete_locataire_homogene  ...  \\\n",
       "0                           NaN                           NaN  ...   \n",
       "1                           NaN                           NaN  ...   \n",
       "2                           NaN                           NaN  ...   \n",
       "3                           NaN                           NaN  ...   \n",
       "4                           NaN                           NaN  ...   \n",
       "...                         ...                           ...  ...   \n",
       "1927                        NaN                           NaN  ...   \n",
       "1928                        NaN                           NaN  ...   \n",
       "1929                        NaN                           NaN  ...   \n",
       "1930           1. Moins de 1 an                           NaN  ...   \n",
       "1931            2. 1 an et plus                           NaN  ...   \n",
       "\n",
       "     loyer_mensuel_1_decile loyer_mensuel_1_quartile loyer_mensuel_median  \\\n",
       "0                     345.0                    410.0                503.0   \n",
       "1                     350.0                    450.0                500.0   \n",
       "2                     505.0                    600.0                750.0   \n",
       "3                     550.0                    670.0                840.0   \n",
       "4                     289.0                    315.0                348.0   \n",
       "...                     ...                      ...                  ...   \n",
       "1927                  410.0                    430.0                465.0   \n",
       "1928                  480.0                    500.0                580.0   \n",
       "1929                    NaN                      NaN                  NaN   \n",
       "1930                  407.0                    463.0                539.0   \n",
       "1931                  420.0                    470.0                500.0   \n",
       "\n",
       "     loyer_mensuel_3_quartile loyer_mensuel_9_decile moyenne_loyer_mensuel  \\\n",
       "0                       648.0                  840.0                 556.0   \n",
       "1                       600.0                  732.0                 526.0   \n",
       "2                       900.0                 1072.0                 772.0   \n",
       "3                       945.0                 1146.0                 835.0   \n",
       "4                       380.0                  408.0                 348.0   \n",
       "...                       ...                    ...                   ...   \n",
       "1927                    485.0                  530.0                 463.0   \n",
       "1928                    610.0                  623.0                 562.0   \n",
       "1929                      NaN                    NaN                   NaN   \n",
       "1930                    680.0                  750.0                 568.0   \n",
       "1931                    610.0                  681.0                 537.0   \n",
       "\n",
       "     surface_moyenne nombre_observations  nombre_logements  \\\n",
       "0               63.0             10753.0           46756.0   \n",
       "1               64.0               250.0            2952.0   \n",
       "2               98.0              2029.0           13250.0   \n",
       "3              106.0               638.0            6582.0   \n",
       "4               27.0              2175.0            6798.0   \n",
       "...              ...                 ...               ...   \n",
       "1927            44.0                92.0             272.0   \n",
       "1928            63.0                67.0             368.0   \n",
       "1929             NaN                22.0               NaN   \n",
       "1930            60.0                62.0               NaN   \n",
       "1931            58.0               125.0               NaN   \n",
       "\n",
       "      methodologie_production  \n",
       "0          Estimation directe  \n",
       "1          Estimation directe  \n",
       "2          Estimation directe  \n",
       "3          Estimation directe  \n",
       "4          Estimation directe  \n",
       "...                       ...  \n",
       "1927       Estimation directe  \n",
       "1928       Estimation directe  \n",
       "1929       Estimation directe  \n",
       "1930       Estimation directe  \n",
       "1931       Estimation directe  \n",
       "\n",
       "[1932 rows x 28 columns]"
      ]
     },
     "metadata": {},
     "output_type": "display_data"
    },
    {
     "data": {
      "text/html": [
       "<div>\n",
       "<style scoped>\n",
       "    .dataframe tbody tr th:only-of-type {\n",
       "        vertical-align: middle;\n",
       "    }\n",
       "\n",
       "    .dataframe tbody tr th {\n",
       "        vertical-align: top;\n",
       "    }\n",
       "\n",
       "    .dataframe thead th {\n",
       "        text-align: right;\n",
       "    }\n",
       "</style>\n",
       "<table border=\"1\" class=\"dataframe\">\n",
       "  <thead>\n",
       "    <tr style=\"text-align: right;\">\n",
       "      <th></th>\n",
       "      <th>Quartier</th>\n",
       "      <th>Type de bien</th>\n",
       "      <th>Statut</th>\n",
       "      <th>Nb de pièces</th>\n",
       "      <th>Surface (m²)</th>\n",
       "      <th>Prix au m² (€)</th>\n",
       "      <th>Prix total estimé (€)</th>\n",
       "    </tr>\n",
       "  </thead>\n",
       "  <tbody>\n",
       "    <tr>\n",
       "      <th>0</th>\n",
       "      <td>Thabor-Saint Helier</td>\n",
       "      <td>Appartement</td>\n",
       "      <td>ancien</td>\n",
       "      <td>1</td>\n",
       "      <td>30</td>\n",
       "      <td>4327</td>\n",
       "      <td>129810</td>\n",
       "    </tr>\n",
       "    <tr>\n",
       "      <th>1</th>\n",
       "      <td>Thabor-Saint Helier</td>\n",
       "      <td>Appartement</td>\n",
       "      <td>neuf</td>\n",
       "      <td>1</td>\n",
       "      <td>30</td>\n",
       "      <td>5897</td>\n",
       "      <td>176910</td>\n",
       "    </tr>\n",
       "    <tr>\n",
       "      <th>2</th>\n",
       "      <td>Thabor-Saint Helier</td>\n",
       "      <td>Appartement</td>\n",
       "      <td>ancien</td>\n",
       "      <td>2</td>\n",
       "      <td>45</td>\n",
       "      <td>4327</td>\n",
       "      <td>194715</td>\n",
       "    </tr>\n",
       "    <tr>\n",
       "      <th>3</th>\n",
       "      <td>Thabor-Saint Helier</td>\n",
       "      <td>Appartement</td>\n",
       "      <td>neuf</td>\n",
       "      <td>2</td>\n",
       "      <td>45</td>\n",
       "      <td>5897</td>\n",
       "      <td>265365</td>\n",
       "    </tr>\n",
       "    <tr>\n",
       "      <th>4</th>\n",
       "      <td>Thabor-Saint Helier</td>\n",
       "      <td>Appartement</td>\n",
       "      <td>ancien</td>\n",
       "      <td>3</td>\n",
       "      <td>65</td>\n",
       "      <td>4327</td>\n",
       "      <td>281255</td>\n",
       "    </tr>\n",
       "    <tr>\n",
       "      <th>...</th>\n",
       "      <td>...</td>\n",
       "      <td>...</td>\n",
       "      <td>...</td>\n",
       "      <td>...</td>\n",
       "      <td>...</td>\n",
       "      <td>...</td>\n",
       "      <td>...</td>\n",
       "    </tr>\n",
       "    <tr>\n",
       "      <th>163</th>\n",
       "      <td>Le Blosne</td>\n",
       "      <td>Maison</td>\n",
       "      <td>neuf</td>\n",
       "      <td>3</td>\n",
       "      <td>90</td>\n",
       "      <td>2734</td>\n",
       "      <td>246060</td>\n",
       "    </tr>\n",
       "    <tr>\n",
       "      <th>164</th>\n",
       "      <td>Le Blosne</td>\n",
       "      <td>Maison</td>\n",
       "      <td>ancien</td>\n",
       "      <td>4</td>\n",
       "      <td>110</td>\n",
       "      <td>2006</td>\n",
       "      <td>220660</td>\n",
       "    </tr>\n",
       "    <tr>\n",
       "      <th>165</th>\n",
       "      <td>Le Blosne</td>\n",
       "      <td>Maison</td>\n",
       "      <td>neuf</td>\n",
       "      <td>4</td>\n",
       "      <td>110</td>\n",
       "      <td>2734</td>\n",
       "      <td>300740</td>\n",
       "    </tr>\n",
       "    <tr>\n",
       "      <th>166</th>\n",
       "      <td>Le Blosne</td>\n",
       "      <td>Maison</td>\n",
       "      <td>ancien</td>\n",
       "      <td>5</td>\n",
       "      <td>130</td>\n",
       "      <td>2006</td>\n",
       "      <td>260780</td>\n",
       "    </tr>\n",
       "    <tr>\n",
       "      <th>167</th>\n",
       "      <td>Le Blosne</td>\n",
       "      <td>Maison</td>\n",
       "      <td>neuf</td>\n",
       "      <td>5</td>\n",
       "      <td>130</td>\n",
       "      <td>2734</td>\n",
       "      <td>355420</td>\n",
       "    </tr>\n",
       "  </tbody>\n",
       "</table>\n",
       "<p>168 rows × 7 columns</p>\n",
       "</div>"
      ],
      "text/plain": [
       "                Quartier Type de bien  Statut  Nb de pièces  Surface (m²)  \\\n",
       "0    Thabor-Saint Helier  Appartement  ancien             1            30   \n",
       "1    Thabor-Saint Helier  Appartement    neuf             1            30   \n",
       "2    Thabor-Saint Helier  Appartement  ancien             2            45   \n",
       "3    Thabor-Saint Helier  Appartement    neuf             2            45   \n",
       "4    Thabor-Saint Helier  Appartement  ancien             3            65   \n",
       "..                   ...          ...     ...           ...           ...   \n",
       "163            Le Blosne       Maison    neuf             3            90   \n",
       "164            Le Blosne       Maison  ancien             4           110   \n",
       "165            Le Blosne       Maison    neuf             4           110   \n",
       "166            Le Blosne       Maison  ancien             5           130   \n",
       "167            Le Blosne       Maison    neuf             5           130   \n",
       "\n",
       "     Prix au m² (€)  Prix total estimé (€)  \n",
       "0              4327                 129810  \n",
       "1              5897                 176910  \n",
       "2              4327                 194715  \n",
       "3              5897                 265365  \n",
       "4              4327                 281255  \n",
       "..              ...                    ...  \n",
       "163            2734                 246060  \n",
       "164            2006                 220660  \n",
       "165            2734                 300740  \n",
       "166            2006                 260780  \n",
       "167            2734                 355420  \n",
       "\n",
       "[168 rows x 7 columns]"
      ]
     },
     "metadata": {},
     "output_type": "display_data"
    }
   ],
   "source": [
    "import requests, zipfile, io\n",
    "df = pd.read_csv(f\"{BDD}/rennes_quartiers.csv.txt\", sep=\",\")\n",
    "r = requests.get(f\"{BDD}/data_loyer.zip\")\n",
    "z = zipfile.ZipFile(io.BytesIO(r.content))\n",
    "fichier_csv = [f for f in z.namelist() if f.endswith(\".csv\")][0]\n",
    "df2 = pd.read_csv(z.open(fichier_csv), encoding=\"latin-1\", sep=\";\")\n",
    "df.columns = df.columns.str.strip()\n",
    "df2.columns = df2.columns.str.strip()\n",
    "display(df2)\n",
    "display(df)"
   ]
  },
  {
   "cell_type": "code",
   "execution_count": 51,
   "id": "c30cc949",
   "metadata": {},
   "outputs": [],
   "source": [
    "df['Nb de pièces'] = df['Nb de pièces'].astype(int)\n",
    "df['Surface (m²)'] = df['Surface (m²)'].astype(float)\n",
    "df['Prix au m² (€)'] = df['Prix au m² (€)'].astype(float)\n",
    "df['Prix total estimé (€)'] = df['Prix total estimé (€)'].astype(float)"
   ]
  },
  {
   "cell_type": "code",
   "execution_count": 52,
   "id": "2819b8dd",
   "metadata": {},
   "outputs": [
    {
     "data": {
      "text/html": [
       "<div>\n",
       "<style scoped>\n",
       "    .dataframe tbody tr th:only-of-type {\n",
       "        vertical-align: middle;\n",
       "    }\n",
       "\n",
       "    .dataframe tbody tr th {\n",
       "        vertical-align: top;\n",
       "    }\n",
       "\n",
       "    .dataframe thead th {\n",
       "        text-align: right;\n",
       "    }\n",
       "</style>\n",
       "<table border=\"1\" class=\"dataframe\">\n",
       "  <thead>\n",
       "    <tr style=\"text-align: right;\">\n",
       "      <th></th>\n",
       "      <th>Quartier</th>\n",
       "      <th>Type de bien</th>\n",
       "      <th>Statut</th>\n",
       "      <th>Nb de pièces</th>\n",
       "      <th>Surface (m²)</th>\n",
       "      <th>Prix au m² (€)</th>\n",
       "      <th>Prix total estimé (€)</th>\n",
       "    </tr>\n",
       "  </thead>\n",
       "  <tbody>\n",
       "    <tr>\n",
       "      <th>0</th>\n",
       "      <td>Thabor-Saint Helier</td>\n",
       "      <td>Appartement</td>\n",
       "      <td>ancien</td>\n",
       "      <td>1</td>\n",
       "      <td>30.0</td>\n",
       "      <td>4327.0</td>\n",
       "      <td>129810.0</td>\n",
       "    </tr>\n",
       "    <tr>\n",
       "      <th>1</th>\n",
       "      <td>Thabor-Saint Helier</td>\n",
       "      <td>Appartement</td>\n",
       "      <td>neuf</td>\n",
       "      <td>1</td>\n",
       "      <td>30.0</td>\n",
       "      <td>5897.0</td>\n",
       "      <td>176910.0</td>\n",
       "    </tr>\n",
       "    <tr>\n",
       "      <th>2</th>\n",
       "      <td>Thabor-Saint Helier</td>\n",
       "      <td>Appartement</td>\n",
       "      <td>ancien</td>\n",
       "      <td>2</td>\n",
       "      <td>45.0</td>\n",
       "      <td>4327.0</td>\n",
       "      <td>194715.0</td>\n",
       "    </tr>\n",
       "    <tr>\n",
       "      <th>3</th>\n",
       "      <td>Thabor-Saint Helier</td>\n",
       "      <td>Appartement</td>\n",
       "      <td>neuf</td>\n",
       "      <td>2</td>\n",
       "      <td>45.0</td>\n",
       "      <td>5897.0</td>\n",
       "      <td>265365.0</td>\n",
       "    </tr>\n",
       "    <tr>\n",
       "      <th>14</th>\n",
       "      <td>Atalante Beaulieu</td>\n",
       "      <td>Appartement</td>\n",
       "      <td>ancien</td>\n",
       "      <td>1</td>\n",
       "      <td>30.0</td>\n",
       "      <td>4063.0</td>\n",
       "      <td>121890.0</td>\n",
       "    </tr>\n",
       "    <tr>\n",
       "      <th>15</th>\n",
       "      <td>Atalante Beaulieu</td>\n",
       "      <td>Appartement</td>\n",
       "      <td>neuf</td>\n",
       "      <td>1</td>\n",
       "      <td>30.0</td>\n",
       "      <td>5536.0</td>\n",
       "      <td>166080.0</td>\n",
       "    </tr>\n",
       "    <tr>\n",
       "      <th>16</th>\n",
       "      <td>Atalante Beaulieu</td>\n",
       "      <td>Appartement</td>\n",
       "      <td>ancien</td>\n",
       "      <td>2</td>\n",
       "      <td>45.0</td>\n",
       "      <td>4063.0</td>\n",
       "      <td>182835.0</td>\n",
       "    </tr>\n",
       "    <tr>\n",
       "      <th>17</th>\n",
       "      <td>Atalante Beaulieu</td>\n",
       "      <td>Appartement</td>\n",
       "      <td>neuf</td>\n",
       "      <td>2</td>\n",
       "      <td>45.0</td>\n",
       "      <td>5536.0</td>\n",
       "      <td>249120.0</td>\n",
       "    </tr>\n",
       "    <tr>\n",
       "      <th>28</th>\n",
       "      <td>Centre</td>\n",
       "      <td>Appartement</td>\n",
       "      <td>ancien</td>\n",
       "      <td>1</td>\n",
       "      <td>30.0</td>\n",
       "      <td>3932.0</td>\n",
       "      <td>117960.0</td>\n",
       "    </tr>\n",
       "    <tr>\n",
       "      <th>29</th>\n",
       "      <td>Centre</td>\n",
       "      <td>Appartement</td>\n",
       "      <td>neuf</td>\n",
       "      <td>1</td>\n",
       "      <td>30.0</td>\n",
       "      <td>5357.0</td>\n",
       "      <td>160710.0</td>\n",
       "    </tr>\n",
       "    <tr>\n",
       "      <th>30</th>\n",
       "      <td>Centre</td>\n",
       "      <td>Appartement</td>\n",
       "      <td>ancien</td>\n",
       "      <td>2</td>\n",
       "      <td>45.0</td>\n",
       "      <td>3932.0</td>\n",
       "      <td>176940.0</td>\n",
       "    </tr>\n",
       "    <tr>\n",
       "      <th>31</th>\n",
       "      <td>Centre</td>\n",
       "      <td>Appartement</td>\n",
       "      <td>neuf</td>\n",
       "      <td>2</td>\n",
       "      <td>45.0</td>\n",
       "      <td>5357.0</td>\n",
       "      <td>241065.0</td>\n",
       "    </tr>\n",
       "    <tr>\n",
       "      <th>42</th>\n",
       "      <td>Lorient-Saint Brieuc</td>\n",
       "      <td>Appartement</td>\n",
       "      <td>ancien</td>\n",
       "      <td>1</td>\n",
       "      <td>30.0</td>\n",
       "      <td>3835.0</td>\n",
       "      <td>115050.0</td>\n",
       "    </tr>\n",
       "    <tr>\n",
       "      <th>43</th>\n",
       "      <td>Lorient-Saint Brieuc</td>\n",
       "      <td>Appartement</td>\n",
       "      <td>neuf</td>\n",
       "      <td>1</td>\n",
       "      <td>30.0</td>\n",
       "      <td>5226.0</td>\n",
       "      <td>156780.0</td>\n",
       "    </tr>\n",
       "    <tr>\n",
       "      <th>44</th>\n",
       "      <td>Lorient-Saint Brieuc</td>\n",
       "      <td>Appartement</td>\n",
       "      <td>ancien</td>\n",
       "      <td>2</td>\n",
       "      <td>45.0</td>\n",
       "      <td>3835.0</td>\n",
       "      <td>172575.0</td>\n",
       "    </tr>\n",
       "    <tr>\n",
       "      <th>45</th>\n",
       "      <td>Lorient-Saint Brieuc</td>\n",
       "      <td>Appartement</td>\n",
       "      <td>neuf</td>\n",
       "      <td>2</td>\n",
       "      <td>45.0</td>\n",
       "      <td>5226.0</td>\n",
       "      <td>235170.0</td>\n",
       "    </tr>\n",
       "    <tr>\n",
       "      <th>56</th>\n",
       "      <td>Cleunay-Arsenal Redon</td>\n",
       "      <td>Appartement</td>\n",
       "      <td>ancien</td>\n",
       "      <td>1</td>\n",
       "      <td>30.0</td>\n",
       "      <td>3753.0</td>\n",
       "      <td>112590.0</td>\n",
       "    </tr>\n",
       "    <tr>\n",
       "      <th>57</th>\n",
       "      <td>Cleunay-Arsenal Redon</td>\n",
       "      <td>Appartement</td>\n",
       "      <td>neuf</td>\n",
       "      <td>1</td>\n",
       "      <td>30.0</td>\n",
       "      <td>5114.0</td>\n",
       "      <td>153420.0</td>\n",
       "    </tr>\n",
       "    <tr>\n",
       "      <th>58</th>\n",
       "      <td>Cleunay-Arsenal Redon</td>\n",
       "      <td>Appartement</td>\n",
       "      <td>ancien</td>\n",
       "      <td>2</td>\n",
       "      <td>45.0</td>\n",
       "      <td>3753.0</td>\n",
       "      <td>168885.0</td>\n",
       "    </tr>\n",
       "    <tr>\n",
       "      <th>59</th>\n",
       "      <td>Cleunay-Arsenal Redon</td>\n",
       "      <td>Appartement</td>\n",
       "      <td>neuf</td>\n",
       "      <td>2</td>\n",
       "      <td>45.0</td>\n",
       "      <td>5114.0</td>\n",
       "      <td>230130.0</td>\n",
       "    </tr>\n",
       "    <tr>\n",
       "      <th>70</th>\n",
       "      <td>Francisco-Vern-Poterie</td>\n",
       "      <td>Appartement</td>\n",
       "      <td>ancien</td>\n",
       "      <td>1</td>\n",
       "      <td>30.0</td>\n",
       "      <td>3606.0</td>\n",
       "      <td>108180.0</td>\n",
       "    </tr>\n",
       "    <tr>\n",
       "      <th>71</th>\n",
       "      <td>Francisco-Vern-Poterie</td>\n",
       "      <td>Appartement</td>\n",
       "      <td>neuf</td>\n",
       "      <td>1</td>\n",
       "      <td>30.0</td>\n",
       "      <td>4914.0</td>\n",
       "      <td>147420.0</td>\n",
       "    </tr>\n",
       "    <tr>\n",
       "      <th>72</th>\n",
       "      <td>Francisco-Vern-Poterie</td>\n",
       "      <td>Appartement</td>\n",
       "      <td>ancien</td>\n",
       "      <td>2</td>\n",
       "      <td>45.0</td>\n",
       "      <td>3606.0</td>\n",
       "      <td>162270.0</td>\n",
       "    </tr>\n",
       "    <tr>\n",
       "      <th>73</th>\n",
       "      <td>Francisco-Vern-Poterie</td>\n",
       "      <td>Appartement</td>\n",
       "      <td>neuf</td>\n",
       "      <td>2</td>\n",
       "      <td>45.0</td>\n",
       "      <td>4914.0</td>\n",
       "      <td>221130.0</td>\n",
       "    </tr>\n",
       "    <tr>\n",
       "      <th>84</th>\n",
       "      <td>Sud Gare</td>\n",
       "      <td>Appartement</td>\n",
       "      <td>ancien</td>\n",
       "      <td>1</td>\n",
       "      <td>30.0</td>\n",
       "      <td>3545.0</td>\n",
       "      <td>106350.0</td>\n",
       "    </tr>\n",
       "    <tr>\n",
       "      <th>85</th>\n",
       "      <td>Sud Gare</td>\n",
       "      <td>Appartement</td>\n",
       "      <td>neuf</td>\n",
       "      <td>1</td>\n",
       "      <td>30.0</td>\n",
       "      <td>4831.0</td>\n",
       "      <td>144930.0</td>\n",
       "    </tr>\n",
       "    <tr>\n",
       "      <th>86</th>\n",
       "      <td>Sud Gare</td>\n",
       "      <td>Appartement</td>\n",
       "      <td>ancien</td>\n",
       "      <td>2</td>\n",
       "      <td>45.0</td>\n",
       "      <td>3545.0</td>\n",
       "      <td>159525.0</td>\n",
       "    </tr>\n",
       "    <tr>\n",
       "      <th>87</th>\n",
       "      <td>Sud Gare</td>\n",
       "      <td>Appartement</td>\n",
       "      <td>neuf</td>\n",
       "      <td>2</td>\n",
       "      <td>45.0</td>\n",
       "      <td>4831.0</td>\n",
       "      <td>217395.0</td>\n",
       "    </tr>\n",
       "    <tr>\n",
       "      <th>98</th>\n",
       "      <td>Nord Saint Martin</td>\n",
       "      <td>Appartement</td>\n",
       "      <td>ancien</td>\n",
       "      <td>1</td>\n",
       "      <td>30.0</td>\n",
       "      <td>3515.0</td>\n",
       "      <td>105450.0</td>\n",
       "    </tr>\n",
       "    <tr>\n",
       "      <th>99</th>\n",
       "      <td>Nord Saint Martin</td>\n",
       "      <td>Appartement</td>\n",
       "      <td>neuf</td>\n",
       "      <td>1</td>\n",
       "      <td>30.0</td>\n",
       "      <td>4790.0</td>\n",
       "      <td>143700.0</td>\n",
       "    </tr>\n",
       "    <tr>\n",
       "      <th>100</th>\n",
       "      <td>Nord Saint Martin</td>\n",
       "      <td>Appartement</td>\n",
       "      <td>ancien</td>\n",
       "      <td>2</td>\n",
       "      <td>45.0</td>\n",
       "      <td>3515.0</td>\n",
       "      <td>158175.0</td>\n",
       "    </tr>\n",
       "    <tr>\n",
       "      <th>101</th>\n",
       "      <td>Nord Saint Martin</td>\n",
       "      <td>Appartement</td>\n",
       "      <td>neuf</td>\n",
       "      <td>2</td>\n",
       "      <td>45.0</td>\n",
       "      <td>4790.0</td>\n",
       "      <td>215550.0</td>\n",
       "    </tr>\n",
       "    <tr>\n",
       "      <th>112</th>\n",
       "      <td>Maurepas-Patton</td>\n",
       "      <td>Appartement</td>\n",
       "      <td>ancien</td>\n",
       "      <td>1</td>\n",
       "      <td>30.0</td>\n",
       "      <td>3437.0</td>\n",
       "      <td>103110.0</td>\n",
       "    </tr>\n",
       "    <tr>\n",
       "      <th>113</th>\n",
       "      <td>Maurepas-Patton</td>\n",
       "      <td>Appartement</td>\n",
       "      <td>neuf</td>\n",
       "      <td>1</td>\n",
       "      <td>30.0</td>\n",
       "      <td>4684.0</td>\n",
       "      <td>140520.0</td>\n",
       "    </tr>\n",
       "    <tr>\n",
       "      <th>114</th>\n",
       "      <td>Maurepas-Patton</td>\n",
       "      <td>Appartement</td>\n",
       "      <td>ancien</td>\n",
       "      <td>2</td>\n",
       "      <td>45.0</td>\n",
       "      <td>3437.0</td>\n",
       "      <td>154665.0</td>\n",
       "    </tr>\n",
       "    <tr>\n",
       "      <th>115</th>\n",
       "      <td>Maurepas-Patton</td>\n",
       "      <td>Appartement</td>\n",
       "      <td>neuf</td>\n",
       "      <td>2</td>\n",
       "      <td>45.0</td>\n",
       "      <td>4684.0</td>\n",
       "      <td>210780.0</td>\n",
       "    </tr>\n",
       "    <tr>\n",
       "      <th>126</th>\n",
       "      <td>Villejean-Beauregard</td>\n",
       "      <td>Appartement</td>\n",
       "      <td>ancien</td>\n",
       "      <td>1</td>\n",
       "      <td>30.0</td>\n",
       "      <td>3199.0</td>\n",
       "      <td>95970.0</td>\n",
       "    </tr>\n",
       "    <tr>\n",
       "      <th>127</th>\n",
       "      <td>Villejean-Beauregard</td>\n",
       "      <td>Appartement</td>\n",
       "      <td>neuf</td>\n",
       "      <td>1</td>\n",
       "      <td>30.0</td>\n",
       "      <td>4360.0</td>\n",
       "      <td>130800.0</td>\n",
       "    </tr>\n",
       "    <tr>\n",
       "      <th>128</th>\n",
       "      <td>Villejean-Beauregard</td>\n",
       "      <td>Appartement</td>\n",
       "      <td>ancien</td>\n",
       "      <td>2</td>\n",
       "      <td>45.0</td>\n",
       "      <td>3199.0</td>\n",
       "      <td>143955.0</td>\n",
       "    </tr>\n",
       "    <tr>\n",
       "      <th>129</th>\n",
       "      <td>Villejean-Beauregard</td>\n",
       "      <td>Appartement</td>\n",
       "      <td>neuf</td>\n",
       "      <td>2</td>\n",
       "      <td>45.0</td>\n",
       "      <td>4360.0</td>\n",
       "      <td>196200.0</td>\n",
       "    </tr>\n",
       "    <tr>\n",
       "      <th>140</th>\n",
       "      <td>Bréquigny</td>\n",
       "      <td>Appartement</td>\n",
       "      <td>ancien</td>\n",
       "      <td>1</td>\n",
       "      <td>30.0</td>\n",
       "      <td>3119.0</td>\n",
       "      <td>93570.0</td>\n",
       "    </tr>\n",
       "    <tr>\n",
       "      <th>141</th>\n",
       "      <td>Bréquigny</td>\n",
       "      <td>Appartement</td>\n",
       "      <td>neuf</td>\n",
       "      <td>1</td>\n",
       "      <td>30.0</td>\n",
       "      <td>4250.0</td>\n",
       "      <td>127500.0</td>\n",
       "    </tr>\n",
       "    <tr>\n",
       "      <th>142</th>\n",
       "      <td>Bréquigny</td>\n",
       "      <td>Appartement</td>\n",
       "      <td>ancien</td>\n",
       "      <td>2</td>\n",
       "      <td>45.0</td>\n",
       "      <td>3119.0</td>\n",
       "      <td>140355.0</td>\n",
       "    </tr>\n",
       "    <tr>\n",
       "      <th>143</th>\n",
       "      <td>Bréquigny</td>\n",
       "      <td>Appartement</td>\n",
       "      <td>neuf</td>\n",
       "      <td>2</td>\n",
       "      <td>45.0</td>\n",
       "      <td>4250.0</td>\n",
       "      <td>191250.0</td>\n",
       "    </tr>\n",
       "    <tr>\n",
       "      <th>154</th>\n",
       "      <td>Le Blosne</td>\n",
       "      <td>Appartement</td>\n",
       "      <td>ancien</td>\n",
       "      <td>1</td>\n",
       "      <td>30.0</td>\n",
       "      <td>2006.0</td>\n",
       "      <td>60180.0</td>\n",
       "    </tr>\n",
       "    <tr>\n",
       "      <th>155</th>\n",
       "      <td>Le Blosne</td>\n",
       "      <td>Appartement</td>\n",
       "      <td>neuf</td>\n",
       "      <td>1</td>\n",
       "      <td>30.0</td>\n",
       "      <td>2734.0</td>\n",
       "      <td>82020.0</td>\n",
       "    </tr>\n",
       "    <tr>\n",
       "      <th>156</th>\n",
       "      <td>Le Blosne</td>\n",
       "      <td>Appartement</td>\n",
       "      <td>ancien</td>\n",
       "      <td>2</td>\n",
       "      <td>45.0</td>\n",
       "      <td>2006.0</td>\n",
       "      <td>90270.0</td>\n",
       "    </tr>\n",
       "    <tr>\n",
       "      <th>157</th>\n",
       "      <td>Le Blosne</td>\n",
       "      <td>Appartement</td>\n",
       "      <td>neuf</td>\n",
       "      <td>2</td>\n",
       "      <td>45.0</td>\n",
       "      <td>2734.0</td>\n",
       "      <td>123030.0</td>\n",
       "    </tr>\n",
       "  </tbody>\n",
       "</table>\n",
       "</div>"
      ],
      "text/plain": [
       "                   Quartier Type de bien  Statut  Nb de pièces  Surface (m²)  \\\n",
       "0       Thabor-Saint Helier  Appartement  ancien             1          30.0   \n",
       "1       Thabor-Saint Helier  Appartement    neuf             1          30.0   \n",
       "2       Thabor-Saint Helier  Appartement  ancien             2          45.0   \n",
       "3       Thabor-Saint Helier  Appartement    neuf             2          45.0   \n",
       "14        Atalante Beaulieu  Appartement  ancien             1          30.0   \n",
       "15        Atalante Beaulieu  Appartement    neuf             1          30.0   \n",
       "16        Atalante Beaulieu  Appartement  ancien             2          45.0   \n",
       "17        Atalante Beaulieu  Appartement    neuf             2          45.0   \n",
       "28                   Centre  Appartement  ancien             1          30.0   \n",
       "29                   Centre  Appartement    neuf             1          30.0   \n",
       "30                   Centre  Appartement  ancien             2          45.0   \n",
       "31                   Centre  Appartement    neuf             2          45.0   \n",
       "42     Lorient-Saint Brieuc  Appartement  ancien             1          30.0   \n",
       "43     Lorient-Saint Brieuc  Appartement    neuf             1          30.0   \n",
       "44     Lorient-Saint Brieuc  Appartement  ancien             2          45.0   \n",
       "45     Lorient-Saint Brieuc  Appartement    neuf             2          45.0   \n",
       "56    Cleunay-Arsenal Redon  Appartement  ancien             1          30.0   \n",
       "57    Cleunay-Arsenal Redon  Appartement    neuf             1          30.0   \n",
       "58    Cleunay-Arsenal Redon  Appartement  ancien             2          45.0   \n",
       "59    Cleunay-Arsenal Redon  Appartement    neuf             2          45.0   \n",
       "70   Francisco-Vern-Poterie  Appartement  ancien             1          30.0   \n",
       "71   Francisco-Vern-Poterie  Appartement    neuf             1          30.0   \n",
       "72   Francisco-Vern-Poterie  Appartement  ancien             2          45.0   \n",
       "73   Francisco-Vern-Poterie  Appartement    neuf             2          45.0   \n",
       "84                 Sud Gare  Appartement  ancien             1          30.0   \n",
       "85                 Sud Gare  Appartement    neuf             1          30.0   \n",
       "86                 Sud Gare  Appartement  ancien             2          45.0   \n",
       "87                 Sud Gare  Appartement    neuf             2          45.0   \n",
       "98        Nord Saint Martin  Appartement  ancien             1          30.0   \n",
       "99        Nord Saint Martin  Appartement    neuf             1          30.0   \n",
       "100       Nord Saint Martin  Appartement  ancien             2          45.0   \n",
       "101       Nord Saint Martin  Appartement    neuf             2          45.0   \n",
       "112         Maurepas-Patton  Appartement  ancien             1          30.0   \n",
       "113         Maurepas-Patton  Appartement    neuf             1          30.0   \n",
       "114         Maurepas-Patton  Appartement  ancien             2          45.0   \n",
       "115         Maurepas-Patton  Appartement    neuf             2          45.0   \n",
       "126    Villejean-Beauregard  Appartement  ancien             1          30.0   \n",
       "127    Villejean-Beauregard  Appartement    neuf             1          30.0   \n",
       "128    Villejean-Beauregard  Appartement  ancien             2          45.0   \n",
       "129    Villejean-Beauregard  Appartement    neuf             2          45.0   \n",
       "140               Bréquigny  Appartement  ancien             1          30.0   \n",
       "141               Bréquigny  Appartement    neuf             1          30.0   \n",
       "142               Bréquigny  Appartement  ancien             2          45.0   \n",
       "143               Bréquigny  Appartement    neuf             2          45.0   \n",
       "154               Le Blosne  Appartement  ancien             1          30.0   \n",
       "155               Le Blosne  Appartement    neuf             1          30.0   \n",
       "156               Le Blosne  Appartement  ancien             2          45.0   \n",
       "157               Le Blosne  Appartement    neuf             2          45.0   \n",
       "\n",
       "     Prix au m² (€)  Prix total estimé (€)  \n",
       "0            4327.0               129810.0  \n",
       "1            5897.0               176910.0  \n",
       "2            4327.0               194715.0  \n",
       "3            5897.0               265365.0  \n",
       "14           4063.0               121890.0  \n",
       "15           5536.0               166080.0  \n",
       "16           4063.0               182835.0  \n",
       "17           5536.0               249120.0  \n",
       "28           3932.0               117960.0  \n",
       "29           5357.0               160710.0  \n",
       "30           3932.0               176940.0  \n",
       "31           5357.0               241065.0  \n",
       "42           3835.0               115050.0  \n",
       "43           5226.0               156780.0  \n",
       "44           3835.0               172575.0  \n",
       "45           5226.0               235170.0  \n",
       "56           3753.0               112590.0  \n",
       "57           5114.0               153420.0  \n",
       "58           3753.0               168885.0  \n",
       "59           5114.0               230130.0  \n",
       "70           3606.0               108180.0  \n",
       "71           4914.0               147420.0  \n",
       "72           3606.0               162270.0  \n",
       "73           4914.0               221130.0  \n",
       "84           3545.0               106350.0  \n",
       "85           4831.0               144930.0  \n",
       "86           3545.0               159525.0  \n",
       "87           4831.0               217395.0  \n",
       "98           3515.0               105450.0  \n",
       "99           4790.0               143700.0  \n",
       "100          3515.0               158175.0  \n",
       "101          4790.0               215550.0  \n",
       "112          3437.0               103110.0  \n",
       "113          4684.0               140520.0  \n",
       "114          3437.0               154665.0  \n",
       "115          4684.0               210780.0  \n",
       "126          3199.0                95970.0  \n",
       "127          4360.0               130800.0  \n",
       "128          3199.0               143955.0  \n",
       "129          4360.0               196200.0  \n",
       "140          3119.0                93570.0  \n",
       "141          4250.0               127500.0  \n",
       "142          3119.0               140355.0  \n",
       "143          4250.0               191250.0  \n",
       "154          2006.0                60180.0  \n",
       "155          2734.0                82020.0  \n",
       "156          2006.0                90270.0  \n",
       "157          2734.0               123030.0  "
      ]
     },
     "metadata": {},
     "output_type": "display_data"
    },
    {
     "data": {
      "text/html": [
       "<div>\n",
       "<style scoped>\n",
       "    .dataframe tbody tr th:only-of-type {\n",
       "        vertical-align: middle;\n",
       "    }\n",
       "\n",
       "    .dataframe tbody tr th {\n",
       "        vertical-align: top;\n",
       "    }\n",
       "\n",
       "    .dataframe thead th {\n",
       "        text-align: right;\n",
       "    }\n",
       "</style>\n",
       "<table border=\"1\" class=\"dataframe\">\n",
       "  <thead>\n",
       "    <tr style=\"text-align: right;\">\n",
       "      <th></th>\n",
       "      <th>Observatory</th>\n",
       "      <th>Data_year</th>\n",
       "      <th>agglomeration</th>\n",
       "      <th>Zone_calcul</th>\n",
       "      <th>Zone_complementaire</th>\n",
       "      <th>Type_habitat</th>\n",
       "      <th>epoque_construction_local</th>\n",
       "      <th>epoque_construction_homogene</th>\n",
       "      <th>anciennete_locataire_local</th>\n",
       "      <th>anciennete_locataire_homogene</th>\n",
       "      <th>...</th>\n",
       "      <th>loyer_mensuel_1_decile</th>\n",
       "      <th>loyer_mensuel_1_quartile</th>\n",
       "      <th>loyer_mensuel_median</th>\n",
       "      <th>loyer_mensuel_3_quartile</th>\n",
       "      <th>loyer_mensuel_9_decile</th>\n",
       "      <th>moyenne_loyer_mensuel</th>\n",
       "      <th>surface_moyenne</th>\n",
       "      <th>nombre_observations</th>\n",
       "      <th>nombre_logements</th>\n",
       "      <th>methodologie_production</th>\n",
       "    </tr>\n",
       "  </thead>\n",
       "  <tbody>\n",
       "    <tr>\n",
       "      <th>4</th>\n",
       "      <td>B6300</td>\n",
       "      <td>2022</td>\n",
       "      <td>L6300</td>\n",
       "      <td>NaN</td>\n",
       "      <td>NaN</td>\n",
       "      <td>NaN</td>\n",
       "      <td>NaN</td>\n",
       "      <td>NaN</td>\n",
       "      <td>NaN</td>\n",
       "      <td>NaN</td>\n",
       "      <td>...</td>\n",
       "      <td>289.0</td>\n",
       "      <td>315.0</td>\n",
       "      <td>348.0</td>\n",
       "      <td>380.0</td>\n",
       "      <td>408.0</td>\n",
       "      <td>348.0</td>\n",
       "      <td>27.0</td>\n",
       "      <td>2175.0</td>\n",
       "      <td>6798.0</td>\n",
       "      <td>Estimation directe</td>\n",
       "    </tr>\n",
       "    <tr>\n",
       "      <th>5</th>\n",
       "      <td>B6300</td>\n",
       "      <td>2022</td>\n",
       "      <td>L6300</td>\n",
       "      <td>NaN</td>\n",
       "      <td>NaN</td>\n",
       "      <td>NaN</td>\n",
       "      <td>NaN</td>\n",
       "      <td>NaN</td>\n",
       "      <td>NaN</td>\n",
       "      <td>NaN</td>\n",
       "      <td>...</td>\n",
       "      <td>360.0</td>\n",
       "      <td>400.0</td>\n",
       "      <td>450.0</td>\n",
       "      <td>495.0</td>\n",
       "      <td>534.0</td>\n",
       "      <td>445.0</td>\n",
       "      <td>44.0</td>\n",
       "      <td>3557.0</td>\n",
       "      <td>12422.0</td>\n",
       "      <td>Estimation directe</td>\n",
       "    </tr>\n",
       "    <tr>\n",
       "      <th>178</th>\n",
       "      <td>B6300</td>\n",
       "      <td>2022</td>\n",
       "      <td>L6300</td>\n",
       "      <td>NaN</td>\n",
       "      <td>NaN</td>\n",
       "      <td>Appartement</td>\n",
       "      <td>NaN</td>\n",
       "      <td>NaN</td>\n",
       "      <td>NaN</td>\n",
       "      <td>NaN</td>\n",
       "      <td>...</td>\n",
       "      <td>289.0</td>\n",
       "      <td>315.0</td>\n",
       "      <td>348.0</td>\n",
       "      <td>380.0</td>\n",
       "      <td>408.0</td>\n",
       "      <td>348.0</td>\n",
       "      <td>27.0</td>\n",
       "      <td>2175.0</td>\n",
       "      <td>6798.0</td>\n",
       "      <td>Estimation directe</td>\n",
       "    </tr>\n",
       "    <tr>\n",
       "      <th>179</th>\n",
       "      <td>B6300</td>\n",
       "      <td>2022</td>\n",
       "      <td>L6300</td>\n",
       "      <td>NaN</td>\n",
       "      <td>NaN</td>\n",
       "      <td>Appartement</td>\n",
       "      <td>NaN</td>\n",
       "      <td>NaN</td>\n",
       "      <td>NaN</td>\n",
       "      <td>NaN</td>\n",
       "      <td>...</td>\n",
       "      <td>360.0</td>\n",
       "      <td>400.0</td>\n",
       "      <td>450.0</td>\n",
       "      <td>495.0</td>\n",
       "      <td>534.0</td>\n",
       "      <td>445.0</td>\n",
       "      <td>44.0</td>\n",
       "      <td>3557.0</td>\n",
       "      <td>12422.0</td>\n",
       "      <td>Estimation directe</td>\n",
       "    </tr>\n",
       "    <tr>\n",
       "      <th>182</th>\n",
       "      <td>B6300</td>\n",
       "      <td>2022</td>\n",
       "      <td>L6300</td>\n",
       "      <td>NaN</td>\n",
       "      <td>NaN</td>\n",
       "      <td>Appartement</td>\n",
       "      <td>NaN</td>\n",
       "      <td>NaN</td>\n",
       "      <td>NaN</td>\n",
       "      <td>NaN</td>\n",
       "      <td>...</td>\n",
       "      <td>289.0</td>\n",
       "      <td>315.0</td>\n",
       "      <td>348.0</td>\n",
       "      <td>380.0</td>\n",
       "      <td>408.0</td>\n",
       "      <td>348.0</td>\n",
       "      <td>27.0</td>\n",
       "      <td>2175.0</td>\n",
       "      <td>6798.0</td>\n",
       "      <td>Estimation directe</td>\n",
       "    </tr>\n",
       "    <tr>\n",
       "      <th>...</th>\n",
       "      <td>...</td>\n",
       "      <td>...</td>\n",
       "      <td>...</td>\n",
       "      <td>...</td>\n",
       "      <td>...</td>\n",
       "      <td>...</td>\n",
       "      <td>...</td>\n",
       "      <td>...</td>\n",
       "      <td>...</td>\n",
       "      <td>...</td>\n",
       "      <td>...</td>\n",
       "      <td>...</td>\n",
       "      <td>...</td>\n",
       "      <td>...</td>\n",
       "      <td>...</td>\n",
       "      <td>...</td>\n",
       "      <td>...</td>\n",
       "      <td>...</td>\n",
       "      <td>...</td>\n",
       "      <td>...</td>\n",
       "      <td>...</td>\n",
       "    </tr>\n",
       "    <tr>\n",
       "      <th>1871</th>\n",
       "      <td>B6300</td>\n",
       "      <td>2022</td>\n",
       "      <td>L6300</td>\n",
       "      <td>L6300.1.04</td>\n",
       "      <td>NaN</td>\n",
       "      <td>Appartement</td>\n",
       "      <td>NaN</td>\n",
       "      <td>2. Entre 1946-1970</td>\n",
       "      <td>NaN</td>\n",
       "      <td>NaN</td>\n",
       "      <td>...</td>\n",
       "      <td>330.0</td>\n",
       "      <td>362.0</td>\n",
       "      <td>375.0</td>\n",
       "      <td>454.0</td>\n",
       "      <td>491.0</td>\n",
       "      <td>402.0</td>\n",
       "      <td>48.0</td>\n",
       "      <td>65.0</td>\n",
       "      <td>383.0</td>\n",
       "      <td>Estimation directe</td>\n",
       "    </tr>\n",
       "    <tr>\n",
       "      <th>1892</th>\n",
       "      <td>B6300</td>\n",
       "      <td>2022</td>\n",
       "      <td>L6300</td>\n",
       "      <td>L6300.1.04</td>\n",
       "      <td>NaN</td>\n",
       "      <td>Appartement</td>\n",
       "      <td>NaN</td>\n",
       "      <td>5. Après 2005</td>\n",
       "      <td>NaN</td>\n",
       "      <td>NaN</td>\n",
       "      <td>...</td>\n",
       "      <td>410.0</td>\n",
       "      <td>430.0</td>\n",
       "      <td>465.0</td>\n",
       "      <td>485.0</td>\n",
       "      <td>530.0</td>\n",
       "      <td>463.0</td>\n",
       "      <td>44.0</td>\n",
       "      <td>92.0</td>\n",
       "      <td>272.0</td>\n",
       "      <td>Estimation directe</td>\n",
       "    </tr>\n",
       "    <tr>\n",
       "      <th>1899</th>\n",
       "      <td>B6300</td>\n",
       "      <td>2022</td>\n",
       "      <td>L6300</td>\n",
       "      <td>L6300.1.04</td>\n",
       "      <td>NaN</td>\n",
       "      <td>Appartement</td>\n",
       "      <td>1. Avant 1946</td>\n",
       "      <td>NaN</td>\n",
       "      <td>NaN</td>\n",
       "      <td>NaN</td>\n",
       "      <td>...</td>\n",
       "      <td>320.0</td>\n",
       "      <td>353.0</td>\n",
       "      <td>400.0</td>\n",
       "      <td>430.0</td>\n",
       "      <td>500.0</td>\n",
       "      <td>400.0</td>\n",
       "      <td>46.0</td>\n",
       "      <td>142.0</td>\n",
       "      <td>609.0</td>\n",
       "      <td>Estimation directe</td>\n",
       "    </tr>\n",
       "    <tr>\n",
       "      <th>1906</th>\n",
       "      <td>B6300</td>\n",
       "      <td>2022</td>\n",
       "      <td>L6300</td>\n",
       "      <td>L6300.1.04</td>\n",
       "      <td>NaN</td>\n",
       "      <td>Appartement</td>\n",
       "      <td>2. Entre 1946-1970</td>\n",
       "      <td>NaN</td>\n",
       "      <td>NaN</td>\n",
       "      <td>NaN</td>\n",
       "      <td>...</td>\n",
       "      <td>330.0</td>\n",
       "      <td>362.0</td>\n",
       "      <td>375.0</td>\n",
       "      <td>454.0</td>\n",
       "      <td>491.0</td>\n",
       "      <td>402.0</td>\n",
       "      <td>48.0</td>\n",
       "      <td>65.0</td>\n",
       "      <td>383.0</td>\n",
       "      <td>Estimation directe</td>\n",
       "    </tr>\n",
       "    <tr>\n",
       "      <th>1927</th>\n",
       "      <td>B6300</td>\n",
       "      <td>2022</td>\n",
       "      <td>L6300</td>\n",
       "      <td>L6300.1.04</td>\n",
       "      <td>NaN</td>\n",
       "      <td>Appartement</td>\n",
       "      <td>5. Après 2005</td>\n",
       "      <td>NaN</td>\n",
       "      <td>NaN</td>\n",
       "      <td>NaN</td>\n",
       "      <td>...</td>\n",
       "      <td>410.0</td>\n",
       "      <td>430.0</td>\n",
       "      <td>465.0</td>\n",
       "      <td>485.0</td>\n",
       "      <td>530.0</td>\n",
       "      <td>463.0</td>\n",
       "      <td>44.0</td>\n",
       "      <td>92.0</td>\n",
       "      <td>272.0</td>\n",
       "      <td>Estimation directe</td>\n",
       "    </tr>\n",
       "  </tbody>\n",
       "</table>\n",
       "<p>236 rows × 28 columns</p>\n",
       "</div>"
      ],
      "text/plain": [
       "     Observatory  Data_year agglomeration Zone_calcul Zone_complementaire  \\\n",
       "4          B6300       2022         L6300         NaN                 NaN   \n",
       "5          B6300       2022         L6300         NaN                 NaN   \n",
       "178        B6300       2022         L6300         NaN                 NaN   \n",
       "179        B6300       2022         L6300         NaN                 NaN   \n",
       "182        B6300       2022         L6300         NaN                 NaN   \n",
       "...          ...        ...           ...         ...                 ...   \n",
       "1871       B6300       2022         L6300  L6300.1.04                 NaN   \n",
       "1892       B6300       2022         L6300  L6300.1.04                 NaN   \n",
       "1899       B6300       2022         L6300  L6300.1.04                 NaN   \n",
       "1906       B6300       2022         L6300  L6300.1.04                 NaN   \n",
       "1927       B6300       2022         L6300  L6300.1.04                 NaN   \n",
       "\n",
       "     Type_habitat epoque_construction_local epoque_construction_homogene  \\\n",
       "4             NaN                       NaN                          NaN   \n",
       "5             NaN                       NaN                          NaN   \n",
       "178   Appartement                       NaN                          NaN   \n",
       "179   Appartement                       NaN                          NaN   \n",
       "182   Appartement                       NaN                          NaN   \n",
       "...           ...                       ...                          ...   \n",
       "1871  Appartement                       NaN           2. Entre 1946-1970   \n",
       "1892  Appartement                       NaN                5. Après 2005   \n",
       "1899  Appartement             1. Avant 1946                          NaN   \n",
       "1906  Appartement        2. Entre 1946-1970                          NaN   \n",
       "1927  Appartement             5. Après 2005                          NaN   \n",
       "\n",
       "     anciennete_locataire_local anciennete_locataire_homogene  ...  \\\n",
       "4                           NaN                           NaN  ...   \n",
       "5                           NaN                           NaN  ...   \n",
       "178                         NaN                           NaN  ...   \n",
       "179                         NaN                           NaN  ...   \n",
       "182                         NaN                           NaN  ...   \n",
       "...                         ...                           ...  ...   \n",
       "1871                        NaN                           NaN  ...   \n",
       "1892                        NaN                           NaN  ...   \n",
       "1899                        NaN                           NaN  ...   \n",
       "1906                        NaN                           NaN  ...   \n",
       "1927                        NaN                           NaN  ...   \n",
       "\n",
       "     loyer_mensuel_1_decile loyer_mensuel_1_quartile loyer_mensuel_median  \\\n",
       "4                     289.0                    315.0                348.0   \n",
       "5                     360.0                    400.0                450.0   \n",
       "178                   289.0                    315.0                348.0   \n",
       "179                   360.0                    400.0                450.0   \n",
       "182                   289.0                    315.0                348.0   \n",
       "...                     ...                      ...                  ...   \n",
       "1871                  330.0                    362.0                375.0   \n",
       "1892                  410.0                    430.0                465.0   \n",
       "1899                  320.0                    353.0                400.0   \n",
       "1906                  330.0                    362.0                375.0   \n",
       "1927                  410.0                    430.0                465.0   \n",
       "\n",
       "     loyer_mensuel_3_quartile loyer_mensuel_9_decile moyenne_loyer_mensuel  \\\n",
       "4                       380.0                  408.0                 348.0   \n",
       "5                       495.0                  534.0                 445.0   \n",
       "178                     380.0                  408.0                 348.0   \n",
       "179                     495.0                  534.0                 445.0   \n",
       "182                     380.0                  408.0                 348.0   \n",
       "...                       ...                    ...                   ...   \n",
       "1871                    454.0                  491.0                 402.0   \n",
       "1892                    485.0                  530.0                 463.0   \n",
       "1899                    430.0                  500.0                 400.0   \n",
       "1906                    454.0                  491.0                 402.0   \n",
       "1927                    485.0                  530.0                 463.0   \n",
       "\n",
       "     surface_moyenne nombre_observations  nombre_logements  \\\n",
       "4               27.0              2175.0            6798.0   \n",
       "5               44.0              3557.0           12422.0   \n",
       "178             27.0              2175.0            6798.0   \n",
       "179             44.0              3557.0           12422.0   \n",
       "182             27.0              2175.0            6798.0   \n",
       "...              ...                 ...               ...   \n",
       "1871            48.0                65.0             383.0   \n",
       "1892            44.0                92.0             272.0   \n",
       "1899            46.0               142.0             609.0   \n",
       "1906            48.0                65.0             383.0   \n",
       "1927            44.0                92.0             272.0   \n",
       "\n",
       "      methodologie_production  \n",
       "4          Estimation directe  \n",
       "5          Estimation directe  \n",
       "178        Estimation directe  \n",
       "179        Estimation directe  \n",
       "182        Estimation directe  \n",
       "...                       ...  \n",
       "1871       Estimation directe  \n",
       "1892       Estimation directe  \n",
       "1899       Estimation directe  \n",
       "1906       Estimation directe  \n",
       "1927       Estimation directe  \n",
       "\n",
       "[236 rows x 28 columns]"
      ]
     },
     "metadata": {},
     "output_type": "display_data"
    }
   ],
   "source": [
    "df_etudiants = df[(df['Type de bien'] == 'Appartement') & (df['Surface (m²)'] < 50)]\n",
    "df2 = df2[((df2['Type_habitat'] == 'Appartement') | (df2['nombre_pieces_homogene'] == 'Appart 1P') | (df2['nombre_pieces_homogene'] == 'Appart 2P')) & (df2['surface_moyenne'] < 50)]\n",
    "display(df_etudiants)\n",
    "display(df2)"
   ]
  },
  {
   "cell_type": "code",
   "execution_count": 53,
   "id": "9fc45e7b",
   "metadata": {},
   "outputs": [
    {
     "data": {
      "text/html": [
       "<div>\n",
       "<style scoped>\n",
       "    .dataframe tbody tr th:only-of-type {\n",
       "        vertical-align: middle;\n",
       "    }\n",
       "\n",
       "    .dataframe tbody tr th {\n",
       "        vertical-align: top;\n",
       "    }\n",
       "\n",
       "    .dataframe thead th {\n",
       "        text-align: right;\n",
       "    }\n",
       "</style>\n",
       "<table border=\"1\" class=\"dataframe\">\n",
       "  <thead>\n",
       "    <tr style=\"text-align: right;\">\n",
       "      <th></th>\n",
       "      <th>Quartier</th>\n",
       "      <th>Type de bien</th>\n",
       "      <th>Statut</th>\n",
       "      <th>Nb de pièces</th>\n",
       "      <th>Surface (m²)</th>\n",
       "      <th>Prix au m² (€)</th>\n",
       "      <th>Prix total estimé (€)</th>\n",
       "    </tr>\n",
       "  </thead>\n",
       "  <tbody>\n",
       "    <tr>\n",
       "      <th>154</th>\n",
       "      <td>Le Blosne</td>\n",
       "      <td>Appartement</td>\n",
       "      <td>ancien</td>\n",
       "      <td>1</td>\n",
       "      <td>30.0</td>\n",
       "      <td>2006.0</td>\n",
       "      <td>60180.0</td>\n",
       "    </tr>\n",
       "    <tr>\n",
       "      <th>156</th>\n",
       "      <td>Le Blosne</td>\n",
       "      <td>Appartement</td>\n",
       "      <td>ancien</td>\n",
       "      <td>2</td>\n",
       "      <td>45.0</td>\n",
       "      <td>2006.0</td>\n",
       "      <td>90270.0</td>\n",
       "    </tr>\n",
       "    <tr>\n",
       "      <th>157</th>\n",
       "      <td>Le Blosne</td>\n",
       "      <td>Appartement</td>\n",
       "      <td>neuf</td>\n",
       "      <td>2</td>\n",
       "      <td>45.0</td>\n",
       "      <td>2734.0</td>\n",
       "      <td>123030.0</td>\n",
       "    </tr>\n",
       "    <tr>\n",
       "      <th>155</th>\n",
       "      <td>Le Blosne</td>\n",
       "      <td>Appartement</td>\n",
       "      <td>neuf</td>\n",
       "      <td>1</td>\n",
       "      <td>30.0</td>\n",
       "      <td>2734.0</td>\n",
       "      <td>82020.0</td>\n",
       "    </tr>\n",
       "    <tr>\n",
       "      <th>142</th>\n",
       "      <td>Bréquigny</td>\n",
       "      <td>Appartement</td>\n",
       "      <td>ancien</td>\n",
       "      <td>2</td>\n",
       "      <td>45.0</td>\n",
       "      <td>3119.0</td>\n",
       "      <td>140355.0</td>\n",
       "    </tr>\n",
       "    <tr>\n",
       "      <th>140</th>\n",
       "      <td>Bréquigny</td>\n",
       "      <td>Appartement</td>\n",
       "      <td>ancien</td>\n",
       "      <td>1</td>\n",
       "      <td>30.0</td>\n",
       "      <td>3119.0</td>\n",
       "      <td>93570.0</td>\n",
       "    </tr>\n",
       "    <tr>\n",
       "      <th>126</th>\n",
       "      <td>Villejean-Beauregard</td>\n",
       "      <td>Appartement</td>\n",
       "      <td>ancien</td>\n",
       "      <td>1</td>\n",
       "      <td>30.0</td>\n",
       "      <td>3199.0</td>\n",
       "      <td>95970.0</td>\n",
       "    </tr>\n",
       "    <tr>\n",
       "      <th>128</th>\n",
       "      <td>Villejean-Beauregard</td>\n",
       "      <td>Appartement</td>\n",
       "      <td>ancien</td>\n",
       "      <td>2</td>\n",
       "      <td>45.0</td>\n",
       "      <td>3199.0</td>\n",
       "      <td>143955.0</td>\n",
       "    </tr>\n",
       "    <tr>\n",
       "      <th>112</th>\n",
       "      <td>Maurepas-Patton</td>\n",
       "      <td>Appartement</td>\n",
       "      <td>ancien</td>\n",
       "      <td>1</td>\n",
       "      <td>30.0</td>\n",
       "      <td>3437.0</td>\n",
       "      <td>103110.0</td>\n",
       "    </tr>\n",
       "    <tr>\n",
       "      <th>114</th>\n",
       "      <td>Maurepas-Patton</td>\n",
       "      <td>Appartement</td>\n",
       "      <td>ancien</td>\n",
       "      <td>2</td>\n",
       "      <td>45.0</td>\n",
       "      <td>3437.0</td>\n",
       "      <td>154665.0</td>\n",
       "    </tr>\n",
       "    <tr>\n",
       "      <th>98</th>\n",
       "      <td>Nord Saint Martin</td>\n",
       "      <td>Appartement</td>\n",
       "      <td>ancien</td>\n",
       "      <td>1</td>\n",
       "      <td>30.0</td>\n",
       "      <td>3515.0</td>\n",
       "      <td>105450.0</td>\n",
       "    </tr>\n",
       "    <tr>\n",
       "      <th>100</th>\n",
       "      <td>Nord Saint Martin</td>\n",
       "      <td>Appartement</td>\n",
       "      <td>ancien</td>\n",
       "      <td>2</td>\n",
       "      <td>45.0</td>\n",
       "      <td>3515.0</td>\n",
       "      <td>158175.0</td>\n",
       "    </tr>\n",
       "    <tr>\n",
       "      <th>86</th>\n",
       "      <td>Sud Gare</td>\n",
       "      <td>Appartement</td>\n",
       "      <td>ancien</td>\n",
       "      <td>2</td>\n",
       "      <td>45.0</td>\n",
       "      <td>3545.0</td>\n",
       "      <td>159525.0</td>\n",
       "    </tr>\n",
       "    <tr>\n",
       "      <th>84</th>\n",
       "      <td>Sud Gare</td>\n",
       "      <td>Appartement</td>\n",
       "      <td>ancien</td>\n",
       "      <td>1</td>\n",
       "      <td>30.0</td>\n",
       "      <td>3545.0</td>\n",
       "      <td>106350.0</td>\n",
       "    </tr>\n",
       "    <tr>\n",
       "      <th>70</th>\n",
       "      <td>Francisco-Vern-Poterie</td>\n",
       "      <td>Appartement</td>\n",
       "      <td>ancien</td>\n",
       "      <td>1</td>\n",
       "      <td>30.0</td>\n",
       "      <td>3606.0</td>\n",
       "      <td>108180.0</td>\n",
       "    </tr>\n",
       "    <tr>\n",
       "      <th>72</th>\n",
       "      <td>Francisco-Vern-Poterie</td>\n",
       "      <td>Appartement</td>\n",
       "      <td>ancien</td>\n",
       "      <td>2</td>\n",
       "      <td>45.0</td>\n",
       "      <td>3606.0</td>\n",
       "      <td>162270.0</td>\n",
       "    </tr>\n",
       "    <tr>\n",
       "      <th>56</th>\n",
       "      <td>Cleunay-Arsenal Redon</td>\n",
       "      <td>Appartement</td>\n",
       "      <td>ancien</td>\n",
       "      <td>1</td>\n",
       "      <td>30.0</td>\n",
       "      <td>3753.0</td>\n",
       "      <td>112590.0</td>\n",
       "    </tr>\n",
       "    <tr>\n",
       "      <th>58</th>\n",
       "      <td>Cleunay-Arsenal Redon</td>\n",
       "      <td>Appartement</td>\n",
       "      <td>ancien</td>\n",
       "      <td>2</td>\n",
       "      <td>45.0</td>\n",
       "      <td>3753.0</td>\n",
       "      <td>168885.0</td>\n",
       "    </tr>\n",
       "    <tr>\n",
       "      <th>44</th>\n",
       "      <td>Lorient-Saint Brieuc</td>\n",
       "      <td>Appartement</td>\n",
       "      <td>ancien</td>\n",
       "      <td>2</td>\n",
       "      <td>45.0</td>\n",
       "      <td>3835.0</td>\n",
       "      <td>172575.0</td>\n",
       "    </tr>\n",
       "    <tr>\n",
       "      <th>42</th>\n",
       "      <td>Lorient-Saint Brieuc</td>\n",
       "      <td>Appartement</td>\n",
       "      <td>ancien</td>\n",
       "      <td>1</td>\n",
       "      <td>30.0</td>\n",
       "      <td>3835.0</td>\n",
       "      <td>115050.0</td>\n",
       "    </tr>\n",
       "    <tr>\n",
       "      <th>30</th>\n",
       "      <td>Centre</td>\n",
       "      <td>Appartement</td>\n",
       "      <td>ancien</td>\n",
       "      <td>2</td>\n",
       "      <td>45.0</td>\n",
       "      <td>3932.0</td>\n",
       "      <td>176940.0</td>\n",
       "    </tr>\n",
       "    <tr>\n",
       "      <th>28</th>\n",
       "      <td>Centre</td>\n",
       "      <td>Appartement</td>\n",
       "      <td>ancien</td>\n",
       "      <td>1</td>\n",
       "      <td>30.0</td>\n",
       "      <td>3932.0</td>\n",
       "      <td>117960.0</td>\n",
       "    </tr>\n",
       "    <tr>\n",
       "      <th>16</th>\n",
       "      <td>Atalante Beaulieu</td>\n",
       "      <td>Appartement</td>\n",
       "      <td>ancien</td>\n",
       "      <td>2</td>\n",
       "      <td>45.0</td>\n",
       "      <td>4063.0</td>\n",
       "      <td>182835.0</td>\n",
       "    </tr>\n",
       "    <tr>\n",
       "      <th>14</th>\n",
       "      <td>Atalante Beaulieu</td>\n",
       "      <td>Appartement</td>\n",
       "      <td>ancien</td>\n",
       "      <td>1</td>\n",
       "      <td>30.0</td>\n",
       "      <td>4063.0</td>\n",
       "      <td>121890.0</td>\n",
       "    </tr>\n",
       "    <tr>\n",
       "      <th>141</th>\n",
       "      <td>Bréquigny</td>\n",
       "      <td>Appartement</td>\n",
       "      <td>neuf</td>\n",
       "      <td>1</td>\n",
       "      <td>30.0</td>\n",
       "      <td>4250.0</td>\n",
       "      <td>127500.0</td>\n",
       "    </tr>\n",
       "    <tr>\n",
       "      <th>143</th>\n",
       "      <td>Bréquigny</td>\n",
       "      <td>Appartement</td>\n",
       "      <td>neuf</td>\n",
       "      <td>2</td>\n",
       "      <td>45.0</td>\n",
       "      <td>4250.0</td>\n",
       "      <td>191250.0</td>\n",
       "    </tr>\n",
       "    <tr>\n",
       "      <th>0</th>\n",
       "      <td>Thabor-Saint Helier</td>\n",
       "      <td>Appartement</td>\n",
       "      <td>ancien</td>\n",
       "      <td>1</td>\n",
       "      <td>30.0</td>\n",
       "      <td>4327.0</td>\n",
       "      <td>129810.0</td>\n",
       "    </tr>\n",
       "    <tr>\n",
       "      <th>2</th>\n",
       "      <td>Thabor-Saint Helier</td>\n",
       "      <td>Appartement</td>\n",
       "      <td>ancien</td>\n",
       "      <td>2</td>\n",
       "      <td>45.0</td>\n",
       "      <td>4327.0</td>\n",
       "      <td>194715.0</td>\n",
       "    </tr>\n",
       "    <tr>\n",
       "      <th>127</th>\n",
       "      <td>Villejean-Beauregard</td>\n",
       "      <td>Appartement</td>\n",
       "      <td>neuf</td>\n",
       "      <td>1</td>\n",
       "      <td>30.0</td>\n",
       "      <td>4360.0</td>\n",
       "      <td>130800.0</td>\n",
       "    </tr>\n",
       "    <tr>\n",
       "      <th>129</th>\n",
       "      <td>Villejean-Beauregard</td>\n",
       "      <td>Appartement</td>\n",
       "      <td>neuf</td>\n",
       "      <td>2</td>\n",
       "      <td>45.0</td>\n",
       "      <td>4360.0</td>\n",
       "      <td>196200.0</td>\n",
       "    </tr>\n",
       "    <tr>\n",
       "      <th>113</th>\n",
       "      <td>Maurepas-Patton</td>\n",
       "      <td>Appartement</td>\n",
       "      <td>neuf</td>\n",
       "      <td>1</td>\n",
       "      <td>30.0</td>\n",
       "      <td>4684.0</td>\n",
       "      <td>140520.0</td>\n",
       "    </tr>\n",
       "    <tr>\n",
       "      <th>115</th>\n",
       "      <td>Maurepas-Patton</td>\n",
       "      <td>Appartement</td>\n",
       "      <td>neuf</td>\n",
       "      <td>2</td>\n",
       "      <td>45.0</td>\n",
       "      <td>4684.0</td>\n",
       "      <td>210780.0</td>\n",
       "    </tr>\n",
       "    <tr>\n",
       "      <th>99</th>\n",
       "      <td>Nord Saint Martin</td>\n",
       "      <td>Appartement</td>\n",
       "      <td>neuf</td>\n",
       "      <td>1</td>\n",
       "      <td>30.0</td>\n",
       "      <td>4790.0</td>\n",
       "      <td>143700.0</td>\n",
       "    </tr>\n",
       "    <tr>\n",
       "      <th>101</th>\n",
       "      <td>Nord Saint Martin</td>\n",
       "      <td>Appartement</td>\n",
       "      <td>neuf</td>\n",
       "      <td>2</td>\n",
       "      <td>45.0</td>\n",
       "      <td>4790.0</td>\n",
       "      <td>215550.0</td>\n",
       "    </tr>\n",
       "    <tr>\n",
       "      <th>85</th>\n",
       "      <td>Sud Gare</td>\n",
       "      <td>Appartement</td>\n",
       "      <td>neuf</td>\n",
       "      <td>1</td>\n",
       "      <td>30.0</td>\n",
       "      <td>4831.0</td>\n",
       "      <td>144930.0</td>\n",
       "    </tr>\n",
       "    <tr>\n",
       "      <th>87</th>\n",
       "      <td>Sud Gare</td>\n",
       "      <td>Appartement</td>\n",
       "      <td>neuf</td>\n",
       "      <td>2</td>\n",
       "      <td>45.0</td>\n",
       "      <td>4831.0</td>\n",
       "      <td>217395.0</td>\n",
       "    </tr>\n",
       "    <tr>\n",
       "      <th>71</th>\n",
       "      <td>Francisco-Vern-Poterie</td>\n",
       "      <td>Appartement</td>\n",
       "      <td>neuf</td>\n",
       "      <td>1</td>\n",
       "      <td>30.0</td>\n",
       "      <td>4914.0</td>\n",
       "      <td>147420.0</td>\n",
       "    </tr>\n",
       "    <tr>\n",
       "      <th>73</th>\n",
       "      <td>Francisco-Vern-Poterie</td>\n",
       "      <td>Appartement</td>\n",
       "      <td>neuf</td>\n",
       "      <td>2</td>\n",
       "      <td>45.0</td>\n",
       "      <td>4914.0</td>\n",
       "      <td>221130.0</td>\n",
       "    </tr>\n",
       "    <tr>\n",
       "      <th>57</th>\n",
       "      <td>Cleunay-Arsenal Redon</td>\n",
       "      <td>Appartement</td>\n",
       "      <td>neuf</td>\n",
       "      <td>1</td>\n",
       "      <td>30.0</td>\n",
       "      <td>5114.0</td>\n",
       "      <td>153420.0</td>\n",
       "    </tr>\n",
       "    <tr>\n",
       "      <th>59</th>\n",
       "      <td>Cleunay-Arsenal Redon</td>\n",
       "      <td>Appartement</td>\n",
       "      <td>neuf</td>\n",
       "      <td>2</td>\n",
       "      <td>45.0</td>\n",
       "      <td>5114.0</td>\n",
       "      <td>230130.0</td>\n",
       "    </tr>\n",
       "    <tr>\n",
       "      <th>43</th>\n",
       "      <td>Lorient-Saint Brieuc</td>\n",
       "      <td>Appartement</td>\n",
       "      <td>neuf</td>\n",
       "      <td>1</td>\n",
       "      <td>30.0</td>\n",
       "      <td>5226.0</td>\n",
       "      <td>156780.0</td>\n",
       "    </tr>\n",
       "    <tr>\n",
       "      <th>45</th>\n",
       "      <td>Lorient-Saint Brieuc</td>\n",
       "      <td>Appartement</td>\n",
       "      <td>neuf</td>\n",
       "      <td>2</td>\n",
       "      <td>45.0</td>\n",
       "      <td>5226.0</td>\n",
       "      <td>235170.0</td>\n",
       "    </tr>\n",
       "    <tr>\n",
       "      <th>31</th>\n",
       "      <td>Centre</td>\n",
       "      <td>Appartement</td>\n",
       "      <td>neuf</td>\n",
       "      <td>2</td>\n",
       "      <td>45.0</td>\n",
       "      <td>5357.0</td>\n",
       "      <td>241065.0</td>\n",
       "    </tr>\n",
       "    <tr>\n",
       "      <th>29</th>\n",
       "      <td>Centre</td>\n",
       "      <td>Appartement</td>\n",
       "      <td>neuf</td>\n",
       "      <td>1</td>\n",
       "      <td>30.0</td>\n",
       "      <td>5357.0</td>\n",
       "      <td>160710.0</td>\n",
       "    </tr>\n",
       "    <tr>\n",
       "      <th>17</th>\n",
       "      <td>Atalante Beaulieu</td>\n",
       "      <td>Appartement</td>\n",
       "      <td>neuf</td>\n",
       "      <td>2</td>\n",
       "      <td>45.0</td>\n",
       "      <td>5536.0</td>\n",
       "      <td>249120.0</td>\n",
       "    </tr>\n",
       "    <tr>\n",
       "      <th>15</th>\n",
       "      <td>Atalante Beaulieu</td>\n",
       "      <td>Appartement</td>\n",
       "      <td>neuf</td>\n",
       "      <td>1</td>\n",
       "      <td>30.0</td>\n",
       "      <td>5536.0</td>\n",
       "      <td>166080.0</td>\n",
       "    </tr>\n",
       "    <tr>\n",
       "      <th>3</th>\n",
       "      <td>Thabor-Saint Helier</td>\n",
       "      <td>Appartement</td>\n",
       "      <td>neuf</td>\n",
       "      <td>2</td>\n",
       "      <td>45.0</td>\n",
       "      <td>5897.0</td>\n",
       "      <td>265365.0</td>\n",
       "    </tr>\n",
       "    <tr>\n",
       "      <th>1</th>\n",
       "      <td>Thabor-Saint Helier</td>\n",
       "      <td>Appartement</td>\n",
       "      <td>neuf</td>\n",
       "      <td>1</td>\n",
       "      <td>30.0</td>\n",
       "      <td>5897.0</td>\n",
       "      <td>176910.0</td>\n",
       "    </tr>\n",
       "  </tbody>\n",
       "</table>\n",
       "</div>"
      ],
      "text/plain": [
       "                   Quartier Type de bien  Statut  Nb de pièces  Surface (m²)  \\\n",
       "154               Le Blosne  Appartement  ancien             1          30.0   \n",
       "156               Le Blosne  Appartement  ancien             2          45.0   \n",
       "157               Le Blosne  Appartement    neuf             2          45.0   \n",
       "155               Le Blosne  Appartement    neuf             1          30.0   \n",
       "142               Bréquigny  Appartement  ancien             2          45.0   \n",
       "140               Bréquigny  Appartement  ancien             1          30.0   \n",
       "126    Villejean-Beauregard  Appartement  ancien             1          30.0   \n",
       "128    Villejean-Beauregard  Appartement  ancien             2          45.0   \n",
       "112         Maurepas-Patton  Appartement  ancien             1          30.0   \n",
       "114         Maurepas-Patton  Appartement  ancien             2          45.0   \n",
       "98        Nord Saint Martin  Appartement  ancien             1          30.0   \n",
       "100       Nord Saint Martin  Appartement  ancien             2          45.0   \n",
       "86                 Sud Gare  Appartement  ancien             2          45.0   \n",
       "84                 Sud Gare  Appartement  ancien             1          30.0   \n",
       "70   Francisco-Vern-Poterie  Appartement  ancien             1          30.0   \n",
       "72   Francisco-Vern-Poterie  Appartement  ancien             2          45.0   \n",
       "56    Cleunay-Arsenal Redon  Appartement  ancien             1          30.0   \n",
       "58    Cleunay-Arsenal Redon  Appartement  ancien             2          45.0   \n",
       "44     Lorient-Saint Brieuc  Appartement  ancien             2          45.0   \n",
       "42     Lorient-Saint Brieuc  Appartement  ancien             1          30.0   \n",
       "30                   Centre  Appartement  ancien             2          45.0   \n",
       "28                   Centre  Appartement  ancien             1          30.0   \n",
       "16        Atalante Beaulieu  Appartement  ancien             2          45.0   \n",
       "14        Atalante Beaulieu  Appartement  ancien             1          30.0   \n",
       "141               Bréquigny  Appartement    neuf             1          30.0   \n",
       "143               Bréquigny  Appartement    neuf             2          45.0   \n",
       "0       Thabor-Saint Helier  Appartement  ancien             1          30.0   \n",
       "2       Thabor-Saint Helier  Appartement  ancien             2          45.0   \n",
       "127    Villejean-Beauregard  Appartement    neuf             1          30.0   \n",
       "129    Villejean-Beauregard  Appartement    neuf             2          45.0   \n",
       "113         Maurepas-Patton  Appartement    neuf             1          30.0   \n",
       "115         Maurepas-Patton  Appartement    neuf             2          45.0   \n",
       "99        Nord Saint Martin  Appartement    neuf             1          30.0   \n",
       "101       Nord Saint Martin  Appartement    neuf             2          45.0   \n",
       "85                 Sud Gare  Appartement    neuf             1          30.0   \n",
       "87                 Sud Gare  Appartement    neuf             2          45.0   \n",
       "71   Francisco-Vern-Poterie  Appartement    neuf             1          30.0   \n",
       "73   Francisco-Vern-Poterie  Appartement    neuf             2          45.0   \n",
       "57    Cleunay-Arsenal Redon  Appartement    neuf             1          30.0   \n",
       "59    Cleunay-Arsenal Redon  Appartement    neuf             2          45.0   \n",
       "43     Lorient-Saint Brieuc  Appartement    neuf             1          30.0   \n",
       "45     Lorient-Saint Brieuc  Appartement    neuf             2          45.0   \n",
       "31                   Centre  Appartement    neuf             2          45.0   \n",
       "29                   Centre  Appartement    neuf             1          30.0   \n",
       "17        Atalante Beaulieu  Appartement    neuf             2          45.0   \n",
       "15        Atalante Beaulieu  Appartement    neuf             1          30.0   \n",
       "3       Thabor-Saint Helier  Appartement    neuf             2          45.0   \n",
       "1       Thabor-Saint Helier  Appartement    neuf             1          30.0   \n",
       "\n",
       "     Prix au m² (€)  Prix total estimé (€)  \n",
       "154          2006.0                60180.0  \n",
       "156          2006.0                90270.0  \n",
       "157          2734.0               123030.0  \n",
       "155          2734.0                82020.0  \n",
       "142          3119.0               140355.0  \n",
       "140          3119.0                93570.0  \n",
       "126          3199.0                95970.0  \n",
       "128          3199.0               143955.0  \n",
       "112          3437.0               103110.0  \n",
       "114          3437.0               154665.0  \n",
       "98           3515.0               105450.0  \n",
       "100          3515.0               158175.0  \n",
       "86           3545.0               159525.0  \n",
       "84           3545.0               106350.0  \n",
       "70           3606.0               108180.0  \n",
       "72           3606.0               162270.0  \n",
       "56           3753.0               112590.0  \n",
       "58           3753.0               168885.0  \n",
       "44           3835.0               172575.0  \n",
       "42           3835.0               115050.0  \n",
       "30           3932.0               176940.0  \n",
       "28           3932.0               117960.0  \n",
       "16           4063.0               182835.0  \n",
       "14           4063.0               121890.0  \n",
       "141          4250.0               127500.0  \n",
       "143          4250.0               191250.0  \n",
       "0            4327.0               129810.0  \n",
       "2            4327.0               194715.0  \n",
       "127          4360.0               130800.0  \n",
       "129          4360.0               196200.0  \n",
       "113          4684.0               140520.0  \n",
       "115          4684.0               210780.0  \n",
       "99           4790.0               143700.0  \n",
       "101          4790.0               215550.0  \n",
       "85           4831.0               144930.0  \n",
       "87           4831.0               217395.0  \n",
       "71           4914.0               147420.0  \n",
       "73           4914.0               221130.0  \n",
       "57           5114.0               153420.0  \n",
       "59           5114.0               230130.0  \n",
       "43           5226.0               156780.0  \n",
       "45           5226.0               235170.0  \n",
       "31           5357.0               241065.0  \n",
       "29           5357.0               160710.0  \n",
       "17           5536.0               249120.0  \n",
       "15           5536.0               166080.0  \n",
       "3            5897.0               265365.0  \n",
       "1            5897.0               176910.0  "
      ]
     },
     "metadata": {},
     "output_type": "display_data"
    }
   ],
   "source": [
    "df_etudiants = df_etudiants.sort_values(by=\"Prix au m² (€)\")\n",
    "display(df_etudiants)"
   ]
  },
  {
   "cell_type": "code",
   "execution_count": null,
   "id": "950a9034",
   "metadata": {},
   "outputs": [],
   "source": [
    "rentabilite = loyer / prix d'achat au metre carre"
   ]
  }
 ],
 "metadata": {
  "kernelspec": {
   "display_name": "Python 3",
   "language": "python",
   "name": "python3"
  },
  "language_info": {
   "codemirror_mode": {
    "name": "ipython",
    "version": 3
   },
   "file_extension": ".py",
   "mimetype": "text/x-python",
   "name": "python",
   "nbconvert_exporter": "python",
   "pygments_lexer": "ipython3",
   "version": "3.9.13"
  }
 },
 "nbformat": 4,
 "nbformat_minor": 5
}
