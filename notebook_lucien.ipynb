{
 "cells": [
  {
   "cell_type": "markdown",
   "id": "25dd84de",
   "metadata": {},
   "source": [
    "## 🎓 Persona : Léa, jeune investisseuse étudiante\n",
    "\n",
    "**Profil :**\n",
    "- 👩 24 ans, diplômée de l'EM Lyon\n",
    "- 💼 Première expérience professionnelle après 2 ans d'alternance\n",
    "- 💰 Aide parentale pour le financement + épargne personnelle (~15 000 €)\n",
    "- 🎯 Objectif : réaliser un **premier investissement locatif** dans une **ville étudiante dynamique**\n",
    "\n",
    "---\n",
    "\n",
    "### 💡 Objectif d'investissement\n",
    "> Trouver le **meilleur investissement locatif étudiant** possible avec un **budget global de 200 000 €**,  \n",
    "> en ciblant un **studio à Lille**, tout en comparant brièvement avec un **T1 à Angers ou Nancy**.\n",
    "\n",
    "---\n",
    "\n",
    "### 💰 Hypothèses financières\n",
    "| Élément | Montant estimé |\n",
    "|----------|----------------|\n",
    "| Prix d'achat visé | 160 000 – 180 000 € |\n",
    "| Apport personnel | 15 000 € |\n",
    "| Prêt immobilier estimé | 180 000 € sur 20 ans |\n",
    "| Budget total (frais inclus) | **≈ 200 000 €** |\n",
    "| Objectif de rentabilité brute | **≥ 5 %** |\n",
    "\n",
    "---\n",
    "\n",
    "### 🏙️ Cibles principales\n",
    "| Ville | Type de bien | Prix moyen au m² | Loyer moyen mensuel | Observations |\n",
    "|-------|---------------|------------------|---------------------|---------------|\n",
    "| **Lille** | Studio (20–25 m²) | ~4 500 €/m² | 550–600 € | Marché étudiant tendu, forte demande locative |\n",
    "| **Angers** | T1 (25–30 m²) | ~3 200 €/m² | 450–500 € | Ville très dynamique, bonne rentabilité brute |\n",
    "| **Nancy** | T1 (25–30 m²) | ~2 800 €/m² | 420–470 € | Marché abordable, bon rapport prix/rentabilité |\n",
    "\n",
    "---\n",
    "\n",
    "### 🔍 Besoins data de Léa\n",
    "- Identifier **les quartiers les plus rentables** à Lille (ou dans des villes comparables)\n",
    "- Comparer avec **la rentabilité moyenne en France**\n",
    "- Analyser l'**évolution du prix au m² et des loyers étudiants** depuis 5 ans\n",
    "- Calculer la **rentabilité locative brute et nette** par quartier\n",
    "- Visualiser les **zones à forte concentration étudiante**\n",
    "- Fournir une **recommandation finale : \"où investir avec 200k€ ?\"**\n",
    "- Évaluer le **taux de vacance locative** par quartier pour anticiper les périodes creuses (notamment l'été où les étudiants quittent les logements)\n",
    "- Analyser la **proximité des transports en commun** et des universités/grandes écoles pour identifier les zones les plus attractives pour les étudiants\n",
    "- Estimer les **charges de copropriété moyennes** par type de bien et par quartier pour affiner le calcul de rentabilité nette\n",
    "- Identifier les **opportunités de biens nécessitant des travaux** (décote à l'achat) pour maximiser la plus-value à long terme\n",
    "\n",
    "---\n",
    "\n",
    "### 🧭 Objectif du notebook\n",
    "Créer un outil interactif permettant à Léa de :\n",
    "1. Comparer la rentabilité d'un **studio à Lille** avec celle d'un **T1 à Angers ou Nancy**  \n",
    "2. Explorer visuellement les **zones à potentiel locatif élevé**  \n",
    "3. Obtenir une **recommandation automatique** en fonction de son budget et de ses préférences"
   ]
  },
  {
   "cell_type": "markdown",
   "id": "8f9733a3",
   "metadata": {},
   "source": [
    "## Import des bibliothèques ##"
   ]
  },
  {
   "cell_type": "code",
   "execution_count": 1,
   "id": "f672a483",
   "metadata": {},
   "outputs": [],
   "source": [
    "import pandas as pd \n",
    "import plotly.express as px\n",
    "import time\n",
    "import nbformat"
   ]
  },
  {
   "cell_type": "markdown",
   "id": "9b97c335",
   "metadata": {},
   "source": [
    "Évaluer le taux de vacance locative en France, et les zones propices à un taux élevé\n",
    "\n",
    "Constante"
   ]
  },
  {
   "cell_type": "code",
   "execution_count": 2,
   "id": "549213c3",
   "metadata": {},
   "outputs": [],
   "source": [
    "BDD = \"C:/Users/rivat/OneDrive/Bureau/cour/1 Data Science/Projet\""
   ]
  },
  {
   "cell_type": "markdown",
   "id": "831a5530",
   "metadata": {},
   "source": [
    "Lecture fichiers Excel"
   ]
  },
  {
   "cell_type": "code",
   "execution_count": 3,
   "id": "7727e89b",
   "metadata": {},
   "outputs": [
    {
     "name": "stderr",
     "output_type": "stream",
     "text": [
      "C:\\Users\\rivat\\AppData\\Local\\Temp\\ipykernel_19920\\2612539266.py:3: DtypeWarning: Columns (1,12,14,16,23,24) have mixed types. Specify dtype option on import or set low_memory=False.\n",
      "  df_communes = pd.read_csv(f\"{BDD}/communes-france-2025.csv\", sep=\",\")  # adapte le chemin si nécessaire\n"
     ]
    }
   ],
   "source": [
    "df_vac = pd.read_excel(f\"{BDD}/insee_rp_hist_1968.xlsx\", header=1)\n",
    "df_pop = pd.read_excel(f\"{BDD}/POPULATION_MUNICIPALE_COMMUNES_FRANCE.xlsx\")\n",
    "df_communes = pd.read_csv(f\"{BDD}/communes-france-2025.csv\", sep=\",\")  # adapte le chemin si nécessaire"
   ]
  },
  {
   "cell_type": "code",
   "execution_count": 4,
   "id": "2a741682",
   "metadata": {},
   "outputs": [],
   "source": [
    "df_communes_coords = df_communes[[\n",
    "    \"code_insee\",       # code INSEE pour faire le merge\n",
    "    \"code_postal\",      # code postal\n",
    "    \"latitude_centre\",  # latitude du centre de la commune\n",
    "    \"longitude_centre\"  # longitude du centre de la commune\n",
    "]]"
   ]
  },
  {
   "cell_type": "markdown",
   "id": "da42867e",
   "metadata": {},
   "source": [
    "Mise en forme des colonnes dans les fichiers"
   ]
  },
  {
   "cell_type": "code",
   "execution_count": 5,
   "id": "3812fbc2",
   "metadata": {},
   "outputs": [],
   "source": [
    "df_vac.columns = [\"code_commune\", \"nom_commune\", \"annee\", \"part_log_vacant\", \"col5\", \"col6\", \"col7\", \"col8\"]\n",
    "df_vac = df_vac[[\"code_commune\", \"nom_commune\", \"annee\", \"part_log_vacant\"]]\n",
    "\n",
    "df_pop.columns = [\"objectid\", \"reg\", \"dep\", \"cv\", \"codgeo\",\t\"libgeo\", \"p21_pop\"]\n",
    "\n",
    "df_vac = df_vac.dropna(subset=[\"part_log_vacant\"])\n",
    "df_vac[\"part_log_vacant\"] = pd.to_numeric(df_vac[\"part_log_vacant\"], errors=\"coerce\")\n",
    "df_vac = df_vac.dropna(subset=[\"part_log_vacant\"])\n",
    "\n",
    "df_pop[\"codgeo\"] = df_pop[\"codgeo\"].astype(str)\n",
    "df_vac[\"code_commune\"] = df_vac[\"code_commune\"].astype(str)"
   ]
  },
  {
   "cell_type": "markdown",
   "id": "521adc7d",
   "metadata": {},
   "source": [
    "Dataframe des villes de plus de 100 000 habitants classées dans l'ordre croissant par rapport au taux de logement vacant."
   ]
  },
  {
   "cell_type": "code",
   "execution_count": 6,
   "id": "f078d3ba",
   "metadata": {},
   "outputs": [
    {
     "name": "stderr",
     "output_type": "stream",
     "text": [
      "C:\\Users\\rivat\\AppData\\Local\\Temp\\ipykernel_19920\\1603771164.py:12: SettingWithCopyWarning: \n",
      "A value is trying to be set on a copy of a slice from a DataFrame.\n",
      "Try using .loc[row_indexer,col_indexer] = value instead\n",
      "\n",
      "See the caveats in the documentation: https://pandas.pydata.org/pandas-docs/stable/user_guide/indexing.html#returning-a-view-versus-a-copy\n",
      "  df_communes_coords[\"code_insee\"] = df_communes_coords[\"code_insee\"].astype(str)\n"
     ]
    }
   ],
   "source": [
    "df_vac = df_vac.sort_values(by=\"part_log_vacant\", ascending=True)\n",
    "\n",
    "df_pop_100k = df_pop[df_pop[\"p21_pop\"] > 100000]\n",
    "\n",
    "df_vac_100k = df_vac.merge(\n",
    "    df_pop_100k[[\"codgeo\", \"p21_pop\"]],\n",
    "    left_on=\"code_commune\",\n",
    "    right_on=\"codgeo\",\n",
    "    how=\"inner\"\n",
    ")\n",
    "\n",
    "df_communes_coords[\"code_insee\"] = df_communes_coords[\"code_insee\"].astype(str)\n",
    "df_vac_100k[\"code_commune\"] = df_vac_100k[\"code_commune\"].astype(str)\n",
    "\n",
    "df_vac_100k = df_vac_100k[[\"code_commune\", \"nom_commune\", \"annee\", \"part_log_vacant\", \"p21_pop\"]]"
   ]
  },
  {
   "cell_type": "markdown",
   "id": "4b656875",
   "metadata": {},
   "source": [
    "Affichage sur la map"
   ]
  },
  {
   "cell_type": "code",
   "execution_count": 7,
   "id": "93021a23",
   "metadata": {},
   "outputs": [
    {
     "name": "stderr",
     "output_type": "stream",
     "text": [
      "C:\\Users\\rivat\\AppData\\Local\\Temp\\ipykernel_19920\\2761789000.py:10: DeprecationWarning: *scatter_mapbox* is deprecated! Use *scatter_map* instead. Learn more at: https://plotly.com/python/mapbox-to-maplibre/\n",
      "  fig = px.scatter_mapbox(\n"
     ]
    },
    {
     "data": {
      "application/vnd.plotly.v1+json": {
       "config": {
        "plotlyServerURL": "https://plot.ly"
       },
       "data": [
        {
         "customdata": {
          "bdata": "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",
          "dtype": "f8",
          "shape": "296, 3"
         },
         "hovertemplate": "<b>%{hovertext}</b><br><br>part_log_vacant=%{marker.color}<br>latitude_centre=%{lat}<br>longitude_centre=%{lon}<br>p21_pop=%{customdata[0]}<br>code_postal=%{customdata[2]}<extra></extra>",
         "hovertext": [
          "Besançon",
          "Caen",
          "Saint-Denis",
          "Toulon",
          "Montreuil",
          "Strasbourg",
          "Besançon",
          "Boulogne-Billancourt",
          "Limoges",
          "Annecy",
          "Argenteuil",
          "Rouen",
          "Rennes",
          "Brest",
          "Clermont-Ferrand",
          "Amiens",
          "Metz",
          "Strasbourg",
          "Caen",
          "Mulhouse",
          "Rennes",
          "Caen",
          "Grenoble",
          "Le Havre",
          "Toulouse",
          "Angers",
          "Nancy",
          "Le Mans",
          "Nîmes",
          "Dijon",
          "Bordeaux",
          "Angers",
          "Angers",
          "Annecy",
          "Villeurbanne",
          "Lille",
          "Le Mans",
          "Caen",
          "Besançon",
          "Argenteuil",
          "Tours",
          "Annecy",
          "Saint-Denis",
          "Montreuil",
          "Strasbourg",
          "Reims",
          "Montreuil",
          "Dijon",
          "Le Havre",
          "Le Mans",
          "Angers",
          "Rennes",
          "Saint-Étienne",
          "Montreuil",
          "Annecy",
          "Argenteuil",
          "Toulon",
          "Dijon",
          "Caen",
          "Boulogne-Billancourt",
          "Villeurbanne",
          "Rennes",
          "Rennes",
          "Argenteuil",
          "Besançon",
          "Toulon",
          "Nantes",
          "Angers",
          "Argenteuil",
          "Le Mans",
          "Annecy",
          "Amiens",
          "Nantes",
          "Nantes",
          "Argenteuil",
          "Caen",
          "Reims",
          "Orléans",
          "Nantes",
          "Amiens",
          "Dijon",
          "Le Mans",
          "Rennes",
          "Grenoble",
          "Boulogne-Billancourt",
          "Boulogne-Billancourt",
          "Argenteuil",
          "Annecy",
          "Orléans",
          "Annecy",
          "Brest",
          "Aix-en-Provence",
          "Saint-Denis",
          "Saint-Denis",
          "Montreuil",
          "Nantes",
          "Montpellier",
          "Brest",
          "Strasbourg",
          "Angers",
          "Rouen",
          "Saint-Denis",
          "Tours",
          "Rennes",
          "Le Havre",
          "Amiens",
          "Rennes",
          "Toulon",
          "Montreuil",
          "Boulogne-Billancourt",
          "Lille",
          "Metz",
          "Metz",
          "Mulhouse",
          "Nantes",
          "Limoges",
          "Nîmes",
          "Toulouse",
          "Brest",
          "Bordeaux",
          "Toulouse",
          "Tours",
          "Tours",
          "Reims",
          "Bordeaux",
          "Boulogne-Billancourt",
          "Brest",
          "Brest",
          "Clermont-Ferrand",
          "Bordeaux",
          "Toulon",
          "Montpellier",
          "Limoges",
          "Villeurbanne",
          "Angers",
          "Limoges",
          "Strasbourg",
          "Le Havre",
          "Dijon",
          "Annecy",
          "Amiens",
          "Montpellier",
          "Angers",
          "Mulhouse",
          "Nîmes",
          "Nîmes",
          "Reims",
          "Aix-en-Provence",
          "Mulhouse",
          "Nice",
          "Reims",
          "Villeurbanne",
          "Rouen",
          "Nice",
          "Strasbourg",
          "Metz",
          "Reims",
          "Nantes",
          "Dijon",
          "Orléans",
          "Villeurbanne",
          "Montpellier",
          "Tours",
          "Besançon",
          "Saint-Étienne",
          "Montreuil",
          "Metz",
          "Brest",
          "Aix-en-Provence",
          "Villeurbanne",
          "Le Havre",
          "Brest",
          "Toulouse",
          "Clermont-Ferrand",
          "Aix-en-Provence",
          "Limoges",
          "Tours",
          "Le Havre",
          "Dijon",
          "Orléans",
          "Limoges",
          "Lille",
          "Toulouse",
          "Toulouse",
          "Amiens",
          "Grenoble",
          "Montpellier",
          "Boulogne-Billancourt",
          "Aix-en-Provence",
          "Aix-en-Provence",
          "Saint-Étienne",
          "Nice",
          "Lille",
          "Clermont-Ferrand",
          "Reims",
          "Saint-Denis",
          "Boulogne-Billancourt",
          "Saint-Étienne",
          "Grenoble",
          "Besançon",
          "Argenteuil",
          "Nîmes",
          "Montpellier",
          "Strasbourg",
          "Clermont-Ferrand",
          "Nancy",
          "Nantes",
          "Orléans",
          "Limoges",
          "Caen",
          "Clermont-Ferrand",
          "Clermont-Ferrand",
          "Aix-en-Provence",
          "Limoges",
          "Saint-Denis",
          "Villeurbanne",
          "Grenoble",
          "Dijon",
          "Lille",
          "Rouen",
          "Toulouse",
          "Le Mans",
          "Toulon",
          "Montpellier",
          "Rouen",
          "Bordeaux",
          "Aix-en-Provence",
          "Perpignan",
          "Toulon",
          "Amiens",
          "Amiens",
          "Besançon",
          "Reims",
          "Toulouse",
          "Caen",
          "Lille",
          "Orléans",
          "Montpellier",
          "Le Mans",
          "Rouen",
          "Strasbourg",
          "Mulhouse",
          "Clermont-Ferrand",
          "Orléans",
          "Le Mans",
          "Nancy",
          "Besançon",
          "Montreuil",
          "Rouen",
          "Tours",
          "Nîmes",
          "Tours",
          "Orléans",
          "Le Havre",
          "Nîmes",
          "Le Havre",
          "Perpignan",
          "Saint-Denis",
          "Perpignan",
          "Nice",
          "Nancy",
          "Grenoble",
          "Saint-Étienne",
          "Lille",
          "Toulon",
          "Villeurbanne",
          "Metz",
          "Nancy",
          "Grenoble",
          "Saint-Étienne",
          "Metz",
          "Bordeaux",
          "Nancy",
          "Nîmes",
          "Bordeaux",
          "Nancy",
          "Rouen",
          "Saint-Étienne",
          "Nancy",
          "Perpignan",
          "Bordeaux",
          "Saint-Étienne",
          "Nice",
          "Lille",
          "Nice",
          "Nice",
          "Metz",
          "Perpignan",
          "Nice",
          "Grenoble",
          "Perpignan",
          "Mulhouse",
          "Perpignan",
          "Perpignan",
          "Mulhouse",
          "Mulhouse"
         ],
         "lat": {
          "bdata": "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",
          "dtype": "f8"
         },
         "legendgroup": "",
         "lon": {
          "bdata": "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",
          "dtype": "f8"
         },
         "marker": {
          "color": {
           "bdata": "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",
           "dtype": "f8"
          },
          "coloraxis": "coloraxis",
          "size": {
           "bdata": "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",
           "dtype": "f8"
          },
          "sizemode": "area",
          "sizeref": 0.040999999999999995
         },
         "mode": "markers",
         "name": "",
         "showlegend": false,
         "subplot": "mapbox",
         "type": "scattermapbox"
        }
       ],
       "layout": {
        "coloraxis": {
         "colorbar": {
          "title": {
           "text": "part_log_vacant"
          }
         },
         "colorscale": [
          [
           0,
           "rgb(255,247,236)"
          ],
          [
           0.125,
           "rgb(254,232,200)"
          ],
          [
           0.25,
           "rgb(253,212,158)"
          ],
          [
           0.375,
           "rgb(253,187,132)"
          ],
          [
           0.5,
           "rgb(252,141,89)"
          ],
          [
           0.625,
           "rgb(239,101,72)"
          ],
          [
           0.75,
           "rgb(215,48,31)"
          ],
          [
           0.875,
           "rgb(179,0,0)"
          ],
          [
           1,
           "rgb(127,0,0)"
          ]
         ]
        },
        "height": 800,
        "legend": {
         "itemsizing": "constant",
         "tracegroupgap": 0
        },
        "mapbox": {
         "center": {
          "lat": 47.01575675675676,
          "lon": 2.935027027027027
         },
         "domain": {
          "x": [
           0,
           1
          ],
          "y": [
           0,
           1
          ]
         },
         "style": "open-street-map",
         "zoom": 5
        },
        "margin": {
         "b": 0,
         "l": 0,
         "r": 0,
         "t": 0
        },
        "template": {
         "data": {
          "bar": [
           {
            "error_x": {
             "color": "#2a3f5f"
            },
            "error_y": {
             "color": "#2a3f5f"
            },
            "marker": {
             "line": {
              "color": "#E5ECF6",
              "width": 0.5
             },
             "pattern": {
              "fillmode": "overlay",
              "size": 10,
              "solidity": 0.2
             }
            },
            "type": "bar"
           }
          ],
          "barpolar": [
           {
            "marker": {
             "line": {
              "color": "#E5ECF6",
              "width": 0.5
             },
             "pattern": {
              "fillmode": "overlay",
              "size": 10,
              "solidity": 0.2
             }
            },
            "type": "barpolar"
           }
          ],
          "carpet": [
           {
            "aaxis": {
             "endlinecolor": "#2a3f5f",
             "gridcolor": "white",
             "linecolor": "white",
             "minorgridcolor": "white",
             "startlinecolor": "#2a3f5f"
            },
            "baxis": {
             "endlinecolor": "#2a3f5f",
             "gridcolor": "white",
             "linecolor": "white",
             "minorgridcolor": "white",
             "startlinecolor": "#2a3f5f"
            },
            "type": "carpet"
           }
          ],
          "choropleth": [
           {
            "colorbar": {
             "outlinewidth": 0,
             "ticks": ""
            },
            "type": "choropleth"
           }
          ],
          "contour": [
           {
            "colorbar": {
             "outlinewidth": 0,
             "ticks": ""
            },
            "colorscale": [
             [
              0,
              "#0d0887"
             ],
             [
              0.1111111111111111,
              "#46039f"
             ],
             [
              0.2222222222222222,
              "#7201a8"
             ],
             [
              0.3333333333333333,
              "#9c179e"
             ],
             [
              0.4444444444444444,
              "#bd3786"
             ],
             [
              0.5555555555555556,
              "#d8576b"
             ],
             [
              0.6666666666666666,
              "#ed7953"
             ],
             [
              0.7777777777777778,
              "#fb9f3a"
             ],
             [
              0.8888888888888888,
              "#fdca26"
             ],
             [
              1,
              "#f0f921"
             ]
            ],
            "type": "contour"
           }
          ],
          "contourcarpet": [
           {
            "colorbar": {
             "outlinewidth": 0,
             "ticks": ""
            },
            "type": "contourcarpet"
           }
          ],
          "heatmap": [
           {
            "colorbar": {
             "outlinewidth": 0,
             "ticks": ""
            },
            "colorscale": [
             [
              0,
              "#0d0887"
             ],
             [
              0.1111111111111111,
              "#46039f"
             ],
             [
              0.2222222222222222,
              "#7201a8"
             ],
             [
              0.3333333333333333,
              "#9c179e"
             ],
             [
              0.4444444444444444,
              "#bd3786"
             ],
             [
              0.5555555555555556,
              "#d8576b"
             ],
             [
              0.6666666666666666,
              "#ed7953"
             ],
             [
              0.7777777777777778,
              "#fb9f3a"
             ],
             [
              0.8888888888888888,
              "#fdca26"
             ],
             [
              1,
              "#f0f921"
             ]
            ],
            "type": "heatmap"
           }
          ],
          "histogram": [
           {
            "marker": {
             "pattern": {
              "fillmode": "overlay",
              "size": 10,
              "solidity": 0.2
             }
            },
            "type": "histogram"
           }
          ],
          "histogram2d": [
           {
            "colorbar": {
             "outlinewidth": 0,
             "ticks": ""
            },
            "colorscale": [
             [
              0,
              "#0d0887"
             ],
             [
              0.1111111111111111,
              "#46039f"
             ],
             [
              0.2222222222222222,
              "#7201a8"
             ],
             [
              0.3333333333333333,
              "#9c179e"
             ],
             [
              0.4444444444444444,
              "#bd3786"
             ],
             [
              0.5555555555555556,
              "#d8576b"
             ],
             [
              0.6666666666666666,
              "#ed7953"
             ],
             [
              0.7777777777777778,
              "#fb9f3a"
             ],
             [
              0.8888888888888888,
              "#fdca26"
             ],
             [
              1,
              "#f0f921"
             ]
            ],
            "type": "histogram2d"
           }
          ],
          "histogram2dcontour": [
           {
            "colorbar": {
             "outlinewidth": 0,
             "ticks": ""
            },
            "colorscale": [
             [
              0,
              "#0d0887"
             ],
             [
              0.1111111111111111,
              "#46039f"
             ],
             [
              0.2222222222222222,
              "#7201a8"
             ],
             [
              0.3333333333333333,
              "#9c179e"
             ],
             [
              0.4444444444444444,
              "#bd3786"
             ],
             [
              0.5555555555555556,
              "#d8576b"
             ],
             [
              0.6666666666666666,
              "#ed7953"
             ],
             [
              0.7777777777777778,
              "#fb9f3a"
             ],
             [
              0.8888888888888888,
              "#fdca26"
             ],
             [
              1,
              "#f0f921"
             ]
            ],
            "type": "histogram2dcontour"
           }
          ],
          "mesh3d": [
           {
            "colorbar": {
             "outlinewidth": 0,
             "ticks": ""
            },
            "type": "mesh3d"
           }
          ],
          "parcoords": [
           {
            "line": {
             "colorbar": {
              "outlinewidth": 0,
              "ticks": ""
             }
            },
            "type": "parcoords"
           }
          ],
          "pie": [
           {
            "automargin": true,
            "type": "pie"
           }
          ],
          "scatter": [
           {
            "fillpattern": {
             "fillmode": "overlay",
             "size": 10,
             "solidity": 0.2
            },
            "type": "scatter"
           }
          ],
          "scatter3d": [
           {
            "line": {
             "colorbar": {
              "outlinewidth": 0,
              "ticks": ""
             }
            },
            "marker": {
             "colorbar": {
              "outlinewidth": 0,
              "ticks": ""
             }
            },
            "type": "scatter3d"
           }
          ],
          "scattercarpet": [
           {
            "marker": {
             "colorbar": {
              "outlinewidth": 0,
              "ticks": ""
             }
            },
            "type": "scattercarpet"
           }
          ],
          "scattergeo": [
           {
            "marker": {
             "colorbar": {
              "outlinewidth": 0,
              "ticks": ""
             }
            },
            "type": "scattergeo"
           }
          ],
          "scattergl": [
           {
            "marker": {
             "colorbar": {
              "outlinewidth": 0,
              "ticks": ""
             }
            },
            "type": "scattergl"
           }
          ],
          "scattermap": [
           {
            "marker": {
             "colorbar": {
              "outlinewidth": 0,
              "ticks": ""
             }
            },
            "type": "scattermap"
           }
          ],
          "scattermapbox": [
           {
            "marker": {
             "colorbar": {
              "outlinewidth": 0,
              "ticks": ""
             }
            },
            "type": "scattermapbox"
           }
          ],
          "scatterpolar": [
           {
            "marker": {
             "colorbar": {
              "outlinewidth": 0,
              "ticks": ""
             }
            },
            "type": "scatterpolar"
           }
          ],
          "scatterpolargl": [
           {
            "marker": {
             "colorbar": {
              "outlinewidth": 0,
              "ticks": ""
             }
            },
            "type": "scatterpolargl"
           }
          ],
          "scatterternary": [
           {
            "marker": {
             "colorbar": {
              "outlinewidth": 0,
              "ticks": ""
             }
            },
            "type": "scatterternary"
           }
          ],
          "surface": [
           {
            "colorbar": {
             "outlinewidth": 0,
             "ticks": ""
            },
            "colorscale": [
             [
              0,
              "#0d0887"
             ],
             [
              0.1111111111111111,
              "#46039f"
             ],
             [
              0.2222222222222222,
              "#7201a8"
             ],
             [
              0.3333333333333333,
              "#9c179e"
             ],
             [
              0.4444444444444444,
              "#bd3786"
             ],
             [
              0.5555555555555556,
              "#d8576b"
             ],
             [
              0.6666666666666666,
              "#ed7953"
             ],
             [
              0.7777777777777778,
              "#fb9f3a"
             ],
             [
              0.8888888888888888,
              "#fdca26"
             ],
             [
              1,
              "#f0f921"
             ]
            ],
            "type": "surface"
           }
          ],
          "table": [
           {
            "cells": {
             "fill": {
              "color": "#EBF0F8"
             },
             "line": {
              "color": "white"
             }
            },
            "header": {
             "fill": {
              "color": "#C8D4E3"
             },
             "line": {
              "color": "white"
             }
            },
            "type": "table"
           }
          ]
         },
         "layout": {
          "annotationdefaults": {
           "arrowcolor": "#2a3f5f",
           "arrowhead": 0,
           "arrowwidth": 1
          },
          "autotypenumbers": "strict",
          "coloraxis": {
           "colorbar": {
            "outlinewidth": 0,
            "ticks": ""
           }
          },
          "colorscale": {
           "diverging": [
            [
             0,
             "#8e0152"
            ],
            [
             0.1,
             "#c51b7d"
            ],
            [
             0.2,
             "#de77ae"
            ],
            [
             0.3,
             "#f1b6da"
            ],
            [
             0.4,
             "#fde0ef"
            ],
            [
             0.5,
             "#f7f7f7"
            ],
            [
             0.6,
             "#e6f5d0"
            ],
            [
             0.7,
             "#b8e186"
            ],
            [
             0.8,
             "#7fbc41"
            ],
            [
             0.9,
             "#4d9221"
            ],
            [
             1,
             "#276419"
            ]
           ],
           "sequential": [
            [
             0,
             "#0d0887"
            ],
            [
             0.1111111111111111,
             "#46039f"
            ],
            [
             0.2222222222222222,
             "#7201a8"
            ],
            [
             0.3333333333333333,
             "#9c179e"
            ],
            [
             0.4444444444444444,
             "#bd3786"
            ],
            [
             0.5555555555555556,
             "#d8576b"
            ],
            [
             0.6666666666666666,
             "#ed7953"
            ],
            [
             0.7777777777777778,
             "#fb9f3a"
            ],
            [
             0.8888888888888888,
             "#fdca26"
            ],
            [
             1,
             "#f0f921"
            ]
           ],
           "sequentialminus": [
            [
             0,
             "#0d0887"
            ],
            [
             0.1111111111111111,
             "#46039f"
            ],
            [
             0.2222222222222222,
             "#7201a8"
            ],
            [
             0.3333333333333333,
             "#9c179e"
            ],
            [
             0.4444444444444444,
             "#bd3786"
            ],
            [
             0.5555555555555556,
             "#d8576b"
            ],
            [
             0.6666666666666666,
             "#ed7953"
            ],
            [
             0.7777777777777778,
             "#fb9f3a"
            ],
            [
             0.8888888888888888,
             "#fdca26"
            ],
            [
             1,
             "#f0f921"
            ]
           ]
          },
          "colorway": [
           "#636efa",
           "#EF553B",
           "#00cc96",
           "#ab63fa",
           "#FFA15A",
           "#19d3f3",
           "#FF6692",
           "#B6E880",
           "#FF97FF",
           "#FECB52"
          ],
          "font": {
           "color": "#2a3f5f"
          },
          "geo": {
           "bgcolor": "white",
           "lakecolor": "white",
           "landcolor": "#E5ECF6",
           "showlakes": true,
           "showland": true,
           "subunitcolor": "white"
          },
          "hoverlabel": {
           "align": "left"
          },
          "hovermode": "closest",
          "mapbox": {
           "style": "light"
          },
          "paper_bgcolor": "white",
          "plot_bgcolor": "#E5ECF6",
          "polar": {
           "angularaxis": {
            "gridcolor": "white",
            "linecolor": "white",
            "ticks": ""
           },
           "bgcolor": "#E5ECF6",
           "radialaxis": {
            "gridcolor": "white",
            "linecolor": "white",
            "ticks": ""
           }
          },
          "scene": {
           "xaxis": {
            "backgroundcolor": "#E5ECF6",
            "gridcolor": "white",
            "gridwidth": 2,
            "linecolor": "white",
            "showbackground": true,
            "ticks": "",
            "zerolinecolor": "white"
           },
           "yaxis": {
            "backgroundcolor": "#E5ECF6",
            "gridcolor": "white",
            "gridwidth": 2,
            "linecolor": "white",
            "showbackground": true,
            "ticks": "",
            "zerolinecolor": "white"
           },
           "zaxis": {
            "backgroundcolor": "#E5ECF6",
            "gridcolor": "white",
            "gridwidth": 2,
            "linecolor": "white",
            "showbackground": true,
            "ticks": "",
            "zerolinecolor": "white"
           }
          },
          "shapedefaults": {
           "line": {
            "color": "#2a3f5f"
           }
          },
          "ternary": {
           "aaxis": {
            "gridcolor": "white",
            "linecolor": "white",
            "ticks": ""
           },
           "baxis": {
            "gridcolor": "white",
            "linecolor": "white",
            "ticks": ""
           },
           "bgcolor": "#E5ECF6",
           "caxis": {
            "gridcolor": "white",
            "linecolor": "white",
            "ticks": ""
           }
          },
          "title": {
           "x": 0.05
          },
          "xaxis": {
           "automargin": true,
           "gridcolor": "white",
           "linecolor": "white",
           "ticks": "",
           "title": {
            "standoff": 15
           },
           "zerolinecolor": "white",
           "zerolinewidth": 2
          },
          "yaxis": {
           "automargin": true,
           "gridcolor": "white",
           "linecolor": "white",
           "ticks": "",
           "title": {
            "standoff": 15
           },
           "zerolinecolor": "white",
           "zerolinewidth": 2
          }
         }
        }
       }
      }
     },
     "metadata": {},
     "output_type": "display_data"
    }
   ],
   "source": [
    "# Merge df_vac_100k avec coordonnées\n",
    "df_vac_map = df_vac_100k.merge(\n",
    "    df_communes_coords,\n",
    "    left_on=\"code_commune\",\n",
    "    right_on=\"code_insee\",\n",
    "    how=\"left\"\n",
    ").dropna(subset=[\"latitude_centre\", \"longitude_centre\"])\n",
    "\n",
    "# Affichage carte Plotly dans le navigateur pour éviter nbformat\n",
    "fig = px.scatter_mapbox(\n",
    "    df_vac_map,\n",
    "    lat=\"latitude_centre\",\n",
    "    lon=\"longitude_centre\",\n",
    "    size=\"part_log_vacant\",\n",
    "    color=\"part_log_vacant\",\n",
    "    hover_name=\"nom_commune\",\n",
    "    hover_data={\"p21_pop\": True, \"part_log_vacant\": True, \"code_postal\": True},\n",
    "    zoom=5,\n",
    "    height=800,\n",
    "    color_continuous_scale=\"OrRd\"\n",
    ")\n",
    "\n",
    "fig.update_layout(mapbox_style=\"open-street-map\", margin={\"r\":0,\"t\":0,\"l\":0,\"b\":0})\n",
    "fig.show()\n"
   ]
  },
  {
   "cell_type": "code",
   "execution_count": null,
   "id": "5ad7b818",
   "metadata": {},
   "outputs": [],
   "source": []
  }
 ],
 "metadata": {
  "kernelspec": {
   "display_name": "Python 3",
   "language": "python",
   "name": "python3"
  },
  "language_info": {
   "codemirror_mode": {
    "name": "ipython",
    "version": 3
   },
   "file_extension": ".py",
   "mimetype": "text/x-python",
   "name": "python",
   "nbconvert_exporter": "python",
   "pygments_lexer": "ipython3",
   "version": "3.9.13"
  }
 },
 "nbformat": 4,
 "nbformat_minor": 5
}
