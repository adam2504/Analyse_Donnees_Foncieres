{
 "cells": [
  {
   "cell_type": "markdown",
   "id": "25dd84de",
   "metadata": {},
   "source": [
    "## 🎓 Persona : Léa, jeune investisseuse étudiante\n",
    "\n",
    "**Profil :**\n",
    "- 👩 24 ans, diplômée de l'EM Lyon\n",
    "- 💼 Première expérience professionnelle après 2 ans d'alternance\n",
    "- 💰 Aide parentale pour le financement + épargne personnelle (~15 000 €)\n",
    "- 🎯 Objectif : réaliser un **premier investissement locatif** dans une **ville étudiante dynamique**\n",
    "\n",
    "---\n",
    "\n",
    "### 💡 Objectif d'investissement\n",
    "> Trouver le **meilleur investissement locatif étudiant** possible avec un **budget global de 200 000 €**,  \n",
    "> en analysant la rentabilité brute dans les **principales villes étudiantes françaises** (studios et T1 ≤45m²)\n",
    "\n",
    "---\n",
    "\n",
    "### 💰 Hypothèses financières\n",
    "| Élément | Montant estimé |\n",
    "|----------|----------------|\n",
    "| Prix d'achat visé | 160 000 – 180 000 € |\n",
    "| Apport personnel | 15 000 € |\n",
    "| Prêt immobilier estimé | 180 000 € sur 20 ans |\n",
    "| Budget total (frais inclus) | **≈ 200 000 €** |\n",
    "| Objectif de rentabilité brute | **≥ 5 %** |\n",
    "\n",
    "---\n",
    "\n",
    "### 🔍 Besoins data de Léa\n",
    "- Évaluer le **taux de vacance locative** en France pour anticiper les périodes creuses (notamment l'été où les étudiants quittent les logements)\n",
    "- Visualiser les **villes à forte concentration étudiante** en France\n",
    "- Analyser l'**évolution du prix au m² à l'achat et des loyers étudiants** en France\n",
    "- Etudier **la rentabilité moyenne en France** en 2024\n",
    "- Analyser la **dynamique du marché immobilier local : croissance ou baisse des prix et loyers sur les 5 dernières années** (entre Rennes et Bordeaux)\n",
    "- Comparer **les quartiers les plus rentables (rentabilité brute)** à ?\n",
    "- Analyser la **localisation/nombre des transports en commun** pour identifier les zones les plus attractives pour les étudiants à ?\n",
    "- Analyser la **localisation des universités/grandes écoles** à ?\n",
    "- Analyser les **quartiers vivants (nombre de resto, bars, et supermarchés)** à ? \n",
    "- Fournir une **recommandation finale : \"où investir avec 200k€ ?\"**\n",
    "\n",
    "---\n",
    "\n",
    "### 🧭 Objectif du notebook\n",
    "Créer un outil interactif permettant à Léa de :\n",
    "1. Analyser la **rentabilité locative brute** pour appartements étudiants ≤45m² dans **23 grandes villes françaises**\n",
    "2. Explorer visuellement les **villes à forte concentration étudiante** et analyser les **taux de vacance locative**\n",
    "3. Obtenir un **classement des villes** par rentabilité, prix et loyers pour décider où investir avec 200k€"
   ]
  },
  {
   "cell_type": "markdown",
   "id": "8f9733a3",
   "metadata": {},
   "source": [
    "## 📚 Import des bibliothèques ##"
   ]
  },
  {
   "cell_type": "code",
   "execution_count": null,
   "id": "d672d6bb",
   "metadata": {},
   "outputs": [],
   "source": []
  },
  {
   "cell_type": "markdown",
   "id": "f672a483",
   "metadata": {},
   "source": [
    "# 2e vision : Analyse resserrée sur des villes #"
   ]
  },
  {
   "cell_type": "markdown",
   "id": "a0144df7",
   "metadata": {},
   "source": [
    "### Analyser la **dynamique du marché immobilier local : croissance ou baisse des prix et loyers sur les 5 dernières années** (entre Rennes et Bordeaux) ###"
   ]
  },
  {
   "cell_type": "code",
   "execution_count": 8,
   "id": "4c7db600",
   "metadata": {},
   "outputs": [
    {
     "name": "stdout",
     "output_type": "stream",
     "text": [
      "Partie Axel\n"
     ]
    }
   ],
   "source": [
    "print(\"Partie Axel\")"
   ]
  },
  {
   "cell_type": "markdown",
   "id": "be63e6ce",
   "metadata": {},
   "source": [
    "### Comparer **les quartiers les plus rentables (rentabilité brute)** à ? ###"
   ]
  },
  {
   "cell_type": "code",
   "execution_count": null,
   "id": "30b7b390",
   "metadata": {},
   "outputs": [],
   "source": [
    "import requests, zipfile, io\n",
    "import seaborn as sns\n",
    "\n",
    "df = pd.read_csv(f\"{BDD}/rennes_quartiers.csv.txt\", sep=\",\")\n",
    "r = requests.get(f\"{BDD}/data_loyer.zip\")\n",
    "z = zipfile.ZipFile(io.BytesIO(r.content))\n",
    "fichier_csv = 'data_loyer/Base_OP_2024_L3500_Rennes.csv'\n",
    "df2 = pd.read_csv(z.open(fichier_csv), encoding=\"latin-1\", sep=\";\")\n",
    "df2.columns = df2.columns.str.strip()\n",
    "df.columns = df.columns.str.strip()\n",
    "df['Nb de pièces'] = df['Nb de pièces'].astype(int)\n",
    "df['Surface (m²)'] = df['Surface (m²)'].astype(float)\n",
    "df['Prix au m² (€)'] = df['Prix au m² (€)'].astype(float)\n",
    "df['Prix total estimé (€)'] = df['Prix total estimé (€)'].astype(float)\n",
    "df_etudiants = df[(df['Type de bien'] == 'Appartement') & (df['Surface (m²)'] <= 45) & (df['Statut'] == 'neuf')]\n",
    "df2 = df2[((df2['Type_habitat'] == 'Appartement') | (df2['nombre_pieces_homogene'] == 'Appart 1P') | (df2['nombre_pieces_homogene'] == 'Appart 2P')) & (df2['surface_moyenne'] < 50)]\n",
    "df2 = df2.sort_values(by=\"moyenne_loyer_mensuel\")\n",
    "df2 = df2[df2['nombre_logements'].notna() & (df2['nombre_logements'] != 0)]\n",
    "mapping_zones = {\n",
    "    \"L3500.1.01\": \"Centre\",\n",
    "    \"L3500.1.02\": \"Thabor-Saint Helier\",\n",
    "    \"L3500.1.03\": \"Lorient-Saint Brieuc\",\n",
    "    \"L3500.1.04\": \"Nord Saint Martin\",\n",
    "    \"L3500.1.05\": \"Maurepas-Patton\",\n",
    "    \"L3500.1.06\": \"Atalante Beaulieu\",\n",
    "    \"L3500.1.07\": \"Francisco-Vern-Poterie\",\n",
    "    \"L3500.1.08\": \"Sud Gare\",\n",
    "    \"L3500.1.09\": \"Cleunay-Arsenal Redon\",\n",
    "    \"L3500.1.10\": \"Villejean-Beauregard\",\n",
    "    \"L3500.1.11\": \"Le Blosne\",\n",
    "    \"L3500.1.12\": \"Bréquigny\"\n",
    "}\n",
    "df2[\"Quartier\"] = df2[\"Zone_calcul\"].map(mapping_zones).fillna(\"Inconnu\")\n",
    "df_etudiants = df_etudiants.rename(columns={\n",
    "    \"Type de bien\": \"Type_habitat\",\n",
    "    \"Surface (m²)\": \"surface_moyenne\",\n",
    "    \"Prix au m² (€)\": \"Prix_m2\",\n",
    "    \"Prix total estimé (€)\": \"Prix_total\"\n",
    "})\n",
    "plages = [\n",
    "    (20, 35, \"30\"),\n",
    "    (35, 50, \"45\")\n",
    "]\n",
    "colonnes_numeriques = [\n",
    "    \"loyer_median\", \"loyer_moyen\",\n",
    "    \"loyer_mensuel_median\", \"moyenne_loyer_mensuel\",\n",
    "    \"surface_moyenne\", \"nombre_logements\"\n",
    "]\n",
    "dfs = []\n",
    "for bas, haut, label in plages:\n",
    "    df_temp = df2[\n",
    "        (df2[\"Type_habitat\"] == \"Appartement\") &\n",
    "        (df2[\"surface_moyenne\"].between(bas, haut))\n",
    "    ].copy()\n",
    "    df_group = (\n",
    "        df_temp\n",
    "        .groupby(\"Zone_calcul\", as_index=False)[colonnes_numeriques]\n",
    "        .median(numeric_only=True)\n",
    "    )\n",
    "    df_group[\"Quartier\"] = df_group[\"Zone_calcul\"].map(mapping_zones).fillna(\"Inconnu\")\n",
    "    df_group[\"Catégorie_surface_environ\"] = label\n",
    "    dfs.append(df_group)\n",
    "df_grouped = pd.concat(dfs, ignore_index=True)\n",
    "df_etudiants = df_etudiants.rename(columns={\"surface_moyenne\": \"Catégorie_surface_environ\"})\n",
    "df_grouped[\"Catégorie_surface_environ\"] = df_grouped[\"Catégorie_surface_environ\"].astype(float)\n",
    "df_etudiants[\"Catégorie_surface_environ\"] = df_etudiants[\"Catégorie_surface_environ\"].astype(float)\n",
    "df_merged = pd.merge(\n",
    "    df_grouped,\n",
    "    df_etudiants,\n",
    "    on=[\"Quartier\", \"Catégorie_surface_environ\"],\n",
    "    how=\"left\"\n",
    ")\n",
    "df_merged['rentabilite_brute_%'] = (df_merged['loyer_mensuel_median'] * 12 / df_merged['Prix_total']) * 100\n",
    "df_merged = df_merged.sort_values(by=[\"rentabilite_brute_%\"], ascending=False)\n",
    "display(df_merged)\n",
    "plt.figure(figsize=(12,6))\n",
    "sns.barplot(\n",
    "    data=df_merged,\n",
    "    x='Quartier',\n",
    "    y='rentabilite_brute_%',\n",
    "    hue='Catégorie_surface_environ',\n",
    "    palette='Set2'\n",
    ")\n",
    "plt.ylabel(\"Rentabilité brute (%)\")\n",
    "plt.xlabel(\"Quartier\")\n",
    "plt.title(\"Rentabilité brute par Quartier et surface\")\n",
    "plt.xticks(rotation=45, ha='right')\n",
    "plt.legend(title=\"Surface (m²)\")\n",
    "plt.tight_layout()\n",
    "plt.show()"
   ]
  },
  {
   "cell_type": "markdown",
   "id": "7da69d10",
   "metadata": {},
   "source": [
    "### Analyser la **localisation/nombre des transports en commun** pour identifier les zones les plus attractives pour les étudiants à ?  ###"
   ]
  },
  {
   "cell_type": "code",
   "execution_count": 12,
   "id": "878e55f3",
   "metadata": {},
   "outputs": [
    {
     "name": "stdout",
     "output_type": "stream",
     "text": [
      "Partie Valentine\n"
     ]
    }
   ],
   "source": [
    "print(\"Partie Valentine\")"
   ]
  },
  {
   "cell_type": "markdown",
   "id": "9b97c335",
   "metadata": {},
   "source": [
    "### Analyser la **localisation des universités/grandes écoles** à ? ###"
   ]
  },
  {
   "cell_type": "code",
   "execution_count": 11,
   "id": "7727e89b",
   "metadata": {},
   "outputs": [
    {
     "name": "stdout",
     "output_type": "stream",
     "text": [
      "Partie Adam\n"
     ]
    }
   ],
   "source": [
    "print(\"Partie Adam\")"
   ]
  },
  {
   "cell_type": "markdown",
   "id": "90516127",
   "metadata": {},
   "source": [
    "### Analyser les **quartiers vivants (nombre de resto, bars, et supermarchés)** à ? ###"
   ]
  },
  {
   "cell_type": "code",
   "execution_count": 10,
   "id": "26a86433",
   "metadata": {},
   "outputs": [
    {
     "name": "stdout",
     "output_type": "stream",
     "text": [
      "Partie Adam et Valentine\n"
     ]
    }
   ],
   "source": [
    "print(\"Partie Adam et Valentine\")"
   ]
  }
 ],
 "metadata": {
  "kernelspec": {
   "display_name": ".venv",
   "language": "python",
   "name": "python3"
  },
  "language_info": {
   "codemirror_mode": {
    "name": "ipython",
    "version": 3
   },
   "file_extension": ".py",
   "mimetype": "text/x-python",
   "name": "python",
   "nbconvert_exporter": "python",
   "pygments_lexer": "ipython3",
   "version": "3.13.7"
  }
 },
 "nbformat": 4,
 "nbformat_minor": 5
}
