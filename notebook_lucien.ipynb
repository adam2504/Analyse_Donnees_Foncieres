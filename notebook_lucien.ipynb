{
 "cells": [
  {
   "cell_type": "markdown",
   "id": "25dd84de",
   "metadata": {},
   "source": [
    "## 🎓 Persona : Léa, jeune investisseuse étudiante\n",
    "\n",
    "**Profil :**\n",
    "- 👩 24 ans, diplômée de l'EM Lyon\n",
    "- 💼 Première expérience professionnelle après 2 ans d'alternance\n",
    "- 💰 Aide parentale pour le financement + épargne personnelle (~15 000 €)\n",
    "- 🎯 Objectif : réaliser un **premier investissement locatif** dans une **ville étudiante dynamique**\n",
    "\n",
    "---\n",
    "\n",
    "### 💡 Objectif d'investissement\n",
    "> Trouver le **meilleur investissement locatif étudiant** possible avec un **budget global de 200 000 €**,  \n",
    "> en ciblant un **studio à Lille**, tout en comparant brièvement avec un **T1 à Angers ou Nancy**.\n",
    "\n",
    "---\n",
    "\n",
    "### 💰 Hypothèses financières\n",
    "| Élément | Montant estimé |\n",
    "|----------|----------------|\n",
    "| Prix d'achat visé | 160 000 – 180 000 € |\n",
    "| Apport personnel | 15 000 € |\n",
    "| Prêt immobilier estimé | 180 000 € sur 20 ans |\n",
    "| Budget total (frais inclus) | **≈ 200 000 €** |\n",
    "| Objectif de rentabilité brute | **≥ 5 %** |\n",
    "\n",
    "---\n",
    "\n",
    "### 🏙️ Cibles principales\n",
    "| Ville | Type de bien | Prix moyen au m² | Loyer moyen mensuel | Observations |\n",
    "|-------|---------------|------------------|---------------------|---------------|\n",
    "| **Lille** | Studio (20–25 m²) | ~4 500 €/m² | 550–600 € | Marché étudiant tendu, forte demande locative |\n",
    "| **Angers** | T1 (25–30 m²) | ~3 200 €/m² | 450–500 € | Ville très dynamique, bonne rentabilité brute |\n",
    "| **Nancy** | T1 (25–30 m²) | ~2 800 €/m² | 420–470 € | Marché abordable, bon rapport prix/rentabilité |\n",
    "\n",
    "---\n",
    "\n",
    "### 🔍 Besoins data de Léa\n",
    "- Identifier **les quartiers les plus rentables** à Lille (ou dans des villes comparables)\n",
    "- Comparer avec **la rentabilité moyenne en France**\n",
    "- Analyser l'**évolution du prix au m² et des loyers étudiants** depuis 5 ans\n",
    "- Calculer la **rentabilité locative brute et nette** par quartier\n",
    "- Visualiser les **zones à forte concentration étudiante**\n",
    "- Fournir une **recommandation finale : \"où investir avec 200k€ ?\"**\n",
    "- Évaluer le **taux de vacance locative** par quartier pour anticiper les périodes creuses (notamment l'été où les étudiants quittent les logements)\n",
    "- Analyser la **proximité des transports en commun** et des universités/grandes écoles pour identifier les zones les plus attractives pour les étudiants\n",
    "- Estimer les **charges de copropriété moyennes** par type de bien et par quartier pour affiner le calcul de rentabilité nette\n",
    "- Identifier les **opportunités de biens nécessitant des travaux** (décote à l'achat) pour maximiser la plus-value à long terme\n",
    "\n",
    "---\n",
    "\n",
    "### 🧭 Objectif du notebook\n",
    "Créer un outil interactif permettant à Léa de :\n",
    "1. Comparer la rentabilité d'un **studio à Lille** avec celle d'un **T1 à Angers ou Nancy**  \n",
    "2. Explorer visuellement les **zones à potentiel locatif élevé**  \n",
    "3. Obtenir une **recommandation automatique** en fonction de son budget et de ses préférences"
   ]
  },
  {
   "cell_type": "markdown",
   "id": "8f9733a3",
   "metadata": {},
   "source": [
    "## Import des bibliothèques ##"
   ]
  },
  {
   "cell_type": "code",
   "execution_count": 1,
   "id": "f672a483",
   "metadata": {},
   "outputs": [
    {
     "name": "stdout",
     "output_type": "stream",
     "text": [
      "Requirement already satisfied: plotly.express in c:\\users\\rivat\\appdata\\local\\programs\\python\\python39\\lib\\site-packages (0.4.1)\n",
      "Requirement already satisfied: pandas>=0.20.0 in c:\\users\\rivat\\appdata\\local\\programs\\python\\python39\\lib\\site-packages (from plotly.express) (2.2.3)\n",
      "Requirement already satisfied: plotly>=4.1.0 in c:\\users\\rivat\\appdata\\local\\programs\\python\\python39\\lib\\site-packages (from plotly.express) (6.3.1)\n",
      "Requirement already satisfied: statsmodels>=0.9.0 in c:\\users\\rivat\\appdata\\local\\programs\\python\\python39\\lib\\site-packages (from plotly.express) (0.14.5)\n",
      "Requirement already satisfied: scipy>=0.18 in c:\\users\\rivat\\appdata\\local\\programs\\python\\python39\\lib\\site-packages (from plotly.express) (1.13.1)\n",
      "Requirement already satisfied: patsy>=0.5 in c:\\users\\rivat\\appdata\\local\\programs\\python\\python39\\lib\\site-packages (from plotly.express) (1.0.1)\n",
      "Requirement already satisfied: numpy>=1.11 in c:\\users\\rivat\\appdata\\local\\programs\\python\\python39\\lib\\site-packages (from plotly.express) (1.24.3)\n",
      "Requirement already satisfied: python-dateutil>=2.8.2 in c:\\users\\rivat\\appdata\\local\\programs\\python\\python39\\lib\\site-packages (from pandas>=0.20.0->plotly.express) (2.8.2)\n",
      "Requirement already satisfied: pytz>=2020.1 in c:\\users\\rivat\\appdata\\local\\programs\\python\\python39\\lib\\site-packages (from pandas>=0.20.0->plotly.express) (2025.1)\n",
      "Requirement already satisfied: tzdata>=2022.7 in c:\\users\\rivat\\appdata\\local\\programs\\python\\python39\\lib\\site-packages (from pandas>=0.20.0->plotly.express) (2025.1)\n",
      "Requirement already satisfied: narwhals>=1.15.1 in c:\\users\\rivat\\appdata\\local\\programs\\python\\python39\\lib\\site-packages (from plotly>=4.1.0->plotly.express) (2.3.0)\n",
      "Requirement already satisfied: packaging in c:\\users\\rivat\\appdata\\local\\programs\\python\\python39\\lib\\site-packages (from plotly>=4.1.0->plotly.express) (23.1)\n",
      "Requirement already satisfied: six>=1.5 in c:\\users\\rivat\\appdata\\local\\programs\\python\\python39\\lib\\site-packages (from python-dateutil>=2.8.2->pandas>=0.20.0->plotly.express) (1.16.0)\n",
      "Requirement already satisfied: nbformat in c:\\users\\rivat\\appdata\\local\\programs\\python\\python39\\lib\\site-packages (5.10.4)\n",
      "Requirement already satisfied: fastjsonschema>=2.15 in c:\\users\\rivat\\appdata\\local\\programs\\python\\python39\\lib\\site-packages (from nbformat) (2.21.2)\n",
      "Requirement already satisfied: jsonschema>=2.6 in c:\\users\\rivat\\appdata\\local\\programs\\python\\python39\\lib\\site-packages (from nbformat) (4.25.1)\n",
      "Requirement already satisfied: jupyter-core!=5.0.*,>=4.12 in c:\\users\\rivat\\appdata\\roaming\\python\\python39\\site-packages (from nbformat) (5.7.2)\n",
      "Requirement already satisfied: traitlets>=5.1 in c:\\users\\rivat\\appdata\\roaming\\python\\python39\\site-packages (from nbformat) (5.14.3)\n",
      "Requirement already satisfied: attrs>=22.2.0 in c:\\users\\rivat\\appdata\\local\\programs\\python\\python39\\lib\\site-packages (from jsonschema>=2.6->nbformat) (25.3.0)\n",
      "Requirement already satisfied: jsonschema-specifications>=2023.03.6 in c:\\users\\rivat\\appdata\\local\\programs\\python\\python39\\lib\\site-packages (from jsonschema>=2.6->nbformat) (2025.4.1)\n",
      "Requirement already satisfied: referencing>=0.28.4 in c:\\users\\rivat\\appdata\\local\\programs\\python\\python39\\lib\\site-packages (from jsonschema>=2.6->nbformat) (0.36.2)\n",
      "Requirement already satisfied: rpds-py>=0.7.1 in c:\\users\\rivat\\appdata\\local\\programs\\python\\python39\\lib\\site-packages (from jsonschema>=2.6->nbformat) (0.27.1)\n",
      "Requirement already satisfied: platformdirs>=2.5 in c:\\users\\rivat\\appdata\\roaming\\python\\python39\\site-packages (from jupyter-core!=5.0.*,>=4.12->nbformat) (4.3.6)\n",
      "Requirement already satisfied: pywin32>=300 in c:\\users\\rivat\\appdata\\roaming\\python\\python39\\site-packages (from jupyter-core!=5.0.*,>=4.12->nbformat) (307)\n",
      "Requirement already satisfied: typing-extensions>=4.4.0 in c:\\users\\rivat\\appdata\\roaming\\python\\python39\\site-packages (from referencing>=0.28.4->jsonschema>=2.6->nbformat) (4.12.2)\n"
     ]
    }
   ],
   "source": [
    "import pandas as pd \n",
    "!python -m pip install plotly.express\n",
    "!python -m pip install --upgrade nbformat\n",
    "import plotly.express as px\n",
    "import time\n",
    "import nbformat"
   ]
  },
  {
   "cell_type": "markdown",
   "id": "6df1be9b",
   "metadata": {},
   "source": [
    "### 1e vision : Analyse générale en France ###"
   ]
  },
  {
   "cell_type": "markdown",
   "id": "a0144df7",
   "metadata": {},
   "source": [
    "Etude de la rentabilité moyenne en France"
   ]
  },
  {
   "cell_type": "code",
   "execution_count": 2,
   "id": "4c7db600",
   "metadata": {},
   "outputs": [
    {
     "name": "stdout",
     "output_type": "stream",
     "text": [
      "Partie Valentine\n"
     ]
    }
   ],
   "source": [
    "print(\"Partie Valentine\")"
   ]
  },
  {
   "cell_type": "markdown",
   "id": "be63e6ce",
   "metadata": {},
   "source": [
    "Evolution du prix au m² et des loyers étudiants depuis 5 ans en France"
   ]
  },
  {
   "cell_type": "code",
   "execution_count": 3,
   "id": "30b7b390",
   "metadata": {},
   "outputs": [
    {
     "name": "stdout",
     "output_type": "stream",
     "text": [
      "Partie Axel\n"
     ]
    }
   ],
   "source": [
    "print(\"Partie Axel\")"
   ]
  },
  {
   "cell_type": "markdown",
   "id": "7da69d10",
   "metadata": {},
   "source": [
    "Visualiser les zones à forte concentration étudiante en France"
   ]
  },
  {
   "cell_type": "code",
   "execution_count": 4,
   "id": "5c437137",
   "metadata": {},
   "outputs": [
    {
     "name": "stdout",
     "output_type": "stream",
     "text": [
      "Partie Adam\n"
     ]
    }
   ],
   "source": [
    "print(\"Partie Adam\")"
   ]
  },
  {
   "cell_type": "markdown",
   "id": "9b97c335",
   "metadata": {},
   "source": [
    "Évaluer le taux de vacance locative en France, et les zones propices à un taux élevé"
   ]
  },
  {
   "cell_type": "code",
   "execution_count": 5,
   "id": "549213c3",
   "metadata": {},
   "outputs": [],
   "source": [
    "BDD = \"C:/Users/rivat/OneDrive/Bureau/cour/1 Data Science/Projet\""
   ]
  },
  {
   "cell_type": "code",
   "execution_count": 6,
   "id": "7727e89b",
   "metadata": {},
   "outputs": [
    {
     "name": "stdout",
     "output_type": "stream",
     "text": [
      "Requirement already satisfied: openpyxl in c:\\users\\rivat\\appdata\\local\\programs\\python\\python39\\lib\\site-packages (3.1.5)\n",
      "Requirement already satisfied: et-xmlfile in c:\\users\\rivat\\appdata\\local\\programs\\python\\python39\\lib\\site-packages (from openpyxl) (2.0.0)\n"
     ]
    }
   ],
   "source": [
    "!python -m pip install openpyxl\n",
    "df_vac = pd.read_excel(f\"{BDD}/insee_rp_hist_1968.xlsx\", header=1)\n",
    "df_pop = pd.read_excel(f\"{BDD}/POPULATION_MUNICIPALE_COMMUNES_FRANCE.xlsx\")"
   ]
  },
  {
   "cell_type": "code",
   "execution_count": 7,
   "id": "2a741682",
   "metadata": {},
   "outputs": [
    {
     "name": "stderr",
     "output_type": "stream",
     "text": [
      "C:\\Users\\rivat\\AppData\\Local\\Temp\\ipykernel_22440\\3176283133.py:1: DtypeWarning: Columns (1,12,14,16,23,24) have mixed types. Specify dtype option on import or set low_memory=False.\n",
      "  df_communes = pd.read_csv(f\"{BDD}/communes-france-2025.csv\", sep=\",\")  # adapte le chemin si nécessaire\n"
     ]
    }
   ],
   "source": [
    "df_communes = pd.read_csv(f\"{BDD}/communes-france-2025.csv\", sep=\",\")  # adapte le chemin si nécessaire\n",
    "\n",
    "df_communes_coords = df_communes[[\n",
    "    \"code_insee\",       # code INSEE pour faire le merge\n",
    "    \"code_postal\",      # code postal\n",
    "    \"latitude_centre\",  # latitude du centre de la commune\n",
    "    \"longitude_centre\"  # longitude du centre de la commune\n",
    "]]"
   ]
  },
  {
   "cell_type": "code",
   "execution_count": 8,
   "id": "3812fbc2",
   "metadata": {},
   "outputs": [],
   "source": [
    "df_vac.columns = [\"code_commune\", \"nom_commune\", \"annee\", \"part_log_vacant\", \"col5\", \"col6\", \"col7\", \"col8\"]\n",
    "df_vac = df_vac[[\"code_commune\", \"nom_commune\", \"annee\", \"part_log_vacant\"]]\n",
    "\n",
    "df_pop.columns = [\"objectid\", \"reg\", \"dep\", \"cv\", \"codgeo\",\t\"libgeo\", \"p21_pop\"]\n",
    "\n",
    "df_vac = df_vac.dropna(subset=[\"part_log_vacant\"])\n",
    "df_vac[\"part_log_vacant\"] = pd.to_numeric(df_vac[\"part_log_vacant\"], errors=\"coerce\")\n",
    "df_vac = df_vac.dropna(subset=[\"part_log_vacant\"])\n",
    "\n",
    "df_pop[\"codgeo\"] = df_pop[\"codgeo\"].astype(str)\n",
    "df_vac[\"code_commune\"] = df_vac[\"code_commune\"].astype(str)"
   ]
  },
  {
   "cell_type": "code",
   "execution_count": 9,
   "id": "f078d3ba",
   "metadata": {},
   "outputs": [
    {
     "name": "stderr",
     "output_type": "stream",
     "text": [
      "C:\\Users\\rivat\\AppData\\Local\\Temp\\ipykernel_22440\\1603771164.py:12: SettingWithCopyWarning: \n",
      "A value is trying to be set on a copy of a slice from a DataFrame.\n",
      "Try using .loc[row_indexer,col_indexer] = value instead\n",
      "\n",
      "See the caveats in the documentation: https://pandas.pydata.org/pandas-docs/stable/user_guide/indexing.html#returning-a-view-versus-a-copy\n",
      "  df_communes_coords[\"code_insee\"] = df_communes_coords[\"code_insee\"].astype(str)\n"
     ]
    }
   ],
   "source": [
    "df_vac = df_vac.sort_values(by=\"part_log_vacant\", ascending=True)\n",
    "\n",
    "df_pop_100k = df_pop[df_pop[\"p21_pop\"] > 100000]\n",
    "\n",
    "df_vac_100k = df_vac.merge(\n",
    "    df_pop_100k[[\"codgeo\", \"p21_pop\"]],\n",
    "    left_on=\"code_commune\",\n",
    "    right_on=\"codgeo\",\n",
    "    how=\"inner\"\n",
    ")\n",
    "\n",
    "df_communes_coords[\"code_insee\"] = df_communes_coords[\"code_insee\"].astype(str)\n",
    "df_vac_100k[\"code_commune\"] = df_vac_100k[\"code_commune\"].astype(str)\n",
    "\n",
    "df_vac_100k = df_vac_100k[[\"code_commune\", \"nom_commune\", \"annee\", \"part_log_vacant\", \"p21_pop\"]]"
   ]
  },
  {
   "cell_type": "code",
   "execution_count": 20,
   "id": "93021a23",
   "metadata": {},
   "outputs": [
    {
     "name": "stderr",
     "output_type": "stream",
     "text": [
      "C:\\Users\\rivat\\AppData\\Local\\Temp\\ipykernel_22440\\3442561973.py:10: DeprecationWarning:\n",
      "\n",
      "*scatter_mapbox* is deprecated! Use *scatter_map* instead. Learn more at: https://plotly.com/python/mapbox-to-maplibre/\n",
      "\n"
     ]
    }
   ],
   "source": [
    "# Merge df_vac_100k avec coordonnées\n",
    "df_vac_map = df_vac_100k.merge(\n",
    "    df_communes_coords,\n",
    "    left_on=\"code_commune\",\n",
    "    right_on=\"code_insee\",\n",
    "    how=\"left\"\n",
    ").dropna(subset=[\"latitude_centre\", \"longitude_centre\"])\n",
    "\n",
    "# Affichage carte Plotly dans le navigateur pour éviter nbformat\n",
    "fig = px.scatter_mapbox(\n",
    "    df_vac_map,\n",
    "    lat=\"latitude_centre\",\n",
    "    lon=\"longitude_centre\",\n",
    "    size=\"part_log_vacant\",\n",
    "    color=\"part_log_vacant\",\n",
    "    hover_name=\"nom_commune\",\n",
    "    hover_data={\"p21_pop\": True, \"part_log_vacant\": True, \"code_postal\": True},\n",
    "    zoom=5,\n",
    "    height=800,\n",
    "    color_continuous_scale=\"OrRd\"\n",
    ")\n",
    "\n",
    "fig.update_layout(mapbox_style=\"open-street-map\", margin={\"r\":0,\"t\":0,\"l\":0,\"b\":0})\n",
    "fig.show(renderer=\"browser\")\n"
   ]
  },
  {
   "cell_type": "code",
   "execution_count": null,
   "id": "5ad7b818",
   "metadata": {},
   "outputs": [],
   "source": []
  }
 ],
 "metadata": {
  "kernelspec": {
   "display_name": "Python 3",
   "language": "python",
   "name": "python3"
  },
  "language_info": {
   "codemirror_mode": {
    "name": "ipython",
    "version": 3
   },
   "file_extension": ".py",
   "mimetype": "text/x-python",
   "name": "python",
   "nbconvert_exporter": "python",
   "pygments_lexer": "ipython3",
   "version": "3.9.13"
  }
 },
 "nbformat": 4,
 "nbformat_minor": 5
}
