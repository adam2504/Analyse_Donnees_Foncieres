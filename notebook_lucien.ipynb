{
 "cells": [
  {
   "cell_type": "markdown",
   "id": "25dd84de",
   "metadata": {},
   "source": [
    "## 🎓 Persona : Léa, jeune investisseuse étudiante\n",
    "\n",
    "**Profil :**\n",
    "- 👩 24 ans, diplômée de l'EM Lyon\n",
    "- 💼 Première expérience professionnelle après 2 ans d'alternance\n",
    "- 💰 Aide parentale pour le financement + épargne personnelle (~15 000 €)\n",
    "- 🎯 Objectif : réaliser un **premier investissement locatif** dans une **ville étudiante dynamique**\n",
    "\n",
    "---\n",
    "\n",
    "### 💡 Objectif d'investissement\n",
    "> Trouver le **meilleur investissement locatif étudiant** possible avec un **budget global de 200 000 €**,  \n",
    "> en ciblant un **studio à Lille**, tout en comparant brièvement avec un **T1 à Angers ou Nancy**.\n",
    "\n",
    "---\n",
    "\n",
    "### 💰 Hypothèses financières\n",
    "| Élément | Montant estimé |\n",
    "|----------|----------------|\n",
    "| Prix d'achat visé | 160 000 – 180 000 € |\n",
    "| Apport personnel | 15 000 € |\n",
    "| Prêt immobilier estimé | 180 000 € sur 20 ans |\n",
    "| Budget total (frais inclus) | **≈ 200 000 €** |\n",
    "| Objectif de rentabilité brute | **≥ 5 %** |\n",
    "\n",
    "---\n",
    "\n",
    "### 🏙️ Cibles principales\n",
    "| Ville | Type de bien | Prix moyen au m² | Loyer moyen mensuel | Observations |\n",
    "|-------|---------------|------------------|---------------------|---------------|\n",
    "| **Lille** | Studio (20–25 m²) | ~4 500 €/m² | 550–600 € | Marché étudiant tendu, forte demande locative |\n",
    "| **Angers** | T1 (25–30 m²) | ~3 200 €/m² | 450–500 € | Ville très dynamique, bonne rentabilité brute |\n",
    "| **Nancy** | T1 (25–30 m²) | ~2 800 €/m² | 420–470 € | Marché abordable, bon rapport prix/rentabilité |\n",
    "\n",
    "---\n",
    "\n",
    "### 🔍 Besoins data de Léa\n",
    "- Identifier **les quartiers les plus rentables** à Lille (ou dans des villes comparables)\n",
    "- Comparer avec **la rentabilité moyenne en France**\n",
    "- Analyser l'**évolution du prix au m² et des loyers étudiants** depuis 5 ans\n",
    "- Calculer la **rentabilité locative brute et nette** par quartier\n",
    "- Visualiser les **zones à forte concentration étudiante**\n",
    "- Fournir une **recommandation finale : \"où investir avec 200k€ ?\"**\n",
    "- Évaluer le **taux de vacance locative** par quartier pour anticiper les périodes creuses (notamment l'été où les étudiants quittent les logements)\n",
    "- Analyser la **proximité des transports en commun** et des universités/grandes écoles pour identifier les zones les plus attractives pour les étudiants\n",
    "- Estimer les **charges de copropriété moyennes** par type de bien et par quartier pour affiner le calcul de rentabilité nette\n",
    "- Identifier les **opportunités de biens nécessitant des travaux** (décote à l'achat) pour maximiser la plus-value à long terme\n",
    "\n",
    "---\n",
    "\n",
    "### 🧭 Objectif du notebook\n",
    "Créer un outil interactif permettant à Léa de :\n",
    "1. Comparer la rentabilité d'un **studio à Lille** avec celle d'un **T1 à Angers ou Nancy**  \n",
    "2. Explorer visuellement les **zones à potentiel locatif élevé**  \n",
    "3. Obtenir une **recommandation automatique** en fonction de son budget et de ses préférences"
   ]
  },
  {
   "cell_type": "markdown",
   "id": "8f9733a3",
   "metadata": {},
   "source": [
    "## Import des bibliothèques ##"
   ]
  },
  {
   "cell_type": "code",
   "execution_count": 1,
   "id": "f672a483",
   "metadata": {},
   "outputs": [],
   "source": [
    "import pandas as pd \n",
    "import plotly.express as px\n",
    "import time\n",
    "import nbformat"
   ]
  },
  {
   "cell_type": "markdown",
   "id": "9b97c335",
   "metadata": {},
   "source": [
    "Évaluer le taux de vacance locative en France, et les zones propices à un taux élevé\n",
    "\n",
    "Constante"
   ]
  },
  {
   "cell_type": "code",
   "execution_count": 2,
   "id": "549213c3",
   "metadata": {},
   "outputs": [],
   "source": [
    "BDD = \"https://huggingface.co/datasets/analysedonneesfoncieresdata/analyse_fonciere_data/resolve/main\""
   ]
  },
  {
   "cell_type": "markdown",
   "id": "831a5530",
   "metadata": {},
   "source": [
    "Lecture fichiers Excel"
   ]
  },
  {
   "cell_type": "code",
   "execution_count": 3,
   "id": "7727e89b",
   "metadata": {},
   "outputs": [
    {
     "name": "stderr",
     "output_type": "stream",
     "text": [
      "C:\\Users\\rivat\\AppData\\Local\\Temp\\ipykernel_23740\\1433042141.py:3: DtypeWarning: Columns (1,12,14,16,23,24) have mixed types. Specify dtype option on import or set low_memory=False.\n",
      "  df_communes = pd.read_csv(f\"{BDD}/communes-france-2025.csv\", sep=\",\")  # adapte le chemin si nécessaire\n"
     ]
    }
   ],
   "source": [
    "df_vac = pd.read_excel(f\"{BDD}/insee_rp_hist_1968.xlsx\", header=1)\n",
    "df_pop = pd.read_excel(f\"{BDD}/POPULATION_MUNICIPALE_COMMUNES_FRANCE_lucien.xlsx\")\n",
    "df_communes = pd.read_csv(f\"{BDD}/communes-france-2025.csv\", sep=\",\")  # adapte le chemin si nécessaire"
   ]
  },
  {
   "cell_type": "code",
   "execution_count": 4,
   "id": "2a741682",
   "metadata": {},
   "outputs": [],
   "source": [
    "df_communes_coords = df_communes[[\n",
    "    \"code_insee\",       # code INSEE pour faire le merge\n",
    "    \"code_postal\",      # code postal\n",
    "    \"latitude_centre\",  # latitude du centre de la commune\n",
    "    \"longitude_centre\"  # longitude du centre de la commune\n",
    "]]"
   ]
  },
  {
   "cell_type": "markdown",
   "id": "da42867e",
   "metadata": {},
   "source": [
    "Mise en forme des colonnes dans les fichiers"
   ]
  },
  {
   "cell_type": "code",
   "execution_count": 5,
   "id": "3812fbc2",
   "metadata": {},
   "outputs": [],
   "source": [
    "df_vac.columns = [\"code_commune\", \"nom_commune\", \"annee\", \"part_log_vacant\", \"col5\", \"col6\", \"col7\", \"col8\"]\n",
    "df_vac = df_vac[[\"code_commune\", \"nom_commune\", \"annee\", \"part_log_vacant\"]]\n",
    "\n",
    "df_pop.columns = [\"objectid\", \"reg\", \"dep\", \"cv\", \"codgeo\",\t\"libgeo\", \"p21_pop\"]\n",
    "\n",
    "df_vac = df_vac.dropna(subset=[\"part_log_vacant\"])\n",
    "df_vac[\"part_log_vacant\"] = pd.to_numeric(df_vac[\"part_log_vacant\"], errors=\"coerce\")\n",
    "df_vac = df_vac.dropna(subset=[\"part_log_vacant\"])\n",
    "\n",
    "df_pop[\"codgeo\"] = df_pop[\"codgeo\"].astype(str)\n",
    "df_vac[\"code_commune\"] = df_vac[\"code_commune\"].astype(str)"
   ]
  },
  {
   "cell_type": "markdown",
   "id": "521adc7d",
   "metadata": {},
   "source": [
    "Dataframe des villes de plus de 100 000 habitants classées dans l'ordre croissant par rapport au taux de logement vacant."
   ]
  },
  {
   "cell_type": "code",
   "execution_count": 6,
   "id": "f078d3ba",
   "metadata": {},
   "outputs": [
    {
     "name": "stderr",
     "output_type": "stream",
     "text": [
      "C:\\Users\\rivat\\AppData\\Local\\Temp\\ipykernel_23740\\1603771164.py:12: SettingWithCopyWarning: \n",
      "A value is trying to be set on a copy of a slice from a DataFrame.\n",
      "Try using .loc[row_indexer,col_indexer] = value instead\n",
      "\n",
      "See the caveats in the documentation: https://pandas.pydata.org/pandas-docs/stable/user_guide/indexing.html#returning-a-view-versus-a-copy\n",
      "  df_communes_coords[\"code_insee\"] = df_communes_coords[\"code_insee\"].astype(str)\n"
     ]
    }
   ],
   "source": [
    "df_vac = df_vac.sort_values(by=\"part_log_vacant\", ascending=True)\n",
    "\n",
    "df_pop_100k = df_pop[df_pop[\"p21_pop\"] > 100000]\n",
    "\n",
    "df_vac_100k = df_vac.merge(\n",
    "    df_pop_100k[[\"codgeo\", \"p21_pop\"]],\n",
    "    left_on=\"code_commune\",\n",
    "    right_on=\"codgeo\",\n",
    "    how=\"inner\"\n",
    ")\n",
    "\n",
    "df_communes_coords[\"code_insee\"] = df_communes_coords[\"code_insee\"].astype(str)\n",
    "df_vac_100k[\"code_commune\"] = df_vac_100k[\"code_commune\"].astype(str)\n",
    "\n",
    "df_vac_100k = df_vac_100k[[\"code_commune\", \"nom_commune\", \"annee\", \"part_log_vacant\", \"p21_pop\"]]"
   ]
  },
  {
   "cell_type": "markdown",
   "id": "4b656875",
   "metadata": {},
   "source": [
    "Affichage sur la map"
   ]
  },
  {
   "cell_type": "code",
   "execution_count": 7,
   "id": "93021a23",
   "metadata": {},
   "outputs": [
    {
     "name": "stderr",
     "output_type": "stream",
     "text": [
      "C:\\Users\\rivat\\AppData\\Local\\Temp\\ipykernel_23740\\73503755.py:17: DeprecationWarning: *scatter_mapbox* is deprecated! Use *scatter_map* instead. Learn more at: https://plotly.com/python/mapbox-to-maplibre/\n",
      "  fig = px.scatter_mapbox(\n"
     ]
    },
    {
     "data": {
      "application/vnd.plotly.v1+json": {
       "config": {
        "plotlyServerURL": "https://plot.ly"
       },
       "data": [
        {
         "customdata": {
          "bdata": "AAAAANQ+FUHNzMzMzMwpQAAAAAAAcLdAAAAAAACYn0AAAAAAsAACQc3MzMzMzCBAAAAAAACWyUAAAAAAAJifQAAAAACAavpAmpmZmZmZIUAAAAAAAFjLQAAAAAAAmJ9AAAAAAJBzA0EzMzMzMzMdQAAAAAAAgtRAAAAAAACYn0AAAAAA4Bn9QAAAAAAAACNAAAAAAABq2EAAAAAAAJifQAAAAAAYCwFBmpmZmZmZGUAAAAAAAITcQAAAAAAAmJ9AAAAAAEAUAkEzMzMzMzMlQAAAAAAALd5AAAAAAACYn0AAAAAAOMQeQWZmZmZmZiBAAAAAAABf3kAAAAAAAJifQAAAAABg9Q9BZmZmZmZmHEAAAAAAgELgQAAAAAAAmJ9AAAAAANh1EkHNzMzMzMwcQAAAAAAApOBAAAAAAACYn0AAAAAAyHkLQWZmZmZmZhpAAAAAAIBu4UAAAAAAAJifQAAAAADQzQBBAAAAAAAAJUAAAAAAgB3iQAAAAAAAmJ9AAAAAACg5A0GamZmZmZkqQAAAAAAAjuJAAAAAAACYn0AAAAAAcBUFQWZmZmZmZihAAAAAAICO5EAAAAAAAJifQAAAAAAQuhNBZmZmZmZmGEAAAAAAAJXlQAAAAAAAmJ9AAAAAAJB4/EAAAAAAAAAkQAAAAAAA+eVAAAAAAACYn0AAAAAAuC8DQQAAAAAAABhAAAAAAADt50AAAAAAAJifQAAAAACg5QVBAAAAAAAAI0AAAAAAgPPoQAAAAAAAmJ9AAAAAAEB0+UBmZmZmZmYnQAAAAACAaupAAAAAAACYn0AAAAAAoIL9QAAAAAAAACdAAAAAAMDd60AAAAAAAJifQAAAAAAw5QxBZmZmZmZmIEAAAAAAgO/sQAAAAAAAmJ9AAAAAAPj7AUEAAAAAAAAhQAAAAACAz+5AAAAAAACYn0AAAAAAgDb9QDMzMzMzMy5AAAAAAAAd8EAAAAAAAJifQAAAAADExxFBMzMzMzMzIUAAAAAAgFvwQAAAAAAAmJ9AAAAAAFD2+UBmZmZmZmYwQAAAAACApvBAAAAAAACYn0AAAAAAACgDQZqZmZmZmR9AAAAAAMDe8EAAAAAAAJifQAAAAABgswFBAAAAAAAAJEAAAAAAQJrxQAAAAAAAmJ9AAAAAABgUAEEzMzMzMzMdQAAAAAAAEfJAAAAAAACYn0AAAAAAUEUEQTMzMzMzMyVAAAAAAMC08kAAAAAAAJifQAAAAAAw2vtAZmZmZmZmI0AAAAAAQJTyQAAAAAAAmJ9AAAAAAMhPAEHNzMzMzMwiQAAAAACgjfNAAAAAAACYn0AAAAAAIAcGQTMzMzMzMwtAAAAAAIBD9EAAAAAAAJifQAAAAAAArv9AmpmZmZmZIUAAAAAAwEP1QAAAAAAAmJ9AAAAAAABA/UDNzMzMzMwaQAAAAABAfPZAAAAAAACYn0AAAAAA8DX7QM3MzMzMzBZAAAAAAMC69kAAAAAAAJifQAAAAABg0ftAZmZmZmZmGkAAAAAAoMH2QAAAAAAAmJ9AAAAAAFAt+kDNzMzMzMwYQAAAAADAN/dAAAAAAACYn0A=",
          "dtype": "f8",
          "shape": "37, 4"
         },
         "hovertemplate": "<b>%{hovertext}</b><br><br>part_log_vacant=%{marker.color}<br>latitude_centre=%{lat}<br>longitude_centre=%{lon}<br>p21_pop=%{customdata[0]}<br>code_postal=%{customdata[2]}<br>annee=%{customdata[3]}<extra></extra>",
         "hovertext": [
          "Nice",
          "Aix-en-Provence",
          "Caen",
          "Dijon",
          "Besançon",
          "Brest",
          "Nîmes",
          "Toulouse",
          "Bordeaux",
          "Montpellier",
          "Rennes",
          "Tours",
          "Grenoble",
          "Saint-Étienne",
          "Nantes",
          "Orléans",
          "Angers",
          "Reims",
          "Nancy",
          "Metz",
          "Lille",
          "Clermont-Ferrand",
          "Perpignan",
          "Strasbourg",
          "Mulhouse",
          "Villeurbanne",
          "Le Mans",
          "Annecy",
          "Le Havre",
          "Rouen",
          "Amiens",
          "Toulon",
          "Limoges",
          "Boulogne-Billancourt",
          "Montreuil",
          "Saint-Denis",
          "Argenteuil"
         ],
         "lat": {
          "bdata": "QmDl0CLbRUD4U+Olm8RFQEjhehSul0hA001iEFipR0BxPQrXo6BHQDMzMzMzM0hAXI/C9SjsRUA/NV66ScxFQARWDi2ybUZAWDm0yHbORUB1kxgEVg5IQFCNl24Ss0dAnu+nxkuXRkDXo3A9CrdGQARWDi2ynUdAGy/dJAbxR0CTGARWDr1HQMdLN4lBoEhAuB6F61FYSEDn+6nx0o1IQDeJQWDlUElA+FPjpZvkRkDwp8ZLN1lFQAwCK4cWSUhAHVpkO9/fR0Cmm8QgsOJGQFg5tMh2/kdANV66SQzyRkA5tMh2vr9IQJzEILByuEhAF9nO91PzSEDFILByaJFFQFpkO99P7UZAQmDl0CJrSEBYObTIdm5IQNejcD0Kd0hAfT81Xrp5SEA=",
          "dtype": "f8"
         },
         "legendgroup": "",
         "lon": {
          "bdata": "wcqhRbbzHEB/arx0k5gVQK5H4XoUrte/9P3UeOkmFEAUrkfhehQYQFCNl24SAxLAMQisHFpkEUC28/3UeOn2P5HtfD81XuK/i2zn+6nxDkC28/3UeOn6vxKDwMqhReY//Knx0k3iFkBqvHSTGIQRQPhT46WbxPi/Di2yne+n/j+YbhKDwMrhvylcj8L1KBBATmIQWDm0GEBiEFg5tMgYQPyp8dJNYghAIbByaJHtCED+1HjpJjEHQN9PjZduEh9A5/up8dJNHUBaZDvfT40TQJqZmZmZmck/Gy/dJAaBGEDsUbgehevBP7ByaJHtfPE/UrgehetRAkDufD81XroXQJZDi2zn+/M/tvP91HjpAUAv3SQGgZUDQKwcWmQ73wJAIbByaJHtAUA=",
          "dtype": "f8"
         },
         "marker": {
          "color": {
           "bdata": "zczMzMzMKUDNzMzMzMwgQJqZmZmZmSFAMzMzMzMzHUAAAAAAAAAjQJqZmZmZmRlAMzMzMzMzJUBmZmZmZmYgQGZmZmZmZhxAzczMzMzMHEBmZmZmZmYaQAAAAAAAACVAmpmZmZmZKkBmZmZmZmYoQGZmZmZmZhhAAAAAAAAAJEAAAAAAAAAYQAAAAAAAACNAZmZmZmZmJ0AAAAAAAAAnQGZmZmZmZiBAAAAAAAAAIUAzMzMzMzMuQDMzMzMzMyFAZmZmZmZmMECamZmZmZkfQAAAAAAAACRAMzMzMzMzHUAzMzMzMzMlQGZmZmZmZiNAzczMzMzMIkAzMzMzMzMLQJqZmZmZmSFAzczMzMzMGkDNzMzMzMwWQGZmZmZmZhpAzczMzMzMGEA=",
           "dtype": "f8"
          },
          "coloraxis": "coloraxis",
          "size": {
           "bdata": "zczMzMzMKUDNzMzMzMwgQJqZmZmZmSFAMzMzMzMzHUAAAAAAAAAjQJqZmZmZmRlAMzMzMzMzJUBmZmZmZmYgQGZmZmZmZhxAzczMzMzMHEBmZmZmZmYaQAAAAAAAACVAmpmZmZmZKkBmZmZmZmYoQGZmZmZmZhhAAAAAAAAAJEAAAAAAAAAYQAAAAAAAACNAZmZmZmZmJ0AAAAAAAAAnQGZmZmZmZiBAAAAAAAAAIUAzMzMzMzMuQDMzMzMzMyFAZmZmZmZmMECamZmZmZkfQAAAAAAAACRAMzMzMzMzHUAzMzMzMzMlQGZmZmZmZiNAzczMzMzMIkAzMzMzMzMLQJqZmZmZmSFAzczMzMzMGkDNzMzMzMwWQGZmZmZmZhpAzczMzMzMGEA=",
           "dtype": "f8"
          },
          "sizemode": "area",
          "sizeref": 0.040999999999999995
         },
         "mode": "markers",
         "name": "",
         "showlegend": false,
         "subplot": "mapbox",
         "type": "scattermapbox"
        }
       ],
       "layout": {
        "coloraxis": {
         "colorbar": {
          "title": {
           "text": "part_log_vacant"
          }
         },
         "colorscale": [
          [
           0,
           "rgb(255,247,236)"
          ],
          [
           0.125,
           "rgb(254,232,200)"
          ],
          [
           0.25,
           "rgb(253,212,158)"
          ],
          [
           0.375,
           "rgb(253,187,132)"
          ],
          [
           0.5,
           "rgb(252,141,89)"
          ],
          [
           0.625,
           "rgb(239,101,72)"
          ],
          [
           0.75,
           "rgb(215,48,31)"
          ],
          [
           0.875,
           "rgb(179,0,0)"
          ],
          [
           1,
           "rgb(127,0,0)"
          ]
         ]
        },
        "height": 500,
        "legend": {
         "itemsizing": "constant",
         "tracegroupgap": 0
        },
        "mapbox": {
         "center": {
          "lat": 47.015756756756765,
          "lon": 2.9350270270270267
         },
         "domain": {
          "x": [
           0,
           1
          ],
          "y": [
           0,
           1
          ]
         },
         "style": "open-street-map",
         "zoom": 5
        },
        "margin": {
         "b": 0,
         "l": 0,
         "r": 0,
         "t": 0
        },
        "template": {
         "data": {
          "bar": [
           {
            "error_x": {
             "color": "#2a3f5f"
            },
            "error_y": {
             "color": "#2a3f5f"
            },
            "marker": {
             "line": {
              "color": "#E5ECF6",
              "width": 0.5
             },
             "pattern": {
              "fillmode": "overlay",
              "size": 10,
              "solidity": 0.2
             }
            },
            "type": "bar"
           }
          ],
          "barpolar": [
           {
            "marker": {
             "line": {
              "color": "#E5ECF6",
              "width": 0.5
             },
             "pattern": {
              "fillmode": "overlay",
              "size": 10,
              "solidity": 0.2
             }
            },
            "type": "barpolar"
           }
          ],
          "carpet": [
           {
            "aaxis": {
             "endlinecolor": "#2a3f5f",
             "gridcolor": "white",
             "linecolor": "white",
             "minorgridcolor": "white",
             "startlinecolor": "#2a3f5f"
            },
            "baxis": {
             "endlinecolor": "#2a3f5f",
             "gridcolor": "white",
             "linecolor": "white",
             "minorgridcolor": "white",
             "startlinecolor": "#2a3f5f"
            },
            "type": "carpet"
           }
          ],
          "choropleth": [
           {
            "colorbar": {
             "outlinewidth": 0,
             "ticks": ""
            },
            "type": "choropleth"
           }
          ],
          "contour": [
           {
            "colorbar": {
             "outlinewidth": 0,
             "ticks": ""
            },
            "colorscale": [
             [
              0,
              "#0d0887"
             ],
             [
              0.1111111111111111,
              "#46039f"
             ],
             [
              0.2222222222222222,
              "#7201a8"
             ],
             [
              0.3333333333333333,
              "#9c179e"
             ],
             [
              0.4444444444444444,
              "#bd3786"
             ],
             [
              0.5555555555555556,
              "#d8576b"
             ],
             [
              0.6666666666666666,
              "#ed7953"
             ],
             [
              0.7777777777777778,
              "#fb9f3a"
             ],
             [
              0.8888888888888888,
              "#fdca26"
             ],
             [
              1,
              "#f0f921"
             ]
            ],
            "type": "contour"
           }
          ],
          "contourcarpet": [
           {
            "colorbar": {
             "outlinewidth": 0,
             "ticks": ""
            },
            "type": "contourcarpet"
           }
          ],
          "heatmap": [
           {
            "colorbar": {
             "outlinewidth": 0,
             "ticks": ""
            },
            "colorscale": [
             [
              0,
              "#0d0887"
             ],
             [
              0.1111111111111111,
              "#46039f"
             ],
             [
              0.2222222222222222,
              "#7201a8"
             ],
             [
              0.3333333333333333,
              "#9c179e"
             ],
             [
              0.4444444444444444,
              "#bd3786"
             ],
             [
              0.5555555555555556,
              "#d8576b"
             ],
             [
              0.6666666666666666,
              "#ed7953"
             ],
             [
              0.7777777777777778,
              "#fb9f3a"
             ],
             [
              0.8888888888888888,
              "#fdca26"
             ],
             [
              1,
              "#f0f921"
             ]
            ],
            "type": "heatmap"
           }
          ],
          "histogram": [
           {
            "marker": {
             "pattern": {
              "fillmode": "overlay",
              "size": 10,
              "solidity": 0.2
             }
            },
            "type": "histogram"
           }
          ],
          "histogram2d": [
           {
            "colorbar": {
             "outlinewidth": 0,
             "ticks": ""
            },
            "colorscale": [
             [
              0,
              "#0d0887"
             ],
             [
              0.1111111111111111,
              "#46039f"
             ],
             [
              0.2222222222222222,
              "#7201a8"
             ],
             [
              0.3333333333333333,
              "#9c179e"
             ],
             [
              0.4444444444444444,
              "#bd3786"
             ],
             [
              0.5555555555555556,
              "#d8576b"
             ],
             [
              0.6666666666666666,
              "#ed7953"
             ],
             [
              0.7777777777777778,
              "#fb9f3a"
             ],
             [
              0.8888888888888888,
              "#fdca26"
             ],
             [
              1,
              "#f0f921"
             ]
            ],
            "type": "histogram2d"
           }
          ],
          "histogram2dcontour": [
           {
            "colorbar": {
             "outlinewidth": 0,
             "ticks": ""
            },
            "colorscale": [
             [
              0,
              "#0d0887"
             ],
             [
              0.1111111111111111,
              "#46039f"
             ],
             [
              0.2222222222222222,
              "#7201a8"
             ],
             [
              0.3333333333333333,
              "#9c179e"
             ],
             [
              0.4444444444444444,
              "#bd3786"
             ],
             [
              0.5555555555555556,
              "#d8576b"
             ],
             [
              0.6666666666666666,
              "#ed7953"
             ],
             [
              0.7777777777777778,
              "#fb9f3a"
             ],
             [
              0.8888888888888888,
              "#fdca26"
             ],
             [
              1,
              "#f0f921"
             ]
            ],
            "type": "histogram2dcontour"
           }
          ],
          "mesh3d": [
           {
            "colorbar": {
             "outlinewidth": 0,
             "ticks": ""
            },
            "type": "mesh3d"
           }
          ],
          "parcoords": [
           {
            "line": {
             "colorbar": {
              "outlinewidth": 0,
              "ticks": ""
             }
            },
            "type": "parcoords"
           }
          ],
          "pie": [
           {
            "automargin": true,
            "type": "pie"
           }
          ],
          "scatter": [
           {
            "fillpattern": {
             "fillmode": "overlay",
             "size": 10,
             "solidity": 0.2
            },
            "type": "scatter"
           }
          ],
          "scatter3d": [
           {
            "line": {
             "colorbar": {
              "outlinewidth": 0,
              "ticks": ""
             }
            },
            "marker": {
             "colorbar": {
              "outlinewidth": 0,
              "ticks": ""
             }
            },
            "type": "scatter3d"
           }
          ],
          "scattercarpet": [
           {
            "marker": {
             "colorbar": {
              "outlinewidth": 0,
              "ticks": ""
             }
            },
            "type": "scattercarpet"
           }
          ],
          "scattergeo": [
           {
            "marker": {
             "colorbar": {
              "outlinewidth": 0,
              "ticks": ""
             }
            },
            "type": "scattergeo"
           }
          ],
          "scattergl": [
           {
            "marker": {
             "colorbar": {
              "outlinewidth": 0,
              "ticks": ""
             }
            },
            "type": "scattergl"
           }
          ],
          "scattermap": [
           {
            "marker": {
             "colorbar": {
              "outlinewidth": 0,
              "ticks": ""
             }
            },
            "type": "scattermap"
           }
          ],
          "scattermapbox": [
           {
            "marker": {
             "colorbar": {
              "outlinewidth": 0,
              "ticks": ""
             }
            },
            "type": "scattermapbox"
           }
          ],
          "scatterpolar": [
           {
            "marker": {
             "colorbar": {
              "outlinewidth": 0,
              "ticks": ""
             }
            },
            "type": "scatterpolar"
           }
          ],
          "scatterpolargl": [
           {
            "marker": {
             "colorbar": {
              "outlinewidth": 0,
              "ticks": ""
             }
            },
            "type": "scatterpolargl"
           }
          ],
          "scatterternary": [
           {
            "marker": {
             "colorbar": {
              "outlinewidth": 0,
              "ticks": ""
             }
            },
            "type": "scatterternary"
           }
          ],
          "surface": [
           {
            "colorbar": {
             "outlinewidth": 0,
             "ticks": ""
            },
            "colorscale": [
             [
              0,
              "#0d0887"
             ],
             [
              0.1111111111111111,
              "#46039f"
             ],
             [
              0.2222222222222222,
              "#7201a8"
             ],
             [
              0.3333333333333333,
              "#9c179e"
             ],
             [
              0.4444444444444444,
              "#bd3786"
             ],
             [
              0.5555555555555556,
              "#d8576b"
             ],
             [
              0.6666666666666666,
              "#ed7953"
             ],
             [
              0.7777777777777778,
              "#fb9f3a"
             ],
             [
              0.8888888888888888,
              "#fdca26"
             ],
             [
              1,
              "#f0f921"
             ]
            ],
            "type": "surface"
           }
          ],
          "table": [
           {
            "cells": {
             "fill": {
              "color": "#EBF0F8"
             },
             "line": {
              "color": "white"
             }
            },
            "header": {
             "fill": {
              "color": "#C8D4E3"
             },
             "line": {
              "color": "white"
             }
            },
            "type": "table"
           }
          ]
         },
         "layout": {
          "annotationdefaults": {
           "arrowcolor": "#2a3f5f",
           "arrowhead": 0,
           "arrowwidth": 1
          },
          "autotypenumbers": "strict",
          "coloraxis": {
           "colorbar": {
            "outlinewidth": 0,
            "ticks": ""
           }
          },
          "colorscale": {
           "diverging": [
            [
             0,
             "#8e0152"
            ],
            [
             0.1,
             "#c51b7d"
            ],
            [
             0.2,
             "#de77ae"
            ],
            [
             0.3,
             "#f1b6da"
            ],
            [
             0.4,
             "#fde0ef"
            ],
            [
             0.5,
             "#f7f7f7"
            ],
            [
             0.6,
             "#e6f5d0"
            ],
            [
             0.7,
             "#b8e186"
            ],
            [
             0.8,
             "#7fbc41"
            ],
            [
             0.9,
             "#4d9221"
            ],
            [
             1,
             "#276419"
            ]
           ],
           "sequential": [
            [
             0,
             "#0d0887"
            ],
            [
             0.1111111111111111,
             "#46039f"
            ],
            [
             0.2222222222222222,
             "#7201a8"
            ],
            [
             0.3333333333333333,
             "#9c179e"
            ],
            [
             0.4444444444444444,
             "#bd3786"
            ],
            [
             0.5555555555555556,
             "#d8576b"
            ],
            [
             0.6666666666666666,
             "#ed7953"
            ],
            [
             0.7777777777777778,
             "#fb9f3a"
            ],
            [
             0.8888888888888888,
             "#fdca26"
            ],
            [
             1,
             "#f0f921"
            ]
           ],
           "sequentialminus": [
            [
             0,
             "#0d0887"
            ],
            [
             0.1111111111111111,
             "#46039f"
            ],
            [
             0.2222222222222222,
             "#7201a8"
            ],
            [
             0.3333333333333333,
             "#9c179e"
            ],
            [
             0.4444444444444444,
             "#bd3786"
            ],
            [
             0.5555555555555556,
             "#d8576b"
            ],
            [
             0.6666666666666666,
             "#ed7953"
            ],
            [
             0.7777777777777778,
             "#fb9f3a"
            ],
            [
             0.8888888888888888,
             "#fdca26"
            ],
            [
             1,
             "#f0f921"
            ]
           ]
          },
          "colorway": [
           "#636efa",
           "#EF553B",
           "#00cc96",
           "#ab63fa",
           "#FFA15A",
           "#19d3f3",
           "#FF6692",
           "#B6E880",
           "#FF97FF",
           "#FECB52"
          ],
          "font": {
           "color": "#2a3f5f"
          },
          "geo": {
           "bgcolor": "white",
           "lakecolor": "white",
           "landcolor": "#E5ECF6",
           "showlakes": true,
           "showland": true,
           "subunitcolor": "white"
          },
          "hoverlabel": {
           "align": "left"
          },
          "hovermode": "closest",
          "mapbox": {
           "style": "light"
          },
          "paper_bgcolor": "white",
          "plot_bgcolor": "#E5ECF6",
          "polar": {
           "angularaxis": {
            "gridcolor": "white",
            "linecolor": "white",
            "ticks": ""
           },
           "bgcolor": "#E5ECF6",
           "radialaxis": {
            "gridcolor": "white",
            "linecolor": "white",
            "ticks": ""
           }
          },
          "scene": {
           "xaxis": {
            "backgroundcolor": "#E5ECF6",
            "gridcolor": "white",
            "gridwidth": 2,
            "linecolor": "white",
            "showbackground": true,
            "ticks": "",
            "zerolinecolor": "white"
           },
           "yaxis": {
            "backgroundcolor": "#E5ECF6",
            "gridcolor": "white",
            "gridwidth": 2,
            "linecolor": "white",
            "showbackground": true,
            "ticks": "",
            "zerolinecolor": "white"
           },
           "zaxis": {
            "backgroundcolor": "#E5ECF6",
            "gridcolor": "white",
            "gridwidth": 2,
            "linecolor": "white",
            "showbackground": true,
            "ticks": "",
            "zerolinecolor": "white"
           }
          },
          "shapedefaults": {
           "line": {
            "color": "#2a3f5f"
           }
          },
          "ternary": {
           "aaxis": {
            "gridcolor": "white",
            "linecolor": "white",
            "ticks": ""
           },
           "baxis": {
            "gridcolor": "white",
            "linecolor": "white",
            "ticks": ""
           },
           "bgcolor": "#E5ECF6",
           "caxis": {
            "gridcolor": "white",
            "linecolor": "white",
            "ticks": ""
           }
          },
          "title": {
           "x": 0.05
          },
          "xaxis": {
           "automargin": true,
           "gridcolor": "white",
           "linecolor": "white",
           "ticks": "",
           "title": {
            "standoff": 15
           },
           "zerolinecolor": "white",
           "zerolinewidth": 2
          },
          "yaxis": {
           "automargin": true,
           "gridcolor": "white",
           "linecolor": "white",
           "ticks": "",
           "title": {
            "standoff": 15
           },
           "zerolinecolor": "white",
           "zerolinewidth": 2
          }
         }
        }
       }
      }
     },
     "metadata": {},
     "output_type": "display_data"
    },
    {
     "data": {
      "application/vnd.plotly.v1+json": {
       "config": {
        "plotlyServerURL": "https://plot.ly"
       },
       "data": [
        {
         "customdata": {
          "bdata": "AAAAACAHBkEAAAAAgEP0QAAAAAAAmJ9AAAAAAPA1+0AAAAAAwLr2QAAAAAAAmJ9AAAAAALgvA0EAAAAAAO3nQAAAAAAAmJ9AAAAAABC6E0EAAAAAAJXlQAAAAAAAmJ9AAAAAAFAt+kAAAAAAwDf3QAAAAAAAmJ9AAAAAABgLAUEAAAAAAITcQAAAAAAAmJ9AAAAAAGDR+0AAAAAAoMH2QAAAAAAAmJ9AAAAAAMh5C0EAAAAAgG7hQAAAAAAAmJ9AAAAAAABA/UAAAAAAQHz2QAAAAAAAmJ9AAAAAAGD1D0EAAAAAgELgQAAAAAAAmJ9AAAAAANh1EkEAAAAAAKTgQAAAAAAAmJ9AAAAAABgUAEEAAAAAABHyQAAAAAAAmJ9AAAAAAJBzA0EAAAAAAILUQAAAAAAAmJ9AAAAAAAAoA0EAAAAAwN7wQAAAAAAAmJ9AAAAAADjEHkEAAAAAAF/eQAAAAAAAmJ9AAAAAADDlDEEAAAAAgO/sQAAAAAAAmJ9AAAAAALAAAkEAAAAAAJbJQAAAAAAAmJ9AAAAAAPj7AUEAAAAAgM/uQAAAAAAAmJ9AAAAAAMTHEUEAAAAAgFvwQAAAAAAAmJ9AAAAAAIBq+kAAAAAAAFjLQAAAAAAAmJ9A",
          "dtype": "f8",
          "shape": "20, 3"
         },
         "hovertemplate": "Commune=%{x}<br>Taux logements vacants=%{marker.color}<br>p21_pop=%{customdata[0]}<br>code_postal=%{customdata[1]}<br>annee=%{customdata[2]}<extra></extra>",
         "legendgroup": "",
         "marker": {
          "color": {
           "bdata": "MzMzMzMzC0DNzMzMzMwWQAAAAAAAABhAZmZmZmZmGEDNzMzMzMwYQJqZmZmZmRlAZmZmZmZmGkBmZmZmZmYaQM3MzMzMzBpAZmZmZmZmHEDNzMzMzMwcQDMzMzMzMx1AMzMzMzMzHUCamZmZmZkfQGZmZmZmZiBAZmZmZmZmIEDNzMzMzMwgQAAAAAAAACFAMzMzMzMzIUCamZmZmZkhQA==",
           "dtype": "f8"
          },
          "coloraxis": "coloraxis",
          "pattern": {
           "shape": ""
          }
         },
         "name": "",
         "orientation": "v",
         "showlegend": false,
         "text": {
          "bdata": "MzMzMzMzC0DNzMzMzMwWQAAAAAAAABhAZmZmZmZmGEDNzMzMzMwYQJqZmZmZmRlAZmZmZmZmGkBmZmZmZmYaQM3MzMzMzBpAZmZmZmZmHEDNzMzMzMwcQDMzMzMzMx1AMzMzMzMzHUCamZmZmZkfQGZmZmZmZiBAZmZmZmZmIEDNzMzMzMwgQAAAAAAAACFAMzMzMzMzIUCamZmZmZkhQA==",
          "dtype": "f8"
         },
         "textposition": "outside",
         "texttemplate": "%{text:.2f}",
         "type": "bar",
         "x": [
          "Toulon",
          "Montreuil",
          "Angers",
          "Nantes",
          "Argenteuil",
          "Brest",
          "Saint-Denis",
          "Rennes",
          "Boulogne-Billancourt",
          "Bordeaux",
          "Montpellier",
          "Annecy",
          "Dijon",
          "Villeurbanne",
          "Toulouse",
          "Lille",
          "Aix-en-Provence",
          "Clermont-Ferrand",
          "Strasbourg",
          "Caen"
         ],
         "xaxis": "x",
         "y": {
          "bdata": "MzMzMzMzC0DNzMzMzMwWQAAAAAAAABhAZmZmZmZmGEDNzMzMzMwYQJqZmZmZmRlAZmZmZmZmGkBmZmZmZmYaQM3MzMzMzBpAZmZmZmZmHEDNzMzMzMwcQDMzMzMzMx1AMzMzMzMzHUCamZmZmZkfQGZmZmZmZiBAZmZmZmZmIEDNzMzMzMwgQAAAAAAAACFAMzMzMzMzIUCamZmZmZkhQA==",
          "dtype": "f8"
         },
         "yaxis": "y"
        }
       ],
       "layout": {
        "barmode": "relative",
        "coloraxis": {
         "colorbar": {
          "title": {
           "text": "Taux logements vacants"
          }
         },
         "colorscale": [
          [
           0,
           "rgb(247,251,255)"
          ],
          [
           0.125,
           "rgb(222,235,247)"
          ],
          [
           0.25,
           "rgb(198,219,239)"
          ],
          [
           0.375,
           "rgb(158,202,225)"
          ],
          [
           0.5,
           "rgb(107,174,214)"
          ],
          [
           0.625,
           "rgb(66,146,198)"
          ],
          [
           0.75,
           "rgb(33,113,181)"
          ],
          [
           0.875,
           "rgb(8,81,156)"
          ],
          [
           1,
           "rgb(8,48,107)"
          ]
         ]
        },
        "height": 600,
        "legend": {
         "tracegroupgap": 0
        },
        "template": {
         "data": {
          "bar": [
           {
            "error_x": {
             "color": "#2a3f5f"
            },
            "error_y": {
             "color": "#2a3f5f"
            },
            "marker": {
             "line": {
              "color": "#E5ECF6",
              "width": 0.5
             },
             "pattern": {
              "fillmode": "overlay",
              "size": 10,
              "solidity": 0.2
             }
            },
            "type": "bar"
           }
          ],
          "barpolar": [
           {
            "marker": {
             "line": {
              "color": "#E5ECF6",
              "width": 0.5
             },
             "pattern": {
              "fillmode": "overlay",
              "size": 10,
              "solidity": 0.2
             }
            },
            "type": "barpolar"
           }
          ],
          "carpet": [
           {
            "aaxis": {
             "endlinecolor": "#2a3f5f",
             "gridcolor": "white",
             "linecolor": "white",
             "minorgridcolor": "white",
             "startlinecolor": "#2a3f5f"
            },
            "baxis": {
             "endlinecolor": "#2a3f5f",
             "gridcolor": "white",
             "linecolor": "white",
             "minorgridcolor": "white",
             "startlinecolor": "#2a3f5f"
            },
            "type": "carpet"
           }
          ],
          "choropleth": [
           {
            "colorbar": {
             "outlinewidth": 0,
             "ticks": ""
            },
            "type": "choropleth"
           }
          ],
          "contour": [
           {
            "colorbar": {
             "outlinewidth": 0,
             "ticks": ""
            },
            "colorscale": [
             [
              0,
              "#0d0887"
             ],
             [
              0.1111111111111111,
              "#46039f"
             ],
             [
              0.2222222222222222,
              "#7201a8"
             ],
             [
              0.3333333333333333,
              "#9c179e"
             ],
             [
              0.4444444444444444,
              "#bd3786"
             ],
             [
              0.5555555555555556,
              "#d8576b"
             ],
             [
              0.6666666666666666,
              "#ed7953"
             ],
             [
              0.7777777777777778,
              "#fb9f3a"
             ],
             [
              0.8888888888888888,
              "#fdca26"
             ],
             [
              1,
              "#f0f921"
             ]
            ],
            "type": "contour"
           }
          ],
          "contourcarpet": [
           {
            "colorbar": {
             "outlinewidth": 0,
             "ticks": ""
            },
            "type": "contourcarpet"
           }
          ],
          "heatmap": [
           {
            "colorbar": {
             "outlinewidth": 0,
             "ticks": ""
            },
            "colorscale": [
             [
              0,
              "#0d0887"
             ],
             [
              0.1111111111111111,
              "#46039f"
             ],
             [
              0.2222222222222222,
              "#7201a8"
             ],
             [
              0.3333333333333333,
              "#9c179e"
             ],
             [
              0.4444444444444444,
              "#bd3786"
             ],
             [
              0.5555555555555556,
              "#d8576b"
             ],
             [
              0.6666666666666666,
              "#ed7953"
             ],
             [
              0.7777777777777778,
              "#fb9f3a"
             ],
             [
              0.8888888888888888,
              "#fdca26"
             ],
             [
              1,
              "#f0f921"
             ]
            ],
            "type": "heatmap"
           }
          ],
          "histogram": [
           {
            "marker": {
             "pattern": {
              "fillmode": "overlay",
              "size": 10,
              "solidity": 0.2
             }
            },
            "type": "histogram"
           }
          ],
          "histogram2d": [
           {
            "colorbar": {
             "outlinewidth": 0,
             "ticks": ""
            },
            "colorscale": [
             [
              0,
              "#0d0887"
             ],
             [
              0.1111111111111111,
              "#46039f"
             ],
             [
              0.2222222222222222,
              "#7201a8"
             ],
             [
              0.3333333333333333,
              "#9c179e"
             ],
             [
              0.4444444444444444,
              "#bd3786"
             ],
             [
              0.5555555555555556,
              "#d8576b"
             ],
             [
              0.6666666666666666,
              "#ed7953"
             ],
             [
              0.7777777777777778,
              "#fb9f3a"
             ],
             [
              0.8888888888888888,
              "#fdca26"
             ],
             [
              1,
              "#f0f921"
             ]
            ],
            "type": "histogram2d"
           }
          ],
          "histogram2dcontour": [
           {
            "colorbar": {
             "outlinewidth": 0,
             "ticks": ""
            },
            "colorscale": [
             [
              0,
              "#0d0887"
             ],
             [
              0.1111111111111111,
              "#46039f"
             ],
             [
              0.2222222222222222,
              "#7201a8"
             ],
             [
              0.3333333333333333,
              "#9c179e"
             ],
             [
              0.4444444444444444,
              "#bd3786"
             ],
             [
              0.5555555555555556,
              "#d8576b"
             ],
             [
              0.6666666666666666,
              "#ed7953"
             ],
             [
              0.7777777777777778,
              "#fb9f3a"
             ],
             [
              0.8888888888888888,
              "#fdca26"
             ],
             [
              1,
              "#f0f921"
             ]
            ],
            "type": "histogram2dcontour"
           }
          ],
          "mesh3d": [
           {
            "colorbar": {
             "outlinewidth": 0,
             "ticks": ""
            },
            "type": "mesh3d"
           }
          ],
          "parcoords": [
           {
            "line": {
             "colorbar": {
              "outlinewidth": 0,
              "ticks": ""
             }
            },
            "type": "parcoords"
           }
          ],
          "pie": [
           {
            "automargin": true,
            "type": "pie"
           }
          ],
          "scatter": [
           {
            "fillpattern": {
             "fillmode": "overlay",
             "size": 10,
             "solidity": 0.2
            },
            "type": "scatter"
           }
          ],
          "scatter3d": [
           {
            "line": {
             "colorbar": {
              "outlinewidth": 0,
              "ticks": ""
             }
            },
            "marker": {
             "colorbar": {
              "outlinewidth": 0,
              "ticks": ""
             }
            },
            "type": "scatter3d"
           }
          ],
          "scattercarpet": [
           {
            "marker": {
             "colorbar": {
              "outlinewidth": 0,
              "ticks": ""
             }
            },
            "type": "scattercarpet"
           }
          ],
          "scattergeo": [
           {
            "marker": {
             "colorbar": {
              "outlinewidth": 0,
              "ticks": ""
             }
            },
            "type": "scattergeo"
           }
          ],
          "scattergl": [
           {
            "marker": {
             "colorbar": {
              "outlinewidth": 0,
              "ticks": ""
             }
            },
            "type": "scattergl"
           }
          ],
          "scattermap": [
           {
            "marker": {
             "colorbar": {
              "outlinewidth": 0,
              "ticks": ""
             }
            },
            "type": "scattermap"
           }
          ],
          "scattermapbox": [
           {
            "marker": {
             "colorbar": {
              "outlinewidth": 0,
              "ticks": ""
             }
            },
            "type": "scattermapbox"
           }
          ],
          "scatterpolar": [
           {
            "marker": {
             "colorbar": {
              "outlinewidth": 0,
              "ticks": ""
             }
            },
            "type": "scatterpolar"
           }
          ],
          "scatterpolargl": [
           {
            "marker": {
             "colorbar": {
              "outlinewidth": 0,
              "ticks": ""
             }
            },
            "type": "scatterpolargl"
           }
          ],
          "scatterternary": [
           {
            "marker": {
             "colorbar": {
              "outlinewidth": 0,
              "ticks": ""
             }
            },
            "type": "scatterternary"
           }
          ],
          "surface": [
           {
            "colorbar": {
             "outlinewidth": 0,
             "ticks": ""
            },
            "colorscale": [
             [
              0,
              "#0d0887"
             ],
             [
              0.1111111111111111,
              "#46039f"
             ],
             [
              0.2222222222222222,
              "#7201a8"
             ],
             [
              0.3333333333333333,
              "#9c179e"
             ],
             [
              0.4444444444444444,
              "#bd3786"
             ],
             [
              0.5555555555555556,
              "#d8576b"
             ],
             [
              0.6666666666666666,
              "#ed7953"
             ],
             [
              0.7777777777777778,
              "#fb9f3a"
             ],
             [
              0.8888888888888888,
              "#fdca26"
             ],
             [
              1,
              "#f0f921"
             ]
            ],
            "type": "surface"
           }
          ],
          "table": [
           {
            "cells": {
             "fill": {
              "color": "#EBF0F8"
             },
             "line": {
              "color": "white"
             }
            },
            "header": {
             "fill": {
              "color": "#C8D4E3"
             },
             "line": {
              "color": "white"
             }
            },
            "type": "table"
           }
          ]
         },
         "layout": {
          "annotationdefaults": {
           "arrowcolor": "#2a3f5f",
           "arrowhead": 0,
           "arrowwidth": 1
          },
          "autotypenumbers": "strict",
          "coloraxis": {
           "colorbar": {
            "outlinewidth": 0,
            "ticks": ""
           }
          },
          "colorscale": {
           "diverging": [
            [
             0,
             "#8e0152"
            ],
            [
             0.1,
             "#c51b7d"
            ],
            [
             0.2,
             "#de77ae"
            ],
            [
             0.3,
             "#f1b6da"
            ],
            [
             0.4,
             "#fde0ef"
            ],
            [
             0.5,
             "#f7f7f7"
            ],
            [
             0.6,
             "#e6f5d0"
            ],
            [
             0.7,
             "#b8e186"
            ],
            [
             0.8,
             "#7fbc41"
            ],
            [
             0.9,
             "#4d9221"
            ],
            [
             1,
             "#276419"
            ]
           ],
           "sequential": [
            [
             0,
             "#0d0887"
            ],
            [
             0.1111111111111111,
             "#46039f"
            ],
            [
             0.2222222222222222,
             "#7201a8"
            ],
            [
             0.3333333333333333,
             "#9c179e"
            ],
            [
             0.4444444444444444,
             "#bd3786"
            ],
            [
             0.5555555555555556,
             "#d8576b"
            ],
            [
             0.6666666666666666,
             "#ed7953"
            ],
            [
             0.7777777777777778,
             "#fb9f3a"
            ],
            [
             0.8888888888888888,
             "#fdca26"
            ],
            [
             1,
             "#f0f921"
            ]
           ],
           "sequentialminus": [
            [
             0,
             "#0d0887"
            ],
            [
             0.1111111111111111,
             "#46039f"
            ],
            [
             0.2222222222222222,
             "#7201a8"
            ],
            [
             0.3333333333333333,
             "#9c179e"
            ],
            [
             0.4444444444444444,
             "#bd3786"
            ],
            [
             0.5555555555555556,
             "#d8576b"
            ],
            [
             0.6666666666666666,
             "#ed7953"
            ],
            [
             0.7777777777777778,
             "#fb9f3a"
            ],
            [
             0.8888888888888888,
             "#fdca26"
            ],
            [
             1,
             "#f0f921"
            ]
           ]
          },
          "colorway": [
           "#636efa",
           "#EF553B",
           "#00cc96",
           "#ab63fa",
           "#FFA15A",
           "#19d3f3",
           "#FF6692",
           "#B6E880",
           "#FF97FF",
           "#FECB52"
          ],
          "font": {
           "color": "#2a3f5f"
          },
          "geo": {
           "bgcolor": "white",
           "lakecolor": "white",
           "landcolor": "#E5ECF6",
           "showlakes": true,
           "showland": true,
           "subunitcolor": "white"
          },
          "hoverlabel": {
           "align": "left"
          },
          "hovermode": "closest",
          "mapbox": {
           "style": "light"
          },
          "paper_bgcolor": "white",
          "plot_bgcolor": "#E5ECF6",
          "polar": {
           "angularaxis": {
            "gridcolor": "white",
            "linecolor": "white",
            "ticks": ""
           },
           "bgcolor": "#E5ECF6",
           "radialaxis": {
            "gridcolor": "white",
            "linecolor": "white",
            "ticks": ""
           }
          },
          "scene": {
           "xaxis": {
            "backgroundcolor": "#E5ECF6",
            "gridcolor": "white",
            "gridwidth": 2,
            "linecolor": "white",
            "showbackground": true,
            "ticks": "",
            "zerolinecolor": "white"
           },
           "yaxis": {
            "backgroundcolor": "#E5ECF6",
            "gridcolor": "white",
            "gridwidth": 2,
            "linecolor": "white",
            "showbackground": true,
            "ticks": "",
            "zerolinecolor": "white"
           },
           "zaxis": {
            "backgroundcolor": "#E5ECF6",
            "gridcolor": "white",
            "gridwidth": 2,
            "linecolor": "white",
            "showbackground": true,
            "ticks": "",
            "zerolinecolor": "white"
           }
          },
          "shapedefaults": {
           "line": {
            "color": "#2a3f5f"
           }
          },
          "ternary": {
           "aaxis": {
            "gridcolor": "white",
            "linecolor": "white",
            "ticks": ""
           },
           "baxis": {
            "gridcolor": "white",
            "linecolor": "white",
            "ticks": ""
           },
           "bgcolor": "#E5ECF6",
           "caxis": {
            "gridcolor": "white",
            "linecolor": "white",
            "ticks": ""
           }
          },
          "title": {
           "x": 0.05
          },
          "xaxis": {
           "automargin": true,
           "gridcolor": "white",
           "linecolor": "white",
           "ticks": "",
           "title": {
            "standoff": 15
           },
           "zerolinecolor": "white",
           "zerolinewidth": 2
          },
          "yaxis": {
           "automargin": true,
           "gridcolor": "white",
           "linecolor": "white",
           "ticks": "",
           "title": {
            "standoff": 15
           },
           "zerolinecolor": "white",
           "zerolinewidth": 2
          }
         }
        },
        "title": {
         "text": "Top 10 communes avec le plus petit taux de logements vacants"
        },
        "xaxis": {
         "anchor": "y",
         "domain": [
          0,
          1
         ],
         "title": {
          "text": "Commune"
         }
        },
        "yaxis": {
         "anchor": "x",
         "domain": [
          0,
          1
         ],
         "title": {
          "text": "Taux logements vacants"
         }
        }
       }
      }
     },
     "metadata": {},
     "output_type": "display_data"
    }
   ],
   "source": [
    "# --- Garder uniquement l'année la plus récente pour chaque commune ---\n",
    "df_vac_100k_recent = df_vac_100k.sort_values(\"annee\", ascending=False) \\\n",
    "                                 .groupby(\"code_commune\", as_index=False) \\\n",
    "                                 .first()  # prend la ligne la plus récente pour chaque commune\n",
    "\n",
    "# --- Merge avec les coordonnées ---\n",
    "df_vac_map = df_vac_100k_recent.merge(\n",
    "    df_communes_coords,\n",
    "    left_on=\"code_commune\",\n",
    "    right_on=\"code_insee\",\n",
    "    how=\"left\"\n",
    ").dropna(subset=[\"latitude_centre\", \"longitude_centre\"])\n",
    "\n",
    "# --- Affichage carte Plotly ---\n",
    "import plotly.express as px\n",
    "\n",
    "fig = px.scatter_mapbox(\n",
    "    df_vac_map,\n",
    "    lat=\"latitude_centre\",\n",
    "    lon=\"longitude_centre\",\n",
    "    size=\"part_log_vacant\",\n",
    "    color=\"part_log_vacant\",\n",
    "    hover_name=\"nom_commune\",\n",
    "    hover_data={\n",
    "        \"p21_pop\": True,\n",
    "        \"part_log_vacant\": True,\n",
    "        \"code_postal\": True,\n",
    "        \"annee\": True\n",
    "    },\n",
    "    zoom=5,\n",
    "    height=500,\n",
    "    color_continuous_scale=\"OrRd\"\n",
    ")\n",
    "# --- Top 10 communes avec le plus petit taux de logements vacants ---\n",
    "top10_low_vac = df_vac_map.sort_values(\"part_log_vacant\", ascending=True).head(20)\n",
    "\n",
    "# --- Histogramme ---\n",
    "fig_hist = px.bar(\n",
    "    top10_low_vac,\n",
    "    x=\"nom_commune\",\n",
    "    y=\"part_log_vacant\",\n",
    "    text=\"part_log_vacant\",\n",
    "    hover_data={\"p21_pop\": True, \"code_postal\": True, \"annee\": True},\n",
    "    labels={\"part_log_vacant\": \"Taux logements vacants\", \"nom_commune\": \"Commune\"},\n",
    "    title=\"Top 10 communes avec le plus petit taux de logements vacants\",\n",
    "    color=\"part_log_vacant\",\n",
    "    color_continuous_scale=\"Blues\",\n",
    "    height=600\n",
    ")\n",
    "\n",
    "fig.update_layout(mapbox_style=\"open-street-map\", margin={\"r\":0,\"t\":0,\"l\":0,\"b\":0})\n",
    "fig.show()\n",
    "\n",
    "fig_hist.update_traces(texttemplate='%{text:.2f}', textposition='outside')\n",
    "fig_hist.show()"
   ]
  },
  {
   "cell_type": "markdown",
   "id": "4a1eacfe",
   "metadata": {},
   "source": [
    "Etude rentabilité par quartier à Rennes"
   ]
  },
  {
   "cell_type": "code",
   "execution_count": null,
   "id": "5ad7b818",
   "metadata": {},
   "outputs": [
    {
     "data": {
      "text/html": [
       "<div>\n",
       "<style scoped>\n",
       "    .dataframe tbody tr th:only-of-type {\n",
       "        vertical-align: middle;\n",
       "    }\n",
       "\n",
       "    .dataframe tbody tr th {\n",
       "        vertical-align: top;\n",
       "    }\n",
       "\n",
       "    .dataframe thead th {\n",
       "        text-align: right;\n",
       "    }\n",
       "</style>\n",
       "<table border=\"1\" class=\"dataframe\">\n",
       "  <thead>\n",
       "    <tr style=\"text-align: right;\">\n",
       "      <th></th>\n",
       "      <th>Observatory</th>\n",
       "      <th>Data_year</th>\n",
       "      <th>agglomeration</th>\n",
       "      <th>Zone_calcul</th>\n",
       "      <th>Zone_complementaire</th>\n",
       "      <th>Type_habitat</th>\n",
       "      <th>epoque_construction_local</th>\n",
       "      <th>epoque_construction_homogene</th>\n",
       "      <th>anciennete_locataire_local</th>\n",
       "      <th>anciennete_locataire_homogene</th>\n",
       "      <th>...</th>\n",
       "      <th>loyer_mensuel_1_decile</th>\n",
       "      <th>loyer_mensuel_1_quartile</th>\n",
       "      <th>loyer_mensuel_median</th>\n",
       "      <th>loyer_mensuel_3_quartile</th>\n",
       "      <th>loyer_mensuel_9_decile</th>\n",
       "      <th>moyenne_loyer_mensuel</th>\n",
       "      <th>surface_moyenne</th>\n",
       "      <th>nombre_observations</th>\n",
       "      <th>nombre_logements</th>\n",
       "      <th>methodologie_production</th>\n",
       "    </tr>\n",
       "  </thead>\n",
       "  <tbody>\n",
       "    <tr>\n",
       "      <th>0</th>\n",
       "      <td>B3500</td>\n",
       "      <td>2024</td>\n",
       "      <td>L3500</td>\n",
       "      <td>NaN</td>\n",
       "      <td>NaN</td>\n",
       "      <td>NaN</td>\n",
       "      <td>NaN</td>\n",
       "      <td>NaN</td>\n",
       "      <td>NaN</td>\n",
       "      <td>NaN</td>\n",
       "      <td>...</td>\n",
       "      <td>420.0</td>\n",
       "      <td>500.0</td>\n",
       "      <td>595.0</td>\n",
       "      <td>740.0</td>\n",
       "      <td>936.0</td>\n",
       "      <td>650.0</td>\n",
       "      <td>57.0</td>\n",
       "      <td>16763.0</td>\n",
       "      <td>60909.0</td>\n",
       "      <td>Estimation directe</td>\n",
       "    </tr>\n",
       "    <tr>\n",
       "      <th>1</th>\n",
       "      <td>B3500</td>\n",
       "      <td>2024</td>\n",
       "      <td>L3500</td>\n",
       "      <td>NaN</td>\n",
       "      <td>NaN</td>\n",
       "      <td>NaN</td>\n",
       "      <td>NaN</td>\n",
       "      <td>NaN</td>\n",
       "      <td>NaN</td>\n",
       "      <td>NaN</td>\n",
       "      <td>...</td>\n",
       "      <td>480.0</td>\n",
       "      <td>505.0</td>\n",
       "      <td>600.0</td>\n",
       "      <td>750.0</td>\n",
       "      <td>960.0</td>\n",
       "      <td>653.0</td>\n",
       "      <td>61.0</td>\n",
       "      <td>130.0</td>\n",
       "      <td>1412.0</td>\n",
       "      <td>Estimation directe</td>\n",
       "    </tr>\n",
       "    <tr>\n",
       "      <th>2</th>\n",
       "      <td>B3500</td>\n",
       "      <td>2024</td>\n",
       "      <td>L3500</td>\n",
       "      <td>NaN</td>\n",
       "      <td>NaN</td>\n",
       "      <td>NaN</td>\n",
       "      <td>NaN</td>\n",
       "      <td>NaN</td>\n",
       "      <td>NaN</td>\n",
       "      <td>NaN</td>\n",
       "      <td>...</td>\n",
       "      <td>665.0</td>\n",
       "      <td>770.0</td>\n",
       "      <td>869.0</td>\n",
       "      <td>1066.0</td>\n",
       "      <td>1300.0</td>\n",
       "      <td>954.0</td>\n",
       "      <td>97.0</td>\n",
       "      <td>2065.0</td>\n",
       "      <td>13602.0</td>\n",
       "      <td>Estimation directe</td>\n",
       "    </tr>\n",
       "    <tr>\n",
       "      <th>3</th>\n",
       "      <td>B3500</td>\n",
       "      <td>2024</td>\n",
       "      <td>L3500</td>\n",
       "      <td>NaN</td>\n",
       "      <td>NaN</td>\n",
       "      <td>NaN</td>\n",
       "      <td>NaN</td>\n",
       "      <td>NaN</td>\n",
       "      <td>NaN</td>\n",
       "      <td>NaN</td>\n",
       "      <td>...</td>\n",
       "      <td>733.0</td>\n",
       "      <td>825.0</td>\n",
       "      <td>994.0</td>\n",
       "      <td>1177.0</td>\n",
       "      <td>1400.0</td>\n",
       "      <td>1030.0</td>\n",
       "      <td>110.0</td>\n",
       "      <td>704.0</td>\n",
       "      <td>6113.0</td>\n",
       "      <td>Estimation directe</td>\n",
       "    </tr>\n",
       "    <tr>\n",
       "      <th>4</th>\n",
       "      <td>B3500</td>\n",
       "      <td>2024</td>\n",
       "      <td>L3500</td>\n",
       "      <td>NaN</td>\n",
       "      <td>NaN</td>\n",
       "      <td>NaN</td>\n",
       "      <td>NaN</td>\n",
       "      <td>NaN</td>\n",
       "      <td>NaN</td>\n",
       "      <td>NaN</td>\n",
       "      <td>...</td>\n",
       "      <td>342.0</td>\n",
       "      <td>385.0</td>\n",
       "      <td>425.0</td>\n",
       "      <td>475.0</td>\n",
       "      <td>520.0</td>\n",
       "      <td>428.0</td>\n",
       "      <td>26.0</td>\n",
       "      <td>3190.0</td>\n",
       "      <td>10072.0</td>\n",
       "      <td>Estimation directe</td>\n",
       "    </tr>\n",
       "  </tbody>\n",
       "</table>\n",
       "<p>5 rows × 28 columns</p>\n",
       "</div>"
      ],
      "text/plain": [
       "  Observatory  Data_year agglomeration Zone_calcul Zone_complementaire  \\\n",
       "0       B3500       2024         L3500         NaN                 NaN   \n",
       "1       B3500       2024         L3500         NaN                 NaN   \n",
       "2       B3500       2024         L3500         NaN                 NaN   \n",
       "3       B3500       2024         L3500         NaN                 NaN   \n",
       "4       B3500       2024         L3500         NaN                 NaN   \n",
       "\n",
       "  Type_habitat epoque_construction_local epoque_construction_homogene  \\\n",
       "0          NaN                       NaN                          NaN   \n",
       "1          NaN                       NaN                          NaN   \n",
       "2          NaN                       NaN                          NaN   \n",
       "3          NaN                       NaN                          NaN   \n",
       "4          NaN                       NaN                          NaN   \n",
       "\n",
       "  anciennete_locataire_local anciennete_locataire_homogene  ...  \\\n",
       "0                        NaN                           NaN  ...   \n",
       "1                        NaN                           NaN  ...   \n",
       "2                        NaN                           NaN  ...   \n",
       "3                        NaN                           NaN  ...   \n",
       "4                        NaN                           NaN  ...   \n",
       "\n",
       "  loyer_mensuel_1_decile loyer_mensuel_1_quartile loyer_mensuel_median  \\\n",
       "0                  420.0                    500.0                595.0   \n",
       "1                  480.0                    505.0                600.0   \n",
       "2                  665.0                    770.0                869.0   \n",
       "3                  733.0                    825.0                994.0   \n",
       "4                  342.0                    385.0                425.0   \n",
       "\n",
       "  loyer_mensuel_3_quartile loyer_mensuel_9_decile moyenne_loyer_mensuel  \\\n",
       "0                    740.0                  936.0                 650.0   \n",
       "1                    750.0                  960.0                 653.0   \n",
       "2                   1066.0                 1300.0                 954.0   \n",
       "3                   1177.0                 1400.0                1030.0   \n",
       "4                    475.0                  520.0                 428.0   \n",
       "\n",
       "  surface_moyenne nombre_observations  nombre_logements  \\\n",
       "0            57.0             16763.0           60909.0   \n",
       "1            61.0               130.0            1412.0   \n",
       "2            97.0              2065.0           13602.0   \n",
       "3           110.0               704.0            6113.0   \n",
       "4            26.0              3190.0           10072.0   \n",
       "\n",
       "   methodologie_production  \n",
       "0       Estimation directe  \n",
       "1       Estimation directe  \n",
       "2       Estimation directe  \n",
       "3       Estimation directe  \n",
       "4       Estimation directe  \n",
       "\n",
       "[5 rows x 28 columns]"
      ]
     },
     "metadata": {},
     "output_type": "display_data"
    },
    {
     "data": {
      "text/html": [
       "<div>\n",
       "<style scoped>\n",
       "    .dataframe tbody tr th:only-of-type {\n",
       "        vertical-align: middle;\n",
       "    }\n",
       "\n",
       "    .dataframe tbody tr th {\n",
       "        vertical-align: top;\n",
       "    }\n",
       "\n",
       "    .dataframe thead th {\n",
       "        text-align: right;\n",
       "    }\n",
       "</style>\n",
       "<table border=\"1\" class=\"dataframe\">\n",
       "  <thead>\n",
       "    <tr style=\"text-align: right;\">\n",
       "      <th></th>\n",
       "      <th>Quartier</th>\n",
       "      <th>Type de bien</th>\n",
       "      <th>Statut</th>\n",
       "      <th>Nb de pièces</th>\n",
       "      <th>Surface (m²)</th>\n",
       "      <th>Prix au m² (€)</th>\n",
       "      <th>Prix total estimé (€)</th>\n",
       "    </tr>\n",
       "  </thead>\n",
       "  <tbody>\n",
       "    <tr>\n",
       "      <th>0</th>\n",
       "      <td>Thabor-Saint Helier</td>\n",
       "      <td>Appartement</td>\n",
       "      <td>ancien</td>\n",
       "      <td>1</td>\n",
       "      <td>30</td>\n",
       "      <td>4327</td>\n",
       "      <td>129810</td>\n",
       "    </tr>\n",
       "    <tr>\n",
       "      <th>1</th>\n",
       "      <td>Thabor-Saint Helier</td>\n",
       "      <td>Appartement</td>\n",
       "      <td>neuf</td>\n",
       "      <td>1</td>\n",
       "      <td>30</td>\n",
       "      <td>5897</td>\n",
       "      <td>176910</td>\n",
       "    </tr>\n",
       "    <tr>\n",
       "      <th>2</th>\n",
       "      <td>Thabor-Saint Helier</td>\n",
       "      <td>Appartement</td>\n",
       "      <td>ancien</td>\n",
       "      <td>2</td>\n",
       "      <td>45</td>\n",
       "      <td>4327</td>\n",
       "      <td>194715</td>\n",
       "    </tr>\n",
       "    <tr>\n",
       "      <th>3</th>\n",
       "      <td>Thabor-Saint Helier</td>\n",
       "      <td>Appartement</td>\n",
       "      <td>neuf</td>\n",
       "      <td>2</td>\n",
       "      <td>45</td>\n",
       "      <td>5897</td>\n",
       "      <td>265365</td>\n",
       "    </tr>\n",
       "    <tr>\n",
       "      <th>4</th>\n",
       "      <td>Thabor-Saint Helier</td>\n",
       "      <td>Appartement</td>\n",
       "      <td>ancien</td>\n",
       "      <td>3</td>\n",
       "      <td>65</td>\n",
       "      <td>4327</td>\n",
       "      <td>281255</td>\n",
       "    </tr>\n",
       "    <tr>\n",
       "      <th>...</th>\n",
       "      <td>...</td>\n",
       "      <td>...</td>\n",
       "      <td>...</td>\n",
       "      <td>...</td>\n",
       "      <td>...</td>\n",
       "      <td>...</td>\n",
       "      <td>...</td>\n",
       "    </tr>\n",
       "    <tr>\n",
       "      <th>163</th>\n",
       "      <td>Le Blosne</td>\n",
       "      <td>Maison</td>\n",
       "      <td>neuf</td>\n",
       "      <td>3</td>\n",
       "      <td>90</td>\n",
       "      <td>2734</td>\n",
       "      <td>246060</td>\n",
       "    </tr>\n",
       "    <tr>\n",
       "      <th>164</th>\n",
       "      <td>Le Blosne</td>\n",
       "      <td>Maison</td>\n",
       "      <td>ancien</td>\n",
       "      <td>4</td>\n",
       "      <td>110</td>\n",
       "      <td>2006</td>\n",
       "      <td>220660</td>\n",
       "    </tr>\n",
       "    <tr>\n",
       "      <th>165</th>\n",
       "      <td>Le Blosne</td>\n",
       "      <td>Maison</td>\n",
       "      <td>neuf</td>\n",
       "      <td>4</td>\n",
       "      <td>110</td>\n",
       "      <td>2734</td>\n",
       "      <td>300740</td>\n",
       "    </tr>\n",
       "    <tr>\n",
       "      <th>166</th>\n",
       "      <td>Le Blosne</td>\n",
       "      <td>Maison</td>\n",
       "      <td>ancien</td>\n",
       "      <td>5</td>\n",
       "      <td>130</td>\n",
       "      <td>2006</td>\n",
       "      <td>260780</td>\n",
       "    </tr>\n",
       "    <tr>\n",
       "      <th>167</th>\n",
       "      <td>Le Blosne</td>\n",
       "      <td>Maison</td>\n",
       "      <td>neuf</td>\n",
       "      <td>5</td>\n",
       "      <td>130</td>\n",
       "      <td>2734</td>\n",
       "      <td>355420</td>\n",
       "    </tr>\n",
       "  </tbody>\n",
       "</table>\n",
       "<p>168 rows × 7 columns</p>\n",
       "</div>"
      ],
      "text/plain": [
       "                Quartier Type de bien  Statut  Nb de pièces  Surface (m²)  \\\n",
       "0    Thabor-Saint Helier  Appartement  ancien             1            30   \n",
       "1    Thabor-Saint Helier  Appartement    neuf             1            30   \n",
       "2    Thabor-Saint Helier  Appartement  ancien             2            45   \n",
       "3    Thabor-Saint Helier  Appartement    neuf             2            45   \n",
       "4    Thabor-Saint Helier  Appartement  ancien             3            65   \n",
       "..                   ...          ...     ...           ...           ...   \n",
       "163            Le Blosne       Maison    neuf             3            90   \n",
       "164            Le Blosne       Maison  ancien             4           110   \n",
       "165            Le Blosne       Maison    neuf             4           110   \n",
       "166            Le Blosne       Maison  ancien             5           130   \n",
       "167            Le Blosne       Maison    neuf             5           130   \n",
       "\n",
       "     Prix au m² (€)  Prix total estimé (€)  \n",
       "0              4327                 129810  \n",
       "1              5897                 176910  \n",
       "2              4327                 194715  \n",
       "3              5897                 265365  \n",
       "4              4327                 281255  \n",
       "..              ...                    ...  \n",
       "163            2734                 246060  \n",
       "164            2006                 220660  \n",
       "165            2734                 300740  \n",
       "166            2006                 260780  \n",
       "167            2734                 355420  \n",
       "\n",
       "[168 rows x 7 columns]"
      ]
     },
     "metadata": {},
     "output_type": "display_data"
    }
   ],
   "source": [
    "import requests, zipfile, io\n",
    "df = pd.read_csv(f\"{BDD}/rennes_quartiers.csv.txt\", sep=\",\")\n",
    "r = requests.get(f\"{BDD}/data_loyer.zip\")\n",
    "z = zipfile.ZipFile(io.BytesIO(r.content))\n",
    "fichier_csv = 'data_loyer/Base_OP_2024_L3500_Rennes.csv'\n",
    "df2 = pd.read_csv(z.open(fichier_csv), encoding=\"latin-1\", sep=\";\")\n",
    "df2.columns = df2.columns.str.strip()\n",
    "df.columns = df.columns.str.strip()\n",
    "display(df2.head())\n",
    "display(df)"
   ]
  },
  {
   "cell_type": "code",
   "execution_count": 9,
   "id": "c30cc949",
   "metadata": {},
   "outputs": [],
   "source": [
    "df['Nb de pièces'] = df['Nb de pièces'].astype(int)\n",
    "df['Surface (m²)'] = df['Surface (m²)'].astype(float)\n",
    "df['Prix au m² (€)'] = df['Prix au m² (€)'].astype(float)\n",
    "df['Prix total estimé (€)'] = df['Prix total estimé (€)'].astype(float)"
   ]
  },
  {
   "cell_type": "code",
   "execution_count": 10,
   "id": "2819b8dd",
   "metadata": {},
   "outputs": [],
   "source": [
    "df_etudiants = df[(df['Type de bien'] == 'Appartement') & (df['Surface (m²)'] <= 45) & (df['Statut'] == 'neuf')]\n",
    "df2 = df2[((df2['Type_habitat'] == 'Appartement') | (df2['nombre_pieces_homogene'] == 'Appart 1P') | (df2['nombre_pieces_homogene'] == 'Appart 2P')) & (df2['surface_moyenne'] < 50)]"
   ]
  },
  {
   "cell_type": "code",
   "execution_count": 11,
   "id": "9fc45e7b",
   "metadata": {},
   "outputs": [],
   "source": [
    "df2 = df2.sort_values(by=\"moyenne_loyer_mensuel\")\n",
    "df2 = df2[df2['nombre_logements'].notna() & (df2['nombre_logements'] != 0)]"
   ]
  },
  {
   "cell_type": "code",
   "execution_count": 12,
   "id": "950a9034",
   "metadata": {},
   "outputs": [
    {
     "data": {
      "text/plain": [
       "Quartier\n",
       "Inconnu                 64\n",
       "Centre                  33\n",
       "Thabor-Saint Helier     32\n",
       "Lorient-Saint Brieuc    23\n",
       "Maurepas-Patton         20\n",
       "Nord Saint Martin       18\n",
       "Atalante Beaulieu        7\n",
       "Name: count, dtype: int64"
      ]
     },
     "metadata": {},
     "output_type": "display_data"
    }
   ],
   "source": [
    "mapping_zones = {\n",
    "    \"L3500.1.01\": \"Centre\",\n",
    "    \"L3500.1.02\": \"Thabor-Saint Helier\",\n",
    "    \"L3500.1.03\": \"Lorient-Saint Brieuc\",\n",
    "    \"L3500.1.04\": \"Nord Saint Martin\",\n",
    "    \"L3500.1.05\": \"Maurepas-Patton\",\n",
    "    \"L3500.1.06\": \"Atalante Beaulieu\",\n",
    "    \"L3500.1.07\": \"Francisco-Vern-Poterie\",\n",
    "    \"L3500.1.08\": \"Sud Gare\",\n",
    "    \"L3500.1.09\": \"Cleunay-Arsenal Redon\",\n",
    "    \"L3500.1.10\": \"Villejean-Beauregard\",\n",
    "    \"L3500.1.11\": \"Le Blosne\",\n",
    "    \"L3500.1.12\": \"Bréquigny\"\n",
    "}\n",
    "\n",
    "df2[\"Quartier\"] = df2[\"Zone_calcul\"].map(mapping_zones).fillna(\"Inconnu\")\n",
    "display(df2[\"Quartier\"].value_counts(dropna=False))\n",
    "df_etudiants = df_etudiants.rename(columns={\n",
    "    \"Type de bien\": \"Type_habitat\",\n",
    "    \"Surface (m²)\": \"surface_moyenne\",\n",
    "    \"Prix au m² (€)\": \"Prix_m2\",\n",
    "    \"Prix total estimé (€)\": \"Prix_total\"\n",
    "})"
   ]
  },
  {
   "cell_type": "code",
   "execution_count": 13,
   "id": "3257620f",
   "metadata": {},
   "outputs": [
    {
     "data": {
      "text/html": [
       "<div>\n",
       "<style scoped>\n",
       "    .dataframe tbody tr th:only-of-type {\n",
       "        vertical-align: middle;\n",
       "    }\n",
       "\n",
       "    .dataframe tbody tr th {\n",
       "        vertical-align: top;\n",
       "    }\n",
       "\n",
       "    .dataframe thead th {\n",
       "        text-align: right;\n",
       "    }\n",
       "</style>\n",
       "<table border=\"1\" class=\"dataframe\">\n",
       "  <thead>\n",
       "    <tr style=\"text-align: right;\">\n",
       "      <th></th>\n",
       "      <th>Quartier</th>\n",
       "      <th>Type_habitat</th>\n",
       "      <th>Statut</th>\n",
       "      <th>Nb de pièces</th>\n",
       "      <th>surface_moyenne</th>\n",
       "      <th>Prix_m2</th>\n",
       "      <th>Prix_total</th>\n",
       "    </tr>\n",
       "  </thead>\n",
       "  <tbody>\n",
       "    <tr>\n",
       "      <th>1</th>\n",
       "      <td>Thabor-Saint Helier</td>\n",
       "      <td>Appartement</td>\n",
       "      <td>neuf</td>\n",
       "      <td>1</td>\n",
       "      <td>30.0</td>\n",
       "      <td>5897.0</td>\n",
       "      <td>176910.0</td>\n",
       "    </tr>\n",
       "    <tr>\n",
       "      <th>3</th>\n",
       "      <td>Thabor-Saint Helier</td>\n",
       "      <td>Appartement</td>\n",
       "      <td>neuf</td>\n",
       "      <td>2</td>\n",
       "      <td>45.0</td>\n",
       "      <td>5897.0</td>\n",
       "      <td>265365.0</td>\n",
       "    </tr>\n",
       "    <tr>\n",
       "      <th>15</th>\n",
       "      <td>Atalante Beaulieu</td>\n",
       "      <td>Appartement</td>\n",
       "      <td>neuf</td>\n",
       "      <td>1</td>\n",
       "      <td>30.0</td>\n",
       "      <td>5536.0</td>\n",
       "      <td>166080.0</td>\n",
       "    </tr>\n",
       "    <tr>\n",
       "      <th>17</th>\n",
       "      <td>Atalante Beaulieu</td>\n",
       "      <td>Appartement</td>\n",
       "      <td>neuf</td>\n",
       "      <td>2</td>\n",
       "      <td>45.0</td>\n",
       "      <td>5536.0</td>\n",
       "      <td>249120.0</td>\n",
       "    </tr>\n",
       "    <tr>\n",
       "      <th>29</th>\n",
       "      <td>Centre</td>\n",
       "      <td>Appartement</td>\n",
       "      <td>neuf</td>\n",
       "      <td>1</td>\n",
       "      <td>30.0</td>\n",
       "      <td>5357.0</td>\n",
       "      <td>160710.0</td>\n",
       "    </tr>\n",
       "    <tr>\n",
       "      <th>31</th>\n",
       "      <td>Centre</td>\n",
       "      <td>Appartement</td>\n",
       "      <td>neuf</td>\n",
       "      <td>2</td>\n",
       "      <td>45.0</td>\n",
       "      <td>5357.0</td>\n",
       "      <td>241065.0</td>\n",
       "    </tr>\n",
       "    <tr>\n",
       "      <th>43</th>\n",
       "      <td>Lorient-Saint Brieuc</td>\n",
       "      <td>Appartement</td>\n",
       "      <td>neuf</td>\n",
       "      <td>1</td>\n",
       "      <td>30.0</td>\n",
       "      <td>5226.0</td>\n",
       "      <td>156780.0</td>\n",
       "    </tr>\n",
       "    <tr>\n",
       "      <th>45</th>\n",
       "      <td>Lorient-Saint Brieuc</td>\n",
       "      <td>Appartement</td>\n",
       "      <td>neuf</td>\n",
       "      <td>2</td>\n",
       "      <td>45.0</td>\n",
       "      <td>5226.0</td>\n",
       "      <td>235170.0</td>\n",
       "    </tr>\n",
       "    <tr>\n",
       "      <th>57</th>\n",
       "      <td>Cleunay-Arsenal Redon</td>\n",
       "      <td>Appartement</td>\n",
       "      <td>neuf</td>\n",
       "      <td>1</td>\n",
       "      <td>30.0</td>\n",
       "      <td>5114.0</td>\n",
       "      <td>153420.0</td>\n",
       "    </tr>\n",
       "    <tr>\n",
       "      <th>59</th>\n",
       "      <td>Cleunay-Arsenal Redon</td>\n",
       "      <td>Appartement</td>\n",
       "      <td>neuf</td>\n",
       "      <td>2</td>\n",
       "      <td>45.0</td>\n",
       "      <td>5114.0</td>\n",
       "      <td>230130.0</td>\n",
       "    </tr>\n",
       "  </tbody>\n",
       "</table>\n",
       "</div>"
      ],
      "text/plain": [
       "                 Quartier Type_habitat Statut  Nb de pièces  surface_moyenne  \\\n",
       "1     Thabor-Saint Helier  Appartement   neuf             1             30.0   \n",
       "3     Thabor-Saint Helier  Appartement   neuf             2             45.0   \n",
       "15      Atalante Beaulieu  Appartement   neuf             1             30.0   \n",
       "17      Atalante Beaulieu  Appartement   neuf             2             45.0   \n",
       "29                 Centre  Appartement   neuf             1             30.0   \n",
       "31                 Centre  Appartement   neuf             2             45.0   \n",
       "43   Lorient-Saint Brieuc  Appartement   neuf             1             30.0   \n",
       "45   Lorient-Saint Brieuc  Appartement   neuf             2             45.0   \n",
       "57  Cleunay-Arsenal Redon  Appartement   neuf             1             30.0   \n",
       "59  Cleunay-Arsenal Redon  Appartement   neuf             2             45.0   \n",
       "\n",
       "    Prix_m2  Prix_total  \n",
       "1    5897.0    176910.0  \n",
       "3    5897.0    265365.0  \n",
       "15   5536.0    166080.0  \n",
       "17   5536.0    249120.0  \n",
       "29   5357.0    160710.0  \n",
       "31   5357.0    241065.0  \n",
       "43   5226.0    156780.0  \n",
       "45   5226.0    235170.0  \n",
       "57   5114.0    153420.0  \n",
       "59   5114.0    230130.0  "
      ]
     },
     "metadata": {},
     "output_type": "display_data"
    }
   ],
   "source": [
    "display(df_etudiants.head(10))"
   ]
  },
  {
   "cell_type": "code",
   "execution_count": 15,
   "id": "9afe2eb2",
   "metadata": {},
   "outputs": [
    {
     "data": {
      "text/html": [
       "<div>\n",
       "<style scoped>\n",
       "    .dataframe tbody tr th:only-of-type {\n",
       "        vertical-align: middle;\n",
       "    }\n",
       "\n",
       "    .dataframe tbody tr th {\n",
       "        vertical-align: top;\n",
       "    }\n",
       "\n",
       "    .dataframe thead th {\n",
       "        text-align: right;\n",
       "    }\n",
       "</style>\n",
       "<table border=\"1\" class=\"dataframe\">\n",
       "  <thead>\n",
       "    <tr style=\"text-align: right;\">\n",
       "      <th></th>\n",
       "      <th>Zone_calcul</th>\n",
       "      <th>loyer_mensuel_median</th>\n",
       "      <th>moyenne_loyer_mensuel</th>\n",
       "      <th>surface_moyenne</th>\n",
       "      <th>nombre_logements</th>\n",
       "      <th>Quartier</th>\n",
       "      <th>Catégorie_surface_environ</th>\n",
       "    </tr>\n",
       "  </thead>\n",
       "  <tbody>\n",
       "    <tr>\n",
       "      <th>0</th>\n",
       "      <td>L3500.1.01</td>\n",
       "      <td>435.0</td>\n",
       "      <td>443.5</td>\n",
       "      <td>25.0</td>\n",
       "      <td>953.5</td>\n",
       "      <td>Centre</td>\n",
       "      <td>30</td>\n",
       "    </tr>\n",
       "    <tr>\n",
       "      <th>1</th>\n",
       "      <td>L3500.1.02</td>\n",
       "      <td>425.0</td>\n",
       "      <td>433.0</td>\n",
       "      <td>26.0</td>\n",
       "      <td>562.0</td>\n",
       "      <td>Thabor-Saint Helier</td>\n",
       "      <td>30</td>\n",
       "    </tr>\n",
       "    <tr>\n",
       "      <th>2</th>\n",
       "      <td>L3500.1.03</td>\n",
       "      <td>399.0</td>\n",
       "      <td>404.0</td>\n",
       "      <td>25.0</td>\n",
       "      <td>513.0</td>\n",
       "      <td>Lorient-Saint Brieuc</td>\n",
       "      <td>30</td>\n",
       "    </tr>\n",
       "    <tr>\n",
       "      <th>3</th>\n",
       "      <td>L3500.1.04</td>\n",
       "      <td>430.0</td>\n",
       "      <td>426.0</td>\n",
       "      <td>30.0</td>\n",
       "      <td>434.5</td>\n",
       "      <td>Nord Saint Martin</td>\n",
       "      <td>30</td>\n",
       "    </tr>\n",
       "    <tr>\n",
       "      <th>4</th>\n",
       "      <td>L3500.1.05</td>\n",
       "      <td>401.0</td>\n",
       "      <td>413.0</td>\n",
       "      <td>28.0</td>\n",
       "      <td>391.0</td>\n",
       "      <td>Maurepas-Patton</td>\n",
       "      <td>30</td>\n",
       "    </tr>\n",
       "    <tr>\n",
       "      <th>5</th>\n",
       "      <td>L3500.1.01</td>\n",
       "      <td>576.0</td>\n",
       "      <td>605.0</td>\n",
       "      <td>43.0</td>\n",
       "      <td>1471.0</td>\n",
       "      <td>Centre</td>\n",
       "      <td>45</td>\n",
       "    </tr>\n",
       "    <tr>\n",
       "      <th>6</th>\n",
       "      <td>L3500.1.02</td>\n",
       "      <td>522.0</td>\n",
       "      <td>551.0</td>\n",
       "      <td>43.0</td>\n",
       "      <td>947.0</td>\n",
       "      <td>Thabor-Saint Helier</td>\n",
       "      <td>45</td>\n",
       "    </tr>\n",
       "    <tr>\n",
       "      <th>7</th>\n",
       "      <td>L3500.1.03</td>\n",
       "      <td>521.0</td>\n",
       "      <td>536.0</td>\n",
       "      <td>41.0</td>\n",
       "      <td>1388.0</td>\n",
       "      <td>Lorient-Saint Brieuc</td>\n",
       "      <td>45</td>\n",
       "    </tr>\n",
       "    <tr>\n",
       "      <th>8</th>\n",
       "      <td>L3500.1.04</td>\n",
       "      <td>533.0</td>\n",
       "      <td>538.5</td>\n",
       "      <td>44.0</td>\n",
       "      <td>691.5</td>\n",
       "      <td>Nord Saint Martin</td>\n",
       "      <td>45</td>\n",
       "    </tr>\n",
       "    <tr>\n",
       "      <th>9</th>\n",
       "      <td>L3500.1.05</td>\n",
       "      <td>510.5</td>\n",
       "      <td>520.0</td>\n",
       "      <td>44.5</td>\n",
       "      <td>1202.5</td>\n",
       "      <td>Maurepas-Patton</td>\n",
       "      <td>45</td>\n",
       "    </tr>\n",
       "    <tr>\n",
       "      <th>10</th>\n",
       "      <td>L3500.1.06</td>\n",
       "      <td>498.0</td>\n",
       "      <td>500.0</td>\n",
       "      <td>44.0</td>\n",
       "      <td>1076.0</td>\n",
       "      <td>Atalante Beaulieu</td>\n",
       "      <td>45</td>\n",
       "    </tr>\n",
       "  </tbody>\n",
       "</table>\n",
       "</div>"
      ],
      "text/plain": [
       "   Zone_calcul  loyer_mensuel_median  moyenne_loyer_mensuel  surface_moyenne  \\\n",
       "0   L3500.1.01                 435.0                  443.5             25.0   \n",
       "1   L3500.1.02                 425.0                  433.0             26.0   \n",
       "2   L3500.1.03                 399.0                  404.0             25.0   \n",
       "3   L3500.1.04                 430.0                  426.0             30.0   \n",
       "4   L3500.1.05                 401.0                  413.0             28.0   \n",
       "5   L3500.1.01                 576.0                  605.0             43.0   \n",
       "6   L3500.1.02                 522.0                  551.0             43.0   \n",
       "7   L3500.1.03                 521.0                  536.0             41.0   \n",
       "8   L3500.1.04                 533.0                  538.5             44.0   \n",
       "9   L3500.1.05                 510.5                  520.0             44.5   \n",
       "10  L3500.1.06                 498.0                  500.0             44.0   \n",
       "\n",
       "    nombre_logements              Quartier Catégorie_surface_environ  \n",
       "0              953.5                Centre                        30  \n",
       "1              562.0   Thabor-Saint Helier                        30  \n",
       "2              513.0  Lorient-Saint Brieuc                        30  \n",
       "3              434.5     Nord Saint Martin                        30  \n",
       "4              391.0       Maurepas-Patton                        30  \n",
       "5             1471.0                Centre                        45  \n",
       "6              947.0   Thabor-Saint Helier                        45  \n",
       "7             1388.0  Lorient-Saint Brieuc                        45  \n",
       "8              691.5     Nord Saint Martin                        45  \n",
       "9             1202.5       Maurepas-Patton                        45  \n",
       "10            1076.0     Atalante Beaulieu                        45  "
      ]
     },
     "metadata": {},
     "output_type": "display_data"
    }
   ],
   "source": [
    "# --- Définition des plages de surface ---\n",
    "plages = [\n",
    "    (20, 35, \"30\"),\n",
    "    (35, 50, \"45\")\n",
    "]\n",
    "\n",
    "colonnes_numeriques = [\n",
    "    \"loyer_median\", \"loyer_moyen\",\n",
    "    \"loyer_mensuel_median\", \"moyenne_loyer_mensuel\",\n",
    "    \"surface_moyenne\", \"nombre_logements\"\n",
    "]\n",
    "\n",
    "# Liste pour stocker les DataFrames intermédiaires\n",
    "dfs = []\n",
    "\n",
    "for bas, haut, label in plages:\n",
    "    df_temp = df2[\n",
    "        (df2[\"Type_habitat\"] == \"Appartement\") &\n",
    "        (df2[\"surface_moyenne\"].between(bas, haut))\n",
    "    ].copy()\n",
    "    \n",
    "    df_group = (\n",
    "        df_temp\n",
    "        .groupby(\"Zone_calcul\", as_index=False)[colonnes_numeriques]\n",
    "        .median(numeric_only=True)\n",
    "    )\n",
    "    df_group[\"Quartier\"] = df_group[\"Zone_calcul\"].map(mapping_zones).fillna(\"Inconnu\")\n",
    "    df_group[\"Catégorie_surface_environ\"] = label\n",
    "    \n",
    "    dfs.append(df_group)\n",
    "\n",
    "# Fusion de toutes les catégories dans un seul DataFrame\n",
    "df_grouped = pd.concat(dfs, ignore_index=True)\n",
    "\n",
    "display(df_grouped)\n"
   ]
  },
  {
   "cell_type": "code",
   "execution_count": null,
   "id": "b5a99611",
   "metadata": {},
   "outputs": [
    {
     "data": {
      "text/html": [
       "<div>\n",
       "<style scoped>\n",
       "    .dataframe tbody tr th:only-of-type {\n",
       "        vertical-align: middle;\n",
       "    }\n",
       "\n",
       "    .dataframe tbody tr th {\n",
       "        vertical-align: top;\n",
       "    }\n",
       "\n",
       "    .dataframe thead th {\n",
       "        text-align: right;\n",
       "    }\n",
       "</style>\n",
       "<table border=\"1\" class=\"dataframe\">\n",
       "  <thead>\n",
       "    <tr style=\"text-align: right;\">\n",
       "      <th></th>\n",
       "      <th>Zone_calcul</th>\n",
       "      <th>loyer_mensuel_median</th>\n",
       "      <th>moyenne_loyer_mensuel</th>\n",
       "      <th>surface_moyenne</th>\n",
       "      <th>nombre_logements</th>\n",
       "      <th>Quartier</th>\n",
       "      <th>Catégorie_surface_environ</th>\n",
       "      <th>Type_habitat</th>\n",
       "      <th>Statut</th>\n",
       "      <th>Nb de pièces</th>\n",
       "      <th>Prix_m2</th>\n",
       "      <th>Prix_total</th>\n",
       "    </tr>\n",
       "  </thead>\n",
       "  <tbody>\n",
       "    <tr>\n",
       "      <th>0</th>\n",
       "      <td>L3500.1.01</td>\n",
       "      <td>435.0</td>\n",
       "      <td>443.5</td>\n",
       "      <td>25.0</td>\n",
       "      <td>953.5</td>\n",
       "      <td>Centre</td>\n",
       "      <td>30.0</td>\n",
       "      <td>Appartement</td>\n",
       "      <td>neuf</td>\n",
       "      <td>1</td>\n",
       "      <td>5357.0</td>\n",
       "      <td>160710.0</td>\n",
       "    </tr>\n",
       "    <tr>\n",
       "      <th>5</th>\n",
       "      <td>L3500.1.01</td>\n",
       "      <td>576.0</td>\n",
       "      <td>605.0</td>\n",
       "      <td>43.0</td>\n",
       "      <td>1471.0</td>\n",
       "      <td>Centre</td>\n",
       "      <td>45.0</td>\n",
       "      <td>Appartement</td>\n",
       "      <td>neuf</td>\n",
       "      <td>2</td>\n",
       "      <td>5357.0</td>\n",
       "      <td>241065.0</td>\n",
       "    </tr>\n",
       "    <tr>\n",
       "      <th>1</th>\n",
       "      <td>L3500.1.02</td>\n",
       "      <td>425.0</td>\n",
       "      <td>433.0</td>\n",
       "      <td>26.0</td>\n",
       "      <td>562.0</td>\n",
       "      <td>Thabor-Saint Helier</td>\n",
       "      <td>30.0</td>\n",
       "      <td>Appartement</td>\n",
       "      <td>neuf</td>\n",
       "      <td>1</td>\n",
       "      <td>5897.0</td>\n",
       "      <td>176910.0</td>\n",
       "    </tr>\n",
       "    <tr>\n",
       "      <th>6</th>\n",
       "      <td>L3500.1.02</td>\n",
       "      <td>522.0</td>\n",
       "      <td>551.0</td>\n",
       "      <td>43.0</td>\n",
       "      <td>947.0</td>\n",
       "      <td>Thabor-Saint Helier</td>\n",
       "      <td>45.0</td>\n",
       "      <td>Appartement</td>\n",
       "      <td>neuf</td>\n",
       "      <td>2</td>\n",
       "      <td>5897.0</td>\n",
       "      <td>265365.0</td>\n",
       "    </tr>\n",
       "    <tr>\n",
       "      <th>2</th>\n",
       "      <td>L3500.1.03</td>\n",
       "      <td>399.0</td>\n",
       "      <td>404.0</td>\n",
       "      <td>25.0</td>\n",
       "      <td>513.0</td>\n",
       "      <td>Lorient-Saint Brieuc</td>\n",
       "      <td>30.0</td>\n",
       "      <td>Appartement</td>\n",
       "      <td>neuf</td>\n",
       "      <td>1</td>\n",
       "      <td>5226.0</td>\n",
       "      <td>156780.0</td>\n",
       "    </tr>\n",
       "    <tr>\n",
       "      <th>7</th>\n",
       "      <td>L3500.1.03</td>\n",
       "      <td>521.0</td>\n",
       "      <td>536.0</td>\n",
       "      <td>41.0</td>\n",
       "      <td>1388.0</td>\n",
       "      <td>Lorient-Saint Brieuc</td>\n",
       "      <td>45.0</td>\n",
       "      <td>Appartement</td>\n",
       "      <td>neuf</td>\n",
       "      <td>2</td>\n",
       "      <td>5226.0</td>\n",
       "      <td>235170.0</td>\n",
       "    </tr>\n",
       "    <tr>\n",
       "      <th>3</th>\n",
       "      <td>L3500.1.04</td>\n",
       "      <td>430.0</td>\n",
       "      <td>426.0</td>\n",
       "      <td>30.0</td>\n",
       "      <td>434.5</td>\n",
       "      <td>Nord Saint Martin</td>\n",
       "      <td>30.0</td>\n",
       "      <td>Appartement</td>\n",
       "      <td>neuf</td>\n",
       "      <td>1</td>\n",
       "      <td>4790.0</td>\n",
       "      <td>143700.0</td>\n",
       "    </tr>\n",
       "    <tr>\n",
       "      <th>8</th>\n",
       "      <td>L3500.1.04</td>\n",
       "      <td>533.0</td>\n",
       "      <td>538.5</td>\n",
       "      <td>44.0</td>\n",
       "      <td>691.5</td>\n",
       "      <td>Nord Saint Martin</td>\n",
       "      <td>45.0</td>\n",
       "      <td>Appartement</td>\n",
       "      <td>neuf</td>\n",
       "      <td>2</td>\n",
       "      <td>4790.0</td>\n",
       "      <td>215550.0</td>\n",
       "    </tr>\n",
       "    <tr>\n",
       "      <th>4</th>\n",
       "      <td>L3500.1.05</td>\n",
       "      <td>401.0</td>\n",
       "      <td>413.0</td>\n",
       "      <td>28.0</td>\n",
       "      <td>391.0</td>\n",
       "      <td>Maurepas-Patton</td>\n",
       "      <td>30.0</td>\n",
       "      <td>Appartement</td>\n",
       "      <td>neuf</td>\n",
       "      <td>1</td>\n",
       "      <td>4684.0</td>\n",
       "      <td>140520.0</td>\n",
       "    </tr>\n",
       "    <tr>\n",
       "      <th>9</th>\n",
       "      <td>L3500.1.05</td>\n",
       "      <td>510.5</td>\n",
       "      <td>520.0</td>\n",
       "      <td>44.5</td>\n",
       "      <td>1202.5</td>\n",
       "      <td>Maurepas-Patton</td>\n",
       "      <td>45.0</td>\n",
       "      <td>Appartement</td>\n",
       "      <td>neuf</td>\n",
       "      <td>2</td>\n",
       "      <td>4684.0</td>\n",
       "      <td>210780.0</td>\n",
       "    </tr>\n",
       "    <tr>\n",
       "      <th>10</th>\n",
       "      <td>L3500.1.06</td>\n",
       "      <td>498.0</td>\n",
       "      <td>500.0</td>\n",
       "      <td>44.0</td>\n",
       "      <td>1076.0</td>\n",
       "      <td>Atalante Beaulieu</td>\n",
       "      <td>45.0</td>\n",
       "      <td>Appartement</td>\n",
       "      <td>neuf</td>\n",
       "      <td>2</td>\n",
       "      <td>5536.0</td>\n",
       "      <td>249120.0</td>\n",
       "    </tr>\n",
       "  </tbody>\n",
       "</table>\n",
       "</div>"
      ],
      "text/plain": [
       "   Zone_calcul  loyer_mensuel_median  moyenne_loyer_mensuel  surface_moyenne  \\\n",
       "0   L3500.1.01                 435.0                  443.5             25.0   \n",
       "5   L3500.1.01                 576.0                  605.0             43.0   \n",
       "1   L3500.1.02                 425.0                  433.0             26.0   \n",
       "6   L3500.1.02                 522.0                  551.0             43.0   \n",
       "2   L3500.1.03                 399.0                  404.0             25.0   \n",
       "7   L3500.1.03                 521.0                  536.0             41.0   \n",
       "3   L3500.1.04                 430.0                  426.0             30.0   \n",
       "8   L3500.1.04                 533.0                  538.5             44.0   \n",
       "4   L3500.1.05                 401.0                  413.0             28.0   \n",
       "9   L3500.1.05                 510.5                  520.0             44.5   \n",
       "10  L3500.1.06                 498.0                  500.0             44.0   \n",
       "\n",
       "    nombre_logements              Quartier  Catégorie_surface_environ  \\\n",
       "0              953.5                Centre                       30.0   \n",
       "5             1471.0                Centre                       45.0   \n",
       "1              562.0   Thabor-Saint Helier                       30.0   \n",
       "6              947.0   Thabor-Saint Helier                       45.0   \n",
       "2              513.0  Lorient-Saint Brieuc                       30.0   \n",
       "7             1388.0  Lorient-Saint Brieuc                       45.0   \n",
       "3              434.5     Nord Saint Martin                       30.0   \n",
       "8              691.5     Nord Saint Martin                       45.0   \n",
       "4              391.0       Maurepas-Patton                       30.0   \n",
       "9             1202.5       Maurepas-Patton                       45.0   \n",
       "10            1076.0     Atalante Beaulieu                       45.0   \n",
       "\n",
       "   Type_habitat Statut  Nb de pièces  Prix_m2  Prix_total  \n",
       "0   Appartement   neuf             1   5357.0    160710.0  \n",
       "5   Appartement   neuf             2   5357.0    241065.0  \n",
       "1   Appartement   neuf             1   5897.0    176910.0  \n",
       "6   Appartement   neuf             2   5897.0    265365.0  \n",
       "2   Appartement   neuf             1   5226.0    156780.0  \n",
       "7   Appartement   neuf             2   5226.0    235170.0  \n",
       "3   Appartement   neuf             1   4790.0    143700.0  \n",
       "8   Appartement   neuf             2   4790.0    215550.0  \n",
       "4   Appartement   neuf             1   4684.0    140520.0  \n",
       "9   Appartement   neuf             2   4684.0    210780.0  \n",
       "10  Appartement   neuf             2   5536.0    249120.0  "
      ]
     },
     "metadata": {},
     "output_type": "display_data"
    }
   ],
   "source": [
    "df_grouped[\"Catégorie_surface_environ\"] = df_grouped[\"Catégorie_surface_environ\"].astype(float)\n",
    "df_etudiants[\"Catégorie_surface_environ\"] = df_etudiants[\"Catégorie_surface_environ\"].astype(float)\n",
    "\n",
    "df_merged = pd.merge(\n",
    "    df_grouped,\n",
    "    df_etudiants,\n",
    "    on=[\"Quartier\", \"Catégorie_surface_environ\"],\n",
    "    how=\"left\"\n",
    ").sort_values(by=\"Zone_calcul\")\n",
    "display(df_merged)"
   ]
  },
  {
   "cell_type": "code",
   "execution_count": 23,
   "id": "3ddb74b1",
   "metadata": {},
   "outputs": [
    {
     "data": {
      "text/html": [
       "<div>\n",
       "<style scoped>\n",
       "    .dataframe tbody tr th:only-of-type {\n",
       "        vertical-align: middle;\n",
       "    }\n",
       "\n",
       "    .dataframe tbody tr th {\n",
       "        vertical-align: top;\n",
       "    }\n",
       "\n",
       "    .dataframe thead th {\n",
       "        text-align: right;\n",
       "    }\n",
       "</style>\n",
       "<table border=\"1\" class=\"dataframe\">\n",
       "  <thead>\n",
       "    <tr style=\"text-align: right;\">\n",
       "      <th></th>\n",
       "      <th>Zone_calcul</th>\n",
       "      <th>loyer_mensuel_median</th>\n",
       "      <th>moyenne_loyer_mensuel</th>\n",
       "      <th>surface_moyenne</th>\n",
       "      <th>nombre_logements</th>\n",
       "      <th>Quartier</th>\n",
       "      <th>Catégorie_surface_environ</th>\n",
       "      <th>Type_habitat</th>\n",
       "      <th>Statut</th>\n",
       "      <th>Nb de pièces</th>\n",
       "      <th>Prix_m2</th>\n",
       "      <th>Prix_total</th>\n",
       "      <th>rentabilite_brute_%</th>\n",
       "    </tr>\n",
       "  </thead>\n",
       "  <tbody>\n",
       "    <tr>\n",
       "      <th>0</th>\n",
       "      <td>L3500.1.01</td>\n",
       "      <td>435.0</td>\n",
       "      <td>443.5</td>\n",
       "      <td>25.0</td>\n",
       "      <td>953.5</td>\n",
       "      <td>Centre</td>\n",
       "      <td>30.0</td>\n",
       "      <td>Appartement</td>\n",
       "      <td>neuf</td>\n",
       "      <td>1</td>\n",
       "      <td>5357.0</td>\n",
       "      <td>160710.0</td>\n",
       "      <td>3.248087</td>\n",
       "    </tr>\n",
       "    <tr>\n",
       "      <th>5</th>\n",
       "      <td>L3500.1.01</td>\n",
       "      <td>576.0</td>\n",
       "      <td>605.0</td>\n",
       "      <td>43.0</td>\n",
       "      <td>1471.0</td>\n",
       "      <td>Centre</td>\n",
       "      <td>45.0</td>\n",
       "      <td>Appartement</td>\n",
       "      <td>neuf</td>\n",
       "      <td>2</td>\n",
       "      <td>5357.0</td>\n",
       "      <td>241065.0</td>\n",
       "      <td>2.867276</td>\n",
       "    </tr>\n",
       "    <tr>\n",
       "      <th>1</th>\n",
       "      <td>L3500.1.02</td>\n",
       "      <td>425.0</td>\n",
       "      <td>433.0</td>\n",
       "      <td>26.0</td>\n",
       "      <td>562.0</td>\n",
       "      <td>Thabor-Saint Helier</td>\n",
       "      <td>30.0</td>\n",
       "      <td>Appartement</td>\n",
       "      <td>neuf</td>\n",
       "      <td>1</td>\n",
       "      <td>5897.0</td>\n",
       "      <td>176910.0</td>\n",
       "      <td>2.882822</td>\n",
       "    </tr>\n",
       "    <tr>\n",
       "      <th>6</th>\n",
       "      <td>L3500.1.02</td>\n",
       "      <td>522.0</td>\n",
       "      <td>551.0</td>\n",
       "      <td>43.0</td>\n",
       "      <td>947.0</td>\n",
       "      <td>Thabor-Saint Helier</td>\n",
       "      <td>45.0</td>\n",
       "      <td>Appartement</td>\n",
       "      <td>neuf</td>\n",
       "      <td>2</td>\n",
       "      <td>5897.0</td>\n",
       "      <td>265365.0</td>\n",
       "      <td>2.360522</td>\n",
       "    </tr>\n",
       "    <tr>\n",
       "      <th>2</th>\n",
       "      <td>L3500.1.03</td>\n",
       "      <td>399.0</td>\n",
       "      <td>404.0</td>\n",
       "      <td>25.0</td>\n",
       "      <td>513.0</td>\n",
       "      <td>Lorient-Saint Brieuc</td>\n",
       "      <td>30.0</td>\n",
       "      <td>Appartement</td>\n",
       "      <td>neuf</td>\n",
       "      <td>1</td>\n",
       "      <td>5226.0</td>\n",
       "      <td>156780.0</td>\n",
       "      <td>3.053961</td>\n",
       "    </tr>\n",
       "    <tr>\n",
       "      <th>7</th>\n",
       "      <td>L3500.1.03</td>\n",
       "      <td>521.0</td>\n",
       "      <td>536.0</td>\n",
       "      <td>41.0</td>\n",
       "      <td>1388.0</td>\n",
       "      <td>Lorient-Saint Brieuc</td>\n",
       "      <td>45.0</td>\n",
       "      <td>Appartement</td>\n",
       "      <td>neuf</td>\n",
       "      <td>2</td>\n",
       "      <td>5226.0</td>\n",
       "      <td>235170.0</td>\n",
       "      <td>2.658502</td>\n",
       "    </tr>\n",
       "    <tr>\n",
       "      <th>3</th>\n",
       "      <td>L3500.1.04</td>\n",
       "      <td>430.0</td>\n",
       "      <td>426.0</td>\n",
       "      <td>30.0</td>\n",
       "      <td>434.5</td>\n",
       "      <td>Nord Saint Martin</td>\n",
       "      <td>30.0</td>\n",
       "      <td>Appartement</td>\n",
       "      <td>neuf</td>\n",
       "      <td>1</td>\n",
       "      <td>4790.0</td>\n",
       "      <td>143700.0</td>\n",
       "      <td>3.590814</td>\n",
       "    </tr>\n",
       "    <tr>\n",
       "      <th>8</th>\n",
       "      <td>L3500.1.04</td>\n",
       "      <td>533.0</td>\n",
       "      <td>538.5</td>\n",
       "      <td>44.0</td>\n",
       "      <td>691.5</td>\n",
       "      <td>Nord Saint Martin</td>\n",
       "      <td>45.0</td>\n",
       "      <td>Appartement</td>\n",
       "      <td>neuf</td>\n",
       "      <td>2</td>\n",
       "      <td>4790.0</td>\n",
       "      <td>215550.0</td>\n",
       "      <td>2.967293</td>\n",
       "    </tr>\n",
       "    <tr>\n",
       "      <th>4</th>\n",
       "      <td>L3500.1.05</td>\n",
       "      <td>401.0</td>\n",
       "      <td>413.0</td>\n",
       "      <td>28.0</td>\n",
       "      <td>391.0</td>\n",
       "      <td>Maurepas-Patton</td>\n",
       "      <td>30.0</td>\n",
       "      <td>Appartement</td>\n",
       "      <td>neuf</td>\n",
       "      <td>1</td>\n",
       "      <td>4684.0</td>\n",
       "      <td>140520.0</td>\n",
       "      <td>3.424424</td>\n",
       "    </tr>\n",
       "    <tr>\n",
       "      <th>9</th>\n",
       "      <td>L3500.1.05</td>\n",
       "      <td>510.5</td>\n",
       "      <td>520.0</td>\n",
       "      <td>44.5</td>\n",
       "      <td>1202.5</td>\n",
       "      <td>Maurepas-Patton</td>\n",
       "      <td>45.0</td>\n",
       "      <td>Appartement</td>\n",
       "      <td>neuf</td>\n",
       "      <td>2</td>\n",
       "      <td>4684.0</td>\n",
       "      <td>210780.0</td>\n",
       "      <td>2.906348</td>\n",
       "    </tr>\n",
       "    <tr>\n",
       "      <th>10</th>\n",
       "      <td>L3500.1.06</td>\n",
       "      <td>498.0</td>\n",
       "      <td>500.0</td>\n",
       "      <td>44.0</td>\n",
       "      <td>1076.0</td>\n",
       "      <td>Atalante Beaulieu</td>\n",
       "      <td>45.0</td>\n",
       "      <td>Appartement</td>\n",
       "      <td>neuf</td>\n",
       "      <td>2</td>\n",
       "      <td>5536.0</td>\n",
       "      <td>249120.0</td>\n",
       "      <td>2.398844</td>\n",
       "    </tr>\n",
       "  </tbody>\n",
       "</table>\n",
       "</div>"
      ],
      "text/plain": [
       "   Zone_calcul  loyer_mensuel_median  moyenne_loyer_mensuel  surface_moyenne  \\\n",
       "0   L3500.1.01                 435.0                  443.5             25.0   \n",
       "5   L3500.1.01                 576.0                  605.0             43.0   \n",
       "1   L3500.1.02                 425.0                  433.0             26.0   \n",
       "6   L3500.1.02                 522.0                  551.0             43.0   \n",
       "2   L3500.1.03                 399.0                  404.0             25.0   \n",
       "7   L3500.1.03                 521.0                  536.0             41.0   \n",
       "3   L3500.1.04                 430.0                  426.0             30.0   \n",
       "8   L3500.1.04                 533.0                  538.5             44.0   \n",
       "4   L3500.1.05                 401.0                  413.0             28.0   \n",
       "9   L3500.1.05                 510.5                  520.0             44.5   \n",
       "10  L3500.1.06                 498.0                  500.0             44.0   \n",
       "\n",
       "    nombre_logements              Quartier  Catégorie_surface_environ  \\\n",
       "0              953.5                Centre                       30.0   \n",
       "5             1471.0                Centre                       45.0   \n",
       "1              562.0   Thabor-Saint Helier                       30.0   \n",
       "6              947.0   Thabor-Saint Helier                       45.0   \n",
       "2              513.0  Lorient-Saint Brieuc                       30.0   \n",
       "7             1388.0  Lorient-Saint Brieuc                       45.0   \n",
       "3              434.5     Nord Saint Martin                       30.0   \n",
       "8              691.5     Nord Saint Martin                       45.0   \n",
       "4              391.0       Maurepas-Patton                       30.0   \n",
       "9             1202.5       Maurepas-Patton                       45.0   \n",
       "10            1076.0     Atalante Beaulieu                       45.0   \n",
       "\n",
       "   Type_habitat Statut  Nb de pièces  Prix_m2  Prix_total  rentabilite_brute_%  \n",
       "0   Appartement   neuf             1   5357.0    160710.0             3.248087  \n",
       "5   Appartement   neuf             2   5357.0    241065.0             2.867276  \n",
       "1   Appartement   neuf             1   5897.0    176910.0             2.882822  \n",
       "6   Appartement   neuf             2   5897.0    265365.0             2.360522  \n",
       "2   Appartement   neuf             1   5226.0    156780.0             3.053961  \n",
       "7   Appartement   neuf             2   5226.0    235170.0             2.658502  \n",
       "3   Appartement   neuf             1   4790.0    143700.0             3.590814  \n",
       "8   Appartement   neuf             2   4790.0    215550.0             2.967293  \n",
       "4   Appartement   neuf             1   4684.0    140520.0             3.424424  \n",
       "9   Appartement   neuf             2   4684.0    210780.0             2.906348  \n",
       "10  Appartement   neuf             2   5536.0    249120.0             2.398844  "
      ]
     },
     "metadata": {},
     "output_type": "display_data"
    }
   ],
   "source": [
    "df_merged['rentabilite_brute_%'] = (df_merged['loyer_mensuel_median'] * 12 / df_merged['Prix_total']) * 100\n",
    "display(df_merged)"
   ]
  },
  {
   "cell_type": "code",
   "execution_count": null,
   "id": "de758822",
   "metadata": {},
   "outputs": [],
   "source": []
  }
 ],
 "metadata": {
  "kernelspec": {
   "display_name": "Python 3",
   "language": "python",
   "name": "python3"
  },
  "language_info": {
   "codemirror_mode": {
    "name": "ipython",
    "version": 3
   },
   "file_extension": ".py",
   "mimetype": "text/x-python",
   "name": "python",
   "nbconvert_exporter": "python",
   "pygments_lexer": "ipython3",
   "version": "3.9.13"
  }
 },
 "nbformat": 4,
 "nbformat_minor": 5
}
