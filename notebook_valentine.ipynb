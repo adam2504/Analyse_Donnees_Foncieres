{
 "cells": [
  {
   "cell_type": "markdown",
   "id": "25dd84de",
   "metadata": {},
   "source": [
    "## 🎓 Persona : Léa, jeune investisseuse étudiante\n",
    "\n",
    "**Profil :**\n",
    "- 👩 24 ans, diplômée de l'EM Lyon\n",
    "- 💼 Première expérience professionnelle après 2 ans d'alternance\n",
    "- 💰 Aide parentale pour le financement + épargne personnelle (~15 000 €)\n",
    "- 🎯 Objectif : réaliser un **premier investissement locatif** dans une **ville étudiante dynamique**\n",
    "\n",
    "---\n",
    "\n",
    "### 💡 Objectif d'investissement\n",
    "> Trouver le **meilleur investissement locatif étudiant** possible avec un **budget global de 200 000 €**,  \n",
    "> en ciblant un **studio à Lille**, tout en comparant brièvement avec un **T1 à Angers ou Nancy**.\n",
    "\n",
    "---\n",
    "\n",
    "### 💰 Hypothèses financières\n",
    "| Élément | Montant estimé |\n",
    "|----------|----------------|\n",
    "| Prix d'achat visé | 160 000 – 180 000 € |\n",
    "| Apport personnel | 15 000 € |\n",
    "| Prêt immobilier estimé | 180 000 € sur 20 ans |\n",
    "| Budget total (frais inclus) | **≈ 200 000 €** |\n",
    "| Objectif de rentabilité brute | **≥ 5 %** |\n",
    "\n",
    "---\n",
    "\n",
    "### 🏙️ Cibles principales\n",
    "| Ville | Type de bien | Prix moyen au m² | Loyer moyen mensuel | Observations |\n",
    "|-------|---------------|------------------|---------------------|---------------|\n",
    "| **Lille** | Studio (20–25 m²) | ~4 500 €/m² | 550–600 € | Marché étudiant tendu, forte demande locative |\n",
    "| **Angers** | T1 (25–30 m²) | ~3 200 €/m² | 450–500 € | Ville très dynamique, bonne rentabilité brute |\n",
    "| **Nancy** | T1 (25–30 m²) | ~2 800 €/m² | 420–470 € | Marché abordable, bon rapport prix/rentabilité |\n",
    "\n",
    "---\n",
    "\n",
    "### 🔍 Besoins data de Léa\n",
    "- Identifier **les quartiers les plus rentables** à Lille (ou dans des villes comparables)\n",
    "- Comparer avec **la rentabilité moyenne en France**\n",
    "- Analyser l'**évolution du prix au m² et des loyers étudiants** depuis 5 ans\n",
    "- Calculer la **rentabilité locative brute et nette** par quartier\n",
    "- Visualiser les **zones à forte concentration étudiante**\n",
    "- Fournir une **recommandation finale : \"où investir avec 200k€ ?\"**\n",
    "- Évaluer le **taux de vacance locative** par quartier pour anticiper les périodes creuses (notamment l'été où les étudiants quittent les logements)\n",
    "- Analyser la **proximité des transports en commun** et des universités/grandes écoles pour identifier les zones les plus attractives pour les étudiants\n",
    "- Estimer les **charges de copropriété moyennes** par type de bien et par quartier pour affiner le calcul de rentabilité nette\n",
    "- Identifier les **opportunités de biens nécessitant des travaux** (décote à l'achat) pour maximiser la plus-value à long terme\n",
    "\n",
    "---\n",
    "\n",
    "### 🧭 Objectif du notebook\n",
    "Créer un outil interactif permettant à Léa de :\n",
    "1. Comparer la rentabilité d'un **studio à Lille** avec celle d'un **T1 à Angers ou Nancy**  \n",
    "2. Explorer visuellement les **zones à potentiel locatif élevé**  \n",
    "3. Obtenir une **recommandation automatique** en fonction de son budget et de ses préférences"
   ]
  },
  {
   "cell_type": "markdown",
   "id": "8f9733a3",
   "metadata": {},
   "source": [
    "## Import des bibliothèques ##"
   ]
  },
  {
   "cell_type": "code",
   "execution_count": 1,
   "id": "f672a483",
   "metadata": {},
   "outputs": [],
   "source": [
    "import pandas as pd "
   ]
  },
  {
   "cell_type": "markdown",
   "id": "6df1be9b",
   "metadata": {},
   "source": [
    "### 1e vision : Analyse générale en France ###"
   ]
  },
  {
   "cell_type": "markdown",
   "id": "a0144df7",
   "metadata": {},
   "source": [
    "Etude du prix/m^2 par grandes villes etudiantes en France. filtre = appartement, surface de 0 à 45m^2\n"
   ]
  },
  {
   "cell_type": "code",
   "execution_count": 2,
   "id": "4c7db600",
   "metadata": {},
   "outputs": [
    {
     "name": "stdout",
     "output_type": "stream",
     "text": [
      "Partie Valentine\n"
     ]
    }
   ],
   "source": [
    "print(\"Partie Valentine\")"
   ]
  },
  {
   "cell_type": "code",
   "execution_count": null,
   "id": "66c57c0c",
   "metadata": {},
   "outputs": [],
   "source": [
    "Etape 1 : Filtrer le DVF avec les 20 plus grandes villes étudiantes de France\n"
   ]
  },
  {
   "cell_type": "code",
   "execution_count": null,
   "id": "453c4da1",
   "metadata": {},
   "outputs": [],
   "source": "# Lecture du fichier par morceaux (évite la surcharge mémoire)\nchunks = pd.read_csv(\"valeursfoncieres-2024.txt\", sep=\"|\", low_memory=False, chunksize=100000)\n\n# Liste des 20 plus grandes villes étudiantes\nvilles = [\"PARIS\",\"LYON\",\"LILLE\",\"TOULOUSE\",\"BORDEAUX\",\"MARSEILLE\",\"MONTPELLIER\",\"RENNES\",\"STRASBOURG\",\n          \"NANTES\",\"GRENOBLE\",\"NANCY\",\"NICE\",\"ANGERS\",\"ROUEN\",\"CLERMONT-FERRAND\",\"CAEN\",\"DIJON\",\"TOURS\",\"REIMS\"]\n\n# Variable pour gérer les en-têtes\nfirst_chunk = True\n\n# Boucle sur chaque portion du fichier\nfor chunk in chunks:\n    # Filtrer les villes étudiantes\n    filtre = chunk[chunk[\"Commune\"].isin(villes)]\n    \n    # Ne garder que les appartements\n    filtre = filtre[filtre[\"Type local\"] == \"Appartement\"]\n    \n    # Convertir la surface en nombre et filtrer <= 45 m²\n    filtre[\"Surface reelle bati\"] = pd.to_numeric(filtre[\"Surface reelle bati\"], errors=\"coerce\")\n    filtre = filtre[filtre[\"Surface reelle bati\"] <= 45]\n    \n    # Enregistrer les lignes filtrées (en-tête seulement au premier chunk)\n    filtre.to_csv(\"dvf_etudiant_filtre.csv\", \n                  mode=\"w\" if first_chunk else \"a\", \n                  index=False, \n                  header=first_chunk)\n    first_chunk = False\n\nprint(\"✅ Filtrage terminé !\")"
  },
  {
   "cell_type": "code",
   "execution_count": null,
   "id": "493264ee",
   "metadata": {},
   "outputs": [],
   "source": [
    "DVF encore optimisé pour garder : seulement les colonnes indispensables,les 20 grandes villes étudiantes,les appartements de 0 à 45 m²"
   ]
  },
  {
   "cell_type": "code",
   "execution_count": null,
   "id": "da938fab",
   "metadata": {},
   "outputs": [],
   "source": [
    "# Lecture du fichier filtré\n",
    "df = pd.read_csv(\"dvf_etudiant_filtre.csv\", low_memory=False)\n",
    "\n",
    "# Sélection des colonnes utiles\n",
    "colonnes_utiles = [\n",
    "    \"Date mutation\",\n",
    "    \"Nature mutation\",\n",
    "    \"Valeur fonciere\",\n",
    "    \"Code postal\",\n",
    "    \"Commune\",\n",
    "    \"Type local\",\n",
    "    \"Surface reelle bati\"\n",
    "]\n",
    "df = df[colonnes_utiles]\n",
    "\n",
    "# Conversion propre des valeurs foncières\n",
    "df[\"Valeur fonciere\"] = (\n",
    "    df[\"Valeur fonciere\"]\n",
    "    .astype(str)\n",
    "    .str.replace(\",\", \".\")\n",
    "    .str.replace(\" \", \"\")\n",
    ")\n",
    "df[\"Valeur fonciere\"] = pd.to_numeric(df[\"Valeur fonciere\"], errors=\"coerce\")\n",
    "\n",
    "# Conversion surface en numérique\n",
    "df[\"Surface reelle bati\"] = pd.to_numeric(df[\"Surface reelle bati\"], errors=\"coerce\")\n",
    "\n",
    "# Suppression des lignes avec données manquantes ou aberrantes\n",
    "df = df.dropna(subset=[\"Valeur fonciere\", \"Surface reelle bati\", \"Type local\"])\n",
    "df = df[df[\"Valeur fonciere\"] > 0]\n",
    "df = df[df[\"Surface reelle bati\"].between(1, 45)]\n",
    "df = df[df[\"Nature mutation\"] == \"Vente\"]\n",
    "\n",
    "# Filtrer uniquement les appartements\n",
    "df = df[df[\"Type local\"].str.upper() == \"APPARTEMENT\"]\n",
    "\n",
    "# Filtrer les 20 plus grandes villes étudiantes\n",
    "villes = [\n",
    "    \"PARIS\",\"LYON\",\"LILLE\",\"TOULOUSE\",\"BORDEAUX\",\"MARSEILLE\",\"MONTPELLIER\",\n",
    "    \"RENNES\",\"STRASBOURG\",\"NANTES\",\"GRENOBLE\",\"NANCY\",\"NICE\",\"ANGERS\",\n",
    "    \"ROUEN\",\"CLERMONT-FERRAND\",\"CAEN\",\"DIJON\",\"TOURS\",\"REIMS\"\n",
    "]\n",
    "df = df[df[\"Commune\"].isin(villes)]\n",
    "\n",
    "# Calcul du prix au m²\n",
    "df[\"Prix_m2\"] = df[\"Valeur fonciere\"] / df[\"Surface reelle bati\"]\n",
    "\n",
    "# Réorganisation des colonnes\n",
    "df = df[[\n",
    "    \"Commune\",\n",
    "    \"Code postal\",\n",
    "    \"Type local\",\n",
    "    \"Surface reelle bati\",\n",
    "    \"Valeur fonciere\",\n",
    "    \"Prix_m2\",\n",
    "    \"Date mutation\"\n",
    "]]\n",
    "\n",
    "# Export du fichier final nettoyé\n",
    "df.to_csv(\"dvf_appartements_20villes_0_45m2.csv\", index=False)\n",
    "\n",
    "# Résumé\n",
    "print(\"✅ Nettoyage terminé !\")\n",
    "print(f\"Lignes conservées : {len(df)}\")\n",
    "print(\"Fichier créé : dvf_appartements_20villes_0_45m2.csv\")\n"
   ]
  },
  {
   "cell_type": "code",
   "execution_count": null,
   "id": "99958da3",
   "metadata": {},
   "outputs": [],
   "source": [
    "Script qui permet de calculer le prix moyen au m² par ville et sortir un petit classement automatique"
   ]
  },
  {
   "cell_type": "code",
   "execution_count": null,
   "id": "29fbcfc4",
   "metadata": {},
   "outputs": [],
   "source": [
    "# Calcul du prix moyen au m² par ville\n",
    "prix_moyen = df.groupby(\"Commune\")[\"Prix_m2\"].mean().reset_index()\n",
    "\n",
    "# Arrondir les valeurs à 2 décimales pour lisibilité\n",
    "prix_moyen[\"Prix_m2\"] = prix_moyen[\"Prix_m2\"].round(2)\n",
    "\n",
    "# Trier du plus cher au moins cher\n",
    "prix_moyen = prix_moyen.sort_values(by=\"Prix_m2\", ascending=False)\n",
    "\n",
    "# Afficher le classement dans la console\n",
    "print(\"\\n🏙️ Classement des villes étudiantes par prix moyen au m² :\\n\")\n",
    "print(prix_moyen.to_string(index=False))\n",
    "\n",
    "# Sauvegarder le tableau dans un fichier CSV\n",
    "prix_moyen.to_csv(\"prix_m2_moyen_par_ville.csv\", index=False)\n",
    "\n",
    "print(\"\\n✅ Fichier exporté : prix_m2_moyen_par_ville.csv\")\n"
   ]
  }
 ],
 "metadata": {
  "kernelspec": {
   "display_name": "spyder-runtime",
   "language": "python",
   "name": "python3"
  },
  "language_info": {
   "codemirror_mode": {
    "name": "ipython",
    "version": 3
   },
   "file_extension": ".py",
   "mimetype": "text/x-python",
   "name": "python",
   "nbconvert_exporter": "python",
   "pygments_lexer": "ipython3",
   "version": "3.11.9"
  }
 },
 "nbformat": 4,
 "nbformat_minor": 5
}