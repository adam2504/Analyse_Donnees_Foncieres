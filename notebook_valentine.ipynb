{
 "cells": [
  {
   "cell_type": "markdown",
   "id": "25dd84de",
   "metadata": {},
   "source": [
    "## 🎓 Persona : Léa, jeune investisseuse étudiante\n",
    "\n",
    "**Profil :**\n",
    "- 👩 24 ans, diplômée de l'EM Lyon\n",
    "- 💼 Première expérience professionnelle après 2 ans d'alternance\n",
    "- 💰 Aide parentale pour le financement + épargne personnelle (~15 000 €)\n",
    "- 🎯 Objectif : réaliser un **premier investissement locatif** dans une **ville étudiante dynamique**\n",
    "\n",
    "---\n",
    "\n",
    "### 💡 Objectif d'investissement\n",
    "> Trouver le **meilleur investissement locatif étudiant** possible avec un **budget global de 200 000 €**,  \n",
    "> en analysant la rentabilité brute dans les **principales villes étudiantes françaises** (studios et T1 ≤45m²)\n",
    "\n",
    "---\n",
    "\n",
    "### 💰 Hypothèses financières\n",
    "| Élément | Montant estimé |\n",
    "|----------|----------------|\n",
    "| Prix d'achat visé | 160 000 – 180 000 € |\n",
    "| Apport personnel | 15 000 € |\n",
    "| Prêt immobilier estimé | 180 000 € sur 20 ans |\n",
    "| Budget total (frais inclus) | **≈ 200 000 €** |\n",
    "| Objectif de rentabilité brute | **≥ 5 %** |\n",
    "\n",
    "---\n",
    "\n",
    "### 🔍 Besoins data de Léa\n",
    "- Évaluer le **taux de vacance locative** en France pour anticiper les périodes creuses (notamment l'été où les étudiants quittent les logements)\n",
    "- Visualiser les **villes à forte concentration étudiante** en France\n",
    "- Analyser l'**évolution du prix au m² à l'achat et des loyers étudiants** en France\n",
    "- Etudier **la rentabilité moyenne en France** en 2024\n",
    "- Analyser la **dynamique du marché immobilier local : croissance ou baisse des prix et loyers sur les 5 dernières années** (entre Rennes et Bordeaux)\n",
    "- Comparer **les quartiers les plus rentables (rentabilité brute)** à ?\n",
    "- Analyser la **localisation/nombre des transports en commun** pour identifier les zones les plus attractives pour les étudiants à ?\n",
    "- Analyser la **localisation des universités/grandes écoles** à ?\n",
    "- Analyser les **quartiers vivants (nombre de resto, bars, et supermarchés)** à ? \n",
    "- Fournir une **recommandation finale : \"où investir avec 200k€ ?\"**\n",
    "\n",
    "---\n",
    "\n",
    "### 🧭 Objectif du notebook\n",
    "Créer un outil interactif permettant à Léa de :\n",
    "1. Analyser la **rentabilité locative brute** pour appartements étudiants ≤45m² dans **23 grandes villes françaises**\n",
    "2. Explorer visuellement les **villes à forte concentration étudiante** et analyser les **taux de vacance locative**\n",
    "3. Obtenir un **classement des villes** par rentabilité, prix et loyers pour décider où investir avec 200k€"
   ]
  },
  {
   "cell_type": "markdown",
   "id": "8f9733a3",
   "metadata": {},
   "source": [
    "## 📚 Import des bibliothèques ##"
   ]
  },
  {
   "cell_type": "code",
   "execution_count": null,
   "id": "4420fe73",
   "metadata": {},
   "outputs": [],
   "source": []
  },
  {
   "cell_type": "markdown",
   "id": "f672a483",
   "metadata": {},
   "source": [
    "# 2e vision : Analyse resserrée sur des villes #"
   ]
  },
  {
   "cell_type": "markdown",
   "id": "a0144df7",
   "metadata": {},
   "source": [
    "### Analyser la **dynamique du marché immobilier local : croissance ou baisse des prix et loyers sur les 5 dernières années** (entre Rennes et Bordeaux) ###"
   ]
  },
  {
   "cell_type": "code",
   "execution_count": 8,
   "id": "4c7db600",
   "metadata": {},
   "outputs": [
    {
     "name": "stdout",
     "output_type": "stream",
     "text": [
      "Partie Axel\n"
     ]
    }
   ],
   "source": [
    "print(\"Partie Axel\")"
   ]
  },
  {
   "cell_type": "markdown",
   "id": "be63e6ce",
   "metadata": {},
   "source": [
    "### Comparer **les quartiers les plus rentables (rentabilité brute)** à ? ###"
   ]
  },
  {
   "cell_type": "code",
   "execution_count": 9,
   "id": "30b7b390",
   "metadata": {},
   "outputs": [
    {
     "name": "stdout",
     "output_type": "stream",
     "text": [
      "Partie Lucien\n"
     ]
    }
   ],
   "source": [
    "print(\"Partie Lucien\")"
   ]
  },
  {
   "cell_type": "markdown",
   "id": "7da69d10",
   "metadata": {},
   "source": [
    "### Analyser la **localisation/nombre des transports en commun** pour identifier les zones les plus attractives pour les étudiants à ?  ###"
   ]
  },
  {
   "cell_type": "code",
   "execution_count": 2,
   "id": "878e55f3",
   "metadata": {},
   "outputs": [
    {
     "name": "stdout",
     "output_type": "stream",
     "text": [
      "Partie Valentine\n"
     ]
    }
   ],
   "source": [
    "print(\"Partie Valentine\")"
   ]
  },
  {
   "cell_type": "markdown",
   "id": "9b97c335",
   "metadata": {},
   "source": [
    "### Analyser la **localisation des universités/grandes écoles** à ? ###"
   ]
  },
  {
   "cell_type": "code",
   "execution_count": 11,
   "id": "7727e89b",
   "metadata": {},
   "outputs": [
    {
     "name": "stdout",
     "output_type": "stream",
     "text": [
      "Partie Adam\n"
     ]
    }
   ],
   "source": [
    "print(\"Partie Adam\")"
   ]
  },
  {
   "cell_type": "markdown",
   "id": "90516127",
   "metadata": {},
   "source": [
    "### Analyser les **quartiers vivants (nombre de resto, bars, et supermarchés)** à ? ###"
   ]
  },
  {
   "cell_type": "code",
   "execution_count": 10,
   "id": "26a86433",
   "metadata": {},
   "outputs": [
    {
     "name": "stdout",
     "output_type": "stream",
     "text": [
      "Partie Adam et Valentine\n"
     ]
    }
   ],
   "source": [
    "print(\"Partie Adam et Valentine\")"
   ]
  }
 ],
 "metadata": {
  "kernelspec": {
   "display_name": ".venv",
   "language": "python",
   "name": "python3"
  },
  "language_info": {
   "codemirror_mode": {
    "name": "ipython",
    "version": 3
   },
   "file_extension": ".py",
   "mimetype": "text/x-python",
   "name": "python",
   "nbconvert_exporter": "python",
   "pygments_lexer": "ipython3",
   "version": "3.13.7"
  }
 },
 "nbformat": 4,
 "nbformat_minor": 5
}
